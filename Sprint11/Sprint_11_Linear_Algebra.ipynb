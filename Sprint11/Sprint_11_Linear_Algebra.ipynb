{
 "cells": [
  {
   "cell_type": "markdown",
   "metadata": {},
   "source": [
    "# Using Linear Algebra to solve predictive tasks and information security tasks for an insurance company #"
   ]
  },
  {
   "cell_type": "markdown",
   "metadata": {},
   "source": [
    "# Statement"
   ]
  },
  {
   "cell_type": "markdown",
   "metadata": {},
   "source": [
    "The Sure Tomorrow insurance company wants to solve several tasks with the help of Machine Learning and you are asked to evaluate that possibility.\n",
    "\n",
    "- Task 1: Find customers who are similar to a given customer. This will help the company's agents with marketing.\n",
    "- Task 2: Predict whether a new customer is likely to receive an insurance benefit. Can a prediction model do better than a dummy model?\n",
    "- Task 3: Predict the number of insurance benefits a new customer is likely to receive using a linear regression model.\n",
    "- Task 4: Protect clients' personal data without breaking the model from the previous task. It's necessary to develop a data transformation algorithm that would make it hard to recover personal information if the data fell into the wrong hands. This is called data masking, or data obfuscation. But the data should be protected in such a way that the quality of machine learning models doesn't suffer. You don't need to pick the best model, just prove that the algorithm works correctly."
   ]
  },
  {
   "cell_type": "markdown",
   "metadata": {},
   "source": [
    "# Data Preprocessing & Exploration\n",
    "\n",
    "## Initialization"
   ]
  },
  {
   "cell_type": "code",
   "execution_count": 1,
   "metadata": {},
   "outputs": [],
   "source": [
    "import numpy as np\n",
    "import pandas as pd\n",
    "import math\n",
    "\n",
    "import seaborn as sns\n",
    "import matplotlib.pyplot as plt\n",
    "\n",
    "import sklearn.linear_model\n",
    "import sklearn.metrics\n",
    "import sklearn.neighbors\n",
    "import sklearn.preprocessing\n",
    "\n",
    "from sklearn.model_selection import train_test_split\n",
    "\n",
    "from IPython.display import display\n",
    "from scipy.spatial import distance\n",
    "from sklearn.neighbors import NearestNeighbors\n",
    "\n",
    "\n",
    "from sklearn.linear_model import LinearRegression\n",
    "from sklearn.metrics import mean_squared_error, r2_score, f1_score, classification_report\n",
    "from sklearn.neighbors import KNeighborsClassifier\n",
    "from collections import Counter\n",
    "from sklearn.preprocessing import StandardScaler\n",
    "from sklearn.model_selection import cross_val_score\n",
    "from sklearn.utils import shuffle\n"
   ]
  },
  {
   "cell_type": "markdown",
   "metadata": {},
   "source": [
    "## Load Data"
   ]
  },
  {
   "cell_type": "markdown",
   "metadata": {},
   "source": [
    "Load data and conduct a basic check that it's free from obvious issues."
   ]
  },
  {
   "cell_type": "code",
   "execution_count": 2,
   "metadata": {},
   "outputs": [],
   "source": [
    "df = pd.read_csv('insurance_us.csv')"
   ]
  },
  {
   "cell_type": "markdown",
   "metadata": {},
   "source": [
    "We rename the colums to make the code look more consistent with its style."
   ]
  },
  {
   "cell_type": "code",
   "execution_count": 3,
   "metadata": {},
   "outputs": [],
   "source": [
    "df = df.rename(columns={'Gender': 'gender', 'Age': 'age', 'Salary': 'income', 'Family members': 'family_members', 'Insurance benefits': 'insurance_benefits'})"
   ]
  },
  {
   "cell_type": "code",
   "execution_count": 4,
   "metadata": {},
   "outputs": [
    {
     "data": {
      "text/html": [
       "<div>\n",
       "<style scoped>\n",
       "    .dataframe tbody tr th:only-of-type {\n",
       "        vertical-align: middle;\n",
       "    }\n",
       "\n",
       "    .dataframe tbody tr th {\n",
       "        vertical-align: top;\n",
       "    }\n",
       "\n",
       "    .dataframe thead th {\n",
       "        text-align: right;\n",
       "    }\n",
       "</style>\n",
       "<table border=\"1\" class=\"dataframe\">\n",
       "  <thead>\n",
       "    <tr style=\"text-align: right;\">\n",
       "      <th></th>\n",
       "      <th>gender</th>\n",
       "      <th>age</th>\n",
       "      <th>income</th>\n",
       "      <th>family_members</th>\n",
       "      <th>insurance_benefits</th>\n",
       "    </tr>\n",
       "  </thead>\n",
       "  <tbody>\n",
       "    <tr>\n",
       "      <th>2451</th>\n",
       "      <td>1</td>\n",
       "      <td>39.0</td>\n",
       "      <td>42900.0</td>\n",
       "      <td>0</td>\n",
       "      <td>0</td>\n",
       "    </tr>\n",
       "    <tr>\n",
       "      <th>183</th>\n",
       "      <td>0</td>\n",
       "      <td>18.0</td>\n",
       "      <td>48300.0</td>\n",
       "      <td>2</td>\n",
       "      <td>0</td>\n",
       "    </tr>\n",
       "    <tr>\n",
       "      <th>237</th>\n",
       "      <td>0</td>\n",
       "      <td>28.0</td>\n",
       "      <td>48000.0</td>\n",
       "      <td>2</td>\n",
       "      <td>0</td>\n",
       "    </tr>\n",
       "    <tr>\n",
       "      <th>36</th>\n",
       "      <td>1</td>\n",
       "      <td>22.0</td>\n",
       "      <td>45300.0</td>\n",
       "      <td>2</td>\n",
       "      <td>0</td>\n",
       "    </tr>\n",
       "    <tr>\n",
       "      <th>2088</th>\n",
       "      <td>1</td>\n",
       "      <td>21.0</td>\n",
       "      <td>47900.0</td>\n",
       "      <td>2</td>\n",
       "      <td>0</td>\n",
       "    </tr>\n",
       "    <tr>\n",
       "      <th>394</th>\n",
       "      <td>0</td>\n",
       "      <td>27.0</td>\n",
       "      <td>47100.0</td>\n",
       "      <td>0</td>\n",
       "      <td>0</td>\n",
       "    </tr>\n",
       "    <tr>\n",
       "      <th>814</th>\n",
       "      <td>0</td>\n",
       "      <td>35.0</td>\n",
       "      <td>47700.0</td>\n",
       "      <td>4</td>\n",
       "      <td>0</td>\n",
       "    </tr>\n",
       "    <tr>\n",
       "      <th>1691</th>\n",
       "      <td>0</td>\n",
       "      <td>35.0</td>\n",
       "      <td>30800.0</td>\n",
       "      <td>3</td>\n",
       "      <td>0</td>\n",
       "    </tr>\n",
       "    <tr>\n",
       "      <th>1661</th>\n",
       "      <td>1</td>\n",
       "      <td>39.0</td>\n",
       "      <td>35800.0</td>\n",
       "      <td>2</td>\n",
       "      <td>0</td>\n",
       "    </tr>\n",
       "    <tr>\n",
       "      <th>355</th>\n",
       "      <td>0</td>\n",
       "      <td>45.0</td>\n",
       "      <td>35700.0</td>\n",
       "      <td>2</td>\n",
       "      <td>1</td>\n",
       "    </tr>\n",
       "  </tbody>\n",
       "</table>\n",
       "</div>"
      ],
      "text/plain": [
       "      gender   age   income  family_members  insurance_benefits\n",
       "2451       1  39.0  42900.0               0                   0\n",
       "183        0  18.0  48300.0               2                   0\n",
       "237        0  28.0  48000.0               2                   0\n",
       "36         1  22.0  45300.0               2                   0\n",
       "2088       1  21.0  47900.0               2                   0\n",
       "394        0  27.0  47100.0               0                   0\n",
       "814        0  35.0  47700.0               4                   0\n",
       "1691       0  35.0  30800.0               3                   0\n",
       "1661       1  39.0  35800.0               2                   0\n",
       "355        0  45.0  35700.0               2                   1"
      ]
     },
     "execution_count": 4,
     "metadata": {},
     "output_type": "execute_result"
    }
   ],
   "source": [
    "df.sample(10)"
   ]
  },
  {
   "cell_type": "code",
   "execution_count": 5,
   "metadata": {},
   "outputs": [
    {
     "name": "stdout",
     "output_type": "stream",
     "text": [
      "<class 'pandas.core.frame.DataFrame'>\n",
      "RangeIndex: 5000 entries, 0 to 4999\n",
      "Data columns (total 5 columns):\n",
      " #   Column              Non-Null Count  Dtype  \n",
      "---  ------              --------------  -----  \n",
      " 0   gender              5000 non-null   int64  \n",
      " 1   age                 5000 non-null   float64\n",
      " 2   income              5000 non-null   float64\n",
      " 3   family_members      5000 non-null   int64  \n",
      " 4   insurance_benefits  5000 non-null   int64  \n",
      "dtypes: float64(2), int64(3)\n",
      "memory usage: 195.4 KB\n"
     ]
    }
   ],
   "source": [
    "df.info()"
   ]
  },
  {
   "cell_type": "code",
   "execution_count": 6,
   "metadata": {},
   "outputs": [],
   "source": [
    "# we may want to fix the age type (from float to int) though this is not critical\n",
    "\n",
    "# write your conversion here if you choose:\n",
    "df['age'] = df['age'].round().astype('int64')"
   ]
  },
  {
   "cell_type": "code",
   "execution_count": 7,
   "metadata": {},
   "outputs": [
    {
     "name": "stdout",
     "output_type": "stream",
     "text": [
      "<class 'pandas.core.frame.DataFrame'>\n",
      "RangeIndex: 5000 entries, 0 to 4999\n",
      "Data columns (total 5 columns):\n",
      " #   Column              Non-Null Count  Dtype  \n",
      "---  ------              --------------  -----  \n",
      " 0   gender              5000 non-null   int64  \n",
      " 1   age                 5000 non-null   int64  \n",
      " 2   income              5000 non-null   float64\n",
      " 3   family_members      5000 non-null   int64  \n",
      " 4   insurance_benefits  5000 non-null   int64  \n",
      "dtypes: float64(1), int64(4)\n",
      "memory usage: 195.4 KB\n"
     ]
    }
   ],
   "source": [
    "# check to see that the conversion was successful\n",
    "df.info()"
   ]
  },
  {
   "cell_type": "code",
   "execution_count": 8,
   "metadata": {
    "scrolled": true
   },
   "outputs": [
    {
     "data": {
      "text/html": [
       "<div>\n",
       "<style scoped>\n",
       "    .dataframe tbody tr th:only-of-type {\n",
       "        vertical-align: middle;\n",
       "    }\n",
       "\n",
       "    .dataframe tbody tr th {\n",
       "        vertical-align: top;\n",
       "    }\n",
       "\n",
       "    .dataframe thead th {\n",
       "        text-align: right;\n",
       "    }\n",
       "</style>\n",
       "<table border=\"1\" class=\"dataframe\">\n",
       "  <thead>\n",
       "    <tr style=\"text-align: right;\">\n",
       "      <th></th>\n",
       "      <th>gender</th>\n",
       "      <th>age</th>\n",
       "      <th>income</th>\n",
       "      <th>family_members</th>\n",
       "      <th>insurance_benefits</th>\n",
       "    </tr>\n",
       "  </thead>\n",
       "  <tbody>\n",
       "    <tr>\n",
       "      <th>count</th>\n",
       "      <td>5000.000000</td>\n",
       "      <td>5000.000000</td>\n",
       "      <td>5000.000000</td>\n",
       "      <td>5000.000000</td>\n",
       "      <td>5000.000000</td>\n",
       "    </tr>\n",
       "    <tr>\n",
       "      <th>mean</th>\n",
       "      <td>0.499000</td>\n",
       "      <td>30.952800</td>\n",
       "      <td>39916.360000</td>\n",
       "      <td>1.194200</td>\n",
       "      <td>0.148000</td>\n",
       "    </tr>\n",
       "    <tr>\n",
       "      <th>std</th>\n",
       "      <td>0.500049</td>\n",
       "      <td>8.440807</td>\n",
       "      <td>9900.083569</td>\n",
       "      <td>1.091387</td>\n",
       "      <td>0.463183</td>\n",
       "    </tr>\n",
       "    <tr>\n",
       "      <th>min</th>\n",
       "      <td>0.000000</td>\n",
       "      <td>18.000000</td>\n",
       "      <td>5300.000000</td>\n",
       "      <td>0.000000</td>\n",
       "      <td>0.000000</td>\n",
       "    </tr>\n",
       "    <tr>\n",
       "      <th>25%</th>\n",
       "      <td>0.000000</td>\n",
       "      <td>24.000000</td>\n",
       "      <td>33300.000000</td>\n",
       "      <td>0.000000</td>\n",
       "      <td>0.000000</td>\n",
       "    </tr>\n",
       "    <tr>\n",
       "      <th>50%</th>\n",
       "      <td>0.000000</td>\n",
       "      <td>30.000000</td>\n",
       "      <td>40200.000000</td>\n",
       "      <td>1.000000</td>\n",
       "      <td>0.000000</td>\n",
       "    </tr>\n",
       "    <tr>\n",
       "      <th>75%</th>\n",
       "      <td>1.000000</td>\n",
       "      <td>37.000000</td>\n",
       "      <td>46600.000000</td>\n",
       "      <td>2.000000</td>\n",
       "      <td>0.000000</td>\n",
       "    </tr>\n",
       "    <tr>\n",
       "      <th>max</th>\n",
       "      <td>1.000000</td>\n",
       "      <td>65.000000</td>\n",
       "      <td>79000.000000</td>\n",
       "      <td>6.000000</td>\n",
       "      <td>5.000000</td>\n",
       "    </tr>\n",
       "  </tbody>\n",
       "</table>\n",
       "</div>"
      ],
      "text/plain": [
       "            gender          age        income  family_members  \\\n",
       "count  5000.000000  5000.000000   5000.000000     5000.000000   \n",
       "mean      0.499000    30.952800  39916.360000        1.194200   \n",
       "std       0.500049     8.440807   9900.083569        1.091387   \n",
       "min       0.000000    18.000000   5300.000000        0.000000   \n",
       "25%       0.000000    24.000000  33300.000000        0.000000   \n",
       "50%       0.000000    30.000000  40200.000000        1.000000   \n",
       "75%       1.000000    37.000000  46600.000000        2.000000   \n",
       "max       1.000000    65.000000  79000.000000        6.000000   \n",
       "\n",
       "       insurance_benefits  \n",
       "count         5000.000000  \n",
       "mean             0.148000  \n",
       "std              0.463183  \n",
       "min              0.000000  \n",
       "25%              0.000000  \n",
       "50%              0.000000  \n",
       "75%              0.000000  \n",
       "max              5.000000  "
      ]
     },
     "execution_count": 8,
     "metadata": {},
     "output_type": "execute_result"
    }
   ],
   "source": [
    "# now have a look at the data's descriptive statistics. \n",
    "# Does everything look okay?\n",
    "\n",
    "df.describe()"
   ]
  },
  {
   "cell_type": "code",
   "execution_count": 9,
   "metadata": {},
   "outputs": [
    {
     "data": {
      "text/plain": [
       "insurance_benefits\n",
       "0    4436\n",
       "1     423\n",
       "2     115\n",
       "3      18\n",
       "4       7\n",
       "5       1\n",
       "Name: count, dtype: int64"
      ]
     },
     "execution_count": 9,
     "metadata": {},
     "output_type": "execute_result"
    }
   ],
   "source": [
    "df['insurance_benefits'].value_counts()"
   ]
  },
  {
   "cell_type": "markdown",
   "metadata": {},
   "source": [
    "This Data consistst of 5000 observations. There are no null values to deal with, and the Data Types are now all in a format that Machine learning will be possible. There appears to be a near even split on gender. The age range is from 18 - 65 years, with an average of 31years old. Customers' income ranges from 5,900 to 79,000. The number of family members range from 0 - 6 with an average of 1.2. All these numbers appear to be fine for our project. \n",
    "\n",
    "There is an extreme skew in the target data: the vast majority of the clients receive 0 benefits. The range is from 0 - 5, but very few people receive any insurance benefits. Of the 5000 observations, only 564 received an insurance benefit. I'm concerned that we don't have enough non-zero observations to build a successful model. So, perhaps it could be a help to do an upsampling of those observations that had 1-5 insurance benefits. (I'm not sure if this is the purpose of this section though)."
   ]
  },
  {
   "cell_type": "markdown",
   "metadata": {},
   "source": [
    "## EDA"
   ]
  },
  {
   "cell_type": "markdown",
   "metadata": {},
   "source": [
    "Let's quickly check whether there are certain groups of customers by looking at the pair plot."
   ]
  },
  {
   "cell_type": "code",
   "execution_count": 10,
   "metadata": {
    "scrolled": true
   },
   "outputs": [
    {
     "data": {
      "image/png": "[encoded data removed]",
      "text/plain": [
       "<Figure size 1200x1200 with 30 Axes>"
      ]
     },
     "metadata": {},
     "output_type": "display_data"
    }
   ],
   "source": [
    "g = sns.pairplot(df, kind='hist')\n",
    "g.fig.set_size_inches(12, 12)"
   ]
  },
  {
   "cell_type": "code",
   "execution_count": 11,
   "metadata": {},
   "outputs": [
    {
     "data": {
      "image/png": "[encoded data removed]",
      "text/plain": [
       "<Figure size 640x480 with 1 Axes>"
      ]
     },
     "metadata": {},
     "output_type": "display_data"
    },
    {
     "data": {
      "image/png": "[encoded data removed]",
      "text/plain": [
       "<Figure size 640x480 with 1 Axes>"
      ]
     },
     "metadata": {},
     "output_type": "display_data"
    },
    {
     "data": {
      "image/png": "[encoded data removed]",
      "text/plain": [
       "<Figure size 640x480 with 1 Axes>"
      ]
     },
     "metadata": {},
     "output_type": "display_data"
    },
    {
     "data": {
      "image/png": "[encoded data removed]",
      "text/plain": [
       "<Figure size 640x480 with 1 Axes>"
      ]
     },
     "metadata": {},
     "output_type": "display_data"
    }
   ],
   "source": [
    "# show the distribution of the benefits received by Sure Tomorrow clients\n",
    "plt.hist(df['insurance_benefits'], bins=5)\n",
    "plt.title('Distribution of insurance benefits received')\n",
    "plt.xlabel('Number of benefits')\n",
    "plt.ylabel('Frequency')\n",
    "plt.show()\n",
    "\n",
    "# show the distribution of the age of Sure Tomorrow clients\n",
    "plt.hist(df['age'], bins=45)\n",
    "plt.title('Age distribution of Sure Tomorrow Clients')\n",
    "plt.xlabel('Ages')\n",
    "plt.ylabel('Frequency')\n",
    "plt.show()\n",
    "\n",
    "# Show the distribution of the income ranges\n",
    "plt.hist(df['income'], bins=30)\n",
    "plt.title('Income Distribution of Sure Tomorrow Clients')\n",
    "plt.xlabel('Income')\n",
    "plt.ylabel('Frequency')\n",
    "plt.show()\n",
    "\n",
    "# Show the distribution of family members\n",
    "plt.hist(df['family_members'], bins=7)\n",
    "plt.title('Number of family members Sure Tomorrow Clients have')\n",
    "plt.xlabel('Number of family members')\n",
    "plt.ylabel('Frequency')\n",
    "plt.show()"
   ]
  },
  {
   "cell_type": "code",
   "execution_count": 12,
   "metadata": {},
   "outputs": [
    {
     "data": {
      "image/png": "[encoded data removed]",
      "text/plain": [
       "<Figure size 600x600 with 1 Axes>"
      ]
     },
     "metadata": {},
     "output_type": "display_data"
    }
   ],
   "source": [
    "# Assuming gender 0 is male and 1 is female - make a pie chart distribution\n",
    "gender_counts = df['gender'].value_counts()\n",
    "\n",
    "# Define labels for the pie chart\n",
    "labels = ['Male', 'Female']  # Adjust the labels as per your dataset\n",
    "\n",
    "# Plot the pie chart\n",
    "plt.figure(figsize=(6, 6))\n",
    "plt.pie(gender_counts, labels=labels, autopct='%1.1f%%', startangle=90, colors=['lightblue', 'pink'])\n",
    "plt.title('Gender Distribution')\n",
    "plt.show()"
   ]
  },
  {
   "cell_type": "markdown",
   "metadata": {},
   "source": [
    "# Task 1. Similar Customers"
   ]
  },
  {
   "cell_type": "markdown",
   "metadata": {},
   "source": [
    "In the language of ML, it is necessary to develop a procedure that returns k nearest neighbors (objects) for a given object based on the distance between the objects.\n",
    "\n",
    "You may want to review the following lessons (chapter -> lesson)\n",
    "- Distance Between Vectors -> Euclidean Distance\n",
    "- Distance Between Vectors -> Manhattan Distance\n",
    "\n",
    "To solve the task, we can try different distance metrics."
   ]
  },
  {
   "cell_type": "markdown",
   "metadata": {},
   "source": [
    "Write a function that returns k nearest neighbors for an $n^{th}$ object based on a specified distance metric. The number of received insurance benefits should not be taken into account for this task. \n",
    "\n",
    "You can use a ready implementation of the kNN algorithm from scikit-learn (check [the link](https://scikit-learn.org/stable/modules/generated/sklearn.neighbors.NearestNeighbors.html#sklearn.neighbors.NearestNeighbors)) or use your own.\n",
    "\n",
    "Test it for four combination of two cases\n",
    "- Scaling\n",
    "  - the data is not scaled\n",
    "  - the data is scaled with the [MaxAbsScaler](https://scikit-learn.org/stable/modules/generated/sklearn.preprocessing.MaxAbsScaler.html) scaler\n",
    "- Distance Metrics\n",
    "  - Euclidean\n",
    "  - Manhattan\n",
    "\n",
    "Answer these questions:\n",
    "- Does the data being not scaled affect the kNN algorithm? If so, how does that appear?\n",
    "- How similar are the results using the Manhattan distance metric (regardless of the scaling)?"
   ]
  },
  {
   "cell_type": "code",
   "execution_count": 13,
   "metadata": {},
   "outputs": [],
   "source": [
    "feature_names = ['gender', 'age', 'income', 'family_members']"
   ]
  },
  {
   "cell_type": "code",
   "execution_count": 14,
   "metadata": {},
   "outputs": [],
   "source": [
    "def get_knn(df, n, k, metric):\n",
    "    \n",
    "    \"\"\"\n",
    "    Returns k nearest neighbors\n",
    "\n",
    "    :param df: pandas DataFrame used to find similar objects within\n",
    "    :param n: object no for which the nearest neighbours are looked for\n",
    "    :param k: the number of the nearest neighbours to return\n",
    "    :param metric: name of distance metric\n",
    "    \"\"\"\n",
    "\n",
    "    nbrs = NearestNeighbors(n_neighbors=k, metric=metric)\n",
    "    nbrs.fit(df[feature_names])\n",
    "    nbrs_distances, nbrs_indices = nbrs.kneighbors([df.iloc[n][feature_names]], k, return_distance=True)\n",
    "    \n",
    "    df_res = pd.concat([\n",
    "        df.iloc[nbrs_indices[0]], \n",
    "        pd.DataFrame(nbrs_distances.T, index=nbrs_indices[0], columns=['distance'])\n",
    "        ], axis=1)\n",
    "    \n",
    "    return df_res"
   ]
  },
  {
   "cell_type": "markdown",
   "metadata": {},
   "source": [
    "Scaling the data."
   ]
  },
  {
   "cell_type": "code",
   "execution_count": 15,
   "metadata": {},
   "outputs": [
    {
     "name": "stderr",
     "output_type": "stream",
     "text": [
      "C:\\Users\\markl\\AppData\\Local\\Temp\\ipykernel_10824\\760832288.py:6: FutureWarning: Setting an item of incompatible dtype is deprecated and will raise in a future error of pandas. Value '[0.63076923 0.70769231 0.44615385 ... 0.30769231 0.33846154 0.43076923]' has dtype incompatible with int64, please explicitly cast to a compatible dtype first.\n",
      "  df_scaled.loc[:, feature_names] = transformer_mas.transform(df[feature_names].to_numpy())\n",
      "C:\\Users\\markl\\AppData\\Local\\Temp\\ipykernel_10824\\760832288.py:6: FutureWarning: Setting an item of incompatible dtype is deprecated and will raise in a future error of pandas. Value '[0.16666667 0.16666667 0.         ... 0.33333333 0.5        0.16666667]' has dtype incompatible with int64, please explicitly cast to a compatible dtype first.\n",
      "  df_scaled.loc[:, feature_names] = transformer_mas.transform(df[feature_names].to_numpy())\n"
     ]
    }
   ],
   "source": [
    "feature_names = ['gender', 'age', 'income', 'family_members']\n",
    "\n",
    "transformer_mas = sklearn.preprocessing.MaxAbsScaler().fit(df[feature_names].to_numpy())\n",
    "\n",
    "df_scaled = df.copy()\n",
    "df_scaled.loc[:, feature_names] = transformer_mas.transform(df[feature_names].to_numpy())"
   ]
  },
  {
   "cell_type": "code",
   "execution_count": 16,
   "metadata": {},
   "outputs": [
    {
     "data": {
      "text/html": [
       "<div>\n",
       "<style scoped>\n",
       "    .dataframe tbody tr th:only-of-type {\n",
       "        vertical-align: middle;\n",
       "    }\n",
       "\n",
       "    .dataframe tbody tr th {\n",
       "        vertical-align: top;\n",
       "    }\n",
       "\n",
       "    .dataframe thead th {\n",
       "        text-align: right;\n",
       "    }\n",
       "</style>\n",
       "<table border=\"1\" class=\"dataframe\">\n",
       "  <thead>\n",
       "    <tr style=\"text-align: right;\">\n",
       "      <th></th>\n",
       "      <th>gender</th>\n",
       "      <th>age</th>\n",
       "      <th>income</th>\n",
       "      <th>family_members</th>\n",
       "      <th>insurance_benefits</th>\n",
       "    </tr>\n",
       "  </thead>\n",
       "  <tbody>\n",
       "    <tr>\n",
       "      <th>4544</th>\n",
       "      <td>1</td>\n",
       "      <td>0.476923</td>\n",
       "      <td>0.265823</td>\n",
       "      <td>0.166667</td>\n",
       "      <td>0</td>\n",
       "    </tr>\n",
       "    <tr>\n",
       "      <th>1973</th>\n",
       "      <td>1</td>\n",
       "      <td>0.415385</td>\n",
       "      <td>0.589873</td>\n",
       "      <td>0.166667</td>\n",
       "      <td>0</td>\n",
       "    </tr>\n",
       "    <tr>\n",
       "      <th>3213</th>\n",
       "      <td>0</td>\n",
       "      <td>0.338462</td>\n",
       "      <td>0.448101</td>\n",
       "      <td>0.166667</td>\n",
       "      <td>0</td>\n",
       "    </tr>\n",
       "    <tr>\n",
       "      <th>3778</th>\n",
       "      <td>1</td>\n",
       "      <td>0.276923</td>\n",
       "      <td>0.278481</td>\n",
       "      <td>0.166667</td>\n",
       "      <td>0</td>\n",
       "    </tr>\n",
       "    <tr>\n",
       "      <th>2594</th>\n",
       "      <td>0</td>\n",
       "      <td>0.384615</td>\n",
       "      <td>0.753165</td>\n",
       "      <td>0.166667</td>\n",
       "      <td>0</td>\n",
       "    </tr>\n",
       "  </tbody>\n",
       "</table>\n",
       "</div>"
      ],
      "text/plain": [
       "      gender       age    income  family_members  insurance_benefits\n",
       "4544       1  0.476923  0.265823        0.166667                   0\n",
       "1973       1  0.415385  0.589873        0.166667                   0\n",
       "3213       0  0.338462  0.448101        0.166667                   0\n",
       "3778       1  0.276923  0.278481        0.166667                   0\n",
       "2594       0  0.384615  0.753165        0.166667                   0"
      ]
     },
     "execution_count": 16,
     "metadata": {},
     "output_type": "execute_result"
    }
   ],
   "source": [
    "df_scaled.sample(5)"
   ]
  },
  {
   "cell_type": "markdown",
   "metadata": {},
   "source": [
    "Now, let's get similar records for a given one for every combination"
   ]
  },
  {
   "cell_type": "code",
   "execution_count": 17,
   "metadata": {},
   "outputs": [
    {
     "name": "stdout",
     "output_type": "stream",
     "text": [
      "Euclidian Not Scaled\n",
      "      gender  age   income  family_members  insurance_benefits  distance\n",
      "0          1   41  49600.0               1                   0  0.000000\n",
      "2022       1   41  49600.0               0                   0  1.000000\n",
      "1225       0   42  49600.0               0                   1  1.732051\n",
      "4031       1   44  49600.0               2                   1  3.162278\n",
      "3424       0   38  49600.0               0                   0  3.316625\n",
      "\n",
      "Euclidian Scaled\n",
      "      gender       age    income  family_members  insurance_benefits  distance\n",
      "0          1  0.630769  0.627848        0.166667                   0  0.000000\n",
      "2689       1  0.630769  0.634177        0.166667                   0  0.006329\n",
      "133        1  0.615385  0.636709        0.166667                   0  0.017754\n",
      "4869       1  0.646154  0.637975        0.166667                   1  0.018418\n",
      "3275       1  0.646154  0.651899        0.166667                   1  0.028550\n"
     ]
    },
    {
     "name": "stderr",
     "output_type": "stream",
     "text": [
      "c:\\Users\\markl\\Anaconda3\\Lib\\site-packages\\sklearn\\base.py:493: UserWarning: X does not have valid feature names, but NearestNeighbors was fitted with feature names\n",
      "  warnings.warn(\n",
      "c:\\Users\\markl\\Anaconda3\\Lib\\site-packages\\sklearn\\base.py:493: UserWarning: X does not have valid feature names, but NearestNeighbors was fitted with feature names\n",
      "  warnings.warn(\n"
     ]
    }
   ],
   "source": [
    "#Euclidian\n",
    "#Not Scaled\n",
    "euc_reg = get_knn(df, 0, 5, 'euclidean')\n",
    "print('Euclidian Not Scaled')\n",
    "print(euc_reg)\n",
    "print()\n",
    "\n",
    "#Scaled\n",
    "euc_scaled = get_knn(df_scaled, 0, 5, 'euclidean')  # example call\n",
    "print('Euclidian Scaled')\n",
    "print(euc_scaled)"
   ]
  },
  {
   "cell_type": "code",
   "execution_count": 18,
   "metadata": {},
   "outputs": [
    {
     "name": "stdout",
     "output_type": "stream",
     "text": [
      "Manhattan Not Scaled\n",
      "      gender  age   income  family_members  insurance_benefits  distance\n",
      "0          1   41  49600.0               1                   0       0.0\n",
      "2022       1   41  49600.0               0                   0       1.0\n",
      "1225       0   42  49600.0               0                   1       3.0\n",
      "4031       1   44  49600.0               2                   1       4.0\n",
      "815        1   37  49600.0               2                   0       5.0\n",
      "\n",
      "Manhattan Scaled\n",
      "      gender       age    income  family_members  insurance_benefits  distance\n",
      "0          1  0.630769  0.627848        0.166667                   0  0.000000\n",
      "2689       1  0.630769  0.634177        0.166667                   0  0.006329\n",
      "133        1  0.615385  0.636709        0.166667                   0  0.024245\n",
      "4869       1  0.646154  0.637975        0.166667                   1  0.025511\n",
      "2103       1  0.630769  0.596203        0.166667                   0  0.031646\n"
     ]
    },
    {
     "name": "stderr",
     "output_type": "stream",
     "text": [
      "c:\\Users\\markl\\Anaconda3\\Lib\\site-packages\\sklearn\\base.py:493: UserWarning: X does not have valid feature names, but NearestNeighbors was fitted with feature names\n",
      "  warnings.warn(\n",
      "c:\\Users\\markl\\Anaconda3\\Lib\\site-packages\\sklearn\\base.py:493: UserWarning: X does not have valid feature names, but NearestNeighbors was fitted with feature names\n",
      "  warnings.warn(\n"
     ]
    }
   ],
   "source": [
    "#Manhattan\n",
    "#Not Scaled\n",
    "man_reg = get_knn(df, 0, 5, 'manhattan')\n",
    "print('Manhattan Not Scaled')\n",
    "print(man_reg)\n",
    "print()\n",
    "\n",
    "#Scaled\n",
    "man_scaled = get_knn(df_scaled, 0, 5, 'manhattan') \n",
    "print('Manhattan Scaled')\n",
    "print(man_scaled)"
   ]
  },
  {
   "cell_type": "markdown",
   "metadata": {},
   "source": [
    "**Does the data being not scaled affect the kNN algorithm? If so, how does that appear?** \n",
    "\n",
    "Yes, the data absolutely is different after scaling. Without scaling - the income column is only observations that have a value of $49,600. When scaling was applied the values had more variance."
   ]
  },
  {
   "cell_type": "markdown",
   "metadata": {},
   "source": [
    "**How similar are the results using the Manhattan distance metric (regardless of the scaling)?** \n",
    "\n",
    "The Manhattan distance results are extremely similar to the Euclidian distance. Infact, only one observation was different in the closest 5 - the fifth scaled observation. This suggests that regardless of distance metric, we will arrive at highly similar results using this K nearest neighbors algorithm. Manhattan distance measures are less sensitive to outliers and extreme values making it a more appropriate choice in this dataset because there is such ha strong positive skew in both the Benefits Received column and the age column"
   ]
  },
  {
   "cell_type": "markdown",
   "metadata": {},
   "source": [
    "# Task 2. Is Customer Likely to Receive Insurance Benefit?"
   ]
  },
  {
   "cell_type": "markdown",
   "metadata": {},
   "source": [
    "In terms of machine learning we can look at this like a binary classification task."
   ]
  },
  {
   "cell_type": "markdown",
   "metadata": {},
   "source": [
    "With `insurance_benefits` being more than zero as the target, evaluate whether the kNN classification approach can do better than a dummy model.\n",
    "\n",
    "Instructions:\n",
    "- Build a KNN-based classifier and measure its quality with the F1 metric for k=1..10 for both the original data and the scaled one. That'd be interesting to see how k may influece the evaluation metric, and whether scaling the data makes any difference. You can use a ready implemention of the kNN classification algorithm from scikit-learn (check [the link](https://scikit-learn.org/stable/modules/generated/sklearn.neighbors.KNeighborsClassifier.html)) or use your own.\n",
    "- Build the dummy model which is just random for this case. It should return \"1\" with some probability. Let's test the model with four probability values: 0, the probability of paying any insurance benefit, 0.5, 1.\n",
    "\n",
    "The probability of paying any insurance benefit can be defined as\n",
    "\n",
    "$$\n",
    "P\\{\\text{insurance benefit received}\\}=\\frac{\\text{number of clients received any insurance benefit}}{\\text{total number of clients}}.\n",
    "$$\n",
    "\n",
    "Split the whole data in the 70:30 proportion for the training/testing parts."
   ]
  },
  {
   "cell_type": "code",
   "execution_count": 19,
   "metadata": {},
   "outputs": [
    {
     "data": {
      "text/html": [
       "<div>\n",
       "<style scoped>\n",
       "    .dataframe tbody tr th:only-of-type {\n",
       "        vertical-align: middle;\n",
       "    }\n",
       "\n",
       "    .dataframe tbody tr th {\n",
       "        vertical-align: top;\n",
       "    }\n",
       "\n",
       "    .dataframe thead th {\n",
       "        text-align: right;\n",
       "    }\n",
       "</style>\n",
       "<table border=\"1\" class=\"dataframe\">\n",
       "  <thead>\n",
       "    <tr style=\"text-align: right;\">\n",
       "      <th></th>\n",
       "      <th>gender</th>\n",
       "      <th>age</th>\n",
       "      <th>income</th>\n",
       "      <th>family_members</th>\n",
       "      <th>insurance_benefits</th>\n",
       "      <th>insurance_benefits_received</th>\n",
       "    </tr>\n",
       "  </thead>\n",
       "  <tbody>\n",
       "    <tr>\n",
       "      <th>0</th>\n",
       "      <td>1</td>\n",
       "      <td>41</td>\n",
       "      <td>49600.0</td>\n",
       "      <td>1</td>\n",
       "      <td>0</td>\n",
       "      <td>0</td>\n",
       "    </tr>\n",
       "    <tr>\n",
       "      <th>1</th>\n",
       "      <td>0</td>\n",
       "      <td>46</td>\n",
       "      <td>38000.0</td>\n",
       "      <td>1</td>\n",
       "      <td>1</td>\n",
       "      <td>1</td>\n",
       "    </tr>\n",
       "    <tr>\n",
       "      <th>2</th>\n",
       "      <td>0</td>\n",
       "      <td>29</td>\n",
       "      <td>21000.0</td>\n",
       "      <td>0</td>\n",
       "      <td>0</td>\n",
       "      <td>0</td>\n",
       "    </tr>\n",
       "    <tr>\n",
       "      <th>3</th>\n",
       "      <td>0</td>\n",
       "      <td>21</td>\n",
       "      <td>41700.0</td>\n",
       "      <td>2</td>\n",
       "      <td>0</td>\n",
       "      <td>0</td>\n",
       "    </tr>\n",
       "    <tr>\n",
       "      <th>4</th>\n",
       "      <td>1</td>\n",
       "      <td>28</td>\n",
       "      <td>26100.0</td>\n",
       "      <td>0</td>\n",
       "      <td>0</td>\n",
       "      <td>0</td>\n",
       "    </tr>\n",
       "  </tbody>\n",
       "</table>\n",
       "</div>"
      ],
      "text/plain": [
       "   gender  age   income  family_members  insurance_benefits  \\\n",
       "0       1   41  49600.0               1                   0   \n",
       "1       0   46  38000.0               1                   1   \n",
       "2       0   29  21000.0               0                   0   \n",
       "3       0   21  41700.0               2                   0   \n",
       "4       1   28  26100.0               0                   0   \n",
       "\n",
       "   insurance_benefits_received  \n",
       "0                            0  \n",
       "1                            1  \n",
       "2                            0  \n",
       "3                            0  \n",
       "4                            0  "
      ]
     },
     "metadata": {},
     "output_type": "display_data"
    }
   ],
   "source": [
    "# calculate the target\n",
    "df['insurance_benefits_received'] = (df['insurance_benefits'] > 0).astype(int)\n",
    "df['insurance_benefits_received'].value_counts(normalize=True)\n",
    "display(df.head())"
   ]
  },
  {
   "cell_type": "markdown",
   "metadata": {},
   "source": [
    "As stated above, there is a significant class imbalance here. Since this is a KNN task there will not be a need to rebalance the classes."
   ]
  },
  {
   "cell_type": "code",
   "execution_count": 20,
   "metadata": {},
   "outputs": [],
   "source": [
    "def eval_classifier(y_true, y_pred):\n",
    "    \n",
    "    f1_score = sklearn.metrics.f1_score(y_true, y_pred)\n",
    "    print(f'F1: {f1_score:.2f}')\n",
    "    \n",
    "# if you have an issue with the following line, restart the kernel and run the notebook again\n",
    "    cm = sklearn.metrics.confusion_matrix(y_true, y_pred, normalize='all')\n",
    "    print('Confusion Matrix')\n",
    "    print(cm)"
   ]
  },
  {
   "cell_type": "code",
   "execution_count": 21,
   "metadata": {},
   "outputs": [],
   "source": [
    "# generating output of a random model\n",
    "\n",
    "def rnd_model_predict(P, size, seed=42):\n",
    "\n",
    "    rng = np.random.default_rng(seed=seed)\n",
    "    return rng.binomial(n=1, p=P, size=size)"
   ]
  },
  {
   "cell_type": "code",
   "execution_count": 22,
   "metadata": {
    "scrolled": true
   },
   "outputs": [
    {
     "name": "stdout",
     "output_type": "stream",
     "text": [
      "The probability: 0.00\n",
      "F1: 0.00\n",
      "Confusion Matrix\n",
      "[[0.8872 0.    ]\n",
      " [0.1128 0.    ]]\n",
      "\n",
      "The probability: 0.11\n",
      "F1: 0.12\n",
      "Confusion Matrix\n",
      "[[0.7914 0.0958]\n",
      " [0.0994 0.0134]]\n",
      "\n",
      "The probability: 0.50\n",
      "F1: 0.20\n",
      "Confusion Matrix\n",
      "[[0.456  0.4312]\n",
      " [0.053  0.0598]]\n",
      "\n",
      "The probability: 1.00\n",
      "F1: 0.20\n",
      "Confusion Matrix\n",
      "[[0.     0.8872]\n",
      " [0.     0.1128]]\n",
      "\n"
     ]
    }
   ],
   "source": [
    "for P in [0, df['insurance_benefits_received'].sum() / len(df), 0.5, 1]:\n",
    "\n",
    "    print(f'The probability: {P:.2f}')\n",
    "    y_pred_rnd = rnd_model_predict(P, size=len(df)) \n",
    "        \n",
    "    eval_classifier(df['insurance_benefits_received'], y_pred_rnd)\n",
    "    \n",
    "    print()"
   ]
  },
  {
   "cell_type": "code",
   "execution_count": 23,
   "metadata": {},
   "outputs": [],
   "source": [
    "#split the data into training and test sets\n",
    "X = df[['age', 'gender', 'income', 'family_members']]\n",
    "y = df['insurance_benefits_received']\n",
    "X_train, X_test, y_train, y_test = train_test_split(X, y, test_size=0.3, random_state=12345)\n",
    "\n",
    "\n",
    "# Scale the data\n",
    "scaler = StandardScaler()\n",
    "\n",
    "X_train_scaled = scaler.fit_transform(X_train)\n",
    "X_test_scaled = scaler.transform(X_test)"
   ]
  },
  {
   "cell_type": "code",
   "execution_count": 24,
   "metadata": {
    "scrolled": true
   },
   "outputs": [
    {
     "name": "stdout",
     "output_type": "stream",
     "text": [
      "k=1: Unscaled F1=0.60, Scaled F1=0.96\n",
      "k=2: Unscaled F1=0.41, Scaled F1=0.93\n",
      "k=3: Unscaled F1=0.41, Scaled F1=0.94\n",
      "k=4: Unscaled F1=0.28, Scaled F1=0.90\n",
      "k=5: Unscaled F1=0.27, Scaled F1=0.92\n",
      "k=6: Unscaled F1=0.11, Scaled F1=0.91\n",
      "k=7: Unscaled F1=0.11, Scaled F1=0.93\n",
      "k=8: Unscaled F1=0.07, Scaled F1=0.91\n",
      "k=9: Unscaled F1=0.08, Scaled F1=0.92\n",
      "k=10: Unscaled F1=0.00, Scaled F1=0.89\n"
     ]
    }
   ],
   "source": [
    "# Loop over k values\n",
    "for k in range(1, 11):\n",
    "    # Unscaled data\n",
    "    knn_unscaled = KNeighborsClassifier(n_neighbors=k)\n",
    "    knn_unscaled.fit(X_train, y_train)\n",
    "    y_predict_unscaled = knn_unscaled.predict(X_test)\n",
    "    f1_unscaled = f1_score(y_test, y_predict_unscaled, average='binary')\n",
    "    \n",
    "    # Scaled data\n",
    "    knn_scaled = KNeighborsClassifier(n_neighbors=k)\n",
    "    knn_scaled.fit(X_train_scaled, y_train)\n",
    "    y_predict_scaled = knn_scaled.predict(X_test_scaled)\n",
    "    f1_scaled = f1_score(y_test, y_predict_scaled, average='binary')\n",
    "    \n",
    "    # Print results\n",
    "    print(f\"k={k}: Unscaled F1={f1_unscaled:.2f}, Scaled F1={f1_scaled:.2f}\")\n"
   ]
  },
  {
   "cell_type": "code",
   "execution_count": 25,
   "metadata": {},
   "outputs": [
    {
     "name": "stdout",
     "output_type": "stream",
     "text": [
      "Dummy model with P=0.00: F1=0.00\n",
      "Dummy model with P=0.11: F1=0.11\n",
      "Dummy model with P=0.50: F1=0.16\n",
      "Dummy model with P=1.00: F1=0.20\n"
     ]
    }
   ],
   "source": [
    "for P in [0,df['insurance_benefits_received'].mean(), .5, 1]:\n",
    "    y_pred_rnd = rnd_model_predict(P, size=len(y_test))\n",
    "    f1_dummy = f1_score(y_test, y_pred_rnd)\n",
    "    print(f'Dummy model with P={P:.2f}: F1={f1_dummy:.2f}')"
   ]
  },
  {
   "cell_type": "markdown",
   "metadata": {},
   "source": [
    "## Task 2 Conclusion ##\n",
    "The Scaled data was able to outperform the unscaled data with values quite close to 1. Without scaling we can see that the f1 score decreases to 0 by adding more k values. The f1 score decreases with the scaled data, but it remains very high. This shows the importance of scaling the data to make the best predictions on whether or not a given client will receive an insurance benefit."
   ]
  },
  {
   "cell_type": "markdown",
   "metadata": {},
   "source": [
    "# Task 3. Regression (with Linear Regression)"
   ]
  },
  {
   "cell_type": "markdown",
   "metadata": {},
   "source": [
    "With `insurance_benefits` as the target, evaluate what RMSE would be for a Linear Regression model."
   ]
  },
  {
   "cell_type": "markdown",
   "metadata": {},
   "source": [
    "Build your own implementation of LR. For that, recall how the linear regression task's solution is formulated in terms of LA. Check RMSE for both the original data and the scaled one. Can you see any difference in RMSE between these two cases?\n",
    "\n",
    "Let's denote\n",
    "- $X$ — feature matrix, each row is a case, each column is a feature, the first column consists of unities\n",
    "- $y$ — target (a vector)\n",
    "- $\\hat{y}$ — estimated tagret (a vector)\n",
    "- $w$ — weight vector\n",
    "\n",
    "The task of linear regression in the language of matrices can be formulated as\n",
    "\n",
    "$$\n",
    "y = Xw\n",
    "$$\n",
    "\n",
    "The training objective then is to find such $w$ that it would minimize the L2-distance (MSE) between $Xw$ and $y$:\n",
    "\n",
    "$$\n",
    "\\min_w d_2(Xw, y) \\quad \\text{or} \\quad \\min_w \\text{MSE}(Xw, y)\n",
    "$$\n",
    "\n",
    "It appears that there is analytical solution for the above:\n",
    "\n",
    "$$\n",
    "w = (X^T X)^{-1} X^T y\n",
    "$$\n",
    "\n",
    "The formula above can be used to find the weights $w$ and the latter can be used to calculate predicted values\n",
    "\n",
    "$$\n",
    "\\hat{y} = X_{val}w\n",
    "$$"
   ]
  },
  {
   "cell_type": "markdown",
   "metadata": {},
   "source": [
    "Split the whole data in the 70:30 proportion for the training/validation parts. Use the RMSE metric for the model evaluation."
   ]
  },
  {
   "cell_type": "code",
   "execution_count": 26,
   "metadata": {},
   "outputs": [],
   "source": [
    "class MyLinearRegression:\n",
    "    \n",
    "    def __init__(self):\n",
    "        \n",
    "        self.weights = None\n",
    "    \n",
    "    def fit(self, X, y):\n",
    "        \n",
    "        # adding the unities\n",
    "        X2 = np.append(np.ones([len(X), 1]), X, axis=1)\n",
    "        self.weights = np.linalg.inv(X2.T @ X2) @ X2.T @ y\n",
    "\n",
    "    def predict(self, X):\n",
    "        \n",
    "        # adding the unities\n",
    "        X2 = np.append(np.ones((len(X), 1)), X, axis=1)\n",
    "        y_pred = X2 @ self.weights\n",
    "        \n",
    "        return y_pred"
   ]
  },
  {
   "cell_type": "code",
   "execution_count": 27,
   "metadata": {},
   "outputs": [],
   "source": [
    "def eval_regressor(y_true, y_pred):\n",
    "    \n",
    "    rmse = math.sqrt(sklearn.metrics.mean_squared_error(y_true, y_pred))\n",
    "    print(f'RMSE: {rmse:.2f}')\n",
    "    \n",
    "    r2_score = math.sqrt(sklearn.metrics.r2_score(y_true, y_pred))\n",
    "    print(f'R2: {r2_score:.2f}')    "
   ]
  },
  {
   "cell_type": "code",
   "execution_count": 28,
   "metadata": {},
   "outputs": [
    {
     "name": "stdout",
     "output_type": "stream",
     "text": [
      "[-6.50583302e-01  2.47409374e-02 -7.31018901e-04  1.36927859e-07\n",
      " -6.32915410e-03]\n",
      "RMSE: 0.23\n",
      "R2: 0.66\n"
     ]
    }
   ],
   "source": [
    "#split the data into training and test sets\n",
    "X = df[['age', 'gender', 'income', 'family_members']]\n",
    "y = df['insurance_benefits_received']\n",
    "X_train, X_test, y_train, y_test = train_test_split(X, y, test_size=0.3, random_state=12345)\n",
    "\n",
    "\n",
    "# Scale the data\n",
    "scaler = StandardScaler()\n",
    "\n",
    "X_train_scaled = scaler.fit_transform(X_train)\n",
    "X_test_scaled = scaler.transform(X_test)\n",
    "\n",
    "\n",
    "lr = MyLinearRegression()\n",
    "\n",
    "lr.fit(X_train, y_train)\n",
    "print(lr.weights)\n",
    "\n",
    "y_test_pred = lr.predict(X_test)\n",
    "eval_regressor(y_test, y_test_pred)"
   ]
  },
  {
   "cell_type": "code",
   "execution_count": 29,
   "metadata": {},
   "outputs": [
    {
     "name": "stdout",
     "output_type": "stream",
     "text": [
      "[ 0.11457143  0.20964508 -0.00036542  0.00135641 -0.00688148]\n",
      "RMSE: 0.23\n",
      "R2: 0.66\n"
     ]
    }
   ],
   "source": [
    "# using the LR function on the scaled data\n",
    "lr_scaled = MyLinearRegression()\n",
    "\n",
    "lr_scaled.fit(X_train_scaled, y_train)\n",
    "print(lr_scaled.weights)\n",
    "\n",
    "y_test_pred_scaled = lr_scaled.predict(X_test_scaled)\n",
    "eval_regressor(y_test, y_test_pred_scaled)"
   ]
  },
  {
   "cell_type": "markdown",
   "metadata": {},
   "source": [
    "The RMSE and R2 scores are the same using both the regular and the scaled data. RMSE = .23, and R2 = .66. The only difference appears in the weights printout. The second and fifth attributes are of a different weight."
   ]
  },
  {
   "cell_type": "markdown",
   "metadata": {},
   "source": [
    "# Task 4. Obfuscating Data"
   ]
  },
  {
   "cell_type": "markdown",
   "metadata": {},
   "source": [
    "It best to obfuscate data by multiplying the numerical features (remember, they can be seen as the matrix $X$) by an invertible matrix $P$. \n",
    "\n",
    "$$\n",
    "X' = X \\times P\n",
    "$$\n",
    "\n",
    "Try to do that and check how the features' values will look like after the transformation. By the way, the intertible property is important here so make sure that $P$ is indeed invertible.\n",
    "\n",
    "You may want to review the 'Matrices and Matrix Operations -> Matrix Multiplication' lesson to recall the rule of matrix multiplication and its implementation with NumPy."
   ]
  },
  {
   "cell_type": "code",
   "execution_count": 30,
   "metadata": {},
   "outputs": [],
   "source": [
    "personal_info_column_list = ['gender', 'age', 'income', 'family_members']\n",
    "df_pn = df[personal_info_column_list]"
   ]
  },
  {
   "cell_type": "code",
   "execution_count": 31,
   "metadata": {},
   "outputs": [],
   "source": [
    "X = df_pn.to_numpy()"
   ]
  },
  {
   "cell_type": "markdown",
   "metadata": {},
   "source": [
    "Generating a random matrix $P$."
   ]
  },
  {
   "cell_type": "code",
   "execution_count": 32,
   "metadata": {},
   "outputs": [],
   "source": [
    "rng = np.random.default_rng(seed=42)\n",
    "P = rng.random(size=(X.shape[1], X.shape[1]))"
   ]
  },
  {
   "cell_type": "markdown",
   "metadata": {},
   "source": [
    "Checking the matrix $P$ is invertible"
   ]
  },
  {
   "cell_type": "code",
   "execution_count": 33,
   "metadata": {},
   "outputs": [
    {
     "name": "stdout",
     "output_type": "stream",
     "text": [
      "Matrix P is invertible.\n"
     ]
    }
   ],
   "source": [
    "if np.linalg.det(P) != 0:\n",
    "    print(\"Matrix P is invertible.\")\n",
    "else:\n",
    "    print(\"Matrix P is not invertible.\")"
   ]
  },
  {
   "cell_type": "markdown",
   "metadata": {},
   "source": [
    "Can you guess the customers' ages or income after the transformation?"
   ]
  },
  {
   "cell_type": "code",
   "execution_count": 34,
   "metadata": {},
   "outputs": [
    {
     "data": {
      "text/plain": [
       "array([[ 6359.71527314, 22380.40467609, 18424.09074184, 46000.69669016],\n",
       "       [ 4873.29406479, 17160.36702982, 14125.78076133, 35253.45577301],\n",
       "       [ 2693.11742928,  9486.397744  ,  7808.83156024, 19484.86063067],\n",
       "       ...,\n",
       "       [ 4346.2234249 , 15289.24126492, 12586.16264392, 31433.50888552],\n",
       "       [ 4194.09324155, 14751.9910242 , 12144.02930637, 30323.88763426],\n",
       "       [ 5205.46827354, 18314.24814446, 15077.01370762, 37649.59295455]])"
      ]
     },
     "metadata": {},
     "output_type": "display_data"
    }
   ],
   "source": [
    "X_transformed = X @ P\n",
    "display(X_transformed)"
   ]
  },
  {
   "cell_type": "markdown",
   "metadata": {},
   "source": [
    "Can you recover the original data from $X'$ if you know $P$? Try to check that with calculations by moving $P$ from the right side of the formula above to the left one. The rules of matrix multiplcation are really helpful here."
   ]
  },
  {
   "cell_type": "markdown",
   "metadata": {},
   "source": [
    "$X' = XP$ Original equation\n",
    "\n",
    "$P^{-1} X' = P^{-1} (XP)$ Multiply both sides by the inverse of P\n",
    "\n",
    "$P^{-1} (XP) = (P^{-1} P)X = IX = X$ Working just with the right side of the equation we can see the Identity Matrix\n",
    "\n",
    "$X = P^{-1} X'$ Simplified equation\n",
    "\n",
    "As long as P is invertible, X can be recovered\n"
   ]
  },
  {
   "cell_type": "code",
   "execution_count": 35,
   "metadata": {},
   "outputs": [
    {
     "data": {
      "text/plain": [
       "array([[1.00000000e+00, 4.10000000e+01, 4.96000000e+04, 1.00000000e+00],\n",
       "       [6.66555413e-13, 4.60000000e+01, 3.80000000e+04, 1.00000000e+00],\n",
       "       [3.84747671e-13, 2.90000000e+01, 2.10000000e+04, 1.41940791e-12],\n",
       "       ...,\n",
       "       [1.18077361e-12, 2.00000000e+01, 3.39000000e+04, 2.00000000e+00],\n",
       "       [1.00000000e+00, 2.20000000e+01, 3.27000000e+04, 3.00000000e+00],\n",
       "       [1.00000000e+00, 2.80000000e+01, 4.06000000e+04, 1.00000000e+00]])"
      ]
     },
     "metadata": {},
     "output_type": "display_data"
    }
   ],
   "source": [
    "X_recovered = X_transformed @ np.linalg.inv(P)\n",
    "display(X_recovered)"
   ]
  },
  {
   "cell_type": "markdown",
   "metadata": {},
   "source": [
    "Print all three cases for a few customers\n",
    "- The original data\n",
    "- The transformed one\n",
    "- The reversed (recovered) one"
   ]
  },
  {
   "cell_type": "code",
   "execution_count": 36,
   "metadata": {},
   "outputs": [
    {
     "name": "stdout",
     "output_type": "stream",
     "text": [
      "Original Matrix (X):\n",
      "[[1.00e+00 4.10e+01 4.96e+04 1.00e+00]\n",
      " [0.00e+00 4.60e+01 3.80e+04 1.00e+00]\n",
      " [0.00e+00 2.90e+01 2.10e+04 0.00e+00]\n",
      " ...\n",
      " [0.00e+00 2.00e+01 3.39e+04 2.00e+00]\n",
      " [1.00e+00 2.20e+01 3.27e+04 3.00e+00]\n",
      " [1.00e+00 2.80e+01 4.06e+04 1.00e+00]]\n",
      "\n",
      "Transformed Matrix (X_transformed):\n",
      "[[ 6359.71527314 22380.40467609 18424.09074184 46000.69669016]\n",
      " [ 4873.29406479 17160.36702982 14125.78076133 35253.45577301]\n",
      " [ 2693.11742928  9486.397744    7808.83156024 19484.86063067]\n",
      " ...\n",
      " [ 4346.2234249  15289.24126492 12586.16264392 31433.50888552]\n",
      " [ 4194.09324155 14751.9910242  12144.02930637 30323.88763426]\n",
      " [ 5205.46827354 18314.24814446 15077.01370762 37649.59295455]]\n",
      "\n",
      "Recovered Matrix (X_recovered):\n",
      "[[1.00000000e+00 4.10000000e+01 4.96000000e+04 1.00000000e+00]\n",
      " [6.66555413e-13 4.60000000e+01 3.80000000e+04 1.00000000e+00]\n",
      " [3.84747671e-13 2.90000000e+01 2.10000000e+04 1.41940791e-12]\n",
      " ...\n",
      " [1.18077361e-12 2.00000000e+01 3.39000000e+04 2.00000000e+00]\n",
      " [1.00000000e+00 2.20000000e+01 3.27000000e+04 3.00000000e+00]\n",
      " [1.00000000e+00 2.80000000e+01 4.06000000e+04 1.00000000e+00]]\n"
     ]
    }
   ],
   "source": [
    "print(\"Original Matrix (X):\")\n",
    "print(np.array(X))\n",
    "print(\"\\nTransformed Matrix (X_transformed):\")\n",
    "print(X_transformed)\n",
    "print(\"\\nRecovered Matrix (X_recovered):\")\n",
    "print(X_recovered)"
   ]
  },
  {
   "cell_type": "markdown",
   "metadata": {},
   "source": [
    "You can probably see that some values are not exactly the same as they are in the original data. What might be the reason for that?"
   ]
  },
  {
   "cell_type": "markdown",
   "metadata": {},
   "source": [
    "Because python uses a floating point numerical system, some of the numbers lose precision when arithmetical operations are performed. This is a result of very small rounding errors that show up in the transformation and recovery process. It is also possible that calculating $P^{-1}$ is an aproximation process as well that could result in small variation between the original and recovered data."
   ]
  },
  {
   "cell_type": "markdown",
   "metadata": {},
   "source": [
    "## Proof That Data Obfuscation Can Work with LR"
   ]
  },
  {
   "cell_type": "markdown",
   "metadata": {},
   "source": [
    "The regression task has been solved with linear regression in this project. Your next task is to prove _analytically_ that the given obfuscation method won't affect linear regression in terms of predicted values i.e. their values will remain the same. Can you believe that? Well, you don't have to, you should prove it!"
   ]
  },
  {
   "cell_type": "markdown",
   "metadata": {},
   "source": [
    "So, the data is obfuscated and there is $X \\times P$ instead of just $X$ now. Consequently, there are other weights $w_P$ as\n",
    "$$\n",
    "w = (X^T X)^{-1} X^T y \\quad \\Rightarrow \\quad w_P = [(XP)^T XP]^{-1} (XP)^T y\n",
    "$$\n",
    "\n",
    "How would $w$ and $w_P$ be linked if you simplify the formula for $w_P$ above? \n",
    "\n",
    "What would be predicted values with $w_P$? \n",
    "\n",
    "What does that mean for the quality of linear regression if you measure it with RMSE?\n",
    "\n",
    "Check Appendix B Properties of Matrices in the end of the notebook. There are useful formulas in there!\n",
    "\n",
    "No code is necessary in this section, only analytical explanation!"
   ]
  },
  {
   "cell_type": "markdown",
   "metadata": {},
   "source": [
    "**Answer**"
   ]
  },
  {
   "cell_type": "markdown",
   "metadata": {},
   "source": [
    "1. How $w$ and $w{p}$ are linked by simplifying the formula for $w{p}$?\n",
    "\n",
    "$w_{p} = [(XP)^T XP]^{-1} (XP)^T y$ : Original formula\n",
    "\n",
    "$w_{p} = [(P^T X^T) XP]^{-1} P^T X^T y$ : Transpose\n",
    "\n",
    "$w_{p} = [(XP)^{-1} (P^T X^T)^{-1} P^T X^T y$ : Distribute inverses\n",
    "\n",
    "$w_{p} = [P^{-1} X^{-1} X^T{-1} P^T{-1}] P^T X^T y$ : Distribute inverses again\n",
    "\n",
    "$w_{p} = P^{-1}[X^{-1} (X^T)^{-1}](P^T{-1}) P^T X^T y$ : Associative Property - notice that $(P^T{-1}) P^T$ is the same as an Identity Matrix\n",
    "\n",
    "$w_{p} = P^{-1}[X^{-1} (X^T)^{-1}]IX^T y$ : Fill in I for the identity matrix\n",
    "\n",
    "$w_{p} = p^{-1}[X^{-1} (X^T)^{-1}]X^T y$ : Remove the Identity Matrix\n",
    "\n",
    "$w_{p} = p^{-1}[X^T X]^{-1} X^T y$ : Undo the distribution of the inverse. Notice that $[X^T X]^{-1} X^T y$ is $w$\n",
    "\n",
    "$w_{p} = P^{-1} w$ : Replace $[X^T X]^{-1} X^T y$ with $w$"
   ]
  },
  {
   "cell_type": "markdown",
   "metadata": {},
   "source": [
    "2. What would be predicted values with $w_{p}$?\n",
    "\n",
    "Linear Regression predictive models use the formula $a = Xw$\n",
    "\n",
    "So if we're using the obfuscated data then it would be $a' = XPw_{p}$\n",
    "\n",
    "Then we need to replace $w_{p}$ with our previously written $P^{-1}w$. This gives us $a' = XPP^{-1}w$\n",
    "\n",
    "After that we can put in an Identity matrix in place of $PP^{-1}$. It will look like: $a' = XIw$\n",
    "\n",
    "Then we remove the Identity matrix and are left with $a' = Xw$.\n",
    "\n",
    "And since $a = Xw$ we can place that into our formula and see that $a' = a$"
   ]
  },
  {
   "cell_type": "markdown",
   "metadata": {},
   "source": [
    "**Analytical proof**"
   ]
  },
  {
   "cell_type": "markdown",
   "metadata": {},
   "source": [
    "3. What does that mean for the quality of linear regression if you measure it with RMSE?\n",
    "\n",
    "Since we were able to show that $a' = a$ in the linear regression algrebra, it proves that there will be no diference in the RMSE values. This means that if we use obfuscated data or the original we should get the same results in our RMSE scores."
   ]
  },
  {
   "cell_type": "markdown",
   "metadata": {},
   "source": [
    "## Test Linear Regression With Data Obfuscation"
   ]
  },
  {
   "cell_type": "markdown",
   "metadata": {},
   "source": [
    "Now, let's prove Linear Regression can work computationally with the chosen obfuscation transformation.\n",
    "\n",
    "Build a procedure or a class that runs Linear Regression optionally with the obfuscation. You can use either a ready implementation of Linear Regression from sciki-learn or your own.\n",
    "\n",
    "Run Linear Regression for the original data and the obfuscated one, compare the predicted values and the RMSE, $R^2$ metric values. Is there any difference?"
   ]
  },
  {
   "cell_type": "markdown",
   "metadata": {},
   "source": [
    "**Procedure**\n",
    "\n",
    "- Create a square matrix $P$ of random numbers.\n",
    "- Check that it is invertible. If not, repeat the first point until we get an invertible matrix.\n",
    "- Multiply X and P to get an obfuscated dataframe\n",
    "- Use $XP$ as the new feature matrix"
   ]
  },
  {
   "cell_type": "code",
   "execution_count": 37,
   "metadata": {},
   "outputs": [],
   "source": [
    "#Create a square matrix P of random numbers\n",
    "def make_square_matrix(size):\n",
    "    rand_num = np.random.default_rng(seed=8420)\n",
    "    P = rand_num.random(size=(size, size))\n",
    "    while np.linalg.det(P) == 0:\n",
    "        P = rand_num.random(size=(size, size))\n",
    "    return P\n",
    "\n",
    "P = make_square_matrix(X.shape[1])"
   ]
  },
  {
   "cell_type": "code",
   "execution_count": 38,
   "metadata": {},
   "outputs": [
    {
     "name": "stdout",
     "output_type": "stream",
     "text": [
      "Matrix P is invertible.\n"
     ]
    }
   ],
   "source": [
    "# Check if the matrix is invertible\n",
    "if np.linalg.det(P) != 0:\n",
    "    print(\"Matrix P is invertible.\")\n",
    "else:\n",
    "    print(\"Matrix P is not invertible.\")"
   ]
  },
  {
   "cell_type": "code",
   "execution_count": 39,
   "metadata": {},
   "outputs": [
    {
     "data": {
      "text/html": [
       "<div>\n",
       "<style scoped>\n",
       "    .dataframe tbody tr th:only-of-type {\n",
       "        vertical-align: middle;\n",
       "    }\n",
       "\n",
       "    .dataframe tbody tr th {\n",
       "        vertical-align: top;\n",
       "    }\n",
       "\n",
       "    .dataframe thead th {\n",
       "        text-align: right;\n",
       "    }\n",
       "</style>\n",
       "<table border=\"1\" class=\"dataframe\">\n",
       "  <thead>\n",
       "    <tr style=\"text-align: right;\">\n",
       "      <th></th>\n",
       "      <th>age</th>\n",
       "      <th>gender</th>\n",
       "      <th>income</th>\n",
       "      <th>family_members</th>\n",
       "    </tr>\n",
       "  </thead>\n",
       "  <tbody>\n",
       "    <tr>\n",
       "      <th>0</th>\n",
       "      <td>34218.140337</td>\n",
       "      <td>25921.349871</td>\n",
       "      <td>22899.819712</td>\n",
       "      <td>11166.714975</td>\n",
       "    </tr>\n",
       "    <tr>\n",
       "      <th>1</th>\n",
       "      <td>26217.446858</td>\n",
       "      <td>19872.966913</td>\n",
       "      <td>17550.970703</td>\n",
       "      <td>8559.002423</td>\n",
       "    </tr>\n",
       "    <tr>\n",
       "      <th>2</th>\n",
       "      <td>14488.921741</td>\n",
       "      <td>10985.814160</td>\n",
       "      <td>9700.968100</td>\n",
       "      <td>4730.368810</td>\n",
       "    </tr>\n",
       "    <tr>\n",
       "      <th>3</th>\n",
       "      <td>28766.495371</td>\n",
       "      <td>21779.810799</td>\n",
       "      <td>19245.135890</td>\n",
       "      <td>9385.764771</td>\n",
       "    </tr>\n",
       "    <tr>\n",
       "      <th>4</th>\n",
       "      <td>18006.683733</td>\n",
       "      <td>13646.249480</td>\n",
       "      <td>12053.665390</td>\n",
       "      <td>5877.198053</td>\n",
       "    </tr>\n",
       "    <tr>\n",
       "      <th>...</th>\n",
       "      <td>...</td>\n",
       "      <td>...</td>\n",
       "      <td>...</td>\n",
       "      <td>...</td>\n",
       "    </tr>\n",
       "    <tr>\n",
       "      <th>4995</th>\n",
       "      <td>24628.846967</td>\n",
       "      <td>18655.641304</td>\n",
       "      <td>16481.121622</td>\n",
       "      <td>8038.092798</td>\n",
       "    </tr>\n",
       "    <tr>\n",
       "      <th>4996</th>\n",
       "      <td>36148.444731</td>\n",
       "      <td>27375.569223</td>\n",
       "      <td>24187.020033</td>\n",
       "      <td>11794.627891</td>\n",
       "    </tr>\n",
       "    <tr>\n",
       "      <th>4997</th>\n",
       "      <td>23386.202193</td>\n",
       "      <td>17708.720711</td>\n",
       "      <td>15646.835595</td>\n",
       "      <td>7631.239417</td>\n",
       "    </tr>\n",
       "    <tr>\n",
       "      <th>4998</th>\n",
       "      <td>22559.115601</td>\n",
       "      <td>17084.688300</td>\n",
       "      <td>15095.225632</td>\n",
       "      <td>7362.837707</td>\n",
       "    </tr>\n",
       "    <tr>\n",
       "      <th>4999</th>\n",
       "      <td>28008.526055</td>\n",
       "      <td>21212.596716</td>\n",
       "      <td>18741.974445</td>\n",
       "      <td>9139.269683</td>\n",
       "    </tr>\n",
       "  </tbody>\n",
       "</table>\n",
       "<p>5000 rows × 4 columns</p>\n",
       "</div>"
      ],
      "text/plain": [
       "               age        gender        income  family_members\n",
       "0     34218.140337  25921.349871  22899.819712    11166.714975\n",
       "1     26217.446858  19872.966913  17550.970703     8559.002423\n",
       "2     14488.921741  10985.814160   9700.968100     4730.368810\n",
       "3     28766.495371  21779.810799  19245.135890     9385.764771\n",
       "4     18006.683733  13646.249480  12053.665390     5877.198053\n",
       "...            ...           ...           ...             ...\n",
       "4995  24628.846967  18655.641304  16481.121622     8038.092798\n",
       "4996  36148.444731  27375.569223  24187.020033    11794.627891\n",
       "4997  23386.202193  17708.720711  15646.835595     7631.239417\n",
       "4998  22559.115601  17084.688300  15095.225632     7362.837707\n",
       "4999  28008.526055  21212.596716  18741.974445     9139.269683\n",
       "\n",
       "[5000 rows x 4 columns]"
      ]
     },
     "metadata": {},
     "output_type": "display_data"
    }
   ],
   "source": [
    "#multipy the X matrix by P\n",
    "X_obfuscated = X @ P\n",
    "columns = ['age', 'gender', 'income', 'family_members']\n",
    "X_obfuscated = pd.DataFrame(X_obfuscated, columns=columns)\n",
    "display(X_obfuscated)"
   ]
  },
  {
   "cell_type": "code",
   "execution_count": 40,
   "metadata": {},
   "outputs": [
    {
     "name": "stdout",
     "output_type": "stream",
     "text": [
      "[-6.50583302e-01  2.47409374e-02 -7.31018901e-04  1.36927859e-07\n",
      " -6.32915410e-03]\n",
      "RMSE: 0.23\n",
      "R2: 0.66\n"
     ]
    }
   ],
   "source": [
    "# Run the linear regression on the original data\n",
    "#split the data into training and test sets\n",
    "X = df[['age', 'gender', 'income', 'family_members']]\n",
    "y = df['insurance_benefits_received']\n",
    "X_train, X_test, y_train, y_test = train_test_split(X, y, test_size=0.3, random_state=12345)\n",
    "\n",
    "lr_X = MyLinearRegression()\n",
    "lr_X.fit(X_train, y_train)\n",
    "\n",
    "print(lr_X.weights)\n",
    "\n",
    "y_test_pred = lr_X.predict(X_test)\n",
    "eval_regressor(y_test, y_test_pred)\n"
   ]
  },
  {
   "cell_type": "code",
   "execution_count": 41,
   "metadata": {
    "scrolled": true
   },
   "outputs": [
    {
     "name": "stdout",
     "output_type": "stream",
     "text": [
      "[-0.65058334 -0.02011059  0.03174069 -0.00425424 -0.0032399 ]\n",
      "RMSE: 0.23\n",
      "R2: 0.66\n"
     ]
    }
   ],
   "source": [
    "#Run the same linear regression using the obfuscated data\n",
    "X_train_t, X_test_t, y_train_t, y_test_t = train_test_split(X_obfuscated, y, test_size=.3, random_state=12345)\n",
    "\n",
    "lr_X_t = MyLinearRegression()\n",
    "lr_X_t.fit(X_train_t, y_train_t)\n",
    "\n",
    "print(lr_X_t.weights)\n",
    "\n",
    "y_test_pred_t = lr_X_t.predict(X_test_t)\n",
    "eval_regressor(y_test_t, y_test_pred_t)"
   ]
  },
  {
   "cell_type": "markdown",
   "metadata": {},
   "source": [
    "### Obfuscated Data Linear Regression Conclusion ###\n",
    "\n",
    "As demonstrated above, there is no difference in the outcomes of using obfuscated data with the Linear Regression ML model. The RMSE and R2 scores were the same using both datasets. As a result we can confidently protect client privacy while also using Machine Learning to predict client behavior and benefits."
   ]
  },
  {
   "cell_type": "markdown",
   "metadata": {},
   "source": [
    "# Conclusions"
   ]
  },
  {
   "cell_type": "markdown",
   "metadata": {},
   "source": [
    "The Sure Tomorrow Insurance Company was looking to use Machine Learning in order to find customers who are simlar to one another so that they can do better targeted marketing. Then they wanted to be able to predict which new customers are most likely to receive an insurance benefit. After that, they wanted to predict the number of insurance benefits a new customer would receive based on a linear regression model. Finally because they're an insurance company they need to keep their customer data private, so they've asked that we develop a data transformation algorithm to protect the private information of their customers."
   ]
  },
  {
   "cell_type": "markdown",
   "metadata": {},
   "source": [
    "For the first task we used a K Nearest Neighbors algorithm to find the customers most similar to any given customer. Then we used both scaled and unscaled data and measured the distance using both Euclidean and Manhattan distance metrics. Scaling the data did produce significantly different results than the unscaled data. It did not make a big difference on which distance metric was used. \n",
    "\n",
    "In the second task we then wanted to find which customers were most likely to receive a benefit, and test that against a \"dummy model\" to make sure that we were predicting better than random chance. Again, we wanted to see whether we could produce better results than random chance. I used the KNN Classifier built by scikit.learn and was able to produce significantly better results than the random model. This was especially shown in the scaled data which outperformed the original data. It is important, therefore, to scale the data when running a KNN classifier in order to have a higher performing model. \n",
    "\n",
    "In the third task we used a linear regression model to check and see if using scaled data affected the prediction results. There is no noticable difference in the RMSE or r2_score. The difference is in the magnitude of the results from the regression. \n",
    "\n",
    "In the forth and fifth tasks we worked on obfuscating the data so that private information is not accidentally getting leaked. In order to accomplish this task we created an random invertible matrix to multiply by the original data. This allowed caused the information in the product to be unrecognizable as meaningful data, but the calculations for the Linear Regression stayed true. We proved that we could recover the original data by multiplying the new matrix by the inverted matrix and received the original information again. We then showed that whether we use the original data or the obfuscated data the Linear Regression model produced the same r2_score and RMSE."
   ]
  },
  {
   "cell_type": "markdown",
   "metadata": {},
   "source": [
    "# Checklist"
   ]
  },
  {
   "cell_type": "markdown",
   "metadata": {},
   "source": [
    "Type 'x' to check. Then press Shift+Enter."
   ]
  },
  {
   "cell_type": "markdown",
   "metadata": {},
   "source": [
    "- [x]  Jupyter Notebook is open\n",
    "- [ ]  Code is error free\n",
    "- [ ]  The cells are arranged in order of logic and execution\n",
    "- [ ]  Task 1 has been performed\n",
    "    - [ ]  There is the procedure that can return k similar customers for a given one\n",
    "    - [ ]  The procedure is tested for all four proposed combinations\n",
    "    - [ ]  The questions re the scaling/distances are answered\n",
    "- [ ]  Task 2 has been performed\n",
    "    - [ ]  The random classification model is built and tested for all for probability levels\n",
    "    - [ ]  The kNN classification model is built and tested for both the original data and the scaled one, the F1 metric is calculated.\n",
    "- [ ]  Task 3 has been performed\n",
    "    - [ ]  The linear tegression solution is implemented with matrix operations.\n",
    "    - [ ]  RMSE is calculated for the implemented solution.\n",
    "- [ ]  Task 4 has been performed\n",
    "    - [ ]  The data is obfuscated with a random and invertible matrix P\n",
    "    - [ ]  The obfuscated data is recoved, few examples are printed out\n",
    "    - [ ]  The analytical proof that the transformation does not affect RMSE is provided \n",
    "    - [ ]  The computational proof that the transformation does not affect RMSE is provided\n",
    "- [ ]  Conclusions have been made"
   ]
  },
  {
   "cell_type": "markdown",
   "metadata": {},
   "source": [
    "# Appendices \n",
    "\n",
    "## Appendix A: Writing Formulas in Jupyter Notebooks"
   ]
  },
  {
   "cell_type": "markdown",
   "metadata": {},
   "source": [
    "You can write formulas in your Jupyter Notebook in a markup language provided by a high-quality publishing system called $\\LaTeX$ (pronounced \"Lah-tech\"), and they will look like formulas in textbooks.\n",
    "\n",
    "To put a formula in a text, put the dollar sign (\\\\$) before and after the formula's text e.g. $\\frac{1}{2} \\times \\frac{3}{2} = \\frac{3}{4}$ or $y = x^2, x \\ge 1$.\n",
    "\n",
    "If a formula should be in its own paragraph, put the double dollar sign (\\\\$\\\\$) before and after the formula text e.g.\n",
    "\n",
    "$$\n",
    "\\bar{x} = \\frac{1}{n}\\sum_{i=1}^{n} x_i.\n",
    "$$\n",
    "\n",
    "The markup language of [LaTeX](https://en.wikipedia.org/wiki/LaTeX) is very popular among people who use formulas in their articles, books and texts. It can be complex but its basics are easy. Check this two page [cheatsheet](http://tug.ctan.org/info/undergradmath/undergradmath.pdf) for learning how to compose the most common formulas."
   ]
  },
  {
   "cell_type": "markdown",
   "metadata": {},
   "source": [
    "## Appendix B: Properties of Matrices"
   ]
  },
  {
   "cell_type": "markdown",
   "metadata": {},
   "source": [
    "Matrices have many properties in Linear Algebra. A few of them are listed here which can help with the analytical proof in this project."
   ]
  },
  {
   "cell_type": "markdown",
   "metadata": {},
   "source": [
    "<table>\n",
    "<tr>\n",
    "<td>Distributivity</td><td>$A(B+C)=AB+AC$</td>\n",
    "</tr>\n",
    "<tr>\n",
    "<td>Non-commutativity</td><td>$AB \\neq BA$</td>\n",
    "</tr>\n",
    "<tr>\n",
    "<td>Associative property of multiplication</td><td>$(AB)C = A(BC)$</td>\n",
    "</tr>\n",
    "<tr>\n",
    "<td>Multiplicative identity property</td><td>$IA = AI = A$</td>\n",
    "</tr>\n",
    "<tr>\n",
    "<td></td><td>$A^{-1}A = AA^{-1} = I$\n",
    "</td>\n",
    "</tr>    \n",
    "<tr>\n",
    "<td></td><td>$(AB)^{-1} = B^{-1}A^{-1}$</td>\n",
    "</tr>    \n",
    "<tr>\n",
    "<td>Reversivity of the transpose of a product of matrices,</td><td>$(AB)^T = B^TA^T$</td>\n",
    "</tr>    \n",
    "</table>"
   ]
  },
  {
   "cell_type": "code",
   "execution_count": null,
   "metadata": {},
   "outputs": [],
   "source": []
  }
 ],
 "metadata": {
  "ExecuteTimeLog": [
   {
    "duration": 154,
    "start_time": "2024-12-30T16:33:31.337Z"
   },
   {
    "duration": 2618,
    "start_time": "2024-12-30T16:33:37.171Z"
   },
   {
    "duration": 15,
    "start_time": "2024-12-30T16:33:39.792Z"
   },
   {
    "duration": 3,
    "start_time": "2024-12-30T16:33:39.809Z"
   },
   {
    "duration": 10,
    "start_time": "2024-12-30T16:33:39.815Z"
   },
   {
    "duration": 17,
    "start_time": "2024-12-30T16:33:39.827Z"
   },
   {
    "duration": 2,
    "start_time": "2024-12-30T16:33:39.846Z"
   },
   {
    "duration": 2,
    "start_time": "2024-12-30T16:33:39.850Z"
   },
   {
    "duration": 2,
    "start_time": "2024-12-30T16:33:39.854Z"
   },
   {
    "duration": 397,
    "start_time": "2024-12-30T16:33:39.858Z"
   },
   {
    "duration": 0,
    "start_time": "2024-12-30T16:33:40.259Z"
   },
   {
    "duration": 0,
    "start_time": "2024-12-30T16:33:40.265Z"
   },
   {
    "duration": 0,
    "start_time": "2024-12-30T16:33:40.267Z"
   },
   {
    "duration": 0,
    "start_time": "2024-12-30T16:33:40.268Z"
   },
   {
    "duration": 0,
    "start_time": "2024-12-30T16:33:40.269Z"
   },
   {
    "duration": 0,
    "start_time": "2024-12-30T16:33:40.270Z"
   },
   {
    "duration": 0,
    "start_time": "2024-12-30T16:33:40.271Z"
   },
   {
    "duration": 0,
    "start_time": "2024-12-30T16:33:40.272Z"
   },
   {
    "duration": 0,
    "start_time": "2024-12-30T16:33:40.273Z"
   },
   {
    "duration": 0,
    "start_time": "2024-12-30T16:33:40.274Z"
   },
   {
    "duration": 0,
    "start_time": "2024-12-30T16:33:40.276Z"
   },
   {
    "duration": 0,
    "start_time": "2024-12-30T16:33:40.277Z"
   },
   {
    "duration": 0,
    "start_time": "2024-12-30T16:33:40.278Z"
   },
   {
    "duration": 0,
    "start_time": "2024-12-30T16:33:40.279Z"
   },
   {
    "duration": 0,
    "start_time": "2024-12-30T16:33:40.280Z"
   },
   {
    "duration": 2,
    "start_time": "2024-12-30T16:33:49.147Z"
   },
   {
    "duration": 155,
    "start_time": "2024-12-30T16:34:14.036Z"
   },
   {
    "duration": 3,
    "start_time": "2024-12-30T16:34:23.257Z"
   },
   {
    "duration": 912,
    "start_time": "2024-12-30T16:34:32.026Z"
   },
   {
    "duration": 7,
    "start_time": "2024-12-30T16:34:35.290Z"
   },
   {
    "duration": 3,
    "start_time": "2024-12-30T16:34:37.691Z"
   },
   {
    "duration": 11,
    "start_time": "2024-12-30T16:34:39.183Z"
   },
   {
    "duration": 9,
    "start_time": "2024-12-30T16:34:43.219Z"
   },
   {
    "duration": 3,
    "start_time": "2024-12-30T16:34:48.442Z"
   },
   {
    "duration": 2,
    "start_time": "2024-12-30T16:34:51.207Z"
   },
   {
    "duration": 132,
    "start_time": "2024-12-30T16:34:59.394Z"
   },
   {
    "duration": 12,
    "start_time": "2024-12-30T16:35:29.404Z"
   },
   {
    "duration": 102,
    "start_time": "2024-12-30T16:35:38.926Z"
   },
   {
    "duration": 12,
    "start_time": "2024-12-30T16:35:47.858Z"
   },
   {
    "duration": 993,
    "start_time": "2024-12-30T16:36:08.842Z"
   },
   {
    "duration": 8,
    "start_time": "2024-12-30T16:36:12.614Z"
   },
   {
    "duration": 4,
    "start_time": "2024-12-30T16:36:14.792Z"
   },
   {
    "duration": 10,
    "start_time": "2024-12-30T16:36:16.304Z"
   },
   {
    "duration": 9,
    "start_time": "2024-12-30T16:36:19.066Z"
   },
   {
    "duration": 3,
    "start_time": "2024-12-30T16:36:21.831Z"
   },
   {
    "duration": 155,
    "start_time": "2024-12-30T16:36:24.498Z"
   },
   {
    "duration": 243,
    "start_time": "2024-12-30T16:36:36.986Z"
   },
   {
    "duration": 28,
    "start_time": "2024-12-30T16:38:57.381Z"
   },
   {
    "duration": 6,
    "start_time": "2024-12-30T16:39:40.054Z"
   },
   {
    "duration": 27,
    "start_time": "2024-12-30T16:39:45.300Z"
   },
   {
    "duration": 968,
    "start_time": "2024-12-30T16:39:56.669Z"
   },
   {
    "duration": 7,
    "start_time": "2024-12-30T16:39:58.585Z"
   },
   {
    "duration": 3,
    "start_time": "2024-12-30T16:40:01.280Z"
   },
   {
    "duration": 11,
    "start_time": "2024-12-30T16:40:02.815Z"
   },
   {
    "duration": 10,
    "start_time": "2024-12-30T16:40:05.578Z"
   },
   {
    "duration": 241,
    "start_time": "2024-12-30T16:40:11.290Z"
   },
   {
    "duration": 4,
    "start_time": "2024-12-30T16:40:33.533Z"
   },
   {
    "duration": 9,
    "start_time": "2024-12-30T16:40:35.376Z"
   },
   {
    "duration": 2595,
    "start_time": "2024-12-30T16:40:54.680Z"
   },
   {
    "duration": 17,
    "start_time": "2024-12-30T16:42:41.635Z"
   },
   {
    "duration": 4,
    "start_time": "2024-12-30T16:48:05.737Z"
   },
   {
    "duration": 6,
    "start_time": "2024-12-30T16:48:12.799Z"
   },
   {
    "duration": 16,
    "start_time": "2024-12-30T16:48:36.035Z"
   },
   {
    "duration": 12,
    "start_time": "2024-12-30T16:48:40.754Z"
   },
   {
    "duration": 7,
    "start_time": "2024-12-30T16:48:46.897Z"
   },
   {
    "duration": 5,
    "start_time": "2024-12-30T16:49:07.259Z"
   },
   {
    "duration": 6,
    "start_time": "2024-12-30T16:49:13.637Z"
   },
   {
    "duration": 6,
    "start_time": "2024-12-30T16:49:22.842Z"
   },
   {
    "duration": 5,
    "start_time": "2024-12-30T16:49:27.762Z"
   },
   {
    "duration": 5,
    "start_time": "2024-12-30T17:19:15.666Z"
   },
   {
    "duration": 7,
    "start_time": "2024-12-30T17:20:32.256Z"
   },
   {
    "duration": 12,
    "start_time": "2024-12-30T17:20:47.371Z"
   },
   {
    "duration": 5,
    "start_time": "2024-12-30T17:20:55.068Z"
   },
   {
    "duration": 2675,
    "start_time": "2025-01-01T20:12:25.271Z"
   },
   {
    "duration": 9,
    "start_time": "2025-01-01T20:12:31.479Z"
   },
   {
    "duration": 3,
    "start_time": "2025-01-01T20:12:32.636Z"
   },
   {
    "duration": 11,
    "start_time": "2025-01-01T20:12:33.650Z"
   },
   {
    "duration": 10,
    "start_time": "2025-01-01T20:12:37.001Z"
   },
   {
    "duration": 4,
    "start_time": "2025-01-01T20:12:39.328Z"
   },
   {
    "duration": 9,
    "start_time": "2025-01-01T20:12:41.417Z"
   },
   {
    "duration": 18,
    "start_time": "2025-01-01T20:12:49.430Z"
   },
   {
    "duration": 5,
    "start_time": "2025-01-01T20:13:08.915Z"
   },
   {
    "duration": 2658,
    "start_time": "2025-01-03T14:12:42.860Z"
   },
   {
    "duration": 12,
    "start_time": "2025-01-03T14:12:45.521Z"
   },
   {
    "duration": 4,
    "start_time": "2025-01-03T14:12:45.535Z"
   },
   {
    "duration": 10,
    "start_time": "2025-01-03T14:12:45.541Z"
   },
   {
    "duration": 8,
    "start_time": "2025-01-03T14:12:45.553Z"
   },
   {
    "duration": 4,
    "start_time": "2025-01-03T14:12:45.562Z"
   },
   {
    "duration": 8,
    "start_time": "2025-01-03T14:12:45.567Z"
   },
   {
    "duration": 45,
    "start_time": "2025-01-03T14:12:45.577Z"
   },
   {
    "duration": 4,
    "start_time": "2025-01-03T14:12:45.623Z"
   },
   {
    "duration": 4,
    "start_time": "2025-01-03T14:12:45.631Z"
   },
   {
    "duration": 0,
    "start_time": "2025-01-03T14:12:45.637Z"
   },
   {
    "duration": 0,
    "start_time": "2025-01-03T14:12:45.638Z"
   },
   {
    "duration": 0,
    "start_time": "2025-01-03T14:12:45.639Z"
   },
   {
    "duration": 0,
    "start_time": "2025-01-03T14:12:45.641Z"
   },
   {
    "duration": 0,
    "start_time": "2025-01-03T14:12:45.642Z"
   },
   {
    "duration": 0,
    "start_time": "2025-01-03T14:12:45.643Z"
   },
   {
    "duration": 0,
    "start_time": "2025-01-03T14:12:45.644Z"
   },
   {
    "duration": 0,
    "start_time": "2025-01-03T14:12:45.645Z"
   },
   {
    "duration": 0,
    "start_time": "2025-01-03T14:12:45.646Z"
   },
   {
    "duration": 0,
    "start_time": "2025-01-03T14:12:45.647Z"
   },
   {
    "duration": 0,
    "start_time": "2025-01-03T14:12:45.648Z"
   },
   {
    "duration": 0,
    "start_time": "2025-01-03T14:12:45.650Z"
   },
   {
    "duration": 0,
    "start_time": "2025-01-03T14:12:45.651Z"
   },
   {
    "duration": 0,
    "start_time": "2025-01-03T14:12:45.652Z"
   },
   {
    "duration": 0,
    "start_time": "2025-01-03T14:12:45.653Z"
   },
   {
    "duration": 0,
    "start_time": "2025-01-03T14:12:45.655Z"
   },
   {
    "duration": 2502,
    "start_time": "2025-01-03T14:13:00.071Z"
   },
   {
    "duration": 4,
    "start_time": "2025-01-03T14:23:41.096Z"
   },
   {
    "duration": 3,
    "start_time": "2025-01-03T14:23:43.658Z"
   },
   {
    "duration": 9,
    "start_time": "2025-01-03T14:23:46.115Z"
   },
   {
    "duration": 8,
    "start_time": "2025-01-03T14:23:48.470Z"
   },
   {
    "duration": 2717,
    "start_time": "2025-01-03T16:34:23.931Z"
   },
   {
    "duration": 13,
    "start_time": "2025-01-03T16:34:26.651Z"
   },
   {
    "duration": 3,
    "start_time": "2025-01-03T16:34:26.668Z"
   },
   {
    "duration": 10,
    "start_time": "2025-01-03T16:34:26.673Z"
   },
   {
    "duration": 9,
    "start_time": "2025-01-03T16:34:26.684Z"
   },
   {
    "duration": 3,
    "start_time": "2025-01-03T16:34:26.695Z"
   },
   {
    "duration": 8,
    "start_time": "2025-01-03T16:34:26.700Z"
   },
   {
    "duration": 46,
    "start_time": "2025-01-03T16:34:26.710Z"
   },
   {
    "duration": 5,
    "start_time": "2025-01-03T16:34:26.758Z"
   },
   {
    "duration": 2543,
    "start_time": "2025-01-03T16:34:26.765Z"
   },
   {
    "duration": 3,
    "start_time": "2025-01-03T16:34:29.312Z"
   },
   {
    "duration": 6,
    "start_time": "2025-01-03T16:34:29.320Z"
   },
   {
    "duration": 12,
    "start_time": "2025-01-03T16:34:29.328Z"
   },
   {
    "duration": 11,
    "start_time": "2025-01-03T16:34:29.341Z"
   },
   {
    "duration": 6,
    "start_time": "2025-01-03T16:34:29.354Z"
   },
   {
    "duration": 0,
    "start_time": "2025-01-03T16:34:29.361Z"
   },
   {
    "duration": 0,
    "start_time": "2025-01-03T16:34:29.433Z"
   },
   {
    "duration": 0,
    "start_time": "2025-01-03T16:34:29.434Z"
   },
   {
    "duration": 0,
    "start_time": "2025-01-03T16:34:29.435Z"
   },
   {
    "duration": 0,
    "start_time": "2025-01-03T16:34:29.443Z"
   },
   {
    "duration": 0,
    "start_time": "2025-01-03T16:34:29.444Z"
   },
   {
    "duration": 0,
    "start_time": "2025-01-03T16:34:29.445Z"
   },
   {
    "duration": 0,
    "start_time": "2025-01-03T16:34:29.447Z"
   },
   {
    "duration": 0,
    "start_time": "2025-01-03T16:34:29.448Z"
   },
   {
    "duration": 0,
    "start_time": "2025-01-03T16:34:29.450Z"
   },
   {
    "duration": 3,
    "start_time": "2025-01-03T17:44:08.906Z"
   },
   {
    "duration": 2634,
    "start_time": "2025-01-04T12:59:52.246Z"
   },
   {
    "duration": 13,
    "start_time": "2025-01-04T12:59:54.883Z"
   },
   {
    "duration": 2,
    "start_time": "2025-01-04T12:59:54.899Z"
   },
   {
    "duration": 21,
    "start_time": "2025-01-04T12:59:54.903Z"
   },
   {
    "duration": 8,
    "start_time": "2025-01-04T12:59:54.927Z"
   },
   {
    "duration": 3,
    "start_time": "2025-01-04T12:59:54.937Z"
   },
   {
    "duration": 8,
    "start_time": "2025-01-04T12:59:54.941Z"
   },
   {
    "duration": 16,
    "start_time": "2025-01-04T12:59:54.950Z"
   },
   {
    "duration": 4,
    "start_time": "2025-01-04T12:59:54.970Z"
   },
   {
    "duration": 2553,
    "start_time": "2025-01-04T12:59:54.976Z"
   },
   {
    "duration": 2,
    "start_time": "2025-01-04T12:59:57.531Z"
   },
   {
    "duration": 7,
    "start_time": "2025-01-04T12:59:57.535Z"
   },
   {
    "duration": 9,
    "start_time": "2025-01-04T12:59:57.544Z"
   },
   {
    "duration": 8,
    "start_time": "2025-01-04T12:59:57.554Z"
   },
   {
    "duration": 2,
    "start_time": "2025-01-04T12:59:57.563Z"
   },
   {
    "duration": 100,
    "start_time": "2025-01-04T12:59:57.567Z"
   },
   {
    "duration": 5,
    "start_time": "2025-01-04T12:59:57.669Z"
   },
   {
    "duration": 0,
    "start_time": "2025-01-04T12:59:57.676Z"
   },
   {
    "duration": 0,
    "start_time": "2025-01-04T12:59:57.677Z"
   },
   {
    "duration": 0,
    "start_time": "2025-01-04T12:59:57.678Z"
   },
   {
    "duration": 0,
    "start_time": "2025-01-04T12:59:57.679Z"
   },
   {
    "duration": 0,
    "start_time": "2025-01-04T12:59:57.680Z"
   },
   {
    "duration": 0,
    "start_time": "2025-01-04T12:59:57.680Z"
   },
   {
    "duration": 0,
    "start_time": "2025-01-04T12:59:57.681Z"
   },
   {
    "duration": 0,
    "start_time": "2025-01-04T12:59:57.683Z"
   },
   {
    "duration": 0,
    "start_time": "2025-01-04T12:59:57.683Z"
   },
   {
    "duration": 0,
    "start_time": "2025-01-04T12:59:57.684Z"
   },
   {
    "duration": 234,
    "start_time": "2025-01-04T13:00:29.058Z"
   },
   {
    "duration": 4,
    "start_time": "2025-01-04T13:01:44.080Z"
   },
   {
    "duration": 4,
    "start_time": "2025-01-04T13:01:52.422Z"
   },
   {
    "duration": 9,
    "start_time": "2025-01-04T13:01:55.125Z"
   },
   {
    "duration": 8,
    "start_time": "2025-01-04T13:01:56.628Z"
   },
   {
    "duration": 24,
    "start_time": "2025-01-04T13:01:58.831Z"
   },
   {
    "duration": 25,
    "start_time": "2025-01-04T13:02:55.467Z"
   },
   {
    "duration": 2787,
    "start_time": "2025-01-04T19:54:56.430Z"
   },
   {
    "duration": 14,
    "start_time": "2025-01-04T19:54:59.221Z"
   },
   {
    "duration": 3,
    "start_time": "2025-01-04T19:54:59.237Z"
   },
   {
    "duration": 11,
    "start_time": "2025-01-04T19:54:59.243Z"
   },
   {
    "duration": 10,
    "start_time": "2025-01-04T19:54:59.255Z"
   },
   {
    "duration": 4,
    "start_time": "2025-01-04T19:54:59.268Z"
   },
   {
    "duration": 8,
    "start_time": "2025-01-04T19:54:59.273Z"
   },
   {
    "duration": 16,
    "start_time": "2025-01-04T19:54:59.283Z"
   },
   {
    "duration": 5,
    "start_time": "2025-01-04T19:54:59.332Z"
   },
   {
    "duration": 2640,
    "start_time": "2025-01-04T19:54:59.340Z"
   },
   {
    "duration": 3,
    "start_time": "2025-01-04T19:55:01.982Z"
   },
   {
    "duration": 4,
    "start_time": "2025-01-04T19:55:01.987Z"
   },
   {
    "duration": 8,
    "start_time": "2025-01-04T19:55:01.993Z"
   },
   {
    "duration": 8,
    "start_time": "2025-01-04T19:55:02.003Z"
   },
   {
    "duration": 137,
    "start_time": "2025-01-04T19:55:02.013Z"
   },
   {
    "duration": 29,
    "start_time": "2025-01-04T19:55:02.152Z"
   },
   {
    "duration": 5,
    "start_time": "2025-01-04T19:55:02.183Z"
   },
   {
    "duration": 0,
    "start_time": "2025-01-04T19:55:02.189Z"
   },
   {
    "duration": 0,
    "start_time": "2025-01-04T19:55:02.191Z"
   },
   {
    "duration": 0,
    "start_time": "2025-01-04T19:55:02.193Z"
   },
   {
    "duration": 0,
    "start_time": "2025-01-04T19:55:02.194Z"
   },
   {
    "duration": 0,
    "start_time": "2025-01-04T19:55:02.195Z"
   },
   {
    "duration": 0,
    "start_time": "2025-01-04T19:55:02.195Z"
   },
   {
    "duration": 0,
    "start_time": "2025-01-04T19:55:02.197Z"
   },
   {
    "duration": 0,
    "start_time": "2025-01-04T19:55:02.197Z"
   },
   {
    "duration": 0,
    "start_time": "2025-01-04T19:55:02.198Z"
   },
   {
    "duration": 0,
    "start_time": "2025-01-04T19:55:02.200Z"
   },
   {
    "duration": 27,
    "start_time": "2025-01-04T21:18:12.478Z"
   },
   {
    "duration": 27,
    "start_time": "2025-01-04T21:19:20.376Z"
   },
   {
    "duration": 3,
    "start_time": "2025-01-04T21:34:05.928Z"
   },
   {
    "duration": 4,
    "start_time": "2025-01-04T21:35:52.831Z"
   },
   {
    "duration": 8,
    "start_time": "2025-01-04T21:36:07.889Z"
   },
   {
    "duration": 5,
    "start_time": "2025-01-04T21:37:02.874Z"
   },
   {
    "duration": 3,
    "start_time": "2025-01-04T21:37:22.535Z"
   },
   {
    "duration": 3,
    "start_time": "2025-01-04T21:37:27.145Z"
   },
   {
    "duration": 20,
    "start_time": "2025-01-04T22:13:31.165Z"
   },
   {
    "duration": 20,
    "start_time": "2025-01-04T22:19:29.464Z"
   },
   {
    "duration": 4,
    "start_time": "2025-01-04T22:47:06.813Z"
   },
   {
    "duration": 3,
    "start_time": "2025-01-04T22:47:08.964Z"
   },
   {
    "duration": 380,
    "start_time": "2025-01-04T22:47:12.343Z"
   },
   {
    "duration": 3,
    "start_time": "2025-01-04T22:48:30.372Z"
   },
   {
    "duration": 10,
    "start_time": "2025-01-04T22:48:37.436Z"
   },
   {
    "duration": 11,
    "start_time": "2025-01-04T22:49:26.280Z"
   },
   {
    "duration": 3,
    "start_time": "2025-01-04T22:51:16.361Z"
   },
   {
    "duration": 3,
    "start_time": "2025-01-04T22:51:17.595Z"
   },
   {
    "duration": 3,
    "start_time": "2025-01-04T22:51:19.433Z"
   },
   {
    "duration": 7,
    "start_time": "2025-01-04T22:51:54.916Z"
   },
   {
    "duration": 3,
    "start_time": "2025-01-04T22:52:06.333Z"
   },
   {
    "duration": 3,
    "start_time": "2025-01-04T22:54:25.189Z"
   },
   {
    "duration": 2,
    "start_time": "2025-01-04T22:55:52.647Z"
   },
   {
    "duration": 5,
    "start_time": "2025-01-04T22:56:19.981Z"
   },
   {
    "duration": 3,
    "start_time": "2025-01-04T22:56:55.514Z"
   },
   {
    "duration": 7,
    "start_time": "2025-01-04T22:56:56.539Z"
   },
   {
    "duration": 3,
    "start_time": "2025-01-04T22:57:00.225Z"
   },
   {
    "duration": 5,
    "start_time": "2025-01-04T22:57:03.911Z"
   },
   {
    "duration": 2663,
    "start_time": "2025-01-05T16:58:44.925Z"
   },
   {
    "duration": 62,
    "start_time": "2025-01-05T16:58:47.591Z"
   },
   {
    "duration": 3,
    "start_time": "2025-01-05T16:58:47.655Z"
   },
   {
    "duration": 17,
    "start_time": "2025-01-05T16:58:47.661Z"
   },
   {
    "duration": 9,
    "start_time": "2025-01-05T16:58:47.679Z"
   },
   {
    "duration": 3,
    "start_time": "2025-01-05T16:58:47.689Z"
   },
   {
    "duration": 8,
    "start_time": "2025-01-05T16:58:47.694Z"
   },
   {
    "duration": 16,
    "start_time": "2025-01-05T16:58:47.704Z"
   },
   {
    "duration": 5,
    "start_time": "2025-01-05T16:58:47.721Z"
   },
   {
    "duration": 2565,
    "start_time": "2025-01-05T16:58:47.729Z"
   },
   {
    "duration": 3,
    "start_time": "2025-01-05T16:58:50.296Z"
   },
   {
    "duration": 4,
    "start_time": "2025-01-05T16:58:50.301Z"
   },
   {
    "duration": 8,
    "start_time": "2025-01-05T16:58:50.306Z"
   },
   {
    "duration": 9,
    "start_time": "2025-01-05T16:58:50.316Z"
   },
   {
    "duration": 25,
    "start_time": "2025-01-05T16:58:50.326Z"
   },
   {
    "duration": 39,
    "start_time": "2025-01-05T16:58:50.353Z"
   },
   {
    "duration": 232,
    "start_time": "2025-01-05T16:58:50.394Z"
   },
   {
    "duration": 0,
    "start_time": "2025-01-05T16:58:50.628Z"
   },
   {
    "duration": 0,
    "start_time": "2025-01-05T16:58:50.629Z"
   },
   {
    "duration": 0,
    "start_time": "2025-01-05T16:58:50.630Z"
   },
   {
    "duration": 0,
    "start_time": "2025-01-05T16:58:50.631Z"
   },
   {
    "duration": 0,
    "start_time": "2025-01-05T16:58:50.632Z"
   },
   {
    "duration": 0,
    "start_time": "2025-01-05T16:58:50.633Z"
   },
   {
    "duration": 0,
    "start_time": "2025-01-05T16:58:50.634Z"
   },
   {
    "duration": 0,
    "start_time": "2025-01-05T16:58:50.635Z"
   },
   {
    "duration": 0,
    "start_time": "2025-01-05T16:58:50.637Z"
   },
   {
    "duration": 0,
    "start_time": "2025-01-05T16:58:50.638Z"
   },
   {
    "duration": 0,
    "start_time": "2025-01-05T16:58:50.639Z"
   },
   {
    "duration": 0,
    "start_time": "2025-01-05T16:58:50.640Z"
   },
   {
    "duration": 8,
    "start_time": "2025-01-05T16:59:20.871Z"
   },
   {
    "duration": 982,
    "start_time": "2025-01-05T16:59:26.907Z"
   },
   {
    "duration": 7,
    "start_time": "2025-01-05T16:59:27.891Z"
   },
   {
    "duration": 3,
    "start_time": "2025-01-05T16:59:27.900Z"
   },
   {
    "duration": 9,
    "start_time": "2025-01-05T16:59:27.906Z"
   },
   {
    "duration": 9,
    "start_time": "2025-01-05T16:59:27.917Z"
   },
   {
    "duration": 3,
    "start_time": "2025-01-05T16:59:27.927Z"
   },
   {
    "duration": 8,
    "start_time": "2025-01-05T16:59:27.932Z"
   },
   {
    "duration": 15,
    "start_time": "2025-01-05T16:59:27.970Z"
   },
   {
    "duration": 4,
    "start_time": "2025-01-05T16:59:27.987Z"
   },
   {
    "duration": 2596,
    "start_time": "2025-01-05T16:59:27.995Z"
   },
   {
    "duration": 4,
    "start_time": "2025-01-05T16:59:30.592Z"
   },
   {
    "duration": 4,
    "start_time": "2025-01-05T16:59:30.598Z"
   },
   {
    "duration": 8,
    "start_time": "2025-01-05T16:59:30.603Z"
   },
   {
    "duration": 8,
    "start_time": "2025-01-05T16:59:30.612Z"
   },
   {
    "duration": 24,
    "start_time": "2025-01-05T16:59:30.622Z"
   },
   {
    "duration": 42,
    "start_time": "2025-01-05T16:59:30.647Z"
   },
   {
    "duration": 7,
    "start_time": "2025-01-05T16:59:30.691Z"
   },
   {
    "duration": 5,
    "start_time": "2025-01-05T16:59:30.700Z"
   },
   {
    "duration": 3,
    "start_time": "2025-01-05T16:59:30.708Z"
   },
   {
    "duration": 3,
    "start_time": "2025-01-05T16:59:30.712Z"
   },
   {
    "duration": 20,
    "start_time": "2025-01-05T16:59:30.717Z"
   },
   {
    "duration": 32,
    "start_time": "2025-01-05T16:59:30.739Z"
   },
   {
    "duration": 4,
    "start_time": "2025-01-05T16:59:30.772Z"
   },
   {
    "duration": 12,
    "start_time": "2025-01-05T16:59:30.777Z"
   },
   {
    "duration": 3,
    "start_time": "2025-01-05T16:59:30.791Z"
   },
   {
    "duration": 3,
    "start_time": "2025-01-05T16:59:30.796Z"
   },
   {
    "duration": 68,
    "start_time": "2025-01-05T16:59:30.802Z"
   },
   {
    "duration": 8,
    "start_time": "2025-01-05T16:59:30.874Z"
   },
   {
    "duration": 4,
    "start_time": "2025-01-05T16:59:30.883Z"
   },
   {
    "duration": 223,
    "start_time": "2025-01-05T16:59:42.941Z"
   },
   {
    "duration": 2,
    "start_time": "2025-01-05T17:00:10.309Z"
   },
   {
    "duration": 5,
    "start_time": "2025-01-05T17:00:25.357Z"
   },
   {
    "duration": 4,
    "start_time": "2025-01-05T17:01:35.921Z"
   },
   {
    "duration": 4,
    "start_time": "2025-01-05T17:01:38.018Z"
   },
   {
    "duration": 4,
    "start_time": "2025-01-05T17:01:40.105Z"
   },
   {
    "duration": 4,
    "start_time": "2025-01-05T17:42:51.210Z"
   },
   {
    "duration": 2,
    "start_time": "2025-01-05T17:48:28.665Z"
   },
   {
    "duration": 3,
    "start_time": "2025-01-05T17:51:32.666Z"
   },
   {
    "duration": 2,
    "start_time": "2025-01-05T17:51:37.836Z"
   },
   {
    "duration": 3,
    "start_time": "2025-01-05T17:54:17.660Z"
   },
   {
    "duration": 17,
    "start_time": "2025-01-05T19:00:21.675Z"
   },
   {
    "duration": 11,
    "start_time": "2025-01-05T19:00:37.342Z"
   },
   {
    "duration": 9,
    "start_time": "2025-01-05T19:01:57.996Z"
   },
   {
    "duration": 6,
    "start_time": "2025-01-05T19:04:19.394Z"
   },
   {
    "duration": 2780,
    "start_time": "2025-01-06T13:56:04.960Z"
   },
   {
    "duration": 13,
    "start_time": "2025-01-06T13:56:07.742Z"
   },
   {
    "duration": 3,
    "start_time": "2025-01-06T13:56:07.756Z"
   },
   {
    "duration": 11,
    "start_time": "2025-01-06T13:56:07.762Z"
   },
   {
    "duration": 8,
    "start_time": "2025-01-06T13:56:07.774Z"
   },
   {
    "duration": 3,
    "start_time": "2025-01-06T13:56:07.784Z"
   },
   {
    "duration": 7,
    "start_time": "2025-01-06T13:56:07.789Z"
   },
   {
    "duration": 17,
    "start_time": "2025-01-06T13:56:07.824Z"
   },
   {
    "duration": 4,
    "start_time": "2025-01-06T13:56:07.843Z"
   },
   {
    "duration": 2597,
    "start_time": "2025-01-06T13:56:07.851Z"
   },
   {
    "duration": 3,
    "start_time": "2025-01-06T13:56:10.450Z"
   },
   {
    "duration": 4,
    "start_time": "2025-01-06T13:56:10.455Z"
   },
   {
    "duration": 8,
    "start_time": "2025-01-06T13:56:10.460Z"
   },
   {
    "duration": 110,
    "start_time": "2025-01-06T13:56:10.470Z"
   },
   {
    "duration": 26,
    "start_time": "2025-01-06T13:56:10.583Z"
   },
   {
    "duration": 29,
    "start_time": "2025-01-06T13:56:10.623Z"
   },
   {
    "duration": 8,
    "start_time": "2025-01-06T13:56:10.654Z"
   },
   {
    "duration": 6,
    "start_time": "2025-01-06T13:56:10.664Z"
   },
   {
    "duration": 3,
    "start_time": "2025-01-06T13:56:10.671Z"
   },
   {
    "duration": 3,
    "start_time": "2025-01-06T13:56:10.676Z"
   },
   {
    "duration": 49,
    "start_time": "2025-01-06T13:56:10.680Z"
   },
   {
    "duration": 4,
    "start_time": "2025-01-06T13:56:10.731Z"
   },
   {
    "duration": 4,
    "start_time": "2025-01-06T13:56:10.737Z"
   },
   {
    "duration": 12,
    "start_time": "2025-01-06T13:56:10.743Z"
   },
   {
    "duration": 3,
    "start_time": "2025-01-06T13:56:10.757Z"
   },
   {
    "duration": 63,
    "start_time": "2025-01-06T13:56:10.762Z"
   },
   {
    "duration": 3,
    "start_time": "2025-01-06T13:56:10.827Z"
   },
   {
    "duration": 3,
    "start_time": "2025-01-06T13:56:10.834Z"
   },
   {
    "duration": 4,
    "start_time": "2025-01-06T13:56:10.839Z"
   },
   {
    "duration": 4,
    "start_time": "2025-01-06T13:56:10.844Z"
   },
   {
    "duration": 5,
    "start_time": "2025-01-06T13:56:10.925Z"
   },
   {
    "duration": 5,
    "start_time": "2025-01-06T13:56:10.932Z"
   },
   {
    "duration": 4,
    "start_time": "2025-01-06T13:56:10.939Z"
   },
   {
    "duration": 3,
    "start_time": "2025-01-06T13:56:10.945Z"
   },
   {
    "duration": 79,
    "start_time": "2025-01-06T13:56:10.950Z"
   },
   {
    "duration": 11,
    "start_time": "2025-01-06T13:56:11.031Z"
   },
   {
    "duration": 2685,
    "start_time": "2025-01-06T15:25:25.952Z"
   },
   {
    "duration": 14,
    "start_time": "2025-01-06T15:25:28.641Z"
   },
   {
    "duration": 4,
    "start_time": "2025-01-06T15:25:28.656Z"
   },
   {
    "duration": 9,
    "start_time": "2025-01-06T15:25:28.663Z"
   },
   {
    "duration": 9,
    "start_time": "2025-01-06T15:25:28.674Z"
   },
   {
    "duration": 4,
    "start_time": "2025-01-06T15:25:28.684Z"
   },
   {
    "duration": 7,
    "start_time": "2025-01-06T15:25:28.690Z"
   },
   {
    "duration": 16,
    "start_time": "2025-01-06T15:25:28.699Z"
   },
   {
    "duration": 5,
    "start_time": "2025-01-06T15:25:28.717Z"
   },
   {
    "duration": 2649,
    "start_time": "2025-01-06T15:25:28.726Z"
   },
   {
    "duration": 5,
    "start_time": "2025-01-06T15:25:31.377Z"
   },
   {
    "duration": 5,
    "start_time": "2025-01-06T15:25:31.383Z"
   },
   {
    "duration": 8,
    "start_time": "2025-01-06T15:25:31.389Z"
   },
   {
    "duration": 7,
    "start_time": "2025-01-06T15:25:31.399Z"
   },
   {
    "duration": 24,
    "start_time": "2025-01-06T15:25:31.408Z"
   },
   {
    "duration": 49,
    "start_time": "2025-01-06T15:25:31.435Z"
   },
   {
    "duration": 7,
    "start_time": "2025-01-06T15:25:31.486Z"
   },
   {
    "duration": 4,
    "start_time": "2025-01-06T15:25:31.495Z"
   },
   {
    "duration": 3,
    "start_time": "2025-01-06T15:25:31.501Z"
   },
   {
    "duration": 3,
    "start_time": "2025-01-06T15:25:31.505Z"
   },
   {
    "duration": 18,
    "start_time": "2025-01-06T15:25:31.510Z"
   },
   {
    "duration": 4,
    "start_time": "2025-01-06T15:25:31.530Z"
   },
   {
    "duration": 36,
    "start_time": "2025-01-06T15:25:31.536Z"
   },
   {
    "duration": 9,
    "start_time": "2025-01-06T15:25:31.573Z"
   },
   {
    "duration": 4,
    "start_time": "2025-01-06T15:25:31.586Z"
   },
   {
    "duration": 3,
    "start_time": "2025-01-06T15:25:31.591Z"
   },
   {
    "duration": 2,
    "start_time": "2025-01-06T15:25:31.596Z"
   },
   {
    "duration": 7,
    "start_time": "2025-01-06T15:25:31.671Z"
   },
   {
    "duration": 4,
    "start_time": "2025-01-06T15:25:31.679Z"
   },
   {
    "duration": 5,
    "start_time": "2025-01-06T15:25:31.685Z"
   },
   {
    "duration": 4,
    "start_time": "2025-01-06T15:25:31.691Z"
   },
   {
    "duration": 74,
    "start_time": "2025-01-06T15:25:31.697Z"
   },
   {
    "duration": 4,
    "start_time": "2025-01-06T15:25:31.773Z"
   },
   {
    "duration": 3,
    "start_time": "2025-01-06T15:25:31.778Z"
   },
   {
    "duration": 7,
    "start_time": "2025-01-06T15:25:31.783Z"
   },
   {
    "duration": 81,
    "start_time": "2025-01-06T15:25:31.791Z"
   },
   {
    "duration": 5,
    "start_time": "2025-01-06T16:08:49.253Z"
   },
   {
    "duration": 10,
    "start_time": "2025-01-06T16:09:44.593Z"
   },
   {
    "duration": 8,
    "start_time": "2025-01-06T16:09:58.170Z"
   },
   {
    "duration": 6,
    "start_time": "2025-01-06T16:10:06.800Z"
   },
   {
    "duration": 8,
    "start_time": "2025-01-06T18:00:11.860Z"
   },
   {
    "duration": 954,
    "start_time": "2025-01-06T19:56:12.552Z"
   },
   {
    "duration": 989,
    "start_time": "2025-01-06T19:56:29.462Z"
   },
   {
    "duration": 8,
    "start_time": "2025-01-06T19:56:30.453Z"
   },
   {
    "duration": 3,
    "start_time": "2025-01-06T19:56:30.462Z"
   },
   {
    "duration": 11,
    "start_time": "2025-01-06T19:56:30.469Z"
   },
   {
    "duration": 8,
    "start_time": "2025-01-06T19:56:30.481Z"
   },
   {
    "duration": 3,
    "start_time": "2025-01-06T19:56:30.491Z"
   },
   {
    "duration": 7,
    "start_time": "2025-01-06T19:56:30.496Z"
   },
   {
    "duration": 15,
    "start_time": "2025-01-06T19:56:30.505Z"
   },
   {
    "duration": 4,
    "start_time": "2025-01-06T19:56:30.521Z"
   },
   {
    "duration": 2582,
    "start_time": "2025-01-06T19:56:30.529Z"
   },
   {
    "duration": 4,
    "start_time": "2025-01-06T19:56:33.113Z"
   },
   {
    "duration": 5,
    "start_time": "2025-01-06T19:56:33.118Z"
   },
   {
    "duration": 9,
    "start_time": "2025-01-06T19:56:33.124Z"
   },
   {
    "duration": 9,
    "start_time": "2025-01-06T19:56:33.134Z"
   },
   {
    "duration": 33,
    "start_time": "2025-01-06T19:56:33.144Z"
   },
   {
    "duration": 27,
    "start_time": "2025-01-06T19:56:33.179Z"
   },
   {
    "duration": 8,
    "start_time": "2025-01-06T19:56:33.208Z"
   },
   {
    "duration": 4,
    "start_time": "2025-01-06T19:56:33.218Z"
   },
   {
    "duration": 3,
    "start_time": "2025-01-06T19:56:33.224Z"
   },
   {
    "duration": 4,
    "start_time": "2025-01-06T19:56:33.229Z"
   },
   {
    "duration": 52,
    "start_time": "2025-01-06T19:56:33.234Z"
   },
   {
    "duration": 977,
    "start_time": "2025-01-06T19:56:33.287Z"
   },
   {
    "duration": 0,
    "start_time": "2025-01-06T19:56:34.270Z"
   },
   {
    "duration": 0,
    "start_time": "2025-01-06T19:56:34.272Z"
   },
   {
    "duration": 0,
    "start_time": "2025-01-06T19:56:34.274Z"
   },
   {
    "duration": 0,
    "start_time": "2025-01-06T19:56:34.275Z"
   },
   {
    "duration": 0,
    "start_time": "2025-01-06T19:56:34.276Z"
   },
   {
    "duration": 0,
    "start_time": "2025-01-06T19:56:34.278Z"
   },
   {
    "duration": 0,
    "start_time": "2025-01-06T19:56:34.279Z"
   },
   {
    "duration": 0,
    "start_time": "2025-01-06T19:56:34.281Z"
   },
   {
    "duration": 0,
    "start_time": "2025-01-06T19:56:34.282Z"
   },
   {
    "duration": 0,
    "start_time": "2025-01-06T19:56:34.284Z"
   },
   {
    "duration": 0,
    "start_time": "2025-01-06T19:56:34.285Z"
   },
   {
    "duration": 0,
    "start_time": "2025-01-06T19:56:34.286Z"
   },
   {
    "duration": 0,
    "start_time": "2025-01-06T19:56:34.287Z"
   },
   {
    "duration": 0,
    "start_time": "2025-01-06T19:56:34.288Z"
   },
   {
    "duration": 0,
    "start_time": "2025-01-06T19:56:34.289Z"
   },
   {
    "duration": 0,
    "start_time": "2025-01-06T19:56:34.290Z"
   },
   {
    "duration": 13,
    "start_time": "2025-01-06T19:58:58.134Z"
   },
   {
    "duration": 9,
    "start_time": "2025-01-06T19:59:03.972Z"
   },
   {
    "duration": 3,
    "start_time": "2025-01-06T20:04:37.307Z"
   },
   {
    "duration": 42,
    "start_time": "2025-01-06T20:10:11.133Z"
   },
   {
    "duration": 3,
    "start_time": "2025-01-06T20:10:32.104Z"
   },
   {
    "duration": 550,
    "start_time": "2025-01-06T20:10:42.238Z"
   },
   {
    "duration": 8,
    "start_time": "2025-01-06T20:16:21.388Z"
   },
   {
    "duration": 996,
    "start_time": "2025-01-06T20:41:55.255Z"
   },
   {
    "duration": 8,
    "start_time": "2025-01-06T20:41:56.253Z"
   },
   {
    "duration": 8,
    "start_time": "2025-01-06T20:41:56.262Z"
   },
   {
    "duration": 10,
    "start_time": "2025-01-06T20:41:56.273Z"
   },
   {
    "duration": 9,
    "start_time": "2025-01-06T20:41:56.284Z"
   },
   {
    "duration": 3,
    "start_time": "2025-01-06T20:41:56.296Z"
   },
   {
    "duration": 8,
    "start_time": "2025-01-06T20:41:56.301Z"
   },
   {
    "duration": 17,
    "start_time": "2025-01-06T20:41:56.310Z"
   },
   {
    "duration": 41,
    "start_time": "2025-01-06T20:41:56.329Z"
   },
   {
    "duration": 2608,
    "start_time": "2025-01-06T20:41:56.374Z"
   },
   {
    "duration": 2,
    "start_time": "2025-01-06T20:41:58.985Z"
   },
   {
    "duration": 4,
    "start_time": "2025-01-06T20:41:58.989Z"
   },
   {
    "duration": 8,
    "start_time": "2025-01-06T20:41:58.994Z"
   },
   {
    "duration": 7,
    "start_time": "2025-01-06T20:41:59.004Z"
   },
   {
    "duration": 25,
    "start_time": "2025-01-06T20:41:59.013Z"
   },
   {
    "duration": 45,
    "start_time": "2025-01-06T20:41:59.039Z"
   },
   {
    "duration": 13,
    "start_time": "2025-01-06T20:41:59.086Z"
   },
   {
    "duration": 4,
    "start_time": "2025-01-06T20:41:59.101Z"
   },
   {
    "duration": 4,
    "start_time": "2025-01-06T20:41:59.106Z"
   },
   {
    "duration": 4,
    "start_time": "2025-01-06T20:41:59.111Z"
   },
   {
    "duration": 20,
    "start_time": "2025-01-06T20:41:59.116Z"
   },
   {
    "duration": 38,
    "start_time": "2025-01-06T20:41:59.137Z"
   },
   {
    "duration": 618,
    "start_time": "2025-01-06T20:41:59.177Z"
   },
   {
    "duration": 8,
    "start_time": "2025-01-06T20:41:59.797Z"
   },
   {
    "duration": 3,
    "start_time": "2025-01-06T20:41:59.807Z"
   },
   {
    "duration": 3,
    "start_time": "2025-01-06T20:41:59.812Z"
   },
   {
    "duration": 55,
    "start_time": "2025-01-06T20:41:59.816Z"
   },
   {
    "duration": 9,
    "start_time": "2025-01-06T20:41:59.876Z"
   },
   {
    "duration": 4,
    "start_time": "2025-01-06T20:41:59.887Z"
   },
   {
    "duration": 77,
    "start_time": "2025-01-06T20:41:59.893Z"
   },
   {
    "duration": 3,
    "start_time": "2025-01-06T20:41:59.972Z"
   },
   {
    "duration": 3,
    "start_time": "2025-01-06T20:41:59.977Z"
   },
   {
    "duration": 5,
    "start_time": "2025-01-06T20:41:59.982Z"
   },
   {
    "duration": 3,
    "start_time": "2025-01-06T20:41:59.989Z"
   },
   {
    "duration": 79,
    "start_time": "2025-01-06T20:41:59.994Z"
   },
   {
    "duration": 8,
    "start_time": "2025-01-06T20:42:00.075Z"
   },
   {
    "duration": 4,
    "start_time": "2025-01-06T20:42:00.084Z"
   },
   {
    "duration": 2,
    "start_time": "2025-01-06T20:42:00.090Z"
   },
   {
    "duration": 80,
    "start_time": "2025-01-06T20:42:00.093Z"
   },
   {
    "duration": 8,
    "start_time": "2025-01-06T20:42:00.175Z"
   },
   {
    "duration": 2,
    "start_time": "2025-01-06T20:43:21.462Z"
   },
   {
    "duration": 9,
    "start_time": "2025-01-06T20:43:24.875Z"
   },
   {
    "duration": 1013,
    "start_time": "2025-01-06T21:44:16.860Z"
   },
   {
    "duration": 8,
    "start_time": "2025-01-06T21:44:17.875Z"
   },
   {
    "duration": 4,
    "start_time": "2025-01-06T21:44:17.885Z"
   },
   {
    "duration": 10,
    "start_time": "2025-01-06T21:44:17.891Z"
   },
   {
    "duration": 8,
    "start_time": "2025-01-06T21:44:17.903Z"
   },
   {
    "duration": 3,
    "start_time": "2025-01-06T21:44:17.913Z"
   },
   {
    "duration": 8,
    "start_time": "2025-01-06T21:44:17.918Z"
   },
   {
    "duration": 47,
    "start_time": "2025-01-06T21:44:17.928Z"
   },
   {
    "duration": 5,
    "start_time": "2025-01-06T21:44:17.977Z"
   },
   {
    "duration": 2521,
    "start_time": "2025-01-06T21:44:17.985Z"
   },
   {
    "duration": 3,
    "start_time": "2025-01-06T21:44:20.509Z"
   },
   {
    "duration": 4,
    "start_time": "2025-01-06T21:44:20.513Z"
   },
   {
    "duration": 8,
    "start_time": "2025-01-06T21:44:20.518Z"
   },
   {
    "duration": 8,
    "start_time": "2025-01-06T21:44:20.528Z"
   },
   {
    "duration": 33,
    "start_time": "2025-01-06T21:44:20.537Z"
   },
   {
    "duration": 24,
    "start_time": "2025-01-06T21:44:20.572Z"
   },
   {
    "duration": 13,
    "start_time": "2025-01-06T21:44:20.598Z"
   },
   {
    "duration": 4,
    "start_time": "2025-01-06T21:44:20.614Z"
   },
   {
    "duration": 3,
    "start_time": "2025-01-06T21:44:20.620Z"
   },
   {
    "duration": 4,
    "start_time": "2025-01-06T21:44:20.624Z"
   },
   {
    "duration": 53,
    "start_time": "2025-01-06T21:44:20.629Z"
   },
   {
    "duration": 7,
    "start_time": "2025-01-06T21:44:20.684Z"
   },
   {
    "duration": 594,
    "start_time": "2025-01-06T21:44:20.692Z"
   },
   {
    "duration": 7,
    "start_time": "2025-01-06T21:44:21.288Z"
   },
   {
    "duration": 3,
    "start_time": "2025-01-06T21:44:21.298Z"
   },
   {
    "duration": 3,
    "start_time": "2025-01-06T21:44:21.303Z"
   },
   {
    "duration": 10,
    "start_time": "2025-01-06T21:44:21.308Z"
   },
   {
    "duration": 51,
    "start_time": "2025-01-06T21:44:21.322Z"
   },
   {
    "duration": 11,
    "start_time": "2025-01-06T21:44:21.375Z"
   },
   {
    "duration": 3,
    "start_time": "2025-01-06T21:44:21.388Z"
   },
   {
    "duration": 4,
    "start_time": "2025-01-06T21:44:21.392Z"
   },
   {
    "duration": 4,
    "start_time": "2025-01-06T21:44:21.471Z"
   },
   {
    "duration": 4,
    "start_time": "2025-01-06T21:44:21.477Z"
   },
   {
    "duration": 4,
    "start_time": "2025-01-06T21:44:21.483Z"
   },
   {
    "duration": 5,
    "start_time": "2025-01-06T21:44:21.489Z"
   },
   {
    "duration": 3,
    "start_time": "2025-01-06T21:44:21.496Z"
   },
   {
    "duration": 80,
    "start_time": "2025-01-06T21:44:21.501Z"
   },
   {
    "duration": 4,
    "start_time": "2025-01-06T21:44:21.585Z"
   },
   {
    "duration": 9,
    "start_time": "2025-01-06T21:44:21.592Z"
   },
   {
    "duration": 9,
    "start_time": "2025-01-06T21:44:21.603Z"
   },
   {
    "duration": 229,
    "start_time": "2025-01-06T23:00:14.996Z"
   },
   {
    "duration": 4,
    "start_time": "2025-01-06T23:00:23.586Z"
   },
   {
    "duration": 2720,
    "start_time": "2025-01-07T02:54:08.191Z"
   },
   {
    "duration": 13,
    "start_time": "2025-01-07T02:54:10.913Z"
   },
   {
    "duration": 3,
    "start_time": "2025-01-07T02:54:10.927Z"
   },
   {
    "duration": 17,
    "start_time": "2025-01-07T02:54:10.932Z"
   },
   {
    "duration": 9,
    "start_time": "2025-01-07T02:54:10.951Z"
   },
   {
    "duration": 3,
    "start_time": "2025-01-07T02:54:10.961Z"
   },
   {
    "duration": 7,
    "start_time": "2025-01-07T02:54:10.966Z"
   },
   {
    "duration": 15,
    "start_time": "2025-01-07T02:54:10.975Z"
   },
   {
    "duration": 4,
    "start_time": "2025-01-07T02:54:10.992Z"
   },
   {
    "duration": 2569,
    "start_time": "2025-01-07T02:54:10.998Z"
   },
   {
    "duration": 5,
    "start_time": "2025-01-07T02:54:13.569Z"
   },
   {
    "duration": 3,
    "start_time": "2025-01-07T02:54:13.576Z"
   },
   {
    "duration": 7,
    "start_time": "2025-01-07T02:54:13.581Z"
   },
   {
    "duration": 7,
    "start_time": "2025-01-07T02:54:13.593Z"
   },
   {
    "duration": 24,
    "start_time": "2025-01-07T02:54:13.601Z"
   },
   {
    "duration": 37,
    "start_time": "2025-01-07T02:54:13.627Z"
   },
   {
    "duration": 13,
    "start_time": "2025-01-07T02:54:13.665Z"
   },
   {
    "duration": 4,
    "start_time": "2025-01-07T02:54:13.679Z"
   },
   {
    "duration": 3,
    "start_time": "2025-01-07T02:54:13.685Z"
   },
   {
    "duration": 4,
    "start_time": "2025-01-07T02:54:13.689Z"
   },
   {
    "duration": 48,
    "start_time": "2025-01-07T02:54:13.694Z"
   },
   {
    "duration": 7,
    "start_time": "2025-01-07T02:54:13.744Z"
   },
   {
    "duration": 563,
    "start_time": "2025-01-07T02:54:13.753Z"
   },
   {
    "duration": 7,
    "start_time": "2025-01-07T02:54:14.318Z"
   },
   {
    "duration": 18,
    "start_time": "2025-01-07T02:54:14.326Z"
   },
   {
    "duration": 3,
    "start_time": "2025-01-07T02:54:14.345Z"
   },
   {
    "duration": 9,
    "start_time": "2025-01-07T02:54:14.350Z"
   },
   {
    "duration": 7,
    "start_time": "2025-01-07T02:54:14.360Z"
   },
   {
    "duration": 3,
    "start_time": "2025-01-07T02:54:14.369Z"
   },
   {
    "duration": 3,
    "start_time": "2025-01-07T02:54:14.444Z"
   },
   {
    "duration": 7,
    "start_time": "2025-01-07T02:54:14.448Z"
   },
   {
    "duration": 3,
    "start_time": "2025-01-07T02:54:14.457Z"
   },
   {
    "duration": 4,
    "start_time": "2025-01-07T02:54:14.462Z"
   },
   {
    "duration": 77,
    "start_time": "2025-01-07T02:54:14.468Z"
   },
   {
    "duration": 5,
    "start_time": "2025-01-07T02:54:14.547Z"
   },
   {
    "duration": 3,
    "start_time": "2025-01-07T02:54:14.554Z"
   },
   {
    "duration": 3,
    "start_time": "2025-01-07T02:54:14.560Z"
   },
   {
    "duration": 78,
    "start_time": "2025-01-07T02:54:14.565Z"
   },
   {
    "duration": 6,
    "start_time": "2025-01-07T02:54:14.646Z"
   },
   {
    "duration": 421,
    "start_time": "2025-01-07T02:54:14.654Z"
   },
   {
    "duration": 519,
    "start_time": "2025-01-07T02:58:55.097Z"
   },
   {
    "duration": 9,
    "start_time": "2025-01-07T02:59:24.898Z"
   },
   {
    "duration": 16,
    "start_time": "2025-01-07T03:00:07.902Z"
   },
   {
    "duration": 15,
    "start_time": "2025-01-07T03:00:38.319Z"
   },
   {
    "duration": 14,
    "start_time": "2025-01-07T03:16:45.896Z"
   },
   {
    "duration": 7,
    "start_time": "2025-01-07T03:16:51.322Z"
   },
   {
    "duration": 8,
    "start_time": "2025-01-07T03:17:21.837Z"
   },
   {
    "duration": 6,
    "start_time": "2025-01-07T03:17:35.134Z"
   },
   {
    "duration": 2705,
    "start_time": "2025-01-07T13:28:24.312Z"
   },
   {
    "duration": 11,
    "start_time": "2025-01-07T13:28:27.020Z"
   },
   {
    "duration": 3,
    "start_time": "2025-01-07T13:28:27.032Z"
   },
   {
    "duration": 10,
    "start_time": "2025-01-07T13:28:27.039Z"
   },
   {
    "duration": 9,
    "start_time": "2025-01-07T13:28:27.051Z"
   },
   {
    "duration": 4,
    "start_time": "2025-01-07T13:28:27.061Z"
   },
   {
    "duration": 9,
    "start_time": "2025-01-07T13:28:27.066Z"
   },
   {
    "duration": 16,
    "start_time": "2025-01-07T13:28:27.077Z"
   },
   {
    "duration": 39,
    "start_time": "2025-01-07T13:28:27.095Z"
   },
   {
    "duration": 2569,
    "start_time": "2025-01-07T13:28:27.138Z"
   },
   {
    "duration": 2,
    "start_time": "2025-01-07T13:28:29.709Z"
   },
   {
    "duration": 4,
    "start_time": "2025-01-07T13:28:29.713Z"
   },
   {
    "duration": 9,
    "start_time": "2025-01-07T13:28:29.719Z"
   },
   {
    "duration": 95,
    "start_time": "2025-01-07T13:28:29.729Z"
   },
   {
    "duration": 26,
    "start_time": "2025-01-07T13:28:29.832Z"
   },
   {
    "duration": 25,
    "start_time": "2025-01-07T13:28:29.860Z"
   },
   {
    "duration": 13,
    "start_time": "2025-01-07T13:28:29.886Z"
   },
   {
    "duration": 32,
    "start_time": "2025-01-07T13:28:29.901Z"
   },
   {
    "duration": 3,
    "start_time": "2025-01-07T13:28:29.935Z"
   },
   {
    "duration": 3,
    "start_time": "2025-01-07T13:28:29.940Z"
   },
   {
    "duration": 19,
    "start_time": "2025-01-07T13:28:29.944Z"
   },
   {
    "duration": 8,
    "start_time": "2025-01-07T13:28:29.964Z"
   },
   {
    "duration": 584,
    "start_time": "2025-01-07T13:28:29.973Z"
   },
   {
    "duration": 8,
    "start_time": "2025-01-07T13:28:30.559Z"
   },
   {
    "duration": 3,
    "start_time": "2025-01-07T13:28:30.569Z"
   },
   {
    "duration": 3,
    "start_time": "2025-01-07T13:28:30.574Z"
   },
   {
    "duration": 53,
    "start_time": "2025-01-07T13:28:30.579Z"
   },
   {
    "duration": 7,
    "start_time": "2025-01-07T13:28:30.637Z"
   },
   {
    "duration": 4,
    "start_time": "2025-01-07T13:28:30.646Z"
   },
   {
    "duration": 3,
    "start_time": "2025-01-07T13:28:30.651Z"
   },
   {
    "duration": 80,
    "start_time": "2025-01-07T13:28:30.655Z"
   },
   {
    "duration": 5,
    "start_time": "2025-01-07T13:28:30.738Z"
   },
   {
    "duration": 4,
    "start_time": "2025-01-07T13:28:30.745Z"
   },
   {
    "duration": 4,
    "start_time": "2025-01-07T13:28:30.751Z"
   },
   {
    "duration": 78,
    "start_time": "2025-01-07T13:28:30.758Z"
   },
   {
    "duration": 5,
    "start_time": "2025-01-07T13:28:30.838Z"
   },
   {
    "duration": 3,
    "start_time": "2025-01-07T13:28:30.845Z"
   },
   {
    "duration": 84,
    "start_time": "2025-01-07T13:28:30.849Z"
   },
   {
    "duration": 6,
    "start_time": "2025-01-07T13:28:30.935Z"
   },
   {
    "duration": 5,
    "start_time": "2025-01-07T13:28:30.943Z"
   },
   {
    "duration": 991,
    "start_time": "2025-01-07T13:49:27.110Z"
   },
   {
    "duration": 8,
    "start_time": "2025-01-07T13:49:28.104Z"
   },
   {
    "duration": 3,
    "start_time": "2025-01-07T13:49:28.113Z"
   },
   {
    "duration": 24,
    "start_time": "2025-01-07T13:49:28.118Z"
   },
   {
    "duration": 11,
    "start_time": "2025-01-07T13:49:28.143Z"
   },
   {
    "duration": 4,
    "start_time": "2025-01-07T13:49:28.155Z"
   },
   {
    "duration": 8,
    "start_time": "2025-01-07T13:49:28.160Z"
   },
   {
    "duration": 17,
    "start_time": "2025-01-07T13:49:28.170Z"
   },
   {
    "duration": 4,
    "start_time": "2025-01-07T13:49:28.188Z"
   },
   {
    "duration": 2491,
    "start_time": "2025-01-07T13:49:28.232Z"
   },
   {
    "duration": 3,
    "start_time": "2025-01-07T13:49:30.725Z"
   },
   {
    "duration": 5,
    "start_time": "2025-01-07T13:49:30.729Z"
   },
   {
    "duration": 8,
    "start_time": "2025-01-07T13:49:30.735Z"
   },
   {
    "duration": 7,
    "start_time": "2025-01-07T13:49:30.745Z"
   },
   {
    "duration": 26,
    "start_time": "2025-01-07T13:49:30.754Z"
   },
   {
    "duration": 24,
    "start_time": "2025-01-07T13:49:30.781Z"
   },
   {
    "duration": 7,
    "start_time": "2025-01-07T13:49:30.830Z"
   },
   {
    "duration": 0,
    "start_time": "2025-01-07T13:49:30.840Z"
   },
   {
    "duration": 0,
    "start_time": "2025-01-07T13:49:30.841Z"
   },
   {
    "duration": 0,
    "start_time": "2025-01-07T13:49:30.842Z"
   },
   {
    "duration": 0,
    "start_time": "2025-01-07T13:49:30.844Z"
   },
   {
    "duration": 0,
    "start_time": "2025-01-07T13:49:30.845Z"
   },
   {
    "duration": 0,
    "start_time": "2025-01-07T13:49:30.846Z"
   },
   {
    "duration": 0,
    "start_time": "2025-01-07T13:49:30.847Z"
   },
   {
    "duration": 0,
    "start_time": "2025-01-07T13:49:30.848Z"
   },
   {
    "duration": 0,
    "start_time": "2025-01-07T13:49:30.848Z"
   },
   {
    "duration": 0,
    "start_time": "2025-01-07T13:49:30.850Z"
   },
   {
    "duration": 0,
    "start_time": "2025-01-07T13:49:30.851Z"
   },
   {
    "duration": 0,
    "start_time": "2025-01-07T13:49:30.852Z"
   },
   {
    "duration": 0,
    "start_time": "2025-01-07T13:49:30.852Z"
   },
   {
    "duration": 0,
    "start_time": "2025-01-07T13:49:30.853Z"
   },
   {
    "duration": 0,
    "start_time": "2025-01-07T13:49:30.855Z"
   },
   {
    "duration": 0,
    "start_time": "2025-01-07T13:49:30.856Z"
   },
   {
    "duration": 0,
    "start_time": "2025-01-07T13:49:30.856Z"
   },
   {
    "duration": 0,
    "start_time": "2025-01-07T13:49:30.857Z"
   },
   {
    "duration": 0,
    "start_time": "2025-01-07T13:49:30.859Z"
   },
   {
    "duration": 0,
    "start_time": "2025-01-07T13:49:30.860Z"
   },
   {
    "duration": 0,
    "start_time": "2025-01-07T13:49:30.862Z"
   },
   {
    "duration": 0,
    "start_time": "2025-01-07T13:49:30.863Z"
   },
   {
    "duration": 0,
    "start_time": "2025-01-07T13:49:30.864Z"
   },
   {
    "duration": 0,
    "start_time": "2025-01-07T13:49:30.866Z"
   },
   {
    "duration": 4,
    "start_time": "2025-01-07T13:50:06.868Z"
   },
   {
    "duration": 4,
    "start_time": "2025-01-07T13:50:20.922Z"
   },
   {
    "duration": 1004,
    "start_time": "2025-01-07T13:50:29.019Z"
   },
   {
    "duration": 12,
    "start_time": "2025-01-07T13:50:30.026Z"
   },
   {
    "duration": 4,
    "start_time": "2025-01-07T13:50:30.040Z"
   },
   {
    "duration": 22,
    "start_time": "2025-01-07T13:50:30.047Z"
   },
   {
    "duration": 8,
    "start_time": "2025-01-07T13:50:30.071Z"
   },
   {
    "duration": 3,
    "start_time": "2025-01-07T13:50:30.081Z"
   },
   {
    "duration": 8,
    "start_time": "2025-01-07T13:50:30.085Z"
   },
   {
    "duration": 49,
    "start_time": "2025-01-07T13:50:30.094Z"
   },
   {
    "duration": 4,
    "start_time": "2025-01-07T13:50:30.146Z"
   },
   {
    "duration": 2540,
    "start_time": "2025-01-07T13:50:30.154Z"
   },
   {
    "duration": 3,
    "start_time": "2025-01-07T13:50:32.696Z"
   },
   {
    "duration": 6,
    "start_time": "2025-01-07T13:50:32.701Z"
   },
   {
    "duration": 8,
    "start_time": "2025-01-07T13:50:32.709Z"
   },
   {
    "duration": 17,
    "start_time": "2025-01-07T13:50:32.719Z"
   },
   {
    "duration": 27,
    "start_time": "2025-01-07T13:50:32.737Z"
   },
   {
    "duration": 27,
    "start_time": "2025-01-07T13:50:32.766Z"
   },
   {
    "duration": 4,
    "start_time": "2025-01-07T13:50:32.795Z"
   },
   {
    "duration": 37,
    "start_time": "2025-01-07T13:50:32.801Z"
   },
   {
    "duration": 4,
    "start_time": "2025-01-07T13:50:32.840Z"
   },
   {
    "duration": 3,
    "start_time": "2025-01-07T13:50:32.846Z"
   },
   {
    "duration": 3,
    "start_time": "2025-01-07T13:50:32.851Z"
   },
   {
    "duration": 19,
    "start_time": "2025-01-07T13:50:32.856Z"
   },
   {
    "duration": 7,
    "start_time": "2025-01-07T13:50:32.877Z"
   },
   {
    "duration": 631,
    "start_time": "2025-01-07T13:50:32.932Z"
   },
   {
    "duration": 8,
    "start_time": "2025-01-07T13:50:33.565Z"
   },
   {
    "duration": 4,
    "start_time": "2025-01-07T13:50:33.575Z"
   },
   {
    "duration": 4,
    "start_time": "2025-01-07T13:50:33.581Z"
   },
   {
    "duration": 44,
    "start_time": "2025-01-07T13:50:33.590Z"
   },
   {
    "duration": 13,
    "start_time": "2025-01-07T13:50:33.635Z"
   },
   {
    "duration": 78,
    "start_time": "2025-01-07T13:50:33.653Z"
   },
   {
    "duration": 3,
    "start_time": "2025-01-07T13:50:33.733Z"
   },
   {
    "duration": 4,
    "start_time": "2025-01-07T13:50:33.737Z"
   },
   {
    "duration": 3,
    "start_time": "2025-01-07T13:50:33.742Z"
   },
   {
    "duration": 5,
    "start_time": "2025-01-07T13:50:33.747Z"
   },
   {
    "duration": 5,
    "start_time": "2025-01-07T13:50:33.753Z"
   },
   {
    "duration": 6,
    "start_time": "2025-01-07T13:50:33.831Z"
   },
   {
    "duration": 10,
    "start_time": "2025-01-07T13:50:33.838Z"
   },
   {
    "duration": 3,
    "start_time": "2025-01-07T13:50:33.850Z"
   },
   {
    "duration": 83,
    "start_time": "2025-01-07T13:50:33.855Z"
   },
   {
    "duration": 8,
    "start_time": "2025-01-07T13:50:33.940Z"
   },
   {
    "duration": 5,
    "start_time": "2025-01-07T13:50:33.950Z"
   },
   {
    "duration": 231,
    "start_time": "2025-01-07T13:51:52.536Z"
   },
   {
    "duration": 26,
    "start_time": "2025-01-07T14:01:54.049Z"
   },
   {
    "duration": 4,
    "start_time": "2025-01-07T14:06:50.066Z"
   },
   {
    "duration": 22,
    "start_time": "2025-01-07T14:09:24.936Z"
   },
   {
    "duration": 4,
    "start_time": "2025-01-07T14:10:18.663Z"
   },
   {
    "duration": 4,
    "start_time": "2025-01-07T14:11:17.513Z"
   },
   {
    "duration": 35,
    "start_time": "2025-01-07T14:11:29.263Z"
   },
   {
    "duration": 5,
    "start_time": "2025-01-07T14:14:17.022Z"
   },
   {
    "duration": 42,
    "start_time": "2025-01-07T14:15:09.707Z"
   },
   {
    "duration": 5,
    "start_time": "2025-01-07T14:15:48.240Z"
   },
   {
    "duration": 0,
    "start_time": "2025-01-07T14:16:22.831Z"
   },
   {
    "duration": 23938,
    "start_time": "2025-01-07T14:16:38.380Z"
   },
   {
    "duration": 23914,
    "start_time": "2025-01-07T14:20:26.252Z"
   },
   {
    "duration": 4,
    "start_time": "2025-01-07T14:42:52.786Z"
   },
   {
    "duration": 23828,
    "start_time": "2025-01-07T14:43:01.509Z"
   },
   {
    "duration": 23941,
    "start_time": "2025-01-07T14:43:55.480Z"
   },
   {
    "duration": 5,
    "start_time": "2025-01-07T14:45:49.675Z"
   },
   {
    "duration": 474954,
    "start_time": "2025-01-07T14:46:01.252Z"
   },
   {
    "duration": 993,
    "start_time": "2025-01-07T15:01:10.385Z"
   },
   {
    "duration": 9,
    "start_time": "2025-01-07T15:01:11.380Z"
   },
   {
    "duration": 3,
    "start_time": "2025-01-07T15:01:11.390Z"
   },
   {
    "duration": 11,
    "start_time": "2025-01-07T15:01:11.396Z"
   },
   {
    "duration": 31,
    "start_time": "2025-01-07T15:01:11.409Z"
   },
   {
    "duration": 4,
    "start_time": "2025-01-07T15:01:11.441Z"
   },
   {
    "duration": 9,
    "start_time": "2025-01-07T15:01:11.447Z"
   },
   {
    "duration": 17,
    "start_time": "2025-01-07T15:01:11.457Z"
   },
   {
    "duration": 5,
    "start_time": "2025-01-07T15:01:11.475Z"
   },
   {
    "duration": 2605,
    "start_time": "2025-01-07T15:01:11.483Z"
   },
   {
    "duration": 2,
    "start_time": "2025-01-07T15:01:14.090Z"
   },
   {
    "duration": 4,
    "start_time": "2025-01-07T15:01:14.094Z"
   },
   {
    "duration": 9,
    "start_time": "2025-01-07T15:01:14.100Z"
   },
   {
    "duration": 21,
    "start_time": "2025-01-07T15:01:14.111Z"
   },
   {
    "duration": 25,
    "start_time": "2025-01-07T15:01:14.133Z"
   },
   {
    "duration": 25,
    "start_time": "2025-01-07T15:01:14.160Z"
   },
   {
    "duration": 15,
    "start_time": "2025-01-07T15:01:14.187Z"
   },
   {
    "duration": 5,
    "start_time": "2025-01-07T15:01:14.231Z"
   },
   {
    "duration": 3,
    "start_time": "2025-01-07T15:01:14.238Z"
   },
   {
    "duration": 4,
    "start_time": "2025-01-07T15:01:14.243Z"
   },
   {
    "duration": 19,
    "start_time": "2025-01-07T15:01:14.248Z"
   },
   {
    "duration": 9,
    "start_time": "2025-01-07T15:01:14.269Z"
   },
   {
    "duration": 599,
    "start_time": "2025-01-07T15:01:14.279Z"
   },
   {
    "duration": 9,
    "start_time": "2025-01-07T15:01:14.881Z"
   },
   {
    "duration": 4,
    "start_time": "2025-01-07T15:01:14.892Z"
   },
   {
    "duration": 4,
    "start_time": "2025-01-07T15:01:14.897Z"
   },
   {
    "duration": 33,
    "start_time": "2025-01-07T15:01:14.903Z"
   },
   {
    "duration": 11,
    "start_time": "2025-01-07T15:01:14.941Z"
   },
   {
    "duration": 78,
    "start_time": "2025-01-07T15:01:14.954Z"
   },
   {
    "duration": 6,
    "start_time": "2025-01-07T15:01:15.036Z"
   },
   {
    "duration": 4,
    "start_time": "2025-01-07T15:01:15.044Z"
   },
   {
    "duration": 3,
    "start_time": "2025-01-07T15:01:15.051Z"
   },
   {
    "duration": 4,
    "start_time": "2025-01-07T15:01:15.056Z"
   },
   {
    "duration": 11,
    "start_time": "2025-01-07T15:01:15.131Z"
   },
   {
    "duration": 5,
    "start_time": "2025-01-07T15:01:15.143Z"
   },
   {
    "duration": 80,
    "start_time": "2025-01-07T15:01:15.150Z"
   },
   {
    "duration": 2,
    "start_time": "2025-01-07T15:01:15.235Z"
   },
   {
    "duration": 10,
    "start_time": "2025-01-07T15:01:15.239Z"
   },
   {
    "duration": 7,
    "start_time": "2025-01-07T15:01:15.250Z"
   },
   {
    "duration": 6,
    "start_time": "2025-01-07T15:01:15.258Z"
   },
   {
    "duration": 2745,
    "start_time": "2025-01-07T16:47:02.291Z"
   },
   {
    "duration": 13,
    "start_time": "2025-01-07T16:47:05.039Z"
   },
   {
    "duration": 3,
    "start_time": "2025-01-07T16:47:05.054Z"
   },
   {
    "duration": 11,
    "start_time": "2025-01-07T16:47:05.059Z"
   },
   {
    "duration": 8,
    "start_time": "2025-01-07T16:47:05.071Z"
   },
   {
    "duration": 3,
    "start_time": "2025-01-07T16:47:05.081Z"
   },
   {
    "duration": 7,
    "start_time": "2025-01-07T16:47:05.086Z"
   },
   {
    "duration": 46,
    "start_time": "2025-01-07T16:47:05.095Z"
   },
   {
    "duration": 4,
    "start_time": "2025-01-07T16:47:05.143Z"
   },
   {
    "duration": 2594,
    "start_time": "2025-01-07T16:47:05.151Z"
   },
   {
    "duration": 2,
    "start_time": "2025-01-07T16:47:07.747Z"
   },
   {
    "duration": 5,
    "start_time": "2025-01-07T16:47:07.751Z"
   },
   {
    "duration": 8,
    "start_time": "2025-01-07T16:47:07.758Z"
   },
   {
    "duration": 99,
    "start_time": "2025-01-07T16:47:07.768Z"
   },
   {
    "duration": 26,
    "start_time": "2025-01-07T16:47:07.869Z"
   },
   {
    "duration": 40,
    "start_time": "2025-01-07T16:47:07.898Z"
   },
   {
    "duration": 14,
    "start_time": "2025-01-07T16:47:07.943Z"
   },
   {
    "duration": 4,
    "start_time": "2025-01-07T16:47:07.958Z"
   },
   {
    "duration": 3,
    "start_time": "2025-01-07T16:47:07.964Z"
   },
   {
    "duration": 4,
    "start_time": "2025-01-07T16:47:07.968Z"
   },
   {
    "duration": 20,
    "start_time": "2025-01-07T16:47:07.973Z"
   },
   {
    "duration": 36,
    "start_time": "2025-01-07T16:47:07.995Z"
   },
   {
    "duration": 639,
    "start_time": "2025-01-07T16:47:08.033Z"
   },
   {
    "duration": 8,
    "start_time": "2025-01-07T16:47:08.675Z"
   },
   {
    "duration": 5,
    "start_time": "2025-01-07T16:47:08.685Z"
   },
   {
    "duration": 3,
    "start_time": "2025-01-07T16:47:08.691Z"
   },
   {
    "duration": 38,
    "start_time": "2025-01-07T16:47:08.696Z"
   },
   {
    "duration": 10,
    "start_time": "2025-01-07T16:47:08.738Z"
   },
   {
    "duration": 3,
    "start_time": "2025-01-07T16:47:08.750Z"
   },
   {
    "duration": 78,
    "start_time": "2025-01-07T16:47:08.755Z"
   },
   {
    "duration": 4,
    "start_time": "2025-01-07T16:47:08.835Z"
   },
   {
    "duration": 6,
    "start_time": "2025-01-07T16:47:08.841Z"
   },
   {
    "duration": 4,
    "start_time": "2025-01-07T16:47:08.849Z"
   },
   {
    "duration": 5,
    "start_time": "2025-01-07T16:47:08.854Z"
   },
   {
    "duration": 6,
    "start_time": "2025-01-07T16:47:08.931Z"
   },
   {
    "duration": 5,
    "start_time": "2025-01-07T16:47:08.939Z"
   },
   {
    "duration": 3,
    "start_time": "2025-01-07T16:47:08.946Z"
   },
   {
    "duration": 83,
    "start_time": "2025-01-07T16:47:08.951Z"
   },
   {
    "duration": 8,
    "start_time": "2025-01-07T16:47:09.036Z"
   },
   {
    "duration": 6,
    "start_time": "2025-01-07T16:47:09.046Z"
   },
   {
    "duration": 999,
    "start_time": "2025-01-07T17:10:28.355Z"
   },
   {
    "duration": 8,
    "start_time": "2025-01-07T17:10:29.356Z"
   },
   {
    "duration": 3,
    "start_time": "2025-01-07T17:10:29.366Z"
   },
   {
    "duration": 9,
    "start_time": "2025-01-07T17:10:29.371Z"
   },
   {
    "duration": 8,
    "start_time": "2025-01-07T17:10:29.382Z"
   },
   {
    "duration": 4,
    "start_time": "2025-01-07T17:10:29.391Z"
   },
   {
    "duration": 8,
    "start_time": "2025-01-07T17:10:29.396Z"
   },
   {
    "duration": 16,
    "start_time": "2025-01-07T17:10:29.432Z"
   },
   {
    "duration": 5,
    "start_time": "2025-01-07T17:10:29.450Z"
   },
   {
    "duration": 2673,
    "start_time": "2025-01-07T17:10:29.458Z"
   },
   {
    "duration": 3,
    "start_time": "2025-01-07T17:10:32.134Z"
   },
   {
    "duration": 5,
    "start_time": "2025-01-07T17:10:32.139Z"
   },
   {
    "duration": 13,
    "start_time": "2025-01-07T17:10:32.145Z"
   },
   {
    "duration": 7,
    "start_time": "2025-01-07T17:10:32.160Z"
   },
   {
    "duration": 26,
    "start_time": "2025-01-07T17:10:32.169Z"
   },
   {
    "duration": 49,
    "start_time": "2025-01-07T17:10:32.197Z"
   },
   {
    "duration": 13,
    "start_time": "2025-01-07T17:10:32.248Z"
   },
   {
    "duration": 4,
    "start_time": "2025-01-07T17:10:32.263Z"
   },
   {
    "duration": 2,
    "start_time": "2025-01-07T17:10:32.269Z"
   },
   {
    "duration": 3,
    "start_time": "2025-01-07T17:10:32.273Z"
   },
   {
    "duration": 18,
    "start_time": "2025-01-07T17:10:32.278Z"
   },
   {
    "duration": 38,
    "start_time": "2025-01-07T17:10:32.298Z"
   },
   {
    "duration": 566,
    "start_time": "2025-01-07T17:10:32.338Z"
   },
   {
    "duration": 9,
    "start_time": "2025-01-07T17:10:32.905Z"
   },
   {
    "duration": 15,
    "start_time": "2025-01-07T17:10:32.916Z"
   },
   {
    "duration": 4,
    "start_time": "2025-01-07T17:10:32.933Z"
   },
   {
    "duration": 7,
    "start_time": "2025-01-07T17:10:32.938Z"
   },
   {
    "duration": 6,
    "start_time": "2025-01-07T17:10:32.949Z"
   },
   {
    "duration": 3,
    "start_time": "2025-01-07T17:10:32.957Z"
   },
   {
    "duration": 3,
    "start_time": "2025-01-07T17:10:33.031Z"
   },
   {
    "duration": 4,
    "start_time": "2025-01-07T17:10:33.035Z"
   },
   {
    "duration": 3,
    "start_time": "2025-01-07T17:10:33.041Z"
   },
   {
    "duration": 4,
    "start_time": "2025-01-07T17:10:33.045Z"
   },
   {
    "duration": 84,
    "start_time": "2025-01-07T17:10:33.051Z"
   },
   {
    "duration": 7,
    "start_time": "2025-01-07T17:10:33.139Z"
   },
   {
    "duration": 3,
    "start_time": "2025-01-07T17:10:33.148Z"
   },
   {
    "duration": 4,
    "start_time": "2025-01-07T17:10:33.153Z"
   },
   {
    "duration": 79,
    "start_time": "2025-01-07T17:10:33.158Z"
   },
   {
    "duration": 7,
    "start_time": "2025-01-07T17:10:33.239Z"
   },
   {
    "duration": 7,
    "start_time": "2025-01-07T17:10:33.249Z"
   },
   {
    "duration": 2661,
    "start_time": "2025-01-09T14:19:26.053Z"
   },
   {
    "duration": 13,
    "start_time": "2025-01-09T14:19:28.716Z"
   },
   {
    "duration": 4,
    "start_time": "2025-01-09T14:19:28.730Z"
   },
   {
    "duration": 10,
    "start_time": "2025-01-09T14:19:28.735Z"
   },
   {
    "duration": 9,
    "start_time": "2025-01-09T14:19:28.746Z"
   },
   {
    "duration": 3,
    "start_time": "2025-01-09T14:19:28.757Z"
   },
   {
    "duration": 31,
    "start_time": "2025-01-09T14:19:28.762Z"
   },
   {
    "duration": 16,
    "start_time": "2025-01-09T14:19:28.795Z"
   },
   {
    "duration": 5,
    "start_time": "2025-01-09T14:19:28.812Z"
   },
   {
    "duration": 2510,
    "start_time": "2025-01-09T14:19:28.821Z"
   },
   {
    "duration": 3,
    "start_time": "2025-01-09T14:19:31.334Z"
   },
   {
    "duration": 4,
    "start_time": "2025-01-09T14:19:31.339Z"
   },
   {
    "duration": 8,
    "start_time": "2025-01-09T14:19:31.346Z"
   },
   {
    "duration": 7,
    "start_time": "2025-01-09T14:19:31.356Z"
   },
   {
    "duration": 113,
    "start_time": "2025-01-09T14:19:31.365Z"
   },
   {
    "duration": 30,
    "start_time": "2025-01-09T14:19:31.480Z"
   },
   {
    "duration": 14,
    "start_time": "2025-01-09T14:19:31.511Z"
   },
   {
    "duration": 5,
    "start_time": "2025-01-09T14:19:31.526Z"
   },
   {
    "duration": 3,
    "start_time": "2025-01-09T14:19:31.533Z"
   },
   {
    "duration": 4,
    "start_time": "2025-01-09T14:19:31.537Z"
   },
   {
    "duration": 51,
    "start_time": "2025-01-09T14:19:31.543Z"
   },
   {
    "duration": 8,
    "start_time": "2025-01-09T14:19:31.595Z"
   },
   {
    "duration": 565,
    "start_time": "2025-01-09T14:19:31.605Z"
   },
   {
    "duration": 18,
    "start_time": "2025-01-09T14:19:32.172Z"
   },
   {
    "duration": 4,
    "start_time": "2025-01-09T14:19:32.191Z"
   },
   {
    "duration": 3,
    "start_time": "2025-01-09T14:19:32.197Z"
   },
   {
    "duration": 9,
    "start_time": "2025-01-09T14:19:32.202Z"
   },
   {
    "duration": 9,
    "start_time": "2025-01-09T14:19:32.214Z"
   },
   {
    "duration": 3,
    "start_time": "2025-01-09T14:19:32.287Z"
   },
   {
    "duration": 5,
    "start_time": "2025-01-09T14:19:32.292Z"
   },
   {
    "duration": 3,
    "start_time": "2025-01-09T14:19:32.302Z"
   },
   {
    "duration": 77,
    "start_time": "2025-01-09T14:19:32.309Z"
   },
   {
    "duration": 5,
    "start_time": "2025-01-09T14:19:32.388Z"
   },
   {
    "duration": 4,
    "start_time": "2025-01-09T14:19:32.394Z"
   },
   {
    "duration": 5,
    "start_time": "2025-01-09T14:19:32.400Z"
   },
   {
    "duration": 4,
    "start_time": "2025-01-09T14:19:32.406Z"
   },
   {
    "duration": 3,
    "start_time": "2025-01-09T14:19:32.411Z"
   },
   {
    "duration": 79,
    "start_time": "2025-01-09T14:19:32.416Z"
   },
   {
    "duration": 6,
    "start_time": "2025-01-09T14:19:32.498Z"
   },
   {
    "duration": 7,
    "start_time": "2025-01-09T14:19:32.505Z"
   },
   {
    "duration": 2749,
    "start_time": "2025-01-09T16:47:43.175Z"
   },
   {
    "duration": 150,
    "start_time": "2025-01-09T16:48:07.022Z"
   },
   {
    "duration": 28,
    "start_time": "2025-01-09T17:06:36.321Z"
   },
   {
    "duration": 1013,
    "start_time": "2025-01-09T17:06:44.838Z"
   },
   {
    "duration": 9,
    "start_time": "2025-01-09T17:06:45.853Z"
   },
   {
    "duration": 3,
    "start_time": "2025-01-09T17:06:45.864Z"
   },
   {
    "duration": 11,
    "start_time": "2025-01-09T17:06:45.870Z"
   },
   {
    "duration": 8,
    "start_time": "2025-01-09T17:06:45.883Z"
   },
   {
    "duration": 4,
    "start_time": "2025-01-09T17:06:45.911Z"
   },
   {
    "duration": 8,
    "start_time": "2025-01-09T17:06:45.916Z"
   },
   {
    "duration": 16,
    "start_time": "2025-01-09T17:06:45.925Z"
   },
   {
    "duration": 5,
    "start_time": "2025-01-09T17:06:45.942Z"
   },
   {
    "duration": 2598,
    "start_time": "2025-01-09T17:06:45.950Z"
   },
   {
    "duration": 660,
    "start_time": "2025-01-09T17:06:48.550Z"
   },
   {
    "duration": 0,
    "start_time": "2025-01-09T17:06:49.212Z"
   },
   {
    "duration": 0,
    "start_time": "2025-01-09T17:06:49.213Z"
   },
   {
    "duration": 0,
    "start_time": "2025-01-09T17:06:49.214Z"
   },
   {
    "duration": 0,
    "start_time": "2025-01-09T17:06:49.216Z"
   },
   {
    "duration": 0,
    "start_time": "2025-01-09T17:06:49.217Z"
   },
   {
    "duration": 0,
    "start_time": "2025-01-09T17:06:49.218Z"
   },
   {
    "duration": 0,
    "start_time": "2025-01-09T17:06:49.218Z"
   },
   {
    "duration": 0,
    "start_time": "2025-01-09T17:06:49.219Z"
   },
   {
    "duration": 0,
    "start_time": "2025-01-09T17:06:49.220Z"
   },
   {
    "duration": 0,
    "start_time": "2025-01-09T17:06:49.221Z"
   },
   {
    "duration": 0,
    "start_time": "2025-01-09T17:06:49.222Z"
   },
   {
    "duration": 0,
    "start_time": "2025-01-09T17:06:49.223Z"
   },
   {
    "duration": 0,
    "start_time": "2025-01-09T17:06:49.225Z"
   },
   {
    "duration": 0,
    "start_time": "2025-01-09T17:06:49.226Z"
   },
   {
    "duration": 0,
    "start_time": "2025-01-09T17:06:49.227Z"
   },
   {
    "duration": 0,
    "start_time": "2025-01-09T17:06:49.228Z"
   },
   {
    "duration": 0,
    "start_time": "2025-01-09T17:06:49.229Z"
   },
   {
    "duration": 0,
    "start_time": "2025-01-09T17:06:49.230Z"
   },
   {
    "duration": 0,
    "start_time": "2025-01-09T17:06:49.231Z"
   },
   {
    "duration": 0,
    "start_time": "2025-01-09T17:06:49.235Z"
   },
   {
    "duration": 0,
    "start_time": "2025-01-09T17:06:49.237Z"
   },
   {
    "duration": 0,
    "start_time": "2025-01-09T17:06:49.238Z"
   },
   {
    "duration": 0,
    "start_time": "2025-01-09T17:06:49.240Z"
   },
   {
    "duration": 0,
    "start_time": "2025-01-09T17:06:49.241Z"
   },
   {
    "duration": 0,
    "start_time": "2025-01-09T17:06:49.242Z"
   },
   {
    "duration": 0,
    "start_time": "2025-01-09T17:06:49.243Z"
   },
   {
    "duration": 0,
    "start_time": "2025-01-09T17:06:49.244Z"
   },
   {
    "duration": 0,
    "start_time": "2025-01-09T17:06:49.246Z"
   },
   {
    "duration": 0,
    "start_time": "2025-01-09T17:06:49.247Z"
   },
   {
    "duration": 0,
    "start_time": "2025-01-09T17:06:49.249Z"
   },
   {
    "duration": 15,
    "start_time": "2025-01-09T17:07:09.935Z"
   },
   {
    "duration": 99,
    "start_time": "2025-01-09T17:07:43.400Z"
   },
   {
    "duration": 225,
    "start_time": "2025-01-09T17:11:11.470Z"
   },
   {
    "duration": 204,
    "start_time": "2025-01-09T17:11:22.430Z"
   },
   {
    "duration": 238,
    "start_time": "2025-01-09T17:11:50.693Z"
   },
   {
    "duration": 226,
    "start_time": "2025-01-09T17:12:05.025Z"
   },
   {
    "duration": 246,
    "start_time": "2025-01-09T17:12:14.551Z"
   },
   {
    "duration": 174,
    "start_time": "2025-01-09T17:13:42.924Z"
   },
   {
    "duration": 12089,
    "start_time": "2025-01-09T17:13:48.860Z"
   },
   {
    "duration": 2681,
    "start_time": "2025-01-09T19:20:11.802Z"
   },
   {
    "duration": 11,
    "start_time": "2025-01-09T19:20:14.486Z"
   },
   {
    "duration": 3,
    "start_time": "2025-01-09T19:20:14.499Z"
   },
   {
    "duration": 21,
    "start_time": "2025-01-09T19:20:14.504Z"
   },
   {
    "duration": 9,
    "start_time": "2025-01-09T19:20:14.527Z"
   },
   {
    "duration": 4,
    "start_time": "2025-01-09T19:20:14.537Z"
   },
   {
    "duration": 8,
    "start_time": "2025-01-09T19:20:14.542Z"
   },
   {
    "duration": 15,
    "start_time": "2025-01-09T19:20:14.552Z"
   },
   {
    "duration": 4,
    "start_time": "2025-01-09T19:20:14.569Z"
   },
   {
    "duration": 2535,
    "start_time": "2025-01-09T19:20:14.577Z"
   },
   {
    "duration": 302,
    "start_time": "2025-01-09T19:20:17.114Z"
   },
   {
    "duration": 2,
    "start_time": "2025-01-09T19:20:29.490Z"
   },
   {
    "duration": 4,
    "start_time": "2025-01-09T19:20:29.494Z"
   },
   {
    "duration": 24,
    "start_time": "2025-01-09T19:20:29.500Z"
   },
   {
    "duration": 9,
    "start_time": "2025-01-09T19:20:29.525Z"
   },
   {
    "duration": 25,
    "start_time": "2025-01-09T19:20:29.535Z"
   },
   {
    "duration": 25,
    "start_time": "2025-01-09T19:20:29.561Z"
   },
   {
    "duration": 36,
    "start_time": "2025-01-09T19:20:29.588Z"
   },
   {
    "duration": 4,
    "start_time": "2025-01-09T19:20:29.626Z"
   },
   {
    "duration": 3,
    "start_time": "2025-01-09T19:20:29.632Z"
   },
   {
    "duration": 3,
    "start_time": "2025-01-09T19:20:29.637Z"
   },
   {
    "duration": 19,
    "start_time": "2025-01-09T19:20:29.641Z"
   },
   {
    "duration": 7,
    "start_time": "2025-01-09T19:20:29.662Z"
   },
   {
    "duration": 578,
    "start_time": "2025-01-09T19:20:29.671Z"
   },
   {
    "duration": 10,
    "start_time": "2025-01-09T19:20:30.250Z"
   },
   {
    "duration": 4,
    "start_time": "2025-01-09T19:20:30.262Z"
   },
   {
    "duration": 3,
    "start_time": "2025-01-09T19:20:30.270Z"
   },
   {
    "duration": 52,
    "start_time": "2025-01-09T19:20:30.274Z"
   },
   {
    "duration": 9,
    "start_time": "2025-01-09T19:20:30.327Z"
   },
   {
    "duration": 5,
    "start_time": "2025-01-09T19:20:30.337Z"
   },
   {
    "duration": 3,
    "start_time": "2025-01-09T19:20:30.343Z"
   },
   {
    "duration": 78,
    "start_time": "2025-01-09T19:20:30.348Z"
   },
   {
    "duration": 3,
    "start_time": "2025-01-09T19:20:30.428Z"
   },
   {
    "duration": 4,
    "start_time": "2025-01-09T19:20:30.433Z"
   },
   {
    "duration": 5,
    "start_time": "2025-01-09T19:20:30.439Z"
   },
   {
    "duration": 78,
    "start_time": "2025-01-09T19:20:30.446Z"
   },
   {
    "duration": 4,
    "start_time": "2025-01-09T19:20:30.526Z"
   },
   {
    "duration": 3,
    "start_time": "2025-01-09T19:20:30.532Z"
   },
   {
    "duration": 10,
    "start_time": "2025-01-09T19:20:30.537Z"
   },
   {
    "duration": 76,
    "start_time": "2025-01-09T19:20:30.548Z"
   },
   {
    "duration": 11,
    "start_time": "2025-01-09T19:20:30.626Z"
   },
   {
    "duration": 140,
    "start_time": "2025-01-09T19:20:30.641Z"
   },
   {
    "duration": 349,
    "start_time": "2025-01-09T19:28:59.704Z"
   },
   {
    "duration": 529,
    "start_time": "2025-01-09T19:33:10.308Z"
   },
   {
    "duration": 8,
    "start_time": "2025-01-09T20:04:32.448Z"
   },
   {
    "duration": 814,
    "start_time": "2025-01-09T20:04:37.517Z"
   },
   {
    "duration": 17,
    "start_time": "2025-01-09T20:04:49.221Z"
   },
   {
    "duration": 4,
    "start_time": "2025-01-09T20:22:52.724Z"
   },
   {
    "duration": 9,
    "start_time": "2025-01-09T20:25:35.667Z"
   },
   {
    "duration": 644,
    "start_time": "2025-01-09T20:25:40.192Z"
   },
   {
    "duration": 8,
    "start_time": "2025-01-09T20:25:46.390Z"
   },
   {
    "duration": 669,
    "start_time": "2025-01-09T20:27:12.772Z"
   },
   {
    "duration": 1030,
    "start_time": "2025-01-09T20:27:20.842Z"
   },
   {
    "duration": 7,
    "start_time": "2025-01-09T20:27:21.874Z"
   },
   {
    "duration": 4,
    "start_time": "2025-01-09T20:27:21.883Z"
   },
   {
    "duration": 17,
    "start_time": "2025-01-09T20:27:21.891Z"
   },
   {
    "duration": 21,
    "start_time": "2025-01-09T20:27:21.912Z"
   },
   {
    "duration": 4,
    "start_time": "2025-01-09T20:27:21.934Z"
   },
   {
    "duration": 12,
    "start_time": "2025-01-09T20:27:21.940Z"
   },
   {
    "duration": 17,
    "start_time": "2025-01-09T20:27:21.954Z"
   },
   {
    "duration": 4,
    "start_time": "2025-01-09T20:27:21.973Z"
   },
   {
    "duration": 2586,
    "start_time": "2025-01-09T20:27:21.982Z"
   },
   {
    "duration": 456,
    "start_time": "2025-01-09T20:27:24.571Z"
   },
   {
    "duration": 65,
    "start_time": "2025-01-09T20:27:25.029Z"
   },
   {
    "duration": 3,
    "start_time": "2025-01-09T20:27:25.095Z"
   },
   {
    "duration": 24,
    "start_time": "2025-01-09T20:27:25.100Z"
   },
   {
    "duration": 9,
    "start_time": "2025-01-09T20:27:25.125Z"
   },
   {
    "duration": 7,
    "start_time": "2025-01-09T20:27:25.135Z"
   },
   {
    "duration": 25,
    "start_time": "2025-01-09T20:27:25.144Z"
   },
   {
    "duration": 25,
    "start_time": "2025-01-09T20:27:25.171Z"
   },
   {
    "duration": 38,
    "start_time": "2025-01-09T20:27:25.198Z"
   },
   {
    "duration": 4,
    "start_time": "2025-01-09T20:27:25.238Z"
   },
   {
    "duration": 3,
    "start_time": "2025-01-09T20:27:25.244Z"
   },
   {
    "duration": 4,
    "start_time": "2025-01-09T20:27:25.248Z"
   },
   {
    "duration": 18,
    "start_time": "2025-01-09T20:27:25.254Z"
   },
   {
    "duration": 9,
    "start_time": "2025-01-09T20:27:25.274Z"
   },
   {
    "duration": 689,
    "start_time": "2025-01-09T20:27:25.285Z"
   },
   {
    "duration": 8,
    "start_time": "2025-01-09T20:27:25.976Z"
   },
   {
    "duration": 3,
    "start_time": "2025-01-09T20:27:25.985Z"
   },
   {
    "duration": 3,
    "start_time": "2025-01-09T20:27:25.992Z"
   },
   {
    "duration": 31,
    "start_time": "2025-01-09T20:27:25.996Z"
   },
   {
    "duration": 11,
    "start_time": "2025-01-09T20:27:26.029Z"
   },
   {
    "duration": 5,
    "start_time": "2025-01-09T20:27:26.043Z"
   },
   {
    "duration": 7,
    "start_time": "2025-01-09T20:27:26.124Z"
   },
   {
    "duration": 4,
    "start_time": "2025-01-09T20:27:26.133Z"
   },
   {
    "duration": 3,
    "start_time": "2025-01-09T20:27:26.139Z"
   },
   {
    "duration": 5,
    "start_time": "2025-01-09T20:27:26.143Z"
   },
   {
    "duration": 4,
    "start_time": "2025-01-09T20:27:26.149Z"
   },
   {
    "duration": 73,
    "start_time": "2025-01-09T20:27:26.154Z"
   },
   {
    "duration": 4,
    "start_time": "2025-01-09T20:27:26.229Z"
   },
   {
    "duration": 4,
    "start_time": "2025-01-09T20:27:26.236Z"
   },
   {
    "duration": 84,
    "start_time": "2025-01-09T20:27:26.242Z"
   },
   {
    "duration": 6,
    "start_time": "2025-01-09T20:27:26.328Z"
   },
   {
    "duration": 5,
    "start_time": "2025-01-09T20:27:26.336Z"
   },
   {
    "duration": 2725,
    "start_time": "2025-01-10T13:10:16.145Z"
   },
   {
    "duration": 13,
    "start_time": "2025-01-10T13:10:18.872Z"
   },
   {
    "duration": 4,
    "start_time": "2025-01-10T13:10:18.886Z"
   },
   {
    "duration": 10,
    "start_time": "2025-01-10T13:10:18.892Z"
   },
   {
    "duration": 22,
    "start_time": "2025-01-10T13:10:18.904Z"
   },
   {
    "duration": 4,
    "start_time": "2025-01-10T13:10:18.927Z"
   },
   {
    "duration": 8,
    "start_time": "2025-01-10T13:10:18.932Z"
   },
   {
    "duration": 16,
    "start_time": "2025-01-10T13:10:18.942Z"
   },
   {
    "duration": 6,
    "start_time": "2025-01-10T13:10:18.959Z"
   },
   {
    "duration": 2548,
    "start_time": "2025-01-10T13:10:18.968Z"
   },
   {
    "duration": 489,
    "start_time": "2025-01-10T13:10:21.518Z"
   },
   {
    "duration": 73,
    "start_time": "2025-01-10T13:10:22.010Z"
   },
   {
    "duration": 2,
    "start_time": "2025-01-10T13:10:22.085Z"
   },
   {
    "duration": 3,
    "start_time": "2025-01-10T13:10:22.089Z"
   },
   {
    "duration": 8,
    "start_time": "2025-01-10T13:10:22.094Z"
   },
   {
    "duration": 24,
    "start_time": "2025-01-10T13:10:22.104Z"
   },
   {
    "duration": 24,
    "start_time": "2025-01-10T13:10:22.130Z"
   },
   {
    "duration": 23,
    "start_time": "2025-01-10T13:10:22.156Z"
   },
   {
    "duration": 12,
    "start_time": "2025-01-10T13:10:22.182Z"
   },
   {
    "duration": 29,
    "start_time": "2025-01-10T13:10:22.196Z"
   },
   {
    "duration": 3,
    "start_time": "2025-01-10T13:10:22.227Z"
   },
   {
    "duration": 4,
    "start_time": "2025-01-10T13:10:22.232Z"
   },
   {
    "duration": 30,
    "start_time": "2025-01-10T13:10:22.238Z"
   },
   {
    "duration": 10,
    "start_time": "2025-01-10T13:10:22.272Z"
   },
   {
    "duration": 673,
    "start_time": "2025-01-10T13:10:22.283Z"
   },
   {
    "duration": 9,
    "start_time": "2025-01-10T13:10:22.957Z"
   },
   {
    "duration": 4,
    "start_time": "2025-01-10T13:10:22.968Z"
   },
   {
    "duration": 2,
    "start_time": "2025-01-10T13:10:22.976Z"
   },
   {
    "duration": 8,
    "start_time": "2025-01-10T13:10:22.980Z"
   },
   {
    "duration": 37,
    "start_time": "2025-01-10T13:10:22.989Z"
   },
   {
    "duration": 4,
    "start_time": "2025-01-10T13:10:23.028Z"
   },
   {
    "duration": 2,
    "start_time": "2025-01-10T13:10:23.034Z"
   },
   {
    "duration": 3,
    "start_time": "2025-01-10T13:10:23.038Z"
   },
   {
    "duration": 4,
    "start_time": "2025-01-10T13:10:23.042Z"
   },
   {
    "duration": 80,
    "start_time": "2025-01-10T13:10:23.047Z"
   },
   {
    "duration": 4,
    "start_time": "2025-01-10T13:10:23.129Z"
   },
   {
    "duration": 6,
    "start_time": "2025-01-10T13:10:23.134Z"
   },
   {
    "duration": 3,
    "start_time": "2025-01-10T13:10:23.142Z"
   },
   {
    "duration": 3,
    "start_time": "2025-01-10T13:10:23.147Z"
   },
   {
    "duration": 83,
    "start_time": "2025-01-10T13:10:23.152Z"
   },
   {
    "duration": 7,
    "start_time": "2025-01-10T13:10:23.238Z"
   },
   {
    "duration": 5,
    "start_time": "2025-01-10T13:10:23.247Z"
   },
   {
    "duration": 484,
    "start_time": "2025-01-10T13:13:57.427Z"
   },
   {
    "duration": 552,
    "start_time": "2025-01-10T13:20:41.301Z"
   },
   {
    "duration": 53,
    "start_time": "2025-01-10T13:20:52.717Z"
   },
   {
    "duration": 54,
    "start_time": "2025-01-10T13:20:58.590Z"
   },
   {
    "duration": 7,
    "start_time": "2025-01-10T13:21:19.508Z"
   },
   {
    "duration": 15,
    "start_time": "2025-01-10T13:53:46.280Z"
   },
   {
    "duration": 989,
    "start_time": "2025-01-10T13:53:51.587Z"
   },
   {
    "duration": 8,
    "start_time": "2025-01-10T13:53:52.578Z"
   },
   {
    "duration": 3,
    "start_time": "2025-01-10T13:53:52.587Z"
   },
   {
    "duration": 10,
    "start_time": "2025-01-10T13:53:52.592Z"
   },
   {
    "duration": 24,
    "start_time": "2025-01-10T13:53:52.604Z"
   },
   {
    "duration": 4,
    "start_time": "2025-01-10T13:53:52.629Z"
   },
   {
    "duration": 8,
    "start_time": "2025-01-10T13:53:52.634Z"
   },
   {
    "duration": 16,
    "start_time": "2025-01-10T13:53:52.644Z"
   },
   {
    "duration": 4,
    "start_time": "2025-01-10T13:53:52.662Z"
   },
   {
    "duration": 2602,
    "start_time": "2025-01-10T13:53:52.670Z"
   },
   {
    "duration": 483,
    "start_time": "2025-01-10T13:53:55.274Z"
   },
   {
    "duration": 75,
    "start_time": "2025-01-10T13:53:55.758Z"
   },
   {
    "duration": 2,
    "start_time": "2025-01-10T13:53:55.835Z"
   },
   {
    "duration": 4,
    "start_time": "2025-01-10T13:53:55.839Z"
   },
   {
    "duration": 9,
    "start_time": "2025-01-10T13:53:55.844Z"
   },
   {
    "duration": 8,
    "start_time": "2025-01-10T13:53:55.854Z"
   },
   {
    "duration": 25,
    "start_time": "2025-01-10T13:53:55.864Z"
   },
   {
    "duration": 49,
    "start_time": "2025-01-10T13:53:55.891Z"
   },
   {
    "duration": 13,
    "start_time": "2025-01-10T13:53:55.942Z"
   },
   {
    "duration": 5,
    "start_time": "2025-01-10T13:53:55.956Z"
   },
   {
    "duration": 3,
    "start_time": "2025-01-10T13:53:55.963Z"
   },
   {
    "duration": 3,
    "start_time": "2025-01-10T13:53:55.968Z"
   },
   {
    "duration": 52,
    "start_time": "2025-01-10T13:53:55.972Z"
   },
   {
    "duration": 10,
    "start_time": "2025-01-10T13:53:56.025Z"
   },
   {
    "duration": 3,
    "start_time": "2025-01-10T13:53:56.037Z"
   },
   {
    "duration": 683,
    "start_time": "2025-01-10T13:53:56.041Z"
   },
   {
    "duration": 8,
    "start_time": "2025-01-10T13:53:56.726Z"
   },
   {
    "duration": 3,
    "start_time": "2025-01-10T13:53:56.738Z"
   },
   {
    "duration": 3,
    "start_time": "2025-01-10T13:53:56.743Z"
   },
   {
    "duration": 9,
    "start_time": "2025-01-10T13:53:56.748Z"
   },
   {
    "duration": 7,
    "start_time": "2025-01-10T13:53:56.758Z"
   },
   {
    "duration": 3,
    "start_time": "2025-01-10T13:53:56.825Z"
   },
   {
    "duration": 3,
    "start_time": "2025-01-10T13:53:56.829Z"
   },
   {
    "duration": 3,
    "start_time": "2025-01-10T13:53:56.833Z"
   },
   {
    "duration": 3,
    "start_time": "2025-01-10T13:53:56.838Z"
   },
   {
    "duration": 3,
    "start_time": "2025-01-10T13:53:56.843Z"
   },
   {
    "duration": 80,
    "start_time": "2025-01-10T13:53:56.848Z"
   },
   {
    "duration": 6,
    "start_time": "2025-01-10T13:53:56.930Z"
   },
   {
    "duration": 4,
    "start_time": "2025-01-10T13:53:56.937Z"
   },
   {
    "duration": 80,
    "start_time": "2025-01-10T13:53:56.944Z"
   },
   {
    "duration": 9,
    "start_time": "2025-01-10T13:53:57.026Z"
   },
   {
    "duration": 6,
    "start_time": "2025-01-10T13:53:57.037Z"
   },
   {
    "duration": 6,
    "start_time": "2025-01-10T13:53:57.045Z"
   },
   {
    "duration": 308,
    "start_time": "2025-01-10T14:00:11.336Z"
   },
   {
    "duration": 999,
    "start_time": "2025-01-10T14:01:05.939Z"
   },
   {
    "duration": 8,
    "start_time": "2025-01-10T14:01:06.940Z"
   },
   {
    "duration": 3,
    "start_time": "2025-01-10T14:01:06.949Z"
   },
   {
    "duration": 10,
    "start_time": "2025-01-10T14:01:06.954Z"
   },
   {
    "duration": 9,
    "start_time": "2025-01-10T14:01:06.965Z"
   },
   {
    "duration": 3,
    "start_time": "2025-01-10T14:01:06.975Z"
   },
   {
    "duration": 8,
    "start_time": "2025-01-10T14:01:06.980Z"
   },
   {
    "duration": 47,
    "start_time": "2025-01-10T14:01:06.990Z"
   },
   {
    "duration": 5,
    "start_time": "2025-01-10T14:01:07.039Z"
   },
   {
    "duration": 2553,
    "start_time": "2025-01-10T14:01:07.047Z"
   },
   {
    "duration": 464,
    "start_time": "2025-01-10T14:01:09.602Z"
   },
   {
    "duration": 74,
    "start_time": "2025-01-10T14:01:10.068Z"
   },
   {
    "duration": 3,
    "start_time": "2025-01-10T14:01:10.143Z"
   },
   {
    "duration": 4,
    "start_time": "2025-01-10T14:01:10.147Z"
   },
   {
    "duration": 8,
    "start_time": "2025-01-10T14:01:10.153Z"
   },
   {
    "duration": 7,
    "start_time": "2025-01-10T14:01:10.164Z"
   },
   {
    "duration": 24,
    "start_time": "2025-01-10T14:01:10.173Z"
   },
   {
    "duration": 46,
    "start_time": "2025-01-10T14:01:10.199Z"
   },
   {
    "duration": 13,
    "start_time": "2025-01-10T14:01:10.246Z"
   },
   {
    "duration": 4,
    "start_time": "2025-01-10T14:01:10.261Z"
   },
   {
    "duration": 4,
    "start_time": "2025-01-10T14:01:10.267Z"
   },
   {
    "duration": 3,
    "start_time": "2025-01-10T14:01:10.273Z"
   },
   {
    "duration": 51,
    "start_time": "2025-01-10T14:01:10.278Z"
   },
   {
    "duration": 8,
    "start_time": "2025-01-10T14:01:10.331Z"
   },
   {
    "duration": 699,
    "start_time": "2025-01-10T14:01:10.340Z"
   },
   {
    "duration": 3,
    "start_time": "2025-01-10T14:01:11.040Z"
   },
   {
    "duration": 8,
    "start_time": "2025-01-10T14:01:11.045Z"
   },
   {
    "duration": 3,
    "start_time": "2025-01-10T14:01:11.056Z"
   },
   {
    "duration": 3,
    "start_time": "2025-01-10T14:01:11.061Z"
   },
   {
    "duration": 11,
    "start_time": "2025-01-10T14:01:11.066Z"
   },
   {
    "duration": 10,
    "start_time": "2025-01-10T14:01:11.125Z"
   },
   {
    "duration": 3,
    "start_time": "2025-01-10T14:01:11.137Z"
   },
   {
    "duration": 4,
    "start_time": "2025-01-10T14:01:11.141Z"
   },
   {
    "duration": 78,
    "start_time": "2025-01-10T14:01:11.146Z"
   },
   {
    "duration": 3,
    "start_time": "2025-01-10T14:01:11.226Z"
   },
   {
    "duration": 4,
    "start_time": "2025-01-10T14:01:11.231Z"
   },
   {
    "duration": 4,
    "start_time": "2025-01-10T14:01:11.236Z"
   },
   {
    "duration": 5,
    "start_time": "2025-01-10T14:01:11.242Z"
   },
   {
    "duration": 4,
    "start_time": "2025-01-10T14:01:11.248Z"
   },
   {
    "duration": 3,
    "start_time": "2025-01-10T14:01:11.325Z"
   },
   {
    "duration": 11,
    "start_time": "2025-01-10T14:01:11.331Z"
   },
   {
    "duration": 6,
    "start_time": "2025-01-10T14:01:11.344Z"
   },
   {
    "duration": 74,
    "start_time": "2025-01-10T14:01:11.352Z"
   },
   {
    "duration": 314,
    "start_time": "2025-01-10T14:02:14.184Z"
   },
   {
    "duration": 168,
    "start_time": "2025-01-10T14:05:53.362Z"
   },
   {
    "duration": 1005,
    "start_time": "2025-01-10T14:05:59.009Z"
   },
   {
    "duration": 8,
    "start_time": "2025-01-10T14:06:00.017Z"
   },
   {
    "duration": 3,
    "start_time": "2025-01-10T14:06:00.026Z"
   },
   {
    "duration": 9,
    "start_time": "2025-01-10T14:06:00.031Z"
   },
   {
    "duration": 8,
    "start_time": "2025-01-10T14:06:00.042Z"
   },
   {
    "duration": 3,
    "start_time": "2025-01-10T14:06:00.052Z"
   },
   {
    "duration": 8,
    "start_time": "2025-01-10T14:06:00.057Z"
   },
   {
    "duration": 16,
    "start_time": "2025-01-10T14:06:00.066Z"
   },
   {
    "duration": 5,
    "start_time": "2025-01-10T14:06:00.083Z"
   },
   {
    "duration": 2506,
    "start_time": "2025-01-10T14:06:00.126Z"
   },
   {
    "duration": 459,
    "start_time": "2025-01-10T14:06:02.634Z"
   },
   {
    "duration": 73,
    "start_time": "2025-01-10T14:06:03.095Z"
   },
   {
    "duration": 2,
    "start_time": "2025-01-10T14:06:03.170Z"
   },
   {
    "duration": 4,
    "start_time": "2025-01-10T14:06:03.174Z"
   },
   {
    "duration": 9,
    "start_time": "2025-01-10T14:06:03.180Z"
   },
   {
    "duration": 8,
    "start_time": "2025-01-10T14:06:03.190Z"
   },
   {
    "duration": 45,
    "start_time": "2025-01-10T14:06:03.200Z"
   },
   {
    "duration": 25,
    "start_time": "2025-01-10T14:06:03.247Z"
   },
   {
    "duration": 13,
    "start_time": "2025-01-10T14:06:03.274Z"
   },
   {
    "duration": 4,
    "start_time": "2025-01-10T14:06:03.289Z"
   },
   {
    "duration": 3,
    "start_time": "2025-01-10T14:06:03.323Z"
   },
   {
    "duration": 3,
    "start_time": "2025-01-10T14:06:03.329Z"
   },
   {
    "duration": 19,
    "start_time": "2025-01-10T14:06:03.333Z"
   },
   {
    "duration": 13,
    "start_time": "2025-01-10T14:06:03.353Z"
   },
   {
    "duration": 704,
    "start_time": "2025-01-10T14:06:03.368Z"
   },
   {
    "duration": 8,
    "start_time": "2025-01-10T14:06:04.074Z"
   },
   {
    "duration": 4,
    "start_time": "2025-01-10T14:06:04.083Z"
   },
   {
    "duration": 2,
    "start_time": "2025-01-10T14:06:04.091Z"
   },
   {
    "duration": 33,
    "start_time": "2025-01-10T14:06:04.095Z"
   },
   {
    "duration": 11,
    "start_time": "2025-01-10T14:06:04.129Z"
   },
   {
    "duration": 5,
    "start_time": "2025-01-10T14:06:04.143Z"
   },
   {
    "duration": 80,
    "start_time": "2025-01-10T14:06:04.149Z"
   },
   {
    "duration": 5,
    "start_time": "2025-01-10T14:06:04.231Z"
   },
   {
    "duration": 3,
    "start_time": "2025-01-10T14:06:04.238Z"
   },
   {
    "duration": 4,
    "start_time": "2025-01-10T14:06:04.243Z"
   },
   {
    "duration": 75,
    "start_time": "2025-01-10T14:06:04.249Z"
   },
   {
    "duration": 5,
    "start_time": "2025-01-10T14:06:04.327Z"
   },
   {
    "duration": 4,
    "start_time": "2025-01-10T14:06:04.334Z"
   },
   {
    "duration": 3,
    "start_time": "2025-01-10T14:06:04.340Z"
   },
   {
    "duration": 80,
    "start_time": "2025-01-10T14:06:04.345Z"
   },
   {
    "duration": 7,
    "start_time": "2025-01-10T14:06:04.427Z"
   },
   {
    "duration": 6,
    "start_time": "2025-01-10T14:06:04.436Z"
   },
   {
    "duration": 546,
    "start_time": "2025-01-10T14:34:42.653Z"
   },
   {
    "duration": 119,
    "start_time": "2025-01-10T14:34:47.097Z"
   },
   {
    "duration": 1114,
    "start_time": "2025-01-10T14:34:56.174Z"
   },
   {
    "duration": 11,
    "start_time": "2025-01-10T14:34:57.290Z"
   },
   {
    "duration": 4,
    "start_time": "2025-01-10T14:34:57.303Z"
   },
   {
    "duration": 21,
    "start_time": "2025-01-10T14:34:57.311Z"
   },
   {
    "duration": 11,
    "start_time": "2025-01-10T14:34:57.334Z"
   },
   {
    "duration": 3,
    "start_time": "2025-01-10T14:34:57.347Z"
   },
   {
    "duration": 10,
    "start_time": "2025-01-10T14:34:57.351Z"
   },
   {
    "duration": 16,
    "start_time": "2025-01-10T14:34:57.363Z"
   },
   {
    "duration": 6,
    "start_time": "2025-01-10T14:34:57.380Z"
   },
   {
    "duration": 2823,
    "start_time": "2025-01-10T14:34:57.426Z"
   },
   {
    "duration": 526,
    "start_time": "2025-01-10T14:35:00.251Z"
   },
   {
    "duration": 97,
    "start_time": "2025-01-10T14:35:00.780Z"
   },
   {
    "duration": 7,
    "start_time": "2025-01-10T14:35:00.879Z"
   },
   {
    "duration": 5,
    "start_time": "2025-01-10T14:35:00.888Z"
   },
   {
    "duration": 11,
    "start_time": "2025-01-10T14:35:00.895Z"
   },
   {
    "duration": 21,
    "start_time": "2025-01-10T14:35:00.910Z"
   },
   {
    "duration": 27,
    "start_time": "2025-01-10T14:35:00.933Z"
   },
   {
    "duration": 28,
    "start_time": "2025-01-10T14:35:00.962Z"
   },
   {
    "duration": 40,
    "start_time": "2025-01-10T14:35:00.992Z"
   },
   {
    "duration": 7,
    "start_time": "2025-01-10T14:35:01.033Z"
   },
   {
    "duration": 4,
    "start_time": "2025-01-10T14:35:01.041Z"
   },
   {
    "duration": 4,
    "start_time": "2025-01-10T14:35:01.047Z"
   },
   {
    "duration": 21,
    "start_time": "2025-01-10T14:35:01.052Z"
   },
   {
    "duration": 13,
    "start_time": "2025-01-10T14:35:01.075Z"
   },
   {
    "duration": 778,
    "start_time": "2025-01-10T14:35:01.090Z"
   },
   {
    "duration": 10,
    "start_time": "2025-01-10T14:35:01.871Z"
   },
   {
    "duration": 3,
    "start_time": "2025-01-10T14:35:01.883Z"
   },
   {
    "duration": 3,
    "start_time": "2025-01-10T14:35:01.891Z"
   },
   {
    "duration": 40,
    "start_time": "2025-01-10T14:35:01.896Z"
   },
   {
    "duration": 13,
    "start_time": "2025-01-10T14:35:01.939Z"
   },
   {
    "duration": 70,
    "start_time": "2025-01-10T14:35:01.953Z"
   },
   {
    "duration": 4,
    "start_time": "2025-01-10T14:35:02.026Z"
   },
   {
    "duration": 4,
    "start_time": "2025-01-10T14:35:02.032Z"
   },
   {
    "duration": 4,
    "start_time": "2025-01-10T14:35:02.038Z"
   },
   {
    "duration": 6,
    "start_time": "2025-01-10T14:35:02.044Z"
   },
   {
    "duration": 75,
    "start_time": "2025-01-10T14:35:02.051Z"
   },
   {
    "duration": 7,
    "start_time": "2025-01-10T14:35:02.128Z"
   },
   {
    "duration": 6,
    "start_time": "2025-01-10T14:35:02.141Z"
   },
   {
    "duration": 4,
    "start_time": "2025-01-10T14:35:02.153Z"
   },
   {
    "duration": 75,
    "start_time": "2025-01-10T14:35:02.159Z"
   },
   {
    "duration": 18,
    "start_time": "2025-01-10T14:35:02.236Z"
   },
   {
    "duration": 73,
    "start_time": "2025-01-10T14:35:02.257Z"
   },
   {
    "duration": 474,
    "start_time": "2025-01-10T14:53:42.491Z"
   },
   {
    "duration": 981,
    "start_time": "2025-01-10T14:53:50.158Z"
   },
   {
    "duration": 8,
    "start_time": "2025-01-10T14:53:51.141Z"
   },
   {
    "duration": 3,
    "start_time": "2025-01-10T14:53:51.150Z"
   },
   {
    "duration": 10,
    "start_time": "2025-01-10T14:53:51.155Z"
   },
   {
    "duration": 9,
    "start_time": "2025-01-10T14:53:51.166Z"
   },
   {
    "duration": 3,
    "start_time": "2025-01-10T14:53:51.177Z"
   },
   {
    "duration": 9,
    "start_time": "2025-01-10T14:53:51.184Z"
   },
   {
    "duration": 41,
    "start_time": "2025-01-10T14:53:51.195Z"
   },
   {
    "duration": 5,
    "start_time": "2025-01-10T14:53:51.237Z"
   },
   {
    "duration": 2552,
    "start_time": "2025-01-10T14:53:51.245Z"
   },
   {
    "duration": 478,
    "start_time": "2025-01-10T14:53:53.798Z"
   },
   {
    "duration": 74,
    "start_time": "2025-01-10T14:53:54.278Z"
   },
   {
    "duration": 3,
    "start_time": "2025-01-10T14:53:54.353Z"
   },
   {
    "duration": 3,
    "start_time": "2025-01-10T14:53:54.358Z"
   },
   {
    "duration": 8,
    "start_time": "2025-01-10T14:53:54.363Z"
   },
   {
    "duration": 7,
    "start_time": "2025-01-10T14:53:54.372Z"
   },
   {
    "duration": 50,
    "start_time": "2025-01-10T14:53:54.381Z"
   },
   {
    "duration": 25,
    "start_time": "2025-01-10T14:53:54.432Z"
   },
   {
    "duration": 13,
    "start_time": "2025-01-10T14:53:54.458Z"
   },
   {
    "duration": 5,
    "start_time": "2025-01-10T14:53:54.473Z"
   },
   {
    "duration": 3,
    "start_time": "2025-01-10T14:53:54.479Z"
   },
   {
    "duration": 3,
    "start_time": "2025-01-10T14:53:54.484Z"
   },
   {
    "duration": 49,
    "start_time": "2025-01-10T14:53:54.489Z"
   },
   {
    "duration": 9,
    "start_time": "2025-01-10T14:53:54.540Z"
   },
   {
    "duration": 680,
    "start_time": "2025-01-10T14:53:54.550Z"
   },
   {
    "duration": 668,
    "start_time": "2025-01-10T14:53:55.231Z"
   },
   {
    "duration": 7,
    "start_time": "2025-01-10T14:53:55.900Z"
   },
   {
    "duration": 14,
    "start_time": "2025-01-10T14:53:55.911Z"
   },
   {
    "duration": 2,
    "start_time": "2025-01-10T14:53:55.927Z"
   },
   {
    "duration": 7,
    "start_time": "2025-01-10T14:53:55.931Z"
   },
   {
    "duration": 6,
    "start_time": "2025-01-10T14:53:55.940Z"
   },
   {
    "duration": 5,
    "start_time": "2025-01-10T14:53:55.947Z"
   },
   {
    "duration": 2,
    "start_time": "2025-01-10T14:53:55.955Z"
   },
   {
    "duration": 4,
    "start_time": "2025-01-10T14:53:56.025Z"
   },
   {
    "duration": 4,
    "start_time": "2025-01-10T14:53:56.031Z"
   },
   {
    "duration": 6,
    "start_time": "2025-01-10T14:53:56.037Z"
   },
   {
    "duration": 5,
    "start_time": "2025-01-10T14:53:56.045Z"
   },
   {
    "duration": 77,
    "start_time": "2025-01-10T14:53:56.051Z"
   },
   {
    "duration": 4,
    "start_time": "2025-01-10T14:53:56.130Z"
   },
   {
    "duration": 3,
    "start_time": "2025-01-10T14:53:56.135Z"
   },
   {
    "duration": 12,
    "start_time": "2025-01-10T14:53:56.139Z"
   },
   {
    "duration": 9,
    "start_time": "2025-01-10T14:53:56.224Z"
   },
   {
    "duration": 8,
    "start_time": "2025-01-10T14:53:56.237Z"
   },
   {
    "duration": 5,
    "start_time": "2025-01-10T14:55:48.551Z"
   },
   {
    "duration": 315,
    "start_time": "2025-01-10T14:58:27.167Z"
   },
   {
    "duration": 1048,
    "start_time": "2025-01-10T14:58:38.026Z"
   },
   {
    "duration": 7,
    "start_time": "2025-01-10T14:58:39.076Z"
   },
   {
    "duration": 3,
    "start_time": "2025-01-10T14:58:39.084Z"
   },
   {
    "duration": 11,
    "start_time": "2025-01-10T14:58:39.090Z"
   },
   {
    "duration": 29,
    "start_time": "2025-01-10T14:58:39.103Z"
   },
   {
    "duration": 4,
    "start_time": "2025-01-10T14:58:39.134Z"
   },
   {
    "duration": 11,
    "start_time": "2025-01-10T14:58:39.140Z"
   },
   {
    "duration": 20,
    "start_time": "2025-01-10T14:58:39.152Z"
   },
   {
    "duration": 5,
    "start_time": "2025-01-10T14:58:39.174Z"
   },
   {
    "duration": 2677,
    "start_time": "2025-01-10T14:58:39.183Z"
   },
   {
    "duration": 499,
    "start_time": "2025-01-10T14:58:41.862Z"
   },
   {
    "duration": 94,
    "start_time": "2025-01-10T14:58:42.363Z"
   },
   {
    "duration": 4,
    "start_time": "2025-01-10T14:58:42.459Z"
   },
   {
    "duration": 4,
    "start_time": "2025-01-10T14:58:42.466Z"
   },
   {
    "duration": 9,
    "start_time": "2025-01-10T14:58:42.472Z"
   },
   {
    "duration": 10,
    "start_time": "2025-01-10T14:58:42.482Z"
   },
   {
    "duration": 47,
    "start_time": "2025-01-10T14:58:42.493Z"
   },
   {
    "duration": 26,
    "start_time": "2025-01-10T14:58:42.542Z"
   },
   {
    "duration": 17,
    "start_time": "2025-01-10T14:58:42.570Z"
   },
   {
    "duration": 4,
    "start_time": "2025-01-10T14:58:42.588Z"
   },
   {
    "duration": 34,
    "start_time": "2025-01-10T14:58:42.594Z"
   },
   {
    "duration": 2,
    "start_time": "2025-01-10T14:58:42.631Z"
   },
   {
    "duration": 20,
    "start_time": "2025-01-10T14:58:42.635Z"
   },
   {
    "duration": 9,
    "start_time": "2025-01-10T14:58:42.657Z"
   },
   {
    "duration": 4,
    "start_time": "2025-01-10T14:58:42.668Z"
   },
   {
    "duration": 5,
    "start_time": "2025-01-10T14:58:42.674Z"
   },
   {
    "duration": 704,
    "start_time": "2025-01-10T14:58:42.681Z"
   },
   {
    "duration": 711,
    "start_time": "2025-01-10T14:58:43.390Z"
   },
   {
    "duration": 9,
    "start_time": "2025-01-10T14:58:44.103Z"
   },
   {
    "duration": 3,
    "start_time": "2025-01-10T14:58:44.124Z"
   },
   {
    "duration": 3,
    "start_time": "2025-01-10T14:58:44.130Z"
   },
   {
    "duration": 11,
    "start_time": "2025-01-10T14:58:44.135Z"
   },
   {
    "duration": 9,
    "start_time": "2025-01-10T14:58:44.149Z"
   },
   {
    "duration": 3,
    "start_time": "2025-01-10T14:58:44.160Z"
   },
   {
    "duration": 61,
    "start_time": "2025-01-10T14:58:44.165Z"
   },
   {
    "duration": 4,
    "start_time": "2025-01-10T14:58:44.228Z"
   },
   {
    "duration": 4,
    "start_time": "2025-01-10T14:58:44.233Z"
   },
   {
    "duration": 7,
    "start_time": "2025-01-10T14:58:44.238Z"
   },
   {
    "duration": 7,
    "start_time": "2025-01-10T14:58:44.247Z"
   },
   {
    "duration": 76,
    "start_time": "2025-01-10T14:58:44.256Z"
   },
   {
    "duration": 6,
    "start_time": "2025-01-10T14:58:44.335Z"
   },
   {
    "duration": 4,
    "start_time": "2025-01-10T14:58:44.343Z"
   },
   {
    "duration": 76,
    "start_time": "2025-01-10T14:58:44.350Z"
   },
   {
    "duration": 20,
    "start_time": "2025-01-10T14:58:44.428Z"
   },
   {
    "duration": 9,
    "start_time": "2025-01-10T14:58:44.450Z"
   },
   {
    "duration": 3,
    "start_time": "2025-01-10T15:01:55.269Z"
   },
   {
    "duration": 3,
    "start_time": "2025-01-10T15:02:31.515Z"
   },
   {
    "duration": 165,
    "start_time": "2025-01-10T19:21:15.077Z"
   },
   {
    "duration": 2794,
    "start_time": "2025-01-10T19:21:22.569Z"
   },
   {
    "duration": 11,
    "start_time": "2025-01-10T19:21:25.365Z"
   },
   {
    "duration": 4,
    "start_time": "2025-01-10T19:21:25.377Z"
   },
   {
    "duration": 12,
    "start_time": "2025-01-10T19:21:25.384Z"
   },
   {
    "duration": 8,
    "start_time": "2025-01-10T19:21:25.398Z"
   },
   {
    "duration": 4,
    "start_time": "2025-01-10T19:21:25.408Z"
   },
   {
    "duration": 9,
    "start_time": "2025-01-10T19:21:25.432Z"
   },
   {
    "duration": 15,
    "start_time": "2025-01-10T19:21:25.442Z"
   },
   {
    "duration": 4,
    "start_time": "2025-01-10T19:21:25.459Z"
   },
   {
    "duration": 2776,
    "start_time": "2025-01-10T19:21:25.467Z"
   },
   {
    "duration": 601,
    "start_time": "2025-01-10T19:21:28.244Z"
   },
   {
    "duration": 67,
    "start_time": "2025-01-10T19:21:28.847Z"
   },
   {
    "duration": 2,
    "start_time": "2025-01-10T19:21:28.917Z"
   },
   {
    "duration": 14,
    "start_time": "2025-01-10T19:21:28.920Z"
   },
   {
    "duration": 8,
    "start_time": "2025-01-10T19:21:28.935Z"
   },
   {
    "duration": 8,
    "start_time": "2025-01-10T19:21:28.944Z"
   },
   {
    "duration": 25,
    "start_time": "2025-01-10T19:21:28.954Z"
   },
   {
    "duration": 50,
    "start_time": "2025-01-10T19:21:28.981Z"
   },
   {
    "duration": 16,
    "start_time": "2025-01-10T19:21:29.034Z"
   },
   {
    "duration": 6,
    "start_time": "2025-01-10T19:21:29.051Z"
   },
   {
    "duration": 4,
    "start_time": "2025-01-10T19:21:29.061Z"
   },
   {
    "duration": 3,
    "start_time": "2025-01-10T19:21:29.068Z"
   },
   {
    "duration": 20,
    "start_time": "2025-01-10T19:21:29.074Z"
   },
   {
    "duration": 38,
    "start_time": "2025-01-10T19:21:29.095Z"
   },
   {
    "duration": 4,
    "start_time": "2025-01-10T19:21:29.135Z"
   },
   {
    "duration": 303,
    "start_time": "2025-01-10T19:21:29.140Z"
   },
   {
    "duration": 0,
    "start_time": "2025-01-10T19:21:29.446Z"
   },
   {
    "duration": 0,
    "start_time": "2025-01-10T19:21:29.447Z"
   },
   {
    "duration": 0,
    "start_time": "2025-01-10T19:21:29.448Z"
   },
   {
    "duration": 0,
    "start_time": "2025-01-10T19:21:29.449Z"
   },
   {
    "duration": 0,
    "start_time": "2025-01-10T19:21:29.450Z"
   },
   {
    "duration": 0,
    "start_time": "2025-01-10T19:21:29.451Z"
   },
   {
    "duration": 0,
    "start_time": "2025-01-10T19:21:29.453Z"
   },
   {
    "duration": 0,
    "start_time": "2025-01-10T19:21:29.454Z"
   },
   {
    "duration": 0,
    "start_time": "2025-01-10T19:21:29.455Z"
   },
   {
    "duration": 0,
    "start_time": "2025-01-10T19:21:29.456Z"
   },
   {
    "duration": 0,
    "start_time": "2025-01-10T19:21:29.458Z"
   },
   {
    "duration": 0,
    "start_time": "2025-01-10T19:21:29.459Z"
   },
   {
    "duration": 0,
    "start_time": "2025-01-10T19:21:29.460Z"
   },
   {
    "duration": 0,
    "start_time": "2025-01-10T19:21:29.461Z"
   },
   {
    "duration": 0,
    "start_time": "2025-01-10T19:21:29.462Z"
   },
   {
    "duration": 0,
    "start_time": "2025-01-10T19:21:29.464Z"
   },
   {
    "duration": 0,
    "start_time": "2025-01-10T19:21:29.465Z"
   },
   {
    "duration": 0,
    "start_time": "2025-01-10T19:21:29.466Z"
   },
   {
    "duration": 0,
    "start_time": "2025-01-10T19:21:29.467Z"
   },
   {
    "duration": 0,
    "start_time": "2025-01-10T19:21:29.468Z"
   },
   {
    "duration": 0,
    "start_time": "2025-01-10T19:21:29.469Z"
   },
   {
    "duration": 4,
    "start_time": "2025-01-10T19:22:10.674Z"
   },
   {
    "duration": 1742,
    "start_time": "2025-01-10T19:22:19.889Z"
   },
   {
    "duration": 3,
    "start_time": "2025-01-10T19:27:30.678Z"
   },
   {
    "duration": 1050,
    "start_time": "2025-01-10T19:31:01.605Z"
   },
   {
    "duration": 10,
    "start_time": "2025-01-10T19:31:02.659Z"
   },
   {
    "duration": 5,
    "start_time": "2025-01-10T19:31:02.670Z"
   },
   {
    "duration": 12,
    "start_time": "2025-01-10T19:31:02.677Z"
   },
   {
    "duration": 9,
    "start_time": "2025-01-10T19:31:02.691Z"
   },
   {
    "duration": 3,
    "start_time": "2025-01-10T19:31:02.702Z"
   },
   {
    "duration": 30,
    "start_time": "2025-01-10T19:31:02.706Z"
   },
   {
    "duration": 18,
    "start_time": "2025-01-10T19:31:02.739Z"
   },
   {
    "duration": 6,
    "start_time": "2025-01-10T19:31:02.759Z"
   },
   {
    "duration": 2690,
    "start_time": "2025-01-10T19:31:02.769Z"
   },
   {
    "duration": 489,
    "start_time": "2025-01-10T19:31:05.461Z"
   },
   {
    "duration": 87,
    "start_time": "2025-01-10T19:31:05.952Z"
   },
   {
    "duration": 2,
    "start_time": "2025-01-10T19:31:06.041Z"
   },
   {
    "duration": 4,
    "start_time": "2025-01-10T19:31:06.045Z"
   },
   {
    "duration": 8,
    "start_time": "2025-01-10T19:31:06.050Z"
   },
   {
    "duration": 9,
    "start_time": "2025-01-10T19:31:06.060Z"
   },
   {
    "duration": 26,
    "start_time": "2025-01-10T19:31:06.072Z"
   },
   {
    "duration": 53,
    "start_time": "2025-01-10T19:31:06.100Z"
   },
   {
    "duration": 13,
    "start_time": "2025-01-10T19:31:06.155Z"
   },
   {
    "duration": 5,
    "start_time": "2025-01-10T19:31:06.170Z"
   },
   {
    "duration": 3,
    "start_time": "2025-01-10T19:31:06.177Z"
   },
   {
    "duration": 3,
    "start_time": "2025-01-10T19:31:06.182Z"
   },
   {
    "duration": 57,
    "start_time": "2025-01-10T19:31:06.187Z"
   },
   {
    "duration": 11,
    "start_time": "2025-01-10T19:31:06.246Z"
   },
   {
    "duration": 709,
    "start_time": "2025-01-10T19:31:06.258Z"
   },
   {
    "duration": 9,
    "start_time": "2025-01-10T19:31:06.969Z"
   },
   {
    "duration": 7,
    "start_time": "2025-01-10T19:31:06.984Z"
   },
   {
    "duration": 3,
    "start_time": "2025-01-10T19:31:06.996Z"
   },
   {
    "duration": 40,
    "start_time": "2025-01-10T19:31:07.001Z"
   },
   {
    "duration": 16,
    "start_time": "2025-01-10T19:31:07.044Z"
   },
   {
    "duration": 9,
    "start_time": "2025-01-10T19:31:07.131Z"
   },
   {
    "duration": 5,
    "start_time": "2025-01-10T19:31:07.143Z"
   },
   {
    "duration": 5,
    "start_time": "2025-01-10T19:31:07.151Z"
   },
   {
    "duration": 4,
    "start_time": "2025-01-10T19:31:07.157Z"
   },
   {
    "duration": 6,
    "start_time": "2025-01-10T19:31:07.163Z"
   },
   {
    "duration": 75,
    "start_time": "2025-01-10T19:31:07.170Z"
   },
   {
    "duration": 9,
    "start_time": "2025-01-10T19:31:07.248Z"
   },
   {
    "duration": 4,
    "start_time": "2025-01-10T19:31:07.259Z"
   },
   {
    "duration": 67,
    "start_time": "2025-01-10T19:31:07.265Z"
   },
   {
    "duration": 12,
    "start_time": "2025-01-10T19:31:07.334Z"
   },
   {
    "duration": 17,
    "start_time": "2025-01-10T19:31:07.348Z"
   },
   {
    "duration": 65,
    "start_time": "2025-01-10T19:31:07.367Z"
   },
   {
    "duration": 97,
    "start_time": "2025-01-10T19:32:51.865Z"
   },
   {
    "duration": 1210,
    "start_time": "2025-01-10T19:35:01.233Z"
   },
   {
    "duration": 7,
    "start_time": "2025-01-10T19:35:02.445Z"
   },
   {
    "duration": 3,
    "start_time": "2025-01-10T19:35:02.454Z"
   },
   {
    "duration": 12,
    "start_time": "2025-01-10T19:35:02.460Z"
   },
   {
    "duration": 9,
    "start_time": "2025-01-10T19:35:02.475Z"
   },
   {
    "duration": 3,
    "start_time": "2025-01-10T19:35:02.486Z"
   },
   {
    "duration": 11,
    "start_time": "2025-01-10T19:35:02.491Z"
   },
   {
    "duration": 46,
    "start_time": "2025-01-10T19:35:02.503Z"
   },
   {
    "duration": 6,
    "start_time": "2025-01-10T19:35:02.551Z"
   },
   {
    "duration": 3226,
    "start_time": "2025-01-10T19:35:02.559Z"
   },
   {
    "duration": 622,
    "start_time": "2025-01-10T19:35:05.787Z"
   },
   {
    "duration": 103,
    "start_time": "2025-01-10T19:35:06.411Z"
   },
   {
    "duration": 4,
    "start_time": "2025-01-10T19:35:06.516Z"
   },
   {
    "duration": 9,
    "start_time": "2025-01-10T19:35:06.526Z"
   },
   {
    "duration": 12,
    "start_time": "2025-01-10T19:35:06.537Z"
   },
   {
    "duration": 14,
    "start_time": "2025-01-10T19:35:06.551Z"
   },
   {
    "duration": 41,
    "start_time": "2025-01-10T19:35:06.569Z"
   },
   {
    "duration": 44,
    "start_time": "2025-01-10T19:35:06.615Z"
   },
   {
    "duration": 16,
    "start_time": "2025-01-10T19:35:06.661Z"
   },
   {
    "duration": 4,
    "start_time": "2025-01-10T19:35:06.679Z"
   },
   {
    "duration": 3,
    "start_time": "2025-01-10T19:35:06.685Z"
   },
   {
    "duration": 6,
    "start_time": "2025-01-10T19:35:06.690Z"
   },
   {
    "duration": 47,
    "start_time": "2025-01-10T19:35:06.697Z"
   },
   {
    "duration": 12,
    "start_time": "2025-01-10T19:35:06.745Z"
   },
   {
    "duration": 1197,
    "start_time": "2025-01-10T19:35:06.759Z"
   },
   {
    "duration": 142,
    "start_time": "2025-01-10T19:35:07.958Z"
   },
   {
    "duration": 11,
    "start_time": "2025-01-10T19:35:08.102Z"
   },
   {
    "duration": 4,
    "start_time": "2025-01-10T19:35:08.115Z"
   },
   {
    "duration": 7,
    "start_time": "2025-01-10T19:35:08.132Z"
   },
   {
    "duration": 29,
    "start_time": "2025-01-10T19:35:08.142Z"
   },
   {
    "duration": 10,
    "start_time": "2025-01-10T19:35:08.175Z"
   },
   {
    "duration": 5,
    "start_time": "2025-01-10T19:35:08.189Z"
   },
   {
    "duration": 5,
    "start_time": "2025-01-10T19:35:08.233Z"
   },
   {
    "duration": 5,
    "start_time": "2025-01-10T19:35:08.241Z"
   },
   {
    "duration": 5,
    "start_time": "2025-01-10T19:35:08.247Z"
   },
   {
    "duration": 8,
    "start_time": "2025-01-10T19:35:08.255Z"
   },
   {
    "duration": 10,
    "start_time": "2025-01-10T19:35:08.265Z"
   },
   {
    "duration": 56,
    "start_time": "2025-01-10T19:35:08.277Z"
   },
   {
    "duration": 5,
    "start_time": "2025-01-10T19:35:08.337Z"
   },
   {
    "duration": 5,
    "start_time": "2025-01-10T19:35:08.346Z"
   },
   {
    "duration": 23,
    "start_time": "2025-01-10T19:35:08.359Z"
   },
   {
    "duration": 51,
    "start_time": "2025-01-10T19:35:08.384Z"
   },
   {
    "duration": 18,
    "start_time": "2025-01-10T19:35:08.440Z"
   },
   {
    "duration": 1281,
    "start_time": "2025-01-10T19:36:44.333Z"
   },
   {
    "duration": 12,
    "start_time": "2025-01-10T19:36:45.618Z"
   },
   {
    "duration": 6,
    "start_time": "2025-01-10T19:36:45.631Z"
   },
   {
    "duration": 13,
    "start_time": "2025-01-10T19:36:45.640Z"
   },
   {
    "duration": 11,
    "start_time": "2025-01-10T19:36:45.655Z"
   },
   {
    "duration": 3,
    "start_time": "2025-01-10T19:36:45.668Z"
   },
   {
    "duration": 10,
    "start_time": "2025-01-10T19:36:45.673Z"
   },
   {
    "duration": 20,
    "start_time": "2025-01-10T19:36:45.684Z"
   },
   {
    "duration": 5,
    "start_time": "2025-01-10T19:36:45.732Z"
   },
   {
    "duration": 3156,
    "start_time": "2025-01-10T19:36:45.740Z"
   },
   {
    "duration": 537,
    "start_time": "2025-01-10T19:36:48.898Z"
   },
   {
    "duration": 87,
    "start_time": "2025-01-10T19:36:49.438Z"
   },
   {
    "duration": 3,
    "start_time": "2025-01-10T19:36:49.530Z"
   },
   {
    "duration": 7,
    "start_time": "2025-01-10T19:36:49.535Z"
   },
   {
    "duration": 10,
    "start_time": "2025-01-10T19:36:49.545Z"
   },
   {
    "duration": 10,
    "start_time": "2025-01-10T19:36:49.559Z"
   },
   {
    "duration": 32,
    "start_time": "2025-01-10T19:36:49.572Z"
   },
   {
    "duration": 44,
    "start_time": "2025-01-10T19:36:49.606Z"
   },
   {
    "duration": 14,
    "start_time": "2025-01-10T19:36:49.653Z"
   },
   {
    "duration": 6,
    "start_time": "2025-01-10T19:36:49.670Z"
   },
   {
    "duration": 3,
    "start_time": "2025-01-10T19:36:49.678Z"
   },
   {
    "duration": 3,
    "start_time": "2025-01-10T19:36:49.683Z"
   },
   {
    "duration": 46,
    "start_time": "2025-01-10T19:36:49.688Z"
   },
   {
    "duration": 11,
    "start_time": "2025-01-10T19:36:49.737Z"
   },
   {
    "duration": 801,
    "start_time": "2025-01-10T19:36:49.751Z"
   },
   {
    "duration": 201,
    "start_time": "2025-01-10T19:36:50.554Z"
   },
   {
    "duration": 10,
    "start_time": "2025-01-10T19:36:50.758Z"
   },
   {
    "duration": 6,
    "start_time": "2025-01-10T19:36:50.773Z"
   },
   {
    "duration": 4,
    "start_time": "2025-01-10T19:36:50.781Z"
   },
   {
    "duration": 10,
    "start_time": "2025-01-10T19:36:50.787Z"
   },
   {
    "duration": 47,
    "start_time": "2025-01-10T19:36:50.799Z"
   },
   {
    "duration": 4,
    "start_time": "2025-01-10T19:36:50.851Z"
   },
   {
    "duration": 6,
    "start_time": "2025-01-10T19:36:50.859Z"
   },
   {
    "duration": 64,
    "start_time": "2025-01-10T19:36:50.867Z"
   },
   {
    "duration": 5,
    "start_time": "2025-01-10T19:36:50.933Z"
   },
   {
    "duration": 5,
    "start_time": "2025-01-10T19:36:50.944Z"
   },
   {
    "duration": 11,
    "start_time": "2025-01-10T19:36:50.951Z"
   },
   {
    "duration": 10,
    "start_time": "2025-01-10T19:36:50.965Z"
   },
   {
    "duration": 55,
    "start_time": "2025-01-10T19:36:50.978Z"
   },
   {
    "duration": 5,
    "start_time": "2025-01-10T19:36:51.037Z"
   },
   {
    "duration": 15,
    "start_time": "2025-01-10T19:36:51.045Z"
   },
   {
    "duration": 19,
    "start_time": "2025-01-10T19:36:51.062Z"
   },
   {
    "duration": 15,
    "start_time": "2025-01-10T19:36:51.132Z"
   },
   {
    "duration": 399,
    "start_time": "2025-01-10T19:39:30.415Z"
   },
   {
    "duration": 1035,
    "start_time": "2025-01-10T19:39:35.656Z"
   },
   {
    "duration": 7,
    "start_time": "2025-01-10T19:39:36.694Z"
   },
   {
    "duration": 4,
    "start_time": "2025-01-10T19:39:36.702Z"
   },
   {
    "duration": 24,
    "start_time": "2025-01-10T19:39:36.709Z"
   },
   {
    "duration": 9,
    "start_time": "2025-01-10T19:39:36.735Z"
   },
   {
    "duration": 3,
    "start_time": "2025-01-10T19:39:36.747Z"
   },
   {
    "duration": 8,
    "start_time": "2025-01-10T19:39:36.752Z"
   },
   {
    "duration": 17,
    "start_time": "2025-01-10T19:39:36.762Z"
   },
   {
    "duration": 5,
    "start_time": "2025-01-10T19:39:36.781Z"
   },
   {
    "duration": 2720,
    "start_time": "2025-01-10T19:39:36.791Z"
   },
   {
    "duration": 526,
    "start_time": "2025-01-10T19:39:39.513Z"
   },
   {
    "duration": 66,
    "start_time": "2025-01-10T19:39:40.041Z"
   },
   {
    "duration": 2,
    "start_time": "2025-01-10T19:39:40.109Z"
   },
   {
    "duration": 6,
    "start_time": "2025-01-10T19:39:40.131Z"
   },
   {
    "duration": 8,
    "start_time": "2025-01-10T19:39:40.140Z"
   },
   {
    "duration": 7,
    "start_time": "2025-01-10T19:39:40.150Z"
   },
   {
    "duration": 38,
    "start_time": "2025-01-10T19:39:40.159Z"
   },
   {
    "duration": 37,
    "start_time": "2025-01-10T19:39:40.200Z"
   },
   {
    "duration": 14,
    "start_time": "2025-01-10T19:39:40.239Z"
   },
   {
    "duration": 5,
    "start_time": "2025-01-10T19:39:40.255Z"
   },
   {
    "duration": 5,
    "start_time": "2025-01-10T19:39:40.263Z"
   },
   {
    "duration": 2,
    "start_time": "2025-01-10T19:39:40.270Z"
   },
   {
    "duration": 19,
    "start_time": "2025-01-10T19:39:40.274Z"
   },
   {
    "duration": 42,
    "start_time": "2025-01-10T19:39:40.295Z"
   },
   {
    "duration": 455,
    "start_time": "2025-01-10T19:39:40.339Z"
   },
   {
    "duration": 0,
    "start_time": "2025-01-10T19:39:40.797Z"
   },
   {
    "duration": 0,
    "start_time": "2025-01-10T19:39:40.798Z"
   },
   {
    "duration": 0,
    "start_time": "2025-01-10T19:39:40.799Z"
   },
   {
    "duration": 0,
    "start_time": "2025-01-10T19:39:40.800Z"
   },
   {
    "duration": 0,
    "start_time": "2025-01-10T19:39:40.807Z"
   },
   {
    "duration": 0,
    "start_time": "2025-01-10T19:39:40.812Z"
   },
   {
    "duration": 0,
    "start_time": "2025-01-10T19:39:40.813Z"
   },
   {
    "duration": 0,
    "start_time": "2025-01-10T19:39:40.814Z"
   },
   {
    "duration": 0,
    "start_time": "2025-01-10T19:39:40.816Z"
   },
   {
    "duration": 0,
    "start_time": "2025-01-10T19:39:40.817Z"
   },
   {
    "duration": 0,
    "start_time": "2025-01-10T19:39:40.819Z"
   },
   {
    "duration": 0,
    "start_time": "2025-01-10T19:39:40.830Z"
   },
   {
    "duration": 0,
    "start_time": "2025-01-10T19:39:40.831Z"
   },
   {
    "duration": 0,
    "start_time": "2025-01-10T19:39:40.832Z"
   },
   {
    "duration": 0,
    "start_time": "2025-01-10T19:39:40.833Z"
   },
   {
    "duration": 0,
    "start_time": "2025-01-10T19:39:40.835Z"
   },
   {
    "duration": 0,
    "start_time": "2025-01-10T19:39:40.836Z"
   },
   {
    "duration": 0,
    "start_time": "2025-01-10T19:39:40.837Z"
   },
   {
    "duration": 664,
    "start_time": "2025-01-10T19:44:05.358Z"
   },
   {
    "duration": 690,
    "start_time": "2025-01-10T19:44:20.407Z"
   },
   {
    "duration": 716,
    "start_time": "2025-01-10T19:44:31.329Z"
   },
   {
    "duration": 10,
    "start_time": "2025-01-10T19:45:34.840Z"
   },
   {
    "duration": 1081,
    "start_time": "2025-01-10T19:46:03.718Z"
   },
   {
    "duration": 6,
    "start_time": "2025-01-10T19:46:04.801Z"
   },
   {
    "duration": 3,
    "start_time": "2025-01-10T19:46:04.810Z"
   },
   {
    "duration": 19,
    "start_time": "2025-01-10T19:46:04.816Z"
   },
   {
    "duration": 9,
    "start_time": "2025-01-10T19:46:04.837Z"
   },
   {
    "duration": 3,
    "start_time": "2025-01-10T19:46:04.848Z"
   },
   {
    "duration": 8,
    "start_time": "2025-01-10T19:46:04.853Z"
   },
   {
    "duration": 17,
    "start_time": "2025-01-10T19:46:04.863Z"
   },
   {
    "duration": 5,
    "start_time": "2025-01-10T19:46:04.882Z"
   },
   {
    "duration": 2710,
    "start_time": "2025-01-10T19:46:04.890Z"
   },
   {
    "duration": 556,
    "start_time": "2025-01-10T19:46:07.602Z"
   },
   {
    "duration": 86,
    "start_time": "2025-01-10T19:46:08.160Z"
   },
   {
    "duration": 2,
    "start_time": "2025-01-10T19:46:08.248Z"
   },
   {
    "duration": 3,
    "start_time": "2025-01-10T19:46:08.252Z"
   },
   {
    "duration": 9,
    "start_time": "2025-01-10T19:46:08.257Z"
   },
   {
    "duration": 9,
    "start_time": "2025-01-10T19:46:08.268Z"
   },
   {
    "duration": 51,
    "start_time": "2025-01-10T19:46:08.280Z"
   },
   {
    "duration": 29,
    "start_time": "2025-01-10T19:46:08.334Z"
   },
   {
    "duration": 15,
    "start_time": "2025-01-10T19:46:08.364Z"
   },
   {
    "duration": 4,
    "start_time": "2025-01-10T19:46:08.382Z"
   },
   {
    "duration": 3,
    "start_time": "2025-01-10T19:46:08.389Z"
   },
   {
    "duration": 3,
    "start_time": "2025-01-10T19:46:08.394Z"
   },
   {
    "duration": 50,
    "start_time": "2025-01-10T19:46:08.399Z"
   },
   {
    "duration": 10,
    "start_time": "2025-01-10T19:46:08.453Z"
   },
   {
    "duration": 740,
    "start_time": "2025-01-10T19:46:08.465Z"
   },
   {
    "duration": 217,
    "start_time": "2025-01-10T19:46:09.207Z"
   },
   {
    "duration": 13,
    "start_time": "2025-01-10T19:46:09.426Z"
   },
   {
    "duration": 5,
    "start_time": "2025-01-10T19:46:09.443Z"
   },
   {
    "duration": 3,
    "start_time": "2025-01-10T19:46:09.450Z"
   },
   {
    "duration": 16,
    "start_time": "2025-01-10T19:46:09.455Z"
   },
   {
    "duration": 63,
    "start_time": "2025-01-10T19:46:09.476Z"
   },
   {
    "duration": 7,
    "start_time": "2025-01-10T19:46:09.543Z"
   },
   {
    "duration": 5,
    "start_time": "2025-01-10T19:46:09.553Z"
   },
   {
    "duration": 75,
    "start_time": "2025-01-10T19:46:09.561Z"
   },
   {
    "duration": 3,
    "start_time": "2025-01-10T19:46:09.638Z"
   },
   {
    "duration": 4,
    "start_time": "2025-01-10T19:46:09.643Z"
   },
   {
    "duration": 12,
    "start_time": "2025-01-10T19:46:09.652Z"
   },
   {
    "duration": 65,
    "start_time": "2025-01-10T19:46:09.666Z"
   },
   {
    "duration": 6,
    "start_time": "2025-01-10T19:46:09.734Z"
   },
   {
    "duration": 4,
    "start_time": "2025-01-10T19:46:09.743Z"
   },
   {
    "duration": 12,
    "start_time": "2025-01-10T19:46:09.749Z"
   },
   {
    "duration": 7,
    "start_time": "2025-01-10T19:46:09.763Z"
   },
   {
    "duration": 74,
    "start_time": "2025-01-10T19:46:09.771Z"
   },
   {
    "duration": 1077,
    "start_time": "2025-01-10T19:57:07.031Z"
   },
   {
    "duration": 9,
    "start_time": "2025-01-10T19:57:08.110Z"
   },
   {
    "duration": 4,
    "start_time": "2025-01-10T19:57:08.121Z"
   },
   {
    "duration": 15,
    "start_time": "2025-01-10T19:57:08.131Z"
   },
   {
    "duration": 10,
    "start_time": "2025-01-10T19:57:08.148Z"
   },
   {
    "duration": 3,
    "start_time": "2025-01-10T19:57:08.160Z"
   },
   {
    "duration": 8,
    "start_time": "2025-01-10T19:57:08.166Z"
   },
   {
    "duration": 18,
    "start_time": "2025-01-10T19:57:08.176Z"
   },
   {
    "duration": 6,
    "start_time": "2025-01-10T19:57:08.196Z"
   },
   {
    "duration": 2679,
    "start_time": "2025-01-10T19:57:08.232Z"
   },
   {
    "duration": 495,
    "start_time": "2025-01-10T19:57:10.913Z"
   },
   {
    "duration": 74,
    "start_time": "2025-01-10T19:57:11.410Z"
   },
   {
    "duration": 3,
    "start_time": "2025-01-10T19:57:11.487Z"
   },
   {
    "duration": 4,
    "start_time": "2025-01-10T19:57:11.492Z"
   },
   {
    "duration": 9,
    "start_time": "2025-01-10T19:57:11.498Z"
   },
   {
    "duration": 32,
    "start_time": "2025-01-10T19:57:11.509Z"
   },
   {
    "duration": 44,
    "start_time": "2025-01-10T19:57:11.542Z"
   },
   {
    "duration": 26,
    "start_time": "2025-01-10T19:57:11.587Z"
   },
   {
    "duration": 24,
    "start_time": "2025-01-10T19:57:11.615Z"
   },
   {
    "duration": 4,
    "start_time": "2025-01-10T19:57:11.641Z"
   },
   {
    "duration": 4,
    "start_time": "2025-01-10T19:57:11.647Z"
   },
   {
    "duration": 4,
    "start_time": "2025-01-10T19:57:11.652Z"
   },
   {
    "duration": 29,
    "start_time": "2025-01-10T19:57:11.657Z"
   },
   {
    "duration": 11,
    "start_time": "2025-01-10T19:57:11.688Z"
   },
   {
    "duration": 746,
    "start_time": "2025-01-10T19:57:11.701Z"
   },
   {
    "duration": 7,
    "start_time": "2025-01-10T19:57:12.449Z"
   },
   {
    "duration": 5,
    "start_time": "2025-01-10T19:57:12.458Z"
   },
   {
    "duration": 11,
    "start_time": "2025-01-10T19:57:12.467Z"
   },
   {
    "duration": 15,
    "start_time": "2025-01-10T19:57:12.479Z"
   },
   {
    "duration": 11,
    "start_time": "2025-01-10T19:57:12.533Z"
   },
   {
    "duration": 4,
    "start_time": "2025-01-10T19:57:12.546Z"
   },
   {
    "duration": 3,
    "start_time": "2025-01-10T19:57:12.552Z"
   },
   {
    "duration": 3,
    "start_time": "2025-01-10T19:57:12.557Z"
   },
   {
    "duration": 72,
    "start_time": "2025-01-10T19:57:12.561Z"
   },
   {
    "duration": 7,
    "start_time": "2025-01-10T19:57:12.636Z"
   },
   {
    "duration": 7,
    "start_time": "2025-01-10T19:57:12.645Z"
   },
   {
    "duration": 8,
    "start_time": "2025-01-10T19:57:12.654Z"
   },
   {
    "duration": 7,
    "start_time": "2025-01-10T19:57:12.731Z"
   },
   {
    "duration": 7,
    "start_time": "2025-01-10T19:57:12.741Z"
   },
   {
    "duration": 11,
    "start_time": "2025-01-10T19:57:12.750Z"
   },
   {
    "duration": 7,
    "start_time": "2025-01-10T19:57:12.763Z"
   },
   {
    "duration": 65,
    "start_time": "2025-01-10T19:57:12.771Z"
   },
   {
    "duration": 1070,
    "start_time": "2025-01-10T19:58:35.823Z"
   },
   {
    "duration": 9,
    "start_time": "2025-01-10T19:58:36.895Z"
   },
   {
    "duration": 4,
    "start_time": "2025-01-10T19:58:36.907Z"
   },
   {
    "duration": 18,
    "start_time": "2025-01-10T19:58:36.913Z"
   },
   {
    "duration": 9,
    "start_time": "2025-01-10T19:58:36.934Z"
   },
   {
    "duration": 3,
    "start_time": "2025-01-10T19:58:36.945Z"
   },
   {
    "duration": 8,
    "start_time": "2025-01-10T19:58:36.950Z"
   },
   {
    "duration": 19,
    "start_time": "2025-01-10T19:58:36.959Z"
   },
   {
    "duration": 5,
    "start_time": "2025-01-10T19:58:36.979Z"
   },
   {
    "duration": 2796,
    "start_time": "2025-01-10T19:58:36.988Z"
   },
   {
    "duration": 512,
    "start_time": "2025-01-10T19:58:39.786Z"
   },
   {
    "duration": 80,
    "start_time": "2025-01-10T19:58:40.300Z"
   },
   {
    "duration": 3,
    "start_time": "2025-01-10T19:58:40.382Z"
   },
   {
    "duration": 5,
    "start_time": "2025-01-10T19:58:40.386Z"
   },
   {
    "duration": 9,
    "start_time": "2025-01-10T19:58:40.393Z"
   },
   {
    "duration": 24,
    "start_time": "2025-01-10T19:58:40.406Z"
   },
   {
    "duration": 28,
    "start_time": "2025-01-10T19:58:40.433Z"
   },
   {
    "duration": 27,
    "start_time": "2025-01-10T19:58:40.463Z"
   },
   {
    "duration": 39,
    "start_time": "2025-01-10T19:58:40.492Z"
   },
   {
    "duration": 5,
    "start_time": "2025-01-10T19:58:40.533Z"
   },
   {
    "duration": 3,
    "start_time": "2025-01-10T19:58:40.540Z"
   },
   {
    "duration": 4,
    "start_time": "2025-01-10T19:58:40.544Z"
   },
   {
    "duration": 19,
    "start_time": "2025-01-10T19:58:40.549Z"
   },
   {
    "duration": 11,
    "start_time": "2025-01-10T19:58:40.570Z"
   },
   {
    "duration": 748,
    "start_time": "2025-01-10T19:58:40.583Z"
   },
   {
    "duration": 9,
    "start_time": "2025-01-10T19:58:41.332Z"
   },
   {
    "duration": 3,
    "start_time": "2025-01-10T19:58:41.343Z"
   },
   {
    "duration": 2,
    "start_time": "2025-01-10T19:58:41.351Z"
   },
   {
    "duration": 14,
    "start_time": "2025-01-10T19:58:41.355Z"
   },
   {
    "duration": 7,
    "start_time": "2025-01-10T19:58:41.370Z"
   },
   {
    "duration": 58,
    "start_time": "2025-01-10T19:58:41.380Z"
   },
   {
    "duration": 4,
    "start_time": "2025-01-10T19:58:41.440Z"
   },
   {
    "duration": 6,
    "start_time": "2025-01-10T19:58:41.447Z"
   },
   {
    "duration": 6,
    "start_time": "2025-01-10T19:58:41.454Z"
   },
   {
    "duration": 71,
    "start_time": "2025-01-10T19:58:41.462Z"
   },
   {
    "duration": 5,
    "start_time": "2025-01-10T19:58:41.535Z"
   },
   {
    "duration": 5,
    "start_time": "2025-01-10T19:58:41.542Z"
   },
   {
    "duration": 3,
    "start_time": "2025-01-10T19:58:41.549Z"
   },
   {
    "duration": 3,
    "start_time": "2025-01-10T19:58:41.554Z"
   },
   {
    "duration": 78,
    "start_time": "2025-01-10T19:58:41.560Z"
   },
   {
    "duration": 13,
    "start_time": "2025-01-10T19:58:41.641Z"
   },
   {
    "duration": 7,
    "start_time": "2025-01-10T19:58:41.656Z"
   },
   {
    "duration": 1268,
    "start_time": "2025-01-10T20:09:56.199Z"
   },
   {
    "duration": 0,
    "start_time": "2025-01-10T20:09:57.470Z"
   },
   {
    "duration": 0,
    "start_time": "2025-01-10T20:09:57.471Z"
   },
   {
    "duration": 0,
    "start_time": "2025-01-10T20:09:57.472Z"
   },
   {
    "duration": 0,
    "start_time": "2025-01-10T20:09:57.474Z"
   },
   {
    "duration": 0,
    "start_time": "2025-01-10T20:09:57.475Z"
   },
   {
    "duration": 0,
    "start_time": "2025-01-10T20:09:57.476Z"
   },
   {
    "duration": 0,
    "start_time": "2025-01-10T20:09:57.478Z"
   },
   {
    "duration": 0,
    "start_time": "2025-01-10T20:09:57.479Z"
   },
   {
    "duration": 0,
    "start_time": "2025-01-10T20:09:57.480Z"
   },
   {
    "duration": 0,
    "start_time": "2025-01-10T20:09:57.481Z"
   },
   {
    "duration": 0,
    "start_time": "2025-01-10T20:09:57.483Z"
   },
   {
    "duration": 0,
    "start_time": "2025-01-10T20:09:57.484Z"
   },
   {
    "duration": 0,
    "start_time": "2025-01-10T20:09:57.485Z"
   },
   {
    "duration": 0,
    "start_time": "2025-01-10T20:09:57.487Z"
   },
   {
    "duration": 0,
    "start_time": "2025-01-10T20:09:57.488Z"
   },
   {
    "duration": 0,
    "start_time": "2025-01-10T20:09:57.489Z"
   },
   {
    "duration": 0,
    "start_time": "2025-01-10T20:09:57.490Z"
   },
   {
    "duration": 0,
    "start_time": "2025-01-10T20:09:57.492Z"
   },
   {
    "duration": 0,
    "start_time": "2025-01-10T20:09:57.493Z"
   },
   {
    "duration": 0,
    "start_time": "2025-01-10T20:09:57.494Z"
   },
   {
    "duration": 0,
    "start_time": "2025-01-10T20:09:57.532Z"
   },
   {
    "duration": 0,
    "start_time": "2025-01-10T20:09:57.533Z"
   },
   {
    "duration": 0,
    "start_time": "2025-01-10T20:09:57.534Z"
   },
   {
    "duration": 0,
    "start_time": "2025-01-10T20:09:57.535Z"
   },
   {
    "duration": 0,
    "start_time": "2025-01-10T20:09:57.536Z"
   },
   {
    "duration": 0,
    "start_time": "2025-01-10T20:09:57.537Z"
   },
   {
    "duration": 0,
    "start_time": "2025-01-10T20:09:57.538Z"
   },
   {
    "duration": 0,
    "start_time": "2025-01-10T20:09:57.539Z"
   },
   {
    "duration": 0,
    "start_time": "2025-01-10T20:09:57.541Z"
   },
   {
    "duration": 0,
    "start_time": "2025-01-10T20:09:57.542Z"
   },
   {
    "duration": 0,
    "start_time": "2025-01-10T20:09:57.543Z"
   },
   {
    "duration": 0,
    "start_time": "2025-01-10T20:09:57.544Z"
   },
   {
    "duration": 0,
    "start_time": "2025-01-10T20:09:57.545Z"
   },
   {
    "duration": 0,
    "start_time": "2025-01-10T20:09:57.546Z"
   },
   {
    "duration": 0,
    "start_time": "2025-01-10T20:09:57.547Z"
   },
   {
    "duration": 0,
    "start_time": "2025-01-10T20:09:57.548Z"
   },
   {
    "duration": 0,
    "start_time": "2025-01-10T20:09:57.548Z"
   },
   {
    "duration": 0,
    "start_time": "2025-01-10T20:09:57.549Z"
   },
   {
    "duration": 0,
    "start_time": "2025-01-10T20:09:57.550Z"
   },
   {
    "duration": 0,
    "start_time": "2025-01-10T20:09:57.551Z"
   },
   {
    "duration": 0,
    "start_time": "2025-01-10T20:09:57.552Z"
   },
   {
    "duration": 0,
    "start_time": "2025-01-10T20:09:57.553Z"
   },
   {
    "duration": 0,
    "start_time": "2025-01-10T20:09:57.554Z"
   },
   {
    "duration": 1115,
    "start_time": "2025-01-10T20:11:12.451Z"
   },
   {
    "duration": 9,
    "start_time": "2025-01-10T20:11:13.568Z"
   },
   {
    "duration": 4,
    "start_time": "2025-01-10T20:11:13.578Z"
   },
   {
    "duration": 10,
    "start_time": "2025-01-10T20:11:13.584Z"
   },
   {
    "duration": 9,
    "start_time": "2025-01-10T20:11:13.596Z"
   },
   {
    "duration": 3,
    "start_time": "2025-01-10T20:11:13.606Z"
   },
   {
    "duration": 28,
    "start_time": "2025-01-10T20:11:13.611Z"
   },
   {
    "duration": 18,
    "start_time": "2025-01-10T20:11:13.641Z"
   },
   {
    "duration": 4,
    "start_time": "2025-01-10T20:11:13.661Z"
   },
   {
    "duration": 2751,
    "start_time": "2025-01-10T20:11:13.668Z"
   },
   {
    "duration": 508,
    "start_time": "2025-01-10T20:11:16.421Z"
   },
   {
    "duration": 67,
    "start_time": "2025-01-10T20:11:16.931Z"
   },
   {
    "duration": 3,
    "start_time": "2025-01-10T20:11:17.000Z"
   },
   {
    "duration": 6,
    "start_time": "2025-01-10T20:11:17.005Z"
   },
   {
    "duration": 9,
    "start_time": "2025-01-10T20:11:17.031Z"
   },
   {
    "duration": 10,
    "start_time": "2025-01-10T20:11:17.041Z"
   },
   {
    "duration": 40,
    "start_time": "2025-01-10T20:11:17.054Z"
   },
   {
    "duration": 41,
    "start_time": "2025-01-10T20:11:17.096Z"
   },
   {
    "duration": 15,
    "start_time": "2025-01-10T20:11:17.140Z"
   },
   {
    "duration": 6,
    "start_time": "2025-01-10T20:11:17.156Z"
   },
   {
    "duration": 3,
    "start_time": "2025-01-10T20:11:17.163Z"
   },
   {
    "duration": 3,
    "start_time": "2025-01-10T20:11:17.168Z"
   },
   {
    "duration": 27,
    "start_time": "2025-01-10T20:11:17.174Z"
   },
   {
    "duration": 12,
    "start_time": "2025-01-10T20:11:17.232Z"
   },
   {
    "duration": 844,
    "start_time": "2025-01-10T20:11:17.246Z"
   },
   {
    "duration": 836,
    "start_time": "2025-01-10T20:11:18.092Z"
   },
   {
    "duration": 11,
    "start_time": "2025-01-10T20:11:18.931Z"
   },
   {
    "duration": 10,
    "start_time": "2025-01-10T20:11:18.946Z"
   },
   {
    "duration": 2,
    "start_time": "2025-01-10T20:11:18.959Z"
   },
   {
    "duration": 8,
    "start_time": "2025-01-10T20:11:18.963Z"
   },
   {
    "duration": 7,
    "start_time": "2025-01-10T20:11:18.973Z"
   },
   {
    "duration": 3,
    "start_time": "2025-01-10T20:11:18.982Z"
   },
   {
    "duration": 10,
    "start_time": "2025-01-10T20:11:19.032Z"
   },
   {
    "duration": 3,
    "start_time": "2025-01-10T20:11:19.044Z"
   },
   {
    "duration": 4,
    "start_time": "2025-01-10T20:11:19.048Z"
   },
   {
    "duration": 4,
    "start_time": "2025-01-10T20:11:19.054Z"
   },
   {
    "duration": 73,
    "start_time": "2025-01-10T20:11:19.060Z"
   },
   {
    "duration": 6,
    "start_time": "2025-01-10T20:11:19.137Z"
   },
   {
    "duration": 6,
    "start_time": "2025-01-10T20:11:19.145Z"
   },
   {
    "duration": 4,
    "start_time": "2025-01-10T20:11:19.154Z"
   },
   {
    "duration": 77,
    "start_time": "2025-01-10T20:11:19.159Z"
   },
   {
    "duration": 11,
    "start_time": "2025-01-10T20:11:19.238Z"
   },
   {
    "duration": 11,
    "start_time": "2025-01-10T20:11:19.251Z"
   },
   {
    "duration": 355,
    "start_time": "2025-01-10T20:18:11.558Z"
   },
   {
    "duration": 6,
    "start_time": "2025-01-10T20:19:09.320Z"
   },
   {
    "duration": 4,
    "start_time": "2025-01-10T20:21:29.695Z"
   },
   {
    "duration": 1034,
    "start_time": "2025-01-10T20:22:08.123Z"
   },
   {
    "duration": 9,
    "start_time": "2025-01-10T20:22:09.160Z"
   },
   {
    "duration": 3,
    "start_time": "2025-01-10T20:22:09.170Z"
   },
   {
    "duration": 12,
    "start_time": "2025-01-10T20:22:09.175Z"
   },
   {
    "duration": 9,
    "start_time": "2025-01-10T20:22:09.189Z"
   },
   {
    "duration": 3,
    "start_time": "2025-01-10T20:22:09.200Z"
   },
   {
    "duration": 33,
    "start_time": "2025-01-10T20:22:09.205Z"
   },
   {
    "duration": 19,
    "start_time": "2025-01-10T20:22:09.240Z"
   },
   {
    "duration": 5,
    "start_time": "2025-01-10T20:22:09.260Z"
   },
   {
    "duration": 2702,
    "start_time": "2025-01-10T20:22:09.267Z"
   },
   {
    "duration": 510,
    "start_time": "2025-01-10T20:22:11.972Z"
   },
   {
    "duration": 76,
    "start_time": "2025-01-10T20:22:12.484Z"
   },
   {
    "duration": 2,
    "start_time": "2025-01-10T20:22:12.562Z"
   },
   {
    "duration": 4,
    "start_time": "2025-01-10T20:22:12.569Z"
   },
   {
    "duration": 9,
    "start_time": "2025-01-10T20:22:12.575Z"
   },
   {
    "duration": 9,
    "start_time": "2025-01-10T20:22:12.587Z"
   },
   {
    "duration": 56,
    "start_time": "2025-01-10T20:22:12.598Z"
   },
   {
    "duration": 33,
    "start_time": "2025-01-10T20:22:12.656Z"
   },
   {
    "duration": 20,
    "start_time": "2025-01-10T20:22:12.691Z"
   },
   {
    "duration": 20,
    "start_time": "2025-01-10T20:22:12.713Z"
   },
   {
    "duration": 3,
    "start_time": "2025-01-10T20:22:12.736Z"
   },
   {
    "duration": 3,
    "start_time": "2025-01-10T20:22:12.741Z"
   },
   {
    "duration": 20,
    "start_time": "2025-01-10T20:22:12.745Z"
   },
   {
    "duration": 12,
    "start_time": "2025-01-10T20:22:12.766Z"
   },
   {
    "duration": 780,
    "start_time": "2025-01-10T20:22:12.780Z"
   },
   {
    "duration": 731,
    "start_time": "2025-01-10T20:22:13.562Z"
   },
   {
    "duration": 9,
    "start_time": "2025-01-10T20:22:14.296Z"
   },
   {
    "duration": 3,
    "start_time": "2025-01-10T20:22:14.307Z"
   },
   {
    "duration": 20,
    "start_time": "2025-01-10T20:22:14.312Z"
   },
   {
    "duration": 17,
    "start_time": "2025-01-10T20:22:14.334Z"
   },
   {
    "duration": 6,
    "start_time": "2025-01-10T20:22:14.353Z"
   },
   {
    "duration": 4,
    "start_time": "2025-01-10T20:22:14.361Z"
   },
   {
    "duration": 65,
    "start_time": "2025-01-10T20:22:14.367Z"
   },
   {
    "duration": 3,
    "start_time": "2025-01-10T20:22:14.435Z"
   },
   {
    "duration": 3,
    "start_time": "2025-01-10T20:22:14.440Z"
   },
   {
    "duration": 5,
    "start_time": "2025-01-10T20:22:14.445Z"
   },
   {
    "duration": 6,
    "start_time": "2025-01-10T20:22:14.452Z"
   },
   {
    "duration": 76,
    "start_time": "2025-01-10T20:22:14.460Z"
   },
   {
    "duration": 8,
    "start_time": "2025-01-10T20:22:14.538Z"
   },
   {
    "duration": 6,
    "start_time": "2025-01-10T20:22:14.548Z"
   },
   {
    "duration": 13,
    "start_time": "2025-01-10T20:22:14.560Z"
   },
   {
    "duration": 15,
    "start_time": "2025-01-10T20:22:14.631Z"
   },
   {
    "duration": 10,
    "start_time": "2025-01-10T20:22:14.649Z"
   },
   {
    "duration": 8,
    "start_time": "2025-01-10T20:27:26.396Z"
   },
   {
    "duration": 1039,
    "start_time": "2025-01-10T20:27:36.124Z"
   },
   {
    "duration": 9,
    "start_time": "2025-01-10T20:27:37.165Z"
   },
   {
    "duration": 3,
    "start_time": "2025-01-10T20:27:37.176Z"
   },
   {
    "duration": 10,
    "start_time": "2025-01-10T20:27:37.183Z"
   },
   {
    "duration": 9,
    "start_time": "2025-01-10T20:27:37.194Z"
   },
   {
    "duration": 3,
    "start_time": "2025-01-10T20:27:37.206Z"
   },
   {
    "duration": 29,
    "start_time": "2025-01-10T20:27:37.211Z"
   },
   {
    "duration": 24,
    "start_time": "2025-01-10T20:27:37.241Z"
   },
   {
    "duration": 6,
    "start_time": "2025-01-10T20:27:37.270Z"
   },
   {
    "duration": 2773,
    "start_time": "2025-01-10T20:27:37.279Z"
   },
   {
    "duration": 557,
    "start_time": "2025-01-10T20:27:40.054Z"
   },
   {
    "duration": 92,
    "start_time": "2025-01-10T20:27:40.613Z"
   },
   {
    "duration": 2,
    "start_time": "2025-01-10T20:27:40.707Z"
   },
   {
    "duration": 6,
    "start_time": "2025-01-10T20:27:40.711Z"
   },
   {
    "duration": 18,
    "start_time": "2025-01-10T20:27:40.719Z"
   },
   {
    "duration": 9,
    "start_time": "2025-01-10T20:27:40.739Z"
   },
   {
    "duration": 25,
    "start_time": "2025-01-10T20:27:40.750Z"
   },
   {
    "duration": 54,
    "start_time": "2025-01-10T20:27:40.777Z"
   },
   {
    "duration": 10,
    "start_time": "2025-01-10T20:27:40.833Z"
   },
   {
    "duration": 5,
    "start_time": "2025-01-10T20:27:40.845Z"
   },
   {
    "duration": 3,
    "start_time": "2025-01-10T20:27:40.852Z"
   },
   {
    "duration": 3,
    "start_time": "2025-01-10T20:27:40.856Z"
   },
   {
    "duration": 21,
    "start_time": "2025-01-10T20:27:40.861Z"
   },
   {
    "duration": 12,
    "start_time": "2025-01-10T20:27:40.883Z"
   },
   {
    "duration": 919,
    "start_time": "2025-01-10T20:27:40.897Z"
   },
   {
    "duration": 737,
    "start_time": "2025-01-10T20:27:41.817Z"
   },
   {
    "duration": 10,
    "start_time": "2025-01-10T20:27:42.555Z"
   },
   {
    "duration": 4,
    "start_time": "2025-01-10T20:27:42.569Z"
   },
   {
    "duration": 4,
    "start_time": "2025-01-10T20:27:42.575Z"
   },
   {
    "duration": 14,
    "start_time": "2025-01-10T20:27:42.580Z"
   },
   {
    "duration": 7,
    "start_time": "2025-01-10T20:27:42.632Z"
   },
   {
    "duration": 3,
    "start_time": "2025-01-10T20:27:42.641Z"
   },
   {
    "duration": 3,
    "start_time": "2025-01-10T20:27:42.646Z"
   },
   {
    "duration": 3,
    "start_time": "2025-01-10T20:27:42.650Z"
   },
   {
    "duration": 4,
    "start_time": "2025-01-10T20:27:42.655Z"
   },
   {
    "duration": 3,
    "start_time": "2025-01-10T20:27:42.661Z"
   },
   {
    "duration": 4,
    "start_time": "2025-01-10T20:27:42.732Z"
   },
   {
    "duration": 5,
    "start_time": "2025-01-10T20:27:42.738Z"
   },
   {
    "duration": 5,
    "start_time": "2025-01-10T20:27:42.745Z"
   },
   {
    "duration": 4,
    "start_time": "2025-01-10T20:27:42.752Z"
   },
   {
    "duration": 82,
    "start_time": "2025-01-10T20:27:42.757Z"
   },
   {
    "duration": 7,
    "start_time": "2025-01-10T20:27:42.841Z"
   },
   {
    "duration": 12,
    "start_time": "2025-01-10T20:27:42.850Z"
   },
   {
    "duration": 1120,
    "start_time": "2025-01-10T20:29:28.949Z"
   },
   {
    "duration": 9,
    "start_time": "2025-01-10T20:29:30.073Z"
   },
   {
    "duration": 5,
    "start_time": "2025-01-10T20:29:30.084Z"
   },
   {
    "duration": 11,
    "start_time": "2025-01-10T20:29:30.091Z"
   },
   {
    "duration": 10,
    "start_time": "2025-01-10T20:29:30.104Z"
   },
   {
    "duration": 17,
    "start_time": "2025-01-10T20:29:30.116Z"
   },
   {
    "duration": 15,
    "start_time": "2025-01-10T20:29:30.136Z"
   },
   {
    "duration": 18,
    "start_time": "2025-01-10T20:29:30.154Z"
   },
   {
    "duration": 6,
    "start_time": "2025-01-10T20:29:30.174Z"
   },
   {
    "duration": 2704,
    "start_time": "2025-01-10T20:29:30.184Z"
   },
   {
    "duration": 493,
    "start_time": "2025-01-10T20:29:32.889Z"
   },
   {
    "duration": 75,
    "start_time": "2025-01-10T20:29:33.385Z"
   },
   {
    "duration": 3,
    "start_time": "2025-01-10T20:29:33.462Z"
   },
   {
    "duration": 5,
    "start_time": "2025-01-10T20:29:33.467Z"
   },
   {
    "duration": 8,
    "start_time": "2025-01-10T20:29:33.474Z"
   },
   {
    "duration": 8,
    "start_time": "2025-01-10T20:29:33.484Z"
   },
   {
    "duration": 51,
    "start_time": "2025-01-10T20:29:33.494Z"
   },
   {
    "duration": 25,
    "start_time": "2025-01-10T20:29:33.547Z"
   },
   {
    "duration": 16,
    "start_time": "2025-01-10T20:29:33.574Z"
   },
   {
    "duration": 5,
    "start_time": "2025-01-10T20:29:33.593Z"
   },
   {
    "duration": 4,
    "start_time": "2025-01-10T20:29:33.600Z"
   },
   {
    "duration": 3,
    "start_time": "2025-01-10T20:29:33.605Z"
   },
   {
    "duration": 43,
    "start_time": "2025-01-10T20:29:33.610Z"
   },
   {
    "duration": 12,
    "start_time": "2025-01-10T20:29:33.655Z"
   },
   {
    "duration": 736,
    "start_time": "2025-01-10T20:29:33.670Z"
   },
   {
    "duration": 791,
    "start_time": "2025-01-10T20:29:34.408Z"
   },
   {
    "duration": 9,
    "start_time": "2025-01-10T20:29:35.201Z"
   },
   {
    "duration": 4,
    "start_time": "2025-01-10T20:29:35.216Z"
   },
   {
    "duration": 3,
    "start_time": "2025-01-10T20:29:35.232Z"
   },
   {
    "duration": 14,
    "start_time": "2025-01-10T20:29:35.237Z"
   },
   {
    "duration": 9,
    "start_time": "2025-01-10T20:29:35.252Z"
   },
   {
    "duration": 3,
    "start_time": "2025-01-10T20:29:35.263Z"
   },
   {
    "duration": 66,
    "start_time": "2025-01-10T20:29:35.267Z"
   },
   {
    "duration": 3,
    "start_time": "2025-01-10T20:29:35.335Z"
   },
   {
    "duration": 4,
    "start_time": "2025-01-10T20:29:35.340Z"
   },
   {
    "duration": 7,
    "start_time": "2025-01-10T20:29:35.346Z"
   },
   {
    "duration": 4,
    "start_time": "2025-01-10T20:29:35.355Z"
   },
   {
    "duration": 76,
    "start_time": "2025-01-10T20:29:35.361Z"
   },
   {
    "duration": 5,
    "start_time": "2025-01-10T20:29:35.439Z"
   },
   {
    "duration": 4,
    "start_time": "2025-01-10T20:29:35.445Z"
   },
   {
    "duration": 15,
    "start_time": "2025-01-10T20:29:35.451Z"
   },
   {
    "duration": 7,
    "start_time": "2025-01-10T20:29:35.532Z"
   },
   {
    "duration": 7,
    "start_time": "2025-01-10T20:29:35.541Z"
   },
   {
    "duration": 1022,
    "start_time": "2025-01-10T20:29:44.616Z"
   },
   {
    "duration": 7,
    "start_time": "2025-01-10T20:29:45.641Z"
   },
   {
    "duration": 3,
    "start_time": "2025-01-10T20:29:45.650Z"
   },
   {
    "duration": 12,
    "start_time": "2025-01-10T20:29:45.655Z"
   },
   {
    "duration": 9,
    "start_time": "2025-01-10T20:29:45.668Z"
   },
   {
    "duration": 3,
    "start_time": "2025-01-10T20:29:45.679Z"
   },
   {
    "duration": 9,
    "start_time": "2025-01-10T20:29:45.684Z"
   },
   {
    "duration": 51,
    "start_time": "2025-01-10T20:29:45.695Z"
   },
   {
    "duration": 7,
    "start_time": "2025-01-10T20:29:45.748Z"
   },
   {
    "duration": 2742,
    "start_time": "2025-01-10T20:29:45.758Z"
   },
   {
    "duration": 541,
    "start_time": "2025-01-10T20:29:48.502Z"
   },
   {
    "duration": 68,
    "start_time": "2025-01-10T20:29:49.046Z"
   },
   {
    "duration": 15,
    "start_time": "2025-01-10T20:29:49.116Z"
   },
   {
    "duration": 5,
    "start_time": "2025-01-10T20:29:49.133Z"
   },
   {
    "duration": 8,
    "start_time": "2025-01-10T20:29:49.140Z"
   },
   {
    "duration": 10,
    "start_time": "2025-01-10T20:29:49.150Z"
   },
   {
    "duration": 39,
    "start_time": "2025-01-10T20:29:49.161Z"
   },
   {
    "duration": 55,
    "start_time": "2025-01-10T20:29:49.202Z"
   },
   {
    "duration": 8,
    "start_time": "2025-01-10T20:29:49.259Z"
   },
   {
    "duration": 5,
    "start_time": "2025-01-10T20:29:49.271Z"
   },
   {
    "duration": 3,
    "start_time": "2025-01-10T20:29:49.277Z"
   },
   {
    "duration": 2,
    "start_time": "2025-01-10T20:29:49.282Z"
   },
   {
    "duration": 56,
    "start_time": "2025-01-10T20:29:49.286Z"
   },
   {
    "duration": 11,
    "start_time": "2025-01-10T20:29:49.344Z"
   },
   {
    "duration": 793,
    "start_time": "2025-01-10T20:29:49.356Z"
   },
   {
    "duration": 729,
    "start_time": "2025-01-10T20:29:50.151Z"
   },
   {
    "duration": 11,
    "start_time": "2025-01-10T20:29:50.881Z"
   },
   {
    "duration": 6,
    "start_time": "2025-01-10T20:29:50.897Z"
   },
   {
    "duration": 3,
    "start_time": "2025-01-10T20:29:50.904Z"
   },
   {
    "duration": 32,
    "start_time": "2025-01-10T20:29:50.909Z"
   },
   {
    "duration": 6,
    "start_time": "2025-01-10T20:29:50.943Z"
   },
   {
    "duration": 3,
    "start_time": "2025-01-10T20:29:50.951Z"
   },
   {
    "duration": 2,
    "start_time": "2025-01-10T20:29:50.956Z"
   },
   {
    "duration": 2,
    "start_time": "2025-01-10T20:29:50.960Z"
   },
   {
    "duration": 4,
    "start_time": "2025-01-10T20:29:50.964Z"
   },
   {
    "duration": 66,
    "start_time": "2025-01-10T20:29:50.970Z"
   },
   {
    "duration": 7,
    "start_time": "2025-01-10T20:29:51.037Z"
   },
   {
    "duration": 8,
    "start_time": "2025-01-10T20:29:51.046Z"
   },
   {
    "duration": 4,
    "start_time": "2025-01-10T20:29:51.055Z"
   },
   {
    "duration": 70,
    "start_time": "2025-01-10T20:29:51.061Z"
   },
   {
    "duration": 13,
    "start_time": "2025-01-10T20:29:51.134Z"
   },
   {
    "duration": 16,
    "start_time": "2025-01-10T20:29:51.148Z"
   },
   {
    "duration": 71,
    "start_time": "2025-01-10T20:29:51.166Z"
   },
   {
    "duration": 10,
    "start_time": "2025-01-10T20:30:32.828Z"
   },
   {
    "duration": 1088,
    "start_time": "2025-01-10T20:30:40.887Z"
   },
   {
    "duration": 7,
    "start_time": "2025-01-10T20:30:41.978Z"
   },
   {
    "duration": 4,
    "start_time": "2025-01-10T20:30:41.987Z"
   },
   {
    "duration": 10,
    "start_time": "2025-01-10T20:30:41.994Z"
   },
   {
    "duration": 28,
    "start_time": "2025-01-10T20:30:42.006Z"
   },
   {
    "duration": 3,
    "start_time": "2025-01-10T20:30:42.036Z"
   },
   {
    "duration": 10,
    "start_time": "2025-01-10T20:30:42.041Z"
   },
   {
    "duration": 19,
    "start_time": "2025-01-10T20:30:42.052Z"
   },
   {
    "duration": 5,
    "start_time": "2025-01-10T20:30:42.073Z"
   },
   {
    "duration": 2722,
    "start_time": "2025-01-10T20:30:42.081Z"
   },
   {
    "duration": 528,
    "start_time": "2025-01-10T20:30:44.805Z"
   },
   {
    "duration": 110,
    "start_time": "2025-01-10T20:30:45.335Z"
   },
   {
    "duration": 3,
    "start_time": "2025-01-10T20:30:45.447Z"
   },
   {
    "duration": 5,
    "start_time": "2025-01-10T20:30:45.451Z"
   },
   {
    "duration": 8,
    "start_time": "2025-01-10T20:30:45.457Z"
   },
   {
    "duration": 8,
    "start_time": "2025-01-10T20:30:45.466Z"
   },
   {
    "duration": 67,
    "start_time": "2025-01-10T20:30:45.476Z"
   },
   {
    "duration": 25,
    "start_time": "2025-01-10T20:30:45.545Z"
   },
   {
    "duration": 9,
    "start_time": "2025-01-10T20:30:45.572Z"
   },
   {
    "duration": 6,
    "start_time": "2025-01-10T20:30:45.583Z"
   },
   {
    "duration": 4,
    "start_time": "2025-01-10T20:30:45.631Z"
   },
   {
    "duration": 2,
    "start_time": "2025-01-10T20:30:45.637Z"
   },
   {
    "duration": 20,
    "start_time": "2025-01-10T20:30:45.641Z"
   },
   {
    "duration": 11,
    "start_time": "2025-01-10T20:30:45.663Z"
   },
   {
    "duration": 740,
    "start_time": "2025-01-10T20:30:45.676Z"
   },
   {
    "duration": 745,
    "start_time": "2025-01-10T20:30:46.419Z"
   },
   {
    "duration": 9,
    "start_time": "2025-01-10T20:30:47.166Z"
   },
   {
    "duration": 4,
    "start_time": "2025-01-10T20:30:47.179Z"
   },
   {
    "duration": 4,
    "start_time": "2025-01-10T20:30:47.184Z"
   },
   {
    "duration": 47,
    "start_time": "2025-01-10T20:30:47.189Z"
   },
   {
    "duration": 9,
    "start_time": "2025-01-10T20:30:47.237Z"
   },
   {
    "duration": 5,
    "start_time": "2025-01-10T20:30:47.249Z"
   },
   {
    "duration": 3,
    "start_time": "2025-01-10T20:30:47.256Z"
   },
   {
    "duration": 4,
    "start_time": "2025-01-10T20:30:47.260Z"
   },
   {
    "duration": 68,
    "start_time": "2025-01-10T20:30:47.266Z"
   },
   {
    "duration": 7,
    "start_time": "2025-01-10T20:30:47.336Z"
   },
   {
    "duration": 7,
    "start_time": "2025-01-10T20:30:47.344Z"
   },
   {
    "duration": 7,
    "start_time": "2025-01-10T20:30:47.353Z"
   },
   {
    "duration": 70,
    "start_time": "2025-01-10T20:30:47.361Z"
   },
   {
    "duration": 3,
    "start_time": "2025-01-10T20:30:47.434Z"
   },
   {
    "duration": 12,
    "start_time": "2025-01-10T20:30:47.439Z"
   },
   {
    "duration": 10,
    "start_time": "2025-01-10T20:30:47.453Z"
   },
   {
    "duration": 71,
    "start_time": "2025-01-10T20:30:47.464Z"
   },
   {
    "duration": 1110,
    "start_time": "2025-01-10T20:31:02.179Z"
   },
   {
    "duration": 9,
    "start_time": "2025-01-10T20:31:03.292Z"
   },
   {
    "duration": 4,
    "start_time": "2025-01-10T20:31:03.302Z"
   },
   {
    "duration": 24,
    "start_time": "2025-01-10T20:31:03.309Z"
   },
   {
    "duration": 10,
    "start_time": "2025-01-10T20:31:03.335Z"
   },
   {
    "duration": 4,
    "start_time": "2025-01-10T20:31:03.347Z"
   },
   {
    "duration": 9,
    "start_time": "2025-01-10T20:31:03.352Z"
   },
   {
    "duration": 19,
    "start_time": "2025-01-10T20:31:03.362Z"
   },
   {
    "duration": 4,
    "start_time": "2025-01-10T20:31:03.383Z"
   },
   {
    "duration": 2745,
    "start_time": "2025-01-10T20:31:03.391Z"
   },
   {
    "duration": 545,
    "start_time": "2025-01-10T20:31:06.138Z"
   },
   {
    "duration": 93,
    "start_time": "2025-01-10T20:31:06.685Z"
   },
   {
    "duration": 3,
    "start_time": "2025-01-10T20:31:06.780Z"
   },
   {
    "duration": 4,
    "start_time": "2025-01-10T20:31:06.784Z"
   },
   {
    "duration": 7,
    "start_time": "2025-01-10T20:31:06.790Z"
   },
   {
    "duration": 7,
    "start_time": "2025-01-10T20:31:06.799Z"
   },
   {
    "duration": 46,
    "start_time": "2025-01-10T20:31:06.807Z"
   },
   {
    "duration": 24,
    "start_time": "2025-01-10T20:31:06.855Z"
   },
   {
    "duration": 10,
    "start_time": "2025-01-10T20:31:06.881Z"
   },
   {
    "duration": 5,
    "start_time": "2025-01-10T20:31:06.893Z"
   },
   {
    "duration": 3,
    "start_time": "2025-01-10T20:31:06.900Z"
   },
   {
    "duration": 27,
    "start_time": "2025-01-10T20:31:06.904Z"
   },
   {
    "duration": 27,
    "start_time": "2025-01-10T20:31:06.933Z"
   },
   {
    "duration": 10,
    "start_time": "2025-01-10T20:31:06.961Z"
   },
   {
    "duration": 843,
    "start_time": "2025-01-10T20:31:06.973Z"
   },
   {
    "duration": 812,
    "start_time": "2025-01-10T20:31:07.819Z"
   },
   {
    "duration": 11,
    "start_time": "2025-01-10T20:31:08.633Z"
   },
   {
    "duration": 4,
    "start_time": "2025-01-10T20:31:08.649Z"
   },
   {
    "duration": 2,
    "start_time": "2025-01-10T20:31:08.655Z"
   },
   {
    "duration": 12,
    "start_time": "2025-01-10T20:31:08.659Z"
   },
   {
    "duration": 5,
    "start_time": "2025-01-10T20:31:08.673Z"
   },
   {
    "duration": 52,
    "start_time": "2025-01-10T20:31:08.680Z"
   },
   {
    "duration": 3,
    "start_time": "2025-01-10T20:31:08.734Z"
   },
   {
    "duration": 5,
    "start_time": "2025-01-10T20:31:08.739Z"
   },
   {
    "duration": 4,
    "start_time": "2025-01-10T20:31:08.746Z"
   },
   {
    "duration": 6,
    "start_time": "2025-01-10T20:31:08.752Z"
   },
   {
    "duration": 73,
    "start_time": "2025-01-10T20:31:08.760Z"
   },
   {
    "duration": 6,
    "start_time": "2025-01-10T20:31:08.835Z"
   },
   {
    "duration": 6,
    "start_time": "2025-01-10T20:31:08.843Z"
   },
   {
    "duration": 4,
    "start_time": "2025-01-10T20:31:08.851Z"
   },
   {
    "duration": 78,
    "start_time": "2025-01-10T20:31:08.856Z"
   },
   {
    "duration": 18,
    "start_time": "2025-01-10T20:31:08.936Z"
   },
   {
    "duration": 10,
    "start_time": "2025-01-10T20:31:08.956Z"
   },
   {
    "duration": 1440,
    "start_time": "2025-01-10T20:35:14.669Z"
   },
   {
    "duration": 10,
    "start_time": "2025-01-10T20:35:16.113Z"
   },
   {
    "duration": 8,
    "start_time": "2025-01-10T20:35:16.125Z"
   },
   {
    "duration": 14,
    "start_time": "2025-01-10T20:35:16.138Z"
   },
   {
    "duration": 18,
    "start_time": "2025-01-10T20:35:16.158Z"
   },
   {
    "duration": 7,
    "start_time": "2025-01-10T20:35:16.179Z"
   },
   {
    "duration": 20,
    "start_time": "2025-01-10T20:35:16.187Z"
   },
   {
    "duration": 23,
    "start_time": "2025-01-10T20:35:16.209Z"
   },
   {
    "duration": 5,
    "start_time": "2025-01-10T20:35:16.234Z"
   },
   {
    "duration": 3382,
    "start_time": "2025-01-10T20:35:16.242Z"
   },
   {
    "duration": 568,
    "start_time": "2025-01-10T20:35:19.626Z"
   },
   {
    "duration": 67,
    "start_time": "2025-01-10T20:35:20.197Z"
   },
   {
    "duration": 3,
    "start_time": "2025-01-10T20:35:20.266Z"
   },
   {
    "duration": 5,
    "start_time": "2025-01-10T20:35:20.275Z"
   },
   {
    "duration": 11,
    "start_time": "2025-01-10T20:35:20.282Z"
   },
   {
    "duration": 8,
    "start_time": "2025-01-10T20:35:20.295Z"
   },
   {
    "duration": 28,
    "start_time": "2025-01-10T20:35:20.331Z"
   },
   {
    "duration": 30,
    "start_time": "2025-01-10T20:35:20.361Z"
   },
   {
    "duration": 12,
    "start_time": "2025-01-10T20:35:20.394Z"
   },
   {
    "duration": 22,
    "start_time": "2025-01-10T20:35:20.409Z"
   },
   {
    "duration": 4,
    "start_time": "2025-01-10T20:35:20.435Z"
   },
   {
    "duration": 21,
    "start_time": "2025-01-10T20:35:20.441Z"
   },
   {
    "duration": 11,
    "start_time": "2025-01-10T20:35:20.464Z"
   },
   {
    "duration": 770,
    "start_time": "2025-01-10T20:35:20.478Z"
   },
   {
    "duration": 761,
    "start_time": "2025-01-10T20:35:21.251Z"
   },
   {
    "duration": 19,
    "start_time": "2025-01-10T20:35:22.014Z"
   },
   {
    "duration": 4,
    "start_time": "2025-01-10T20:35:22.035Z"
   },
   {
    "duration": 3,
    "start_time": "2025-01-10T20:35:22.042Z"
   },
   {
    "duration": 18,
    "start_time": "2025-01-10T20:35:22.047Z"
   },
   {
    "duration": 7,
    "start_time": "2025-01-10T20:35:22.068Z"
   },
   {
    "duration": 5,
    "start_time": "2025-01-10T20:35:22.078Z"
   },
   {
    "duration": 47,
    "start_time": "2025-01-10T20:35:22.086Z"
   },
   {
    "duration": 3,
    "start_time": "2025-01-10T20:35:22.142Z"
   },
   {
    "duration": 3,
    "start_time": "2025-01-10T20:35:22.147Z"
   },
   {
    "duration": 7,
    "start_time": "2025-01-10T20:35:22.152Z"
   },
   {
    "duration": 6,
    "start_time": "2025-01-10T20:35:22.162Z"
   },
   {
    "duration": 9,
    "start_time": "2025-01-10T20:35:22.170Z"
   },
   {
    "duration": 50,
    "start_time": "2025-01-10T20:35:22.181Z"
   },
   {
    "duration": 5,
    "start_time": "2025-01-10T20:35:22.235Z"
   },
   {
    "duration": 23,
    "start_time": "2025-01-10T20:35:22.243Z"
   },
   {
    "duration": 64,
    "start_time": "2025-01-10T20:35:22.274Z"
   },
   {
    "duration": 12,
    "start_time": "2025-01-10T20:35:22.341Z"
   },
   {
    "duration": 13,
    "start_time": "2025-01-10T20:36:17.931Z"
   },
   {
    "duration": 1371,
    "start_time": "2025-01-10T20:36:22.553Z"
   },
   {
    "duration": 10,
    "start_time": "2025-01-10T20:36:23.928Z"
   },
   {
    "duration": 5,
    "start_time": "2025-01-10T20:36:23.939Z"
   },
   {
    "duration": 13,
    "start_time": "2025-01-10T20:36:23.947Z"
   },
   {
    "duration": 9,
    "start_time": "2025-01-10T20:36:23.962Z"
   },
   {
    "duration": 3,
    "start_time": "2025-01-10T20:36:23.973Z"
   },
   {
    "duration": 9,
    "start_time": "2025-01-10T20:36:23.978Z"
   },
   {
    "duration": 55,
    "start_time": "2025-01-10T20:36:23.989Z"
   },
   {
    "duration": 4,
    "start_time": "2025-01-10T20:36:24.046Z"
   },
   {
    "duration": 3863,
    "start_time": "2025-01-10T20:36:24.053Z"
   },
   {
    "duration": 706,
    "start_time": "2025-01-10T20:36:27.917Z"
   },
   {
    "duration": 99,
    "start_time": "2025-01-10T20:36:28.625Z"
   },
   {
    "duration": 3,
    "start_time": "2025-01-10T20:36:28.731Z"
   },
   {
    "duration": 4,
    "start_time": "2025-01-10T20:36:28.740Z"
   },
   {
    "duration": 11,
    "start_time": "2025-01-10T20:36:28.747Z"
   },
   {
    "duration": 10,
    "start_time": "2025-01-10T20:36:28.761Z"
   },
   {
    "duration": 62,
    "start_time": "2025-01-10T20:36:28.773Z"
   },
   {
    "duration": 39,
    "start_time": "2025-01-10T20:36:28.837Z"
   },
   {
    "duration": 10,
    "start_time": "2025-01-10T20:36:28.878Z"
   },
   {
    "duration": 3,
    "start_time": "2025-01-10T20:36:28.890Z"
   },
   {
    "duration": 3,
    "start_time": "2025-01-10T20:36:28.895Z"
   },
   {
    "duration": 56,
    "start_time": "2025-01-10T20:36:28.900Z"
   },
   {
    "duration": 15,
    "start_time": "2025-01-10T20:36:28.958Z"
   },
   {
    "duration": 1090,
    "start_time": "2025-01-10T20:36:28.979Z"
   },
   {
    "duration": 985,
    "start_time": "2025-01-10T20:36:30.074Z"
   },
   {
    "duration": 9,
    "start_time": "2025-01-10T20:36:31.061Z"
   },
   {
    "duration": 5,
    "start_time": "2025-01-10T20:36:31.072Z"
   },
   {
    "duration": 4,
    "start_time": "2025-01-10T20:36:31.082Z"
   },
   {
    "duration": 10,
    "start_time": "2025-01-10T20:36:31.088Z"
   },
   {
    "duration": 35,
    "start_time": "2025-01-10T20:36:31.100Z"
   },
   {
    "duration": 7,
    "start_time": "2025-01-10T20:36:31.138Z"
   },
   {
    "duration": 4,
    "start_time": "2025-01-10T20:36:31.149Z"
   },
   {
    "duration": 5,
    "start_time": "2025-01-10T20:36:31.155Z"
   },
   {
    "duration": 4,
    "start_time": "2025-01-10T20:36:31.162Z"
   },
   {
    "duration": 6,
    "start_time": "2025-01-10T20:36:31.167Z"
   },
   {
    "duration": 7,
    "start_time": "2025-01-10T20:36:31.174Z"
   },
   {
    "duration": 8,
    "start_time": "2025-01-10T20:36:31.231Z"
   },
   {
    "duration": 5,
    "start_time": "2025-01-10T20:36:31.242Z"
   },
   {
    "duration": 4,
    "start_time": "2025-01-10T20:36:31.250Z"
   },
   {
    "duration": 19,
    "start_time": "2025-01-10T20:36:31.256Z"
   },
   {
    "duration": 59,
    "start_time": "2025-01-10T20:36:31.278Z"
   },
   {
    "duration": 13,
    "start_time": "2025-01-10T20:36:31.340Z"
   },
   {
    "duration": 1100,
    "start_time": "2025-01-10T20:40:49.197Z"
   },
   {
    "duration": 8,
    "start_time": "2025-01-10T20:40:50.299Z"
   },
   {
    "duration": 3,
    "start_time": "2025-01-10T20:40:50.309Z"
   },
   {
    "duration": 26,
    "start_time": "2025-01-10T20:40:50.314Z"
   },
   {
    "duration": 15,
    "start_time": "2025-01-10T20:40:50.342Z"
   },
   {
    "duration": 4,
    "start_time": "2025-01-10T20:40:50.360Z"
   },
   {
    "duration": 12,
    "start_time": "2025-01-10T20:40:50.368Z"
   },
   {
    "duration": 28,
    "start_time": "2025-01-10T20:40:50.382Z"
   },
   {
    "duration": 10,
    "start_time": "2025-01-10T20:40:50.431Z"
   },
   {
    "duration": 2647,
    "start_time": "2025-01-10T20:40:50.445Z"
   },
   {
    "duration": 498,
    "start_time": "2025-01-10T20:40:53.094Z"
   },
   {
    "duration": 75,
    "start_time": "2025-01-10T20:40:53.593Z"
   },
   {
    "duration": 4,
    "start_time": "2025-01-10T20:40:53.670Z"
   },
   {
    "duration": 5,
    "start_time": "2025-01-10T20:40:53.676Z"
   },
   {
    "duration": 11,
    "start_time": "2025-01-10T20:40:53.682Z"
   },
   {
    "duration": 8,
    "start_time": "2025-01-10T20:40:53.694Z"
   },
   {
    "duration": 42,
    "start_time": "2025-01-10T20:40:53.703Z"
   },
   {
    "duration": 27,
    "start_time": "2025-01-10T20:40:53.747Z"
   },
   {
    "duration": 11,
    "start_time": "2025-01-10T20:40:53.778Z"
   },
   {
    "duration": 5,
    "start_time": "2025-01-10T20:40:53.793Z"
   },
   {
    "duration": 2,
    "start_time": "2025-01-10T20:40:53.801Z"
   },
   {
    "duration": 36,
    "start_time": "2025-01-10T20:40:53.805Z"
   },
   {
    "duration": 10,
    "start_time": "2025-01-10T20:40:53.843Z"
   },
   {
    "duration": 755,
    "start_time": "2025-01-10T20:40:53.854Z"
   },
   {
    "duration": 681,
    "start_time": "2025-01-10T20:40:54.611Z"
   },
   {
    "duration": 9,
    "start_time": "2025-01-10T20:40:55.294Z"
   },
   {
    "duration": 4,
    "start_time": "2025-01-10T20:40:55.304Z"
   },
   {
    "duration": 3,
    "start_time": "2025-01-10T20:40:55.313Z"
   },
   {
    "duration": 25,
    "start_time": "2025-01-10T20:40:55.331Z"
   },
   {
    "duration": 9,
    "start_time": "2025-01-10T20:40:55.358Z"
   },
   {
    "duration": 10,
    "start_time": "2025-01-10T20:40:55.433Z"
   },
   {
    "duration": 5,
    "start_time": "2025-01-10T20:40:55.446Z"
   },
   {
    "duration": 3,
    "start_time": "2025-01-10T20:40:55.453Z"
   },
   {
    "duration": 3,
    "start_time": "2025-01-10T20:40:55.458Z"
   },
   {
    "duration": 5,
    "start_time": "2025-01-10T20:40:55.463Z"
   },
   {
    "duration": 65,
    "start_time": "2025-01-10T20:40:55.470Z"
   },
   {
    "duration": 7,
    "start_time": "2025-01-10T20:40:55.537Z"
   },
   {
    "duration": 7,
    "start_time": "2025-01-10T20:40:55.545Z"
   },
   {
    "duration": 4,
    "start_time": "2025-01-10T20:40:55.555Z"
   },
   {
    "duration": 79,
    "start_time": "2025-01-10T20:40:55.562Z"
   },
   {
    "duration": 11,
    "start_time": "2025-01-10T20:40:55.643Z"
   },
   {
    "duration": 9,
    "start_time": "2025-01-10T20:40:55.655Z"
   },
   {
    "duration": 1062,
    "start_time": "2025-01-10T20:45:26.183Z"
   },
   {
    "duration": 7,
    "start_time": "2025-01-10T20:45:27.248Z"
   },
   {
    "duration": 3,
    "start_time": "2025-01-10T20:45:27.258Z"
   },
   {
    "duration": 12,
    "start_time": "2025-01-10T20:45:27.264Z"
   },
   {
    "duration": 9,
    "start_time": "2025-01-10T20:45:27.279Z"
   },
   {
    "duration": 3,
    "start_time": "2025-01-10T20:45:27.290Z"
   },
   {
    "duration": 9,
    "start_time": "2025-01-10T20:45:27.295Z"
   },
   {
    "duration": 20,
    "start_time": "2025-01-10T20:45:27.332Z"
   },
   {
    "duration": 4,
    "start_time": "2025-01-10T20:45:27.355Z"
   },
   {
    "duration": 2721,
    "start_time": "2025-01-10T20:45:27.363Z"
   },
   {
    "duration": 528,
    "start_time": "2025-01-10T20:45:30.086Z"
   },
   {
    "duration": 87,
    "start_time": "2025-01-10T20:45:30.616Z"
   },
   {
    "duration": 3,
    "start_time": "2025-01-10T20:45:30.705Z"
   },
   {
    "duration": 4,
    "start_time": "2025-01-10T20:45:30.710Z"
   },
   {
    "duration": 22,
    "start_time": "2025-01-10T20:45:30.716Z"
   },
   {
    "duration": 9,
    "start_time": "2025-01-10T20:45:30.739Z"
   },
   {
    "duration": 27,
    "start_time": "2025-01-10T20:45:30.749Z"
   },
   {
    "duration": 27,
    "start_time": "2025-01-10T20:45:30.778Z"
   },
   {
    "duration": 32,
    "start_time": "2025-01-10T20:45:30.807Z"
   },
   {
    "duration": 3,
    "start_time": "2025-01-10T20:45:30.841Z"
   },
   {
    "duration": 3,
    "start_time": "2025-01-10T20:45:30.845Z"
   },
   {
    "duration": 19,
    "start_time": "2025-01-10T20:45:30.850Z"
   },
   {
    "duration": 10,
    "start_time": "2025-01-10T20:45:30.870Z"
   },
   {
    "duration": 704,
    "start_time": "2025-01-10T20:45:30.881Z"
   },
   {
    "duration": 613,
    "start_time": "2025-01-10T20:45:31.587Z"
   },
   {
    "duration": 9,
    "start_time": "2025-01-10T20:45:32.202Z"
   },
   {
    "duration": 3,
    "start_time": "2025-01-10T20:45:32.213Z"
   },
   {
    "duration": 3,
    "start_time": "2025-01-10T20:45:32.234Z"
   },
   {
    "duration": 15,
    "start_time": "2025-01-10T20:45:32.239Z"
   },
   {
    "duration": 6,
    "start_time": "2025-01-10T20:45:32.255Z"
   },
   {
    "duration": 4,
    "start_time": "2025-01-10T20:45:32.262Z"
   },
   {
    "duration": 63,
    "start_time": "2025-01-10T20:45:32.267Z"
   },
   {
    "duration": 5,
    "start_time": "2025-01-10T20:45:32.333Z"
   },
   {
    "duration": 3,
    "start_time": "2025-01-10T20:45:32.340Z"
   },
   {
    "duration": 4,
    "start_time": "2025-01-10T20:45:32.345Z"
   },
   {
    "duration": 5,
    "start_time": "2025-01-10T20:45:32.351Z"
   },
   {
    "duration": 7,
    "start_time": "2025-01-10T20:45:32.357Z"
   },
   {
    "duration": 6,
    "start_time": "2025-01-10T20:45:32.432Z"
   },
   {
    "duration": 3,
    "start_time": "2025-01-10T20:45:32.440Z"
   },
   {
    "duration": 13,
    "start_time": "2025-01-10T20:45:32.445Z"
   },
   {
    "duration": 78,
    "start_time": "2025-01-10T20:45:32.460Z"
   },
   {
    "duration": 12,
    "start_time": "2025-01-10T20:45:32.541Z"
   },
   {
    "duration": 1055,
    "start_time": "2025-01-10T20:46:56.358Z"
   },
   {
    "duration": 7,
    "start_time": "2025-01-10T20:46:57.416Z"
   },
   {
    "duration": 7,
    "start_time": "2025-01-10T20:46:57.425Z"
   },
   {
    "duration": 10,
    "start_time": "2025-01-10T20:46:57.436Z"
   },
   {
    "duration": 10,
    "start_time": "2025-01-10T20:46:57.448Z"
   },
   {
    "duration": 4,
    "start_time": "2025-01-10T20:46:57.459Z"
   },
   {
    "duration": 9,
    "start_time": "2025-01-10T20:46:57.465Z"
   },
   {
    "duration": 19,
    "start_time": "2025-01-10T20:46:57.475Z"
   },
   {
    "duration": 37,
    "start_time": "2025-01-10T20:46:57.496Z"
   },
   {
    "duration": 2781,
    "start_time": "2025-01-10T20:46:57.535Z"
   },
   {
    "duration": 528,
    "start_time": "2025-01-10T20:47:00.318Z"
   },
   {
    "duration": 71,
    "start_time": "2025-01-10T20:47:00.848Z"
   },
   {
    "duration": 3,
    "start_time": "2025-01-10T20:47:00.931Z"
   },
   {
    "duration": 6,
    "start_time": "2025-01-10T20:47:00.939Z"
   },
   {
    "duration": 8,
    "start_time": "2025-01-10T20:47:00.948Z"
   },
   {
    "duration": 8,
    "start_time": "2025-01-10T20:47:00.957Z"
   },
   {
    "duration": 27,
    "start_time": "2025-01-10T20:47:00.967Z"
   },
   {
    "duration": 58,
    "start_time": "2025-01-10T20:47:00.996Z"
   },
   {
    "duration": 8,
    "start_time": "2025-01-10T20:47:01.056Z"
   },
   {
    "duration": 2,
    "start_time": "2025-01-10T20:47:01.066Z"
   },
   {
    "duration": 3,
    "start_time": "2025-01-10T20:47:01.070Z"
   },
   {
    "duration": 19,
    "start_time": "2025-01-10T20:47:01.075Z"
   },
   {
    "duration": 9,
    "start_time": "2025-01-10T20:47:01.097Z"
   },
   {
    "duration": 646,
    "start_time": "2025-01-10T20:47:01.108Z"
   },
   {
    "duration": 10,
    "start_time": "2025-01-10T20:47:01.756Z"
   },
   {
    "duration": 5,
    "start_time": "2025-01-10T20:47:01.768Z"
   },
   {
    "duration": 5,
    "start_time": "2025-01-10T20:47:01.775Z"
   },
   {
    "duration": 13,
    "start_time": "2025-01-10T20:47:01.782Z"
   },
   {
    "duration": 8,
    "start_time": "2025-01-10T20:47:01.832Z"
   },
   {
    "duration": 3,
    "start_time": "2025-01-10T20:47:01.842Z"
   },
   {
    "duration": 3,
    "start_time": "2025-01-10T20:47:01.847Z"
   },
   {
    "duration": 4,
    "start_time": "2025-01-10T20:47:01.852Z"
   },
   {
    "duration": 80,
    "start_time": "2025-01-10T20:47:01.858Z"
   },
   {
    "duration": 5,
    "start_time": "2025-01-10T20:47:01.940Z"
   },
   {
    "duration": 9,
    "start_time": "2025-01-10T20:47:01.950Z"
   },
   {
    "duration": 8,
    "start_time": "2025-01-10T20:47:01.961Z"
   },
   {
    "duration": 8,
    "start_time": "2025-01-10T20:47:01.972Z"
   },
   {
    "duration": 4,
    "start_time": "2025-01-10T20:47:02.032Z"
   },
   {
    "duration": 16,
    "start_time": "2025-01-10T20:47:02.039Z"
   },
   {
    "duration": 74,
    "start_time": "2025-01-10T20:47:02.057Z"
   },
   {
    "duration": 7,
    "start_time": "2025-01-10T20:47:02.143Z"
   },
   {
    "duration": 14,
    "start_time": "2025-01-10T20:48:14.207Z"
   },
   {
    "duration": 10,
    "start_time": "2025-01-10T20:48:17.491Z"
   },
   {
    "duration": 13,
    "start_time": "2025-01-10T20:49:33.029Z"
   },
   {
    "duration": 8,
    "start_time": "2025-01-10T20:49:42.244Z"
   },
   {
    "duration": 2698,
    "start_time": "2025-01-11T16:13:28.248Z"
   },
   {
    "duration": 63,
    "start_time": "2025-01-11T16:13:30.948Z"
   },
   {
    "duration": 3,
    "start_time": "2025-01-11T16:13:31.013Z"
   },
   {
    "duration": 11,
    "start_time": "2025-01-11T16:13:31.019Z"
   },
   {
    "duration": 10,
    "start_time": "2025-01-11T16:13:31.043Z"
   },
   {
    "duration": 5,
    "start_time": "2025-01-11T16:13:31.055Z"
   },
   {
    "duration": 8,
    "start_time": "2025-01-11T16:13:31.062Z"
   },
   {
    "duration": 21,
    "start_time": "2025-01-11T16:13:31.072Z"
   },
   {
    "duration": 6,
    "start_time": "2025-01-11T16:13:31.094Z"
   },
   {
    "duration": 2576,
    "start_time": "2025-01-11T16:13:31.103Z"
   },
   {
    "duration": 468,
    "start_time": "2025-01-11T16:13:33.681Z"
   },
   {
    "duration": 67,
    "start_time": "2025-01-11T16:13:34.151Z"
   },
   {
    "duration": 4,
    "start_time": "2025-01-11T16:13:34.221Z"
   },
   {
    "duration": 17,
    "start_time": "2025-01-11T16:13:34.226Z"
   },
   {
    "duration": 8,
    "start_time": "2025-01-11T16:13:34.245Z"
   },
   {
    "duration": 7,
    "start_time": "2025-01-11T16:13:34.255Z"
   },
   {
    "duration": 24,
    "start_time": "2025-01-11T16:13:34.264Z"
   },
   {
    "duration": 25,
    "start_time": "2025-01-11T16:13:34.290Z"
   },
   {
    "duration": 8,
    "start_time": "2025-01-11T16:13:34.344Z"
   },
   {
    "duration": 3,
    "start_time": "2025-01-11T16:13:34.353Z"
   },
   {
    "duration": 3,
    "start_time": "2025-01-11T16:13:34.357Z"
   },
   {
    "duration": 19,
    "start_time": "2025-01-11T16:13:34.362Z"
   },
   {
    "duration": 9,
    "start_time": "2025-01-11T16:13:34.382Z"
   },
   {
    "duration": 588,
    "start_time": "2025-01-11T16:13:34.392Z"
   },
   {
    "duration": 8,
    "start_time": "2025-01-11T16:13:34.981Z"
   },
   {
    "duration": 3,
    "start_time": "2025-01-11T16:13:34.991Z"
   },
   {
    "duration": 3,
    "start_time": "2025-01-11T16:13:34.996Z"
   },
   {
    "duration": 41,
    "start_time": "2025-01-11T16:13:35.004Z"
   },
   {
    "duration": 10,
    "start_time": "2025-01-11T16:13:35.046Z"
   },
   {
    "duration": 3,
    "start_time": "2025-01-11T16:13:35.060Z"
   },
   {
    "duration": 79,
    "start_time": "2025-01-11T16:13:35.065Z"
   },
   {
    "duration": 3,
    "start_time": "2025-01-11T16:13:35.146Z"
   },
   {
    "duration": 5,
    "start_time": "2025-01-11T16:13:35.151Z"
   },
   {
    "duration": 4,
    "start_time": "2025-01-11T16:13:35.157Z"
   },
   {
    "duration": 4,
    "start_time": "2025-01-11T16:13:35.163Z"
   },
   {
    "duration": 75,
    "start_time": "2025-01-11T16:13:35.170Z"
   },
   {
    "duration": 5,
    "start_time": "2025-01-11T16:13:35.247Z"
   },
   {
    "duration": 3,
    "start_time": "2025-01-11T16:13:35.254Z"
   },
   {
    "duration": 84,
    "start_time": "2025-01-11T16:13:35.259Z"
   },
   {
    "duration": 8,
    "start_time": "2025-01-11T16:13:35.345Z"
   },
   {
    "duration": 6,
    "start_time": "2025-01-11T16:13:35.355Z"
   },
   {
    "duration": 961,
    "start_time": "2025-01-11T16:39:52.892Z"
   },
   {
    "duration": 9,
    "start_time": "2025-01-11T16:39:53.856Z"
   },
   {
    "duration": 3,
    "start_time": "2025-01-11T16:39:53.866Z"
   },
   {
    "duration": 10,
    "start_time": "2025-01-11T16:39:53.872Z"
   },
   {
    "duration": 9,
    "start_time": "2025-01-11T16:39:53.883Z"
   },
   {
    "duration": 4,
    "start_time": "2025-01-11T16:39:53.893Z"
   },
   {
    "duration": 7,
    "start_time": "2025-01-11T16:39:53.898Z"
   },
   {
    "duration": 46,
    "start_time": "2025-01-11T16:39:53.907Z"
   },
   {
    "duration": 5,
    "start_time": "2025-01-11T16:39:53.955Z"
   },
   {
    "duration": 2490,
    "start_time": "2025-01-11T16:39:53.963Z"
   },
   {
    "duration": 457,
    "start_time": "2025-01-11T16:39:56.455Z"
   },
   {
    "duration": 71,
    "start_time": "2025-01-11T16:39:56.914Z"
   },
   {
    "duration": 2,
    "start_time": "2025-01-11T16:39:56.987Z"
   },
   {
    "duration": 3,
    "start_time": "2025-01-11T16:39:56.991Z"
   },
   {
    "duration": 8,
    "start_time": "2025-01-11T16:39:56.996Z"
   },
   {
    "duration": 8,
    "start_time": "2025-01-11T16:39:57.005Z"
   },
   {
    "duration": 46,
    "start_time": "2025-01-11T16:39:57.014Z"
   },
   {
    "duration": 25,
    "start_time": "2025-01-11T16:39:57.061Z"
   },
   {
    "duration": 8,
    "start_time": "2025-01-11T16:39:57.087Z"
   },
   {
    "duration": 3,
    "start_time": "2025-01-11T16:39:57.097Z"
   },
   {
    "duration": 3,
    "start_time": "2025-01-11T16:39:57.101Z"
   },
   {
    "duration": 52,
    "start_time": "2025-01-11T16:39:57.105Z"
   },
   {
    "duration": 9,
    "start_time": "2025-01-11T16:39:57.159Z"
   },
   {
    "duration": 558,
    "start_time": "2025-01-11T16:39:57.169Z"
   },
   {
    "duration": 16,
    "start_time": "2025-01-11T16:39:57.729Z"
   },
   {
    "duration": 4,
    "start_time": "2025-01-11T16:39:57.747Z"
   },
   {
    "duration": 4,
    "start_time": "2025-01-11T16:39:57.752Z"
   },
   {
    "duration": 15,
    "start_time": "2025-01-11T16:39:57.760Z"
   },
   {
    "duration": 5,
    "start_time": "2025-01-11T16:39:57.777Z"
   },
   {
    "duration": 61,
    "start_time": "2025-01-11T16:39:57.783Z"
   },
   {
    "duration": 2,
    "start_time": "2025-01-11T16:39:57.847Z"
   },
   {
    "duration": 3,
    "start_time": "2025-01-11T16:39:57.851Z"
   },
   {
    "duration": 3,
    "start_time": "2025-01-11T16:39:57.856Z"
   },
   {
    "duration": 4,
    "start_time": "2025-01-11T16:39:57.861Z"
   },
   {
    "duration": 79,
    "start_time": "2025-01-11T16:39:57.866Z"
   },
   {
    "duration": 5,
    "start_time": "2025-01-11T16:39:57.947Z"
   },
   {
    "duration": 3,
    "start_time": "2025-01-11T16:39:57.954Z"
   },
   {
    "duration": 3,
    "start_time": "2025-01-11T16:39:57.959Z"
   },
   {
    "duration": 83,
    "start_time": "2025-01-11T16:39:57.964Z"
   },
   {
    "duration": 7,
    "start_time": "2025-01-11T16:39:58.048Z"
   },
   {
    "duration": 6,
    "start_time": "2025-01-11T16:39:58.057Z"
   },
   {
    "duration": 18,
    "start_time": "2025-01-11T16:42:32.922Z"
   },
   {
    "duration": 7,
    "start_time": "2025-01-11T16:43:51.382Z"
   },
   {
    "duration": 5,
    "start_time": "2025-01-11T16:44:53.124Z"
   },
   {
    "duration": 7,
    "start_time": "2025-01-11T16:45:06.757Z"
   },
   {
    "duration": 6,
    "start_time": "2025-01-11T16:45:31.685Z"
   },
   {
    "duration": 5,
    "start_time": "2025-01-11T16:46:35.021Z"
   }
  ],
  "kernelspec": {
   "display_name": "base",
   "language": "python",
   "name": "python3"
  },
  "language_info": {
   "codemirror_mode": {
    "name": "ipython",
    "version": 3
   },
   "file_extension": ".py",
   "mimetype": "text/x-python",
   "name": "python",
   "nbconvert_exporter": "python",
   "pygments_lexer": "ipython3",
   "version": "3.12.4"
  },
  "toc": {
   "base_numbering": 1,
   "nav_menu": {},
   "number_sections": true,
   "sideBar": true,
   "skip_h1_title": true,
   "title_cell": "Table of Contents",
   "title_sidebar": "Contents",
   "toc_cell": false,
   "toc_position": {},
   "toc_section_display": true,
   "toc_window_display": false
  }
 },
 "nbformat": 4,
 "nbformat_minor": 4
}
