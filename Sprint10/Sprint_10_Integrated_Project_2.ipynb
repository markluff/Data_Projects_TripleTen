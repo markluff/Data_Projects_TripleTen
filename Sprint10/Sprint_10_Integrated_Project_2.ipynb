{
 "cells": [
  {
   "cell_type": "markdown",
   "metadata": {},
   "source": [
    "# Gold Recovery Process: Evaluation and Predictions"
   ]
  },
  {
   "cell_type": "markdown",
   "metadata": {},
   "source": [
    "## **Introduction:**\n",
    "\n",
    "Zyfra is looking to create a predictive model that will help a gold mining and refinement company develop more efficient processes. I will explore the provided data in the three data sets to make sure that it is all usable for the machine learning process. Then I will make any changes necessary. When the data is fully ready, I will use three different regression models to find more optimized solutions for the gold mining company. \n"
   ]
  },
  {
   "cell_type": "markdown",
   "metadata": {},
   "source": [
    "### Load the libaries and data. Then get a preliminary look at the data."
   ]
  },
  {
   "cell_type": "code",
   "execution_count": 1,
   "metadata": {},
   "outputs": [],
   "source": [
    "#Import libraries and tools\n",
    "import pandas as pd\n",
    "import numpy as np\n",
    "import matplotlib.pyplot as plt\n",
    "import seaborn as sns\n",
    "from scipy.stats import skew\n",
    "from sklearn.metrics import mean_absolute_error, make_scorer\n",
    "from sklearn.preprocessing import StandardScaler\n",
    "from sklearn.linear_model import LinearRegression\n",
    "from sklearn.ensemble import RandomForestRegressor\n",
    "from sklearn.model_selection import cross_val_score, GridSearchCV\n",
    "from sklearn.tree import DecisionTreeRegressor"
   ]
  },
  {
   "cell_type": "code",
   "execution_count": 2,
   "metadata": {},
   "outputs": [],
   "source": [
    "#create dataframes from the csv files\n",
    "df_train = pd.read_csv('gold_recovery_train.csv')\n",
    "df_test = pd.read_csv('gold_recovery_test.csv')\n",
    "df_full = pd.read_csv('gold_recovery_full.csv')"
   ]
  },
  {
   "cell_type": "code",
   "execution_count": 3,
   "metadata": {
    "scrolled": false
   },
   "outputs": [
    {
     "data": {
      "text/html": [
       "<div>\n",
       "<style scoped>\n",
       "    .dataframe tbody tr th:only-of-type {\n",
       "        vertical-align: middle;\n",
       "    }\n",
       "\n",
       "    .dataframe tbody tr th {\n",
       "        vertical-align: top;\n",
       "    }\n",
       "\n",
       "    .dataframe thead th {\n",
       "        text-align: right;\n",
       "    }\n",
       "</style>\n",
       "<table border=\"1\" class=\"dataframe\">\n",
       "  <thead>\n",
       "    <tr style=\"text-align: right;\">\n",
       "      <th></th>\n",
       "      <th>date</th>\n",
       "      <th>final.output.concentrate_ag</th>\n",
       "      <th>final.output.concentrate_pb</th>\n",
       "      <th>final.output.concentrate_sol</th>\n",
       "      <th>final.output.concentrate_au</th>\n",
       "      <th>final.output.recovery</th>\n",
       "      <th>final.output.tail_ag</th>\n",
       "      <th>final.output.tail_pb</th>\n",
       "      <th>final.output.tail_sol</th>\n",
       "      <th>final.output.tail_au</th>\n",
       "      <th>...</th>\n",
       "      <th>secondary_cleaner.state.floatbank4_a_air</th>\n",
       "      <th>secondary_cleaner.state.floatbank4_a_level</th>\n",
       "      <th>secondary_cleaner.state.floatbank4_b_air</th>\n",
       "      <th>secondary_cleaner.state.floatbank4_b_level</th>\n",
       "      <th>secondary_cleaner.state.floatbank5_a_air</th>\n",
       "      <th>secondary_cleaner.state.floatbank5_a_level</th>\n",
       "      <th>secondary_cleaner.state.floatbank5_b_air</th>\n",
       "      <th>secondary_cleaner.state.floatbank5_b_level</th>\n",
       "      <th>secondary_cleaner.state.floatbank6_a_air</th>\n",
       "      <th>secondary_cleaner.state.floatbank6_a_level</th>\n",
       "    </tr>\n",
       "  </thead>\n",
       "  <tbody>\n",
       "    <tr>\n",
       "      <th>0</th>\n",
       "      <td>2016-01-15 00:00:00</td>\n",
       "      <td>6.055403</td>\n",
       "      <td>9.889648</td>\n",
       "      <td>5.507324</td>\n",
       "      <td>42.192020</td>\n",
       "      <td>70.541216</td>\n",
       "      <td>10.411962</td>\n",
       "      <td>0.895447</td>\n",
       "      <td>16.904297</td>\n",
       "      <td>2.143149</td>\n",
       "      <td>...</td>\n",
       "      <td>14.016835</td>\n",
       "      <td>-502.488007</td>\n",
       "      <td>12.099931</td>\n",
       "      <td>-504.715942</td>\n",
       "      <td>9.925633</td>\n",
       "      <td>-498.310211</td>\n",
       "      <td>8.079666</td>\n",
       "      <td>-500.470978</td>\n",
       "      <td>14.151341</td>\n",
       "      <td>-605.841980</td>\n",
       "    </tr>\n",
       "    <tr>\n",
       "      <th>1</th>\n",
       "      <td>2016-01-15 01:00:00</td>\n",
       "      <td>6.029369</td>\n",
       "      <td>9.968944</td>\n",
       "      <td>5.257781</td>\n",
       "      <td>42.701629</td>\n",
       "      <td>69.266198</td>\n",
       "      <td>10.462676</td>\n",
       "      <td>0.927452</td>\n",
       "      <td>16.634514</td>\n",
       "      <td>2.224930</td>\n",
       "      <td>...</td>\n",
       "      <td>13.992281</td>\n",
       "      <td>-505.503262</td>\n",
       "      <td>11.950531</td>\n",
       "      <td>-501.331529</td>\n",
       "      <td>10.039245</td>\n",
       "      <td>-500.169983</td>\n",
       "      <td>7.984757</td>\n",
       "      <td>-500.582168</td>\n",
       "      <td>13.998353</td>\n",
       "      <td>-599.787184</td>\n",
       "    </tr>\n",
       "    <tr>\n",
       "      <th>2</th>\n",
       "      <td>2016-01-15 02:00:00</td>\n",
       "      <td>6.055926</td>\n",
       "      <td>10.213995</td>\n",
       "      <td>5.383759</td>\n",
       "      <td>42.657501</td>\n",
       "      <td>68.116445</td>\n",
       "      <td>10.507046</td>\n",
       "      <td>0.953716</td>\n",
       "      <td>16.208849</td>\n",
       "      <td>2.257889</td>\n",
       "      <td>...</td>\n",
       "      <td>14.015015</td>\n",
       "      <td>-502.520901</td>\n",
       "      <td>11.912783</td>\n",
       "      <td>-501.133383</td>\n",
       "      <td>10.070913</td>\n",
       "      <td>-500.129135</td>\n",
       "      <td>8.013877</td>\n",
       "      <td>-500.517572</td>\n",
       "      <td>14.028663</td>\n",
       "      <td>-601.427363</td>\n",
       "    </tr>\n",
       "    <tr>\n",
       "      <th>3</th>\n",
       "      <td>2016-01-15 03:00:00</td>\n",
       "      <td>6.047977</td>\n",
       "      <td>9.977019</td>\n",
       "      <td>4.858634</td>\n",
       "      <td>42.689819</td>\n",
       "      <td>68.347543</td>\n",
       "      <td>10.422762</td>\n",
       "      <td>0.883763</td>\n",
       "      <td>16.532835</td>\n",
       "      <td>2.146849</td>\n",
       "      <td>...</td>\n",
       "      <td>14.036510</td>\n",
       "      <td>-500.857308</td>\n",
       "      <td>11.999550</td>\n",
       "      <td>-501.193686</td>\n",
       "      <td>9.970366</td>\n",
       "      <td>-499.201640</td>\n",
       "      <td>7.977324</td>\n",
       "      <td>-500.255908</td>\n",
       "      <td>14.005551</td>\n",
       "      <td>-599.996129</td>\n",
       "    </tr>\n",
       "    <tr>\n",
       "      <th>4</th>\n",
       "      <td>2016-01-15 04:00:00</td>\n",
       "      <td>6.148599</td>\n",
       "      <td>10.142511</td>\n",
       "      <td>4.939416</td>\n",
       "      <td>42.774141</td>\n",
       "      <td>66.927016</td>\n",
       "      <td>10.360302</td>\n",
       "      <td>0.792826</td>\n",
       "      <td>16.525686</td>\n",
       "      <td>2.055292</td>\n",
       "      <td>...</td>\n",
       "      <td>14.027298</td>\n",
       "      <td>-499.838632</td>\n",
       "      <td>11.953070</td>\n",
       "      <td>-501.053894</td>\n",
       "      <td>9.925709</td>\n",
       "      <td>-501.686727</td>\n",
       "      <td>7.894242</td>\n",
       "      <td>-500.356035</td>\n",
       "      <td>13.996647</td>\n",
       "      <td>-601.496691</td>\n",
       "    </tr>\n",
       "  </tbody>\n",
       "</table>\n",
       "<p>5 rows × 87 columns</p>\n",
       "</div>"
      ],
      "text/plain": [
       "                  date  final.output.concentrate_ag  \\\n",
       "0  2016-01-15 00:00:00                     6.055403   \n",
       "1  2016-01-15 01:00:00                     6.029369   \n",
       "2  2016-01-15 02:00:00                     6.055926   \n",
       "3  2016-01-15 03:00:00                     6.047977   \n",
       "4  2016-01-15 04:00:00                     6.148599   \n",
       "\n",
       "   final.output.concentrate_pb  final.output.concentrate_sol  \\\n",
       "0                     9.889648                      5.507324   \n",
       "1                     9.968944                      5.257781   \n",
       "2                    10.213995                      5.383759   \n",
       "3                     9.977019                      4.858634   \n",
       "4                    10.142511                      4.939416   \n",
       "\n",
       "   final.output.concentrate_au  final.output.recovery  final.output.tail_ag  \\\n",
       "0                    42.192020              70.541216             10.411962   \n",
       "1                    42.701629              69.266198             10.462676   \n",
       "2                    42.657501              68.116445             10.507046   \n",
       "3                    42.689819              68.347543             10.422762   \n",
       "4                    42.774141              66.927016             10.360302   \n",
       "\n",
       "   final.output.tail_pb  final.output.tail_sol  final.output.tail_au  ...  \\\n",
       "0              0.895447              16.904297              2.143149  ...   \n",
       "1              0.927452              16.634514              2.224930  ...   \n",
       "2              0.953716              16.208849              2.257889  ...   \n",
       "3              0.883763              16.532835              2.146849  ...   \n",
       "4              0.792826              16.525686              2.055292  ...   \n",
       "\n",
       "   secondary_cleaner.state.floatbank4_a_air  \\\n",
       "0                                 14.016835   \n",
       "1                                 13.992281   \n",
       "2                                 14.015015   \n",
       "3                                 14.036510   \n",
       "4                                 14.027298   \n",
       "\n",
       "   secondary_cleaner.state.floatbank4_a_level  \\\n",
       "0                                 -502.488007   \n",
       "1                                 -505.503262   \n",
       "2                                 -502.520901   \n",
       "3                                 -500.857308   \n",
       "4                                 -499.838632   \n",
       "\n",
       "   secondary_cleaner.state.floatbank4_b_air  \\\n",
       "0                                 12.099931   \n",
       "1                                 11.950531   \n",
       "2                                 11.912783   \n",
       "3                                 11.999550   \n",
       "4                                 11.953070   \n",
       "\n",
       "   secondary_cleaner.state.floatbank4_b_level  \\\n",
       "0                                 -504.715942   \n",
       "1                                 -501.331529   \n",
       "2                                 -501.133383   \n",
       "3                                 -501.193686   \n",
       "4                                 -501.053894   \n",
       "\n",
       "   secondary_cleaner.state.floatbank5_a_air  \\\n",
       "0                                  9.925633   \n",
       "1                                 10.039245   \n",
       "2                                 10.070913   \n",
       "3                                  9.970366   \n",
       "4                                  9.925709   \n",
       "\n",
       "   secondary_cleaner.state.floatbank5_a_level  \\\n",
       "0                                 -498.310211   \n",
       "1                                 -500.169983   \n",
       "2                                 -500.129135   \n",
       "3                                 -499.201640   \n",
       "4                                 -501.686727   \n",
       "\n",
       "   secondary_cleaner.state.floatbank5_b_air  \\\n",
       "0                                  8.079666   \n",
       "1                                  7.984757   \n",
       "2                                  8.013877   \n",
       "3                                  7.977324   \n",
       "4                                  7.894242   \n",
       "\n",
       "   secondary_cleaner.state.floatbank5_b_level  \\\n",
       "0                                 -500.470978   \n",
       "1                                 -500.582168   \n",
       "2                                 -500.517572   \n",
       "3                                 -500.255908   \n",
       "4                                 -500.356035   \n",
       "\n",
       "   secondary_cleaner.state.floatbank6_a_air  \\\n",
       "0                                 14.151341   \n",
       "1                                 13.998353   \n",
       "2                                 14.028663   \n",
       "3                                 14.005551   \n",
       "4                                 13.996647   \n",
       "\n",
       "   secondary_cleaner.state.floatbank6_a_level  \n",
       "0                                 -605.841980  \n",
       "1                                 -599.787184  \n",
       "2                                 -601.427363  \n",
       "3                                 -599.996129  \n",
       "4                                 -601.496691  \n",
       "\n",
       "[5 rows x 87 columns]"
      ]
     },
     "metadata": {},
     "output_type": "display_data"
    }
   ],
   "source": [
    "#look at the first 5 rows of the train set\n",
    "display(df_train.head())"
   ]
  },
  {
   "cell_type": "code",
   "execution_count": 4,
   "metadata": {},
   "outputs": [
    {
     "name": "stdout",
     "output_type": "stream",
     "text": [
      "16860\n"
     ]
    }
   ],
   "source": [
    "#Are there any repeat dates in this dataset?\n",
    "print(df_train['date'].nunique())"
   ]
  },
  {
   "cell_type": "code",
   "execution_count": 5,
   "metadata": {},
   "outputs": [
    {
     "name": "stdout",
     "output_type": "stream",
     "text": [
      "Percentage of null values in the training set: 2.07%\n"
     ]
    }
   ],
   "source": [
    "# what percentage of the training set is null values?\n",
    "percentage_null_train = (df_train.isnull().sum().sum() / df_train.size) * 100\n",
    "\n",
    "print(f\"Percentage of null values in the training set: {percentage_null_train:.2f}%\")"
   ]
  },
  {
   "cell_type": "code",
   "execution_count": 6,
   "metadata": {
    "scrolled": true
   },
   "outputs": [
    {
     "data": {
      "text/html": [
       "<div>\n",
       "<style scoped>\n",
       "    .dataframe tbody tr th:only-of-type {\n",
       "        vertical-align: middle;\n",
       "    }\n",
       "\n",
       "    .dataframe tbody tr th {\n",
       "        vertical-align: top;\n",
       "    }\n",
       "\n",
       "    .dataframe thead th {\n",
       "        text-align: right;\n",
       "    }\n",
       "</style>\n",
       "<table border=\"1\" class=\"dataframe\">\n",
       "  <thead>\n",
       "    <tr style=\"text-align: right;\">\n",
       "      <th></th>\n",
       "      <th>date</th>\n",
       "      <th>primary_cleaner.input.sulfate</th>\n",
       "      <th>primary_cleaner.input.depressant</th>\n",
       "      <th>primary_cleaner.input.feed_size</th>\n",
       "      <th>primary_cleaner.input.xanthate</th>\n",
       "      <th>primary_cleaner.state.floatbank8_a_air</th>\n",
       "      <th>primary_cleaner.state.floatbank8_a_level</th>\n",
       "      <th>primary_cleaner.state.floatbank8_b_air</th>\n",
       "      <th>primary_cleaner.state.floatbank8_b_level</th>\n",
       "      <th>primary_cleaner.state.floatbank8_c_air</th>\n",
       "      <th>...</th>\n",
       "      <th>secondary_cleaner.state.floatbank4_a_air</th>\n",
       "      <th>secondary_cleaner.state.floatbank4_a_level</th>\n",
       "      <th>secondary_cleaner.state.floatbank4_b_air</th>\n",
       "      <th>secondary_cleaner.state.floatbank4_b_level</th>\n",
       "      <th>secondary_cleaner.state.floatbank5_a_air</th>\n",
       "      <th>secondary_cleaner.state.floatbank5_a_level</th>\n",
       "      <th>secondary_cleaner.state.floatbank5_b_air</th>\n",
       "      <th>secondary_cleaner.state.floatbank5_b_level</th>\n",
       "      <th>secondary_cleaner.state.floatbank6_a_air</th>\n",
       "      <th>secondary_cleaner.state.floatbank6_a_level</th>\n",
       "    </tr>\n",
       "  </thead>\n",
       "  <tbody>\n",
       "    <tr>\n",
       "      <th>0</th>\n",
       "      <td>2016-09-01 00:59:59</td>\n",
       "      <td>210.800909</td>\n",
       "      <td>14.993118</td>\n",
       "      <td>8.080000</td>\n",
       "      <td>1.005021</td>\n",
       "      <td>1398.981301</td>\n",
       "      <td>-500.225577</td>\n",
       "      <td>1399.144926</td>\n",
       "      <td>-499.919735</td>\n",
       "      <td>1400.102998</td>\n",
       "      <td>...</td>\n",
       "      <td>12.023554</td>\n",
       "      <td>-497.795834</td>\n",
       "      <td>8.016656</td>\n",
       "      <td>-501.289139</td>\n",
       "      <td>7.946562</td>\n",
       "      <td>-432.317850</td>\n",
       "      <td>4.872511</td>\n",
       "      <td>-500.037437</td>\n",
       "      <td>26.705889</td>\n",
       "      <td>-499.709414</td>\n",
       "    </tr>\n",
       "    <tr>\n",
       "      <th>1</th>\n",
       "      <td>2016-09-01 01:59:59</td>\n",
       "      <td>215.392455</td>\n",
       "      <td>14.987471</td>\n",
       "      <td>8.080000</td>\n",
       "      <td>0.990469</td>\n",
       "      <td>1398.777912</td>\n",
       "      <td>-500.057435</td>\n",
       "      <td>1398.055362</td>\n",
       "      <td>-499.778182</td>\n",
       "      <td>1396.151033</td>\n",
       "      <td>...</td>\n",
       "      <td>12.058140</td>\n",
       "      <td>-498.695773</td>\n",
       "      <td>8.130979</td>\n",
       "      <td>-499.634209</td>\n",
       "      <td>7.958270</td>\n",
       "      <td>-525.839648</td>\n",
       "      <td>4.878850</td>\n",
       "      <td>-500.162375</td>\n",
       "      <td>25.019940</td>\n",
       "      <td>-499.819438</td>\n",
       "    </tr>\n",
       "    <tr>\n",
       "      <th>2</th>\n",
       "      <td>2016-09-01 02:59:59</td>\n",
       "      <td>215.259946</td>\n",
       "      <td>12.884934</td>\n",
       "      <td>7.786667</td>\n",
       "      <td>0.996043</td>\n",
       "      <td>1398.493666</td>\n",
       "      <td>-500.868360</td>\n",
       "      <td>1398.860436</td>\n",
       "      <td>-499.764529</td>\n",
       "      <td>1398.075709</td>\n",
       "      <td>...</td>\n",
       "      <td>11.962366</td>\n",
       "      <td>-498.767484</td>\n",
       "      <td>8.096893</td>\n",
       "      <td>-500.827423</td>\n",
       "      <td>8.071056</td>\n",
       "      <td>-500.801673</td>\n",
       "      <td>4.905125</td>\n",
       "      <td>-499.828510</td>\n",
       "      <td>24.994862</td>\n",
       "      <td>-500.622559</td>\n",
       "    </tr>\n",
       "    <tr>\n",
       "      <th>3</th>\n",
       "      <td>2016-09-01 03:59:59</td>\n",
       "      <td>215.336236</td>\n",
       "      <td>12.006805</td>\n",
       "      <td>7.640000</td>\n",
       "      <td>0.863514</td>\n",
       "      <td>1399.618111</td>\n",
       "      <td>-498.863574</td>\n",
       "      <td>1397.440120</td>\n",
       "      <td>-499.211024</td>\n",
       "      <td>1400.129303</td>\n",
       "      <td>...</td>\n",
       "      <td>12.033091</td>\n",
       "      <td>-498.350935</td>\n",
       "      <td>8.074946</td>\n",
       "      <td>-499.474407</td>\n",
       "      <td>7.897085</td>\n",
       "      <td>-500.868509</td>\n",
       "      <td>4.931400</td>\n",
       "      <td>-499.963623</td>\n",
       "      <td>24.948919</td>\n",
       "      <td>-498.709987</td>\n",
       "    </tr>\n",
       "    <tr>\n",
       "      <th>4</th>\n",
       "      <td>2016-09-01 04:59:59</td>\n",
       "      <td>199.099327</td>\n",
       "      <td>10.682530</td>\n",
       "      <td>7.530000</td>\n",
       "      <td>0.805575</td>\n",
       "      <td>1401.268123</td>\n",
       "      <td>-500.808305</td>\n",
       "      <td>1398.128818</td>\n",
       "      <td>-499.504543</td>\n",
       "      <td>1402.172226</td>\n",
       "      <td>...</td>\n",
       "      <td>12.025367</td>\n",
       "      <td>-500.786497</td>\n",
       "      <td>8.054678</td>\n",
       "      <td>-500.397500</td>\n",
       "      <td>8.107890</td>\n",
       "      <td>-509.526725</td>\n",
       "      <td>4.957674</td>\n",
       "      <td>-500.360026</td>\n",
       "      <td>25.003331</td>\n",
       "      <td>-500.856333</td>\n",
       "    </tr>\n",
       "  </tbody>\n",
       "</table>\n",
       "<p>5 rows × 53 columns</p>\n",
       "</div>"
      ],
      "text/plain": [
       "                  date  primary_cleaner.input.sulfate  \\\n",
       "0  2016-09-01 00:59:59                     210.800909   \n",
       "1  2016-09-01 01:59:59                     215.392455   \n",
       "2  2016-09-01 02:59:59                     215.259946   \n",
       "3  2016-09-01 03:59:59                     215.336236   \n",
       "4  2016-09-01 04:59:59                     199.099327   \n",
       "\n",
       "   primary_cleaner.input.depressant  primary_cleaner.input.feed_size  \\\n",
       "0                         14.993118                         8.080000   \n",
       "1                         14.987471                         8.080000   \n",
       "2                         12.884934                         7.786667   \n",
       "3                         12.006805                         7.640000   \n",
       "4                         10.682530                         7.530000   \n",
       "\n",
       "   primary_cleaner.input.xanthate  primary_cleaner.state.floatbank8_a_air  \\\n",
       "0                        1.005021                             1398.981301   \n",
       "1                        0.990469                             1398.777912   \n",
       "2                        0.996043                             1398.493666   \n",
       "3                        0.863514                             1399.618111   \n",
       "4                        0.805575                             1401.268123   \n",
       "\n",
       "   primary_cleaner.state.floatbank8_a_level  \\\n",
       "0                               -500.225577   \n",
       "1                               -500.057435   \n",
       "2                               -500.868360   \n",
       "3                               -498.863574   \n",
       "4                               -500.808305   \n",
       "\n",
       "   primary_cleaner.state.floatbank8_b_air  \\\n",
       "0                             1399.144926   \n",
       "1                             1398.055362   \n",
       "2                             1398.860436   \n",
       "3                             1397.440120   \n",
       "4                             1398.128818   \n",
       "\n",
       "   primary_cleaner.state.floatbank8_b_level  \\\n",
       "0                               -499.919735   \n",
       "1                               -499.778182   \n",
       "2                               -499.764529   \n",
       "3                               -499.211024   \n",
       "4                               -499.504543   \n",
       "\n",
       "   primary_cleaner.state.floatbank8_c_air  ...  \\\n",
       "0                             1400.102998  ...   \n",
       "1                             1396.151033  ...   \n",
       "2                             1398.075709  ...   \n",
       "3                             1400.129303  ...   \n",
       "4                             1402.172226  ...   \n",
       "\n",
       "   secondary_cleaner.state.floatbank4_a_air  \\\n",
       "0                                 12.023554   \n",
       "1                                 12.058140   \n",
       "2                                 11.962366   \n",
       "3                                 12.033091   \n",
       "4                                 12.025367   \n",
       "\n",
       "   secondary_cleaner.state.floatbank4_a_level  \\\n",
       "0                                 -497.795834   \n",
       "1                                 -498.695773   \n",
       "2                                 -498.767484   \n",
       "3                                 -498.350935   \n",
       "4                                 -500.786497   \n",
       "\n",
       "   secondary_cleaner.state.floatbank4_b_air  \\\n",
       "0                                  8.016656   \n",
       "1                                  8.130979   \n",
       "2                                  8.096893   \n",
       "3                                  8.074946   \n",
       "4                                  8.054678   \n",
       "\n",
       "   secondary_cleaner.state.floatbank4_b_level  \\\n",
       "0                                 -501.289139   \n",
       "1                                 -499.634209   \n",
       "2                                 -500.827423   \n",
       "3                                 -499.474407   \n",
       "4                                 -500.397500   \n",
       "\n",
       "   secondary_cleaner.state.floatbank5_a_air  \\\n",
       "0                                  7.946562   \n",
       "1                                  7.958270   \n",
       "2                                  8.071056   \n",
       "3                                  7.897085   \n",
       "4                                  8.107890   \n",
       "\n",
       "   secondary_cleaner.state.floatbank5_a_level  \\\n",
       "0                                 -432.317850   \n",
       "1                                 -525.839648   \n",
       "2                                 -500.801673   \n",
       "3                                 -500.868509   \n",
       "4                                 -509.526725   \n",
       "\n",
       "   secondary_cleaner.state.floatbank5_b_air  \\\n",
       "0                                  4.872511   \n",
       "1                                  4.878850   \n",
       "2                                  4.905125   \n",
       "3                                  4.931400   \n",
       "4                                  4.957674   \n",
       "\n",
       "   secondary_cleaner.state.floatbank5_b_level  \\\n",
       "0                                 -500.037437   \n",
       "1                                 -500.162375   \n",
       "2                                 -499.828510   \n",
       "3                                 -499.963623   \n",
       "4                                 -500.360026   \n",
       "\n",
       "   secondary_cleaner.state.floatbank6_a_air  \\\n",
       "0                                 26.705889   \n",
       "1                                 25.019940   \n",
       "2                                 24.994862   \n",
       "3                                 24.948919   \n",
       "4                                 25.003331   \n",
       "\n",
       "   secondary_cleaner.state.floatbank6_a_level  \n",
       "0                                 -499.709414  \n",
       "1                                 -499.819438  \n",
       "2                                 -500.622559  \n",
       "3                                 -498.709987  \n",
       "4                                 -500.856333  \n",
       "\n",
       "[5 rows x 53 columns]"
      ]
     },
     "metadata": {},
     "output_type": "display_data"
    }
   ],
   "source": [
    "#look at the first 5 rows of the test set\n",
    "display(df_test.head())"
   ]
  },
  {
   "cell_type": "code",
   "execution_count": 7,
   "metadata": {},
   "outputs": [
    {
     "name": "stdout",
     "output_type": "stream",
     "text": [
      "5856\n"
     ]
    }
   ],
   "source": [
    "# Are all the date values unique, or are there multiple observations at the same time?\n",
    "print(df_test['date'].nunique())"
   ]
  },
  {
   "cell_type": "code",
   "execution_count": 8,
   "metadata": {},
   "outputs": [
    {
     "name": "stdout",
     "output_type": "stream",
     "text": [
      "Percentage of null values in the test set: 0.76%\n"
     ]
    }
   ],
   "source": [
    "#What percentage of the test data is null?\n",
    "percentage_null_test = (df_test.isnull().sum().sum() / df_test.size) * 100\n",
    "\n",
    "print(f\"Percentage of null values in the test set: {percentage_null_test:.2f}%\")"
   ]
  },
  {
   "cell_type": "code",
   "execution_count": 9,
   "metadata": {
    "scrolled": true
   },
   "outputs": [
    {
     "data": {
      "text/html": [
       "<div>\n",
       "<style scoped>\n",
       "    .dataframe tbody tr th:only-of-type {\n",
       "        vertical-align: middle;\n",
       "    }\n",
       "\n",
       "    .dataframe tbody tr th {\n",
       "        vertical-align: top;\n",
       "    }\n",
       "\n",
       "    .dataframe thead th {\n",
       "        text-align: right;\n",
       "    }\n",
       "</style>\n",
       "<table border=\"1\" class=\"dataframe\">\n",
       "  <thead>\n",
       "    <tr style=\"text-align: right;\">\n",
       "      <th></th>\n",
       "      <th>date</th>\n",
       "      <th>final.output.concentrate_ag</th>\n",
       "      <th>final.output.concentrate_pb</th>\n",
       "      <th>final.output.concentrate_sol</th>\n",
       "      <th>final.output.concentrate_au</th>\n",
       "      <th>final.output.recovery</th>\n",
       "      <th>final.output.tail_ag</th>\n",
       "      <th>final.output.tail_pb</th>\n",
       "      <th>final.output.tail_sol</th>\n",
       "      <th>final.output.tail_au</th>\n",
       "      <th>...</th>\n",
       "      <th>secondary_cleaner.state.floatbank4_a_air</th>\n",
       "      <th>secondary_cleaner.state.floatbank4_a_level</th>\n",
       "      <th>secondary_cleaner.state.floatbank4_b_air</th>\n",
       "      <th>secondary_cleaner.state.floatbank4_b_level</th>\n",
       "      <th>secondary_cleaner.state.floatbank5_a_air</th>\n",
       "      <th>secondary_cleaner.state.floatbank5_a_level</th>\n",
       "      <th>secondary_cleaner.state.floatbank5_b_air</th>\n",
       "      <th>secondary_cleaner.state.floatbank5_b_level</th>\n",
       "      <th>secondary_cleaner.state.floatbank6_a_air</th>\n",
       "      <th>secondary_cleaner.state.floatbank6_a_level</th>\n",
       "    </tr>\n",
       "  </thead>\n",
       "  <tbody>\n",
       "    <tr>\n",
       "      <th>0</th>\n",
       "      <td>2016-01-15 00:00:00</td>\n",
       "      <td>6.055403</td>\n",
       "      <td>9.889648</td>\n",
       "      <td>5.507324</td>\n",
       "      <td>42.192020</td>\n",
       "      <td>70.541216</td>\n",
       "      <td>10.411962</td>\n",
       "      <td>0.895447</td>\n",
       "      <td>16.904297</td>\n",
       "      <td>2.143149</td>\n",
       "      <td>...</td>\n",
       "      <td>14.016835</td>\n",
       "      <td>-502.488007</td>\n",
       "      <td>12.099931</td>\n",
       "      <td>-504.715942</td>\n",
       "      <td>9.925633</td>\n",
       "      <td>-498.310211</td>\n",
       "      <td>8.079666</td>\n",
       "      <td>-500.470978</td>\n",
       "      <td>14.151341</td>\n",
       "      <td>-605.841980</td>\n",
       "    </tr>\n",
       "    <tr>\n",
       "      <th>1</th>\n",
       "      <td>2016-01-15 01:00:00</td>\n",
       "      <td>6.029369</td>\n",
       "      <td>9.968944</td>\n",
       "      <td>5.257781</td>\n",
       "      <td>42.701629</td>\n",
       "      <td>69.266198</td>\n",
       "      <td>10.462676</td>\n",
       "      <td>0.927452</td>\n",
       "      <td>16.634514</td>\n",
       "      <td>2.224930</td>\n",
       "      <td>...</td>\n",
       "      <td>13.992281</td>\n",
       "      <td>-505.503262</td>\n",
       "      <td>11.950531</td>\n",
       "      <td>-501.331529</td>\n",
       "      <td>10.039245</td>\n",
       "      <td>-500.169983</td>\n",
       "      <td>7.984757</td>\n",
       "      <td>-500.582168</td>\n",
       "      <td>13.998353</td>\n",
       "      <td>-599.787184</td>\n",
       "    </tr>\n",
       "    <tr>\n",
       "      <th>2</th>\n",
       "      <td>2016-01-15 02:00:00</td>\n",
       "      <td>6.055926</td>\n",
       "      <td>10.213995</td>\n",
       "      <td>5.383759</td>\n",
       "      <td>42.657501</td>\n",
       "      <td>68.116445</td>\n",
       "      <td>10.507046</td>\n",
       "      <td>0.953716</td>\n",
       "      <td>16.208849</td>\n",
       "      <td>2.257889</td>\n",
       "      <td>...</td>\n",
       "      <td>14.015015</td>\n",
       "      <td>-502.520901</td>\n",
       "      <td>11.912783</td>\n",
       "      <td>-501.133383</td>\n",
       "      <td>10.070913</td>\n",
       "      <td>-500.129135</td>\n",
       "      <td>8.013877</td>\n",
       "      <td>-500.517572</td>\n",
       "      <td>14.028663</td>\n",
       "      <td>-601.427363</td>\n",
       "    </tr>\n",
       "    <tr>\n",
       "      <th>3</th>\n",
       "      <td>2016-01-15 03:00:00</td>\n",
       "      <td>6.047977</td>\n",
       "      <td>9.977019</td>\n",
       "      <td>4.858634</td>\n",
       "      <td>42.689819</td>\n",
       "      <td>68.347543</td>\n",
       "      <td>10.422762</td>\n",
       "      <td>0.883763</td>\n",
       "      <td>16.532835</td>\n",
       "      <td>2.146849</td>\n",
       "      <td>...</td>\n",
       "      <td>14.036510</td>\n",
       "      <td>-500.857308</td>\n",
       "      <td>11.999550</td>\n",
       "      <td>-501.193686</td>\n",
       "      <td>9.970366</td>\n",
       "      <td>-499.201640</td>\n",
       "      <td>7.977324</td>\n",
       "      <td>-500.255908</td>\n",
       "      <td>14.005551</td>\n",
       "      <td>-599.996129</td>\n",
       "    </tr>\n",
       "    <tr>\n",
       "      <th>4</th>\n",
       "      <td>2016-01-15 04:00:00</td>\n",
       "      <td>6.148599</td>\n",
       "      <td>10.142511</td>\n",
       "      <td>4.939416</td>\n",
       "      <td>42.774141</td>\n",
       "      <td>66.927016</td>\n",
       "      <td>10.360302</td>\n",
       "      <td>0.792826</td>\n",
       "      <td>16.525686</td>\n",
       "      <td>2.055292</td>\n",
       "      <td>...</td>\n",
       "      <td>14.027298</td>\n",
       "      <td>-499.838632</td>\n",
       "      <td>11.953070</td>\n",
       "      <td>-501.053894</td>\n",
       "      <td>9.925709</td>\n",
       "      <td>-501.686727</td>\n",
       "      <td>7.894242</td>\n",
       "      <td>-500.356035</td>\n",
       "      <td>13.996647</td>\n",
       "      <td>-601.496691</td>\n",
       "    </tr>\n",
       "  </tbody>\n",
       "</table>\n",
       "<p>5 rows × 87 columns</p>\n",
       "</div>"
      ],
      "text/plain": [
       "                  date  final.output.concentrate_ag  \\\n",
       "0  2016-01-15 00:00:00                     6.055403   \n",
       "1  2016-01-15 01:00:00                     6.029369   \n",
       "2  2016-01-15 02:00:00                     6.055926   \n",
       "3  2016-01-15 03:00:00                     6.047977   \n",
       "4  2016-01-15 04:00:00                     6.148599   \n",
       "\n",
       "   final.output.concentrate_pb  final.output.concentrate_sol  \\\n",
       "0                     9.889648                      5.507324   \n",
       "1                     9.968944                      5.257781   \n",
       "2                    10.213995                      5.383759   \n",
       "3                     9.977019                      4.858634   \n",
       "4                    10.142511                      4.939416   \n",
       "\n",
       "   final.output.concentrate_au  final.output.recovery  final.output.tail_ag  \\\n",
       "0                    42.192020              70.541216             10.411962   \n",
       "1                    42.701629              69.266198             10.462676   \n",
       "2                    42.657501              68.116445             10.507046   \n",
       "3                    42.689819              68.347543             10.422762   \n",
       "4                    42.774141              66.927016             10.360302   \n",
       "\n",
       "   final.output.tail_pb  final.output.tail_sol  final.output.tail_au  ...  \\\n",
       "0              0.895447              16.904297              2.143149  ...   \n",
       "1              0.927452              16.634514              2.224930  ...   \n",
       "2              0.953716              16.208849              2.257889  ...   \n",
       "3              0.883763              16.532835              2.146849  ...   \n",
       "4              0.792826              16.525686              2.055292  ...   \n",
       "\n",
       "   secondary_cleaner.state.floatbank4_a_air  \\\n",
       "0                                 14.016835   \n",
       "1                                 13.992281   \n",
       "2                                 14.015015   \n",
       "3                                 14.036510   \n",
       "4                                 14.027298   \n",
       "\n",
       "   secondary_cleaner.state.floatbank4_a_level  \\\n",
       "0                                 -502.488007   \n",
       "1                                 -505.503262   \n",
       "2                                 -502.520901   \n",
       "3                                 -500.857308   \n",
       "4                                 -499.838632   \n",
       "\n",
       "   secondary_cleaner.state.floatbank4_b_air  \\\n",
       "0                                 12.099931   \n",
       "1                                 11.950531   \n",
       "2                                 11.912783   \n",
       "3                                 11.999550   \n",
       "4                                 11.953070   \n",
       "\n",
       "   secondary_cleaner.state.floatbank4_b_level  \\\n",
       "0                                 -504.715942   \n",
       "1                                 -501.331529   \n",
       "2                                 -501.133383   \n",
       "3                                 -501.193686   \n",
       "4                                 -501.053894   \n",
       "\n",
       "   secondary_cleaner.state.floatbank5_a_air  \\\n",
       "0                                  9.925633   \n",
       "1                                 10.039245   \n",
       "2                                 10.070913   \n",
       "3                                  9.970366   \n",
       "4                                  9.925709   \n",
       "\n",
       "   secondary_cleaner.state.floatbank5_a_level  \\\n",
       "0                                 -498.310211   \n",
       "1                                 -500.169983   \n",
       "2                                 -500.129135   \n",
       "3                                 -499.201640   \n",
       "4                                 -501.686727   \n",
       "\n",
       "   secondary_cleaner.state.floatbank5_b_air  \\\n",
       "0                                  8.079666   \n",
       "1                                  7.984757   \n",
       "2                                  8.013877   \n",
       "3                                  7.977324   \n",
       "4                                  7.894242   \n",
       "\n",
       "   secondary_cleaner.state.floatbank5_b_level  \\\n",
       "0                                 -500.470978   \n",
       "1                                 -500.582168   \n",
       "2                                 -500.517572   \n",
       "3                                 -500.255908   \n",
       "4                                 -500.356035   \n",
       "\n",
       "   secondary_cleaner.state.floatbank6_a_air  \\\n",
       "0                                 14.151341   \n",
       "1                                 13.998353   \n",
       "2                                 14.028663   \n",
       "3                                 14.005551   \n",
       "4                                 13.996647   \n",
       "\n",
       "   secondary_cleaner.state.floatbank6_a_level  \n",
       "0                                 -605.841980  \n",
       "1                                 -599.787184  \n",
       "2                                 -601.427363  \n",
       "3                                 -599.996129  \n",
       "4                                 -601.496691  \n",
       "\n",
       "[5 rows x 87 columns]"
      ]
     },
     "metadata": {},
     "output_type": "display_data"
    }
   ],
   "source": [
    "#look at the first 5 rows of the full set\n",
    "display(df_full.head())"
   ]
  },
  {
   "cell_type": "code",
   "execution_count": 10,
   "metadata": {},
   "outputs": [
    {
     "name": "stdout",
     "output_type": "stream",
     "text": [
      "22716\n"
     ]
    }
   ],
   "source": [
    "# Are all the date values in this set also unique?\n",
    "print(df_full['date'].nunique())"
   ]
  },
  {
   "cell_type": "code",
   "execution_count": 11,
   "metadata": {},
   "outputs": [
    {
     "name": "stdout",
     "output_type": "stream",
     "text": [
      "Percentage of null values in the full set: 1.85%\n"
     ]
    }
   ],
   "source": [
    "# How much of the data is null?\n",
    "percentage_null_full = (df_full.isnull().sum().sum() / df_full.size) * 100\n",
    "\n",
    "print(f\"Percentage of null values in the full set: {percentage_null_full:.2f}%\")"
   ]
  },
  {
   "cell_type": "code",
   "execution_count": 12,
   "metadata": {
    "scrolled": true
   },
   "outputs": [
    {
     "name": "stdout",
     "output_type": "stream",
     "text": [
      "<class 'pandas.core.frame.DataFrame'>\n",
      "RangeIndex: 16860 entries, 0 to 16859\n",
      "Data columns (total 87 columns):\n",
      " #   Column                                              Non-Null Count  Dtype  \n",
      "---  ------                                              --------------  -----  \n",
      " 0   date                                                16860 non-null  object \n",
      " 1   final.output.concentrate_ag                         16788 non-null  float64\n",
      " 2   final.output.concentrate_pb                         16788 non-null  float64\n",
      " 3   final.output.concentrate_sol                        16490 non-null  float64\n",
      " 4   final.output.concentrate_au                         16789 non-null  float64\n",
      " 5   final.output.recovery                               15339 non-null  float64\n",
      " 6   final.output.tail_ag                                16794 non-null  float64\n",
      " 7   final.output.tail_pb                                16677 non-null  float64\n",
      " 8   final.output.tail_sol                               16715 non-null  float64\n",
      " 9   final.output.tail_au                                16794 non-null  float64\n",
      " 10  primary_cleaner.input.sulfate                       15553 non-null  float64\n",
      " 11  primary_cleaner.input.depressant                    15598 non-null  float64\n",
      " 12  primary_cleaner.input.feed_size                     16860 non-null  float64\n",
      " 13  primary_cleaner.input.xanthate                      15875 non-null  float64\n",
      " 14  primary_cleaner.output.concentrate_ag               16778 non-null  float64\n",
      " 15  primary_cleaner.output.concentrate_pb               16502 non-null  float64\n",
      " 16  primary_cleaner.output.concentrate_sol              16224 non-null  float64\n",
      " 17  primary_cleaner.output.concentrate_au               16778 non-null  float64\n",
      " 18  primary_cleaner.output.tail_ag                      16777 non-null  float64\n",
      " 19  primary_cleaner.output.tail_pb                      16761 non-null  float64\n",
      " 20  primary_cleaner.output.tail_sol                     16579 non-null  float64\n",
      " 21  primary_cleaner.output.tail_au                      16777 non-null  float64\n",
      " 22  primary_cleaner.state.floatbank8_a_air              16820 non-null  float64\n",
      " 23  primary_cleaner.state.floatbank8_a_level            16827 non-null  float64\n",
      " 24  primary_cleaner.state.floatbank8_b_air              16820 non-null  float64\n",
      " 25  primary_cleaner.state.floatbank8_b_level            16833 non-null  float64\n",
      " 26  primary_cleaner.state.floatbank8_c_air              16822 non-null  float64\n",
      " 27  primary_cleaner.state.floatbank8_c_level            16833 non-null  float64\n",
      " 28  primary_cleaner.state.floatbank8_d_air              16821 non-null  float64\n",
      " 29  primary_cleaner.state.floatbank8_d_level            16833 non-null  float64\n",
      " 30  rougher.calculation.sulfate_to_au_concentrate       16833 non-null  float64\n",
      " 31  rougher.calculation.floatbank10_sulfate_to_au_feed  16833 non-null  float64\n",
      " 32  rougher.calculation.floatbank11_sulfate_to_au_feed  16833 non-null  float64\n",
      " 33  rougher.calculation.au_pb_ratio                     15618 non-null  float64\n",
      " 34  rougher.input.feed_ag                               16778 non-null  float64\n",
      " 35  rougher.input.feed_pb                               16632 non-null  float64\n",
      " 36  rougher.input.feed_rate                             16347 non-null  float64\n",
      " 37  rougher.input.feed_size                             16443 non-null  float64\n",
      " 38  rougher.input.feed_sol                              16568 non-null  float64\n",
      " 39  rougher.input.feed_au                               16777 non-null  float64\n",
      " 40  rougher.input.floatbank10_sulfate                   15816 non-null  float64\n",
      " 41  rougher.input.floatbank10_xanthate                  16514 non-null  float64\n",
      " 42  rougher.input.floatbank11_sulfate                   16237 non-null  float64\n",
      " 43  rougher.input.floatbank11_xanthate                  14956 non-null  float64\n",
      " 44  rougher.output.concentrate_ag                       16778 non-null  float64\n",
      " 45  rougher.output.concentrate_pb                       16778 non-null  float64\n",
      " 46  rougher.output.concentrate_sol                      16698 non-null  float64\n",
      " 47  rougher.output.concentrate_au                       16778 non-null  float64\n",
      " 48  rougher.output.recovery                             14287 non-null  float64\n",
      " 49  rougher.output.tail_ag                              14610 non-null  float64\n",
      " 50  rougher.output.tail_pb                              16778 non-null  float64\n",
      " 51  rougher.output.tail_sol                             14611 non-null  float64\n",
      " 52  rougher.output.tail_au                              14611 non-null  float64\n",
      " 53  rougher.state.floatbank10_a_air                     16807 non-null  float64\n",
      " 54  rougher.state.floatbank10_a_level                   16807 non-null  float64\n",
      " 55  rougher.state.floatbank10_b_air                     16807 non-null  float64\n",
      " 56  rougher.state.floatbank10_b_level                   16807 non-null  float64\n",
      " 57  rougher.state.floatbank10_c_air                     16807 non-null  float64\n",
      " 58  rougher.state.floatbank10_c_level                   16814 non-null  float64\n",
      " 59  rougher.state.floatbank10_d_air                     16802 non-null  float64\n",
      " 60  rougher.state.floatbank10_d_level                   16809 non-null  float64\n",
      " 61  rougher.state.floatbank10_e_air                     16257 non-null  float64\n",
      " 62  rougher.state.floatbank10_e_level                   16809 non-null  float64\n",
      " 63  rougher.state.floatbank10_f_air                     16802 non-null  float64\n",
      " 64  rougher.state.floatbank10_f_level                   16802 non-null  float64\n",
      " 65  secondary_cleaner.output.tail_ag                    16776 non-null  float64\n",
      " 66  secondary_cleaner.output.tail_pb                    16764 non-null  float64\n",
      " 67  secondary_cleaner.output.tail_sol                   14874 non-null  float64\n",
      " 68  secondary_cleaner.output.tail_au                    16778 non-null  float64\n",
      " 69  secondary_cleaner.state.floatbank2_a_air            16497 non-null  float64\n",
      " 70  secondary_cleaner.state.floatbank2_a_level          16751 non-null  float64\n",
      " 71  secondary_cleaner.state.floatbank2_b_air            16705 non-null  float64\n",
      " 72  secondary_cleaner.state.floatbank2_b_level          16748 non-null  float64\n",
      " 73  secondary_cleaner.state.floatbank3_a_air            16763 non-null  float64\n",
      " 74  secondary_cleaner.state.floatbank3_a_level          16747 non-null  float64\n",
      " 75  secondary_cleaner.state.floatbank3_b_air            16752 non-null  float64\n",
      " 76  secondary_cleaner.state.floatbank3_b_level          16750 non-null  float64\n",
      " 77  secondary_cleaner.state.floatbank4_a_air            16731 non-null  float64\n",
      " 78  secondary_cleaner.state.floatbank4_a_level          16747 non-null  float64\n",
      " 79  secondary_cleaner.state.floatbank4_b_air            16768 non-null  float64\n",
      " 80  secondary_cleaner.state.floatbank4_b_level          16767 non-null  float64\n",
      " 81  secondary_cleaner.state.floatbank5_a_air            16775 non-null  float64\n",
      " 82  secondary_cleaner.state.floatbank5_a_level          16775 non-null  float64\n",
      " 83  secondary_cleaner.state.floatbank5_b_air            16775 non-null  float64\n",
      " 84  secondary_cleaner.state.floatbank5_b_level          16776 non-null  float64\n",
      " 85  secondary_cleaner.state.floatbank6_a_air            16757 non-null  float64\n",
      " 86  secondary_cleaner.state.floatbank6_a_level          16775 non-null  float64\n",
      "dtypes: float64(86), object(1)\n",
      "memory usage: 11.2+ MB\n"
     ]
    }
   ],
   "source": [
    "#get a closer look at the data frames by calling info() on each of them\n",
    "df_train.info()"
   ]
  },
  {
   "cell_type": "code",
   "execution_count": 13,
   "metadata": {
    "scrolled": true
   },
   "outputs": [
    {
     "name": "stdout",
     "output_type": "stream",
     "text": [
      "<class 'pandas.core.frame.DataFrame'>\n",
      "RangeIndex: 5856 entries, 0 to 5855\n",
      "Data columns (total 53 columns):\n",
      " #   Column                                      Non-Null Count  Dtype  \n",
      "---  ------                                      --------------  -----  \n",
      " 0   date                                        5856 non-null   object \n",
      " 1   primary_cleaner.input.sulfate               5554 non-null   float64\n",
      " 2   primary_cleaner.input.depressant            5572 non-null   float64\n",
      " 3   primary_cleaner.input.feed_size             5856 non-null   float64\n",
      " 4   primary_cleaner.input.xanthate              5690 non-null   float64\n",
      " 5   primary_cleaner.state.floatbank8_a_air      5840 non-null   float64\n",
      " 6   primary_cleaner.state.floatbank8_a_level    5840 non-null   float64\n",
      " 7   primary_cleaner.state.floatbank8_b_air      5840 non-null   float64\n",
      " 8   primary_cleaner.state.floatbank8_b_level    5840 non-null   float64\n",
      " 9   primary_cleaner.state.floatbank8_c_air      5840 non-null   float64\n",
      " 10  primary_cleaner.state.floatbank8_c_level    5840 non-null   float64\n",
      " 11  primary_cleaner.state.floatbank8_d_air      5840 non-null   float64\n",
      " 12  primary_cleaner.state.floatbank8_d_level    5840 non-null   float64\n",
      " 13  rougher.input.feed_ag                       5840 non-null   float64\n",
      " 14  rougher.input.feed_pb                       5840 non-null   float64\n",
      " 15  rougher.input.feed_rate                     5816 non-null   float64\n",
      " 16  rougher.input.feed_size                     5834 non-null   float64\n",
      " 17  rougher.input.feed_sol                      5789 non-null   float64\n",
      " 18  rougher.input.feed_au                       5840 non-null   float64\n",
      " 19  rougher.input.floatbank10_sulfate           5599 non-null   float64\n",
      " 20  rougher.input.floatbank10_xanthate          5733 non-null   float64\n",
      " 21  rougher.input.floatbank11_sulfate           5801 non-null   float64\n",
      " 22  rougher.input.floatbank11_xanthate          5503 non-null   float64\n",
      " 23  rougher.state.floatbank10_a_air             5839 non-null   float64\n",
      " 24  rougher.state.floatbank10_a_level           5840 non-null   float64\n",
      " 25  rougher.state.floatbank10_b_air             5839 non-null   float64\n",
      " 26  rougher.state.floatbank10_b_level           5840 non-null   float64\n",
      " 27  rougher.state.floatbank10_c_air             5839 non-null   float64\n",
      " 28  rougher.state.floatbank10_c_level           5840 non-null   float64\n",
      " 29  rougher.state.floatbank10_d_air             5839 non-null   float64\n",
      " 30  rougher.state.floatbank10_d_level           5840 non-null   float64\n",
      " 31  rougher.state.floatbank10_e_air             5839 non-null   float64\n",
      " 32  rougher.state.floatbank10_e_level           5840 non-null   float64\n",
      " 33  rougher.state.floatbank10_f_air             5839 non-null   float64\n",
      " 34  rougher.state.floatbank10_f_level           5840 non-null   float64\n",
      " 35  secondary_cleaner.state.floatbank2_a_air    5836 non-null   float64\n",
      " 36  secondary_cleaner.state.floatbank2_a_level  5840 non-null   float64\n",
      " 37  secondary_cleaner.state.floatbank2_b_air    5833 non-null   float64\n",
      " 38  secondary_cleaner.state.floatbank2_b_level  5840 non-null   float64\n",
      " 39  secondary_cleaner.state.floatbank3_a_air    5822 non-null   float64\n",
      " 40  secondary_cleaner.state.floatbank3_a_level  5840 non-null   float64\n",
      " 41  secondary_cleaner.state.floatbank3_b_air    5840 non-null   float64\n",
      " 42  secondary_cleaner.state.floatbank3_b_level  5840 non-null   float64\n",
      " 43  secondary_cleaner.state.floatbank4_a_air    5840 non-null   float64\n",
      " 44  secondary_cleaner.state.floatbank4_a_level  5840 non-null   float64\n",
      " 45  secondary_cleaner.state.floatbank4_b_air    5840 non-null   float64\n",
      " 46  secondary_cleaner.state.floatbank4_b_level  5840 non-null   float64\n",
      " 47  secondary_cleaner.state.floatbank5_a_air    5840 non-null   float64\n",
      " 48  secondary_cleaner.state.floatbank5_a_level  5840 non-null   float64\n",
      " 49  secondary_cleaner.state.floatbank5_b_air    5840 non-null   float64\n",
      " 50  secondary_cleaner.state.floatbank5_b_level  5840 non-null   float64\n",
      " 51  secondary_cleaner.state.floatbank6_a_air    5840 non-null   float64\n",
      " 52  secondary_cleaner.state.floatbank6_a_level  5840 non-null   float64\n",
      "dtypes: float64(52), object(1)\n",
      "memory usage: 2.4+ MB\n"
     ]
    }
   ],
   "source": [
    "df_test.info()"
   ]
  },
  {
   "cell_type": "code",
   "execution_count": 14,
   "metadata": {
    "scrolled": true
   },
   "outputs": [
    {
     "name": "stdout",
     "output_type": "stream",
     "text": [
      "<class 'pandas.core.frame.DataFrame'>\n",
      "RangeIndex: 22716 entries, 0 to 22715\n",
      "Data columns (total 87 columns):\n",
      " #   Column                                              Non-Null Count  Dtype  \n",
      "---  ------                                              --------------  -----  \n",
      " 0   date                                                22716 non-null  object \n",
      " 1   final.output.concentrate_ag                         22627 non-null  float64\n",
      " 2   final.output.concentrate_pb                         22629 non-null  float64\n",
      " 3   final.output.concentrate_sol                        22331 non-null  float64\n",
      " 4   final.output.concentrate_au                         22630 non-null  float64\n",
      " 5   final.output.recovery                               20753 non-null  float64\n",
      " 6   final.output.tail_ag                                22633 non-null  float64\n",
      " 7   final.output.tail_pb                                22516 non-null  float64\n",
      " 8   final.output.tail_sol                               22445 non-null  float64\n",
      " 9   final.output.tail_au                                22635 non-null  float64\n",
      " 10  primary_cleaner.input.sulfate                       21107 non-null  float64\n",
      " 11  primary_cleaner.input.depressant                    21170 non-null  float64\n",
      " 12  primary_cleaner.input.feed_size                     22716 non-null  float64\n",
      " 13  primary_cleaner.input.xanthate                      21565 non-null  float64\n",
      " 14  primary_cleaner.output.concentrate_ag               22618 non-null  float64\n",
      " 15  primary_cleaner.output.concentrate_pb               22268 non-null  float64\n",
      " 16  primary_cleaner.output.concentrate_sol              21918 non-null  float64\n",
      " 17  primary_cleaner.output.concentrate_au               22618 non-null  float64\n",
      " 18  primary_cleaner.output.tail_ag                      22614 non-null  float64\n",
      " 19  primary_cleaner.output.tail_pb                      22594 non-null  float64\n",
      " 20  primary_cleaner.output.tail_sol                     22365 non-null  float64\n",
      " 21  primary_cleaner.output.tail_au                      22617 non-null  float64\n",
      " 22  primary_cleaner.state.floatbank8_a_air              22660 non-null  float64\n",
      " 23  primary_cleaner.state.floatbank8_a_level            22667 non-null  float64\n",
      " 24  primary_cleaner.state.floatbank8_b_air              22660 non-null  float64\n",
      " 25  primary_cleaner.state.floatbank8_b_level            22673 non-null  float64\n",
      " 26  primary_cleaner.state.floatbank8_c_air              22662 non-null  float64\n",
      " 27  primary_cleaner.state.floatbank8_c_level            22673 non-null  float64\n",
      " 28  primary_cleaner.state.floatbank8_d_air              22661 non-null  float64\n",
      " 29  primary_cleaner.state.floatbank8_d_level            22673 non-null  float64\n",
      " 30  rougher.calculation.sulfate_to_au_concentrate       22672 non-null  float64\n",
      " 31  rougher.calculation.floatbank10_sulfate_to_au_feed  22672 non-null  float64\n",
      " 32  rougher.calculation.floatbank11_sulfate_to_au_feed  22672 non-null  float64\n",
      " 33  rougher.calculation.au_pb_ratio                     21089 non-null  float64\n",
      " 34  rougher.input.feed_ag                               22618 non-null  float64\n",
      " 35  rougher.input.feed_pb                               22472 non-null  float64\n",
      " 36  rougher.input.feed_rate                             22163 non-null  float64\n",
      " 37  rougher.input.feed_size                             22277 non-null  float64\n",
      " 38  rougher.input.feed_sol                              22357 non-null  float64\n",
      " 39  rougher.input.feed_au                               22617 non-null  float64\n",
      " 40  rougher.input.floatbank10_sulfate                   21415 non-null  float64\n",
      " 41  rougher.input.floatbank10_xanthate                  22247 non-null  float64\n",
      " 42  rougher.input.floatbank11_sulfate                   22038 non-null  float64\n",
      " 43  rougher.input.floatbank11_xanthate                  20459 non-null  float64\n",
      " 44  rougher.output.concentrate_ag                       22618 non-null  float64\n",
      " 45  rougher.output.concentrate_pb                       22618 non-null  float64\n",
      " 46  rougher.output.concentrate_sol                      22526 non-null  float64\n",
      " 47  rougher.output.concentrate_au                       22618 non-null  float64\n",
      " 48  rougher.output.recovery                             19597 non-null  float64\n",
      " 49  rougher.output.tail_ag                              19979 non-null  float64\n",
      " 50  rougher.output.tail_pb                              22618 non-null  float64\n",
      " 51  rougher.output.tail_sol                             19980 non-null  float64\n",
      " 52  rougher.output.tail_au                              19980 non-null  float64\n",
      " 53  rougher.state.floatbank10_a_air                     22646 non-null  float64\n",
      " 54  rougher.state.floatbank10_a_level                   22647 non-null  float64\n",
      " 55  rougher.state.floatbank10_b_air                     22646 non-null  float64\n",
      " 56  rougher.state.floatbank10_b_level                   22647 non-null  float64\n",
      " 57  rougher.state.floatbank10_c_air                     22646 non-null  float64\n",
      " 58  rougher.state.floatbank10_c_level                   22654 non-null  float64\n",
      " 59  rougher.state.floatbank10_d_air                     22641 non-null  float64\n",
      " 60  rougher.state.floatbank10_d_level                   22649 non-null  float64\n",
      " 61  rougher.state.floatbank10_e_air                     22096 non-null  float64\n",
      " 62  rougher.state.floatbank10_e_level                   22649 non-null  float64\n",
      " 63  rougher.state.floatbank10_f_air                     22641 non-null  float64\n",
      " 64  rougher.state.floatbank10_f_level                   22642 non-null  float64\n",
      " 65  secondary_cleaner.output.tail_ag                    22616 non-null  float64\n",
      " 66  secondary_cleaner.output.tail_pb                    22600 non-null  float64\n",
      " 67  secondary_cleaner.output.tail_sol                   20501 non-null  float64\n",
      " 68  secondary_cleaner.output.tail_au                    22618 non-null  float64\n",
      " 69  secondary_cleaner.state.floatbank2_a_air            22333 non-null  float64\n",
      " 70  secondary_cleaner.state.floatbank2_a_level          22591 non-null  float64\n",
      " 71  secondary_cleaner.state.floatbank2_b_air            22538 non-null  float64\n",
      " 72  secondary_cleaner.state.floatbank2_b_level          22588 non-null  float64\n",
      " 73  secondary_cleaner.state.floatbank3_a_air            22585 non-null  float64\n",
      " 74  secondary_cleaner.state.floatbank3_a_level          22587 non-null  float64\n",
      " 75  secondary_cleaner.state.floatbank3_b_air            22592 non-null  float64\n",
      " 76  secondary_cleaner.state.floatbank3_b_level          22590 non-null  float64\n",
      " 77  secondary_cleaner.state.floatbank4_a_air            22571 non-null  float64\n",
      " 78  secondary_cleaner.state.floatbank4_a_level          22587 non-null  float64\n",
      " 79  secondary_cleaner.state.floatbank4_b_air            22608 non-null  float64\n",
      " 80  secondary_cleaner.state.floatbank4_b_level          22607 non-null  float64\n",
      " 81  secondary_cleaner.state.floatbank5_a_air            22615 non-null  float64\n",
      " 82  secondary_cleaner.state.floatbank5_a_level          22615 non-null  float64\n",
      " 83  secondary_cleaner.state.floatbank5_b_air            22615 non-null  float64\n",
      " 84  secondary_cleaner.state.floatbank5_b_level          22616 non-null  float64\n",
      " 85  secondary_cleaner.state.floatbank6_a_air            22597 non-null  float64\n",
      " 86  secondary_cleaner.state.floatbank6_a_level          22615 non-null  float64\n",
      "dtypes: float64(86), object(1)\n",
      "memory usage: 15.1+ MB\n"
     ]
    }
   ],
   "source": [
    "df_full.info()"
   ]
  },
  {
   "cell_type": "markdown",
   "metadata": {},
   "source": [
    "#### All of the data above is correctly loaded. I've found that since the date column is fully unique values, that can function as an observational ID for later processing. I've also seen that there is quite a lot of null values that will have to be addressed before the machine learning models can be developed."
   ]
  },
  {
   "cell_type": "markdown",
   "metadata": {},
   "source": [
    "### Check that recovery is calculated correctly. Using the training set, calculate recovery for the rougher.output.recovery feature. Find the MAE between your calculations and the feature values. Provide findings."
   ]
  },
  {
   "cell_type": "markdown",
   "metadata": {},
   "source": [
    "#### This is the formula I will be using to caluclate recovery\n",
    "\n",
    "Recovery = ((C*(F-T))/(F*(C-T)))*100\n",
    "\n",
    "C = Concentrate after flotation (Concentrate): rougher.output.concentrate_au\n",
    "\n",
    "F = Gold in Feed before flotation (Feed): rougher.input.feed_au\n",
    "\n",
    "T = Gold in Rougher Tails after flotation (Tails): rougher.output.tail_au"
   ]
  },
  {
   "cell_type": "code",
   "execution_count": 15,
   "metadata": {},
   "outputs": [
    {
     "data": {
      "text/html": [
       "<div>\n",
       "<style scoped>\n",
       "    .dataframe tbody tr th:only-of-type {\n",
       "        vertical-align: middle;\n",
       "    }\n",
       "\n",
       "    .dataframe tbody tr th {\n",
       "        vertical-align: top;\n",
       "    }\n",
       "\n",
       "    .dataframe thead th {\n",
       "        text-align: right;\n",
       "    }\n",
       "</style>\n",
       "<table border=\"1\" class=\"dataframe\">\n",
       "  <thead>\n",
       "    <tr style=\"text-align: right;\">\n",
       "      <th></th>\n",
       "      <th>C</th>\n",
       "      <th>F</th>\n",
       "      <th>T</th>\n",
       "      <th>rougher.output.recovery</th>\n",
       "    </tr>\n",
       "  </thead>\n",
       "  <tbody>\n",
       "    <tr>\n",
       "      <th>0</th>\n",
       "      <td>19.793808</td>\n",
       "      <td>6.486150</td>\n",
       "      <td>1.170244</td>\n",
       "      <td>87.107763</td>\n",
       "    </tr>\n",
       "    <tr>\n",
       "      <th>1</th>\n",
       "      <td>20.050975</td>\n",
       "      <td>6.478583</td>\n",
       "      <td>1.184827</td>\n",
       "      <td>86.843261</td>\n",
       "    </tr>\n",
       "    <tr>\n",
       "      <th>2</th>\n",
       "      <td>19.737170</td>\n",
       "      <td>6.362222</td>\n",
       "      <td>1.162562</td>\n",
       "      <td>86.842308</td>\n",
       "    </tr>\n",
       "    <tr>\n",
       "      <th>3</th>\n",
       "      <td>19.320810</td>\n",
       "      <td>6.118189</td>\n",
       "      <td>1.079755</td>\n",
       "      <td>87.226430</td>\n",
       "    </tr>\n",
       "    <tr>\n",
       "      <th>4</th>\n",
       "      <td>19.216101</td>\n",
       "      <td>5.663707</td>\n",
       "      <td>1.012642</td>\n",
       "      <td>86.688794</td>\n",
       "    </tr>\n",
       "  </tbody>\n",
       "</table>\n",
       "</div>"
      ],
      "text/plain": [
       "           C         F         T  rougher.output.recovery\n",
       "0  19.793808  6.486150  1.170244                87.107763\n",
       "1  20.050975  6.478583  1.184827                86.843261\n",
       "2  19.737170  6.362222  1.162562                86.842308\n",
       "3  19.320810  6.118189  1.079755                87.226430\n",
       "4  19.216101  5.663707  1.012642                86.688794"
      ]
     },
     "metadata": {},
     "output_type": "display_data"
    },
    {
     "name": "stdout",
     "output_type": "stream",
     "text": [
      "<class 'pandas.core.frame.DataFrame'>\n",
      "RangeIndex: 16860 entries, 0 to 16859\n",
      "Data columns (total 4 columns):\n",
      " #   Column                   Non-Null Count  Dtype  \n",
      "---  ------                   --------------  -----  \n",
      " 0   C                        16778 non-null  float64\n",
      " 1   F                        16777 non-null  float64\n",
      " 2   T                        14611 non-null  float64\n",
      " 3   rougher.output.recovery  14287 non-null  float64\n",
      "dtypes: float64(4)\n",
      "memory usage: 527.0 KB\n"
     ]
    }
   ],
   "source": [
    "#Make a new DataFrame with the columns needed for the recovery calclation\n",
    "recovery_check_df = df_train[['rougher.output.concentrate_au', 'rougher.input.feed_au', 'rougher.output.tail_au', 'rougher.output.recovery']]\n",
    "\n",
    "#Rename the columns to make it easier to write the equation\n",
    "recovery_check_df = recovery_check_df.rename(columns={\n",
    "    'rougher.output.concentrate_au': 'C',\n",
    "    'rougher.input.feed_au': 'F',\n",
    "    'rougher.output.tail_au': 'T'\n",
    "})\n",
    "\n",
    "#Verify that the DataFrame was made correctly\n",
    "display(recovery_check_df.head())\n",
    "\n",
    "#Call info to check on null values and data types to see if anything needs to be resolved before calculations\n",
    "recovery_check_df.info()"
   ]
  },
  {
   "cell_type": "code",
   "execution_count": 16,
   "metadata": {},
   "outputs": [],
   "source": [
    "#drop null values\n",
    "recovery_check_df = recovery_check_df.dropna()"
   ]
  },
  {
   "cell_type": "code",
   "execution_count": 17,
   "metadata": {},
   "outputs": [
    {
     "data": {
      "text/html": [
       "<div>\n",
       "<style scoped>\n",
       "    .dataframe tbody tr th:only-of-type {\n",
       "        vertical-align: middle;\n",
       "    }\n",
       "\n",
       "    .dataframe tbody tr th {\n",
       "        vertical-align: top;\n",
       "    }\n",
       "\n",
       "    .dataframe thead th {\n",
       "        text-align: right;\n",
       "    }\n",
       "</style>\n",
       "<table border=\"1\" class=\"dataframe\">\n",
       "  <thead>\n",
       "    <tr style=\"text-align: right;\">\n",
       "      <th></th>\n",
       "      <th>C</th>\n",
       "      <th>F</th>\n",
       "      <th>T</th>\n",
       "      <th>rougher.output.recovery</th>\n",
       "      <th>recovery_calculated</th>\n",
       "    </tr>\n",
       "  </thead>\n",
       "  <tbody>\n",
       "    <tr>\n",
       "      <th>0</th>\n",
       "      <td>19.793808</td>\n",
       "      <td>6.486150</td>\n",
       "      <td>1.170244</td>\n",
       "      <td>87.107763</td>\n",
       "      <td>87.107763</td>\n",
       "    </tr>\n",
       "    <tr>\n",
       "      <th>1</th>\n",
       "      <td>20.050975</td>\n",
       "      <td>6.478583</td>\n",
       "      <td>1.184827</td>\n",
       "      <td>86.843261</td>\n",
       "      <td>86.843261</td>\n",
       "    </tr>\n",
       "    <tr>\n",
       "      <th>2</th>\n",
       "      <td>19.737170</td>\n",
       "      <td>6.362222</td>\n",
       "      <td>1.162562</td>\n",
       "      <td>86.842308</td>\n",
       "      <td>86.842308</td>\n",
       "    </tr>\n",
       "    <tr>\n",
       "      <th>3</th>\n",
       "      <td>19.320810</td>\n",
       "      <td>6.118189</td>\n",
       "      <td>1.079755</td>\n",
       "      <td>87.226430</td>\n",
       "      <td>87.226430</td>\n",
       "    </tr>\n",
       "    <tr>\n",
       "      <th>4</th>\n",
       "      <td>19.216101</td>\n",
       "      <td>5.663707</td>\n",
       "      <td>1.012642</td>\n",
       "      <td>86.688794</td>\n",
       "      <td>86.688794</td>\n",
       "    </tr>\n",
       "  </tbody>\n",
       "</table>\n",
       "</div>"
      ],
      "text/plain": [
       "           C         F         T  rougher.output.recovery  recovery_calculated\n",
       "0  19.793808  6.486150  1.170244                87.107763            87.107763\n",
       "1  20.050975  6.478583  1.184827                86.843261            86.843261\n",
       "2  19.737170  6.362222  1.162562                86.842308            86.842308\n",
       "3  19.320810  6.118189  1.079755                87.226430            87.226430\n",
       "4  19.216101  5.663707  1.012642                86.688794            86.688794"
      ]
     },
     "metadata": {},
     "output_type": "display_data"
    },
    {
     "name": "stdout",
     "output_type": "stream",
     "text": [
      "(14287, 5)\n"
     ]
    }
   ],
   "source": [
    "#Perform the recovery calculation and add it as a new column\n",
    "recovery_check_df['recovery_calculated'] = ((recovery_check_df['C']*(recovery_check_df['F'] - recovery_check_df['T']))/(recovery_check_df['F']*(recovery_check_df['C']-recovery_check_df['T'])))*100\n",
    "\n",
    "#Verify the new column is in place\n",
    "display(recovery_check_df.head())\n",
    "print(recovery_check_df.shape)"
   ]
  },
  {
   "cell_type": "code",
   "execution_count": 18,
   "metadata": {},
   "outputs": [
    {
     "name": "stdout",
     "output_type": "stream",
     "text": [
      "MAE: 9.303415616264301e-15\n"
     ]
    }
   ],
   "source": [
    "#Calculate the Mean Absolute Error\n",
    "mae = mean_absolute_error(recovery_check_df['rougher.output.recovery'], recovery_check_df['recovery_calculated'])\n",
    "print('MAE:', mae)"
   ]
  },
  {
   "cell_type": "markdown",
   "metadata": {},
   "source": [
    "#### The mean absolute error is essentially 0 which suggests that the \"rougher.output.recovery\" column was calculated correctly."
   ]
  },
  {
   "cell_type": "markdown",
   "metadata": {},
   "source": [
    "### Analyze the features not available in the test set. What are these parameters? What is their type?"
   ]
  },
  {
   "cell_type": "markdown",
   "metadata": {},
   "source": [
    "#### What is different between the features in the Test set and the Train set?"
   ]
  },
  {
   "cell_type": "code",
   "execution_count": 19,
   "metadata": {
    "scrolled": true
   },
   "outputs": [
    {
     "data": {
      "text/html": [
       "<div>\n",
       "<style scoped>\n",
       "    .dataframe tbody tr th:only-of-type {\n",
       "        vertical-align: middle;\n",
       "    }\n",
       "\n",
       "    .dataframe tbody tr th {\n",
       "        vertical-align: top;\n",
       "    }\n",
       "\n",
       "    .dataframe thead th {\n",
       "        text-align: right;\n",
       "    }\n",
       "</style>\n",
       "<table border=\"1\" class=\"dataframe\">\n",
       "  <thead>\n",
       "    <tr style=\"text-align: right;\">\n",
       "      <th></th>\n",
       "      <th>final.output.concentrate_ag</th>\n",
       "      <th>final.output.concentrate_pb</th>\n",
       "      <th>final.output.concentrate_sol</th>\n",
       "      <th>final.output.concentrate_au</th>\n",
       "      <th>final.output.recovery</th>\n",
       "      <th>final.output.tail_ag</th>\n",
       "      <th>final.output.tail_pb</th>\n",
       "      <th>final.output.tail_sol</th>\n",
       "      <th>final.output.tail_au</th>\n",
       "      <th>primary_cleaner.output.concentrate_ag</th>\n",
       "      <th>...</th>\n",
       "      <th>rougher.output.concentrate_au</th>\n",
       "      <th>rougher.output.recovery</th>\n",
       "      <th>rougher.output.tail_ag</th>\n",
       "      <th>rougher.output.tail_pb</th>\n",
       "      <th>rougher.output.tail_sol</th>\n",
       "      <th>rougher.output.tail_au</th>\n",
       "      <th>secondary_cleaner.output.tail_ag</th>\n",
       "      <th>secondary_cleaner.output.tail_pb</th>\n",
       "      <th>secondary_cleaner.output.tail_sol</th>\n",
       "      <th>secondary_cleaner.output.tail_au</th>\n",
       "    </tr>\n",
       "  </thead>\n",
       "  <tbody>\n",
       "    <tr>\n",
       "      <th>0</th>\n",
       "      <td>6.055403</td>\n",
       "      <td>9.889648</td>\n",
       "      <td>5.507324</td>\n",
       "      <td>42.192020</td>\n",
       "      <td>70.541216</td>\n",
       "      <td>10.411962</td>\n",
       "      <td>0.895447</td>\n",
       "      <td>16.904297</td>\n",
       "      <td>2.143149</td>\n",
       "      <td>8.547551</td>\n",
       "      <td>...</td>\n",
       "      <td>19.793808</td>\n",
       "      <td>87.107763</td>\n",
       "      <td>5.008018</td>\n",
       "      <td>0.508728</td>\n",
       "      <td>19.154297</td>\n",
       "      <td>1.170244</td>\n",
       "      <td>14.500184</td>\n",
       "      <td>4.694824</td>\n",
       "      <td>8.764648</td>\n",
       "      <td>2.606185</td>\n",
       "    </tr>\n",
       "    <tr>\n",
       "      <th>1</th>\n",
       "      <td>6.029369</td>\n",
       "      <td>9.968944</td>\n",
       "      <td>5.257781</td>\n",
       "      <td>42.701629</td>\n",
       "      <td>69.266198</td>\n",
       "      <td>10.462676</td>\n",
       "      <td>0.927452</td>\n",
       "      <td>16.634514</td>\n",
       "      <td>2.224930</td>\n",
       "      <td>8.558743</td>\n",
       "      <td>...</td>\n",
       "      <td>20.050975</td>\n",
       "      <td>86.843261</td>\n",
       "      <td>4.955378</td>\n",
       "      <td>0.536689</td>\n",
       "      <td>18.965234</td>\n",
       "      <td>1.184827</td>\n",
       "      <td>14.265474</td>\n",
       "      <td>4.592547</td>\n",
       "      <td>9.001494</td>\n",
       "      <td>2.488248</td>\n",
       "    </tr>\n",
       "    <tr>\n",
       "      <th>2</th>\n",
       "      <td>6.055926</td>\n",
       "      <td>10.213995</td>\n",
       "      <td>5.383759</td>\n",
       "      <td>42.657501</td>\n",
       "      <td>68.116445</td>\n",
       "      <td>10.507046</td>\n",
       "      <td>0.953716</td>\n",
       "      <td>16.208849</td>\n",
       "      <td>2.257889</td>\n",
       "      <td>8.603505</td>\n",
       "      <td>...</td>\n",
       "      <td>19.737170</td>\n",
       "      <td>86.842308</td>\n",
       "      <td>4.843460</td>\n",
       "      <td>0.546416</td>\n",
       "      <td>18.808533</td>\n",
       "      <td>1.162562</td>\n",
       "      <td>14.115662</td>\n",
       "      <td>4.624775</td>\n",
       "      <td>8.842896</td>\n",
       "      <td>2.458187</td>\n",
       "    </tr>\n",
       "    <tr>\n",
       "      <th>3</th>\n",
       "      <td>6.047977</td>\n",
       "      <td>9.977019</td>\n",
       "      <td>4.858634</td>\n",
       "      <td>42.689819</td>\n",
       "      <td>68.347543</td>\n",
       "      <td>10.422762</td>\n",
       "      <td>0.883763</td>\n",
       "      <td>16.532835</td>\n",
       "      <td>2.146849</td>\n",
       "      <td>7.221879</td>\n",
       "      <td>...</td>\n",
       "      <td>19.320810</td>\n",
       "      <td>87.226430</td>\n",
       "      <td>4.655288</td>\n",
       "      <td>0.542525</td>\n",
       "      <td>19.330200</td>\n",
       "      <td>1.079755</td>\n",
       "      <td>13.732071</td>\n",
       "      <td>4.482453</td>\n",
       "      <td>9.122857</td>\n",
       "      <td>2.322062</td>\n",
       "    </tr>\n",
       "    <tr>\n",
       "      <th>4</th>\n",
       "      <td>6.148599</td>\n",
       "      <td>10.142511</td>\n",
       "      <td>4.939416</td>\n",
       "      <td>42.774141</td>\n",
       "      <td>66.927016</td>\n",
       "      <td>10.360302</td>\n",
       "      <td>0.792826</td>\n",
       "      <td>16.525686</td>\n",
       "      <td>2.055292</td>\n",
       "      <td>9.089428</td>\n",
       "      <td>...</td>\n",
       "      <td>19.216101</td>\n",
       "      <td>86.688794</td>\n",
       "      <td>4.552800</td>\n",
       "      <td>0.515438</td>\n",
       "      <td>19.267422</td>\n",
       "      <td>1.012642</td>\n",
       "      <td>14.079996</td>\n",
       "      <td>4.470737</td>\n",
       "      <td>8.871028</td>\n",
       "      <td>2.330448</td>\n",
       "    </tr>\n",
       "  </tbody>\n",
       "</table>\n",
       "<p>5 rows × 34 columns</p>\n",
       "</div>"
      ],
      "text/plain": [
       "   final.output.concentrate_ag  final.output.concentrate_pb  \\\n",
       "0                     6.055403                     9.889648   \n",
       "1                     6.029369                     9.968944   \n",
       "2                     6.055926                    10.213995   \n",
       "3                     6.047977                     9.977019   \n",
       "4                     6.148599                    10.142511   \n",
       "\n",
       "   final.output.concentrate_sol  final.output.concentrate_au  \\\n",
       "0                      5.507324                    42.192020   \n",
       "1                      5.257781                    42.701629   \n",
       "2                      5.383759                    42.657501   \n",
       "3                      4.858634                    42.689819   \n",
       "4                      4.939416                    42.774141   \n",
       "\n",
       "   final.output.recovery  final.output.tail_ag  final.output.tail_pb  \\\n",
       "0              70.541216             10.411962              0.895447   \n",
       "1              69.266198             10.462676              0.927452   \n",
       "2              68.116445             10.507046              0.953716   \n",
       "3              68.347543             10.422762              0.883763   \n",
       "4              66.927016             10.360302              0.792826   \n",
       "\n",
       "   final.output.tail_sol  final.output.tail_au  \\\n",
       "0              16.904297              2.143149   \n",
       "1              16.634514              2.224930   \n",
       "2              16.208849              2.257889   \n",
       "3              16.532835              2.146849   \n",
       "4              16.525686              2.055292   \n",
       "\n",
       "   primary_cleaner.output.concentrate_ag  ...  rougher.output.concentrate_au  \\\n",
       "0                               8.547551  ...                      19.793808   \n",
       "1                               8.558743  ...                      20.050975   \n",
       "2                               8.603505  ...                      19.737170   \n",
       "3                               7.221879  ...                      19.320810   \n",
       "4                               9.089428  ...                      19.216101   \n",
       "\n",
       "   rougher.output.recovery  rougher.output.tail_ag  rougher.output.tail_pb  \\\n",
       "0                87.107763                5.008018                0.508728   \n",
       "1                86.843261                4.955378                0.536689   \n",
       "2                86.842308                4.843460                0.546416   \n",
       "3                87.226430                4.655288                0.542525   \n",
       "4                86.688794                4.552800                0.515438   \n",
       "\n",
       "   rougher.output.tail_sol  rougher.output.tail_au  \\\n",
       "0                19.154297                1.170244   \n",
       "1                18.965234                1.184827   \n",
       "2                18.808533                1.162562   \n",
       "3                19.330200                1.079755   \n",
       "4                19.267422                1.012642   \n",
       "\n",
       "   secondary_cleaner.output.tail_ag  secondary_cleaner.output.tail_pb  \\\n",
       "0                         14.500184                          4.694824   \n",
       "1                         14.265474                          4.592547   \n",
       "2                         14.115662                          4.624775   \n",
       "3                         13.732071                          4.482453   \n",
       "4                         14.079996                          4.470737   \n",
       "\n",
       "   secondary_cleaner.output.tail_sol  secondary_cleaner.output.tail_au  \n",
       "0                           8.764648                          2.606185  \n",
       "1                           9.001494                          2.488248  \n",
       "2                           8.842896                          2.458187  \n",
       "3                           9.122857                          2.322062  \n",
       "4                           8.871028                          2.330448  \n",
       "\n",
       "[5 rows x 34 columns]"
      ]
     },
     "metadata": {},
     "output_type": "display_data"
    }
   ],
   "source": [
    "#make a list of test columns\n",
    "test_list = df_test.columns.tolist()\n",
    "#remove those columns from the training set and assign that to a new dataframe\n",
    "train_notin_test = df_train.drop(test_list, axis=1)\n",
    "#show the new dataframe\n",
    "display(train_notin_test.head())"
   ]
  },
  {
   "cell_type": "code",
   "execution_count": 20,
   "metadata": {
    "scrolled": true
   },
   "outputs": [
    {
     "name": "stdout",
     "output_type": "stream",
     "text": [
      "<class 'pandas.core.frame.DataFrame'>\n",
      "RangeIndex: 16860 entries, 0 to 16859\n",
      "Data columns (total 34 columns):\n",
      " #   Column                                              Non-Null Count  Dtype  \n",
      "---  ------                                              --------------  -----  \n",
      " 0   final.output.concentrate_ag                         16788 non-null  float64\n",
      " 1   final.output.concentrate_pb                         16788 non-null  float64\n",
      " 2   final.output.concentrate_sol                        16490 non-null  float64\n",
      " 3   final.output.concentrate_au                         16789 non-null  float64\n",
      " 4   final.output.recovery                               15339 non-null  float64\n",
      " 5   final.output.tail_ag                                16794 non-null  float64\n",
      " 6   final.output.tail_pb                                16677 non-null  float64\n",
      " 7   final.output.tail_sol                               16715 non-null  float64\n",
      " 8   final.output.tail_au                                16794 non-null  float64\n",
      " 9   primary_cleaner.output.concentrate_ag               16778 non-null  float64\n",
      " 10  primary_cleaner.output.concentrate_pb               16502 non-null  float64\n",
      " 11  primary_cleaner.output.concentrate_sol              16224 non-null  float64\n",
      " 12  primary_cleaner.output.concentrate_au               16778 non-null  float64\n",
      " 13  primary_cleaner.output.tail_ag                      16777 non-null  float64\n",
      " 14  primary_cleaner.output.tail_pb                      16761 non-null  float64\n",
      " 15  primary_cleaner.output.tail_sol                     16579 non-null  float64\n",
      " 16  primary_cleaner.output.tail_au                      16777 non-null  float64\n",
      " 17  rougher.calculation.sulfate_to_au_concentrate       16833 non-null  float64\n",
      " 18  rougher.calculation.floatbank10_sulfate_to_au_feed  16833 non-null  float64\n",
      " 19  rougher.calculation.floatbank11_sulfate_to_au_feed  16833 non-null  float64\n",
      " 20  rougher.calculation.au_pb_ratio                     15618 non-null  float64\n",
      " 21  rougher.output.concentrate_ag                       16778 non-null  float64\n",
      " 22  rougher.output.concentrate_pb                       16778 non-null  float64\n",
      " 23  rougher.output.concentrate_sol                      16698 non-null  float64\n",
      " 24  rougher.output.concentrate_au                       16778 non-null  float64\n",
      " 25  rougher.output.recovery                             14287 non-null  float64\n",
      " 26  rougher.output.tail_ag                              14610 non-null  float64\n",
      " 27  rougher.output.tail_pb                              16778 non-null  float64\n",
      " 28  rougher.output.tail_sol                             14611 non-null  float64\n",
      " 29  rougher.output.tail_au                              14611 non-null  float64\n",
      " 30  secondary_cleaner.output.tail_ag                    16776 non-null  float64\n",
      " 31  secondary_cleaner.output.tail_pb                    16764 non-null  float64\n",
      " 32  secondary_cleaner.output.tail_sol                   14874 non-null  float64\n",
      " 33  secondary_cleaner.output.tail_au                    16778 non-null  float64\n",
      "dtypes: float64(34)\n",
      "memory usage: 4.4 MB\n"
     ]
    }
   ],
   "source": [
    "#call info() on the not in test dataframe\n",
    "train_notin_test.info()"
   ]
  },
  {
   "cell_type": "markdown",
   "metadata": {},
   "source": [
    "#### Training and Testing set feature assessment\n",
    "\n",
    "There are 34 columns not present in the Test set that are in the Training set. The training set has: \"final\" features(9 columns); and \"output\" parameters in the \"primary\"(8 columns), \"secondary\" (4 columns), and \"rougher\" (9 columns) features; and \"rougher.calculations\" (4 columns). This is 34 less columns in total.\n",
    "\n",
    "All features that are not in the test set are of the float datatype."
   ]
  },
  {
   "cell_type": "markdown",
   "metadata": {},
   "source": [
    "### Merge data to get the Test set to have the same features as the Train set\n",
    "\n",
    "Now I will need to extract the data from the full data set of these columns and make a new DataFrame to merge with the test set. I will also need to add the 'date' column to use that as the merging column. As demonstrated above, all the recorded dates are unique, so they will function as the 'id' on which ot merge."
   ]
  },
  {
   "cell_type": "code",
   "execution_count": 21,
   "metadata": {},
   "outputs": [],
   "source": [
    "# Make a list of the missing columns\n",
    "absent_list = train_notin_test.columns.tolist()"
   ]
  },
  {
   "cell_type": "code",
   "execution_count": 22,
   "metadata": {
    "scrolled": true
   },
   "outputs": [
    {
     "name": "stderr",
     "output_type": "stream",
     "text": [
      "C:\\Users\\markl\\AppData\\Local\\Temp\\ipykernel_19896\\199347989.py:4: SettingWithCopyWarning: \n",
      "A value is trying to be set on a copy of a slice from a DataFrame.\n",
      "Try using .loc[row_indexer,col_indexer] = value instead\n",
      "\n",
      "See the caveats in the documentation: https://pandas.pydata.org/pandas-docs/stable/user_guide/indexing.html#returning-a-view-versus-a-copy\n",
      "  df_absent_list['date'] = df_full['date']\n"
     ]
    },
    {
     "data": {
      "text/html": [
       "<div>\n",
       "<style scoped>\n",
       "    .dataframe tbody tr th:only-of-type {\n",
       "        vertical-align: middle;\n",
       "    }\n",
       "\n",
       "    .dataframe tbody tr th {\n",
       "        vertical-align: top;\n",
       "    }\n",
       "\n",
       "    .dataframe thead th {\n",
       "        text-align: right;\n",
       "    }\n",
       "</style>\n",
       "<table border=\"1\" class=\"dataframe\">\n",
       "  <thead>\n",
       "    <tr style=\"text-align: right;\">\n",
       "      <th></th>\n",
       "      <th>date</th>\n",
       "      <th>final.output.concentrate_ag</th>\n",
       "      <th>final.output.concentrate_pb</th>\n",
       "      <th>final.output.concentrate_sol</th>\n",
       "      <th>final.output.concentrate_au</th>\n",
       "      <th>final.output.recovery</th>\n",
       "      <th>final.output.tail_ag</th>\n",
       "      <th>final.output.tail_pb</th>\n",
       "      <th>final.output.tail_sol</th>\n",
       "      <th>final.output.tail_au</th>\n",
       "      <th>...</th>\n",
       "      <th>rougher.output.concentrate_au</th>\n",
       "      <th>rougher.output.recovery</th>\n",
       "      <th>rougher.output.tail_ag</th>\n",
       "      <th>rougher.output.tail_pb</th>\n",
       "      <th>rougher.output.tail_sol</th>\n",
       "      <th>rougher.output.tail_au</th>\n",
       "      <th>secondary_cleaner.output.tail_ag</th>\n",
       "      <th>secondary_cleaner.output.tail_pb</th>\n",
       "      <th>secondary_cleaner.output.tail_sol</th>\n",
       "      <th>secondary_cleaner.output.tail_au</th>\n",
       "    </tr>\n",
       "  </thead>\n",
       "  <tbody>\n",
       "    <tr>\n",
       "      <th>0</th>\n",
       "      <td>2016-01-15 00:00:00</td>\n",
       "      <td>6.055403</td>\n",
       "      <td>9.889648</td>\n",
       "      <td>5.507324</td>\n",
       "      <td>42.192020</td>\n",
       "      <td>70.541216</td>\n",
       "      <td>10.411962</td>\n",
       "      <td>0.895447</td>\n",
       "      <td>16.904297</td>\n",
       "      <td>2.143149</td>\n",
       "      <td>...</td>\n",
       "      <td>19.793808</td>\n",
       "      <td>87.107763</td>\n",
       "      <td>5.008018</td>\n",
       "      <td>0.508728</td>\n",
       "      <td>19.154297</td>\n",
       "      <td>1.170244</td>\n",
       "      <td>14.500184</td>\n",
       "      <td>4.694824</td>\n",
       "      <td>8.764648</td>\n",
       "      <td>2.606185</td>\n",
       "    </tr>\n",
       "    <tr>\n",
       "      <th>1</th>\n",
       "      <td>2016-01-15 01:00:00</td>\n",
       "      <td>6.029369</td>\n",
       "      <td>9.968944</td>\n",
       "      <td>5.257781</td>\n",
       "      <td>42.701629</td>\n",
       "      <td>69.266198</td>\n",
       "      <td>10.462676</td>\n",
       "      <td>0.927452</td>\n",
       "      <td>16.634514</td>\n",
       "      <td>2.224930</td>\n",
       "      <td>...</td>\n",
       "      <td>20.050975</td>\n",
       "      <td>86.843261</td>\n",
       "      <td>4.955378</td>\n",
       "      <td>0.536689</td>\n",
       "      <td>18.965234</td>\n",
       "      <td>1.184827</td>\n",
       "      <td>14.265474</td>\n",
       "      <td>4.592547</td>\n",
       "      <td>9.001494</td>\n",
       "      <td>2.488248</td>\n",
       "    </tr>\n",
       "    <tr>\n",
       "      <th>2</th>\n",
       "      <td>2016-01-15 02:00:00</td>\n",
       "      <td>6.055926</td>\n",
       "      <td>10.213995</td>\n",
       "      <td>5.383759</td>\n",
       "      <td>42.657501</td>\n",
       "      <td>68.116445</td>\n",
       "      <td>10.507046</td>\n",
       "      <td>0.953716</td>\n",
       "      <td>16.208849</td>\n",
       "      <td>2.257889</td>\n",
       "      <td>...</td>\n",
       "      <td>19.737170</td>\n",
       "      <td>86.842308</td>\n",
       "      <td>4.843460</td>\n",
       "      <td>0.546416</td>\n",
       "      <td>18.808533</td>\n",
       "      <td>1.162562</td>\n",
       "      <td>14.115662</td>\n",
       "      <td>4.624775</td>\n",
       "      <td>8.842896</td>\n",
       "      <td>2.458187</td>\n",
       "    </tr>\n",
       "    <tr>\n",
       "      <th>3</th>\n",
       "      <td>2016-01-15 03:00:00</td>\n",
       "      <td>6.047977</td>\n",
       "      <td>9.977019</td>\n",
       "      <td>4.858634</td>\n",
       "      <td>42.689819</td>\n",
       "      <td>68.347543</td>\n",
       "      <td>10.422762</td>\n",
       "      <td>0.883763</td>\n",
       "      <td>16.532835</td>\n",
       "      <td>2.146849</td>\n",
       "      <td>...</td>\n",
       "      <td>19.320810</td>\n",
       "      <td>87.226430</td>\n",
       "      <td>4.655288</td>\n",
       "      <td>0.542525</td>\n",
       "      <td>19.330200</td>\n",
       "      <td>1.079755</td>\n",
       "      <td>13.732071</td>\n",
       "      <td>4.482453</td>\n",
       "      <td>9.122857</td>\n",
       "      <td>2.322062</td>\n",
       "    </tr>\n",
       "    <tr>\n",
       "      <th>4</th>\n",
       "      <td>2016-01-15 04:00:00</td>\n",
       "      <td>6.148599</td>\n",
       "      <td>10.142511</td>\n",
       "      <td>4.939416</td>\n",
       "      <td>42.774141</td>\n",
       "      <td>66.927016</td>\n",
       "      <td>10.360302</td>\n",
       "      <td>0.792826</td>\n",
       "      <td>16.525686</td>\n",
       "      <td>2.055292</td>\n",
       "      <td>...</td>\n",
       "      <td>19.216101</td>\n",
       "      <td>86.688794</td>\n",
       "      <td>4.552800</td>\n",
       "      <td>0.515438</td>\n",
       "      <td>19.267422</td>\n",
       "      <td>1.012642</td>\n",
       "      <td>14.079996</td>\n",
       "      <td>4.470737</td>\n",
       "      <td>8.871028</td>\n",
       "      <td>2.330448</td>\n",
       "    </tr>\n",
       "  </tbody>\n",
       "</table>\n",
       "<p>5 rows × 35 columns</p>\n",
       "</div>"
      ],
      "text/plain": [
       "                  date  final.output.concentrate_ag  \\\n",
       "0  2016-01-15 00:00:00                     6.055403   \n",
       "1  2016-01-15 01:00:00                     6.029369   \n",
       "2  2016-01-15 02:00:00                     6.055926   \n",
       "3  2016-01-15 03:00:00                     6.047977   \n",
       "4  2016-01-15 04:00:00                     6.148599   \n",
       "\n",
       "   final.output.concentrate_pb  final.output.concentrate_sol  \\\n",
       "0                     9.889648                      5.507324   \n",
       "1                     9.968944                      5.257781   \n",
       "2                    10.213995                      5.383759   \n",
       "3                     9.977019                      4.858634   \n",
       "4                    10.142511                      4.939416   \n",
       "\n",
       "   final.output.concentrate_au  final.output.recovery  final.output.tail_ag  \\\n",
       "0                    42.192020              70.541216             10.411962   \n",
       "1                    42.701629              69.266198             10.462676   \n",
       "2                    42.657501              68.116445             10.507046   \n",
       "3                    42.689819              68.347543             10.422762   \n",
       "4                    42.774141              66.927016             10.360302   \n",
       "\n",
       "   final.output.tail_pb  final.output.tail_sol  final.output.tail_au  ...  \\\n",
       "0              0.895447              16.904297              2.143149  ...   \n",
       "1              0.927452              16.634514              2.224930  ...   \n",
       "2              0.953716              16.208849              2.257889  ...   \n",
       "3              0.883763              16.532835              2.146849  ...   \n",
       "4              0.792826              16.525686              2.055292  ...   \n",
       "\n",
       "   rougher.output.concentrate_au  rougher.output.recovery  \\\n",
       "0                      19.793808                87.107763   \n",
       "1                      20.050975                86.843261   \n",
       "2                      19.737170                86.842308   \n",
       "3                      19.320810                87.226430   \n",
       "4                      19.216101                86.688794   \n",
       "\n",
       "   rougher.output.tail_ag  rougher.output.tail_pb  rougher.output.tail_sol  \\\n",
       "0                5.008018                0.508728                19.154297   \n",
       "1                4.955378                0.536689                18.965234   \n",
       "2                4.843460                0.546416                18.808533   \n",
       "3                4.655288                0.542525                19.330200   \n",
       "4                4.552800                0.515438                19.267422   \n",
       "\n",
       "   rougher.output.tail_au  secondary_cleaner.output.tail_ag  \\\n",
       "0                1.170244                         14.500184   \n",
       "1                1.184827                         14.265474   \n",
       "2                1.162562                         14.115662   \n",
       "3                1.079755                         13.732071   \n",
       "4                1.012642                         14.079996   \n",
       "\n",
       "   secondary_cleaner.output.tail_pb  secondary_cleaner.output.tail_sol  \\\n",
       "0                          4.694824                           8.764648   \n",
       "1                          4.592547                           9.001494   \n",
       "2                          4.624775                           8.842896   \n",
       "3                          4.482453                           9.122857   \n",
       "4                          4.470737                           8.871028   \n",
       "\n",
       "   secondary_cleaner.output.tail_au  \n",
       "0                          2.606185  \n",
       "1                          2.488248  \n",
       "2                          2.458187  \n",
       "3                          2.322062  \n",
       "4                          2.330448  \n",
       "\n",
       "[5 rows x 35 columns]"
      ]
     },
     "metadata": {},
     "output_type": "display_data"
    }
   ],
   "source": [
    "# Retrieve those columns from the full dataset and merge on the date\n",
    "df_absent_list = df_full[absent_list]\n",
    "# Add in the 'date' column\n",
    "df_absent_list['date'] = df_full['date']\n",
    "# Move 'date' column to the first position\n",
    "columns = ['date'] + [col for col in df_absent_list.columns if col != 'date']\n",
    "df_absent_list = df_absent_list[columns]\n",
    "display(df_absent_list.head())"
   ]
  },
  {
   "cell_type": "code",
   "execution_count": 23,
   "metadata": {
    "scrolled": true
   },
   "outputs": [
    {
     "name": "stdout",
     "output_type": "stream",
     "text": [
      "<class 'pandas.core.frame.DataFrame'>\n",
      "RangeIndex: 5856 entries, 0 to 5855\n",
      "Data columns (total 87 columns):\n",
      " #   Column                                              Non-Null Count  Dtype  \n",
      "---  ------                                              --------------  -----  \n",
      " 0   date                                                5856 non-null   object \n",
      " 1   primary_cleaner.input.sulfate                       5554 non-null   float64\n",
      " 2   primary_cleaner.input.depressant                    5572 non-null   float64\n",
      " 3   primary_cleaner.input.feed_size                     5856 non-null   float64\n",
      " 4   primary_cleaner.input.xanthate                      5690 non-null   float64\n",
      " 5   primary_cleaner.state.floatbank8_a_air              5840 non-null   float64\n",
      " 6   primary_cleaner.state.floatbank8_a_level            5840 non-null   float64\n",
      " 7   primary_cleaner.state.floatbank8_b_air              5840 non-null   float64\n",
      " 8   primary_cleaner.state.floatbank8_b_level            5840 non-null   float64\n",
      " 9   primary_cleaner.state.floatbank8_c_air              5840 non-null   float64\n",
      " 10  primary_cleaner.state.floatbank8_c_level            5840 non-null   float64\n",
      " 11  primary_cleaner.state.floatbank8_d_air              5840 non-null   float64\n",
      " 12  primary_cleaner.state.floatbank8_d_level            5840 non-null   float64\n",
      " 13  rougher.input.feed_ag                               5840 non-null   float64\n",
      " 14  rougher.input.feed_pb                               5840 non-null   float64\n",
      " 15  rougher.input.feed_rate                             5816 non-null   float64\n",
      " 16  rougher.input.feed_size                             5834 non-null   float64\n",
      " 17  rougher.input.feed_sol                              5789 non-null   float64\n",
      " 18  rougher.input.feed_au                               5840 non-null   float64\n",
      " 19  rougher.input.floatbank10_sulfate                   5599 non-null   float64\n",
      " 20  rougher.input.floatbank10_xanthate                  5733 non-null   float64\n",
      " 21  rougher.input.floatbank11_sulfate                   5801 non-null   float64\n",
      " 22  rougher.input.floatbank11_xanthate                  5503 non-null   float64\n",
      " 23  rougher.state.floatbank10_a_air                     5839 non-null   float64\n",
      " 24  rougher.state.floatbank10_a_level                   5840 non-null   float64\n",
      " 25  rougher.state.floatbank10_b_air                     5839 non-null   float64\n",
      " 26  rougher.state.floatbank10_b_level                   5840 non-null   float64\n",
      " 27  rougher.state.floatbank10_c_air                     5839 non-null   float64\n",
      " 28  rougher.state.floatbank10_c_level                   5840 non-null   float64\n",
      " 29  rougher.state.floatbank10_d_air                     5839 non-null   float64\n",
      " 30  rougher.state.floatbank10_d_level                   5840 non-null   float64\n",
      " 31  rougher.state.floatbank10_e_air                     5839 non-null   float64\n",
      " 32  rougher.state.floatbank10_e_level                   5840 non-null   float64\n",
      " 33  rougher.state.floatbank10_f_air                     5839 non-null   float64\n",
      " 34  rougher.state.floatbank10_f_level                   5840 non-null   float64\n",
      " 35  secondary_cleaner.state.floatbank2_a_air            5836 non-null   float64\n",
      " 36  secondary_cleaner.state.floatbank2_a_level          5840 non-null   float64\n",
      " 37  secondary_cleaner.state.floatbank2_b_air            5833 non-null   float64\n",
      " 38  secondary_cleaner.state.floatbank2_b_level          5840 non-null   float64\n",
      " 39  secondary_cleaner.state.floatbank3_a_air            5822 non-null   float64\n",
      " 40  secondary_cleaner.state.floatbank3_a_level          5840 non-null   float64\n",
      " 41  secondary_cleaner.state.floatbank3_b_air            5840 non-null   float64\n",
      " 42  secondary_cleaner.state.floatbank3_b_level          5840 non-null   float64\n",
      " 43  secondary_cleaner.state.floatbank4_a_air            5840 non-null   float64\n",
      " 44  secondary_cleaner.state.floatbank4_a_level          5840 non-null   float64\n",
      " 45  secondary_cleaner.state.floatbank4_b_air            5840 non-null   float64\n",
      " 46  secondary_cleaner.state.floatbank4_b_level          5840 non-null   float64\n",
      " 47  secondary_cleaner.state.floatbank5_a_air            5840 non-null   float64\n",
      " 48  secondary_cleaner.state.floatbank5_a_level          5840 non-null   float64\n",
      " 49  secondary_cleaner.state.floatbank5_b_air            5840 non-null   float64\n",
      " 50  secondary_cleaner.state.floatbank5_b_level          5840 non-null   float64\n",
      " 51  secondary_cleaner.state.floatbank6_a_air            5840 non-null   float64\n",
      " 52  secondary_cleaner.state.floatbank6_a_level          5840 non-null   float64\n",
      " 53  final.output.concentrate_ag                         5839 non-null   float64\n",
      " 54  final.output.concentrate_pb                         5841 non-null   float64\n",
      " 55  final.output.concentrate_sol                        5841 non-null   float64\n",
      " 56  final.output.concentrate_au                         5841 non-null   float64\n",
      " 57  final.output.recovery                               5414 non-null   float64\n",
      " 58  final.output.tail_ag                                5839 non-null   float64\n",
      " 59  final.output.tail_pb                                5839 non-null   float64\n",
      " 60  final.output.tail_sol                               5730 non-null   float64\n",
      " 61  final.output.tail_au                                5841 non-null   float64\n",
      " 62  primary_cleaner.output.concentrate_ag               5840 non-null   float64\n",
      " 63  primary_cleaner.output.concentrate_pb               5766 non-null   float64\n",
      " 64  primary_cleaner.output.concentrate_sol              5694 non-null   float64\n",
      " 65  primary_cleaner.output.concentrate_au               5840 non-null   float64\n",
      " 66  primary_cleaner.output.tail_ag                      5837 non-null   float64\n",
      " 67  primary_cleaner.output.tail_pb                      5833 non-null   float64\n",
      " 68  primary_cleaner.output.tail_sol                     5786 non-null   float64\n",
      " 69  primary_cleaner.output.tail_au                      5840 non-null   float64\n",
      " 70  rougher.calculation.sulfate_to_au_concentrate       5839 non-null   float64\n",
      " 71  rougher.calculation.floatbank10_sulfate_to_au_feed  5839 non-null   float64\n",
      " 72  rougher.calculation.floatbank11_sulfate_to_au_feed  5839 non-null   float64\n",
      " 73  rougher.calculation.au_pb_ratio                     5471 non-null   float64\n",
      " 74  rougher.output.concentrate_ag                       5840 non-null   float64\n",
      " 75  rougher.output.concentrate_pb                       5840 non-null   float64\n",
      " 76  rougher.output.concentrate_sol                      5828 non-null   float64\n",
      " 77  rougher.output.concentrate_au                       5840 non-null   float64\n",
      " 78  rougher.output.recovery                             5310 non-null   float64\n",
      " 79  rougher.output.tail_ag                              5369 non-null   float64\n",
      " 80  rougher.output.tail_pb                              5840 non-null   float64\n",
      " 81  rougher.output.tail_sol                             5369 non-null   float64\n",
      " 82  rougher.output.tail_au                              5369 non-null   float64\n",
      " 83  secondary_cleaner.output.tail_ag                    5840 non-null   float64\n",
      " 84  secondary_cleaner.output.tail_pb                    5836 non-null   float64\n",
      " 85  secondary_cleaner.output.tail_sol                   5627 non-null   float64\n",
      " 86  secondary_cleaner.output.tail_au                    5840 non-null   float64\n",
      "dtypes: float64(86), object(1)\n",
      "memory usage: 3.9+ MB\n"
     ]
    }
   ],
   "source": [
    "# merge the data from \"absent_from_test\" set to the test data on 'date' column\n",
    "## use left merge to retain the data from the test set and only fit the full where there is a matching date\n",
    "full_test = df_test.merge(df_absent_list, on='date', how='left')\n",
    "full_test.info()"
   ]
  },
  {
   "cell_type": "code",
   "execution_count": 24,
   "metadata": {},
   "outputs": [
    {
     "name": "stdout",
     "output_type": "stream",
     "text": [
      "<class 'pandas.core.frame.DataFrame'>\n",
      "RangeIndex: 16860 entries, 0 to 16859\n",
      "Data columns (total 87 columns):\n",
      " #   Column                                              Non-Null Count  Dtype  \n",
      "---  ------                                              --------------  -----  \n",
      " 0   date                                                16860 non-null  object \n",
      " 1   final.output.concentrate_ag                         16788 non-null  float64\n",
      " 2   final.output.concentrate_pb                         16788 non-null  float64\n",
      " 3   final.output.concentrate_sol                        16490 non-null  float64\n",
      " 4   final.output.concentrate_au                         16789 non-null  float64\n",
      " 5   final.output.recovery                               15339 non-null  float64\n",
      " 6   final.output.tail_ag                                16794 non-null  float64\n",
      " 7   final.output.tail_pb                                16677 non-null  float64\n",
      " 8   final.output.tail_sol                               16715 non-null  float64\n",
      " 9   final.output.tail_au                                16794 non-null  float64\n",
      " 10  primary_cleaner.input.sulfate                       15553 non-null  float64\n",
      " 11  primary_cleaner.input.depressant                    15598 non-null  float64\n",
      " 12  primary_cleaner.input.feed_size                     16860 non-null  float64\n",
      " 13  primary_cleaner.input.xanthate                      15875 non-null  float64\n",
      " 14  primary_cleaner.output.concentrate_ag               16778 non-null  float64\n",
      " 15  primary_cleaner.output.concentrate_pb               16502 non-null  float64\n",
      " 16  primary_cleaner.output.concentrate_sol              16224 non-null  float64\n",
      " 17  primary_cleaner.output.concentrate_au               16778 non-null  float64\n",
      " 18  primary_cleaner.output.tail_ag                      16777 non-null  float64\n",
      " 19  primary_cleaner.output.tail_pb                      16761 non-null  float64\n",
      " 20  primary_cleaner.output.tail_sol                     16579 non-null  float64\n",
      " 21  primary_cleaner.output.tail_au                      16777 non-null  float64\n",
      " 22  primary_cleaner.state.floatbank8_a_air              16820 non-null  float64\n",
      " 23  primary_cleaner.state.floatbank8_a_level            16827 non-null  float64\n",
      " 24  primary_cleaner.state.floatbank8_b_air              16820 non-null  float64\n",
      " 25  primary_cleaner.state.floatbank8_b_level            16833 non-null  float64\n",
      " 26  primary_cleaner.state.floatbank8_c_air              16822 non-null  float64\n",
      " 27  primary_cleaner.state.floatbank8_c_level            16833 non-null  float64\n",
      " 28  primary_cleaner.state.floatbank8_d_air              16821 non-null  float64\n",
      " 29  primary_cleaner.state.floatbank8_d_level            16833 non-null  float64\n",
      " 30  rougher.calculation.sulfate_to_au_concentrate       16833 non-null  float64\n",
      " 31  rougher.calculation.floatbank10_sulfate_to_au_feed  16833 non-null  float64\n",
      " 32  rougher.calculation.floatbank11_sulfate_to_au_feed  16833 non-null  float64\n",
      " 33  rougher.calculation.au_pb_ratio                     15618 non-null  float64\n",
      " 34  rougher.input.feed_ag                               16778 non-null  float64\n",
      " 35  rougher.input.feed_pb                               16632 non-null  float64\n",
      " 36  rougher.input.feed_rate                             16347 non-null  float64\n",
      " 37  rougher.input.feed_size                             16443 non-null  float64\n",
      " 38  rougher.input.feed_sol                              16568 non-null  float64\n",
      " 39  rougher.input.feed_au                               16777 non-null  float64\n",
      " 40  rougher.input.floatbank10_sulfate                   15816 non-null  float64\n",
      " 41  rougher.input.floatbank10_xanthate                  16514 non-null  float64\n",
      " 42  rougher.input.floatbank11_sulfate                   16237 non-null  float64\n",
      " 43  rougher.input.floatbank11_xanthate                  14956 non-null  float64\n",
      " 44  rougher.output.concentrate_ag                       16778 non-null  float64\n",
      " 45  rougher.output.concentrate_pb                       16778 non-null  float64\n",
      " 46  rougher.output.concentrate_sol                      16698 non-null  float64\n",
      " 47  rougher.output.concentrate_au                       16778 non-null  float64\n",
      " 48  rougher.output.recovery                             14287 non-null  float64\n",
      " 49  rougher.output.tail_ag                              14610 non-null  float64\n",
      " 50  rougher.output.tail_pb                              16778 non-null  float64\n",
      " 51  rougher.output.tail_sol                             14611 non-null  float64\n",
      " 52  rougher.output.tail_au                              14611 non-null  float64\n",
      " 53  rougher.state.floatbank10_a_air                     16807 non-null  float64\n",
      " 54  rougher.state.floatbank10_a_level                   16807 non-null  float64\n",
      " 55  rougher.state.floatbank10_b_air                     16807 non-null  float64\n",
      " 56  rougher.state.floatbank10_b_level                   16807 non-null  float64\n",
      " 57  rougher.state.floatbank10_c_air                     16807 non-null  float64\n",
      " 58  rougher.state.floatbank10_c_level                   16814 non-null  float64\n",
      " 59  rougher.state.floatbank10_d_air                     16802 non-null  float64\n",
      " 60  rougher.state.floatbank10_d_level                   16809 non-null  float64\n",
      " 61  rougher.state.floatbank10_e_air                     16257 non-null  float64\n",
      " 62  rougher.state.floatbank10_e_level                   16809 non-null  float64\n",
      " 63  rougher.state.floatbank10_f_air                     16802 non-null  float64\n",
      " 64  rougher.state.floatbank10_f_level                   16802 non-null  float64\n",
      " 65  secondary_cleaner.output.tail_ag                    16776 non-null  float64\n",
      " 66  secondary_cleaner.output.tail_pb                    16764 non-null  float64\n",
      " 67  secondary_cleaner.output.tail_sol                   14874 non-null  float64\n",
      " 68  secondary_cleaner.output.tail_au                    16778 non-null  float64\n",
      " 69  secondary_cleaner.state.floatbank2_a_air            16497 non-null  float64\n",
      " 70  secondary_cleaner.state.floatbank2_a_level          16751 non-null  float64\n",
      " 71  secondary_cleaner.state.floatbank2_b_air            16705 non-null  float64\n",
      " 72  secondary_cleaner.state.floatbank2_b_level          16748 non-null  float64\n",
      " 73  secondary_cleaner.state.floatbank3_a_air            16763 non-null  float64\n",
      " 74  secondary_cleaner.state.floatbank3_a_level          16747 non-null  float64\n",
      " 75  secondary_cleaner.state.floatbank3_b_air            16752 non-null  float64\n",
      " 76  secondary_cleaner.state.floatbank3_b_level          16750 non-null  float64\n",
      " 77  secondary_cleaner.state.floatbank4_a_air            16731 non-null  float64\n",
      " 78  secondary_cleaner.state.floatbank4_a_level          16747 non-null  float64\n",
      " 79  secondary_cleaner.state.floatbank4_b_air            16768 non-null  float64\n",
      " 80  secondary_cleaner.state.floatbank4_b_level          16767 non-null  float64\n",
      " 81  secondary_cleaner.state.floatbank5_a_air            16775 non-null  float64\n",
      " 82  secondary_cleaner.state.floatbank5_a_level          16775 non-null  float64\n",
      " 83  secondary_cleaner.state.floatbank5_b_air            16775 non-null  float64\n",
      " 84  secondary_cleaner.state.floatbank5_b_level          16776 non-null  float64\n",
      " 85  secondary_cleaner.state.floatbank6_a_air            16757 non-null  float64\n",
      " 86  secondary_cleaner.state.floatbank6_a_level          16775 non-null  float64\n",
      "dtypes: float64(86), object(1)\n",
      "memory usage: 11.2+ MB\n",
      "None\n",
      "<class 'pandas.core.frame.DataFrame'>\n",
      "RangeIndex: 5856 entries, 0 to 5855\n",
      "Data columns (total 87 columns):\n",
      " #   Column                                              Non-Null Count  Dtype  \n",
      "---  ------                                              --------------  -----  \n",
      " 0   date                                                5856 non-null   object \n",
      " 1   final.output.concentrate_ag                         5839 non-null   float64\n",
      " 2   final.output.concentrate_pb                         5841 non-null   float64\n",
      " 3   final.output.concentrate_sol                        5841 non-null   float64\n",
      " 4   final.output.concentrate_au                         5841 non-null   float64\n",
      " 5   final.output.recovery                               5414 non-null   float64\n",
      " 6   final.output.tail_ag                                5839 non-null   float64\n",
      " 7   final.output.tail_pb                                5839 non-null   float64\n",
      " 8   final.output.tail_sol                               5730 non-null   float64\n",
      " 9   final.output.tail_au                                5841 non-null   float64\n",
      " 10  primary_cleaner.input.sulfate                       5554 non-null   float64\n",
      " 11  primary_cleaner.input.depressant                    5572 non-null   float64\n",
      " 12  primary_cleaner.input.feed_size                     5856 non-null   float64\n",
      " 13  primary_cleaner.input.xanthate                      5690 non-null   float64\n",
      " 14  primary_cleaner.output.concentrate_ag               5840 non-null   float64\n",
      " 15  primary_cleaner.output.concentrate_pb               5766 non-null   float64\n",
      " 16  primary_cleaner.output.concentrate_sol              5694 non-null   float64\n",
      " 17  primary_cleaner.output.concentrate_au               5840 non-null   float64\n",
      " 18  primary_cleaner.output.tail_ag                      5837 non-null   float64\n",
      " 19  primary_cleaner.output.tail_pb                      5833 non-null   float64\n",
      " 20  primary_cleaner.output.tail_sol                     5786 non-null   float64\n",
      " 21  primary_cleaner.output.tail_au                      5840 non-null   float64\n",
      " 22  primary_cleaner.state.floatbank8_a_air              5840 non-null   float64\n",
      " 23  primary_cleaner.state.floatbank8_a_level            5840 non-null   float64\n",
      " 24  primary_cleaner.state.floatbank8_b_air              5840 non-null   float64\n",
      " 25  primary_cleaner.state.floatbank8_b_level            5840 non-null   float64\n",
      " 26  primary_cleaner.state.floatbank8_c_air              5840 non-null   float64\n",
      " 27  primary_cleaner.state.floatbank8_c_level            5840 non-null   float64\n",
      " 28  primary_cleaner.state.floatbank8_d_air              5840 non-null   float64\n",
      " 29  primary_cleaner.state.floatbank8_d_level            5840 non-null   float64\n",
      " 30  rougher.calculation.sulfate_to_au_concentrate       5839 non-null   float64\n",
      " 31  rougher.calculation.floatbank10_sulfate_to_au_feed  5839 non-null   float64\n",
      " 32  rougher.calculation.floatbank11_sulfate_to_au_feed  5839 non-null   float64\n",
      " 33  rougher.calculation.au_pb_ratio                     5471 non-null   float64\n",
      " 34  rougher.input.feed_ag                               5840 non-null   float64\n",
      " 35  rougher.input.feed_pb                               5840 non-null   float64\n",
      " 36  rougher.input.feed_rate                             5816 non-null   float64\n",
      " 37  rougher.input.feed_size                             5834 non-null   float64\n",
      " 38  rougher.input.feed_sol                              5789 non-null   float64\n",
      " 39  rougher.input.feed_au                               5840 non-null   float64\n",
      " 40  rougher.input.floatbank10_sulfate                   5599 non-null   float64\n",
      " 41  rougher.input.floatbank10_xanthate                  5733 non-null   float64\n",
      " 42  rougher.input.floatbank11_sulfate                   5801 non-null   float64\n",
      " 43  rougher.input.floatbank11_xanthate                  5503 non-null   float64\n",
      " 44  rougher.output.concentrate_ag                       5840 non-null   float64\n",
      " 45  rougher.output.concentrate_pb                       5840 non-null   float64\n",
      " 46  rougher.output.concentrate_sol                      5828 non-null   float64\n",
      " 47  rougher.output.concentrate_au                       5840 non-null   float64\n",
      " 48  rougher.output.recovery                             5310 non-null   float64\n",
      " 49  rougher.output.tail_ag                              5369 non-null   float64\n",
      " 50  rougher.output.tail_pb                              5840 non-null   float64\n",
      " 51  rougher.output.tail_sol                             5369 non-null   float64\n",
      " 52  rougher.output.tail_au                              5369 non-null   float64\n",
      " 53  rougher.state.floatbank10_a_air                     5839 non-null   float64\n",
      " 54  rougher.state.floatbank10_a_level                   5840 non-null   float64\n",
      " 55  rougher.state.floatbank10_b_air                     5839 non-null   float64\n",
      " 56  rougher.state.floatbank10_b_level                   5840 non-null   float64\n",
      " 57  rougher.state.floatbank10_c_air                     5839 non-null   float64\n",
      " 58  rougher.state.floatbank10_c_level                   5840 non-null   float64\n",
      " 59  rougher.state.floatbank10_d_air                     5839 non-null   float64\n",
      " 60  rougher.state.floatbank10_d_level                   5840 non-null   float64\n",
      " 61  rougher.state.floatbank10_e_air                     5839 non-null   float64\n",
      " 62  rougher.state.floatbank10_e_level                   5840 non-null   float64\n",
      " 63  rougher.state.floatbank10_f_air                     5839 non-null   float64\n",
      " 64  rougher.state.floatbank10_f_level                   5840 non-null   float64\n",
      " 65  secondary_cleaner.output.tail_ag                    5840 non-null   float64\n",
      " 66  secondary_cleaner.output.tail_pb                    5836 non-null   float64\n",
      " 67  secondary_cleaner.output.tail_sol                   5627 non-null   float64\n",
      " 68  secondary_cleaner.output.tail_au                    5840 non-null   float64\n",
      " 69  secondary_cleaner.state.floatbank2_a_air            5836 non-null   float64\n",
      " 70  secondary_cleaner.state.floatbank2_a_level          5840 non-null   float64\n",
      " 71  secondary_cleaner.state.floatbank2_b_air            5833 non-null   float64\n",
      " 72  secondary_cleaner.state.floatbank2_b_level          5840 non-null   float64\n",
      " 73  secondary_cleaner.state.floatbank3_a_air            5822 non-null   float64\n",
      " 74  secondary_cleaner.state.floatbank3_a_level          5840 non-null   float64\n",
      " 75  secondary_cleaner.state.floatbank3_b_air            5840 non-null   float64\n",
      " 76  secondary_cleaner.state.floatbank3_b_level          5840 non-null   float64\n",
      " 77  secondary_cleaner.state.floatbank4_a_air            5840 non-null   float64\n",
      " 78  secondary_cleaner.state.floatbank4_a_level          5840 non-null   float64\n",
      " 79  secondary_cleaner.state.floatbank4_b_air            5840 non-null   float64\n",
      " 80  secondary_cleaner.state.floatbank4_b_level          5840 non-null   float64\n",
      " 81  secondary_cleaner.state.floatbank5_a_air            5840 non-null   float64\n",
      " 82  secondary_cleaner.state.floatbank5_a_level          5840 non-null   float64\n",
      " 83  secondary_cleaner.state.floatbank5_b_air            5840 non-null   float64\n",
      " 84  secondary_cleaner.state.floatbank5_b_level          5840 non-null   float64\n",
      " 85  secondary_cleaner.state.floatbank6_a_air            5840 non-null   float64\n",
      " 86  secondary_cleaner.state.floatbank6_a_level          5840 non-null   float64\n",
      "dtypes: float64(86), object(1)\n",
      "memory usage: 3.9+ MB\n",
      "None\n"
     ]
    }
   ],
   "source": [
    "#put the test and train set in the same order\n",
    "full_test = full_test[df_train.columns]\n",
    "print(df_train.info())\n",
    "print(full_test.info())"
   ]
  },
  {
   "cell_type": "markdown",
   "metadata": {},
   "source": [
    "### Perform data preprocessing."
   ]
  },
  {
   "cell_type": "code",
   "execution_count": 25,
   "metadata": {
    "scrolled": true
   },
   "outputs": [
    {
     "name": "stdout",
     "output_type": "stream",
     "text": [
      "(16860, 87)\n",
      "(11017, 87)\n",
      "Percentage of data lost if I drop null values: 34.66%\n"
     ]
    }
   ],
   "source": [
    "# Begin by analyzing the null values\n",
    "## What percentage of the data is null?\n",
    "print(df_train.shape)\n",
    "df_train_nonnull = df_train.dropna()\n",
    "print(df_train_nonnull.shape)\n",
    "print(f'Percentage of data lost if I drop null values: {(((16860 - 11017)/16860)*100):.2f}%')"
   ]
  },
  {
   "cell_type": "markdown",
   "metadata": {},
   "source": [
    "Dropping the null values would result in far too much data being lost. Instead I'm going to need to fill in the data with either the median. In order to make that decision it will be helpful to look at the distributions and skews of the data."
   ]
  },
  {
   "cell_type": "code",
   "execution_count": 26,
   "metadata": {},
   "outputs": [
    {
     "ename": "TypeError",
     "evalue": "Cannot convert [['2016-01-15 00:00:00' '2016-01-15 01:00:00' '2016-01-15 02:00:00' ...\n  '2018-08-18 08:59:59' '2018-08-18 09:59:59' '2018-08-18 10:59:59']] to numeric",
     "output_type": "error",
     "traceback": [
      "\u001b[1;31m---------------------------------------------------------------------------\u001b[0m",
      "\u001b[1;31mTypeError\u001b[0m                                 Traceback (most recent call last)",
      "Cell \u001b[1;32mIn[26], line 2\u001b[0m\n\u001b[0;32m      1\u001b[0m \u001b[38;5;66;03m#filling in the null values with the median for each column\u001b[39;00m\n\u001b[1;32m----> 2\u001b[0m df_train \u001b[38;5;241m=\u001b[39m df_train\u001b[38;5;241m.\u001b[39mfillna(df_train\u001b[38;5;241m.\u001b[39mmedian())\n\u001b[0;32m      3\u001b[0m full_test \u001b[38;5;241m=\u001b[39m full_test\u001b[38;5;241m.\u001b[39mfillna(full_test\u001b[38;5;241m.\u001b[39mmedian())\n",
      "File \u001b[1;32mc:\\Users\\markl\\Anaconda3\\Lib\\site-packages\\pandas\\core\\frame.py:11706\u001b[0m, in \u001b[0;36mDataFrame.median\u001b[1;34m(self, axis, skipna, numeric_only, **kwargs)\u001b[0m\n\u001b[0;32m  11698\u001b[0m \u001b[38;5;129m@doc\u001b[39m(make_doc(\u001b[38;5;124m\"\u001b[39m\u001b[38;5;124mmedian\u001b[39m\u001b[38;5;124m\"\u001b[39m, ndim\u001b[38;5;241m=\u001b[39m\u001b[38;5;241m2\u001b[39m))\n\u001b[0;32m  11699\u001b[0m \u001b[38;5;28;01mdef\u001b[39;00m \u001b[38;5;21mmedian\u001b[39m(\n\u001b[0;32m  11700\u001b[0m     \u001b[38;5;28mself\u001b[39m,\n\u001b[1;32m   (...)\u001b[0m\n\u001b[0;32m  11704\u001b[0m     \u001b[38;5;241m*\u001b[39m\u001b[38;5;241m*\u001b[39mkwargs,\n\u001b[0;32m  11705\u001b[0m ):\n\u001b[1;32m> 11706\u001b[0m     result \u001b[38;5;241m=\u001b[39m \u001b[38;5;28msuper\u001b[39m()\u001b[38;5;241m.\u001b[39mmedian(axis, skipna, numeric_only, \u001b[38;5;241m*\u001b[39m\u001b[38;5;241m*\u001b[39mkwargs)\n\u001b[0;32m  11707\u001b[0m     \u001b[38;5;28;01mif\u001b[39;00m \u001b[38;5;28misinstance\u001b[39m(result, Series):\n\u001b[0;32m  11708\u001b[0m         result \u001b[38;5;241m=\u001b[39m result\u001b[38;5;241m.\u001b[39m__finalize__(\u001b[38;5;28mself\u001b[39m, method\u001b[38;5;241m=\u001b[39m\u001b[38;5;124m\"\u001b[39m\u001b[38;5;124mmedian\u001b[39m\u001b[38;5;124m\"\u001b[39m)\n",
      "File \u001b[1;32mc:\\Users\\markl\\Anaconda3\\Lib\\site-packages\\pandas\\core\\generic.py:12431\u001b[0m, in \u001b[0;36mNDFrame.median\u001b[1;34m(self, axis, skipna, numeric_only, **kwargs)\u001b[0m\n\u001b[0;32m  12424\u001b[0m \u001b[38;5;28;01mdef\u001b[39;00m \u001b[38;5;21mmedian\u001b[39m(\n\u001b[0;32m  12425\u001b[0m     \u001b[38;5;28mself\u001b[39m,\n\u001b[0;32m  12426\u001b[0m     axis: Axis \u001b[38;5;241m|\u001b[39m \u001b[38;5;28;01mNone\u001b[39;00m \u001b[38;5;241m=\u001b[39m \u001b[38;5;241m0\u001b[39m,\n\u001b[1;32m   (...)\u001b[0m\n\u001b[0;32m  12429\u001b[0m     \u001b[38;5;241m*\u001b[39m\u001b[38;5;241m*\u001b[39mkwargs,\n\u001b[0;32m  12430\u001b[0m ) \u001b[38;5;241m-\u001b[39m\u001b[38;5;241m>\u001b[39m Series \u001b[38;5;241m|\u001b[39m \u001b[38;5;28mfloat\u001b[39m:\n\u001b[1;32m> 12431\u001b[0m     \u001b[38;5;28;01mreturn\u001b[39;00m \u001b[38;5;28mself\u001b[39m\u001b[38;5;241m.\u001b[39m_stat_function(\n\u001b[0;32m  12432\u001b[0m         \u001b[38;5;124m\"\u001b[39m\u001b[38;5;124mmedian\u001b[39m\u001b[38;5;124m\"\u001b[39m, nanops\u001b[38;5;241m.\u001b[39mnanmedian, axis, skipna, numeric_only, \u001b[38;5;241m*\u001b[39m\u001b[38;5;241m*\u001b[39mkwargs\n\u001b[0;32m  12433\u001b[0m     )\n",
      "File \u001b[1;32mc:\\Users\\markl\\Anaconda3\\Lib\\site-packages\\pandas\\core\\generic.py:12377\u001b[0m, in \u001b[0;36mNDFrame._stat_function\u001b[1;34m(self, name, func, axis, skipna, numeric_only, **kwargs)\u001b[0m\n\u001b[0;32m  12373\u001b[0m nv\u001b[38;5;241m.\u001b[39mvalidate_func(name, (), kwargs)\n\u001b[0;32m  12375\u001b[0m validate_bool_kwarg(skipna, \u001b[38;5;124m\"\u001b[39m\u001b[38;5;124mskipna\u001b[39m\u001b[38;5;124m\"\u001b[39m, none_allowed\u001b[38;5;241m=\u001b[39m\u001b[38;5;28;01mFalse\u001b[39;00m)\n\u001b[1;32m> 12377\u001b[0m \u001b[38;5;28;01mreturn\u001b[39;00m \u001b[38;5;28mself\u001b[39m\u001b[38;5;241m.\u001b[39m_reduce(\n\u001b[0;32m  12378\u001b[0m     func, name\u001b[38;5;241m=\u001b[39mname, axis\u001b[38;5;241m=\u001b[39maxis, skipna\u001b[38;5;241m=\u001b[39mskipna, numeric_only\u001b[38;5;241m=\u001b[39mnumeric_only\n\u001b[0;32m  12379\u001b[0m )\n",
      "File \u001b[1;32mc:\\Users\\markl\\Anaconda3\\Lib\\site-packages\\pandas\\core\\frame.py:11562\u001b[0m, in \u001b[0;36mDataFrame._reduce\u001b[1;34m(self, op, name, axis, skipna, numeric_only, filter_type, **kwds)\u001b[0m\n\u001b[0;32m  11558\u001b[0m     df \u001b[38;5;241m=\u001b[39m df\u001b[38;5;241m.\u001b[39mT\n\u001b[0;32m  11560\u001b[0m \u001b[38;5;66;03m# After possibly _get_data and transposing, we are now in the\u001b[39;00m\n\u001b[0;32m  11561\u001b[0m \u001b[38;5;66;03m#  simple case where we can use BlockManager.reduce\u001b[39;00m\n\u001b[1;32m> 11562\u001b[0m res \u001b[38;5;241m=\u001b[39m df\u001b[38;5;241m.\u001b[39m_mgr\u001b[38;5;241m.\u001b[39mreduce(blk_func)\n\u001b[0;32m  11563\u001b[0m out \u001b[38;5;241m=\u001b[39m df\u001b[38;5;241m.\u001b[39m_constructor_from_mgr(res, axes\u001b[38;5;241m=\u001b[39mres\u001b[38;5;241m.\u001b[39maxes)\u001b[38;5;241m.\u001b[39miloc[\u001b[38;5;241m0\u001b[39m]\n\u001b[0;32m  11564\u001b[0m \u001b[38;5;28;01mif\u001b[39;00m out_dtype \u001b[38;5;129;01mis\u001b[39;00m \u001b[38;5;129;01mnot\u001b[39;00m \u001b[38;5;28;01mNone\u001b[39;00m \u001b[38;5;129;01mand\u001b[39;00m out\u001b[38;5;241m.\u001b[39mdtype \u001b[38;5;241m!=\u001b[39m \u001b[38;5;124m\"\u001b[39m\u001b[38;5;124mboolean\u001b[39m\u001b[38;5;124m\"\u001b[39m:\n",
      "File \u001b[1;32mc:\\Users\\markl\\Anaconda3\\Lib\\site-packages\\pandas\\core\\internals\\managers.py:1500\u001b[0m, in \u001b[0;36mBlockManager.reduce\u001b[1;34m(self, func)\u001b[0m\n\u001b[0;32m   1498\u001b[0m res_blocks: \u001b[38;5;28mlist\u001b[39m[Block] \u001b[38;5;241m=\u001b[39m []\n\u001b[0;32m   1499\u001b[0m \u001b[38;5;28;01mfor\u001b[39;00m blk \u001b[38;5;129;01min\u001b[39;00m \u001b[38;5;28mself\u001b[39m\u001b[38;5;241m.\u001b[39mblocks:\n\u001b[1;32m-> 1500\u001b[0m     nbs \u001b[38;5;241m=\u001b[39m blk\u001b[38;5;241m.\u001b[39mreduce(func)\n\u001b[0;32m   1501\u001b[0m     res_blocks\u001b[38;5;241m.\u001b[39mextend(nbs)\n\u001b[0;32m   1503\u001b[0m index \u001b[38;5;241m=\u001b[39m Index([\u001b[38;5;28;01mNone\u001b[39;00m])  \u001b[38;5;66;03m# placeholder\u001b[39;00m\n",
      "File \u001b[1;32mc:\\Users\\markl\\Anaconda3\\Lib\\site-packages\\pandas\\core\\internals\\blocks.py:404\u001b[0m, in \u001b[0;36mBlock.reduce\u001b[1;34m(self, func)\u001b[0m\n\u001b[0;32m    398\u001b[0m \u001b[38;5;129m@final\u001b[39m\n\u001b[0;32m    399\u001b[0m \u001b[38;5;28;01mdef\u001b[39;00m \u001b[38;5;21mreduce\u001b[39m(\u001b[38;5;28mself\u001b[39m, func) \u001b[38;5;241m-\u001b[39m\u001b[38;5;241m>\u001b[39m \u001b[38;5;28mlist\u001b[39m[Block]:\n\u001b[0;32m    400\u001b[0m     \u001b[38;5;66;03m# We will apply the function and reshape the result into a single-row\u001b[39;00m\n\u001b[0;32m    401\u001b[0m     \u001b[38;5;66;03m#  Block with the same mgr_locs; squeezing will be done at a higher level\u001b[39;00m\n\u001b[0;32m    402\u001b[0m     \u001b[38;5;28;01massert\u001b[39;00m \u001b[38;5;28mself\u001b[39m\u001b[38;5;241m.\u001b[39mndim \u001b[38;5;241m==\u001b[39m \u001b[38;5;241m2\u001b[39m\n\u001b[1;32m--> 404\u001b[0m     result \u001b[38;5;241m=\u001b[39m func(\u001b[38;5;28mself\u001b[39m\u001b[38;5;241m.\u001b[39mvalues)\n\u001b[0;32m    406\u001b[0m     \u001b[38;5;28;01mif\u001b[39;00m \u001b[38;5;28mself\u001b[39m\u001b[38;5;241m.\u001b[39mvalues\u001b[38;5;241m.\u001b[39mndim \u001b[38;5;241m==\u001b[39m \u001b[38;5;241m1\u001b[39m:\n\u001b[0;32m    407\u001b[0m         res_values \u001b[38;5;241m=\u001b[39m result\n",
      "File \u001b[1;32mc:\\Users\\markl\\Anaconda3\\Lib\\site-packages\\pandas\\core\\frame.py:11481\u001b[0m, in \u001b[0;36mDataFrame._reduce.<locals>.blk_func\u001b[1;34m(values, axis)\u001b[0m\n\u001b[0;32m  11479\u001b[0m         \u001b[38;5;28;01mreturn\u001b[39;00m np\u001b[38;5;241m.\u001b[39marray([result])\n\u001b[0;32m  11480\u001b[0m \u001b[38;5;28;01melse\u001b[39;00m:\n\u001b[1;32m> 11481\u001b[0m     \u001b[38;5;28;01mreturn\u001b[39;00m op(values, axis\u001b[38;5;241m=\u001b[39maxis, skipna\u001b[38;5;241m=\u001b[39mskipna, \u001b[38;5;241m*\u001b[39m\u001b[38;5;241m*\u001b[39mkwds)\n",
      "File \u001b[1;32mc:\\Users\\markl\\Anaconda3\\Lib\\site-packages\\pandas\\core\\nanops.py:147\u001b[0m, in \u001b[0;36mbottleneck_switch.__call__.<locals>.f\u001b[1;34m(values, axis, skipna, **kwds)\u001b[0m\n\u001b[0;32m    145\u001b[0m         result \u001b[38;5;241m=\u001b[39m alt(values, axis\u001b[38;5;241m=\u001b[39maxis, skipna\u001b[38;5;241m=\u001b[39mskipna, \u001b[38;5;241m*\u001b[39m\u001b[38;5;241m*\u001b[39mkwds)\n\u001b[0;32m    146\u001b[0m \u001b[38;5;28;01melse\u001b[39;00m:\n\u001b[1;32m--> 147\u001b[0m     result \u001b[38;5;241m=\u001b[39m alt(values, axis\u001b[38;5;241m=\u001b[39maxis, skipna\u001b[38;5;241m=\u001b[39mskipna, \u001b[38;5;241m*\u001b[39m\u001b[38;5;241m*\u001b[39mkwds)\n\u001b[0;32m    149\u001b[0m \u001b[38;5;28;01mreturn\u001b[39;00m result\n",
      "File \u001b[1;32mc:\\Users\\markl\\Anaconda3\\Lib\\site-packages\\pandas\\core\\nanops.py:787\u001b[0m, in \u001b[0;36mnanmedian\u001b[1;34m(values, axis, skipna, mask)\u001b[0m\n\u001b[0;32m    785\u001b[0m     inferred \u001b[38;5;241m=\u001b[39m lib\u001b[38;5;241m.\u001b[39minfer_dtype(values)\n\u001b[0;32m    786\u001b[0m     \u001b[38;5;28;01mif\u001b[39;00m inferred \u001b[38;5;129;01min\u001b[39;00m [\u001b[38;5;124m\"\u001b[39m\u001b[38;5;124mstring\u001b[39m\u001b[38;5;124m\"\u001b[39m, \u001b[38;5;124m\"\u001b[39m\u001b[38;5;124mmixed\u001b[39m\u001b[38;5;124m\"\u001b[39m]:\n\u001b[1;32m--> 787\u001b[0m         \u001b[38;5;28;01mraise\u001b[39;00m \u001b[38;5;167;01mTypeError\u001b[39;00m(\u001b[38;5;124mf\u001b[39m\u001b[38;5;124m\"\u001b[39m\u001b[38;5;124mCannot convert \u001b[39m\u001b[38;5;132;01m{\u001b[39;00mvalues\u001b[38;5;132;01m}\u001b[39;00m\u001b[38;5;124m to numeric\u001b[39m\u001b[38;5;124m\"\u001b[39m)\n\u001b[0;32m    788\u001b[0m \u001b[38;5;28;01mtry\u001b[39;00m:\n\u001b[0;32m    789\u001b[0m     values \u001b[38;5;241m=\u001b[39m values\u001b[38;5;241m.\u001b[39mastype(\u001b[38;5;124m\"\u001b[39m\u001b[38;5;124mf8\u001b[39m\u001b[38;5;124m\"\u001b[39m)\n",
      "\u001b[1;31mTypeError\u001b[0m: Cannot convert [['2016-01-15 00:00:00' '2016-01-15 01:00:00' '2016-01-15 02:00:00' ...\n  '2018-08-18 08:59:59' '2018-08-18 09:59:59' '2018-08-18 10:59:59']] to numeric"
     ]
    }
   ],
   "source": [
    "#filling in the null values with the median for each column\n",
    "df_train = df_train.fillna(df_train.median())\n",
    "full_test = full_test.fillna(full_test.median())"
   ]
  },
  {
   "cell_type": "code",
   "execution_count": null,
   "metadata": {},
   "outputs": [],
   "source": [
    "#The 'date' column is no longer necessary for building the ML model, so I'm going to drop it from both data sets\n",
    "df_train = df_train.drop('date', axis=1)\n",
    "full_test = full_test.drop('date', axis=1)\n",
    "df_full = df_full.drop('date', axis=1)"
   ]
  },
  {
   "cell_type": "markdown",
   "metadata": {},
   "source": [
    "## Analyze the data"
   ]
  },
  {
   "cell_type": "markdown",
   "metadata": {},
   "source": [
    "### Take note of how the concentrations of metals (Au, Ag, Pb) change depending on the purification stage."
   ]
  },
  {
   "cell_type": "markdown",
   "metadata": {},
   "source": [
    "#### Below are the columns that I have concentrate data.\n",
    "\n",
    "primary_cleaner.output.concentrate_ag\n",
    "primary_cleaner.output.concentrate_pb\n",
    "primary_cleaner.output.concentrate_sol\n",
    "primary_cleaner.output.concentrate_au\n",
    "\n",
    "rougher.output.concentrate_ag\n",
    "rougher.output.concentrate_pb\n",
    "rougher.output.concentrate_sol\n",
    "rougher.output.concentrate_au\n",
    "\n",
    "final.output.concentrate_ag\n",
    "final.output.concentrate_pb\n",
    "final.output.concentrate_sol\n",
    "final.output.concentrate_au"
   ]
  },
  {
   "cell_type": "code",
   "execution_count": null,
   "metadata": {},
   "outputs": [],
   "source": [
    "# make a dataframe for just the primary stage concentrate\n",
    "primary_stage_concentrate = df_full[['primary_cleaner.output.concentrate_ag',\n",
    "'primary_cleaner.output.concentrate_pb',\n",
    "'primary_cleaner.output.concentrate_au']]\n",
    "\n",
    "# make a dataframe for the rougher stage concentrate\n",
    "rougher_stage_concentrate = df_full[['rougher.output.concentrate_ag',\n",
    "'rougher.output.concentrate_pb',\n",
    "'rougher.output.concentrate_au']]\n",
    "\n",
    "# make a dataframe for the final stage concentrate\n",
    "final_stage_concentrate = df_full[['final.output.concentrate_ag',\n",
    "'final.output.concentrate_pb',\n",
    "'final.output.concentrate_au']]"
   ]
  },
  {
   "cell_type": "code",
   "execution_count": null,
   "metadata": {
    "scrolled": false
   },
   "outputs": [
    {
     "data": {
      "image/png": "[encoded data removed]",
      "text/plain": [
       "<Figure size 1000x600 with 1 Axes>"
      ]
     },
     "metadata": {},
     "output_type": "display_data"
    }
   ],
   "source": [
    "# make a histogram of the rogher stage\n",
    "plt.figure(figsize=(10,6))\n",
    "plt.hist(rougher_stage_concentrate, bins=100, alpha=.5)\n",
    "plt.title('Concentrate of Silver, Lead, and Gold in the Rougher Stage')\n",
    "plt.xlabel('Total Concentration')\n",
    "plt.ylabel('frequency')\n",
    "plt.legend(['Silver', 'Lead', 'Gold'])\n",
    "plt.show()"
   ]
  },
  {
   "cell_type": "code",
   "execution_count": null,
   "metadata": {},
   "outputs": [
    {
     "data": {
      "image/png": "[encoded data removed]",
      "text/plain": [
       "<Figure size 1000x600 with 1 Axes>"
      ]
     },
     "metadata": {},
     "output_type": "display_data"
    }
   ],
   "source": [
    "# Make a histogram of the primary stage\n",
    "plt.figure(figsize=(10,6))\n",
    "plt.hist(primary_stage_concentrate, bins=100, alpha=.5)\n",
    "plt.title('Concentrate of Silver, Lead, and Gold in the Primary Stage')\n",
    "plt.xlabel('Total Concentration')\n",
    "plt.ylabel('frequency')\n",
    "plt.legend(['Silver', 'Lead', 'Gold'])\n",
    "plt.show()"
   ]
  },
  {
   "cell_type": "code",
   "execution_count": null,
   "metadata": {},
   "outputs": [
    {
     "data": {
      "image/png": "[encoded data removed]",
      "text/plain": [
       "<Figure size 1000x600 with 1 Axes>"
      ]
     },
     "metadata": {},
     "output_type": "display_data"
    }
   ],
   "source": [
    "# Make a histogram of the final stage\n",
    "plt.figure(figsize=(10,6))\n",
    "plt.hist(final_stage_concentrate, bins=100, alpha=.5)\n",
    "plt.title('Concentrate of Silver, Lead, and Gold in the Final Stage')\n",
    "plt.xlabel('Total Concentration')\n",
    "plt.ylabel('frequency')\n",
    "plt.legend(['Silver', 'Lead', 'Gold'])\n",
    "plt.show()"
   ]
  },
  {
   "cell_type": "markdown",
   "metadata": {},
   "source": [
    "#### Stage conclusions:\n",
    "The cleaning process starts with the rougher concentrate, then goes through a primary cleaning where we see the second concentrate level. It finishes after the secondary cleaning resulting with a final concentrate.\n",
    "\n",
    "In the rougher state, Gold had the highest concentration, then silver and lead. \n",
    "\n",
    "After the primary cleaning, Gold remained the highest, and is concentration went up from the rougher state. Silver and Lead were fairly similar to one another. The lead concentration also raised with the primary cleaning like the gold. \n",
    "\n",
    "After the seconary cleaning, Gold continued to be the highest and the concentration rose again. Lead climbed slightly, and silver continued to decrease in volume. \n",
    "\n",
    "At all three stages there is a large amount of readings near zero with all three metals. These outliers will need to be removed from the data in order to have a functional working model."
   ]
  },
  {
   "cell_type": "markdown",
   "metadata": {},
   "source": [
    "### Compare the feed particle size distributions in the training set and in the test set. If the distributions vary significantly, the model evaluation will be incorrect."
   ]
  },
  {
   "cell_type": "code",
   "execution_count": null,
   "metadata": {
    "scrolled": true
   },
   "outputs": [
    {
     "name": "stdout",
     "output_type": "stream",
     "text": [
      "the average feed size in the training set is: 58.56\n",
      "the average feed size in the test set is: 55.94\n",
      "the median feed size in the training set is: 54.10\n",
      "the median feed size in the test set is: 50.00\n"
     ]
    }
   ],
   "source": [
    "# find the mean and median for the input feed size\n",
    "print(f\"the average feed size in the training set is: {df_train['rougher.input.feed_size'].mean():.2f}\")\n",
    "print(f\"the average feed size in the test set is: {df_test['rougher.input.feed_size'].mean():.2f}\")\n",
    "print(f\"the median feed size in the training set is: {df_train['rougher.input.feed_size'].median():.2f}\")\n",
    "print(f\"the median feed size in the test set is: {df_test['rougher.input.feed_size'].median():.2f}\")"
   ]
  },
  {
   "cell_type": "code",
   "execution_count": null,
   "metadata": {
    "scrolled": false
   },
   "outputs": [
    {
     "data": {
      "image/png": "[encoded data removed]",
      "text/plain": [
       "<Figure size 1000x600 with 1 Axes>"
      ]
     },
     "metadata": {},
     "output_type": "display_data"
    }
   ],
   "source": [
    "#Show a comparison of feed size in the the test and train sets\n",
    "## Rougher stage\n",
    "plt.figure(figsize=(10,6))\n",
    "plt.hist(df_train['rougher.input.feed_size'], bins=40, alpha=.5)\n",
    "plt.hist(df_test['rougher.input.feed_size'], bins=40, alpha=.5)\n",
    "plt.title('Feed Particle Size in the Training and Test sets During the Rougher Stage')\n",
    "plt.xlabel('Particle Size')\n",
    "plt.ylabel('frequency')\n",
    "plt.legend(['Train', 'Test'])\n",
    "plt.xlim(0,150)\n",
    "plt.tight_layout()\n",
    "plt.show()\n"
   ]
  },
  {
   "cell_type": "code",
   "execution_count": null,
   "metadata": {},
   "outputs": [
    {
     "data": {
      "image/png": "[encoded data removed]",
      "text/plain": [
       "<Figure size 1000x600 with 1 Axes>"
      ]
     },
     "metadata": {},
     "output_type": "display_data"
    }
   ],
   "source": [
    "## Primary cleaning stage\n",
    "plt.figure(figsize=(10,6))\n",
    "plt.hist(df_train['primary_cleaner.input.feed_size'], bins=40, alpha=.5)\n",
    "plt.hist(df_test['primary_cleaner.input.feed_size'], bins=40, alpha=.5)\n",
    "plt.title('Feed Particle Size in the Training and Test sets During the Primary Stage')\n",
    "plt.xlabel('Particle Size')\n",
    "plt.ylabel('frequency')\n",
    "plt.legend(['Train', 'Test'])\n",
    "plt.xlim(4,10)\n",
    "plt.tight_layout()\n",
    "plt.show()"
   ]
  },
  {
   "cell_type": "markdown",
   "metadata": {},
   "source": [
    "#### Conclusions about the Train and Test Sets:\n",
    "\n",
    "There isn't a strong difference between the feed size in the test and train sets. Their averages were quite close and the histogram shows that the distribution of the feed size is nearly the same. For this reason, I do not believe that any additional changes need to be made at this point to this data."
   ]
  },
  {
   "cell_type": "markdown",
   "metadata": {},
   "source": [
    "### Consider the total concentrations of all substances at different stages: raw feed, rougher concentrate, and final concentrate. Do you notice any abnormal values in the total distribution? If you do, is it worth removing such values from both samples? Describe the findings and eliminate anomalies. "
   ]
  },
  {
   "cell_type": "code",
   "execution_count": null,
   "metadata": {},
   "outputs": [],
   "source": [
    "#make a DataFrame of the metals in each stage\n",
    "##Gold concentrate per stage\n",
    "au_stage_concentrate = df_full[['rougher.input.feed_au', 'rougher.output.concentrate_au','primary_cleaner.output.concentrate_au', 'final.output.concentrate_au']]\n",
    "##Silver concentrate per stage\n",
    "ag_stage_concentrate = df_full[['rougher.input.feed_ag', 'rougher.output.concentrate_ag','primary_cleaner.output.concentrate_ag','final.output.concentrate_ag']]\n",
    "##Lead concentrate per stage\n",
    "pb_stage_concentrate = df_full[['rougher.input.feed_pb', 'rougher.output.concentrate_pb','primary_cleaner.output.concentrate_pb', 'final.output.concentrate_pb']]"
   ]
  },
  {
   "cell_type": "code",
   "execution_count": null,
   "metadata": {},
   "outputs": [],
   "source": [
    "# Make dataframes for each stage with summed metal concentration values for au, ag, and pb\n",
    "## Raw feed data\n",
    "raw_feed = (\n",
    "    df_full['rougher.input.feed_au'] +\n",
    "    df_full['rougher.input.feed_ag'] +\n",
    "    df_full['rougher.input.feed_pb']\n",
    ")\n",
    "\n",
    "## Rougher Concentrate data\n",
    "rougher_concentrate = (\n",
    "    df_full['rougher.output.concentrate_au'] +\n",
    "    df_full['rougher.output.concentrate_ag'] +\n",
    "    df_full['rougher.output.concentrate_pb']\n",
    ")\n",
    "\n",
    "## Primary Concetrate data\n",
    "primary_concentrate = (\n",
    "    df_full['primary_cleaner.output.concentrate_au'] +\n",
    "    df_full['primary_cleaner.output.concentrate_ag'] +\n",
    "    df_full['primary_cleaner.output.concentrate_pb']\n",
    ")\n",
    "\n",
    "## Final Concentration data\n",
    "final_output = (\n",
    "    df_full['final.output.concentrate_au'] +\n",
    "    df_full['final.output.concentrate_ag'] +\n",
    "    df_full['final.output.concentrate_pb']\n",
    ")"
   ]
  },
  {
   "cell_type": "code",
   "execution_count": null,
   "metadata": {},
   "outputs": [
    {
     "data": {
      "image/png": "[encoded data removed]",
      "text/plain": [
       "<Figure size 1000x600 with 1 Axes>"
      ]
     },
     "metadata": {},
     "output_type": "display_data"
    }
   ],
   "source": [
    "# Make a histogram plot of the total metal values at each stage\n",
    "plt.figure(figsize=(10,6))\n",
    "plt.hist([raw_feed, rougher_concentrate, primary_concentrate, final_output], bins=100, alpha=.5)\n",
    "plt.title('Total Metal Concentrate from Each Stage')\n",
    "plt.xlabel('Total Concentration')\n",
    "plt.ylabel('frequency')\n",
    "plt.legend(['Feed','Rougher', 'Primary', 'Final'])\n",
    "plt.show()"
   ]
  },
  {
   "cell_type": "code",
   "execution_count": null,
   "metadata": {},
   "outputs": [
    {
     "data": {
      "image/png": "[encoded data removed]",
      "text/plain": [
       "<Figure size 1000x600 with 1 Axes>"
      ]
     },
     "metadata": {},
     "output_type": "display_data"
    }
   ],
   "source": [
    "#Make a Histogram of the Gold concentrate per stage\n",
    "plt.figure(figsize=(10,6))\n",
    "plt.hist(au_stage_concentrate, bins=100, alpha=.5)\n",
    "plt.title('Gold Concentrate from Each Stage')\n",
    "plt.xlabel('Total Concentration')\n",
    "plt.ylabel('frequency')\n",
    "plt.legend(['Feed','Rougher', 'Primary', 'Final'])\n",
    "plt.show()"
   ]
  },
  {
   "cell_type": "code",
   "execution_count": null,
   "metadata": {},
   "outputs": [
    {
     "data": {
      "image/png": "[encoded data removed]",
      "text/plain": [
       "<Figure size 1000x600 with 1 Axes>"
      ]
     },
     "metadata": {},
     "output_type": "display_data"
    }
   ],
   "source": [
    "#Make a Histogram of the Silver concentrate per stage\n",
    "plt.figure(figsize=(10,6))\n",
    "plt.hist(ag_stage_concentrate, bins=100, alpha=.5)\n",
    "plt.title('Silver Concentrate from Each Stage')\n",
    "plt.xlabel('Total Concentration')\n",
    "plt.ylabel('frequency')\n",
    "plt.legend(['Feed', 'Rougher', 'Primary', 'Final'])\n",
    "plt.show()"
   ]
  },
  {
   "cell_type": "code",
   "execution_count": null,
   "metadata": {
    "scrolled": false
   },
   "outputs": [
    {
     "data": {
      "image/png": "[encoded data removed]",
      "text/plain": [
       "<Figure size 1000x600 with 1 Axes>"
      ]
     },
     "metadata": {},
     "output_type": "display_data"
    }
   ],
   "source": [
    "#Make a Histogram of the lead concentrate per stage\n",
    "plt.figure(figsize=(10,6))\n",
    "plt.hist(pb_stage_concentrate, bins=100, alpha=.5)\n",
    "plt.title('Lead Concentrate from Each Stage')\n",
    "plt.xlabel('Total Concentration')\n",
    "plt.ylabel('frequency')\n",
    "plt.legend(['Feed', 'Rougher', 'Primary', 'Final'])\n",
    "plt.show()"
   ]
  },
  {
   "cell_type": "code",
   "execution_count": null,
   "metadata": {
    "scrolled": true
   },
   "outputs": [
    {
     "data": {
      "text/plain": [
       "rougher.input.feed_au  rougher.output.concentrate_au  primary_cleaner.output.concentrate_au  final.output.concentrate_au\n",
       "0.000000               0.000000                       0.000000                               0.000000                       1294\n",
       "0.010000               0.010000                       0.010000                               0.010000                        334\n",
       "0.000000               0.000000                       0.000000                               36.900124                        77\n",
       "7.410750               15.715523                      0.010000                               42.417690                        11\n",
       "7.556612               13.791368                      0.000000                               37.336849                        10\n",
       "7.495525               18.652372                      30.350809                              46.105030                         6\n",
       "8.518138               20.341888                      0.000000                               44.528214                         5\n",
       "10.958021              22.617434                      31.280987                              44.158028                         4\n",
       "7.413458               17.099216                      27.765463                              42.527939                         4\n",
       "0.010000               0.010000                       36.306431                              45.270618                         4\n",
       "dtype: int64"
      ]
     },
     "metadata": {},
     "output_type": "display_data"
    }
   ],
   "source": [
    "# What are the values of the outlier spikes seen above?\n",
    "display(au_stage_concentrate.value_counts().head(10))"
   ]
  },
  {
   "cell_type": "markdown",
   "metadata": {},
   "source": [
    "#### Outlier conclusion:\n",
    "In order to remove the outlier data, I'm going to remove any rows that have an output concentration near 0 particularly from the rougher stage. This will also remove the most prominent outliers in the other stages as well. While this may remove some data from the final output column where there are positive readings, other stages will be less noisy and more useful for our Machine Learning process."
   ]
  },
  {
   "cell_type": "code",
   "execution_count": null,
   "metadata": {},
   "outputs": [
    {
     "name": "stdout",
     "output_type": "stream",
     "text": [
      "(16860, 86)\n",
      "(14920, 86)\n"
     ]
    }
   ],
   "source": [
    "# Remove data where the value is less than 0.1 in the Train set in the final.output.concentration columns\n",
    "# Filter data where all rougher.output.concentrate_* columns are >= 0.1\n",
    "df_train_filtered = df_train[\n",
    "    (df_train['rougher.output.concentrate_au'] >= 0.1) &\n",
    "    (df_train['rougher.output.concentrate_ag'] >= 0.1) &\n",
    "    (df_train['rougher.output.concentrate_pb'] >= 0.1)\n",
    "]\n",
    "print(df_train.shape)\n",
    "print(df_train_filtered.shape)"
   ]
  },
  {
   "cell_type": "code",
   "execution_count": null,
   "metadata": {},
   "outputs": [
    {
     "name": "stdout",
     "output_type": "stream",
     "text": [
      "(5856, 86)\n",
      "(5396, 86)\n"
     ]
    }
   ],
   "source": [
    "# Remove data where the value is less than 0.1 in the Test set in the final.output.concentration columns\n",
    "# Filter data where all rougher.output.concentrate_* columns are >= 0.1\n",
    "df_test_filtered = full_test[\n",
    "    (full_test['rougher.output.concentrate_au'] >= 0.1) &\n",
    "    (full_test['rougher.output.concentrate_ag'] >= 0.1) &\n",
    "    (full_test['rougher.output.concentrate_pb'] >= 0.1)\n",
    "]\n",
    "print(full_test.shape)\n",
    "print(df_test_filtered.shape)"
   ]
  },
  {
   "cell_type": "code",
   "execution_count": null,
   "metadata": {},
   "outputs": [
    {
     "name": "stdout",
     "output_type": "stream",
     "text": [
      "(22716, 86)\n",
      "(20218, 86)\n"
     ]
    }
   ],
   "source": [
    "# Remove data where the value is less than 0.1 in the Full set in the final.output.concentration columns\n",
    "# Filter data where all rougher.output.concentrate_* columns are >= 0.1\n",
    "df_full_filtered = df_full[\n",
    "    (df_full['rougher.output.concentrate_au'] >= 0.1) &\n",
    "    (df_full['rougher.output.concentrate_ag'] >= 0.1) &\n",
    "    (df_full['rougher.output.concentrate_pb'] >= 0.1)\n",
    "]\n",
    "print(df_full.shape)\n",
    "print(df_full_filtered.shape)"
   ]
  },
  {
   "cell_type": "code",
   "execution_count": null,
   "metadata": {
    "scrolled": false
   },
   "outputs": [
    {
     "data": {
      "image/png": "[encoded data removed]",
      "text/plain": [
       "<Figure size 1000x600 with 1 Axes>"
      ]
     },
     "metadata": {},
     "output_type": "display_data"
    },
    {
     "data": {
      "image/png": "[encoded data removed]",
      "text/plain": [
       "<Figure size 1000x600 with 1 Axes>"
      ]
     },
     "metadata": {},
     "output_type": "display_data"
    }
   ],
   "source": [
    "#Visualize the target columns\n",
    "\n",
    "## show what the rougher output recovery column values distribution looks like\n",
    "plt.figure(figsize=(10, 6))\n",
    "plt.hist(df_train_filtered['rougher.output.recovery'], bins=30, alpha=0.7, color='maroon')\n",
    "plt.xlabel('Rougher Output Recovery')\n",
    "plt.ylabel('Frequency')\n",
    "plt.title('Histogram of Rougher Output Recovery')\n",
    "plt.show()\n",
    "\n",
    "## show what the final output recovery column values distribution looks like\n",
    "plt.figure(figsize=(10, 6))\n",
    "plt.hist(df_train_filtered['final.output.recovery'], bins=30, alpha=0.7, color='blue')\n",
    "plt.xlabel('Final Output Recovery')\n",
    "plt.ylabel('Frequency')\n",
    "plt.title('Histogram of Final Output Recovery')\n",
    "plt.show()"
   ]
  },
  {
   "cell_type": "markdown",
   "metadata": {},
   "source": []
  },
  {
   "cell_type": "markdown",
   "metadata": {},
   "source": [
    "## Build the model"
   ]
  },
  {
   "cell_type": "markdown",
   "metadata": {},
   "source": [
    "### Write a function to calculate the final sMAPE value."
   ]
  },
  {
   "cell_type": "markdown",
   "metadata": {},
   "source": [
    "This is the formula I will be working with:\n",
    "\n",
    "1/N*(SUM(|(Target - Prediction)|/((|Target|+|Prediction|)/2)))*100"
   ]
  },
  {
   "cell_type": "code",
   "execution_count": null,
   "metadata": {},
   "outputs": [],
   "source": [
    "# write a function for sMAPE\n",
    "def sMAPE (target, prediction):\n",
    "    denominator = (np.abs(prediction) + np.abs(target)) / 2\n",
    "    smape = np.mean(np.abs(prediction - target) / denominator) * 100\n",
    "    return smape\n",
    "\n",
    "smape_scorer = make_scorer(sMAPE, greater_is_better=False)"
   ]
  },
  {
   "cell_type": "markdown",
   "metadata": {},
   "source": [
    "### Train different models. Evaluate them using cross-validation. Pick the best model and test it using the test sample. Provide findings."
   ]
  },
  {
   "cell_type": "code",
   "execution_count": null,
   "metadata": {},
   "outputs": [],
   "source": [
    "#create features and targets in the training set\n",
    "## Train Features\n",
    "features_train = df_train_filtered.drop(['rougher.output.recovery', 'final.output.recovery'], axis=1)\n",
    "\n",
    "## Rougher and Final Output Targets train set\n",
    "target_train_rougher = df_train_filtered['rougher.output.recovery']\n",
    "target_train_final = df_train_filtered['final.output.recovery']\n",
    "\n",
    "#create the same features and targets in the testing set\n",
    "## Test Features\n",
    "features_test = df_test_filtered.drop(['rougher.output.recovery', 'final.output.recovery'], axis=1)\n",
    "\n",
    "## Rougher and Final Output Target test set\n",
    "target_test_rougher = df_test_filtered['rougher.output.recovery']\n",
    "target_test_final = df_test_filtered['final.output.recovery']\n",
    "\n",
    "#create the same featuers and targets in the full set\n",
    "## Full Features\n",
    "features_full = df_full_filtered.drop(['rougher.output.recovery', 'final.output.recovery'], axis=1)\n",
    "\n",
    "## Rougher and Final Output Target full set\n",
    "target_full_rougher = df_full_filtered['rougher.output.recovery']\n",
    "target_full_final = df_full_filtered['final.output.recovery']\n"
   ]
  },
  {
   "cell_type": "code",
   "execution_count": null,
   "metadata": {},
   "outputs": [],
   "source": [
    "# Scaling numerical features\n",
    "scaler = StandardScaler()\n",
    "train_data_scaled = scaler.fit_transform(features_train)\n",
    "test_data_scaled = scaler.transform(features_test)\n",
    "full_data_scaled = scaler.transform(features_full)\n",
    "\n",
    "# make the scaled data back into a dataframe\n",
    "train_data_scaled = pd.DataFrame(train_data_scaled, columns=features_train.columns, index=df_train_filtered.index)\n",
    "test_data_scaled = pd.DataFrame(test_data_scaled, columns=features_test.columns, index=df_test_filtered.index)\n",
    "full_data_scaled = pd.DataFrame(full_data_scaled, columns=features_full.columns, index=df_full_filtered.index)"
   ]
  },
  {
   "cell_type": "code",
   "execution_count": null,
   "metadata": {},
   "outputs": [],
   "source": [
    "# Build a RandomForest Regrssor model\n",
    "model_rf = RandomForestRegressor(n_estimators=100, max_depth=None, min_samples_split=2, random_state=8420)\n",
    "\n",
    "rf_rougher = model_rf.fit(train_data_scaled, target_train_rougher)\n",
    "rf_final = model_rf.fit(train_data_scaled, target_train_final)"
   ]
  },
  {
   "cell_type": "markdown",
   "metadata": {},
   "source": [
    "I used this param grid to find the best hyperparameters. I chose to make this a markdown cell because it took more than 3 hours to run. \n",
    "\n",
    "param_grid = {\n",
    "    'n_estimators': [50, 100, 200],\n",
    "    'max_depth': [5, 10, 20, None],\n",
    "    'min_samples_split': [2, 5, 10],\n",
    "}\n",
    "\n",
    "grid_search = GridSearchCV(RandomForestRegressor(random_state=8420),\n",
    "                           param_grid, cv=5, scoring=smape_scorer)\n",
    "grid_search.fit(features_train_rougher, target_train_rougher)\n",
    "print(f\"Best Params: {grid_search.best_params_}\")"
   ]
  },
  {
   "cell_type": "code",
   "execution_count": null,
   "metadata": {},
   "outputs": [
    {
     "name": "stdout",
     "output_type": "stream",
     "text": [
      "Rougher RF Model sMAPE (CV): Mean = 1.763%, Std = 0.684\n",
      "Final RF Model sMAPE (CV): Mean = 3.499%, Std = 0.441\n"
     ]
    }
   ],
   "source": [
    "# Evaluate models using cross-validation\n",
    "scores_rougher_rf = cross_val_score(model_rf, train_data_scaled, target_train_rougher, cv=5, scoring=smape_scorer)\n",
    "scores_final_rf = cross_val_score(model_rf, train_data_scaled, target_train_final, cv=5, scoring=smape_scorer)\n",
    "\n",
    "print(f\"Rougher RF Model sMAPE (CV): Mean = {-scores_rougher_rf.mean():.3f}%, Std = {scores_rougher_rf.std():.3f}\")\n",
    "print(f\"Final RF Model sMAPE (CV): Mean = {-scores_final_rf.mean():.3f}%, Std = {scores_final_rf.std():.3f}\")"
   ]
  },
  {
   "cell_type": "markdown",
   "metadata": {},
   "source": [
    "#### RandomForest Evaluation:\n",
    "\n",
    "This model appears to be quite efficient with an average error of only 1.7% in the rougher stage and 3.5% in the final stage."
   ]
  },
  {
   "cell_type": "code",
   "execution_count": null,
   "metadata": {},
   "outputs": [],
   "source": [
    "# Build the Linear Regression Model\n",
    "model_lr = LinearRegression()\n",
    "\n",
    "lr_rougher = model_lr.fit(train_data_scaled, target_train_rougher)\n",
    "lr_final = model_lr.fit(train_data_scaled, target_train_final)"
   ]
  },
  {
   "cell_type": "code",
   "execution_count": null,
   "metadata": {
    "scrolled": true
   },
   "outputs": [
    {
     "name": "stdout",
     "output_type": "stream",
     "text": [
      "Rougher LR Model sMAPE (CV): Mean = 3.435%, Std = 0.506\n",
      "Final LR Model sMAPE (CV): Mean = 6.379%, Std = 0.482\n"
     ]
    }
   ],
   "source": [
    "# Evaluate models using cross-validation\n",
    "scores_rougher_lr = cross_val_score(model_lr, train_data_scaled, target_train_rougher, cv=5, scoring=smape_scorer)\n",
    "scores_final_lr = cross_val_score(model_lr, train_data_scaled, target_train_final, cv=5, scoring=smape_scorer)\n",
    "\n",
    "print(f\"Rougher LR Model sMAPE (CV): Mean = {-scores_rougher_lr.mean():.3f}%, Std = {scores_rougher_lr.std():.3f}\")\n",
    "print(f\"Final LR Model sMAPE (CV): Mean = {-scores_final_lr.mean():.3f}%, Std = {scores_final_lr.std():.3f}\")"
   ]
  },
  {
   "cell_type": "markdown",
   "metadata": {},
   "source": [
    "#### LinearRegression Evaluation:\n",
    "\n",
    "This model does not perform quite as well as the Random Forest model, with mean values at 3.4% in the rougher stage and 6.4% in the Final stage. It is not likely that this model will be used in the final testing."
   ]
  },
  {
   "cell_type": "code",
   "execution_count": null,
   "metadata": {},
   "outputs": [],
   "source": [
    "# Build a DecisionTree Model\n",
    "model_dt = DecisionTreeRegressor(max_depth=10, random_state=8420)\n",
    "\n",
    "dt_rougher = model_dt.fit(train_data_scaled, target_train_rougher)\n",
    "dt_final = model_dt.fit(train_data_scaled, target_train_final)"
   ]
  },
  {
   "cell_type": "code",
   "execution_count": null,
   "metadata": {
    "scrolled": true
   },
   "outputs": [
    {
     "name": "stdout",
     "output_type": "stream",
     "text": [
      "Rougher DT Model sMAPE (CV): Mean = 2.707%, Std = 0.576\n",
      "Final DT Model sMAPE (CV): Mean = 4.472%, Std = 0.321\n"
     ]
    }
   ],
   "source": [
    "# Evaluate models using cross-validation\n",
    "scores_rougher_dt = cross_val_score(model_dt, train_data_scaled, target_train_rougher, cv=5, scoring=smape_scorer)\n",
    "scores_final_dt = cross_val_score(model_dt, train_data_scaled, target_train_final, cv=5, scoring=smape_scorer)\n",
    "\n",
    "print(f\"Rougher DT Model sMAPE (CV): Mean = {-scores_rougher_dt.mean():.3f}%, Std = {scores_rougher_dt.std():.3f}\")\n",
    "print(f\"Final DT Model sMAPE (CV): Mean = {-scores_final_dt.mean():.3f}%, Std = {scores_final_dt.std():.3f}\")"
   ]
  },
  {
   "cell_type": "markdown",
   "metadata": {},
   "source": [
    "#### DecisionTree Evaluation:\n",
    "\n",
    "This model performed moderately well, but still not as well as the Random Forest model. The Mean values at the rougher stage is 2.7% and at the final stage 4.5%. "
   ]
  },
  {
   "cell_type": "markdown",
   "metadata": {},
   "source": [
    "### Test the models with the Test Set"
   ]
  },
  {
   "cell_type": "code",
   "execution_count": null,
   "metadata": {},
   "outputs": [],
   "source": [
    "# calculate the final values for each model using the test set on the Random Forest Model\n",
    "predictions_rougher_rf = rf_rougher.predict(test_data_scaled)\n",
    "predictions_final_rf = rf_final.predict(test_data_scaled)\n",
    "\n",
    "smape_rougher_rf = sMAPE(target_test_rougher, predictions_rougher_rf)\n",
    "smape_final_rf = sMAPE(target_test_final, predictions_final_rf)\n",
    "\n",
    "# calculate the final values for each model using the test set on the Linear Regression Model\n",
    "predictions_rougher_lr = lr_rougher.predict(test_data_scaled)\n",
    "predictions_final_lr = lr_final.predict(test_data_scaled)\n",
    "\n",
    "smape_rougher_lr = sMAPE(target_test_rougher, predictions_rougher_lr)\n",
    "smape_final_lr = sMAPE(target_test_final, predictions_final_lr)\n",
    "\n",
    "# calculate the final values for each model using the test set on the Decision Tree Model\n",
    "\n",
    "predictions_rougher_dt = dt_rougher.predict(test_data_scaled)\n",
    "predictions_final_dt = dt_final.predict(test_data_scaled)\n",
    "\n",
    "smape_rougher_dt = sMAPE(target_test_rougher, predictions_rougher_dt)\n",
    "smape_final_dt = sMAPE(target_test_final, predictions_final_dt)"
   ]
  },
  {
   "cell_type": "code",
   "execution_count": null,
   "metadata": {},
   "outputs": [],
   "source": [
    "# Make a Final sMAPE function\n",
    "def final_smape(rougher_smape, final_smape):\n",
    "    return 0.25 * rougher_smape + 0.75 * final_smape"
   ]
  },
  {
   "cell_type": "code",
   "execution_count": null,
   "metadata": {},
   "outputs": [
    {
     "name": "stdout",
     "output_type": "stream",
     "text": [
      "Final sMAPE value for the Random Forest Model is: 8.91\n",
      "Final sMAPE value for the Decision Tree Model is: 9.34\n",
      "Final sMAPE value for the Linear Regression Model is: 10.67\n"
     ]
    }
   ],
   "source": [
    "final_smape_rf = final_smape(smape_rougher_rf, smape_final_rf)\n",
    "print(f'Final sMAPE value for the Random Forest Model is: {final_smape_rf:.2f}')\n",
    "\n",
    "final_smape_rf = final_smape(smape_rougher_dt, smape_final_dt)\n",
    "print(f'Final sMAPE value for the Decision Tree Model is: {final_smape_rf:.2f}')\n",
    "\n",
    "final_smape_rf = final_smape(smape_rougher_lr, smape_final_lr)\n",
    "print(f'Final sMAPE value for the Linear Regression Model is: {final_smape_rf:.2f}')\n",
    "\n"
   ]
  },
  {
   "cell_type": "markdown",
   "metadata": {},
   "source": [
    "#### Testing results:\n",
    "\n",
    "As expected the Random Forest model shows the least average error of the three models. It would be best to move forward with just the Random Forest Regression model."
   ]
  },
  {
   "cell_type": "markdown",
   "metadata": {},
   "source": [
    "### Sanity Check the Process"
   ]
  },
  {
   "cell_type": "code",
   "execution_count": null,
   "metadata": {},
   "outputs": [
    {
     "name": "stdout",
     "output_type": "stream",
     "text": [
      "Final sMAPE value for the Sanity Check is: 10.67\n"
     ]
    }
   ],
   "source": [
    "# Sanity Check using mean values as the prediction\n",
    "avg_rougher_target = target_full_rougher.mean()\n",
    "avg_final_target = target_full_final.mean()\n",
    "\n",
    "# Create arrays filled with mean values to match the target array length\n",
    "avg_rougher_prediction = np.full_like(target_full_rougher, avg_rougher_target)\n",
    "avg_final_prediction = np.full_like(target_full_final, avg_final_target)\n",
    "\n",
    "# Calculate sMAPE for sanity check\n",
    "smape_rougher_sanity = sMAPE(target_full_rougher, avg_rougher_prediction)\n",
    "smape_final_sanity = sMAPE(target_full_final, avg_final_prediction)\n",
    "\n",
    "# Weighted final sMAPE\n",
    "final_smape_sanity = final_smape(smape_rougher_sanity, smape_final_sanity)\n",
    "print(f'Final sMAPE value for the Sanity Check is: {final_smape_rf:.2f}')"
   ]
  },
  {
   "cell_type": "markdown",
   "metadata": {},
   "source": [
    "#### Sanity Check Evaluation:\n",
    "\n",
    "I wanted to make sure that using the mean values from the rougher output and final output columns wouldn't provide a better prediction than our Random Forest Model. The 10.67% value is still quite good, even out performing the linear regression model, but the Random Forest Model proves to have a lower error by nearly 1.8%. As a result, this Random Forest model will do better for the Gold Mining Company in predicting gold outputs at the Rogher and Final stages."
   ]
  },
  {
   "cell_type": "markdown",
   "metadata": {},
   "source": [
    "### Extract Feature Importance:\n",
    "\n",
    "Find which features were most important for the Random Forest model so that I can make quality recommendations to Zyfra in their process optimization report."
   ]
  },
  {
   "cell_type": "code",
   "execution_count": null,
   "metadata": {},
   "outputs": [
    {
     "name": "stdout",
     "output_type": "stream",
     "text": [
      "Top 10 Most Important Features:\n",
      "                          Feature  Importance\n",
      "7            final.output.tail_au    0.325985\n",
      "37          rougher.input.feed_au    0.168868\n",
      "8   primary_cleaner.input.sulfate    0.077716\n",
      "32          rougher.input.feed_ag    0.077152\n",
      "4            final.output.tail_ag    0.045767\n",
      "3     final.output.concentrate_au    0.038874\n",
      "1     final.output.concentrate_pb    0.035925\n",
      "2    final.output.concentrate_sol    0.033502\n",
      "0     final.output.concentrate_ag    0.025410\n",
      "5            final.output.tail_pb    0.020205\n",
      "\n",
      "Top 10 Least Important Features:\n",
      "                                       Feature  Importance\n",
      "66    secondary_cleaner.state.floatbank2_a_air    0.000704\n",
      "21    primary_cleaner.state.floatbank8_a_level    0.000673\n",
      "61           rougher.state.floatbank10_f_level    0.000666\n",
      "64           secondary_cleaner.output.tail_sol    0.000659\n",
      "53           rougher.state.floatbank10_b_level    0.000634\n",
      "55           rougher.state.floatbank10_c_level    0.000619\n",
      "79  secondary_cleaner.state.floatbank5_a_level    0.000596\n",
      "81  secondary_cleaner.state.floatbank5_b_level    0.000593\n",
      "13       primary_cleaner.output.concentrate_pb    0.000580\n",
      "22      primary_cleaner.state.floatbank8_b_air    0.000573\n"
     ]
    },
    {
     "data": {
      "image/png": "[encoded data removed]",
      "text/plain": [
       "<Figure size 1200x800 with 1 Axes>"
      ]
     },
     "metadata": {},
     "output_type": "display_data"
    }
   ],
   "source": [
    "# Extract feature importances\n",
    "feature_importances = rf_rougher.feature_importances_\n",
    "\n",
    "# Pair feature names with their importance values\n",
    "feature_importance_df = pd.DataFrame({\n",
    "    'Feature': train_data_scaled.columns,\n",
    "    'Importance': feature_importances\n",
    "})\n",
    "\n",
    "# Sort the features by importance (descending order)\n",
    "feature_importance_df = feature_importance_df.sort_values(by='Importance', ascending=False)\n",
    "\n",
    "# Display the top and bottom features\n",
    "print(\"Top 10 Most Important Features:\")\n",
    "print(feature_importance_df.head(10))\n",
    "\n",
    "print(\"\\nTop 10 Least Important Features:\")\n",
    "print(feature_importance_df.tail(10))\n",
    "\n",
    "# Plot the feature importances\n",
    "plt.figure(figsize=(12, 8))\n",
    "plt.barh(feature_importance_df['Feature'].head(10), feature_importance_df['Importance'].head(10), color='gold')\n",
    "plt.xlabel('Importance')\n",
    "plt.ylabel('Feature')\n",
    "plt.title('Feature Importance')\n",
    "plt.gca().invert_yaxis()  # To display the most important features on top\n",
    "plt.show()"
   ]
  },
  {
   "cell_type": "markdown",
   "metadata": {},
   "source": [
    "## **Conclusion**\n",
    "\n",
    "Task: A gold mining and refining company has asked Zyfra to discover data driven insights into the purification process. The goal was to be able to build a model that predicts the amount of gold recovered from the ore that was mined. The gold ore goes through a multi step cleaning process and the company has readings about each of the cleaning stages. I needed to use a Symetrical Mean Absolute Percentage Error (sMAPE) calculation to show the accuracy of the predictive model. \n",
    "\n",
    "Process:The data came in three different files: Training, Test, and Full. The Test set did not include all of the columns that the Training and Full sets did, So I used the Date column as a functional ID for each observation, and then found the corresponding dates from the Full set so that I could extract the missing columns. Once I had a complete data set I was able to clean the data and verify that the information in the calculated columns were correctly done. \n",
    "\n",
    "After the data was cleaned, I wrote a function to calculate the sMAPE score for each prediction. Then I used the training data set to build three machine learning regression models: Random Forest, Linear Regression, and Decision Tree. Once the models were built, I preliminarily showed that the sMAPE on the Training set were below 10%. After each model was trained effectively I applied the models to the test set to confirm which model performed most accurately in predicting the Rougher and Final Output Recovery of Gold. \n",
    "\n",
    "To make sure that the best model outperformed random chance, I also wrote a sanity check that made the prediction value equal to the mean for the whole column. This was able to prove that both the Random Forest Regressor and the Decision Tree Regressor were more effective at predicting the quantity of gold recovered. \n",
    "\n",
    "As one final step, I also looked deeper into the Random Forest model to find which features were the most important for predicting accurately the target values. \n",
    "\n",
    "Conclusions & Recommendations: The Random Forest model performed better than the other two models with an final sMAPE value of 8.9% whereas the sanity check provided a sMAPE of 10.2%. This 1.3% improvement shows that it would be best to use the Random Forest model for future predictions. However, this model is cumbersome and time consuming. If a more time efficient model is required, the Decision Tree model was also able to outperform the sanity check by nearly 1% coming in at 9.3%. The Decision Tree model would be a better predictive choice is the business is needing to make quicker predictions. \n",
    "\n",
    "Finally, the most important features for building these more effective models were the final.output.tail_au and the rougher.input.feed_au. This suggests that early and late readings of gold within the ore and solution provide the best indicator of the quality of the ore itself. If the company would like to work on improving processes then finding optimized solutions at these two points would be of highest benefit.\n"
   ]
  }
 ],
 "metadata": {
  "ExecuteTimeLog": [
   {
    "duration": 2479,
    "start_time": "2024-12-08T19:11:08.351Z"
   },
   {
    "duration": 622,
    "start_time": "2024-12-08T19:13:39.691Z"
   },
   {
    "duration": 18,
    "start_time": "2024-12-08T19:13:51.493Z"
   },
   {
    "duration": 15,
    "start_time": "2024-12-08T19:21:28.581Z"
   },
   {
    "duration": 16,
    "start_time": "2024-12-08T19:21:31.698Z"
   },
   {
    "duration": 14,
    "start_time": "2024-12-08T19:21:43.500Z"
   },
   {
    "duration": 10,
    "start_time": "2024-12-08T19:21:57.441Z"
   },
   {
    "duration": 14,
    "start_time": "2024-12-08T19:22:12.642Z"
   },
   {
    "duration": 6,
    "start_time": "2024-12-08T21:06:24.825Z"
   },
   {
    "duration": 4,
    "start_time": "2024-12-08T21:06:39.050Z"
   },
   {
    "duration": 127,
    "start_time": "2024-12-08T21:08:54.016Z"
   },
   {
    "duration": 11,
    "start_time": "2024-12-08T21:19:45.285Z"
   },
   {
    "duration": 5,
    "start_time": "2024-12-08T21:20:09.553Z"
   },
   {
    "duration": 5,
    "start_time": "2024-12-08T21:20:19.687Z"
   },
   {
    "duration": 277,
    "start_time": "2024-12-08T21:23:02.710Z"
   },
   {
    "duration": 412,
    "start_time": "2024-12-08T21:23:18.357Z"
   },
   {
    "duration": 14,
    "start_time": "2024-12-08T21:24:04.150Z"
   },
   {
    "duration": 136,
    "start_time": "2024-12-08T21:24:30.978Z"
   },
   {
    "duration": 43,
    "start_time": "2024-12-08T21:26:04.570Z"
   },
   {
    "duration": 39,
    "start_time": "2024-12-08T21:26:06.349Z"
   },
   {
    "duration": 4,
    "start_time": "2024-12-08T21:26:31.405Z"
   },
   {
    "duration": 14,
    "start_time": "2024-12-08T21:26:59.049Z"
   },
   {
    "duration": 8,
    "start_time": "2024-12-08T21:27:08.363Z"
   },
   {
    "duration": 7,
    "start_time": "2024-12-08T21:28:08.338Z"
   },
   {
    "duration": 15,
    "start_time": "2024-12-08T21:28:58.656Z"
   },
   {
    "duration": 8,
    "start_time": "2024-12-08T21:29:03.482Z"
   },
   {
    "duration": 9,
    "start_time": "2024-12-08T21:29:55.396Z"
   },
   {
    "duration": 5,
    "start_time": "2024-12-08T21:31:12.181Z"
   },
   {
    "duration": 13,
    "start_time": "2024-12-08T21:31:35.541Z"
   },
   {
    "duration": 4,
    "start_time": "2024-12-08T21:32:20.999Z"
   },
   {
    "duration": 5,
    "start_time": "2024-12-08T21:32:23.455Z"
   },
   {
    "duration": 4,
    "start_time": "2024-12-08T21:32:41.273Z"
   },
   {
    "duration": 4,
    "start_time": "2024-12-08T21:32:43.728Z"
   },
   {
    "duration": 6,
    "start_time": "2024-12-08T21:32:56.666Z"
   },
   {
    "duration": 7,
    "start_time": "2024-12-08T21:33:07.996Z"
   },
   {
    "duration": 6,
    "start_time": "2024-12-08T21:33:18.144Z"
   },
   {
    "duration": 9,
    "start_time": "2024-12-08T21:33:35.956Z"
   },
   {
    "duration": 4,
    "start_time": "2024-12-08T21:33:46.498Z"
   },
   {
    "duration": 5,
    "start_time": "2024-12-08T21:33:47.934Z"
   },
   {
    "duration": 14,
    "start_time": "2024-12-08T21:34:53.982Z"
   },
   {
    "duration": 54,
    "start_time": "2024-12-08T21:35:05.961Z"
   },
   {
    "duration": 50,
    "start_time": "2024-12-08T21:35:24.454Z"
   },
   {
    "duration": 2635,
    "start_time": "2024-12-08T22:49:30.925Z"
   },
   {
    "duration": 592,
    "start_time": "2024-12-08T22:49:33.562Z"
   },
   {
    "duration": 18,
    "start_time": "2024-12-08T22:49:34.156Z"
   },
   {
    "duration": 15,
    "start_time": "2024-12-08T22:49:34.176Z"
   },
   {
    "duration": 28,
    "start_time": "2024-12-08T22:49:34.193Z"
   },
   {
    "duration": 13,
    "start_time": "2024-12-08T22:49:34.222Z"
   },
   {
    "duration": 10,
    "start_time": "2024-12-08T22:49:34.236Z"
   },
   {
    "duration": 13,
    "start_time": "2024-12-08T22:49:34.247Z"
   },
   {
    "duration": 4,
    "start_time": "2024-12-08T22:49:34.261Z"
   },
   {
    "duration": 315,
    "start_time": "2024-12-08T22:49:34.266Z"
   },
   {
    "duration": 0,
    "start_time": "2024-12-08T22:49:34.583Z"
   },
   {
    "duration": 0,
    "start_time": "2024-12-08T22:49:34.584Z"
   },
   {
    "duration": 0,
    "start_time": "2024-12-08T22:49:34.585Z"
   },
   {
    "duration": 13,
    "start_time": "2024-12-08T22:49:59.532Z"
   },
   {
    "duration": 6,
    "start_time": "2024-12-08T22:50:02.176Z"
   },
   {
    "duration": 17,
    "start_time": "2024-12-08T22:50:05.194Z"
   },
   {
    "duration": 341,
    "start_time": "2024-12-08T22:50:30.688Z"
   },
   {
    "duration": 6,
    "start_time": "2024-12-08T22:50:46.403Z"
   },
   {
    "duration": 188,
    "start_time": "2024-12-08T22:51:07.934Z"
   },
   {
    "duration": 6,
    "start_time": "2024-12-08T22:51:57.061Z"
   },
   {
    "duration": 5,
    "start_time": "2024-12-08T22:52:21.264Z"
   },
   {
    "duration": 17,
    "start_time": "2024-12-08T22:53:47.573Z"
   },
   {
    "duration": 4,
    "start_time": "2024-12-08T22:53:53.370Z"
   },
   {
    "duration": 6,
    "start_time": "2024-12-08T22:53:55.054Z"
   },
   {
    "duration": 6,
    "start_time": "2024-12-08T23:01:04.854Z"
   },
   {
    "duration": 10,
    "start_time": "2024-12-08T23:03:14.569Z"
   },
   {
    "duration": 53,
    "start_time": "2024-12-08T23:03:21.888Z"
   },
   {
    "duration": 958,
    "start_time": "2024-12-08T23:03:30.293Z"
   },
   {
    "duration": 497,
    "start_time": "2024-12-08T23:03:31.253Z"
   },
   {
    "duration": 25,
    "start_time": "2024-12-08T23:03:31.754Z"
   },
   {
    "duration": 15,
    "start_time": "2024-12-08T23:03:31.781Z"
   },
   {
    "duration": 24,
    "start_time": "2024-12-08T23:03:31.798Z"
   },
   {
    "duration": 13,
    "start_time": "2024-12-08T23:03:31.824Z"
   },
   {
    "duration": 10,
    "start_time": "2024-12-08T23:03:31.838Z"
   },
   {
    "duration": 12,
    "start_time": "2024-12-08T23:03:31.849Z"
   },
   {
    "duration": 4,
    "start_time": "2024-12-08T23:03:31.863Z"
   },
   {
    "duration": 40,
    "start_time": "2024-12-08T23:03:31.869Z"
   },
   {
    "duration": 5,
    "start_time": "2024-12-08T23:03:31.910Z"
   },
   {
    "duration": 10,
    "start_time": "2024-12-08T23:03:31.917Z"
   },
   {
    "duration": 340,
    "start_time": "2024-12-08T23:03:31.928Z"
   },
   {
    "duration": 4,
    "start_time": "2024-12-08T23:04:40.380Z"
   },
   {
    "duration": 7,
    "start_time": "2024-12-08T23:05:08.314Z"
   },
   {
    "duration": 56,
    "start_time": "2024-12-08T23:05:11.373Z"
   },
   {
    "duration": 5,
    "start_time": "2024-12-08T23:05:40.818Z"
   },
   {
    "duration": 6,
    "start_time": "2024-12-08T23:05:42.784Z"
   },
   {
    "duration": 6,
    "start_time": "2024-12-08T23:06:00.335Z"
   },
   {
    "duration": 32,
    "start_time": "2024-12-08T23:06:36.785Z"
   },
   {
    "duration": 54,
    "start_time": "2024-12-08T23:06:41.571Z"
   },
   {
    "duration": 10,
    "start_time": "2024-12-08T23:06:57.637Z"
   },
   {
    "duration": 30,
    "start_time": "2024-12-08T23:07:15.675Z"
   },
   {
    "duration": 25,
    "start_time": "2024-12-08T23:07:24.492Z"
   },
   {
    "duration": 57,
    "start_time": "2024-12-08T23:07:35.525Z"
   },
   {
    "duration": 10,
    "start_time": "2024-12-08T23:08:10.726Z"
   },
   {
    "duration": 10,
    "start_time": "2024-12-08T23:08:11.747Z"
   },
   {
    "duration": 4,
    "start_time": "2024-12-08T23:08:13.746Z"
   },
   {
    "duration": 15,
    "start_time": "2024-12-08T23:21:35.212Z"
   },
   {
    "duration": 19,
    "start_time": "2024-12-08T23:21:54.024Z"
   },
   {
    "duration": 2,
    "start_time": "2024-12-08T23:22:07.140Z"
   },
   {
    "duration": 2655,
    "start_time": "2024-12-09T00:08:16.192Z"
   },
   {
    "duration": 617,
    "start_time": "2024-12-09T00:08:18.849Z"
   },
   {
    "duration": 20,
    "start_time": "2024-12-09T00:08:19.468Z"
   },
   {
    "duration": 29,
    "start_time": "2024-12-09T00:08:19.489Z"
   },
   {
    "duration": 14,
    "start_time": "2024-12-09T00:08:19.522Z"
   },
   {
    "duration": 12,
    "start_time": "2024-12-09T00:08:19.538Z"
   },
   {
    "duration": 9,
    "start_time": "2024-12-09T00:08:19.552Z"
   },
   {
    "duration": 12,
    "start_time": "2024-12-09T00:08:19.563Z"
   },
   {
    "duration": 36,
    "start_time": "2024-12-09T00:08:19.576Z"
   },
   {
    "duration": 12,
    "start_time": "2024-12-09T00:08:19.614Z"
   },
   {
    "duration": 5,
    "start_time": "2024-12-09T00:08:19.627Z"
   },
   {
    "duration": 294,
    "start_time": "2024-12-09T00:08:19.634Z"
   },
   {
    "duration": 0,
    "start_time": "2024-12-09T00:08:19.931Z"
   },
   {
    "duration": 0,
    "start_time": "2024-12-09T00:08:19.932Z"
   },
   {
    "duration": 0,
    "start_time": "2024-12-09T00:08:19.934Z"
   },
   {
    "duration": 17,
    "start_time": "2024-12-09T00:09:26.026Z"
   },
   {
    "duration": 13,
    "start_time": "2024-12-09T00:09:43.766Z"
   },
   {
    "duration": 941,
    "start_time": "2024-12-09T00:09:49.680Z"
   },
   {
    "duration": 507,
    "start_time": "2024-12-09T00:09:50.623Z"
   },
   {
    "duration": 17,
    "start_time": "2024-12-09T00:09:51.132Z"
   },
   {
    "duration": 15,
    "start_time": "2024-12-09T00:09:51.151Z"
   },
   {
    "duration": 15,
    "start_time": "2024-12-09T00:09:51.169Z"
   },
   {
    "duration": 37,
    "start_time": "2024-12-09T00:09:51.185Z"
   },
   {
    "duration": 9,
    "start_time": "2024-12-09T00:09:51.224Z"
   },
   {
    "duration": 12,
    "start_time": "2024-12-09T00:09:51.235Z"
   },
   {
    "duration": 4,
    "start_time": "2024-12-09T00:09:51.249Z"
   },
   {
    "duration": 13,
    "start_time": "2024-12-09T00:09:51.254Z"
   },
   {
    "duration": 5,
    "start_time": "2024-12-09T00:09:51.269Z"
   },
   {
    "duration": 50,
    "start_time": "2024-12-09T00:09:51.275Z"
   },
   {
    "duration": 10,
    "start_time": "2024-12-09T00:09:51.326Z"
   },
   {
    "duration": 4,
    "start_time": "2024-12-09T00:09:51.339Z"
   },
   {
    "duration": 2,
    "start_time": "2024-12-09T00:09:51.345Z"
   },
   {
    "duration": 977,
    "start_time": "2024-12-09T00:22:34.584Z"
   },
   {
    "duration": 495,
    "start_time": "2024-12-09T00:22:35.563Z"
   },
   {
    "duration": 18,
    "start_time": "2024-12-09T00:22:36.061Z"
   },
   {
    "duration": 15,
    "start_time": "2024-12-09T00:22:36.081Z"
   },
   {
    "duration": 28,
    "start_time": "2024-12-09T00:22:36.097Z"
   },
   {
    "duration": 13,
    "start_time": "2024-12-09T00:22:36.126Z"
   },
   {
    "duration": 10,
    "start_time": "2024-12-09T00:22:36.140Z"
   },
   {
    "duration": 12,
    "start_time": "2024-12-09T00:22:36.151Z"
   },
   {
    "duration": 4,
    "start_time": "2024-12-09T00:22:36.165Z"
   },
   {
    "duration": 45,
    "start_time": "2024-12-09T00:22:36.172Z"
   },
   {
    "duration": 4,
    "start_time": "2024-12-09T00:22:36.219Z"
   },
   {
    "duration": 235,
    "start_time": "2024-12-09T00:22:36.225Z"
   },
   {
    "duration": 0,
    "start_time": "2024-12-09T00:22:36.461Z"
   },
   {
    "duration": 0,
    "start_time": "2024-12-09T00:22:36.463Z"
   },
   {
    "duration": 0,
    "start_time": "2024-12-09T00:22:36.464Z"
   },
   {
    "duration": 15,
    "start_time": "2024-12-09T00:22:50.984Z"
   },
   {
    "duration": 5,
    "start_time": "2024-12-09T00:22:55.608Z"
   },
   {
    "duration": 3,
    "start_time": "2024-12-09T00:23:04.344Z"
   },
   {
    "duration": 4,
    "start_time": "2024-12-09T00:23:05.775Z"
   },
   {
    "duration": 2,
    "start_time": "2024-12-09T00:23:07.718Z"
   },
   {
    "duration": 979,
    "start_time": "2024-12-09T00:23:27.750Z"
   },
   {
    "duration": 482,
    "start_time": "2024-12-09T00:23:28.731Z"
   },
   {
    "duration": 19,
    "start_time": "2024-12-09T00:23:29.215Z"
   },
   {
    "duration": 14,
    "start_time": "2024-12-09T00:23:29.235Z"
   },
   {
    "duration": 15,
    "start_time": "2024-12-09T00:23:29.252Z"
   },
   {
    "duration": 13,
    "start_time": "2024-12-09T00:23:29.268Z"
   },
   {
    "duration": 36,
    "start_time": "2024-12-09T00:23:29.283Z"
   },
   {
    "duration": 12,
    "start_time": "2024-12-09T00:23:29.321Z"
   },
   {
    "duration": 5,
    "start_time": "2024-12-09T00:23:29.335Z"
   },
   {
    "duration": 13,
    "start_time": "2024-12-09T00:23:29.342Z"
   },
   {
    "duration": 4,
    "start_time": "2024-12-09T00:23:29.356Z"
   },
   {
    "duration": 15,
    "start_time": "2024-12-09T00:23:29.361Z"
   },
   {
    "duration": 4,
    "start_time": "2024-12-09T00:23:29.412Z"
   },
   {
    "duration": 3,
    "start_time": "2024-12-09T00:23:29.419Z"
   },
   {
    "duration": 12,
    "start_time": "2024-12-09T00:24:08.604Z"
   },
   {
    "duration": 950,
    "start_time": "2024-12-09T00:24:17.826Z"
   },
   {
    "duration": 467,
    "start_time": "2024-12-09T00:24:18.778Z"
   },
   {
    "duration": 18,
    "start_time": "2024-12-09T00:24:19.246Z"
   },
   {
    "duration": 14,
    "start_time": "2024-12-09T00:24:19.266Z"
   },
   {
    "duration": 30,
    "start_time": "2024-12-09T00:24:19.282Z"
   },
   {
    "duration": 13,
    "start_time": "2024-12-09T00:24:19.313Z"
   },
   {
    "duration": 10,
    "start_time": "2024-12-09T00:24:19.327Z"
   },
   {
    "duration": 12,
    "start_time": "2024-12-09T00:24:19.338Z"
   },
   {
    "duration": 4,
    "start_time": "2024-12-09T00:24:19.352Z"
   },
   {
    "duration": 12,
    "start_time": "2024-12-09T00:24:19.358Z"
   },
   {
    "duration": 43,
    "start_time": "2024-12-09T00:24:19.372Z"
   },
   {
    "duration": 16,
    "start_time": "2024-12-09T00:24:19.417Z"
   },
   {
    "duration": 3,
    "start_time": "2024-12-09T00:24:19.435Z"
   },
   {
    "duration": 4,
    "start_time": "2024-12-09T00:24:19.440Z"
   },
   {
    "duration": 962,
    "start_time": "2024-12-09T00:24:35.280Z"
   },
   {
    "duration": 502,
    "start_time": "2024-12-09T00:24:36.244Z"
   },
   {
    "duration": 19,
    "start_time": "2024-12-09T00:24:36.747Z"
   },
   {
    "duration": 13,
    "start_time": "2024-12-09T00:24:36.769Z"
   },
   {
    "duration": 26,
    "start_time": "2024-12-09T00:24:36.785Z"
   },
   {
    "duration": 14,
    "start_time": "2024-12-09T00:24:36.813Z"
   },
   {
    "duration": 9,
    "start_time": "2024-12-09T00:24:36.829Z"
   },
   {
    "duration": 13,
    "start_time": "2024-12-09T00:24:36.841Z"
   },
   {
    "duration": 5,
    "start_time": "2024-12-09T00:24:36.855Z"
   },
   {
    "duration": 12,
    "start_time": "2024-12-09T00:24:36.861Z"
   },
   {
    "duration": 38,
    "start_time": "2024-12-09T00:24:36.874Z"
   },
   {
    "duration": 6,
    "start_time": "2024-12-09T00:24:36.913Z"
   },
   {
    "duration": 4,
    "start_time": "2024-12-09T00:24:36.921Z"
   },
   {
    "duration": 3,
    "start_time": "2024-12-09T00:24:36.927Z"
   },
   {
    "duration": 980,
    "start_time": "2024-12-09T00:25:10.982Z"
   },
   {
    "duration": 481,
    "start_time": "2024-12-09T00:25:11.964Z"
   },
   {
    "duration": 17,
    "start_time": "2024-12-09T00:25:12.447Z"
   },
   {
    "duration": 14,
    "start_time": "2024-12-09T00:25:12.466Z"
   },
   {
    "duration": 30,
    "start_time": "2024-12-09T00:25:12.483Z"
   },
   {
    "duration": 12,
    "start_time": "2024-12-09T00:25:12.515Z"
   },
   {
    "duration": 9,
    "start_time": "2024-12-09T00:25:12.529Z"
   },
   {
    "duration": 13,
    "start_time": "2024-12-09T00:25:12.539Z"
   },
   {
    "duration": 4,
    "start_time": "2024-12-09T00:25:12.553Z"
   },
   {
    "duration": 13,
    "start_time": "2024-12-09T00:25:12.558Z"
   },
   {
    "duration": 42,
    "start_time": "2024-12-09T00:25:12.572Z"
   },
   {
    "duration": 4,
    "start_time": "2024-12-09T00:25:12.616Z"
   },
   {
    "duration": 4,
    "start_time": "2024-12-09T00:25:12.622Z"
   },
   {
    "duration": 3,
    "start_time": "2024-12-09T00:25:12.629Z"
   },
   {
    "duration": 9,
    "start_time": "2024-12-09T00:26:14.754Z"
   },
   {
    "duration": 10,
    "start_time": "2024-12-09T00:26:52.340Z"
   },
   {
    "duration": 942,
    "start_time": "2024-12-09T00:27:31.061Z"
   },
   {
    "duration": 490,
    "start_time": "2024-12-09T00:27:32.005Z"
   },
   {
    "duration": 17,
    "start_time": "2024-12-09T00:27:32.497Z"
   },
   {
    "duration": 15,
    "start_time": "2024-12-09T00:27:32.515Z"
   },
   {
    "duration": 13,
    "start_time": "2024-12-09T00:27:32.533Z"
   },
   {
    "duration": 12,
    "start_time": "2024-12-09T00:27:32.548Z"
   },
   {
    "duration": 9,
    "start_time": "2024-12-09T00:27:32.562Z"
   },
   {
    "duration": 40,
    "start_time": "2024-12-09T00:27:32.572Z"
   },
   {
    "duration": 4,
    "start_time": "2024-12-09T00:27:32.613Z"
   },
   {
    "duration": 13,
    "start_time": "2024-12-09T00:27:32.619Z"
   },
   {
    "duration": 4,
    "start_time": "2024-12-09T00:27:32.633Z"
   },
   {
    "duration": 9,
    "start_time": "2024-12-09T00:27:32.639Z"
   },
   {
    "duration": 4,
    "start_time": "2024-12-09T00:27:32.650Z"
   },
   {
    "duration": 986,
    "start_time": "2024-12-09T00:36:11.672Z"
   },
   {
    "duration": 485,
    "start_time": "2024-12-09T00:36:12.660Z"
   },
   {
    "duration": 18,
    "start_time": "2024-12-09T00:36:13.147Z"
   },
   {
    "duration": 15,
    "start_time": "2024-12-09T00:36:13.167Z"
   },
   {
    "duration": 34,
    "start_time": "2024-12-09T00:36:13.185Z"
   },
   {
    "duration": 12,
    "start_time": "2024-12-09T00:36:13.221Z"
   },
   {
    "duration": 10,
    "start_time": "2024-12-09T00:36:13.235Z"
   },
   {
    "duration": 14,
    "start_time": "2024-12-09T00:36:13.247Z"
   },
   {
    "duration": 12,
    "start_time": "2024-12-09T00:36:13.262Z"
   },
   {
    "duration": 36,
    "start_time": "2024-12-09T00:36:13.276Z"
   },
   {
    "duration": 11,
    "start_time": "2024-12-09T00:36:13.313Z"
   },
   {
    "duration": 3,
    "start_time": "2024-12-09T00:36:13.326Z"
   },
   {
    "duration": 940,
    "start_time": "2024-12-09T00:38:23.698Z"
   },
   {
    "duration": 513,
    "start_time": "2024-12-09T00:38:24.640Z"
   },
   {
    "duration": 17,
    "start_time": "2024-12-09T00:38:25.156Z"
   },
   {
    "duration": 13,
    "start_time": "2024-12-09T00:38:25.176Z"
   },
   {
    "duration": 33,
    "start_time": "2024-12-09T00:38:25.191Z"
   },
   {
    "duration": 13,
    "start_time": "2024-12-09T00:38:25.226Z"
   },
   {
    "duration": 9,
    "start_time": "2024-12-09T00:38:25.241Z"
   },
   {
    "duration": 13,
    "start_time": "2024-12-09T00:38:25.251Z"
   },
   {
    "duration": 13,
    "start_time": "2024-12-09T00:38:25.265Z"
   },
   {
    "duration": 6,
    "start_time": "2024-12-09T00:38:25.311Z"
   },
   {
    "duration": 10,
    "start_time": "2024-12-09T00:38:25.319Z"
   },
   {
    "duration": 3,
    "start_time": "2024-12-09T00:38:25.332Z"
   },
   {
    "duration": 2584,
    "start_time": "2024-12-09T03:49:53.731Z"
   },
   {
    "duration": 637,
    "start_time": "2024-12-09T03:49:56.317Z"
   },
   {
    "duration": 29,
    "start_time": "2024-12-09T03:49:56.956Z"
   },
   {
    "duration": 14,
    "start_time": "2024-12-09T03:49:56.987Z"
   },
   {
    "duration": 14,
    "start_time": "2024-12-09T03:49:57.005Z"
   },
   {
    "duration": 14,
    "start_time": "2024-12-09T03:49:57.020Z"
   },
   {
    "duration": 9,
    "start_time": "2024-12-09T03:49:57.035Z"
   },
   {
    "duration": 15,
    "start_time": "2024-12-09T03:49:57.070Z"
   },
   {
    "duration": 14,
    "start_time": "2024-12-09T03:49:57.087Z"
   },
   {
    "duration": 5,
    "start_time": "2024-12-09T03:49:57.103Z"
   },
   {
    "duration": 11,
    "start_time": "2024-12-09T03:49:57.110Z"
   },
   {
    "duration": 3,
    "start_time": "2024-12-09T03:49:57.123Z"
   },
   {
    "duration": 10,
    "start_time": "2024-12-09T03:50:06.205Z"
   },
   {
    "duration": 10,
    "start_time": "2024-12-09T03:50:20.055Z"
   },
   {
    "duration": 164,
    "start_time": "2024-12-09T17:42:42.690Z"
   },
   {
    "duration": 2628,
    "start_time": "2024-12-09T17:42:49.466Z"
   },
   {
    "duration": 631,
    "start_time": "2024-12-09T17:42:52.096Z"
   },
   {
    "duration": 19,
    "start_time": "2024-12-09T17:42:52.728Z"
   },
   {
    "duration": 14,
    "start_time": "2024-12-09T17:42:52.748Z"
   },
   {
    "duration": 14,
    "start_time": "2024-12-09T17:42:52.766Z"
   },
   {
    "duration": 37,
    "start_time": "2024-12-09T17:42:52.782Z"
   },
   {
    "duration": 10,
    "start_time": "2024-12-09T17:42:52.821Z"
   },
   {
    "duration": 13,
    "start_time": "2024-12-09T17:42:52.832Z"
   },
   {
    "duration": 12,
    "start_time": "2024-12-09T17:42:52.847Z"
   },
   {
    "duration": 5,
    "start_time": "2024-12-09T17:42:52.861Z"
   },
   {
    "duration": 47,
    "start_time": "2024-12-09T17:42:52.867Z"
   },
   {
    "duration": 4,
    "start_time": "2024-12-09T17:42:52.916Z"
   },
   {
    "duration": 3,
    "start_time": "2024-12-09T17:42:52.922Z"
   },
   {
    "duration": 952,
    "start_time": "2024-12-09T17:45:29.302Z"
   },
   {
    "duration": 3,
    "start_time": "2024-12-09T17:47:43.955Z"
   },
   {
    "duration": 5,
    "start_time": "2024-12-09T17:48:17.443Z"
   },
   {
    "duration": 24,
    "start_time": "2024-12-09T17:48:37.721Z"
   },
   {
    "duration": 19,
    "start_time": "2024-12-09T17:48:43.861Z"
   },
   {
    "duration": 11,
    "start_time": "2024-12-09T17:49:14.377Z"
   },
   {
    "duration": 7,
    "start_time": "2024-12-09T18:11:49.442Z"
   },
   {
    "duration": 5,
    "start_time": "2024-12-09T18:12:25.412Z"
   },
   {
    "duration": 6,
    "start_time": "2024-12-09T18:13:11.155Z"
   },
   {
    "duration": 4,
    "start_time": "2024-12-09T18:14:44.854Z"
   },
   {
    "duration": 3,
    "start_time": "2024-12-09T18:16:50.394Z"
   },
   {
    "duration": 11,
    "start_time": "2024-12-09T18:17:46.205Z"
   },
   {
    "duration": 10,
    "start_time": "2024-12-09T18:18:16.823Z"
   },
   {
    "duration": 3,
    "start_time": "2024-12-09T18:18:40.169Z"
   },
   {
    "duration": 14,
    "start_time": "2024-12-09T18:18:48.777Z"
   },
   {
    "duration": 5,
    "start_time": "2024-12-09T18:20:10.286Z"
   },
   {
    "duration": 12,
    "start_time": "2024-12-09T18:20:33.838Z"
   },
   {
    "duration": 9,
    "start_time": "2024-12-09T18:20:44.295Z"
   },
   {
    "duration": 107,
    "start_time": "2024-12-09T18:23:39.700Z"
   },
   {
    "duration": 72,
    "start_time": "2024-12-09T18:25:33.154Z"
   },
   {
    "duration": 90,
    "start_time": "2024-12-09T18:25:55.892Z"
   },
   {
    "duration": 1007,
    "start_time": "2024-12-09T18:33:47.673Z"
   },
   {
    "duration": 533,
    "start_time": "2024-12-09T18:33:48.682Z"
   },
   {
    "duration": 19,
    "start_time": "2024-12-09T18:33:49.217Z"
   },
   {
    "duration": 6,
    "start_time": "2024-12-09T18:33:49.237Z"
   },
   {
    "duration": 15,
    "start_time": "2024-12-09T18:33:49.245Z"
   },
   {
    "duration": 5,
    "start_time": "2024-12-09T18:33:49.261Z"
   },
   {
    "duration": 44,
    "start_time": "2024-12-09T18:33:49.267Z"
   },
   {
    "duration": 6,
    "start_time": "2024-12-09T18:33:49.313Z"
   },
   {
    "duration": 13,
    "start_time": "2024-12-09T18:33:49.321Z"
   },
   {
    "duration": 10,
    "start_time": "2024-12-09T18:33:49.336Z"
   },
   {
    "duration": 12,
    "start_time": "2024-12-09T18:33:49.349Z"
   },
   {
    "duration": 46,
    "start_time": "2024-12-09T18:33:49.362Z"
   },
   {
    "duration": 5,
    "start_time": "2024-12-09T18:33:49.411Z"
   },
   {
    "duration": 9,
    "start_time": "2024-12-09T18:33:49.419Z"
   },
   {
    "duration": 3,
    "start_time": "2024-12-09T18:33:49.430Z"
   },
   {
    "duration": 16,
    "start_time": "2024-12-09T18:33:49.435Z"
   },
   {
    "duration": 9,
    "start_time": "2024-12-09T18:33:49.453Z"
   },
   {
    "duration": 50,
    "start_time": "2024-12-09T18:33:49.464Z"
   },
   {
    "duration": 101,
    "start_time": "2024-12-09T18:33:49.517Z"
   },
   {
    "duration": 102,
    "start_time": "2024-12-09T18:33:49.619Z"
   },
   {
    "duration": 4573,
    "start_time": "2024-12-09T18:34:28.196Z"
   },
   {
    "duration": 5,
    "start_time": "2024-12-09T18:39:25.990Z"
   },
   {
    "duration": 14,
    "start_time": "2024-12-09T18:40:44.618Z"
   },
   {
    "duration": 7,
    "start_time": "2024-12-09T18:40:57.523Z"
   },
   {
    "duration": 16,
    "start_time": "2024-12-09T18:41:18.102Z"
   },
   {
    "duration": 11,
    "start_time": "2024-12-09T18:41:24.354Z"
   },
   {
    "duration": 7,
    "start_time": "2024-12-09T18:41:34.695Z"
   },
   {
    "duration": 20,
    "start_time": "2024-12-09T18:41:56.164Z"
   },
   {
    "duration": 7,
    "start_time": "2024-12-09T18:42:12.784Z"
   },
   {
    "duration": 307,
    "start_time": "2024-12-09T18:42:33.677Z"
   },
   {
    "duration": 7,
    "start_time": "2024-12-09T18:43:48.178Z"
   },
   {
    "duration": 1063,
    "start_time": "2024-12-09T18:43:53.915Z"
   },
   {
    "duration": 533,
    "start_time": "2024-12-09T18:43:54.980Z"
   },
   {
    "duration": 18,
    "start_time": "2024-12-09T18:43:55.515Z"
   },
   {
    "duration": 6,
    "start_time": "2024-12-09T18:43:55.535Z"
   },
   {
    "duration": 15,
    "start_time": "2024-12-09T18:43:55.543Z"
   },
   {
    "duration": 4,
    "start_time": "2024-12-09T18:43:55.559Z"
   },
   {
    "duration": 44,
    "start_time": "2024-12-09T18:43:55.565Z"
   },
   {
    "duration": 6,
    "start_time": "2024-12-09T18:43:55.611Z"
   },
   {
    "duration": 13,
    "start_time": "2024-12-09T18:43:55.619Z"
   },
   {
    "duration": 9,
    "start_time": "2024-12-09T18:43:55.634Z"
   },
   {
    "duration": 13,
    "start_time": "2024-12-09T18:43:55.645Z"
   },
   {
    "duration": 52,
    "start_time": "2024-12-09T18:43:55.660Z"
   },
   {
    "duration": 6,
    "start_time": "2024-12-09T18:43:55.713Z"
   },
   {
    "duration": 9,
    "start_time": "2024-12-09T18:43:55.722Z"
   },
   {
    "duration": 4,
    "start_time": "2024-12-09T18:43:55.732Z"
   },
   {
    "duration": 16,
    "start_time": "2024-12-09T18:43:55.738Z"
   },
   {
    "duration": 10,
    "start_time": "2024-12-09T18:43:55.756Z"
   },
   {
    "duration": 46,
    "start_time": "2024-12-09T18:43:55.768Z"
   },
   {
    "duration": 112,
    "start_time": "2024-12-09T18:43:55.816Z"
   },
   {
    "duration": 7,
    "start_time": "2024-12-09T18:43:55.930Z"
   },
   {
    "duration": 4,
    "start_time": "2024-12-09T18:43:55.938Z"
   },
   {
    "duration": 127,
    "start_time": "2024-12-09T18:43:55.943Z"
   },
   {
    "duration": 4,
    "start_time": "2024-12-09T18:44:29.186Z"
   },
   {
    "duration": 979,
    "start_time": "2024-12-09T18:44:42.096Z"
   },
   {
    "duration": 547,
    "start_time": "2024-12-09T18:44:43.077Z"
   },
   {
    "duration": 18,
    "start_time": "2024-12-09T18:44:43.625Z"
   },
   {
    "duration": 5,
    "start_time": "2024-12-09T18:44:43.646Z"
   },
   {
    "duration": 15,
    "start_time": "2024-12-09T18:44:43.653Z"
   },
   {
    "duration": 4,
    "start_time": "2024-12-09T18:44:43.670Z"
   },
   {
    "duration": 39,
    "start_time": "2024-12-09T18:44:43.676Z"
   },
   {
    "duration": 7,
    "start_time": "2024-12-09T18:44:43.717Z"
   },
   {
    "duration": 13,
    "start_time": "2024-12-09T18:44:43.727Z"
   },
   {
    "duration": 10,
    "start_time": "2024-12-09T18:44:43.743Z"
   },
   {
    "duration": 14,
    "start_time": "2024-12-09T18:44:43.754Z"
   },
   {
    "duration": 45,
    "start_time": "2024-12-09T18:44:43.773Z"
   },
   {
    "duration": 5,
    "start_time": "2024-12-09T18:44:43.820Z"
   },
   {
    "duration": 9,
    "start_time": "2024-12-09T18:44:43.827Z"
   },
   {
    "duration": 4,
    "start_time": "2024-12-09T18:44:43.838Z"
   },
   {
    "duration": 15,
    "start_time": "2024-12-09T18:44:43.844Z"
   },
   {
    "duration": 10,
    "start_time": "2024-12-09T18:44:43.861Z"
   },
   {
    "duration": 11,
    "start_time": "2024-12-09T18:44:43.909Z"
   },
   {
    "duration": 106,
    "start_time": "2024-12-09T18:44:43.922Z"
   },
   {
    "duration": 6,
    "start_time": "2024-12-09T18:44:44.029Z"
   },
   {
    "duration": 3,
    "start_time": "2024-12-09T18:44:44.037Z"
   },
   {
    "duration": 2,
    "start_time": "2024-12-09T18:44:44.042Z"
   },
   {
    "duration": 4,
    "start_time": "2024-12-09T18:44:47.922Z"
   },
   {
    "duration": 6,
    "start_time": "2024-12-09T18:45:28.265Z"
   },
   {
    "duration": 7,
    "start_time": "2024-12-09T18:45:35.336Z"
   },
   {
    "duration": 8,
    "start_time": "2024-12-09T18:48:00.117Z"
   },
   {
    "duration": 5,
    "start_time": "2024-12-09T18:48:08.230Z"
   },
   {
    "duration": 6,
    "start_time": "2024-12-09T18:48:27.159Z"
   },
   {
    "duration": 8,
    "start_time": "2024-12-09T18:48:43.236Z"
   },
   {
    "duration": 7,
    "start_time": "2024-12-09T18:48:58.085Z"
   },
   {
    "duration": 12,
    "start_time": "2024-12-09T18:51:26.390Z"
   },
   {
    "duration": 11,
    "start_time": "2024-12-09T18:51:30.390Z"
   },
   {
    "duration": 244,
    "start_time": "2024-12-09T18:57:33.493Z"
   },
   {
    "duration": 22,
    "start_time": "2024-12-09T18:59:51.122Z"
   },
   {
    "duration": 18,
    "start_time": "2024-12-09T18:59:58.800Z"
   },
   {
    "duration": 19,
    "start_time": "2024-12-09T19:00:11.704Z"
   },
   {
    "duration": 20,
    "start_time": "2024-12-09T19:01:18.672Z"
   },
   {
    "duration": 16,
    "start_time": "2024-12-09T19:03:58.172Z"
   },
   {
    "duration": 5,
    "start_time": "2024-12-09T19:04:36.407Z"
   },
   {
    "duration": 18,
    "start_time": "2024-12-09T19:05:24.739Z"
   },
   {
    "duration": 1004,
    "start_time": "2024-12-09T19:05:34.594Z"
   },
   {
    "duration": 512,
    "start_time": "2024-12-09T19:05:35.601Z"
   },
   {
    "duration": 18,
    "start_time": "2024-12-09T19:05:36.115Z"
   },
   {
    "duration": 6,
    "start_time": "2024-12-09T19:05:36.135Z"
   },
   {
    "duration": 14,
    "start_time": "2024-12-09T19:05:36.144Z"
   },
   {
    "duration": 5,
    "start_time": "2024-12-09T19:05:36.160Z"
   },
   {
    "duration": 44,
    "start_time": "2024-12-09T19:05:36.166Z"
   },
   {
    "duration": 6,
    "start_time": "2024-12-09T19:05:36.212Z"
   },
   {
    "duration": 14,
    "start_time": "2024-12-09T19:05:36.220Z"
   },
   {
    "duration": 11,
    "start_time": "2024-12-09T19:05:36.235Z"
   },
   {
    "duration": 13,
    "start_time": "2024-12-09T19:05:36.247Z"
   },
   {
    "duration": 47,
    "start_time": "2024-12-09T19:05:36.262Z"
   },
   {
    "duration": 6,
    "start_time": "2024-12-09T19:05:36.311Z"
   },
   {
    "duration": 10,
    "start_time": "2024-12-09T19:05:36.320Z"
   },
   {
    "duration": 4,
    "start_time": "2024-12-09T19:05:36.332Z"
   },
   {
    "duration": 16,
    "start_time": "2024-12-09T19:05:36.337Z"
   },
   {
    "duration": 9,
    "start_time": "2024-12-09T19:05:36.355Z"
   },
   {
    "duration": 47,
    "start_time": "2024-12-09T19:05:36.366Z"
   },
   {
    "duration": 104,
    "start_time": "2024-12-09T19:05:36.415Z"
   },
   {
    "duration": 6,
    "start_time": "2024-12-09T19:05:36.521Z"
   },
   {
    "duration": 647,
    "start_time": "2024-12-09T19:05:36.528Z"
   },
   {
    "duration": 0,
    "start_time": "2024-12-09T19:05:37.177Z"
   },
   {
    "duration": 44,
    "start_time": "2024-12-09T19:07:02.226Z"
   },
   {
    "duration": 89,
    "start_time": "2024-12-09T19:07:43.288Z"
   },
   {
    "duration": 2618,
    "start_time": "2024-12-10T15:18:07.580Z"
   },
   {
    "duration": 593,
    "start_time": "2024-12-10T15:18:10.201Z"
   },
   {
    "duration": 18,
    "start_time": "2024-12-10T15:18:10.795Z"
   },
   {
    "duration": 17,
    "start_time": "2024-12-10T15:18:10.815Z"
   },
   {
    "duration": 15,
    "start_time": "2024-12-10T15:18:10.834Z"
   },
   {
    "duration": 5,
    "start_time": "2024-12-10T15:18:10.850Z"
   },
   {
    "duration": 15,
    "start_time": "2024-12-10T15:18:10.856Z"
   },
   {
    "duration": 6,
    "start_time": "2024-12-10T15:18:10.873Z"
   },
   {
    "duration": 16,
    "start_time": "2024-12-10T15:18:10.881Z"
   },
   {
    "duration": 11,
    "start_time": "2024-12-10T15:18:10.932Z"
   },
   {
    "duration": 13,
    "start_time": "2024-12-10T15:18:10.944Z"
   },
   {
    "duration": 12,
    "start_time": "2024-12-10T15:18:10.959Z"
   },
   {
    "duration": 4,
    "start_time": "2024-12-10T15:18:10.973Z"
   },
   {
    "duration": 9,
    "start_time": "2024-12-10T15:18:10.979Z"
   },
   {
    "duration": 4,
    "start_time": "2024-12-10T15:18:10.989Z"
   },
   {
    "duration": 52,
    "start_time": "2024-12-10T15:18:10.994Z"
   },
   {
    "duration": 9,
    "start_time": "2024-12-10T15:18:11.047Z"
   },
   {
    "duration": 8,
    "start_time": "2024-12-10T15:18:11.058Z"
   },
   {
    "duration": 69,
    "start_time": "2024-12-10T15:18:11.068Z"
   },
   {
    "duration": 212,
    "start_time": "2024-12-10T15:18:11.139Z"
   },
   {
    "duration": 843,
    "start_time": "2024-12-10T15:45:25.015Z"
   },
   {
    "duration": 5,
    "start_time": "2024-12-10T15:45:40.760Z"
   },
   {
    "duration": 39,
    "start_time": "2024-12-10T15:46:01.423Z"
   },
   {
    "duration": 45,
    "start_time": "2024-12-10T15:46:09.769Z"
   },
   {
    "duration": 990,
    "start_time": "2024-12-10T15:46:14.004Z"
   },
   {
    "duration": 500,
    "start_time": "2024-12-10T15:46:14.996Z"
   },
   {
    "duration": 18,
    "start_time": "2024-12-10T15:46:15.498Z"
   },
   {
    "duration": 14,
    "start_time": "2024-12-10T15:46:15.520Z"
   },
   {
    "duration": 15,
    "start_time": "2024-12-10T15:46:15.536Z"
   },
   {
    "duration": 5,
    "start_time": "2024-12-10T15:46:15.553Z"
   },
   {
    "duration": 21,
    "start_time": "2024-12-10T15:46:15.560Z"
   },
   {
    "duration": 7,
    "start_time": "2024-12-10T15:46:15.583Z"
   },
   {
    "duration": 46,
    "start_time": "2024-12-10T15:46:15.591Z"
   },
   {
    "duration": 11,
    "start_time": "2024-12-10T15:46:15.639Z"
   },
   {
    "duration": 13,
    "start_time": "2024-12-10T15:46:15.652Z"
   },
   {
    "duration": 17,
    "start_time": "2024-12-10T15:46:15.667Z"
   },
   {
    "duration": 4,
    "start_time": "2024-12-10T15:46:15.685Z"
   },
   {
    "duration": 43,
    "start_time": "2024-12-10T15:46:15.693Z"
   },
   {
    "duration": 5,
    "start_time": "2024-12-10T15:46:15.738Z"
   },
   {
    "duration": 22,
    "start_time": "2024-12-10T15:46:15.745Z"
   },
   {
    "duration": 9,
    "start_time": "2024-12-10T15:46:15.768Z"
   },
   {
    "duration": 9,
    "start_time": "2024-12-10T15:46:15.779Z"
   },
   {
    "duration": 86,
    "start_time": "2024-12-10T15:46:15.790Z"
   },
   {
    "duration": 6,
    "start_time": "2024-12-10T15:46:15.878Z"
   },
   {
    "duration": 379,
    "start_time": "2024-12-10T15:46:15.885Z"
   },
   {
    "duration": 2859,
    "start_time": "2024-12-10T18:18:40.902Z"
   },
   {
    "duration": 663,
    "start_time": "2024-12-10T18:18:43.763Z"
   },
   {
    "duration": 18,
    "start_time": "2024-12-10T18:18:44.428Z"
   },
   {
    "duration": 9,
    "start_time": "2024-12-10T18:18:44.448Z"
   },
   {
    "duration": 17,
    "start_time": "2024-12-10T18:18:44.460Z"
   },
   {
    "duration": 5,
    "start_time": "2024-12-10T18:18:44.479Z"
   },
   {
    "duration": 34,
    "start_time": "2024-12-10T18:18:44.486Z"
   },
   {
    "duration": 8,
    "start_time": "2024-12-10T18:18:44.522Z"
   },
   {
    "duration": 16,
    "start_time": "2024-12-10T18:18:44.531Z"
   },
   {
    "duration": 11,
    "start_time": "2024-12-10T18:18:44.549Z"
   },
   {
    "duration": 44,
    "start_time": "2024-12-10T18:18:44.562Z"
   },
   {
    "duration": 16,
    "start_time": "2024-12-10T18:18:44.608Z"
   },
   {
    "duration": 6,
    "start_time": "2024-12-10T18:18:44.626Z"
   },
   {
    "duration": 11,
    "start_time": "2024-12-10T18:18:44.636Z"
   },
   {
    "duration": 4,
    "start_time": "2024-12-10T18:18:44.648Z"
   },
   {
    "duration": 16,
    "start_time": "2024-12-10T18:18:44.653Z"
   },
   {
    "duration": 11,
    "start_time": "2024-12-10T18:18:44.706Z"
   },
   {
    "duration": 11,
    "start_time": "2024-12-10T18:18:44.719Z"
   },
   {
    "duration": 47,
    "start_time": "2024-12-10T18:18:44.731Z"
   },
   {
    "duration": 27,
    "start_time": "2024-12-10T18:18:44.779Z"
   },
   {
    "duration": 450,
    "start_time": "2024-12-10T18:18:44.808Z"
   },
   {
    "duration": 971,
    "start_time": "2024-12-10T18:24:03.411Z"
   },
   {
    "duration": 544,
    "start_time": "2024-12-10T18:24:04.384Z"
   },
   {
    "duration": 19,
    "start_time": "2024-12-10T18:24:04.930Z"
   },
   {
    "duration": 7,
    "start_time": "2024-12-10T18:24:04.951Z"
   },
   {
    "duration": 15,
    "start_time": "2024-12-10T18:24:04.960Z"
   },
   {
    "duration": 31,
    "start_time": "2024-12-10T18:24:04.976Z"
   },
   {
    "duration": 19,
    "start_time": "2024-12-10T18:24:05.009Z"
   },
   {
    "duration": 7,
    "start_time": "2024-12-10T18:24:05.030Z"
   },
   {
    "duration": 13,
    "start_time": "2024-12-10T18:24:05.039Z"
   },
   {
    "duration": 10,
    "start_time": "2024-12-10T18:24:05.054Z"
   },
   {
    "duration": 45,
    "start_time": "2024-12-10T18:24:05.065Z"
   },
   {
    "duration": 14,
    "start_time": "2024-12-10T18:24:05.113Z"
   },
   {
    "duration": 11,
    "start_time": "2024-12-10T18:24:05.129Z"
   },
   {
    "duration": 11,
    "start_time": "2024-12-10T18:24:05.143Z"
   },
   {
    "duration": 6,
    "start_time": "2024-12-10T18:24:05.155Z"
   },
   {
    "duration": 44,
    "start_time": "2024-12-10T18:24:05.162Z"
   },
   {
    "duration": 11,
    "start_time": "2024-12-10T18:24:05.208Z"
   },
   {
    "duration": 9,
    "start_time": "2024-12-10T18:24:05.221Z"
   },
   {
    "duration": 47,
    "start_time": "2024-12-10T18:24:05.232Z"
   },
   {
    "duration": 236,
    "start_time": "2024-12-10T18:24:05.281Z"
   },
   {
    "duration": 7,
    "start_time": "2024-12-10T18:24:35.243Z"
   },
   {
    "duration": 13,
    "start_time": "2024-12-10T18:25:31.257Z"
   },
   {
    "duration": 4,
    "start_time": "2024-12-10T18:26:21.538Z"
   },
   {
    "duration": 7,
    "start_time": "2024-12-10T18:26:26.860Z"
   },
   {
    "duration": 159,
    "start_time": "2024-12-10T18:55:48.386Z"
   },
   {
    "duration": 20,
    "start_time": "2024-12-10T18:55:59.957Z"
   },
   {
    "duration": 3,
    "start_time": "2024-12-10T18:56:20.234Z"
   },
   {
    "duration": 3,
    "start_time": "2024-12-10T18:56:39.389Z"
   },
   {
    "duration": 330,
    "start_time": "2024-12-10T18:59:27.817Z"
   },
   {
    "duration": 4,
    "start_time": "2024-12-10T19:00:36.234Z"
   },
   {
    "duration": 24,
    "start_time": "2024-12-10T19:00:50.473Z"
   },
   {
    "duration": 1261,
    "start_time": "2024-12-10T19:02:18.234Z"
   },
   {
    "duration": 870,
    "start_time": "2024-12-10T19:02:19.497Z"
   },
   {
    "duration": 25,
    "start_time": "2024-12-10T19:02:20.369Z"
   },
   {
    "duration": 8,
    "start_time": "2024-12-10T19:02:20.406Z"
   },
   {
    "duration": 8,
    "start_time": "2024-12-10T19:02:20.416Z"
   },
   {
    "duration": 23,
    "start_time": "2024-12-10T19:02:20.425Z"
   },
   {
    "duration": 4,
    "start_time": "2024-12-10T19:02:20.450Z"
   },
   {
    "duration": 4,
    "start_time": "2024-12-10T19:02:20.457Z"
   },
   {
    "duration": 52,
    "start_time": "2024-12-10T19:02:20.463Z"
   },
   {
    "duration": 8,
    "start_time": "2024-12-10T19:02:20.519Z"
   },
   {
    "duration": 8,
    "start_time": "2024-12-10T19:02:20.529Z"
   },
   {
    "duration": 18,
    "start_time": "2024-12-10T19:02:20.539Z"
   },
   {
    "duration": 13,
    "start_time": "2024-12-10T19:02:20.559Z"
   },
   {
    "duration": 47,
    "start_time": "2024-12-10T19:02:20.574Z"
   },
   {
    "duration": 21,
    "start_time": "2024-12-10T19:02:20.629Z"
   },
   {
    "duration": 5,
    "start_time": "2024-12-10T19:02:20.652Z"
   },
   {
    "duration": 13,
    "start_time": "2024-12-10T19:02:20.661Z"
   },
   {
    "duration": 5,
    "start_time": "2024-12-10T19:02:20.676Z"
   },
   {
    "duration": 47,
    "start_time": "2024-12-10T19:02:20.683Z"
   },
   {
    "duration": 17,
    "start_time": "2024-12-10T19:02:20.732Z"
   },
   {
    "duration": 3,
    "start_time": "2024-12-10T19:02:20.751Z"
   },
   {
    "duration": 4,
    "start_time": "2024-12-10T19:02:20.756Z"
   },
   {
    "duration": 0,
    "start_time": "2024-12-10T19:02:20.763Z"
   },
   {
    "duration": 0,
    "start_time": "2024-12-10T19:02:20.764Z"
   },
   {
    "duration": 0,
    "start_time": "2024-12-10T19:02:20.766Z"
   },
   {
    "duration": 37,
    "start_time": "2024-12-10T19:02:30.618Z"
   },
   {
    "duration": 30,
    "start_time": "2024-12-10T19:03:21.098Z"
   },
   {
    "duration": 40,
    "start_time": "2024-12-10T19:04:49.893Z"
   },
   {
    "duration": 23,
    "start_time": "2024-12-10T19:06:35.759Z"
   },
   {
    "duration": 19,
    "start_time": "2024-12-10T19:12:15.428Z"
   },
   {
    "duration": 11,
    "start_time": "2024-12-10T19:12:54.142Z"
   },
   {
    "duration": 56,
    "start_time": "2024-12-10T19:13:22.902Z"
   },
   {
    "duration": 201,
    "start_time": "2024-12-10T19:13:25.666Z"
   },
   {
    "duration": 5,
    "start_time": "2024-12-10T19:15:03.102Z"
   },
   {
    "duration": 20,
    "start_time": "2024-12-10T19:15:04.691Z"
   },
   {
    "duration": 19,
    "start_time": "2024-12-10T19:38:10.368Z"
   },
   {
    "duration": 2633,
    "start_time": "2024-12-12T14:49:39.637Z"
   },
   {
    "duration": 605,
    "start_time": "2024-12-12T14:49:42.272Z"
   },
   {
    "duration": 21,
    "start_time": "2024-12-12T14:49:42.879Z"
   },
   {
    "duration": 7,
    "start_time": "2024-12-12T14:49:42.910Z"
   },
   {
    "duration": 7,
    "start_time": "2024-12-12T14:49:42.919Z"
   },
   {
    "duration": 15,
    "start_time": "2024-12-12T14:49:42.927Z"
   },
   {
    "duration": 4,
    "start_time": "2024-12-12T14:49:42.943Z"
   },
   {
    "duration": 4,
    "start_time": "2024-12-12T14:49:42.949Z"
   },
   {
    "duration": 16,
    "start_time": "2024-12-12T14:49:42.954Z"
   },
   {
    "duration": 7,
    "start_time": "2024-12-12T14:49:43.009Z"
   },
   {
    "duration": 6,
    "start_time": "2024-12-12T14:49:43.018Z"
   },
   {
    "duration": 12,
    "start_time": "2024-12-12T14:49:43.026Z"
   },
   {
    "duration": 9,
    "start_time": "2024-12-12T14:49:43.040Z"
   },
   {
    "duration": 13,
    "start_time": "2024-12-12T14:49:43.050Z"
   },
   {
    "duration": 49,
    "start_time": "2024-12-12T14:49:43.064Z"
   },
   {
    "duration": 4,
    "start_time": "2024-12-12T14:49:43.115Z"
   },
   {
    "duration": 9,
    "start_time": "2024-12-12T14:49:43.121Z"
   },
   {
    "duration": 4,
    "start_time": "2024-12-12T14:49:43.132Z"
   },
   {
    "duration": 15,
    "start_time": "2024-12-12T14:49:43.138Z"
   },
   {
    "duration": 9,
    "start_time": "2024-12-12T14:49:43.154Z"
   },
   {
    "duration": 3,
    "start_time": "2024-12-12T14:49:43.165Z"
   },
   {
    "duration": 58,
    "start_time": "2024-12-12T14:49:43.169Z"
   },
   {
    "duration": 19,
    "start_time": "2024-12-12T14:49:43.230Z"
   },
   {
    "duration": 9,
    "start_time": "2024-12-12T14:49:43.251Z"
   },
   {
    "duration": 79,
    "start_time": "2024-12-12T14:49:43.262Z"
   },
   {
    "duration": 6,
    "start_time": "2024-12-12T14:49:43.342Z"
   },
   {
    "duration": 21,
    "start_time": "2024-12-12T14:49:43.349Z"
   },
   {
    "duration": 683,
    "start_time": "2024-12-12T14:51:34.884Z"
   },
   {
    "duration": 6,
    "start_time": "2024-12-12T14:51:58.840Z"
   },
   {
    "duration": 6,
    "start_time": "2024-12-12T14:52:21.032Z"
   },
   {
    "duration": 6,
    "start_time": "2024-12-12T14:53:03.404Z"
   },
   {
    "duration": 8,
    "start_time": "2024-12-12T14:53:55.594Z"
   },
   {
    "duration": 8,
    "start_time": "2024-12-12T14:53:56.873Z"
   },
   {
    "duration": 16,
    "start_time": "2024-12-12T14:55:00.936Z"
   },
   {
    "duration": 17,
    "start_time": "2024-12-12T14:55:08.953Z"
   },
   {
    "duration": 9,
    "start_time": "2024-12-12T14:55:29.787Z"
   },
   {
    "duration": 9,
    "start_time": "2024-12-12T14:56:23.080Z"
   },
   {
    "duration": 9,
    "start_time": "2024-12-12T14:56:32.357Z"
   },
   {
    "duration": 8,
    "start_time": "2024-12-12T14:56:41.069Z"
   },
   {
    "duration": 4,
    "start_time": "2024-12-12T14:57:45.610Z"
   },
   {
    "duration": 2637,
    "start_time": "2024-12-14T23:18:23.842Z"
   },
   {
    "duration": 625,
    "start_time": "2024-12-14T23:18:26.482Z"
   },
   {
    "duration": 18,
    "start_time": "2024-12-14T23:18:27.109Z"
   },
   {
    "duration": 18,
    "start_time": "2024-12-14T23:18:27.129Z"
   },
   {
    "duration": 6,
    "start_time": "2024-12-14T23:18:27.149Z"
   },
   {
    "duration": 14,
    "start_time": "2024-12-14T23:18:27.157Z"
   },
   {
    "duration": 4,
    "start_time": "2024-12-14T23:18:27.173Z"
   },
   {
    "duration": 4,
    "start_time": "2024-12-14T23:18:27.179Z"
   },
   {
    "duration": 14,
    "start_time": "2024-12-14T23:18:27.185Z"
   },
   {
    "duration": 40,
    "start_time": "2024-12-14T23:18:27.203Z"
   },
   {
    "duration": 6,
    "start_time": "2024-12-14T23:18:27.245Z"
   },
   {
    "duration": 13,
    "start_time": "2024-12-14T23:18:27.252Z"
   },
   {
    "duration": 9,
    "start_time": "2024-12-14T23:18:27.267Z"
   },
   {
    "duration": 13,
    "start_time": "2024-12-14T23:18:27.277Z"
   },
   {
    "duration": 14,
    "start_time": "2024-12-14T23:18:27.291Z"
   },
   {
    "duration": 5,
    "start_time": "2024-12-14T23:18:27.344Z"
   },
   {
    "duration": 9,
    "start_time": "2024-12-14T23:18:27.350Z"
   },
   {
    "duration": 3,
    "start_time": "2024-12-14T23:18:27.362Z"
   },
   {
    "duration": 15,
    "start_time": "2024-12-14T23:18:27.367Z"
   },
   {
    "duration": 8,
    "start_time": "2024-12-14T23:18:27.384Z"
   },
   {
    "duration": 2,
    "start_time": "2024-12-14T23:18:27.394Z"
   },
   {
    "duration": 61,
    "start_time": "2024-12-14T23:18:27.397Z"
   },
   {
    "duration": 20,
    "start_time": "2024-12-14T23:18:27.460Z"
   },
   {
    "duration": 12,
    "start_time": "2024-12-14T23:18:27.482Z"
   },
   {
    "duration": 76,
    "start_time": "2024-12-14T23:18:27.495Z"
   },
   {
    "duration": 6,
    "start_time": "2024-12-14T23:18:27.572Z"
   },
   {
    "duration": 17,
    "start_time": "2024-12-14T23:18:27.581Z"
   },
   {
    "duration": 4,
    "start_time": "2024-12-14T23:18:27.601Z"
   },
   {
    "duration": 5,
    "start_time": "2024-12-14T23:31:09.720Z"
   },
   {
    "duration": 6,
    "start_time": "2024-12-14T23:31:29.447Z"
   },
   {
    "duration": 6,
    "start_time": "2024-12-14T23:31:41.510Z"
   },
   {
    "duration": 6,
    "start_time": "2024-12-14T23:31:47.442Z"
   },
   {
    "duration": 5,
    "start_time": "2024-12-14T23:38:24.995Z"
   },
   {
    "duration": 240,
    "start_time": "2024-12-14T23:38:47.838Z"
   },
   {
    "duration": 273,
    "start_time": "2024-12-14T23:39:26.673Z"
   },
   {
    "duration": 227,
    "start_time": "2024-12-14T23:41:23.064Z"
   },
   {
    "duration": 143,
    "start_time": "2024-12-14T23:41:32.452Z"
   },
   {
    "duration": 416,
    "start_time": "2024-12-14T23:41:52.736Z"
   },
   {
    "duration": 1001,
    "start_time": "2024-12-14T23:42:30.820Z"
   },
   {
    "duration": 423,
    "start_time": "2024-12-14T23:42:42.467Z"
   },
   {
    "duration": 556,
    "start_time": "2024-12-14T23:43:34.977Z"
   },
   {
    "duration": 436,
    "start_time": "2024-12-14T23:43:38.712Z"
   },
   {
    "duration": 5,
    "start_time": "2024-12-14T23:46:39.466Z"
   },
   {
    "duration": 572,
    "start_time": "2024-12-14T23:47:10.338Z"
   },
   {
    "duration": 429,
    "start_time": "2024-12-14T23:47:56.533Z"
   },
   {
    "duration": 433,
    "start_time": "2024-12-14T23:47:59.980Z"
   },
   {
    "duration": 542,
    "start_time": "2024-12-14T23:56:55.460Z"
   },
   {
    "duration": 4,
    "start_time": "2024-12-15T00:04:47.441Z"
   },
   {
    "duration": 4,
    "start_time": "2024-12-15T00:04:55.532Z"
   },
   {
    "duration": 3,
    "start_time": "2024-12-15T00:05:26.016Z"
   },
   {
    "duration": 207,
    "start_time": "2024-12-15T00:10:31.699Z"
   },
   {
    "duration": 318,
    "start_time": "2024-12-15T00:11:10.185Z"
   },
   {
    "duration": 316,
    "start_time": "2024-12-15T00:11:33.775Z"
   },
   {
    "duration": 200,
    "start_time": "2024-12-15T00:11:48.201Z"
   },
   {
    "duration": 2657,
    "start_time": "2024-12-15T02:22:53.783Z"
   },
   {
    "duration": 638,
    "start_time": "2024-12-15T02:22:56.443Z"
   },
   {
    "duration": 19,
    "start_time": "2024-12-15T02:22:57.086Z"
   },
   {
    "duration": 5,
    "start_time": "2024-12-15T02:22:57.106Z"
   },
   {
    "duration": 6,
    "start_time": "2024-12-15T02:22:57.114Z"
   },
   {
    "duration": 15,
    "start_time": "2024-12-15T02:22:57.122Z"
   },
   {
    "duration": 4,
    "start_time": "2024-12-15T02:22:57.139Z"
   },
   {
    "duration": 5,
    "start_time": "2024-12-15T02:22:57.144Z"
   },
   {
    "duration": 15,
    "start_time": "2024-12-15T02:22:57.190Z"
   },
   {
    "duration": 7,
    "start_time": "2024-12-15T02:22:57.206Z"
   },
   {
    "duration": 6,
    "start_time": "2024-12-15T02:22:57.215Z"
   },
   {
    "duration": 13,
    "start_time": "2024-12-15T02:22:57.222Z"
   },
   {
    "duration": 9,
    "start_time": "2024-12-15T02:22:57.237Z"
   },
   {
    "duration": 50,
    "start_time": "2024-12-15T02:22:57.248Z"
   },
   {
    "duration": 13,
    "start_time": "2024-12-15T02:22:57.300Z"
   },
   {
    "duration": 4,
    "start_time": "2024-12-15T02:22:57.315Z"
   },
   {
    "duration": 10,
    "start_time": "2024-12-15T02:22:57.321Z"
   },
   {
    "duration": 4,
    "start_time": "2024-12-15T02:22:57.333Z"
   },
   {
    "duration": 49,
    "start_time": "2024-12-15T02:22:57.339Z"
   },
   {
    "duration": 9,
    "start_time": "2024-12-15T02:22:57.390Z"
   },
   {
    "duration": 2,
    "start_time": "2024-12-15T02:22:57.402Z"
   },
   {
    "duration": 23,
    "start_time": "2024-12-15T02:22:57.406Z"
   },
   {
    "duration": 22,
    "start_time": "2024-12-15T02:22:57.432Z"
   },
   {
    "duration": 40,
    "start_time": "2024-12-15T02:22:57.455Z"
   },
   {
    "duration": 56,
    "start_time": "2024-12-15T02:22:57.496Z"
   },
   {
    "duration": 7,
    "start_time": "2024-12-15T02:22:57.554Z"
   },
   {
    "duration": 30,
    "start_time": "2024-12-15T02:22:57.571Z"
   },
   {
    "duration": 4,
    "start_time": "2024-12-15T02:22:57.603Z"
   },
   {
    "duration": 556,
    "start_time": "2024-12-15T02:22:57.609Z"
   },
   {
    "duration": 466,
    "start_time": "2024-12-15T02:22:58.167Z"
   },
   {
    "duration": 558,
    "start_time": "2024-12-15T02:22:58.635Z"
   },
   {
    "duration": 5,
    "start_time": "2024-12-15T02:22:59.195Z"
   },
   {
    "duration": 472,
    "start_time": "2024-12-15T02:22:59.201Z"
   },
   {
    "duration": 463,
    "start_time": "2024-12-15T02:22:59.675Z"
   },
   {
    "duration": 577,
    "start_time": "2024-12-15T02:23:00.140Z"
   },
   {
    "duration": 3,
    "start_time": "2024-12-15T02:23:00.720Z"
   },
   {
    "duration": 233,
    "start_time": "2024-12-15T02:23:00.726Z"
   },
   {
    "duration": 5,
    "start_time": "2024-12-15T02:43:45.111Z"
   },
   {
    "duration": 4,
    "start_time": "2024-12-15T02:44:26.470Z"
   },
   {
    "duration": 233,
    "start_time": "2024-12-15T02:45:02.936Z"
   },
   {
    "duration": 5,
    "start_time": "2024-12-15T02:49:11.313Z"
   },
   {
    "duration": 536,
    "start_time": "2024-12-15T02:49:13.408Z"
   },
   {
    "duration": 465,
    "start_time": "2024-12-15T02:49:17.602Z"
   },
   {
    "duration": 550,
    "start_time": "2024-12-15T02:49:20.783Z"
   },
   {
    "duration": 5,
    "start_time": "2024-12-15T03:44:17.791Z"
   },
   {
    "duration": 2612,
    "start_time": "2024-12-15T21:53:36.874Z"
   },
   {
    "duration": 592,
    "start_time": "2024-12-15T21:53:39.490Z"
   },
   {
    "duration": 26,
    "start_time": "2024-12-15T21:53:40.084Z"
   },
   {
    "duration": 6,
    "start_time": "2024-12-15T21:53:40.112Z"
   },
   {
    "duration": 6,
    "start_time": "2024-12-15T21:53:40.120Z"
   },
   {
    "duration": 15,
    "start_time": "2024-12-15T21:53:40.127Z"
   },
   {
    "duration": 3,
    "start_time": "2024-12-15T21:53:40.144Z"
   },
   {
    "duration": 4,
    "start_time": "2024-12-15T21:53:40.149Z"
   },
   {
    "duration": 50,
    "start_time": "2024-12-15T21:53:40.156Z"
   },
   {
    "duration": 7,
    "start_time": "2024-12-15T21:53:40.207Z"
   },
   {
    "duration": 7,
    "start_time": "2024-12-15T21:53:40.215Z"
   },
   {
    "duration": 12,
    "start_time": "2024-12-15T21:53:40.223Z"
   },
   {
    "duration": 10,
    "start_time": "2024-12-15T21:53:40.237Z"
   },
   {
    "duration": 12,
    "start_time": "2024-12-15T21:53:40.248Z"
   },
   {
    "duration": 48,
    "start_time": "2024-12-15T21:53:40.261Z"
   },
   {
    "duration": 5,
    "start_time": "2024-12-15T21:53:40.311Z"
   },
   {
    "duration": 10,
    "start_time": "2024-12-15T21:53:40.318Z"
   },
   {
    "duration": 3,
    "start_time": "2024-12-15T21:53:40.329Z"
   },
   {
    "duration": 15,
    "start_time": "2024-12-15T21:53:40.334Z"
   },
   {
    "duration": 9,
    "start_time": "2024-12-15T21:53:40.350Z"
   },
   {
    "duration": 2,
    "start_time": "2024-12-15T21:53:40.361Z"
   },
   {
    "duration": 24,
    "start_time": "2024-12-15T21:53:40.405Z"
   },
   {
    "duration": 21,
    "start_time": "2024-12-15T21:53:40.431Z"
   },
   {
    "duration": 10,
    "start_time": "2024-12-15T21:53:40.454Z"
   },
   {
    "duration": 76,
    "start_time": "2024-12-15T21:53:40.466Z"
   },
   {
    "duration": 6,
    "start_time": "2024-12-15T21:53:40.544Z"
   },
   {
    "duration": 17,
    "start_time": "2024-12-15T21:53:40.553Z"
   },
   {
    "duration": 5,
    "start_time": "2024-12-15T21:53:40.571Z"
   },
   {
    "duration": 516,
    "start_time": "2024-12-15T21:53:40.578Z"
   },
   {
    "duration": 426,
    "start_time": "2024-12-15T21:53:41.096Z"
   },
   {
    "duration": 531,
    "start_time": "2024-12-15T21:53:41.523Z"
   },
   {
    "duration": 4,
    "start_time": "2024-12-15T21:53:42.056Z"
   },
   {
    "duration": 225,
    "start_time": "2024-12-15T21:53:42.062Z"
   },
   {
    "duration": 4,
    "start_time": "2024-12-15T21:53:42.289Z"
   },
   {
    "duration": 459,
    "start_time": "2024-12-15T21:53:42.305Z"
   },
   {
    "duration": 547,
    "start_time": "2024-12-15T21:53:42.766Z"
   },
   {
    "duration": 440,
    "start_time": "2024-12-15T21:53:43.316Z"
   },
   {
    "duration": 5,
    "start_time": "2024-12-15T21:55:19.989Z"
   },
   {
    "duration": 675,
    "start_time": "2024-12-15T21:55:41.496Z"
   },
   {
    "duration": 563,
    "start_time": "2024-12-15T21:56:04.274Z"
   },
   {
    "duration": 693,
    "start_time": "2024-12-15T21:56:17.363Z"
   },
   {
    "duration": 138,
    "start_time": "2024-12-15T22:22:51.093Z"
   },
   {
    "duration": 12,
    "start_time": "2024-12-15T22:23:05.223Z"
   },
   {
    "duration": 12,
    "start_time": "2024-12-15T22:23:20.288Z"
   },
   {
    "duration": 546,
    "start_time": "2024-12-15T22:23:29.814Z"
   },
   {
    "duration": 23,
    "start_time": "2024-12-15T22:23:35.328Z"
   },
   {
    "duration": 31,
    "start_time": "2024-12-15T22:24:18.337Z"
   },
   {
    "duration": 24,
    "start_time": "2024-12-15T22:25:23.464Z"
   },
   {
    "duration": 23,
    "start_time": "2024-12-15T22:25:35.450Z"
   },
   {
    "duration": 524,
    "start_time": "2024-12-15T22:44:43.861Z"
   },
   {
    "duration": 14,
    "start_time": "2024-12-15T22:47:44.812Z"
   },
   {
    "duration": 23,
    "start_time": "2024-12-15T22:47:57.839Z"
   },
   {
    "duration": 6,
    "start_time": "2024-12-15T22:48:56.998Z"
   },
   {
    "duration": 8,
    "start_time": "2024-12-15T22:50:08.880Z"
   },
   {
    "duration": 6,
    "start_time": "2024-12-15T22:50:15.199Z"
   },
   {
    "duration": 6,
    "start_time": "2024-12-15T22:50:24.355Z"
   },
   {
    "duration": 4,
    "start_time": "2024-12-15T22:50:52.893Z"
   },
   {
    "duration": 4,
    "start_time": "2024-12-15T22:50:59.901Z"
   },
   {
    "duration": 5,
    "start_time": "2024-12-15T22:51:10.646Z"
   },
   {
    "duration": 17,
    "start_time": "2024-12-15T22:51:31.600Z"
   },
   {
    "duration": 5,
    "start_time": "2024-12-15T22:51:45.647Z"
   },
   {
    "duration": 87,
    "start_time": "2024-12-15T22:52:52.925Z"
   },
   {
    "duration": 7,
    "start_time": "2024-12-15T22:55:02.262Z"
   },
   {
    "duration": 22,
    "start_time": "2024-12-15T22:57:33.484Z"
   },
   {
    "duration": 131,
    "start_time": "2024-12-15T22:57:54.598Z"
   },
   {
    "duration": 143,
    "start_time": "2024-12-15T22:58:12.835Z"
   },
   {
    "duration": 150,
    "start_time": "2024-12-15T22:58:22.107Z"
   },
   {
    "duration": 169,
    "start_time": "2024-12-15T22:58:37.914Z"
   },
   {
    "duration": 25,
    "start_time": "2024-12-15T22:58:57.146Z"
   },
   {
    "duration": 21,
    "start_time": "2024-12-15T23:02:05.475Z"
   },
   {
    "duration": 2211,
    "start_time": "2024-12-15T23:04:54.850Z"
   },
   {
    "duration": 2680,
    "start_time": "2024-12-16T14:55:34.802Z"
   },
   {
    "duration": 610,
    "start_time": "2024-12-16T14:55:37.485Z"
   },
   {
    "duration": 17,
    "start_time": "2024-12-16T14:55:38.097Z"
   },
   {
    "duration": 5,
    "start_time": "2024-12-16T14:55:38.116Z"
   },
   {
    "duration": 6,
    "start_time": "2024-12-16T14:55:38.124Z"
   },
   {
    "duration": 41,
    "start_time": "2024-12-16T14:55:38.131Z"
   },
   {
    "duration": 5,
    "start_time": "2024-12-16T14:55:38.174Z"
   },
   {
    "duration": 5,
    "start_time": "2024-12-16T14:55:38.180Z"
   },
   {
    "duration": 15,
    "start_time": "2024-12-16T14:55:38.187Z"
   },
   {
    "duration": 6,
    "start_time": "2024-12-16T14:55:38.204Z"
   },
   {
    "duration": 6,
    "start_time": "2024-12-16T14:55:38.211Z"
   },
   {
    "duration": 51,
    "start_time": "2024-12-16T14:55:38.219Z"
   },
   {
    "duration": 11,
    "start_time": "2024-12-16T14:55:38.272Z"
   },
   {
    "duration": 14,
    "start_time": "2024-12-16T14:55:38.286Z"
   },
   {
    "duration": 14,
    "start_time": "2024-12-16T14:55:38.302Z"
   },
   {
    "duration": 4,
    "start_time": "2024-12-16T14:55:38.318Z"
   },
   {
    "duration": 9,
    "start_time": "2024-12-16T14:55:38.324Z"
   },
   {
    "duration": 4,
    "start_time": "2024-12-16T14:55:38.371Z"
   },
   {
    "duration": 17,
    "start_time": "2024-12-16T14:55:38.377Z"
   },
   {
    "duration": 9,
    "start_time": "2024-12-16T14:55:38.396Z"
   },
   {
    "duration": 2,
    "start_time": "2024-12-16T14:55:38.406Z"
   },
   {
    "duration": 21,
    "start_time": "2024-12-16T14:55:38.410Z"
   },
   {
    "duration": 103,
    "start_time": "2024-12-16T14:55:38.432Z"
   },
   {
    "duration": 12,
    "start_time": "2024-12-16T14:55:38.537Z"
   },
   {
    "duration": 72,
    "start_time": "2024-12-16T14:55:38.550Z"
   },
   {
    "duration": 6,
    "start_time": "2024-12-16T14:55:38.624Z"
   },
   {
    "duration": 18,
    "start_time": "2024-12-16T14:55:38.632Z"
   },
   {
    "duration": 18,
    "start_time": "2024-12-16T14:55:38.652Z"
   },
   {
    "duration": 472,
    "start_time": "2024-12-16T14:55:38.671Z"
   },
   {
    "duration": 466,
    "start_time": "2024-12-16T14:55:39.145Z"
   },
   {
    "duration": 525,
    "start_time": "2024-12-16T14:55:39.613Z"
   },
   {
    "duration": 5,
    "start_time": "2024-12-16T14:55:40.142Z"
   },
   {
    "duration": 226,
    "start_time": "2024-12-16T14:55:40.149Z"
   },
   {
    "duration": 5,
    "start_time": "2024-12-16T14:55:40.376Z"
   },
   {
    "duration": 633,
    "start_time": "2024-12-16T14:55:40.383Z"
   },
   {
    "duration": 559,
    "start_time": "2024-12-16T14:55:41.018Z"
   },
   {
    "duration": 651,
    "start_time": "2024-12-16T14:55:41.579Z"
   },
   {
    "duration": 23,
    "start_time": "2024-12-16T14:55:42.232Z"
   },
   {
    "duration": 24,
    "start_time": "2024-12-16T14:55:42.256Z"
   },
   {
    "duration": 6,
    "start_time": "2024-12-16T14:55:42.282Z"
   },
   {
    "duration": 23,
    "start_time": "2024-12-16T14:55:52.756Z"
   },
   {
    "duration": 32,
    "start_time": "2024-12-16T15:39:49.416Z"
   },
   {
    "duration": 3,
    "start_time": "2024-12-16T15:43:05.724Z"
   },
   {
    "duration": 2,
    "start_time": "2024-12-16T15:43:07.928Z"
   },
   {
    "duration": 647,
    "start_time": "2024-12-16T16:46:57.397Z"
   },
   {
    "duration": 8,
    "start_time": "2024-12-16T16:49:06.448Z"
   },
   {
    "duration": 8,
    "start_time": "2024-12-16T16:49:47.256Z"
   },
   {
    "duration": 16,
    "start_time": "2024-12-16T17:04:31.206Z"
   },
   {
    "duration": 6,
    "start_time": "2024-12-16T17:04:32.639Z"
   },
   {
    "duration": 3,
    "start_time": "2024-12-16T17:05:21.521Z"
   },
   {
    "duration": 15,
    "start_time": "2024-12-16T17:05:26.008Z"
   },
   {
    "duration": 15,
    "start_time": "2024-12-16T17:05:36.900Z"
   },
   {
    "duration": 15,
    "start_time": "2024-12-16T17:05:48.710Z"
   },
   {
    "duration": 990,
    "start_time": "2024-12-16T17:05:58.815Z"
   },
   {
    "duration": 501,
    "start_time": "2024-12-16T17:05:59.807Z"
   },
   {
    "duration": 18,
    "start_time": "2024-12-16T17:06:00.309Z"
   },
   {
    "duration": 6,
    "start_time": "2024-12-16T17:06:00.328Z"
   },
   {
    "duration": 7,
    "start_time": "2024-12-16T17:06:00.337Z"
   },
   {
    "duration": 34,
    "start_time": "2024-12-16T17:06:00.345Z"
   },
   {
    "duration": 4,
    "start_time": "2024-12-16T17:06:00.382Z"
   },
   {
    "duration": 4,
    "start_time": "2024-12-16T17:06:00.388Z"
   },
   {
    "duration": 14,
    "start_time": "2024-12-16T17:06:00.393Z"
   },
   {
    "duration": 6,
    "start_time": "2024-12-16T17:06:00.409Z"
   },
   {
    "duration": 6,
    "start_time": "2024-12-16T17:06:00.417Z"
   },
   {
    "duration": 49,
    "start_time": "2024-12-16T17:06:00.424Z"
   },
   {
    "duration": 11,
    "start_time": "2024-12-16T17:06:00.475Z"
   },
   {
    "duration": 13,
    "start_time": "2024-12-16T17:06:00.490Z"
   },
   {
    "duration": 15,
    "start_time": "2024-12-16T17:06:00.505Z"
   },
   {
    "duration": 5,
    "start_time": "2024-12-16T17:06:00.522Z"
   },
   {
    "duration": 40,
    "start_time": "2024-12-16T17:06:00.530Z"
   },
   {
    "duration": 4,
    "start_time": "2024-12-16T17:06:00.572Z"
   },
   {
    "duration": 16,
    "start_time": "2024-12-16T17:06:00.577Z"
   },
   {
    "duration": 9,
    "start_time": "2024-12-16T17:06:00.595Z"
   },
   {
    "duration": 2,
    "start_time": "2024-12-16T17:06:00.605Z"
   },
   {
    "duration": 19,
    "start_time": "2024-12-16T17:06:00.608Z"
   },
   {
    "duration": 55,
    "start_time": "2024-12-16T17:06:00.629Z"
   },
   {
    "duration": 9,
    "start_time": "2024-12-16T17:06:00.686Z"
   },
   {
    "duration": 54,
    "start_time": "2024-12-16T17:06:00.697Z"
   },
   {
    "duration": 21,
    "start_time": "2024-12-16T17:06:00.752Z"
   },
   {
    "duration": 18,
    "start_time": "2024-12-16T17:06:00.775Z"
   },
   {
    "duration": 4,
    "start_time": "2024-12-16T17:06:00.795Z"
   },
   {
    "duration": 461,
    "start_time": "2024-12-16T17:06:00.803Z"
   },
   {
    "duration": 533,
    "start_time": "2024-12-16T17:06:01.269Z"
   },
   {
    "duration": 448,
    "start_time": "2024-12-16T17:06:01.804Z"
   },
   {
    "duration": 16,
    "start_time": "2024-12-16T17:06:02.254Z"
   },
   {
    "duration": 214,
    "start_time": "2024-12-16T17:06:02.271Z"
   },
   {
    "duration": 4,
    "start_time": "2024-12-16T17:06:02.487Z"
   },
   {
    "duration": 649,
    "start_time": "2024-12-16T17:06:02.493Z"
   },
   {
    "duration": 558,
    "start_time": "2024-12-16T17:06:03.144Z"
   },
   {
    "duration": 652,
    "start_time": "2024-12-16T17:06:03.704Z"
   },
   {
    "duration": 29,
    "start_time": "2024-12-16T17:06:04.358Z"
   },
   {
    "duration": 15,
    "start_time": "2024-12-16T17:06:04.389Z"
   },
   {
    "duration": 6,
    "start_time": "2024-12-16T17:06:04.406Z"
   },
   {
    "duration": 244,
    "start_time": "2024-12-16T17:06:04.417Z"
   },
   {
    "duration": 0,
    "start_time": "2024-12-16T17:06:04.670Z"
   },
   {
    "duration": 0,
    "start_time": "2024-12-16T17:06:04.671Z"
   },
   {
    "duration": 3,
    "start_time": "2024-12-16T17:06:47.367Z"
   },
   {
    "duration": 3,
    "start_time": "2024-12-16T17:06:55.006Z"
   },
   {
    "duration": 8,
    "start_time": "2024-12-16T17:06:57.058Z"
   },
   {
    "duration": 474,
    "start_time": "2024-12-16T17:06:58.180Z"
   },
   {
    "duration": 14,
    "start_time": "2024-12-16T17:16:08.514Z"
   },
   {
    "duration": 29,
    "start_time": "2024-12-16T17:16:33.984Z"
   },
   {
    "duration": 25,
    "start_time": "2024-12-16T17:16:52.991Z"
   },
   {
    "duration": 243,
    "start_time": "2024-12-16T17:17:03.967Z"
   },
   {
    "duration": 4,
    "start_time": "2024-12-16T17:18:36.177Z"
   },
   {
    "duration": 344,
    "start_time": "2024-12-16T17:19:09.850Z"
   },
   {
    "duration": 4,
    "start_time": "2024-12-16T17:21:56.874Z"
   },
   {
    "duration": 4,
    "start_time": "2024-12-16T17:22:20.813Z"
   },
   {
    "duration": 7,
    "start_time": "2024-12-16T17:22:28.410Z"
   },
   {
    "duration": 400,
    "start_time": "2024-12-16T17:22:29.678Z"
   },
   {
    "duration": 294,
    "start_time": "2024-12-16T17:22:56.579Z"
   },
   {
    "duration": 11,
    "start_time": "2024-12-16T17:47:21.797Z"
   },
   {
    "duration": 15,
    "start_time": "2024-12-16T18:07:45.846Z"
   },
   {
    "duration": 19,
    "start_time": "2024-12-16T18:07:50.678Z"
   },
   {
    "duration": 14,
    "start_time": "2024-12-16T18:08:15.090Z"
   },
   {
    "duration": 14,
    "start_time": "2024-12-16T18:08:20.792Z"
   },
   {
    "duration": 9,
    "start_time": "2024-12-16T18:10:02.483Z"
   },
   {
    "duration": 141,
    "start_time": "2024-12-16T18:10:25.038Z"
   },
   {
    "duration": 61219,
    "start_time": "2024-12-16T18:10:27.559Z"
   },
   {
    "duration": 1134,
    "start_time": "2024-12-16T18:18:25.928Z"
   },
   {
    "duration": 635,
    "start_time": "2024-12-16T18:18:27.065Z"
   },
   {
    "duration": 23,
    "start_time": "2024-12-16T18:18:27.702Z"
   },
   {
    "duration": 5,
    "start_time": "2024-12-16T18:18:27.727Z"
   },
   {
    "duration": 8,
    "start_time": "2024-12-16T18:18:27.736Z"
   },
   {
    "duration": 48,
    "start_time": "2024-12-16T18:18:27.747Z"
   },
   {
    "duration": 5,
    "start_time": "2024-12-16T18:18:27.798Z"
   },
   {
    "duration": 4,
    "start_time": "2024-12-16T18:18:27.805Z"
   },
   {
    "duration": 15,
    "start_time": "2024-12-16T18:18:27.811Z"
   },
   {
    "duration": 6,
    "start_time": "2024-12-16T18:18:27.828Z"
   },
   {
    "duration": 6,
    "start_time": "2024-12-16T18:18:27.836Z"
   },
   {
    "duration": 12,
    "start_time": "2024-12-16T18:18:27.843Z"
   },
   {
    "duration": 26,
    "start_time": "2024-12-16T18:18:27.874Z"
   },
   {
    "duration": 12,
    "start_time": "2024-12-16T18:18:27.905Z"
   },
   {
    "duration": 13,
    "start_time": "2024-12-16T18:18:27.919Z"
   },
   {
    "duration": 5,
    "start_time": "2024-12-16T18:18:27.933Z"
   },
   {
    "duration": 10,
    "start_time": "2024-12-16T18:18:27.941Z"
   },
   {
    "duration": 3,
    "start_time": "2024-12-16T18:18:27.952Z"
   },
   {
    "duration": 45,
    "start_time": "2024-12-16T18:18:27.957Z"
   },
   {
    "duration": 9,
    "start_time": "2024-12-16T18:18:28.004Z"
   },
   {
    "duration": 2,
    "start_time": "2024-12-16T18:18:28.015Z"
   },
   {
    "duration": 20,
    "start_time": "2024-12-16T18:18:28.018Z"
   },
   {
    "duration": 58,
    "start_time": "2024-12-16T18:18:28.039Z"
   },
   {
    "duration": 11,
    "start_time": "2024-12-16T18:18:28.099Z"
   },
   {
    "duration": 54,
    "start_time": "2024-12-16T18:18:28.111Z"
   },
   {
    "duration": 27,
    "start_time": "2024-12-16T18:18:28.167Z"
   },
   {
    "duration": 20,
    "start_time": "2024-12-16T18:18:28.196Z"
   },
   {
    "duration": 4,
    "start_time": "2024-12-16T18:18:28.218Z"
   },
   {
    "duration": 507,
    "start_time": "2024-12-16T18:18:28.224Z"
   },
   {
    "duration": 601,
    "start_time": "2024-12-16T18:18:28.732Z"
   },
   {
    "duration": 505,
    "start_time": "2024-12-16T18:18:29.335Z"
   },
   {
    "duration": 5,
    "start_time": "2024-12-16T18:18:29.841Z"
   },
   {
    "duration": 285,
    "start_time": "2024-12-16T18:18:29.848Z"
   },
   {
    "duration": 4,
    "start_time": "2024-12-16T18:18:30.136Z"
   },
   {
    "duration": 685,
    "start_time": "2024-12-16T18:18:30.142Z"
   },
   {
    "duration": 605,
    "start_time": "2024-12-16T18:18:30.829Z"
   },
   {
    "duration": 724,
    "start_time": "2024-12-16T18:18:31.436Z"
   },
   {
    "duration": 44,
    "start_time": "2024-12-16T18:18:32.162Z"
   },
   {
    "duration": 12,
    "start_time": "2024-12-16T18:18:32.208Z"
   },
   {
    "duration": 6,
    "start_time": "2024-12-16T18:18:32.222Z"
   },
   {
    "duration": 3,
    "start_time": "2024-12-16T18:18:32.232Z"
   },
   {
    "duration": 12,
    "start_time": "2024-12-16T18:18:32.237Z"
   },
   {
    "duration": 15269,
    "start_time": "2024-12-16T18:18:32.251Z"
   },
   {
    "duration": 58842,
    "start_time": "2024-12-16T18:18:47.522Z"
   },
   {
    "duration": 437,
    "start_time": "2024-12-16T18:19:46.369Z"
   },
   {
    "duration": 402,
    "start_time": "2024-12-16T18:28:49.639Z"
   },
   {
    "duration": 3433,
    "start_time": "2024-12-16T18:28:51.679Z"
   },
   {
    "duration": 2693,
    "start_time": "2024-12-16T19:05:39.109Z"
   },
   {
    "duration": 2847,
    "start_time": "2024-12-16T19:05:53.747Z"
   },
   {
    "duration": 4,
    "start_time": "2024-12-16T19:49:45.589Z"
   },
   {
    "duration": 1121,
    "start_time": "2024-12-16T19:49:53.589Z"
   },
   {
    "duration": 601,
    "start_time": "2024-12-16T19:49:54.714Z"
   },
   {
    "duration": 19,
    "start_time": "2024-12-16T19:49:55.317Z"
   },
   {
    "duration": 7,
    "start_time": "2024-12-16T19:49:55.339Z"
   },
   {
    "duration": 7,
    "start_time": "2024-12-16T19:49:55.348Z"
   },
   {
    "duration": 32,
    "start_time": "2024-12-16T19:49:55.357Z"
   },
   {
    "duration": 5,
    "start_time": "2024-12-16T19:49:55.391Z"
   },
   {
    "duration": 5,
    "start_time": "2024-12-16T19:49:55.398Z"
   },
   {
    "duration": 17,
    "start_time": "2024-12-16T19:49:55.405Z"
   },
   {
    "duration": 8,
    "start_time": "2024-12-16T19:49:55.428Z"
   },
   {
    "duration": 8,
    "start_time": "2024-12-16T19:49:55.438Z"
   },
   {
    "duration": 36,
    "start_time": "2024-12-16T19:49:55.475Z"
   },
   {
    "duration": 12,
    "start_time": "2024-12-16T19:49:55.513Z"
   },
   {
    "duration": 16,
    "start_time": "2024-12-16T19:49:55.527Z"
   },
   {
    "duration": 15,
    "start_time": "2024-12-16T19:49:55.545Z"
   },
   {
    "duration": 5,
    "start_time": "2024-12-16T19:49:55.562Z"
   },
   {
    "duration": 33,
    "start_time": "2024-12-16T19:49:55.578Z"
   },
   {
    "duration": 4,
    "start_time": "2024-12-16T19:49:55.613Z"
   },
   {
    "duration": 20,
    "start_time": "2024-12-16T19:49:55.619Z"
   },
   {
    "duration": 9,
    "start_time": "2024-12-16T19:49:55.641Z"
   },
   {
    "duration": 3,
    "start_time": "2024-12-16T19:49:55.652Z"
   },
   {
    "duration": 51,
    "start_time": "2024-12-16T19:49:55.656Z"
   },
   {
    "duration": 26,
    "start_time": "2024-12-16T19:49:55.709Z"
   },
   {
    "duration": 12,
    "start_time": "2024-12-16T19:49:55.737Z"
   },
   {
    "duration": 77,
    "start_time": "2024-12-16T19:49:55.751Z"
   },
   {
    "duration": 8,
    "start_time": "2024-12-16T19:49:55.830Z"
   },
   {
    "duration": 23,
    "start_time": "2024-12-16T19:49:55.846Z"
   },
   {
    "duration": 9,
    "start_time": "2024-12-16T19:49:55.873Z"
   },
   {
    "duration": 574,
    "start_time": "2024-12-16T19:49:55.883Z"
   },
   {
    "duration": 641,
    "start_time": "2024-12-16T19:49:56.460Z"
   },
   {
    "duration": 602,
    "start_time": "2024-12-16T19:49:57.103Z"
   },
   {
    "duration": 11,
    "start_time": "2024-12-16T19:49:57.707Z"
   },
   {
    "duration": 304,
    "start_time": "2024-12-16T19:49:57.720Z"
   },
   {
    "duration": 7,
    "start_time": "2024-12-16T19:49:58.026Z"
   },
   {
    "duration": 786,
    "start_time": "2024-12-16T19:49:58.036Z"
   },
   {
    "duration": 692,
    "start_time": "2024-12-16T19:49:58.824Z"
   },
   {
    "duration": 796,
    "start_time": "2024-12-16T19:49:59.519Z"
   },
   {
    "duration": 27,
    "start_time": "2024-12-16T19:50:00.318Z"
   },
   {
    "duration": 14,
    "start_time": "2024-12-16T19:50:00.347Z"
   },
   {
    "duration": 7,
    "start_time": "2024-12-16T19:50:00.362Z"
   },
   {
    "duration": 11,
    "start_time": "2024-12-16T19:50:00.378Z"
   },
   {
    "duration": 22,
    "start_time": "2024-12-16T19:50:00.391Z"
   },
   {
    "duration": 15268,
    "start_time": "2024-12-16T19:50:00.417Z"
   },
   {
    "duration": 59323,
    "start_time": "2024-12-16T19:50:15.692Z"
   },
   {
    "duration": 378,
    "start_time": "2024-12-16T19:51:15.017Z"
   },
   {
    "duration": 2825,
    "start_time": "2024-12-16T19:51:15.404Z"
   },
   {
    "duration": 358,
    "start_time": "2024-12-16T19:51:18.231Z"
   },
   {
    "duration": 3,
    "start_time": "2024-12-16T19:57:44.104Z"
   },
   {
    "duration": 1092,
    "start_time": "2024-12-16T19:57:50.250Z"
   },
   {
    "duration": 672,
    "start_time": "2024-12-16T19:57:51.344Z"
   },
   {
    "duration": 22,
    "start_time": "2024-12-16T19:57:52.018Z"
   },
   {
    "duration": 6,
    "start_time": "2024-12-16T19:57:52.042Z"
   },
   {
    "duration": 8,
    "start_time": "2024-12-16T19:57:52.051Z"
   },
   {
    "duration": 22,
    "start_time": "2024-12-16T19:57:52.061Z"
   },
   {
    "duration": 32,
    "start_time": "2024-12-16T19:57:52.085Z"
   },
   {
    "duration": 4,
    "start_time": "2024-12-16T19:57:52.119Z"
   },
   {
    "duration": 18,
    "start_time": "2024-12-16T19:57:52.125Z"
   },
   {
    "duration": 8,
    "start_time": "2024-12-16T19:57:52.145Z"
   },
   {
    "duration": 7,
    "start_time": "2024-12-16T19:57:52.155Z"
   },
   {
    "duration": 42,
    "start_time": "2024-12-16T19:57:52.164Z"
   },
   {
    "duration": 12,
    "start_time": "2024-12-16T19:57:52.208Z"
   },
   {
    "duration": 13,
    "start_time": "2024-12-16T19:57:52.225Z"
   },
   {
    "duration": 15,
    "start_time": "2024-12-16T19:57:52.240Z"
   },
   {
    "duration": 34,
    "start_time": "2024-12-16T19:57:52.257Z"
   },
   {
    "duration": 15,
    "start_time": "2024-12-16T19:57:52.310Z"
   },
   {
    "duration": 4,
    "start_time": "2024-12-16T19:57:52.328Z"
   },
   {
    "duration": 24,
    "start_time": "2024-12-16T19:57:52.334Z"
   },
   {
    "duration": 28,
    "start_time": "2024-12-16T19:57:52.360Z"
   },
   {
    "duration": 4,
    "start_time": "2024-12-16T19:57:52.406Z"
   },
   {
    "duration": 25,
    "start_time": "2024-12-16T19:57:52.412Z"
   },
   {
    "duration": 27,
    "start_time": "2024-12-16T19:57:52.439Z"
   },
   {
    "duration": 20,
    "start_time": "2024-12-16T19:57:52.467Z"
   },
   {
    "duration": 78,
    "start_time": "2024-12-16T19:57:52.502Z"
   },
   {
    "duration": 11,
    "start_time": "2024-12-16T19:57:52.582Z"
   },
   {
    "duration": 24,
    "start_time": "2024-12-16T19:57:52.595Z"
   },
   {
    "duration": 5,
    "start_time": "2024-12-16T19:57:52.621Z"
   },
   {
    "duration": 586,
    "start_time": "2024-12-16T19:57:52.628Z"
   },
   {
    "duration": 604,
    "start_time": "2024-12-16T19:57:53.216Z"
   },
   {
    "duration": 523,
    "start_time": "2024-12-16T19:57:53.822Z"
   },
   {
    "duration": 8,
    "start_time": "2024-12-16T19:57:54.347Z"
   },
   {
    "duration": 263,
    "start_time": "2024-12-16T19:57:54.358Z"
   },
   {
    "duration": 5,
    "start_time": "2024-12-16T19:57:54.622Z"
   },
   {
    "duration": 751,
    "start_time": "2024-12-16T19:57:54.630Z"
   },
   {
    "duration": 648,
    "start_time": "2024-12-16T19:57:55.383Z"
   },
   {
    "duration": 800,
    "start_time": "2024-12-16T19:57:56.034Z"
   },
   {
    "duration": 23,
    "start_time": "2024-12-16T19:57:56.836Z"
   },
   {
    "duration": 36,
    "start_time": "2024-12-16T19:57:56.861Z"
   },
   {
    "duration": 7,
    "start_time": "2024-12-16T19:57:56.916Z"
   },
   {
    "duration": 2,
    "start_time": "2024-12-16T19:57:56.929Z"
   },
   {
    "duration": 14,
    "start_time": "2024-12-16T19:57:56.933Z"
   },
   {
    "duration": 15369,
    "start_time": "2024-12-16T19:57:56.949Z"
   },
   {
    "duration": 59525,
    "start_time": "2024-12-16T19:58:12.320Z"
   },
   {
    "duration": 529,
    "start_time": "2024-12-16T19:59:11.847Z"
   },
   {
    "duration": 2536,
    "start_time": "2024-12-16T19:59:12.386Z"
   },
   {
    "duration": 314,
    "start_time": "2024-12-16T19:59:14.932Z"
   },
   {
    "duration": 15,
    "start_time": "2024-12-16T20:04:20.094Z"
   },
   {
    "duration": 20,
    "start_time": "2024-12-16T20:04:54.495Z"
   },
   {
    "duration": 255,
    "start_time": "2024-12-16T20:06:23.070Z"
   },
   {
    "duration": 21,
    "start_time": "2024-12-16T20:11:48.640Z"
   },
   {
    "duration": 417,
    "start_time": "2024-12-16T20:13:56.297Z"
   },
   {
    "duration": 38,
    "start_time": "2024-12-16T20:14:01.207Z"
   },
   {
    "duration": 67,
    "start_time": "2024-12-16T20:15:06.659Z"
   },
   {
    "duration": 33,
    "start_time": "2024-12-16T20:22:31.468Z"
   },
   {
    "duration": 6,
    "start_time": "2024-12-16T20:23:16.609Z"
   },
   {
    "duration": 5,
    "start_time": "2024-12-16T20:24:06.298Z"
   },
   {
    "duration": 31,
    "start_time": "2024-12-16T20:24:42.135Z"
   },
   {
    "duration": 1026,
    "start_time": "2024-12-16T20:25:10.241Z"
   },
   {
    "duration": 576,
    "start_time": "2024-12-16T20:25:11.271Z"
   },
   {
    "duration": 23,
    "start_time": "2024-12-16T20:25:11.849Z"
   },
   {
    "duration": 6,
    "start_time": "2024-12-16T20:25:11.875Z"
   },
   {
    "duration": 6,
    "start_time": "2024-12-16T20:25:11.883Z"
   },
   {
    "duration": 16,
    "start_time": "2024-12-16T20:25:11.891Z"
   },
   {
    "duration": 5,
    "start_time": "2024-12-16T20:25:11.909Z"
   },
   {
    "duration": 5,
    "start_time": "2024-12-16T20:25:11.916Z"
   },
   {
    "duration": 55,
    "start_time": "2024-12-16T20:25:11.922Z"
   },
   {
    "duration": 6,
    "start_time": "2024-12-16T20:25:11.981Z"
   },
   {
    "duration": 15,
    "start_time": "2024-12-16T20:25:11.989Z"
   },
   {
    "duration": 16,
    "start_time": "2024-12-16T20:25:12.005Z"
   },
   {
    "duration": 11,
    "start_time": "2024-12-16T20:25:12.023Z"
   },
   {
    "duration": 43,
    "start_time": "2024-12-16T20:25:12.036Z"
   },
   {
    "duration": 15,
    "start_time": "2024-12-16T20:25:12.081Z"
   },
   {
    "duration": 5,
    "start_time": "2024-12-16T20:25:12.098Z"
   },
   {
    "duration": 12,
    "start_time": "2024-12-16T20:25:12.106Z"
   },
   {
    "duration": 4,
    "start_time": "2024-12-16T20:25:12.120Z"
   },
   {
    "duration": 48,
    "start_time": "2024-12-16T20:25:12.126Z"
   },
   {
    "duration": 10,
    "start_time": "2024-12-16T20:25:12.177Z"
   },
   {
    "duration": 2,
    "start_time": "2024-12-16T20:25:12.189Z"
   },
   {
    "duration": 24,
    "start_time": "2024-12-16T20:25:12.193Z"
   },
   {
    "duration": 26,
    "start_time": "2024-12-16T20:25:12.220Z"
   },
   {
    "duration": 24,
    "start_time": "2024-12-16T20:25:12.270Z"
   },
   {
    "duration": 10,
    "start_time": "2024-12-16T20:25:12.296Z"
   },
   {
    "duration": 90,
    "start_time": "2024-12-16T20:25:12.308Z"
   },
   {
    "duration": 8,
    "start_time": "2024-12-16T20:25:12.399Z"
   },
   {
    "duration": 19,
    "start_time": "2024-12-16T20:25:12.413Z"
   },
   {
    "duration": 6,
    "start_time": "2024-12-16T20:25:12.434Z"
   },
   {
    "duration": 540,
    "start_time": "2024-12-16T20:25:12.441Z"
   },
   {
    "duration": 563,
    "start_time": "2024-12-16T20:25:12.983Z"
   },
   {
    "duration": 533,
    "start_time": "2024-12-16T20:25:13.548Z"
   },
   {
    "duration": 4,
    "start_time": "2024-12-16T20:25:14.083Z"
   },
   {
    "duration": 228,
    "start_time": "2024-12-16T20:25:14.089Z"
   },
   {
    "duration": 7,
    "start_time": "2024-12-16T20:25:14.319Z"
   },
   {
    "duration": 748,
    "start_time": "2024-12-16T20:25:14.328Z"
   },
   {
    "duration": 572,
    "start_time": "2024-12-16T20:25:15.078Z"
   },
   {
    "duration": 761,
    "start_time": "2024-12-16T20:25:15.652Z"
   },
   {
    "duration": 27,
    "start_time": "2024-12-16T20:25:16.417Z"
   },
   {
    "duration": 12,
    "start_time": "2024-12-16T20:25:16.446Z"
   },
   {
    "duration": 11,
    "start_time": "2024-12-16T20:25:16.460Z"
   },
   {
    "duration": 5,
    "start_time": "2024-12-16T20:25:16.473Z"
   },
   {
    "duration": 14,
    "start_time": "2024-12-16T20:25:16.481Z"
   },
   {
    "duration": 14452,
    "start_time": "2024-12-16T20:25:16.497Z"
   },
   {
    "duration": 56919,
    "start_time": "2024-12-16T20:25:30.951Z"
   },
   {
    "duration": 313,
    "start_time": "2024-12-16T20:26:27.872Z"
   },
   {
    "duration": 1812,
    "start_time": "2024-12-16T20:26:28.187Z"
   },
   {
    "duration": 547,
    "start_time": "2024-12-16T20:26:30.001Z"
   },
   {
    "duration": 0,
    "start_time": "2024-12-16T20:26:30.550Z"
   },
   {
    "duration": 11,
    "start_time": "2024-12-16T20:35:56.744Z"
   },
   {
    "duration": 26,
    "start_time": "2024-12-16T20:36:03.519Z"
   },
   {
    "duration": 18,
    "start_time": "2024-12-16T20:36:07.499Z"
   },
   {
    "duration": 11,
    "start_time": "2024-12-16T20:38:18.361Z"
   },
   {
    "duration": 3,
    "start_time": "2024-12-16T20:38:20.238Z"
   },
   {
    "duration": 4,
    "start_time": "2024-12-16T20:38:31.576Z"
   },
   {
    "duration": 23,
    "start_time": "2024-12-16T20:42:13.787Z"
   },
   {
    "duration": 3,
    "start_time": "2024-12-16T20:42:15.325Z"
   },
   {
    "duration": 6,
    "start_time": "2024-12-16T20:44:42.367Z"
   },
   {
    "duration": 34,
    "start_time": "2024-12-16T20:47:38.086Z"
   },
   {
    "duration": 4,
    "start_time": "2024-12-16T20:47:39.927Z"
   },
   {
    "duration": 34,
    "start_time": "2024-12-16T21:11:05.163Z"
   },
   {
    "duration": 8,
    "start_time": "2024-12-16T21:11:10.388Z"
   },
   {
    "duration": 480555,
    "start_time": "2024-12-16T21:11:18.066Z"
   },
   {
    "duration": 133197,
    "start_time": "2024-12-16T21:24:58.196Z"
   },
   {
    "duration": 520177,
    "start_time": "2024-12-16T21:27:20.124Z"
   },
   {
    "duration": 56,
    "start_time": "2024-12-16T21:37:11.100Z"
   },
   {
    "duration": 4,
    "start_time": "2024-12-16T21:37:14.139Z"
   },
   {
    "duration": 2739,
    "start_time": "2024-12-16T22:57:05.976Z"
   },
   {
    "duration": 677,
    "start_time": "2024-12-16T22:57:08.717Z"
   },
   {
    "duration": 17,
    "start_time": "2024-12-16T22:57:09.396Z"
   },
   {
    "duration": 5,
    "start_time": "2024-12-16T22:57:09.415Z"
   },
   {
    "duration": 6,
    "start_time": "2024-12-16T22:57:09.422Z"
   },
   {
    "duration": 15,
    "start_time": "2024-12-16T22:57:09.429Z"
   },
   {
    "duration": 5,
    "start_time": "2024-12-16T22:57:09.470Z"
   },
   {
    "duration": 5,
    "start_time": "2024-12-16T22:57:09.476Z"
   },
   {
    "duration": 14,
    "start_time": "2024-12-16T22:57:09.483Z"
   },
   {
    "duration": 6,
    "start_time": "2024-12-16T22:57:09.501Z"
   },
   {
    "duration": 6,
    "start_time": "2024-12-16T22:57:09.509Z"
   },
   {
    "duration": 14,
    "start_time": "2024-12-16T22:57:09.517Z"
   },
   {
    "duration": 65,
    "start_time": "2024-12-16T22:57:09.570Z"
   },
   {
    "duration": 14,
    "start_time": "2024-12-16T22:57:09.636Z"
   },
   {
    "duration": 29,
    "start_time": "2024-12-16T22:57:09.651Z"
   },
   {
    "duration": 4,
    "start_time": "2024-12-16T22:57:09.682Z"
   },
   {
    "duration": 9,
    "start_time": "2024-12-16T22:57:09.688Z"
   },
   {
    "duration": 4,
    "start_time": "2024-12-16T22:57:09.699Z"
   },
   {
    "duration": 15,
    "start_time": "2024-12-16T22:57:09.705Z"
   },
   {
    "duration": 8,
    "start_time": "2024-12-16T22:57:09.724Z"
   },
   {
    "duration": 36,
    "start_time": "2024-12-16T22:57:09.734Z"
   },
   {
    "duration": 19,
    "start_time": "2024-12-16T22:57:09.772Z"
   },
   {
    "duration": 19,
    "start_time": "2024-12-16T22:57:09.794Z"
   },
   {
    "duration": 20,
    "start_time": "2024-12-16T22:57:09.815Z"
   },
   {
    "duration": 34,
    "start_time": "2024-12-16T22:57:09.837Z"
   },
   {
    "duration": 54,
    "start_time": "2024-12-16T22:57:09.872Z"
   },
   {
    "duration": 6,
    "start_time": "2024-12-16T22:57:09.928Z"
   },
   {
    "duration": 38,
    "start_time": "2024-12-16T22:57:09.938Z"
   },
   {
    "duration": 5,
    "start_time": "2024-12-16T22:57:09.977Z"
   },
   {
    "duration": 497,
    "start_time": "2024-12-16T22:57:09.983Z"
   },
   {
    "duration": 439,
    "start_time": "2024-12-16T22:57:10.482Z"
   },
   {
    "duration": 532,
    "start_time": "2024-12-16T22:57:10.922Z"
   },
   {
    "duration": 5,
    "start_time": "2024-12-16T22:57:11.456Z"
   },
   {
    "duration": 217,
    "start_time": "2024-12-16T22:57:11.462Z"
   },
   {
    "duration": 5,
    "start_time": "2024-12-16T22:57:11.681Z"
   },
   {
    "duration": 642,
    "start_time": "2024-12-16T22:57:11.687Z"
   },
   {
    "duration": 569,
    "start_time": "2024-12-16T22:57:12.330Z"
   },
   {
    "duration": 651,
    "start_time": "2024-12-16T22:57:12.901Z"
   },
   {
    "duration": 32,
    "start_time": "2024-12-16T22:57:13.554Z"
   },
   {
    "duration": 11,
    "start_time": "2024-12-16T22:57:13.589Z"
   },
   {
    "duration": 6,
    "start_time": "2024-12-16T22:57:13.602Z"
   },
   {
    "duration": 4,
    "start_time": "2024-12-16T22:57:13.610Z"
   },
   {
    "duration": 12,
    "start_time": "2024-12-16T22:57:13.615Z"
   },
   {
    "duration": 121919,
    "start_time": "2024-12-16T22:57:13.629Z"
   },
   {
    "duration": 452858,
    "start_time": "2024-12-16T22:59:15.550Z"
   },
   {
    "duration": 669606,
    "start_time": "2024-12-16T23:06:48.410Z"
   },
   {
    "duration": 863,
    "start_time": "2024-12-16T23:17:58.018Z"
   },
   {
    "duration": 2938,
    "start_time": "2024-12-16T23:17:58.883Z"
   },
   {
    "duration": 133,
    "start_time": "2024-12-16T23:18:01.879Z"
   },
   {
    "duration": 61,
    "start_time": "2024-12-16T23:18:02.016Z"
   },
   {
    "duration": 697,
    "start_time": "2024-12-16T23:18:20.538Z"
   },
   {
    "duration": 6,
    "start_time": "2024-12-16T23:18:33.852Z"
   },
   {
    "duration": 14,
    "start_time": "2024-12-16T23:22:30.091Z"
   },
   {
    "duration": 6,
    "start_time": "2024-12-16T23:22:54.259Z"
   },
   {
    "duration": 2,
    "start_time": "2024-12-16T23:31:53.019Z"
   },
   {
    "duration": 2739,
    "start_time": "2024-12-17T01:43:09.725Z"
   },
   {
    "duration": 625,
    "start_time": "2024-12-17T01:43:12.467Z"
   },
   {
    "duration": 17,
    "start_time": "2024-12-17T01:43:13.094Z"
   },
   {
    "duration": 6,
    "start_time": "2024-12-17T01:43:13.114Z"
   },
   {
    "duration": 6,
    "start_time": "2024-12-17T01:43:13.131Z"
   },
   {
    "duration": 16,
    "start_time": "2024-12-17T01:43:13.139Z"
   },
   {
    "duration": 3,
    "start_time": "2024-12-17T01:43:13.157Z"
   },
   {
    "duration": 4,
    "start_time": "2024-12-17T01:43:13.162Z"
   },
   {
    "duration": 18,
    "start_time": "2024-12-17T01:43:13.168Z"
   },
   {
    "duration": 44,
    "start_time": "2024-12-17T01:43:13.190Z"
   },
   {
    "duration": 7,
    "start_time": "2024-12-17T01:43:13.236Z"
   },
   {
    "duration": 13,
    "start_time": "2024-12-17T01:43:13.244Z"
   },
   {
    "duration": 11,
    "start_time": "2024-12-17T01:43:13.258Z"
   },
   {
    "duration": 13,
    "start_time": "2024-12-17T01:43:13.271Z"
   },
   {
    "duration": 52,
    "start_time": "2024-12-17T01:43:13.287Z"
   },
   {
    "duration": 6,
    "start_time": "2024-12-17T01:43:13.341Z"
   },
   {
    "duration": 10,
    "start_time": "2024-12-17T01:43:13.348Z"
   },
   {
    "duration": 4,
    "start_time": "2024-12-17T01:43:13.360Z"
   },
   {
    "duration": 16,
    "start_time": "2024-12-17T01:43:13.366Z"
   },
   {
    "duration": 9,
    "start_time": "2024-12-17T01:43:13.385Z"
   },
   {
    "duration": 4,
    "start_time": "2024-12-17T01:43:13.395Z"
   },
   {
    "duration": 50,
    "start_time": "2024-12-17T01:43:13.400Z"
   },
   {
    "duration": 20,
    "start_time": "2024-12-17T01:43:13.452Z"
   },
   {
    "duration": 21,
    "start_time": "2024-12-17T01:43:13.474Z"
   },
   {
    "duration": 35,
    "start_time": "2024-12-17T01:43:13.497Z"
   },
   {
    "duration": 58,
    "start_time": "2024-12-17T01:43:13.534Z"
   },
   {
    "duration": 7,
    "start_time": "2024-12-17T01:43:13.594Z"
   },
   {
    "duration": 39,
    "start_time": "2024-12-17T01:43:13.607Z"
   },
   {
    "duration": 5,
    "start_time": "2024-12-17T01:43:13.648Z"
   },
   {
    "duration": 576,
    "start_time": "2024-12-17T01:43:13.655Z"
   },
   {
    "duration": 450,
    "start_time": "2024-12-17T01:43:14.233Z"
   },
   {
    "duration": 574,
    "start_time": "2024-12-17T01:43:14.685Z"
   },
   {
    "duration": 5,
    "start_time": "2024-12-17T01:43:15.261Z"
   },
   {
    "duration": 224,
    "start_time": "2024-12-17T01:43:15.268Z"
   },
   {
    "duration": 5,
    "start_time": "2024-12-17T01:43:15.494Z"
   },
   {
    "duration": 589,
    "start_time": "2024-12-17T01:43:15.500Z"
   },
   {
    "duration": 662,
    "start_time": "2024-12-17T01:43:16.091Z"
   },
   {
    "duration": 567,
    "start_time": "2024-12-17T01:43:16.756Z"
   },
   {
    "duration": 28,
    "start_time": "2024-12-17T01:43:17.324Z"
   },
   {
    "duration": 12,
    "start_time": "2024-12-17T01:43:17.353Z"
   },
   {
    "duration": 6,
    "start_time": "2024-12-17T01:43:17.367Z"
   },
   {
    "duration": 17,
    "start_time": "2024-12-17T01:43:17.375Z"
   },
   {
    "duration": 3,
    "start_time": "2024-12-17T01:43:17.394Z"
   },
   {
    "duration": 126,
    "start_time": "2024-12-17T01:43:17.399Z"
   },
   {
    "duration": 122259,
    "start_time": "2024-12-17T01:43:17.530Z"
   },
   {
    "duration": 3,
    "start_time": "2024-12-17T01:45:19.791Z"
   },
   {
    "duration": 476253,
    "start_time": "2024-12-17T01:45:19.795Z"
   },
   {
    "duration": 198,
    "start_time": "2024-12-17T01:53:16.050Z"
   },
   {
    "duration": 1492,
    "start_time": "2024-12-17T01:53:16.250Z"
   },
   {
    "duration": 136,
    "start_time": "2024-12-17T01:53:17.744Z"
   },
   {
    "duration": 9,
    "start_time": "2024-12-17T01:53:17.936Z"
   },
   {
    "duration": 83,
    "start_time": "2024-12-17T01:53:17.951Z"
   },
   {
    "duration": 241,
    "start_time": "2024-12-17T02:24:23.191Z"
   },
   {
    "duration": 6681835,
    "start_time": "2024-12-17T02:25:22.496Z"
   },
   {
    "duration": 16,
    "start_time": "2024-12-17T04:17:08.164Z"
   },
   {
    "duration": 3,
    "start_time": "2024-12-17T04:17:13.385Z"
   },
   {
    "duration": 2024,
    "start_time": "2024-12-17T04:17:27.523Z"
   },
   {
    "duration": 7906,
    "start_time": "2024-12-17T04:17:31.510Z"
   },
   {
    "duration": 61,
    "start_time": "2024-12-17T04:17:43.492Z"
   },
   {
    "duration": 3,
    "start_time": "2024-12-17T04:17:47.484Z"
   },
   {
    "duration": 4,
    "start_time": "2024-12-17T04:18:21.583Z"
   },
   {
    "duration": 3,
    "start_time": "2024-12-17T04:19:04.593Z"
   },
   {
    "duration": 7933,
    "start_time": "2024-12-17T04:20:54.056Z"
   },
   {
    "duration": 1159,
    "start_time": "2024-12-17T04:21:23.345Z"
   },
   {
    "duration": 4605,
    "start_time": "2024-12-17T04:21:26.315Z"
   },
   {
    "duration": 2535,
    "start_time": "2024-12-17T04:21:42.599Z"
   },
   {
    "duration": 9943,
    "start_time": "2024-12-17T04:21:46.990Z"
   },
   {
    "duration": 61,
    "start_time": "2024-12-17T04:22:10.040Z"
   },
   {
    "duration": 544,
    "start_time": "2024-12-17T04:23:42.607Z"
   },
   {
    "duration": 60,
    "start_time": "2024-12-17T04:24:11.483Z"
   },
   {
    "duration": 4,
    "start_time": "2024-12-17T04:24:14.094Z"
   },
   {
    "duration": 1903,
    "start_time": "2024-12-17T04:24:28.381Z"
   },
   {
    "duration": 7341,
    "start_time": "2024-12-17T04:24:31.146Z"
   },
   {
    "duration": 61,
    "start_time": "2024-12-17T04:24:42.206Z"
   },
   {
    "duration": 3,
    "start_time": "2024-12-17T04:24:45.380Z"
   },
   {
    "duration": 2020,
    "start_time": "2024-12-17T04:24:55.415Z"
   },
   {
    "duration": 2657,
    "start_time": "2024-12-17T15:10:38.801Z"
   },
   {
    "duration": 609,
    "start_time": "2024-12-17T15:10:41.460Z"
   },
   {
    "duration": 18,
    "start_time": "2024-12-17T15:10:42.071Z"
   },
   {
    "duration": 6,
    "start_time": "2024-12-17T15:10:42.091Z"
   },
   {
    "duration": 6,
    "start_time": "2024-12-17T15:10:42.100Z"
   },
   {
    "duration": 15,
    "start_time": "2024-12-17T15:10:42.124Z"
   },
   {
    "duration": 4,
    "start_time": "2024-12-17T15:10:42.141Z"
   },
   {
    "duration": 4,
    "start_time": "2024-12-17T15:10:42.147Z"
   },
   {
    "duration": 15,
    "start_time": "2024-12-17T15:10:42.153Z"
   },
   {
    "duration": 6,
    "start_time": "2024-12-17T15:10:42.170Z"
   },
   {
    "duration": 46,
    "start_time": "2024-12-17T15:10:42.178Z"
   },
   {
    "duration": 13,
    "start_time": "2024-12-17T15:10:42.226Z"
   },
   {
    "duration": 10,
    "start_time": "2024-12-17T15:10:42.240Z"
   },
   {
    "duration": 13,
    "start_time": "2024-12-17T15:10:42.254Z"
   },
   {
    "duration": 12,
    "start_time": "2024-12-17T15:10:42.269Z"
   },
   {
    "duration": 5,
    "start_time": "2024-12-17T15:10:42.283Z"
   },
   {
    "duration": 42,
    "start_time": "2024-12-17T15:10:42.289Z"
   },
   {
    "duration": 4,
    "start_time": "2024-12-17T15:10:42.333Z"
   },
   {
    "duration": 16,
    "start_time": "2024-12-17T15:10:42.338Z"
   },
   {
    "duration": 9,
    "start_time": "2024-12-17T15:10:42.356Z"
   },
   {
    "duration": 3,
    "start_time": "2024-12-17T15:10:42.366Z"
   },
   {
    "duration": 56,
    "start_time": "2024-12-17T15:10:42.370Z"
   },
   {
    "duration": 19,
    "start_time": "2024-12-17T15:10:42.428Z"
   },
   {
    "duration": 20,
    "start_time": "2024-12-17T15:10:42.449Z"
   },
   {
    "duration": 9,
    "start_time": "2024-12-17T15:10:42.471Z"
   },
   {
    "duration": 83,
    "start_time": "2024-12-17T15:10:42.482Z"
   },
   {
    "duration": 7,
    "start_time": "2024-12-17T15:10:42.567Z"
   },
   {
    "duration": 17,
    "start_time": "2024-12-17T15:10:42.575Z"
   },
   {
    "duration": 4,
    "start_time": "2024-12-17T15:10:42.594Z"
   },
   {
    "duration": 527,
    "start_time": "2024-12-17T15:10:42.600Z"
   },
   {
    "duration": 441,
    "start_time": "2024-12-17T15:10:43.128Z"
   },
   {
    "duration": 539,
    "start_time": "2024-12-17T15:10:43.570Z"
   },
   {
    "duration": 5,
    "start_time": "2024-12-17T15:10:44.110Z"
   },
   {
    "duration": 215,
    "start_time": "2024-12-17T15:10:44.125Z"
   },
   {
    "duration": 5,
    "start_time": "2024-12-17T15:10:44.342Z"
   },
   {
    "duration": 541,
    "start_time": "2024-12-17T15:10:44.349Z"
   },
   {
    "duration": 659,
    "start_time": "2024-12-17T15:10:44.892Z"
   },
   {
    "duration": 556,
    "start_time": "2024-12-17T15:10:45.554Z"
   },
   {
    "duration": 28,
    "start_time": "2024-12-17T15:10:46.112Z"
   },
   {
    "duration": 11,
    "start_time": "2024-12-17T15:10:46.142Z"
   },
   {
    "duration": 6,
    "start_time": "2024-12-17T15:10:46.158Z"
   },
   {
    "duration": 16,
    "start_time": "2024-12-17T15:10:46.165Z"
   },
   {
    "duration": 3,
    "start_time": "2024-12-17T15:10:46.183Z"
   },
   {
    "duration": 41,
    "start_time": "2024-12-17T15:10:46.189Z"
   },
   {
    "duration": 121548,
    "start_time": "2024-12-17T15:10:46.232Z"
   },
   {
    "duration": 10350677,
    "start_time": "2024-12-17T15:12:47.781Z"
   },
   {
    "duration": 475610,
    "start_time": "2024-12-17T18:05:18.460Z"
   },
   {
    "duration": 169,
    "start_time": "2024-12-17T18:13:14.071Z"
   },
   {
    "duration": 1792,
    "start_time": "2024-12-17T18:13:14.242Z"
   },
   {
    "duration": 2087,
    "start_time": "2024-12-17T18:13:16.037Z"
   },
   {
    "duration": 7881,
    "start_time": "2024-12-17T18:13:18.126Z"
   },
   {
    "duration": 68,
    "start_time": "2024-12-17T18:13:26.008Z"
   },
   {
    "duration": 49,
    "start_time": "2024-12-17T18:13:26.078Z"
   },
   {
    "duration": 9,
    "start_time": "2024-12-17T18:13:26.130Z"
   },
   {
    "duration": 681,
    "start_time": "2024-12-17T18:20:31.142Z"
   },
   {
    "duration": 628,
    "start_time": "2024-12-17T18:20:55.131Z"
   },
   {
    "duration": 740,
    "start_time": "2024-12-17T18:21:12.208Z"
   },
   {
    "duration": 7,
    "start_time": "2024-12-17T18:21:59.948Z"
   },
   {
    "duration": 166345,
    "start_time": "2024-12-17T18:22:06.767Z"
   },
   {
    "duration": 237,
    "start_time": "2024-12-17T18:31:13.400Z"
   },
   {
    "duration": 783,
    "start_time": "2024-12-17T18:32:18.743Z"
   },
   {
    "duration": 1005,
    "start_time": "2024-12-17T18:32:36.954Z"
   },
   {
    "duration": 514,
    "start_time": "2024-12-17T18:32:37.961Z"
   },
   {
    "duration": 18,
    "start_time": "2024-12-17T18:32:38.477Z"
   },
   {
    "duration": 6,
    "start_time": "2024-12-17T18:32:38.496Z"
   },
   {
    "duration": 19,
    "start_time": "2024-12-17T18:32:38.505Z"
   },
   {
    "duration": 15,
    "start_time": "2024-12-17T18:32:38.526Z"
   },
   {
    "duration": 5,
    "start_time": "2024-12-17T18:32:38.542Z"
   },
   {
    "duration": 4,
    "start_time": "2024-12-17T18:32:38.548Z"
   },
   {
    "duration": 14,
    "start_time": "2024-12-17T18:32:38.554Z"
   },
   {
    "duration": 6,
    "start_time": "2024-12-17T18:32:38.569Z"
   },
   {
    "duration": 6,
    "start_time": "2024-12-17T18:32:38.577Z"
   },
   {
    "duration": 49,
    "start_time": "2024-12-17T18:32:38.585Z"
   },
   {
    "duration": 9,
    "start_time": "2024-12-17T18:32:38.636Z"
   },
   {
    "duration": 12,
    "start_time": "2024-12-17T18:32:38.649Z"
   },
   {
    "duration": 12,
    "start_time": "2024-12-17T18:32:38.663Z"
   },
   {
    "duration": 5,
    "start_time": "2024-12-17T18:32:38.676Z"
   },
   {
    "duration": 42,
    "start_time": "2024-12-17T18:32:38.683Z"
   },
   {
    "duration": 5,
    "start_time": "2024-12-17T18:32:38.728Z"
   },
   {
    "duration": 18,
    "start_time": "2024-12-17T18:32:38.735Z"
   },
   {
    "duration": 9,
    "start_time": "2024-12-17T18:32:38.755Z"
   },
   {
    "duration": 2,
    "start_time": "2024-12-17T18:32:38.766Z"
   },
   {
    "duration": 19,
    "start_time": "2024-12-17T18:32:38.770Z"
   },
   {
    "duration": 19,
    "start_time": "2024-12-17T18:32:38.824Z"
   },
   {
    "duration": 19,
    "start_time": "2024-12-17T18:32:38.845Z"
   },
   {
    "duration": 10,
    "start_time": "2024-12-17T18:32:38.866Z"
   },
   {
    "duration": 80,
    "start_time": "2024-12-17T18:32:38.877Z"
   },
   {
    "duration": 9,
    "start_time": "2024-12-17T18:32:38.959Z"
   },
   {
    "duration": 32,
    "start_time": "2024-12-17T18:32:38.970Z"
   },
   {
    "duration": 5,
    "start_time": "2024-12-17T18:32:39.003Z"
   },
   {
    "duration": 475,
    "start_time": "2024-12-17T18:32:39.024Z"
   },
   {
    "duration": 530,
    "start_time": "2024-12-17T18:32:39.502Z"
   },
   {
    "duration": 460,
    "start_time": "2024-12-17T18:32:40.033Z"
   },
   {
    "duration": 5,
    "start_time": "2024-12-17T18:32:40.495Z"
   },
   {
    "duration": 725,
    "start_time": "2024-12-17T18:32:40.501Z"
   },
   {
    "duration": 4,
    "start_time": "2024-12-17T18:32:41.228Z"
   },
   {
    "duration": 631,
    "start_time": "2024-12-17T18:32:41.234Z"
   },
   {
    "duration": 650,
    "start_time": "2024-12-17T18:32:41.867Z"
   },
   {
    "duration": 570,
    "start_time": "2024-12-17T18:32:42.523Z"
   },
   {
    "duration": 23,
    "start_time": "2024-12-17T18:32:43.094Z"
   },
   {
    "duration": 232,
    "start_time": "2024-12-17T18:32:43.125Z"
   },
   {
    "duration": 0,
    "start_time": "2024-12-17T18:32:43.360Z"
   },
   {
    "duration": 0,
    "start_time": "2024-12-17T18:32:43.361Z"
   },
   {
    "duration": 0,
    "start_time": "2024-12-17T18:32:43.362Z"
   },
   {
    "duration": 0,
    "start_time": "2024-12-17T18:32:43.363Z"
   },
   {
    "duration": 0,
    "start_time": "2024-12-17T18:32:43.364Z"
   },
   {
    "duration": 0,
    "start_time": "2024-12-17T18:32:43.365Z"
   },
   {
    "duration": 0,
    "start_time": "2024-12-17T18:32:43.366Z"
   },
   {
    "duration": 0,
    "start_time": "2024-12-17T18:32:43.366Z"
   },
   {
    "duration": 0,
    "start_time": "2024-12-17T18:32:43.367Z"
   },
   {
    "duration": 0,
    "start_time": "2024-12-17T18:32:43.369Z"
   },
   {
    "duration": 0,
    "start_time": "2024-12-17T18:32:43.372Z"
   },
   {
    "duration": 0,
    "start_time": "2024-12-17T18:32:43.373Z"
   },
   {
    "duration": 0,
    "start_time": "2024-12-17T18:32:43.374Z"
   },
   {
    "duration": 15,
    "start_time": "2024-12-17T18:33:56.480Z"
   },
   {
    "duration": 568,
    "start_time": "2024-12-17T18:34:25.426Z"
   },
   {
    "duration": 15,
    "start_time": "2024-12-17T18:34:37.012Z"
   },
   {
    "duration": 453,
    "start_time": "2024-12-17T18:34:40.996Z"
   },
   {
    "duration": 515,
    "start_time": "2024-12-17T18:35:06.360Z"
   },
   {
    "duration": 440,
    "start_time": "2024-12-17T18:35:10.257Z"
   },
   {
    "duration": 41,
    "start_time": "2024-12-17T18:35:52.756Z"
   },
   {
    "duration": 16,
    "start_time": "2024-12-17T18:35:56.231Z"
   },
   {
    "duration": 23,
    "start_time": "2024-12-17T18:37:04.353Z"
   },
   {
    "duration": 14,
    "start_time": "2024-12-17T18:37:39.307Z"
   },
   {
    "duration": 5,
    "start_time": "2024-12-17T18:40:43.617Z"
   },
   {
    "duration": 556,
    "start_time": "2024-12-17T18:40:46.570Z"
   },
   {
    "duration": 439,
    "start_time": "2024-12-17T18:40:55.521Z"
   },
   {
    "duration": 514,
    "start_time": "2024-12-17T18:40:59.370Z"
   },
   {
    "duration": 5,
    "start_time": "2024-12-17T18:41:56.245Z"
   },
   {
    "duration": 455,
    "start_time": "2024-12-17T18:41:58.127Z"
   },
   {
    "duration": 524,
    "start_time": "2024-12-17T18:42:01.733Z"
   },
   {
    "duration": 436,
    "start_time": "2024-12-17T18:42:04.418Z"
   },
   {
    "duration": 558,
    "start_time": "2024-12-17T18:44:34.336Z"
   },
   {
    "duration": 79,
    "start_time": "2024-12-17T18:45:23.380Z"
   },
   {
    "duration": 976,
    "start_time": "2024-12-17T18:45:29.993Z"
   },
   {
    "duration": 497,
    "start_time": "2024-12-17T18:45:30.971Z"
   },
   {
    "duration": 17,
    "start_time": "2024-12-17T18:45:31.470Z"
   },
   {
    "duration": 6,
    "start_time": "2024-12-17T18:45:31.488Z"
   },
   {
    "duration": 5,
    "start_time": "2024-12-17T18:45:31.496Z"
   },
   {
    "duration": 37,
    "start_time": "2024-12-17T18:45:31.503Z"
   },
   {
    "duration": 4,
    "start_time": "2024-12-17T18:45:31.542Z"
   },
   {
    "duration": 5,
    "start_time": "2024-12-17T18:45:31.548Z"
   },
   {
    "duration": 16,
    "start_time": "2024-12-17T18:45:31.555Z"
   },
   {
    "duration": 9,
    "start_time": "2024-12-17T18:45:31.573Z"
   },
   {
    "duration": 6,
    "start_time": "2024-12-17T18:45:31.583Z"
   },
   {
    "duration": 42,
    "start_time": "2024-12-17T18:45:31.591Z"
   },
   {
    "duration": 10,
    "start_time": "2024-12-17T18:45:31.634Z"
   },
   {
    "duration": 12,
    "start_time": "2024-12-17T18:45:31.647Z"
   },
   {
    "duration": 13,
    "start_time": "2024-12-17T18:45:31.661Z"
   },
   {
    "duration": 3,
    "start_time": "2024-12-17T18:45:31.676Z"
   },
   {
    "duration": 46,
    "start_time": "2024-12-17T18:45:31.681Z"
   },
   {
    "duration": 4,
    "start_time": "2024-12-17T18:45:31.730Z"
   },
   {
    "duration": 16,
    "start_time": "2024-12-17T18:45:31.735Z"
   },
   {
    "duration": 9,
    "start_time": "2024-12-17T18:45:31.752Z"
   },
   {
    "duration": 2,
    "start_time": "2024-12-17T18:45:31.762Z"
   },
   {
    "duration": 18,
    "start_time": "2024-12-17T18:45:31.766Z"
   },
   {
    "duration": 52,
    "start_time": "2024-12-17T18:45:31.786Z"
   },
   {
    "duration": 21,
    "start_time": "2024-12-17T18:45:31.840Z"
   },
   {
    "duration": 8,
    "start_time": "2024-12-17T18:45:31.863Z"
   },
   {
    "duration": 78,
    "start_time": "2024-12-17T18:45:31.873Z"
   },
   {
    "duration": 8,
    "start_time": "2024-12-17T18:45:31.953Z"
   },
   {
    "duration": 738,
    "start_time": "2024-12-17T18:45:31.963Z"
   },
   {
    "duration": 0,
    "start_time": "2024-12-17T18:45:32.703Z"
   },
   {
    "duration": 0,
    "start_time": "2024-12-17T18:45:32.704Z"
   },
   {
    "duration": 0,
    "start_time": "2024-12-17T18:45:32.706Z"
   },
   {
    "duration": 0,
    "start_time": "2024-12-17T18:45:32.707Z"
   },
   {
    "duration": 0,
    "start_time": "2024-12-17T18:45:32.707Z"
   },
   {
    "duration": 0,
    "start_time": "2024-12-17T18:45:32.724Z"
   },
   {
    "duration": 0,
    "start_time": "2024-12-17T18:45:32.725Z"
   },
   {
    "duration": 0,
    "start_time": "2024-12-17T18:45:32.726Z"
   },
   {
    "duration": 0,
    "start_time": "2024-12-17T18:45:32.727Z"
   },
   {
    "duration": 0,
    "start_time": "2024-12-17T18:45:32.728Z"
   },
   {
    "duration": 0,
    "start_time": "2024-12-17T18:45:32.729Z"
   },
   {
    "duration": 0,
    "start_time": "2024-12-17T18:45:32.731Z"
   },
   {
    "duration": 0,
    "start_time": "2024-12-17T18:45:32.732Z"
   },
   {
    "duration": 0,
    "start_time": "2024-12-17T18:45:32.733Z"
   },
   {
    "duration": 0,
    "start_time": "2024-12-17T18:45:32.734Z"
   },
   {
    "duration": 0,
    "start_time": "2024-12-17T18:45:32.735Z"
   },
   {
    "duration": 0,
    "start_time": "2024-12-17T18:45:32.736Z"
   },
   {
    "duration": 0,
    "start_time": "2024-12-17T18:45:32.737Z"
   },
   {
    "duration": 0,
    "start_time": "2024-12-17T18:45:32.739Z"
   },
   {
    "duration": 0,
    "start_time": "2024-12-17T18:45:32.741Z"
   },
   {
    "duration": 0,
    "start_time": "2024-12-17T18:45:32.742Z"
   },
   {
    "duration": 0,
    "start_time": "2024-12-17T18:45:32.744Z"
   },
   {
    "duration": 0,
    "start_time": "2024-12-17T18:45:32.745Z"
   },
   {
    "duration": 0,
    "start_time": "2024-12-17T18:45:32.747Z"
   },
   {
    "duration": 0,
    "start_time": "2024-12-17T18:45:32.748Z"
   },
   {
    "duration": 28,
    "start_time": "2024-12-17T18:45:58.807Z"
   },
   {
    "duration": 1057,
    "start_time": "2024-12-17T18:46:03.644Z"
   },
   {
    "duration": 495,
    "start_time": "2024-12-17T18:46:04.703Z"
   },
   {
    "duration": 19,
    "start_time": "2024-12-17T18:46:05.200Z"
   },
   {
    "duration": 6,
    "start_time": "2024-12-17T18:46:05.223Z"
   },
   {
    "duration": 6,
    "start_time": "2024-12-17T18:46:05.231Z"
   },
   {
    "duration": 15,
    "start_time": "2024-12-17T18:46:05.239Z"
   },
   {
    "duration": 4,
    "start_time": "2024-12-17T18:46:05.255Z"
   },
   {
    "duration": 4,
    "start_time": "2024-12-17T18:46:05.261Z"
   },
   {
    "duration": 15,
    "start_time": "2024-12-17T18:46:05.266Z"
   },
   {
    "duration": 46,
    "start_time": "2024-12-17T18:46:05.282Z"
   },
   {
    "duration": 7,
    "start_time": "2024-12-17T18:46:05.329Z"
   },
   {
    "duration": 13,
    "start_time": "2024-12-17T18:46:05.337Z"
   },
   {
    "duration": 10,
    "start_time": "2024-12-17T18:46:05.352Z"
   },
   {
    "duration": 12,
    "start_time": "2024-12-17T18:46:05.366Z"
   },
   {
    "duration": 45,
    "start_time": "2024-12-17T18:46:05.380Z"
   },
   {
    "duration": 4,
    "start_time": "2024-12-17T18:46:05.427Z"
   },
   {
    "duration": 9,
    "start_time": "2024-12-17T18:46:05.433Z"
   },
   {
    "duration": 4,
    "start_time": "2024-12-17T18:46:05.444Z"
   },
   {
    "duration": 15,
    "start_time": "2024-12-17T18:46:05.450Z"
   },
   {
    "duration": 8,
    "start_time": "2024-12-17T18:46:05.467Z"
   },
   {
    "duration": 3,
    "start_time": "2024-12-17T18:46:05.477Z"
   },
   {
    "duration": 62,
    "start_time": "2024-12-17T18:46:05.481Z"
   },
   {
    "duration": 23,
    "start_time": "2024-12-17T18:46:05.544Z"
   },
   {
    "duration": 23,
    "start_time": "2024-12-17T18:46:05.569Z"
   },
   {
    "duration": 32,
    "start_time": "2024-12-17T18:46:05.594Z"
   },
   {
    "duration": 54,
    "start_time": "2024-12-17T18:46:05.628Z"
   },
   {
    "duration": 9,
    "start_time": "2024-12-17T18:46:05.683Z"
   },
   {
    "duration": 52,
    "start_time": "2024-12-17T18:46:05.694Z"
   },
   {
    "duration": 5,
    "start_time": "2024-12-17T18:46:05.747Z"
   },
   {
    "duration": 467,
    "start_time": "2024-12-17T18:46:05.753Z"
   },
   {
    "duration": 524,
    "start_time": "2024-12-17T18:46:06.224Z"
   },
   {
    "duration": 446,
    "start_time": "2024-12-17T18:46:06.750Z"
   },
   {
    "duration": 5,
    "start_time": "2024-12-17T18:46:07.198Z"
   },
   {
    "duration": 689,
    "start_time": "2024-12-17T18:46:07.204Z"
   },
   {
    "duration": 5,
    "start_time": "2024-12-17T18:46:07.895Z"
   },
   {
    "duration": 661,
    "start_time": "2024-12-17T18:46:07.902Z"
   },
   {
    "duration": 776,
    "start_time": "2024-12-17T18:46:08.565Z"
   },
   {
    "duration": 581,
    "start_time": "2024-12-17T18:46:09.343Z"
   },
   {
    "duration": 24,
    "start_time": "2024-12-17T18:46:09.925Z"
   },
   {
    "duration": 11,
    "start_time": "2024-12-17T18:46:09.950Z"
   },
   {
    "duration": 5,
    "start_time": "2024-12-17T18:46:09.966Z"
   },
   {
    "duration": 14,
    "start_time": "2024-12-17T18:46:09.973Z"
   },
   {
    "duration": 3,
    "start_time": "2024-12-17T18:46:09.988Z"
   },
   {
    "duration": 36,
    "start_time": "2024-12-17T18:46:09.993Z"
   },
   {
    "duration": 110527,
    "start_time": "2024-12-17T18:46:10.031Z"
   },
   {
    "duration": 428774,
    "start_time": "2024-12-17T18:48:00.560Z"
   },
   {
    "duration": 200,
    "start_time": "2024-12-17T18:55:09.337Z"
   },
   {
    "duration": 1507,
    "start_time": "2024-12-17T18:55:09.538Z"
   },
   {
    "duration": 1399,
    "start_time": "2024-12-17T18:55:11.125Z"
   },
   {
    "duration": 5399,
    "start_time": "2024-12-17T18:55:12.526Z"
   },
   {
    "duration": 116,
    "start_time": "2024-12-17T18:55:17.927Z"
   },
   {
    "duration": 7,
    "start_time": "2024-12-17T18:55:18.045Z"
   },
   {
    "duration": 74,
    "start_time": "2024-12-17T18:55:18.054Z"
   },
   {
    "duration": 12,
    "start_time": "2024-12-17T18:55:18.131Z"
   },
   {
    "duration": 22,
    "start_time": "2024-12-17T18:58:20.588Z"
   },
   {
    "duration": 4,
    "start_time": "2024-12-17T18:58:24.793Z"
   },
   {
    "duration": 11,
    "start_time": "2024-12-17T18:58:44.633Z"
   },
   {
    "duration": 9,
    "start_time": "2024-12-17T18:58:49.229Z"
   },
   {
    "duration": 6,
    "start_time": "2024-12-17T18:58:50.212Z"
   },
   {
    "duration": 10,
    "start_time": "2024-12-17T18:58:51.408Z"
   },
   {
    "duration": 8,
    "start_time": "2024-12-17T18:58:56.002Z"
   },
   {
    "duration": 5,
    "start_time": "2024-12-17T19:05:05.918Z"
   },
   {
    "duration": 23,
    "start_time": "2024-12-17T19:05:55.543Z"
   },
   {
    "duration": 10,
    "start_time": "2024-12-17T19:07:48.901Z"
   },
   {
    "duration": 7,
    "start_time": "2024-12-17T19:07:50.080Z"
   },
   {
    "duration": 9,
    "start_time": "2024-12-17T19:07:51.480Z"
   },
   {
    "duration": 22,
    "start_time": "2024-12-17T19:09:38.560Z"
   },
   {
    "duration": 12,
    "start_time": "2024-12-17T19:09:50.184Z"
   },
   {
    "duration": 145,
    "start_time": "2024-12-17T19:09:54.281Z"
   },
   {
    "duration": 1632,
    "start_time": "2024-12-17T19:09:56.103Z"
   },
   {
    "duration": 2011,
    "start_time": "2024-12-17T19:10:01.165Z"
   },
   {
    "duration": 7882,
    "start_time": "2024-12-17T19:10:05.812Z"
   },
   {
    "duration": 4,
    "start_time": "2024-12-17T19:10:22.192Z"
   },
   {
    "duration": 61,
    "start_time": "2024-12-17T19:10:27.661Z"
   },
   {
    "duration": 3,
    "start_time": "2024-12-17T19:10:30.555Z"
   },
   {
    "duration": 7,
    "start_time": "2024-12-17T19:10:34.823Z"
   },
   {
    "duration": 9,
    "start_time": "2024-12-17T19:12:24.749Z"
   },
   {
    "duration": 129,
    "start_time": "2024-12-17T19:12:30.716Z"
   },
   {
    "duration": 1368,
    "start_time": "2024-12-17T19:12:33.171Z"
   },
   {
    "duration": 2023,
    "start_time": "2024-12-17T19:12:40.314Z"
   },
   {
    "duration": 7893,
    "start_time": "2024-12-17T19:12:43.792Z"
   },
   {
    "duration": 138,
    "start_time": "2024-12-17T19:12:53.753Z"
   },
   {
    "duration": 3,
    "start_time": "2024-12-17T19:12:57.236Z"
   },
   {
    "duration": 6,
    "start_time": "2024-12-17T19:13:08.120Z"
   },
   {
    "duration": 8,
    "start_time": "2024-12-17T19:13:42.008Z"
   },
   {
    "duration": 1060,
    "start_time": "2024-12-17T19:14:40.754Z"
   },
   {
    "duration": 507,
    "start_time": "2024-12-17T19:14:41.816Z"
   },
   {
    "duration": 17,
    "start_time": "2024-12-17T19:14:42.324Z"
   },
   {
    "duration": 5,
    "start_time": "2024-12-17T19:14:42.344Z"
   },
   {
    "duration": 5,
    "start_time": "2024-12-17T19:14:42.351Z"
   },
   {
    "duration": 15,
    "start_time": "2024-12-17T19:14:42.358Z"
   },
   {
    "duration": 5,
    "start_time": "2024-12-17T19:14:42.375Z"
   },
   {
    "duration": 4,
    "start_time": "2024-12-17T19:14:42.381Z"
   },
   {
    "duration": 52,
    "start_time": "2024-12-17T19:14:42.387Z"
   },
   {
    "duration": 8,
    "start_time": "2024-12-17T19:14:42.443Z"
   },
   {
    "duration": 7,
    "start_time": "2024-12-17T19:14:42.453Z"
   },
   {
    "duration": 12,
    "start_time": "2024-12-17T19:14:42.463Z"
   },
   {
    "duration": 11,
    "start_time": "2024-12-17T19:14:42.477Z"
   },
   {
    "duration": 43,
    "start_time": "2024-12-17T19:14:42.489Z"
   },
   {
    "duration": 13,
    "start_time": "2024-12-17T19:14:42.534Z"
   },
   {
    "duration": 4,
    "start_time": "2024-12-17T19:14:42.548Z"
   },
   {
    "duration": 9,
    "start_time": "2024-12-17T19:14:42.554Z"
   },
   {
    "duration": 4,
    "start_time": "2024-12-17T19:14:42.564Z"
   },
   {
    "duration": 15,
    "start_time": "2024-12-17T19:14:42.570Z"
   },
   {
    "duration": 8,
    "start_time": "2024-12-17T19:14:42.624Z"
   },
   {
    "duration": 2,
    "start_time": "2024-12-17T19:14:42.634Z"
   },
   {
    "duration": 19,
    "start_time": "2024-12-17T19:14:42.637Z"
   },
   {
    "duration": 19,
    "start_time": "2024-12-17T19:14:42.658Z"
   },
   {
    "duration": 50,
    "start_time": "2024-12-17T19:14:42.679Z"
   },
   {
    "duration": 10,
    "start_time": "2024-12-17T19:14:42.731Z"
   },
   {
    "duration": 53,
    "start_time": "2024-12-17T19:14:42.742Z"
   },
   {
    "duration": 29,
    "start_time": "2024-12-17T19:14:42.797Z"
   },
   {
    "duration": 6,
    "start_time": "2024-12-17T19:14:42.830Z"
   },
   {
    "duration": 465,
    "start_time": "2024-12-17T19:14:42.837Z"
   },
   {
    "duration": 515,
    "start_time": "2024-12-17T19:14:43.304Z"
   },
   {
    "duration": 443,
    "start_time": "2024-12-17T19:14:43.824Z"
   },
   {
    "duration": 5,
    "start_time": "2024-12-17T19:14:44.269Z"
   },
   {
    "duration": 670,
    "start_time": "2024-12-17T19:14:44.275Z"
   },
   {
    "duration": 5,
    "start_time": "2024-12-17T19:14:44.947Z"
   },
   {
    "duration": 653,
    "start_time": "2024-12-17T19:14:44.953Z"
   },
   {
    "duration": 645,
    "start_time": "2024-12-17T19:14:45.608Z"
   },
   {
    "duration": 585,
    "start_time": "2024-12-17T19:14:46.254Z"
   },
   {
    "duration": 22,
    "start_time": "2024-12-17T19:14:46.841Z"
   },
   {
    "duration": 12,
    "start_time": "2024-12-17T19:14:46.865Z"
   },
   {
    "duration": 6,
    "start_time": "2024-12-17T19:14:46.878Z"
   },
   {
    "duration": 38,
    "start_time": "2024-12-17T19:14:46.886Z"
   },
   {
    "duration": 23,
    "start_time": "2024-12-17T19:14:46.926Z"
   },
   {
    "duration": 3,
    "start_time": "2024-12-17T19:14:46.951Z"
   },
   {
    "duration": 14,
    "start_time": "2024-12-17T19:14:46.956Z"
   },
   {
    "duration": 166467,
    "start_time": "2024-12-17T19:14:46.972Z"
   },
   {
    "duration": 647382,
    "start_time": "2024-12-17T19:17:33.440Z"
   },
   {
    "duration": 205,
    "start_time": "2024-12-17T19:28:20.825Z"
   },
   {
    "duration": 1795,
    "start_time": "2024-12-17T19:28:21.031Z"
   },
   {
    "duration": 2041,
    "start_time": "2024-12-17T19:28:22.828Z"
   },
   {
    "duration": 7899,
    "start_time": "2024-12-17T19:28:24.870Z"
   },
   {
    "duration": 177,
    "start_time": "2024-12-17T19:28:32.771Z"
   },
   {
    "duration": 4,
    "start_time": "2024-12-17T19:28:32.950Z"
   },
   {
    "duration": 70,
    "start_time": "2024-12-17T19:28:32.955Z"
   },
   {
    "duration": 9,
    "start_time": "2024-12-17T19:43:02.856Z"
   },
   {
    "duration": 6,
    "start_time": "2024-12-17T19:43:03.931Z"
   },
   {
    "duration": 10,
    "start_time": "2024-12-17T19:43:05.024Z"
   },
   {
    "duration": 9,
    "start_time": "2024-12-17T19:43:23.436Z"
   },
   {
    "duration": 10,
    "start_time": "2024-12-17T19:43:40.738Z"
   },
   {
    "duration": 7,
    "start_time": "2024-12-17T19:44:09.240Z"
   },
   {
    "duration": 11,
    "start_time": "2024-12-17T19:44:13.207Z"
   },
   {
    "duration": 12,
    "start_time": "2024-12-17T19:44:41.117Z"
   },
   {
    "duration": 26,
    "start_time": "2024-12-17T19:44:51.173Z"
   },
   {
    "duration": 3,
    "start_time": "2024-12-17T19:44:56.505Z"
   },
   {
    "duration": 9,
    "start_time": "2024-12-17T19:44:59.995Z"
   },
   {
    "duration": 261,
    "start_time": "2024-12-17T19:45:07.376Z"
   },
   {
    "duration": 2479,
    "start_time": "2024-12-17T19:45:10.345Z"
   },
   {
    "duration": 2034,
    "start_time": "2024-12-17T19:45:21.819Z"
   },
   {
    "duration": 7832,
    "start_time": "2024-12-17T19:45:24.781Z"
   },
   {
    "duration": 225,
    "start_time": "2024-12-17T19:45:35.604Z"
   },
   {
    "duration": 5,
    "start_time": "2024-12-17T19:45:38.105Z"
   },
   {
    "duration": 7,
    "start_time": "2024-12-17T19:45:46.578Z"
   },
   {
    "duration": 7127,
    "start_time": "2024-12-17T19:47:12.384Z"
   },
   {
    "duration": 139,
    "start_time": "2024-12-17T19:47:26.801Z"
   },
   {
    "duration": 1415,
    "start_time": "2024-12-17T19:47:28.812Z"
   },
   {
    "duration": 1725,
    "start_time": "2024-12-17T19:47:36.602Z"
   },
   {
    "duration": 135,
    "start_time": "2024-12-17T19:47:39.499Z"
   },
   {
    "duration": 8,
    "start_time": "2024-12-17T19:47:45.490Z"
   },
   {
    "duration": 121,
    "start_time": "2024-12-17T19:48:21.921Z"
   },
   {
    "duration": 1452,
    "start_time": "2024-12-17T19:48:23.391Z"
   },
   {
    "duration": 1956,
    "start_time": "2024-12-17T19:48:27.952Z"
   },
   {
    "duration": 2755,
    "start_time": "2024-12-17T21:32:49.062Z"
   },
   {
    "duration": 599,
    "start_time": "2024-12-17T21:32:51.819Z"
   },
   {
    "duration": 24,
    "start_time": "2024-12-17T21:32:52.419Z"
   },
   {
    "duration": 5,
    "start_time": "2024-12-17T21:32:52.445Z"
   },
   {
    "duration": 5,
    "start_time": "2024-12-17T21:32:52.452Z"
   },
   {
    "duration": 14,
    "start_time": "2024-12-17T21:32:52.459Z"
   },
   {
    "duration": 4,
    "start_time": "2024-12-17T21:32:52.474Z"
   },
   {
    "duration": 4,
    "start_time": "2024-12-17T21:32:52.480Z"
   },
   {
    "duration": 13,
    "start_time": "2024-12-17T21:32:52.485Z"
   },
   {
    "duration": 43,
    "start_time": "2024-12-17T21:32:52.502Z"
   },
   {
    "duration": 7,
    "start_time": "2024-12-17T21:32:52.547Z"
   },
   {
    "duration": 15,
    "start_time": "2024-12-17T21:32:52.556Z"
   },
   {
    "duration": 11,
    "start_time": "2024-12-17T21:32:52.573Z"
   },
   {
    "duration": 12,
    "start_time": "2024-12-17T21:32:52.586Z"
   },
   {
    "duration": 44,
    "start_time": "2024-12-17T21:32:52.600Z"
   },
   {
    "duration": 5,
    "start_time": "2024-12-17T21:32:52.646Z"
   },
   {
    "duration": 10,
    "start_time": "2024-12-17T21:32:52.653Z"
   },
   {
    "duration": 4,
    "start_time": "2024-12-17T21:32:52.664Z"
   },
   {
    "duration": 15,
    "start_time": "2024-12-17T21:32:52.670Z"
   },
   {
    "duration": 10,
    "start_time": "2024-12-17T21:32:52.686Z"
   },
   {
    "duration": 3,
    "start_time": "2024-12-17T21:32:52.697Z"
   },
   {
    "duration": 57,
    "start_time": "2024-12-17T21:32:52.702Z"
   },
   {
    "duration": 19,
    "start_time": "2024-12-17T21:32:52.761Z"
   },
   {
    "duration": 20,
    "start_time": "2024-12-17T21:32:52.782Z"
   },
   {
    "duration": 8,
    "start_time": "2024-12-17T21:32:52.804Z"
   },
   {
    "duration": 78,
    "start_time": "2024-12-17T21:32:52.814Z"
   },
   {
    "duration": 15,
    "start_time": "2024-12-17T21:32:52.894Z"
   },
   {
    "duration": 5,
    "start_time": "2024-12-17T21:32:52.916Z"
   },
   {
    "duration": 512,
    "start_time": "2024-12-17T21:32:52.923Z"
   },
   {
    "duration": 437,
    "start_time": "2024-12-17T21:32:53.443Z"
   },
   {
    "duration": 527,
    "start_time": "2024-12-17T21:32:53.882Z"
   },
   {
    "duration": 5,
    "start_time": "2024-12-17T21:32:54.411Z"
   },
   {
    "duration": 717,
    "start_time": "2024-12-17T21:32:54.417Z"
   },
   {
    "duration": 4,
    "start_time": "2024-12-17T21:32:55.143Z"
   },
   {
    "duration": 632,
    "start_time": "2024-12-17T21:32:55.149Z"
   },
   {
    "duration": 547,
    "start_time": "2024-12-17T21:32:55.782Z"
   },
   {
    "duration": 670,
    "start_time": "2024-12-17T21:32:56.330Z"
   },
   {
    "duration": 23,
    "start_time": "2024-12-17T21:32:57.002Z"
   },
   {
    "duration": 26,
    "start_time": "2024-12-17T21:32:57.027Z"
   },
   {
    "duration": 7,
    "start_time": "2024-12-17T21:32:57.055Z"
   },
   {
    "duration": 13,
    "start_time": "2024-12-17T21:32:57.064Z"
   },
   {
    "duration": 3,
    "start_time": "2024-12-17T21:32:57.079Z"
   },
   {
    "duration": 12,
    "start_time": "2024-12-17T21:32:57.083Z"
   },
   {
    "duration": 162935,
    "start_time": "2024-12-17T21:32:57.097Z"
   },
   {
    "duration": 655881,
    "start_time": "2024-12-17T21:35:40.034Z"
   },
   {
    "duration": 152,
    "start_time": "2024-12-17T21:46:35.917Z"
   },
   {
    "duration": 1492,
    "start_time": "2024-12-17T21:46:36.071Z"
   },
   {
    "duration": 2065,
    "start_time": "2024-12-17T21:46:37.567Z"
   },
   {
    "duration": 7705,
    "start_time": "2024-12-17T21:46:39.634Z"
   },
   {
    "duration": 132,
    "start_time": "2024-12-17T21:46:47.343Z"
   },
   {
    "duration": 4,
    "start_time": "2024-12-17T21:46:47.478Z"
   },
   {
    "duration": 382,
    "start_time": "2024-12-17T21:46:47.484Z"
   },
   {
    "duration": 0,
    "start_time": "2024-12-17T21:46:47.868Z"
   },
   {
    "duration": 0,
    "start_time": "2024-12-17T21:46:47.869Z"
   },
   {
    "duration": 7,
    "start_time": "2024-12-17T21:48:04.292Z"
   },
   {
    "duration": 5,
    "start_time": "2024-12-17T21:48:15.351Z"
   },
   {
    "duration": 6,
    "start_time": "2024-12-17T21:48:21.189Z"
   },
   {
    "duration": 16,
    "start_time": "2024-12-17T21:48:28.870Z"
   },
   {
    "duration": 15,
    "start_time": "2024-12-17T21:48:30.354Z"
   },
   {
    "duration": 2688,
    "start_time": "2024-12-18T14:12:10.147Z"
   },
   {
    "duration": 618,
    "start_time": "2024-12-18T14:12:12.837Z"
   },
   {
    "duration": 23,
    "start_time": "2024-12-18T14:12:13.457Z"
   },
   {
    "duration": 6,
    "start_time": "2024-12-18T14:12:13.482Z"
   },
   {
    "duration": 6,
    "start_time": "2024-12-18T14:12:13.489Z"
   },
   {
    "duration": 14,
    "start_time": "2024-12-18T14:12:13.497Z"
   },
   {
    "duration": 4,
    "start_time": "2024-12-18T14:12:13.512Z"
   },
   {
    "duration": 4,
    "start_time": "2024-12-18T14:12:13.518Z"
   },
   {
    "duration": 52,
    "start_time": "2024-12-18T14:12:13.524Z"
   },
   {
    "duration": 7,
    "start_time": "2024-12-18T14:12:13.580Z"
   },
   {
    "duration": 6,
    "start_time": "2024-12-18T14:12:13.588Z"
   },
   {
    "duration": 13,
    "start_time": "2024-12-18T14:12:13.596Z"
   },
   {
    "duration": 11,
    "start_time": "2024-12-18T14:12:13.610Z"
   },
   {
    "duration": 95,
    "start_time": "2024-12-18T14:12:13.623Z"
   },
   {
    "duration": 13,
    "start_time": "2024-12-18T14:12:13.720Z"
   },
   {
    "duration": 5,
    "start_time": "2024-12-18T14:12:13.735Z"
   },
   {
    "duration": 30,
    "start_time": "2024-12-18T14:12:13.741Z"
   },
   {
    "duration": 3,
    "start_time": "2024-12-18T14:12:13.773Z"
   },
   {
    "duration": 15,
    "start_time": "2024-12-18T14:12:13.779Z"
   },
   {
    "duration": 8,
    "start_time": "2024-12-18T14:12:13.795Z"
   },
   {
    "duration": 2,
    "start_time": "2024-12-18T14:12:13.805Z"
   },
   {
    "duration": 19,
    "start_time": "2024-12-18T14:12:13.809Z"
   },
   {
    "duration": 56,
    "start_time": "2024-12-18T14:12:13.830Z"
   },
   {
    "duration": 20,
    "start_time": "2024-12-18T14:12:13.888Z"
   },
   {
    "duration": 9,
    "start_time": "2024-12-18T14:12:13.909Z"
   },
   {
    "duration": 76,
    "start_time": "2024-12-18T14:12:13.919Z"
   },
   {
    "duration": 8,
    "start_time": "2024-12-18T14:12:13.997Z"
   },
   {
    "duration": 4,
    "start_time": "2024-12-18T14:12:14.010Z"
   },
   {
    "duration": 457,
    "start_time": "2024-12-18T14:12:14.015Z"
   },
   {
    "duration": 445,
    "start_time": "2024-12-18T14:12:14.474Z"
   },
   {
    "duration": 518,
    "start_time": "2024-12-18T14:12:14.921Z"
   },
   {
    "duration": 5,
    "start_time": "2024-12-18T14:12:15.441Z"
   },
   {
    "duration": 688,
    "start_time": "2024-12-18T14:12:15.448Z"
   },
   {
    "duration": 5,
    "start_time": "2024-12-18T14:12:16.138Z"
   },
   {
    "duration": 661,
    "start_time": "2024-12-18T14:12:16.145Z"
   },
   {
    "duration": 579,
    "start_time": "2024-12-18T14:12:16.808Z"
   },
   {
    "duration": 628,
    "start_time": "2024-12-18T14:12:17.388Z"
   },
   {
    "duration": 22,
    "start_time": "2024-12-18T14:12:18.018Z"
   },
   {
    "duration": 7,
    "start_time": "2024-12-18T14:12:18.042Z"
   },
   {
    "duration": 26,
    "start_time": "2024-12-18T14:12:18.050Z"
   },
   {
    "duration": 242,
    "start_time": "2024-12-18T14:12:18.077Z"
   },
   {
    "duration": 0,
    "start_time": "2024-12-18T14:12:18.321Z"
   },
   {
    "duration": 0,
    "start_time": "2024-12-18T14:12:18.323Z"
   },
   {
    "duration": 0,
    "start_time": "2024-12-18T14:12:18.324Z"
   },
   {
    "duration": 0,
    "start_time": "2024-12-18T14:12:18.325Z"
   },
   {
    "duration": 0,
    "start_time": "2024-12-18T14:12:18.326Z"
   },
   {
    "duration": 0,
    "start_time": "2024-12-18T14:12:18.328Z"
   },
   {
    "duration": 0,
    "start_time": "2024-12-18T14:12:18.329Z"
   },
   {
    "duration": 0,
    "start_time": "2024-12-18T14:12:18.330Z"
   },
   {
    "duration": 0,
    "start_time": "2024-12-18T14:12:18.332Z"
   },
   {
    "duration": 0,
    "start_time": "2024-12-18T14:12:18.333Z"
   },
   {
    "duration": 0,
    "start_time": "2024-12-18T14:12:18.335Z"
   },
   {
    "duration": 0,
    "start_time": "2024-12-18T14:12:18.337Z"
   },
   {
    "duration": 8,
    "start_time": "2024-12-18T14:13:18.940Z"
   },
   {
    "duration": 140,
    "start_time": "2024-12-18T14:13:21.726Z"
   },
   {
    "duration": 179,
    "start_time": "2024-12-18T14:18:39.352Z"
   },
   {
    "duration": 255,
    "start_time": "2024-12-18T14:19:09.684Z"
   },
   {
    "duration": 168,
    "start_time": "2024-12-18T14:22:05.354Z"
   },
   {
    "duration": 180,
    "start_time": "2024-12-18T14:23:24.129Z"
   },
   {
    "duration": 170,
    "start_time": "2024-12-18T14:23:43.869Z"
   },
   {
    "duration": 285,
    "start_time": "2024-12-18T14:24:51.371Z"
   },
   {
    "duration": 362,
    "start_time": "2024-12-18T14:27:33.861Z"
   },
   {
    "duration": 12,
    "start_time": "2024-12-18T15:05:27.581Z"
   },
   {
    "duration": 531,
    "start_time": "2024-12-18T15:05:44.468Z"
   },
   {
    "duration": 49,
    "start_time": "2024-12-18T15:07:09.354Z"
   },
   {
    "duration": 25,
    "start_time": "2024-12-18T15:07:17.572Z"
   },
   {
    "duration": 31261,
    "start_time": "2024-12-18T15:07:46.832Z"
   },
   {
    "duration": 153399,
    "start_time": "2024-12-18T15:08:19.810Z"
   },
   {
    "duration": 15,
    "start_time": "2024-12-18T15:11:29.350Z"
   },
   {
    "duration": 3,
    "start_time": "2024-12-18T15:11:39.074Z"
   },
   {
    "duration": 590037,
    "start_time": "2024-12-18T15:11:46.552Z"
   },
   {
    "duration": 198,
    "start_time": "2024-12-18T15:21:36.595Z"
   },
   {
    "duration": 89,
    "start_time": "2024-12-18T15:21:36.795Z"
   },
   {
    "duration": 0,
    "start_time": "2024-12-18T15:21:36.887Z"
   },
   {
    "duration": 0,
    "start_time": "2024-12-18T15:21:36.888Z"
   },
   {
    "duration": 0,
    "start_time": "2024-12-18T15:21:36.890Z"
   },
   {
    "duration": 0,
    "start_time": "2024-12-18T15:21:36.891Z"
   },
   {
    "duration": 0,
    "start_time": "2024-12-18T15:21:36.893Z"
   },
   {
    "duration": 1503,
    "start_time": "2024-12-18T15:23:35.287Z"
   },
   {
    "duration": 1902,
    "start_time": "2024-12-18T15:23:42.249Z"
   },
   {
    "duration": 7453,
    "start_time": "2024-12-18T15:23:48.341Z"
   },
   {
    "duration": 137,
    "start_time": "2024-12-18T15:23:58.451Z"
   },
   {
    "duration": 60,
    "start_time": "2024-12-18T15:24:42.882Z"
   },
   {
    "duration": 7,
    "start_time": "2024-12-18T15:24:53.762Z"
   },
   {
    "duration": 15,
    "start_time": "2024-12-18T15:25:00.064Z"
   },
   {
    "duration": 12,
    "start_time": "2024-12-18T15:33:21.173Z"
   },
   {
    "duration": 12,
    "start_time": "2024-12-18T15:33:45.687Z"
   },
   {
    "duration": 11,
    "start_time": "2024-12-18T15:34:53.326Z"
   },
   {
    "duration": 13,
    "start_time": "2024-12-18T15:35:30.513Z"
   },
   {
    "duration": 26,
    "start_time": "2024-12-18T15:36:44.869Z"
   },
   {
    "duration": 16,
    "start_time": "2024-12-18T15:36:46.621Z"
   },
   {
    "duration": 988,
    "start_time": "2024-12-18T15:38:30.976Z"
   },
   {
    "duration": 503,
    "start_time": "2024-12-18T15:38:31.967Z"
   },
   {
    "duration": 18,
    "start_time": "2024-12-18T15:38:32.472Z"
   },
   {
    "duration": 5,
    "start_time": "2024-12-18T15:38:32.491Z"
   },
   {
    "duration": 6,
    "start_time": "2024-12-18T15:38:32.499Z"
   },
   {
    "duration": 15,
    "start_time": "2024-12-18T15:38:32.506Z"
   },
   {
    "duration": 4,
    "start_time": "2024-12-18T15:38:32.523Z"
   },
   {
    "duration": 4,
    "start_time": "2024-12-18T15:38:32.529Z"
   },
   {
    "duration": 15,
    "start_time": "2024-12-18T15:38:32.571Z"
   },
   {
    "duration": 7,
    "start_time": "2024-12-18T15:38:32.588Z"
   },
   {
    "duration": 6,
    "start_time": "2024-12-18T15:38:32.596Z"
   },
   {
    "duration": 13,
    "start_time": "2024-12-18T15:38:32.603Z"
   },
   {
    "duration": 10,
    "start_time": "2024-12-18T15:38:32.617Z"
   },
   {
    "duration": 49,
    "start_time": "2024-12-18T15:38:32.630Z"
   },
   {
    "duration": 13,
    "start_time": "2024-12-18T15:38:32.681Z"
   },
   {
    "duration": 4,
    "start_time": "2024-12-18T15:38:32.696Z"
   },
   {
    "duration": 10,
    "start_time": "2024-12-18T15:38:32.702Z"
   },
   {
    "duration": 4,
    "start_time": "2024-12-18T15:38:32.713Z"
   },
   {
    "duration": 15,
    "start_time": "2024-12-18T15:38:32.718Z"
   },
   {
    "duration": 42,
    "start_time": "2024-12-18T15:38:32.735Z"
   },
   {
    "duration": 2,
    "start_time": "2024-12-18T15:38:32.779Z"
   },
   {
    "duration": 21,
    "start_time": "2024-12-18T15:38:32.782Z"
   },
   {
    "duration": 19,
    "start_time": "2024-12-18T15:38:32.805Z"
   },
   {
    "duration": 51,
    "start_time": "2024-12-18T15:38:32.826Z"
   },
   {
    "duration": 9,
    "start_time": "2024-12-18T15:38:32.879Z"
   },
   {
    "duration": 53,
    "start_time": "2024-12-18T15:38:32.890Z"
   },
   {
    "duration": 26,
    "start_time": "2024-12-18T15:38:32.944Z"
   },
   {
    "duration": 11,
    "start_time": "2024-12-18T15:38:32.972Z"
   },
   {
    "duration": 5,
    "start_time": "2024-12-18T15:38:32.985Z"
   },
   {
    "duration": 465,
    "start_time": "2024-12-18T15:38:32.992Z"
   },
   {
    "duration": 501,
    "start_time": "2024-12-18T15:38:33.459Z"
   },
   {
    "duration": 460,
    "start_time": "2024-12-18T15:38:33.962Z"
   },
   {
    "duration": 5,
    "start_time": "2024-12-18T15:38:34.423Z"
   },
   {
    "duration": 664,
    "start_time": "2024-12-18T15:38:34.430Z"
   },
   {
    "duration": 5,
    "start_time": "2024-12-18T15:38:35.096Z"
   },
   {
    "duration": 630,
    "start_time": "2024-12-18T15:38:35.105Z"
   },
   {
    "duration": 640,
    "start_time": "2024-12-18T15:38:35.737Z"
   },
   {
    "duration": 578,
    "start_time": "2024-12-18T15:38:36.379Z"
   },
   {
    "duration": 24,
    "start_time": "2024-12-18T15:38:36.958Z"
   },
   {
    "duration": 7,
    "start_time": "2024-12-18T15:38:36.984Z"
   },
   {
    "duration": 5,
    "start_time": "2024-12-18T15:38:36.996Z"
   },
   {
    "duration": 10,
    "start_time": "2024-12-18T15:38:37.002Z"
   },
   {
    "duration": 322,
    "start_time": "2024-12-18T15:38:37.013Z"
   },
   {
    "duration": 391,
    "start_time": "2024-12-18T15:38:37.336Z"
   },
   {
    "duration": 3,
    "start_time": "2024-12-18T15:38:37.729Z"
   },
   {
    "duration": 11,
    "start_time": "2024-12-18T15:38:37.734Z"
   },
   {
    "duration": 43,
    "start_time": "2024-12-18T15:38:37.747Z"
   },
   {
    "duration": 110,
    "start_time": "2024-12-18T15:38:37.791Z"
   },
   {
    "duration": 153523,
    "start_time": "2024-12-18T15:38:37.903Z"
   },
   {
    "duration": 590779,
    "start_time": "2024-12-18T15:41:11.428Z"
   },
   {
    "duration": 177,
    "start_time": "2024-12-18T15:51:02.210Z"
   },
   {
    "duration": 1602,
    "start_time": "2024-12-18T15:51:02.389Z"
   },
   {
    "duration": 2052,
    "start_time": "2024-12-18T15:51:03.993Z"
   },
   {
    "duration": 7493,
    "start_time": "2024-12-18T15:51:06.047Z"
   },
   {
    "duration": 228,
    "start_time": "2024-12-18T15:51:13.542Z"
   },
   {
    "duration": 4,
    "start_time": "2024-12-18T15:51:13.772Z"
   },
   {
    "duration": 10,
    "start_time": "2024-12-18T15:51:13.778Z"
   },
   {
    "duration": 82,
    "start_time": "2024-12-18T15:51:13.793Z"
   },
   {
    "duration": 417,
    "start_time": "2024-12-18T16:22:17.049Z"
   },
   {
    "duration": 1960,
    "start_time": "2024-12-18T16:22:50.503Z"
   },
   {
    "duration": 626,
    "start_time": "2024-12-18T16:48:55.802Z"
   },
   {
    "duration": 154,
    "start_time": "2024-12-18T16:49:15.185Z"
   },
   {
    "duration": 182,
    "start_time": "2024-12-18T16:49:29.496Z"
   },
   {
    "duration": 289,
    "start_time": "2024-12-18T16:50:16.953Z"
   },
   {
    "duration": 178,
    "start_time": "2024-12-18T16:50:27.751Z"
   },
   {
    "duration": 183,
    "start_time": "2024-12-18T16:50:39.398Z"
   },
   {
    "duration": 6,
    "start_time": "2024-12-18T16:56:24.973Z"
   },
   {
    "duration": 439,
    "start_time": "2024-12-18T17:17:19.717Z"
   },
   {
    "duration": 569,
    "start_time": "2024-12-18T17:17:49.840Z"
   },
   {
    "duration": 23,
    "start_time": "2024-12-18T17:21:08.300Z"
   },
   {
    "duration": 293,
    "start_time": "2024-12-18T17:26:51.425Z"
   },
   {
    "duration": 1417,
    "start_time": "2024-12-18T17:36:29.856Z"
   },
   {
    "duration": 7514,
    "start_time": "2024-12-18T17:37:07.684Z"
   },
   {
    "duration": 180,
    "start_time": "2024-12-18T17:58:42.573Z"
   },
   {
    "duration": 31,
    "start_time": "2024-12-18T17:59:29.725Z"
   },
   {
    "duration": 30,
    "start_time": "2024-12-18T17:59:55.154Z"
   },
   {
    "duration": 180,
    "start_time": "2024-12-18T18:00:09.886Z"
   },
   {
    "duration": 155533,
    "start_time": "2024-12-18T19:12:03.369Z"
   },
   {
    "duration": 592578,
    "start_time": "2024-12-18T19:14:38.904Z"
   },
   {
    "duration": 2648,
    "start_time": "2024-12-19T02:04:56.753Z"
   },
   {
    "duration": 619,
    "start_time": "2024-12-19T02:04:59.403Z"
   },
   {
    "duration": 17,
    "start_time": "2024-12-19T02:05:00.025Z"
   },
   {
    "duration": 6,
    "start_time": "2024-12-19T02:05:00.045Z"
   },
   {
    "duration": 5,
    "start_time": "2024-12-19T02:05:00.053Z"
   },
   {
    "duration": 15,
    "start_time": "2024-12-19T02:05:00.060Z"
   },
   {
    "duration": 3,
    "start_time": "2024-12-19T02:05:00.077Z"
   },
   {
    "duration": 5,
    "start_time": "2024-12-19T02:05:00.112Z"
   },
   {
    "duration": 15,
    "start_time": "2024-12-19T02:05:00.118Z"
   },
   {
    "duration": 6,
    "start_time": "2024-12-19T02:05:00.137Z"
   },
   {
    "duration": 6,
    "start_time": "2024-12-19T02:05:00.144Z"
   },
   {
    "duration": 11,
    "start_time": "2024-12-19T02:05:00.152Z"
   },
   {
    "duration": 11,
    "start_time": "2024-12-19T02:05:00.165Z"
   },
   {
    "duration": 12,
    "start_time": "2024-12-19T02:05:00.212Z"
   },
   {
    "duration": 13,
    "start_time": "2024-12-19T02:05:00.226Z"
   },
   {
    "duration": 5,
    "start_time": "2024-12-19T02:05:00.240Z"
   },
   {
    "duration": 11,
    "start_time": "2024-12-19T02:05:00.246Z"
   },
   {
    "duration": 3,
    "start_time": "2024-12-19T02:05:00.260Z"
   },
   {
    "duration": 52,
    "start_time": "2024-12-19T02:05:00.265Z"
   },
   {
    "duration": 9,
    "start_time": "2024-12-19T02:05:00.319Z"
   },
   {
    "duration": 2,
    "start_time": "2024-12-19T02:05:00.329Z"
   },
   {
    "duration": 20,
    "start_time": "2024-12-19T02:05:00.333Z"
   },
   {
    "duration": 20,
    "start_time": "2024-12-19T02:05:00.355Z"
   },
   {
    "duration": 49,
    "start_time": "2024-12-19T02:05:00.377Z"
   },
   {
    "duration": 9,
    "start_time": "2024-12-19T02:05:00.428Z"
   },
   {
    "duration": 54,
    "start_time": "2024-12-19T02:05:00.439Z"
   },
   {
    "duration": 23,
    "start_time": "2024-12-19T02:05:00.494Z"
   },
   {
    "duration": 4,
    "start_time": "2024-12-19T02:05:00.522Z"
   },
   {
    "duration": 511,
    "start_time": "2024-12-19T02:05:00.528Z"
   },
   {
    "duration": 450,
    "start_time": "2024-12-19T02:05:01.040Z"
   },
   {
    "duration": 531,
    "start_time": "2024-12-19T02:05:01.492Z"
   },
   {
    "duration": 5,
    "start_time": "2024-12-19T02:05:02.025Z"
   },
   {
    "duration": 704,
    "start_time": "2024-12-19T02:05:02.032Z"
   },
   {
    "duration": 5,
    "start_time": "2024-12-19T02:05:02.738Z"
   },
   {
    "duration": 629,
    "start_time": "2024-12-19T02:05:02.744Z"
   },
   {
    "duration": 548,
    "start_time": "2024-12-19T02:05:03.374Z"
   },
   {
    "duration": 637,
    "start_time": "2024-12-19T02:05:03.924Z"
   },
   {
    "duration": 23,
    "start_time": "2024-12-19T02:05:04.563Z"
   },
   {
    "duration": 25,
    "start_time": "2024-12-19T02:05:04.587Z"
   },
   {
    "duration": 6,
    "start_time": "2024-12-19T02:05:04.614Z"
   },
   {
    "duration": 8,
    "start_time": "2024-12-19T02:05:04.622Z"
   },
   {
    "duration": 333,
    "start_time": "2024-12-19T02:05:04.632Z"
   },
   {
    "duration": 4,
    "start_time": "2024-12-19T02:05:04.966Z"
   },
   {
    "duration": 11,
    "start_time": "2024-12-19T02:05:04.971Z"
   },
   {
    "duration": 45,
    "start_time": "2024-12-19T02:05:04.984Z"
   },
   {
    "duration": 153619,
    "start_time": "2024-12-19T02:05:05.030Z"
   },
   {
    "duration": 590260,
    "start_time": "2024-12-19T02:07:38.651Z"
   },
   {
    "duration": 203,
    "start_time": "2024-12-19T02:17:28.914Z"
   },
   {
    "duration": 1615,
    "start_time": "2024-12-19T02:17:29.119Z"
   },
   {
    "duration": 2044,
    "start_time": "2024-12-19T02:17:30.737Z"
   },
   {
    "duration": 7480,
    "start_time": "2024-12-19T02:17:32.783Z"
   },
   {
    "duration": 209,
    "start_time": "2024-12-19T02:17:40.264Z"
   },
   {
    "duration": 5,
    "start_time": "2024-12-19T02:17:40.512Z"
   },
   {
    "duration": 7,
    "start_time": "2024-12-19T02:17:40.518Z"
   },
   {
    "duration": 261,
    "start_time": "2024-12-19T02:17:40.526Z"
   },
   {
    "duration": 2627,
    "start_time": "2024-12-21T14:52:32.902Z"
   },
   {
    "duration": 611,
    "start_time": "2024-12-21T14:52:35.531Z"
   },
   {
    "duration": 24,
    "start_time": "2024-12-21T14:52:36.144Z"
   },
   {
    "duration": 6,
    "start_time": "2024-12-21T14:52:36.171Z"
   },
   {
    "duration": 5,
    "start_time": "2024-12-21T14:52:36.179Z"
   },
   {
    "duration": 16,
    "start_time": "2024-12-21T14:52:36.186Z"
   },
   {
    "duration": 30,
    "start_time": "2024-12-21T14:52:36.204Z"
   },
   {
    "duration": 5,
    "start_time": "2024-12-21T14:52:36.235Z"
   },
   {
    "duration": 17,
    "start_time": "2024-12-21T14:52:36.242Z"
   },
   {
    "duration": 6,
    "start_time": "2024-12-21T14:52:36.263Z"
   },
   {
    "duration": 7,
    "start_time": "2024-12-21T14:52:36.271Z"
   },
   {
    "duration": 55,
    "start_time": "2024-12-21T14:52:36.279Z"
   },
   {
    "duration": 12,
    "start_time": "2024-12-21T14:52:36.335Z"
   },
   {
    "duration": 13,
    "start_time": "2024-12-21T14:52:36.348Z"
   },
   {
    "duration": 12,
    "start_time": "2024-12-21T14:52:36.363Z"
   },
   {
    "duration": 5,
    "start_time": "2024-12-21T14:52:36.377Z"
   },
   {
    "duration": 9,
    "start_time": "2024-12-21T14:52:36.384Z"
   },
   {
    "duration": 38,
    "start_time": "2024-12-21T14:52:36.395Z"
   },
   {
    "duration": 15,
    "start_time": "2024-12-21T14:52:36.435Z"
   },
   {
    "duration": 9,
    "start_time": "2024-12-21T14:52:36.452Z"
   },
   {
    "duration": 2,
    "start_time": "2024-12-21T14:52:36.463Z"
   },
   {
    "duration": 21,
    "start_time": "2024-12-21T14:52:36.466Z"
   },
   {
    "duration": 52,
    "start_time": "2024-12-21T14:52:36.489Z"
   },
   {
    "duration": 21,
    "start_time": "2024-12-21T14:52:36.543Z"
   },
   {
    "duration": 10,
    "start_time": "2024-12-21T14:52:36.566Z"
   },
   {
    "duration": 74,
    "start_time": "2024-12-21T14:52:36.578Z"
   },
   {
    "duration": 10,
    "start_time": "2024-12-21T14:52:36.654Z"
   },
   {
    "duration": 4,
    "start_time": "2024-12-21T14:52:36.670Z"
   },
   {
    "duration": 526,
    "start_time": "2024-12-21T14:52:36.676Z"
   },
   {
    "duration": 439,
    "start_time": "2024-12-21T14:52:37.204Z"
   },
   {
    "duration": 565,
    "start_time": "2024-12-21T14:52:37.645Z"
   },
   {
    "duration": 5,
    "start_time": "2024-12-21T14:52:38.212Z"
   },
   {
    "duration": 690,
    "start_time": "2024-12-21T14:52:38.219Z"
   },
   {
    "duration": 5,
    "start_time": "2024-12-21T14:52:38.911Z"
   },
   {
    "duration": 652,
    "start_time": "2024-12-21T14:52:38.917Z"
   },
   {
    "duration": 589,
    "start_time": "2024-12-21T14:52:39.571Z"
   },
   {
    "duration": 681,
    "start_time": "2024-12-21T14:52:40.162Z"
   },
   {
    "duration": 23,
    "start_time": "2024-12-21T14:52:40.845Z"
   },
   {
    "duration": 8,
    "start_time": "2024-12-21T14:52:40.870Z"
   },
   {
    "duration": 8,
    "start_time": "2024-12-21T14:52:40.879Z"
   },
   {
    "duration": 9,
    "start_time": "2024-12-21T14:52:40.888Z"
   },
   {
    "duration": 398,
    "start_time": "2024-12-21T14:52:40.899Z"
   },
   {
    "duration": 0,
    "start_time": "2024-12-21T14:52:41.300Z"
   },
   {
    "duration": 0,
    "start_time": "2024-12-21T14:52:41.301Z"
   },
   {
    "duration": 0,
    "start_time": "2024-12-21T14:52:41.302Z"
   },
   {
    "duration": 0,
    "start_time": "2024-12-21T14:52:41.303Z"
   },
   {
    "duration": 0,
    "start_time": "2024-12-21T14:52:41.304Z"
   },
   {
    "duration": 0,
    "start_time": "2024-12-21T14:52:41.305Z"
   },
   {
    "duration": 0,
    "start_time": "2024-12-21T14:52:41.306Z"
   },
   {
    "duration": 0,
    "start_time": "2024-12-21T14:52:41.307Z"
   },
   {
    "duration": 0,
    "start_time": "2024-12-21T14:52:41.308Z"
   },
   {
    "duration": 0,
    "start_time": "2024-12-21T14:52:41.309Z"
   },
   {
    "duration": 0,
    "start_time": "2024-12-21T14:52:41.310Z"
   },
   {
    "duration": 0,
    "start_time": "2024-12-21T14:52:41.311Z"
   },
   {
    "duration": 0,
    "start_time": "2024-12-21T14:52:41.332Z"
   },
   {
    "duration": 536,
    "start_time": "2024-12-21T14:55:39.328Z"
   },
   {
    "duration": 467,
    "start_time": "2024-12-21T14:57:00.610Z"
   },
   {
    "duration": 995,
    "start_time": "2024-12-21T14:58:53.218Z"
   },
   {
    "duration": 516,
    "start_time": "2024-12-21T14:58:54.215Z"
   },
   {
    "duration": 18,
    "start_time": "2024-12-21T14:58:54.733Z"
   },
   {
    "duration": 5,
    "start_time": "2024-12-21T14:58:54.753Z"
   },
   {
    "duration": 5,
    "start_time": "2024-12-21T14:58:54.760Z"
   },
   {
    "duration": 16,
    "start_time": "2024-12-21T14:58:54.767Z"
   },
   {
    "duration": 4,
    "start_time": "2024-12-21T14:58:54.784Z"
   },
   {
    "duration": 4,
    "start_time": "2024-12-21T14:58:54.789Z"
   },
   {
    "duration": 49,
    "start_time": "2024-12-21T14:58:54.795Z"
   },
   {
    "duration": 6,
    "start_time": "2024-12-21T14:58:54.847Z"
   },
   {
    "duration": 6,
    "start_time": "2024-12-21T14:58:54.855Z"
   },
   {
    "duration": 14,
    "start_time": "2024-12-21T14:58:54.862Z"
   },
   {
    "duration": 9,
    "start_time": "2024-12-21T14:58:54.878Z"
   },
   {
    "duration": 45,
    "start_time": "2024-12-21T14:58:54.889Z"
   },
   {
    "duration": 14,
    "start_time": "2024-12-21T14:58:54.936Z"
   },
   {
    "duration": 5,
    "start_time": "2024-12-21T14:58:54.951Z"
   },
   {
    "duration": 10,
    "start_time": "2024-12-21T14:58:54.957Z"
   },
   {
    "duration": 3,
    "start_time": "2024-12-21T14:58:54.969Z"
   },
   {
    "duration": 16,
    "start_time": "2024-12-21T14:58:54.974Z"
   },
   {
    "duration": 9,
    "start_time": "2024-12-21T14:58:55.031Z"
   },
   {
    "duration": 2,
    "start_time": "2024-12-21T14:58:55.042Z"
   },
   {
    "duration": 20,
    "start_time": "2024-12-21T14:58:55.046Z"
   },
   {
    "duration": 21,
    "start_time": "2024-12-21T14:58:55.068Z"
   },
   {
    "duration": 49,
    "start_time": "2024-12-21T14:58:55.091Z"
   },
   {
    "duration": 9,
    "start_time": "2024-12-21T14:58:55.142Z"
   },
   {
    "duration": 55,
    "start_time": "2024-12-21T14:58:55.153Z"
   },
   {
    "duration": 27,
    "start_time": "2024-12-21T14:58:55.210Z"
   },
   {
    "duration": 5,
    "start_time": "2024-12-21T14:58:55.242Z"
   },
   {
    "duration": 471,
    "start_time": "2024-12-21T14:58:55.248Z"
   },
   {
    "duration": 518,
    "start_time": "2024-12-21T14:58:55.721Z"
   },
   {
    "duration": 453,
    "start_time": "2024-12-21T14:58:56.241Z"
   },
   {
    "duration": 6,
    "start_time": "2024-12-21T14:58:56.695Z"
   },
   {
    "duration": 649,
    "start_time": "2024-12-21T14:58:56.702Z"
   },
   {
    "duration": 5,
    "start_time": "2024-12-21T14:58:57.353Z"
   },
   {
    "duration": 699,
    "start_time": "2024-12-21T14:58:57.360Z"
   },
   {
    "duration": 679,
    "start_time": "2024-12-21T14:58:58.061Z"
   },
   {
    "duration": 693,
    "start_time": "2024-12-21T14:58:58.742Z"
   },
   {
    "duration": 0,
    "start_time": "2024-12-21T14:58:59.437Z"
   },
   {
    "duration": 0,
    "start_time": "2024-12-21T14:58:59.438Z"
   },
   {
    "duration": 0,
    "start_time": "2024-12-21T14:58:59.440Z"
   },
   {
    "duration": 0,
    "start_time": "2024-12-21T14:58:59.440Z"
   },
   {
    "duration": 0,
    "start_time": "2024-12-21T14:58:59.441Z"
   },
   {
    "duration": 0,
    "start_time": "2024-12-21T14:58:59.442Z"
   },
   {
    "duration": 0,
    "start_time": "2024-12-21T14:58:59.443Z"
   },
   {
    "duration": 0,
    "start_time": "2024-12-21T14:58:59.444Z"
   },
   {
    "duration": 0,
    "start_time": "2024-12-21T14:58:59.445Z"
   },
   {
    "duration": 0,
    "start_time": "2024-12-21T14:58:59.446Z"
   },
   {
    "duration": 0,
    "start_time": "2024-12-21T14:58:59.447Z"
   },
   {
    "duration": 0,
    "start_time": "2024-12-21T14:58:59.448Z"
   },
   {
    "duration": 0,
    "start_time": "2024-12-21T14:58:59.449Z"
   },
   {
    "duration": 0,
    "start_time": "2024-12-21T14:58:59.450Z"
   },
   {
    "duration": 0,
    "start_time": "2024-12-21T14:58:59.451Z"
   },
   {
    "duration": 0,
    "start_time": "2024-12-21T14:58:59.452Z"
   },
   {
    "duration": 0,
    "start_time": "2024-12-21T14:58:59.454Z"
   },
   {
    "duration": 0,
    "start_time": "2024-12-21T14:58:59.455Z"
   },
   {
    "duration": 493,
    "start_time": "2024-12-21T14:59:16.209Z"
   },
   {
    "duration": 1037,
    "start_time": "2024-12-21T15:00:22.094Z"
   },
   {
    "duration": 538,
    "start_time": "2024-12-21T15:00:23.133Z"
   },
   {
    "duration": 18,
    "start_time": "2024-12-21T15:00:23.673Z"
   },
   {
    "duration": 5,
    "start_time": "2024-12-21T15:00:23.694Z"
   },
   {
    "duration": 6,
    "start_time": "2024-12-21T15:00:23.701Z"
   },
   {
    "duration": 36,
    "start_time": "2024-12-21T15:00:23.708Z"
   },
   {
    "duration": 4,
    "start_time": "2024-12-21T15:00:23.746Z"
   },
   {
    "duration": 4,
    "start_time": "2024-12-21T15:00:23.752Z"
   },
   {
    "duration": 14,
    "start_time": "2024-12-21T15:00:23.758Z"
   },
   {
    "duration": 7,
    "start_time": "2024-12-21T15:00:23.775Z"
   },
   {
    "duration": 6,
    "start_time": "2024-12-21T15:00:23.784Z"
   },
   {
    "duration": 49,
    "start_time": "2024-12-21T15:00:23.791Z"
   },
   {
    "duration": 9,
    "start_time": "2024-12-21T15:00:23.842Z"
   },
   {
    "duration": 12,
    "start_time": "2024-12-21T15:00:23.853Z"
   },
   {
    "duration": 14,
    "start_time": "2024-12-21T15:00:23.867Z"
   },
   {
    "duration": 4,
    "start_time": "2024-12-21T15:00:23.882Z"
   },
   {
    "duration": 9,
    "start_time": "2024-12-21T15:00:23.888Z"
   },
   {
    "duration": 5,
    "start_time": "2024-12-21T15:00:23.931Z"
   },
   {
    "duration": 15,
    "start_time": "2024-12-21T15:00:23.938Z"
   },
   {
    "duration": 9,
    "start_time": "2024-12-21T15:00:23.955Z"
   },
   {
    "duration": 2,
    "start_time": "2024-12-21T15:00:23.966Z"
   },
   {
    "duration": 20,
    "start_time": "2024-12-21T15:00:23.969Z"
   },
   {
    "duration": 54,
    "start_time": "2024-12-21T15:00:23.992Z"
   },
   {
    "duration": 21,
    "start_time": "2024-12-21T15:00:24.048Z"
   },
   {
    "duration": 9,
    "start_time": "2024-12-21T15:00:24.071Z"
   },
   {
    "duration": 80,
    "start_time": "2024-12-21T15:00:24.081Z"
   },
   {
    "duration": 9,
    "start_time": "2024-12-21T15:00:24.163Z"
   },
   {
    "duration": 5,
    "start_time": "2024-12-21T15:00:24.178Z"
   },
   {
    "duration": 637,
    "start_time": "2024-12-21T15:00:24.184Z"
   },
   {
    "duration": 1,
    "start_time": "2024-12-21T15:00:24.822Z"
   },
   {
    "duration": 0,
    "start_time": "2024-12-21T15:00:24.832Z"
   },
   {
    "duration": 0,
    "start_time": "2024-12-21T15:00:24.833Z"
   },
   {
    "duration": 0,
    "start_time": "2024-12-21T15:00:24.834Z"
   },
   {
    "duration": 0,
    "start_time": "2024-12-21T15:00:24.835Z"
   },
   {
    "duration": 0,
    "start_time": "2024-12-21T15:00:24.836Z"
   },
   {
    "duration": 0,
    "start_time": "2024-12-21T15:00:24.838Z"
   },
   {
    "duration": 0,
    "start_time": "2024-12-21T15:00:24.839Z"
   },
   {
    "duration": 0,
    "start_time": "2024-12-21T15:00:24.841Z"
   },
   {
    "duration": 0,
    "start_time": "2024-12-21T15:00:24.842Z"
   },
   {
    "duration": 0,
    "start_time": "2024-12-21T15:00:24.843Z"
   },
   {
    "duration": 0,
    "start_time": "2024-12-21T15:00:24.846Z"
   },
   {
    "duration": 0,
    "start_time": "2024-12-21T15:00:24.847Z"
   },
   {
    "duration": 0,
    "start_time": "2024-12-21T15:00:24.849Z"
   },
   {
    "duration": 0,
    "start_time": "2024-12-21T15:00:24.850Z"
   },
   {
    "duration": 0,
    "start_time": "2024-12-21T15:00:24.852Z"
   },
   {
    "duration": 0,
    "start_time": "2024-12-21T15:00:24.853Z"
   },
   {
    "duration": 0,
    "start_time": "2024-12-21T15:00:24.855Z"
   },
   {
    "duration": 0,
    "start_time": "2024-12-21T15:00:24.856Z"
   },
   {
    "duration": 0,
    "start_time": "2024-12-21T15:00:24.858Z"
   },
   {
    "duration": 0,
    "start_time": "2024-12-21T15:00:24.859Z"
   },
   {
    "duration": 0,
    "start_time": "2024-12-21T15:00:24.860Z"
   },
   {
    "duration": 0,
    "start_time": "2024-12-21T15:00:24.862Z"
   },
   {
    "duration": 0,
    "start_time": "2024-12-21T15:00:24.863Z"
   },
   {
    "duration": 0,
    "start_time": "2024-12-21T15:00:24.864Z"
   },
   {
    "duration": 0,
    "start_time": "2024-12-21T15:00:24.865Z"
   },
   {
    "duration": 456,
    "start_time": "2024-12-21T15:01:59.680Z"
   },
   {
    "duration": 991,
    "start_time": "2024-12-21T15:02:07.729Z"
   },
   {
    "duration": 494,
    "start_time": "2024-12-21T15:02:08.722Z"
   },
   {
    "duration": 16,
    "start_time": "2024-12-21T15:02:09.218Z"
   },
   {
    "duration": 5,
    "start_time": "2024-12-21T15:02:09.237Z"
   },
   {
    "duration": 6,
    "start_time": "2024-12-21T15:02:09.244Z"
   },
   {
    "duration": 15,
    "start_time": "2024-12-21T15:02:09.251Z"
   },
   {
    "duration": 4,
    "start_time": "2024-12-21T15:02:09.268Z"
   },
   {
    "duration": 5,
    "start_time": "2024-12-21T15:02:09.274Z"
   },
   {
    "duration": 51,
    "start_time": "2024-12-21T15:02:09.280Z"
   },
   {
    "duration": 6,
    "start_time": "2024-12-21T15:02:09.334Z"
   },
   {
    "duration": 6,
    "start_time": "2024-12-21T15:02:09.342Z"
   },
   {
    "duration": 12,
    "start_time": "2024-12-21T15:02:09.350Z"
   },
   {
    "duration": 9,
    "start_time": "2024-12-21T15:02:09.363Z"
   },
   {
    "duration": 12,
    "start_time": "2024-12-21T15:02:09.374Z"
   },
   {
    "duration": 44,
    "start_time": "2024-12-21T15:02:09.388Z"
   },
   {
    "duration": 4,
    "start_time": "2024-12-21T15:02:09.434Z"
   },
   {
    "duration": 9,
    "start_time": "2024-12-21T15:02:09.440Z"
   },
   {
    "duration": 4,
    "start_time": "2024-12-21T15:02:09.450Z"
   },
   {
    "duration": 14,
    "start_time": "2024-12-21T15:02:09.456Z"
   },
   {
    "duration": 10,
    "start_time": "2024-12-21T15:02:09.472Z"
   },
   {
    "duration": 2,
    "start_time": "2024-12-21T15:02:09.484Z"
   },
   {
    "duration": 61,
    "start_time": "2024-12-21T15:02:09.487Z"
   },
   {
    "duration": 20,
    "start_time": "2024-12-21T15:02:09.550Z"
   },
   {
    "duration": 20,
    "start_time": "2024-12-21T15:02:09.572Z"
   },
   {
    "duration": 9,
    "start_time": "2024-12-21T15:02:09.594Z"
   },
   {
    "duration": 54,
    "start_time": "2024-12-21T15:02:09.631Z"
   },
   {
    "duration": 9,
    "start_time": "2024-12-21T15:02:09.687Z"
   },
   {
    "duration": 4,
    "start_time": "2024-12-21T15:02:09.702Z"
   },
   {
    "duration": 486,
    "start_time": "2024-12-21T15:02:09.708Z"
   },
   {
    "duration": 548,
    "start_time": "2024-12-21T15:02:10.196Z"
   },
   {
    "duration": 472,
    "start_time": "2024-12-21T15:02:10.746Z"
   },
   {
    "duration": 13,
    "start_time": "2024-12-21T15:02:11.219Z"
   },
   {
    "duration": 858,
    "start_time": "2024-12-21T15:02:11.233Z"
   },
   {
    "duration": 0,
    "start_time": "2024-12-21T15:02:12.092Z"
   },
   {
    "duration": 0,
    "start_time": "2024-12-21T15:02:12.094Z"
   },
   {
    "duration": 0,
    "start_time": "2024-12-21T15:02:12.096Z"
   },
   {
    "duration": 0,
    "start_time": "2024-12-21T15:02:12.097Z"
   },
   {
    "duration": 0,
    "start_time": "2024-12-21T15:02:12.099Z"
   },
   {
    "duration": 0,
    "start_time": "2024-12-21T15:02:12.100Z"
   },
   {
    "duration": 0,
    "start_time": "2024-12-21T15:02:12.101Z"
   },
   {
    "duration": 0,
    "start_time": "2024-12-21T15:02:12.103Z"
   },
   {
    "duration": 0,
    "start_time": "2024-12-21T15:02:12.105Z"
   },
   {
    "duration": 1,
    "start_time": "2024-12-21T15:02:12.130Z"
   },
   {
    "duration": 0,
    "start_time": "2024-12-21T15:02:12.132Z"
   },
   {
    "duration": 0,
    "start_time": "2024-12-21T15:02:12.134Z"
   },
   {
    "duration": 0,
    "start_time": "2024-12-21T15:02:12.135Z"
   },
   {
    "duration": 0,
    "start_time": "2024-12-21T15:02:12.138Z"
   },
   {
    "duration": 0,
    "start_time": "2024-12-21T15:02:12.140Z"
   },
   {
    "duration": 0,
    "start_time": "2024-12-21T15:02:12.141Z"
   },
   {
    "duration": 0,
    "start_time": "2024-12-21T15:02:12.143Z"
   },
   {
    "duration": 0,
    "start_time": "2024-12-21T15:02:12.144Z"
   },
   {
    "duration": 0,
    "start_time": "2024-12-21T15:02:12.146Z"
   },
   {
    "duration": 0,
    "start_time": "2024-12-21T15:02:12.147Z"
   },
   {
    "duration": 0,
    "start_time": "2024-12-21T15:02:12.149Z"
   },
   {
    "duration": 0,
    "start_time": "2024-12-21T15:02:12.150Z"
   },
   {
    "duration": 654,
    "start_time": "2024-12-21T15:04:00.593Z"
   },
   {
    "duration": 696,
    "start_time": "2024-12-21T15:04:12.461Z"
   },
   {
    "duration": 699,
    "start_time": "2024-12-21T15:04:55.548Z"
   },
   {
    "duration": 648,
    "start_time": "2024-12-21T15:11:16.511Z"
   },
   {
    "duration": 194,
    "start_time": "2024-12-21T15:11:36.585Z"
   },
   {
    "duration": 448,
    "start_time": "2024-12-21T15:11:41.616Z"
   },
   {
    "duration": 195,
    "start_time": "2024-12-21T15:11:53.482Z"
   },
   {
    "duration": 1032,
    "start_time": "2024-12-21T15:12:02.339Z"
   },
   {
    "duration": 503,
    "start_time": "2024-12-21T15:12:03.373Z"
   },
   {
    "duration": 17,
    "start_time": "2024-12-21T15:12:03.878Z"
   },
   {
    "duration": 6,
    "start_time": "2024-12-21T15:12:03.897Z"
   },
   {
    "duration": 5,
    "start_time": "2024-12-21T15:12:03.905Z"
   },
   {
    "duration": 33,
    "start_time": "2024-12-21T15:12:03.912Z"
   },
   {
    "duration": 4,
    "start_time": "2024-12-21T15:12:03.947Z"
   },
   {
    "duration": 6,
    "start_time": "2024-12-21T15:12:03.952Z"
   },
   {
    "duration": 18,
    "start_time": "2024-12-21T15:12:03.959Z"
   },
   {
    "duration": 7,
    "start_time": "2024-12-21T15:12:03.981Z"
   },
   {
    "duration": 7,
    "start_time": "2024-12-21T15:12:03.989Z"
   },
   {
    "duration": 45,
    "start_time": "2024-12-21T15:12:03.997Z"
   },
   {
    "duration": 10,
    "start_time": "2024-12-21T15:12:04.044Z"
   },
   {
    "duration": 12,
    "start_time": "2024-12-21T15:12:04.055Z"
   },
   {
    "duration": 13,
    "start_time": "2024-12-21T15:12:04.069Z"
   },
   {
    "duration": 5,
    "start_time": "2024-12-21T15:12:04.084Z"
   },
   {
    "duration": 42,
    "start_time": "2024-12-21T15:12:04.091Z"
   },
   {
    "duration": 5,
    "start_time": "2024-12-21T15:12:04.134Z"
   },
   {
    "duration": 17,
    "start_time": "2024-12-21T15:12:04.140Z"
   },
   {
    "duration": 9,
    "start_time": "2024-12-21T15:12:04.160Z"
   },
   {
    "duration": 2,
    "start_time": "2024-12-21T15:12:04.171Z"
   },
   {
    "duration": 22,
    "start_time": "2024-12-21T15:12:04.175Z"
   },
   {
    "duration": 20,
    "start_time": "2024-12-21T15:12:04.232Z"
   },
   {
    "duration": 24,
    "start_time": "2024-12-21T15:12:04.254Z"
   },
   {
    "duration": 10,
    "start_time": "2024-12-21T15:12:04.280Z"
   },
   {
    "duration": 89,
    "start_time": "2024-12-21T15:12:04.292Z"
   },
   {
    "duration": 10,
    "start_time": "2024-12-21T15:12:04.382Z"
   },
   {
    "duration": 4,
    "start_time": "2024-12-21T15:12:04.398Z"
   },
   {
    "duration": 501,
    "start_time": "2024-12-21T15:12:04.404Z"
   },
   {
    "duration": 538,
    "start_time": "2024-12-21T15:12:04.907Z"
   },
   {
    "duration": 458,
    "start_time": "2024-12-21T15:12:05.447Z"
   },
   {
    "duration": 5,
    "start_time": "2024-12-21T15:12:05.907Z"
   },
   {
    "duration": 352,
    "start_time": "2024-12-21T15:12:05.913Z"
   },
   {
    "duration": 357,
    "start_time": "2024-12-21T15:12:06.267Z"
   },
   {
    "duration": 5,
    "start_time": "2024-12-21T15:12:06.626Z"
   },
   {
    "duration": 651,
    "start_time": "2024-12-21T15:12:06.633Z"
   },
   {
    "duration": 658,
    "start_time": "2024-12-21T15:12:07.286Z"
   },
   {
    "duration": 598,
    "start_time": "2024-12-21T15:12:07.946Z"
   },
   {
    "duration": 24,
    "start_time": "2024-12-21T15:12:08.546Z"
   },
   {
    "duration": 8,
    "start_time": "2024-12-21T15:12:08.572Z"
   },
   {
    "duration": 7,
    "start_time": "2024-12-21T15:12:08.581Z"
   },
   {
    "duration": 9,
    "start_time": "2024-12-21T15:12:08.589Z"
   },
   {
    "duration": 298,
    "start_time": "2024-12-21T15:12:08.599Z"
   },
   {
    "duration": 3,
    "start_time": "2024-12-21T15:12:08.899Z"
   },
   {
    "duration": 28,
    "start_time": "2024-12-21T15:12:08.905Z"
   },
   {
    "duration": 32,
    "start_time": "2024-12-21T15:12:08.935Z"
   },
   {
    "duration": 153599,
    "start_time": "2024-12-21T15:12:08.968Z"
   },
   {
    "duration": 592214,
    "start_time": "2024-12-21T15:14:42.569Z"
   },
   {
    "duration": 163,
    "start_time": "2024-12-21T15:24:34.784Z"
   },
   {
    "duration": 1601,
    "start_time": "2024-12-21T15:24:34.950Z"
   },
   {
    "duration": 2064,
    "start_time": "2024-12-21T15:24:36.553Z"
   },
   {
    "duration": 7498,
    "start_time": "2024-12-21T15:24:38.619Z"
   },
   {
    "duration": 217,
    "start_time": "2024-12-21T15:24:46.119Z"
   },
   {
    "duration": 4,
    "start_time": "2024-12-21T15:24:46.338Z"
   },
   {
    "duration": 8,
    "start_time": "2024-12-21T15:24:46.344Z"
   },
   {
    "duration": 580,
    "start_time": "2024-12-21T15:24:46.353Z"
   },
   {
    "duration": 0,
    "start_time": "2024-12-21T15:24:46.935Z"
   },
   {
    "duration": 262,
    "start_time": "2024-12-21T15:28:38.643Z"
   },
   {
    "duration": 114,
    "start_time": "2024-12-21T15:29:27.076Z"
   },
   {
    "duration": 5,
    "start_time": "2024-12-21T15:34:06.284Z"
   },
   {
    "duration": 206,
    "start_time": "2024-12-21T15:34:09.067Z"
   },
   {
    "duration": 236,
    "start_time": "2024-12-21T15:34:21.893Z"
   },
   {
    "duration": 16,
    "start_time": "2024-12-21T15:35:07.751Z"
   },
   {
    "duration": 567,
    "start_time": "2024-12-21T15:35:18.514Z"
   },
   {
    "duration": 591,
    "start_time": "2024-12-21T15:35:38.276Z"
   },
   {
    "duration": 1019,
    "start_time": "2024-12-21T15:35:43.588Z"
   },
   {
    "duration": 493,
    "start_time": "2024-12-21T15:35:44.609Z"
   },
   {
    "duration": 17,
    "start_time": "2024-12-21T15:35:45.104Z"
   },
   {
    "duration": 12,
    "start_time": "2024-12-21T15:35:45.124Z"
   },
   {
    "duration": 5,
    "start_time": "2024-12-21T15:35:45.138Z"
   },
   {
    "duration": 15,
    "start_time": "2024-12-21T15:35:45.145Z"
   },
   {
    "duration": 4,
    "start_time": "2024-12-21T15:35:45.162Z"
   },
   {
    "duration": 5,
    "start_time": "2024-12-21T15:35:45.167Z"
   },
   {
    "duration": 15,
    "start_time": "2024-12-21T15:35:45.174Z"
   },
   {
    "duration": 7,
    "start_time": "2024-12-21T15:35:45.231Z"
   },
   {
    "duration": 6,
    "start_time": "2024-12-21T15:35:45.240Z"
   },
   {
    "duration": 13,
    "start_time": "2024-12-21T15:35:45.248Z"
   },
   {
    "duration": 9,
    "start_time": "2024-12-21T15:35:45.262Z"
   },
   {
    "duration": 14,
    "start_time": "2024-12-21T15:35:45.273Z"
   },
   {
    "duration": 46,
    "start_time": "2024-12-21T15:35:45.290Z"
   },
   {
    "duration": 5,
    "start_time": "2024-12-21T15:35:45.338Z"
   },
   {
    "duration": 10,
    "start_time": "2024-12-21T15:35:45.344Z"
   },
   {
    "duration": 5,
    "start_time": "2024-12-21T15:35:45.355Z"
   },
   {
    "duration": 16,
    "start_time": "2024-12-21T15:35:45.362Z"
   },
   {
    "duration": 9,
    "start_time": "2024-12-21T15:35:45.380Z"
   },
   {
    "duration": 2,
    "start_time": "2024-12-21T15:35:45.391Z"
   },
   {
    "duration": 19,
    "start_time": "2024-12-21T15:35:45.431Z"
   },
   {
    "duration": 19,
    "start_time": "2024-12-21T15:35:45.452Z"
   },
   {
    "duration": 21,
    "start_time": "2024-12-21T15:35:45.473Z"
   },
   {
    "duration": 36,
    "start_time": "2024-12-21T15:35:45.496Z"
   },
   {
    "duration": 54,
    "start_time": "2024-12-21T15:35:45.533Z"
   },
   {
    "duration": 10,
    "start_time": "2024-12-21T15:35:45.588Z"
   },
   {
    "duration": 4,
    "start_time": "2024-12-21T15:35:45.603Z"
   },
   {
    "duration": 527,
    "start_time": "2024-12-21T15:35:45.609Z"
   },
   {
    "duration": 530,
    "start_time": "2024-12-21T15:35:46.138Z"
   },
   {
    "duration": 463,
    "start_time": "2024-12-21T15:35:46.669Z"
   },
   {
    "duration": 5,
    "start_time": "2024-12-21T15:35:47.133Z"
   },
   {
    "duration": 341,
    "start_time": "2024-12-21T15:35:47.140Z"
   },
   {
    "duration": 374,
    "start_time": "2024-12-21T15:35:47.483Z"
   },
   {
    "duration": 4,
    "start_time": "2024-12-21T15:35:47.859Z"
   },
   {
    "duration": 5,
    "start_time": "2024-12-21T15:35:47.865Z"
   },
   {
    "duration": 716,
    "start_time": "2024-12-21T15:35:47.872Z"
   },
   {
    "duration": 672,
    "start_time": "2024-12-21T15:35:48.590Z"
   },
   {
    "duration": 581,
    "start_time": "2024-12-21T15:35:49.265Z"
   },
   {
    "duration": 707,
    "start_time": "2024-12-21T15:35:49.848Z"
   },
   {
    "duration": 24,
    "start_time": "2024-12-21T15:35:50.557Z"
   },
   {
    "duration": 8,
    "start_time": "2024-12-21T15:35:50.583Z"
   },
   {
    "duration": 7,
    "start_time": "2024-12-21T15:35:50.592Z"
   },
   {
    "duration": 31,
    "start_time": "2024-12-21T15:35:50.601Z"
   },
   {
    "duration": 300,
    "start_time": "2024-12-21T15:35:50.633Z"
   },
   {
    "duration": 3,
    "start_time": "2024-12-21T15:35:50.935Z"
   },
   {
    "duration": 12,
    "start_time": "2024-12-21T15:35:50.940Z"
   },
   {
    "duration": 32,
    "start_time": "2024-12-21T15:35:50.954Z"
   },
   {
    "duration": 153972,
    "start_time": "2024-12-21T15:35:50.988Z"
   },
   {
    "duration": 591798,
    "start_time": "2024-12-21T15:38:24.962Z"
   },
   {
    "duration": 185,
    "start_time": "2024-12-21T15:48:16.761Z"
   },
   {
    "duration": 1685,
    "start_time": "2024-12-21T15:48:16.948Z"
   },
   {
    "duration": 2017,
    "start_time": "2024-12-21T15:48:18.637Z"
   },
   {
    "duration": 7481,
    "start_time": "2024-12-21T15:48:20.655Z"
   },
   {
    "duration": 214,
    "start_time": "2024-12-21T15:48:28.138Z"
   },
   {
    "duration": 4,
    "start_time": "2024-12-21T15:48:28.354Z"
   },
   {
    "duration": 77,
    "start_time": "2024-12-21T15:48:28.360Z"
   },
   {
    "duration": 224,
    "start_time": "2024-12-21T15:48:28.440Z"
   },
   {
    "duration": 4,
    "start_time": "2024-12-21T15:48:28.668Z"
   },
   {
    "duration": 2,
    "start_time": "2024-12-21T16:19:55.281Z"
   },
   {
    "duration": 3,
    "start_time": "2024-12-21T16:20:15.587Z"
   },
   {
    "duration": 4,
    "start_time": "2024-12-21T16:21:22.552Z"
   },
   {
    "duration": 7,
    "start_time": "2024-12-21T16:23:42.506Z"
   },
   {
    "duration": 8,
    "start_time": "2024-12-21T16:24:11.152Z"
   }
  ],
  "kernelspec": {
   "display_name": "base",
   "language": "python",
   "name": "python3"
  },
  "language_info": {
   "codemirror_mode": {
    "name": "ipython",
    "version": 3
   },
   "file_extension": ".py",
   "mimetype": "text/x-python",
   "name": "python",
   "nbconvert_exporter": "python",
   "pygments_lexer": "ipython3",
   "version": "3.12.4"
  },
  "toc": {
   "base_numbering": 1,
   "nav_menu": {},
   "number_sections": true,
   "sideBar": true,
   "skip_h1_title": true,
   "title_cell": "Table of Contents",
   "title_sidebar": "Contents",
   "toc_cell": false,
   "toc_position": {},
   "toc_section_display": true,
   "toc_window_display": false
  }
 },
 "nbformat": 4,
 "nbformat_minor": 2
}
