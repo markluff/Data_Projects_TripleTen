{
 "cells": [
  {
   "cell_type": "markdown",
   "metadata": {},
   "source": [
    "# Using Decision Tree, Random Forest, and Logistic Regression for classification tasks with telecom data"
   ]
  },
  {
   "cell_type": "markdown",
   "metadata": {},
   "source": [
    "**Introduction:**\n",
    "\n",
    "In this project I will use sklearn tools to help Megaline make quality recommendations of which plan to use for their customers. The two plans are: Smart and Ultra. This dataset has the customers that have already chosen one of the two plans, and my task is to find a model that helps fit the data so that other customers can see which plan is best for them."
   ]
  },
  {
   "cell_type": "code",
   "execution_count": 1,
   "metadata": {},
   "outputs": [],
   "source": [
    "#Import Packages needed for analysis of this data\n",
    "import pandas as pd\n",
    "import numpy as np\n",
    "from sklearn.tree import DecisionTreeClassifier\n",
    "from sklearn.model_selection import train_test_split\n",
    "from sklearn.metrics import mean_squared_error, accuracy_score\n",
    "from sklearn.ensemble import RandomForestClassifier\n",
    "from sklearn.linear_model import LogisticRegression\n",
    "from sklearn.dummy import DummyClassifier\n"
   ]
  },
  {
   "cell_type": "code",
   "execution_count": 2,
   "metadata": {},
   "outputs": [
    {
     "data": {
      "text/html": [
       "<div>\n",
       "<style scoped>\n",
       "    .dataframe tbody tr th:only-of-type {\n",
       "        vertical-align: middle;\n",
       "    }\n",
       "\n",
       "    .dataframe tbody tr th {\n",
       "        vertical-align: top;\n",
       "    }\n",
       "\n",
       "    .dataframe thead th {\n",
       "        text-align: right;\n",
       "    }\n",
       "</style>\n",
       "<table border=\"1\" class=\"dataframe\">\n",
       "  <thead>\n",
       "    <tr style=\"text-align: right;\">\n",
       "      <th></th>\n",
       "      <th>calls</th>\n",
       "      <th>minutes</th>\n",
       "      <th>messages</th>\n",
       "      <th>mb_used</th>\n",
       "      <th>is_ultra</th>\n",
       "    </tr>\n",
       "  </thead>\n",
       "  <tbody>\n",
       "    <tr>\n",
       "      <th>0</th>\n",
       "      <td>40.0</td>\n",
       "      <td>311.90</td>\n",
       "      <td>83.0</td>\n",
       "      <td>19915.42</td>\n",
       "      <td>0</td>\n",
       "    </tr>\n",
       "    <tr>\n",
       "      <th>1</th>\n",
       "      <td>85.0</td>\n",
       "      <td>516.75</td>\n",
       "      <td>56.0</td>\n",
       "      <td>22696.96</td>\n",
       "      <td>0</td>\n",
       "    </tr>\n",
       "    <tr>\n",
       "      <th>2</th>\n",
       "      <td>77.0</td>\n",
       "      <td>467.66</td>\n",
       "      <td>86.0</td>\n",
       "      <td>21060.45</td>\n",
       "      <td>0</td>\n",
       "    </tr>\n",
       "    <tr>\n",
       "      <th>3</th>\n",
       "      <td>106.0</td>\n",
       "      <td>745.53</td>\n",
       "      <td>81.0</td>\n",
       "      <td>8437.39</td>\n",
       "      <td>1</td>\n",
       "    </tr>\n",
       "    <tr>\n",
       "      <th>4</th>\n",
       "      <td>66.0</td>\n",
       "      <td>418.74</td>\n",
       "      <td>1.0</td>\n",
       "      <td>14502.75</td>\n",
       "      <td>0</td>\n",
       "    </tr>\n",
       "  </tbody>\n",
       "</table>\n",
       "</div>"
      ],
      "text/plain": [
       "   calls  minutes  messages   mb_used  is_ultra\n",
       "0   40.0   311.90      83.0  19915.42         0\n",
       "1   85.0   516.75      56.0  22696.96         0\n",
       "2   77.0   467.66      86.0  21060.45         0\n",
       "3  106.0   745.53      81.0   8437.39         1\n",
       "4   66.0   418.74       1.0  14502.75         0"
      ]
     },
     "metadata": {},
     "output_type": "display_data"
    }
   ],
   "source": [
    "#read the dataset into a variable and show the format for the dataset\n",
    "df = pd.read_csv('users_behavior.csv')\n",
    "display(df.head())"
   ]
  },
  {
   "cell_type": "code",
   "execution_count": 3,
   "metadata": {},
   "outputs": [
    {
     "name": "stdout",
     "output_type": "stream",
     "text": [
      "<class 'pandas.core.frame.DataFrame'>\n",
      "RangeIndex: 3214 entries, 0 to 3213\n",
      "Data columns (total 5 columns):\n",
      " #   Column    Non-Null Count  Dtype  \n",
      "---  ------    --------------  -----  \n",
      " 0   calls     3214 non-null   float64\n",
      " 1   minutes   3214 non-null   float64\n",
      " 2   messages  3214 non-null   float64\n",
      " 3   mb_used   3214 non-null   float64\n",
      " 4   is_ultra  3214 non-null   int64  \n",
      "dtypes: float64(4), int64(1)\n",
      "memory usage: 125.7 KB\n"
     ]
    }
   ],
   "source": [
    "#check basic information about the data to make sure that it's ready for the Machine Learning task\n",
    "df.info()"
   ]
  },
  {
   "cell_type": "markdown",
   "metadata": {},
   "source": [
    "Since this data needs to be split into 3 different groups, I will be splitting it as a 3:1:1 set. "
   ]
  },
  {
   "cell_type": "code",
   "execution_count": 4,
   "metadata": {},
   "outputs": [
    {
     "name": "stdout",
     "output_type": "stream",
     "text": [
      "Training Data: (1928, 5)\n",
      "Validation Data: (643, 5)\n",
      "Test Data: (643, 5)\n",
      "The training set shape is 1928 for features\n",
      "The Validation set shape is 643 for features\n",
      "The Test set shape is 643 for features\n"
     ]
    }
   ],
   "source": [
    "#Split the data into training, validation, and test  sets\n",
    "#first make training and validation sets\n",
    "df_train, df_valid = train_test_split(df, test_size=0.2, random_state=8420, stratify=df['is_ultra'])\n",
    "#now make a test set off of the remaining training data\n",
    "df_train, df_test = train_test_split(df_train, test_size=0.25, random_state=8420, stratify=df_train['is_ultra'])\n",
    "\n",
    "print(f'Training Data: {df_train.shape}')\n",
    "print(f'Validation Data: {df_valid.shape}')\n",
    "print(f'Test Data: {df_test.shape}')\n",
    "\n",
    "print(f'The training set shape is {len(df_train)} for features')\n",
    "print(f'The Validation set shape is {len(df_valid)} for features')\n",
    "print(f'The Test set shape is {len(df_test)} for features')"
   ]
  },
  {
   "cell_type": "markdown",
   "metadata": {},
   "source": [
    "Now that the data is split into 3 different groups I'm now going to create the variables for the features and target. Since the aim is to try to figure out a model to recomend which plan customers will want to use, I will set the target as the 'is_ultra' column. The other columns will make up the features of this study. Also, since this study is predicting a binary result, it seems to me that this is a classification task, not a regression task."
   ]
  },
  {
   "cell_type": "code",
   "execution_count": 5,
   "metadata": {},
   "outputs": [],
   "source": [
    "#define the target and features for this task in each of the 3 datasets\n",
    "target = df['is_ultra']\n",
    "features = df.drop(['is_ultra'], axis=1)\n",
    "\n",
    "test_target = df_test['is_ultra']\n",
    "test_features = df_test.drop(['is_ultra'], axis=1)\n",
    "\n",
    "valid_target = df_valid['is_ultra']\n",
    "valid_features = df_valid.drop(['is_ultra'], axis=1)\n",
    "\n",
    "train_target = df_train['is_ultra']\n",
    "train_features = df_train.drop(['is_ultra'], axis=1)\n",
    "\n"
   ]
  },
  {
   "cell_type": "code",
   "execution_count": 6,
   "metadata": {},
   "outputs": [
    {
     "name": "stdout",
     "output_type": "stream",
     "text": [
      "Training Errors: 381\n",
      "Training Accuracy: 80.24%\n"
     ]
    }
   ],
   "source": [
    "#use the decision tree classifier to creat a first model\n",
    "DTCmodel = DecisionTreeClassifier(random_state=8420, max_depth=4)\n",
    "DTCmodel.fit(train_features, train_target)\n",
    "\n",
    "#test the model against predictions to see if it is working.\n",
    "train_predictions = DTCmodel.predict(train_features)\n",
    "\n",
    "#make a function that counts the errors\n",
    "def error_count(answers, predictions):\n",
    "    return (answers != predictions).sum()\n",
    "\n",
    "\n",
    "print('Training Errors:', error_count(train_target, train_predictions))\n",
    "\n",
    "print(f'Training Accuracy: {accuracy_score(train_target, train_predictions)*100:.2f}%')"
   ]
  },
  {
   "cell_type": "code",
   "execution_count": 7,
   "metadata": {
    "scrolled": false
   },
   "outputs": [
    {
     "name": "stdout",
     "output_type": "stream",
     "text": [
      "Depth Comparison in the Validation Set:\n",
      "max_depth = 1 : 74.65%\n",
      "max_depth = 2 : 77.14%\n",
      "max_depth = 3 : 78.85%\n",
      "max_depth = 4 : 78.54%\n",
      "max_depth = 5 : 77.92%\n",
      "max_depth = 6 : 77.60%\n",
      "max_depth = 7 : 77.45%\n",
      "max_depth = 8 : 79.32%\n",
      "max_depth = 9 : 79.00%\n",
      "max_depth = 10 : 78.54%\n"
     ]
    }
   ],
   "source": [
    "print('Depth Comparison in the Validation Set:')\n",
    "for depth in range(1,11):\n",
    "    DTC_V_model = DecisionTreeClassifier(random_state=8420, max_depth=depth)\n",
    "    DTC_V_model.fit(train_features, train_target)\n",
    "    predictions_valid = DTC_V_model.predict(valid_features)\n",
    "    \n",
    "    print(\"max_depth =\", depth, \": \", end='')\n",
    "    print(f'{accuracy_score(valid_target, predictions_valid)*100:.2f}%')"
   ]
  },
  {
   "cell_type": "code",
   "execution_count": 8,
   "metadata": {},
   "outputs": [
    {
     "name": "stdout",
     "output_type": "stream",
     "text": [
      "Dummy Baseline Accuracy: 69.35%\n",
      "Model Accuracy: 78.54%\n"
     ]
    }
   ],
   "source": [
    "#Sanity Check using a dummy classifier in order to make sure that the model is performing better than random chance\n",
    "\n",
    "# Train a DummyClassifier to predict the majority class\n",
    "dummy_model = DummyClassifier(strategy=\"most_frequent\")\n",
    "dummy_model.fit(features, target)\n",
    "baseline_accuracy = dummy_model.score(features, target)\n",
    "model_accuracy = DTC_V_model.score(valid_features, valid_target)\n",
    "\n",
    "print(f\"Dummy Baseline Accuracy: {baseline_accuracy*100:.2f}%\")\n",
    "print(f\"Model Accuracy: {model_accuracy*100:.2f}%\")"
   ]
  },
  {
   "cell_type": "markdown",
   "metadata": {},
   "source": [
    "**Decision Tree Findings**\n",
    "This model performed quite well with this data. Random chance would only allow for a 69% prediction rating, whereas this moel was able to get to 78% with the validation dataset and 81% with the training set. I found that the depth of 4 produced the best results with this data. "
   ]
  },
  {
   "cell_type": "markdown",
   "metadata": {},
   "source": [
    "Now I'm going to run through this data set with the RandomForest model"
   ]
  },
  {
   "cell_type": "code",
   "execution_count": 9,
   "metadata": {},
   "outputs": [
    {
     "name": "stdout",
     "output_type": "stream",
     "text": [
      "Best n_estimators based on validation set: 9\n",
      "Validation Accuracy of the best model: 81.49%\n",
      "Accuracy of the final model on the test set: 79.63%\n"
     ]
    },
    {
     "name": "stderr",
     "output_type": "stream",
     "text": [
      "c:\\Users\\markl\\Anaconda3\\Lib\\site-packages\\sklearn\\base.py:486: UserWarning: X has feature names, but RandomForestClassifier was fitted without feature names\n",
      "  warnings.warn(\n"
     ]
    }
   ],
   "source": [
    "# Find the best n_estimators using the training and validation sets\n",
    "best_score = 0\n",
    "best_est = 0\n",
    "for est in range(1, 21):\n",
    "    RFmodel = RandomForestClassifier(random_state=8420, n_estimators=est, min_samples_leaf=10, min_samples_split=10)\n",
    "    RFmodel.fit(train_features, train_target)\n",
    "    score = RFmodel.score(valid_features, valid_target)\n",
    "    if score > best_score:\n",
    "        best_score = score\n",
    "        best_est = est\n",
    "\n",
    "print(f\"Best n_estimators based on validation set: {best_est}\")\n",
    "print(f\"Validation Accuracy of the best model: {best_score*100:.2f}%\")\n",
    "\n",
    "# Create a final model using the best n_estimators, training on both training and validation sets\n",
    "# Concatenate train and validation sets for final training\n",
    "combined_features = np.concatenate([train_features, valid_features], axis=0)\n",
    "combined_target = np.concatenate([train_target, valid_target], axis=0)\n",
    "\n",
    "final_modelRF = RandomForestClassifier(random_state=8420, n_estimators=best_est)\n",
    "final_modelRF.fit(combined_features, combined_target)\n",
    "\n",
    "# Evaluate the final model on the test set\n",
    "test_accuracy = final_modelRF.score(test_features, test_target)\n",
    "print(f\"Accuracy of the final model on the test set: {test_accuracy * 100:.2f}%\")\n"
   ]
  },
  {
   "cell_type": "code",
   "execution_count": 10,
   "metadata": {},
   "outputs": [
    {
     "name": "stdout",
     "output_type": "stream",
     "text": [
      "Training Accuracy: 83.82%\n",
      "Validation Accuracy: 81.18%\n"
     ]
    }
   ],
   "source": [
    "#Sanity Check\n",
    "RFmodel.fit(train_features, train_target)\n",
    "\n",
    "#Evaluate accuracy on both training and validation sets\n",
    "train_accuracy = RFmodel.score(train_features, train_target)\n",
    "val_accuracy = RFmodel.score(valid_features, valid_target)\n",
    "\n",
    "print(f\"Training Accuracy: {train_accuracy*100:.2f}%\")\n",
    "print(f\"Validation Accuracy: {val_accuracy*100:.2f}%\")"
   ]
  },
  {
   "cell_type": "markdown",
   "metadata": {},
   "source": [
    "**Random Forest Findings**\n",
    "This model found that the best number of trees to have in the forest is 9. I adjusted a couple of the hyperparameters (min_samples_leaf and min_samples_split) to prevent overfitting the training data. Prior to adjusting these hyperparameters I was getting a training accuracy of nearly 98%. By doing this it was able to find an accuracy of 81% in the Validation Set, and 80% in the test set. I then wrote a sanity check to make sure that the data makes sense and got a training accuracy of 84% and a validation accuracy of 81%. These numbers are close enough to one another that it appears that the model is no loger overfit. "
   ]
  },
  {
   "cell_type": "markdown",
   "metadata": {},
   "source": [
    "Now I'm going to run the data through the LogisticRegression model to see how it performs in this task"
   ]
  },
  {
   "cell_type": "code",
   "execution_count": 11,
   "metadata": {
    "scrolled": true
   },
   "outputs": [
    {
     "name": "stdout",
     "output_type": "stream",
     "text": [
      "Accuracy of the logistic regression model on the training set: 70.33%\n",
      "Accuracy of the logistic regression model on the validation set: 70.61%\n",
      "Accuracy of the model on the test set: 74.96%\n"
     ]
    }
   ],
   "source": [
    "#Use the LogisticRegression tool to create a model to predict the best plan for each user\n",
    "LRmodel =  LogisticRegression(random_state=8420, solver='liblinear') \n",
    "LRmodel.fit(train_features, train_target)  \n",
    "score_train = LRmodel.score(train_features, train_target)\n",
    "score_valid = LRmodel.score(valid_features, valid_target) \n",
    "\n",
    "print(f\"Accuracy of the logistic regression model on the training set: {score_train*100:.2f}%\")\n",
    "print(f\"Accuracy of the logistic regression model on the validation set: {score_valid*100:.2f}%\")\n",
    "\n",
    "final_model_LR = LogisticRegression(random_state=8420, solver='liblinear')\n",
    "final_model_LR.fit(test_features, test_target)\n",
    "print(f\"Accuracy of the model on the test set: {final_model_LR.score(test_features, test_target)*100:.2f}%\")"
   ]
  },
  {
   "cell_type": "code",
   "execution_count": 12,
   "metadata": {},
   "outputs": [
    {
     "name": "stdout",
     "output_type": "stream",
     "text": [
      "Dummy Baseline Accuracy: 69.35%\n",
      "Model Accuracy: 75.43%\n"
     ]
    }
   ],
   "source": [
    "dummy_model = DummyClassifier(strategy=\"most_frequent\")\n",
    "dummy_model.fit(features, target)\n",
    "baseline_accuracy = dummy_model.score(features, target)\n",
    "LRmodel_accuracy = final_model_LR.score(valid_features, valid_target)\n",
    "\n",
    "print(f\"Dummy Baseline Accuracy: {baseline_accuracy*100:.2f}%\")\n",
    "print(f\"Model Accuracy: {LRmodel_accuracy*100:.2f}%\")"
   ]
  },
  {
   "cell_type": "markdown",
   "metadata": {},
   "source": [
    "**Logistic Regression Findings**\n",
    "This model for predicting which plan each user should have produced the lowest accuracy scores of the three models coming in at 70% for the training set, 71% for the Validation set, and only 75% for the test set. Using the same sanity check from the DecisionTree with the dummy classifier, it doesn't appear that this model is producing a much better result than mere chance. "
   ]
  },
  {
   "cell_type": "markdown",
   "metadata": {},
   "source": [
    "**Conclusion:**\n",
    "\n",
    "I applied the DecisionTreeClassifier, RandomForestClassifier, and LogisticRegression models to this data set. In the process of using these models with the training set, validation set, and test set, it became clear that the RandomForestClassifier model was able to produce the highest accuracy scores, but they seemed to be as a result of overfitting. The DecisionTreeClassifier appears to have the best results and not be overfit like the RandomForest model. So, I would recommend that Megaline use the DecisionTree model for their plan to make recommendations to their customers based on their usage of the the service."
   ]
  }
 ],
 "metadata": {
  "ExecuteTimeLog": [
   {
    "duration": 871,
    "start_time": "2024-10-28T18:56:52.093Z"
   },
   {
    "duration": 4,
    "start_time": "2024-10-28T18:57:56.512Z"
   },
   {
    "duration": 606,
    "start_time": "2024-10-28T18:58:53.627Z"
   },
   {
    "duration": 15,
    "start_time": "2024-10-28T18:59:01.933Z"
   },
   {
    "duration": 15,
    "start_time": "2024-10-28T18:59:14.562Z"
   },
   {
    "duration": 3,
    "start_time": "2024-10-28T19:14:00.281Z"
   },
   {
    "duration": 8,
    "start_time": "2024-10-28T20:25:18.089Z"
   },
   {
    "duration": 11,
    "start_time": "2024-10-28T20:25:37.776Z"
   },
   {
    "duration": 6,
    "start_time": "2024-10-28T20:25:47.743Z"
   },
   {
    "duration": 10,
    "start_time": "2024-10-28T20:26:11.057Z"
   },
   {
    "duration": 9,
    "start_time": "2024-10-28T20:26:30.793Z"
   },
   {
    "duration": 5,
    "start_time": "2024-10-28T20:29:17.234Z"
   },
   {
    "duration": 162,
    "start_time": "2024-10-28T23:03:30.870Z"
   },
   {
    "duration": 806,
    "start_time": "2024-10-28T23:03:42.171Z"
   },
   {
    "duration": 22,
    "start_time": "2024-10-28T23:03:42.979Z"
   },
   {
    "duration": 10,
    "start_time": "2024-10-28T23:03:43.003Z"
   },
   {
    "duration": 228,
    "start_time": "2024-10-28T23:03:43.016Z"
   },
   {
    "duration": 6,
    "start_time": "2024-10-28T23:12:00.910Z"
   },
   {
    "duration": 6,
    "start_time": "2024-10-28T23:12:02.709Z"
   },
   {
    "duration": 5,
    "start_time": "2024-10-28T23:12:14.243Z"
   },
   {
    "duration": 5,
    "start_time": "2024-10-28T23:13:59.717Z"
   },
   {
    "duration": 6,
    "start_time": "2024-10-28T23:14:24.523Z"
   },
   {
    "duration": 180,
    "start_time": "2024-10-31T16:01:31.148Z"
   },
   {
    "duration": 731,
    "start_time": "2024-10-31T16:01:37.360Z"
   },
   {
    "duration": 22,
    "start_time": "2024-10-31T16:01:38.094Z"
   },
   {
    "duration": 9,
    "start_time": "2024-10-31T16:01:38.117Z"
   },
   {
    "duration": 5,
    "start_time": "2024-10-31T16:01:38.128Z"
   },
   {
    "duration": 20,
    "start_time": "2024-10-31T16:01:38.135Z"
   },
   {
    "duration": 10,
    "start_time": "2024-10-31T16:02:47.392Z"
   },
   {
    "duration": 3,
    "start_time": "2024-10-31T16:03:24.262Z"
   },
   {
    "duration": 3,
    "start_time": "2024-10-31T16:03:25.976Z"
   },
   {
    "duration": 10,
    "start_time": "2024-10-31T16:03:28.361Z"
   },
   {
    "duration": 19,
    "start_time": "2024-10-31T16:07:03.778Z"
   },
   {
    "duration": 553,
    "start_time": "2024-10-31T16:09:29.211Z"
   },
   {
    "duration": 3,
    "start_time": "2024-10-31T16:12:19.206Z"
   },
   {
    "duration": 66,
    "start_time": "2024-10-31T16:12:22.165Z"
   },
   {
    "duration": 5,
    "start_time": "2024-10-31T16:12:48.173Z"
   },
   {
    "duration": 20,
    "start_time": "2024-10-31T16:15:02.325Z"
   },
   {
    "duration": 22,
    "start_time": "2024-10-31T16:15:17.953Z"
   },
   {
    "duration": 71,
    "start_time": "2024-10-31T16:15:51.674Z"
   },
   {
    "duration": 68,
    "start_time": "2024-10-31T16:17:49.027Z"
   },
   {
    "duration": 11,
    "start_time": "2024-10-31T16:20:46.224Z"
   },
   {
    "duration": 11,
    "start_time": "2024-10-31T16:20:53.961Z"
   },
   {
    "duration": 6,
    "start_time": "2024-10-31T16:21:01.373Z"
   },
   {
    "duration": 66,
    "start_time": "2024-10-31T16:22:53.665Z"
   },
   {
    "duration": 24,
    "start_time": "2024-10-31T16:23:00.021Z"
   },
   {
    "duration": 68,
    "start_time": "2024-10-31T16:25:25.644Z"
   },
   {
    "duration": 733,
    "start_time": "2024-10-31T16:28:24.645Z"
   },
   {
    "duration": 17,
    "start_time": "2024-10-31T16:28:25.381Z"
   },
   {
    "duration": 8,
    "start_time": "2024-10-31T16:28:25.400Z"
   },
   {
    "duration": 6,
    "start_time": "2024-10-31T16:28:25.410Z"
   },
   {
    "duration": 571,
    "start_time": "2024-10-31T16:28:25.417Z"
   },
   {
    "duration": 3,
    "start_time": "2024-10-31T16:30:42.043Z"
   },
   {
    "duration": 55,
    "start_time": "2024-10-31T16:30:55.560Z"
   },
   {
    "duration": 738,
    "start_time": "2024-10-31T16:32:54.456Z"
   },
   {
    "duration": 16,
    "start_time": "2024-10-31T16:32:55.196Z"
   },
   {
    "duration": 8,
    "start_time": "2024-10-31T16:32:55.214Z"
   },
   {
    "duration": 4,
    "start_time": "2024-10-31T16:32:55.224Z"
   },
   {
    "duration": 591,
    "start_time": "2024-10-31T16:32:55.230Z"
   },
   {
    "duration": 0,
    "start_time": "2024-10-31T16:32:55.822Z"
   },
   {
    "duration": 4,
    "start_time": "2024-10-31T16:35:57.748Z"
   },
   {
    "duration": 70,
    "start_time": "2024-10-31T16:36:01.642Z"
   },
   {
    "duration": 71,
    "start_time": "2024-10-31T16:36:07.053Z"
   },
   {
    "duration": 822,
    "start_time": "2024-10-31T16:36:10.777Z"
   },
   {
    "duration": 16,
    "start_time": "2024-10-31T16:36:11.601Z"
   },
   {
    "duration": 9,
    "start_time": "2024-10-31T16:36:11.618Z"
   },
   {
    "duration": 5,
    "start_time": "2024-10-31T16:36:11.628Z"
   },
   {
    "duration": 564,
    "start_time": "2024-10-31T16:36:11.635Z"
   },
   {
    "duration": 0,
    "start_time": "2024-10-31T16:36:12.201Z"
   },
   {
    "duration": 739,
    "start_time": "2024-10-31T16:40:34.439Z"
   },
   {
    "duration": 15,
    "start_time": "2024-10-31T16:40:35.180Z"
   },
   {
    "duration": 9,
    "start_time": "2024-10-31T16:40:35.197Z"
   },
   {
    "duration": 5,
    "start_time": "2024-10-31T16:40:35.208Z"
   },
   {
    "duration": 571,
    "start_time": "2024-10-31T16:40:35.215Z"
   },
   {
    "duration": 0,
    "start_time": "2024-10-31T16:40:35.787Z"
   },
   {
    "duration": 26,
    "start_time": "2024-10-31T16:55:18.870Z"
   },
   {
    "duration": 22,
    "start_time": "2024-10-31T16:56:08.009Z"
   },
   {
    "duration": 4,
    "start_time": "2024-10-31T16:58:55.638Z"
   },
   {
    "duration": 34,
    "start_time": "2024-10-31T18:02:17.246Z"
   },
   {
    "duration": 12,
    "start_time": "2024-10-31T18:02:44.683Z"
   },
   {
    "duration": 36,
    "start_time": "2024-10-31T18:02:54.002Z"
   },
   {
    "duration": 18,
    "start_time": "2024-10-31T18:03:26.974Z"
   },
   {
    "duration": 4,
    "start_time": "2024-10-31T18:03:29.876Z"
   },
   {
    "duration": 14,
    "start_time": "2024-10-31T18:03:38.935Z"
   },
   {
    "duration": 4,
    "start_time": "2024-10-31T18:03:41.830Z"
   },
   {
    "duration": 815,
    "start_time": "2024-10-31T18:03:55.781Z"
   },
   {
    "duration": 16,
    "start_time": "2024-10-31T18:03:56.599Z"
   },
   {
    "duration": 8,
    "start_time": "2024-10-31T18:03:56.616Z"
   },
   {
    "duration": 5,
    "start_time": "2024-10-31T18:03:56.627Z"
   },
   {
    "duration": 12,
    "start_time": "2024-10-31T18:03:56.633Z"
   },
   {
    "duration": 5,
    "start_time": "2024-10-31T18:03:56.670Z"
   },
   {
    "duration": 752,
    "start_time": "2024-10-31T18:04:05.531Z"
   },
   {
    "duration": 16,
    "start_time": "2024-10-31T18:04:06.285Z"
   },
   {
    "duration": 10,
    "start_time": "2024-10-31T18:04:06.305Z"
   },
   {
    "duration": 5,
    "start_time": "2024-10-31T18:04:06.318Z"
   },
   {
    "duration": 20,
    "start_time": "2024-10-31T18:04:06.325Z"
   },
   {
    "duration": 3,
    "start_time": "2024-10-31T18:04:06.347Z"
   },
   {
    "duration": 799,
    "start_time": "2024-10-31T18:04:17.371Z"
   },
   {
    "duration": 15,
    "start_time": "2024-10-31T18:04:18.172Z"
   },
   {
    "duration": 9,
    "start_time": "2024-10-31T18:04:18.188Z"
   },
   {
    "duration": 6,
    "start_time": "2024-10-31T18:04:18.199Z"
   },
   {
    "duration": 12,
    "start_time": "2024-10-31T18:04:18.208Z"
   },
   {
    "duration": 3,
    "start_time": "2024-10-31T18:04:18.221Z"
   },
   {
    "duration": 778,
    "start_time": "2024-11-01T13:14:27.390Z"
   },
   {
    "duration": 23,
    "start_time": "2024-11-01T13:14:28.170Z"
   },
   {
    "duration": 9,
    "start_time": "2024-11-01T13:14:28.194Z"
   },
   {
    "duration": 19,
    "start_time": "2024-11-01T13:14:28.205Z"
   },
   {
    "duration": 12,
    "start_time": "2024-11-01T13:14:28.226Z"
   },
   {
    "duration": 4,
    "start_time": "2024-11-01T13:14:28.245Z"
   },
   {
    "duration": 5,
    "start_time": "2024-11-01T13:15:16.727Z"
   },
   {
    "duration": 4,
    "start_time": "2024-11-01T13:15:39.554Z"
   },
   {
    "duration": 3,
    "start_time": "2024-11-01T13:15:45.803Z"
   },
   {
    "duration": 8,
    "start_time": "2024-11-01T13:17:55.244Z"
   },
   {
    "duration": 21,
    "start_time": "2024-11-01T13:28:58.443Z"
   },
   {
    "duration": 7,
    "start_time": "2024-11-01T13:29:02.574Z"
   },
   {
    "duration": 22,
    "start_time": "2024-11-01T13:29:11.200Z"
   },
   {
    "duration": 15,
    "start_time": "2024-11-01T13:29:20.175Z"
   },
   {
    "duration": 11,
    "start_time": "2024-11-01T13:29:24.409Z"
   },
   {
    "duration": 12,
    "start_time": "2024-11-01T13:29:32.854Z"
   },
   {
    "duration": 7,
    "start_time": "2024-11-01T13:29:35.893Z"
   },
   {
    "duration": 771,
    "start_time": "2024-11-02T11:29:19.551Z"
   },
   {
    "duration": 22,
    "start_time": "2024-11-02T11:29:20.324Z"
   },
   {
    "duration": 9,
    "start_time": "2024-11-02T11:29:20.348Z"
   },
   {
    "duration": 5,
    "start_time": "2024-11-02T11:29:20.359Z"
   },
   {
    "duration": 12,
    "start_time": "2024-11-02T11:29:20.365Z"
   },
   {
    "duration": 4,
    "start_time": "2024-11-02T11:29:20.379Z"
   },
   {
    "duration": 235,
    "start_time": "2024-11-02T11:29:20.385Z"
   },
   {
    "duration": 10,
    "start_time": "2024-11-02T11:29:45.048Z"
   },
   {
    "duration": 3,
    "start_time": "2024-11-02T11:29:47.609Z"
   },
   {
    "duration": 10,
    "start_time": "2024-11-02T11:29:54.031Z"
   },
   {
    "duration": 4,
    "start_time": "2024-11-02T11:29:56.253Z"
   },
   {
    "duration": 169,
    "start_time": "2024-11-02T19:04:08.042Z"
   },
   {
    "duration": 760,
    "start_time": "2024-11-02T19:04:23.720Z"
   },
   {
    "duration": 25,
    "start_time": "2024-11-02T19:04:24.483Z"
   },
   {
    "duration": 9,
    "start_time": "2024-11-02T19:04:24.509Z"
   },
   {
    "duration": 14,
    "start_time": "2024-11-02T19:04:24.520Z"
   },
   {
    "duration": 16,
    "start_time": "2024-11-02T19:04:24.535Z"
   },
   {
    "duration": 4,
    "start_time": "2024-11-02T19:04:24.555Z"
   },
   {
    "duration": 8,
    "start_time": "2024-11-02T19:04:24.561Z"
   },
   {
    "duration": 3,
    "start_time": "2024-11-02T19:07:27.760Z"
   },
   {
    "duration": 841,
    "start_time": "2024-11-02T19:07:31.930Z"
   },
   {
    "duration": 17,
    "start_time": "2024-11-02T19:07:32.774Z"
   },
   {
    "duration": 9,
    "start_time": "2024-11-02T19:07:32.793Z"
   },
   {
    "duration": 6,
    "start_time": "2024-11-02T19:07:32.804Z"
   },
   {
    "duration": 29,
    "start_time": "2024-11-02T19:07:32.811Z"
   },
   {
    "duration": 3,
    "start_time": "2024-11-02T19:07:32.842Z"
   },
   {
    "duration": 6,
    "start_time": "2024-11-02T19:07:32.848Z"
   },
   {
    "duration": 224,
    "start_time": "2024-11-02T19:09:45.148Z"
   },
   {
    "duration": 16,
    "start_time": "2024-11-02T19:09:58.661Z"
   },
   {
    "duration": 750,
    "start_time": "2024-11-02T19:10:30.725Z"
   },
   {
    "duration": 16,
    "start_time": "2024-11-02T19:10:31.477Z"
   },
   {
    "duration": 9,
    "start_time": "2024-11-02T19:10:31.494Z"
   },
   {
    "duration": 5,
    "start_time": "2024-11-02T19:10:31.505Z"
   },
   {
    "duration": 29,
    "start_time": "2024-11-02T19:10:31.512Z"
   },
   {
    "duration": 4,
    "start_time": "2024-11-02T19:10:31.542Z"
   },
   {
    "duration": 7,
    "start_time": "2024-11-02T19:10:31.547Z"
   },
   {
    "duration": 247,
    "start_time": "2024-11-02T19:10:31.556Z"
   },
   {
    "duration": 233,
    "start_time": "2024-11-02T19:11:45.121Z"
   },
   {
    "duration": 229,
    "start_time": "2024-11-02T19:11:58.060Z"
   },
   {
    "duration": 200,
    "start_time": "2024-11-02T19:12:26.124Z"
   },
   {
    "duration": 217,
    "start_time": "2024-11-02T19:12:34.657Z"
   },
   {
    "duration": 7,
    "start_time": "2024-11-02T19:12:41.682Z"
   },
   {
    "duration": 214,
    "start_time": "2024-11-02T19:12:49.058Z"
   },
   {
    "duration": 225,
    "start_time": "2024-11-02T19:12:59.784Z"
   },
   {
    "duration": 725,
    "start_time": "2024-11-02T19:14:11.784Z"
   },
   {
    "duration": 733,
    "start_time": "2024-11-02T19:14:19.387Z"
   },
   {
    "duration": 15322,
    "start_time": "2024-11-02T19:14:35.043Z"
   },
   {
    "duration": 734,
    "start_time": "2024-11-02T19:14:59.924Z"
   },
   {
    "duration": 16,
    "start_time": "2024-11-02T19:15:25.425Z"
   },
   {
    "duration": 4,
    "start_time": "2024-11-02T19:15:27.576Z"
   },
   {
    "duration": 20,
    "start_time": "2024-11-02T19:15:38.937Z"
   },
   {
    "duration": 4,
    "start_time": "2024-11-02T19:15:41.094Z"
   },
   {
    "duration": 15,
    "start_time": "2024-11-02T19:17:57.758Z"
   },
   {
    "duration": 12,
    "start_time": "2024-11-02T19:18:14.386Z"
   },
   {
    "duration": 10,
    "start_time": "2024-11-02T19:18:25.444Z"
   },
   {
    "duration": 11,
    "start_time": "2024-11-02T19:18:26.363Z"
   },
   {
    "duration": 25,
    "start_time": "2024-11-02T19:35:14.396Z"
   },
   {
    "duration": 5,
    "start_time": "2024-11-02T19:35:17.160Z"
   },
   {
    "duration": 25,
    "start_time": "2024-11-02T19:35:30.989Z"
   },
   {
    "duration": 19,
    "start_time": "2024-11-02T19:35:37.134Z"
   },
   {
    "duration": 23,
    "start_time": "2024-11-02T19:35:43.584Z"
   },
   {
    "duration": 23,
    "start_time": "2024-11-02T19:35:50.543Z"
   },
   {
    "duration": 24,
    "start_time": "2024-11-02T19:35:58.635Z"
   },
   {
    "duration": 4,
    "start_time": "2024-11-02T19:36:02.940Z"
   },
   {
    "duration": 24,
    "start_time": "2024-11-02T19:36:12.767Z"
   },
   {
    "duration": 26,
    "start_time": "2024-11-02T19:36:21.059Z"
   },
   {
    "duration": 23,
    "start_time": "2024-11-02T19:36:29.664Z"
   },
   {
    "duration": 16,
    "start_time": "2024-11-02T19:36:44.403Z"
   },
   {
    "duration": 4,
    "start_time": "2024-11-02T19:36:47.476Z"
   },
   {
    "duration": 7,
    "start_time": "2024-11-02T21:41:14.201Z"
   },
   {
    "duration": 7,
    "start_time": "2024-11-02T21:41:46.356Z"
   },
   {
    "duration": 811,
    "start_time": "2024-11-02T21:52:20.557Z"
   },
   {
    "duration": 19,
    "start_time": "2024-11-02T21:52:21.372Z"
   },
   {
    "duration": 11,
    "start_time": "2024-11-02T21:52:21.393Z"
   },
   {
    "duration": 6,
    "start_time": "2024-11-02T21:52:21.405Z"
   },
   {
    "duration": 25,
    "start_time": "2024-11-02T21:52:21.430Z"
   },
   {
    "duration": 4,
    "start_time": "2024-11-02T21:52:21.457Z"
   },
   {
    "duration": 7,
    "start_time": "2024-11-02T21:52:21.463Z"
   },
   {
    "duration": 759,
    "start_time": "2024-11-02T21:52:21.472Z"
   },
   {
    "duration": 12,
    "start_time": "2024-11-02T21:52:22.232Z"
   },
   {
    "duration": 14,
    "start_time": "2024-11-02T21:54:52.399Z"
   },
   {
    "duration": 3,
    "start_time": "2024-11-02T21:54:54.854Z"
   },
   {
    "duration": 6,
    "start_time": "2024-11-02T21:54:57.312Z"
   },
   {
    "duration": 820,
    "start_time": "2024-11-02T22:18:55.434Z"
   },
   {
    "duration": 17,
    "start_time": "2024-11-02T22:18:56.257Z"
   },
   {
    "duration": 9,
    "start_time": "2024-11-02T22:18:56.276Z"
   },
   {
    "duration": 5,
    "start_time": "2024-11-02T22:18:56.287Z"
   },
   {
    "duration": 16,
    "start_time": "2024-11-02T22:18:56.294Z"
   },
   {
    "duration": 21,
    "start_time": "2024-11-02T22:18:56.311Z"
   },
   {
    "duration": 7,
    "start_time": "2024-11-02T22:18:56.334Z"
   },
   {
    "duration": 746,
    "start_time": "2024-11-02T22:18:56.342Z"
   },
   {
    "duration": 12,
    "start_time": "2024-11-02T22:18:57.089Z"
   },
   {
    "duration": 11,
    "start_time": "2024-11-02T22:19:26.452Z"
   },
   {
    "duration": 13,
    "start_time": "2024-11-02T22:19:53.485Z"
   },
   {
    "duration": 3,
    "start_time": "2024-11-02T22:19:57.786Z"
   },
   {
    "duration": 7,
    "start_time": "2024-11-02T22:20:05.158Z"
   },
   {
    "duration": 771,
    "start_time": "2024-11-02T22:46:39.301Z"
   },
   {
    "duration": 22,
    "start_time": "2024-11-02T22:46:40.074Z"
   },
   {
    "duration": 9,
    "start_time": "2024-11-02T22:46:40.100Z"
   },
   {
    "duration": 5,
    "start_time": "2024-11-02T22:46:40.112Z"
   },
   {
    "duration": 16,
    "start_time": "2024-11-02T22:46:40.132Z"
   },
   {
    "duration": 3,
    "start_time": "2024-11-02T22:46:40.150Z"
   },
   {
    "duration": 7,
    "start_time": "2024-11-02T22:46:40.155Z"
   },
   {
    "duration": 750,
    "start_time": "2024-11-02T22:46:40.163Z"
   },
   {
    "duration": 20,
    "start_time": "2024-11-02T22:46:40.916Z"
   },
   {
    "duration": 2530,
    "start_time": "2024-11-02T22:47:04.783Z"
   },
   {
    "duration": 725,
    "start_time": "2024-11-02T22:47:35.645Z"
   },
   {
    "duration": 705,
    "start_time": "2024-11-02T22:48:29.336Z"
   },
   {
    "duration": 693,
    "start_time": "2024-11-02T22:50:16.066Z"
   },
   {
    "duration": 973,
    "start_time": "2024-11-02T22:51:04.034Z"
   },
   {
    "duration": 782,
    "start_time": "2024-11-02T22:51:34.754Z"
   },
   {
    "duration": 763,
    "start_time": "2024-11-02T22:51:55.223Z"
   },
   {
    "duration": 17,
    "start_time": "2024-11-02T22:51:55.989Z"
   },
   {
    "duration": 10,
    "start_time": "2024-11-02T22:51:56.008Z"
   },
   {
    "duration": 6,
    "start_time": "2024-11-02T22:51:56.030Z"
   },
   {
    "duration": 14,
    "start_time": "2024-11-02T22:51:56.038Z"
   },
   {
    "duration": 4,
    "start_time": "2024-11-02T22:51:56.054Z"
   },
   {
    "duration": 7,
    "start_time": "2024-11-02T22:51:56.060Z"
   },
   {
    "duration": 1106,
    "start_time": "2024-11-02T22:51:56.068Z"
   },
   {
    "duration": 0,
    "start_time": "2024-11-02T22:51:57.177Z"
   },
   {
    "duration": 715,
    "start_time": "2024-11-02T22:53:11.187Z"
   },
   {
    "duration": 699,
    "start_time": "2024-11-02T22:53:39.887Z"
   },
   {
    "duration": 11,
    "start_time": "2024-11-02T22:54:32.851Z"
   },
   {
    "duration": 814,
    "start_time": "2024-11-03T00:26:09.408Z"
   },
   {
    "duration": 19,
    "start_time": "2024-11-03T00:26:10.224Z"
   },
   {
    "duration": 9,
    "start_time": "2024-11-03T00:26:10.244Z"
   },
   {
    "duration": 4,
    "start_time": "2024-11-03T00:26:10.256Z"
   },
   {
    "duration": 14,
    "start_time": "2024-11-03T00:26:10.262Z"
   },
   {
    "duration": 3,
    "start_time": "2024-11-03T00:26:10.277Z"
   },
   {
    "duration": 35,
    "start_time": "2024-11-03T00:26:10.282Z"
   },
   {
    "duration": 712,
    "start_time": "2024-11-03T00:26:10.318Z"
   },
   {
    "duration": 11,
    "start_time": "2024-11-03T00:26:11.032Z"
   },
   {
    "duration": 15,
    "start_time": "2024-11-03T00:28:57.434Z"
   },
   {
    "duration": 708,
    "start_time": "2024-11-03T00:30:10.614Z"
   },
   {
    "duration": 719,
    "start_time": "2024-11-03T00:30:12.937Z"
   },
   {
    "duration": 15,
    "start_time": "2024-11-03T00:30:17.298Z"
   },
   {
    "duration": 749,
    "start_time": "2024-11-03T18:21:59.859Z"
   },
   {
    "duration": 18,
    "start_time": "2024-11-03T18:22:00.611Z"
   },
   {
    "duration": 9,
    "start_time": "2024-11-03T18:22:00.630Z"
   },
   {
    "duration": 6,
    "start_time": "2024-11-03T18:22:00.640Z"
   },
   {
    "duration": 241,
    "start_time": "2024-11-03T18:22:00.649Z"
   },
   {
    "duration": 0,
    "start_time": "2024-11-03T18:22:00.892Z"
   },
   {
    "duration": 0,
    "start_time": "2024-11-03T18:22:00.893Z"
   },
   {
    "duration": 0,
    "start_time": "2024-11-03T18:22:00.895Z"
   },
   {
    "duration": 0,
    "start_time": "2024-11-03T18:22:00.896Z"
   },
   {
    "duration": 13,
    "start_time": "2024-11-03T18:22:43.770Z"
   },
   {
    "duration": 759,
    "start_time": "2024-11-03T18:22:53.153Z"
   },
   {
    "duration": 16,
    "start_time": "2024-11-03T18:22:53.914Z"
   },
   {
    "duration": 7,
    "start_time": "2024-11-03T18:22:53.932Z"
   },
   {
    "duration": 5,
    "start_time": "2024-11-03T18:22:53.941Z"
   },
   {
    "duration": 12,
    "start_time": "2024-11-03T18:22:53.948Z"
   },
   {
    "duration": 24,
    "start_time": "2024-11-03T18:22:53.962Z"
   },
   {
    "duration": 7,
    "start_time": "2024-11-03T18:22:53.988Z"
   },
   {
    "duration": 714,
    "start_time": "2024-11-03T18:22:53.998Z"
   },
   {
    "duration": 15,
    "start_time": "2024-11-03T18:22:54.713Z"
   },
   {
    "duration": 254,
    "start_time": "2024-11-03T18:40:02.311Z"
   },
   {
    "duration": 36,
    "start_time": "2024-11-03T18:40:29.369Z"
   },
   {
    "duration": 86,
    "start_time": "2024-11-03T18:40:40.570Z"
   },
   {
    "duration": 768,
    "start_time": "2024-11-03T18:43:08.146Z"
   },
   {
    "duration": 16,
    "start_time": "2024-11-03T18:43:08.916Z"
   },
   {
    "duration": 8,
    "start_time": "2024-11-03T18:43:08.934Z"
   },
   {
    "duration": 5,
    "start_time": "2024-11-03T18:43:08.945Z"
   },
   {
    "duration": 95,
    "start_time": "2024-11-03T18:43:08.951Z"
   },
   {
    "duration": 7,
    "start_time": "2024-11-03T18:43:09.047Z"
   },
   {
    "duration": 735,
    "start_time": "2024-11-03T18:43:09.056Z"
   },
   {
    "duration": 18,
    "start_time": "2024-11-03T18:43:09.795Z"
   },
   {
    "duration": 90,
    "start_time": "2024-11-03T18:43:40.394Z"
   },
   {
    "duration": 94,
    "start_time": "2024-11-03T18:44:22.883Z"
   },
   {
    "duration": 862,
    "start_time": "2024-11-03T18:44:31.511Z"
   },
   {
    "duration": 19,
    "start_time": "2024-11-03T18:44:32.376Z"
   },
   {
    "duration": 16,
    "start_time": "2024-11-03T18:44:32.396Z"
   },
   {
    "duration": 5,
    "start_time": "2024-11-03T18:44:32.413Z"
   },
   {
    "duration": 12,
    "start_time": "2024-11-03T18:44:32.422Z"
   },
   {
    "duration": 72,
    "start_time": "2024-11-03T18:44:32.436Z"
   },
   {
    "duration": 7,
    "start_time": "2024-11-03T18:44:32.512Z"
   },
   {
    "duration": 759,
    "start_time": "2024-11-03T18:44:32.521Z"
   },
   {
    "duration": 31,
    "start_time": "2024-11-03T18:44:33.282Z"
   },
   {
    "duration": 80,
    "start_time": "2024-11-03T18:45:21.254Z"
   },
   {
    "duration": 72,
    "start_time": "2024-11-03T18:45:41.106Z"
   },
   {
    "duration": 251,
    "start_time": "2024-11-03T18:46:24.228Z"
   },
   {
    "duration": 66,
    "start_time": "2024-11-03T18:46:52.601Z"
   },
   {
    "duration": 12,
    "start_time": "2024-11-03T19:19:21.240Z"
   },
   {
    "duration": 48,
    "start_time": "2024-11-03T19:19:40.547Z"
   },
   {
    "duration": 49,
    "start_time": "2024-11-03T19:20:14.824Z"
   },
   {
    "duration": 17,
    "start_time": "2024-11-03T19:20:32.620Z"
   },
   {
    "duration": 14,
    "start_time": "2024-11-03T19:21:05.279Z"
   },
   {
    "duration": 16,
    "start_time": "2024-11-03T19:21:15.558Z"
   },
   {
    "duration": 19,
    "start_time": "2024-11-03T19:23:26.063Z"
   },
   {
    "duration": 16,
    "start_time": "2024-11-03T19:23:49.823Z"
   },
   {
    "duration": 74,
    "start_time": "2024-11-03T19:24:22.269Z"
   },
   {
    "duration": 56,
    "start_time": "2024-11-03T19:24:32.517Z"
   },
   {
    "duration": 55,
    "start_time": "2024-11-03T19:25:10.800Z"
   },
   {
    "duration": 7,
    "start_time": "2024-11-03T19:25:43.937Z"
   },
   {
    "duration": 697,
    "start_time": "2024-11-03T19:26:25.160Z"
   },
   {
    "duration": 15,
    "start_time": "2024-11-03T19:27:26.222Z"
   },
   {
    "duration": 810,
    "start_time": "2024-11-03T20:56:26.563Z"
   },
   {
    "duration": 784,
    "start_time": "2024-11-03T20:56:35.865Z"
   },
   {
    "duration": 23,
    "start_time": "2024-11-03T20:56:36.651Z"
   },
   {
    "duration": 8,
    "start_time": "2024-11-03T20:56:36.676Z"
   },
   {
    "duration": 6,
    "start_time": "2024-11-03T20:56:36.686Z"
   },
   {
    "duration": 231,
    "start_time": "2024-11-03T20:56:36.694Z"
   },
   {
    "duration": 0,
    "start_time": "2024-11-03T20:56:36.926Z"
   },
   {
    "duration": 0,
    "start_time": "2024-11-03T20:56:36.927Z"
   },
   {
    "duration": 0,
    "start_time": "2024-11-03T20:56:36.929Z"
   },
   {
    "duration": 0,
    "start_time": "2024-11-03T20:56:36.930Z"
   },
   {
    "duration": 0,
    "start_time": "2024-11-03T20:56:36.932Z"
   },
   {
    "duration": 799,
    "start_time": "2024-11-03T20:56:59.840Z"
   },
   {
    "duration": 15,
    "start_time": "2024-11-03T20:57:00.641Z"
   },
   {
    "duration": 9,
    "start_time": "2024-11-03T20:57:00.657Z"
   },
   {
    "duration": 5,
    "start_time": "2024-11-03T20:57:00.667Z"
   },
   {
    "duration": 12,
    "start_time": "2024-11-03T20:57:00.675Z"
   },
   {
    "duration": 80,
    "start_time": "2024-11-03T20:57:00.689Z"
   },
   {
    "duration": 226,
    "start_time": "2024-11-03T20:57:00.771Z"
   },
   {
    "duration": 0,
    "start_time": "2024-11-03T20:57:00.999Z"
   },
   {
    "duration": 0,
    "start_time": "2024-11-03T20:57:01.001Z"
   },
   {
    "duration": 0,
    "start_time": "2024-11-03T20:57:01.002Z"
   },
   {
    "duration": 7,
    "start_time": "2024-11-03T20:57:51.594Z"
   },
   {
    "duration": 6,
    "start_time": "2024-11-03T20:59:21.950Z"
   },
   {
    "duration": 782,
    "start_time": "2024-11-03T20:59:34.346Z"
   },
   {
    "duration": 16,
    "start_time": "2024-11-03T20:59:35.130Z"
   },
   {
    "duration": 9,
    "start_time": "2024-11-03T20:59:35.148Z"
   },
   {
    "duration": 6,
    "start_time": "2024-11-03T20:59:35.160Z"
   },
   {
    "duration": 13,
    "start_time": "2024-11-03T20:59:35.168Z"
   },
   {
    "duration": 80,
    "start_time": "2024-11-03T20:59:35.183Z"
   },
   {
    "duration": 7,
    "start_time": "2024-11-03T20:59:35.264Z"
   },
   {
    "duration": 7,
    "start_time": "2024-11-03T20:59:35.272Z"
   },
   {
    "duration": 929,
    "start_time": "2024-11-03T20:59:35.281Z"
   },
   {
    "duration": 0,
    "start_time": "2024-11-03T20:59:36.212Z"
   },
   {
    "duration": 710,
    "start_time": "2024-11-03T21:01:18.618Z"
   },
   {
    "duration": 692,
    "start_time": "2024-11-03T21:01:35.558Z"
   },
   {
    "duration": 73,
    "start_time": "2024-11-03T21:21:03.089Z"
   },
   {
    "duration": 793,
    "start_time": "2024-11-04T14:01:21.019Z"
   },
   {
    "duration": 23,
    "start_time": "2024-11-04T14:01:21.814Z"
   },
   {
    "duration": 10,
    "start_time": "2024-11-04T14:01:21.838Z"
   },
   {
    "duration": 5,
    "start_time": "2024-11-04T14:01:21.850Z"
   },
   {
    "duration": 13,
    "start_time": "2024-11-04T14:01:21.857Z"
   },
   {
    "duration": 54,
    "start_time": "2024-11-04T14:01:21.888Z"
   },
   {
    "duration": 7,
    "start_time": "2024-11-04T14:01:21.944Z"
   },
   {
    "duration": 7,
    "start_time": "2024-11-04T14:01:21.953Z"
   },
   {
    "duration": 721,
    "start_time": "2024-11-04T14:01:21.961Z"
   },
   {
    "duration": 74,
    "start_time": "2024-11-04T14:01:22.686Z"
   },
   {
    "duration": 24,
    "start_time": "2024-11-04T14:01:22.762Z"
   },
   {
    "duration": 5,
    "start_time": "2024-11-04T14:18:06.423Z"
   },
   {
    "duration": 10,
    "start_time": "2024-11-04T14:18:30.804Z"
   },
   {
    "duration": 6,
    "start_time": "2024-11-04T14:19:17.698Z"
   },
   {
    "duration": 10,
    "start_time": "2024-11-04T14:19:40.685Z"
   },
   {
    "duration": 9,
    "start_time": "2024-11-04T14:19:53.440Z"
   },
   {
    "duration": 11,
    "start_time": "2024-11-04T14:20:14.124Z"
   },
   {
    "duration": 56,
    "start_time": "2024-11-04T14:20:58.358Z"
   },
   {
    "duration": 6,
    "start_time": "2024-11-04T14:21:34.507Z"
   },
   {
    "duration": 8,
    "start_time": "2024-11-04T14:22:29.905Z"
   },
   {
    "duration": 8,
    "start_time": "2024-11-04T14:22:35.129Z"
   },
   {
    "duration": 5,
    "start_time": "2024-11-04T14:25:27.342Z"
   },
   {
    "duration": 5,
    "start_time": "2024-11-04T14:25:38.121Z"
   },
   {
    "duration": 5,
    "start_time": "2024-11-04T14:25:48.568Z"
   },
   {
    "duration": 693,
    "start_time": "2024-11-04T14:25:59.109Z"
   },
   {
    "duration": 718,
    "start_time": "2024-11-04T14:26:22.905Z"
   },
   {
    "duration": 712,
    "start_time": "2024-11-04T14:26:32.594Z"
   },
   {
    "duration": 709,
    "start_time": "2024-11-04T14:27:18.397Z"
   },
   {
    "duration": 6,
    "start_time": "2024-11-04T14:27:55.713Z"
   },
   {
    "duration": 5,
    "start_time": "2024-11-04T14:28:23.498Z"
   },
   {
    "duration": 5,
    "start_time": "2024-11-04T14:28:54.147Z"
   },
   {
    "duration": 5,
    "start_time": "2024-11-04T14:29:28.203Z"
   },
   {
    "duration": 4,
    "start_time": "2024-11-04T14:29:34.976Z"
   },
   {
    "duration": 5,
    "start_time": "2024-11-04T14:30:02.734Z"
   },
   {
    "duration": 689,
    "start_time": "2024-11-04T14:30:39.231Z"
   },
   {
    "duration": 73,
    "start_time": "2024-11-04T14:32:08.356Z"
   },
   {
    "duration": 14,
    "start_time": "2024-11-04T14:34:05.726Z"
   },
   {
    "duration": 14,
    "start_time": "2024-11-04T14:34:17.903Z"
   },
   {
    "duration": 55,
    "start_time": "2024-11-04T14:42:48.063Z"
   },
   {
    "duration": 729,
    "start_time": "2024-11-04T15:09:02.382Z"
   },
   {
    "duration": 43,
    "start_time": "2024-11-04T15:09:03.114Z"
   },
   {
    "duration": 11,
    "start_time": "2024-11-04T15:09:03.162Z"
   },
   {
    "duration": 7,
    "start_time": "2024-11-04T15:09:03.176Z"
   },
   {
    "duration": 8,
    "start_time": "2024-11-04T15:09:03.184Z"
   },
   {
    "duration": 11,
    "start_time": "2024-11-04T15:09:03.193Z"
   },
   {
    "duration": 64,
    "start_time": "2024-11-04T15:09:03.205Z"
   },
   {
    "duration": 19,
    "start_time": "2024-11-04T15:09:03.271Z"
   },
   {
    "duration": 722,
    "start_time": "2024-11-04T15:09:03.291Z"
   },
   {
    "duration": 80,
    "start_time": "2024-11-04T15:09:04.016Z"
   },
   {
    "duration": 14,
    "start_time": "2024-11-04T15:09:04.098Z"
   },
   {
    "duration": 782,
    "start_time": "2024-11-04T16:53:04.762Z"
   },
   {
    "duration": 21,
    "start_time": "2024-11-04T16:53:05.547Z"
   },
   {
    "duration": 8,
    "start_time": "2024-11-04T16:53:05.569Z"
   },
   {
    "duration": 5,
    "start_time": "2024-11-04T16:53:05.579Z"
   },
   {
    "duration": 6,
    "start_time": "2024-11-04T16:53:05.587Z"
   },
   {
    "duration": 35,
    "start_time": "2024-11-04T16:53:05.594Z"
   },
   {
    "duration": 54,
    "start_time": "2024-11-04T16:53:05.630Z"
   },
   {
    "duration": 6,
    "start_time": "2024-11-04T16:53:05.686Z"
   },
   {
    "duration": 733,
    "start_time": "2024-11-04T16:53:05.694Z"
   },
   {
    "duration": 76,
    "start_time": "2024-11-04T16:53:06.428Z"
   },
   {
    "duration": 27,
    "start_time": "2024-11-04T16:53:06.506Z"
   },
   {
    "duration": 5,
    "start_time": "2024-11-04T16:55:02.031Z"
   },
   {
    "duration": 171,
    "start_time": "2024-11-04T20:55:38.734Z"
   },
   {
    "duration": 819,
    "start_time": "2024-11-04T20:55:45.804Z"
   },
   {
    "duration": 23,
    "start_time": "2024-11-04T20:55:46.625Z"
   },
   {
    "duration": 9,
    "start_time": "2024-11-04T20:55:46.650Z"
   },
   {
    "duration": 234,
    "start_time": "2024-11-04T20:55:46.661Z"
   },
   {
    "duration": 0,
    "start_time": "2024-11-04T20:55:46.897Z"
   },
   {
    "duration": 0,
    "start_time": "2024-11-04T20:55:46.898Z"
   },
   {
    "duration": 0,
    "start_time": "2024-11-04T20:55:46.900Z"
   },
   {
    "duration": 0,
    "start_time": "2024-11-04T20:55:46.902Z"
   },
   {
    "duration": 0,
    "start_time": "2024-11-04T20:55:46.903Z"
   },
   {
    "duration": 0,
    "start_time": "2024-11-04T20:55:46.905Z"
   },
   {
    "duration": 0,
    "start_time": "2024-11-04T20:55:46.907Z"
   },
   {
    "duration": 8,
    "start_time": "2024-11-04T20:57:36.908Z"
   },
   {
    "duration": 6,
    "start_time": "2024-11-04T20:59:19.091Z"
   },
   {
    "duration": 95,
    "start_time": "2024-11-04T21:02:25.460Z"
   },
   {
    "duration": 73,
    "start_time": "2024-11-04T21:04:01.831Z"
   },
   {
    "duration": 8,
    "start_time": "2024-11-04T21:04:25.787Z"
   },
   {
    "duration": 21,
    "start_time": "2024-11-04T21:05:09.113Z"
   },
   {
    "duration": 19,
    "start_time": "2024-11-04T21:05:23.228Z"
   },
   {
    "duration": 7,
    "start_time": "2024-11-04T21:05:51.541Z"
   },
   {
    "duration": 8,
    "start_time": "2024-11-04T21:07:04.297Z"
   },
   {
    "duration": 8,
    "start_time": "2024-11-04T21:09:11.326Z"
   },
   {
    "duration": 773,
    "start_time": "2024-11-04T21:10:00.955Z"
   },
   {
    "duration": 36,
    "start_time": "2024-11-04T21:10:01.731Z"
   },
   {
    "duration": 10,
    "start_time": "2024-11-04T21:10:01.769Z"
   },
   {
    "duration": 232,
    "start_time": "2024-11-04T21:10:01.780Z"
   },
   {
    "duration": 0,
    "start_time": "2024-11-04T21:10:02.015Z"
   },
   {
    "duration": 0,
    "start_time": "2024-11-04T21:10:02.016Z"
   },
   {
    "duration": 0,
    "start_time": "2024-11-04T21:10:02.017Z"
   },
   {
    "duration": 0,
    "start_time": "2024-11-04T21:10:02.019Z"
   },
   {
    "duration": 0,
    "start_time": "2024-11-04T21:10:02.020Z"
   },
   {
    "duration": 0,
    "start_time": "2024-11-04T21:10:02.021Z"
   },
   {
    "duration": 0,
    "start_time": "2024-11-04T21:10:02.023Z"
   },
   {
    "duration": 8,
    "start_time": "2024-11-04T21:21:19.037Z"
   },
   {
    "duration": 760,
    "start_time": "2024-11-04T21:21:26.726Z"
   },
   {
    "duration": 15,
    "start_time": "2024-11-04T21:21:27.488Z"
   },
   {
    "duration": 9,
    "start_time": "2024-11-04T21:21:27.505Z"
   },
   {
    "duration": 8,
    "start_time": "2024-11-04T21:21:27.516Z"
   },
   {
    "duration": 5,
    "start_time": "2024-11-04T21:21:27.525Z"
   },
   {
    "duration": 11,
    "start_time": "2024-11-04T21:21:27.532Z"
   },
   {
    "duration": 55,
    "start_time": "2024-11-04T21:21:27.570Z"
   },
   {
    "duration": 6,
    "start_time": "2024-11-04T21:21:27.626Z"
   },
   {
    "duration": 720,
    "start_time": "2024-11-04T21:21:27.633Z"
   },
   {
    "duration": 80,
    "start_time": "2024-11-04T21:21:28.356Z"
   },
   {
    "duration": 14,
    "start_time": "2024-11-04T21:21:28.438Z"
   },
   {
    "duration": 796,
    "start_time": "2024-11-05T15:06:22.402Z"
   },
   {
    "duration": 18,
    "start_time": "2024-11-05T15:06:23.200Z"
   },
   {
    "duration": 9,
    "start_time": "2024-11-05T15:06:23.220Z"
   },
   {
    "duration": 8,
    "start_time": "2024-11-05T15:06:23.230Z"
   },
   {
    "duration": 4,
    "start_time": "2024-11-05T15:06:23.241Z"
   },
   {
    "duration": 12,
    "start_time": "2024-11-05T15:06:23.269Z"
   },
   {
    "duration": 55,
    "start_time": "2024-11-05T15:06:23.282Z"
   },
   {
    "duration": 6,
    "start_time": "2024-11-05T15:06:23.339Z"
   },
   {
    "duration": 727,
    "start_time": "2024-11-05T15:06:23.346Z"
   },
   {
    "duration": 73,
    "start_time": "2024-11-05T15:06:24.077Z"
   },
   {
    "duration": 25,
    "start_time": "2024-11-05T15:06:24.152Z"
   },
   {
    "duration": 714,
    "start_time": "2024-11-05T15:06:34.486Z"
   },
   {
    "duration": 15193,
    "start_time": "2024-11-05T15:06:54.550Z"
   },
   {
    "duration": 851,
    "start_time": "2024-11-05T15:07:28.390Z"
   },
   {
    "duration": 1037,
    "start_time": "2024-11-05T15:10:42.819Z"
   },
   {
    "duration": 3,
    "start_time": "2024-11-05T15:11:02.462Z"
   },
   {
    "duration": 920,
    "start_time": "2024-11-05T15:11:07.681Z"
   },
   {
    "duration": 209,
    "start_time": "2024-11-05T15:14:08.162Z"
   },
   {
    "duration": 253,
    "start_time": "2024-11-05T15:14:18.763Z"
   },
   {
    "duration": 53,
    "start_time": "2024-11-05T15:14:38.119Z"
   },
   {
    "duration": 775,
    "start_time": "2024-11-05T15:15:30.234Z"
   },
   {
    "duration": 236,
    "start_time": "2024-11-05T15:24:12.823Z"
   },
   {
    "duration": 40,
    "start_time": "2024-11-05T15:24:18.059Z"
   },
   {
    "duration": 261,
    "start_time": "2024-11-05T15:26:42.066Z"
   },
   {
    "duration": 41,
    "start_time": "2024-11-05T15:26:46.093Z"
   },
   {
    "duration": 230,
    "start_time": "2024-11-05T15:27:24.544Z"
   },
   {
    "duration": 38,
    "start_time": "2024-11-05T15:27:32.523Z"
   },
   {
    "duration": 220,
    "start_time": "2024-11-05T15:27:46.067Z"
   },
   {
    "duration": 38,
    "start_time": "2024-11-05T15:27:48.265Z"
   },
   {
    "duration": 240,
    "start_time": "2024-11-05T15:27:56.675Z"
   },
   {
    "duration": 38,
    "start_time": "2024-11-05T15:28:01.674Z"
   },
   {
    "duration": 214,
    "start_time": "2024-11-05T15:28:09.929Z"
   },
   {
    "duration": 36,
    "start_time": "2024-11-05T15:28:13.085Z"
   },
   {
    "duration": 214,
    "start_time": "2024-11-05T15:29:49.471Z"
   },
   {
    "duration": 36,
    "start_time": "2024-11-05T15:29:53.026Z"
   },
   {
    "duration": 634,
    "start_time": "2024-11-05T15:30:20.954Z"
   },
   {
    "duration": 68,
    "start_time": "2024-11-05T15:30:25.562Z"
   },
   {
    "duration": 743,
    "start_time": "2024-11-05T15:30:42.249Z"
   },
   {
    "duration": 16,
    "start_time": "2024-11-05T15:30:42.994Z"
   },
   {
    "duration": 9,
    "start_time": "2024-11-05T15:30:43.012Z"
   },
   {
    "duration": 8,
    "start_time": "2024-11-05T15:30:43.023Z"
   },
   {
    "duration": 5,
    "start_time": "2024-11-05T15:30:43.033Z"
   },
   {
    "duration": 32,
    "start_time": "2024-11-05T15:30:43.040Z"
   },
   {
    "duration": 55,
    "start_time": "2024-11-05T15:30:43.074Z"
   },
   {
    "duration": 5,
    "start_time": "2024-11-05T15:30:43.131Z"
   },
   {
    "duration": 647,
    "start_time": "2024-11-05T15:30:43.140Z"
   },
   {
    "duration": 63,
    "start_time": "2024-11-05T15:30:43.789Z"
   },
   {
    "duration": 25,
    "start_time": "2024-11-05T15:30:43.853Z"
   },
   {
    "duration": 643,
    "start_time": "2024-11-05T15:33:32.694Z"
   },
   {
    "duration": 5,
    "start_time": "2024-11-05T15:38:48.673Z"
   },
   {
    "duration": 6,
    "start_time": "2024-11-05T15:39:02.257Z"
   },
   {
    "duration": 7,
    "start_time": "2024-11-05T15:45:40.809Z"
   },
   {
    "duration": 6,
    "start_time": "2024-11-05T15:45:55.048Z"
   },
   {
    "duration": 14,
    "start_time": "2024-11-05T15:46:23.859Z"
   },
   {
    "duration": 6,
    "start_time": "2024-11-05T15:46:26.844Z"
   },
   {
    "duration": 730,
    "start_time": "2024-11-05T16:05:22.559Z"
   },
   {
    "duration": 17,
    "start_time": "2024-11-05T16:05:23.291Z"
   },
   {
    "duration": 9,
    "start_time": "2024-11-05T16:05:23.310Z"
   },
   {
    "duration": 8,
    "start_time": "2024-11-05T16:05:23.322Z"
   },
   {
    "duration": 5,
    "start_time": "2024-11-05T16:05:23.331Z"
   },
   {
    "duration": 33,
    "start_time": "2024-11-05T16:05:23.338Z"
   },
   {
    "duration": 55,
    "start_time": "2024-11-05T16:05:23.372Z"
   },
   {
    "duration": 7,
    "start_time": "2024-11-05T16:05:23.429Z"
   },
   {
    "duration": 639,
    "start_time": "2024-11-05T16:05:23.438Z"
   },
   {
    "duration": 63,
    "start_time": "2024-11-05T16:05:24.079Z"
   },
   {
    "duration": 26,
    "start_time": "2024-11-05T16:05:24.144Z"
   },
   {
    "duration": 6,
    "start_time": "2024-11-05T16:05:24.172Z"
   },
   {
    "duration": 769,
    "start_time": "2024-11-05T21:31:41.703Z"
   },
   {
    "duration": 20,
    "start_time": "2024-11-05T21:31:42.474Z"
   },
   {
    "duration": 8,
    "start_time": "2024-11-05T21:31:42.496Z"
   },
   {
    "duration": 7,
    "start_time": "2024-11-05T21:31:42.506Z"
   },
   {
    "duration": 6,
    "start_time": "2024-11-05T21:31:42.515Z"
   },
   {
    "duration": 28,
    "start_time": "2024-11-05T21:31:42.523Z"
   },
   {
    "duration": 57,
    "start_time": "2024-11-05T21:31:42.553Z"
   },
   {
    "duration": 6,
    "start_time": "2024-11-05T21:31:42.611Z"
   },
   {
    "duration": 659,
    "start_time": "2024-11-05T21:31:42.618Z"
   },
   {
    "duration": 72,
    "start_time": "2024-11-05T21:31:43.278Z"
   },
   {
    "duration": 14,
    "start_time": "2024-11-05T21:31:43.352Z"
   },
   {
    "duration": 5,
    "start_time": "2024-11-05T21:31:43.368Z"
   }
  ],
  "kernelspec": {
   "display_name": "base",
   "language": "python",
   "name": "python3"
  },
  "language_info": {
   "codemirror_mode": {
    "name": "ipython",
    "version": 3
   },
   "file_extension": ".py",
   "mimetype": "text/x-python",
   "name": "python",
   "nbconvert_exporter": "python",
   "pygments_lexer": "ipython3",
   "version": "3.12.4"
  },
  "toc": {
   "base_numbering": 1,
   "nav_menu": {},
   "number_sections": true,
   "sideBar": true,
   "skip_h1_title": true,
   "title_cell": "Table of Contents",
   "title_sidebar": "Contents",
   "toc_cell": false,
   "toc_position": {},
   "toc_section_display": true,
   "toc_window_display": false
  }
 },
 "nbformat": 4,
 "nbformat_minor": 2
}
