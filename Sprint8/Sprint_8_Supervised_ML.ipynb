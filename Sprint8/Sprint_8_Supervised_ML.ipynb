{
 "cells": [
  {
   "cell_type": "markdown",
   "metadata": {},
   "source": [
    "# Predicting client churn using supervised machine learning"
   ]
  },
  {
   "cell_type": "markdown",
   "metadata": {},
   "source": [
    "**Introduction**\n",
    "Beta Bank is trying to figure out how to predict which clients are most at risk for leaving the bank. I will use the client behavior data set in order to predict which clients will leave by creating an algorithim through supervised machine learning."
   ]
  },
  {
   "cell_type": "markdown",
   "metadata": {},
   "source": [
    "**Importing resources and data for evaluation**"
   ]
  },
  {
   "cell_type": "code",
   "execution_count": 1,
   "metadata": {},
   "outputs": [],
   "source": [
    "#import packages to complete the tasks in this project\n",
    "import pandas as pd\n",
    "from sklearn.tree import DecisionTreeClassifier\n",
    "from sklearn.model_selection import train_test_split\n",
    "from sklearn.metrics import f1_score, roc_auc_score, mean_absolute_error, classification_report, confusion_matrix\n",
    "from sklearn.preprocessing import OrdinalEncoder, StandardScaler\n",
    "from sklearn.utils import shuffle, resample\n",
    "from sklearn.linear_model import LogisticRegression\n",
    "from sklearn.ensemble import RandomForestClassifier\n"
   ]
  },
  {
   "cell_type": "markdown",
   "metadata": {},
   "source": [
    "Take a preliminary look at the data. Look at the different columns and see if there are any missing values. Also, look to see what the data type for each column is to decide if any need to be changed before processing."
   ]
  },
  {
   "cell_type": "code",
   "execution_count": 2,
   "metadata": {
    "scrolled": true
   },
   "outputs": [
    {
     "data": {
      "text/html": [
       "<div>\n",
       "<style scoped>\n",
       "    .dataframe tbody tr th:only-of-type {\n",
       "        vertical-align: middle;\n",
       "    }\n",
       "\n",
       "    .dataframe tbody tr th {\n",
       "        vertical-align: top;\n",
       "    }\n",
       "\n",
       "    .dataframe thead th {\n",
       "        text-align: right;\n",
       "    }\n",
       "</style>\n",
       "<table border=\"1\" class=\"dataframe\">\n",
       "  <thead>\n",
       "    <tr style=\"text-align: right;\">\n",
       "      <th></th>\n",
       "      <th>RowNumber</th>\n",
       "      <th>CustomerId</th>\n",
       "      <th>Surname</th>\n",
       "      <th>CreditScore</th>\n",
       "      <th>Geography</th>\n",
       "      <th>Gender</th>\n",
       "      <th>Age</th>\n",
       "      <th>Tenure</th>\n",
       "      <th>Balance</th>\n",
       "      <th>NumOfProducts</th>\n",
       "      <th>HasCrCard</th>\n",
       "      <th>IsActiveMember</th>\n",
       "      <th>EstimatedSalary</th>\n",
       "      <th>Exited</th>\n",
       "    </tr>\n",
       "  </thead>\n",
       "  <tbody>\n",
       "    <tr>\n",
       "      <th>0</th>\n",
       "      <td>1</td>\n",
       "      <td>15634602</td>\n",
       "      <td>Hargrave</td>\n",
       "      <td>619</td>\n",
       "      <td>France</td>\n",
       "      <td>Female</td>\n",
       "      <td>42</td>\n",
       "      <td>2.0</td>\n",
       "      <td>0.00</td>\n",
       "      <td>1</td>\n",
       "      <td>1</td>\n",
       "      <td>1</td>\n",
       "      <td>101348.88</td>\n",
       "      <td>1</td>\n",
       "    </tr>\n",
       "    <tr>\n",
       "      <th>1</th>\n",
       "      <td>2</td>\n",
       "      <td>15647311</td>\n",
       "      <td>Hill</td>\n",
       "      <td>608</td>\n",
       "      <td>Spain</td>\n",
       "      <td>Female</td>\n",
       "      <td>41</td>\n",
       "      <td>1.0</td>\n",
       "      <td>83807.86</td>\n",
       "      <td>1</td>\n",
       "      <td>0</td>\n",
       "      <td>1</td>\n",
       "      <td>112542.58</td>\n",
       "      <td>0</td>\n",
       "    </tr>\n",
       "    <tr>\n",
       "      <th>2</th>\n",
       "      <td>3</td>\n",
       "      <td>15619304</td>\n",
       "      <td>Onio</td>\n",
       "      <td>502</td>\n",
       "      <td>France</td>\n",
       "      <td>Female</td>\n",
       "      <td>42</td>\n",
       "      <td>8.0</td>\n",
       "      <td>159660.80</td>\n",
       "      <td>3</td>\n",
       "      <td>1</td>\n",
       "      <td>0</td>\n",
       "      <td>113931.57</td>\n",
       "      <td>1</td>\n",
       "    </tr>\n",
       "    <tr>\n",
       "      <th>3</th>\n",
       "      <td>4</td>\n",
       "      <td>15701354</td>\n",
       "      <td>Boni</td>\n",
       "      <td>699</td>\n",
       "      <td>France</td>\n",
       "      <td>Female</td>\n",
       "      <td>39</td>\n",
       "      <td>1.0</td>\n",
       "      <td>0.00</td>\n",
       "      <td>2</td>\n",
       "      <td>0</td>\n",
       "      <td>0</td>\n",
       "      <td>93826.63</td>\n",
       "      <td>0</td>\n",
       "    </tr>\n",
       "    <tr>\n",
       "      <th>4</th>\n",
       "      <td>5</td>\n",
       "      <td>15737888</td>\n",
       "      <td>Mitchell</td>\n",
       "      <td>850</td>\n",
       "      <td>Spain</td>\n",
       "      <td>Female</td>\n",
       "      <td>43</td>\n",
       "      <td>2.0</td>\n",
       "      <td>125510.82</td>\n",
       "      <td>1</td>\n",
       "      <td>1</td>\n",
       "      <td>1</td>\n",
       "      <td>79084.10</td>\n",
       "      <td>0</td>\n",
       "    </tr>\n",
       "  </tbody>\n",
       "</table>\n",
       "</div>"
      ],
      "text/plain": [
       "   RowNumber  CustomerId   Surname  CreditScore Geography  Gender  Age  \\\n",
       "0          1    15634602  Hargrave          619    France  Female   42   \n",
       "1          2    15647311      Hill          608     Spain  Female   41   \n",
       "2          3    15619304      Onio          502    France  Female   42   \n",
       "3          4    15701354      Boni          699    France  Female   39   \n",
       "4          5    15737888  Mitchell          850     Spain  Female   43   \n",
       "\n",
       "   Tenure    Balance  NumOfProducts  HasCrCard  IsActiveMember  \\\n",
       "0     2.0       0.00              1          1               1   \n",
       "1     1.0   83807.86              1          0               1   \n",
       "2     8.0  159660.80              3          1               0   \n",
       "3     1.0       0.00              2          0               0   \n",
       "4     2.0  125510.82              1          1               1   \n",
       "\n",
       "   EstimatedSalary  Exited  \n",
       "0        101348.88       1  \n",
       "1        112542.58       0  \n",
       "2        113931.57       1  \n",
       "3         93826.63       0  \n",
       "4         79084.10       0  "
      ]
     },
     "metadata": {},
     "output_type": "display_data"
    }
   ],
   "source": [
    "#upload the data into a pandas dataframe\n",
    "df = pd.read_csv('Churn.csv')\n",
    "display(df.head())"
   ]
  },
  {
   "cell_type": "code",
   "execution_count": 3,
   "metadata": {},
   "outputs": [
    {
     "name": "stdout",
     "output_type": "stream",
     "text": [
      "shape of the data: (10000, 14)\n",
      "\n",
      "<class 'pandas.core.frame.DataFrame'>\n",
      "RangeIndex: 10000 entries, 0 to 9999\n",
      "Data columns (total 14 columns):\n",
      " #   Column           Non-Null Count  Dtype  \n",
      "---  ------           --------------  -----  \n",
      " 0   RowNumber        10000 non-null  int64  \n",
      " 1   CustomerId       10000 non-null  int64  \n",
      " 2   Surname          10000 non-null  object \n",
      " 3   CreditScore      10000 non-null  int64  \n",
      " 4   Geography        10000 non-null  object \n",
      " 5   Gender           10000 non-null  object \n",
      " 6   Age              10000 non-null  int64  \n",
      " 7   Tenure           9091 non-null   float64\n",
      " 8   Balance          10000 non-null  float64\n",
      " 9   NumOfProducts    10000 non-null  int64  \n",
      " 10  HasCrCard        10000 non-null  int64  \n",
      " 11  IsActiveMember   10000 non-null  int64  \n",
      " 12  EstimatedSalary  10000 non-null  float64\n",
      " 13  Exited           10000 non-null  int64  \n",
      "dtypes: float64(3), int64(8), object(3)\n",
      "memory usage: 1.1+ MB\n",
      "None\n",
      "\n",
      "RowNumber            int64\n",
      "CustomerId           int64\n",
      "Surname             object\n",
      "CreditScore          int64\n",
      "Geography           object\n",
      "Gender              object\n",
      "Age                  int64\n",
      "Tenure             float64\n",
      "Balance            float64\n",
      "NumOfProducts        int64\n",
      "HasCrCard            int64\n",
      "IsActiveMember       int64\n",
      "EstimatedSalary    float64\n",
      "Exited               int64\n",
      "dtype: object\n"
     ]
    }
   ],
   "source": [
    "#Observe the shape of and features of the data\n",
    "print(\"shape of the data:\", df.shape)\n",
    "print()\n",
    "print(df.info())\n",
    "print()\n",
    "print(df.dtypes)\n"
   ]
  },
  {
   "cell_type": "markdown",
   "metadata": {},
   "source": [
    "**Pre-processing**\n",
    "In this data set it seems that there are going to need to be a few pre-processing steps taken. 1. Fill the null values from the Tenure column. 2. Drop irrelevant data 3. Use one-hot encoding to turn the nominal columns (geography and gender) into numeric values. 4. Split the data into Training, Validation, and Test sets. 5. Scale the data to normalize each feature."
   ]
  },
  {
   "cell_type": "code",
   "execution_count": 4,
   "metadata": {},
   "outputs": [
    {
     "data": {
      "text/html": [
       "<div>\n",
       "<style scoped>\n",
       "    .dataframe tbody tr th:only-of-type {\n",
       "        vertical-align: middle;\n",
       "    }\n",
       "\n",
       "    .dataframe tbody tr th {\n",
       "        vertical-align: top;\n",
       "    }\n",
       "\n",
       "    .dataframe thead th {\n",
       "        text-align: right;\n",
       "    }\n",
       "</style>\n",
       "<table border=\"1\" class=\"dataframe\">\n",
       "  <thead>\n",
       "    <tr style=\"text-align: right;\">\n",
       "      <th></th>\n",
       "      <th>RowNumber</th>\n",
       "      <th>CustomerId</th>\n",
       "      <th>Surname</th>\n",
       "      <th>CreditScore</th>\n",
       "      <th>Geography</th>\n",
       "      <th>Gender</th>\n",
       "      <th>Age</th>\n",
       "      <th>Tenure</th>\n",
       "      <th>Balance</th>\n",
       "      <th>NumOfProducts</th>\n",
       "      <th>HasCrCard</th>\n",
       "      <th>IsActiveMember</th>\n",
       "      <th>EstimatedSalary</th>\n",
       "      <th>Exited</th>\n",
       "    </tr>\n",
       "  </thead>\n",
       "  <tbody>\n",
       "    <tr>\n",
       "      <th>30</th>\n",
       "      <td>31</td>\n",
       "      <td>15589475</td>\n",
       "      <td>Azikiwe</td>\n",
       "      <td>591</td>\n",
       "      <td>Spain</td>\n",
       "      <td>Female</td>\n",
       "      <td>39</td>\n",
       "      <td>NaN</td>\n",
       "      <td>0.00</td>\n",
       "      <td>3</td>\n",
       "      <td>1</td>\n",
       "      <td>0</td>\n",
       "      <td>140469.38</td>\n",
       "      <td>1</td>\n",
       "    </tr>\n",
       "    <tr>\n",
       "      <th>48</th>\n",
       "      <td>49</td>\n",
       "      <td>15766205</td>\n",
       "      <td>Yin</td>\n",
       "      <td>550</td>\n",
       "      <td>Germany</td>\n",
       "      <td>Male</td>\n",
       "      <td>38</td>\n",
       "      <td>NaN</td>\n",
       "      <td>103391.38</td>\n",
       "      <td>1</td>\n",
       "      <td>0</td>\n",
       "      <td>1</td>\n",
       "      <td>90878.13</td>\n",
       "      <td>0</td>\n",
       "    </tr>\n",
       "    <tr>\n",
       "      <th>51</th>\n",
       "      <td>52</td>\n",
       "      <td>15768193</td>\n",
       "      <td>Trevisani</td>\n",
       "      <td>585</td>\n",
       "      <td>Germany</td>\n",
       "      <td>Male</td>\n",
       "      <td>36</td>\n",
       "      <td>NaN</td>\n",
       "      <td>146050.97</td>\n",
       "      <td>2</td>\n",
       "      <td>0</td>\n",
       "      <td>0</td>\n",
       "      <td>86424.57</td>\n",
       "      <td>0</td>\n",
       "    </tr>\n",
       "    <tr>\n",
       "      <th>53</th>\n",
       "      <td>54</td>\n",
       "      <td>15702298</td>\n",
       "      <td>Parkhill</td>\n",
       "      <td>655</td>\n",
       "      <td>Germany</td>\n",
       "      <td>Male</td>\n",
       "      <td>41</td>\n",
       "      <td>NaN</td>\n",
       "      <td>125561.97</td>\n",
       "      <td>1</td>\n",
       "      <td>0</td>\n",
       "      <td>0</td>\n",
       "      <td>164040.94</td>\n",
       "      <td>1</td>\n",
       "    </tr>\n",
       "    <tr>\n",
       "      <th>60</th>\n",
       "      <td>61</td>\n",
       "      <td>15651280</td>\n",
       "      <td>Hunter</td>\n",
       "      <td>742</td>\n",
       "      <td>Germany</td>\n",
       "      <td>Male</td>\n",
       "      <td>35</td>\n",
       "      <td>NaN</td>\n",
       "      <td>136857.00</td>\n",
       "      <td>1</td>\n",
       "      <td>0</td>\n",
       "      <td>0</td>\n",
       "      <td>84509.57</td>\n",
       "      <td>0</td>\n",
       "    </tr>\n",
       "  </tbody>\n",
       "</table>\n",
       "</div>"
      ],
      "text/plain": [
       "    RowNumber  CustomerId    Surname  CreditScore Geography  Gender  Age  \\\n",
       "30         31    15589475    Azikiwe          591     Spain  Female   39   \n",
       "48         49    15766205        Yin          550   Germany    Male   38   \n",
       "51         52    15768193  Trevisani          585   Germany    Male   36   \n",
       "53         54    15702298   Parkhill          655   Germany    Male   41   \n",
       "60         61    15651280     Hunter          742   Germany    Male   35   \n",
       "\n",
       "    Tenure    Balance  NumOfProducts  HasCrCard  IsActiveMember  \\\n",
       "30     NaN       0.00              3          1               0   \n",
       "48     NaN  103391.38              1          0               1   \n",
       "51     NaN  146050.97              2          0               0   \n",
       "53     NaN  125561.97              1          0               0   \n",
       "60     NaN  136857.00              1          0               0   \n",
       "\n",
       "    EstimatedSalary  Exited  \n",
       "30        140469.38       1  \n",
       "48         90878.13       0  \n",
       "51         86424.57       0  \n",
       "53        164040.94       1  \n",
       "60         84509.57       0  "
      ]
     },
     "metadata": {},
     "output_type": "display_data"
    }
   ],
   "source": [
    "#since there are 909 null values in the Tenure column, I want to get a closer look at what they are so that I can decide what to do with them.\n",
    "nan_df = df[df['Tenure'].isna()]\n",
    "display(nan_df.head())"
   ]
  },
  {
   "cell_type": "code",
   "execution_count": 5,
   "metadata": {},
   "outputs": [],
   "source": [
    "#after looking considering the Tenure column, I've decided to fill the NaN values with the median value for the whole dataset\n",
    "tenure_median = df['Tenure'].median()\n",
    "df = df.fillna(tenure_median)"
   ]
  },
  {
   "cell_type": "code",
   "execution_count": 6,
   "metadata": {},
   "outputs": [
    {
     "data": {
      "text/html": [
       "<div>\n",
       "<style scoped>\n",
       "    .dataframe tbody tr th:only-of-type {\n",
       "        vertical-align: middle;\n",
       "    }\n",
       "\n",
       "    .dataframe tbody tr th {\n",
       "        vertical-align: top;\n",
       "    }\n",
       "\n",
       "    .dataframe thead th {\n",
       "        text-align: right;\n",
       "    }\n",
       "</style>\n",
       "<table border=\"1\" class=\"dataframe\">\n",
       "  <thead>\n",
       "    <tr style=\"text-align: right;\">\n",
       "      <th></th>\n",
       "      <th>CreditScore</th>\n",
       "      <th>Geography</th>\n",
       "      <th>Gender</th>\n",
       "      <th>Age</th>\n",
       "      <th>Tenure</th>\n",
       "      <th>Balance</th>\n",
       "      <th>NumOfProducts</th>\n",
       "      <th>HasCrCard</th>\n",
       "      <th>IsActiveMember</th>\n",
       "      <th>EstimatedSalary</th>\n",
       "      <th>Exited</th>\n",
       "    </tr>\n",
       "  </thead>\n",
       "  <tbody>\n",
       "    <tr>\n",
       "      <th>0</th>\n",
       "      <td>619</td>\n",
       "      <td>France</td>\n",
       "      <td>Female</td>\n",
       "      <td>42</td>\n",
       "      <td>2.0</td>\n",
       "      <td>0.00</td>\n",
       "      <td>1</td>\n",
       "      <td>1</td>\n",
       "      <td>1</td>\n",
       "      <td>101348.88</td>\n",
       "      <td>1</td>\n",
       "    </tr>\n",
       "    <tr>\n",
       "      <th>1</th>\n",
       "      <td>608</td>\n",
       "      <td>Spain</td>\n",
       "      <td>Female</td>\n",
       "      <td>41</td>\n",
       "      <td>1.0</td>\n",
       "      <td>83807.86</td>\n",
       "      <td>1</td>\n",
       "      <td>0</td>\n",
       "      <td>1</td>\n",
       "      <td>112542.58</td>\n",
       "      <td>0</td>\n",
       "    </tr>\n",
       "    <tr>\n",
       "      <th>2</th>\n",
       "      <td>502</td>\n",
       "      <td>France</td>\n",
       "      <td>Female</td>\n",
       "      <td>42</td>\n",
       "      <td>8.0</td>\n",
       "      <td>159660.80</td>\n",
       "      <td>3</td>\n",
       "      <td>1</td>\n",
       "      <td>0</td>\n",
       "      <td>113931.57</td>\n",
       "      <td>1</td>\n",
       "    </tr>\n",
       "    <tr>\n",
       "      <th>3</th>\n",
       "      <td>699</td>\n",
       "      <td>France</td>\n",
       "      <td>Female</td>\n",
       "      <td>39</td>\n",
       "      <td>1.0</td>\n",
       "      <td>0.00</td>\n",
       "      <td>2</td>\n",
       "      <td>0</td>\n",
       "      <td>0</td>\n",
       "      <td>93826.63</td>\n",
       "      <td>0</td>\n",
       "    </tr>\n",
       "    <tr>\n",
       "      <th>4</th>\n",
       "      <td>850</td>\n",
       "      <td>Spain</td>\n",
       "      <td>Female</td>\n",
       "      <td>43</td>\n",
       "      <td>2.0</td>\n",
       "      <td>125510.82</td>\n",
       "      <td>1</td>\n",
       "      <td>1</td>\n",
       "      <td>1</td>\n",
       "      <td>79084.10</td>\n",
       "      <td>0</td>\n",
       "    </tr>\n",
       "  </tbody>\n",
       "</table>\n",
       "</div>"
      ],
      "text/plain": [
       "   CreditScore Geography  Gender  Age  Tenure    Balance  NumOfProducts  \\\n",
       "0          619    France  Female   42     2.0       0.00              1   \n",
       "1          608     Spain  Female   41     1.0   83807.86              1   \n",
       "2          502    France  Female   42     8.0  159660.80              3   \n",
       "3          699    France  Female   39     1.0       0.00              2   \n",
       "4          850     Spain  Female   43     2.0  125510.82              1   \n",
       "\n",
       "   HasCrCard  IsActiveMember  EstimatedSalary  Exited  \n",
       "0          1               1        101348.88       1  \n",
       "1          0               1        112542.58       0  \n",
       "2          1               0        113931.57       1  \n",
       "3          0               0         93826.63       0  \n",
       "4          1               1         79084.10       0  "
      ]
     },
     "metadata": {},
     "output_type": "display_data"
    }
   ],
   "source": [
    "#In this assignment, RowNumber, CustomerId, and Surname are irrelevant to the task. Drop these from the data\n",
    "df_rel = df.drop(columns=['RowNumber', 'CustomerId', 'Surname'])\n",
    "display(df_rel.head())"
   ]
  },
  {
   "cell_type": "code",
   "execution_count": 7,
   "metadata": {},
   "outputs": [
    {
     "name": "stdout",
     "output_type": "stream",
     "text": [
      "['Female' 'Male']\n",
      "['France' 'Spain' 'Germany']\n"
     ]
    }
   ],
   "source": [
    "#Now I want to check the unique values of the gender and geography columns. This will help with encoding them\n",
    "print(df_rel['Gender'].unique())\n",
    "print(df_rel['Geography'].unique())"
   ]
  },
  {
   "cell_type": "code",
   "execution_count": 8,
   "metadata": {
    "scrolled": true
   },
   "outputs": [
    {
     "name": "stdout",
     "output_type": "stream",
     "text": [
      "<class 'pandas.core.frame.DataFrame'>\n",
      "RangeIndex: 10000 entries, 0 to 9999\n",
      "Data columns (total 12 columns):\n",
      " #   Column             Non-Null Count  Dtype  \n",
      "---  ------             --------------  -----  \n",
      " 0   CreditScore        10000 non-null  int64  \n",
      " 1   Age                10000 non-null  int64  \n",
      " 2   Tenure             10000 non-null  float64\n",
      " 3   Balance            10000 non-null  float64\n",
      " 4   NumOfProducts      10000 non-null  int64  \n",
      " 5   HasCrCard          10000 non-null  int64  \n",
      " 6   IsActiveMember     10000 non-null  int64  \n",
      " 7   EstimatedSalary    10000 non-null  float64\n",
      " 8   Exited             10000 non-null  int64  \n",
      " 9   Geography_Germany  10000 non-null  bool   \n",
      " 10  Geography_Spain    10000 non-null  bool   \n",
      " 11  Gender_Male        10000 non-null  bool   \n",
      "dtypes: bool(3), float64(3), int64(6)\n",
      "memory usage: 732.6 KB\n",
      "None\n"
     ]
    }
   ],
   "source": [
    "#Use One-hot encoding for the Data in the gender and geography columns\n",
    "df_ohe = pd.get_dummies(df_rel, drop_first=True)\n",
    "#verify that the dtype for the columns in question have changed\n",
    "print(df_ohe.info())"
   ]
  },
  {
   "cell_type": "code",
   "execution_count": 9,
   "metadata": {},
   "outputs": [
    {
     "name": "stdout",
     "output_type": "stream",
     "text": [
      "The training set shape is 6000 for features\n",
      "The validation set shape is 2000 for features\n",
      "The test set shape is 2000 for features\n"
     ]
    }
   ],
   "source": [
    "#define features and target\n",
    "target = df_ohe['Exited']\n",
    "features = df_ohe.drop(columns=['Exited'], axis=1)\n",
    "#split the data into a Training and Validation sets and Test Set\n",
    "#use the stratify parameter to begin helping the imbalance of data\n",
    "features_train, features_valid, target_train, target_valid = train_test_split(features, target, test_size=0.2, random_state=8420, stratify=target)\n",
    "features_train, features_test, target_train, target_test = train_test_split(features_train, target_train, test_size=0.25, random_state=8420, stratify=target_train)\n",
    "\n",
    "print(f'The training set shape is {len(features_train)} for features')\n",
    "print(f'The validation set shape is {len(features_valid)} for features')\n",
    "print(f'The test set shape is {len(features_test)} for features')"
   ]
  },
  {
   "cell_type": "code",
   "execution_count": 10,
   "metadata": {
    "scrolled": false
   },
   "outputs": [
    {
     "name": "stdout",
     "output_type": "stream",
     "text": [
      "Those who have not exited yet make up: 79.63 % of this data set\n",
      "Those who have already exited make up: 20.37 % of this data set\n"
     ]
    }
   ],
   "source": [
    "#What is the distribution of the data to those who have left and those who have not\n",
    "print('Those who have not exited yet make up:',((target==0).sum())/100,'% of this data set')\n",
    "print('Those who have already exited make up:',(target==1).sum()/100,'% of this data set')"
   ]
  },
  {
   "cell_type": "markdown",
   "metadata": {},
   "source": [
    "**Scale the Data**\n",
    "I'm going to use the StandardScaler strategy to normalize the features of this data set. "
   ]
  },
  {
   "cell_type": "code",
   "execution_count": 11,
   "metadata": {},
   "outputs": [
    {
     "data": {
      "text/html": [
       "<div>\n",
       "<style scoped>\n",
       "    .dataframe tbody tr th:only-of-type {\n",
       "        vertical-align: middle;\n",
       "    }\n",
       "\n",
       "    .dataframe tbody tr th {\n",
       "        vertical-align: top;\n",
       "    }\n",
       "\n",
       "    .dataframe thead th {\n",
       "        text-align: right;\n",
       "    }\n",
       "</style>\n",
       "<table border=\"1\" class=\"dataframe\">\n",
       "  <thead>\n",
       "    <tr style=\"text-align: right;\">\n",
       "      <th></th>\n",
       "      <th>CreditScore</th>\n",
       "      <th>Age</th>\n",
       "      <th>Tenure</th>\n",
       "      <th>Balance</th>\n",
       "      <th>NumOfProducts</th>\n",
       "      <th>HasCrCard</th>\n",
       "      <th>IsActiveMember</th>\n",
       "      <th>EstimatedSalary</th>\n",
       "      <th>Geography_Germany</th>\n",
       "      <th>Geography_Spain</th>\n",
       "      <th>Gender_Male</th>\n",
       "    </tr>\n",
       "  </thead>\n",
       "  <tbody>\n",
       "    <tr>\n",
       "      <th>0</th>\n",
       "      <td>-0.451227</td>\n",
       "      <td>-1.331816</td>\n",
       "      <td>-0.365352</td>\n",
       "      <td>0.717553</td>\n",
       "      <td>-0.900446</td>\n",
       "      <td>-1.527525</td>\n",
       "      <td>0.952144</td>\n",
       "      <td>0.269298</td>\n",
       "      <td>-0.575297</td>\n",
       "      <td>1.722862</td>\n",
       "      <td>-1.106659</td>\n",
       "    </tr>\n",
       "    <tr>\n",
       "      <th>1</th>\n",
       "      <td>-1.590010</td>\n",
       "      <td>0.697556</td>\n",
       "      <td>-1.457949</td>\n",
       "      <td>0.247628</td>\n",
       "      <td>-0.900446</td>\n",
       "      <td>0.654654</td>\n",
       "      <td>-1.050262</td>\n",
       "      <td>0.035812</td>\n",
       "      <td>-0.575297</td>\n",
       "      <td>-0.580429</td>\n",
       "      <td>0.903621</td>\n",
       "    </tr>\n",
       "    <tr>\n",
       "      <th>2</th>\n",
       "      <td>-0.022877</td>\n",
       "      <td>0.504283</td>\n",
       "      <td>-1.093750</td>\n",
       "      <td>-1.225158</td>\n",
       "      <td>0.828411</td>\n",
       "      <td>0.654654</td>\n",
       "      <td>0.952144</td>\n",
       "      <td>-0.722471</td>\n",
       "      <td>-0.575297</td>\n",
       "      <td>-0.580429</td>\n",
       "      <td>-1.106659</td>\n",
       "    </tr>\n",
       "    <tr>\n",
       "      <th>3</th>\n",
       "      <td>-0.284066</td>\n",
       "      <td>-0.558722</td>\n",
       "      <td>-1.093750</td>\n",
       "      <td>0.057547</td>\n",
       "      <td>-0.900446</td>\n",
       "      <td>0.654654</td>\n",
       "      <td>0.952144</td>\n",
       "      <td>0.073021</td>\n",
       "      <td>1.738231</td>\n",
       "      <td>-0.580429</td>\n",
       "      <td>0.903621</td>\n",
       "    </tr>\n",
       "    <tr>\n",
       "      <th>4</th>\n",
       "      <td>0.144284</td>\n",
       "      <td>0.407646</td>\n",
       "      <td>1.455642</td>\n",
       "      <td>1.805569</td>\n",
       "      <td>0.828411</td>\n",
       "      <td>0.654654</td>\n",
       "      <td>0.952144</td>\n",
       "      <td>-0.767166</td>\n",
       "      <td>-0.575297</td>\n",
       "      <td>-0.580429</td>\n",
       "      <td>0.903621</td>\n",
       "    </tr>\n",
       "  </tbody>\n",
       "</table>\n",
       "</div>"
      ],
      "text/plain": [
       "   CreditScore       Age    Tenure   Balance  NumOfProducts  HasCrCard  \\\n",
       "0    -0.451227 -1.331816 -0.365352  0.717553      -0.900446  -1.527525   \n",
       "1    -1.590010  0.697556 -1.457949  0.247628      -0.900446   0.654654   \n",
       "2    -0.022877  0.504283 -1.093750 -1.225158       0.828411   0.654654   \n",
       "3    -0.284066 -0.558722 -1.093750  0.057547      -0.900446   0.654654   \n",
       "4     0.144284  0.407646  1.455642  1.805569       0.828411   0.654654   \n",
       "\n",
       "   IsActiveMember  EstimatedSalary  Geography_Germany  Geography_Spain  \\\n",
       "0        0.952144         0.269298          -0.575297         1.722862   \n",
       "1       -1.050262         0.035812          -0.575297        -0.580429   \n",
       "2        0.952144        -0.722471          -0.575297        -0.580429   \n",
       "3        0.952144         0.073021           1.738231        -0.580429   \n",
       "4        0.952144        -0.767166          -0.575297        -0.580429   \n",
       "\n",
       "   Gender_Male  \n",
       "0    -1.106659  \n",
       "1     0.903621  \n",
       "2    -1.106659  \n",
       "3     0.903621  \n",
       "4     0.903621  "
      ]
     },
     "metadata": {},
     "output_type": "display_data"
    }
   ],
   "source": [
    "#Scale the data so that each features is normalized\n",
    "scaler = StandardScaler()\n",
    "scaler.fit(features_train)\n",
    "features_train_scaled = scaler.transform(features_train)\n",
    "features_valid_scaled = scaler.transform(features_valid)\n",
    "features_test_scaled = scaler.transform(features_test)\n",
    "\n",
    "#reconvert each scaled set back to DataFrames\n",
    "features_train_scaled = pd.DataFrame(features_train_scaled, columns=features_train.columns)\n",
    "features_valid_scaled = pd.DataFrame(features_valid_scaled, columns=features_valid.columns)\n",
    "features_test_scaled = pd.DataFrame(features_test_scaled, columns=features_test.columns)\n",
    "\n",
    "display(features_train_scaled.head())"
   ]
  },
  {
   "cell_type": "markdown",
   "metadata": {},
   "source": [
    "**Findings from pre-processing**\n",
    "There is an imbalance in this data that will need to be accounted for in the final model. With 80% of the observations in the not exited category and 20% having exited, the imbalance will likely prevent a model from being fully representative of our ultimate goal to be able to predict with high precision and recall which customers are most likely to leave.\n",
    "\n",
    "This is a relatively small data set with only 10,000 observations. After splitting the data, there are now 6000 in the training set, 2000 in the validation set and 2000 in the test set. Because of this it will be important to keep as many observations as possible. So when it comes time to balance the data, I will need to use Upsampling and class_weight to preserve the data observations."
   ]
  },
  {
   "cell_type": "markdown",
   "metadata": {},
   "source": [
    "**Get a baseline**\n",
    "Before doing any more data transformation it will be good to take a look at what the results from each of the ML models will produce. This will help see how imbalance in this data is affecting the results"
   ]
  },
  {
   "cell_type": "code",
   "execution_count": 12,
   "metadata": {},
   "outputs": [
    {
     "name": "stdout",
     "output_type": "stream",
     "text": [
      "Logistic Regrssion F1: 0.31833910034602075\n"
     ]
    }
   ],
   "source": [
    "#Create and train a LogisticRegression model\n",
    "imbalanced_LR = LogisticRegression(random_state=8420, solver='liblinear')\n",
    "imbalanced_LR.fit(features_train_scaled, target_train)\n",
    "imbalanced_LR_prediction = imbalanced_LR.predict(features_valid_scaled)\n",
    "#Calculate the F1 Score\n",
    "print('Logistic Regrssion F1:', f1_score(target_valid, imbalanced_LR_prediction))"
   ]
  },
  {
   "cell_type": "code",
   "execution_count": 13,
   "metadata": {},
   "outputs": [
    {
     "name": "stdout",
     "output_type": "stream",
     "text": [
      "Decision Tree F1: 0.5287637698898409\n"
     ]
    }
   ],
   "source": [
    "#Create and train a DecisionTreeClassifier\n",
    "imbalanced_DT = DecisionTreeClassifier(random_state=8420, max_depth=15)\n",
    "imbalanced_DT.fit(features_train_scaled, target_train)\n",
    "imbalanced_DT_prediction = imbalanced_DT.predict(features_valid_scaled)\n",
    "#Calculate the F1 Score\n",
    "print('Decision Tree F1:', f1_score(target_valid, imbalanced_DT_prediction))"
   ]
  },
  {
   "cell_type": "code",
   "execution_count": 14,
   "metadata": {
    "scrolled": true
   },
   "outputs": [
    {
     "name": "stdout",
     "output_type": "stream",
     "text": [
      "Random Forest F1 Score: 0.5966514459665144\n"
     ]
    }
   ],
   "source": [
    "# Create and train the RandomForest model\n",
    "imbalanced_RF = RandomForestClassifier(random_state=8420, n_estimators=70, max_depth=15)\n",
    "\n",
    "# Fit the model on the upsampled training data\n",
    "imbalanced_RF.fit(features_train_scaled, target_train)\n",
    "\n",
    "# Make predictions on the validation set\n",
    "imbalanced_RF_prediction = imbalanced_RF.predict(features_valid_scaled)\n",
    "\n",
    "#Calculate the F1 score\n",
    "f1 = f1_score(target_valid, imbalanced_RF_prediction)\n",
    "print(f\"Random Forest F1 Score: {f1}\")"
   ]
  },
  {
   "cell_type": "markdown",
   "metadata": {},
   "source": [
    "**Findings from the baseline models**\n",
    "The RandomForest model produced the best F1 score, at .597 and LogisticRegression performed the poorest at .318. While the RandomForest model was able to produce a score at the .59 goal, it will likely improve significantly with a balanced dataset."
   ]
  },
  {
   "cell_type": "markdown",
   "metadata": {},
   "source": [
    "**Upsampling**\n",
    "In this section, I will use upsampling with the scaled data to see the effect of balancing the data using this strategy.\n",
    "Since approximately 80% of the target set is part of the not exited group, we have an imbalance that will need to get sorted out. I'm going to upsample the data because this dataset is relatively small. While the total data has 10,000 lines, after splitting the data into Training, Validation, and Test sets there will only be 6000, 2000, and 2000 lines respectively. So, using upsampling will not get rid of any of the precious data in these sets."
   ]
  },
  {
   "cell_type": "code",
   "execution_count": 15,
   "metadata": {},
   "outputs": [
    {
     "name": "stdout",
     "output_type": "stream",
     "text": [
      "Those who have not exited yet make up: 49.43099524105111 % of this upsampled data set\n",
      "Those who have already exited make up: 50.569004758948886 % of this upsampled data set\n"
     ]
    }
   ],
   "source": [
    "# Updated upsample function\n",
    "def upsample(features, target, repeat):\n",
    "    features = features.reset_index(drop=True)\n",
    "    target = target.reset_index(drop=True)\n",
    "    # Split features and target by the target classes\n",
    "    features_zeros = features[target == 0]\n",
    "    features_ones = features[target == 1]\n",
    "    target_zeros = target[target == 0]\n",
    "    target_ones = target[target == 1]\n",
    "\n",
    "    # Repeat the minority class to balance the data\n",
    "    features_upsampled = pd.concat([features_zeros] + [features_ones] * repeat)\n",
    "    target_upsampled = pd.concat([target_zeros] + [target_ones] * repeat)\n",
    "\n",
    "    # Shuffle the upsampled data\n",
    "    features_upsampled, target_upsampled = shuffle(features_upsampled, target_upsampled, random_state=8420)\n",
    "\n",
    "    return features_upsampled, target_upsampled\n",
    "\n",
    "# Call upsample function with scaled features\n",
    "features_train_scaled_df = pd.DataFrame(features_train_scaled, columns=features_train.columns)\n",
    "features_upsampled_scaled_train, target_upsampled_train = upsample(features_train_scaled_df, target_train, 4)\n",
    "\n",
    "\n",
    "# Display proportions\n",
    "print('Those who have not exited yet make up:', ((target_upsampled_train == 0).sum()) / len(target_upsampled_train) * 100, '% of this upsampled data set')\n",
    "print('Those who have already exited make up:', ((target_upsampled_train == 1).sum()) / len(target_upsampled_train) * 100, '% of this upsampled data set')"
   ]
  },
  {
   "cell_type": "code",
   "execution_count": 16,
   "metadata": {},
   "outputs": [
    {
     "name": "stdout",
     "output_type": "stream",
     "text": [
      "Those who have not exited yet make up: 49.456690468798506 % of this upsampled data set\n",
      "Those who have already exited make up: 50.54330953120149 % of this upsampled data set\n"
     ]
    }
   ],
   "source": [
    "# Call upsample function with scaled features\n",
    "features_valid_scaled_df = pd.DataFrame(features_valid_scaled, columns=features_valid.columns)\n",
    "features_upsampled_scaled_valid, target_upsampled_valid = upsample(features_valid_scaled_df, target_valid, 4)\n",
    "\n",
    "\n",
    "# Display proportions\n",
    "print('Those who have not exited yet make up:', ((target_upsampled_valid == 0).sum()) / len(target_upsampled_valid) * 100, '% of this upsampled data set')\n",
    "print('Those who have already exited make up:', ((target_upsampled_valid == 1).sum()) / len(target_upsampled_valid) * 100, '% of this upsampled data set')"
   ]
  },
  {
   "cell_type": "code",
   "execution_count": 17,
   "metadata": {},
   "outputs": [
    {
     "name": "stdout",
     "output_type": "stream",
     "text": [
      "Those who have not exited yet make up: 49.37965260545906 % of this upsampled data set\n",
      "Those who have already exited make up: 50.62034739454094 % of this upsampled data set\n"
     ]
    }
   ],
   "source": [
    "# Call upsample function with scaled features\n",
    "features_test_scaled_df = pd.DataFrame(features_test_scaled, columns=features_test.columns)\n",
    "features_upsampled_scaled_test, target_upsampled_test = upsample(features_test_scaled_df, target_test, 4)\n",
    "\n",
    "\n",
    "# Display proportions\n",
    "print('Those who have not exited yet make up:', ((target_upsampled_test == 0).sum()) / len(target_upsampled_test) * 100, '% of this upsampled data set')\n",
    "print('Those who have already exited make up:', ((target_upsampled_test == 1).sum()) / len(target_upsampled_test) * 100, '% of this upsampled data set')"
   ]
  },
  {
   "cell_type": "markdown",
   "metadata": {},
   "source": [
    "**Create Models**\n",
    "Create models using the upsampled and scaled data to see if it out performs the original models."
   ]
  },
  {
   "cell_type": "code",
   "execution_count": 18,
   "metadata": {},
   "outputs": [
    {
     "name": "stdout",
     "output_type": "stream",
     "text": [
      "Logistic Regrssion F1: 0.720504353047133\n"
     ]
    }
   ],
   "source": [
    "#Create and train a LogisticRegression model\n",
    "model1 = LogisticRegression(random_state=8420, solver='liblinear')\n",
    "model1.fit(features_upsampled_scaled_train, target_upsampled_train)\n",
    "predicted_valid_LR = model1.predict(features_upsampled_scaled_valid)\n",
    "\n",
    "#Calculate the F1 score\n",
    "print('Logistic Regrssion F1:', f1_score(target_upsampled_valid, predicted_valid_LR))"
   ]
  },
  {
   "cell_type": "code",
   "execution_count": 19,
   "metadata": {},
   "outputs": [
    {
     "name": "stdout",
     "output_type": "stream",
     "text": [
      "Decision Tree F1: 0.6403477001086563\n"
     ]
    }
   ],
   "source": [
    "#Create and train a DecisionTreeClassifier model\n",
    "model_dt = DecisionTreeClassifier(random_state=8420, max_depth=15)\n",
    "model_dt.fit(features_upsampled_scaled_train, target_upsampled_train)\n",
    "predicted_valid_dt = model_dt.predict(features_upsampled_scaled_valid)\n",
    "\n",
    "#Calculate the F1 score\n",
    "print('Decision Tree F1:', f1_score(target_upsampled_valid, predicted_valid_dt))"
   ]
  },
  {
   "cell_type": "code",
   "execution_count": 20,
   "metadata": {},
   "outputs": [
    {
     "name": "stdout",
     "output_type": "stream",
     "text": [
      "Random Forest F1 Score: 0.7319884726224783\n"
     ]
    }
   ],
   "source": [
    "# Create and train the RandomForest model\n",
    "rf_model = RandomForestClassifier(random_state=8420, n_estimators=70, max_depth=15)\n",
    "\n",
    "# Fit the model on the upsampled training data\n",
    "rf_model.fit(features_upsampled_scaled_train, target_upsampled_train)\n",
    "\n",
    "# Make predictions on the validation set\n",
    "predictions_valid_RF = rf_model.predict(features_upsampled_scaled_valid)\n",
    "\n",
    "#Calculate the F1 score\n",
    "f1 = f1_score(target_upsampled_valid, predictions_valid_RF) \n",
    "print(f\"Random Forest F1 Score: {f1}\")"
   ]
  },
  {
   "cell_type": "code",
   "execution_count": 21,
   "metadata": {},
   "outputs": [
    {
     "name": "stdout",
     "output_type": "stream",
     "text": [
      "auc_roc Score: 0.8580761038388157\n"
     ]
    }
   ],
   "source": [
    "#Check the auc_roc score for the RandomForest Model\n",
    "probabilities_valid = rf_model.predict_proba(features_upsampled_scaled_valid)\n",
    "probabilities_one_valid = probabilities_valid[:, 1]\n",
    "\n",
    "auc_roc = roc_auc_score(target_upsampled_valid, probabilities_one_valid)\n",
    "print(f'auc_roc Score: {auc_roc}')"
   ]
  },
  {
   "cell_type": "code",
   "execution_count": 22,
   "metadata": {
    "scrolled": true
   },
   "outputs": [
    {
     "name": "stdout",
     "output_type": "stream",
     "text": [
      "Test F1 Score: 0.7028800583302953\n",
      "Test auc_roc Score: 0.8412605305941472\n"
     ]
    }
   ],
   "source": [
    "#Use the test set to verify that the RandomForest Model is a quality fit.\n",
    "# Predict on the test set\n",
    "predictions_test = rf_model.predict(features_upsampled_scaled_test)\n",
    "#F1 score\n",
    "f1_test = f1_score(target_upsampled_test, predictions_test)\n",
    "print(f\"Test F1 Score: {f1_test}\")\n",
    "probabilities_test = rf_model.predict_proba(features_upsampled_scaled_test)\n",
    "probabilities_one_test = probabilities_test[:, 1]\n",
    "auc_roc_test = roc_auc_score(target_upsampled_test, probabilities_one_test)\n",
    "print(f'Test auc_roc Score: {auc_roc_test}')"
   ]
  },
  {
   "cell_type": "markdown",
   "metadata": {},
   "source": [
    "**Findings from the Upsample Experiment**\n",
    "The F1 Score from the RandomForest Classifier appears to be the best model of the three for this metric. It has an F1 score of .732, whereas the LogisticRegression had an F1 of .721, and the DecisionTree Classifier had an F1 of .640. These results show a significant improvement compared to the model without addressing the imbalance in this data. \n",
    "\n",
    "I applied the RandomForest model to the Test set to check to make sure that it is not overfit. The F1 score for the Test set was .703 and the auc_roc score was .841. Both of these metrics were within a reasonable range of the findings from the training and validation sets. This suggests that this model is working effectively."
   ]
  },
  {
   "cell_type": "markdown",
   "metadata": {},
   "source": [
    "**class_weight balancing**\n",
    "Now I will use Class weight to balance the Data and see how it compares to the above models. "
   ]
  },
  {
   "cell_type": "code",
   "execution_count": 23,
   "metadata": {},
   "outputs": [
    {
     "name": "stdout",
     "output_type": "stream",
     "text": [
      "Logistic Regrssion F1: 0.495\n"
     ]
    }
   ],
   "source": [
    "#Create and train a LogisticRegression model\n",
    "model2 = LogisticRegression(class_weight='balanced', random_state=8420, solver='liblinear')\n",
    "model2.fit(features_train_scaled, target_train)\n",
    "predicted_valid_LR2 = model2.predict(features_valid_scaled)\n",
    "\n",
    "#Calculate the F1 score\n",
    "print('Logistic Regrssion F1:', f1_score(target_valid, predicted_valid_LR2))"
   ]
  },
  {
   "cell_type": "code",
   "execution_count": 24,
   "metadata": {},
   "outputs": [
    {
     "name": "stdout",
     "output_type": "stream",
     "text": [
      "Decision Tree F1: 0.5022727272727273\n"
     ]
    }
   ],
   "source": [
    "#Create and train a DecisionTreeClassifier model\n",
    "model_dt2 = DecisionTreeClassifier(class_weight='balanced', random_state=8420, max_depth=15)\n",
    "model_dt2.fit(features_train_scaled, target_train)\n",
    "predicted_valid_dt2 = model_dt2.predict(features_valid_scaled)\n",
    "\n",
    "#Calculate the F1 score\n",
    "print('Decision Tree F1:', f1_score(target_valid, predicted_valid_dt2))"
   ]
  },
  {
   "cell_type": "code",
   "execution_count": 25,
   "metadata": {},
   "outputs": [
    {
     "name": "stdout",
     "output_type": "stream",
     "text": [
      "Random Forest F1 Score: 0.6176470588235294\n"
     ]
    }
   ],
   "source": [
    "# Create and train the RandomForest model\n",
    "rf_model2 = RandomForestClassifier(class_weight='balanced', random_state=8420, n_estimators=70, max_depth=15)\n",
    "\n",
    "# Fit the model on the upsampled training data\n",
    "rf_model2.fit(features_train_scaled, target_train)\n",
    "\n",
    "# Make predictions on the validation set\n",
    "predictions_valid_RF2 = rf_model2.predict(features_valid_scaled)\n",
    "\n",
    "#Calculate the F1 score\n",
    "f1 = f1_score(target_valid, predictions_valid_RF2) \n",
    "print(f\"Random Forest F1 Score: {f1}\")"
   ]
  },
  {
   "cell_type": "code",
   "execution_count": 26,
   "metadata": {},
   "outputs": [
    {
     "name": "stdout",
     "output_type": "stream",
     "text": [
      "auc_roc Score: 0.8627872865161001\n"
     ]
    }
   ],
   "source": [
    "#Check the auc_roc score for the RandomForest Model\n",
    "probabilities_valid2 = rf_model2.predict_proba(features_valid_scaled)\n",
    "probabilities_two_valid = probabilities_valid2[:, 1]\n",
    "\n",
    "auc_roc2 = roc_auc_score(target_valid, probabilities_two_valid)\n",
    "print(f'auc_roc Score: {auc_roc2}')"
   ]
  },
  {
   "cell_type": "code",
   "execution_count": 27,
   "metadata": {
    "scrolled": true
   },
   "outputs": [
    {
     "name": "stdout",
     "output_type": "stream",
     "text": [
      "Test F1 Score: 0.5822021116138764\n",
      "Test auc_roc Score: 0.8538664523598384\n"
     ]
    }
   ],
   "source": [
    "#Use the test set to verify that the RandomForest Model is a quality fit.\n",
    "# Predict on the test set\n",
    "predictions_test2 = rf_model2.predict(features_test_scaled)\n",
    "#F1 score\n",
    "f1_test2 = f1_score(target_test, predictions_test2)\n",
    "print(f\"Test F1 Score: {f1_test2}\")\n",
    "probabilities_test2 = rf_model2.predict_proba(features_test_scaled)\n",
    "probabilities_one_test2 = probabilities_test2[:, 1]\n",
    "auc_roc_test2 = roc_auc_score(target_test, probabilities_one_test2)\n",
    "print(f'Test auc_roc Score: {auc_roc_test2}')"
   ]
  },
  {
   "cell_type": "markdown",
   "metadata": {},
   "source": [
    "**Findings from class weight balancing**\n",
    "After applying balanced class weight to each of the learning models, there does not appear to be a significant improvement compared against the models in the imbalanced models. The best model again is the RandomForest model. "
   ]
  },
  {
   "cell_type": "markdown",
   "metadata": {},
   "source": [
    "I'm curious to know which features ended up being the most important to predict churn. Below I'm going to make a data frame that shows which features were most predictive. This will help Beta Bank know how to adjust business practices."
   ]
  },
  {
   "cell_type": "code",
   "execution_count": 28,
   "metadata": {},
   "outputs": [
    {
     "name": "stdout",
     "output_type": "stream",
     "text": [
      "              Feature  Importance\n",
      "1                 Age    0.252405\n",
      "4       NumOfProducts    0.142689\n",
      "3             Balance    0.141403\n",
      "7     EstimatedSalary    0.132725\n",
      "0         CreditScore    0.128477\n",
      "2              Tenure    0.073367\n",
      "6      IsActiveMember    0.040273\n",
      "8   Geography_Germany    0.036005\n",
      "10        Gender_Male    0.022139\n",
      "5           HasCrCard    0.016931\n",
      "9     Geography_Spain    0.013586\n"
     ]
    }
   ],
   "source": [
    "# Extract feature importances\n",
    "feature_importances = rf_model.feature_importances_\n",
    "\n",
    "# Create a DataFrame for better visualization\n",
    "importance_df = pd.DataFrame({'Feature': features_upsampled_scaled_train.columns,'Importance': feature_importances}).sort_values(by='Importance', ascending=False)\n",
    "\n",
    "print(importance_df)"
   ]
  },
  {
   "cell_type": "code",
   "execution_count": 29,
   "metadata": {},
   "outputs": [
    {
     "name": "stdout",
     "output_type": "stream",
     "text": [
      "age_group\n",
      "18-30    0.083051\n",
      "31-45    0.159461\n",
      "46-60    0.496945\n",
      "61-75    0.267490\n",
      "76-90    0.047619\n",
      "Name: Churn, dtype: float64\n"
     ]
    },
    {
     "name": "stderr",
     "output_type": "stream",
     "text": [
      "C:\\Users\\markl\\AppData\\Local\\Temp\\ipykernel_23172\\2678834841.py:8: FutureWarning: The default of observed=False is deprecated and will be changed to True in a future version of pandas. Pass observed=False to retain current behavior or observed=True to adopt the future default and silence this warning.\n",
      "  age_churn_rate = age_churn_data.groupby('age_group')['Churn'].mean()\n"
     ]
    }
   ],
   "source": [
    "# Combine Age and target into a single DataFrame\n",
    "age_churn_data = pd.DataFrame({'Age': features_train['Age'], 'Churn': target_train})\n",
    "\n",
    "# Group by age ranges and calculate churn rates\n",
    "age_churn_data['age_group'] = pd.cut(age_churn_data['Age'], bins=[18, 30, 45, 60, 75, 90], \n",
    "                                     labels=['18-30', '31-45', '46-60', '61-75', '76-90'])\n",
    "\n",
    "age_churn_rate = age_churn_data.groupby('age_group')['Churn'].mean()\n",
    "\n",
    "print(age_churn_rate)"
   ]
  },
  {
   "cell_type": "markdown",
   "metadata": {},
   "source": [
    "**Conclusion:**\n",
    "Beta Bank is facing a churn problem that can be addressed with a little research and machine learning. I looked into the data provided of 10,000 customers to build a model that would most effectively predict whether or not a client would is at risk of leaving the bank.s\n",
    "\n",
    "Pre-processing Methods: There were several steps necessary to take the original dataset and make it useful for the Machine learning process. First, I needed to remove irrelevant columns. Second, I converted the nominal columns to numerical values using One-hot encoding. I then split the data into training, validation, and test sets. Finally, I scaled the data to normalize each column of data. By doing each of these steps the data was prepared for the Machine learning process.\n",
    "\n",
    "Balancing methods: I used two different means of balancing the data to observe which performed more effectively with regard to precision and recall. The First method that I used was upsampling. This increased the number of churn observations up to equal that of no-churn. I also used the class weight parameter to create balance in each of the models. Of the two methods employed, the upsampling strategy produced higher F1 scores suggesting that it was able to more effectively predict churn.\n",
    "\n",
    "Models used: I created 3 classifier models and compared the F1 Scores of each. The three models I used were the Decision Tree, Logistic Regression, and Random Forest. \n",
    "\n",
    "Findings: Of the three models, the best model for the F1 score ended up being the highest with the Random Forest model.\n",
    "F1 Scores: \n",
    "DecisionTree = .721\n",
    "Logistic Regression = .640\n",
    "Random Forest = .732\n",
    "\n",
    "As a result of these findings, it is clear that Beta Bank should use the RandomForest model created above for determining which clients are at highest risk of leaving their bank. I was curious to see which features ended up being the most relevant to building the highest performing RandomForest model. I found that Age was the most important feature. On further examination I learned that 50% of the clients who left were in the 46-60 year old age range and another 25% from the 61-75 year range. Beta Bank would benefit from some further research into what 46-75 year old clients are wanting from their bank and see if they can offer products or services that appeal to this demographic."
   ]
  }
 ],
 "metadata": {
  "ExecuteTimeLog": [
   {
    "duration": 204,
    "start_time": "2024-11-18T18:49:13.932Z"
   },
   {
    "duration": 854,
    "start_time": "2024-11-18T18:49:21.025Z"
   },
   {
    "duration": 47,
    "start_time": "2024-11-18T18:49:21.881Z"
   },
   {
    "duration": 13,
    "start_time": "2024-11-18T18:49:21.933Z"
   },
   {
    "duration": 10,
    "start_time": "2024-11-18T18:49:21.948Z"
   },
   {
    "duration": 4,
    "start_time": "2024-11-18T18:49:21.960Z"
   },
   {
    "duration": 34,
    "start_time": "2024-11-18T18:49:21.965Z"
   },
   {
    "duration": 28,
    "start_time": "2024-11-18T18:49:22.001Z"
   },
   {
    "duration": 5,
    "start_time": "2024-11-18T18:49:22.034Z"
   },
   {
    "duration": 80,
    "start_time": "2024-11-18T18:49:22.041Z"
   },
   {
    "duration": 995,
    "start_time": "2024-11-18T18:49:22.123Z"
   },
   {
    "duration": 38,
    "start_time": "2024-11-18T18:49:23.120Z"
   },
   {
    "duration": 285,
    "start_time": "2024-11-18T18:49:23.160Z"
   },
   {
    "duration": 0,
    "start_time": "2024-11-18T18:49:23.446Z"
   },
   {
    "duration": 0,
    "start_time": "2024-11-18T18:49:23.448Z"
   },
   {
    "duration": 793,
    "start_time": "2024-11-18T20:01:38.685Z"
   },
   {
    "duration": 32,
    "start_time": "2024-11-18T20:01:39.480Z"
   },
   {
    "duration": 17,
    "start_time": "2024-11-18T20:01:39.514Z"
   },
   {
    "duration": 11,
    "start_time": "2024-11-18T20:01:39.533Z"
   },
   {
    "duration": 4,
    "start_time": "2024-11-18T20:01:39.546Z"
   },
   {
    "duration": 36,
    "start_time": "2024-11-18T20:01:39.551Z"
   },
   {
    "duration": 13,
    "start_time": "2024-11-18T20:01:39.589Z"
   },
   {
    "duration": 31,
    "start_time": "2024-11-18T20:01:39.603Z"
   },
   {
    "duration": 51,
    "start_time": "2024-11-18T20:01:39.636Z"
   },
   {
    "duration": 949,
    "start_time": "2024-11-18T20:01:39.690Z"
   },
   {
    "duration": 31,
    "start_time": "2024-11-18T20:01:40.641Z"
   },
   {
    "duration": 229,
    "start_time": "2024-11-18T20:01:40.675Z"
   },
   {
    "duration": 0,
    "start_time": "2024-11-18T20:01:40.906Z"
   },
   {
    "duration": 692,
    "start_time": "2024-11-18T20:02:47.805Z"
   },
   {
    "duration": 832,
    "start_time": "2024-11-18T20:02:57.008Z"
   },
   {
    "duration": 450,
    "start_time": "2024-11-18T20:03:04.381Z"
   },
   {
    "duration": 684,
    "start_time": "2024-11-18T20:03:12.367Z"
   },
   {
    "duration": 685,
    "start_time": "2024-11-18T20:03:21.005Z"
   },
   {
    "duration": 34,
    "start_time": "2024-11-18T20:15:29.137Z"
   },
   {
    "duration": 8,
    "start_time": "2024-11-18T20:16:10.611Z"
   },
   {
    "duration": 37,
    "start_time": "2024-11-18T20:16:34.277Z"
   },
   {
    "duration": 48,
    "start_time": "2024-11-18T20:40:24.494Z"
   },
   {
    "duration": 695,
    "start_time": "2024-11-18T20:40:43.849Z"
   },
   {
    "duration": 819,
    "start_time": "2024-11-18T20:40:53.766Z"
   },
   {
    "duration": 27,
    "start_time": "2024-11-18T20:40:54.587Z"
   },
   {
    "duration": 20,
    "start_time": "2024-11-18T20:40:54.616Z"
   },
   {
    "duration": 11,
    "start_time": "2024-11-18T20:40:54.637Z"
   },
   {
    "duration": 5,
    "start_time": "2024-11-18T20:40:54.650Z"
   },
   {
    "duration": 38,
    "start_time": "2024-11-18T20:40:54.658Z"
   },
   {
    "duration": 9,
    "start_time": "2024-11-18T20:40:54.697Z"
   },
   {
    "duration": 34,
    "start_time": "2024-11-18T20:40:54.707Z"
   },
   {
    "duration": 5,
    "start_time": "2024-11-18T20:40:54.743Z"
   },
   {
    "duration": 251,
    "start_time": "2024-11-18T20:40:54.749Z"
   },
   {
    "duration": 0,
    "start_time": "2024-11-18T20:40:55.002Z"
   },
   {
    "duration": 0,
    "start_time": "2024-11-18T20:40:55.003Z"
   },
   {
    "duration": 0,
    "start_time": "2024-11-18T20:40:55.005Z"
   },
   {
    "duration": 0,
    "start_time": "2024-11-18T20:40:55.007Z"
   },
   {
    "duration": 79,
    "start_time": "2024-11-18T20:41:33.457Z"
   },
   {
    "duration": 15,
    "start_time": "2024-11-18T20:41:38.525Z"
   },
   {
    "duration": 1021,
    "start_time": "2024-11-18T20:41:51.753Z"
   },
   {
    "duration": 1110,
    "start_time": "2024-11-18T20:42:06.817Z"
   },
   {
    "duration": 1184,
    "start_time": "2024-11-18T20:42:16.925Z"
   },
   {
    "duration": 485,
    "start_time": "2024-11-18T20:42:26.151Z"
   },
   {
    "duration": 593,
    "start_time": "2024-11-18T20:42:32.289Z"
   },
   {
    "duration": 729,
    "start_time": "2024-11-18T20:42:39.963Z"
   },
   {
    "duration": 836,
    "start_time": "2024-11-18T20:42:46.727Z"
   },
   {
    "duration": 33,
    "start_time": "2024-11-18T20:55:38.191Z"
   },
   {
    "duration": 31,
    "start_time": "2024-11-18T20:55:59.076Z"
   },
   {
    "duration": 31,
    "start_time": "2024-11-18T20:56:05.434Z"
   },
   {
    "duration": 19,
    "start_time": "2024-11-18T20:56:12.610Z"
   },
   {
    "duration": 31,
    "start_time": "2024-11-18T20:56:19.072Z"
   },
   {
    "duration": 27,
    "start_time": "2024-11-18T20:57:32.995Z"
   },
   {
    "duration": 15,
    "start_time": "2024-11-18T20:57:41.292Z"
   },
   {
    "duration": 71,
    "start_time": "2024-11-18T20:59:20.420Z"
   },
   {
    "duration": 31,
    "start_time": "2024-11-18T20:59:22.567Z"
   },
   {
    "duration": 840,
    "start_time": "2024-11-18T20:59:26.864Z"
   },
   {
    "duration": 28,
    "start_time": "2024-11-18T21:00:34.461Z"
   },
   {
    "duration": 814,
    "start_time": "2024-11-18T21:00:41.573Z"
   },
   {
    "duration": 27,
    "start_time": "2024-11-18T21:00:42.389Z"
   },
   {
    "duration": 19,
    "start_time": "2024-11-18T21:00:42.418Z"
   },
   {
    "duration": 10,
    "start_time": "2024-11-18T21:00:42.439Z"
   },
   {
    "duration": 5,
    "start_time": "2024-11-18T21:00:42.451Z"
   },
   {
    "duration": 37,
    "start_time": "2024-11-18T21:00:42.458Z"
   },
   {
    "duration": 34,
    "start_time": "2024-11-18T21:00:42.497Z"
   },
   {
    "duration": 13,
    "start_time": "2024-11-18T21:00:42.534Z"
   },
   {
    "duration": 5,
    "start_time": "2024-11-18T21:00:42.549Z"
   },
   {
    "duration": 9,
    "start_time": "2024-11-18T21:00:42.557Z"
   },
   {
    "duration": 95,
    "start_time": "2024-11-18T21:00:42.568Z"
   },
   {
    "duration": 88,
    "start_time": "2024-11-18T21:00:42.664Z"
   },
   {
    "duration": 869,
    "start_time": "2024-11-18T21:00:42.832Z"
   },
   {
    "duration": 32,
    "start_time": "2024-11-18T21:00:43.703Z"
   },
   {
    "duration": 28,
    "start_time": "2024-11-18T21:04:22.084Z"
   },
   {
    "duration": 803,
    "start_time": "2024-11-18T21:04:39.226Z"
   },
   {
    "duration": 26,
    "start_time": "2024-11-18T21:04:40.032Z"
   },
   {
    "duration": 11,
    "start_time": "2024-11-18T21:04:40.060Z"
   },
   {
    "duration": 10,
    "start_time": "2024-11-18T21:04:40.073Z"
   },
   {
    "duration": 5,
    "start_time": "2024-11-18T21:04:40.086Z"
   },
   {
    "duration": 63,
    "start_time": "2024-11-18T21:04:40.092Z"
   },
   {
    "duration": 8,
    "start_time": "2024-11-18T21:04:40.156Z"
   },
   {
    "duration": 13,
    "start_time": "2024-11-18T21:04:40.166Z"
   },
   {
    "duration": 5,
    "start_time": "2024-11-18T21:04:40.181Z"
   },
   {
    "duration": 9,
    "start_time": "2024-11-18T21:04:40.189Z"
   },
   {
    "duration": 104,
    "start_time": "2024-11-18T21:04:40.200Z"
   },
   {
    "duration": 106,
    "start_time": "2024-11-18T21:04:40.331Z"
   },
   {
    "duration": 844,
    "start_time": "2024-11-18T21:04:40.440Z"
   },
   {
    "duration": 27,
    "start_time": "2024-11-18T21:04:41.287Z"
   },
   {
    "duration": 39,
    "start_time": "2024-11-18T21:04:41.316Z"
   },
   {
    "duration": 8,
    "start_time": "2024-11-18T21:18:33.851Z"
   },
   {
    "duration": 748,
    "start_time": "2024-11-18T21:18:40.318Z"
   },
   {
    "duration": 27,
    "start_time": "2024-11-18T21:18:41.069Z"
   },
   {
    "duration": 11,
    "start_time": "2024-11-18T21:18:41.098Z"
   },
   {
    "duration": 23,
    "start_time": "2024-11-18T21:18:41.110Z"
   },
   {
    "duration": 4,
    "start_time": "2024-11-18T21:18:41.136Z"
   },
   {
    "duration": 38,
    "start_time": "2024-11-18T21:18:41.142Z"
   },
   {
    "duration": 8,
    "start_time": "2024-11-18T21:18:41.182Z"
   },
   {
    "duration": 13,
    "start_time": "2024-11-18T21:18:41.191Z"
   },
   {
    "duration": 29,
    "start_time": "2024-11-18T21:18:41.206Z"
   },
   {
    "duration": 8,
    "start_time": "2024-11-18T21:18:41.236Z"
   },
   {
    "duration": 85,
    "start_time": "2024-11-18T21:18:41.246Z"
   },
   {
    "duration": 106,
    "start_time": "2024-11-18T21:18:41.335Z"
   },
   {
    "duration": 618,
    "start_time": "2024-11-18T21:18:41.442Z"
   },
   {
    "duration": 27,
    "start_time": "2024-11-18T21:18:42.063Z"
   },
   {
    "duration": 39,
    "start_time": "2024-11-18T21:18:42.092Z"
   },
   {
    "duration": 803,
    "start_time": "2024-11-18T21:29:56.765Z"
   },
   {
    "duration": 32,
    "start_time": "2024-11-18T21:29:57.570Z"
   },
   {
    "duration": 11,
    "start_time": "2024-11-18T21:29:57.604Z"
   },
   {
    "duration": 24,
    "start_time": "2024-11-18T21:29:57.617Z"
   },
   {
    "duration": 7,
    "start_time": "2024-11-18T21:29:57.643Z"
   },
   {
    "duration": 44,
    "start_time": "2024-11-18T21:29:57.652Z"
   },
   {
    "duration": 9,
    "start_time": "2024-11-18T21:29:57.698Z"
   },
   {
    "duration": 34,
    "start_time": "2024-11-18T21:29:57.708Z"
   },
   {
    "duration": 6,
    "start_time": "2024-11-18T21:29:57.744Z"
   },
   {
    "duration": 7,
    "start_time": "2024-11-18T21:29:57.753Z"
   },
   {
    "duration": 36,
    "start_time": "2024-11-18T21:29:57.762Z"
   },
   {
    "duration": 52,
    "start_time": "2024-11-18T21:29:57.800Z"
   },
   {
    "duration": 103,
    "start_time": "2024-11-18T21:29:57.853Z"
   },
   {
    "duration": 642,
    "start_time": "2024-11-18T21:29:57.958Z"
   },
   {
    "duration": 41,
    "start_time": "2024-11-18T21:29:58.603Z"
   },
   {
    "duration": 29,
    "start_time": "2024-11-18T21:29:58.646Z"
   },
   {
    "duration": 7,
    "start_time": "2024-11-18T21:30:24.712Z"
   },
   {
    "duration": 15,
    "start_time": "2024-11-18T21:30:44.066Z"
   },
   {
    "duration": 16,
    "start_time": "2024-11-18T21:30:57.774Z"
   },
   {
    "duration": 769,
    "start_time": "2024-11-18T21:31:26.215Z"
   },
   {
    "duration": 25,
    "start_time": "2024-11-18T21:31:26.987Z"
   },
   {
    "duration": 21,
    "start_time": "2024-11-18T21:31:27.014Z"
   },
   {
    "duration": 11,
    "start_time": "2024-11-18T21:31:27.037Z"
   },
   {
    "duration": 4,
    "start_time": "2024-11-18T21:31:27.050Z"
   },
   {
    "duration": 38,
    "start_time": "2024-11-18T21:31:27.056Z"
   },
   {
    "duration": 35,
    "start_time": "2024-11-18T21:31:27.096Z"
   },
   {
    "duration": 15,
    "start_time": "2024-11-18T21:31:27.134Z"
   },
   {
    "duration": 8,
    "start_time": "2024-11-18T21:31:27.151Z"
   },
   {
    "duration": 18,
    "start_time": "2024-11-18T21:31:27.162Z"
   },
   {
    "duration": 11,
    "start_time": "2024-11-18T21:31:27.182Z"
   },
   {
    "duration": 72,
    "start_time": "2024-11-18T21:31:27.195Z"
   },
   {
    "duration": 82,
    "start_time": "2024-11-18T21:31:27.269Z"
   },
   {
    "duration": 609,
    "start_time": "2024-11-18T21:31:27.432Z"
   },
   {
    "duration": 27,
    "start_time": "2024-11-18T21:31:28.043Z"
   },
   {
    "duration": 29,
    "start_time": "2024-11-18T21:31:28.071Z"
   },
   {
    "duration": 9,
    "start_time": "2024-11-18T21:32:10.285Z"
   },
   {
    "duration": 10,
    "start_time": "2024-11-18T21:32:31.483Z"
   },
   {
    "duration": 9,
    "start_time": "2024-11-18T21:32:58.620Z"
   },
   {
    "duration": 220,
    "start_time": "2024-11-18T21:36:17.172Z"
   },
   {
    "duration": 820,
    "start_time": "2024-11-18T21:36:28.253Z"
   },
   {
    "duration": 25,
    "start_time": "2024-11-18T21:36:29.075Z"
   },
   {
    "duration": 11,
    "start_time": "2024-11-18T21:36:29.102Z"
   },
   {
    "duration": 24,
    "start_time": "2024-11-18T21:36:29.115Z"
   },
   {
    "duration": 4,
    "start_time": "2024-11-18T21:36:29.142Z"
   },
   {
    "duration": 39,
    "start_time": "2024-11-18T21:36:29.147Z"
   },
   {
    "duration": 8,
    "start_time": "2024-11-18T21:36:29.188Z"
   },
   {
    "duration": 37,
    "start_time": "2024-11-18T21:36:29.198Z"
   },
   {
    "duration": 7,
    "start_time": "2024-11-18T21:36:29.237Z"
   },
   {
    "duration": 236,
    "start_time": "2024-11-18T21:36:29.246Z"
   },
   {
    "duration": 0,
    "start_time": "2024-11-18T21:36:29.483Z"
   },
   {
    "duration": 0,
    "start_time": "2024-11-18T21:36:29.485Z"
   },
   {
    "duration": 0,
    "start_time": "2024-11-18T21:36:29.486Z"
   },
   {
    "duration": 0,
    "start_time": "2024-11-18T21:36:29.487Z"
   },
   {
    "duration": 0,
    "start_time": "2024-11-18T21:36:29.488Z"
   },
   {
    "duration": 0,
    "start_time": "2024-11-18T21:36:29.489Z"
   },
   {
    "duration": 17,
    "start_time": "2024-11-18T21:36:47.594Z"
   },
   {
    "duration": 16,
    "start_time": "2024-11-18T21:38:36.647Z"
   },
   {
    "duration": 845,
    "start_time": "2024-11-18T21:39:14.144Z"
   },
   {
    "duration": 28,
    "start_time": "2024-11-18T21:39:14.991Z"
   },
   {
    "duration": 20,
    "start_time": "2024-11-18T21:39:15.022Z"
   },
   {
    "duration": 10,
    "start_time": "2024-11-18T21:39:15.045Z"
   },
   {
    "duration": 4,
    "start_time": "2024-11-18T21:39:15.057Z"
   },
   {
    "duration": 36,
    "start_time": "2024-11-18T21:39:15.062Z"
   },
   {
    "duration": 36,
    "start_time": "2024-11-18T21:39:15.100Z"
   },
   {
    "duration": 13,
    "start_time": "2024-11-18T21:39:15.138Z"
   },
   {
    "duration": 4,
    "start_time": "2024-11-18T21:39:15.153Z"
   },
   {
    "duration": 15,
    "start_time": "2024-11-18T21:39:15.159Z"
   },
   {
    "duration": 10,
    "start_time": "2024-11-18T21:39:15.176Z"
   },
   {
    "duration": 77,
    "start_time": "2024-11-18T21:39:15.187Z"
   },
   {
    "duration": 82,
    "start_time": "2024-11-18T21:39:15.267Z"
   },
   {
    "duration": 673,
    "start_time": "2024-11-18T21:39:15.351Z"
   },
   {
    "duration": 28,
    "start_time": "2024-11-18T21:39:16.031Z"
   },
   {
    "duration": 28,
    "start_time": "2024-11-18T21:39:16.060Z"
   },
   {
    "duration": 242,
    "start_time": "2024-11-18T21:40:35.223Z"
   },
   {
    "duration": 39,
    "start_time": "2024-11-18T21:40:44.751Z"
   },
   {
    "duration": 29,
    "start_time": "2024-11-18T21:40:54.885Z"
   },
   {
    "duration": 28,
    "start_time": "2024-11-18T21:41:14.852Z"
   },
   {
    "duration": 50,
    "start_time": "2024-11-18T21:42:21.208Z"
   },
   {
    "duration": 54,
    "start_time": "2024-11-18T21:42:30.115Z"
   },
   {
    "duration": 51,
    "start_time": "2024-11-18T21:42:40.256Z"
   },
   {
    "duration": 52,
    "start_time": "2024-11-18T21:42:57.769Z"
   },
   {
    "duration": 30,
    "start_time": "2024-11-18T22:18:59.674Z"
   },
   {
    "duration": 46,
    "start_time": "2024-11-18T22:21:14.578Z"
   },
   {
    "duration": 31,
    "start_time": "2024-11-18T22:21:21.273Z"
   },
   {
    "duration": 594,
    "start_time": "2024-11-18T22:21:35.404Z"
   },
   {
    "duration": 598,
    "start_time": "2024-11-18T22:22:24.248Z"
   },
   {
    "duration": 31,
    "start_time": "2024-11-18T22:22:28.501Z"
   },
   {
    "duration": 49,
    "start_time": "2024-11-18T22:22:29.903Z"
   },
   {
    "duration": 837,
    "start_time": "2024-11-18T22:22:42.292Z"
   },
   {
    "duration": 29,
    "start_time": "2024-11-18T22:22:43.132Z"
   },
   {
    "duration": 12,
    "start_time": "2024-11-18T22:22:43.163Z"
   },
   {
    "duration": 14,
    "start_time": "2024-11-18T22:22:43.179Z"
   },
   {
    "duration": 7,
    "start_time": "2024-11-18T22:22:43.196Z"
   },
   {
    "duration": 65,
    "start_time": "2024-11-18T22:22:43.205Z"
   },
   {
    "duration": 10,
    "start_time": "2024-11-18T22:22:43.273Z"
   },
   {
    "duration": 14,
    "start_time": "2024-11-18T22:22:43.285Z"
   },
   {
    "duration": 4,
    "start_time": "2024-11-18T22:22:43.301Z"
   },
   {
    "duration": 39,
    "start_time": "2024-11-18T22:22:43.307Z"
   },
   {
    "duration": 12,
    "start_time": "2024-11-18T22:22:43.349Z"
   },
   {
    "duration": 89,
    "start_time": "2024-11-18T22:22:43.363Z"
   },
   {
    "duration": 107,
    "start_time": "2024-11-18T22:22:43.453Z"
   },
   {
    "duration": 644,
    "start_time": "2024-11-18T22:22:43.563Z"
   },
   {
    "duration": 31,
    "start_time": "2024-11-18T22:22:44.209Z"
   },
   {
    "duration": 52,
    "start_time": "2024-11-18T22:22:44.242Z"
   },
   {
    "duration": 155,
    "start_time": "2024-11-21T01:06:47.966Z"
   },
   {
    "duration": 788,
    "start_time": "2024-11-21T01:06:54.306Z"
   },
   {
    "duration": 30,
    "start_time": "2024-11-21T01:06:55.096Z"
   },
   {
    "duration": 10,
    "start_time": "2024-11-21T01:06:55.128Z"
   },
   {
    "duration": 10,
    "start_time": "2024-11-21T01:06:55.140Z"
   },
   {
    "duration": 18,
    "start_time": "2024-11-21T01:06:55.152Z"
   },
   {
    "duration": 36,
    "start_time": "2024-11-21T01:06:55.172Z"
   },
   {
    "duration": 8,
    "start_time": "2024-11-21T01:06:55.210Z"
   },
   {
    "duration": 12,
    "start_time": "2024-11-21T01:06:55.220Z"
   },
   {
    "duration": 5,
    "start_time": "2024-11-21T01:06:55.233Z"
   },
   {
    "duration": 44,
    "start_time": "2024-11-21T01:06:55.239Z"
   },
   {
    "duration": 8,
    "start_time": "2024-11-21T01:06:55.284Z"
   },
   {
    "duration": 44,
    "start_time": "2024-11-21T01:06:55.294Z"
   },
   {
    "duration": 106,
    "start_time": "2024-11-21T01:06:55.371Z"
   },
   {
    "duration": 596,
    "start_time": "2024-11-21T01:06:55.479Z"
   },
   {
    "duration": 27,
    "start_time": "2024-11-21T01:06:56.076Z"
   },
   {
    "duration": 48,
    "start_time": "2024-11-21T01:06:56.105Z"
   },
   {
    "duration": 6,
    "start_time": "2024-11-21T01:07:28.032Z"
   },
   {
    "duration": 5,
    "start_time": "2024-11-21T01:07:39.294Z"
   },
   {
    "duration": 37,
    "start_time": "2024-11-21T01:07:45.870Z"
   },
   {
    "duration": 807,
    "start_time": "2024-11-21T15:32:56.057Z"
   },
   {
    "duration": 39,
    "start_time": "2024-11-21T15:32:56.866Z"
   },
   {
    "duration": 11,
    "start_time": "2024-11-21T15:32:56.907Z"
   },
   {
    "duration": 11,
    "start_time": "2024-11-21T15:32:56.920Z"
   },
   {
    "duration": 5,
    "start_time": "2024-11-21T15:32:56.934Z"
   },
   {
    "duration": 37,
    "start_time": "2024-11-21T15:32:56.940Z"
   },
   {
    "duration": 30,
    "start_time": "2024-11-21T15:32:56.979Z"
   },
   {
    "duration": 13,
    "start_time": "2024-11-21T15:32:57.010Z"
   },
   {
    "duration": 5,
    "start_time": "2024-11-21T15:32:57.025Z"
   },
   {
    "duration": 15,
    "start_time": "2024-11-21T15:32:57.032Z"
   },
   {
    "duration": 10,
    "start_time": "2024-11-21T15:32:57.049Z"
   },
   {
    "duration": 76,
    "start_time": "2024-11-21T15:32:57.060Z"
   },
   {
    "duration": 96,
    "start_time": "2024-11-21T15:32:57.137Z"
   },
   {
    "duration": 662,
    "start_time": "2024-11-21T15:32:57.237Z"
   },
   {
    "duration": 32,
    "start_time": "2024-11-21T15:32:57.901Z"
   },
   {
    "duration": 50,
    "start_time": "2024-11-21T15:32:57.934Z"
   },
   {
    "duration": 244,
    "start_time": "2024-11-21T15:34:59.657Z"
   },
   {
    "duration": 428,
    "start_time": "2024-11-21T15:35:19.340Z"
   },
   {
    "duration": 7,
    "start_time": "2024-11-21T15:35:33.411Z"
   },
   {
    "duration": 63,
    "start_time": "2024-11-21T15:35:53.188Z"
   },
   {
    "duration": 4,
    "start_time": "2024-11-21T15:39:46.339Z"
   },
   {
    "duration": 16,
    "start_time": "2024-11-21T15:39:59.161Z"
   },
   {
    "duration": 777,
    "start_time": "2024-11-21T15:40:13.171Z"
   },
   {
    "duration": 26,
    "start_time": "2024-11-21T15:40:13.951Z"
   },
   {
    "duration": 12,
    "start_time": "2024-11-21T15:40:13.979Z"
   },
   {
    "duration": 10,
    "start_time": "2024-11-21T15:40:14.009Z"
   },
   {
    "duration": 6,
    "start_time": "2024-11-21T15:40:14.020Z"
   },
   {
    "duration": 236,
    "start_time": "2024-11-21T15:40:14.027Z"
   },
   {
    "duration": 0,
    "start_time": "2024-11-21T15:40:14.266Z"
   },
   {
    "duration": 0,
    "start_time": "2024-11-21T15:40:14.267Z"
   },
   {
    "duration": 0,
    "start_time": "2024-11-21T15:40:14.269Z"
   },
   {
    "duration": 0,
    "start_time": "2024-11-21T15:40:14.270Z"
   },
   {
    "duration": 0,
    "start_time": "2024-11-21T15:40:14.272Z"
   },
   {
    "duration": 0,
    "start_time": "2024-11-21T15:40:14.273Z"
   },
   {
    "duration": 0,
    "start_time": "2024-11-21T15:40:14.274Z"
   },
   {
    "duration": 0,
    "start_time": "2024-11-21T15:40:14.276Z"
   },
   {
    "duration": 0,
    "start_time": "2024-11-21T15:40:14.278Z"
   },
   {
    "duration": 0,
    "start_time": "2024-11-21T15:40:14.279Z"
   },
   {
    "duration": 0,
    "start_time": "2024-11-21T15:40:14.280Z"
   },
   {
    "duration": 0,
    "start_time": "2024-11-21T15:40:14.281Z"
   },
   {
    "duration": 15,
    "start_time": "2024-11-21T15:41:04.727Z"
   },
   {
    "duration": 15,
    "start_time": "2024-11-21T15:41:20.011Z"
   },
   {
    "duration": 785,
    "start_time": "2024-11-21T15:41:25.448Z"
   },
   {
    "duration": 25,
    "start_time": "2024-11-21T15:41:26.236Z"
   },
   {
    "duration": 11,
    "start_time": "2024-11-21T15:41:26.263Z"
   },
   {
    "duration": 10,
    "start_time": "2024-11-21T15:41:26.276Z"
   },
   {
    "duration": 7,
    "start_time": "2024-11-21T15:41:26.309Z"
   },
   {
    "duration": 15,
    "start_time": "2024-11-21T15:41:26.318Z"
   },
   {
    "duration": 917,
    "start_time": "2024-11-21T15:41:26.335Z"
   },
   {
    "duration": 0,
    "start_time": "2024-11-21T15:41:27.254Z"
   },
   {
    "duration": 0,
    "start_time": "2024-11-21T15:41:27.255Z"
   },
   {
    "duration": 0,
    "start_time": "2024-11-21T15:41:27.256Z"
   },
   {
    "duration": 0,
    "start_time": "2024-11-21T15:41:27.257Z"
   },
   {
    "duration": 0,
    "start_time": "2024-11-21T15:41:27.258Z"
   },
   {
    "duration": 0,
    "start_time": "2024-11-21T15:41:27.260Z"
   },
   {
    "duration": 0,
    "start_time": "2024-11-21T15:41:27.261Z"
   },
   {
    "duration": 0,
    "start_time": "2024-11-21T15:41:27.262Z"
   },
   {
    "duration": 0,
    "start_time": "2024-11-21T15:41:27.263Z"
   },
   {
    "duration": 0,
    "start_time": "2024-11-21T15:41:27.264Z"
   },
   {
    "duration": 0,
    "start_time": "2024-11-21T15:41:27.265Z"
   },
   {
    "duration": 36,
    "start_time": "2024-11-21T15:41:42.115Z"
   },
   {
    "duration": 762,
    "start_time": "2024-11-21T15:41:54.086Z"
   },
   {
    "duration": 28,
    "start_time": "2024-11-21T15:41:54.850Z"
   },
   {
    "duration": 12,
    "start_time": "2024-11-21T15:41:54.880Z"
   },
   {
    "duration": 24,
    "start_time": "2024-11-21T15:41:54.894Z"
   },
   {
    "duration": 7,
    "start_time": "2024-11-21T15:41:54.920Z"
   },
   {
    "duration": 11,
    "start_time": "2024-11-21T15:41:54.928Z"
   },
   {
    "duration": 960,
    "start_time": "2024-11-21T15:41:54.940Z"
   },
   {
    "duration": 0,
    "start_time": "2024-11-21T15:41:55.902Z"
   },
   {
    "duration": 0,
    "start_time": "2024-11-21T15:41:55.903Z"
   },
   {
    "duration": 0,
    "start_time": "2024-11-21T15:41:55.908Z"
   },
   {
    "duration": 0,
    "start_time": "2024-11-21T15:41:55.910Z"
   },
   {
    "duration": 0,
    "start_time": "2024-11-21T15:41:55.911Z"
   },
   {
    "duration": 0,
    "start_time": "2024-11-21T15:41:55.912Z"
   },
   {
    "duration": 0,
    "start_time": "2024-11-21T15:41:55.913Z"
   },
   {
    "duration": 0,
    "start_time": "2024-11-21T15:41:55.914Z"
   },
   {
    "duration": 0,
    "start_time": "2024-11-21T15:41:55.916Z"
   },
   {
    "duration": 0,
    "start_time": "2024-11-21T15:41:55.917Z"
   },
   {
    "duration": 0,
    "start_time": "2024-11-21T15:41:55.918Z"
   },
   {
    "duration": 39,
    "start_time": "2024-11-21T15:42:16.732Z"
   },
   {
    "duration": 38,
    "start_time": "2024-11-21T15:42:22.859Z"
   },
   {
    "duration": 39,
    "start_time": "2024-11-21T15:42:49.960Z"
   },
   {
    "duration": 760,
    "start_time": "2024-11-21T15:42:54.092Z"
   },
   {
    "duration": 26,
    "start_time": "2024-11-21T15:42:54.854Z"
   },
   {
    "duration": 13,
    "start_time": "2024-11-21T15:42:54.882Z"
   },
   {
    "duration": 10,
    "start_time": "2024-11-21T15:42:54.910Z"
   },
   {
    "duration": 5,
    "start_time": "2024-11-21T15:42:54.922Z"
   },
   {
    "duration": 11,
    "start_time": "2024-11-21T15:42:54.928Z"
   },
   {
    "duration": 12,
    "start_time": "2024-11-21T15:42:54.941Z"
   },
   {
    "duration": 88,
    "start_time": "2024-11-21T15:42:54.954Z"
   },
   {
    "duration": 3,
    "start_time": "2024-11-21T15:42:55.043Z"
   },
   {
    "duration": 237,
    "start_time": "2024-11-21T15:42:55.048Z"
   },
   {
    "duration": 0,
    "start_time": "2024-11-21T15:42:55.287Z"
   },
   {
    "duration": 0,
    "start_time": "2024-11-21T15:42:55.288Z"
   },
   {
    "duration": 0,
    "start_time": "2024-11-21T15:42:55.289Z"
   },
   {
    "duration": 0,
    "start_time": "2024-11-21T15:42:55.291Z"
   },
   {
    "duration": 0,
    "start_time": "2024-11-21T15:42:55.293Z"
   },
   {
    "duration": 0,
    "start_time": "2024-11-21T15:42:55.308Z"
   },
   {
    "duration": 0,
    "start_time": "2024-11-21T15:42:55.310Z"
   },
   {
    "duration": 0,
    "start_time": "2024-11-21T15:42:55.311Z"
   },
   {
    "duration": 10,
    "start_time": "2024-11-21T15:43:12.933Z"
   },
   {
    "duration": 13,
    "start_time": "2024-11-21T15:43:33.217Z"
   },
   {
    "duration": 12,
    "start_time": "2024-11-21T15:43:44.425Z"
   },
   {
    "duration": 11,
    "start_time": "2024-11-21T15:43:47.757Z"
   },
   {
    "duration": 10,
    "start_time": "2024-11-21T15:43:48.476Z"
   },
   {
    "duration": 690,
    "start_time": "2024-11-21T15:44:39.519Z"
   },
   {
    "duration": 12,
    "start_time": "2024-11-21T15:44:49.343Z"
   },
   {
    "duration": 12,
    "start_time": "2024-11-21T15:44:58.083Z"
   },
   {
    "duration": 12,
    "start_time": "2024-11-21T15:45:20.671Z"
   },
   {
    "duration": 15,
    "start_time": "2024-11-21T15:46:06.329Z"
   },
   {
    "duration": 3,
    "start_time": "2024-11-21T15:46:58.626Z"
   },
   {
    "duration": 4,
    "start_time": "2024-11-21T15:47:44.090Z"
   },
   {
    "duration": 19,
    "start_time": "2024-11-21T15:53:11.436Z"
   },
   {
    "duration": 18,
    "start_time": "2024-11-21T15:53:49.995Z"
   },
   {
    "duration": 31,
    "start_time": "2024-11-21T15:54:06.770Z"
   },
   {
    "duration": 16,
    "start_time": "2024-11-21T15:54:31.547Z"
   },
   {
    "duration": 5,
    "start_time": "2024-11-21T15:54:33.597Z"
   },
   {
    "duration": 28,
    "start_time": "2024-11-21T15:54:35.881Z"
   },
   {
    "duration": 11,
    "start_time": "2024-11-21T15:55:29.951Z"
   },
   {
    "duration": 5,
    "start_time": "2024-11-21T15:55:32.263Z"
   },
   {
    "duration": 14,
    "start_time": "2024-11-21T15:55:34.132Z"
   },
   {
    "duration": 21,
    "start_time": "2024-11-21T15:56:00.800Z"
   },
   {
    "duration": 10,
    "start_time": "2024-11-21T15:56:24.554Z"
   },
   {
    "duration": 18,
    "start_time": "2024-11-21T15:56:36.777Z"
   },
   {
    "duration": 15,
    "start_time": "2024-11-21T15:56:46.315Z"
   },
   {
    "duration": 22,
    "start_time": "2024-11-21T15:58:21.507Z"
   },
   {
    "duration": 9,
    "start_time": "2024-11-21T15:58:41.792Z"
   },
   {
    "duration": 66,
    "start_time": "2024-11-21T15:59:05.817Z"
   },
   {
    "duration": 775,
    "start_time": "2024-11-21T15:59:16.302Z"
   },
   {
    "duration": 30,
    "start_time": "2024-11-21T15:59:17.079Z"
   },
   {
    "duration": 12,
    "start_time": "2024-11-21T15:59:17.111Z"
   },
   {
    "duration": 13,
    "start_time": "2024-11-21T15:59:17.126Z"
   },
   {
    "duration": 6,
    "start_time": "2024-11-21T15:59:17.141Z"
   },
   {
    "duration": 11,
    "start_time": "2024-11-21T15:59:17.149Z"
   },
   {
    "duration": 5,
    "start_time": "2024-11-21T15:59:17.161Z"
   },
   {
    "duration": 51,
    "start_time": "2024-11-21T15:59:17.169Z"
   },
   {
    "duration": 18,
    "start_time": "2024-11-21T15:59:17.226Z"
   },
   {
    "duration": 6,
    "start_time": "2024-11-21T15:59:17.249Z"
   },
   {
    "duration": 11,
    "start_time": "2024-11-21T15:59:17.256Z"
   },
   {
    "duration": 308,
    "start_time": "2024-11-21T15:59:17.270Z"
   },
   {
    "duration": 0,
    "start_time": "2024-11-21T15:59:17.581Z"
   },
   {
    "duration": 0,
    "start_time": "2024-11-21T15:59:17.582Z"
   },
   {
    "duration": 0,
    "start_time": "2024-11-21T15:59:17.584Z"
   },
   {
    "duration": 0,
    "start_time": "2024-11-21T15:59:17.585Z"
   },
   {
    "duration": 0,
    "start_time": "2024-11-21T15:59:17.587Z"
   },
   {
    "duration": 11,
    "start_time": "2024-11-21T16:08:02.825Z"
   },
   {
    "duration": 34,
    "start_time": "2024-11-21T16:29:53.907Z"
   },
   {
    "duration": 30,
    "start_time": "2024-11-21T16:31:50.903Z"
   },
   {
    "duration": 409,
    "start_time": "2024-11-21T16:34:01.393Z"
   },
   {
    "duration": 396,
    "start_time": "2024-11-21T16:34:12.903Z"
   },
   {
    "duration": 394,
    "start_time": "2024-11-21T16:34:26.754Z"
   },
   {
    "duration": 20,
    "start_time": "2024-11-21T16:35:42.558Z"
   },
   {
    "duration": 16,
    "start_time": "2024-11-21T16:36:54.457Z"
   },
   {
    "duration": 340,
    "start_time": "2024-11-21T16:37:11.464Z"
   },
   {
    "duration": 12,
    "start_time": "2024-11-21T16:37:31.626Z"
   },
   {
    "duration": 785,
    "start_time": "2024-11-21T18:47:37.073Z"
   },
   {
    "duration": 37,
    "start_time": "2024-11-21T18:47:37.860Z"
   },
   {
    "duration": 11,
    "start_time": "2024-11-21T18:47:37.899Z"
   },
   {
    "duration": 10,
    "start_time": "2024-11-21T18:47:37.912Z"
   },
   {
    "duration": 5,
    "start_time": "2024-11-21T18:47:37.925Z"
   },
   {
    "duration": 10,
    "start_time": "2024-11-21T18:47:37.931Z"
   },
   {
    "duration": 4,
    "start_time": "2024-11-21T18:47:37.943Z"
   },
   {
    "duration": 14,
    "start_time": "2024-11-21T18:47:37.948Z"
   },
   {
    "duration": 12,
    "start_time": "2024-11-21T18:47:37.963Z"
   },
   {
    "duration": 40,
    "start_time": "2024-11-21T18:47:37.976Z"
   },
   {
    "duration": 40,
    "start_time": "2024-11-21T18:47:38.019Z"
   },
   {
    "duration": 154,
    "start_time": "2024-11-21T18:47:38.061Z"
   },
   {
    "duration": 405,
    "start_time": "2024-11-21T18:47:38.217Z"
   },
   {
    "duration": 14,
    "start_time": "2024-11-21T18:47:38.626Z"
   },
   {
    "duration": 12,
    "start_time": "2024-11-21T18:47:38.641Z"
   },
   {
    "duration": 58,
    "start_time": "2024-11-21T18:47:38.654Z"
   },
   {
    "duration": 107,
    "start_time": "2024-11-21T18:47:38.714Z"
   },
   {
    "duration": 562,
    "start_time": "2024-11-21T18:47:38.822Z"
   },
   {
    "duration": 35,
    "start_time": "2024-11-21T18:47:39.386Z"
   },
   {
    "duration": 50,
    "start_time": "2024-11-21T18:47:39.422Z"
   },
   {
    "duration": 531,
    "start_time": "2024-11-21T18:49:48.901Z"
   },
   {
    "duration": 46,
    "start_time": "2024-11-21T18:51:34.894Z"
   },
   {
    "duration": 11,
    "start_time": "2024-11-21T18:52:38.245Z"
   },
   {
    "duration": 43,
    "start_time": "2024-11-21T18:56:30.286Z"
   },
   {
    "duration": 820,
    "start_time": "2024-11-21T18:57:39.115Z"
   },
   {
    "duration": 32,
    "start_time": "2024-11-21T18:57:39.937Z"
   },
   {
    "duration": 12,
    "start_time": "2024-11-21T18:57:39.971Z"
   },
   {
    "duration": 25,
    "start_time": "2024-11-21T18:57:39.986Z"
   },
   {
    "duration": 6,
    "start_time": "2024-11-21T18:57:40.013Z"
   },
   {
    "duration": 10,
    "start_time": "2024-11-21T18:57:40.020Z"
   },
   {
    "duration": 5,
    "start_time": "2024-11-21T18:57:40.032Z"
   },
   {
    "duration": 15,
    "start_time": "2024-11-21T18:57:40.038Z"
   },
   {
    "duration": 13,
    "start_time": "2024-11-21T18:57:40.055Z"
   },
   {
    "duration": 41,
    "start_time": "2024-11-21T18:57:40.072Z"
   },
   {
    "duration": 26,
    "start_time": "2024-11-21T18:57:40.114Z"
   },
   {
    "duration": 90,
    "start_time": "2024-11-21T18:57:40.141Z"
   },
   {
    "duration": 401,
    "start_time": "2024-11-21T18:57:40.312Z"
   },
   {
    "duration": 15,
    "start_time": "2024-11-21T18:57:40.714Z"
   },
   {
    "duration": 560,
    "start_time": "2024-11-21T18:57:40.730Z"
   },
   {
    "duration": 0,
    "start_time": "2024-11-21T18:57:41.292Z"
   },
   {
    "duration": 0,
    "start_time": "2024-11-21T18:57:41.293Z"
   },
   {
    "duration": 0,
    "start_time": "2024-11-21T18:57:41.295Z"
   },
   {
    "duration": 0,
    "start_time": "2024-11-21T18:57:41.296Z"
   },
   {
    "duration": 0,
    "start_time": "2024-11-21T18:57:41.312Z"
   },
   {
    "duration": 10,
    "start_time": "2024-11-21T19:00:13.258Z"
   },
   {
    "duration": 781,
    "start_time": "2024-11-21T19:00:23.460Z"
   },
   {
    "duration": 26,
    "start_time": "2024-11-21T19:00:24.243Z"
   },
   {
    "duration": 10,
    "start_time": "2024-11-21T19:00:24.271Z"
   },
   {
    "duration": 10,
    "start_time": "2024-11-21T19:00:24.283Z"
   },
   {
    "duration": 6,
    "start_time": "2024-11-21T19:00:24.311Z"
   },
   {
    "duration": 10,
    "start_time": "2024-11-21T19:00:24.318Z"
   },
   {
    "duration": 4,
    "start_time": "2024-11-21T19:00:24.330Z"
   },
   {
    "duration": 15,
    "start_time": "2024-11-21T19:00:24.335Z"
   },
   {
    "duration": 12,
    "start_time": "2024-11-21T19:00:24.352Z"
   },
   {
    "duration": 4,
    "start_time": "2024-11-21T19:00:24.366Z"
   },
   {
    "duration": 64,
    "start_time": "2024-11-21T19:00:24.372Z"
   },
   {
    "duration": 96,
    "start_time": "2024-11-21T19:00:24.438Z"
   },
   {
    "duration": 489,
    "start_time": "2024-11-21T19:00:24.536Z"
   },
   {
    "duration": 21,
    "start_time": "2024-11-21T19:00:25.030Z"
   },
   {
    "duration": 12,
    "start_time": "2024-11-21T19:00:25.053Z"
   },
   {
    "duration": 239,
    "start_time": "2024-11-21T19:00:25.067Z"
   },
   {
    "duration": 0,
    "start_time": "2024-11-21T19:00:25.312Z"
   },
   {
    "duration": 1,
    "start_time": "2024-11-21T19:00:25.312Z"
   },
   {
    "duration": 0,
    "start_time": "2024-11-21T19:00:25.313Z"
   },
   {
    "duration": 0,
    "start_time": "2024-11-21T19:00:25.314Z"
   },
   {
    "duration": 13,
    "start_time": "2024-11-21T19:01:13.800Z"
   },
   {
    "duration": 37,
    "start_time": "2024-11-21T19:02:04.728Z"
   },
   {
    "duration": 554,
    "start_time": "2024-11-21T19:02:25.616Z"
   },
   {
    "duration": 26,
    "start_time": "2024-11-21T19:02:45.491Z"
   },
   {
    "duration": 28,
    "start_time": "2024-11-21T19:02:55.218Z"
   },
   {
    "duration": 23,
    "start_time": "2024-11-21T19:27:19.843Z"
   },
   {
    "duration": 29,
    "start_time": "2024-11-21T19:27:38.501Z"
   },
   {
    "duration": 9,
    "start_time": "2024-11-21T19:28:08.429Z"
   },
   {
    "duration": 9,
    "start_time": "2024-11-21T19:30:43.694Z"
   },
   {
    "duration": 758,
    "start_time": "2024-11-21T19:30:49.487Z"
   },
   {
    "duration": 27,
    "start_time": "2024-11-21T19:30:50.247Z"
   },
   {
    "duration": 10,
    "start_time": "2024-11-21T19:30:50.276Z"
   },
   {
    "duration": 23,
    "start_time": "2024-11-21T19:30:50.289Z"
   },
   {
    "duration": 5,
    "start_time": "2024-11-21T19:30:50.314Z"
   },
   {
    "duration": 9,
    "start_time": "2024-11-21T19:30:50.321Z"
   },
   {
    "duration": 4,
    "start_time": "2024-11-21T19:30:50.332Z"
   },
   {
    "duration": 14,
    "start_time": "2024-11-21T19:30:50.338Z"
   },
   {
    "duration": 11,
    "start_time": "2024-11-21T19:30:50.355Z"
   },
   {
    "duration": 5,
    "start_time": "2024-11-21T19:30:50.370Z"
   },
   {
    "duration": 25,
    "start_time": "2024-11-21T19:30:50.411Z"
   },
   {
    "duration": 95,
    "start_time": "2024-11-21T19:30:50.437Z"
   },
   {
    "duration": 479,
    "start_time": "2024-11-21T19:30:50.533Z"
   },
   {
    "duration": 14,
    "start_time": "2024-11-21T19:30:51.013Z"
   },
   {
    "duration": 234,
    "start_time": "2024-11-21T19:30:51.029Z"
   },
   {
    "duration": 0,
    "start_time": "2024-11-21T19:30:51.265Z"
   },
   {
    "duration": 0,
    "start_time": "2024-11-21T19:30:51.266Z"
   },
   {
    "duration": 0,
    "start_time": "2024-11-21T19:30:51.267Z"
   },
   {
    "duration": 0,
    "start_time": "2024-11-21T19:30:51.269Z"
   },
   {
    "duration": 0,
    "start_time": "2024-11-21T19:30:51.270Z"
   },
   {
    "duration": 0,
    "start_time": "2024-11-21T19:30:51.271Z"
   },
   {
    "duration": 23,
    "start_time": "2024-11-21T19:31:12.932Z"
   },
   {
    "duration": 9,
    "start_time": "2024-11-21T19:31:24.989Z"
   },
   {
    "duration": 8,
    "start_time": "2024-11-21T19:31:37.935Z"
   },
   {
    "duration": 760,
    "start_time": "2024-11-21T19:33:28.286Z"
   },
   {
    "duration": 27,
    "start_time": "2024-11-21T19:33:29.049Z"
   },
   {
    "duration": 12,
    "start_time": "2024-11-21T19:33:29.079Z"
   },
   {
    "duration": 20,
    "start_time": "2024-11-21T19:33:29.092Z"
   },
   {
    "duration": 5,
    "start_time": "2024-11-21T19:33:29.115Z"
   },
   {
    "duration": 10,
    "start_time": "2024-11-21T19:33:29.121Z"
   },
   {
    "duration": 4,
    "start_time": "2024-11-21T19:33:29.132Z"
   },
   {
    "duration": 14,
    "start_time": "2024-11-21T19:33:29.138Z"
   },
   {
    "duration": 12,
    "start_time": "2024-11-21T19:33:29.153Z"
   },
   {
    "duration": 5,
    "start_time": "2024-11-21T19:33:29.167Z"
   },
   {
    "duration": 60,
    "start_time": "2024-11-21T19:33:29.174Z"
   },
   {
    "duration": 95,
    "start_time": "2024-11-21T19:33:29.235Z"
   },
   {
    "duration": 464,
    "start_time": "2024-11-21T19:33:29.332Z"
   },
   {
    "duration": 21,
    "start_time": "2024-11-21T19:33:29.800Z"
   },
   {
    "duration": 9,
    "start_time": "2024-11-21T19:33:29.824Z"
   },
   {
    "duration": 6,
    "start_time": "2024-11-21T19:33:29.835Z"
   },
   {
    "duration": 8,
    "start_time": "2024-11-21T19:33:29.843Z"
   },
   {
    "duration": 260,
    "start_time": "2024-11-21T19:33:29.852Z"
   },
   {
    "duration": 0,
    "start_time": "2024-11-21T19:33:30.114Z"
   },
   {
    "duration": 0,
    "start_time": "2024-11-21T19:33:30.115Z"
   },
   {
    "duration": 0,
    "start_time": "2024-11-21T19:33:30.116Z"
   },
   {
    "duration": 0,
    "start_time": "2024-11-21T19:33:30.118Z"
   },
   {
    "duration": 14,
    "start_time": "2024-11-21T19:36:15.403Z"
   },
   {
    "duration": 37,
    "start_time": "2024-11-21T19:37:25.226Z"
   },
   {
    "duration": 564,
    "start_time": "2024-11-21T19:37:27.172Z"
   },
   {
    "duration": 36,
    "start_time": "2024-11-21T19:38:24.005Z"
   },
   {
    "duration": 28,
    "start_time": "2024-11-21T19:38:31.479Z"
   },
   {
    "duration": 69,
    "start_time": "2024-11-21T19:39:49.816Z"
   },
   {
    "duration": 21,
    "start_time": "2024-11-21T20:39:55.674Z"
   },
   {
    "duration": 17,
    "start_time": "2024-11-21T20:40:40.789Z"
   },
   {
    "duration": 772,
    "start_time": "2024-11-21T20:40:54.464Z"
   },
   {
    "duration": 26,
    "start_time": "2024-11-21T20:40:55.238Z"
   },
   {
    "duration": 12,
    "start_time": "2024-11-21T20:40:55.266Z"
   },
   {
    "duration": 10,
    "start_time": "2024-11-21T20:40:55.279Z"
   },
   {
    "duration": 23,
    "start_time": "2024-11-21T20:40:55.291Z"
   },
   {
    "duration": 12,
    "start_time": "2024-11-21T20:40:55.317Z"
   },
   {
    "duration": 4,
    "start_time": "2024-11-21T20:40:55.330Z"
   },
   {
    "duration": 15,
    "start_time": "2024-11-21T20:40:55.336Z"
   },
   {
    "duration": 12,
    "start_time": "2024-11-21T20:40:55.353Z"
   },
   {
    "duration": 4,
    "start_time": "2024-11-21T20:40:55.367Z"
   },
   {
    "duration": 57,
    "start_time": "2024-11-21T20:40:55.373Z"
   },
   {
    "duration": 97,
    "start_time": "2024-11-21T20:40:55.432Z"
   },
   {
    "duration": 461,
    "start_time": "2024-11-21T20:40:55.531Z"
   },
   {
    "duration": 24,
    "start_time": "2024-11-21T20:40:55.996Z"
   },
   {
    "duration": 10,
    "start_time": "2024-11-21T20:40:56.022Z"
   },
   {
    "duration": 8,
    "start_time": "2024-11-21T20:40:56.033Z"
   },
   {
    "duration": 8,
    "start_time": "2024-11-21T20:40:56.042Z"
   },
   {
    "duration": 61,
    "start_time": "2024-11-21T20:40:56.051Z"
   },
   {
    "duration": 116,
    "start_time": "2024-11-21T20:40:56.114Z"
   },
   {
    "duration": 569,
    "start_time": "2024-11-21T20:40:56.232Z"
   },
   {
    "duration": 41,
    "start_time": "2024-11-21T20:40:56.803Z"
   },
   {
    "duration": 77,
    "start_time": "2024-11-21T20:40:56.846Z"
   },
   {
    "duration": 332,
    "start_time": "2024-11-21T20:45:19.280Z"
   },
   {
    "duration": 13,
    "start_time": "2024-11-21T20:46:44.410Z"
   },
   {
    "duration": 12,
    "start_time": "2024-11-21T20:47:53.605Z"
   },
   {
    "duration": 186,
    "start_time": "2024-11-21T20:47:55.597Z"
   },
   {
    "duration": 30,
    "start_time": "2024-11-21T20:48:38.485Z"
   },
   {
    "duration": 389,
    "start_time": "2024-11-21T20:49:47.294Z"
   },
   {
    "duration": 185,
    "start_time": "2024-11-21T20:51:11.276Z"
   },
   {
    "duration": 27,
    "start_time": "2024-11-21T20:52:14.444Z"
   },
   {
    "duration": 103,
    "start_time": "2024-11-21T20:53:42.503Z"
   },
   {
    "duration": 50,
    "start_time": "2024-11-21T20:53:57.059Z"
   },
   {
    "duration": 751,
    "start_time": "2024-11-21T20:54:19.081Z"
   },
   {
    "duration": 27,
    "start_time": "2024-11-21T20:54:19.835Z"
   },
   {
    "duration": 11,
    "start_time": "2024-11-21T20:54:19.864Z"
   },
   {
    "duration": 10,
    "start_time": "2024-11-21T20:54:19.878Z"
   },
   {
    "duration": 22,
    "start_time": "2024-11-21T20:54:19.889Z"
   },
   {
    "duration": 11,
    "start_time": "2024-11-21T20:54:19.913Z"
   },
   {
    "duration": 4,
    "start_time": "2024-11-21T20:54:19.925Z"
   },
   {
    "duration": 15,
    "start_time": "2024-11-21T20:54:19.930Z"
   },
   {
    "duration": 16,
    "start_time": "2024-11-21T20:54:19.947Z"
   },
   {
    "duration": 5,
    "start_time": "2024-11-21T20:54:19.966Z"
   },
   {
    "duration": 61,
    "start_time": "2024-11-21T20:54:19.973Z"
   },
   {
    "duration": 94,
    "start_time": "2024-11-21T20:54:20.036Z"
   },
   {
    "duration": 472,
    "start_time": "2024-11-21T20:54:20.132Z"
   },
   {
    "duration": 16,
    "start_time": "2024-11-21T20:54:20.611Z"
   },
   {
    "duration": 11,
    "start_time": "2024-11-21T20:54:20.629Z"
   },
   {
    "duration": 7,
    "start_time": "2024-11-21T20:54:20.643Z"
   },
   {
    "duration": 6,
    "start_time": "2024-11-21T20:54:20.653Z"
   },
   {
    "duration": 53,
    "start_time": "2024-11-21T20:54:20.661Z"
   },
   {
    "duration": 116,
    "start_time": "2024-11-21T20:54:20.716Z"
   },
   {
    "duration": 570,
    "start_time": "2024-11-21T20:54:20.834Z"
   },
   {
    "duration": 40,
    "start_time": "2024-11-21T20:54:21.406Z"
   },
   {
    "duration": 78,
    "start_time": "2024-11-21T20:54:21.448Z"
   },
   {
    "duration": 15,
    "start_time": "2024-11-21T20:54:21.528Z"
   },
   {
    "duration": 91,
    "start_time": "2024-11-21T20:54:21.544Z"
   },
   {
    "duration": 400,
    "start_time": "2024-11-21T20:54:21.712Z"
   },
   {
    "duration": 27,
    "start_time": "2024-11-21T20:54:22.114Z"
   },
   {
    "duration": 48,
    "start_time": "2024-11-21T20:54:22.143Z"
   },
   {
    "duration": 5,
    "start_time": "2024-11-21T20:58:00.598Z"
   },
   {
    "duration": 788,
    "start_time": "2024-11-22T02:18:56.060Z"
   },
   {
    "duration": 36,
    "start_time": "2024-11-22T02:18:56.850Z"
   },
   {
    "duration": 11,
    "start_time": "2024-11-22T02:18:56.888Z"
   },
   {
    "duration": 14,
    "start_time": "2024-11-22T02:18:56.901Z"
   },
   {
    "duration": 5,
    "start_time": "2024-11-22T02:18:56.918Z"
   },
   {
    "duration": 14,
    "start_time": "2024-11-22T02:18:56.925Z"
   },
   {
    "duration": 5,
    "start_time": "2024-11-22T02:18:56.941Z"
   },
   {
    "duration": 22,
    "start_time": "2024-11-22T02:18:56.948Z"
   },
   {
    "duration": 38,
    "start_time": "2024-11-22T02:18:56.972Z"
   },
   {
    "duration": 5,
    "start_time": "2024-11-22T02:18:57.014Z"
   },
   {
    "duration": 34,
    "start_time": "2024-11-22T02:18:57.021Z"
   },
   {
    "duration": 158,
    "start_time": "2024-11-22T02:18:57.057Z"
   },
   {
    "duration": 421,
    "start_time": "2024-11-22T02:18:57.216Z"
   },
   {
    "duration": 17,
    "start_time": "2024-11-22T02:18:57.641Z"
   },
   {
    "duration": 11,
    "start_time": "2024-11-22T02:18:57.660Z"
   },
   {
    "duration": 7,
    "start_time": "2024-11-22T02:18:57.672Z"
   },
   {
    "duration": 35,
    "start_time": "2024-11-22T02:18:57.680Z"
   },
   {
    "duration": 26,
    "start_time": "2024-11-22T02:18:57.719Z"
   },
   {
    "duration": 166,
    "start_time": "2024-11-22T02:18:57.750Z"
   },
   {
    "duration": 590,
    "start_time": "2024-11-22T02:18:57.919Z"
   },
   {
    "duration": 37,
    "start_time": "2024-11-22T02:18:58.510Z"
   },
   {
    "duration": 82,
    "start_time": "2024-11-22T02:18:58.549Z"
   },
   {
    "duration": 12,
    "start_time": "2024-11-22T02:18:58.633Z"
   },
   {
    "duration": 82,
    "start_time": "2024-11-22T02:18:58.646Z"
   },
   {
    "duration": 479,
    "start_time": "2024-11-22T02:18:58.730Z"
   },
   {
    "duration": 26,
    "start_time": "2024-11-22T02:18:59.211Z"
   },
   {
    "duration": 48,
    "start_time": "2024-11-22T02:18:59.239Z"
   },
   {
    "duration": 578,
    "start_time": "2024-11-22T02:19:19.032Z"
   },
   {
    "duration": 17,
    "start_time": "2024-11-22T02:19:37.394Z"
   },
   {
    "duration": 29,
    "start_time": "2024-11-22T03:11:31.652Z"
   },
   {
    "duration": 778,
    "start_time": "2024-11-22T03:11:37.604Z"
   },
   {
    "duration": 26,
    "start_time": "2024-11-22T03:11:38.385Z"
   },
   {
    "duration": 13,
    "start_time": "2024-11-22T03:11:38.413Z"
   },
   {
    "duration": 13,
    "start_time": "2024-11-22T03:11:38.428Z"
   },
   {
    "duration": 6,
    "start_time": "2024-11-22T03:11:38.444Z"
   },
   {
    "duration": 10,
    "start_time": "2024-11-22T03:11:38.452Z"
   },
   {
    "duration": 6,
    "start_time": "2024-11-22T03:11:38.464Z"
   },
   {
    "duration": 48,
    "start_time": "2024-11-22T03:11:38.471Z"
   },
   {
    "duration": 12,
    "start_time": "2024-11-22T03:11:38.521Z"
   },
   {
    "duration": 5,
    "start_time": "2024-11-22T03:11:38.535Z"
   },
   {
    "duration": 16,
    "start_time": "2024-11-22T03:11:38.542Z"
   },
   {
    "duration": 11,
    "start_time": "2024-11-22T03:11:38.561Z"
   },
   {
    "duration": 100,
    "start_time": "2024-11-22T03:11:38.609Z"
   },
   {
    "duration": 405,
    "start_time": "2024-11-22T03:11:38.712Z"
   },
   {
    "duration": 11,
    "start_time": "2024-11-22T03:11:39.119Z"
   },
   {
    "duration": 8,
    "start_time": "2024-11-22T03:11:39.131Z"
   },
   {
    "duration": 8,
    "start_time": "2024-11-22T03:11:39.140Z"
   },
   {
    "duration": 62,
    "start_time": "2024-11-22T03:11:39.149Z"
   },
   {
    "duration": 115,
    "start_time": "2024-11-22T03:11:39.213Z"
   },
   {
    "duration": 582,
    "start_time": "2024-11-22T03:11:39.331Z"
   },
   {
    "duration": 36,
    "start_time": "2024-11-22T03:11:39.915Z"
   },
   {
    "duration": 83,
    "start_time": "2024-11-22T03:11:39.953Z"
   },
   {
    "duration": 12,
    "start_time": "2024-11-22T03:11:40.038Z"
   },
   {
    "duration": 78,
    "start_time": "2024-11-22T03:11:40.051Z"
   },
   {
    "duration": 406,
    "start_time": "2024-11-22T03:11:40.208Z"
   },
   {
    "duration": 25,
    "start_time": "2024-11-22T03:11:40.616Z"
   },
   {
    "duration": 47,
    "start_time": "2024-11-22T03:11:40.643Z"
   },
   {
    "duration": 23,
    "start_time": "2024-11-22T03:12:15.489Z"
   },
   {
    "duration": 30,
    "start_time": "2024-11-22T03:12:22.506Z"
   },
   {
    "duration": 396,
    "start_time": "2024-11-22T03:12:43.923Z"
   },
   {
    "duration": 10,
    "start_time": "2024-11-22T03:41:13.243Z"
   },
   {
    "duration": 43,
    "start_time": "2024-11-22T03:45:25.052Z"
   },
   {
    "duration": 1133,
    "start_time": "2024-11-22T03:48:41.351Z"
   },
   {
    "duration": 8,
    "start_time": "2024-11-22T03:49:23.664Z"
   },
   {
    "duration": 784,
    "start_time": "2024-11-22T04:16:10.481Z"
   },
   {
    "duration": 28,
    "start_time": "2024-11-22T04:16:11.267Z"
   },
   {
    "duration": 22,
    "start_time": "2024-11-22T04:16:11.297Z"
   },
   {
    "duration": 12,
    "start_time": "2024-11-22T04:16:11.322Z"
   },
   {
    "duration": 6,
    "start_time": "2024-11-22T04:16:11.336Z"
   },
   {
    "duration": 12,
    "start_time": "2024-11-22T04:16:11.343Z"
   },
   {
    "duration": 4,
    "start_time": "2024-11-22T04:16:11.357Z"
   },
   {
    "duration": 51,
    "start_time": "2024-11-22T04:16:11.363Z"
   },
   {
    "duration": 13,
    "start_time": "2024-11-22T04:16:11.417Z"
   },
   {
    "duration": 4,
    "start_time": "2024-11-22T04:16:11.433Z"
   },
   {
    "duration": 17,
    "start_time": "2024-11-22T04:16:11.439Z"
   },
   {
    "duration": 52,
    "start_time": "2024-11-22T04:16:11.458Z"
   },
   {
    "duration": 116,
    "start_time": "2024-11-22T04:16:11.514Z"
   },
   {
    "duration": 416,
    "start_time": "2024-11-22T04:16:11.633Z"
   },
   {
    "duration": 11,
    "start_time": "2024-11-22T04:16:12.051Z"
   },
   {
    "duration": 7,
    "start_time": "2024-11-22T04:16:12.064Z"
   },
   {
    "duration": 8,
    "start_time": "2024-11-22T04:16:12.072Z"
   },
   {
    "duration": 41,
    "start_time": "2024-11-22T04:16:12.082Z"
   },
   {
    "duration": 105,
    "start_time": "2024-11-22T04:16:12.125Z"
   },
   {
    "duration": 625,
    "start_time": "2024-11-22T04:16:12.232Z"
   },
   {
    "duration": 40,
    "start_time": "2024-11-22T04:16:12.860Z"
   },
   {
    "duration": 71,
    "start_time": "2024-11-22T04:16:12.909Z"
   },
   {
    "duration": 30,
    "start_time": "2024-11-22T04:16:12.983Z"
   },
   {
    "duration": 106,
    "start_time": "2024-11-22T04:16:13.016Z"
   },
   {
    "duration": 411,
    "start_time": "2024-11-22T04:16:13.123Z"
   },
   {
    "duration": 28,
    "start_time": "2024-11-22T04:16:13.537Z"
   },
   {
    "duration": 66,
    "start_time": "2024-11-22T04:16:13.567Z"
   },
   {
    "duration": 8,
    "start_time": "2024-11-22T04:16:13.637Z"
   },
   {
    "duration": 616,
    "start_time": "2024-11-22T04:16:13.647Z"
   },
   {
    "duration": 8,
    "start_time": "2024-11-22T04:16:34.459Z"
   },
   {
    "duration": 778,
    "start_time": "2024-11-22T04:16:40.654Z"
   },
   {
    "duration": 25,
    "start_time": "2024-11-22T04:16:41.435Z"
   },
   {
    "duration": 11,
    "start_time": "2024-11-22T04:16:41.462Z"
   },
   {
    "duration": 10,
    "start_time": "2024-11-22T04:16:41.475Z"
   },
   {
    "duration": 25,
    "start_time": "2024-11-22T04:16:41.487Z"
   },
   {
    "duration": 11,
    "start_time": "2024-11-22T04:16:41.513Z"
   },
   {
    "duration": 5,
    "start_time": "2024-11-22T04:16:41.526Z"
   },
   {
    "duration": 15,
    "start_time": "2024-11-22T04:16:41.532Z"
   },
   {
    "duration": 11,
    "start_time": "2024-11-22T04:16:41.549Z"
   },
   {
    "duration": 4,
    "start_time": "2024-11-22T04:16:41.563Z"
   },
   {
    "duration": 49,
    "start_time": "2024-11-22T04:16:41.569Z"
   },
   {
    "duration": 14,
    "start_time": "2024-11-22T04:16:41.619Z"
   },
   {
    "duration": 95,
    "start_time": "2024-11-22T04:16:41.634Z"
   },
   {
    "duration": 481,
    "start_time": "2024-11-22T04:16:41.731Z"
   },
   {
    "duration": 11,
    "start_time": "2024-11-22T04:16:42.214Z"
   },
   {
    "duration": 6,
    "start_time": "2024-11-22T04:16:42.227Z"
   },
   {
    "duration": 7,
    "start_time": "2024-11-22T04:16:42.235Z"
   },
   {
    "duration": 15,
    "start_time": "2024-11-22T04:16:42.244Z"
   },
   {
    "duration": 113,
    "start_time": "2024-11-22T04:16:42.308Z"
   },
   {
    "duration": 585,
    "start_time": "2024-11-22T04:16:42.423Z"
   },
   {
    "duration": 36,
    "start_time": "2024-11-22T04:16:43.010Z"
   },
   {
    "duration": 76,
    "start_time": "2024-11-22T04:16:43.048Z"
   },
   {
    "duration": 12,
    "start_time": "2024-11-22T04:16:43.125Z"
   },
   {
    "duration": 91,
    "start_time": "2024-11-22T04:16:43.139Z"
   },
   {
    "duration": 395,
    "start_time": "2024-11-22T04:16:43.308Z"
   },
   {
    "duration": 25,
    "start_time": "2024-11-22T04:16:43.709Z"
   },
   {
    "duration": 50,
    "start_time": "2024-11-22T04:16:43.735Z"
   },
   {
    "duration": 21,
    "start_time": "2024-11-22T04:16:43.789Z"
   },
   {
    "duration": 7,
    "start_time": "2024-11-22T04:16:43.812Z"
   }
  ],
  "kernelspec": {
   "display_name": "base",
   "language": "python",
   "name": "python3"
  },
  "language_info": {
   "codemirror_mode": {
    "name": "ipython",
    "version": 3
   },
   "file_extension": ".py",
   "mimetype": "text/x-python",
   "name": "python",
   "nbconvert_exporter": "python",
   "pygments_lexer": "ipython3",
   "version": "3.12.4"
  },
  "toc": {
   "base_numbering": 1,
   "nav_menu": {},
   "number_sections": true,
   "sideBar": true,
   "skip_h1_title": true,
   "title_cell": "Table of Contents",
   "title_sidebar": "Contents",
   "toc_cell": false,
   "toc_position": {},
   "toc_section_display": true,
   "toc_window_display": false
  }
 },
 "nbformat": 4,
 "nbformat_minor": 2
}
