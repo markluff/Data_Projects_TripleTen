{
 "cells": [
  {
   "cell_type": "markdown",
   "metadata": {},
   "source": [
    "# A comparison of video game consoles and games using EDA and Statistical Analysis"
   ]
  },
  {
   "cell_type": "markdown",
   "metadata": {},
   "source": [
    "In this project I will take a close look at the video game data set. I intend to clean up the data set and then use it to determine consumer trends based on the sales globally, and regionally. I will also look to see what kinds of games consumers purchase. By looking analyzing the data in this way I will be able to make marketing and development recommendations to game makers for their upcoming year in order to increase revenue."
   ]
  },
  {
   "cell_type": "markdown",
   "metadata": {},
   "source": [
    "**Step 1:** Open the data File and study the general information"
   ]
  },
  {
   "cell_type": "code",
   "execution_count": 1,
   "metadata": {},
   "outputs": [],
   "source": [
    "#Import all the different packages needed for analysis\n",
    "import pandas as pd\n",
    "import numpy as np\n",
    "from matplotlib import pyplot as plt\n",
    "import seaborn as sns\n",
    "from scipy import stats as st\n",
    "import plotly.express as px"
   ]
  },
  {
   "cell_type": "code",
   "execution_count": 2,
   "metadata": {
    "scrolled": true
   },
   "outputs": [
    {
     "data": {
      "text/html": [
       "<div>\n",
       "<style scoped>\n",
       "    .dataframe tbody tr th:only-of-type {\n",
       "        vertical-align: middle;\n",
       "    }\n",
       "\n",
       "    .dataframe tbody tr th {\n",
       "        vertical-align: top;\n",
       "    }\n",
       "\n",
       "    .dataframe thead th {\n",
       "        text-align: right;\n",
       "    }\n",
       "</style>\n",
       "<table border=\"1\" class=\"dataframe\">\n",
       "  <thead>\n",
       "    <tr style=\"text-align: right;\">\n",
       "      <th></th>\n",
       "      <th>Name</th>\n",
       "      <th>Platform</th>\n",
       "      <th>Year_of_Release</th>\n",
       "      <th>Genre</th>\n",
       "      <th>NA_sales</th>\n",
       "      <th>EU_sales</th>\n",
       "      <th>JP_sales</th>\n",
       "      <th>Other_sales</th>\n",
       "      <th>Critic_Score</th>\n",
       "      <th>User_Score</th>\n",
       "      <th>Rating</th>\n",
       "    </tr>\n",
       "  </thead>\n",
       "  <tbody>\n",
       "    <tr>\n",
       "      <th>1520</th>\n",
       "      <td>Mega Man Battle Network 3 Blue / White Version</td>\n",
       "      <td>GBA</td>\n",
       "      <td>2002.0</td>\n",
       "      <td>Role-Playing</td>\n",
       "      <td>0.39</td>\n",
       "      <td>0.02</td>\n",
       "      <td>0.85</td>\n",
       "      <td>0.03</td>\n",
       "      <td>NaN</td>\n",
       "      <td>NaN</td>\n",
       "      <td>NaN</td>\n",
       "    </tr>\n",
       "    <tr>\n",
       "      <th>14723</th>\n",
       "      <td>Turn It Around</td>\n",
       "      <td>DS</td>\n",
       "      <td>2006.0</td>\n",
       "      <td>Action</td>\n",
       "      <td>0.03</td>\n",
       "      <td>0.00</td>\n",
       "      <td>0.00</td>\n",
       "      <td>0.00</td>\n",
       "      <td>39.0</td>\n",
       "      <td>4.5</td>\n",
       "      <td>E</td>\n",
       "    </tr>\n",
       "    <tr>\n",
       "      <th>6271</th>\n",
       "      <td>Dragon Ball GT: Final Bout</td>\n",
       "      <td>PS</td>\n",
       "      <td>1997.0</td>\n",
       "      <td>Fighting</td>\n",
       "      <td>0.02</td>\n",
       "      <td>0.02</td>\n",
       "      <td>0.22</td>\n",
       "      <td>0.02</td>\n",
       "      <td>NaN</td>\n",
       "      <td>NaN</td>\n",
       "      <td>NaN</td>\n",
       "    </tr>\n",
       "    <tr>\n",
       "      <th>5191</th>\n",
       "      <td>Hamtaro: Ham-Ham Heartbreak</td>\n",
       "      <td>GBA</td>\n",
       "      <td>2002.0</td>\n",
       "      <td>Action</td>\n",
       "      <td>0.26</td>\n",
       "      <td>0.10</td>\n",
       "      <td>0.00</td>\n",
       "      <td>0.01</td>\n",
       "      <td>72.0</td>\n",
       "      <td>9.3</td>\n",
       "      <td>E</td>\n",
       "    </tr>\n",
       "    <tr>\n",
       "      <th>2207</th>\n",
       "      <td>MLB 06: The Show</td>\n",
       "      <td>PS2</td>\n",
       "      <td>2006.0</td>\n",
       "      <td>Sports</td>\n",
       "      <td>0.78</td>\n",
       "      <td>0.03</td>\n",
       "      <td>0.00</td>\n",
       "      <td>0.13</td>\n",
       "      <td>83.0</td>\n",
       "      <td>8.9</td>\n",
       "      <td>E</td>\n",
       "    </tr>\n",
       "  </tbody>\n",
       "</table>\n",
       "</div>"
      ],
      "text/plain": [
       "                                                 Name Platform  \\\n",
       "1520   Mega Man Battle Network 3 Blue / White Version      GBA   \n",
       "14723                                  Turn It Around       DS   \n",
       "6271                       Dragon Ball GT: Final Bout       PS   \n",
       "5191                      Hamtaro: Ham-Ham Heartbreak      GBA   \n",
       "2207                                 MLB 06: The Show      PS2   \n",
       "\n",
       "       Year_of_Release         Genre  NA_sales  EU_sales  JP_sales  \\\n",
       "1520            2002.0  Role-Playing      0.39      0.02      0.85   \n",
       "14723           2006.0        Action      0.03      0.00      0.00   \n",
       "6271            1997.0      Fighting      0.02      0.02      0.22   \n",
       "5191            2002.0        Action      0.26      0.10      0.00   \n",
       "2207            2006.0        Sports      0.78      0.03      0.00   \n",
       "\n",
       "       Other_sales  Critic_Score User_Score Rating  \n",
       "1520          0.03           NaN        NaN    NaN  \n",
       "14723         0.00          39.0        4.5      E  \n",
       "6271          0.02           NaN        NaN    NaN  \n",
       "5191          0.01          72.0        9.3      E  \n",
       "2207          0.13          83.0        8.9      E  "
      ]
     },
     "metadata": {},
     "output_type": "display_data"
    }
   ],
   "source": [
    "#First look at the data\n",
    "df = pd.read_csv('games.csv')\n",
    "display(df.sample(5))\n",
    "#I see that there is going to be a need to rename the column titles."
   ]
  },
  {
   "cell_type": "markdown",
   "metadata": {},
   "source": [
    "**Step 2:** Prepare the Data"
   ]
  },
  {
   "cell_type": "code",
   "execution_count": 3,
   "metadata": {},
   "outputs": [],
   "source": [
    "#Renaming the columns to snake case\n",
    "df.rename(columns={'Name':'name', 'Platform':'platform', 'Year_of_Release':'release_year', 'Genre':'genre', 'NA_sales':'na_sales', 'EU_sales':'eu_sales', 'JP_sales':'jp_sales', 'Other_sales':'other_sales', 'Critic_Score':'critic_score', 'User_Score':'user_score', 'Rating':'rating'}, inplace=True)"
   ]
  },
  {
   "cell_type": "code",
   "execution_count": 4,
   "metadata": {
    "scrolled": false
   },
   "outputs": [
    {
     "name": "stdout",
     "output_type": "stream",
     "text": [
      "<class 'pandas.core.frame.DataFrame'>\n",
      "RangeIndex: 16715 entries, 0 to 16714\n",
      "Data columns (total 11 columns):\n",
      " #   Column        Non-Null Count  Dtype  \n",
      "---  ------        --------------  -----  \n",
      " 0   name          16713 non-null  object \n",
      " 1   platform      16715 non-null  object \n",
      " 2   release_year  16446 non-null  float64\n",
      " 3   genre         16713 non-null  object \n",
      " 4   na_sales      16715 non-null  float64\n",
      " 5   eu_sales      16715 non-null  float64\n",
      " 6   jp_sales      16715 non-null  float64\n",
      " 7   other_sales   16715 non-null  float64\n",
      " 8   critic_score  8137 non-null   float64\n",
      " 9   user_score    10014 non-null  object \n",
      " 10  rating        9949 non-null   object \n",
      "dtypes: float64(6), object(5)\n",
      "memory usage: 1.4+ MB\n"
     ]
    }
   ],
   "source": [
    "#checking to see the Dtypes of each column\n",
    "df.info()"
   ]
  },
  {
   "cell_type": "markdown",
   "metadata": {},
   "source": [
    "### Observations from the data info ###\n",
    "I can see here that I'm going to need to change the user_score to float. The user_score column with all need to be multiplied by 10 to be compatible with the critic_score column"
   ]
  },
  {
   "cell_type": "code",
   "execution_count": 5,
   "metadata": {
    "scrolled": true
   },
   "outputs": [
    {
     "name": "stdout",
     "output_type": "stream",
     "text": [
      "name               2\n",
      "platform           0\n",
      "release_year     269\n",
      "genre              2\n",
      "na_sales           0\n",
      "eu_sales           0\n",
      "jp_sales           0\n",
      "other_sales        0\n",
      "critic_score    8578\n",
      "user_score      6701\n",
      "rating          6766\n",
      "dtype: int64\n"
     ]
    }
   ],
   "source": [
    "nan_count = df.isna().sum()\n",
    "print(nan_count)\n",
    "#NaN values are going to be an issue in this project. I will have to fill them in with meaningful data"
   ]
  },
  {
   "cell_type": "code",
   "execution_count": 6,
   "metadata": {},
   "outputs": [
    {
     "data": {
      "text/plain": [
       "name            0.000120\n",
       "platform        0.000000\n",
       "release_year    0.016093\n",
       "genre           0.000120\n",
       "na_sales        0.000000\n",
       "eu_sales        0.000000\n",
       "jp_sales        0.000000\n",
       "other_sales     0.000000\n",
       "critic_score    0.513192\n",
       "user_score      0.400897\n",
       "rating          0.404786\n",
       "dtype: float64"
      ]
     },
     "execution_count": 6,
     "metadata": {},
     "output_type": "execute_result"
    }
   ],
   "source": [
    "# what percentage of each column is null?\n",
    "df.isnull().sum()/len(df)"
   ]
  },
  {
   "cell_type": "code",
   "execution_count": 7,
   "metadata": {
    "scrolled": true
   },
   "outputs": [
    {
     "data": {
      "text/html": [
       "<div>\n",
       "<style scoped>\n",
       "    .dataframe tbody tr th:only-of-type {\n",
       "        vertical-align: middle;\n",
       "    }\n",
       "\n",
       "    .dataframe tbody tr th {\n",
       "        vertical-align: top;\n",
       "    }\n",
       "\n",
       "    .dataframe thead th {\n",
       "        text-align: right;\n",
       "    }\n",
       "</style>\n",
       "<table border=\"1\" class=\"dataframe\">\n",
       "  <thead>\n",
       "    <tr style=\"text-align: right;\">\n",
       "      <th></th>\n",
       "      <th>missing_values</th>\n",
       "      <th>%</th>\n",
       "    </tr>\n",
       "  </thead>\n",
       "  <tbody>\n",
       "    <tr>\n",
       "      <th>critic_score</th>\n",
       "      <td>8578</td>\n",
       "      <td>51.319</td>\n",
       "    </tr>\n",
       "    <tr>\n",
       "      <th>rating</th>\n",
       "      <td>6766</td>\n",
       "      <td>40.479</td>\n",
       "    </tr>\n",
       "    <tr>\n",
       "      <th>user_score</th>\n",
       "      <td>6701</td>\n",
       "      <td>40.090</td>\n",
       "    </tr>\n",
       "    <tr>\n",
       "      <th>release_year</th>\n",
       "      <td>269</td>\n",
       "      <td>1.609</td>\n",
       "    </tr>\n",
       "    <tr>\n",
       "      <th>name</th>\n",
       "      <td>2</td>\n",
       "      <td>0.012</td>\n",
       "    </tr>\n",
       "    <tr>\n",
       "      <th>genre</th>\n",
       "      <td>2</td>\n",
       "      <td>0.012</td>\n",
       "    </tr>\n",
       "    <tr>\n",
       "      <th>platform</th>\n",
       "      <td>0</td>\n",
       "      <td>0.000</td>\n",
       "    </tr>\n",
       "    <tr>\n",
       "      <th>na_sales</th>\n",
       "      <td>0</td>\n",
       "      <td>0.000</td>\n",
       "    </tr>\n",
       "    <tr>\n",
       "      <th>eu_sales</th>\n",
       "      <td>0</td>\n",
       "      <td>0.000</td>\n",
       "    </tr>\n",
       "    <tr>\n",
       "      <th>jp_sales</th>\n",
       "      <td>0</td>\n",
       "      <td>0.000</td>\n",
       "    </tr>\n",
       "    <tr>\n",
       "      <th>other_sales</th>\n",
       "      <td>0</td>\n",
       "      <td>0.000</td>\n",
       "    </tr>\n",
       "  </tbody>\n",
       "</table>\n",
       "</div>"
      ],
      "text/plain": [
       "              missing_values       %\n",
       "critic_score            8578  51.319\n",
       "rating                  6766  40.479\n",
       "user_score              6701  40.090\n",
       "release_year             269   1.609\n",
       "name                       2   0.012\n",
       "genre                      2   0.012\n",
       "platform                   0   0.000\n",
       "na_sales                   0   0.000\n",
       "eu_sales                   0   0.000\n",
       "jp_sales                   0   0.000\n",
       "other_sales                0   0.000"
      ]
     },
     "execution_count": 7,
     "metadata": {},
     "output_type": "execute_result"
    }
   ],
   "source": [
    "# make a dataframe with missing value information\n",
    "mis_values = df.isnull().sum().to_frame('missing_values')\n",
    "mis_values['%'] = round((df.isnull().sum()/len(df))*100,3)\n",
    "mis_values.sort_values(by='%', ascending=False)"
   ]
  },
  {
   "cell_type": "code",
   "execution_count": 8,
   "metadata": {},
   "outputs": [
    {
     "name": "stdout",
     "output_type": "stream",
     "text": [
      "There are 0 duplicated values to remove.\n"
     ]
    }
   ],
   "source": [
    "# explore duplicated data\n",
    "print('There are',df.duplicated().sum(), 'duplicated values to remove.')\n"
   ]
  },
  {
   "cell_type": "code",
   "execution_count": 9,
   "metadata": {},
   "outputs": [
    {
     "name": "stdout",
     "output_type": "stream",
     "text": [
      "The earliest game was released in 1980.0, and the most recent game was released in 2016.0.\n"
     ]
    }
   ],
   "source": [
    "#Look at the range of years that this data set covers\n",
    "min_year = df['release_year'].min()\n",
    "max_year = df['release_year'].max()\n",
    "print(f'The earliest game was released in {min_year}, and the most recent game was released in {max_year}.')"
   ]
  },
  {
   "cell_type": "markdown",
   "metadata": {},
   "source": [
    "The games' release dates range from 1980 to 2016. I'm going to need this information later on when I begin looking at different eras of games. This 37 year period could be divided in many different ways. Initially I'm going to section the games by the decade in which they were released. So I will have 1980s, 1990s, 2000s, and 2010s. The 2010s column will only have 7 years, whereas the others will all have 10 years. Then I'll take a look to see if that still makes sense by seeing how much data there is in each decade. "
   ]
  },
  {
   "cell_type": "code",
   "execution_count": 10,
   "metadata": {},
   "outputs": [],
   "source": [
    "#In the user_score column there are \"tbd\" values that need to be dealt with. First I'm going to change them all to NaN\n",
    "df['user_score'] = df['user_score'].str.replace('tbd', 'NaN', regex=True)"
   ]
  },
  {
   "cell_type": "code",
   "execution_count": 11,
   "metadata": {},
   "outputs": [
    {
     "name": "stdout",
     "output_type": "stream",
     "text": [
      "The average user score is: 7.1\n",
      "The median user score is: 7.5\n"
     ]
    }
   ],
   "source": [
    "#Now I'm going to check the average and the median of the column to begin deciding what to replace the NaN values with\n",
    "#In order to do this I'm going to have to change the data type to float from object\n",
    "df['user_score'] = df['user_score'].apply(np.float64)\n",
    "user_mean = df['user_score'].mean()\n",
    "user_median = df['user_score'].median()\n",
    "print(f'The average user score is: {user_mean:.1f}')\n",
    "print('The median user score is:',user_median)"
   ]
  },
  {
   "cell_type": "code",
   "execution_count": 12,
   "metadata": {},
   "outputs": [
    {
     "name": "stdout",
     "output_type": "stream",
     "text": [
      "The average critic score is:, 69.0\n",
      "The median critic score is: 71.0\n"
     ]
    }
   ],
   "source": [
    "# now I'm going to check the mean and median of the critic_score column\n",
    "critic_mean = df['critic_score'].mean()\n",
    "critic_median = df['critic_score'].median()\n",
    "print(f'The average critic score is:, {critic_mean:.1f}')\n",
    "print('The median critic score is:', critic_median)"
   ]
  },
  {
   "cell_type": "markdown",
   "metadata": {},
   "source": [
    "Dealing with the NaN values: for the release year, genre, and name columns I'm going to remove the NaN values since they make up such a small portion of the total data. For the rating column I will fill all of the NaN values with 'unknown'. Finally, with the user and critic score I will leave the values as they are. It would unnecessarily affect analysis to fill those values with any other data, and because they make up such a large portion of the data it would be better to leave them in the data set."
   ]
  },
  {
   "cell_type": "code",
   "execution_count": 13,
   "metadata": {},
   "outputs": [
    {
     "name": "stderr",
     "output_type": "stream",
     "text": [
      "C:\\Users\\markl\\AppData\\Local\\Temp\\ipykernel_25956\\2385328067.py:4: FutureWarning: A value is trying to be set on a copy of a DataFrame or Series through chained assignment using an inplace method.\n",
      "The behavior will change in pandas 3.0. This inplace method will never work because the intermediate object on which we are setting values always behaves as a copy.\n",
      "\n",
      "For example, when doing 'df[col].method(value, inplace=True)', try using 'df.method({col: value}, inplace=True)' or df[col] = df[col].method(value) instead, to perform the operation inplace on the original object.\n",
      "\n",
      "\n",
      "  df['rating'].fillna('unknown', inplace=True)\n"
     ]
    }
   ],
   "source": [
    "#dropping the rows with the NaN values in the name, year, and genre columns because they make up such a small portion of the data.\n",
    "df.dropna(subset=['release_year', 'genre', 'name'], inplace=True)\n",
    "#for the values in the rating column i'm going to fill the NaN values with Unknown\n",
    "df['rating'].fillna('unknown', inplace=True)"
   ]
  },
  {
   "cell_type": "code",
   "execution_count": 14,
   "metadata": {
    "scrolled": true
   },
   "outputs": [
    {
     "data": {
      "text/html": [
       "<div>\n",
       "<style scoped>\n",
       "    .dataframe tbody tr th:only-of-type {\n",
       "        vertical-align: middle;\n",
       "    }\n",
       "\n",
       "    .dataframe tbody tr th {\n",
       "        vertical-align: top;\n",
       "    }\n",
       "\n",
       "    .dataframe thead th {\n",
       "        text-align: right;\n",
       "    }\n",
       "</style>\n",
       "<table border=\"1\" class=\"dataframe\">\n",
       "  <thead>\n",
       "    <tr style=\"text-align: right;\">\n",
       "      <th></th>\n",
       "      <th>name</th>\n",
       "      <th>platform</th>\n",
       "      <th>release_year</th>\n",
       "      <th>genre</th>\n",
       "      <th>na_sales</th>\n",
       "      <th>eu_sales</th>\n",
       "      <th>jp_sales</th>\n",
       "      <th>other_sales</th>\n",
       "      <th>critic_score</th>\n",
       "      <th>user_score</th>\n",
       "      <th>rating</th>\n",
       "    </tr>\n",
       "  </thead>\n",
       "  <tbody>\n",
       "    <tr>\n",
       "      <th>0</th>\n",
       "      <td>Wii Sports</td>\n",
       "      <td>Wii</td>\n",
       "      <td>2006.0</td>\n",
       "      <td>Sports</td>\n",
       "      <td>41.36</td>\n",
       "      <td>28.96</td>\n",
       "      <td>3.77</td>\n",
       "      <td>8.45</td>\n",
       "      <td>76.0</td>\n",
       "      <td>80.0</td>\n",
       "      <td>E</td>\n",
       "    </tr>\n",
       "    <tr>\n",
       "      <th>1</th>\n",
       "      <td>Super Mario Bros.</td>\n",
       "      <td>NES</td>\n",
       "      <td>1985.0</td>\n",
       "      <td>Platform</td>\n",
       "      <td>29.08</td>\n",
       "      <td>3.58</td>\n",
       "      <td>6.81</td>\n",
       "      <td>0.77</td>\n",
       "      <td>NaN</td>\n",
       "      <td>NaN</td>\n",
       "      <td>unknown</td>\n",
       "    </tr>\n",
       "    <tr>\n",
       "      <th>2</th>\n",
       "      <td>Mario Kart Wii</td>\n",
       "      <td>Wii</td>\n",
       "      <td>2008.0</td>\n",
       "      <td>Racing</td>\n",
       "      <td>15.68</td>\n",
       "      <td>12.76</td>\n",
       "      <td>3.79</td>\n",
       "      <td>3.29</td>\n",
       "      <td>82.0</td>\n",
       "      <td>83.0</td>\n",
       "      <td>E</td>\n",
       "    </tr>\n",
       "    <tr>\n",
       "      <th>3</th>\n",
       "      <td>Wii Sports Resort</td>\n",
       "      <td>Wii</td>\n",
       "      <td>2009.0</td>\n",
       "      <td>Sports</td>\n",
       "      <td>15.61</td>\n",
       "      <td>10.93</td>\n",
       "      <td>3.28</td>\n",
       "      <td>2.95</td>\n",
       "      <td>80.0</td>\n",
       "      <td>80.0</td>\n",
       "      <td>E</td>\n",
       "    </tr>\n",
       "    <tr>\n",
       "      <th>4</th>\n",
       "      <td>Pokemon Red/Pokemon Blue</td>\n",
       "      <td>GB</td>\n",
       "      <td>1996.0</td>\n",
       "      <td>Role-Playing</td>\n",
       "      <td>11.27</td>\n",
       "      <td>8.89</td>\n",
       "      <td>10.22</td>\n",
       "      <td>1.00</td>\n",
       "      <td>NaN</td>\n",
       "      <td>NaN</td>\n",
       "      <td>unknown</td>\n",
       "    </tr>\n",
       "  </tbody>\n",
       "</table>\n",
       "</div>"
      ],
      "text/plain": [
       "                       name platform  release_year         genre  na_sales  \\\n",
       "0                Wii Sports      Wii        2006.0        Sports     41.36   \n",
       "1         Super Mario Bros.      NES        1985.0      Platform     29.08   \n",
       "2            Mario Kart Wii      Wii        2008.0        Racing     15.68   \n",
       "3         Wii Sports Resort      Wii        2009.0        Sports     15.61   \n",
       "4  Pokemon Red/Pokemon Blue       GB        1996.0  Role-Playing     11.27   \n",
       "\n",
       "   eu_sales  jp_sales  other_sales  critic_score  user_score   rating  \n",
       "0     28.96      3.77         8.45          76.0        80.0        E  \n",
       "1      3.58      6.81         0.77           NaN         NaN  unknown  \n",
       "2     12.76      3.79         3.29          82.0        83.0        E  \n",
       "3     10.93      3.28         2.95          80.0        80.0        E  \n",
       "4      8.89     10.22         1.00           NaN         NaN  unknown  "
      ]
     },
     "metadata": {},
     "output_type": "display_data"
    }
   ],
   "source": [
    "#This block will multiply the whole of the user_score column by 10 so that the values are in the same format as the critic score\n",
    "df['user_score'] = df['user_score'].multiply(10)\n",
    "display(df.head())"
   ]
  },
  {
   "cell_type": "markdown",
   "metadata": {},
   "source": [
    "Looking at the percentages of the amount of missing values it would definitely change the data to fill the the missing values with Median or Mean. "
   ]
  },
  {
   "cell_type": "code",
   "execution_count": 15,
   "metadata": {},
   "outputs": [
    {
     "data": {
      "text/html": [
       "<div>\n",
       "<style scoped>\n",
       "    .dataframe tbody tr th:only-of-type {\n",
       "        vertical-align: middle;\n",
       "    }\n",
       "\n",
       "    .dataframe tbody tr th {\n",
       "        vertical-align: top;\n",
       "    }\n",
       "\n",
       "    .dataframe thead th {\n",
       "        text-align: right;\n",
       "    }\n",
       "</style>\n",
       "<table border=\"1\" class=\"dataframe\">\n",
       "  <thead>\n",
       "    <tr style=\"text-align: right;\">\n",
       "      <th></th>\n",
       "      <th>name</th>\n",
       "      <th>platform</th>\n",
       "      <th>release_year</th>\n",
       "      <th>genre</th>\n",
       "      <th>na_sales</th>\n",
       "      <th>eu_sales</th>\n",
       "      <th>jp_sales</th>\n",
       "      <th>other_sales</th>\n",
       "      <th>critic_score</th>\n",
       "      <th>user_score</th>\n",
       "      <th>rating</th>\n",
       "      <th>total_sales</th>\n",
       "    </tr>\n",
       "  </thead>\n",
       "  <tbody>\n",
       "    <tr>\n",
       "      <th>0</th>\n",
       "      <td>Wii Sports</td>\n",
       "      <td>Wii</td>\n",
       "      <td>2006.0</td>\n",
       "      <td>Sports</td>\n",
       "      <td>41.36</td>\n",
       "      <td>28.96</td>\n",
       "      <td>3.77</td>\n",
       "      <td>8.45</td>\n",
       "      <td>76.0</td>\n",
       "      <td>80.0</td>\n",
       "      <td>E</td>\n",
       "      <td>82.54</td>\n",
       "    </tr>\n",
       "    <tr>\n",
       "      <th>1</th>\n",
       "      <td>Super Mario Bros.</td>\n",
       "      <td>NES</td>\n",
       "      <td>1985.0</td>\n",
       "      <td>Platform</td>\n",
       "      <td>29.08</td>\n",
       "      <td>3.58</td>\n",
       "      <td>6.81</td>\n",
       "      <td>0.77</td>\n",
       "      <td>NaN</td>\n",
       "      <td>NaN</td>\n",
       "      <td>unknown</td>\n",
       "      <td>40.24</td>\n",
       "    </tr>\n",
       "    <tr>\n",
       "      <th>2</th>\n",
       "      <td>Mario Kart Wii</td>\n",
       "      <td>Wii</td>\n",
       "      <td>2008.0</td>\n",
       "      <td>Racing</td>\n",
       "      <td>15.68</td>\n",
       "      <td>12.76</td>\n",
       "      <td>3.79</td>\n",
       "      <td>3.29</td>\n",
       "      <td>82.0</td>\n",
       "      <td>83.0</td>\n",
       "      <td>E</td>\n",
       "      <td>35.52</td>\n",
       "    </tr>\n",
       "    <tr>\n",
       "      <th>3</th>\n",
       "      <td>Wii Sports Resort</td>\n",
       "      <td>Wii</td>\n",
       "      <td>2009.0</td>\n",
       "      <td>Sports</td>\n",
       "      <td>15.61</td>\n",
       "      <td>10.93</td>\n",
       "      <td>3.28</td>\n",
       "      <td>2.95</td>\n",
       "      <td>80.0</td>\n",
       "      <td>80.0</td>\n",
       "      <td>E</td>\n",
       "      <td>32.77</td>\n",
       "    </tr>\n",
       "    <tr>\n",
       "      <th>4</th>\n",
       "      <td>Pokemon Red/Pokemon Blue</td>\n",
       "      <td>GB</td>\n",
       "      <td>1996.0</td>\n",
       "      <td>Role-Playing</td>\n",
       "      <td>11.27</td>\n",
       "      <td>8.89</td>\n",
       "      <td>10.22</td>\n",
       "      <td>1.00</td>\n",
       "      <td>NaN</td>\n",
       "      <td>NaN</td>\n",
       "      <td>unknown</td>\n",
       "      <td>31.38</td>\n",
       "    </tr>\n",
       "  </tbody>\n",
       "</table>\n",
       "</div>"
      ],
      "text/plain": [
       "                       name platform  release_year         genre  na_sales  \\\n",
       "0                Wii Sports      Wii        2006.0        Sports     41.36   \n",
       "1         Super Mario Bros.      NES        1985.0      Platform     29.08   \n",
       "2            Mario Kart Wii      Wii        2008.0        Racing     15.68   \n",
       "3         Wii Sports Resort      Wii        2009.0        Sports     15.61   \n",
       "4  Pokemon Red/Pokemon Blue       GB        1996.0  Role-Playing     11.27   \n",
       "\n",
       "   eu_sales  jp_sales  other_sales  critic_score  user_score   rating  \\\n",
       "0     28.96      3.77         8.45          76.0        80.0        E   \n",
       "1      3.58      6.81         0.77           NaN         NaN  unknown   \n",
       "2     12.76      3.79         3.29          82.0        83.0        E   \n",
       "3     10.93      3.28         2.95          80.0        80.0        E   \n",
       "4      8.89     10.22         1.00           NaN         NaN  unknown   \n",
       "\n",
       "   total_sales  \n",
       "0        82.54  \n",
       "1        40.24  \n",
       "2        35.52  \n",
       "3        32.77  \n",
       "4        31.38  "
      ]
     },
     "metadata": {},
     "output_type": "display_data"
    }
   ],
   "source": [
    "#Now I'm going to make a new column that has a total sales for each game by summing the values from the na, eu, jp, and other sales columns\n",
    "df['total_sales'] = df['na_sales']+df['eu_sales']+df['jp_sales']+df['other_sales']\n",
    "display(df.head())"
   ]
  },
  {
   "cell_type": "markdown",
   "metadata": {},
   "source": [
    "**Step 3:** Analyze the Data"
   ]
  },
  {
   "cell_type": "markdown",
   "metadata": {},
   "source": [
    "As stated above I've decided that I'm going to group the data based on the decade in which the games were each released. This will leave 10 years in the 80s, 90, and 00s, and 7 in the 10s."
   ]
  },
  {
   "cell_type": "code",
   "execution_count": 16,
   "metadata": {},
   "outputs": [],
   "source": [
    "df_80s = df[(df['release_year'] >= 1980) & (df['release_year'] <= 1989)]\n",
    "df_90s = df[(df['release_year'] >= 1990) & (df['release_year'] <= 1999)]\n",
    "df_00s = df[(df['release_year'] >= 2000) & (df['release_year'] <= 2009)]\n",
    "df_10s = df[(df['release_year'] >= 2010) & (df['release_year'] <= 2016)]"
   ]
  },
  {
   "cell_type": "code",
   "execution_count": 17,
   "metadata": {},
   "outputs": [
    {
     "name": "stdout",
     "output_type": "stream",
     "text": [
      "<class 'pandas.core.frame.DataFrame'>\n",
      "Index: 205 entries, 1 to 15957\n",
      "Data columns (total 12 columns):\n",
      " #   Column        Non-Null Count  Dtype  \n",
      "---  ------        --------------  -----  \n",
      " 0   name          205 non-null    object \n",
      " 1   platform      205 non-null    object \n",
      " 2   release_year  205 non-null    float64\n",
      " 3   genre         205 non-null    object \n",
      " 4   na_sales      205 non-null    float64\n",
      " 5   eu_sales      205 non-null    float64\n",
      " 6   jp_sales      205 non-null    float64\n",
      " 7   other_sales   205 non-null    float64\n",
      " 8   critic_score  2 non-null      float64\n",
      " 9   user_score    2 non-null      float64\n",
      " 10  rating        205 non-null    object \n",
      " 11  total_sales   205 non-null    float64\n",
      "dtypes: float64(8), object(4)\n",
      "memory usage: 20.8+ KB\n"
     ]
    }
   ],
   "source": [
    "df_80s.info()"
   ]
  },
  {
   "cell_type": "code",
   "execution_count": 18,
   "metadata": {},
   "outputs": [
    {
     "name": "stdout",
     "output_type": "stream",
     "text": [
      "<class 'pandas.core.frame.DataFrame'>\n",
      "Index: 1769 entries, 4 to 16694\n",
      "Data columns (total 12 columns):\n",
      " #   Column        Non-Null Count  Dtype  \n",
      "---  ------        --------------  -----  \n",
      " 0   name          1769 non-null   object \n",
      " 1   platform      1769 non-null   object \n",
      " 2   release_year  1769 non-null   float64\n",
      " 3   genre         1769 non-null   object \n",
      " 4   na_sales      1769 non-null   float64\n",
      " 5   eu_sales      1769 non-null   float64\n",
      " 6   jp_sales      1769 non-null   float64\n",
      " 7   other_sales   1769 non-null   float64\n",
      " 8   critic_score  94 non-null     float64\n",
      " 9   user_score    90 non-null     float64\n",
      " 10  rating        1769 non-null   object \n",
      " 11  total_sales   1769 non-null   float64\n",
      "dtypes: float64(8), object(4)\n",
      "memory usage: 179.7+ KB\n"
     ]
    }
   ],
   "source": [
    "df_90s.info()"
   ]
  },
  {
   "cell_type": "code",
   "execution_count": 19,
   "metadata": {},
   "outputs": [
    {
     "name": "stdout",
     "output_type": "stream",
     "text": [
      "<class 'pandas.core.frame.DataFrame'>\n",
      "Index: 9193 entries, 0 to 16713\n",
      "Data columns (total 12 columns):\n",
      " #   Column        Non-Null Count  Dtype  \n",
      "---  ------        --------------  -----  \n",
      " 0   name          9193 non-null   object \n",
      " 1   platform      9193 non-null   object \n",
      " 2   release_year  9193 non-null   float64\n",
      " 3   genre         9193 non-null   object \n",
      " 4   na_sales      9193 non-null   float64\n",
      " 5   eu_sales      9193 non-null   float64\n",
      " 6   jp_sales      9193 non-null   float64\n",
      " 7   other_sales   9193 non-null   float64\n",
      " 8   critic_score  5575 non-null   float64\n",
      " 9   user_score    4872 non-null   float64\n",
      " 10  rating        9193 non-null   object \n",
      " 11  total_sales   9193 non-null   float64\n",
      "dtypes: float64(8), object(4)\n",
      "memory usage: 933.7+ KB\n"
     ]
    }
   ],
   "source": [
    "df_00s.info()"
   ]
  },
  {
   "cell_type": "code",
   "execution_count": 20,
   "metadata": {},
   "outputs": [
    {
     "name": "stdout",
     "output_type": "stream",
     "text": [
      "<class 'pandas.core.frame.DataFrame'>\n",
      "Index: 5277 entries, 14 to 16714\n",
      "Data columns (total 12 columns):\n",
      " #   Column        Non-Null Count  Dtype  \n",
      "---  ------        --------------  -----  \n",
      " 0   name          5277 non-null   object \n",
      " 1   platform      5277 non-null   object \n",
      " 2   release_year  5277 non-null   float64\n",
      " 3   genre         5277 non-null   object \n",
      " 4   na_sales      5277 non-null   float64\n",
      " 5   eu_sales      5277 non-null   float64\n",
      " 6   jp_sales      5277 non-null   float64\n",
      " 7   other_sales   5277 non-null   float64\n",
      " 8   critic_score  2312 non-null   float64\n",
      " 9   user_score    2499 non-null   float64\n",
      " 10  rating        5277 non-null   object \n",
      " 11  total_sales   5277 non-null   float64\n",
      "dtypes: float64(8), object(4)\n",
      "memory usage: 535.9+ KB\n"
     ]
    }
   ],
   "source": [
    "df_10s.info()"
   ]
  },
  {
   "cell_type": "markdown",
   "metadata": {},
   "source": [
    "By calling the info() method on each of the decade dataframes I found that in the number of games released each decade were as follows:\n",
    "80s - 205;\n",
    "90s - 1771;\n",
    "00s - 9193;\n",
    "10s - 5277\n",
    "\n",
    "This shows that there is such a significant difference between the 80s and the other decades that I could lump the 80s and 90s together as one grouping. I will call it: df_retro\n",
    "\n",
    "In addition to this, gaming changed significantly with the advent of the PS2 and Xbox consoles. These consoles were released in 2000 and 2001 respectively. It seems that it would be helpful to have a picture of gaming before these more modern style machines were introduced."
   ]
  },
  {
   "cell_type": "code",
   "execution_count": 21,
   "metadata": {},
   "outputs": [],
   "source": [
    "df_retro = df[(df['release_year'] >= 1980) & (df['release_year'] <= 1999)]"
   ]
  },
  {
   "cell_type": "code",
   "execution_count": 22,
   "metadata": {
    "scrolled": true
   },
   "outputs": [
    {
     "data": {
      "text/html": [
       "<div>\n",
       "<style scoped>\n",
       "    .dataframe tbody tr th:only-of-type {\n",
       "        vertical-align: middle;\n",
       "    }\n",
       "\n",
       "    .dataframe tbody tr th {\n",
       "        vertical-align: top;\n",
       "    }\n",
       "\n",
       "    .dataframe thead th {\n",
       "        text-align: right;\n",
       "    }\n",
       "</style>\n",
       "<table border=\"1\" class=\"dataframe\">\n",
       "  <thead>\n",
       "    <tr style=\"text-align: right;\">\n",
       "      <th></th>\n",
       "      <th>platform</th>\n",
       "      <th>total_sales</th>\n",
       "      <th>years_active</th>\n",
       "    </tr>\n",
       "  </thead>\n",
       "  <tbody>\n",
       "    <tr>\n",
       "      <th>0</th>\n",
       "      <td>2600</td>\n",
       "      <td>86.48</td>\n",
       "      <td>9.0</td>\n",
       "    </tr>\n",
       "    <tr>\n",
       "      <th>1</th>\n",
       "      <td>3DO</td>\n",
       "      <td>0.10</td>\n",
       "      <td>1.0</td>\n",
       "    </tr>\n",
       "    <tr>\n",
       "      <th>2</th>\n",
       "      <td>3DS</td>\n",
       "      <td>257.81</td>\n",
       "      <td>5.0</td>\n",
       "    </tr>\n",
       "    <tr>\n",
       "      <th>3</th>\n",
       "      <td>DC</td>\n",
       "      <td>15.95</td>\n",
       "      <td>10.0</td>\n",
       "    </tr>\n",
       "    <tr>\n",
       "      <th>4</th>\n",
       "      <td>DS</td>\n",
       "      <td>802.78</td>\n",
       "      <td>28.0</td>\n",
       "    </tr>\n",
       "    <tr>\n",
       "      <th>5</th>\n",
       "      <td>GB</td>\n",
       "      <td>254.43</td>\n",
       "      <td>13.0</td>\n",
       "    </tr>\n",
       "    <tr>\n",
       "      <th>6</th>\n",
       "      <td>GBA</td>\n",
       "      <td>312.88</td>\n",
       "      <td>7.0</td>\n",
       "    </tr>\n",
       "    <tr>\n",
       "      <th>7</th>\n",
       "      <td>GC</td>\n",
       "      <td>196.73</td>\n",
       "      <td>6.0</td>\n",
       "    </tr>\n",
       "    <tr>\n",
       "      <th>8</th>\n",
       "      <td>GEN</td>\n",
       "      <td>28.35</td>\n",
       "      <td>4.0</td>\n",
       "    </tr>\n",
       "    <tr>\n",
       "      <th>9</th>\n",
       "      <td>GG</td>\n",
       "      <td>0.04</td>\n",
       "      <td>0.0</td>\n",
       "    </tr>\n",
       "    <tr>\n",
       "      <th>10</th>\n",
       "      <td>N64</td>\n",
       "      <td>218.01</td>\n",
       "      <td>6.0</td>\n",
       "    </tr>\n",
       "    <tr>\n",
       "      <th>11</th>\n",
       "      <td>NES</td>\n",
       "      <td>251.05</td>\n",
       "      <td>11.0</td>\n",
       "    </tr>\n",
       "    <tr>\n",
       "      <th>12</th>\n",
       "      <td>NG</td>\n",
       "      <td>1.44</td>\n",
       "      <td>3.0</td>\n",
       "    </tr>\n",
       "    <tr>\n",
       "      <th>13</th>\n",
       "      <td>PC</td>\n",
       "      <td>255.76</td>\n",
       "      <td>31.0</td>\n",
       "    </tr>\n",
       "    <tr>\n",
       "      <th>14</th>\n",
       "      <td>PCFX</td>\n",
       "      <td>0.03</td>\n",
       "      <td>0.0</td>\n",
       "    </tr>\n",
       "    <tr>\n",
       "      <th>15</th>\n",
       "      <td>PS</td>\n",
       "      <td>727.58</td>\n",
       "      <td>9.0</td>\n",
       "    </tr>\n",
       "    <tr>\n",
       "      <th>16</th>\n",
       "      <td>PS2</td>\n",
       "      <td>1233.56</td>\n",
       "      <td>11.0</td>\n",
       "    </tr>\n",
       "    <tr>\n",
       "      <th>17</th>\n",
       "      <td>PS3</td>\n",
       "      <td>931.34</td>\n",
       "      <td>10.0</td>\n",
       "    </tr>\n",
       "    <tr>\n",
       "      <th>18</th>\n",
       "      <td>PS4</td>\n",
       "      <td>314.14</td>\n",
       "      <td>3.0</td>\n",
       "    </tr>\n",
       "    <tr>\n",
       "      <th>19</th>\n",
       "      <td>PSP</td>\n",
       "      <td>289.53</td>\n",
       "      <td>11.0</td>\n",
       "    </tr>\n",
       "    <tr>\n",
       "      <th>20</th>\n",
       "      <td>PSV</td>\n",
       "      <td>53.81</td>\n",
       "      <td>5.0</td>\n",
       "    </tr>\n",
       "    <tr>\n",
       "      <th>21</th>\n",
       "      <td>SAT</td>\n",
       "      <td>33.59</td>\n",
       "      <td>5.0</td>\n",
       "    </tr>\n",
       "    <tr>\n",
       "      <th>22</th>\n",
       "      <td>SCD</td>\n",
       "      <td>1.86</td>\n",
       "      <td>1.0</td>\n",
       "    </tr>\n",
       "    <tr>\n",
       "      <th>23</th>\n",
       "      <td>SNES</td>\n",
       "      <td>200.04</td>\n",
       "      <td>9.0</td>\n",
       "    </tr>\n",
       "    <tr>\n",
       "      <th>24</th>\n",
       "      <td>TG16</td>\n",
       "      <td>0.16</td>\n",
       "      <td>0.0</td>\n",
       "    </tr>\n",
       "    <tr>\n",
       "      <th>25</th>\n",
       "      <td>WS</td>\n",
       "      <td>1.42</td>\n",
       "      <td>2.0</td>\n",
       "    </tr>\n",
       "    <tr>\n",
       "      <th>26</th>\n",
       "      <td>Wii</td>\n",
       "      <td>891.18</td>\n",
       "      <td>10.0</td>\n",
       "    </tr>\n",
       "    <tr>\n",
       "      <th>27</th>\n",
       "      <td>WiiU</td>\n",
       "      <td>82.19</td>\n",
       "      <td>4.0</td>\n",
       "    </tr>\n",
       "    <tr>\n",
       "      <th>28</th>\n",
       "      <td>X360</td>\n",
       "      <td>961.24</td>\n",
       "      <td>11.0</td>\n",
       "    </tr>\n",
       "    <tr>\n",
       "      <th>29</th>\n",
       "      <td>XB</td>\n",
       "      <td>251.57</td>\n",
       "      <td>8.0</td>\n",
       "    </tr>\n",
       "    <tr>\n",
       "      <th>30</th>\n",
       "      <td>XOne</td>\n",
       "      <td>159.32</td>\n",
       "      <td>3.0</td>\n",
       "    </tr>\n",
       "  </tbody>\n",
       "</table>\n",
       "</div>"
      ],
      "text/plain": [
       "   platform  total_sales  years_active\n",
       "0      2600        86.48           9.0\n",
       "1       3DO         0.10           1.0\n",
       "2       3DS       257.81           5.0\n",
       "3        DC        15.95          10.0\n",
       "4        DS       802.78          28.0\n",
       "5        GB       254.43          13.0\n",
       "6       GBA       312.88           7.0\n",
       "7        GC       196.73           6.0\n",
       "8       GEN        28.35           4.0\n",
       "9        GG         0.04           0.0\n",
       "10      N64       218.01           6.0\n",
       "11      NES       251.05          11.0\n",
       "12       NG         1.44           3.0\n",
       "13       PC       255.76          31.0\n",
       "14     PCFX         0.03           0.0\n",
       "15       PS       727.58           9.0\n",
       "16      PS2      1233.56          11.0\n",
       "17      PS3       931.34          10.0\n",
       "18      PS4       314.14           3.0\n",
       "19      PSP       289.53          11.0\n",
       "20      PSV        53.81           5.0\n",
       "21      SAT        33.59           5.0\n",
       "22      SCD         1.86           1.0\n",
       "23     SNES       200.04           9.0\n",
       "24     TG16         0.16           0.0\n",
       "25       WS         1.42           2.0\n",
       "26      Wii       891.18          10.0\n",
       "27     WiiU        82.19           4.0\n",
       "28     X360       961.24          11.0\n",
       "29       XB       251.57           8.0\n",
       "30     XOne       159.32           3.0"
      ]
     },
     "metadata": {},
     "output_type": "display_data"
    }
   ],
   "source": [
    "#I will use the groupby method to subtact release years of the games for each platform so that I can see how long\n",
    "#each platform was in use. \n",
    "years_active = (df.groupby(['platform'])['release_year'].max() - df.groupby(['platform'])['release_year'].min()).reset_index()\n",
    "\n",
    "#I'm going to use the groupby method again to see how each platform performed in total sales\n",
    "platform_performance = (df.groupby(['platform'])['total_sales'].sum()).reset_index()\n",
    "#I'll now merge the two previous lines to make a platform comparison df\n",
    "platform_analysis = platform_performance.merge(years_active, how='left')\n",
    "platform_analysis = platform_analysis.rename(columns={'release_year':'years_active'})\n",
    "display(platform_analysis)\n",
    "#from this I can see that the PC and DS ad the longest runs, and the TG16, PCFX, 3DO, and SCD had the shortest runs"
   ]
  },
  {
   "cell_type": "code",
   "execution_count": 23,
   "metadata": {},
   "outputs": [
    {
     "name": "stdout",
     "output_type": "stream",
     "text": [
      "The average lifespan of a console is 7.6 years, and the median lifespan is 6.0 years.\n"
     ]
    }
   ],
   "source": [
    "avg_lifespan = platform_analysis['years_active'].mean()\n",
    "med_lifespan = platform_analysis['years_active'].median()\n",
    "print(f'The average lifespan of a console is {avg_lifespan:.1f} years, and the median lifespan is {med_lifespan} years.')"
   ]
  },
  {
   "cell_type": "code",
   "execution_count": 24,
   "metadata": {},
   "outputs": [
    {
     "data": {
      "text/plain": [
       "<Axes: title={'center': 'Annual Game Sales for the PS2'}, xlabel='Year', ylabel='Total Sales(Millions $)'>"
      ]
     },
     "execution_count": 24,
     "metadata": {},
     "output_type": "execute_result"
    },
    {
     "data": {
      "image/png": "[encoded data removed]",
      "text/plain": [
       "<Figure size 640x480 with 1 Axes>"
      ]
     },
     "metadata": {},
     "output_type": "display_data"
    }
   ],
   "source": [
    "#Above I found that the PS2 grossed the most amount of money of all the platforms\n",
    "#First I need to make a new df that is just for PS2 data\n",
    "ps2_df = df[df['platform'] == 'PS2']\n",
    "#now I'm grouping the dataframe by release year. \n",
    "ps2_annual = ps2_df.groupby(['release_year'])['total_sales'].sum().reset_index()\n",
    "#finally, I can show a bar graph that shows each year's total sales\n",
    "ps2_annual.plot(x='release_year', kind='bar', legend=False, xlabel='Year', ylabel='Total Sales(Millions $)',title='Annual Game Sales for the PS2')\n",
    "\n"
   ]
  },
  {
   "cell_type": "code",
   "execution_count": 25,
   "metadata": {},
   "outputs": [
    {
     "name": "stdout",
     "output_type": "stream",
     "text": [
      "['NES' 'GB' 'DS' 'PS2' 'SNES' 'GBA' 'N64' 'PS' 'XB' '2600' 'PSP' 'GC'\n",
      " 'GEN' 'DC' 'SAT' 'SCD' 'WS' 'NG' 'TG16' '3DO' 'GG' 'PCFX']\n"
     ]
    }
   ],
   "source": [
    "active = df[df['release_year']==2016.0]\n",
    "#display(active.head())\n",
    "act_plat = active['platform'].unique()\n",
    "#display(act_plat)\n",
    "\n",
    "#Using ~ and isin with the act_plat list to then only find platforms that have no sales in 2016, i.e. they are no longer active platforms.\n",
    "inactive = df[~df['platform'].isin(act_plat)]\n",
    "#display(inactive.head())\n",
    "\n",
    "inact_plat = inactive['platform'].unique()\n",
    "print(inact_plat)"
   ]
  },
  {
   "cell_type": "markdown",
   "metadata": {},
   "source": [
    "Xbox One and PS4 were both released in 2013, and the WiiU was released in 2012. The 3DS and the PSV was released in 2011. Of all the active systems in 2016, these all are the most current generation. I'm choosing to look more closely at the data from 2011 onward for the next portion of analysis."
   ]
  },
  {
   "cell_type": "code",
   "execution_count": 26,
   "metadata": {
    "scrolled": true
   },
   "outputs": [
    {
     "data": {
      "text/html": [
       "<div>\n",
       "<style scoped>\n",
       "    .dataframe tbody tr th:only-of-type {\n",
       "        vertical-align: middle;\n",
       "    }\n",
       "\n",
       "    .dataframe tbody tr th {\n",
       "        vertical-align: top;\n",
       "    }\n",
       "\n",
       "    .dataframe thead th {\n",
       "        text-align: right;\n",
       "    }\n",
       "</style>\n",
       "<table border=\"1\" class=\"dataframe\">\n",
       "  <thead>\n",
       "    <tr style=\"text-align: right;\">\n",
       "      <th></th>\n",
       "      <th>name</th>\n",
       "      <th>platform</th>\n",
       "      <th>release_year</th>\n",
       "      <th>genre</th>\n",
       "      <th>na_sales</th>\n",
       "      <th>eu_sales</th>\n",
       "      <th>jp_sales</th>\n",
       "      <th>other_sales</th>\n",
       "      <th>critic_score</th>\n",
       "      <th>user_score</th>\n",
       "      <th>rating</th>\n",
       "      <th>total_sales</th>\n",
       "    </tr>\n",
       "  </thead>\n",
       "  <tbody>\n",
       "    <tr>\n",
       "      <th>16</th>\n",
       "      <td>Grand Theft Auto V</td>\n",
       "      <td>PS3</td>\n",
       "      <td>2013.0</td>\n",
       "      <td>Action</td>\n",
       "      <td>7.02</td>\n",
       "      <td>9.09</td>\n",
       "      <td>0.98</td>\n",
       "      <td>3.96</td>\n",
       "      <td>97.0</td>\n",
       "      <td>82.0</td>\n",
       "      <td>M</td>\n",
       "      <td>21.05</td>\n",
       "    </tr>\n",
       "    <tr>\n",
       "      <th>23</th>\n",
       "      <td>Grand Theft Auto V</td>\n",
       "      <td>X360</td>\n",
       "      <td>2013.0</td>\n",
       "      <td>Action</td>\n",
       "      <td>9.66</td>\n",
       "      <td>5.14</td>\n",
       "      <td>0.06</td>\n",
       "      <td>1.41</td>\n",
       "      <td>97.0</td>\n",
       "      <td>81.0</td>\n",
       "      <td>M</td>\n",
       "      <td>16.27</td>\n",
       "    </tr>\n",
       "    <tr>\n",
       "      <th>29</th>\n",
       "      <td>Call of Duty: Modern Warfare 3</td>\n",
       "      <td>X360</td>\n",
       "      <td>2011.0</td>\n",
       "      <td>Shooter</td>\n",
       "      <td>9.04</td>\n",
       "      <td>4.24</td>\n",
       "      <td>0.13</td>\n",
       "      <td>1.32</td>\n",
       "      <td>88.0</td>\n",
       "      <td>34.0</td>\n",
       "      <td>M</td>\n",
       "      <td>14.73</td>\n",
       "    </tr>\n",
       "    <tr>\n",
       "      <th>31</th>\n",
       "      <td>Call of Duty: Black Ops 3</td>\n",
       "      <td>PS4</td>\n",
       "      <td>2015.0</td>\n",
       "      <td>Shooter</td>\n",
       "      <td>6.03</td>\n",
       "      <td>5.86</td>\n",
       "      <td>0.36</td>\n",
       "      <td>2.38</td>\n",
       "      <td>NaN</td>\n",
       "      <td>NaN</td>\n",
       "      <td>unknown</td>\n",
       "      <td>14.63</td>\n",
       "    </tr>\n",
       "    <tr>\n",
       "      <th>33</th>\n",
       "      <td>Pokemon X/Pokemon Y</td>\n",
       "      <td>3DS</td>\n",
       "      <td>2013.0</td>\n",
       "      <td>Role-Playing</td>\n",
       "      <td>5.28</td>\n",
       "      <td>4.19</td>\n",
       "      <td>4.35</td>\n",
       "      <td>0.78</td>\n",
       "      <td>NaN</td>\n",
       "      <td>NaN</td>\n",
       "      <td>unknown</td>\n",
       "      <td>14.60</td>\n",
       "    </tr>\n",
       "  </tbody>\n",
       "</table>\n",
       "</div>"
      ],
      "text/plain": [
       "                              name platform  release_year         genre  \\\n",
       "16              Grand Theft Auto V      PS3        2013.0        Action   \n",
       "23              Grand Theft Auto V     X360        2013.0        Action   \n",
       "29  Call of Duty: Modern Warfare 3     X360        2011.0       Shooter   \n",
       "31       Call of Duty: Black Ops 3      PS4        2015.0       Shooter   \n",
       "33             Pokemon X/Pokemon Y      3DS        2013.0  Role-Playing   \n",
       "\n",
       "    na_sales  eu_sales  jp_sales  other_sales  critic_score  user_score  \\\n",
       "16      7.02      9.09      0.98         3.96          97.0        82.0   \n",
       "23      9.66      5.14      0.06         1.41          97.0        81.0   \n",
       "29      9.04      4.24      0.13         1.32          88.0        34.0   \n",
       "31      6.03      5.86      0.36         2.38           NaN         NaN   \n",
       "33      5.28      4.19      4.35         0.78           NaN         NaN   \n",
       "\n",
       "     rating  total_sales  \n",
       "16        M        21.05  \n",
       "23        M        16.27  \n",
       "29        M        14.73  \n",
       "31  unknown        14.63  \n",
       "33  unknown        14.60  "
      ]
     },
     "metadata": {},
     "output_type": "display_data"
    },
    {
     "data": {
      "text/plain": [
       "array(['PS3', 'X360', 'PS4', '3DS', 'Wii', 'DS', 'XOne', 'WiiU', 'PC',\n",
       "       'PSV', 'PSP', 'PS2'], dtype=object)"
      ]
     },
     "metadata": {},
     "output_type": "display_data"
    },
    {
     "name": "stdout",
     "output_type": "stream",
     "text": [
      "Data period for the new generation: 2011.0 to 2016.0\n"
     ]
    }
   ],
   "source": [
    "new_gen = df[df['release_year']>=2011]\n",
    "display(new_gen.head())\n",
    "new_gen_plat = new_gen['platform'].unique()\n",
    "display(new_gen_plat)\n",
    "print(f\"Data period for the new generation: {new_gen['release_year'].min()} to {new_gen['release_year'].max()}\")\n"
   ]
  },
  {
   "cell_type": "code",
   "execution_count": 27,
   "metadata": {},
   "outputs": [
    {
     "data": {
      "text/html": [
       "<div>\n",
       "<style scoped>\n",
       "    .dataframe tbody tr th:only-of-type {\n",
       "        vertical-align: middle;\n",
       "    }\n",
       "\n",
       "    .dataframe tbody tr th {\n",
       "        vertical-align: top;\n",
       "    }\n",
       "\n",
       "    .dataframe thead th {\n",
       "        text-align: right;\n",
       "    }\n",
       "</style>\n",
       "<table border=\"1\" class=\"dataframe\">\n",
       "  <thead>\n",
       "    <tr style=\"text-align: right;\">\n",
       "      <th></th>\n",
       "      <th>release_year</th>\n",
       "      <th>total_sales</th>\n",
       "    </tr>\n",
       "  </thead>\n",
       "  <tbody>\n",
       "    <tr>\n",
       "      <th>0</th>\n",
       "      <td>2011.0</td>\n",
       "      <td>507.58</td>\n",
       "    </tr>\n",
       "    <tr>\n",
       "      <th>1</th>\n",
       "      <td>2012.0</td>\n",
       "      <td>355.84</td>\n",
       "    </tr>\n",
       "    <tr>\n",
       "      <th>2</th>\n",
       "      <td>2013.0</td>\n",
       "      <td>361.24</td>\n",
       "    </tr>\n",
       "    <tr>\n",
       "      <th>3</th>\n",
       "      <td>2014.0</td>\n",
       "      <td>331.53</td>\n",
       "    </tr>\n",
       "    <tr>\n",
       "      <th>4</th>\n",
       "      <td>2015.0</td>\n",
       "      <td>267.98</td>\n",
       "    </tr>\n",
       "    <tr>\n",
       "      <th>5</th>\n",
       "      <td>2016.0</td>\n",
       "      <td>129.94</td>\n",
       "    </tr>\n",
       "  </tbody>\n",
       "</table>\n",
       "</div>"
      ],
      "text/plain": [
       "   release_year  total_sales\n",
       "0        2011.0       507.58\n",
       "1        2012.0       355.84\n",
       "2        2013.0       361.24\n",
       "3        2014.0       331.53\n",
       "4        2015.0       267.98\n",
       "5        2016.0       129.94"
      ]
     },
     "metadata": {},
     "output_type": "display_data"
    }
   ],
   "source": [
    "#getting a broad view of how sales for these 6 years have been\n",
    "trend1 = df[(df['release_year']>=2011) & (df['release_year']<=2016)]\n",
    "display(trend1.groupby('release_year')['total_sales'].sum().reset_index())"
   ]
  },
  {
   "cell_type": "code",
   "execution_count": 28,
   "metadata": {
    "scrolled": true
   },
   "outputs": [
    {
     "data": {
      "text/html": [
       "<div>\n",
       "<style scoped>\n",
       "    .dataframe tbody tr th:only-of-type {\n",
       "        vertical-align: middle;\n",
       "    }\n",
       "\n",
       "    .dataframe tbody tr th {\n",
       "        vertical-align: top;\n",
       "    }\n",
       "\n",
       "    .dataframe thead th {\n",
       "        text-align: right;\n",
       "    }\n",
       "</style>\n",
       "<table border=\"1\" class=\"dataframe\">\n",
       "  <thead>\n",
       "    <tr style=\"text-align: right;\">\n",
       "      <th></th>\n",
       "      <th>platform</th>\n",
       "      <th>total_sales</th>\n",
       "    </tr>\n",
       "  </thead>\n",
       "  <tbody>\n",
       "    <tr>\n",
       "      <th>4</th>\n",
       "      <td>PS3</td>\n",
       "      <td>445.57</td>\n",
       "    </tr>\n",
       "    <tr>\n",
       "      <th>10</th>\n",
       "      <td>X360</td>\n",
       "      <td>380.38</td>\n",
       "    </tr>\n",
       "    <tr>\n",
       "      <th>5</th>\n",
       "      <td>PS4</td>\n",
       "      <td>314.14</td>\n",
       "    </tr>\n",
       "    <tr>\n",
       "      <th>0</th>\n",
       "      <td>3DS</td>\n",
       "      <td>257.81</td>\n",
       "    </tr>\n",
       "    <tr>\n",
       "      <th>11</th>\n",
       "      <td>XOne</td>\n",
       "      <td>159.32</td>\n",
       "    </tr>\n",
       "    <tr>\n",
       "      <th>2</th>\n",
       "      <td>PC</td>\n",
       "      <td>97.68</td>\n",
       "    </tr>\n",
       "    <tr>\n",
       "      <th>8</th>\n",
       "      <td>Wii</td>\n",
       "      <td>95.02</td>\n",
       "    </tr>\n",
       "    <tr>\n",
       "      <th>9</th>\n",
       "      <td>WiiU</td>\n",
       "      <td>82.19</td>\n",
       "    </tr>\n",
       "    <tr>\n",
       "      <th>7</th>\n",
       "      <td>PSV</td>\n",
       "      <td>53.81</td>\n",
       "    </tr>\n",
       "    <tr>\n",
       "      <th>1</th>\n",
       "      <td>DS</td>\n",
       "      <td>38.73</td>\n",
       "    </tr>\n",
       "    <tr>\n",
       "      <th>6</th>\n",
       "      <td>PSP</td>\n",
       "      <td>29.01</td>\n",
       "    </tr>\n",
       "    <tr>\n",
       "      <th>3</th>\n",
       "      <td>PS2</td>\n",
       "      <td>0.45</td>\n",
       "    </tr>\n",
       "  </tbody>\n",
       "</table>\n",
       "</div>"
      ],
      "text/plain": [
       "   platform  total_sales\n",
       "4       PS3       445.57\n",
       "10     X360       380.38\n",
       "5       PS4       314.14\n",
       "0       3DS       257.81\n",
       "11     XOne       159.32\n",
       "2        PC        97.68\n",
       "8       Wii        95.02\n",
       "9      WiiU        82.19\n",
       "7       PSV        53.81\n",
       "1        DS        38.73\n",
       "6       PSP        29.01\n",
       "3       PS2         0.45"
      ]
     },
     "metadata": {},
     "output_type": "display_data"
    }
   ],
   "source": [
    "#I'm going to show how each of the platforms have performed in the last 6 years.\n",
    "new_plat_perf = (new_gen.groupby(['platform'])['total_sales'].sum()).reset_index()\n",
    "new_plat_perf = new_plat_perf.sort_values(by='total_sales', ascending=False)\n",
    "#I only want to see data for platforms that have sales in the last 6 years\n",
    "new_plat_perf = new_plat_perf.replace(0,np.nan)\n",
    "new_plat_perf = new_plat_perf.dropna()\n",
    "display(new_plat_perf)"
   ]
  },
  {
   "cell_type": "markdown",
   "metadata": {},
   "source": [
    "From this analysis I can see that the PS3 has the highest sales in the last 6 years. However, I'm curious to know if the leading platforms are all growing. I know that the xbox 360 and PS3 are part of the previous generation and the new generation platforms are also in the top 5. "
   ]
  },
  {
   "cell_type": "code",
   "execution_count": 29,
   "metadata": {
    "scrolled": true
   },
   "outputs": [
    {
     "name": "stdout",
     "output_type": "stream",
     "text": [
      "['PS3', 'X360', 'PS4', '3DS', 'XOne']\n"
     ]
    }
   ],
   "source": [
    "top_5_plat = new_plat_perf.head(5)['platform'].tolist()\n",
    "print(top_5_plat)"
   ]
  },
  {
   "cell_type": "code",
   "execution_count": 30,
   "metadata": {},
   "outputs": [],
   "source": [
    "plat_sales_yearly = new_gen.groupby(['platform', 'release_year'])['total_sales'].sum().reset_index()\n",
    "plat_sales_yearly = plat_sales_yearly.replace(0, np.nan)\n",
    "plat_sales_yearly = plat_sales_yearly.dropna()\n",
    "#display(plat_sales_yearly)"
   ]
  },
  {
   "cell_type": "code",
   "execution_count": 31,
   "metadata": {
    "scrolled": true
   },
   "outputs": [
    {
     "name": "stdout",
     "output_type": "stream",
     "text": [
      "\n",
      "Trend for PS3:\n"
     ]
    },
    {
     "name": "stderr",
     "output_type": "stream",
     "text": [
      "C:\\Users\\markl\\AppData\\Local\\Temp\\ipykernel_25956\\1580062258.py:8: SettingWithCopyWarning: \n",
      "A value is trying to be set on a copy of a slice from a DataFrame.\n",
      "Try using .loc[row_indexer,col_indexer] = value instead\n",
      "\n",
      "See the caveats in the documentation: https://pandas.pydata.org/pandas-docs/stable/user_guide/indexing.html#returning-a-view-versus-a-copy\n",
      "  platform_data['yearly_change_%'] = platform_data['total_sales'].pct_change() * 100\n",
      "C:\\Users\\markl\\AppData\\Local\\Temp\\ipykernel_25956\\1580062258.py:8: SettingWithCopyWarning: \n",
      "A value is trying to be set on a copy of a slice from a DataFrame.\n",
      "Try using .loc[row_indexer,col_indexer] = value instead\n",
      "\n",
      "See the caveats in the documentation: https://pandas.pydata.org/pandas-docs/stable/user_guide/indexing.html#returning-a-view-versus-a-copy\n",
      "  platform_data['yearly_change_%'] = platform_data['total_sales'].pct_change() * 100\n",
      "C:\\Users\\markl\\AppData\\Local\\Temp\\ipykernel_25956\\1580062258.py:8: SettingWithCopyWarning: \n",
      "A value is trying to be set on a copy of a slice from a DataFrame.\n",
      "Try using .loc[row_indexer,col_indexer] = value instead\n",
      "\n",
      "See the caveats in the documentation: https://pandas.pydata.org/pandas-docs/stable/user_guide/indexing.html#returning-a-view-versus-a-copy\n",
      "  platform_data['yearly_change_%'] = platform_data['total_sales'].pct_change() * 100\n",
      "C:\\Users\\markl\\AppData\\Local\\Temp\\ipykernel_25956\\1580062258.py:8: SettingWithCopyWarning: \n",
      "A value is trying to be set on a copy of a slice from a DataFrame.\n",
      "Try using .loc[row_indexer,col_indexer] = value instead\n",
      "\n",
      "See the caveats in the documentation: https://pandas.pydata.org/pandas-docs/stable/user_guide/indexing.html#returning-a-view-versus-a-copy\n",
      "  platform_data['yearly_change_%'] = platform_data['total_sales'].pct_change() * 100\n",
      "C:\\Users\\markl\\AppData\\Local\\Temp\\ipykernel_25956\\1580062258.py:8: SettingWithCopyWarning: \n",
      "A value is trying to be set on a copy of a slice from a DataFrame.\n",
      "Try using .loc[row_indexer,col_indexer] = value instead\n",
      "\n",
      "See the caveats in the documentation: https://pandas.pydata.org/pandas-docs/stable/user_guide/indexing.html#returning-a-view-versus-a-copy\n",
      "  platform_data['yearly_change_%'] = platform_data['total_sales'].pct_change() * 100\n"
     ]
    },
    {
     "data": {
      "text/html": [
       "<div>\n",
       "<style scoped>\n",
       "    .dataframe tbody tr th:only-of-type {\n",
       "        vertical-align: middle;\n",
       "    }\n",
       "\n",
       "    .dataframe tbody tr th {\n",
       "        vertical-align: top;\n",
       "    }\n",
       "\n",
       "    .dataframe thead th {\n",
       "        text-align: right;\n",
       "    }\n",
       "</style>\n",
       "<table border=\"1\" class=\"dataframe\">\n",
       "  <thead>\n",
       "    <tr style=\"text-align: right;\">\n",
       "      <th></th>\n",
       "      <th>platform</th>\n",
       "      <th>total_sales</th>\n",
       "      <th>yearly_change_%</th>\n",
       "    </tr>\n",
       "    <tr>\n",
       "      <th>release_year</th>\n",
       "      <th></th>\n",
       "      <th></th>\n",
       "      <th></th>\n",
       "    </tr>\n",
       "  </thead>\n",
       "  <tbody>\n",
       "    <tr>\n",
       "      <th>2011.0</th>\n",
       "      <td>PS3</td>\n",
       "      <td>156.78</td>\n",
       "      <td>NaN</td>\n",
       "    </tr>\n",
       "    <tr>\n",
       "      <th>2012.0</th>\n",
       "      <td>PS3</td>\n",
       "      <td>107.36</td>\n",
       "      <td>-31.521878</td>\n",
       "    </tr>\n",
       "    <tr>\n",
       "      <th>2013.0</th>\n",
       "      <td>PS3</td>\n",
       "      <td>113.25</td>\n",
       "      <td>5.486215</td>\n",
       "    </tr>\n",
       "    <tr>\n",
       "      <th>2014.0</th>\n",
       "      <td>PS3</td>\n",
       "      <td>47.76</td>\n",
       "      <td>-57.827815</td>\n",
       "    </tr>\n",
       "    <tr>\n",
       "      <th>2015.0</th>\n",
       "      <td>PS3</td>\n",
       "      <td>16.82</td>\n",
       "      <td>-64.782245</td>\n",
       "    </tr>\n",
       "    <tr>\n",
       "      <th>2016.0</th>\n",
       "      <td>PS3</td>\n",
       "      <td>3.60</td>\n",
       "      <td>-78.596908</td>\n",
       "    </tr>\n",
       "  </tbody>\n",
       "</table>\n",
       "</div>"
      ],
      "text/plain": [
       "             platform  total_sales  yearly_change_%\n",
       "release_year                                       \n",
       "2011.0            PS3       156.78              NaN\n",
       "2012.0            PS3       107.36       -31.521878\n",
       "2013.0            PS3       113.25         5.486215\n",
       "2014.0            PS3        47.76       -57.827815\n",
       "2015.0            PS3        16.82       -64.782245\n",
       "2016.0            PS3         3.60       -78.596908"
      ]
     },
     "metadata": {},
     "output_type": "display_data"
    },
    {
     "name": "stdout",
     "output_type": "stream",
     "text": [
      "\n",
      "Trend for X360:\n"
     ]
    },
    {
     "data": {
      "text/html": [
       "<div>\n",
       "<style scoped>\n",
       "    .dataframe tbody tr th:only-of-type {\n",
       "        vertical-align: middle;\n",
       "    }\n",
       "\n",
       "    .dataframe tbody tr th {\n",
       "        vertical-align: top;\n",
       "    }\n",
       "\n",
       "    .dataframe thead th {\n",
       "        text-align: right;\n",
       "    }\n",
       "</style>\n",
       "<table border=\"1\" class=\"dataframe\">\n",
       "  <thead>\n",
       "    <tr style=\"text-align: right;\">\n",
       "      <th></th>\n",
       "      <th>platform</th>\n",
       "      <th>total_sales</th>\n",
       "      <th>yearly_change_%</th>\n",
       "    </tr>\n",
       "    <tr>\n",
       "      <th>release_year</th>\n",
       "      <th></th>\n",
       "      <th></th>\n",
       "      <th></th>\n",
       "    </tr>\n",
       "  </thead>\n",
       "  <tbody>\n",
       "    <tr>\n",
       "      <th>2011.0</th>\n",
       "      <td>X360</td>\n",
       "      <td>143.84</td>\n",
       "      <td>NaN</td>\n",
       "    </tr>\n",
       "    <tr>\n",
       "      <th>2012.0</th>\n",
       "      <td>X360</td>\n",
       "      <td>99.74</td>\n",
       "      <td>-30.659066</td>\n",
       "    </tr>\n",
       "    <tr>\n",
       "      <th>2013.0</th>\n",
       "      <td>X360</td>\n",
       "      <td>88.58</td>\n",
       "      <td>-11.189092</td>\n",
       "    </tr>\n",
       "    <tr>\n",
       "      <th>2014.0</th>\n",
       "      <td>X360</td>\n",
       "      <td>34.74</td>\n",
       "      <td>-60.781215</td>\n",
       "    </tr>\n",
       "    <tr>\n",
       "      <th>2015.0</th>\n",
       "      <td>X360</td>\n",
       "      <td>11.96</td>\n",
       "      <td>-65.572827</td>\n",
       "    </tr>\n",
       "    <tr>\n",
       "      <th>2016.0</th>\n",
       "      <td>X360</td>\n",
       "      <td>1.52</td>\n",
       "      <td>-87.290970</td>\n",
       "    </tr>\n",
       "  </tbody>\n",
       "</table>\n",
       "</div>"
      ],
      "text/plain": [
       "             platform  total_sales  yearly_change_%\n",
       "release_year                                       \n",
       "2011.0           X360       143.84              NaN\n",
       "2012.0           X360        99.74       -30.659066\n",
       "2013.0           X360        88.58       -11.189092\n",
       "2014.0           X360        34.74       -60.781215\n",
       "2015.0           X360        11.96       -65.572827\n",
       "2016.0           X360         1.52       -87.290970"
      ]
     },
     "metadata": {},
     "output_type": "display_data"
    },
    {
     "name": "stdout",
     "output_type": "stream",
     "text": [
      "\n",
      "Trend for PS4:\n"
     ]
    },
    {
     "data": {
      "text/html": [
       "<div>\n",
       "<style scoped>\n",
       "    .dataframe tbody tr th:only-of-type {\n",
       "        vertical-align: middle;\n",
       "    }\n",
       "\n",
       "    .dataframe tbody tr th {\n",
       "        vertical-align: top;\n",
       "    }\n",
       "\n",
       "    .dataframe thead th {\n",
       "        text-align: right;\n",
       "    }\n",
       "</style>\n",
       "<table border=\"1\" class=\"dataframe\">\n",
       "  <thead>\n",
       "    <tr style=\"text-align: right;\">\n",
       "      <th></th>\n",
       "      <th>platform</th>\n",
       "      <th>total_sales</th>\n",
       "      <th>yearly_change_%</th>\n",
       "    </tr>\n",
       "    <tr>\n",
       "      <th>release_year</th>\n",
       "      <th></th>\n",
       "      <th></th>\n",
       "      <th></th>\n",
       "    </tr>\n",
       "  </thead>\n",
       "  <tbody>\n",
       "    <tr>\n",
       "      <th>2013.0</th>\n",
       "      <td>PS4</td>\n",
       "      <td>25.99</td>\n",
       "      <td>NaN</td>\n",
       "    </tr>\n",
       "    <tr>\n",
       "      <th>2014.0</th>\n",
       "      <td>PS4</td>\n",
       "      <td>100.00</td>\n",
       "      <td>284.763371</td>\n",
       "    </tr>\n",
       "    <tr>\n",
       "      <th>2015.0</th>\n",
       "      <td>PS4</td>\n",
       "      <td>118.90</td>\n",
       "      <td>18.900000</td>\n",
       "    </tr>\n",
       "    <tr>\n",
       "      <th>2016.0</th>\n",
       "      <td>PS4</td>\n",
       "      <td>69.25</td>\n",
       "      <td>-41.757780</td>\n",
       "    </tr>\n",
       "  </tbody>\n",
       "</table>\n",
       "</div>"
      ],
      "text/plain": [
       "             platform  total_sales  yearly_change_%\n",
       "release_year                                       \n",
       "2013.0            PS4        25.99              NaN\n",
       "2014.0            PS4       100.00       284.763371\n",
       "2015.0            PS4       118.90        18.900000\n",
       "2016.0            PS4        69.25       -41.757780"
      ]
     },
     "metadata": {},
     "output_type": "display_data"
    },
    {
     "name": "stdout",
     "output_type": "stream",
     "text": [
      "\n",
      "Trend for 3DS:\n"
     ]
    },
    {
     "data": {
      "text/html": [
       "<div>\n",
       "<style scoped>\n",
       "    .dataframe tbody tr th:only-of-type {\n",
       "        vertical-align: middle;\n",
       "    }\n",
       "\n",
       "    .dataframe tbody tr th {\n",
       "        vertical-align: top;\n",
       "    }\n",
       "\n",
       "    .dataframe thead th {\n",
       "        text-align: right;\n",
       "    }\n",
       "</style>\n",
       "<table border=\"1\" class=\"dataframe\">\n",
       "  <thead>\n",
       "    <tr style=\"text-align: right;\">\n",
       "      <th></th>\n",
       "      <th>platform</th>\n",
       "      <th>total_sales</th>\n",
       "      <th>yearly_change_%</th>\n",
       "    </tr>\n",
       "    <tr>\n",
       "      <th>release_year</th>\n",
       "      <th></th>\n",
       "      <th></th>\n",
       "      <th></th>\n",
       "    </tr>\n",
       "  </thead>\n",
       "  <tbody>\n",
       "    <tr>\n",
       "      <th>2011.0</th>\n",
       "      <td>3DS</td>\n",
       "      <td>63.20</td>\n",
       "      <td>NaN</td>\n",
       "    </tr>\n",
       "    <tr>\n",
       "      <th>2012.0</th>\n",
       "      <td>3DS</td>\n",
       "      <td>51.36</td>\n",
       "      <td>-18.734177</td>\n",
       "    </tr>\n",
       "    <tr>\n",
       "      <th>2013.0</th>\n",
       "      <td>3DS</td>\n",
       "      <td>56.57</td>\n",
       "      <td>10.144081</td>\n",
       "    </tr>\n",
       "    <tr>\n",
       "      <th>2014.0</th>\n",
       "      <td>3DS</td>\n",
       "      <td>43.76</td>\n",
       "      <td>-22.644511</td>\n",
       "    </tr>\n",
       "    <tr>\n",
       "      <th>2015.0</th>\n",
       "      <td>3DS</td>\n",
       "      <td>27.78</td>\n",
       "      <td>-36.517367</td>\n",
       "    </tr>\n",
       "    <tr>\n",
       "      <th>2016.0</th>\n",
       "      <td>3DS</td>\n",
       "      <td>15.14</td>\n",
       "      <td>-45.500360</td>\n",
       "    </tr>\n",
       "  </tbody>\n",
       "</table>\n",
       "</div>"
      ],
      "text/plain": [
       "             platform  total_sales  yearly_change_%\n",
       "release_year                                       \n",
       "2011.0            3DS        63.20              NaN\n",
       "2012.0            3DS        51.36       -18.734177\n",
       "2013.0            3DS        56.57        10.144081\n",
       "2014.0            3DS        43.76       -22.644511\n",
       "2015.0            3DS        27.78       -36.517367\n",
       "2016.0            3DS        15.14       -45.500360"
      ]
     },
     "metadata": {},
     "output_type": "display_data"
    },
    {
     "name": "stdout",
     "output_type": "stream",
     "text": [
      "\n",
      "Trend for XOne:\n"
     ]
    },
    {
     "data": {
      "text/html": [
       "<div>\n",
       "<style scoped>\n",
       "    .dataframe tbody tr th:only-of-type {\n",
       "        vertical-align: middle;\n",
       "    }\n",
       "\n",
       "    .dataframe tbody tr th {\n",
       "        vertical-align: top;\n",
       "    }\n",
       "\n",
       "    .dataframe thead th {\n",
       "        text-align: right;\n",
       "    }\n",
       "</style>\n",
       "<table border=\"1\" class=\"dataframe\">\n",
       "  <thead>\n",
       "    <tr style=\"text-align: right;\">\n",
       "      <th></th>\n",
       "      <th>platform</th>\n",
       "      <th>total_sales</th>\n",
       "      <th>yearly_change_%</th>\n",
       "    </tr>\n",
       "    <tr>\n",
       "      <th>release_year</th>\n",
       "      <th></th>\n",
       "      <th></th>\n",
       "      <th></th>\n",
       "    </tr>\n",
       "  </thead>\n",
       "  <tbody>\n",
       "    <tr>\n",
       "      <th>2013.0</th>\n",
       "      <td>XOne</td>\n",
       "      <td>18.96</td>\n",
       "      <td>NaN</td>\n",
       "    </tr>\n",
       "    <tr>\n",
       "      <th>2014.0</th>\n",
       "      <td>XOne</td>\n",
       "      <td>54.07</td>\n",
       "      <td>185.179325</td>\n",
       "    </tr>\n",
       "    <tr>\n",
       "      <th>2015.0</th>\n",
       "      <td>XOne</td>\n",
       "      <td>60.14</td>\n",
       "      <td>11.226188</td>\n",
       "    </tr>\n",
       "    <tr>\n",
       "      <th>2016.0</th>\n",
       "      <td>XOne</td>\n",
       "      <td>26.15</td>\n",
       "      <td>-56.518124</td>\n",
       "    </tr>\n",
       "  </tbody>\n",
       "</table>\n",
       "</div>"
      ],
      "text/plain": [
       "             platform  total_sales  yearly_change_%\n",
       "release_year                                       \n",
       "2013.0           XOne        18.96              NaN\n",
       "2014.0           XOne        54.07       185.179325\n",
       "2015.0           XOne        60.14        11.226188\n",
       "2016.0           XOne        26.15       -56.518124"
      ]
     },
     "metadata": {},
     "output_type": "display_data"
    }
   ],
   "source": [
    "platform_trends = {}\n",
    "\n",
    "for platform in top_5_plat:\n",
    "    platform_data = plat_sales_yearly[plat_sales_yearly['platform'] == platform]\n",
    "    platform_data.set_index('release_year', inplace=True)\n",
    "    \n",
    "    # Calculate year-over-year percentage change\n",
    "    platform_data['yearly_change_%'] = platform_data['total_sales'].pct_change() * 100\n",
    "    \n",
    "    # Store the trend data\n",
    "    platform_trends[platform] = platform_data\n",
    "    \n",
    "# Display trends\n",
    "for platform, data in platform_trends.items():\n",
    "    print(f\"\\nTrend for {platform}:\")\n",
    "    display(data)"
   ]
  },
  {
   "cell_type": "markdown",
   "metadata": {},
   "source": [
    "All of the top 5 platforms had a down 2016 in sales. The xbox 360, ps3, and 3DS all had downward trends for the whole 6 year period. The xbox1 and the ps4 seemed to be in a growth pattern."
   ]
  },
  {
   "cell_type": "code",
   "execution_count": 32,
   "metadata": {},
   "outputs": [
    {
     "name": "stdout",
     "output_type": "stream",
     "text": [
      "Currently profitable platforms: ['PS4', 'XOne']\n"
     ]
    }
   ],
   "source": [
    "growing_platforms = [platform for platform, data in platform_trends.items() if data['yearly_change_%'].mean() > 0]\n",
    "\n",
    "print(f\"Currently profitable platforms: {growing_platforms}\")"
   ]
  },
  {
   "cell_type": "code",
   "execution_count": 33,
   "metadata": {},
   "outputs": [
    {
     "data": {
      "image/png": "[encoded data removed]",
      "text/plain": [
       "<Figure size 1400x800 with 1 Axes>"
      ]
     },
     "metadata": {},
     "output_type": "display_data"
    }
   ],
   "source": [
    "#Make a box plot that shows the global sales of all games broken down by platform\n",
    "plt.figure(figsize=(14, 8))\n",
    "sns.boxplot(x='platform', y='total_sales', data=plat_sales_yearly)\n",
    "plt.title('Global Sales by Platform (2010-2016)')\n",
    "plt.xlabel('Platform')\n",
    "plt.ylabel('Total Sales (in millions)')\n",
    "plt.xticks(rotation=90)\n",
    "plt.show()"
   ]
  },
  {
   "cell_type": "markdown",
   "metadata": {},
   "source": [
    "Looking at this boxplot it appears that the volume of sales for both Microsoft and Sony Platforms have been significantly higher than anything from Nintendo or PC. The launch of the PS4 has had significantly more revenue than that of its competitor, the Xbox One. However, given that the Median lines for both of these platforms are below the the middle of the box, it would suggest that both are showing and underperforming trend."
   ]
  },
  {
   "cell_type": "code",
   "execution_count": 34,
   "metadata": {},
   "outputs": [],
   "source": [
    "#I'm curious to see what is going on with the Xbox One because it appears to be underperforming.\n",
    "#First make a new Dataframe with just the Xbox  One Data\n",
    "x1 = new_gen[new_gen['platform'] == 'XOne']"
   ]
  },
  {
   "cell_type": "code",
   "execution_count": 35,
   "metadata": {},
   "outputs": [
    {
     "data": {
      "image/png": "[encoded data removed]",
      "text/plain": [
       "<Figure size 1200x600 with 1 Axes>"
      ]
     },
     "metadata": {},
     "output_type": "display_data"
    },
    {
     "data": {
      "image/png": "[encoded data removed]",
      "text/plain": [
       "<Figure size 1200x600 with 1 Axes>"
      ]
     },
     "metadata": {},
     "output_type": "display_data"
    }
   ],
   "source": [
    "#First plt is user score vs. total sales\n",
    "plt.figure(figsize=(12, 6))\n",
    "sns.scatterplot(x='user_score', y='total_sales', data=x1)\n",
    "plt.title(f'User Reviews vs. Sales for Xbox One')\n",
    "plt.xlabel('User Score')\n",
    "plt.ylabel('Total Sales (in millions)')\n",
    "plt.show()\n",
    "#Second plt is critic score vs. total sales\n",
    "plt.figure(figsize=(12, 6))\n",
    "sns.scatterplot(x='critic_score', y='total_sales', data=x1)\n",
    "plt.title(f'User Reviews vs. Sales for Xbox One')\n",
    "plt.xlabel('User Score')\n",
    "plt.ylabel('Total Sales (in millions)')\n",
    "plt.show()"
   ]
  },
  {
   "cell_type": "code",
   "execution_count": 36,
   "metadata": {
    "scrolled": true
   },
   "outputs": [
    {
     "name": "stdout",
     "output_type": "stream",
     "text": [
      "The correlation coeffecient for user score to total sales is: -0.069.\n",
      "The correlation coeffecient for the critic score to total sales is: 0.417.\n"
     ]
    }
   ],
   "source": [
    "#calculating correlation for user score\n",
    "user_score_corr = x1[['user_score', 'total_sales']].corr().iloc[0, 1]\n",
    "print(f'The correlation coeffecient for user score to total sales is: {user_score_corr:.3f}.')\n",
    "#calculating correlation for critic score\n",
    "crit_score_corr = x1[['critic_score', 'total_sales']].corr().iloc[0, 1]\n",
    "print(f'The correlation coeffecient for the critic score to total sales is: {crit_score_corr:.3f}.')"
   ]
  },
  {
   "cell_type": "markdown",
   "metadata": {},
   "source": [
    "There doesn't seem to be a significant correlation between user score and total sales. There is a weak correllation between the critic score and sales. So it's possible that there is some connection there worth further investigation."
   ]
  },
  {
   "cell_type": "markdown",
   "metadata": {},
   "source": [
    "Now I'm going to begin looking into how games sell depending on the platforms they're released on."
   ]
  },
  {
   "cell_type": "code",
   "execution_count": 37,
   "metadata": {},
   "outputs": [
    {
     "data": {
      "text/html": [
       "<div>\n",
       "<style scoped>\n",
       "    .dataframe tbody tr th:only-of-type {\n",
       "        vertical-align: middle;\n",
       "    }\n",
       "\n",
       "    .dataframe tbody tr th {\n",
       "        vertical-align: top;\n",
       "    }\n",
       "\n",
       "    .dataframe thead th {\n",
       "        text-align: right;\n",
       "    }\n",
       "</style>\n",
       "<table border=\"1\" class=\"dataframe\">\n",
       "  <thead>\n",
       "    <tr style=\"text-align: right;\">\n",
       "      <th></th>\n",
       "      <th>name</th>\n",
       "      <th>platform</th>\n",
       "      <th>total_sales</th>\n",
       "    </tr>\n",
       "  </thead>\n",
       "  <tbody>\n",
       "    <tr>\n",
       "      <th>0</th>\n",
       "      <td>7 Days to Die</td>\n",
       "      <td>PS4</td>\n",
       "      <td>0.14</td>\n",
       "    </tr>\n",
       "    <tr>\n",
       "      <th>1</th>\n",
       "      <td>7 Days to Die</td>\n",
       "      <td>XOne</td>\n",
       "      <td>0.05</td>\n",
       "    </tr>\n",
       "    <tr>\n",
       "      <th>2</th>\n",
       "      <td>Adventure Time: Finn &amp; Jake Investigations</td>\n",
       "      <td>3DS</td>\n",
       "      <td>0.09</td>\n",
       "    </tr>\n",
       "    <tr>\n",
       "      <th>3</th>\n",
       "      <td>Adventure Time: Finn &amp; Jake Investigations</td>\n",
       "      <td>PS3</td>\n",
       "      <td>0.08</td>\n",
       "    </tr>\n",
       "    <tr>\n",
       "      <th>4</th>\n",
       "      <td>Adventure Time: Finn &amp; Jake Investigations</td>\n",
       "      <td>PS4</td>\n",
       "      <td>0.10</td>\n",
       "    </tr>\n",
       "  </tbody>\n",
       "</table>\n",
       "</div>"
      ],
      "text/plain": [
       "                                         name platform  total_sales\n",
       "0                               7 Days to Die      PS4         0.14\n",
       "1                               7 Days to Die     XOne         0.05\n",
       "2  Adventure Time: Finn & Jake Investigations      3DS         0.09\n",
       "3  Adventure Time: Finn & Jake Investigations      PS3         0.08\n",
       "4  Adventure Time: Finn & Jake Investigations      PS4         0.10"
      ]
     },
     "metadata": {},
     "output_type": "display_data"
    }
   ],
   "source": [
    "#First I'm going to make a variable that has just the titles for all the XOne games\n",
    "x1_titles = x1['name'].unique()\n",
    "#display(x1_titles)\n",
    "title_comparisons = new_gen[new_gen['name'].isin(x1_titles)]\n",
    "#display(title_comparisons.head())\n",
    "#make a new dataframe that shows the Game Title, Which platform it is on, and what it's total sales are\n",
    "compare_sales = title_comparisons.groupby(['name', 'platform'])['total_sales'].sum().reset_index()\n",
    "compare_sales = compare_sales.replace(0, np.nan)\n",
    "compare_sales = compare_sales.dropna()\n",
    "display(compare_sales.head())"
   ]
  },
  {
   "cell_type": "code",
   "execution_count": 38,
   "metadata": {},
   "outputs": [
    {
     "data": {
      "image/png": "[encoded data removed]",
      "text/plain": [
       "<Figure size 1400x1000 with 1 Axes>"
      ]
     },
     "metadata": {},
     "output_type": "display_data"
    }
   ],
   "source": [
    "#I'm going to take a look at a sample set of 10 games since the data set is too large to do all the games\n",
    "sample_data = compare_sales['name'].unique()[:10]\n",
    "vis_data = compare_sales[compare_sales['name'].isin(sample_data)]\n",
    "\n",
    "# Plotting\n",
    "plt.figure(figsize=(14, 10))\n",
    "sns.barplot(x='name', y='total_sales', hue='platform', data=vis_data)\n",
    "plt.title('Comparison of Sales for Same Titles Across Different Platforms')\n",
    "plt.xticks(rotation=90)\n",
    "plt.xlabel('Total Sales (in millions)')\n",
    "plt.ylabel('Title')\n",
    "plt.legend(title='Platform')\n",
    "plt.show()"
   ]
  },
  {
   "cell_type": "markdown",
   "metadata": {},
   "source": [
    "Now I'm going to begin looking at the different genres of games to get a feel for consumer trends in what kinds of games are getting purchased. "
   ]
  },
  {
   "cell_type": "code",
   "execution_count": 39,
   "metadata": {},
   "outputs": [
    {
     "data": {
      "text/html": [
       "<div>\n",
       "<style scoped>\n",
       "    .dataframe tbody tr th:only-of-type {\n",
       "        vertical-align: middle;\n",
       "    }\n",
       "\n",
       "    .dataframe tbody tr th {\n",
       "        vertical-align: top;\n",
       "    }\n",
       "\n",
       "    .dataframe thead th {\n",
       "        text-align: right;\n",
       "    }\n",
       "</style>\n",
       "<table border=\"1\" class=\"dataframe\">\n",
       "  <thead>\n",
       "    <tr style=\"text-align: right;\">\n",
       "      <th></th>\n",
       "      <th>genre</th>\n",
       "      <th>total_sales</th>\n",
       "    </tr>\n",
       "  </thead>\n",
       "  <tbody>\n",
       "    <tr>\n",
       "      <th>0</th>\n",
       "      <td>Action</td>\n",
       "      <td>557.80</td>\n",
       "    </tr>\n",
       "    <tr>\n",
       "      <th>8</th>\n",
       "      <td>Shooter</td>\n",
       "      <td>402.91</td>\n",
       "    </tr>\n",
       "    <tr>\n",
       "      <th>7</th>\n",
       "      <td>Role-Playing</td>\n",
       "      <td>245.63</td>\n",
       "    </tr>\n",
       "    <tr>\n",
       "      <th>10</th>\n",
       "      <td>Sports</td>\n",
       "      <td>237.15</td>\n",
       "    </tr>\n",
       "    <tr>\n",
       "      <th>3</th>\n",
       "      <td>Misc</td>\n",
       "      <td>139.42</td>\n",
       "    </tr>\n",
       "    <tr>\n",
       "      <th>4</th>\n",
       "      <td>Platform</td>\n",
       "      <td>88.68</td>\n",
       "    </tr>\n",
       "    <tr>\n",
       "      <th>6</th>\n",
       "      <td>Racing</td>\n",
       "      <td>88.31</td>\n",
       "    </tr>\n",
       "    <tr>\n",
       "      <th>2</th>\n",
       "      <td>Fighting</td>\n",
       "      <td>66.90</td>\n",
       "    </tr>\n",
       "    <tr>\n",
       "      <th>9</th>\n",
       "      <td>Simulation</td>\n",
       "      <td>50.26</td>\n",
       "    </tr>\n",
       "    <tr>\n",
       "      <th>1</th>\n",
       "      <td>Adventure</td>\n",
       "      <td>45.04</td>\n",
       "    </tr>\n",
       "    <tr>\n",
       "      <th>11</th>\n",
       "      <td>Strategy</td>\n",
       "      <td>22.16</td>\n",
       "    </tr>\n",
       "    <tr>\n",
       "      <th>5</th>\n",
       "      <td>Puzzle</td>\n",
       "      <td>9.85</td>\n",
       "    </tr>\n",
       "  </tbody>\n",
       "</table>\n",
       "</div>"
      ],
      "text/plain": [
       "           genre  total_sales\n",
       "0         Action       557.80\n",
       "8        Shooter       402.91\n",
       "7   Role-Playing       245.63\n",
       "10        Sports       237.15\n",
       "3           Misc       139.42\n",
       "4       Platform        88.68\n",
       "6         Racing        88.31\n",
       "2       Fighting        66.90\n",
       "9     Simulation        50.26\n",
       "1      Adventure        45.04\n",
       "11      Strategy        22.16\n",
       "5         Puzzle         9.85"
      ]
     },
     "metadata": {},
     "output_type": "display_data"
    }
   ],
   "source": [
    "#use the groupby strategy to find out how much revenue each genre generated\n",
    "genre_comp = new_gen.groupby('genre')['total_sales'].sum().reset_index()\n",
    "genre_comp = genre_comp.sort_values(by='total_sales', ascending=False)\n",
    "display(genre_comp)"
   ]
  },
  {
   "cell_type": "code",
   "execution_count": 40,
   "metadata": {},
   "outputs": [
    {
     "data": {
      "text/html": [
       "<div>\n",
       "<style scoped>\n",
       "    .dataframe tbody tr th:only-of-type {\n",
       "        vertical-align: middle;\n",
       "    }\n",
       "\n",
       "    .dataframe tbody tr th {\n",
       "        vertical-align: top;\n",
       "    }\n",
       "\n",
       "    .dataframe thead th {\n",
       "        text-align: right;\n",
       "    }\n",
       "</style>\n",
       "<table border=\"1\" class=\"dataframe\">\n",
       "  <thead>\n",
       "    <tr style=\"text-align: right;\">\n",
       "      <th></th>\n",
       "      <th>genre</th>\n",
       "      <th>avg_sales</th>\n",
       "    </tr>\n",
       "  </thead>\n",
       "  <tbody>\n",
       "    <tr>\n",
       "      <th>8</th>\n",
       "      <td>Shooter</td>\n",
       "      <td>1.224650</td>\n",
       "    </tr>\n",
       "    <tr>\n",
       "      <th>4</th>\n",
       "      <td>Platform</td>\n",
       "      <td>0.726885</td>\n",
       "    </tr>\n",
       "    <tr>\n",
       "      <th>10</th>\n",
       "      <td>Sports</td>\n",
       "      <td>0.609640</td>\n",
       "    </tr>\n",
       "    <tr>\n",
       "      <th>7</th>\n",
       "      <td>Role-Playing</td>\n",
       "      <td>0.528237</td>\n",
       "    </tr>\n",
       "    <tr>\n",
       "      <th>6</th>\n",
       "      <td>Racing</td>\n",
       "      <td>0.490611</td>\n",
       "    </tr>\n",
       "    <tr>\n",
       "      <th>0</th>\n",
       "      <td>Action</td>\n",
       "      <td>0.439559</td>\n",
       "    </tr>\n",
       "    <tr>\n",
       "      <th>2</th>\n",
       "      <td>Fighting</td>\n",
       "      <td>0.420755</td>\n",
       "    </tr>\n",
       "    <tr>\n",
       "      <th>3</th>\n",
       "      <td>Misc</td>\n",
       "      <td>0.371787</td>\n",
       "    </tr>\n",
       "    <tr>\n",
       "      <th>9</th>\n",
       "      <td>Simulation</td>\n",
       "      <td>0.369559</td>\n",
       "    </tr>\n",
       "    <tr>\n",
       "      <th>11</th>\n",
       "      <td>Strategy</td>\n",
       "      <td>0.189402</td>\n",
       "    </tr>\n",
       "    <tr>\n",
       "      <th>5</th>\n",
       "      <td>Puzzle</td>\n",
       "      <td>0.138732</td>\n",
       "    </tr>\n",
       "    <tr>\n",
       "      <th>1</th>\n",
       "      <td>Adventure</td>\n",
       "      <td>0.109854</td>\n",
       "    </tr>\n",
       "  </tbody>\n",
       "</table>\n",
       "</div>"
      ],
      "text/plain": [
       "           genre  avg_sales\n",
       "8        Shooter   1.224650\n",
       "4       Platform   0.726885\n",
       "10        Sports   0.609640\n",
       "7   Role-Playing   0.528237\n",
       "6         Racing   0.490611\n",
       "0         Action   0.439559\n",
       "2       Fighting   0.420755\n",
       "3           Misc   0.371787\n",
       "9     Simulation   0.369559\n",
       "11      Strategy   0.189402\n",
       "5         Puzzle   0.138732\n",
       "1      Adventure   0.109854"
      ]
     },
     "metadata": {},
     "output_type": "display_data"
    }
   ],
   "source": [
    "#use the groupby strategy to find the average sales for each game within the genre\n",
    "genre_avg = new_gen.groupby('genre')['total_sales'].mean().reset_index()\n",
    "genre_avg = genre_avg.sort_values(by='total_sales', ascending=False)\n",
    "genre_avg.columns = ['genre', 'avg_sales']\n",
    "display(genre_avg)"
   ]
  },
  {
   "cell_type": "code",
   "execution_count": 41,
   "metadata": {
    "scrolled": true
   },
   "outputs": [
    {
     "data": {
      "text/html": [
       "<div>\n",
       "<style scoped>\n",
       "    .dataframe tbody tr th:only-of-type {\n",
       "        vertical-align: middle;\n",
       "    }\n",
       "\n",
       "    .dataframe tbody tr th {\n",
       "        vertical-align: top;\n",
       "    }\n",
       "\n",
       "    .dataframe thead th {\n",
       "        text-align: right;\n",
       "    }\n",
       "</style>\n",
       "<table border=\"1\" class=\"dataframe\">\n",
       "  <thead>\n",
       "    <tr style=\"text-align: right;\">\n",
       "      <th></th>\n",
       "      <th>genre</th>\n",
       "      <th>total_sales</th>\n",
       "      <th>avg_sales</th>\n",
       "    </tr>\n",
       "  </thead>\n",
       "  <tbody>\n",
       "    <tr>\n",
       "      <th>0</th>\n",
       "      <td>Action</td>\n",
       "      <td>557.80</td>\n",
       "      <td>0.439559</td>\n",
       "    </tr>\n",
       "    <tr>\n",
       "      <th>1</th>\n",
       "      <td>Shooter</td>\n",
       "      <td>402.91</td>\n",
       "      <td>1.224650</td>\n",
       "    </tr>\n",
       "    <tr>\n",
       "      <th>2</th>\n",
       "      <td>Role-Playing</td>\n",
       "      <td>245.63</td>\n",
       "      <td>0.528237</td>\n",
       "    </tr>\n",
       "    <tr>\n",
       "      <th>3</th>\n",
       "      <td>Sports</td>\n",
       "      <td>237.15</td>\n",
       "      <td>0.609640</td>\n",
       "    </tr>\n",
       "    <tr>\n",
       "      <th>4</th>\n",
       "      <td>Misc</td>\n",
       "      <td>139.42</td>\n",
       "      <td>0.371787</td>\n",
       "    </tr>\n",
       "    <tr>\n",
       "      <th>5</th>\n",
       "      <td>Platform</td>\n",
       "      <td>88.68</td>\n",
       "      <td>0.726885</td>\n",
       "    </tr>\n",
       "    <tr>\n",
       "      <th>6</th>\n",
       "      <td>Racing</td>\n",
       "      <td>88.31</td>\n",
       "      <td>0.490611</td>\n",
       "    </tr>\n",
       "    <tr>\n",
       "      <th>7</th>\n",
       "      <td>Fighting</td>\n",
       "      <td>66.90</td>\n",
       "      <td>0.420755</td>\n",
       "    </tr>\n",
       "    <tr>\n",
       "      <th>8</th>\n",
       "      <td>Simulation</td>\n",
       "      <td>50.26</td>\n",
       "      <td>0.369559</td>\n",
       "    </tr>\n",
       "    <tr>\n",
       "      <th>9</th>\n",
       "      <td>Adventure</td>\n",
       "      <td>45.04</td>\n",
       "      <td>0.109854</td>\n",
       "    </tr>\n",
       "    <tr>\n",
       "      <th>10</th>\n",
       "      <td>Strategy</td>\n",
       "      <td>22.16</td>\n",
       "      <td>0.189402</td>\n",
       "    </tr>\n",
       "    <tr>\n",
       "      <th>11</th>\n",
       "      <td>Puzzle</td>\n",
       "      <td>9.85</td>\n",
       "      <td>0.138732</td>\n",
       "    </tr>\n",
       "  </tbody>\n",
       "</table>\n",
       "</div>"
      ],
      "text/plain": [
       "           genre  total_sales  avg_sales\n",
       "0         Action       557.80   0.439559\n",
       "1        Shooter       402.91   1.224650\n",
       "2   Role-Playing       245.63   0.528237\n",
       "3         Sports       237.15   0.609640\n",
       "4           Misc       139.42   0.371787\n",
       "5       Platform        88.68   0.726885\n",
       "6         Racing        88.31   0.490611\n",
       "7       Fighting        66.90   0.420755\n",
       "8     Simulation        50.26   0.369559\n",
       "9      Adventure        45.04   0.109854\n",
       "10      Strategy        22.16   0.189402\n",
       "11        Puzzle         9.85   0.138732"
      ]
     },
     "metadata": {},
     "output_type": "display_data"
    }
   ],
   "source": [
    "#merge the two above dataframe\n",
    "genre_sales = genre_comp.merge(genre_avg, on='genre')\n",
    "display(genre_sales)"
   ]
  },
  {
   "cell_type": "code",
   "execution_count": 42,
   "metadata": {
    "scrolled": false
   },
   "outputs": [
    {
     "data": {
      "text/plain": [
       "Text(0, 0.5, 'Total Sales in Millions')"
      ]
     },
     "execution_count": 42,
     "metadata": {},
     "output_type": "execute_result"
    },
    {
     "data": {
      "image/png": "[encoded data removed]",
      "text/plain": [
       "<Figure size 640x480 with 1 Axes>"
      ]
     },
     "metadata": {},
     "output_type": "display_data"
    }
   ],
   "source": [
    "#Make a bar graph showing the sales distribution\n",
    "sns.barplot(x='genre', y='total_sales', data=genre_sales)\n",
    "plt.xticks(rotation=90)\n",
    "plt.title('Total Sales by Genre, 2011-2016')\n",
    "plt.xlabel('Genre')\n",
    "plt.ylabel('Total Sales in Millions')\n"
   ]
  },
  {
   "cell_type": "code",
   "execution_count": 43,
   "metadata": {
    "scrolled": true
   },
   "outputs": [
    {
     "data": {
      "text/plain": [
       "Text(0, 0.5, 'Average Sales in Millions')"
      ]
     },
     "execution_count": 43,
     "metadata": {},
     "output_type": "execute_result"
    },
    {
     "data": {
      "image/png": "[encoded data removed]",
      "text/plain": [
       "<Figure size 640x480 with 1 Axes>"
      ]
     },
     "metadata": {},
     "output_type": "display_data"
    }
   ],
   "source": [
    "#Make a bargraph showing the averages distribution\n",
    "sns.barplot(x='genre', y='avg_sales', data=genre_sales)\n",
    "plt.xticks(rotation=90)\n",
    "plt.title('Average Revenue per Game by Genre, 2011-2016')\n",
    "plt.xlabel('Genre')\n",
    "plt.ylabel('Average Sales in Millions')"
   ]
  },
  {
   "cell_type": "markdown",
   "metadata": {},
   "source": [
    "Genre conclusions: From this initial analysis, it is clear that not all games perform as well as others and there are definite trends toward action, and shooter style games. Since these were based on global sales it could potentially be worth exploring whether or not there is the same distribution based on the different regions."
   ]
  },
  {
   "cell_type": "markdown",
   "metadata": {},
   "source": [
    "**Step 4:** Create a user profile for each region"
   ]
  },
  {
   "cell_type": "markdown",
   "metadata": {},
   "source": [
    "I will create a North America, Europe, and Japan profile to compare sales in each region. I will look at which platforms and genres are most popular in each region based on their sales. Then I will look at the effect of ESRB ratings in each region."
   ]
  },
  {
   "cell_type": "code",
   "execution_count": 44,
   "metadata": {},
   "outputs": [
    {
     "data": {
      "text/html": [
       "<div>\n",
       "<style scoped>\n",
       "    .dataframe tbody tr th:only-of-type {\n",
       "        vertical-align: middle;\n",
       "    }\n",
       "\n",
       "    .dataframe tbody tr th {\n",
       "        vertical-align: top;\n",
       "    }\n",
       "\n",
       "    .dataframe thead th {\n",
       "        text-align: right;\n",
       "    }\n",
       "</style>\n",
       "<table border=\"1\" class=\"dataframe\">\n",
       "  <thead>\n",
       "    <tr style=\"text-align: right;\">\n",
       "      <th></th>\n",
       "      <th>genre</th>\n",
       "      <th>platform</th>\n",
       "      <th>na_sales</th>\n",
       "    </tr>\n",
       "  </thead>\n",
       "  <tbody>\n",
       "    <tr>\n",
       "      <th>0</th>\n",
       "      <td>Action</td>\n",
       "      <td>3DS</td>\n",
       "      <td>19.62</td>\n",
       "    </tr>\n",
       "    <tr>\n",
       "      <th>1</th>\n",
       "      <td>Action</td>\n",
       "      <td>DS</td>\n",
       "      <td>4.53</td>\n",
       "    </tr>\n",
       "    <tr>\n",
       "      <th>2</th>\n",
       "      <td>Action</td>\n",
       "      <td>PC</td>\n",
       "      <td>6.17</td>\n",
       "    </tr>\n",
       "    <tr>\n",
       "      <th>4</th>\n",
       "      <td>Action</td>\n",
       "      <td>PS3</td>\n",
       "      <td>56.67</td>\n",
       "    </tr>\n",
       "    <tr>\n",
       "      <th>5</th>\n",
       "      <td>Action</td>\n",
       "      <td>PS4</td>\n",
       "      <td>32.83</td>\n",
       "    </tr>\n",
       "  </tbody>\n",
       "</table>\n",
       "</div>"
      ],
      "text/plain": [
       "    genre platform  na_sales\n",
       "0  Action      3DS     19.62\n",
       "1  Action       DS      4.53\n",
       "2  Action       PC      6.17\n",
       "4  Action      PS3     56.67\n",
       "5  Action      PS4     32.83"
      ]
     },
     "metadata": {},
     "output_type": "display_data"
    },
    {
     "data": {
      "text/html": [
       "<div>\n",
       "<style scoped>\n",
       "    .dataframe tbody tr th:only-of-type {\n",
       "        vertical-align: middle;\n",
       "    }\n",
       "\n",
       "    .dataframe tbody tr th {\n",
       "        vertical-align: top;\n",
       "    }\n",
       "\n",
       "    .dataframe thead th {\n",
       "        text-align: right;\n",
       "    }\n",
       "</style>\n",
       "<table border=\"1\" class=\"dataframe\">\n",
       "  <thead>\n",
       "    <tr style=\"text-align: right;\">\n",
       "      <th></th>\n",
       "      <th>genre</th>\n",
       "      <th>platform</th>\n",
       "      <th>eu_sales</th>\n",
       "    </tr>\n",
       "  </thead>\n",
       "  <tbody>\n",
       "    <tr>\n",
       "      <th>0</th>\n",
       "      <td>Action</td>\n",
       "      <td>3DS</td>\n",
       "      <td>12.66</td>\n",
       "    </tr>\n",
       "    <tr>\n",
       "      <th>1</th>\n",
       "      <td>Action</td>\n",
       "      <td>DS</td>\n",
       "      <td>2.54</td>\n",
       "    </tr>\n",
       "    <tr>\n",
       "      <th>2</th>\n",
       "      <td>Action</td>\n",
       "      <td>PC</td>\n",
       "      <td>11.16</td>\n",
       "    </tr>\n",
       "    <tr>\n",
       "      <th>4</th>\n",
       "      <td>Action</td>\n",
       "      <td>PS3</td>\n",
       "      <td>59.57</td>\n",
       "    </tr>\n",
       "    <tr>\n",
       "      <th>5</th>\n",
       "      <td>Action</td>\n",
       "      <td>PS4</td>\n",
       "      <td>42.71</td>\n",
       "    </tr>\n",
       "  </tbody>\n",
       "</table>\n",
       "</div>"
      ],
      "text/plain": [
       "    genre platform  eu_sales\n",
       "0  Action      3DS     12.66\n",
       "1  Action       DS      2.54\n",
       "2  Action       PC     11.16\n",
       "4  Action      PS3     59.57\n",
       "5  Action      PS4     42.71"
      ]
     },
     "metadata": {},
     "output_type": "display_data"
    },
    {
     "data": {
      "text/html": [
       "<div>\n",
       "<style scoped>\n",
       "    .dataframe tbody tr th:only-of-type {\n",
       "        vertical-align: middle;\n",
       "    }\n",
       "\n",
       "    .dataframe tbody tr th {\n",
       "        vertical-align: top;\n",
       "    }\n",
       "\n",
       "    .dataframe thead th {\n",
       "        text-align: right;\n",
       "    }\n",
       "</style>\n",
       "<table border=\"1\" class=\"dataframe\">\n",
       "  <thead>\n",
       "    <tr style=\"text-align: right;\">\n",
       "      <th></th>\n",
       "      <th>genre</th>\n",
       "      <th>platform</th>\n",
       "      <th>jp_sales</th>\n",
       "    </tr>\n",
       "  </thead>\n",
       "  <tbody>\n",
       "    <tr>\n",
       "      <th>0</th>\n",
       "      <td>Action</td>\n",
       "      <td>3DS</td>\n",
       "      <td>22.66</td>\n",
       "    </tr>\n",
       "    <tr>\n",
       "      <th>1</th>\n",
       "      <td>Action</td>\n",
       "      <td>DS</td>\n",
       "      <td>0.78</td>\n",
       "    </tr>\n",
       "    <tr>\n",
       "      <th>3</th>\n",
       "      <td>Action</td>\n",
       "      <td>PS2</td>\n",
       "      <td>0.06</td>\n",
       "    </tr>\n",
       "    <tr>\n",
       "      <th>4</th>\n",
       "      <td>Action</td>\n",
       "      <td>PS3</td>\n",
       "      <td>19.00</td>\n",
       "    </tr>\n",
       "    <tr>\n",
       "      <th>5</th>\n",
       "      <td>Action</td>\n",
       "      <td>PS4</td>\n",
       "      <td>5.90</td>\n",
       "    </tr>\n",
       "  </tbody>\n",
       "</table>\n",
       "</div>"
      ],
      "text/plain": [
       "    genre platform  jp_sales\n",
       "0  Action      3DS     22.66\n",
       "1  Action       DS      0.78\n",
       "3  Action      PS2      0.06\n",
       "4  Action      PS3     19.00\n",
       "5  Action      PS4      5.90"
      ]
     },
     "metadata": {},
     "output_type": "display_data"
    }
   ],
   "source": [
    "#NA Sales\n",
    "na_data = new_gen.groupby(['genre', 'platform'])['na_sales'].sum().reset_index()\n",
    "na_data = na_data.replace(0, np.nan)\n",
    "na_data = na_data.dropna()\n",
    "display(na_data.head())\n",
    "#EU Sales\n",
    "eu_data = new_gen.groupby(['genre', 'platform'])['eu_sales'].sum().reset_index()\n",
    "eu_data = eu_data.replace(0, np.nan)\n",
    "eu_data = eu_data.dropna()\n",
    "display(eu_data.head())\n",
    "#JP Sales\n",
    "jp_data = new_gen.groupby(['genre', 'platform'])['jp_sales'].sum().reset_index()\n",
    "jp_data = jp_data.replace(0, np.nan)\n",
    "jp_data = jp_data.dropna()\n",
    "display(jp_data.head())"
   ]
  },
  {
   "cell_type": "code",
   "execution_count": 45,
   "metadata": {
    "scrolled": true
   },
   "outputs": [
    {
     "data": {
      "text/html": [
       "<div>\n",
       "<style scoped>\n",
       "    .dataframe tbody tr th:only-of-type {\n",
       "        vertical-align: middle;\n",
       "    }\n",
       "\n",
       "    .dataframe tbody tr th {\n",
       "        vertical-align: top;\n",
       "    }\n",
       "\n",
       "    .dataframe thead th {\n",
       "        text-align: right;\n",
       "    }\n",
       "</style>\n",
       "<table border=\"1\" class=\"dataframe\">\n",
       "  <thead>\n",
       "    <tr style=\"text-align: right;\">\n",
       "      <th></th>\n",
       "      <th>platform</th>\n",
       "      <th>na_sales</th>\n",
       "    </tr>\n",
       "  </thead>\n",
       "  <tbody>\n",
       "    <tr>\n",
       "      <th>10</th>\n",
       "      <td>X360</td>\n",
       "      <td>226.80</td>\n",
       "    </tr>\n",
       "    <tr>\n",
       "      <th>4</th>\n",
       "      <td>PS3</td>\n",
       "      <td>168.26</td>\n",
       "    </tr>\n",
       "    <tr>\n",
       "      <th>5</th>\n",
       "      <td>PS4</td>\n",
       "      <td>108.74</td>\n",
       "    </tr>\n",
       "    <tr>\n",
       "      <th>11</th>\n",
       "      <td>XOne</td>\n",
       "      <td>93.12</td>\n",
       "    </tr>\n",
       "    <tr>\n",
       "      <th>0</th>\n",
       "      <td>3DS</td>\n",
       "      <td>82.65</td>\n",
       "    </tr>\n",
       "  </tbody>\n",
       "</table>\n",
       "</div>"
      ],
      "text/plain": [
       "   platform  na_sales\n",
       "10     X360    226.80\n",
       "4       PS3    168.26\n",
       "5       PS4    108.74\n",
       "11     XOne     93.12\n",
       "0       3DS     82.65"
      ]
     },
     "metadata": {},
     "output_type": "display_data"
    },
    {
     "data": {
      "text/html": [
       "<div>\n",
       "<style scoped>\n",
       "    .dataframe tbody tr th:only-of-type {\n",
       "        vertical-align: middle;\n",
       "    }\n",
       "\n",
       "    .dataframe tbody tr th {\n",
       "        vertical-align: top;\n",
       "    }\n",
       "\n",
       "    .dataframe thead th {\n",
       "        text-align: right;\n",
       "    }\n",
       "</style>\n",
       "<table border=\"1\" class=\"dataframe\">\n",
       "  <thead>\n",
       "    <tr style=\"text-align: right;\">\n",
       "      <th></th>\n",
       "      <th>platform</th>\n",
       "      <th>eu_sales</th>\n",
       "    </tr>\n",
       "  </thead>\n",
       "  <tbody>\n",
       "    <tr>\n",
       "      <th>4</th>\n",
       "      <td>PS3</td>\n",
       "      <td>163.10</td>\n",
       "    </tr>\n",
       "    <tr>\n",
       "      <th>5</th>\n",
       "      <td>PS4</td>\n",
       "      <td>141.09</td>\n",
       "    </tr>\n",
       "    <tr>\n",
       "      <th>10</th>\n",
       "      <td>X360</td>\n",
       "      <td>117.10</td>\n",
       "    </tr>\n",
       "    <tr>\n",
       "      <th>0</th>\n",
       "      <td>3DS</td>\n",
       "      <td>61.27</td>\n",
       "    </tr>\n",
       "    <tr>\n",
       "      <th>2</th>\n",
       "      <td>PC</td>\n",
       "      <td>56.70</td>\n",
       "    </tr>\n",
       "  </tbody>\n",
       "</table>\n",
       "</div>"
      ],
      "text/plain": [
       "   platform  eu_sales\n",
       "4       PS3    163.10\n",
       "5       PS4    141.09\n",
       "10     X360    117.10\n",
       "0       3DS     61.27\n",
       "2        PC     56.70"
      ]
     },
     "metadata": {},
     "output_type": "display_data"
    },
    {
     "data": {
      "text/html": [
       "<div>\n",
       "<style scoped>\n",
       "    .dataframe tbody tr th:only-of-type {\n",
       "        vertical-align: middle;\n",
       "    }\n",
       "\n",
       "    .dataframe tbody tr th {\n",
       "        vertical-align: top;\n",
       "    }\n",
       "\n",
       "    .dataframe thead th {\n",
       "        text-align: right;\n",
       "    }\n",
       "</style>\n",
       "<table border=\"1\" class=\"dataframe\">\n",
       "  <thead>\n",
       "    <tr style=\"text-align: right;\">\n",
       "      <th></th>\n",
       "      <th>platform</th>\n",
       "      <th>jp_sales</th>\n",
       "    </tr>\n",
       "  </thead>\n",
       "  <tbody>\n",
       "    <tr>\n",
       "      <th>0</th>\n",
       "      <td>3DS</td>\n",
       "      <td>100.62</td>\n",
       "    </tr>\n",
       "    <tr>\n",
       "      <th>3</th>\n",
       "      <td>PS3</td>\n",
       "      <td>49.39</td>\n",
       "    </tr>\n",
       "    <tr>\n",
       "      <th>5</th>\n",
       "      <td>PSP</td>\n",
       "      <td>24.04</td>\n",
       "    </tr>\n",
       "    <tr>\n",
       "      <th>6</th>\n",
       "      <td>PSV</td>\n",
       "      <td>21.84</td>\n",
       "    </tr>\n",
       "    <tr>\n",
       "      <th>4</th>\n",
       "      <td>PS4</td>\n",
       "      <td>15.96</td>\n",
       "    </tr>\n",
       "  </tbody>\n",
       "</table>\n",
       "</div>"
      ],
      "text/plain": [
       "  platform  jp_sales\n",
       "0      3DS    100.62\n",
       "3      PS3     49.39\n",
       "5      PSP     24.04\n",
       "6      PSV     21.84\n",
       "4      PS4     15.96"
      ]
     },
     "metadata": {},
     "output_type": "display_data"
    }
   ],
   "source": [
    "#top NA platforms\n",
    "na_platform = na_data.groupby('platform')['na_sales'].sum().reset_index().sort_values(by='na_sales', ascending=False)\n",
    "display(na_platform.head())\n",
    "#top EU platforms\n",
    "eu_platform = eu_data.groupby('platform')['eu_sales'].sum().reset_index().sort_values(by='eu_sales', ascending=False)\n",
    "display(eu_platform.head())\n",
    "#top JP platforms\n",
    "jp_platform = jp_data.groupby('platform')['jp_sales'].sum().reset_index().sort_values(by='jp_sales', ascending=False)\n",
    "display(jp_platform.head())"
   ]
  },
  {
   "cell_type": "code",
   "execution_count": 46,
   "metadata": {
    "scrolled": true
   },
   "outputs": [
    {
     "data": {
      "text/html": [
       "<div>\n",
       "<style scoped>\n",
       "    .dataframe tbody tr th:only-of-type {\n",
       "        vertical-align: middle;\n",
       "    }\n",
       "\n",
       "    .dataframe tbody tr th {\n",
       "        vertical-align: top;\n",
       "    }\n",
       "\n",
       "    .dataframe thead th {\n",
       "        text-align: right;\n",
       "    }\n",
       "</style>\n",
       "<table border=\"1\" class=\"dataframe\">\n",
       "  <thead>\n",
       "    <tr style=\"text-align: right;\">\n",
       "      <th></th>\n",
       "      <th>genre</th>\n",
       "      <th>na_sales</th>\n",
       "    </tr>\n",
       "  </thead>\n",
       "  <tbody>\n",
       "    <tr>\n",
       "      <th>0</th>\n",
       "      <td>Action</td>\n",
       "      <td>230.92</td>\n",
       "    </tr>\n",
       "    <tr>\n",
       "      <th>8</th>\n",
       "      <td>Shooter</td>\n",
       "      <td>194.43</td>\n",
       "    </tr>\n",
       "    <tr>\n",
       "      <th>10</th>\n",
       "      <td>Sports</td>\n",
       "      <td>108.70</td>\n",
       "    </tr>\n",
       "    <tr>\n",
       "      <th>7</th>\n",
       "      <td>Role-Playing</td>\n",
       "      <td>83.78</td>\n",
       "    </tr>\n",
       "    <tr>\n",
       "      <th>3</th>\n",
       "      <td>Misc</td>\n",
       "      <td>69.69</td>\n",
       "    </tr>\n",
       "  </tbody>\n",
       "</table>\n",
       "</div>"
      ],
      "text/plain": [
       "           genre  na_sales\n",
       "0         Action    230.92\n",
       "8        Shooter    194.43\n",
       "10        Sports    108.70\n",
       "7   Role-Playing     83.78\n",
       "3           Misc     69.69"
      ]
     },
     "metadata": {},
     "output_type": "display_data"
    },
    {
     "data": {
      "text/html": [
       "<div>\n",
       "<style scoped>\n",
       "    .dataframe tbody tr th:only-of-type {\n",
       "        vertical-align: middle;\n",
       "    }\n",
       "\n",
       "    .dataframe tbody tr th {\n",
       "        vertical-align: top;\n",
       "    }\n",
       "\n",
       "    .dataframe thead th {\n",
       "        text-align: right;\n",
       "    }\n",
       "</style>\n",
       "<table border=\"1\" class=\"dataframe\">\n",
       "  <thead>\n",
       "    <tr style=\"text-align: right;\">\n",
       "      <th></th>\n",
       "      <th>genre</th>\n",
       "      <th>eu_sales</th>\n",
       "    </tr>\n",
       "  </thead>\n",
       "  <tbody>\n",
       "    <tr>\n",
       "      <th>0</th>\n",
       "      <td>Action</td>\n",
       "      <td>199.12</td>\n",
       "    </tr>\n",
       "    <tr>\n",
       "      <th>8</th>\n",
       "      <td>Shooter</td>\n",
       "      <td>148.02</td>\n",
       "    </tr>\n",
       "    <tr>\n",
       "      <th>10</th>\n",
       "      <td>Sports</td>\n",
       "      <td>88.48</td>\n",
       "    </tr>\n",
       "    <tr>\n",
       "      <th>7</th>\n",
       "      <td>Role-Playing</td>\n",
       "      <td>62.30</td>\n",
       "    </tr>\n",
       "    <tr>\n",
       "      <th>6</th>\n",
       "      <td>Racing</td>\n",
       "      <td>40.58</td>\n",
       "    </tr>\n",
       "  </tbody>\n",
       "</table>\n",
       "</div>"
      ],
      "text/plain": [
       "           genre  eu_sales\n",
       "0         Action    199.12\n",
       "8        Shooter    148.02\n",
       "10        Sports     88.48\n",
       "7   Role-Playing     62.30\n",
       "6         Racing     40.58"
      ]
     },
     "metadata": {},
     "output_type": "display_data"
    },
    {
     "data": {
      "text/html": [
       "<div>\n",
       "<style scoped>\n",
       "    .dataframe tbody tr th:only-of-type {\n",
       "        vertical-align: middle;\n",
       "    }\n",
       "\n",
       "    .dataframe tbody tr th {\n",
       "        vertical-align: top;\n",
       "    }\n",
       "\n",
       "    .dataframe thead th {\n",
       "        text-align: right;\n",
       "    }\n",
       "</style>\n",
       "<table border=\"1\" class=\"dataframe\">\n",
       "  <thead>\n",
       "    <tr style=\"text-align: right;\">\n",
       "      <th></th>\n",
       "      <th>genre</th>\n",
       "      <th>jp_sales</th>\n",
       "    </tr>\n",
       "  </thead>\n",
       "  <tbody>\n",
       "    <tr>\n",
       "      <th>7</th>\n",
       "      <td>Role-Playing</td>\n",
       "      <td>79.87</td>\n",
       "    </tr>\n",
       "    <tr>\n",
       "      <th>0</th>\n",
       "      <td>Action</td>\n",
       "      <td>63.62</td>\n",
       "    </tr>\n",
       "    <tr>\n",
       "      <th>3</th>\n",
       "      <td>Misc</td>\n",
       "      <td>17.60</td>\n",
       "    </tr>\n",
       "    <tr>\n",
       "      <th>2</th>\n",
       "      <td>Fighting</td>\n",
       "      <td>12.38</td>\n",
       "    </tr>\n",
       "    <tr>\n",
       "      <th>4</th>\n",
       "      <td>Platform</td>\n",
       "      <td>12.13</td>\n",
       "    </tr>\n",
       "  </tbody>\n",
       "</table>\n",
       "</div>"
      ],
      "text/plain": [
       "          genre  jp_sales\n",
       "7  Role-Playing     79.87\n",
       "0        Action     63.62\n",
       "3          Misc     17.60\n",
       "2      Fighting     12.38\n",
       "4      Platform     12.13"
      ]
     },
     "metadata": {},
     "output_type": "display_data"
    }
   ],
   "source": [
    "# NA genre\n",
    "na_genre = na_data.groupby('genre')['na_sales'].sum().reset_index().sort_values(by='na_sales', ascending=False)\n",
    "display(na_genre.head())\n",
    "#EU genre\n",
    "eu_genre = eu_data.groupby('genre')['eu_sales'].sum().reset_index().sort_values(by='eu_sales', ascending=False)\n",
    "display(eu_genre.head())\n",
    "#JP genre\n",
    "jp_genre = jp_data.groupby('genre')['jp_sales'].sum().reset_index().sort_values(by='jp_sales', ascending=False)\n",
    "display(jp_genre.head())"
   ]
  },
  {
   "cell_type": "markdown",
   "metadata": {},
   "source": [
    "There is a very clear difference in the genre's preferred by Japanese consumers. These games seem to be reflective of the platform that is more popular. In Japan there appears to be a preference toward hand held devices. They also have a strong preference toward Japanese companies. Microsoft did not make the top 5 platforms for Japan. "
   ]
  },
  {
   "cell_type": "code",
   "execution_count": 47,
   "metadata": {},
   "outputs": [
    {
     "data": {
      "text/html": [
       "<div>\n",
       "<style scoped>\n",
       "    .dataframe tbody tr th:only-of-type {\n",
       "        vertical-align: middle;\n",
       "    }\n",
       "\n",
       "    .dataframe tbody tr th {\n",
       "        vertical-align: top;\n",
       "    }\n",
       "\n",
       "    .dataframe thead th {\n",
       "        text-align: right;\n",
       "    }\n",
       "</style>\n",
       "<table border=\"1\" class=\"dataframe\">\n",
       "  <thead>\n",
       "    <tr style=\"text-align: right;\">\n",
       "      <th></th>\n",
       "      <th>rating</th>\n",
       "      <th>na_sales</th>\n",
       "    </tr>\n",
       "  </thead>\n",
       "  <tbody>\n",
       "    <tr>\n",
       "      <th>0</th>\n",
       "      <td>E</td>\n",
       "      <td>139.93</td>\n",
       "    </tr>\n",
       "    <tr>\n",
       "      <th>1</th>\n",
       "      <td>E10+</td>\n",
       "      <td>93.52</td>\n",
       "    </tr>\n",
       "    <tr>\n",
       "      <th>2</th>\n",
       "      <td>M</td>\n",
       "      <td>294.44</td>\n",
       "    </tr>\n",
       "    <tr>\n",
       "      <th>3</th>\n",
       "      <td>RP</td>\n",
       "      <td>0.00</td>\n",
       "    </tr>\n",
       "    <tr>\n",
       "      <th>4</th>\n",
       "      <td>T</td>\n",
       "      <td>99.37</td>\n",
       "    </tr>\n",
       "    <tr>\n",
       "      <th>5</th>\n",
       "      <td>unknown</td>\n",
       "      <td>1.20</td>\n",
       "    </tr>\n",
       "  </tbody>\n",
       "</table>\n",
       "</div>"
      ],
      "text/plain": [
       "    rating  na_sales\n",
       "0        E    139.93\n",
       "1     E10+     93.52\n",
       "2        M    294.44\n",
       "3       RP      0.00\n",
       "4        T     99.37\n",
       "5  unknown      1.20"
      ]
     },
     "metadata": {},
     "output_type": "display_data"
    },
    {
     "data": {
      "text/html": [
       "<div>\n",
       "<style scoped>\n",
       "    .dataframe tbody tr th:only-of-type {\n",
       "        vertical-align: middle;\n",
       "    }\n",
       "\n",
       "    .dataframe tbody tr th {\n",
       "        vertical-align: top;\n",
       "    }\n",
       "\n",
       "    .dataframe thead th {\n",
       "        text-align: right;\n",
       "    }\n",
       "</style>\n",
       "<table border=\"1\" class=\"dataframe\">\n",
       "  <thead>\n",
       "    <tr style=\"text-align: right;\">\n",
       "      <th></th>\n",
       "      <th>rating</th>\n",
       "      <th>eu_sales</th>\n",
       "    </tr>\n",
       "  </thead>\n",
       "  <tbody>\n",
       "    <tr>\n",
       "      <th>0</th>\n",
       "      <td>E</td>\n",
       "      <td>121.39</td>\n",
       "    </tr>\n",
       "    <tr>\n",
       "      <th>1</th>\n",
       "      <td>E10+</td>\n",
       "      <td>61.60</td>\n",
       "    </tr>\n",
       "    <tr>\n",
       "      <th>2</th>\n",
       "      <td>M</td>\n",
       "      <td>240.11</td>\n",
       "    </tr>\n",
       "    <tr>\n",
       "      <th>3</th>\n",
       "      <td>RP</td>\n",
       "      <td>0.03</td>\n",
       "    </tr>\n",
       "    <tr>\n",
       "      <th>4</th>\n",
       "      <td>T</td>\n",
       "      <td>77.41</td>\n",
       "    </tr>\n",
       "    <tr>\n",
       "      <th>5</th>\n",
       "      <td>unknown</td>\n",
       "      <td>3.88</td>\n",
       "    </tr>\n",
       "  </tbody>\n",
       "</table>\n",
       "</div>"
      ],
      "text/plain": [
       "    rating  eu_sales\n",
       "0        E    121.39\n",
       "1     E10+     61.60\n",
       "2        M    240.11\n",
       "3       RP      0.03\n",
       "4        T     77.41\n",
       "5  unknown      3.88"
      ]
     },
     "metadata": {},
     "output_type": "display_data"
    },
    {
     "data": {
      "text/html": [
       "<div>\n",
       "<style scoped>\n",
       "    .dataframe tbody tr th:only-of-type {\n",
       "        vertical-align: middle;\n",
       "    }\n",
       "\n",
       "    .dataframe tbody tr th {\n",
       "        vertical-align: top;\n",
       "    }\n",
       "\n",
       "    .dataframe thead th {\n",
       "        text-align: right;\n",
       "    }\n",
       "</style>\n",
       "<table border=\"1\" class=\"dataframe\">\n",
       "  <thead>\n",
       "    <tr style=\"text-align: right;\">\n",
       "      <th></th>\n",
       "      <th>rating</th>\n",
       "      <th>jp_sales</th>\n",
       "    </tr>\n",
       "  </thead>\n",
       "  <tbody>\n",
       "    <tr>\n",
       "      <th>0</th>\n",
       "      <td>E</td>\n",
       "      <td>34.96</td>\n",
       "    </tr>\n",
       "    <tr>\n",
       "      <th>1</th>\n",
       "      <td>E10+</td>\n",
       "      <td>10.93</td>\n",
       "    </tr>\n",
       "    <tr>\n",
       "      <th>2</th>\n",
       "      <td>M</td>\n",
       "      <td>24.95</td>\n",
       "    </tr>\n",
       "    <tr>\n",
       "      <th>3</th>\n",
       "      <td>RP</td>\n",
       "      <td>0.00</td>\n",
       "    </tr>\n",
       "    <tr>\n",
       "      <th>4</th>\n",
       "      <td>T</td>\n",
       "      <td>28.94</td>\n",
       "    </tr>\n",
       "    <tr>\n",
       "      <th>5</th>\n",
       "      <td>unknown</td>\n",
       "      <td>0.89</td>\n",
       "    </tr>\n",
       "  </tbody>\n",
       "</table>\n",
       "</div>"
      ],
      "text/plain": [
       "    rating  jp_sales\n",
       "0        E     34.96\n",
       "1     E10+     10.93\n",
       "2        M     24.95\n",
       "3       RP      0.00\n",
       "4        T     28.94\n",
       "5  unknown      0.89"
      ]
     },
     "metadata": {},
     "output_type": "display_data"
    }
   ],
   "source": [
    "esrb_df = new_gen.dropna()\n",
    "#NA ESRB comparison\n",
    "na_esrb = esrb_df.groupby(['rating'])['na_sales'].sum().reset_index()\n",
    "display(na_esrb)\n",
    "#EU ESRB comparison\n",
    "eu_esrb = esrb_df.groupby(['rating'])['eu_sales'].sum().reset_index()\n",
    "display(eu_esrb)\n",
    "#JP ESRB comparison\n",
    "jp_esrb = esrb_df.groupby(['rating'])['jp_sales'].sum().reset_index()\n",
    "display(jp_esrb)"
   ]
  },
  {
   "cell_type": "code",
   "execution_count": 48,
   "metadata": {},
   "outputs": [
    {
     "data": {
      "text/plain": [
       "Text(0, 0.5, 'North America Sales in Millions')"
      ]
     },
     "execution_count": 48,
     "metadata": {},
     "output_type": "execute_result"
    },
    {
     "data": {
      "image/png": "[encoded data removed]",
      "text/plain": [
       "<Figure size 640x480 with 1 Axes>"
      ]
     },
     "metadata": {},
     "output_type": "display_data"
    }
   ],
   "source": [
    "#Visualization of NA ESRB data\n",
    "sns.barplot(x='rating', y='na_sales', data=na_esrb)\n",
    "plt.title('Volume of Sales in North America compared to the ESRB rating, 2011-2016')\n",
    "plt.xlabel('ESRB Rating')\n",
    "plt.ylabel('North America Sales in Millions')"
   ]
  },
  {
   "cell_type": "code",
   "execution_count": 49,
   "metadata": {},
   "outputs": [
    {
     "data": {
      "text/plain": [
       "Text(0, 0.5, 'European Sales in Millions')"
      ]
     },
     "execution_count": 49,
     "metadata": {},
     "output_type": "execute_result"
    },
    {
     "data": {
      "image/png": "[encoded data removed]",
      "text/plain": [
       "<Figure size 640x480 with 1 Axes>"
      ]
     },
     "metadata": {},
     "output_type": "display_data"
    }
   ],
   "source": [
    "#Visualization of EU ESRB data\n",
    "sns.barplot(x='rating', y='eu_sales', data=eu_esrb)\n",
    "plt.title('Volume of Sales in Europe compared to the ESRB rating, 2011-2016')\n",
    "plt.xlabel('ESRB Rating')\n",
    "plt.ylabel('European Sales in Millions')"
   ]
  },
  {
   "cell_type": "code",
   "execution_count": 50,
   "metadata": {
    "scrolled": true
   },
   "outputs": [
    {
     "data": {
      "text/plain": [
       "Text(0, 0.5, 'Japanese Sales in Millions')"
      ]
     },
     "execution_count": 50,
     "metadata": {},
     "output_type": "execute_result"
    },
    {
     "data": {
      "image/png": "[encoded data removed]",
      "text/plain": [
       "<Figure size 640x480 with 1 Axes>"
      ]
     },
     "metadata": {},
     "output_type": "display_data"
    }
   ],
   "source": [
    "#Visualization of JP ESRB data\n",
    "sns.barplot(x='rating', y='jp_sales', data=jp_esrb)\n",
    "plt.title('Volume of Sales in Japan compared to the ESRB rating, 2011-2016')\n",
    "plt.xlabel('ESRB Rating')\n",
    "plt.ylabel('Japanese Sales in Millions')"
   ]
  },
  {
   "cell_type": "code",
   "execution_count": 51,
   "metadata": {},
   "outputs": [
    {
     "data": {
      "application/vnd.plotly.v1+json": {
       "config": {
        "plotlyServerURL": "https://plot.ly"
       },
       "data": [
        {
         "domain": {
          "x": [
           0,
           0.2888888888888889
          ],
          "y": [
           0,
           1
          ]
         },
         "hovertemplate": "rating=%{label}<br>jp_sales=%{value}<extra></extra>",
         "labels": [
          "E",
          "E10+",
          "M",
          "RP",
          "T",
          "unknown"
         ],
         "legendgroup": "",
         "name": "",
         "showlegend": true,
         "type": "pie",
         "values": [
          34.96,
          10.93,
          24.95,
          0,
          28.94,
          0.89
         ]
        },
        {
         "domain": {
          "x": [
           0.35555555555555557,
           0.6444444444444445
          ],
          "y": [
           0,
           1
          ]
         },
         "hovertemplate": "rating=%{label}<br>eu_sales=%{value}<extra></extra>",
         "labels": [
          "E",
          "E10+",
          "M",
          "RP",
          "T",
          "unknown"
         ],
         "legendgroup": "",
         "name": "",
         "showlegend": true,
         "type": "pie",
         "values": [
          121.39,
          61.6,
          240.11,
          0.03,
          77.41,
          3.88
         ]
        },
        {
         "domain": {
          "x": [
           0.7111111111111111,
           1
          ],
          "y": [
           0,
           1
          ]
         },
         "hovertemplate": "rating=%{label}<br>na_sales=%{value}<extra></extra>",
         "labels": [
          "E",
          "E10+",
          "M",
          "RP",
          "T",
          "unknown"
         ],
         "legendgroup": "",
         "name": "",
         "showlegend": true,
         "type": "pie",
         "values": [
          139.93,
          93.52,
          294.44,
          0,
          99.37,
          1.2
         ]
        }
       ],
       "layout": {
        "showlegend": false,
        "template": {
         "data": {
          "bar": [
           {
            "error_x": {
             "color": "#2a3f5f"
            },
            "error_y": {
             "color": "#2a3f5f"
            },
            "marker": {
             "line": {
              "color": "#E5ECF6",
              "width": 0.5
             },
             "pattern": {
              "fillmode": "overlay",
              "size": 10,
              "solidity": 0.2
             }
            },
            "type": "bar"
           }
          ],
          "barpolar": [
           {
            "marker": {
             "line": {
              "color": "#E5ECF6",
              "width": 0.5
             },
             "pattern": {
              "fillmode": "overlay",
              "size": 10,
              "solidity": 0.2
             }
            },
            "type": "barpolar"
           }
          ],
          "carpet": [
           {
            "aaxis": {
             "endlinecolor": "#2a3f5f",
             "gridcolor": "white",
             "linecolor": "white",
             "minorgridcolor": "white",
             "startlinecolor": "#2a3f5f"
            },
            "baxis": {
             "endlinecolor": "#2a3f5f",
             "gridcolor": "white",
             "linecolor": "white",
             "minorgridcolor": "white",
             "startlinecolor": "#2a3f5f"
            },
            "type": "carpet"
           }
          ],
          "choropleth": [
           {
            "colorbar": {
             "outlinewidth": 0,
             "ticks": ""
            },
            "type": "choropleth"
           }
          ],
          "contour": [
           {
            "colorbar": {
             "outlinewidth": 0,
             "ticks": ""
            },
            "colorscale": [
             [
              0,
              "#0d0887"
             ],
             [
              0.1111111111111111,
              "#46039f"
             ],
             [
              0.2222222222222222,
              "#7201a8"
             ],
             [
              0.3333333333333333,
              "#9c179e"
             ],
             [
              0.4444444444444444,
              "#bd3786"
             ],
             [
              0.5555555555555556,
              "#d8576b"
             ],
             [
              0.6666666666666666,
              "#ed7953"
             ],
             [
              0.7777777777777778,
              "#fb9f3a"
             ],
             [
              0.8888888888888888,
              "#fdca26"
             ],
             [
              1,
              "#f0f921"
             ]
            ],
            "type": "contour"
           }
          ],
          "contourcarpet": [
           {
            "colorbar": {
             "outlinewidth": 0,
             "ticks": ""
            },
            "type": "contourcarpet"
           }
          ],
          "heatmap": [
           {
            "colorbar": {
             "outlinewidth": 0,
             "ticks": ""
            },
            "colorscale": [
             [
              0,
              "#0d0887"
             ],
             [
              0.1111111111111111,
              "#46039f"
             ],
             [
              0.2222222222222222,
              "#7201a8"
             ],
             [
              0.3333333333333333,
              "#9c179e"
             ],
             [
              0.4444444444444444,
              "#bd3786"
             ],
             [
              0.5555555555555556,
              "#d8576b"
             ],
             [
              0.6666666666666666,
              "#ed7953"
             ],
             [
              0.7777777777777778,
              "#fb9f3a"
             ],
             [
              0.8888888888888888,
              "#fdca26"
             ],
             [
              1,
              "#f0f921"
             ]
            ],
            "type": "heatmap"
           }
          ],
          "heatmapgl": [
           {
            "colorbar": {
             "outlinewidth": 0,
             "ticks": ""
            },
            "colorscale": [
             [
              0,
              "#0d0887"
             ],
             [
              0.1111111111111111,
              "#46039f"
             ],
             [
              0.2222222222222222,
              "#7201a8"
             ],
             [
              0.3333333333333333,
              "#9c179e"
             ],
             [
              0.4444444444444444,
              "#bd3786"
             ],
             [
              0.5555555555555556,
              "#d8576b"
             ],
             [
              0.6666666666666666,
              "#ed7953"
             ],
             [
              0.7777777777777778,
              "#fb9f3a"
             ],
             [
              0.8888888888888888,
              "#fdca26"
             ],
             [
              1,
              "#f0f921"
             ]
            ],
            "type": "heatmapgl"
           }
          ],
          "histogram": [
           {
            "marker": {
             "pattern": {
              "fillmode": "overlay",
              "size": 10,
              "solidity": 0.2
             }
            },
            "type": "histogram"
           }
          ],
          "histogram2d": [
           {
            "colorbar": {
             "outlinewidth": 0,
             "ticks": ""
            },
            "colorscale": [
             [
              0,
              "#0d0887"
             ],
             [
              0.1111111111111111,
              "#46039f"
             ],
             [
              0.2222222222222222,
              "#7201a8"
             ],
             [
              0.3333333333333333,
              "#9c179e"
             ],
             [
              0.4444444444444444,
              "#bd3786"
             ],
             [
              0.5555555555555556,
              "#d8576b"
             ],
             [
              0.6666666666666666,
              "#ed7953"
             ],
             [
              0.7777777777777778,
              "#fb9f3a"
             ],
             [
              0.8888888888888888,
              "#fdca26"
             ],
             [
              1,
              "#f0f921"
             ]
            ],
            "type": "histogram2d"
           }
          ],
          "histogram2dcontour": [
           {
            "colorbar": {
             "outlinewidth": 0,
             "ticks": ""
            },
            "colorscale": [
             [
              0,
              "#0d0887"
             ],
             [
              0.1111111111111111,
              "#46039f"
             ],
             [
              0.2222222222222222,
              "#7201a8"
             ],
             [
              0.3333333333333333,
              "#9c179e"
             ],
             [
              0.4444444444444444,
              "#bd3786"
             ],
             [
              0.5555555555555556,
              "#d8576b"
             ],
             [
              0.6666666666666666,
              "#ed7953"
             ],
             [
              0.7777777777777778,
              "#fb9f3a"
             ],
             [
              0.8888888888888888,
              "#fdca26"
             ],
             [
              1,
              "#f0f921"
             ]
            ],
            "type": "histogram2dcontour"
           }
          ],
          "mesh3d": [
           {
            "colorbar": {
             "outlinewidth": 0,
             "ticks": ""
            },
            "type": "mesh3d"
           }
          ],
          "parcoords": [
           {
            "line": {
             "colorbar": {
              "outlinewidth": 0,
              "ticks": ""
             }
            },
            "type": "parcoords"
           }
          ],
          "pie": [
           {
            "automargin": true,
            "type": "pie"
           }
          ],
          "scatter": [
           {
            "fillpattern": {
             "fillmode": "overlay",
             "size": 10,
             "solidity": 0.2
            },
            "type": "scatter"
           }
          ],
          "scatter3d": [
           {
            "line": {
             "colorbar": {
              "outlinewidth": 0,
              "ticks": ""
             }
            },
            "marker": {
             "colorbar": {
              "outlinewidth": 0,
              "ticks": ""
             }
            },
            "type": "scatter3d"
           }
          ],
          "scattercarpet": [
           {
            "marker": {
             "colorbar": {
              "outlinewidth": 0,
              "ticks": ""
             }
            },
            "type": "scattercarpet"
           }
          ],
          "scattergeo": [
           {
            "marker": {
             "colorbar": {
              "outlinewidth": 0,
              "ticks": ""
             }
            },
            "type": "scattergeo"
           }
          ],
          "scattergl": [
           {
            "marker": {
             "colorbar": {
              "outlinewidth": 0,
              "ticks": ""
             }
            },
            "type": "scattergl"
           }
          ],
          "scattermapbox": [
           {
            "marker": {
             "colorbar": {
              "outlinewidth": 0,
              "ticks": ""
             }
            },
            "type": "scattermapbox"
           }
          ],
          "scatterpolar": [
           {
            "marker": {
             "colorbar": {
              "outlinewidth": 0,
              "ticks": ""
             }
            },
            "type": "scatterpolar"
           }
          ],
          "scatterpolargl": [
           {
            "marker": {
             "colorbar": {
              "outlinewidth": 0,
              "ticks": ""
             }
            },
            "type": "scatterpolargl"
           }
          ],
          "scatterternary": [
           {
            "marker": {
             "colorbar": {
              "outlinewidth": 0,
              "ticks": ""
             }
            },
            "type": "scatterternary"
           }
          ],
          "surface": [
           {
            "colorbar": {
             "outlinewidth": 0,
             "ticks": ""
            },
            "colorscale": [
             [
              0,
              "#0d0887"
             ],
             [
              0.1111111111111111,
              "#46039f"
             ],
             [
              0.2222222222222222,
              "#7201a8"
             ],
             [
              0.3333333333333333,
              "#9c179e"
             ],
             [
              0.4444444444444444,
              "#bd3786"
             ],
             [
              0.5555555555555556,
              "#d8576b"
             ],
             [
              0.6666666666666666,
              "#ed7953"
             ],
             [
              0.7777777777777778,
              "#fb9f3a"
             ],
             [
              0.8888888888888888,
              "#fdca26"
             ],
             [
              1,
              "#f0f921"
             ]
            ],
            "type": "surface"
           }
          ],
          "table": [
           {
            "cells": {
             "fill": {
              "color": "#EBF0F8"
             },
             "line": {
              "color": "white"
             }
            },
            "header": {
             "fill": {
              "color": "#C8D4E3"
             },
             "line": {
              "color": "white"
             }
            },
            "type": "table"
           }
          ]
         },
         "layout": {
          "annotationdefaults": {
           "arrowcolor": "#2a3f5f",
           "arrowhead": 0,
           "arrowwidth": 1
          },
          "autotypenumbers": "strict",
          "coloraxis": {
           "colorbar": {
            "outlinewidth": 0,
            "ticks": ""
           }
          },
          "colorscale": {
           "diverging": [
            [
             0,
             "#8e0152"
            ],
            [
             0.1,
             "#c51b7d"
            ],
            [
             0.2,
             "#de77ae"
            ],
            [
             0.3,
             "#f1b6da"
            ],
            [
             0.4,
             "#fde0ef"
            ],
            [
             0.5,
             "#f7f7f7"
            ],
            [
             0.6,
             "#e6f5d0"
            ],
            [
             0.7,
             "#b8e186"
            ],
            [
             0.8,
             "#7fbc41"
            ],
            [
             0.9,
             "#4d9221"
            ],
            [
             1,
             "#276419"
            ]
           ],
           "sequential": [
            [
             0,
             "#0d0887"
            ],
            [
             0.1111111111111111,
             "#46039f"
            ],
            [
             0.2222222222222222,
             "#7201a8"
            ],
            [
             0.3333333333333333,
             "#9c179e"
            ],
            [
             0.4444444444444444,
             "#bd3786"
            ],
            [
             0.5555555555555556,
             "#d8576b"
            ],
            [
             0.6666666666666666,
             "#ed7953"
            ],
            [
             0.7777777777777778,
             "#fb9f3a"
            ],
            [
             0.8888888888888888,
             "#fdca26"
            ],
            [
             1,
             "#f0f921"
            ]
           ],
           "sequentialminus": [
            [
             0,
             "#0d0887"
            ],
            [
             0.1111111111111111,
             "#46039f"
            ],
            [
             0.2222222222222222,
             "#7201a8"
            ],
            [
             0.3333333333333333,
             "#9c179e"
            ],
            [
             0.4444444444444444,
             "#bd3786"
            ],
            [
             0.5555555555555556,
             "#d8576b"
            ],
            [
             0.6666666666666666,
             "#ed7953"
            ],
            [
             0.7777777777777778,
             "#fb9f3a"
            ],
            [
             0.8888888888888888,
             "#fdca26"
            ],
            [
             1,
             "#f0f921"
            ]
           ]
          },
          "colorway": [
           "#636efa",
           "#EF553B",
           "#00cc96",
           "#ab63fa",
           "#FFA15A",
           "#19d3f3",
           "#FF6692",
           "#B6E880",
           "#FF97FF",
           "#FECB52"
          ],
          "font": {
           "color": "#2a3f5f"
          },
          "geo": {
           "bgcolor": "white",
           "lakecolor": "white",
           "landcolor": "#E5ECF6",
           "showlakes": true,
           "showland": true,
           "subunitcolor": "white"
          },
          "hoverlabel": {
           "align": "left"
          },
          "hovermode": "closest",
          "mapbox": {
           "style": "light"
          },
          "paper_bgcolor": "white",
          "plot_bgcolor": "#E5ECF6",
          "polar": {
           "angularaxis": {
            "gridcolor": "white",
            "linecolor": "white",
            "ticks": ""
           },
           "bgcolor": "#E5ECF6",
           "radialaxis": {
            "gridcolor": "white",
            "linecolor": "white",
            "ticks": ""
           }
          },
          "scene": {
           "xaxis": {
            "backgroundcolor": "#E5ECF6",
            "gridcolor": "white",
            "gridwidth": 2,
            "linecolor": "white",
            "showbackground": true,
            "ticks": "",
            "zerolinecolor": "white"
           },
           "yaxis": {
            "backgroundcolor": "#E5ECF6",
            "gridcolor": "white",
            "gridwidth": 2,
            "linecolor": "white",
            "showbackground": true,
            "ticks": "",
            "zerolinecolor": "white"
           },
           "zaxis": {
            "backgroundcolor": "#E5ECF6",
            "gridcolor": "white",
            "gridwidth": 2,
            "linecolor": "white",
            "showbackground": true,
            "ticks": "",
            "zerolinecolor": "white"
           }
          },
          "shapedefaults": {
           "line": {
            "color": "#2a3f5f"
           }
          },
          "ternary": {
           "aaxis": {
            "gridcolor": "white",
            "linecolor": "white",
            "ticks": ""
           },
           "baxis": {
            "gridcolor": "white",
            "linecolor": "white",
            "ticks": ""
           },
           "bgcolor": "#E5ECF6",
           "caxis": {
            "gridcolor": "white",
            "linecolor": "white",
            "ticks": ""
           }
          },
          "title": {
           "x": 0.05
          },
          "xaxis": {
           "automargin": true,
           "gridcolor": "white",
           "linecolor": "white",
           "ticks": "",
           "title": {
            "standoff": 15
           },
           "zerolinecolor": "white",
           "zerolinewidth": 2
          },
          "yaxis": {
           "automargin": true,
           "gridcolor": "white",
           "linecolor": "white",
           "ticks": "",
           "title": {
            "standoff": 15
           },
           "zerolinecolor": "white",
           "zerolinewidth": 2
          }
         }
        },
        "title": {
         "text": "ESRB Ratings Comparison"
        }
       }
      }
     },
     "metadata": {},
     "output_type": "display_data"
    }
   ],
   "source": [
    "#Adding the proposed Pie Chart in order to see the data in a different format, and to learn about using subsets\n",
    "from plotly.subplots import make_subplots    \n",
    "# Create individual pie charts with Plotly Express\n",
    "fig_jp = px.pie(jp_esrb, values='jp_sales', names='rating', title='ESRB-JP')\n",
    "fig_eu = px.pie(eu_esrb, values='eu_sales', names='rating', title='ESRB-EU')\n",
    "fig_na = px.pie(na_esrb, values='na_sales', names='rating', title='ESRB-NA')\n",
    "\n",
    "# Create a subplot grid with 1 row and 3 columns\n",
    "fig = make_subplots(rows=1, cols=3, specs=[[{'type':'domain'}, {'type':'domain'}, {'type':'domain'}]])\n",
    "\n",
    "# Add each pie chart to the subplot\n",
    "fig.add_trace(fig_jp.data[0], row=1, col=1)\n",
    "fig.add_trace(fig_eu.data[0], row=1, col=2)\n",
    "fig.add_trace(fig_na.data[0], row=1, col=3)\n",
    "\n",
    "# Update layout to show the titles properly\n",
    "fig.update_layout(title_text=\"ESRB Ratings Comparison\", showlegend=False)\n",
    "\n",
    "# Show the combined plot\n",
    "fig.show()"
   ]
  },
  {
   "cell_type": "markdown",
   "metadata": {},
   "source": [
    "After looking at the barcharts for the ESRB ratings in each region, it appears that Europe and North America have similar profiles regarding the types of games they prefer to purchase. Japan however appears to prefer games with E for everyone or T for Teen ratings over more M for mature games. "
   ]
  },
  {
   "cell_type": "markdown",
   "metadata": {},
   "source": [
    "**Step 5:** Test the following hypotheses:"
   ]
  },
  {
   "cell_type": "markdown",
   "metadata": {},
   "source": [
    "Null Hypothesis: The average user ratings for the Xbox One and the PC are the same\n",
    "\n",
    "Alternative Hypothesis: The average user rating for the Xbox One and the PC are different\n",
    "\n",
    "Alpha: I'm setting it at .05 because that is the industry standard unless we are aiming for a very stringent test"
   ]
  },
  {
   "cell_type": "code",
   "execution_count": 52,
   "metadata": {
    "scrolled": false
   },
   "outputs": [
    {
     "name": "stdout",
     "output_type": "stream",
     "text": [
      "p-value: 0.613071224763855\n",
      "We can't reject the null hypothesis\n"
     ]
    }
   ],
   "source": [
    "# Filter data for Xbox One and PC platforms\n",
    "xone_data = new_gen[new_gen['platform'] == 'XOne']\n",
    "pc_data = new_gen[new_gen['platform'] == 'PC']\n",
    "\n",
    "XOne = xone_data['user_score'].dropna()\n",
    "PC = pc_data['user_score'].dropna()\n",
    "\n",
    "# Perform the t-test\n",
    "results = st.ttest_ind(XOne, PC, equal_var=False)\n",
    "\n",
    "# alpha value\n",
    "alpha = 0.05\n",
    "\n",
    "# Print the results\n",
    "print('p-value:', results.pvalue)\n",
    "\n",
    "if results.pvalue < alpha:\n",
    "    print(\"We reject the null hypothesis\")\n",
    "else:\n",
    "    print(\"We can't reject the null hypothesis\")"
   ]
  },
  {
   "cell_type": "markdown",
   "metadata": {},
   "source": [
    "It appears that statistically the average user score is very similar between the Xbox One and PC. "
   ]
  },
  {
   "cell_type": "markdown",
   "metadata": {},
   "source": [
    "Null Hypothesis: The average ratings for sports and action games are the same\n",
    "\n",
    "Alternative Hypothesis: The average ratings for sports and action games are different\n",
    "\n",
    "Alpha: I'm setting it at .05 because that is the industry standard unless we are aiming for a very stringent test"
   ]
  },
  {
   "cell_type": "code",
   "execution_count": 53,
   "metadata": {},
   "outputs": [
    {
     "name": "stdout",
     "output_type": "stream",
     "text": [
      "p-value: 8.285648549432147e-19\n",
      "We reject the null hypothesis\n"
     ]
    }
   ],
   "source": [
    "# Define data for each genre\n",
    "action_data = new_gen[new_gen['genre'] == 'Action']\n",
    "sports_data = new_gen[new_gen['genre'] == 'Sports']\n",
    "\n",
    "# Define user_score for each genre\n",
    "action = action_data['user_score'].dropna()\n",
    "sports = sports_data['user_score'].dropna()\n",
    "\n",
    "# Perform the t-test\n",
    "results_genres = st.ttest_ind(action, sports, equal_var=False)\n",
    "\n",
    "# Print the p-value and hypothesis testing result for genres\n",
    "print('p-value:', results_genres.pvalue)\n",
    "if results_genres.pvalue < alpha:\n",
    "    print(\"We reject the null hypothesis\")\n",
    "else:\n",
    "    print(\"We can't reject the null hypothesis\")"
   ]
  },
  {
   "cell_type": "markdown",
   "metadata": {},
   "source": [
    "There is a clear difference between the Action and Sports genres in their user score. "
   ]
  },
  {
   "cell_type": "markdown",
   "metadata": {
    "vscode": {
     "languageId": "raw"
    }
   },
   "source": [
    "## Conclusion ##\n",
    "\n",
    "Methods: \n",
    "In this project I used Exploratory Data Analysis to understand the video game information from 1980 to 2016. In order to beging thinking about modern trends in consumer behaviors, I chose to isolate the data from 2011 to 2016. This newer data set showed the tail end of the previous generation of video consoles and the inception of the present generation (at the time).\n",
    "\n",
    "Global Findings:\n",
    "In 2016 there was a sharp drop off of sales in the most popular consoles. The newest generation of gaming systems all saw a decrease in sales by more than 40%. This drop off needs to be explored in more depth. Sony Systems outperformed their Microsoft and Nintendo Counterparts in traditional console style systems. And Nintendo handheld systems outpeformed Sony. \n",
    "\n",
    "There was a strong trend of preference for games of the Action and Shooter genres. In fact, the Shooter variety had a substantially stronger average sales than the other genres.\n",
    "\n",
    "Regional Findings:\n",
    "When comparing the sales in North America, Europe, and Japan I found that there were strong similarities between Europe and North America in the types of games and consoles purchased. They both favor traditional console style systems. And they both lean toward games of the action and shooter genres. \n",
    "\n",
    "In Japan, however, there was a stronger preference toward handheld systems and games from the Role-Playing and Action genres. In addition to this I found that Japanese gamers tend to prefer games from the E or T ESRB rating as opposed to the M games that European and American conumers enjoy.\n",
    "\n",
    "Recommendations: \n",
    "From this data it would appear that game developers would do well to make more shooter style games and market them more heavily in Europe and North America. While in Japan they would do better to make games that are Role-Playing. Because there was such a strong preference to Japanese systems (Sony and Nintendo) in Japan, developers would do well to highlight their games on these systems in Japan where as there was a stronger preference for Sony and Microsoft sytems in both Europe and North America. "
   ]
  }
 ],
 "metadata": {
  "ExecuteTimeLog": [
   {
    "duration": 296,
    "start_time": "2024-09-25T14:01:00.488Z"
   },
   {
    "duration": 599,
    "start_time": "2024-09-25T14:01:54.692Z"
   },
   {
    "duration": 48,
    "start_time": "2024-09-25T14:02:03.053Z"
   },
   {
    "duration": 11,
    "start_time": "2024-09-25T14:16:14.748Z"
   },
   {
    "duration": 11,
    "start_time": "2024-09-25T14:22:16.682Z"
   },
   {
    "duration": 502,
    "start_time": "2024-09-25T14:32:02.041Z"
   },
   {
    "duration": 296,
    "start_time": "2024-09-25T14:32:42.361Z"
   },
   {
    "duration": 34,
    "start_time": "2024-09-25T14:32:42.660Z"
   },
   {
    "duration": 4,
    "start_time": "2024-09-25T14:32:42.695Z"
   },
   {
    "duration": 24,
    "start_time": "2024-09-25T14:32:42.701Z"
   },
   {
    "duration": 664,
    "start_time": "2024-09-25T14:32:42.727Z"
   },
   {
    "duration": 153,
    "start_time": "2024-09-25T14:35:42.476Z"
   },
   {
    "duration": 35,
    "start_time": "2024-09-25T14:38:30.550Z"
   },
   {
    "duration": 33,
    "start_time": "2024-09-25T14:38:58.419Z"
   },
   {
    "duration": 33,
    "start_time": "2024-09-25T14:39:03.644Z"
   },
   {
    "duration": 29,
    "start_time": "2024-09-25T14:40:52.847Z"
   },
   {
    "duration": 30,
    "start_time": "2024-09-25T14:40:59.648Z"
   },
   {
    "duration": 406,
    "start_time": "2024-09-25T14:41:45.887Z"
   },
   {
    "duration": 37,
    "start_time": "2024-09-25T14:42:40.513Z"
   },
   {
    "duration": 37,
    "start_time": "2024-09-25T14:42:50.886Z"
   },
   {
    "duration": 41,
    "start_time": "2024-09-25T14:43:09.754Z"
   },
   {
    "duration": 288,
    "start_time": "2024-09-25T14:43:22.271Z"
   },
   {
    "duration": 33,
    "start_time": "2024-09-25T14:43:22.561Z"
   },
   {
    "duration": 3,
    "start_time": "2024-09-25T14:43:22.596Z"
   },
   {
    "duration": 24,
    "start_time": "2024-09-25T14:43:22.601Z"
   },
   {
    "duration": 271,
    "start_time": "2024-09-25T14:43:22.627Z"
   },
   {
    "duration": 6,
    "start_time": "2024-09-25T14:44:42.622Z"
   },
   {
    "duration": 6,
    "start_time": "2024-09-25T14:44:58.817Z"
   },
   {
    "duration": 7,
    "start_time": "2024-09-25T14:45:04.334Z"
   },
   {
    "duration": 18,
    "start_time": "2024-09-25T14:46:26.460Z"
   },
   {
    "duration": 157,
    "start_time": "2024-09-25T22:39:04.459Z"
   },
   {
    "duration": 315,
    "start_time": "2024-09-25T22:39:11.374Z"
   },
   {
    "duration": 53,
    "start_time": "2024-09-25T22:39:11.691Z"
   },
   {
    "duration": 4,
    "start_time": "2024-09-25T22:39:11.746Z"
   },
   {
    "duration": 11,
    "start_time": "2024-09-25T22:39:11.752Z"
   },
   {
    "duration": 7,
    "start_time": "2024-09-25T22:39:11.765Z"
   },
   {
    "duration": 18,
    "start_time": "2024-09-25T22:39:11.774Z"
   },
   {
    "duration": 3,
    "start_time": "2024-09-25T22:39:11.794Z"
   },
   {
    "duration": 5,
    "start_time": "2024-09-25T22:40:48.270Z"
   },
   {
    "duration": 13,
    "start_time": "2024-09-25T22:41:21.684Z"
   },
   {
    "duration": 13,
    "start_time": "2024-09-25T22:42:48.999Z"
   },
   {
    "duration": 5,
    "start_time": "2024-09-25T22:57:21.029Z"
   },
   {
    "duration": 4,
    "start_time": "2024-09-25T23:03:12.823Z"
   },
   {
    "duration": 272,
    "start_time": "2024-09-25T23:03:21.798Z"
   },
   {
    "duration": 19,
    "start_time": "2024-09-25T23:03:44.684Z"
   },
   {
    "duration": 313,
    "start_time": "2024-09-25T23:03:55.090Z"
   },
   {
    "duration": 35,
    "start_time": "2024-09-25T23:03:55.405Z"
   },
   {
    "duration": 4,
    "start_time": "2024-09-25T23:03:55.442Z"
   },
   {
    "duration": 31,
    "start_time": "2024-09-25T23:03:55.448Z"
   },
   {
    "duration": 6,
    "start_time": "2024-09-25T23:03:55.480Z"
   },
   {
    "duration": 18,
    "start_time": "2024-09-25T23:03:55.488Z"
   },
   {
    "duration": 17,
    "start_time": "2024-09-25T23:03:55.507Z"
   },
   {
    "duration": 679,
    "start_time": "2024-09-25T23:04:11.078Z"
   },
   {
    "duration": 12,
    "start_time": "2024-09-25T23:10:25.413Z"
   },
   {
    "duration": 118,
    "start_time": "2024-09-25T23:10:49.309Z"
   },
   {
    "duration": 300,
    "start_time": "2024-09-25T23:11:19.272Z"
   },
   {
    "duration": 35,
    "start_time": "2024-09-25T23:11:19.574Z"
   },
   {
    "duration": 4,
    "start_time": "2024-09-25T23:11:19.611Z"
   },
   {
    "duration": 11,
    "start_time": "2024-09-25T23:11:19.617Z"
   },
   {
    "duration": 6,
    "start_time": "2024-09-25T23:11:19.629Z"
   },
   {
    "duration": 45,
    "start_time": "2024-09-25T23:11:19.637Z"
   },
   {
    "duration": 12,
    "start_time": "2024-09-25T23:11:19.684Z"
   },
   {
    "duration": 491,
    "start_time": "2024-09-25T23:11:25.391Z"
   },
   {
    "duration": 30,
    "start_time": "2024-09-25T23:11:53.019Z"
   },
   {
    "duration": 305,
    "start_time": "2024-09-25T23:11:58.204Z"
   },
   {
    "duration": 36,
    "start_time": "2024-09-25T23:11:58.511Z"
   },
   {
    "duration": 4,
    "start_time": "2024-09-25T23:11:58.548Z"
   },
   {
    "duration": 23,
    "start_time": "2024-09-25T23:11:58.554Z"
   },
   {
    "duration": 7,
    "start_time": "2024-09-25T23:11:58.579Z"
   },
   {
    "duration": 17,
    "start_time": "2024-09-25T23:11:58.588Z"
   },
   {
    "duration": 9,
    "start_time": "2024-09-25T23:11:58.606Z"
   },
   {
    "duration": 8,
    "start_time": "2024-09-25T23:12:06.588Z"
   },
   {
    "duration": 474,
    "start_time": "2024-09-25T23:12:18.401Z"
   },
   {
    "duration": 272,
    "start_time": "2024-09-25T23:12:23.954Z"
   },
   {
    "duration": 36,
    "start_time": "2024-09-25T23:12:24.228Z"
   },
   {
    "duration": 4,
    "start_time": "2024-09-25T23:12:24.270Z"
   },
   {
    "duration": 10,
    "start_time": "2024-09-25T23:12:24.276Z"
   },
   {
    "duration": 6,
    "start_time": "2024-09-25T23:12:24.289Z"
   },
   {
    "duration": 17,
    "start_time": "2024-09-25T23:12:24.296Z"
   },
   {
    "duration": 17,
    "start_time": "2024-09-25T23:12:24.314Z"
   },
   {
    "duration": 41,
    "start_time": "2024-09-25T23:12:24.333Z"
   },
   {
    "duration": 302,
    "start_time": "2024-09-25T23:13:02.072Z"
   },
   {
    "duration": 38,
    "start_time": "2024-09-25T23:13:02.376Z"
   },
   {
    "duration": 5,
    "start_time": "2024-09-25T23:13:02.417Z"
   },
   {
    "duration": 11,
    "start_time": "2024-09-25T23:13:02.423Z"
   },
   {
    "duration": 6,
    "start_time": "2024-09-25T23:13:02.436Z"
   },
   {
    "duration": 38,
    "start_time": "2024-09-25T23:13:02.445Z"
   },
   {
    "duration": 2,
    "start_time": "2024-09-25T23:13:02.484Z"
   },
   {
    "duration": 271,
    "start_time": "2024-09-25T23:13:02.488Z"
   },
   {
    "duration": 8,
    "start_time": "2024-09-25T23:13:17.038Z"
   },
   {
    "duration": 9,
    "start_time": "2024-09-25T23:13:19.114Z"
   },
   {
    "duration": 6,
    "start_time": "2024-09-25T23:15:26.580Z"
   },
   {
    "duration": 3,
    "start_time": "2024-09-25T23:16:12.452Z"
   },
   {
    "duration": 9,
    "start_time": "2024-09-25T23:16:17.862Z"
   },
   {
    "duration": 4,
    "start_time": "2024-09-25T23:17:05.116Z"
   },
   {
    "duration": 7,
    "start_time": "2024-09-25T23:17:30.948Z"
   },
   {
    "duration": 7,
    "start_time": "2024-09-25T23:21:59.679Z"
   },
   {
    "duration": 386,
    "start_time": "2024-09-25T23:27:08.965Z"
   },
   {
    "duration": 4,
    "start_time": "2024-09-25T23:27:26.320Z"
   },
   {
    "duration": 4,
    "start_time": "2024-09-25T23:28:24.765Z"
   },
   {
    "duration": 8,
    "start_time": "2024-09-25T23:28:35.091Z"
   },
   {
    "duration": 5,
    "start_time": "2024-09-25T23:29:03.196Z"
   },
   {
    "duration": 4,
    "start_time": "2024-09-25T23:29:12.175Z"
   },
   {
    "duration": 8,
    "start_time": "2024-09-25T23:29:18.079Z"
   },
   {
    "duration": 14,
    "start_time": "2024-09-25T23:32:09.021Z"
   },
   {
    "duration": 4,
    "start_time": "2024-09-25T23:32:16.355Z"
   },
   {
    "duration": 12,
    "start_time": "2024-09-25T23:32:28.931Z"
   },
   {
    "duration": 7,
    "start_time": "2024-09-25T23:34:59.398Z"
   },
   {
    "duration": 11,
    "start_time": "2024-09-25T23:35:10.898Z"
   },
   {
    "duration": 11,
    "start_time": "2024-09-25T23:35:24.492Z"
   },
   {
    "duration": 12,
    "start_time": "2024-09-25T23:35:29.231Z"
   },
   {
    "duration": 11,
    "start_time": "2024-09-25T23:36:22.440Z"
   },
   {
    "duration": 318,
    "start_time": "2024-09-25T23:36:27.089Z"
   },
   {
    "duration": 34,
    "start_time": "2024-09-25T23:36:27.410Z"
   },
   {
    "duration": 5,
    "start_time": "2024-09-25T23:36:27.446Z"
   },
   {
    "duration": 20,
    "start_time": "2024-09-25T23:36:27.453Z"
   },
   {
    "duration": 6,
    "start_time": "2024-09-25T23:36:27.475Z"
   },
   {
    "duration": 18,
    "start_time": "2024-09-25T23:36:27.483Z"
   },
   {
    "duration": 8,
    "start_time": "2024-09-25T23:36:27.502Z"
   },
   {
    "duration": 8,
    "start_time": "2024-09-25T23:36:27.511Z"
   },
   {
    "duration": 4,
    "start_time": "2024-09-25T23:36:27.520Z"
   },
   {
    "duration": 4,
    "start_time": "2024-09-25T23:36:27.526Z"
   },
   {
    "duration": 49,
    "start_time": "2024-09-25T23:36:27.531Z"
   },
   {
    "duration": 11,
    "start_time": "2024-09-25T23:36:32.078Z"
   },
   {
    "duration": 272,
    "start_time": "2024-09-25T23:36:40.247Z"
   },
   {
    "duration": 37,
    "start_time": "2024-09-25T23:36:40.521Z"
   },
   {
    "duration": 11,
    "start_time": "2024-09-25T23:36:40.559Z"
   },
   {
    "duration": 11,
    "start_time": "2024-09-25T23:36:40.571Z"
   },
   {
    "duration": 6,
    "start_time": "2024-09-25T23:36:40.584Z"
   },
   {
    "duration": 18,
    "start_time": "2024-09-25T23:36:40.592Z"
   },
   {
    "duration": 8,
    "start_time": "2024-09-25T23:36:40.611Z"
   },
   {
    "duration": 8,
    "start_time": "2024-09-25T23:36:40.620Z"
   },
   {
    "duration": 4,
    "start_time": "2024-09-25T23:36:40.630Z"
   },
   {
    "duration": 4,
    "start_time": "2024-09-25T23:36:40.669Z"
   },
   {
    "duration": 11,
    "start_time": "2024-09-25T23:36:40.675Z"
   },
   {
    "duration": 8,
    "start_time": "2024-09-26T00:03:08.677Z"
   },
   {
    "duration": 5,
    "start_time": "2024-09-26T00:03:22.283Z"
   },
   {
    "duration": 3,
    "start_time": "2024-09-26T00:03:34.111Z"
   },
   {
    "duration": 15,
    "start_time": "2024-09-26T00:05:46.315Z"
   },
   {
    "duration": 314,
    "start_time": "2024-09-26T00:05:51.504Z"
   },
   {
    "duration": 35,
    "start_time": "2024-09-26T00:05:51.820Z"
   },
   {
    "duration": 4,
    "start_time": "2024-09-26T00:05:51.857Z"
   },
   {
    "duration": 11,
    "start_time": "2024-09-26T00:05:51.870Z"
   },
   {
    "duration": 6,
    "start_time": "2024-09-26T00:05:51.884Z"
   },
   {
    "duration": 18,
    "start_time": "2024-09-26T00:05:51.893Z"
   },
   {
    "duration": 7,
    "start_time": "2024-09-26T00:05:51.912Z"
   },
   {
    "duration": 8,
    "start_time": "2024-09-26T00:05:51.921Z"
   },
   {
    "duration": 4,
    "start_time": "2024-09-26T00:05:51.930Z"
   },
   {
    "duration": 36,
    "start_time": "2024-09-26T00:05:51.936Z"
   },
   {
    "duration": 12,
    "start_time": "2024-09-26T00:05:51.973Z"
   },
   {
    "duration": 7,
    "start_time": "2024-09-26T00:05:51.986Z"
   },
   {
    "duration": 12,
    "start_time": "2024-09-26T00:06:03.048Z"
   },
   {
    "duration": 3,
    "start_time": "2024-09-26T00:06:09.629Z"
   },
   {
    "duration": 12,
    "start_time": "2024-09-26T00:06:12.347Z"
   },
   {
    "duration": 12,
    "start_time": "2024-09-26T00:07:41.397Z"
   },
   {
    "duration": 16,
    "start_time": "2024-09-26T00:07:45.951Z"
   },
   {
    "duration": 299,
    "start_time": "2024-09-26T00:07:53.767Z"
   },
   {
    "duration": 35,
    "start_time": "2024-09-26T00:07:54.067Z"
   },
   {
    "duration": 4,
    "start_time": "2024-09-26T00:07:54.103Z"
   },
   {
    "duration": 12,
    "start_time": "2024-09-26T00:07:54.109Z"
   },
   {
    "duration": 6,
    "start_time": "2024-09-26T00:07:54.123Z"
   },
   {
    "duration": 42,
    "start_time": "2024-09-26T00:07:54.131Z"
   },
   {
    "duration": 8,
    "start_time": "2024-09-26T00:07:54.175Z"
   },
   {
    "duration": 8,
    "start_time": "2024-09-26T00:07:54.184Z"
   },
   {
    "duration": 4,
    "start_time": "2024-09-26T00:07:54.194Z"
   },
   {
    "duration": 4,
    "start_time": "2024-09-26T00:07:54.201Z"
   },
   {
    "duration": 13,
    "start_time": "2024-09-26T00:07:54.207Z"
   },
   {
    "duration": 6,
    "start_time": "2024-09-26T00:07:54.221Z"
   },
   {
    "duration": 2052,
    "start_time": "2024-09-26T00:09:39.880Z"
   },
   {
    "duration": 8513,
    "start_time": "2024-09-26T00:09:56.978Z"
   },
   {
    "duration": 305,
    "start_time": "2024-09-26T00:10:19.871Z"
   },
   {
    "duration": 36,
    "start_time": "2024-09-26T00:10:20.178Z"
   },
   {
    "duration": 4,
    "start_time": "2024-09-26T00:10:20.216Z"
   },
   {
    "duration": 11,
    "start_time": "2024-09-26T00:10:20.223Z"
   },
   {
    "duration": 7,
    "start_time": "2024-09-26T00:10:20.235Z"
   },
   {
    "duration": 41,
    "start_time": "2024-09-26T00:10:20.244Z"
   },
   {
    "duration": 7,
    "start_time": "2024-09-26T00:10:20.287Z"
   },
   {
    "duration": 8,
    "start_time": "2024-09-26T00:10:20.296Z"
   },
   {
    "duration": 4,
    "start_time": "2024-09-26T00:10:20.305Z"
   },
   {
    "duration": 3,
    "start_time": "2024-09-26T00:10:20.312Z"
   },
   {
    "duration": 8129,
    "start_time": "2024-09-26T00:10:20.317Z"
   },
   {
    "duration": 7,
    "start_time": "2024-09-26T00:10:28.447Z"
   },
   {
    "duration": 19,
    "start_time": "2024-09-26T00:10:46.958Z"
   },
   {
    "duration": 306,
    "start_time": "2024-09-26T00:10:51.543Z"
   },
   {
    "duration": 34,
    "start_time": "2024-09-26T00:10:51.851Z"
   },
   {
    "duration": 4,
    "start_time": "2024-09-26T00:10:51.887Z"
   },
   {
    "duration": 11,
    "start_time": "2024-09-26T00:10:51.893Z"
   },
   {
    "duration": 6,
    "start_time": "2024-09-26T00:10:51.906Z"
   },
   {
    "duration": 18,
    "start_time": "2024-09-26T00:10:51.914Z"
   },
   {
    "duration": 37,
    "start_time": "2024-09-26T00:10:51.934Z"
   },
   {
    "duration": 8,
    "start_time": "2024-09-26T00:10:51.973Z"
   },
   {
    "duration": 4,
    "start_time": "2024-09-26T00:10:51.982Z"
   },
   {
    "duration": 4,
    "start_time": "2024-09-26T00:10:51.989Z"
   },
   {
    "duration": 12,
    "start_time": "2024-09-26T00:10:51.994Z"
   },
   {
    "duration": 5,
    "start_time": "2024-09-26T00:10:52.007Z"
   },
   {
    "duration": 13,
    "start_time": "2024-09-26T00:15:13.646Z"
   },
   {
    "duration": 272,
    "start_time": "2024-09-26T00:26:08.847Z"
   },
   {
    "duration": 36,
    "start_time": "2024-09-26T00:26:09.121Z"
   },
   {
    "duration": 4,
    "start_time": "2024-09-26T00:26:09.158Z"
   },
   {
    "duration": 11,
    "start_time": "2024-09-26T00:26:09.171Z"
   },
   {
    "duration": 6,
    "start_time": "2024-09-26T00:26:09.186Z"
   },
   {
    "duration": 3,
    "start_time": "2024-09-26T00:26:09.193Z"
   },
   {
    "duration": 18,
    "start_time": "2024-09-26T00:26:09.198Z"
   },
   {
    "duration": 8,
    "start_time": "2024-09-26T00:26:09.218Z"
   },
   {
    "duration": 8,
    "start_time": "2024-09-26T00:26:09.227Z"
   },
   {
    "duration": 35,
    "start_time": "2024-09-26T00:26:09.237Z"
   },
   {
    "duration": 4,
    "start_time": "2024-09-26T00:26:09.274Z"
   },
   {
    "duration": 11,
    "start_time": "2024-09-26T00:26:09.279Z"
   },
   {
    "duration": 4,
    "start_time": "2024-09-26T00:26:09.292Z"
   },
   {
    "duration": 11,
    "start_time": "2024-09-26T00:26:09.299Z"
   },
   {
    "duration": 13,
    "start_time": "2024-09-26T00:47:53.901Z"
   },
   {
    "duration": 7,
    "start_time": "2024-09-26T01:54:48.463Z"
   },
   {
    "duration": 155,
    "start_time": "2024-09-26T01:55:18.982Z"
   },
   {
    "duration": 307,
    "start_time": "2024-09-26T01:55:58.760Z"
   },
   {
    "duration": 52,
    "start_time": "2024-09-26T01:55:59.069Z"
   },
   {
    "duration": 4,
    "start_time": "2024-09-26T01:55:59.123Z"
   },
   {
    "duration": 11,
    "start_time": "2024-09-26T01:55:59.129Z"
   },
   {
    "duration": 6,
    "start_time": "2024-09-26T01:55:59.141Z"
   },
   {
    "duration": 3,
    "start_time": "2024-09-26T01:55:59.149Z"
   },
   {
    "duration": 20,
    "start_time": "2024-09-26T01:55:59.153Z"
   },
   {
    "duration": 35,
    "start_time": "2024-09-26T01:55:59.174Z"
   },
   {
    "duration": 8,
    "start_time": "2024-09-26T01:55:59.211Z"
   },
   {
    "duration": 4,
    "start_time": "2024-09-26T01:55:59.222Z"
   },
   {
    "duration": 3,
    "start_time": "2024-09-26T01:55:59.228Z"
   },
   {
    "duration": 12,
    "start_time": "2024-09-26T01:55:59.234Z"
   },
   {
    "duration": 6,
    "start_time": "2024-09-26T01:55:59.247Z"
   },
   {
    "duration": 12,
    "start_time": "2024-09-26T01:55:59.254Z"
   },
   {
    "duration": 51,
    "start_time": "2024-09-26T01:55:59.268Z"
   },
   {
    "duration": 12,
    "start_time": "2024-09-26T01:56:14.552Z"
   },
   {
    "duration": 16,
    "start_time": "2024-09-26T01:56:25.737Z"
   },
   {
    "duration": 13,
    "start_time": "2024-09-26T01:57:50.689Z"
   },
   {
    "duration": 15,
    "start_time": "2024-09-26T01:58:50.025Z"
   },
   {
    "duration": 14,
    "start_time": "2024-09-26T01:58:54.194Z"
   },
   {
    "duration": 15,
    "start_time": "2024-09-26T01:58:57.686Z"
   },
   {
    "duration": 284,
    "start_time": "2024-09-26T02:00:23.069Z"
   },
   {
    "duration": 39,
    "start_time": "2024-09-26T02:00:23.355Z"
   },
   {
    "duration": 15,
    "start_time": "2024-09-26T02:00:23.395Z"
   },
   {
    "duration": 10,
    "start_time": "2024-09-26T02:00:23.412Z"
   },
   {
    "duration": 6,
    "start_time": "2024-09-26T02:00:23.424Z"
   },
   {
    "duration": 4,
    "start_time": "2024-09-26T02:00:23.431Z"
   },
   {
    "duration": 18,
    "start_time": "2024-09-26T02:00:23.437Z"
   },
   {
    "duration": 7,
    "start_time": "2024-09-26T02:00:23.456Z"
   },
   {
    "duration": 7,
    "start_time": "2024-09-26T02:00:23.465Z"
   },
   {
    "duration": 4,
    "start_time": "2024-09-26T02:00:23.508Z"
   },
   {
    "duration": 3,
    "start_time": "2024-09-26T02:00:23.514Z"
   },
   {
    "duration": 10,
    "start_time": "2024-09-26T02:00:23.519Z"
   },
   {
    "duration": 5,
    "start_time": "2024-09-26T02:00:23.531Z"
   },
   {
    "duration": 12,
    "start_time": "2024-09-26T02:00:23.538Z"
   },
   {
    "duration": 8,
    "start_time": "2024-09-26T02:00:23.551Z"
   },
   {
    "duration": 303,
    "start_time": "2024-09-26T18:13:03.481Z"
   },
   {
    "duration": 52,
    "start_time": "2024-09-26T18:13:03.787Z"
   },
   {
    "duration": 4,
    "start_time": "2024-09-26T18:13:03.840Z"
   },
   {
    "duration": 12,
    "start_time": "2024-09-26T18:13:03.846Z"
   },
   {
    "duration": 8,
    "start_time": "2024-09-26T18:13:03.860Z"
   },
   {
    "duration": 4,
    "start_time": "2024-09-26T18:13:03.870Z"
   },
   {
    "duration": 17,
    "start_time": "2024-09-26T18:13:03.876Z"
   },
   {
    "duration": 32,
    "start_time": "2024-09-26T18:13:03.895Z"
   },
   {
    "duration": 8,
    "start_time": "2024-09-26T18:13:03.928Z"
   },
   {
    "duration": 4,
    "start_time": "2024-09-26T18:13:03.938Z"
   },
   {
    "duration": 4,
    "start_time": "2024-09-26T18:13:03.943Z"
   },
   {
    "duration": 10,
    "start_time": "2024-09-26T18:13:03.949Z"
   },
   {
    "duration": 5,
    "start_time": "2024-09-26T18:13:03.961Z"
   },
   {
    "duration": 12,
    "start_time": "2024-09-26T18:13:03.967Z"
   },
   {
    "duration": 8,
    "start_time": "2024-09-26T18:13:03.980Z"
   },
   {
    "duration": 12,
    "start_time": "2024-09-26T18:13:31.032Z"
   },
   {
    "duration": 11,
    "start_time": "2024-09-26T18:13:45.025Z"
   },
   {
    "duration": 12,
    "start_time": "2024-09-26T18:13:59.046Z"
   },
   {
    "duration": 12,
    "start_time": "2024-09-26T18:14:10.679Z"
   },
   {
    "duration": 4,
    "start_time": "2024-09-26T18:31:12.898Z"
   },
   {
    "duration": 161,
    "start_time": "2024-09-27T16:56:13.369Z"
   },
   {
    "duration": 296,
    "start_time": "2024-09-27T16:56:19.219Z"
   },
   {
    "duration": 53,
    "start_time": "2024-09-27T16:56:19.517Z"
   },
   {
    "duration": 4,
    "start_time": "2024-09-27T16:56:19.572Z"
   },
   {
    "duration": 11,
    "start_time": "2024-09-27T16:56:19.577Z"
   },
   {
    "duration": 6,
    "start_time": "2024-09-27T16:56:19.590Z"
   },
   {
    "duration": 4,
    "start_time": "2024-09-27T16:56:19.597Z"
   },
   {
    "duration": 18,
    "start_time": "2024-09-27T16:56:19.602Z"
   },
   {
    "duration": 7,
    "start_time": "2024-09-27T16:56:19.621Z"
   },
   {
    "duration": 42,
    "start_time": "2024-09-27T16:56:19.630Z"
   },
   {
    "duration": 4,
    "start_time": "2024-09-27T16:56:19.673Z"
   },
   {
    "duration": 3,
    "start_time": "2024-09-27T16:56:19.679Z"
   },
   {
    "duration": 12,
    "start_time": "2024-09-27T16:56:19.684Z"
   },
   {
    "duration": 5,
    "start_time": "2024-09-27T16:56:19.697Z"
   },
   {
    "duration": 12,
    "start_time": "2024-09-27T16:56:19.705Z"
   },
   {
    "duration": 8,
    "start_time": "2024-09-27T16:56:19.718Z"
   },
   {
    "duration": 48,
    "start_time": "2024-09-27T16:56:19.727Z"
   },
   {
    "duration": 10,
    "start_time": "2024-09-27T16:56:19.777Z"
   },
   {
    "duration": 10,
    "start_time": "2024-09-27T16:56:19.789Z"
   },
   {
    "duration": 10,
    "start_time": "2024-09-27T16:56:19.801Z"
   },
   {
    "duration": 4,
    "start_time": "2024-09-27T16:56:19.813Z"
   },
   {
    "duration": 210,
    "start_time": "2024-09-27T16:56:19.818Z"
   },
   {
    "duration": 13,
    "start_time": "2024-09-27T16:59:17.078Z"
   },
   {
    "duration": 14,
    "start_time": "2024-09-27T17:00:08.852Z"
   },
   {
    "duration": 20,
    "start_time": "2024-09-27T17:01:52.005Z"
   },
   {
    "duration": 13,
    "start_time": "2024-09-27T17:02:05.624Z"
   },
   {
    "duration": 3,
    "start_time": "2024-09-27T17:02:51.089Z"
   },
   {
    "duration": 12,
    "start_time": "2024-09-27T17:03:00.309Z"
   },
   {
    "duration": 3,
    "start_time": "2024-09-27T17:03:10.338Z"
   },
   {
    "duration": 12,
    "start_time": "2024-09-27T17:03:17.712Z"
   },
   {
    "duration": 11,
    "start_time": "2024-09-27T17:05:14.045Z"
   },
   {
    "duration": 4,
    "start_time": "2024-09-27T17:05:32.676Z"
   },
   {
    "duration": 5,
    "start_time": "2024-09-27T17:05:44.790Z"
   },
   {
    "duration": 12,
    "start_time": "2024-09-27T17:06:28.816Z"
   },
   {
    "duration": 14,
    "start_time": "2024-09-27T17:06:49.187Z"
   },
   {
    "duration": 13,
    "start_time": "2024-09-27T17:06:58.283Z"
   },
   {
    "duration": 13,
    "start_time": "2024-09-27T17:07:05.363Z"
   },
   {
    "duration": 5,
    "start_time": "2024-09-27T17:07:51.640Z"
   },
   {
    "duration": 19,
    "start_time": "2024-09-27T17:08:43.448Z"
   },
   {
    "duration": 6,
    "start_time": "2024-09-27T17:08:51.440Z"
   },
   {
    "duration": 316,
    "start_time": "2024-09-27T17:08:56.499Z"
   },
   {
    "duration": 35,
    "start_time": "2024-09-27T17:08:56.817Z"
   },
   {
    "duration": 4,
    "start_time": "2024-09-27T17:08:56.853Z"
   },
   {
    "duration": 22,
    "start_time": "2024-09-27T17:08:56.858Z"
   },
   {
    "duration": 6,
    "start_time": "2024-09-27T17:08:56.883Z"
   },
   {
    "duration": 3,
    "start_time": "2024-09-27T17:08:56.891Z"
   },
   {
    "duration": 296,
    "start_time": "2024-09-27T17:08:56.896Z"
   },
   {
    "duration": 0,
    "start_time": "2024-09-27T17:08:57.194Z"
   },
   {
    "duration": 1,
    "start_time": "2024-09-27T17:08:57.195Z"
   },
   {
    "duration": 0,
    "start_time": "2024-09-27T17:08:57.196Z"
   },
   {
    "duration": 0,
    "start_time": "2024-09-27T17:08:57.197Z"
   },
   {
    "duration": 0,
    "start_time": "2024-09-27T17:08:57.200Z"
   },
   {
    "duration": 0,
    "start_time": "2024-09-27T17:08:57.201Z"
   },
   {
    "duration": 0,
    "start_time": "2024-09-27T17:08:57.202Z"
   },
   {
    "duration": 0,
    "start_time": "2024-09-27T17:08:57.203Z"
   },
   {
    "duration": 0,
    "start_time": "2024-09-27T17:08:57.204Z"
   },
   {
    "duration": 0,
    "start_time": "2024-09-27T17:08:57.205Z"
   },
   {
    "duration": 0,
    "start_time": "2024-09-27T17:08:57.207Z"
   },
   {
    "duration": 0,
    "start_time": "2024-09-27T17:08:57.208Z"
   },
   {
    "duration": 0,
    "start_time": "2024-09-27T17:08:57.209Z"
   },
   {
    "duration": 0,
    "start_time": "2024-09-27T17:08:57.210Z"
   },
   {
    "duration": 14,
    "start_time": "2024-09-27T17:09:44.775Z"
   },
   {
    "duration": 11,
    "start_time": "2024-09-27T17:12:46.575Z"
   },
   {
    "duration": 272,
    "start_time": "2024-09-27T17:12:57.940Z"
   },
   {
    "duration": 35,
    "start_time": "2024-09-27T17:12:58.214Z"
   },
   {
    "duration": 3,
    "start_time": "2024-09-27T17:12:58.251Z"
   },
   {
    "duration": 22,
    "start_time": "2024-09-27T17:12:58.257Z"
   },
   {
    "duration": 6,
    "start_time": "2024-09-27T17:12:58.280Z"
   },
   {
    "duration": 3,
    "start_time": "2024-09-27T17:12:58.288Z"
   },
   {
    "duration": 14,
    "start_time": "2024-09-27T17:12:58.292Z"
   },
   {
    "duration": 7,
    "start_time": "2024-09-27T17:12:58.308Z"
   },
   {
    "duration": 7,
    "start_time": "2024-09-27T17:12:58.317Z"
   },
   {
    "duration": 4,
    "start_time": "2024-09-27T17:12:58.327Z"
   },
   {
    "duration": 38,
    "start_time": "2024-09-27T17:12:58.333Z"
   },
   {
    "duration": 11,
    "start_time": "2024-09-27T17:12:58.372Z"
   },
   {
    "duration": 6,
    "start_time": "2024-09-27T17:12:58.385Z"
   },
   {
    "duration": 13,
    "start_time": "2024-09-27T17:12:58.392Z"
   },
   {
    "duration": 7,
    "start_time": "2024-09-27T17:12:58.408Z"
   },
   {
    "duration": 12,
    "start_time": "2024-09-27T17:12:58.416Z"
   },
   {
    "duration": 42,
    "start_time": "2024-09-27T17:12:58.429Z"
   },
   {
    "duration": 11,
    "start_time": "2024-09-27T17:12:58.472Z"
   },
   {
    "duration": 11,
    "start_time": "2024-09-27T17:12:58.484Z"
   },
   {
    "duration": 5,
    "start_time": "2024-09-27T17:12:58.497Z"
   },
   {
    "duration": 6,
    "start_time": "2024-09-27T17:12:58.504Z"
   },
   {
    "duration": 176,
    "start_time": "2024-09-27T17:13:19.010Z"
   },
   {
    "duration": 13,
    "start_time": "2024-09-27T17:13:32.421Z"
   },
   {
    "duration": 12,
    "start_time": "2024-09-27T17:13:57.894Z"
   },
   {
    "duration": 13,
    "start_time": "2024-09-27T17:14:05.500Z"
   },
   {
    "duration": 8,
    "start_time": "2024-09-27T17:14:38.058Z"
   },
   {
    "duration": 15,
    "start_time": "2024-09-27T17:19:11.165Z"
   },
   {
    "duration": 6,
    "start_time": "2024-09-27T17:19:34.404Z"
   },
   {
    "duration": 16,
    "start_time": "2024-09-27T17:19:49.766Z"
   },
   {
    "duration": 14,
    "start_time": "2024-09-27T17:20:04.923Z"
   },
   {
    "duration": 6,
    "start_time": "2024-09-27T17:20:18.542Z"
   },
   {
    "duration": 284,
    "start_time": "2024-09-28T20:21:40.065Z"
   },
   {
    "duration": 45,
    "start_time": "2024-09-28T20:21:40.351Z"
   },
   {
    "duration": 4,
    "start_time": "2024-09-28T20:21:40.398Z"
   },
   {
    "duration": 10,
    "start_time": "2024-09-28T20:21:40.404Z"
   },
   {
    "duration": 7,
    "start_time": "2024-09-28T20:21:40.417Z"
   },
   {
    "duration": 4,
    "start_time": "2024-09-28T20:21:40.425Z"
   },
   {
    "duration": 10,
    "start_time": "2024-09-28T20:21:40.430Z"
   },
   {
    "duration": 7,
    "start_time": "2024-09-28T20:21:40.443Z"
   },
   {
    "duration": 8,
    "start_time": "2024-09-28T20:21:40.451Z"
   },
   {
    "duration": 4,
    "start_time": "2024-09-28T20:21:40.461Z"
   },
   {
    "duration": 39,
    "start_time": "2024-09-28T20:21:40.466Z"
   },
   {
    "duration": 12,
    "start_time": "2024-09-28T20:21:40.507Z"
   },
   {
    "duration": 6,
    "start_time": "2024-09-28T20:21:40.520Z"
   },
   {
    "duration": 13,
    "start_time": "2024-09-28T20:21:40.529Z"
   },
   {
    "duration": 8,
    "start_time": "2024-09-28T20:21:40.543Z"
   },
   {
    "duration": 11,
    "start_time": "2024-09-28T20:21:40.552Z"
   },
   {
    "duration": 48,
    "start_time": "2024-09-28T20:21:40.564Z"
   },
   {
    "duration": 12,
    "start_time": "2024-09-28T20:21:40.614Z"
   },
   {
    "duration": 11,
    "start_time": "2024-09-28T20:21:40.628Z"
   },
   {
    "duration": 5,
    "start_time": "2024-09-28T20:21:40.640Z"
   },
   {
    "duration": 7,
    "start_time": "2024-09-28T20:21:40.646Z"
   },
   {
    "duration": 112,
    "start_time": "2024-09-28T20:22:25.655Z"
   },
   {
    "duration": 8,
    "start_time": "2024-09-28T20:23:00.237Z"
   },
   {
    "duration": 3,
    "start_time": "2024-09-28T20:24:31.055Z"
   },
   {
    "duration": 6,
    "start_time": "2024-09-28T20:24:52.413Z"
   },
   {
    "duration": 196,
    "start_time": "2024-09-28T20:32:45.449Z"
   },
   {
    "duration": 13,
    "start_time": "2024-09-28T20:33:36.114Z"
   },
   {
    "duration": 5,
    "start_time": "2024-09-28T20:33:45.698Z"
   },
   {
    "duration": 5,
    "start_time": "2024-09-28T20:34:07.450Z"
   },
   {
    "duration": 21,
    "start_time": "2024-09-28T20:34:36.303Z"
   },
   {
    "duration": 14,
    "start_time": "2024-09-28T20:34:48.507Z"
   },
   {
    "duration": 16,
    "start_time": "2024-09-28T20:34:54.279Z"
   },
   {
    "duration": 6,
    "start_time": "2024-09-28T20:35:09.597Z"
   },
   {
    "duration": 17,
    "start_time": "2024-09-28T20:40:33.739Z"
   },
   {
    "duration": 5,
    "start_time": "2024-09-28T20:45:16.046Z"
   },
   {
    "duration": 7,
    "start_time": "2024-09-28T21:03:29.515Z"
   },
   {
    "duration": 8,
    "start_time": "2024-09-28T21:03:44.106Z"
   },
   {
    "duration": 16,
    "start_time": "2024-09-28T21:06:14.584Z"
   },
   {
    "duration": 15,
    "start_time": "2024-09-28T21:06:21.760Z"
   },
   {
    "duration": 6,
    "start_time": "2024-09-28T21:12:17.505Z"
   },
   {
    "duration": 6,
    "start_time": "2024-09-28T21:12:45.489Z"
   },
   {
    "duration": 7,
    "start_time": "2024-09-28T21:13:02.128Z"
   },
   {
    "duration": 7,
    "start_time": "2024-09-28T21:14:02.559Z"
   },
   {
    "duration": 305,
    "start_time": "2024-09-28T21:14:10.939Z"
   },
   {
    "duration": 35,
    "start_time": "2024-09-28T21:14:11.246Z"
   },
   {
    "duration": 4,
    "start_time": "2024-09-28T21:14:11.282Z"
   },
   {
    "duration": 19,
    "start_time": "2024-09-28T21:14:11.289Z"
   },
   {
    "duration": 6,
    "start_time": "2024-09-28T21:14:11.309Z"
   },
   {
    "duration": 10,
    "start_time": "2024-09-28T21:14:11.316Z"
   },
   {
    "duration": 3,
    "start_time": "2024-09-28T21:14:11.328Z"
   },
   {
    "duration": 10,
    "start_time": "2024-09-28T21:14:11.333Z"
   },
   {
    "duration": 6,
    "start_time": "2024-09-28T21:14:11.345Z"
   },
   {
    "duration": 8,
    "start_time": "2024-09-28T21:14:11.354Z"
   },
   {
    "duration": 44,
    "start_time": "2024-09-28T21:14:11.363Z"
   },
   {
    "duration": 4,
    "start_time": "2024-09-28T21:14:11.409Z"
   },
   {
    "duration": 13,
    "start_time": "2024-09-28T21:14:11.414Z"
   },
   {
    "duration": 6,
    "start_time": "2024-09-28T21:14:11.428Z"
   },
   {
    "duration": 12,
    "start_time": "2024-09-28T21:14:11.436Z"
   },
   {
    "duration": 7,
    "start_time": "2024-09-28T21:14:11.449Z"
   },
   {
    "duration": 10,
    "start_time": "2024-09-28T21:14:11.458Z"
   },
   {
    "duration": 45,
    "start_time": "2024-09-28T21:14:11.470Z"
   },
   {
    "duration": 11,
    "start_time": "2024-09-28T21:14:11.516Z"
   },
   {
    "duration": 11,
    "start_time": "2024-09-28T21:14:11.528Z"
   },
   {
    "duration": 3,
    "start_time": "2024-09-28T21:14:11.541Z"
   },
   {
    "duration": 7,
    "start_time": "2024-09-28T21:14:11.546Z"
   },
   {
    "duration": 214,
    "start_time": "2024-09-28T21:14:11.554Z"
   },
   {
    "duration": 13,
    "start_time": "2024-09-28T21:14:30.249Z"
   },
   {
    "duration": 5,
    "start_time": "2024-09-28T21:14:45.928Z"
   },
   {
    "duration": 5,
    "start_time": "2024-09-28T21:15:11.993Z"
   },
   {
    "duration": 3,
    "start_time": "2024-09-28T21:20:20.119Z"
   },
   {
    "duration": 148,
    "start_time": "2024-09-28T21:21:02.976Z"
   },
   {
    "duration": 322,
    "start_time": "2024-09-28T21:21:16.409Z"
   },
   {
    "duration": 4,
    "start_time": "2024-09-28T21:21:26.075Z"
   },
   {
    "duration": 4,
    "start_time": "2024-09-28T21:21:42.577Z"
   },
   {
    "duration": 64,
    "start_time": "2024-09-28T21:23:28.414Z"
   },
   {
    "duration": 2,
    "start_time": "2024-09-28T21:24:18.362Z"
   },
   {
    "duration": 12,
    "start_time": "2024-09-28T21:26:45.821Z"
   },
   {
    "duration": 297,
    "start_time": "2024-09-28T21:27:19.309Z"
   },
   {
    "duration": 35,
    "start_time": "2024-09-28T21:27:19.609Z"
   },
   {
    "duration": 3,
    "start_time": "2024-09-28T21:27:19.646Z"
   },
   {
    "duration": 11,
    "start_time": "2024-09-28T21:27:19.651Z"
   },
   {
    "duration": 6,
    "start_time": "2024-09-28T21:27:19.665Z"
   },
   {
    "duration": 35,
    "start_time": "2024-09-28T21:27:19.672Z"
   },
   {
    "duration": 4,
    "start_time": "2024-09-28T21:27:19.708Z"
   },
   {
    "duration": 11,
    "start_time": "2024-09-28T21:27:19.713Z"
   },
   {
    "duration": 7,
    "start_time": "2024-09-28T21:27:19.726Z"
   },
   {
    "duration": 7,
    "start_time": "2024-09-28T21:27:19.735Z"
   },
   {
    "duration": 3,
    "start_time": "2024-09-28T21:27:19.744Z"
   },
   {
    "duration": 3,
    "start_time": "2024-09-28T21:27:19.749Z"
   },
   {
    "duration": 11,
    "start_time": "2024-09-28T21:27:19.754Z"
   },
   {
    "duration": 5,
    "start_time": "2024-09-28T21:27:19.806Z"
   },
   {
    "duration": 13,
    "start_time": "2024-09-28T21:27:19.812Z"
   },
   {
    "duration": 7,
    "start_time": "2024-09-28T21:27:19.826Z"
   },
   {
    "duration": 10,
    "start_time": "2024-09-28T21:27:19.835Z"
   },
   {
    "duration": 11,
    "start_time": "2024-09-28T21:27:19.846Z"
   },
   {
    "duration": 11,
    "start_time": "2024-09-28T21:27:19.858Z"
   },
   {
    "duration": 11,
    "start_time": "2024-09-28T21:27:19.906Z"
   },
   {
    "duration": 4,
    "start_time": "2024-09-28T21:27:19.918Z"
   },
   {
    "duration": 6,
    "start_time": "2024-09-28T21:27:19.924Z"
   },
   {
    "duration": 3,
    "start_time": "2024-09-28T21:27:19.931Z"
   },
   {
    "duration": 6,
    "start_time": "2024-09-28T21:27:19.935Z"
   },
   {
    "duration": 211,
    "start_time": "2024-09-28T21:27:19.942Z"
   },
   {
    "duration": 13,
    "start_time": "2024-09-28T21:27:27.241Z"
   },
   {
    "duration": 10,
    "start_time": "2024-09-28T21:27:48.353Z"
   },
   {
    "duration": 12,
    "start_time": "2024-09-28T21:27:58.822Z"
   },
   {
    "duration": 10,
    "start_time": "2024-09-28T21:28:48.855Z"
   },
   {
    "duration": 7,
    "start_time": "2024-09-28T21:30:26.559Z"
   },
   {
    "duration": 9,
    "start_time": "2024-09-28T21:30:48.170Z"
   },
   {
    "duration": 9,
    "start_time": "2024-09-28T21:31:08.561Z"
   },
   {
    "duration": 13,
    "start_time": "2024-09-28T21:32:35.190Z"
   },
   {
    "duration": 7,
    "start_time": "2024-09-28T21:34:09.881Z"
   },
   {
    "duration": 308,
    "start_time": "2024-09-28T21:35:16.662Z"
   },
   {
    "duration": 10,
    "start_time": "2024-09-28T21:36:15.832Z"
   },
   {
    "duration": 14,
    "start_time": "2024-09-28T21:36:23.642Z"
   },
   {
    "duration": 270,
    "start_time": "2024-09-28T21:36:52.181Z"
   },
   {
    "duration": 34,
    "start_time": "2024-09-28T21:36:52.453Z"
   },
   {
    "duration": 4,
    "start_time": "2024-09-28T21:36:52.488Z"
   },
   {
    "duration": 15,
    "start_time": "2024-09-28T21:36:52.505Z"
   },
   {
    "duration": 7,
    "start_time": "2024-09-28T21:36:52.522Z"
   },
   {
    "duration": 10,
    "start_time": "2024-09-28T21:36:52.531Z"
   },
   {
    "duration": 3,
    "start_time": "2024-09-28T21:36:52.542Z"
   },
   {
    "duration": 11,
    "start_time": "2024-09-28T21:36:52.547Z"
   },
   {
    "duration": 7,
    "start_time": "2024-09-28T21:36:52.560Z"
   },
   {
    "duration": 9,
    "start_time": "2024-09-28T21:36:52.604Z"
   },
   {
    "duration": 6,
    "start_time": "2024-09-28T21:36:52.615Z"
   },
   {
    "duration": 4,
    "start_time": "2024-09-28T21:36:52.622Z"
   },
   {
    "duration": 14,
    "start_time": "2024-09-28T21:36:52.627Z"
   },
   {
    "duration": 7,
    "start_time": "2024-09-28T21:36:52.643Z"
   },
   {
    "duration": 15,
    "start_time": "2024-09-28T21:36:52.651Z"
   },
   {
    "duration": 43,
    "start_time": "2024-09-28T21:36:52.667Z"
   },
   {
    "duration": 11,
    "start_time": "2024-09-28T21:36:52.713Z"
   },
   {
    "duration": 10,
    "start_time": "2024-09-28T21:36:52.726Z"
   },
   {
    "duration": 12,
    "start_time": "2024-09-28T21:36:52.737Z"
   },
   {
    "duration": 11,
    "start_time": "2024-09-28T21:36:52.751Z"
   },
   {
    "duration": 4,
    "start_time": "2024-09-28T21:36:52.764Z"
   },
   {
    "duration": 43,
    "start_time": "2024-09-28T21:36:52.771Z"
   },
   {
    "duration": 3,
    "start_time": "2024-09-28T21:36:52.815Z"
   },
   {
    "duration": 17,
    "start_time": "2024-09-28T21:38:02.927Z"
   },
   {
    "duration": 3,
    "start_time": "2024-09-28T21:39:07.366Z"
   },
   {
    "duration": 4,
    "start_time": "2024-09-28T21:39:22.838Z"
   },
   {
    "duration": 9,
    "start_time": "2024-09-28T21:39:36.496Z"
   },
   {
    "duration": 12,
    "start_time": "2024-09-28T21:39:47.521Z"
   },
   {
    "duration": 20,
    "start_time": "2024-09-28T21:42:17.861Z"
   },
   {
    "duration": 1860,
    "start_time": "2024-09-28T21:44:21.669Z"
   },
   {
    "duration": 9,
    "start_time": "2024-09-28T21:46:39.594Z"
   },
   {
    "duration": 10,
    "start_time": "2024-09-28T21:47:21.081Z"
   },
   {
    "duration": 141,
    "start_time": "2024-09-28T21:49:48.151Z"
   },
   {
    "duration": 322,
    "start_time": "2024-09-28T21:52:01.001Z"
   },
   {
    "duration": 434,
    "start_time": "2024-09-28T21:52:16.824Z"
   },
   {
    "duration": 73,
    "start_time": "2024-09-28T21:52:17.260Z"
   },
   {
    "duration": 3,
    "start_time": "2024-09-28T21:52:17.335Z"
   },
   {
    "duration": 11,
    "start_time": "2024-09-28T21:52:17.341Z"
   },
   {
    "duration": 7,
    "start_time": "2024-09-28T21:52:17.353Z"
   },
   {
    "duration": 10,
    "start_time": "2024-09-28T21:52:17.362Z"
   },
   {
    "duration": 32,
    "start_time": "2024-09-28T21:52:17.373Z"
   },
   {
    "duration": 268,
    "start_time": "2024-09-28T21:52:17.406Z"
   },
   {
    "duration": 0,
    "start_time": "2024-09-28T21:52:17.676Z"
   },
   {
    "duration": 0,
    "start_time": "2024-09-28T21:52:17.677Z"
   },
   {
    "duration": 0,
    "start_time": "2024-09-28T21:52:17.678Z"
   },
   {
    "duration": 0,
    "start_time": "2024-09-28T21:52:17.679Z"
   },
   {
    "duration": 0,
    "start_time": "2024-09-28T21:52:17.681Z"
   },
   {
    "duration": 0,
    "start_time": "2024-09-28T21:52:17.681Z"
   },
   {
    "duration": 0,
    "start_time": "2024-09-28T21:52:17.682Z"
   },
   {
    "duration": 0,
    "start_time": "2024-09-28T21:52:17.683Z"
   },
   {
    "duration": 0,
    "start_time": "2024-09-28T21:52:17.684Z"
   },
   {
    "duration": 0,
    "start_time": "2024-09-28T21:52:17.685Z"
   },
   {
    "duration": 0,
    "start_time": "2024-09-28T21:52:17.686Z"
   },
   {
    "duration": 0,
    "start_time": "2024-09-28T21:52:17.687Z"
   },
   {
    "duration": 0,
    "start_time": "2024-09-28T21:52:17.688Z"
   },
   {
    "duration": 0,
    "start_time": "2024-09-28T21:52:17.706Z"
   },
   {
    "duration": 0,
    "start_time": "2024-09-28T21:52:17.707Z"
   },
   {
    "duration": 12,
    "start_time": "2024-09-28T21:52:48.389Z"
   },
   {
    "duration": 19,
    "start_time": "2024-09-28T21:52:59.457Z"
   },
   {
    "duration": 511,
    "start_time": "2024-09-28T21:54:15.288Z"
   },
   {
    "duration": 48,
    "start_time": "2024-09-28T21:54:49.168Z"
   },
   {
    "duration": 18,
    "start_time": "2024-09-28T21:56:12.982Z"
   },
   {
    "duration": 436,
    "start_time": "2024-09-28T21:56:55.131Z"
   },
   {
    "duration": 65,
    "start_time": "2024-09-28T21:56:55.569Z"
   },
   {
    "duration": 4,
    "start_time": "2024-09-28T21:56:55.635Z"
   },
   {
    "duration": 10,
    "start_time": "2024-09-28T21:56:55.641Z"
   },
   {
    "duration": 6,
    "start_time": "2024-09-28T21:56:55.653Z"
   },
   {
    "duration": 10,
    "start_time": "2024-09-28T21:56:55.661Z"
   },
   {
    "duration": 4,
    "start_time": "2024-09-28T21:56:55.673Z"
   },
   {
    "duration": 19,
    "start_time": "2024-09-28T21:56:55.704Z"
   },
   {
    "duration": 7,
    "start_time": "2024-09-28T21:56:55.724Z"
   },
   {
    "duration": 7,
    "start_time": "2024-09-28T21:56:55.735Z"
   },
   {
    "duration": 5,
    "start_time": "2024-09-28T21:56:55.743Z"
   },
   {
    "duration": 4,
    "start_time": "2024-09-28T21:56:55.750Z"
   },
   {
    "duration": 12,
    "start_time": "2024-09-28T21:56:55.755Z"
   },
   {
    "duration": 6,
    "start_time": "2024-09-28T21:56:55.805Z"
   },
   {
    "duration": 13,
    "start_time": "2024-09-28T21:56:55.812Z"
   },
   {
    "duration": 8,
    "start_time": "2024-09-28T21:56:55.827Z"
   },
   {
    "duration": 10,
    "start_time": "2024-09-28T21:56:55.836Z"
   },
   {
    "duration": 10,
    "start_time": "2024-09-28T21:56:55.848Z"
   },
   {
    "duration": 10,
    "start_time": "2024-09-28T21:56:55.860Z"
   },
   {
    "duration": 44,
    "start_time": "2024-09-28T21:56:55.871Z"
   },
   {
    "duration": 4,
    "start_time": "2024-09-28T21:56:55.916Z"
   },
   {
    "duration": 16,
    "start_time": "2024-09-28T21:56:55.923Z"
   },
   {
    "duration": 166,
    "start_time": "2024-09-28T21:56:55.940Z"
   },
   {
    "duration": 429,
    "start_time": "2024-09-28T21:58:21.307Z"
   },
   {
    "duration": 68,
    "start_time": "2024-09-28T21:58:21.738Z"
   },
   {
    "duration": 3,
    "start_time": "2024-09-28T21:58:21.810Z"
   },
   {
    "duration": 11,
    "start_time": "2024-09-28T21:58:21.815Z"
   },
   {
    "duration": 6,
    "start_time": "2024-09-28T21:58:21.827Z"
   },
   {
    "duration": 11,
    "start_time": "2024-09-28T21:58:21.835Z"
   },
   {
    "duration": 3,
    "start_time": "2024-09-28T21:58:21.848Z"
   },
   {
    "duration": 2,
    "start_time": "2024-09-28T21:58:21.853Z"
   },
   {
    "duration": 7,
    "start_time": "2024-09-28T21:58:21.859Z"
   },
   {
    "duration": 46,
    "start_time": "2024-09-28T21:58:21.867Z"
   },
   {
    "duration": 4,
    "start_time": "2024-09-28T21:58:21.914Z"
   },
   {
    "duration": 3,
    "start_time": "2024-09-28T21:58:21.920Z"
   },
   {
    "duration": 11,
    "start_time": "2024-09-28T21:58:21.925Z"
   },
   {
    "duration": 6,
    "start_time": "2024-09-28T21:58:21.937Z"
   },
   {
    "duration": 13,
    "start_time": "2024-09-28T21:58:21.945Z"
   },
   {
    "duration": 7,
    "start_time": "2024-09-28T21:58:21.960Z"
   },
   {
    "duration": 52,
    "start_time": "2024-09-28T21:58:21.968Z"
   },
   {
    "duration": 12,
    "start_time": "2024-09-28T21:58:22.022Z"
   },
   {
    "duration": 13,
    "start_time": "2024-09-28T21:58:22.036Z"
   },
   {
    "duration": 10,
    "start_time": "2024-09-28T21:58:22.050Z"
   },
   {
    "duration": 4,
    "start_time": "2024-09-28T21:58:22.061Z"
   },
   {
    "duration": 44,
    "start_time": "2024-09-28T21:58:22.067Z"
   },
   {
    "duration": 152,
    "start_time": "2024-09-28T21:58:22.113Z"
   },
   {
    "duration": 23,
    "start_time": "2024-09-28T22:03:00.602Z"
   },
   {
    "duration": 396,
    "start_time": "2024-09-28T22:03:39.787Z"
   },
   {
    "duration": 70,
    "start_time": "2024-09-28T22:03:40.185Z"
   },
   {
    "duration": 3,
    "start_time": "2024-09-28T22:03:40.256Z"
   },
   {
    "duration": 11,
    "start_time": "2024-09-28T22:03:40.261Z"
   },
   {
    "duration": 6,
    "start_time": "2024-09-28T22:03:40.275Z"
   },
   {
    "duration": 27,
    "start_time": "2024-09-28T22:03:40.282Z"
   },
   {
    "duration": 4,
    "start_time": "2024-09-28T22:03:40.310Z"
   },
   {
    "duration": 4,
    "start_time": "2024-09-28T22:03:40.316Z"
   },
   {
    "duration": 8,
    "start_time": "2024-09-28T22:03:40.321Z"
   },
   {
    "duration": 8,
    "start_time": "2024-09-28T22:03:40.331Z"
   },
   {
    "duration": 4,
    "start_time": "2024-09-28T22:03:40.340Z"
   },
   {
    "duration": 4,
    "start_time": "2024-09-28T22:03:40.345Z"
   },
   {
    "duration": 11,
    "start_time": "2024-09-28T22:03:40.350Z"
   },
   {
    "duration": 5,
    "start_time": "2024-09-28T22:03:40.405Z"
   },
   {
    "duration": 13,
    "start_time": "2024-09-28T22:03:40.412Z"
   },
   {
    "duration": 9,
    "start_time": "2024-09-28T22:03:40.426Z"
   },
   {
    "duration": 12,
    "start_time": "2024-09-28T22:03:40.436Z"
   },
   {
    "duration": 10,
    "start_time": "2024-09-28T22:03:40.451Z"
   },
   {
    "duration": 42,
    "start_time": "2024-09-28T22:03:40.464Z"
   },
   {
    "duration": 11,
    "start_time": "2024-09-28T22:03:40.507Z"
   },
   {
    "duration": 4,
    "start_time": "2024-09-28T22:03:40.519Z"
   },
   {
    "duration": 15,
    "start_time": "2024-09-28T22:03:40.524Z"
   },
   {
    "duration": 168,
    "start_time": "2024-09-28T22:03:40.540Z"
   },
   {
    "duration": 141,
    "start_time": "2024-09-28T22:04:44.365Z"
   },
   {
    "duration": 137,
    "start_time": "2024-09-28T22:04:56.638Z"
   },
   {
    "duration": 2,
    "start_time": "2024-09-28T22:06:59.940Z"
   },
   {
    "duration": 394,
    "start_time": "2024-09-28T22:07:05.894Z"
   },
   {
    "duration": 62,
    "start_time": "2024-09-28T22:07:06.290Z"
   },
   {
    "duration": 4,
    "start_time": "2024-09-28T22:07:06.354Z"
   },
   {
    "duration": 11,
    "start_time": "2024-09-28T22:07:06.359Z"
   },
   {
    "duration": 6,
    "start_time": "2024-09-28T22:07:06.372Z"
   },
   {
    "duration": 34,
    "start_time": "2024-09-28T22:07:06.380Z"
   },
   {
    "duration": 3,
    "start_time": "2024-09-28T22:07:06.416Z"
   },
   {
    "duration": 2,
    "start_time": "2024-09-28T22:07:06.422Z"
   },
   {
    "duration": 8,
    "start_time": "2024-09-28T22:07:06.425Z"
   },
   {
    "duration": 7,
    "start_time": "2024-09-28T22:07:06.436Z"
   },
   {
    "duration": 4,
    "start_time": "2024-09-28T22:07:06.445Z"
   },
   {
    "duration": 3,
    "start_time": "2024-09-28T22:07:06.451Z"
   },
   {
    "duration": 11,
    "start_time": "2024-09-28T22:07:06.456Z"
   },
   {
    "duration": 7,
    "start_time": "2024-09-28T22:07:06.507Z"
   },
   {
    "duration": 12,
    "start_time": "2024-09-28T22:07:06.516Z"
   },
   {
    "duration": 7,
    "start_time": "2024-09-28T22:07:06.530Z"
   },
   {
    "duration": 11,
    "start_time": "2024-09-28T22:07:06.538Z"
   },
   {
    "duration": 9,
    "start_time": "2024-09-28T22:07:06.551Z"
   },
   {
    "duration": 45,
    "start_time": "2024-09-28T22:07:06.562Z"
   },
   {
    "duration": 11,
    "start_time": "2024-09-28T22:07:06.609Z"
   },
   {
    "duration": 3,
    "start_time": "2024-09-28T22:07:06.622Z"
   },
   {
    "duration": 15,
    "start_time": "2024-09-28T22:07:06.627Z"
   },
   {
    "duration": 173,
    "start_time": "2024-09-28T22:07:06.644Z"
   },
   {
    "duration": 14,
    "start_time": "2024-09-28T22:26:00.449Z"
   },
   {
    "duration": 15,
    "start_time": "2024-09-28T22:27:35.418Z"
   },
   {
    "duration": 268,
    "start_time": "2024-09-28T22:28:12.751Z"
   },
   {
    "duration": 28,
    "start_time": "2024-09-28T22:28:49.200Z"
   },
   {
    "duration": 23,
    "start_time": "2024-09-28T22:29:27.578Z"
   },
   {
    "duration": 17,
    "start_time": "2024-09-28T22:30:25.716Z"
   },
   {
    "duration": 17,
    "start_time": "2024-09-28T22:31:29.715Z"
   },
   {
    "duration": 23,
    "start_time": "2024-09-28T22:31:57.895Z"
   },
   {
    "duration": 17,
    "start_time": "2024-09-28T22:33:30.942Z"
   },
   {
    "duration": 194,
    "start_time": "2024-09-28T22:33:53.172Z"
   },
   {
    "duration": 15,
    "start_time": "2024-09-28T22:34:07.101Z"
   },
   {
    "duration": 15,
    "start_time": "2024-09-28T22:34:49.269Z"
   },
   {
    "duration": 15,
    "start_time": "2024-09-28T22:46:57.978Z"
   },
   {
    "duration": 17,
    "start_time": "2024-09-28T22:49:16.441Z"
   },
   {
    "duration": 2095,
    "start_time": "2024-09-29T01:36:48.427Z"
   },
   {
    "duration": 50,
    "start_time": "2024-09-29T01:36:50.524Z"
   },
   {
    "duration": 3,
    "start_time": "2024-09-29T01:36:50.578Z"
   },
   {
    "duration": 11,
    "start_time": "2024-09-29T01:36:50.584Z"
   },
   {
    "duration": 7,
    "start_time": "2024-09-29T01:36:50.596Z"
   },
   {
    "duration": 10,
    "start_time": "2024-09-29T01:36:50.604Z"
   },
   {
    "duration": 4,
    "start_time": "2024-09-29T01:36:50.642Z"
   },
   {
    "duration": 2,
    "start_time": "2024-09-29T01:36:50.648Z"
   },
   {
    "duration": 10,
    "start_time": "2024-09-29T01:36:50.654Z"
   },
   {
    "duration": 8,
    "start_time": "2024-09-29T01:36:50.665Z"
   },
   {
    "duration": 5,
    "start_time": "2024-09-29T01:36:50.675Z"
   },
   {
    "duration": 4,
    "start_time": "2024-09-29T01:36:50.681Z"
   },
   {
    "duration": 11,
    "start_time": "2024-09-29T01:36:50.688Z"
   },
   {
    "duration": 42,
    "start_time": "2024-09-29T01:36:50.701Z"
   },
   {
    "duration": 15,
    "start_time": "2024-09-29T01:36:50.745Z"
   },
   {
    "duration": 7,
    "start_time": "2024-09-29T01:36:50.762Z"
   },
   {
    "duration": 10,
    "start_time": "2024-09-29T01:36:50.771Z"
   },
   {
    "duration": 10,
    "start_time": "2024-09-29T01:36:50.783Z"
   },
   {
    "duration": 11,
    "start_time": "2024-09-29T01:36:50.795Z"
   },
   {
    "duration": 47,
    "start_time": "2024-09-29T01:36:50.808Z"
   },
   {
    "duration": 4,
    "start_time": "2024-09-29T01:36:50.859Z"
   },
   {
    "duration": 16,
    "start_time": "2024-09-29T01:36:50.864Z"
   },
   {
    "duration": 178,
    "start_time": "2024-09-29T01:36:50.881Z"
   },
   {
    "duration": 16,
    "start_time": "2024-09-29T01:36:51.061Z"
   },
   {
    "duration": 18,
    "start_time": "2024-09-29T01:40:42.485Z"
   },
   {
    "duration": 4,
    "start_time": "2024-09-29T01:55:21.608Z"
   },
   {
    "duration": 4,
    "start_time": "2024-09-29T01:55:44.943Z"
   },
   {
    "duration": 427,
    "start_time": "2024-09-29T02:12:35.406Z"
   },
   {
    "duration": 73,
    "start_time": "2024-09-29T02:12:35.836Z"
   },
   {
    "duration": 4,
    "start_time": "2024-09-29T02:12:35.910Z"
   },
   {
    "duration": 12,
    "start_time": "2024-09-29T02:12:35.916Z"
   },
   {
    "duration": 7,
    "start_time": "2024-09-29T02:12:35.945Z"
   },
   {
    "duration": 14,
    "start_time": "2024-09-29T02:12:35.954Z"
   },
   {
    "duration": 4,
    "start_time": "2024-09-29T02:12:35.971Z"
   },
   {
    "duration": 4,
    "start_time": "2024-09-29T02:12:35.977Z"
   },
   {
    "duration": 11,
    "start_time": "2024-09-29T02:12:35.983Z"
   },
   {
    "duration": 8,
    "start_time": "2024-09-29T02:12:35.996Z"
   },
   {
    "duration": 38,
    "start_time": "2024-09-29T02:12:36.007Z"
   },
   {
    "duration": 4,
    "start_time": "2024-09-29T02:12:36.046Z"
   },
   {
    "duration": 16,
    "start_time": "2024-09-29T02:12:36.052Z"
   },
   {
    "duration": 9,
    "start_time": "2024-09-29T02:12:36.071Z"
   },
   {
    "duration": 13,
    "start_time": "2024-09-29T02:12:36.082Z"
   },
   {
    "duration": 9,
    "start_time": "2024-09-29T02:12:36.097Z"
   },
   {
    "duration": 46,
    "start_time": "2024-09-29T02:12:36.108Z"
   },
   {
    "duration": 14,
    "start_time": "2024-09-29T02:12:36.156Z"
   },
   {
    "duration": 15,
    "start_time": "2024-09-29T02:12:36.172Z"
   },
   {
    "duration": 15,
    "start_time": "2024-09-29T02:12:36.188Z"
   },
   {
    "duration": 5,
    "start_time": "2024-09-29T02:12:36.205Z"
   },
   {
    "duration": 22,
    "start_time": "2024-09-29T02:12:36.242Z"
   },
   {
    "duration": 3,
    "start_time": "2024-09-29T02:12:36.266Z"
   },
   {
    "duration": 183,
    "start_time": "2024-09-29T02:12:36.271Z"
   },
   {
    "duration": 18,
    "start_time": "2024-09-29T02:12:36.456Z"
   },
   {
    "duration": 3,
    "start_time": "2024-09-29T02:12:36.476Z"
   },
   {
    "duration": 402,
    "start_time": "2024-09-29T02:15:13.804Z"
   },
   {
    "duration": 72,
    "start_time": "2024-09-29T02:15:14.208Z"
   },
   {
    "duration": 3,
    "start_time": "2024-09-29T02:15:14.282Z"
   },
   {
    "duration": 10,
    "start_time": "2024-09-29T02:15:14.289Z"
   },
   {
    "duration": 7,
    "start_time": "2024-09-29T02:15:14.301Z"
   },
   {
    "duration": 10,
    "start_time": "2024-09-29T02:15:14.309Z"
   },
   {
    "duration": 24,
    "start_time": "2024-09-29T02:15:14.321Z"
   },
   {
    "duration": 2,
    "start_time": "2024-09-29T02:15:14.346Z"
   },
   {
    "duration": 7,
    "start_time": "2024-09-29T02:15:14.350Z"
   },
   {
    "duration": 7,
    "start_time": "2024-09-29T02:15:14.360Z"
   },
   {
    "duration": 5,
    "start_time": "2024-09-29T02:15:14.369Z"
   },
   {
    "duration": 3,
    "start_time": "2024-09-29T02:15:14.375Z"
   },
   {
    "duration": 11,
    "start_time": "2024-09-29T02:15:14.381Z"
   },
   {
    "duration": 5,
    "start_time": "2024-09-29T02:15:14.393Z"
   },
   {
    "duration": 53,
    "start_time": "2024-09-29T02:15:14.400Z"
   },
   {
    "duration": 8,
    "start_time": "2024-09-29T02:15:14.455Z"
   },
   {
    "duration": 11,
    "start_time": "2024-09-29T02:15:14.465Z"
   },
   {
    "duration": 11,
    "start_time": "2024-09-29T02:15:14.477Z"
   },
   {
    "duration": 11,
    "start_time": "2024-09-29T02:15:14.490Z"
   },
   {
    "duration": 44,
    "start_time": "2024-09-29T02:15:14.502Z"
   },
   {
    "duration": 5,
    "start_time": "2024-09-29T02:15:14.547Z"
   },
   {
    "duration": 16,
    "start_time": "2024-09-29T02:15:14.553Z"
   },
   {
    "duration": 5,
    "start_time": "2024-09-29T02:15:14.570Z"
   },
   {
    "duration": 172,
    "start_time": "2024-09-29T02:15:14.577Z"
   },
   {
    "duration": 16,
    "start_time": "2024-09-29T02:15:14.752Z"
   },
   {
    "duration": 4,
    "start_time": "2024-09-29T02:16:38.641Z"
   },
   {
    "duration": 14,
    "start_time": "2024-09-29T02:16:52.096Z"
   },
   {
    "duration": 154,
    "start_time": "2024-09-29T10:49:12.024Z"
   },
   {
    "duration": 2085,
    "start_time": "2024-09-29T10:49:18.241Z"
   },
   {
    "duration": 45,
    "start_time": "2024-09-29T10:49:20.329Z"
   },
   {
    "duration": 4,
    "start_time": "2024-09-29T10:49:20.376Z"
   },
   {
    "duration": 11,
    "start_time": "2024-09-29T10:49:20.383Z"
   },
   {
    "duration": 12,
    "start_time": "2024-09-29T10:49:20.395Z"
   },
   {
    "duration": 10,
    "start_time": "2024-09-29T10:49:20.409Z"
   },
   {
    "duration": 4,
    "start_time": "2024-09-29T10:49:20.421Z"
   },
   {
    "duration": 2,
    "start_time": "2024-09-29T10:49:20.427Z"
   },
   {
    "duration": 8,
    "start_time": "2024-09-29T10:49:20.431Z"
   },
   {
    "duration": 8,
    "start_time": "2024-09-29T10:49:20.442Z"
   },
   {
    "duration": 4,
    "start_time": "2024-09-29T10:49:20.451Z"
   },
   {
    "duration": 3,
    "start_time": "2024-09-29T10:49:20.457Z"
   },
   {
    "duration": 55,
    "start_time": "2024-09-29T10:49:20.461Z"
   },
   {
    "duration": 5,
    "start_time": "2024-09-29T10:49:20.518Z"
   },
   {
    "duration": 12,
    "start_time": "2024-09-29T10:49:20.524Z"
   },
   {
    "duration": 8,
    "start_time": "2024-09-29T10:49:20.538Z"
   },
   {
    "duration": 10,
    "start_time": "2024-09-29T10:49:20.547Z"
   },
   {
    "duration": 48,
    "start_time": "2024-09-29T10:49:20.560Z"
   },
   {
    "duration": 10,
    "start_time": "2024-09-29T10:49:20.610Z"
   },
   {
    "duration": 11,
    "start_time": "2024-09-29T10:49:20.622Z"
   },
   {
    "duration": 4,
    "start_time": "2024-09-29T10:49:20.634Z"
   },
   {
    "duration": 17,
    "start_time": "2024-09-29T10:49:20.640Z"
   },
   {
    "duration": 4,
    "start_time": "2024-09-29T10:49:20.658Z"
   },
   {
    "duration": 190,
    "start_time": "2024-09-29T10:49:20.663Z"
   },
   {
    "duration": 15,
    "start_time": "2024-09-29T10:49:20.855Z"
   },
   {
    "duration": 12,
    "start_time": "2024-09-29T10:49:20.872Z"
   },
   {
    "duration": 24,
    "start_time": "2024-09-29T10:49:20.886Z"
   },
   {
    "duration": 16,
    "start_time": "2024-09-29T10:51:01.098Z"
   },
   {
    "duration": 9,
    "start_time": "2024-09-29T10:51:54.914Z"
   },
   {
    "duration": 17,
    "start_time": "2024-09-29T10:55:27.598Z"
   },
   {
    "duration": 9,
    "start_time": "2024-09-29T11:07:08.682Z"
   },
   {
    "duration": 6,
    "start_time": "2024-09-29T11:08:17.313Z"
   },
   {
    "duration": 14,
    "start_time": "2024-09-29T11:08:21.417Z"
   },
   {
    "duration": 17,
    "start_time": "2024-09-29T11:20:54.574Z"
   },
   {
    "duration": 14,
    "start_time": "2024-09-29T11:21:14.737Z"
   },
   {
    "duration": 8,
    "start_time": "2024-09-29T11:21:59.013Z"
   },
   {
    "duration": 5,
    "start_time": "2024-09-29T11:22:12.681Z"
   },
   {
    "duration": 4,
    "start_time": "2024-09-29T11:22:35.065Z"
   },
   {
    "duration": 5,
    "start_time": "2024-09-29T11:22:43.361Z"
   },
   {
    "duration": 10,
    "start_time": "2024-09-29T11:22:52.316Z"
   },
   {
    "duration": 4,
    "start_time": "2024-09-29T11:28:04.909Z"
   },
   {
    "duration": 16,
    "start_time": "2024-09-29T11:28:48.205Z"
   },
   {
    "duration": 12,
    "start_time": "2024-09-29T11:32:22.816Z"
   },
   {
    "duration": 190,
    "start_time": "2024-09-29T11:32:56.547Z"
   },
   {
    "duration": 9,
    "start_time": "2024-09-29T11:33:03.434Z"
   },
   {
    "duration": 22,
    "start_time": "2024-09-29T11:33:15.953Z"
   },
   {
    "duration": 19,
    "start_time": "2024-09-29T11:33:30.472Z"
   },
   {
    "duration": 9,
    "start_time": "2024-09-29T11:33:59.756Z"
   },
   {
    "duration": 10,
    "start_time": "2024-09-29T11:43:56.123Z"
   },
   {
    "duration": 9,
    "start_time": "2024-09-29T11:46:33.239Z"
   },
   {
    "duration": 16,
    "start_time": "2024-09-29T12:04:39.786Z"
   },
   {
    "duration": 15,
    "start_time": "2024-09-29T12:05:24.804Z"
   },
   {
    "duration": 15,
    "start_time": "2024-09-29T12:07:19.133Z"
   },
   {
    "duration": 16,
    "start_time": "2024-09-29T12:24:43.267Z"
   },
   {
    "duration": 10,
    "start_time": "2024-09-29T12:25:51.216Z"
   },
   {
    "duration": 10,
    "start_time": "2024-09-29T12:26:27.811Z"
   },
   {
    "duration": 10,
    "start_time": "2024-09-29T12:26:41.791Z"
   },
   {
    "duration": 9,
    "start_time": "2024-09-29T12:26:50.798Z"
   },
   {
    "duration": 9,
    "start_time": "2024-09-29T12:26:56.858Z"
   },
   {
    "duration": 9,
    "start_time": "2024-09-29T12:42:22.404Z"
   },
   {
    "duration": 47,
    "start_time": "2024-09-29T12:45:26.101Z"
   },
   {
    "duration": 10,
    "start_time": "2024-09-29T12:45:30.992Z"
   },
   {
    "duration": 2,
    "start_time": "2024-09-29T12:45:33.878Z"
   },
   {
    "duration": 9,
    "start_time": "2024-09-29T12:45:48.106Z"
   },
   {
    "duration": 4,
    "start_time": "2024-09-29T12:45:51.284Z"
   },
   {
    "duration": 2133,
    "start_time": "2024-09-30T13:20:52.086Z"
   },
   {
    "duration": 47,
    "start_time": "2024-09-30T13:20:54.222Z"
   },
   {
    "duration": 3,
    "start_time": "2024-09-30T13:20:54.271Z"
   },
   {
    "duration": 11,
    "start_time": "2024-09-30T13:20:54.277Z"
   },
   {
    "duration": 7,
    "start_time": "2024-09-30T13:20:54.289Z"
   },
   {
    "duration": 10,
    "start_time": "2024-09-30T13:20:54.297Z"
   },
   {
    "duration": 4,
    "start_time": "2024-09-30T13:20:54.309Z"
   },
   {
    "duration": 2,
    "start_time": "2024-09-30T13:20:54.314Z"
   },
   {
    "duration": 7,
    "start_time": "2024-09-30T13:20:54.318Z"
   },
   {
    "duration": 9,
    "start_time": "2024-09-30T13:20:54.369Z"
   },
   {
    "duration": 4,
    "start_time": "2024-09-30T13:20:54.380Z"
   },
   {
    "duration": 3,
    "start_time": "2024-09-30T13:20:54.385Z"
   },
   {
    "duration": 11,
    "start_time": "2024-09-30T13:20:54.390Z"
   },
   {
    "duration": 5,
    "start_time": "2024-09-30T13:20:54.403Z"
   },
   {
    "duration": 13,
    "start_time": "2024-09-30T13:20:54.409Z"
   },
   {
    "duration": 8,
    "start_time": "2024-09-30T13:20:54.423Z"
   },
   {
    "duration": 48,
    "start_time": "2024-09-30T13:20:54.432Z"
   },
   {
    "duration": 12,
    "start_time": "2024-09-30T13:20:54.482Z"
   },
   {
    "duration": 14,
    "start_time": "2024-09-30T13:20:54.495Z"
   },
   {
    "duration": 14,
    "start_time": "2024-09-30T13:20:54.511Z"
   },
   {
    "duration": 4,
    "start_time": "2024-09-30T13:20:54.526Z"
   },
   {
    "duration": 53,
    "start_time": "2024-09-30T13:20:54.532Z"
   },
   {
    "duration": 3,
    "start_time": "2024-09-30T13:20:54.587Z"
   },
   {
    "duration": 165,
    "start_time": "2024-09-30T13:20:54.592Z"
   },
   {
    "duration": 24,
    "start_time": "2024-09-30T13:20:54.759Z"
   },
   {
    "duration": 16,
    "start_time": "2024-09-30T13:20:54.784Z"
   },
   {
    "duration": 8,
    "start_time": "2024-09-30T13:20:54.802Z"
   },
   {
    "duration": 8,
    "start_time": "2024-09-30T13:20:54.813Z"
   },
   {
    "duration": 3,
    "start_time": "2024-09-30T13:20:54.823Z"
   },
   {
    "duration": 4,
    "start_time": "2024-09-30T13:20:54.828Z"
   },
   {
    "duration": 8,
    "start_time": "2024-09-30T13:42:58.210Z"
   },
   {
    "duration": 17,
    "start_time": "2024-09-30T13:57:07.010Z"
   },
   {
    "duration": 11,
    "start_time": "2024-09-30T13:57:41.569Z"
   },
   {
    "duration": 11,
    "start_time": "2024-09-30T13:58:16.984Z"
   },
   {
    "duration": 372,
    "start_time": "2024-09-30T14:00:54.067Z"
   },
   {
    "duration": 29,
    "start_time": "2024-09-30T14:01:07.254Z"
   },
   {
    "duration": 24,
    "start_time": "2024-09-30T14:02:09.063Z"
   },
   {
    "duration": 93,
    "start_time": "2024-09-30T14:02:54.316Z"
   },
   {
    "duration": 8,
    "start_time": "2024-09-30T14:07:33.200Z"
   },
   {
    "duration": 35,
    "start_time": "2024-09-30T14:07:58.491Z"
   },
   {
    "duration": 35,
    "start_time": "2024-09-30T14:09:29.246Z"
   },
   {
    "duration": 35,
    "start_time": "2024-09-30T14:10:18.918Z"
   },
   {
    "duration": 4,
    "start_time": "2024-09-30T14:18:10.571Z"
   },
   {
    "duration": 436,
    "start_time": "2024-09-30T14:19:00.682Z"
   },
   {
    "duration": 5,
    "start_time": "2024-09-30T14:20:06.665Z"
   },
   {
    "duration": 407,
    "start_time": "2024-09-30T14:49:53.055Z"
   },
   {
    "duration": 16,
    "start_time": "2024-09-30T14:55:32.412Z"
   },
   {
    "duration": 23,
    "start_time": "2024-09-30T14:58:22.320Z"
   },
   {
    "duration": 919,
    "start_time": "2024-09-30T14:58:29.999Z"
   },
   {
    "duration": 41,
    "start_time": "2024-09-30T14:58:30.921Z"
   },
   {
    "duration": 3,
    "start_time": "2024-09-30T14:58:30.963Z"
   },
   {
    "duration": 15,
    "start_time": "2024-09-30T14:58:30.974Z"
   },
   {
    "duration": 12,
    "start_time": "2024-09-30T14:58:30.991Z"
   },
   {
    "duration": 14,
    "start_time": "2024-09-30T14:58:31.012Z"
   },
   {
    "duration": 4,
    "start_time": "2024-09-30T14:58:31.028Z"
   },
   {
    "duration": 2,
    "start_time": "2024-09-30T14:58:31.034Z"
   },
   {
    "duration": 8,
    "start_time": "2024-09-30T14:58:31.037Z"
   },
   {
    "duration": 25,
    "start_time": "2024-09-30T14:58:31.048Z"
   },
   {
    "duration": 5,
    "start_time": "2024-09-30T14:58:31.078Z"
   },
   {
    "duration": 4,
    "start_time": "2024-09-30T14:58:31.085Z"
   },
   {
    "duration": 15,
    "start_time": "2024-09-30T14:58:31.091Z"
   },
   {
    "duration": 10,
    "start_time": "2024-09-30T14:58:31.108Z"
   },
   {
    "duration": 14,
    "start_time": "2024-09-30T14:58:31.119Z"
   },
   {
    "duration": 9,
    "start_time": "2024-09-30T14:58:31.135Z"
   },
   {
    "duration": 16,
    "start_time": "2024-09-30T14:58:31.179Z"
   },
   {
    "duration": 20,
    "start_time": "2024-09-30T14:58:31.198Z"
   },
   {
    "duration": 15,
    "start_time": "2024-09-30T14:58:31.220Z"
   },
   {
    "duration": 12,
    "start_time": "2024-09-30T14:58:31.239Z"
   },
   {
    "duration": 5,
    "start_time": "2024-09-30T14:58:31.253Z"
   },
   {
    "duration": 30,
    "start_time": "2024-09-30T14:58:31.271Z"
   },
   {
    "duration": 9,
    "start_time": "2024-09-30T14:58:31.305Z"
   },
   {
    "duration": 211,
    "start_time": "2024-09-30T14:58:31.316Z"
   },
   {
    "duration": 10,
    "start_time": "2024-09-30T14:58:31.530Z"
   },
   {
    "duration": 40,
    "start_time": "2024-09-30T14:58:31.542Z"
   },
   {
    "duration": 11,
    "start_time": "2024-09-30T14:58:31.584Z"
   },
   {
    "duration": 10,
    "start_time": "2024-09-30T14:58:31.600Z"
   },
   {
    "duration": 7,
    "start_time": "2024-09-30T14:58:31.611Z"
   },
   {
    "duration": 12,
    "start_time": "2024-09-30T14:58:31.619Z"
   },
   {
    "duration": 10,
    "start_time": "2024-09-30T14:58:31.633Z"
   },
   {
    "duration": 25,
    "start_time": "2024-09-30T14:58:31.645Z"
   },
   {
    "duration": 146,
    "start_time": "2024-09-30T14:58:31.673Z"
   },
   {
    "duration": 20,
    "start_time": "2024-09-30T14:59:02.627Z"
   },
   {
    "duration": 11,
    "start_time": "2024-09-30T14:59:19.860Z"
   },
   {
    "duration": 25,
    "start_time": "2024-09-30T15:00:05.703Z"
   },
   {
    "duration": 21,
    "start_time": "2024-09-30T15:00:08.498Z"
   },
   {
    "duration": 18,
    "start_time": "2024-09-30T15:00:34.853Z"
   },
   {
    "duration": 20,
    "start_time": "2024-09-30T15:00:37.612Z"
   },
   {
    "duration": 850,
    "start_time": "2024-09-30T15:00:44.247Z"
   },
   {
    "duration": 37,
    "start_time": "2024-09-30T15:00:45.099Z"
   },
   {
    "duration": 3,
    "start_time": "2024-09-30T15:00:45.139Z"
   },
   {
    "duration": 10,
    "start_time": "2024-09-30T15:00:45.145Z"
   },
   {
    "duration": 7,
    "start_time": "2024-09-30T15:00:45.170Z"
   },
   {
    "duration": 14,
    "start_time": "2024-09-30T15:00:45.179Z"
   },
   {
    "duration": 5,
    "start_time": "2024-09-30T15:00:45.196Z"
   },
   {
    "duration": 2,
    "start_time": "2024-09-30T15:00:45.203Z"
   },
   {
    "duration": 9,
    "start_time": "2024-09-30T15:00:45.207Z"
   },
   {
    "duration": 7,
    "start_time": "2024-09-30T15:00:45.221Z"
   },
   {
    "duration": 4,
    "start_time": "2024-09-30T15:00:45.229Z"
   },
   {
    "duration": 38,
    "start_time": "2024-09-30T15:00:45.234Z"
   },
   {
    "duration": 13,
    "start_time": "2024-09-30T15:00:45.274Z"
   },
   {
    "duration": 7,
    "start_time": "2024-09-30T15:00:45.288Z"
   },
   {
    "duration": 14,
    "start_time": "2024-09-30T15:00:45.297Z"
   },
   {
    "duration": 9,
    "start_time": "2024-09-30T15:00:45.313Z"
   },
   {
    "duration": 10,
    "start_time": "2024-09-30T15:00:45.323Z"
   },
   {
    "duration": 45,
    "start_time": "2024-09-30T15:00:45.335Z"
   },
   {
    "duration": 13,
    "start_time": "2024-09-30T15:00:45.381Z"
   },
   {
    "duration": 13,
    "start_time": "2024-09-30T15:00:45.396Z"
   },
   {
    "duration": 4,
    "start_time": "2024-09-30T15:00:45.411Z"
   },
   {
    "duration": 17,
    "start_time": "2024-09-30T15:00:45.417Z"
   },
   {
    "duration": 38,
    "start_time": "2024-09-30T15:00:45.436Z"
   },
   {
    "duration": 174,
    "start_time": "2024-09-30T15:00:45.476Z"
   },
   {
    "duration": 18,
    "start_time": "2024-09-30T15:00:45.652Z"
   },
   {
    "duration": 18,
    "start_time": "2024-09-30T15:00:45.672Z"
   },
   {
    "duration": 20,
    "start_time": "2024-09-30T15:00:45.692Z"
   },
   {
    "duration": 14,
    "start_time": "2024-09-30T15:00:45.717Z"
   },
   {
    "duration": 43,
    "start_time": "2024-09-30T15:00:45.732Z"
   },
   {
    "duration": 6,
    "start_time": "2024-09-30T15:00:45.778Z"
   },
   {
    "duration": 22,
    "start_time": "2024-09-30T15:00:45.788Z"
   },
   {
    "duration": 57,
    "start_time": "2024-09-30T15:00:45.814Z"
   },
   {
    "duration": 7,
    "start_time": "2024-09-30T15:00:45.873Z"
   },
   {
    "duration": 577,
    "start_time": "2024-09-30T15:00:45.884Z"
   },
   {
    "duration": 16,
    "start_time": "2024-09-30T15:02:22.887Z"
   },
   {
    "duration": 12,
    "start_time": "2024-09-30T15:02:31.682Z"
   },
   {
    "duration": 12,
    "start_time": "2024-09-30T15:03:20.041Z"
   },
   {
    "duration": 936,
    "start_time": "2024-09-30T15:03:53.830Z"
   },
   {
    "duration": 42,
    "start_time": "2024-09-30T15:03:54.770Z"
   },
   {
    "duration": 4,
    "start_time": "2024-09-30T15:03:54.815Z"
   },
   {
    "duration": 14,
    "start_time": "2024-09-30T15:03:54.821Z"
   },
   {
    "duration": 9,
    "start_time": "2024-09-30T15:03:54.838Z"
   },
   {
    "duration": 49,
    "start_time": "2024-09-30T15:03:54.849Z"
   },
   {
    "duration": 8,
    "start_time": "2024-09-30T15:03:54.902Z"
   },
   {
    "duration": 2,
    "start_time": "2024-09-30T15:03:54.912Z"
   },
   {
    "duration": 11,
    "start_time": "2024-09-30T15:03:54.916Z"
   },
   {
    "duration": 14,
    "start_time": "2024-09-30T15:03:54.929Z"
   },
   {
    "duration": 4,
    "start_time": "2024-09-30T15:03:54.946Z"
   },
   {
    "duration": 9,
    "start_time": "2024-09-30T15:03:54.952Z"
   },
   {
    "duration": 15,
    "start_time": "2024-09-30T15:03:54.971Z"
   },
   {
    "duration": 7,
    "start_time": "2024-09-30T15:03:54.991Z"
   },
   {
    "duration": 18,
    "start_time": "2024-09-30T15:03:55.000Z"
   },
   {
    "duration": 10,
    "start_time": "2024-09-30T15:03:55.021Z"
   },
   {
    "duration": 40,
    "start_time": "2024-09-30T15:03:55.033Z"
   },
   {
    "duration": 18,
    "start_time": "2024-09-30T15:03:55.075Z"
   },
   {
    "duration": 20,
    "start_time": "2024-09-30T15:03:55.095Z"
   },
   {
    "duration": 13,
    "start_time": "2024-09-30T15:03:55.117Z"
   },
   {
    "duration": 5,
    "start_time": "2024-09-30T15:03:55.132Z"
   },
   {
    "duration": 50,
    "start_time": "2024-09-30T15:03:55.140Z"
   },
   {
    "duration": 5,
    "start_time": "2024-09-30T15:03:55.192Z"
   },
   {
    "duration": 248,
    "start_time": "2024-09-30T15:03:55.199Z"
   },
   {
    "duration": 10,
    "start_time": "2024-09-30T15:03:55.450Z"
   },
   {
    "duration": 37,
    "start_time": "2024-09-30T15:03:55.476Z"
   },
   {
    "duration": 12,
    "start_time": "2024-09-30T15:03:55.516Z"
   },
   {
    "duration": 14,
    "start_time": "2024-09-30T15:03:55.530Z"
   },
   {
    "duration": 4,
    "start_time": "2024-09-30T15:03:55.546Z"
   },
   {
    "duration": 33,
    "start_time": "2024-09-30T15:03:55.554Z"
   },
   {
    "duration": 51,
    "start_time": "2024-09-30T15:03:55.589Z"
   },
   {
    "duration": 5,
    "start_time": "2024-09-30T15:03:55.643Z"
   },
   {
    "duration": 615,
    "start_time": "2024-09-30T15:03:55.650Z"
   },
   {
    "duration": 21,
    "start_time": "2024-09-30T15:30:57.922Z"
   },
   {
    "duration": 352,
    "start_time": "2024-09-30T15:37:55.985Z"
   },
   {
    "duration": 334,
    "start_time": "2024-09-30T15:38:36.671Z"
   },
   {
    "duration": 124,
    "start_time": "2024-09-30T15:39:37.003Z"
   },
   {
    "duration": 147,
    "start_time": "2024-09-30T15:39:52.212Z"
   },
   {
    "duration": 145,
    "start_time": "2024-09-30T15:40:48.002Z"
   },
   {
    "duration": 237,
    "start_time": "2024-09-30T15:41:37.995Z"
   },
   {
    "duration": 145,
    "start_time": "2024-09-30T15:41:51.672Z"
   },
   {
    "duration": 148,
    "start_time": "2024-09-30T15:42:06.293Z"
   },
   {
    "duration": 147,
    "start_time": "2024-09-30T15:42:19.701Z"
   },
   {
    "duration": 4,
    "start_time": "2024-09-30T15:43:03.870Z"
   },
   {
    "duration": 352,
    "start_time": "2024-09-30T15:43:24.538Z"
   },
   {
    "duration": 3,
    "start_time": "2024-09-30T15:48:34.981Z"
   },
   {
    "duration": 5,
    "start_time": "2024-09-30T15:48:48.991Z"
   },
   {
    "duration": 5,
    "start_time": "2024-09-30T15:48:59.619Z"
   },
   {
    "duration": 5,
    "start_time": "2024-09-30T15:51:24.613Z"
   },
   {
    "duration": 7,
    "start_time": "2024-09-30T15:52:35.158Z"
   },
   {
    "duration": 6,
    "start_time": "2024-09-30T15:53:06.922Z"
   },
   {
    "duration": 5,
    "start_time": "2024-09-30T15:54:58.299Z"
   },
   {
    "duration": 5,
    "start_time": "2024-09-30T15:55:10.762Z"
   },
   {
    "duration": 5,
    "start_time": "2024-09-30T16:01:12.366Z"
   },
   {
    "duration": 3,
    "start_time": "2024-09-30T16:01:23.796Z"
   },
   {
    "duration": 2568,
    "start_time": "2024-09-30T17:13:29.722Z"
   },
   {
    "duration": 53,
    "start_time": "2024-09-30T17:13:32.293Z"
   },
   {
    "duration": 4,
    "start_time": "2024-09-30T17:13:32.348Z"
   },
   {
    "duration": 11,
    "start_time": "2024-09-30T17:13:32.355Z"
   },
   {
    "duration": 6,
    "start_time": "2024-09-30T17:13:32.368Z"
   },
   {
    "duration": 10,
    "start_time": "2024-09-30T17:13:32.376Z"
   },
   {
    "duration": 23,
    "start_time": "2024-09-30T17:13:32.388Z"
   },
   {
    "duration": 3,
    "start_time": "2024-09-30T17:13:32.412Z"
   },
   {
    "duration": 7,
    "start_time": "2024-09-30T17:13:32.416Z"
   },
   {
    "duration": 8,
    "start_time": "2024-09-30T17:13:32.427Z"
   },
   {
    "duration": 3,
    "start_time": "2024-09-30T17:13:32.437Z"
   },
   {
    "duration": 4,
    "start_time": "2024-09-30T17:13:32.442Z"
   },
   {
    "duration": 12,
    "start_time": "2024-09-30T17:13:32.447Z"
   },
   {
    "duration": 6,
    "start_time": "2024-09-30T17:13:32.461Z"
   },
   {
    "duration": 15,
    "start_time": "2024-09-30T17:13:32.509Z"
   },
   {
    "duration": 9,
    "start_time": "2024-09-30T17:13:32.525Z"
   },
   {
    "duration": 12,
    "start_time": "2024-09-30T17:13:32.535Z"
   },
   {
    "duration": 12,
    "start_time": "2024-09-30T17:13:32.549Z"
   },
   {
    "duration": 12,
    "start_time": "2024-09-30T17:13:32.562Z"
   },
   {
    "duration": 12,
    "start_time": "2024-09-30T17:13:32.610Z"
   },
   {
    "duration": 4,
    "start_time": "2024-09-30T17:13:32.624Z"
   },
   {
    "duration": 16,
    "start_time": "2024-09-30T17:13:32.630Z"
   },
   {
    "duration": 4,
    "start_time": "2024-09-30T17:13:32.647Z"
   },
   {
    "duration": 185,
    "start_time": "2024-09-30T17:13:32.653Z"
   },
   {
    "duration": 8,
    "start_time": "2024-09-30T17:13:32.840Z"
   },
   {
    "duration": 15,
    "start_time": "2024-09-30T17:13:32.850Z"
   },
   {
    "duration": 9,
    "start_time": "2024-09-30T17:13:32.867Z"
   },
   {
    "duration": 36,
    "start_time": "2024-09-30T17:13:32.879Z"
   },
   {
    "duration": 4,
    "start_time": "2024-09-30T17:13:32.917Z"
   },
   {
    "duration": 14,
    "start_time": "2024-09-30T17:13:32.922Z"
   },
   {
    "duration": 35,
    "start_time": "2024-09-30T17:13:32.938Z"
   },
   {
    "duration": 36,
    "start_time": "2024-09-30T17:13:32.975Z"
   },
   {
    "duration": 453,
    "start_time": "2024-09-30T17:13:33.014Z"
   },
   {
    "duration": 4,
    "start_time": "2024-09-30T17:13:33.468Z"
   },
   {
    "duration": 376,
    "start_time": "2024-09-30T17:13:33.474Z"
   },
   {
    "duration": 5,
    "start_time": "2024-09-30T17:13:33.852Z"
   },
   {
    "duration": 3,
    "start_time": "2024-09-30T17:13:33.859Z"
   },
   {
    "duration": 617,
    "start_time": "2024-09-30T17:15:22.962Z"
   },
   {
    "duration": 14,
    "start_time": "2024-09-30T17:15:36.515Z"
   },
   {
    "duration": 34,
    "start_time": "2024-09-30T17:17:51.776Z"
   },
   {
    "duration": 40,
    "start_time": "2024-09-30T17:18:07.527Z"
   },
   {
    "duration": 47,
    "start_time": "2024-09-30T17:19:57.475Z"
   },
   {
    "duration": 42,
    "start_time": "2024-09-30T17:20:54.610Z"
   },
   {
    "duration": 65,
    "start_time": "2024-09-30T17:21:17.220Z"
   },
   {
    "duration": 10,
    "start_time": "2024-09-30T17:23:09.483Z"
   },
   {
    "duration": 847,
    "start_time": "2024-09-30T17:23:50.244Z"
   },
   {
    "duration": 44,
    "start_time": "2024-09-30T17:23:51.093Z"
   },
   {
    "duration": 3,
    "start_time": "2024-09-30T17:23:51.139Z"
   },
   {
    "duration": 11,
    "start_time": "2024-09-30T17:23:51.145Z"
   },
   {
    "duration": 6,
    "start_time": "2024-09-30T17:23:51.158Z"
   },
   {
    "duration": 12,
    "start_time": "2024-09-30T17:23:51.166Z"
   },
   {
    "duration": 32,
    "start_time": "2024-09-30T17:23:51.179Z"
   },
   {
    "duration": 2,
    "start_time": "2024-09-30T17:23:51.212Z"
   },
   {
    "duration": 7,
    "start_time": "2024-09-30T17:23:51.216Z"
   },
   {
    "duration": 8,
    "start_time": "2024-09-30T17:23:51.226Z"
   },
   {
    "duration": 4,
    "start_time": "2024-09-30T17:23:51.235Z"
   },
   {
    "duration": 4,
    "start_time": "2024-09-30T17:23:51.240Z"
   },
   {
    "duration": 12,
    "start_time": "2024-09-30T17:23:51.246Z"
   },
   {
    "duration": 7,
    "start_time": "2024-09-30T17:23:51.259Z"
   },
   {
    "duration": 53,
    "start_time": "2024-09-30T17:23:51.267Z"
   },
   {
    "duration": 8,
    "start_time": "2024-09-30T17:23:51.321Z"
   },
   {
    "duration": 11,
    "start_time": "2024-09-30T17:23:51.331Z"
   },
   {
    "duration": 12,
    "start_time": "2024-09-30T17:23:51.343Z"
   },
   {
    "duration": 13,
    "start_time": "2024-09-30T17:23:51.357Z"
   },
   {
    "duration": 48,
    "start_time": "2024-09-30T17:23:51.372Z"
   },
   {
    "duration": 4,
    "start_time": "2024-09-30T17:23:51.422Z"
   },
   {
    "duration": 17,
    "start_time": "2024-09-30T17:23:51.428Z"
   },
   {
    "duration": 4,
    "start_time": "2024-09-30T17:23:51.446Z"
   },
   {
    "duration": 180,
    "start_time": "2024-09-30T17:23:51.451Z"
   },
   {
    "duration": 9,
    "start_time": "2024-09-30T17:23:51.633Z"
   },
   {
    "duration": 16,
    "start_time": "2024-09-30T17:23:51.643Z"
   },
   {
    "duration": 10,
    "start_time": "2024-09-30T17:23:51.660Z"
   },
   {
    "duration": 40,
    "start_time": "2024-09-30T17:23:51.674Z"
   },
   {
    "duration": 3,
    "start_time": "2024-09-30T17:23:51.716Z"
   },
   {
    "duration": 18,
    "start_time": "2024-09-30T17:23:51.721Z"
   },
   {
    "duration": 70,
    "start_time": "2024-09-30T17:23:51.740Z"
   },
   {
    "duration": 4,
    "start_time": "2024-09-30T17:23:51.812Z"
   },
   {
    "duration": 493,
    "start_time": "2024-09-30T17:23:51.818Z"
   },
   {
    "duration": 4,
    "start_time": "2024-09-30T17:23:52.313Z"
   },
   {
    "duration": 312,
    "start_time": "2024-09-30T17:23:52.319Z"
   },
   {
    "duration": 5,
    "start_time": "2024-09-30T17:23:52.633Z"
   },
   {
    "duration": 42,
    "start_time": "2024-09-30T17:23:52.640Z"
   },
   {
    "duration": 26,
    "start_time": "2024-09-30T17:25:03.157Z"
   },
   {
    "duration": 42,
    "start_time": "2024-09-30T17:25:08.136Z"
   },
   {
    "duration": 4,
    "start_time": "2024-09-30T17:25:12.783Z"
   },
   {
    "duration": 296,
    "start_time": "2024-09-30T17:25:15.715Z"
   },
   {
    "duration": 871,
    "start_time": "2024-09-30T17:25:24.041Z"
   },
   {
    "duration": 37,
    "start_time": "2024-09-30T17:25:24.914Z"
   },
   {
    "duration": 3,
    "start_time": "2024-09-30T17:25:24.953Z"
   },
   {
    "duration": 12,
    "start_time": "2024-09-30T17:25:24.958Z"
   },
   {
    "duration": 6,
    "start_time": "2024-09-30T17:25:24.972Z"
   },
   {
    "duration": 37,
    "start_time": "2024-09-30T17:25:24.980Z"
   },
   {
    "duration": 4,
    "start_time": "2024-09-30T17:25:25.018Z"
   },
   {
    "duration": 3,
    "start_time": "2024-09-30T17:25:25.024Z"
   },
   {
    "duration": 8,
    "start_time": "2024-09-30T17:25:25.028Z"
   },
   {
    "duration": 8,
    "start_time": "2024-09-30T17:25:25.039Z"
   },
   {
    "duration": 4,
    "start_time": "2024-09-30T17:25:25.049Z"
   },
   {
    "duration": 4,
    "start_time": "2024-09-30T17:25:25.054Z"
   },
   {
    "duration": 53,
    "start_time": "2024-09-30T17:25:25.060Z"
   },
   {
    "duration": 6,
    "start_time": "2024-09-30T17:25:25.114Z"
   },
   {
    "duration": 13,
    "start_time": "2024-09-30T17:25:25.122Z"
   },
   {
    "duration": 8,
    "start_time": "2024-09-30T17:25:25.137Z"
   },
   {
    "duration": 11,
    "start_time": "2024-09-30T17:25:25.146Z"
   },
   {
    "duration": 11,
    "start_time": "2024-09-30T17:25:25.159Z"
   },
   {
    "duration": 40,
    "start_time": "2024-09-30T17:25:25.172Z"
   },
   {
    "duration": 12,
    "start_time": "2024-09-30T17:25:25.214Z"
   },
   {
    "duration": 4,
    "start_time": "2024-09-30T17:25:25.228Z"
   },
   {
    "duration": 16,
    "start_time": "2024-09-30T17:25:25.234Z"
   },
   {
    "duration": 4,
    "start_time": "2024-09-30T17:25:25.252Z"
   },
   {
    "duration": 193,
    "start_time": "2024-09-30T17:25:25.258Z"
   },
   {
    "duration": 8,
    "start_time": "2024-09-30T17:25:25.453Z"
   },
   {
    "duration": 16,
    "start_time": "2024-09-30T17:25:25.463Z"
   },
   {
    "duration": 29,
    "start_time": "2024-09-30T17:25:25.481Z"
   },
   {
    "duration": 10,
    "start_time": "2024-09-30T17:25:25.514Z"
   },
   {
    "duration": 4,
    "start_time": "2024-09-30T17:25:25.526Z"
   },
   {
    "duration": 19,
    "start_time": "2024-09-30T17:25:25.532Z"
   },
   {
    "duration": 73,
    "start_time": "2024-09-30T17:25:25.553Z"
   },
   {
    "duration": 4,
    "start_time": "2024-09-30T17:25:25.627Z"
   },
   {
    "duration": 392,
    "start_time": "2024-09-30T17:25:25.634Z"
   },
   {
    "duration": 4,
    "start_time": "2024-09-30T17:25:26.028Z"
   },
   {
    "duration": 320,
    "start_time": "2024-09-30T17:25:26.033Z"
   },
   {
    "duration": 6,
    "start_time": "2024-09-30T17:25:26.355Z"
   },
   {
    "duration": 55,
    "start_time": "2024-09-30T17:25:26.363Z"
   },
   {
    "duration": 13,
    "start_time": "2024-09-30T17:26:14.779Z"
   },
   {
    "duration": 303,
    "start_time": "2024-09-30T17:26:45.340Z"
   },
   {
    "duration": 41,
    "start_time": "2024-09-30T17:27:16.097Z"
   },
   {
    "duration": 36,
    "start_time": "2024-09-30T17:28:03.844Z"
   },
   {
    "duration": 2602,
    "start_time": "2024-09-30T18:31:42.928Z"
   },
   {
    "duration": 50,
    "start_time": "2024-09-30T18:31:45.532Z"
   },
   {
    "duration": 4,
    "start_time": "2024-09-30T18:31:45.584Z"
   },
   {
    "duration": 12,
    "start_time": "2024-09-30T18:31:45.589Z"
   },
   {
    "duration": 6,
    "start_time": "2024-09-30T18:31:45.603Z"
   },
   {
    "duration": 11,
    "start_time": "2024-09-30T18:31:45.611Z"
   },
   {
    "duration": 3,
    "start_time": "2024-09-30T18:31:45.623Z"
   },
   {
    "duration": 2,
    "start_time": "2024-09-30T18:31:45.628Z"
   },
   {
    "duration": 8,
    "start_time": "2024-09-30T18:31:45.631Z"
   },
   {
    "duration": 47,
    "start_time": "2024-09-30T18:31:45.640Z"
   },
   {
    "duration": 5,
    "start_time": "2024-09-30T18:31:45.689Z"
   },
   {
    "duration": 3,
    "start_time": "2024-09-30T18:31:45.696Z"
   },
   {
    "duration": 11,
    "start_time": "2024-09-30T18:31:45.701Z"
   },
   {
    "duration": 5,
    "start_time": "2024-09-30T18:31:45.716Z"
   },
   {
    "duration": 13,
    "start_time": "2024-09-30T18:31:45.723Z"
   },
   {
    "duration": 8,
    "start_time": "2024-09-30T18:31:45.738Z"
   },
   {
    "duration": 50,
    "start_time": "2024-09-30T18:31:45.747Z"
   },
   {
    "duration": 11,
    "start_time": "2024-09-30T18:31:45.799Z"
   },
   {
    "duration": 10,
    "start_time": "2024-09-30T18:31:45.812Z"
   },
   {
    "duration": 11,
    "start_time": "2024-09-30T18:31:45.824Z"
   },
   {
    "duration": 4,
    "start_time": "2024-09-30T18:31:45.837Z"
   },
   {
    "duration": 48,
    "start_time": "2024-09-30T18:31:45.843Z"
   },
   {
    "duration": 4,
    "start_time": "2024-09-30T18:31:45.894Z"
   },
   {
    "duration": 169,
    "start_time": "2024-09-30T18:31:45.900Z"
   },
   {
    "duration": 16,
    "start_time": "2024-09-30T18:31:46.071Z"
   },
   {
    "duration": 18,
    "start_time": "2024-09-30T18:31:46.088Z"
   },
   {
    "duration": 9,
    "start_time": "2024-09-30T18:31:46.108Z"
   },
   {
    "duration": 10,
    "start_time": "2024-09-30T18:31:46.118Z"
   },
   {
    "duration": 3,
    "start_time": "2024-09-30T18:31:46.130Z"
   },
   {
    "duration": 10,
    "start_time": "2024-09-30T18:31:46.135Z"
   },
   {
    "duration": 73,
    "start_time": "2024-09-30T18:31:46.146Z"
   },
   {
    "duration": 4,
    "start_time": "2024-09-30T18:31:46.221Z"
   },
   {
    "duration": 333,
    "start_time": "2024-09-30T18:31:46.227Z"
   },
   {
    "duration": 4,
    "start_time": "2024-09-30T18:31:46.562Z"
   },
   {
    "duration": 316,
    "start_time": "2024-09-30T18:31:46.568Z"
   },
   {
    "duration": 6,
    "start_time": "2024-09-30T18:31:46.885Z"
   },
   {
    "duration": 107,
    "start_time": "2024-09-30T18:31:46.894Z"
   },
   {
    "duration": 44,
    "start_time": "2024-09-30T18:32:26.430Z"
   },
   {
    "duration": 37,
    "start_time": "2024-09-30T18:32:49.596Z"
   },
   {
    "duration": 623,
    "start_time": "2024-09-30T18:34:28.279Z"
   },
   {
    "duration": 43,
    "start_time": "2024-09-30T18:34:44.348Z"
   },
   {
    "duration": 42,
    "start_time": "2024-09-30T18:34:46.168Z"
   },
   {
    "duration": 122,
    "start_time": "2024-09-30T18:35:05.245Z"
   },
   {
    "duration": 852,
    "start_time": "2024-09-30T18:36:12.517Z"
   },
   {
    "duration": 42,
    "start_time": "2024-09-30T18:36:13.371Z"
   },
   {
    "duration": 3,
    "start_time": "2024-09-30T18:36:13.415Z"
   },
   {
    "duration": 11,
    "start_time": "2024-09-30T18:36:13.420Z"
   },
   {
    "duration": 6,
    "start_time": "2024-09-30T18:36:13.433Z"
   },
   {
    "duration": 17,
    "start_time": "2024-09-30T18:36:13.441Z"
   },
   {
    "duration": 26,
    "start_time": "2024-09-30T18:36:13.460Z"
   },
   {
    "duration": 5,
    "start_time": "2024-09-30T18:36:13.488Z"
   },
   {
    "duration": 8,
    "start_time": "2024-09-30T18:36:13.495Z"
   },
   {
    "duration": 8,
    "start_time": "2024-09-30T18:36:13.507Z"
   },
   {
    "duration": 4,
    "start_time": "2024-09-30T18:36:13.516Z"
   },
   {
    "duration": 4,
    "start_time": "2024-09-30T18:36:13.522Z"
   },
   {
    "duration": 12,
    "start_time": "2024-09-30T18:36:13.527Z"
   },
   {
    "duration": 6,
    "start_time": "2024-09-30T18:36:13.541Z"
   },
   {
    "duration": 14,
    "start_time": "2024-09-30T18:36:13.588Z"
   },
   {
    "duration": 8,
    "start_time": "2024-09-30T18:36:13.604Z"
   },
   {
    "duration": 11,
    "start_time": "2024-09-30T18:36:13.613Z"
   },
   {
    "duration": 11,
    "start_time": "2024-09-30T18:36:13.626Z"
   },
   {
    "duration": 11,
    "start_time": "2024-09-30T18:36:13.639Z"
   },
   {
    "duration": 46,
    "start_time": "2024-09-30T18:36:13.652Z"
   },
   {
    "duration": 4,
    "start_time": "2024-09-30T18:36:13.700Z"
   },
   {
    "duration": 16,
    "start_time": "2024-09-30T18:36:13.705Z"
   },
   {
    "duration": 4,
    "start_time": "2024-09-30T18:36:13.723Z"
   },
   {
    "duration": 182,
    "start_time": "2024-09-30T18:36:13.728Z"
   },
   {
    "duration": 9,
    "start_time": "2024-09-30T18:36:13.912Z"
   },
   {
    "duration": 16,
    "start_time": "2024-09-30T18:36:13.922Z"
   },
   {
    "duration": 9,
    "start_time": "2024-09-30T18:36:13.940Z"
   },
   {
    "duration": 39,
    "start_time": "2024-09-30T18:36:13.952Z"
   },
   {
    "duration": 3,
    "start_time": "2024-09-30T18:36:13.994Z"
   },
   {
    "duration": 9,
    "start_time": "2024-09-30T18:36:14.000Z"
   },
   {
    "duration": 34,
    "start_time": "2024-09-30T18:36:14.011Z"
   },
   {
    "duration": 4,
    "start_time": "2024-09-30T18:36:14.047Z"
   },
   {
    "duration": 370,
    "start_time": "2024-09-30T18:36:14.087Z"
   },
   {
    "duration": 3,
    "start_time": "2024-09-30T18:36:14.459Z"
   },
   {
    "duration": 313,
    "start_time": "2024-09-30T18:36:14.464Z"
   },
   {
    "duration": 10,
    "start_time": "2024-09-30T18:36:14.779Z"
   },
   {
    "duration": 35,
    "start_time": "2024-09-30T18:36:14.791Z"
   },
   {
    "duration": 32616,
    "start_time": "2024-09-30T18:36:14.827Z"
   },
   {
    "duration": 221,
    "start_time": "2024-09-30T18:38:42.430Z"
   },
   {
    "duration": 3539,
    "start_time": "2024-09-30T18:38:50.497Z"
   },
   {
    "duration": 891,
    "start_time": "2024-09-30T18:47:06.682Z"
   },
   {
    "duration": 2449,
    "start_time": "2024-09-30T23:35:27.889Z"
   },
   {
    "duration": 50,
    "start_time": "2024-09-30T23:35:30.340Z"
   },
   {
    "duration": 4,
    "start_time": "2024-09-30T23:35:30.392Z"
   },
   {
    "duration": 10,
    "start_time": "2024-09-30T23:35:30.398Z"
   },
   {
    "duration": 6,
    "start_time": "2024-09-30T23:35:30.410Z"
   },
   {
    "duration": 11,
    "start_time": "2024-09-30T23:35:30.417Z"
   },
   {
    "duration": 3,
    "start_time": "2024-09-30T23:35:30.430Z"
   },
   {
    "duration": 2,
    "start_time": "2024-09-30T23:35:30.435Z"
   },
   {
    "duration": 7,
    "start_time": "2024-09-30T23:35:30.439Z"
   },
   {
    "duration": 7,
    "start_time": "2024-09-30T23:35:30.449Z"
   },
   {
    "duration": 5,
    "start_time": "2024-09-30T23:35:30.458Z"
   },
   {
    "duration": 42,
    "start_time": "2024-09-30T23:35:30.465Z"
   },
   {
    "duration": 12,
    "start_time": "2024-09-30T23:35:30.509Z"
   },
   {
    "duration": 5,
    "start_time": "2024-09-30T23:35:30.523Z"
   },
   {
    "duration": 14,
    "start_time": "2024-09-30T23:35:30.529Z"
   },
   {
    "duration": 8,
    "start_time": "2024-09-30T23:35:30.544Z"
   },
   {
    "duration": 10,
    "start_time": "2024-09-30T23:35:30.553Z"
   },
   {
    "duration": 45,
    "start_time": "2024-09-30T23:35:30.566Z"
   },
   {
    "duration": 10,
    "start_time": "2024-09-30T23:35:30.613Z"
   },
   {
    "duration": 10,
    "start_time": "2024-09-30T23:35:30.625Z"
   },
   {
    "duration": 4,
    "start_time": "2024-09-30T23:35:30.636Z"
   },
   {
    "duration": 16,
    "start_time": "2024-09-30T23:35:30.641Z"
   },
   {
    "duration": 4,
    "start_time": "2024-09-30T23:35:30.659Z"
   },
   {
    "duration": 153,
    "start_time": "2024-09-30T23:35:30.705Z"
   },
   {
    "duration": 9,
    "start_time": "2024-09-30T23:35:30.859Z"
   },
   {
    "duration": 16,
    "start_time": "2024-09-30T23:35:30.869Z"
   },
   {
    "duration": 26,
    "start_time": "2024-09-30T23:35:30.886Z"
   },
   {
    "duration": 10,
    "start_time": "2024-09-30T23:35:30.915Z"
   },
   {
    "duration": 4,
    "start_time": "2024-09-30T23:35:30.926Z"
   },
   {
    "duration": 9,
    "start_time": "2024-09-30T23:35:30.932Z"
   },
   {
    "duration": 70,
    "start_time": "2024-09-30T23:35:30.943Z"
   },
   {
    "duration": 4,
    "start_time": "2024-09-30T23:35:31.014Z"
   },
   {
    "duration": 342,
    "start_time": "2024-09-30T23:35:31.020Z"
   },
   {
    "duration": 4,
    "start_time": "2024-09-30T23:35:31.364Z"
   },
   {
    "duration": 296,
    "start_time": "2024-09-30T23:35:31.369Z"
   },
   {
    "duration": 5,
    "start_time": "2024-09-30T23:35:31.668Z"
   },
   {
    "duration": 51,
    "start_time": "2024-09-30T23:35:31.675Z"
   },
   {
    "duration": 983,
    "start_time": "2024-09-30T23:35:31.727Z"
   },
   {
    "duration": 4,
    "start_time": "2024-09-30T23:35:32.711Z"
   },
   {
    "duration": 4,
    "start_time": "2024-09-30T23:36:01.662Z"
   },
   {
    "duration": 4,
    "start_time": "2024-09-30T23:36:06.004Z"
   },
   {
    "duration": 4,
    "start_time": "2024-09-30T23:36:20.565Z"
   },
   {
    "duration": 8,
    "start_time": "2024-09-30T23:40:29.667Z"
   },
   {
    "duration": 9,
    "start_time": "2024-09-30T23:41:51.297Z"
   },
   {
    "duration": 9,
    "start_time": "2024-09-30T23:42:10.729Z"
   },
   {
    "duration": 213,
    "start_time": "2024-09-30T23:42:59.821Z"
   },
   {
    "duration": 9,
    "start_time": "2024-09-30T23:43:54.873Z"
   },
   {
    "duration": 9,
    "start_time": "2024-09-30T23:44:08.445Z"
   },
   {
    "duration": 8,
    "start_time": "2024-09-30T23:47:33.546Z"
   },
   {
    "duration": 9,
    "start_time": "2024-09-30T23:48:15.348Z"
   },
   {
    "duration": 13,
    "start_time": "2024-09-30T23:52:42.333Z"
   },
   {
    "duration": 10,
    "start_time": "2024-09-30T23:53:02.871Z"
   },
   {
    "duration": 866,
    "start_time": "2024-10-01T00:21:34.941Z"
   },
   {
    "duration": 212,
    "start_time": "2024-10-01T00:22:03.433Z"
   },
   {
    "duration": 152,
    "start_time": "2024-10-01T00:24:35.555Z"
   },
   {
    "duration": 140,
    "start_time": "2024-10-01T00:25:39.221Z"
   },
   {
    "duration": 2447,
    "start_time": "2024-10-01T11:27:54.247Z"
   },
   {
    "duration": 50,
    "start_time": "2024-10-01T11:27:56.696Z"
   },
   {
    "duration": 3,
    "start_time": "2024-10-01T11:27:56.747Z"
   },
   {
    "duration": 11,
    "start_time": "2024-10-01T11:27:56.752Z"
   },
   {
    "duration": 10,
    "start_time": "2024-10-01T11:27:56.765Z"
   },
   {
    "duration": 12,
    "start_time": "2024-10-01T11:27:56.777Z"
   },
   {
    "duration": 4,
    "start_time": "2024-10-01T11:27:56.790Z"
   },
   {
    "duration": 2,
    "start_time": "2024-10-01T11:27:56.796Z"
   },
   {
    "duration": 7,
    "start_time": "2024-10-01T11:27:56.800Z"
   },
   {
    "duration": 8,
    "start_time": "2024-10-01T11:27:56.810Z"
   },
   {
    "duration": 4,
    "start_time": "2024-10-01T11:27:56.820Z"
   },
   {
    "duration": 3,
    "start_time": "2024-10-01T11:27:56.825Z"
   },
   {
    "duration": 53,
    "start_time": "2024-10-01T11:27:56.830Z"
   },
   {
    "duration": 6,
    "start_time": "2024-10-01T11:27:56.885Z"
   },
   {
    "duration": 13,
    "start_time": "2024-10-01T11:27:56.892Z"
   },
   {
    "duration": 8,
    "start_time": "2024-10-01T11:27:56.907Z"
   },
   {
    "duration": 12,
    "start_time": "2024-10-01T11:27:56.916Z"
   },
   {
    "duration": 51,
    "start_time": "2024-10-01T11:27:56.929Z"
   },
   {
    "duration": 11,
    "start_time": "2024-10-01T11:27:56.984Z"
   },
   {
    "duration": 12,
    "start_time": "2024-10-01T11:27:56.996Z"
   },
   {
    "duration": 4,
    "start_time": "2024-10-01T11:27:57.009Z"
   },
   {
    "duration": 16,
    "start_time": "2024-10-01T11:27:57.015Z"
   },
   {
    "duration": 3,
    "start_time": "2024-10-01T11:27:57.033Z"
   },
   {
    "duration": 193,
    "start_time": "2024-10-01T11:27:57.038Z"
   },
   {
    "duration": 8,
    "start_time": "2024-10-01T11:27:57.234Z"
   },
   {
    "duration": 31,
    "start_time": "2024-10-01T11:27:57.244Z"
   },
   {
    "duration": 9,
    "start_time": "2024-10-01T11:27:57.277Z"
   },
   {
    "duration": 10,
    "start_time": "2024-10-01T11:27:57.291Z"
   },
   {
    "duration": 4,
    "start_time": "2024-10-01T11:27:57.302Z"
   },
   {
    "duration": 9,
    "start_time": "2024-10-01T11:27:57.308Z"
   },
   {
    "duration": 66,
    "start_time": "2024-10-01T11:27:57.319Z"
   },
   {
    "duration": 4,
    "start_time": "2024-10-01T11:27:57.387Z"
   },
   {
    "duration": 323,
    "start_time": "2024-10-01T11:27:57.393Z"
   },
   {
    "duration": 4,
    "start_time": "2024-10-01T11:27:57.718Z"
   },
   {
    "duration": 351,
    "start_time": "2024-10-01T11:27:57.724Z"
   },
   {
    "duration": 6,
    "start_time": "2024-10-01T11:27:58.077Z"
   },
   {
    "duration": 37,
    "start_time": "2024-10-01T11:27:58.085Z"
   },
   {
    "duration": 895,
    "start_time": "2024-10-01T11:27:58.124Z"
   },
   {
    "duration": 9,
    "start_time": "2024-10-01T11:27:59.022Z"
   },
   {
    "duration": 8,
    "start_time": "2024-10-01T11:27:59.034Z"
   },
   {
    "duration": 8,
    "start_time": "2024-10-01T11:27:59.044Z"
   },
   {
    "duration": 160,
    "start_time": "2024-10-01T11:27:59.054Z"
   },
   {
    "duration": 147,
    "start_time": "2024-10-01T11:29:33.638Z"
   },
   {
    "duration": 12,
    "start_time": "2024-10-01T11:35:44.577Z"
   },
   {
    "duration": 2623,
    "start_time": "2024-10-01T15:54:06.900Z"
   },
   {
    "duration": 49,
    "start_time": "2024-10-01T15:54:09.525Z"
   },
   {
    "duration": 3,
    "start_time": "2024-10-01T15:54:09.575Z"
   },
   {
    "duration": 11,
    "start_time": "2024-10-01T15:54:09.581Z"
   },
   {
    "duration": 18,
    "start_time": "2024-10-01T15:54:09.594Z"
   },
   {
    "duration": 11,
    "start_time": "2024-10-01T15:54:09.613Z"
   },
   {
    "duration": 4,
    "start_time": "2024-10-01T15:54:09.625Z"
   },
   {
    "duration": 2,
    "start_time": "2024-10-01T15:54:09.631Z"
   },
   {
    "duration": 7,
    "start_time": "2024-10-01T15:54:09.635Z"
   },
   {
    "duration": 8,
    "start_time": "2024-10-01T15:54:09.646Z"
   },
   {
    "duration": 4,
    "start_time": "2024-10-01T15:54:09.655Z"
   },
   {
    "duration": 4,
    "start_time": "2024-10-01T15:54:09.661Z"
   },
   {
    "duration": 55,
    "start_time": "2024-10-01T15:54:09.667Z"
   },
   {
    "duration": 5,
    "start_time": "2024-10-01T15:54:09.724Z"
   },
   {
    "duration": 12,
    "start_time": "2024-10-01T15:54:09.731Z"
   },
   {
    "duration": 8,
    "start_time": "2024-10-01T15:54:09.745Z"
   },
   {
    "duration": 11,
    "start_time": "2024-10-01T15:54:09.754Z"
   },
   {
    "duration": 45,
    "start_time": "2024-10-01T15:54:09.767Z"
   },
   {
    "duration": 14,
    "start_time": "2024-10-01T15:54:09.813Z"
   },
   {
    "duration": 11,
    "start_time": "2024-10-01T15:54:09.829Z"
   },
   {
    "duration": 4,
    "start_time": "2024-10-01T15:54:09.842Z"
   },
   {
    "duration": 16,
    "start_time": "2024-10-01T15:54:09.848Z"
   },
   {
    "duration": 3,
    "start_time": "2024-10-01T15:54:09.866Z"
   },
   {
    "duration": 197,
    "start_time": "2024-10-01T15:54:09.871Z"
   },
   {
    "duration": 8,
    "start_time": "2024-10-01T15:54:10.070Z"
   },
   {
    "duration": 15,
    "start_time": "2024-10-01T15:54:10.080Z"
   },
   {
    "duration": 12,
    "start_time": "2024-10-01T15:54:10.113Z"
   },
   {
    "duration": 12,
    "start_time": "2024-10-01T15:54:10.130Z"
   },
   {
    "duration": 4,
    "start_time": "2024-10-01T15:54:10.144Z"
   },
   {
    "duration": 10,
    "start_time": "2024-10-01T15:54:10.150Z"
   },
   {
    "duration": 72,
    "start_time": "2024-10-01T15:54:10.162Z"
   },
   {
    "duration": 4,
    "start_time": "2024-10-01T15:54:10.236Z"
   },
   {
    "duration": 327,
    "start_time": "2024-10-01T15:54:10.242Z"
   },
   {
    "duration": 4,
    "start_time": "2024-10-01T15:54:10.571Z"
   },
   {
    "duration": 322,
    "start_time": "2024-10-01T15:54:10.576Z"
   },
   {
    "duration": 11,
    "start_time": "2024-10-01T15:54:10.900Z"
   },
   {
    "duration": 90,
    "start_time": "2024-10-01T15:54:10.912Z"
   },
   {
    "duration": 900,
    "start_time": "2024-10-01T15:54:11.012Z"
   },
   {
    "duration": 10,
    "start_time": "2024-10-01T15:54:11.914Z"
   },
   {
    "duration": 8,
    "start_time": "2024-10-01T15:54:11.926Z"
   },
   {
    "duration": 9,
    "start_time": "2024-10-01T15:54:11.935Z"
   },
   {
    "duration": 168,
    "start_time": "2024-10-01T15:54:11.945Z"
   },
   {
    "duration": 158,
    "start_time": "2024-10-01T15:54:12.115Z"
   },
   {
    "duration": 11,
    "start_time": "2024-10-01T15:54:12.275Z"
   },
   {
    "duration": 2,
    "start_time": "2024-10-01T15:54:12.289Z"
   },
   {
    "duration": 740,
    "start_time": "2024-10-01T15:56:32.997Z"
   },
   {
    "duration": 50,
    "start_time": "2024-10-01T15:56:35.762Z"
   },
   {
    "duration": 6,
    "start_time": "2024-10-01T15:57:03.714Z"
   },
   {
    "duration": 15,
    "start_time": "2024-10-01T15:57:16.314Z"
   },
   {
    "duration": 161,
    "start_time": "2024-10-01T16:00:38.039Z"
   },
   {
    "duration": 822,
    "start_time": "2024-10-01T16:00:43.899Z"
   },
   {
    "duration": 45,
    "start_time": "2024-10-01T16:00:44.724Z"
   },
   {
    "duration": 3,
    "start_time": "2024-10-01T16:00:44.770Z"
   },
   {
    "duration": 12,
    "start_time": "2024-10-01T16:00:44.776Z"
   },
   {
    "duration": 7,
    "start_time": "2024-10-01T16:00:44.790Z"
   },
   {
    "duration": 14,
    "start_time": "2024-10-01T16:00:44.812Z"
   },
   {
    "duration": 4,
    "start_time": "2024-10-01T16:00:44.827Z"
   },
   {
    "duration": 2,
    "start_time": "2024-10-01T16:00:44.833Z"
   },
   {
    "duration": 8,
    "start_time": "2024-10-01T16:00:44.837Z"
   },
   {
    "duration": 8,
    "start_time": "2024-10-01T16:00:44.847Z"
   },
   {
    "duration": 4,
    "start_time": "2024-10-01T16:00:44.856Z"
   },
   {
    "duration": 5,
    "start_time": "2024-10-01T16:00:44.862Z"
   },
   {
    "duration": 52,
    "start_time": "2024-10-01T16:00:44.869Z"
   },
   {
    "duration": 8,
    "start_time": "2024-10-01T16:00:44.923Z"
   },
   {
    "duration": 13,
    "start_time": "2024-10-01T16:00:44.933Z"
   },
   {
    "duration": 8,
    "start_time": "2024-10-01T16:00:44.948Z"
   },
   {
    "duration": 11,
    "start_time": "2024-10-01T16:00:44.957Z"
   },
   {
    "duration": 42,
    "start_time": "2024-10-01T16:00:44.970Z"
   },
   {
    "duration": 15,
    "start_time": "2024-10-01T16:00:45.014Z"
   },
   {
    "duration": 11,
    "start_time": "2024-10-01T16:00:45.031Z"
   },
   {
    "duration": 4,
    "start_time": "2024-10-01T16:00:45.044Z"
   },
   {
    "duration": 16,
    "start_time": "2024-10-01T16:00:45.050Z"
   },
   {
    "duration": 3,
    "start_time": "2024-10-01T16:00:45.068Z"
   },
   {
    "duration": 166,
    "start_time": "2024-10-01T16:00:45.111Z"
   },
   {
    "duration": 9,
    "start_time": "2024-10-01T16:00:45.279Z"
   },
   {
    "duration": 32,
    "start_time": "2024-10-01T16:00:45.290Z"
   },
   {
    "duration": 9,
    "start_time": "2024-10-01T16:00:45.325Z"
   },
   {
    "duration": 11,
    "start_time": "2024-10-01T16:00:45.339Z"
   },
   {
    "duration": 3,
    "start_time": "2024-10-01T16:00:45.352Z"
   },
   {
    "duration": 12,
    "start_time": "2024-10-01T16:00:45.357Z"
   },
   {
    "duration": 68,
    "start_time": "2024-10-01T16:00:45.371Z"
   },
   {
    "duration": 5,
    "start_time": "2024-10-01T16:00:45.441Z"
   },
   {
    "duration": 386,
    "start_time": "2024-10-01T16:00:45.447Z"
   },
   {
    "duration": 4,
    "start_time": "2024-10-01T16:00:45.836Z"
   },
   {
    "duration": 312,
    "start_time": "2024-10-01T16:00:45.841Z"
   },
   {
    "duration": 5,
    "start_time": "2024-10-01T16:00:46.155Z"
   },
   {
    "duration": 35,
    "start_time": "2024-10-01T16:00:46.162Z"
   },
   {
    "duration": 914,
    "start_time": "2024-10-01T16:00:46.198Z"
   },
   {
    "duration": 9,
    "start_time": "2024-10-01T16:00:47.114Z"
   },
   {
    "duration": 8,
    "start_time": "2024-10-01T16:00:47.125Z"
   },
   {
    "duration": 8,
    "start_time": "2024-10-01T16:00:47.135Z"
   },
   {
    "duration": 170,
    "start_time": "2024-10-01T16:00:47.145Z"
   },
   {
    "duration": 225,
    "start_time": "2024-10-01T16:00:47.318Z"
   },
   {
    "duration": 11,
    "start_time": "2024-10-01T16:00:47.545Z"
   },
   {
    "duration": 604,
    "start_time": "2024-10-01T16:00:47.558Z"
   },
   {
    "duration": 0,
    "start_time": "2024-10-01T16:00:48.164Z"
   },
   {
    "duration": 2,
    "start_time": "2024-10-01T16:00:58.517Z"
   },
   {
    "duration": 849,
    "start_time": "2024-10-01T16:01:28.460Z"
   },
   {
    "duration": 44,
    "start_time": "2024-10-01T16:01:29.311Z"
   },
   {
    "duration": 3,
    "start_time": "2024-10-01T16:01:29.356Z"
   },
   {
    "duration": 11,
    "start_time": "2024-10-01T16:01:29.361Z"
   },
   {
    "duration": 6,
    "start_time": "2024-10-01T16:01:29.374Z"
   },
   {
    "duration": 10,
    "start_time": "2024-10-01T16:01:29.382Z"
   },
   {
    "duration": 3,
    "start_time": "2024-10-01T16:01:29.411Z"
   },
   {
    "duration": 2,
    "start_time": "2024-10-01T16:01:29.416Z"
   },
   {
    "duration": 7,
    "start_time": "2024-10-01T16:01:29.420Z"
   },
   {
    "duration": 8,
    "start_time": "2024-10-01T16:01:29.429Z"
   },
   {
    "duration": 3,
    "start_time": "2024-10-01T16:01:29.439Z"
   },
   {
    "duration": 3,
    "start_time": "2024-10-01T16:01:29.444Z"
   },
   {
    "duration": 12,
    "start_time": "2024-10-01T16:01:29.449Z"
   },
   {
    "duration": 5,
    "start_time": "2024-10-01T16:01:29.465Z"
   },
   {
    "duration": 14,
    "start_time": "2024-10-01T16:01:29.511Z"
   },
   {
    "duration": 8,
    "start_time": "2024-10-01T16:01:29.527Z"
   },
   {
    "duration": 11,
    "start_time": "2024-10-01T16:01:29.536Z"
   },
   {
    "duration": 10,
    "start_time": "2024-10-01T16:01:29.551Z"
   },
   {
    "duration": 12,
    "start_time": "2024-10-01T16:01:29.563Z"
   },
   {
    "duration": 46,
    "start_time": "2024-10-01T16:01:29.576Z"
   },
   {
    "duration": 3,
    "start_time": "2024-10-01T16:01:29.625Z"
   },
   {
    "duration": 17,
    "start_time": "2024-10-01T16:01:29.630Z"
   },
   {
    "duration": 4,
    "start_time": "2024-10-01T16:01:29.648Z"
   },
   {
    "duration": 192,
    "start_time": "2024-10-01T16:01:29.654Z"
   },
   {
    "duration": 9,
    "start_time": "2024-10-01T16:01:29.848Z"
   },
   {
    "duration": 17,
    "start_time": "2024-10-01T16:01:29.858Z"
   },
   {
    "duration": 11,
    "start_time": "2024-10-01T16:01:29.877Z"
   },
   {
    "duration": 31,
    "start_time": "2024-10-01T16:01:29.889Z"
   },
   {
    "duration": 4,
    "start_time": "2024-10-01T16:01:29.922Z"
   },
   {
    "duration": 11,
    "start_time": "2024-10-01T16:01:29.927Z"
   },
   {
    "duration": 74,
    "start_time": "2024-10-01T16:01:29.939Z"
   },
   {
    "duration": 5,
    "start_time": "2024-10-01T16:01:30.014Z"
   },
   {
    "duration": 369,
    "start_time": "2024-10-01T16:01:30.020Z"
   },
   {
    "duration": 4,
    "start_time": "2024-10-01T16:01:30.391Z"
   },
   {
    "duration": 305,
    "start_time": "2024-10-01T16:01:30.396Z"
   },
   {
    "duration": 5,
    "start_time": "2024-10-01T16:01:30.711Z"
   },
   {
    "duration": 36,
    "start_time": "2024-10-01T16:01:30.718Z"
   },
   {
    "duration": 916,
    "start_time": "2024-10-01T16:01:30.756Z"
   },
   {
    "duration": 10,
    "start_time": "2024-10-01T16:01:31.674Z"
   },
   {
    "duration": 8,
    "start_time": "2024-10-01T16:01:31.686Z"
   },
   {
    "duration": 11,
    "start_time": "2024-10-01T16:01:31.698Z"
   },
   {
    "duration": 162,
    "start_time": "2024-10-01T16:01:31.710Z"
   },
   {
    "duration": 225,
    "start_time": "2024-10-01T16:01:31.873Z"
   },
   {
    "duration": 17,
    "start_time": "2024-10-01T16:01:32.100Z"
   },
   {
    "duration": 3,
    "start_time": "2024-10-01T16:01:32.119Z"
   },
   {
    "duration": 856,
    "start_time": "2024-10-01T16:43:39.463Z"
   },
   {
    "duration": 46,
    "start_time": "2024-10-01T16:43:40.321Z"
   },
   {
    "duration": 4,
    "start_time": "2024-10-01T16:43:40.369Z"
   },
   {
    "duration": 10,
    "start_time": "2024-10-01T16:43:40.375Z"
   },
   {
    "duration": 7,
    "start_time": "2024-10-01T16:43:40.387Z"
   },
   {
    "duration": 24,
    "start_time": "2024-10-01T16:43:40.396Z"
   },
   {
    "duration": 5,
    "start_time": "2024-10-01T16:43:40.421Z"
   },
   {
    "duration": 3,
    "start_time": "2024-10-01T16:43:40.427Z"
   },
   {
    "duration": 9,
    "start_time": "2024-10-01T16:43:40.433Z"
   },
   {
    "duration": 9,
    "start_time": "2024-10-01T16:43:40.444Z"
   },
   {
    "duration": 4,
    "start_time": "2024-10-01T16:43:40.454Z"
   },
   {
    "duration": 3,
    "start_time": "2024-10-01T16:43:40.460Z"
   },
   {
    "duration": 47,
    "start_time": "2024-10-01T16:43:40.465Z"
   },
   {
    "duration": 6,
    "start_time": "2024-10-01T16:43:40.516Z"
   },
   {
    "duration": 14,
    "start_time": "2024-10-01T16:43:40.524Z"
   },
   {
    "duration": 9,
    "start_time": "2024-10-01T16:43:40.539Z"
   },
   {
    "duration": 11,
    "start_time": "2024-10-01T16:43:40.549Z"
   },
   {
    "duration": 10,
    "start_time": "2024-10-01T16:43:40.562Z"
   },
   {
    "duration": 43,
    "start_time": "2024-10-01T16:43:40.573Z"
   },
   {
    "duration": 11,
    "start_time": "2024-10-01T16:43:40.617Z"
   },
   {
    "duration": 4,
    "start_time": "2024-10-01T16:43:40.630Z"
   },
   {
    "duration": 18,
    "start_time": "2024-10-01T16:43:40.636Z"
   },
   {
    "duration": 5,
    "start_time": "2024-10-01T16:43:40.656Z"
   },
   {
    "duration": 190,
    "start_time": "2024-10-01T16:43:40.663Z"
   },
   {
    "duration": 8,
    "start_time": "2024-10-01T16:43:40.855Z"
   },
   {
    "duration": 15,
    "start_time": "2024-10-01T16:43:40.866Z"
   },
   {
    "duration": 30,
    "start_time": "2024-10-01T16:43:40.882Z"
   },
   {
    "duration": 10,
    "start_time": "2024-10-01T16:43:40.914Z"
   },
   {
    "duration": 3,
    "start_time": "2024-10-01T16:43:40.926Z"
   },
   {
    "duration": 9,
    "start_time": "2024-10-01T16:43:40.931Z"
   },
   {
    "duration": 32,
    "start_time": "2024-10-01T16:43:40.942Z"
   },
   {
    "duration": 38,
    "start_time": "2024-10-01T16:43:40.976Z"
   },
   {
    "duration": 382,
    "start_time": "2024-10-01T16:43:41.016Z"
   },
   {
    "duration": 11,
    "start_time": "2024-10-01T16:43:41.400Z"
   },
   {
    "duration": 301,
    "start_time": "2024-10-01T16:43:41.413Z"
   },
   {
    "duration": 5,
    "start_time": "2024-10-01T16:43:41.717Z"
   },
   {
    "duration": 35,
    "start_time": "2024-10-01T16:43:41.725Z"
   },
   {
    "duration": 922,
    "start_time": "2024-10-01T16:43:41.762Z"
   },
   {
    "duration": 10,
    "start_time": "2024-10-01T16:43:42.686Z"
   },
   {
    "duration": 8,
    "start_time": "2024-10-01T16:43:42.698Z"
   },
   {
    "duration": 9,
    "start_time": "2024-10-01T16:43:42.713Z"
   },
   {
    "duration": 159,
    "start_time": "2024-10-01T16:43:42.724Z"
   },
   {
    "duration": 229,
    "start_time": "2024-10-01T16:43:42.884Z"
   },
   {
    "duration": 12,
    "start_time": "2024-10-01T16:43:43.115Z"
   },
   {
    "duration": 3,
    "start_time": "2024-10-01T16:43:43.128Z"
   },
   {
    "duration": 862,
    "start_time": "2024-10-01T16:46:26.460Z"
   },
   {
    "duration": 50,
    "start_time": "2024-10-01T16:46:27.326Z"
   },
   {
    "duration": 6,
    "start_time": "2024-10-01T16:46:27.378Z"
   },
   {
    "duration": 16,
    "start_time": "2024-10-01T16:46:27.385Z"
   },
   {
    "duration": 12,
    "start_time": "2024-10-01T16:46:27.404Z"
   },
   {
    "duration": 13,
    "start_time": "2024-10-01T16:46:27.418Z"
   },
   {
    "duration": 4,
    "start_time": "2024-10-01T16:46:27.433Z"
   },
   {
    "duration": 2,
    "start_time": "2024-10-01T16:46:27.439Z"
   },
   {
    "duration": 12,
    "start_time": "2024-10-01T16:46:27.443Z"
   },
   {
    "duration": 11,
    "start_time": "2024-10-01T16:46:27.457Z"
   },
   {
    "duration": 5,
    "start_time": "2024-10-01T16:46:27.470Z"
   },
   {
    "duration": 38,
    "start_time": "2024-10-01T16:46:27.477Z"
   },
   {
    "duration": 18,
    "start_time": "2024-10-01T16:46:27.517Z"
   },
   {
    "duration": 8,
    "start_time": "2024-10-01T16:46:27.541Z"
   },
   {
    "duration": 17,
    "start_time": "2024-10-01T16:46:27.551Z"
   },
   {
    "duration": 11,
    "start_time": "2024-10-01T16:46:27.570Z"
   },
   {
    "duration": 41,
    "start_time": "2024-10-01T16:46:27.583Z"
   },
   {
    "duration": 12,
    "start_time": "2024-10-01T16:46:27.625Z"
   },
   {
    "duration": 12,
    "start_time": "2024-10-01T16:46:27.639Z"
   },
   {
    "duration": 16,
    "start_time": "2024-10-01T16:46:27.652Z"
   },
   {
    "duration": 4,
    "start_time": "2024-10-01T16:46:27.672Z"
   },
   {
    "duration": 50,
    "start_time": "2024-10-01T16:46:27.678Z"
   },
   {
    "duration": 4,
    "start_time": "2024-10-01T16:46:27.730Z"
   },
   {
    "duration": 196,
    "start_time": "2024-10-01T16:46:27.736Z"
   },
   {
    "duration": 9,
    "start_time": "2024-10-01T16:46:27.935Z"
   },
   {
    "duration": 18,
    "start_time": "2024-10-01T16:46:27.946Z"
   },
   {
    "duration": 9,
    "start_time": "2024-10-01T16:46:27.965Z"
   },
   {
    "duration": 45,
    "start_time": "2024-10-01T16:46:27.975Z"
   },
   {
    "duration": 4,
    "start_time": "2024-10-01T16:46:28.023Z"
   },
   {
    "duration": 24,
    "start_time": "2024-10-01T16:46:28.031Z"
   },
   {
    "duration": 38,
    "start_time": "2024-10-01T16:46:28.058Z"
   },
   {
    "duration": 10,
    "start_time": "2024-10-01T16:46:28.113Z"
   },
   {
    "duration": 397,
    "start_time": "2024-10-01T16:46:28.125Z"
   },
   {
    "duration": 6,
    "start_time": "2024-10-01T16:46:28.529Z"
   },
   {
    "duration": 325,
    "start_time": "2024-10-01T16:46:28.537Z"
   },
   {
    "duration": 6,
    "start_time": "2024-10-01T16:46:28.864Z"
   },
   {
    "duration": 48,
    "start_time": "2024-10-01T16:46:28.872Z"
   },
   {
    "duration": 958,
    "start_time": "2024-10-01T16:46:28.922Z"
   },
   {
    "duration": 10,
    "start_time": "2024-10-01T16:46:29.882Z"
   },
   {
    "duration": 11,
    "start_time": "2024-10-01T16:46:29.895Z"
   },
   {
    "duration": 15,
    "start_time": "2024-10-01T16:46:29.911Z"
   },
   {
    "duration": 172,
    "start_time": "2024-10-01T16:46:29.929Z"
   },
   {
    "duration": 234,
    "start_time": "2024-10-01T16:46:30.103Z"
   },
   {
    "duration": 12,
    "start_time": "2024-10-01T16:46:30.339Z"
   },
   {
    "duration": 2,
    "start_time": "2024-10-01T16:46:30.353Z"
   },
   {
    "duration": 282,
    "start_time": "2024-10-01T16:47:40.799Z"
   },
   {
    "duration": 19,
    "start_time": "2024-10-01T16:47:49.403Z"
   },
   {
    "duration": 19,
    "start_time": "2024-10-01T16:49:31.056Z"
   },
   {
    "duration": 43,
    "start_time": "2024-10-01T16:51:04.578Z"
   },
   {
    "duration": 50,
    "start_time": "2024-10-01T16:51:27.051Z"
   },
   {
    "duration": 12,
    "start_time": "2024-10-01T18:20:43.140Z"
   },
   {
    "duration": 9,
    "start_time": "2024-10-01T18:20:55.937Z"
   },
   {
    "duration": 20,
    "start_time": "2024-10-01T18:22:30.155Z"
   },
   {
    "duration": 10,
    "start_time": "2024-10-01T18:23:43.566Z"
   },
   {
    "duration": 21,
    "start_time": "2024-10-01T18:25:00.775Z"
   },
   {
    "duration": 19,
    "start_time": "2024-10-01T18:51:10.456Z"
   },
   {
    "duration": 3,
    "start_time": "2024-10-01T18:52:40.687Z"
   },
   {
    "duration": 7,
    "start_time": "2024-10-01T18:52:47.349Z"
   },
   {
    "duration": 9,
    "start_time": "2024-10-01T18:54:42.434Z"
   },
   {
    "duration": 2569,
    "start_time": "2024-10-02T13:29:28.274Z"
   },
   {
    "duration": 48,
    "start_time": "2024-10-02T13:29:30.845Z"
   },
   {
    "duration": 4,
    "start_time": "2024-10-02T13:29:30.895Z"
   },
   {
    "duration": 12,
    "start_time": "2024-10-02T13:29:30.900Z"
   },
   {
    "duration": 6,
    "start_time": "2024-10-02T13:29:30.915Z"
   },
   {
    "duration": 24,
    "start_time": "2024-10-02T13:29:30.923Z"
   },
   {
    "duration": 4,
    "start_time": "2024-10-02T13:29:30.949Z"
   },
   {
    "duration": 2,
    "start_time": "2024-10-02T13:29:30.955Z"
   },
   {
    "duration": 8,
    "start_time": "2024-10-02T13:29:30.959Z"
   },
   {
    "duration": 9,
    "start_time": "2024-10-02T13:29:30.968Z"
   },
   {
    "duration": 4,
    "start_time": "2024-10-02T13:29:30.978Z"
   },
   {
    "duration": 4,
    "start_time": "2024-10-02T13:29:30.984Z"
   },
   {
    "duration": 11,
    "start_time": "2024-10-02T13:29:30.990Z"
   },
   {
    "duration": 6,
    "start_time": "2024-10-02T13:29:31.043Z"
   },
   {
    "duration": 14,
    "start_time": "2024-10-02T13:29:31.053Z"
   },
   {
    "duration": 8,
    "start_time": "2024-10-02T13:29:31.068Z"
   },
   {
    "duration": 11,
    "start_time": "2024-10-02T13:29:31.078Z"
   },
   {
    "duration": 10,
    "start_time": "2024-10-02T13:29:31.091Z"
   },
   {
    "duration": 42,
    "start_time": "2024-10-02T13:29:31.103Z"
   },
   {
    "duration": 12,
    "start_time": "2024-10-02T13:29:31.147Z"
   },
   {
    "duration": 6,
    "start_time": "2024-10-02T13:29:31.161Z"
   },
   {
    "duration": 17,
    "start_time": "2024-10-02T13:29:31.168Z"
   },
   {
    "duration": 3,
    "start_time": "2024-10-02T13:29:31.186Z"
   },
   {
    "duration": 179,
    "start_time": "2024-10-02T13:29:31.191Z"
   },
   {
    "duration": 8,
    "start_time": "2024-10-02T13:29:31.372Z"
   },
   {
    "duration": 15,
    "start_time": "2024-10-02T13:29:31.382Z"
   },
   {
    "duration": 9,
    "start_time": "2024-10-02T13:29:31.398Z"
   },
   {
    "duration": 39,
    "start_time": "2024-10-02T13:29:31.409Z"
   },
   {
    "duration": 3,
    "start_time": "2024-10-02T13:29:31.450Z"
   },
   {
    "duration": 10,
    "start_time": "2024-10-02T13:29:31.454Z"
   },
   {
    "duration": 34,
    "start_time": "2024-10-02T13:29:31.466Z"
   },
   {
    "duration": 40,
    "start_time": "2024-10-02T13:29:31.502Z"
   },
   {
    "duration": 302,
    "start_time": "2024-10-02T13:29:31.545Z"
   },
   {
    "duration": 3,
    "start_time": "2024-10-02T13:29:31.849Z"
   },
   {
    "duration": 296,
    "start_time": "2024-10-02T13:29:31.854Z"
   },
   {
    "duration": 6,
    "start_time": "2024-10-02T13:29:32.152Z"
   },
   {
    "duration": 105,
    "start_time": "2024-10-02T13:29:32.159Z"
   },
   {
    "duration": 882,
    "start_time": "2024-10-02T13:29:32.266Z"
   },
   {
    "duration": 10,
    "start_time": "2024-10-02T13:29:33.150Z"
   },
   {
    "duration": 7,
    "start_time": "2024-10-02T13:29:33.162Z"
   },
   {
    "duration": 8,
    "start_time": "2024-10-02T13:29:33.174Z"
   },
   {
    "duration": 170,
    "start_time": "2024-10-02T13:29:33.183Z"
   },
   {
    "duration": 153,
    "start_time": "2024-10-02T13:29:33.355Z"
   },
   {
    "duration": 3,
    "start_time": "2024-10-02T13:29:33.509Z"
   },
   {
    "duration": 52,
    "start_time": "2024-10-02T13:29:33.513Z"
   },
   {
    "duration": 18,
    "start_time": "2024-10-02T13:29:33.567Z"
   },
   {
    "duration": 20,
    "start_time": "2024-10-02T13:29:33.587Z"
   },
   {
    "duration": 2,
    "start_time": "2024-10-02T13:29:33.609Z"
   },
   {
    "duration": 35,
    "start_time": "2024-10-02T13:29:33.613Z"
   },
   {
    "duration": 7,
    "start_time": "2024-10-02T13:29:33.649Z"
   },
   {
    "duration": 11,
    "start_time": "2024-10-02T13:32:08.185Z"
   },
   {
    "duration": 10,
    "start_time": "2024-10-02T13:32:13.449Z"
   },
   {
    "duration": 1601,
    "start_time": "2024-10-02T13:43:34.308Z"
   },
   {
    "duration": 1615,
    "start_time": "2024-10-02T13:44:11.507Z"
   },
   {
    "duration": 40,
    "start_time": "2024-10-02T13:46:41.861Z"
   },
   {
    "duration": 38,
    "start_time": "2024-10-02T13:46:55.608Z"
   },
   {
    "duration": 39,
    "start_time": "2024-10-02T13:47:06.776Z"
   },
   {
    "duration": 464,
    "start_time": "2024-10-02T13:48:34.823Z"
   },
   {
    "duration": 1569,
    "start_time": "2024-10-02T13:49:13.330Z"
   },
   {
    "duration": 124,
    "start_time": "2024-10-02T13:50:01.769Z"
   },
   {
    "duration": 256,
    "start_time": "2024-10-02T13:50:13.592Z"
   },
   {
    "duration": 43,
    "start_time": "2024-10-02T13:50:21.245Z"
   },
   {
    "duration": 1596,
    "start_time": "2024-10-02T13:51:08.019Z"
   },
   {
    "duration": 859,
    "start_time": "2024-10-02T13:52:37.964Z"
   },
   {
    "duration": 40,
    "start_time": "2024-10-02T13:52:38.825Z"
   },
   {
    "duration": 3,
    "start_time": "2024-10-02T13:52:38.866Z"
   },
   {
    "duration": 11,
    "start_time": "2024-10-02T13:52:38.872Z"
   },
   {
    "duration": 6,
    "start_time": "2024-10-02T13:52:38.884Z"
   },
   {
    "duration": 11,
    "start_time": "2024-10-02T13:52:38.892Z"
   },
   {
    "duration": 4,
    "start_time": "2024-10-02T13:52:38.904Z"
   },
   {
    "duration": 38,
    "start_time": "2024-10-02T13:52:38.910Z"
   },
   {
    "duration": 8,
    "start_time": "2024-10-02T13:52:38.950Z"
   },
   {
    "duration": 5,
    "start_time": "2024-10-02T13:52:38.962Z"
   },
   {
    "duration": 4,
    "start_time": "2024-10-02T13:52:38.968Z"
   },
   {
    "duration": 11,
    "start_time": "2024-10-02T13:52:38.973Z"
   },
   {
    "duration": 6,
    "start_time": "2024-10-02T13:52:38.986Z"
   },
   {
    "duration": 48,
    "start_time": "2024-10-02T13:52:38.994Z"
   },
   {
    "duration": 9,
    "start_time": "2024-10-02T13:52:39.044Z"
   },
   {
    "duration": 12,
    "start_time": "2024-10-02T13:52:39.054Z"
   },
   {
    "duration": 10,
    "start_time": "2024-10-02T13:52:39.068Z"
   },
   {
    "duration": 11,
    "start_time": "2024-10-02T13:52:39.080Z"
   },
   {
    "duration": 11,
    "start_time": "2024-10-02T13:52:39.092Z"
   },
   {
    "duration": 40,
    "start_time": "2024-10-02T13:52:39.105Z"
   },
   {
    "duration": 17,
    "start_time": "2024-10-02T13:52:39.147Z"
   },
   {
    "duration": 4,
    "start_time": "2024-10-02T13:52:39.165Z"
   },
   {
    "duration": 174,
    "start_time": "2024-10-02T13:52:39.170Z"
   },
   {
    "duration": 9,
    "start_time": "2024-10-02T13:52:39.346Z"
   },
   {
    "duration": 16,
    "start_time": "2024-10-02T13:52:39.357Z"
   },
   {
    "duration": 9,
    "start_time": "2024-10-02T13:52:39.375Z"
   },
   {
    "duration": 11,
    "start_time": "2024-10-02T13:52:39.385Z"
   },
   {
    "duration": 3,
    "start_time": "2024-10-02T13:52:39.400Z"
   },
   {
    "duration": 43,
    "start_time": "2024-10-02T13:52:39.404Z"
   },
   {
    "duration": 40,
    "start_time": "2024-10-02T13:52:39.449Z"
   },
   {
    "duration": 16,
    "start_time": "2024-10-02T13:52:39.492Z"
   },
   {
    "duration": 383,
    "start_time": "2024-10-02T13:52:39.511Z"
   },
   {
    "duration": 3,
    "start_time": "2024-10-02T13:52:39.896Z"
   },
   {
    "duration": 302,
    "start_time": "2024-10-02T13:52:39.901Z"
   },
   {
    "duration": 5,
    "start_time": "2024-10-02T13:52:40.205Z"
   },
   {
    "duration": 55,
    "start_time": "2024-10-02T13:52:40.212Z"
   },
   {
    "duration": 11,
    "start_time": "2024-10-02T13:53:12.413Z"
   },
   {
    "duration": 8,
    "start_time": "2024-10-02T13:53:12.425Z"
   },
   {
    "duration": 9,
    "start_time": "2024-10-02T13:53:12.443Z"
   },
   {
    "duration": 159,
    "start_time": "2024-10-02T13:53:12.454Z"
   },
   {
    "duration": 155,
    "start_time": "2024-10-02T13:53:12.614Z"
   },
   {
    "duration": 3,
    "start_time": "2024-10-02T13:53:12.771Z"
   },
   {
    "duration": 47,
    "start_time": "2024-10-02T13:53:12.775Z"
   },
   {
    "duration": 36,
    "start_time": "2024-10-02T13:53:12.824Z"
   },
   {
    "duration": 19,
    "start_time": "2024-10-02T13:53:12.861Z"
   },
   {
    "duration": 3,
    "start_time": "2024-10-02T13:53:12.882Z"
   },
   {
    "duration": 6,
    "start_time": "2024-10-02T13:53:12.887Z"
   },
   {
    "duration": 7,
    "start_time": "2024-10-02T13:53:12.894Z"
   },
   {
    "duration": 1584,
    "start_time": "2024-10-02T13:53:12.905Z"
   },
   {
    "duration": 45,
    "start_time": "2024-10-02T13:53:39.075Z"
   },
   {
    "duration": 3032,
    "start_time": "2024-10-02T13:53:42.764Z"
   },
   {
    "duration": 2495,
    "start_time": "2024-10-02T15:54:25.445Z"
   },
   {
    "duration": 47,
    "start_time": "2024-10-02T15:54:27.942Z"
   },
   {
    "duration": 3,
    "start_time": "2024-10-02T15:54:27.991Z"
   },
   {
    "duration": 11,
    "start_time": "2024-10-02T15:54:27.995Z"
   },
   {
    "duration": 6,
    "start_time": "2024-10-02T15:54:28.009Z"
   },
   {
    "duration": 11,
    "start_time": "2024-10-02T15:54:28.017Z"
   },
   {
    "duration": 4,
    "start_time": "2024-10-02T15:54:28.030Z"
   },
   {
    "duration": 8,
    "start_time": "2024-10-02T15:54:28.035Z"
   },
   {
    "duration": 8,
    "start_time": "2024-10-02T15:54:28.044Z"
   },
   {
    "duration": 4,
    "start_time": "2024-10-02T15:54:28.053Z"
   },
   {
    "duration": 46,
    "start_time": "2024-10-02T15:54:28.059Z"
   },
   {
    "duration": 12,
    "start_time": "2024-10-02T15:54:28.107Z"
   },
   {
    "duration": 6,
    "start_time": "2024-10-02T15:54:28.120Z"
   },
   {
    "duration": 12,
    "start_time": "2024-10-02T15:54:28.129Z"
   },
   {
    "duration": 8,
    "start_time": "2024-10-02T15:54:28.142Z"
   },
   {
    "duration": 11,
    "start_time": "2024-10-02T15:54:28.151Z"
   },
   {
    "duration": 43,
    "start_time": "2024-10-02T15:54:28.163Z"
   },
   {
    "duration": 10,
    "start_time": "2024-10-02T15:54:28.208Z"
   },
   {
    "duration": 10,
    "start_time": "2024-10-02T15:54:28.220Z"
   },
   {
    "duration": 3,
    "start_time": "2024-10-02T15:54:28.232Z"
   },
   {
    "duration": 16,
    "start_time": "2024-10-02T15:54:28.237Z"
   },
   {
    "duration": 4,
    "start_time": "2024-10-02T15:54:28.254Z"
   },
   {
    "duration": 188,
    "start_time": "2024-10-02T15:54:28.260Z"
   },
   {
    "duration": 8,
    "start_time": "2024-10-02T15:54:28.449Z"
   },
   {
    "duration": 15,
    "start_time": "2024-10-02T15:54:28.459Z"
   },
   {
    "duration": 30,
    "start_time": "2024-10-02T15:54:28.476Z"
   },
   {
    "duration": 11,
    "start_time": "2024-10-02T15:54:28.507Z"
   },
   {
    "duration": 3,
    "start_time": "2024-10-02T15:54:28.520Z"
   },
   {
    "duration": 10,
    "start_time": "2024-10-02T15:54:28.524Z"
   },
   {
    "duration": 72,
    "start_time": "2024-10-02T15:54:28.535Z"
   },
   {
    "duration": 4,
    "start_time": "2024-10-02T15:54:28.608Z"
   },
   {
    "duration": 318,
    "start_time": "2024-10-02T15:54:28.614Z"
   },
   {
    "duration": 4,
    "start_time": "2024-10-02T15:54:28.934Z"
   },
   {
    "duration": 309,
    "start_time": "2024-10-02T15:54:28.939Z"
   },
   {
    "duration": 6,
    "start_time": "2024-10-02T15:54:29.250Z"
   },
   {
    "duration": 58,
    "start_time": "2024-10-02T15:54:29.258Z"
   },
   {
    "duration": 1259,
    "start_time": "2024-10-02T15:54:29.318Z"
   },
   {
    "duration": 10,
    "start_time": "2024-10-02T15:54:30.579Z"
   },
   {
    "duration": 14,
    "start_time": "2024-10-02T15:54:30.591Z"
   },
   {
    "duration": 9,
    "start_time": "2024-10-02T15:54:30.607Z"
   },
   {
    "duration": 153,
    "start_time": "2024-10-02T15:54:30.620Z"
   },
   {
    "duration": 157,
    "start_time": "2024-10-02T15:54:30.775Z"
   },
   {
    "duration": 2,
    "start_time": "2024-10-02T15:54:30.933Z"
   },
   {
    "duration": 39,
    "start_time": "2024-10-02T15:54:30.937Z"
   },
   {
    "duration": 40,
    "start_time": "2024-10-02T15:54:30.978Z"
   },
   {
    "duration": 19,
    "start_time": "2024-10-02T15:54:31.019Z"
   },
   {
    "duration": 2,
    "start_time": "2024-10-02T15:54:31.039Z"
   },
   {
    "duration": 6,
    "start_time": "2024-10-02T15:54:31.043Z"
   },
   {
    "duration": 7,
    "start_time": "2024-10-02T15:54:31.050Z"
   },
   {
    "duration": 351,
    "start_time": "2024-10-02T15:54:52.781Z"
   },
   {
    "duration": 44,
    "start_time": "2024-10-02T15:55:24.839Z"
   },
   {
    "duration": 42,
    "start_time": "2024-10-02T15:55:41.847Z"
   },
   {
    "duration": 44,
    "start_time": "2024-10-02T15:55:51.795Z"
   },
   {
    "duration": 43,
    "start_time": "2024-10-02T15:55:58.557Z"
   },
   {
    "duration": 97,
    "start_time": "2024-10-02T15:56:10.017Z"
   },
   {
    "duration": 1548,
    "start_time": "2024-10-02T15:56:20.329Z"
   },
   {
    "duration": 125,
    "start_time": "2024-10-02T15:56:32.067Z"
   },
   {
    "duration": 43,
    "start_time": "2024-10-02T15:56:47.900Z"
   },
   {
    "duration": 1614,
    "start_time": "2024-10-02T15:56:54.081Z"
   },
   {
    "duration": 42,
    "start_time": "2024-10-02T15:57:05.239Z"
   },
   {
    "duration": 18,
    "start_time": "2024-10-02T15:59:56.835Z"
   },
   {
    "duration": 18,
    "start_time": "2024-10-02T16:00:03.604Z"
   },
   {
    "duration": 836,
    "start_time": "2024-10-02T16:00:16.749Z"
   },
   {
    "duration": 39,
    "start_time": "2024-10-02T16:00:17.588Z"
   },
   {
    "duration": 3,
    "start_time": "2024-10-02T16:00:17.629Z"
   },
   {
    "duration": 13,
    "start_time": "2024-10-02T16:00:17.634Z"
   },
   {
    "duration": 6,
    "start_time": "2024-10-02T16:00:17.650Z"
   },
   {
    "duration": 11,
    "start_time": "2024-10-02T16:00:17.657Z"
   },
   {
    "duration": 4,
    "start_time": "2024-10-02T16:00:17.669Z"
   },
   {
    "duration": 34,
    "start_time": "2024-10-02T16:00:17.675Z"
   },
   {
    "duration": 8,
    "start_time": "2024-10-02T16:00:17.711Z"
   },
   {
    "duration": 5,
    "start_time": "2024-10-02T16:00:17.720Z"
   },
   {
    "duration": 3,
    "start_time": "2024-10-02T16:00:17.728Z"
   },
   {
    "duration": 11,
    "start_time": "2024-10-02T16:00:17.733Z"
   },
   {
    "duration": 5,
    "start_time": "2024-10-02T16:00:17.746Z"
   },
   {
    "duration": 12,
    "start_time": "2024-10-02T16:00:17.755Z"
   },
   {
    "duration": 42,
    "start_time": "2024-10-02T16:00:17.768Z"
   },
   {
    "duration": 11,
    "start_time": "2024-10-02T16:00:17.812Z"
   },
   {
    "duration": 10,
    "start_time": "2024-10-02T16:00:17.825Z"
   },
   {
    "duration": 11,
    "start_time": "2024-10-02T16:00:17.837Z"
   },
   {
    "duration": 11,
    "start_time": "2024-10-02T16:00:17.849Z"
   },
   {
    "duration": 3,
    "start_time": "2024-10-02T16:00:17.862Z"
   },
   {
    "duration": 16,
    "start_time": "2024-10-02T16:00:17.905Z"
   },
   {
    "duration": 4,
    "start_time": "2024-10-02T16:00:17.922Z"
   },
   {
    "duration": 164,
    "start_time": "2024-10-02T16:00:17.927Z"
   },
   {
    "duration": 16,
    "start_time": "2024-10-02T16:00:18.092Z"
   },
   {
    "duration": 16,
    "start_time": "2024-10-02T16:00:18.109Z"
   },
   {
    "duration": 8,
    "start_time": "2024-10-02T16:00:18.127Z"
   },
   {
    "duration": 11,
    "start_time": "2024-10-02T16:00:18.137Z"
   },
   {
    "duration": 6,
    "start_time": "2024-10-02T16:00:18.150Z"
   },
   {
    "duration": 10,
    "start_time": "2024-10-02T16:00:18.159Z"
   },
   {
    "duration": 68,
    "start_time": "2024-10-02T16:00:18.171Z"
   },
   {
    "duration": 4,
    "start_time": "2024-10-02T16:00:18.240Z"
   },
   {
    "duration": 381,
    "start_time": "2024-10-02T16:00:18.246Z"
   },
   {
    "duration": 4,
    "start_time": "2024-10-02T16:00:18.628Z"
   },
   {
    "duration": 299,
    "start_time": "2024-10-02T16:00:18.634Z"
   },
   {
    "duration": 6,
    "start_time": "2024-10-02T16:00:18.935Z"
   },
   {
    "duration": 43,
    "start_time": "2024-10-02T16:00:18.943Z"
   },
   {
    "duration": 1621,
    "start_time": "2024-10-02T16:00:19.005Z"
   },
   {
    "duration": 11,
    "start_time": "2024-10-02T16:00:20.627Z"
   },
   {
    "duration": 8,
    "start_time": "2024-10-02T16:00:20.639Z"
   },
   {
    "duration": 9,
    "start_time": "2024-10-02T16:00:20.649Z"
   },
   {
    "duration": 152,
    "start_time": "2024-10-02T16:00:20.662Z"
   },
   {
    "duration": 160,
    "start_time": "2024-10-02T16:00:20.816Z"
   },
   {
    "duration": 3,
    "start_time": "2024-10-02T16:00:20.978Z"
   },
   {
    "duration": 56,
    "start_time": "2024-10-02T16:00:20.982Z"
   },
   {
    "duration": 19,
    "start_time": "2024-10-02T16:00:21.040Z"
   },
   {
    "duration": 19,
    "start_time": "2024-10-02T16:00:21.060Z"
   },
   {
    "duration": 26,
    "start_time": "2024-10-02T16:00:21.080Z"
   },
   {
    "duration": 6,
    "start_time": "2024-10-02T16:00:21.107Z"
   },
   {
    "duration": 6,
    "start_time": "2024-10-02T16:00:21.115Z"
   },
   {
    "duration": 1616,
    "start_time": "2024-10-02T17:41:58.662Z"
   },
   {
    "duration": 41,
    "start_time": "2024-10-02T17:42:29.696Z"
   },
   {
    "duration": 1639,
    "start_time": "2024-10-02T17:42:55.485Z"
   },
   {
    "duration": 127,
    "start_time": "2024-10-02T17:53:18.075Z"
   },
   {
    "duration": 9,
    "start_time": "2024-10-02T17:53:44.697Z"
   },
   {
    "duration": 839,
    "start_time": "2024-10-02T17:55:47.626Z"
   },
   {
    "duration": 39,
    "start_time": "2024-10-02T17:55:48.467Z"
   },
   {
    "duration": 3,
    "start_time": "2024-10-02T17:55:48.508Z"
   },
   {
    "duration": 11,
    "start_time": "2024-10-02T17:55:48.513Z"
   },
   {
    "duration": 6,
    "start_time": "2024-10-02T17:55:48.527Z"
   },
   {
    "duration": 10,
    "start_time": "2024-10-02T17:55:48.534Z"
   },
   {
    "duration": 3,
    "start_time": "2024-10-02T17:55:48.546Z"
   },
   {
    "duration": 7,
    "start_time": "2024-10-02T17:55:48.551Z"
   },
   {
    "duration": 45,
    "start_time": "2024-10-02T17:55:48.560Z"
   },
   {
    "duration": 4,
    "start_time": "2024-10-02T17:55:48.607Z"
   },
   {
    "duration": 4,
    "start_time": "2024-10-02T17:55:48.612Z"
   },
   {
    "duration": 11,
    "start_time": "2024-10-02T17:55:48.619Z"
   },
   {
    "duration": 5,
    "start_time": "2024-10-02T17:55:48.631Z"
   },
   {
    "duration": 12,
    "start_time": "2024-10-02T17:55:48.640Z"
   },
   {
    "duration": 8,
    "start_time": "2024-10-02T17:55:48.653Z"
   },
   {
    "duration": 46,
    "start_time": "2024-10-02T17:55:48.663Z"
   },
   {
    "duration": 12,
    "start_time": "2024-10-02T17:55:48.711Z"
   },
   {
    "duration": 10,
    "start_time": "2024-10-02T17:55:48.724Z"
   },
   {
    "duration": 10,
    "start_time": "2024-10-02T17:55:48.736Z"
   },
   {
    "duration": 4,
    "start_time": "2024-10-02T17:55:48.748Z"
   },
   {
    "duration": 16,
    "start_time": "2024-10-02T17:55:48.753Z"
   },
   {
    "duration": 37,
    "start_time": "2024-10-02T17:55:48.770Z"
   },
   {
    "duration": 163,
    "start_time": "2024-10-02T17:55:48.809Z"
   },
   {
    "duration": 8,
    "start_time": "2024-10-02T17:55:48.973Z"
   },
   {
    "duration": 27,
    "start_time": "2024-10-02T17:55:48.983Z"
   },
   {
    "duration": 9,
    "start_time": "2024-10-02T17:55:49.011Z"
   },
   {
    "duration": 10,
    "start_time": "2024-10-02T17:55:49.021Z"
   },
   {
    "duration": 3,
    "start_time": "2024-10-02T17:55:49.033Z"
   },
   {
    "duration": 9,
    "start_time": "2024-10-02T17:55:49.039Z"
   },
   {
    "duration": 72,
    "start_time": "2024-10-02T17:55:49.050Z"
   },
   {
    "duration": 4,
    "start_time": "2024-10-02T17:55:49.124Z"
   },
   {
    "duration": 369,
    "start_time": "2024-10-02T17:55:49.129Z"
   },
   {
    "duration": 3,
    "start_time": "2024-10-02T17:55:49.505Z"
   },
   {
    "duration": 312,
    "start_time": "2024-10-02T17:55:49.510Z"
   },
   {
    "duration": 5,
    "start_time": "2024-10-02T17:55:49.825Z"
   },
   {
    "duration": 41,
    "start_time": "2024-10-02T17:55:49.832Z"
   },
   {
    "duration": 1662,
    "start_time": "2024-10-02T17:55:49.875Z"
   },
   {
    "duration": 8,
    "start_time": "2024-10-02T17:55:51.540Z"
   },
   {
    "duration": 8,
    "start_time": "2024-10-02T17:55:51.550Z"
   },
   {
    "duration": 9,
    "start_time": "2024-10-02T17:55:51.560Z"
   },
   {
    "duration": 162,
    "start_time": "2024-10-02T17:55:51.574Z"
   },
   {
    "duration": 153,
    "start_time": "2024-10-02T17:55:51.738Z"
   },
   {
    "duration": 48,
    "start_time": "2024-10-02T17:55:51.892Z"
   },
   {
    "duration": 19,
    "start_time": "2024-10-02T17:55:51.941Z"
   },
   {
    "duration": 18,
    "start_time": "2024-10-02T17:55:51.961Z"
   },
   {
    "duration": 25,
    "start_time": "2024-10-02T17:55:51.981Z"
   },
   {
    "duration": 8,
    "start_time": "2024-10-02T17:55:52.008Z"
   },
   {
    "duration": 8,
    "start_time": "2024-10-02T17:55:52.018Z"
   },
   {
    "duration": 2465,
    "start_time": "2024-10-02T22:10:56.271Z"
   },
   {
    "duration": 50,
    "start_time": "2024-10-02T22:10:58.741Z"
   },
   {
    "duration": 3,
    "start_time": "2024-10-02T22:10:58.796Z"
   },
   {
    "duration": 13,
    "start_time": "2024-10-02T22:10:58.801Z"
   },
   {
    "duration": 6,
    "start_time": "2024-10-02T22:10:58.816Z"
   },
   {
    "duration": 10,
    "start_time": "2024-10-02T22:10:58.823Z"
   },
   {
    "duration": 4,
    "start_time": "2024-10-02T22:10:58.835Z"
   },
   {
    "duration": 7,
    "start_time": "2024-10-02T22:10:58.842Z"
   },
   {
    "duration": 8,
    "start_time": "2024-10-02T22:10:58.851Z"
   },
   {
    "duration": 44,
    "start_time": "2024-10-02T22:10:58.861Z"
   },
   {
    "duration": 3,
    "start_time": "2024-10-02T22:10:58.907Z"
   },
   {
    "duration": 13,
    "start_time": "2024-10-02T22:10:58.911Z"
   },
   {
    "duration": 5,
    "start_time": "2024-10-02T22:10:58.925Z"
   },
   {
    "duration": 12,
    "start_time": "2024-10-02T22:10:58.932Z"
   },
   {
    "duration": 8,
    "start_time": "2024-10-02T22:10:58.946Z"
   },
   {
    "duration": 11,
    "start_time": "2024-10-02T22:10:58.956Z"
   },
   {
    "duration": 45,
    "start_time": "2024-10-02T22:10:58.969Z"
   },
   {
    "duration": 12,
    "start_time": "2024-10-02T22:10:59.016Z"
   },
   {
    "duration": 11,
    "start_time": "2024-10-02T22:10:59.030Z"
   },
   {
    "duration": 5,
    "start_time": "2024-10-02T22:10:59.042Z"
   },
   {
    "duration": 16,
    "start_time": "2024-10-02T22:10:59.048Z"
   },
   {
    "duration": 4,
    "start_time": "2024-10-02T22:10:59.065Z"
   },
   {
    "duration": 155,
    "start_time": "2024-10-02T22:10:59.105Z"
   },
   {
    "duration": 7,
    "start_time": "2024-10-02T22:10:59.262Z"
   },
   {
    "duration": 15,
    "start_time": "2024-10-02T22:10:59.271Z"
   },
   {
    "duration": 8,
    "start_time": "2024-10-02T22:10:59.306Z"
   },
   {
    "duration": 10,
    "start_time": "2024-10-02T22:10:59.316Z"
   },
   {
    "duration": 3,
    "start_time": "2024-10-02T22:10:59.328Z"
   },
   {
    "duration": 14,
    "start_time": "2024-10-02T22:10:59.333Z"
   },
   {
    "duration": 63,
    "start_time": "2024-10-02T22:10:59.348Z"
   },
   {
    "duration": 9,
    "start_time": "2024-10-02T22:10:59.412Z"
   },
   {
    "duration": 328,
    "start_time": "2024-10-02T22:10:59.423Z"
   },
   {
    "duration": 3,
    "start_time": "2024-10-02T22:10:59.754Z"
   },
   {
    "duration": 347,
    "start_time": "2024-10-02T22:10:59.759Z"
   },
   {
    "duration": 5,
    "start_time": "2024-10-02T22:11:00.109Z"
   },
   {
    "duration": 39,
    "start_time": "2024-10-02T22:11:00.116Z"
   },
   {
    "duration": 1700,
    "start_time": "2024-10-02T22:11:00.157Z"
   },
   {
    "duration": 9,
    "start_time": "2024-10-02T22:11:01.859Z"
   },
   {
    "duration": 9,
    "start_time": "2024-10-02T22:11:01.870Z"
   },
   {
    "duration": 9,
    "start_time": "2024-10-02T22:11:01.880Z"
   },
   {
    "duration": 152,
    "start_time": "2024-10-02T22:11:01.891Z"
   },
   {
    "duration": 161,
    "start_time": "2024-10-02T22:11:02.045Z"
   },
   {
    "duration": 44,
    "start_time": "2024-10-02T22:11:02.208Z"
   },
   {
    "duration": 19,
    "start_time": "2024-10-02T22:11:02.254Z"
   },
   {
    "duration": 47,
    "start_time": "2024-10-02T22:11:02.274Z"
   },
   {
    "duration": 2,
    "start_time": "2024-10-02T22:11:02.322Z"
   },
   {
    "duration": 7,
    "start_time": "2024-10-02T22:11:02.326Z"
   },
   {
    "duration": 7,
    "start_time": "2024-10-02T22:11:02.335Z"
   },
   {
    "duration": 3,
    "start_time": "2024-10-02T22:12:13.255Z"
   },
   {
    "duration": 783,
    "start_time": "2024-10-02T22:12:17.248Z"
   },
   {
    "duration": 32,
    "start_time": "2024-10-02T22:12:18.033Z"
   },
   {
    "duration": 4,
    "start_time": "2024-10-02T22:12:18.067Z"
   },
   {
    "duration": 10,
    "start_time": "2024-10-02T22:12:18.073Z"
   },
   {
    "duration": 24,
    "start_time": "2024-10-02T22:12:18.085Z"
   },
   {
    "duration": 10,
    "start_time": "2024-10-02T22:12:18.111Z"
   },
   {
    "duration": 4,
    "start_time": "2024-10-02T22:12:18.122Z"
   },
   {
    "duration": 7,
    "start_time": "2024-10-02T22:12:18.128Z"
   },
   {
    "duration": 7,
    "start_time": "2024-10-02T22:12:18.137Z"
   },
   {
    "duration": 4,
    "start_time": "2024-10-02T22:12:18.148Z"
   },
   {
    "duration": 3,
    "start_time": "2024-10-02T22:12:18.154Z"
   },
   {
    "duration": 54,
    "start_time": "2024-10-02T22:12:18.159Z"
   },
   {
    "duration": 4,
    "start_time": "2024-10-02T22:12:18.215Z"
   },
   {
    "duration": 13,
    "start_time": "2024-10-02T22:12:18.222Z"
   },
   {
    "duration": 8,
    "start_time": "2024-10-02T22:12:18.236Z"
   },
   {
    "duration": 9,
    "start_time": "2024-10-02T22:12:18.246Z"
   },
   {
    "duration": 9,
    "start_time": "2024-10-02T22:12:18.257Z"
   },
   {
    "duration": 42,
    "start_time": "2024-10-02T22:12:18.268Z"
   },
   {
    "duration": 10,
    "start_time": "2024-10-02T22:12:18.312Z"
   },
   {
    "duration": 4,
    "start_time": "2024-10-02T22:12:18.323Z"
   },
   {
    "duration": 17,
    "start_time": "2024-10-02T22:12:18.328Z"
   },
   {
    "duration": 5,
    "start_time": "2024-10-02T22:12:18.347Z"
   },
   {
    "duration": 177,
    "start_time": "2024-10-02T22:12:18.353Z"
   },
   {
    "duration": 7,
    "start_time": "2024-10-02T22:12:18.533Z"
   },
   {
    "duration": 14,
    "start_time": "2024-10-02T22:12:18.542Z"
   },
   {
    "duration": 8,
    "start_time": "2024-10-02T22:12:18.558Z"
   },
   {
    "duration": 38,
    "start_time": "2024-10-02T22:12:18.568Z"
   },
   {
    "duration": 3,
    "start_time": "2024-10-02T22:12:18.610Z"
   },
   {
    "duration": 8,
    "start_time": "2024-10-02T22:12:18.615Z"
   },
   {
    "duration": 32,
    "start_time": "2024-10-02T22:12:18.625Z"
   },
   {
    "duration": 3,
    "start_time": "2024-10-02T22:12:18.659Z"
   },
   {
    "duration": 323,
    "start_time": "2024-10-02T22:12:18.664Z"
   },
   {
    "duration": 4,
    "start_time": "2024-10-02T22:12:18.989Z"
   },
   {
    "duration": 309,
    "start_time": "2024-10-02T22:12:18.994Z"
   },
   {
    "duration": 5,
    "start_time": "2024-10-02T22:12:19.305Z"
   },
   {
    "duration": 12,
    "start_time": "2024-10-02T22:12:19.313Z"
   },
   {
    "duration": 615,
    "start_time": "2024-10-02T22:12:19.327Z"
   },
   {
    "duration": 10,
    "start_time": "2024-10-02T22:12:19.943Z"
   },
   {
    "duration": 8,
    "start_time": "2024-10-02T22:12:19.954Z"
   },
   {
    "duration": 10,
    "start_time": "2024-10-02T22:12:19.964Z"
   },
   {
    "duration": 166,
    "start_time": "2024-10-02T22:12:19.975Z"
   },
   {
    "duration": 164,
    "start_time": "2024-10-02T22:12:20.143Z"
   },
   {
    "duration": 36,
    "start_time": "2024-10-02T22:12:20.309Z"
   },
   {
    "duration": 19,
    "start_time": "2024-10-02T22:12:20.347Z"
   },
   {
    "duration": 44,
    "start_time": "2024-10-02T22:12:20.367Z"
   },
   {
    "duration": 2,
    "start_time": "2024-10-02T22:12:20.413Z"
   },
   {
    "duration": 9,
    "start_time": "2024-10-02T22:12:20.416Z"
   },
   {
    "duration": 6,
    "start_time": "2024-10-02T22:12:20.428Z"
   },
   {
    "duration": 828,
    "start_time": "2024-10-02T22:13:51.464Z"
   },
   {
    "duration": 37,
    "start_time": "2024-10-02T22:13:52.294Z"
   },
   {
    "duration": 4,
    "start_time": "2024-10-02T22:13:52.332Z"
   },
   {
    "duration": 11,
    "start_time": "2024-10-02T22:13:52.338Z"
   },
   {
    "duration": 6,
    "start_time": "2024-10-02T22:13:52.350Z"
   },
   {
    "duration": 11,
    "start_time": "2024-10-02T22:13:52.358Z"
   },
   {
    "duration": 3,
    "start_time": "2024-10-02T22:13:52.371Z"
   },
   {
    "duration": 35,
    "start_time": "2024-10-02T22:13:52.376Z"
   },
   {
    "duration": 9,
    "start_time": "2024-10-02T22:13:52.412Z"
   },
   {
    "duration": 7,
    "start_time": "2024-10-02T22:13:52.425Z"
   },
   {
    "duration": 6,
    "start_time": "2024-10-02T22:13:52.434Z"
   },
   {
    "duration": 15,
    "start_time": "2024-10-02T22:13:52.442Z"
   },
   {
    "duration": 2,
    "start_time": "2024-10-02T22:13:52.458Z"
   },
   {
    "duration": 12,
    "start_time": "2024-10-02T22:13:52.462Z"
   },
   {
    "duration": 38,
    "start_time": "2024-10-02T22:13:52.475Z"
   },
   {
    "duration": 9,
    "start_time": "2024-10-02T22:13:52.515Z"
   },
   {
    "duration": 8,
    "start_time": "2024-10-02T22:13:52.525Z"
   },
   {
    "duration": 9,
    "start_time": "2024-10-02T22:13:52.535Z"
   },
   {
    "duration": 8,
    "start_time": "2024-10-02T22:13:52.547Z"
   },
   {
    "duration": 4,
    "start_time": "2024-10-02T22:13:52.557Z"
   },
   {
    "duration": 52,
    "start_time": "2024-10-02T22:13:52.563Z"
   },
   {
    "duration": 3,
    "start_time": "2024-10-02T22:13:52.618Z"
   },
   {
    "duration": 170,
    "start_time": "2024-10-02T22:13:52.624Z"
   },
   {
    "duration": 11,
    "start_time": "2024-10-02T22:13:52.796Z"
   },
   {
    "duration": 14,
    "start_time": "2024-10-02T22:13:52.810Z"
   },
   {
    "duration": 8,
    "start_time": "2024-10-02T22:13:52.826Z"
   },
   {
    "duration": 11,
    "start_time": "2024-10-02T22:13:52.835Z"
   },
   {
    "duration": 2,
    "start_time": "2024-10-02T22:13:52.850Z"
   },
   {
    "duration": 8,
    "start_time": "2024-10-02T22:13:52.853Z"
   },
   {
    "duration": 74,
    "start_time": "2024-10-02T22:13:52.862Z"
   },
   {
    "duration": 4,
    "start_time": "2024-10-02T22:13:52.937Z"
   },
   {
    "duration": 328,
    "start_time": "2024-10-02T22:13:52.943Z"
   },
   {
    "duration": 6,
    "start_time": "2024-10-02T22:13:53.273Z"
   },
   {
    "duration": 304,
    "start_time": "2024-10-02T22:13:53.281Z"
   },
   {
    "duration": 5,
    "start_time": "2024-10-02T22:13:53.587Z"
   },
   {
    "duration": 12,
    "start_time": "2024-10-02T22:13:53.605Z"
   },
   {
    "duration": 611,
    "start_time": "2024-10-02T22:13:53.619Z"
   },
   {
    "duration": 10,
    "start_time": "2024-10-02T22:13:54.231Z"
   },
   {
    "duration": 9,
    "start_time": "2024-10-02T22:13:54.243Z"
   },
   {
    "duration": 9,
    "start_time": "2024-10-02T22:13:54.253Z"
   },
   {
    "duration": 148,
    "start_time": "2024-10-02T22:13:54.264Z"
   },
   {
    "duration": 158,
    "start_time": "2024-10-02T22:13:54.414Z"
   },
   {
    "duration": 38,
    "start_time": "2024-10-02T22:13:54.574Z"
   },
   {
    "duration": 18,
    "start_time": "2024-10-02T22:13:54.614Z"
   },
   {
    "duration": 18,
    "start_time": "2024-10-02T22:13:54.633Z"
   },
   {
    "duration": 2,
    "start_time": "2024-10-02T22:13:54.652Z"
   },
   {
    "duration": 8,
    "start_time": "2024-10-02T22:13:54.656Z"
   },
   {
    "duration": 44,
    "start_time": "2024-10-02T22:13:54.665Z"
   },
   {
    "duration": 3,
    "start_time": "2024-10-02T22:18:15.109Z"
   },
   {
    "duration": 11,
    "start_time": "2024-10-02T22:19:27.303Z"
   },
   {
    "duration": 7,
    "start_time": "2024-10-02T22:21:32.905Z"
   },
   {
    "duration": 6,
    "start_time": "2024-10-02T22:21:56.718Z"
   },
   {
    "duration": 9,
    "start_time": "2024-10-02T22:24:30.768Z"
   },
   {
    "duration": 4,
    "start_time": "2024-10-02T22:25:51.261Z"
   },
   {
    "duration": 5,
    "start_time": "2024-10-02T22:26:01.536Z"
   },
   {
    "duration": 6,
    "start_time": "2024-10-02T22:26:43.568Z"
   },
   {
    "duration": 7,
    "start_time": "2024-10-02T22:26:45.772Z"
   },
   {
    "duration": 7,
    "start_time": "2024-10-02T22:26:52.332Z"
   },
   {
    "duration": 9,
    "start_time": "2024-10-02T22:31:05.945Z"
   },
   {
    "duration": 8,
    "start_time": "2024-10-02T22:31:14.304Z"
   },
   {
    "duration": 9,
    "start_time": "2024-10-02T22:31:27.468Z"
   },
   {
    "duration": 7,
    "start_time": "2024-10-02T22:31:59.153Z"
   },
   {
    "duration": 6,
    "start_time": "2024-10-02T22:32:17.166Z"
   },
   {
    "duration": 6,
    "start_time": "2024-10-02T22:32:55.713Z"
   },
   {
    "duration": 8,
    "start_time": "2024-10-02T22:33:34.147Z"
   },
   {
    "duration": 6,
    "start_time": "2024-10-02T22:33:49.177Z"
   },
   {
    "duration": 4,
    "start_time": "2024-10-02T22:38:04.642Z"
   },
   {
    "duration": 296,
    "start_time": "2024-10-02T22:41:20.835Z"
   },
   {
    "duration": 210,
    "start_time": "2024-10-02T22:42:01.475Z"
   },
   {
    "duration": 344,
    "start_time": "2024-10-02T22:42:24.655Z"
   },
   {
    "duration": 200,
    "start_time": "2024-10-02T22:42:50.306Z"
   },
   {
    "duration": 8,
    "start_time": "2024-10-02T22:44:00.023Z"
   },
   {
    "duration": 10,
    "start_time": "2024-10-02T22:45:16.259Z"
   },
   {
    "duration": 20,
    "start_time": "2024-10-02T22:46:46.993Z"
   },
   {
    "duration": 20,
    "start_time": "2024-10-02T23:03:30.744Z"
   },
   {
    "duration": 20,
    "start_time": "2024-10-02T23:03:44.492Z"
   },
   {
    "duration": 22,
    "start_time": "2024-10-02T23:04:18.015Z"
   },
   {
    "duration": 112,
    "start_time": "2024-10-02T23:06:24.263Z"
   },
   {
    "duration": 117,
    "start_time": "2024-10-02T23:06:44.194Z"
   },
   {
    "duration": 148,
    "start_time": "2024-10-02T23:08:30.357Z"
   },
   {
    "duration": 113,
    "start_time": "2024-10-02T23:09:31.892Z"
   },
   {
    "duration": 226,
    "start_time": "2024-10-02T23:09:34.690Z"
   },
   {
    "duration": 136,
    "start_time": "2024-10-02T23:13:26.394Z"
   },
   {
    "duration": 796,
    "start_time": "2024-10-02T23:14:12.890Z"
   },
   {
    "duration": 40,
    "start_time": "2024-10-02T23:14:13.688Z"
   },
   {
    "duration": 3,
    "start_time": "2024-10-02T23:14:13.731Z"
   },
   {
    "duration": 12,
    "start_time": "2024-10-02T23:14:13.737Z"
   },
   {
    "duration": 7,
    "start_time": "2024-10-02T23:14:13.751Z"
   },
   {
    "duration": 12,
    "start_time": "2024-10-02T23:14:13.760Z"
   },
   {
    "duration": 32,
    "start_time": "2024-10-02T23:14:13.774Z"
   },
   {
    "duration": 8,
    "start_time": "2024-10-02T23:14:13.807Z"
   },
   {
    "duration": 9,
    "start_time": "2024-10-02T23:14:13.817Z"
   },
   {
    "duration": 4,
    "start_time": "2024-10-02T23:14:13.831Z"
   },
   {
    "duration": 3,
    "start_time": "2024-10-02T23:14:13.837Z"
   },
   {
    "duration": 12,
    "start_time": "2024-10-02T23:14:13.842Z"
   },
   {
    "duration": 2,
    "start_time": "2024-10-02T23:14:13.856Z"
   },
   {
    "duration": 49,
    "start_time": "2024-10-02T23:14:13.859Z"
   },
   {
    "duration": 8,
    "start_time": "2024-10-02T23:14:13.909Z"
   },
   {
    "duration": 8,
    "start_time": "2024-10-02T23:14:13.919Z"
   },
   {
    "duration": 9,
    "start_time": "2024-10-02T23:14:13.929Z"
   },
   {
    "duration": 9,
    "start_time": "2024-10-02T23:14:13.939Z"
   },
   {
    "duration": 9,
    "start_time": "2024-10-02T23:14:13.949Z"
   },
   {
    "duration": 4,
    "start_time": "2024-10-02T23:14:13.959Z"
   },
   {
    "duration": 18,
    "start_time": "2024-10-02T23:14:14.004Z"
   },
   {
    "duration": 4,
    "start_time": "2024-10-02T23:14:14.024Z"
   },
   {
    "duration": 175,
    "start_time": "2024-10-02T23:14:14.030Z"
   },
   {
    "duration": 6,
    "start_time": "2024-10-02T23:14:14.207Z"
   },
   {
    "duration": 16,
    "start_time": "2024-10-02T23:14:14.215Z"
   },
   {
    "duration": 10,
    "start_time": "2024-10-02T23:14:14.232Z"
   },
   {
    "duration": 11,
    "start_time": "2024-10-02T23:14:14.243Z"
   },
   {
    "duration": 3,
    "start_time": "2024-10-02T23:14:14.259Z"
   },
   {
    "duration": 43,
    "start_time": "2024-10-02T23:14:14.264Z"
   },
   {
    "duration": 34,
    "start_time": "2024-10-02T23:14:14.309Z"
   },
   {
    "duration": 4,
    "start_time": "2024-10-02T23:14:14.345Z"
   },
   {
    "duration": 318,
    "start_time": "2024-10-02T23:14:14.350Z"
   },
   {
    "duration": 3,
    "start_time": "2024-10-02T23:14:14.670Z"
   },
   {
    "duration": 309,
    "start_time": "2024-10-02T23:14:14.675Z"
   },
   {
    "duration": 5,
    "start_time": "2024-10-02T23:14:14.986Z"
   },
   {
    "duration": 22,
    "start_time": "2024-10-02T23:14:14.993Z"
   },
   {
    "duration": 613,
    "start_time": "2024-10-02T23:14:15.017Z"
   },
   {
    "duration": 8,
    "start_time": "2024-10-02T23:14:15.632Z"
   },
   {
    "duration": 8,
    "start_time": "2024-10-02T23:14:15.642Z"
   },
   {
    "duration": 9,
    "start_time": "2024-10-02T23:14:15.651Z"
   },
   {
    "duration": 160,
    "start_time": "2024-10-02T23:14:15.662Z"
   },
   {
    "duration": 172,
    "start_time": "2024-10-02T23:14:15.823Z"
   },
   {
    "duration": 31,
    "start_time": "2024-10-02T23:14:15.997Z"
   },
   {
    "duration": 17,
    "start_time": "2024-10-02T23:14:16.031Z"
   },
   {
    "duration": 18,
    "start_time": "2024-10-02T23:14:16.049Z"
   },
   {
    "duration": 48,
    "start_time": "2024-10-02T23:14:16.068Z"
   },
   {
    "duration": 133,
    "start_time": "2024-10-02T23:14:16.118Z"
   },
   {
    "duration": 123,
    "start_time": "2024-10-02T23:14:16.253Z"
   },
   {
    "duration": 120,
    "start_time": "2024-10-02T23:14:16.378Z"
   },
   {
    "duration": 10,
    "start_time": "2024-10-02T23:14:16.500Z"
   },
   {
    "duration": 6,
    "start_time": "2024-10-02T23:14:16.511Z"
   },
   {
    "duration": 805,
    "start_time": "2024-10-02T23:27:08.274Z"
   },
   {
    "duration": 37,
    "start_time": "2024-10-02T23:27:09.082Z"
   },
   {
    "duration": 3,
    "start_time": "2024-10-02T23:27:09.121Z"
   },
   {
    "duration": 10,
    "start_time": "2024-10-02T23:27:09.126Z"
   },
   {
    "duration": 6,
    "start_time": "2024-10-02T23:27:09.139Z"
   },
   {
    "duration": 11,
    "start_time": "2024-10-02T23:27:09.146Z"
   },
   {
    "duration": 4,
    "start_time": "2024-10-02T23:27:09.159Z"
   },
   {
    "duration": 7,
    "start_time": "2024-10-02T23:27:09.165Z"
   },
   {
    "duration": 7,
    "start_time": "2024-10-02T23:27:09.206Z"
   },
   {
    "duration": 4,
    "start_time": "2024-10-02T23:27:09.215Z"
   },
   {
    "duration": 4,
    "start_time": "2024-10-02T23:27:09.221Z"
   },
   {
    "duration": 11,
    "start_time": "2024-10-02T23:27:09.226Z"
   },
   {
    "duration": 2,
    "start_time": "2024-10-02T23:27:09.238Z"
   },
   {
    "duration": 12,
    "start_time": "2024-10-02T23:27:09.244Z"
   },
   {
    "duration": 7,
    "start_time": "2024-10-02T23:27:09.257Z"
   },
   {
    "duration": 46,
    "start_time": "2024-10-02T23:27:09.265Z"
   },
   {
    "duration": 8,
    "start_time": "2024-10-02T23:27:09.313Z"
   },
   {
    "duration": 8,
    "start_time": "2024-10-02T23:27:09.323Z"
   },
   {
    "duration": 8,
    "start_time": "2024-10-02T23:27:09.333Z"
   },
   {
    "duration": 3,
    "start_time": "2024-10-02T23:27:09.343Z"
   },
   {
    "duration": 17,
    "start_time": "2024-10-02T23:27:09.348Z"
   },
   {
    "duration": 39,
    "start_time": "2024-10-02T23:27:09.367Z"
   },
   {
    "duration": 158,
    "start_time": "2024-10-02T23:27:09.407Z"
   },
   {
    "duration": 7,
    "start_time": "2024-10-02T23:27:09.567Z"
   },
   {
    "duration": 29,
    "start_time": "2024-10-02T23:27:09.575Z"
   },
   {
    "duration": 11,
    "start_time": "2024-10-02T23:27:09.606Z"
   },
   {
    "duration": 11,
    "start_time": "2024-10-02T23:27:09.618Z"
   },
   {
    "duration": 3,
    "start_time": "2024-10-02T23:27:09.630Z"
   },
   {
    "duration": 7,
    "start_time": "2024-10-02T23:27:09.635Z"
   },
   {
    "duration": 64,
    "start_time": "2024-10-02T23:27:09.643Z"
   },
   {
    "duration": 4,
    "start_time": "2024-10-02T23:27:09.710Z"
   },
   {
    "duration": 315,
    "start_time": "2024-10-02T23:27:09.715Z"
   },
   {
    "duration": 3,
    "start_time": "2024-10-02T23:27:10.032Z"
   },
   {
    "duration": 299,
    "start_time": "2024-10-02T23:27:10.037Z"
   },
   {
    "duration": 6,
    "start_time": "2024-10-02T23:27:10.337Z"
   },
   {
    "duration": 13,
    "start_time": "2024-10-02T23:27:10.344Z"
   },
   {
    "duration": 627,
    "start_time": "2024-10-02T23:27:10.358Z"
   },
   {
    "duration": 10,
    "start_time": "2024-10-02T23:27:10.989Z"
   },
   {
    "duration": 8,
    "start_time": "2024-10-02T23:27:11.000Z"
   },
   {
    "duration": 8,
    "start_time": "2024-10-02T23:27:11.010Z"
   },
   {
    "duration": 153,
    "start_time": "2024-10-02T23:27:11.023Z"
   },
   {
    "duration": 161,
    "start_time": "2024-10-02T23:27:11.177Z"
   },
   {
    "duration": 26,
    "start_time": "2024-10-02T23:27:11.340Z"
   },
   {
    "duration": 38,
    "start_time": "2024-10-02T23:27:11.368Z"
   },
   {
    "duration": 18,
    "start_time": "2024-10-02T23:27:11.408Z"
   },
   {
    "duration": 19,
    "start_time": "2024-10-02T23:27:11.428Z"
   },
   {
    "duration": 140,
    "start_time": "2024-10-02T23:27:11.449Z"
   },
   {
    "duration": 121,
    "start_time": "2024-10-02T23:27:11.591Z"
   },
   {
    "duration": 125,
    "start_time": "2024-10-02T23:27:11.714Z"
   },
   {
    "duration": 6,
    "start_time": "2024-10-02T23:27:11.841Z"
   },
   {
    "duration": 6,
    "start_time": "2024-10-02T23:27:11.848Z"
   },
   {
    "duration": 821,
    "start_time": "2024-10-02T23:59:09.714Z"
   },
   {
    "duration": 34,
    "start_time": "2024-10-02T23:59:10.537Z"
   },
   {
    "duration": 3,
    "start_time": "2024-10-02T23:59:10.574Z"
   },
   {
    "duration": 26,
    "start_time": "2024-10-02T23:59:10.581Z"
   },
   {
    "duration": 6,
    "start_time": "2024-10-02T23:59:10.609Z"
   },
   {
    "duration": 10,
    "start_time": "2024-10-02T23:59:10.617Z"
   },
   {
    "duration": 3,
    "start_time": "2024-10-02T23:59:10.629Z"
   },
   {
    "duration": 8,
    "start_time": "2024-10-02T23:59:10.634Z"
   },
   {
    "duration": 9,
    "start_time": "2024-10-02T23:59:10.643Z"
   },
   {
    "duration": 4,
    "start_time": "2024-10-02T23:59:10.653Z"
   },
   {
    "duration": 4,
    "start_time": "2024-10-02T23:59:10.659Z"
   },
   {
    "duration": 52,
    "start_time": "2024-10-02T23:59:10.664Z"
   },
   {
    "duration": 2,
    "start_time": "2024-10-02T23:59:10.719Z"
   },
   {
    "duration": 13,
    "start_time": "2024-10-02T23:59:10.722Z"
   },
   {
    "duration": 7,
    "start_time": "2024-10-02T23:59:10.737Z"
   },
   {
    "duration": 8,
    "start_time": "2024-10-02T23:59:10.745Z"
   },
   {
    "duration": 7,
    "start_time": "2024-10-02T23:59:10.755Z"
   },
   {
    "duration": 41,
    "start_time": "2024-10-02T23:59:10.764Z"
   },
   {
    "duration": 8,
    "start_time": "2024-10-02T23:59:10.807Z"
   },
   {
    "duration": 4,
    "start_time": "2024-10-02T23:59:10.817Z"
   },
   {
    "duration": 19,
    "start_time": "2024-10-02T23:59:10.823Z"
   },
   {
    "duration": 3,
    "start_time": "2024-10-02T23:59:10.843Z"
   },
   {
    "duration": 176,
    "start_time": "2024-10-02T23:59:10.848Z"
   },
   {
    "duration": 6,
    "start_time": "2024-10-02T23:59:11.026Z"
   },
   {
    "duration": 14,
    "start_time": "2024-10-02T23:59:11.034Z"
   },
   {
    "duration": 10,
    "start_time": "2024-10-02T23:59:11.049Z"
   },
   {
    "duration": 11,
    "start_time": "2024-10-02T23:59:11.060Z"
   },
   {
    "duration": 4,
    "start_time": "2024-10-02T23:59:11.104Z"
   },
   {
    "duration": 8,
    "start_time": "2024-10-02T23:59:11.110Z"
   },
   {
    "duration": 34,
    "start_time": "2024-10-02T23:59:11.119Z"
   },
   {
    "duration": 4,
    "start_time": "2024-10-02T23:59:11.155Z"
   },
   {
    "duration": 336,
    "start_time": "2024-10-02T23:59:11.161Z"
   },
   {
    "duration": 7,
    "start_time": "2024-10-02T23:59:11.499Z"
   },
   {
    "duration": 306,
    "start_time": "2024-10-02T23:59:11.508Z"
   },
   {
    "duration": 6,
    "start_time": "2024-10-02T23:59:11.816Z"
   },
   {
    "duration": 13,
    "start_time": "2024-10-02T23:59:11.824Z"
   },
   {
    "duration": 623,
    "start_time": "2024-10-02T23:59:11.838Z"
   },
   {
    "duration": 13,
    "start_time": "2024-10-02T23:59:12.463Z"
   },
   {
    "duration": 9,
    "start_time": "2024-10-02T23:59:12.479Z"
   },
   {
    "duration": 13,
    "start_time": "2024-10-02T23:59:12.492Z"
   },
   {
    "duration": 160,
    "start_time": "2024-10-02T23:59:12.507Z"
   },
   {
    "duration": 168,
    "start_time": "2024-10-02T23:59:12.669Z"
   },
   {
    "duration": 27,
    "start_time": "2024-10-02T23:59:12.840Z"
   },
   {
    "duration": 41,
    "start_time": "2024-10-02T23:59:12.869Z"
   },
   {
    "duration": 20,
    "start_time": "2024-10-02T23:59:12.911Z"
   },
   {
    "duration": 18,
    "start_time": "2024-10-02T23:59:12.933Z"
   },
   {
    "duration": 143,
    "start_time": "2024-10-02T23:59:12.953Z"
   },
   {
    "duration": 124,
    "start_time": "2024-10-02T23:59:13.098Z"
   },
   {
    "duration": 124,
    "start_time": "2024-10-02T23:59:13.224Z"
   },
   {
    "duration": 8,
    "start_time": "2024-10-02T23:59:13.350Z"
   },
   {
    "duration": 6,
    "start_time": "2024-10-02T23:59:13.359Z"
   },
   {
    "duration": 817,
    "start_time": "2024-10-03T06:51:16.760Z"
   },
   {
    "duration": 49,
    "start_time": "2024-10-03T06:51:17.579Z"
   },
   {
    "duration": 3,
    "start_time": "2024-10-03T06:51:17.630Z"
   },
   {
    "duration": 11,
    "start_time": "2024-10-03T06:51:17.636Z"
   },
   {
    "duration": 6,
    "start_time": "2024-10-03T06:51:17.649Z"
   },
   {
    "duration": 12,
    "start_time": "2024-10-03T06:51:17.657Z"
   },
   {
    "duration": 18,
    "start_time": "2024-10-03T06:51:17.670Z"
   },
   {
    "duration": 8,
    "start_time": "2024-10-03T06:51:17.690Z"
   },
   {
    "duration": 8,
    "start_time": "2024-10-03T06:51:17.700Z"
   },
   {
    "duration": 5,
    "start_time": "2024-10-03T06:51:17.709Z"
   },
   {
    "duration": 4,
    "start_time": "2024-10-03T06:51:17.715Z"
   },
   {
    "duration": 12,
    "start_time": "2024-10-03T06:51:17.720Z"
   },
   {
    "duration": 2,
    "start_time": "2024-10-03T06:51:17.734Z"
   },
   {
    "duration": 53,
    "start_time": "2024-10-03T06:51:17.740Z"
   },
   {
    "duration": 8,
    "start_time": "2024-10-03T06:51:17.795Z"
   },
   {
    "duration": 9,
    "start_time": "2024-10-03T06:51:17.804Z"
   },
   {
    "duration": 8,
    "start_time": "2024-10-03T06:51:17.815Z"
   },
   {
    "duration": 9,
    "start_time": "2024-10-03T06:51:17.824Z"
   },
   {
    "duration": 12,
    "start_time": "2024-10-03T06:51:17.834Z"
   },
   {
    "duration": 39,
    "start_time": "2024-10-03T06:51:17.848Z"
   },
   {
    "duration": 18,
    "start_time": "2024-10-03T06:51:17.889Z"
   },
   {
    "duration": 3,
    "start_time": "2024-10-03T06:51:17.909Z"
   },
   {
    "duration": 175,
    "start_time": "2024-10-03T06:51:17.914Z"
   },
   {
    "duration": 7,
    "start_time": "2024-10-03T06:51:18.091Z"
   },
   {
    "duration": 14,
    "start_time": "2024-10-03T06:51:18.100Z"
   },
   {
    "duration": 17,
    "start_time": "2024-10-03T06:51:18.116Z"
   },
   {
    "duration": 12,
    "start_time": "2024-10-03T06:51:18.135Z"
   },
   {
    "duration": 3,
    "start_time": "2024-10-03T06:51:18.149Z"
   },
   {
    "duration": 38,
    "start_time": "2024-10-03T06:51:18.154Z"
   },
   {
    "duration": 34,
    "start_time": "2024-10-03T06:51:18.194Z"
   },
   {
    "duration": 4,
    "start_time": "2024-10-03T06:51:18.230Z"
   },
   {
    "duration": 341,
    "start_time": "2024-10-03T06:51:18.236Z"
   },
   {
    "duration": 8,
    "start_time": "2024-10-03T06:51:18.579Z"
   },
   {
    "duration": 300,
    "start_time": "2024-10-03T06:51:18.590Z"
   },
   {
    "duration": 6,
    "start_time": "2024-10-03T06:51:18.893Z"
   },
   {
    "duration": 15,
    "start_time": "2024-10-03T06:51:18.902Z"
   },
   {
    "duration": 623,
    "start_time": "2024-10-03T06:51:18.919Z"
   },
   {
    "duration": 9,
    "start_time": "2024-10-03T06:51:19.545Z"
   },
   {
    "duration": 9,
    "start_time": "2024-10-03T06:51:19.555Z"
   },
   {
    "duration": 28,
    "start_time": "2024-10-03T06:51:19.566Z"
   },
   {
    "duration": 156,
    "start_time": "2024-10-03T06:51:19.599Z"
   },
   {
    "duration": 164,
    "start_time": "2024-10-03T06:51:19.757Z"
   },
   {
    "duration": 32,
    "start_time": "2024-10-03T06:51:19.924Z"
   },
   {
    "duration": 40,
    "start_time": "2024-10-03T06:51:19.958Z"
   },
   {
    "duration": 19,
    "start_time": "2024-10-03T06:51:20.000Z"
   },
   {
    "duration": 21,
    "start_time": "2024-10-03T06:51:20.020Z"
   },
   {
    "duration": 145,
    "start_time": "2024-10-03T06:51:20.043Z"
   },
   {
    "duration": 122,
    "start_time": "2024-10-03T06:51:20.190Z"
   },
   {
    "duration": 133,
    "start_time": "2024-10-03T06:51:20.314Z"
   },
   {
    "duration": 6,
    "start_time": "2024-10-03T06:51:20.449Z"
   },
   {
    "duration": 8,
    "start_time": "2024-10-03T06:51:20.457Z"
   },
   {
    "duration": 155,
    "start_time": "2024-10-03T14:28:43.630Z"
   },
   {
    "duration": 11,
    "start_time": "2024-10-03T14:29:51.339Z"
   },
   {
    "duration": 2490,
    "start_time": "2024-10-03T14:29:55.466Z"
   },
   {
    "duration": 44,
    "start_time": "2024-10-03T14:29:57.958Z"
   },
   {
    "duration": 4,
    "start_time": "2024-10-03T14:29:58.003Z"
   },
   {
    "duration": 15,
    "start_time": "2024-10-03T14:29:58.010Z"
   },
   {
    "duration": 8,
    "start_time": "2024-10-03T14:29:58.026Z"
   },
   {
    "duration": 11,
    "start_time": "2024-10-03T14:29:58.036Z"
   },
   {
    "duration": 3,
    "start_time": "2024-10-03T14:29:58.049Z"
   },
   {
    "duration": 7,
    "start_time": "2024-10-03T14:29:58.054Z"
   },
   {
    "duration": 8,
    "start_time": "2024-10-03T14:29:58.063Z"
   },
   {
    "duration": 4,
    "start_time": "2024-10-03T14:29:58.074Z"
   },
   {
    "duration": 4,
    "start_time": "2024-10-03T14:29:58.079Z"
   },
   {
    "duration": 52,
    "start_time": "2024-10-03T14:29:58.084Z"
   },
   {
    "duration": 3,
    "start_time": "2024-10-03T14:29:58.138Z"
   },
   {
    "duration": 12,
    "start_time": "2024-10-03T14:29:58.142Z"
   },
   {
    "duration": 7,
    "start_time": "2024-10-03T14:29:58.156Z"
   },
   {
    "duration": 8,
    "start_time": "2024-10-03T14:29:58.164Z"
   },
   {
    "duration": 8,
    "start_time": "2024-10-03T14:29:58.174Z"
   },
   {
    "duration": 44,
    "start_time": "2024-10-03T14:29:58.183Z"
   },
   {
    "duration": 11,
    "start_time": "2024-10-03T14:29:58.229Z"
   },
   {
    "duration": 5,
    "start_time": "2024-10-03T14:29:58.241Z"
   },
   {
    "duration": 23,
    "start_time": "2024-10-03T14:29:58.247Z"
   },
   {
    "duration": 3,
    "start_time": "2024-10-03T14:29:58.272Z"
   },
   {
    "duration": 181,
    "start_time": "2024-10-03T14:29:58.277Z"
   },
   {
    "duration": 6,
    "start_time": "2024-10-03T14:29:58.460Z"
   },
   {
    "duration": 13,
    "start_time": "2024-10-03T14:29:58.468Z"
   },
   {
    "duration": 9,
    "start_time": "2024-10-03T14:29:58.483Z"
   },
   {
    "duration": 34,
    "start_time": "2024-10-03T14:29:58.493Z"
   },
   {
    "duration": 3,
    "start_time": "2024-10-03T14:29:58.531Z"
   },
   {
    "duration": 7,
    "start_time": "2024-10-03T14:29:58.535Z"
   },
   {
    "duration": 34,
    "start_time": "2024-10-03T14:29:58.543Z"
   },
   {
    "duration": 4,
    "start_time": "2024-10-03T14:29:58.579Z"
   },
   {
    "duration": 241,
    "start_time": "2024-10-03T14:29:58.625Z"
   },
   {
    "duration": 4,
    "start_time": "2024-10-03T14:29:58.867Z"
   },
   {
    "duration": 297,
    "start_time": "2024-10-03T14:29:58.873Z"
   },
   {
    "duration": 6,
    "start_time": "2024-10-03T14:29:59.171Z"
   },
   {
    "duration": 12,
    "start_time": "2024-10-03T14:29:59.179Z"
   },
   {
    "duration": 663,
    "start_time": "2024-10-03T14:29:59.192Z"
   },
   {
    "duration": 8,
    "start_time": "2024-10-03T14:29:59.857Z"
   },
   {
    "duration": 8,
    "start_time": "2024-10-03T14:29:59.867Z"
   },
   {
    "duration": 8,
    "start_time": "2024-10-03T14:29:59.877Z"
   },
   {
    "duration": 170,
    "start_time": "2024-10-03T14:29:59.887Z"
   },
   {
    "duration": 167,
    "start_time": "2024-10-03T14:30:00.058Z"
   },
   {
    "duration": 26,
    "start_time": "2024-10-03T14:30:00.227Z"
   },
   {
    "duration": 19,
    "start_time": "2024-10-03T14:30:00.254Z"
   },
   {
    "duration": 18,
    "start_time": "2024-10-03T14:30:00.275Z"
   },
   {
    "duration": 45,
    "start_time": "2024-10-03T14:30:00.294Z"
   },
   {
    "duration": 135,
    "start_time": "2024-10-03T14:30:00.341Z"
   },
   {
    "duration": 122,
    "start_time": "2024-10-03T14:30:00.478Z"
   },
   {
    "duration": 123,
    "start_time": "2024-10-03T14:30:00.602Z"
   },
   {
    "duration": 16,
    "start_time": "2024-10-03T14:30:00.727Z"
   },
   {
    "duration": 6,
    "start_time": "2024-10-03T14:30:00.746Z"
   },
   {
    "duration": 6,
    "start_time": "2024-10-03T14:30:00.753Z"
   },
   {
    "duration": 17,
    "start_time": "2024-10-03T14:30:39.907Z"
   },
   {
    "duration": 4,
    "start_time": "2024-10-03T14:30:48.762Z"
   },
   {
    "duration": 162,
    "start_time": "2024-10-04T15:49:23.934Z"
   },
   {
    "duration": 2726,
    "start_time": "2024-10-04T15:49:29.650Z"
   },
   {
    "duration": 55,
    "start_time": "2024-10-04T15:49:32.378Z"
   },
   {
    "duration": 130,
    "start_time": "2024-10-04T15:49:32.435Z"
   },
   {
    "duration": 0,
    "start_time": "2024-10-04T15:49:32.570Z"
   },
   {
    "duration": 0,
    "start_time": "2024-10-04T15:49:32.572Z"
   },
   {
    "duration": 0,
    "start_time": "2024-10-04T15:49:32.574Z"
   },
   {
    "duration": 0,
    "start_time": "2024-10-04T15:49:32.575Z"
   },
   {
    "duration": 0,
    "start_time": "2024-10-04T15:49:32.576Z"
   },
   {
    "duration": 0,
    "start_time": "2024-10-04T15:49:32.577Z"
   },
   {
    "duration": 0,
    "start_time": "2024-10-04T15:49:32.578Z"
   },
   {
    "duration": 0,
    "start_time": "2024-10-04T15:49:32.579Z"
   },
   {
    "duration": 0,
    "start_time": "2024-10-04T15:49:32.580Z"
   },
   {
    "duration": 0,
    "start_time": "2024-10-04T15:49:32.581Z"
   },
   {
    "duration": 0,
    "start_time": "2024-10-04T15:49:32.582Z"
   },
   {
    "duration": 0,
    "start_time": "2024-10-04T15:49:32.583Z"
   },
   {
    "duration": 0,
    "start_time": "2024-10-04T15:49:32.586Z"
   },
   {
    "duration": 0,
    "start_time": "2024-10-04T15:49:32.587Z"
   },
   {
    "duration": 0,
    "start_time": "2024-10-04T15:49:32.589Z"
   },
   {
    "duration": 0,
    "start_time": "2024-10-04T15:49:32.590Z"
   },
   {
    "duration": 0,
    "start_time": "2024-10-04T15:49:32.591Z"
   },
   {
    "duration": 0,
    "start_time": "2024-10-04T15:49:32.594Z"
   },
   {
    "duration": 0,
    "start_time": "2024-10-04T15:49:32.595Z"
   },
   {
    "duration": 0,
    "start_time": "2024-10-04T15:49:32.597Z"
   },
   {
    "duration": 0,
    "start_time": "2024-10-04T15:49:32.599Z"
   },
   {
    "duration": 0,
    "start_time": "2024-10-04T15:49:32.601Z"
   },
   {
    "duration": 0,
    "start_time": "2024-10-04T15:49:32.642Z"
   },
   {
    "duration": 0,
    "start_time": "2024-10-04T15:49:32.644Z"
   },
   {
    "duration": 0,
    "start_time": "2024-10-04T15:49:32.645Z"
   },
   {
    "duration": 0,
    "start_time": "2024-10-04T15:49:32.647Z"
   },
   {
    "duration": 0,
    "start_time": "2024-10-04T15:49:32.648Z"
   },
   {
    "duration": 0,
    "start_time": "2024-10-04T15:49:32.649Z"
   },
   {
    "duration": 0,
    "start_time": "2024-10-04T15:49:32.650Z"
   },
   {
    "duration": 0,
    "start_time": "2024-10-04T15:49:32.652Z"
   },
   {
    "duration": 0,
    "start_time": "2024-10-04T15:49:32.653Z"
   },
   {
    "duration": 0,
    "start_time": "2024-10-04T15:49:32.655Z"
   },
   {
    "duration": 0,
    "start_time": "2024-10-04T15:49:32.656Z"
   },
   {
    "duration": 0,
    "start_time": "2024-10-04T15:49:32.657Z"
   },
   {
    "duration": 0,
    "start_time": "2024-10-04T15:49:32.659Z"
   },
   {
    "duration": 0,
    "start_time": "2024-10-04T15:49:32.660Z"
   },
   {
    "duration": 0,
    "start_time": "2024-10-04T15:49:32.661Z"
   },
   {
    "duration": 0,
    "start_time": "2024-10-04T15:49:32.662Z"
   },
   {
    "duration": 0,
    "start_time": "2024-10-04T15:49:32.666Z"
   },
   {
    "duration": 0,
    "start_time": "2024-10-04T15:49:32.667Z"
   },
   {
    "duration": 0,
    "start_time": "2024-10-04T15:49:32.669Z"
   },
   {
    "duration": 0,
    "start_time": "2024-10-04T15:49:32.670Z"
   },
   {
    "duration": 0,
    "start_time": "2024-10-04T15:49:32.672Z"
   },
   {
    "duration": 0,
    "start_time": "2024-10-04T15:49:32.674Z"
   },
   {
    "duration": 0,
    "start_time": "2024-10-04T15:49:32.675Z"
   },
   {
    "duration": 0,
    "start_time": "2024-10-04T15:49:32.676Z"
   },
   {
    "duration": 0,
    "start_time": "2024-10-04T15:49:32.677Z"
   },
   {
    "duration": 0,
    "start_time": "2024-10-04T15:49:32.679Z"
   },
   {
    "duration": 0,
    "start_time": "2024-10-04T15:49:32.680Z"
   },
   {
    "duration": 14,
    "start_time": "2024-10-04T15:49:39.930Z"
   },
   {
    "duration": 3,
    "start_time": "2024-10-04T15:49:46.146Z"
   },
   {
    "duration": 887,
    "start_time": "2024-10-04T15:49:54.560Z"
   },
   {
    "duration": 36,
    "start_time": "2024-10-04T15:49:55.449Z"
   },
   {
    "duration": 3,
    "start_time": "2024-10-04T15:49:55.487Z"
   },
   {
    "duration": 11,
    "start_time": "2024-10-04T15:49:55.493Z"
   },
   {
    "duration": 7,
    "start_time": "2024-10-04T15:49:55.506Z"
   },
   {
    "duration": 37,
    "start_time": "2024-10-04T15:49:55.516Z"
   },
   {
    "duration": 783,
    "start_time": "2024-10-04T15:49:55.555Z"
   },
   {
    "duration": 0,
    "start_time": "2024-10-04T15:49:56.343Z"
   },
   {
    "duration": 0,
    "start_time": "2024-10-04T15:49:56.344Z"
   },
   {
    "duration": 0,
    "start_time": "2024-10-04T15:49:56.345Z"
   },
   {
    "duration": 0,
    "start_time": "2024-10-04T15:49:56.346Z"
   },
   {
    "duration": 0,
    "start_time": "2024-10-04T15:49:56.347Z"
   },
   {
    "duration": 0,
    "start_time": "2024-10-04T15:49:56.348Z"
   },
   {
    "duration": 0,
    "start_time": "2024-10-04T15:49:56.349Z"
   },
   {
    "duration": 0,
    "start_time": "2024-10-04T15:49:56.351Z"
   },
   {
    "duration": 0,
    "start_time": "2024-10-04T15:49:56.353Z"
   },
   {
    "duration": 0,
    "start_time": "2024-10-04T15:49:56.354Z"
   },
   {
    "duration": 0,
    "start_time": "2024-10-04T15:49:56.355Z"
   },
   {
    "duration": 0,
    "start_time": "2024-10-04T15:49:56.356Z"
   },
   {
    "duration": 0,
    "start_time": "2024-10-04T15:49:56.357Z"
   },
   {
    "duration": 0,
    "start_time": "2024-10-04T15:49:56.359Z"
   },
   {
    "duration": 0,
    "start_time": "2024-10-04T15:49:56.360Z"
   },
   {
    "duration": 0,
    "start_time": "2024-10-04T15:49:56.361Z"
   },
   {
    "duration": 0,
    "start_time": "2024-10-04T15:49:56.362Z"
   },
   {
    "duration": 0,
    "start_time": "2024-10-04T15:49:56.363Z"
   },
   {
    "duration": 0,
    "start_time": "2024-10-04T15:49:56.365Z"
   },
   {
    "duration": 0,
    "start_time": "2024-10-04T15:49:56.366Z"
   },
   {
    "duration": 0,
    "start_time": "2024-10-04T15:49:56.367Z"
   },
   {
    "duration": 0,
    "start_time": "2024-10-04T15:49:56.369Z"
   },
   {
    "duration": 0,
    "start_time": "2024-10-04T15:49:56.370Z"
   },
   {
    "duration": 0,
    "start_time": "2024-10-04T15:49:56.371Z"
   },
   {
    "duration": 0,
    "start_time": "2024-10-04T15:49:56.374Z"
   },
   {
    "duration": 0,
    "start_time": "2024-10-04T15:49:56.375Z"
   },
   {
    "duration": 0,
    "start_time": "2024-10-04T15:49:56.376Z"
   },
   {
    "duration": 0,
    "start_time": "2024-10-04T15:49:56.378Z"
   },
   {
    "duration": 0,
    "start_time": "2024-10-04T15:49:56.379Z"
   },
   {
    "duration": 0,
    "start_time": "2024-10-04T15:49:56.380Z"
   },
   {
    "duration": 0,
    "start_time": "2024-10-04T15:49:56.381Z"
   },
   {
    "duration": 0,
    "start_time": "2024-10-04T15:49:56.382Z"
   },
   {
    "duration": 0,
    "start_time": "2024-10-04T15:49:56.383Z"
   },
   {
    "duration": 0,
    "start_time": "2024-10-04T15:49:56.384Z"
   },
   {
    "duration": 0,
    "start_time": "2024-10-04T15:49:56.385Z"
   },
   {
    "duration": 0,
    "start_time": "2024-10-04T15:49:56.386Z"
   },
   {
    "duration": 0,
    "start_time": "2024-10-04T15:49:56.444Z"
   },
   {
    "duration": 0,
    "start_time": "2024-10-04T15:49:56.446Z"
   },
   {
    "duration": 0,
    "start_time": "2024-10-04T15:49:56.447Z"
   },
   {
    "duration": 0,
    "start_time": "2024-10-04T15:49:56.449Z"
   },
   {
    "duration": 0,
    "start_time": "2024-10-04T15:49:56.454Z"
   },
   {
    "duration": 0,
    "start_time": "2024-10-04T15:49:56.455Z"
   },
   {
    "duration": 0,
    "start_time": "2024-10-04T15:49:56.457Z"
   },
   {
    "duration": 1,
    "start_time": "2024-10-04T15:49:56.459Z"
   },
   {
    "duration": 0,
    "start_time": "2024-10-04T15:49:56.461Z"
   },
   {
    "duration": 21,
    "start_time": "2024-10-04T15:51:42.897Z"
   },
   {
    "duration": 848,
    "start_time": "2024-10-04T15:52:03.579Z"
   },
   {
    "duration": 38,
    "start_time": "2024-10-04T15:52:04.429Z"
   },
   {
    "duration": 16,
    "start_time": "2024-10-04T15:52:04.469Z"
   },
   {
    "duration": 12,
    "start_time": "2024-10-04T15:52:04.487Z"
   },
   {
    "duration": 8,
    "start_time": "2024-10-04T15:52:04.501Z"
   },
   {
    "duration": 36,
    "start_time": "2024-10-04T15:52:04.510Z"
   },
   {
    "duration": 700,
    "start_time": "2024-10-04T15:52:04.548Z"
   },
   {
    "duration": 0,
    "start_time": "2024-10-04T15:52:05.252Z"
   },
   {
    "duration": 0,
    "start_time": "2024-10-04T15:52:05.253Z"
   },
   {
    "duration": 0,
    "start_time": "2024-10-04T15:52:05.255Z"
   },
   {
    "duration": 0,
    "start_time": "2024-10-04T15:52:05.256Z"
   },
   {
    "duration": 0,
    "start_time": "2024-10-04T15:52:05.258Z"
   },
   {
    "duration": 0,
    "start_time": "2024-10-04T15:52:05.259Z"
   },
   {
    "duration": 0,
    "start_time": "2024-10-04T15:52:05.260Z"
   },
   {
    "duration": 0,
    "start_time": "2024-10-04T15:52:05.262Z"
   },
   {
    "duration": 0,
    "start_time": "2024-10-04T15:52:05.263Z"
   },
   {
    "duration": 0,
    "start_time": "2024-10-04T15:52:05.265Z"
   },
   {
    "duration": 0,
    "start_time": "2024-10-04T15:52:05.266Z"
   },
   {
    "duration": 0,
    "start_time": "2024-10-04T15:52:05.268Z"
   },
   {
    "duration": 0,
    "start_time": "2024-10-04T15:52:05.270Z"
   },
   {
    "duration": 0,
    "start_time": "2024-10-04T15:52:05.271Z"
   },
   {
    "duration": 0,
    "start_time": "2024-10-04T15:52:05.273Z"
   },
   {
    "duration": 0,
    "start_time": "2024-10-04T15:52:05.274Z"
   },
   {
    "duration": 0,
    "start_time": "2024-10-04T15:52:05.276Z"
   },
   {
    "duration": 0,
    "start_time": "2024-10-04T15:52:05.277Z"
   },
   {
    "duration": 0,
    "start_time": "2024-10-04T15:52:05.279Z"
   },
   {
    "duration": 0,
    "start_time": "2024-10-04T15:52:05.280Z"
   },
   {
    "duration": 0,
    "start_time": "2024-10-04T15:52:05.281Z"
   },
   {
    "duration": 0,
    "start_time": "2024-10-04T15:52:05.283Z"
   },
   {
    "duration": 0,
    "start_time": "2024-10-04T15:52:05.284Z"
   },
   {
    "duration": 0,
    "start_time": "2024-10-04T15:52:05.286Z"
   },
   {
    "duration": 0,
    "start_time": "2024-10-04T15:52:05.287Z"
   },
   {
    "duration": 0,
    "start_time": "2024-10-04T15:52:05.289Z"
   },
   {
    "duration": 0,
    "start_time": "2024-10-04T15:52:05.290Z"
   },
   {
    "duration": 0,
    "start_time": "2024-10-04T15:52:05.344Z"
   },
   {
    "duration": 0,
    "start_time": "2024-10-04T15:52:05.345Z"
   },
   {
    "duration": 0,
    "start_time": "2024-10-04T15:52:05.346Z"
   },
   {
    "duration": 0,
    "start_time": "2024-10-04T15:52:05.348Z"
   },
   {
    "duration": 0,
    "start_time": "2024-10-04T15:52:05.349Z"
   },
   {
    "duration": 0,
    "start_time": "2024-10-04T15:52:05.350Z"
   },
   {
    "duration": 0,
    "start_time": "2024-10-04T15:52:05.352Z"
   },
   {
    "duration": 0,
    "start_time": "2024-10-04T15:52:05.352Z"
   },
   {
    "duration": 0,
    "start_time": "2024-10-04T15:52:05.353Z"
   },
   {
    "duration": 0,
    "start_time": "2024-10-04T15:52:05.354Z"
   },
   {
    "duration": 0,
    "start_time": "2024-10-04T15:52:05.357Z"
   },
   {
    "duration": 0,
    "start_time": "2024-10-04T15:52:05.358Z"
   },
   {
    "duration": 0,
    "start_time": "2024-10-04T15:52:05.360Z"
   },
   {
    "duration": 0,
    "start_time": "2024-10-04T15:52:05.361Z"
   },
   {
    "duration": 0,
    "start_time": "2024-10-04T15:52:05.363Z"
   },
   {
    "duration": 0,
    "start_time": "2024-10-04T15:52:05.364Z"
   },
   {
    "duration": 0,
    "start_time": "2024-10-04T15:52:05.365Z"
   },
   {
    "duration": 0,
    "start_time": "2024-10-04T15:52:05.367Z"
   },
   {
    "duration": 15,
    "start_time": "2024-10-04T15:53:09.868Z"
   },
   {
    "duration": 42,
    "start_time": "2024-10-04T15:53:32.482Z"
   },
   {
    "duration": 17,
    "start_time": "2024-10-04T15:54:06.862Z"
   },
   {
    "duration": 10,
    "start_time": "2024-10-04T15:54:13.909Z"
   },
   {
    "duration": 12,
    "start_time": "2024-10-04T15:54:34.401Z"
   },
   {
    "duration": 828,
    "start_time": "2024-10-04T15:54:51.108Z"
   },
   {
    "duration": 35,
    "start_time": "2024-10-04T15:54:51.939Z"
   },
   {
    "duration": 17,
    "start_time": "2024-10-04T15:54:51.976Z"
   },
   {
    "duration": 11,
    "start_time": "2024-10-04T15:54:51.996Z"
   },
   {
    "duration": 7,
    "start_time": "2024-10-04T15:54:52.008Z"
   },
   {
    "duration": 33,
    "start_time": "2024-10-04T15:54:52.016Z"
   },
   {
    "duration": 11,
    "start_time": "2024-10-04T15:54:52.051Z"
   },
   {
    "duration": 698,
    "start_time": "2024-10-04T15:54:52.063Z"
   },
   {
    "duration": 0,
    "start_time": "2024-10-04T15:54:52.764Z"
   },
   {
    "duration": 0,
    "start_time": "2024-10-04T15:54:52.765Z"
   },
   {
    "duration": 0,
    "start_time": "2024-10-04T15:54:52.767Z"
   },
   {
    "duration": 0,
    "start_time": "2024-10-04T15:54:52.769Z"
   },
   {
    "duration": 0,
    "start_time": "2024-10-04T15:54:52.770Z"
   },
   {
    "duration": 0,
    "start_time": "2024-10-04T15:54:52.771Z"
   },
   {
    "duration": 0,
    "start_time": "2024-10-04T15:54:52.772Z"
   },
   {
    "duration": 0,
    "start_time": "2024-10-04T15:54:52.773Z"
   },
   {
    "duration": 0,
    "start_time": "2024-10-04T15:54:52.774Z"
   },
   {
    "duration": 0,
    "start_time": "2024-10-04T15:54:52.775Z"
   },
   {
    "duration": 0,
    "start_time": "2024-10-04T15:54:52.777Z"
   },
   {
    "duration": 0,
    "start_time": "2024-10-04T15:54:52.778Z"
   },
   {
    "duration": 0,
    "start_time": "2024-10-04T15:54:52.778Z"
   },
   {
    "duration": 0,
    "start_time": "2024-10-04T15:54:52.780Z"
   },
   {
    "duration": 0,
    "start_time": "2024-10-04T15:54:52.781Z"
   },
   {
    "duration": 0,
    "start_time": "2024-10-04T15:54:52.782Z"
   },
   {
    "duration": 0,
    "start_time": "2024-10-04T15:54:52.783Z"
   },
   {
    "duration": 1,
    "start_time": "2024-10-04T15:54:52.783Z"
   },
   {
    "duration": 0,
    "start_time": "2024-10-04T15:54:52.785Z"
   },
   {
    "duration": 0,
    "start_time": "2024-10-04T15:54:52.786Z"
   },
   {
    "duration": 0,
    "start_time": "2024-10-04T15:54:52.787Z"
   },
   {
    "duration": 0,
    "start_time": "2024-10-04T15:54:52.788Z"
   },
   {
    "duration": 0,
    "start_time": "2024-10-04T15:54:52.789Z"
   },
   {
    "duration": 0,
    "start_time": "2024-10-04T15:54:52.791Z"
   },
   {
    "duration": 0,
    "start_time": "2024-10-04T15:54:52.792Z"
   },
   {
    "duration": 0,
    "start_time": "2024-10-04T15:54:52.793Z"
   },
   {
    "duration": 0,
    "start_time": "2024-10-04T15:54:52.795Z"
   },
   {
    "duration": 0,
    "start_time": "2024-10-04T15:54:52.844Z"
   },
   {
    "duration": 0,
    "start_time": "2024-10-04T15:54:52.845Z"
   },
   {
    "duration": 0,
    "start_time": "2024-10-04T15:54:52.847Z"
   },
   {
    "duration": 0,
    "start_time": "2024-10-04T15:54:52.848Z"
   },
   {
    "duration": 0,
    "start_time": "2024-10-04T15:54:52.850Z"
   },
   {
    "duration": 0,
    "start_time": "2024-10-04T15:54:52.852Z"
   },
   {
    "duration": 0,
    "start_time": "2024-10-04T15:54:52.853Z"
   },
   {
    "duration": 0,
    "start_time": "2024-10-04T15:54:52.854Z"
   },
   {
    "duration": 0,
    "start_time": "2024-10-04T15:54:52.856Z"
   },
   {
    "duration": 1,
    "start_time": "2024-10-04T15:54:52.857Z"
   },
   {
    "duration": 0,
    "start_time": "2024-10-04T15:54:52.859Z"
   },
   {
    "duration": 0,
    "start_time": "2024-10-04T15:54:52.860Z"
   },
   {
    "duration": 1,
    "start_time": "2024-10-04T15:54:52.861Z"
   },
   {
    "duration": 0,
    "start_time": "2024-10-04T15:54:52.863Z"
   },
   {
    "duration": 0,
    "start_time": "2024-10-04T15:54:52.865Z"
   },
   {
    "duration": 0,
    "start_time": "2024-10-04T15:54:52.866Z"
   },
   {
    "duration": 0,
    "start_time": "2024-10-04T15:54:52.867Z"
   },
   {
    "duration": 0,
    "start_time": "2024-10-04T15:54:52.868Z"
   },
   {
    "duration": 4,
    "start_time": "2024-10-04T15:56:11.154Z"
   },
   {
    "duration": 874,
    "start_time": "2024-10-04T15:56:18.559Z"
   },
   {
    "duration": 35,
    "start_time": "2024-10-04T15:56:19.435Z"
   },
   {
    "duration": 4,
    "start_time": "2024-10-04T15:56:19.472Z"
   },
   {
    "duration": 11,
    "start_time": "2024-10-04T15:56:19.479Z"
   },
   {
    "duration": 7,
    "start_time": "2024-10-04T15:56:19.491Z"
   },
   {
    "duration": 9,
    "start_time": "2024-10-04T15:56:19.499Z"
   },
   {
    "duration": 41,
    "start_time": "2024-10-04T15:56:19.510Z"
   },
   {
    "duration": 921,
    "start_time": "2024-10-04T15:56:19.552Z"
   },
   {
    "duration": 0,
    "start_time": "2024-10-04T15:56:20.479Z"
   },
   {
    "duration": 0,
    "start_time": "2024-10-04T15:56:20.483Z"
   },
   {
    "duration": 1,
    "start_time": "2024-10-04T15:56:20.485Z"
   },
   {
    "duration": 0,
    "start_time": "2024-10-04T15:56:20.487Z"
   },
   {
    "duration": 0,
    "start_time": "2024-10-04T15:56:20.488Z"
   },
   {
    "duration": 0,
    "start_time": "2024-10-04T15:56:20.489Z"
   },
   {
    "duration": 0,
    "start_time": "2024-10-04T15:56:20.490Z"
   },
   {
    "duration": 0,
    "start_time": "2024-10-04T15:56:20.491Z"
   },
   {
    "duration": 0,
    "start_time": "2024-10-04T15:56:20.493Z"
   },
   {
    "duration": 0,
    "start_time": "2024-10-04T15:56:20.494Z"
   },
   {
    "duration": 0,
    "start_time": "2024-10-04T15:56:20.495Z"
   },
   {
    "duration": 0,
    "start_time": "2024-10-04T15:56:20.496Z"
   },
   {
    "duration": 0,
    "start_time": "2024-10-04T15:56:20.497Z"
   },
   {
    "duration": 0,
    "start_time": "2024-10-04T15:56:20.499Z"
   },
   {
    "duration": 0,
    "start_time": "2024-10-04T15:56:20.500Z"
   },
   {
    "duration": 0,
    "start_time": "2024-10-04T15:56:20.502Z"
   },
   {
    "duration": 0,
    "start_time": "2024-10-04T15:56:20.503Z"
   },
   {
    "duration": 0,
    "start_time": "2024-10-04T15:56:20.505Z"
   },
   {
    "duration": 0,
    "start_time": "2024-10-04T15:56:20.506Z"
   },
   {
    "duration": 0,
    "start_time": "2024-10-04T15:56:20.508Z"
   },
   {
    "duration": 0,
    "start_time": "2024-10-04T15:56:20.509Z"
   },
   {
    "duration": 1,
    "start_time": "2024-10-04T15:56:20.509Z"
   },
   {
    "duration": 0,
    "start_time": "2024-10-04T15:56:20.546Z"
   },
   {
    "duration": 0,
    "start_time": "2024-10-04T15:56:20.547Z"
   },
   {
    "duration": 1,
    "start_time": "2024-10-04T15:56:20.548Z"
   },
   {
    "duration": 0,
    "start_time": "2024-10-04T15:56:20.550Z"
   },
   {
    "duration": 0,
    "start_time": "2024-10-04T15:56:20.551Z"
   },
   {
    "duration": 0,
    "start_time": "2024-10-04T15:56:20.552Z"
   },
   {
    "duration": 0,
    "start_time": "2024-10-04T15:56:20.553Z"
   },
   {
    "duration": 0,
    "start_time": "2024-10-04T15:56:20.554Z"
   },
   {
    "duration": 0,
    "start_time": "2024-10-04T15:56:20.556Z"
   },
   {
    "duration": 0,
    "start_time": "2024-10-04T15:56:20.556Z"
   },
   {
    "duration": 0,
    "start_time": "2024-10-04T15:56:20.558Z"
   },
   {
    "duration": 0,
    "start_time": "2024-10-04T15:56:20.560Z"
   },
   {
    "duration": 0,
    "start_time": "2024-10-04T15:56:20.561Z"
   },
   {
    "duration": 0,
    "start_time": "2024-10-04T15:56:20.562Z"
   },
   {
    "duration": 0,
    "start_time": "2024-10-04T15:56:20.563Z"
   },
   {
    "duration": 0,
    "start_time": "2024-10-04T15:56:20.563Z"
   },
   {
    "duration": 0,
    "start_time": "2024-10-04T15:56:20.564Z"
   },
   {
    "duration": 0,
    "start_time": "2024-10-04T15:56:20.565Z"
   },
   {
    "duration": 0,
    "start_time": "2024-10-04T15:56:20.566Z"
   },
   {
    "duration": 0,
    "start_time": "2024-10-04T15:56:20.567Z"
   },
   {
    "duration": 0,
    "start_time": "2024-10-04T15:56:20.568Z"
   },
   {
    "duration": 0,
    "start_time": "2024-10-04T15:56:20.569Z"
   },
   {
    "duration": 0,
    "start_time": "2024-10-04T15:56:20.570Z"
   },
   {
    "duration": 4,
    "start_time": "2024-10-04T15:56:56.515Z"
   },
   {
    "duration": 4,
    "start_time": "2024-10-04T15:56:58.660Z"
   },
   {
    "duration": 842,
    "start_time": "2024-10-04T15:57:03.151Z"
   },
   {
    "duration": 35,
    "start_time": "2024-10-04T15:57:03.995Z"
   },
   {
    "duration": 12,
    "start_time": "2024-10-04T15:57:04.032Z"
   },
   {
    "duration": 11,
    "start_time": "2024-10-04T15:57:04.046Z"
   },
   {
    "duration": 7,
    "start_time": "2024-10-04T15:57:04.060Z"
   },
   {
    "duration": 9,
    "start_time": "2024-10-04T15:57:04.068Z"
   },
   {
    "duration": 10,
    "start_time": "2024-10-04T15:57:04.080Z"
   },
   {
    "duration": 4,
    "start_time": "2024-10-04T15:57:04.091Z"
   },
   {
    "duration": 47,
    "start_time": "2024-10-04T15:57:04.096Z"
   },
   {
    "duration": 8,
    "start_time": "2024-10-04T15:57:04.146Z"
   },
   {
    "duration": 4,
    "start_time": "2024-10-04T15:57:04.156Z"
   },
   {
    "duration": 4,
    "start_time": "2024-10-04T15:57:04.162Z"
   },
   {
    "duration": 12,
    "start_time": "2024-10-04T15:57:04.168Z"
   },
   {
    "duration": 2,
    "start_time": "2024-10-04T15:57:04.181Z"
   },
   {
    "duration": 12,
    "start_time": "2024-10-04T15:57:04.185Z"
   },
   {
    "duration": 8,
    "start_time": "2024-10-04T15:57:04.199Z"
   },
   {
    "duration": 9,
    "start_time": "2024-10-04T15:57:04.244Z"
   },
   {
    "duration": 9,
    "start_time": "2024-10-04T15:57:04.254Z"
   },
   {
    "duration": 9,
    "start_time": "2024-10-04T15:57:04.264Z"
   },
   {
    "duration": 9,
    "start_time": "2024-10-04T15:57:04.275Z"
   },
   {
    "duration": 3,
    "start_time": "2024-10-04T15:57:04.286Z"
   },
   {
    "duration": 53,
    "start_time": "2024-10-04T15:57:04.291Z"
   },
   {
    "duration": 4,
    "start_time": "2024-10-04T15:57:04.347Z"
   },
   {
    "duration": 165,
    "start_time": "2024-10-04T15:57:04.354Z"
   },
   {
    "duration": 8,
    "start_time": "2024-10-04T15:57:04.521Z"
   },
   {
    "duration": 15,
    "start_time": "2024-10-04T15:57:04.543Z"
   },
   {
    "duration": 9,
    "start_time": "2024-10-04T15:57:04.560Z"
   },
   {
    "duration": 12,
    "start_time": "2024-10-04T15:57:04.574Z"
   },
   {
    "duration": 3,
    "start_time": "2024-10-04T15:57:04.587Z"
   },
   {
    "duration": 7,
    "start_time": "2024-10-04T15:57:04.592Z"
   },
   {
    "duration": 70,
    "start_time": "2024-10-04T15:57:04.601Z"
   },
   {
    "duration": 4,
    "start_time": "2024-10-04T15:57:04.672Z"
   },
   {
    "duration": 321,
    "start_time": "2024-10-04T15:57:04.678Z"
   },
   {
    "duration": 3,
    "start_time": "2024-10-04T15:57:05.001Z"
   },
   {
    "duration": 311,
    "start_time": "2024-10-04T15:57:05.006Z"
   },
   {
    "duration": 6,
    "start_time": "2024-10-04T15:57:05.319Z"
   },
   {
    "duration": 26,
    "start_time": "2024-10-04T15:57:05.327Z"
   },
   {
    "duration": 635,
    "start_time": "2024-10-04T15:57:05.354Z"
   },
   {
    "duration": 10,
    "start_time": "2024-10-04T15:57:05.991Z"
   },
   {
    "duration": 9,
    "start_time": "2024-10-04T15:57:06.002Z"
   },
   {
    "duration": 8,
    "start_time": "2024-10-04T15:57:06.013Z"
   },
   {
    "duration": 158,
    "start_time": "2024-10-04T15:57:06.023Z"
   },
   {
    "duration": 164,
    "start_time": "2024-10-04T15:57:06.183Z"
   },
   {
    "duration": 27,
    "start_time": "2024-10-04T15:57:06.348Z"
   },
   {
    "duration": 18,
    "start_time": "2024-10-04T15:57:06.377Z"
   },
   {
    "duration": 46,
    "start_time": "2024-10-04T15:57:06.397Z"
   },
   {
    "duration": 27,
    "start_time": "2024-10-04T15:57:06.446Z"
   },
   {
    "duration": 129,
    "start_time": "2024-10-04T15:57:06.476Z"
   },
   {
    "duration": 122,
    "start_time": "2024-10-04T15:57:06.607Z"
   },
   {
    "duration": 131,
    "start_time": "2024-10-04T15:57:06.732Z"
   },
   {
    "duration": 16,
    "start_time": "2024-10-04T15:57:06.865Z"
   },
   {
    "duration": 7,
    "start_time": "2024-10-04T15:57:06.884Z"
   },
   {
    "duration": 6,
    "start_time": "2024-10-04T15:57:06.892Z"
   },
   {
    "duration": 15,
    "start_time": "2024-10-04T16:01:09.995Z"
   },
   {
    "duration": 926,
    "start_time": "2024-10-04T16:01:30.692Z"
   },
   {
    "duration": 39,
    "start_time": "2024-10-04T16:01:31.621Z"
   },
   {
    "duration": 3,
    "start_time": "2024-10-04T16:01:31.662Z"
   },
   {
    "duration": 12,
    "start_time": "2024-10-04T16:01:31.668Z"
   },
   {
    "duration": 8,
    "start_time": "2024-10-04T16:01:31.682Z"
   },
   {
    "duration": 9,
    "start_time": "2024-10-04T16:01:31.691Z"
   },
   {
    "duration": 43,
    "start_time": "2024-10-04T16:01:31.702Z"
   },
   {
    "duration": 12,
    "start_time": "2024-10-04T16:01:31.747Z"
   },
   {
    "duration": 4,
    "start_time": "2024-10-04T16:01:31.761Z"
   },
   {
    "duration": 7,
    "start_time": "2024-10-04T16:01:31.769Z"
   },
   {
    "duration": 8,
    "start_time": "2024-10-04T16:01:31.778Z"
   },
   {
    "duration": 4,
    "start_time": "2024-10-04T16:01:31.789Z"
   },
   {
    "duration": 3,
    "start_time": "2024-10-04T16:01:31.795Z"
   },
   {
    "duration": 48,
    "start_time": "2024-10-04T16:01:31.801Z"
   },
   {
    "duration": 2,
    "start_time": "2024-10-04T16:01:31.851Z"
   },
   {
    "duration": 14,
    "start_time": "2024-10-04T16:01:31.855Z"
   },
   {
    "duration": 7,
    "start_time": "2024-10-04T16:01:31.871Z"
   },
   {
    "duration": 9,
    "start_time": "2024-10-04T16:01:31.880Z"
   },
   {
    "duration": 9,
    "start_time": "2024-10-04T16:01:31.890Z"
   },
   {
    "duration": 55,
    "start_time": "2024-10-04T16:01:31.901Z"
   },
   {
    "duration": 10,
    "start_time": "2024-10-04T16:01:31.958Z"
   },
   {
    "duration": 5,
    "start_time": "2024-10-04T16:01:31.972Z"
   },
   {
    "duration": 19,
    "start_time": "2024-10-04T16:01:31.979Z"
   },
   {
    "duration": 4,
    "start_time": "2024-10-04T16:01:32.000Z"
   },
   {
    "duration": 184,
    "start_time": "2024-10-04T16:01:32.007Z"
   },
   {
    "duration": 8,
    "start_time": "2024-10-04T16:01:32.194Z"
   },
   {
    "duration": 16,
    "start_time": "2024-10-04T16:01:32.203Z"
   },
   {
    "duration": 10,
    "start_time": "2024-10-04T16:01:32.242Z"
   },
   {
    "duration": 11,
    "start_time": "2024-10-04T16:01:32.254Z"
   },
   {
    "duration": 4,
    "start_time": "2024-10-04T16:01:32.267Z"
   },
   {
    "duration": 8,
    "start_time": "2024-10-04T16:01:32.273Z"
   },
   {
    "duration": 72,
    "start_time": "2024-10-04T16:01:32.283Z"
   },
   {
    "duration": 4,
    "start_time": "2024-10-04T16:01:32.357Z"
   },
   {
    "duration": 350,
    "start_time": "2024-10-04T16:01:32.363Z"
   },
   {
    "duration": 6,
    "start_time": "2024-10-04T16:01:32.714Z"
   },
   {
    "duration": 315,
    "start_time": "2024-10-04T16:01:32.721Z"
   },
   {
    "duration": 8,
    "start_time": "2024-10-04T16:01:33.038Z"
   },
   {
    "duration": 14,
    "start_time": "2024-10-04T16:01:33.048Z"
   },
   {
    "duration": 647,
    "start_time": "2024-10-04T16:01:33.064Z"
   },
   {
    "duration": 11,
    "start_time": "2024-10-04T16:01:33.713Z"
   },
   {
    "duration": 9,
    "start_time": "2024-10-04T16:01:33.726Z"
   },
   {
    "duration": 10,
    "start_time": "2024-10-04T16:01:33.742Z"
   },
   {
    "duration": 166,
    "start_time": "2024-10-04T16:01:33.753Z"
   },
   {
    "duration": 166,
    "start_time": "2024-10-04T16:01:33.921Z"
   },
   {
    "duration": 28,
    "start_time": "2024-10-04T16:01:34.090Z"
   },
   {
    "duration": 48,
    "start_time": "2024-10-04T16:01:34.120Z"
   },
   {
    "duration": 23,
    "start_time": "2024-10-04T16:01:34.169Z"
   },
   {
    "duration": 21,
    "start_time": "2024-10-04T16:01:34.193Z"
   },
   {
    "duration": 154,
    "start_time": "2024-10-04T16:01:34.216Z"
   },
   {
    "duration": 128,
    "start_time": "2024-10-04T16:01:34.372Z"
   },
   {
    "duration": 129,
    "start_time": "2024-10-04T16:01:34.502Z"
   },
   {
    "duration": 21,
    "start_time": "2024-10-04T16:01:34.633Z"
   },
   {
    "duration": 7,
    "start_time": "2024-10-04T16:01:34.657Z"
   },
   {
    "duration": 7,
    "start_time": "2024-10-04T16:01:34.666Z"
   },
   {
    "duration": 16,
    "start_time": "2024-10-04T16:02:47.105Z"
   },
   {
    "duration": 824,
    "start_time": "2024-10-04T16:02:56.314Z"
   },
   {
    "duration": 35,
    "start_time": "2024-10-04T16:02:57.140Z"
   },
   {
    "duration": 3,
    "start_time": "2024-10-04T16:02:57.177Z"
   },
   {
    "duration": 10,
    "start_time": "2024-10-04T16:02:57.183Z"
   },
   {
    "duration": 7,
    "start_time": "2024-10-04T16:02:57.194Z"
   },
   {
    "duration": 9,
    "start_time": "2024-10-04T16:02:57.203Z"
   },
   {
    "duration": 40,
    "start_time": "2024-10-04T16:02:57.214Z"
   },
   {
    "duration": 12,
    "start_time": "2024-10-04T16:02:57.256Z"
   },
   {
    "duration": 4,
    "start_time": "2024-10-04T16:02:57.270Z"
   },
   {
    "duration": 7,
    "start_time": "2024-10-04T16:02:57.278Z"
   },
   {
    "duration": 8,
    "start_time": "2024-10-04T16:02:57.288Z"
   },
   {
    "duration": 46,
    "start_time": "2024-10-04T16:02:57.298Z"
   },
   {
    "duration": 5,
    "start_time": "2024-10-04T16:02:57.346Z"
   },
   {
    "duration": 12,
    "start_time": "2024-10-04T16:02:57.352Z"
   },
   {
    "duration": 3,
    "start_time": "2024-10-04T16:02:57.366Z"
   },
   {
    "duration": 13,
    "start_time": "2024-10-04T16:02:57.370Z"
   },
   {
    "duration": 11,
    "start_time": "2024-10-04T16:02:57.385Z"
   },
   {
    "duration": 44,
    "start_time": "2024-10-04T16:02:57.399Z"
   },
   {
    "duration": 10,
    "start_time": "2024-10-04T16:02:57.445Z"
   },
   {
    "duration": 10,
    "start_time": "2024-10-04T16:02:57.457Z"
   },
   {
    "duration": 10,
    "start_time": "2024-10-04T16:02:57.468Z"
   },
   {
    "duration": 3,
    "start_time": "2024-10-04T16:02:57.481Z"
   },
   {
    "duration": 19,
    "start_time": "2024-10-04T16:02:57.486Z"
   },
   {
    "duration": 39,
    "start_time": "2024-10-04T16:02:57.506Z"
   },
   {
    "duration": 173,
    "start_time": "2024-10-04T16:02:57.548Z"
   },
   {
    "duration": 7,
    "start_time": "2024-10-04T16:02:57.723Z"
   },
   {
    "duration": 23,
    "start_time": "2024-10-04T16:02:57.732Z"
   },
   {
    "duration": 9,
    "start_time": "2024-10-04T16:02:57.760Z"
   },
   {
    "duration": 10,
    "start_time": "2024-10-04T16:02:57.771Z"
   },
   {
    "duration": 3,
    "start_time": "2024-10-04T16:02:57.783Z"
   },
   {
    "duration": 7,
    "start_time": "2024-10-04T16:02:57.787Z"
   },
   {
    "duration": 67,
    "start_time": "2024-10-04T16:02:57.796Z"
   },
   {
    "duration": 4,
    "start_time": "2024-10-04T16:02:57.865Z"
   },
   {
    "duration": 341,
    "start_time": "2024-10-04T16:02:57.872Z"
   },
   {
    "duration": 4,
    "start_time": "2024-10-04T16:02:58.215Z"
   },
   {
    "duration": 313,
    "start_time": "2024-10-04T16:02:58.221Z"
   },
   {
    "duration": 10,
    "start_time": "2024-10-04T16:02:58.537Z"
   },
   {
    "duration": 13,
    "start_time": "2024-10-04T16:02:58.549Z"
   },
   {
    "duration": 630,
    "start_time": "2024-10-04T16:02:58.565Z"
   },
   {
    "duration": 11,
    "start_time": "2024-10-04T16:02:59.198Z"
   },
   {
    "duration": 9,
    "start_time": "2024-10-04T16:02:59.210Z"
   },
   {
    "duration": 8,
    "start_time": "2024-10-04T16:02:59.221Z"
   },
   {
    "duration": 173,
    "start_time": "2024-10-04T16:02:59.243Z"
   },
   {
    "duration": 159,
    "start_time": "2024-10-04T16:02:59.418Z"
   },
   {
    "duration": 31,
    "start_time": "2024-10-04T16:02:59.579Z"
   },
   {
    "duration": 43,
    "start_time": "2024-10-04T16:02:59.611Z"
   },
   {
    "duration": 20,
    "start_time": "2024-10-04T16:02:59.656Z"
   },
   {
    "duration": 19,
    "start_time": "2024-10-04T16:02:59.678Z"
   },
   {
    "duration": 145,
    "start_time": "2024-10-04T16:02:59.699Z"
   },
   {
    "duration": 118,
    "start_time": "2024-10-04T16:02:59.847Z"
   },
   {
    "duration": 132,
    "start_time": "2024-10-04T16:02:59.967Z"
   },
   {
    "duration": 19,
    "start_time": "2024-10-04T16:03:00.101Z"
   },
   {
    "duration": 21,
    "start_time": "2024-10-04T16:03:00.122Z"
   },
   {
    "duration": 6,
    "start_time": "2024-10-04T16:03:00.145Z"
   },
   {
    "duration": 8,
    "start_time": "2024-10-04T16:22:32.572Z"
   },
   {
    "duration": 6,
    "start_time": "2024-10-04T16:22:34.694Z"
   },
   {
    "duration": 13,
    "start_time": "2024-10-04T16:22:40.048Z"
   },
   {
    "duration": 14,
    "start_time": "2024-10-04T16:22:57.118Z"
   },
   {
    "duration": 851,
    "start_time": "2024-10-04T16:23:12.596Z"
   },
   {
    "duration": 37,
    "start_time": "2024-10-04T16:23:13.450Z"
   },
   {
    "duration": 3,
    "start_time": "2024-10-04T16:23:13.489Z"
   },
   {
    "duration": 12,
    "start_time": "2024-10-04T16:23:13.495Z"
   },
   {
    "duration": 34,
    "start_time": "2024-10-04T16:23:13.509Z"
   },
   {
    "duration": 10,
    "start_time": "2024-10-04T16:23:13.545Z"
   },
   {
    "duration": 15,
    "start_time": "2024-10-04T16:23:13.557Z"
   },
   {
    "duration": 11,
    "start_time": "2024-10-04T16:23:13.574Z"
   },
   {
    "duration": 4,
    "start_time": "2024-10-04T16:23:13.586Z"
   },
   {
    "duration": 7,
    "start_time": "2024-10-04T16:23:13.594Z"
   },
   {
    "duration": 41,
    "start_time": "2024-10-04T16:23:13.603Z"
   },
   {
    "duration": 4,
    "start_time": "2024-10-04T16:23:13.646Z"
   },
   {
    "duration": 9,
    "start_time": "2024-10-04T16:23:13.652Z"
   },
   {
    "duration": 12,
    "start_time": "2024-10-04T16:23:13.663Z"
   },
   {
    "duration": 13,
    "start_time": "2024-10-04T16:23:13.676Z"
   },
   {
    "duration": 7,
    "start_time": "2024-10-04T16:23:13.691Z"
   },
   {
    "duration": 47,
    "start_time": "2024-10-04T16:23:13.700Z"
   },
   {
    "duration": 10,
    "start_time": "2024-10-04T16:23:13.749Z"
   },
   {
    "duration": 10,
    "start_time": "2024-10-04T16:23:13.763Z"
   },
   {
    "duration": 9,
    "start_time": "2024-10-04T16:23:13.776Z"
   },
   {
    "duration": 5,
    "start_time": "2024-10-04T16:23:13.787Z"
   },
   {
    "duration": 57,
    "start_time": "2024-10-04T16:23:13.793Z"
   },
   {
    "duration": 4,
    "start_time": "2024-10-04T16:23:13.853Z"
   },
   {
    "duration": 176,
    "start_time": "2024-10-04T16:23:13.860Z"
   },
   {
    "duration": 8,
    "start_time": "2024-10-04T16:23:14.042Z"
   },
   {
    "duration": 15,
    "start_time": "2024-10-04T16:23:14.051Z"
   },
   {
    "duration": 9,
    "start_time": "2024-10-04T16:23:14.069Z"
   },
   {
    "duration": 11,
    "start_time": "2024-10-04T16:23:14.083Z"
   },
   {
    "duration": 3,
    "start_time": "2024-10-04T16:23:14.096Z"
   },
   {
    "duration": 46,
    "start_time": "2024-10-04T16:23:14.101Z"
   },
   {
    "duration": 38,
    "start_time": "2024-10-04T16:23:14.149Z"
   },
   {
    "duration": 4,
    "start_time": "2024-10-04T16:23:14.189Z"
   },
   {
    "duration": 356,
    "start_time": "2024-10-04T16:23:14.195Z"
   },
   {
    "duration": 4,
    "start_time": "2024-10-04T16:23:14.552Z"
   },
   {
    "duration": 310,
    "start_time": "2024-10-04T16:23:14.558Z"
   },
   {
    "duration": 6,
    "start_time": "2024-10-04T16:23:14.870Z"
   },
   {
    "duration": 13,
    "start_time": "2024-10-04T16:23:14.878Z"
   },
   {
    "duration": 671,
    "start_time": "2024-10-04T16:23:14.892Z"
   },
   {
    "duration": 9,
    "start_time": "2024-10-04T16:23:15.566Z"
   },
   {
    "duration": 10,
    "start_time": "2024-10-04T16:23:15.577Z"
   },
   {
    "duration": 11,
    "start_time": "2024-10-04T16:23:15.589Z"
   },
   {
    "duration": 166,
    "start_time": "2024-10-04T16:23:15.602Z"
   },
   {
    "duration": 170,
    "start_time": "2024-10-04T16:23:15.770Z"
   },
   {
    "duration": 29,
    "start_time": "2024-10-04T16:23:15.941Z"
   },
   {
    "duration": 19,
    "start_time": "2024-10-04T16:23:15.971Z"
   },
   {
    "duration": 18,
    "start_time": "2024-10-04T16:23:15.992Z"
   },
   {
    "duration": 21,
    "start_time": "2024-10-04T16:23:16.043Z"
   },
   {
    "duration": 142,
    "start_time": "2024-10-04T16:23:16.066Z"
   },
   {
    "duration": 127,
    "start_time": "2024-10-04T16:23:16.210Z"
   },
   {
    "duration": 122,
    "start_time": "2024-10-04T16:23:16.342Z"
   },
   {
    "duration": 21,
    "start_time": "2024-10-04T16:23:16.470Z"
   },
   {
    "duration": 7,
    "start_time": "2024-10-04T16:23:16.493Z"
   },
   {
    "duration": 7,
    "start_time": "2024-10-04T16:23:16.501Z"
   },
   {
    "duration": 14,
    "start_time": "2024-10-04T16:23:51.920Z"
   },
   {
    "duration": 12,
    "start_time": "2024-10-04T16:39:11.462Z"
   },
   {
    "duration": 13,
    "start_time": "2024-10-04T16:39:20.362Z"
   },
   {
    "duration": 13,
    "start_time": "2024-10-04T16:39:22.517Z"
   },
   {
    "duration": 13,
    "start_time": "2024-10-04T16:39:32.042Z"
   },
   {
    "duration": 860,
    "start_time": "2024-10-04T16:39:37.181Z"
   },
   {
    "duration": 36,
    "start_time": "2024-10-04T16:39:38.045Z"
   },
   {
    "duration": 3,
    "start_time": "2024-10-04T16:39:38.084Z"
   },
   {
    "duration": 11,
    "start_time": "2024-10-04T16:39:38.089Z"
   },
   {
    "duration": 7,
    "start_time": "2024-10-04T16:39:38.102Z"
   },
   {
    "duration": 38,
    "start_time": "2024-10-04T16:39:38.110Z"
   },
   {
    "duration": 15,
    "start_time": "2024-10-04T16:39:38.151Z"
   },
   {
    "duration": 12,
    "start_time": "2024-10-04T16:39:38.167Z"
   },
   {
    "duration": 3,
    "start_time": "2024-10-04T16:39:38.182Z"
   },
   {
    "duration": 8,
    "start_time": "2024-10-04T16:39:38.187Z"
   },
   {
    "duration": 9,
    "start_time": "2024-10-04T16:39:38.196Z"
   },
   {
    "duration": 39,
    "start_time": "2024-10-04T16:39:38.207Z"
   },
   {
    "duration": 12,
    "start_time": "2024-10-04T16:39:38.248Z"
   },
   {
    "duration": 11,
    "start_time": "2024-10-04T16:39:38.262Z"
   },
   {
    "duration": 13,
    "start_time": "2024-10-04T16:39:38.274Z"
   },
   {
    "duration": 7,
    "start_time": "2024-10-04T16:39:38.289Z"
   },
   {
    "duration": 8,
    "start_time": "2024-10-04T16:39:38.298Z"
   },
   {
    "duration": 11,
    "start_time": "2024-10-04T16:39:38.343Z"
   },
   {
    "duration": 10,
    "start_time": "2024-10-04T16:39:38.356Z"
   },
   {
    "duration": 10,
    "start_time": "2024-10-04T16:39:38.368Z"
   },
   {
    "duration": 5,
    "start_time": "2024-10-04T16:39:38.379Z"
   },
   {
    "duration": 19,
    "start_time": "2024-10-04T16:39:38.385Z"
   },
   {
    "duration": 4,
    "start_time": "2024-10-04T16:39:38.407Z"
   },
   {
    "duration": 196,
    "start_time": "2024-10-04T16:39:38.413Z"
   },
   {
    "duration": 8,
    "start_time": "2024-10-04T16:39:38.612Z"
   },
   {
    "duration": 24,
    "start_time": "2024-10-04T16:39:38.622Z"
   },
   {
    "duration": 9,
    "start_time": "2024-10-04T16:39:38.650Z"
   },
   {
    "duration": 11,
    "start_time": "2024-10-04T16:39:38.661Z"
   },
   {
    "duration": 4,
    "start_time": "2024-10-04T16:39:38.674Z"
   },
   {
    "duration": 8,
    "start_time": "2024-10-04T16:39:38.680Z"
   },
   {
    "duration": 75,
    "start_time": "2024-10-04T16:39:38.690Z"
   },
   {
    "duration": 4,
    "start_time": "2024-10-04T16:39:38.769Z"
   },
   {
    "duration": 342,
    "start_time": "2024-10-04T16:39:38.775Z"
   },
   {
    "duration": 4,
    "start_time": "2024-10-04T16:39:39.119Z"
   },
   {
    "duration": 332,
    "start_time": "2024-10-04T16:39:39.124Z"
   },
   {
    "duration": 10,
    "start_time": "2024-10-04T16:39:39.458Z"
   },
   {
    "duration": 18,
    "start_time": "2024-10-04T16:39:39.471Z"
   },
   {
    "duration": 649,
    "start_time": "2024-10-04T16:39:39.491Z"
   },
   {
    "duration": 11,
    "start_time": "2024-10-04T16:39:40.142Z"
   },
   {
    "duration": 10,
    "start_time": "2024-10-04T16:39:40.155Z"
   },
   {
    "duration": 9,
    "start_time": "2024-10-04T16:39:40.166Z"
   },
   {
    "duration": 179,
    "start_time": "2024-10-04T16:39:40.177Z"
   },
   {
    "duration": 189,
    "start_time": "2024-10-04T16:39:40.358Z"
   },
   {
    "duration": 31,
    "start_time": "2024-10-04T16:39:40.550Z"
   },
   {
    "duration": 19,
    "start_time": "2024-10-04T16:39:40.583Z"
   },
   {
    "duration": 52,
    "start_time": "2024-10-04T16:39:40.604Z"
   },
   {
    "duration": 22,
    "start_time": "2024-10-04T16:39:40.659Z"
   },
   {
    "duration": 145,
    "start_time": "2024-10-04T16:39:40.682Z"
   },
   {
    "duration": 123,
    "start_time": "2024-10-04T16:39:40.831Z"
   },
   {
    "duration": 129,
    "start_time": "2024-10-04T16:39:40.956Z"
   },
   {
    "duration": 18,
    "start_time": "2024-10-04T16:39:41.087Z"
   },
   {
    "duration": 7,
    "start_time": "2024-10-04T16:39:41.107Z"
   },
   {
    "duration": 27,
    "start_time": "2024-10-04T16:39:41.116Z"
   },
   {
    "duration": 676,
    "start_time": "2024-10-04T16:41:18.437Z"
   },
   {
    "duration": 46,
    "start_time": "2024-10-04T16:41:31.968Z"
   },
   {
    "duration": 50,
    "start_time": "2024-10-04T16:41:50.139Z"
   },
   {
    "duration": 885,
    "start_time": "2024-10-04T16:41:56.955Z"
   },
   {
    "duration": 36,
    "start_time": "2024-10-04T16:41:57.842Z"
   },
   {
    "duration": 4,
    "start_time": "2024-10-04T16:41:57.879Z"
   },
   {
    "duration": 12,
    "start_time": "2024-10-04T16:41:57.884Z"
   },
   {
    "duration": 7,
    "start_time": "2024-10-04T16:41:57.897Z"
   },
   {
    "duration": 8,
    "start_time": "2024-10-04T16:41:57.906Z"
   },
   {
    "duration": 15,
    "start_time": "2024-10-04T16:41:57.943Z"
   },
   {
    "duration": 11,
    "start_time": "2024-10-04T16:41:57.961Z"
   },
   {
    "duration": 4,
    "start_time": "2024-10-04T16:41:57.974Z"
   },
   {
    "duration": 7,
    "start_time": "2024-10-04T16:41:57.981Z"
   },
   {
    "duration": 9,
    "start_time": "2024-10-04T16:41:57.990Z"
   },
   {
    "duration": 4,
    "start_time": "2024-10-04T16:41:58.001Z"
   },
   {
    "duration": 13,
    "start_time": "2024-10-04T16:41:58.044Z"
   },
   {
    "duration": 16,
    "start_time": "2024-10-04T16:41:58.060Z"
   },
   {
    "duration": 15,
    "start_time": "2024-10-04T16:41:58.078Z"
   },
   {
    "duration": 9,
    "start_time": "2024-10-04T16:41:58.095Z"
   },
   {
    "duration": 39,
    "start_time": "2024-10-04T16:41:58.106Z"
   },
   {
    "duration": 12,
    "start_time": "2024-10-04T16:41:58.148Z"
   },
   {
    "duration": 11,
    "start_time": "2024-10-04T16:41:58.163Z"
   },
   {
    "duration": 10,
    "start_time": "2024-10-04T16:41:58.176Z"
   },
   {
    "duration": 4,
    "start_time": "2024-10-04T16:41:58.187Z"
   },
   {
    "duration": 56,
    "start_time": "2024-10-04T16:41:58.193Z"
   },
   {
    "duration": 4,
    "start_time": "2024-10-04T16:41:58.251Z"
   },
   {
    "duration": 178,
    "start_time": "2024-10-04T16:41:58.257Z"
   },
   {
    "duration": 12,
    "start_time": "2024-10-04T16:41:58.437Z"
   },
   {
    "duration": 17,
    "start_time": "2024-10-04T16:41:58.451Z"
   },
   {
    "duration": 10,
    "start_time": "2024-10-04T16:41:58.470Z"
   },
   {
    "duration": 12,
    "start_time": "2024-10-04T16:41:58.484Z"
   },
   {
    "duration": 4,
    "start_time": "2024-10-04T16:41:58.497Z"
   },
   {
    "duration": 9,
    "start_time": "2024-10-04T16:41:58.542Z"
   },
   {
    "duration": 36,
    "start_time": "2024-10-04T16:41:58.553Z"
   },
   {
    "duration": 4,
    "start_time": "2024-10-04T16:41:58.591Z"
   },
   {
    "duration": 355,
    "start_time": "2024-10-04T16:41:58.597Z"
   },
   {
    "duration": 4,
    "start_time": "2024-10-04T16:41:58.954Z"
   },
   {
    "duration": 320,
    "start_time": "2024-10-04T16:41:58.961Z"
   },
   {
    "duration": 6,
    "start_time": "2024-10-04T16:41:59.283Z"
   },
   {
    "duration": 17,
    "start_time": "2024-10-04T16:41:59.290Z"
   },
   {
    "duration": 649,
    "start_time": "2024-10-04T16:41:59.310Z"
   },
   {
    "duration": 10,
    "start_time": "2024-10-04T16:41:59.962Z"
   },
   {
    "duration": 9,
    "start_time": "2024-10-04T16:41:59.973Z"
   },
   {
    "duration": 9,
    "start_time": "2024-10-04T16:41:59.984Z"
   },
   {
    "duration": 165,
    "start_time": "2024-10-04T16:41:59.995Z"
   },
   {
    "duration": 180,
    "start_time": "2024-10-04T16:42:00.163Z"
   },
   {
    "duration": 28,
    "start_time": "2024-10-04T16:42:00.345Z"
   },
   {
    "duration": 19,
    "start_time": "2024-10-04T16:42:00.374Z"
   },
   {
    "duration": 18,
    "start_time": "2024-10-04T16:42:00.395Z"
   },
   {
    "duration": 22,
    "start_time": "2024-10-04T16:42:00.443Z"
   },
   {
    "duration": 142,
    "start_time": "2024-10-04T16:42:00.466Z"
   },
   {
    "duration": 122,
    "start_time": "2024-10-04T16:42:00.610Z"
   },
   {
    "duration": 137,
    "start_time": "2024-10-04T16:42:00.734Z"
   },
   {
    "duration": 17,
    "start_time": "2024-10-04T16:42:00.874Z"
   },
   {
    "duration": 7,
    "start_time": "2024-10-04T16:42:00.893Z"
   },
   {
    "duration": 6,
    "start_time": "2024-10-04T16:42:00.901Z"
   },
   {
    "duration": 840,
    "start_time": "2024-10-04T16:43:21.740Z"
   },
   {
    "duration": 38,
    "start_time": "2024-10-04T16:43:22.583Z"
   },
   {
    "duration": 4,
    "start_time": "2024-10-04T16:43:22.623Z"
   },
   {
    "duration": 12,
    "start_time": "2024-10-04T16:43:22.644Z"
   },
   {
    "duration": 7,
    "start_time": "2024-10-04T16:43:22.657Z"
   },
   {
    "duration": 8,
    "start_time": "2024-10-04T16:43:22.667Z"
   },
   {
    "duration": 14,
    "start_time": "2024-10-04T16:43:22.677Z"
   },
   {
    "duration": 12,
    "start_time": "2024-10-04T16:43:22.693Z"
   },
   {
    "duration": 36,
    "start_time": "2024-10-04T16:43:22.707Z"
   },
   {
    "duration": 7,
    "start_time": "2024-10-04T16:43:22.747Z"
   },
   {
    "duration": 9,
    "start_time": "2024-10-04T16:43:22.756Z"
   },
   {
    "duration": 4,
    "start_time": "2024-10-04T16:43:22.767Z"
   },
   {
    "duration": 7,
    "start_time": "2024-10-04T16:43:22.773Z"
   },
   {
    "duration": 11,
    "start_time": "2024-10-04T16:43:22.782Z"
   },
   {
    "duration": 52,
    "start_time": "2024-10-04T16:43:22.795Z"
   },
   {
    "duration": 11,
    "start_time": "2024-10-04T16:43:22.849Z"
   },
   {
    "duration": 10,
    "start_time": "2024-10-04T16:43:22.862Z"
   },
   {
    "duration": 9,
    "start_time": "2024-10-04T16:43:22.874Z"
   },
   {
    "duration": 11,
    "start_time": "2024-10-04T16:43:22.885Z"
   },
   {
    "duration": 10,
    "start_time": "2024-10-04T16:43:22.897Z"
   },
   {
    "duration": 4,
    "start_time": "2024-10-04T16:43:22.944Z"
   },
   {
    "duration": 22,
    "start_time": "2024-10-04T16:43:22.950Z"
   },
   {
    "duration": 4,
    "start_time": "2024-10-04T16:43:22.975Z"
   },
   {
    "duration": 180,
    "start_time": "2024-10-04T16:43:22.981Z"
   },
   {
    "duration": 8,
    "start_time": "2024-10-04T16:43:23.163Z"
   },
   {
    "duration": 16,
    "start_time": "2024-10-04T16:43:23.172Z"
   },
   {
    "duration": 10,
    "start_time": "2024-10-04T16:43:23.189Z"
   },
   {
    "duration": 10,
    "start_time": "2024-10-04T16:43:23.204Z"
   },
   {
    "duration": 3,
    "start_time": "2024-10-04T16:43:23.242Z"
   },
   {
    "duration": 7,
    "start_time": "2024-10-04T16:43:23.247Z"
   },
   {
    "duration": 35,
    "start_time": "2024-10-04T16:43:23.256Z"
   },
   {
    "duration": 4,
    "start_time": "2024-10-04T16:43:23.293Z"
   },
   {
    "duration": 354,
    "start_time": "2024-10-04T16:43:23.298Z"
   },
   {
    "duration": 3,
    "start_time": "2024-10-04T16:43:23.654Z"
   },
   {
    "duration": 294,
    "start_time": "2024-10-04T16:43:23.661Z"
   },
   {
    "duration": 6,
    "start_time": "2024-10-04T16:43:23.957Z"
   },
   {
    "duration": 13,
    "start_time": "2024-10-04T16:43:23.965Z"
   },
   {
    "duration": 651,
    "start_time": "2024-10-04T16:43:23.980Z"
   },
   {
    "duration": 11,
    "start_time": "2024-10-04T16:43:24.634Z"
   },
   {
    "duration": 9,
    "start_time": "2024-10-04T16:43:24.646Z"
   },
   {
    "duration": 8,
    "start_time": "2024-10-04T16:43:24.657Z"
   },
   {
    "duration": 164,
    "start_time": "2024-10-04T16:43:24.667Z"
   },
   {
    "duration": 175,
    "start_time": "2024-10-04T16:43:24.834Z"
   },
   {
    "duration": 42,
    "start_time": "2024-10-04T16:43:25.011Z"
   },
   {
    "duration": 20,
    "start_time": "2024-10-04T16:43:25.055Z"
   },
   {
    "duration": 18,
    "start_time": "2024-10-04T16:43:25.077Z"
   },
   {
    "duration": 49,
    "start_time": "2024-10-04T16:43:25.097Z"
   },
   {
    "duration": 135,
    "start_time": "2024-10-04T16:43:25.147Z"
   },
   {
    "duration": 126,
    "start_time": "2024-10-04T16:43:25.284Z"
   },
   {
    "duration": 182,
    "start_time": "2024-10-04T16:43:25.412Z"
   },
   {
    "duration": 24,
    "start_time": "2024-10-04T16:43:25.597Z"
   },
   {
    "duration": 21,
    "start_time": "2024-10-04T16:43:25.623Z"
   },
   {
    "duration": 8,
    "start_time": "2024-10-04T16:43:25.647Z"
   },
   {
    "duration": 480,
    "start_time": "2024-10-04T16:45:34.921Z"
   },
   {
    "duration": 22,
    "start_time": "2024-10-04T16:48:30.974Z"
   },
   {
    "duration": 24,
    "start_time": "2024-10-04T16:48:56.370Z"
   },
   {
    "duration": 12,
    "start_time": "2024-10-04T16:49:37.291Z"
   },
   {
    "duration": 868,
    "start_time": "2024-10-04T16:50:00.067Z"
   },
   {
    "duration": 42,
    "start_time": "2024-10-04T16:50:00.938Z"
   },
   {
    "duration": 4,
    "start_time": "2024-10-04T16:50:00.985Z"
   },
   {
    "duration": 12,
    "start_time": "2024-10-04T16:50:00.990Z"
   },
   {
    "duration": 6,
    "start_time": "2024-10-04T16:50:01.004Z"
   },
   {
    "duration": 35,
    "start_time": "2024-10-04T16:50:01.012Z"
   },
   {
    "duration": 17,
    "start_time": "2024-10-04T16:50:01.049Z"
   },
   {
    "duration": 11,
    "start_time": "2024-10-04T16:50:01.068Z"
   },
   {
    "duration": 4,
    "start_time": "2024-10-04T16:50:01.082Z"
   },
   {
    "duration": 7,
    "start_time": "2024-10-04T16:50:01.088Z"
   },
   {
    "duration": 9,
    "start_time": "2024-10-04T16:50:01.096Z"
   },
   {
    "duration": 39,
    "start_time": "2024-10-04T16:50:01.107Z"
   },
   {
    "duration": 5,
    "start_time": "2024-10-04T16:50:01.149Z"
   },
   {
    "duration": 597,
    "start_time": "2024-10-04T16:50:01.156Z"
   },
   {
    "duration": 0,
    "start_time": "2024-10-04T16:50:01.756Z"
   },
   {
    "duration": 0,
    "start_time": "2024-10-04T16:50:01.762Z"
   },
   {
    "duration": 0,
    "start_time": "2024-10-04T16:50:01.763Z"
   },
   {
    "duration": 0,
    "start_time": "2024-10-04T16:50:01.765Z"
   },
   {
    "duration": 0,
    "start_time": "2024-10-04T16:50:01.766Z"
   },
   {
    "duration": 0,
    "start_time": "2024-10-04T16:50:01.768Z"
   },
   {
    "duration": 0,
    "start_time": "2024-10-04T16:50:01.770Z"
   },
   {
    "duration": 0,
    "start_time": "2024-10-04T16:50:01.772Z"
   },
   {
    "duration": 0,
    "start_time": "2024-10-04T16:50:01.773Z"
   },
   {
    "duration": 0,
    "start_time": "2024-10-04T16:50:01.774Z"
   },
   {
    "duration": 0,
    "start_time": "2024-10-04T16:50:01.775Z"
   },
   {
    "duration": 0,
    "start_time": "2024-10-04T16:50:01.777Z"
   },
   {
    "duration": 0,
    "start_time": "2024-10-04T16:50:01.778Z"
   },
   {
    "duration": 0,
    "start_time": "2024-10-04T16:50:01.779Z"
   },
   {
    "duration": 0,
    "start_time": "2024-10-04T16:50:01.780Z"
   },
   {
    "duration": 0,
    "start_time": "2024-10-04T16:50:01.781Z"
   },
   {
    "duration": 0,
    "start_time": "2024-10-04T16:50:01.782Z"
   },
   {
    "duration": 0,
    "start_time": "2024-10-04T16:50:01.783Z"
   },
   {
    "duration": 0,
    "start_time": "2024-10-04T16:50:01.784Z"
   },
   {
    "duration": 0,
    "start_time": "2024-10-04T16:50:01.785Z"
   },
   {
    "duration": 0,
    "start_time": "2024-10-04T16:50:01.786Z"
   },
   {
    "duration": 0,
    "start_time": "2024-10-04T16:50:01.787Z"
   },
   {
    "duration": 0,
    "start_time": "2024-10-04T16:50:01.788Z"
   },
   {
    "duration": 0,
    "start_time": "2024-10-04T16:50:01.789Z"
   },
   {
    "duration": 0,
    "start_time": "2024-10-04T16:50:01.791Z"
   },
   {
    "duration": 0,
    "start_time": "2024-10-04T16:50:01.792Z"
   },
   {
    "duration": 0,
    "start_time": "2024-10-04T16:50:01.793Z"
   },
   {
    "duration": 0,
    "start_time": "2024-10-04T16:50:01.794Z"
   },
   {
    "duration": 0,
    "start_time": "2024-10-04T16:50:01.846Z"
   },
   {
    "duration": 0,
    "start_time": "2024-10-04T16:50:01.848Z"
   },
   {
    "duration": 0,
    "start_time": "2024-10-04T16:50:01.849Z"
   },
   {
    "duration": 0,
    "start_time": "2024-10-04T16:50:01.851Z"
   },
   {
    "duration": 0,
    "start_time": "2024-10-04T16:50:01.853Z"
   },
   {
    "duration": 0,
    "start_time": "2024-10-04T16:50:01.854Z"
   },
   {
    "duration": 0,
    "start_time": "2024-10-04T16:50:01.856Z"
   },
   {
    "duration": 0,
    "start_time": "2024-10-04T16:50:01.857Z"
   },
   {
    "duration": 0,
    "start_time": "2024-10-04T16:50:01.859Z"
   },
   {
    "duration": 0,
    "start_time": "2024-10-04T16:50:01.860Z"
   },
   {
    "duration": 0,
    "start_time": "2024-10-04T16:50:01.861Z"
   },
   {
    "duration": 46,
    "start_time": "2024-10-04T16:50:14.556Z"
   },
   {
    "duration": 864,
    "start_time": "2024-10-04T16:50:19.280Z"
   },
   {
    "duration": 35,
    "start_time": "2024-10-04T16:50:20.146Z"
   },
   {
    "duration": 3,
    "start_time": "2024-10-04T16:50:20.183Z"
   },
   {
    "duration": 11,
    "start_time": "2024-10-04T16:50:20.189Z"
   },
   {
    "duration": 7,
    "start_time": "2024-10-04T16:50:20.201Z"
   },
   {
    "duration": 39,
    "start_time": "2024-10-04T16:50:20.210Z"
   },
   {
    "duration": 14,
    "start_time": "2024-10-04T16:50:20.251Z"
   },
   {
    "duration": 12,
    "start_time": "2024-10-04T16:50:20.267Z"
   },
   {
    "duration": 5,
    "start_time": "2024-10-04T16:50:20.281Z"
   },
   {
    "duration": 7,
    "start_time": "2024-10-04T16:50:20.289Z"
   },
   {
    "duration": 10,
    "start_time": "2024-10-04T16:50:20.298Z"
   },
   {
    "duration": 6,
    "start_time": "2024-10-04T16:50:20.342Z"
   },
   {
    "duration": 10,
    "start_time": "2024-10-04T16:50:20.349Z"
   },
   {
    "duration": 12,
    "start_time": "2024-10-04T16:50:20.360Z"
   },
   {
    "duration": 13,
    "start_time": "2024-10-04T16:50:20.373Z"
   },
   {
    "duration": 9,
    "start_time": "2024-10-04T16:50:20.388Z"
   },
   {
    "duration": 45,
    "start_time": "2024-10-04T16:50:20.398Z"
   },
   {
    "duration": 12,
    "start_time": "2024-10-04T16:50:20.445Z"
   },
   {
    "duration": 11,
    "start_time": "2024-10-04T16:50:20.460Z"
   },
   {
    "duration": 14,
    "start_time": "2024-10-04T16:50:20.473Z"
   },
   {
    "duration": 8,
    "start_time": "2024-10-04T16:50:20.489Z"
   },
   {
    "duration": 51,
    "start_time": "2024-10-04T16:50:20.499Z"
   },
   {
    "duration": 5,
    "start_time": "2024-10-04T16:50:20.552Z"
   },
   {
    "duration": 178,
    "start_time": "2024-10-04T16:50:20.559Z"
   },
   {
    "duration": 9,
    "start_time": "2024-10-04T16:50:20.743Z"
   },
   {
    "duration": 16,
    "start_time": "2024-10-04T16:50:20.754Z"
   },
   {
    "duration": 10,
    "start_time": "2024-10-04T16:50:20.771Z"
   },
   {
    "duration": 12,
    "start_time": "2024-10-04T16:50:20.786Z"
   },
   {
    "duration": 3,
    "start_time": "2024-10-04T16:50:20.800Z"
   },
   {
    "duration": 47,
    "start_time": "2024-10-04T16:50:20.805Z"
   },
   {
    "duration": 37,
    "start_time": "2024-10-04T16:50:20.854Z"
   },
   {
    "duration": 4,
    "start_time": "2024-10-04T16:50:20.893Z"
   },
   {
    "duration": 367,
    "start_time": "2024-10-04T16:50:20.899Z"
   },
   {
    "duration": 4,
    "start_time": "2024-10-04T16:50:21.268Z"
   },
   {
    "duration": 313,
    "start_time": "2024-10-04T16:50:21.274Z"
   },
   {
    "duration": 7,
    "start_time": "2024-10-04T16:50:21.589Z"
   },
   {
    "duration": 14,
    "start_time": "2024-10-04T16:50:21.598Z"
   },
   {
    "duration": 653,
    "start_time": "2024-10-04T16:50:21.614Z"
   },
   {
    "duration": 10,
    "start_time": "2024-10-04T16:50:22.269Z"
   },
   {
    "duration": 10,
    "start_time": "2024-10-04T16:50:22.280Z"
   },
   {
    "duration": 9,
    "start_time": "2024-10-04T16:50:22.291Z"
   },
   {
    "duration": 169,
    "start_time": "2024-10-04T16:50:22.303Z"
   },
   {
    "duration": 182,
    "start_time": "2024-10-04T16:50:22.474Z"
   },
   {
    "duration": 30,
    "start_time": "2024-10-04T16:50:22.658Z"
   },
   {
    "duration": 20,
    "start_time": "2024-10-04T16:50:22.690Z"
   },
   {
    "duration": 51,
    "start_time": "2024-10-04T16:50:22.712Z"
   },
   {
    "duration": 20,
    "start_time": "2024-10-04T16:50:22.765Z"
   },
   {
    "duration": 142,
    "start_time": "2024-10-04T16:50:22.788Z"
   },
   {
    "duration": 129,
    "start_time": "2024-10-04T16:50:22.932Z"
   },
   {
    "duration": 127,
    "start_time": "2024-10-04T16:50:23.063Z"
   },
   {
    "duration": 17,
    "start_time": "2024-10-04T16:50:23.193Z"
   },
   {
    "duration": 7,
    "start_time": "2024-10-04T16:50:23.212Z"
   },
   {
    "duration": 26,
    "start_time": "2024-10-04T16:50:23.221Z"
   },
   {
    "duration": 12,
    "start_time": "2024-10-04T17:35:08.558Z"
   },
   {
    "duration": 11,
    "start_time": "2024-10-04T17:37:15.124Z"
   },
   {
    "duration": 18,
    "start_time": "2024-10-04T17:37:39.400Z"
   },
   {
    "duration": 19,
    "start_time": "2024-10-04T17:37:55.675Z"
   },
   {
    "duration": 869,
    "start_time": "2024-10-04T17:38:12.281Z"
   },
   {
    "duration": 36,
    "start_time": "2024-10-04T17:38:13.153Z"
   },
   {
    "duration": 4,
    "start_time": "2024-10-04T17:38:13.192Z"
   },
   {
    "duration": 11,
    "start_time": "2024-10-04T17:38:13.199Z"
   },
   {
    "duration": 7,
    "start_time": "2024-10-04T17:38:13.212Z"
   },
   {
    "duration": 10,
    "start_time": "2024-10-04T17:38:13.244Z"
   },
   {
    "duration": 15,
    "start_time": "2024-10-04T17:38:13.255Z"
   },
   {
    "duration": 12,
    "start_time": "2024-10-04T17:38:13.272Z"
   },
   {
    "duration": 4,
    "start_time": "2024-10-04T17:38:13.286Z"
   },
   {
    "duration": 9,
    "start_time": "2024-10-04T17:38:13.293Z"
   },
   {
    "duration": 45,
    "start_time": "2024-10-04T17:38:13.305Z"
   },
   {
    "duration": 6,
    "start_time": "2024-10-04T17:38:13.353Z"
   },
   {
    "duration": 8,
    "start_time": "2024-10-04T17:38:13.361Z"
   },
   {
    "duration": 12,
    "start_time": "2024-10-04T17:38:13.370Z"
   },
   {
    "duration": 14,
    "start_time": "2024-10-04T17:38:13.384Z"
   },
   {
    "duration": 8,
    "start_time": "2024-10-04T17:38:13.400Z"
   },
   {
    "duration": 41,
    "start_time": "2024-10-04T17:38:13.410Z"
   },
   {
    "duration": 9,
    "start_time": "2024-10-04T17:38:13.453Z"
   },
   {
    "duration": 9,
    "start_time": "2024-10-04T17:38:13.464Z"
   },
   {
    "duration": 9,
    "start_time": "2024-10-04T17:38:13.475Z"
   },
   {
    "duration": 4,
    "start_time": "2024-10-04T17:38:13.485Z"
   },
   {
    "duration": 53,
    "start_time": "2024-10-04T17:38:13.490Z"
   },
   {
    "duration": 4,
    "start_time": "2024-10-04T17:38:13.545Z"
   },
   {
    "duration": 168,
    "start_time": "2024-10-04T17:38:13.551Z"
   },
   {
    "duration": 8,
    "start_time": "2024-10-04T17:38:13.721Z"
   },
   {
    "duration": 15,
    "start_time": "2024-10-04T17:38:13.743Z"
   },
   {
    "duration": 9,
    "start_time": "2024-10-04T17:38:13.760Z"
   },
   {
    "duration": 12,
    "start_time": "2024-10-04T17:38:13.773Z"
   },
   {
    "duration": 4,
    "start_time": "2024-10-04T17:38:13.787Z"
   },
   {
    "duration": 7,
    "start_time": "2024-10-04T17:38:13.792Z"
   },
   {
    "duration": 73,
    "start_time": "2024-10-04T17:38:13.801Z"
   },
   {
    "duration": 4,
    "start_time": "2024-10-04T17:38:13.876Z"
   },
   {
    "duration": 353,
    "start_time": "2024-10-04T17:38:13.881Z"
   },
   {
    "duration": 8,
    "start_time": "2024-10-04T17:38:14.236Z"
   },
   {
    "duration": 303,
    "start_time": "2024-10-04T17:38:14.245Z"
   },
   {
    "duration": 6,
    "start_time": "2024-10-04T17:38:14.551Z"
   },
   {
    "duration": 16,
    "start_time": "2024-10-04T17:38:14.560Z"
   },
   {
    "duration": 641,
    "start_time": "2024-10-04T17:38:14.578Z"
   },
   {
    "duration": 10,
    "start_time": "2024-10-04T17:38:15.222Z"
   },
   {
    "duration": 10,
    "start_time": "2024-10-04T17:38:15.234Z"
   },
   {
    "duration": 10,
    "start_time": "2024-10-04T17:38:15.246Z"
   },
   {
    "duration": 166,
    "start_time": "2024-10-04T17:38:15.258Z"
   },
   {
    "duration": 173,
    "start_time": "2024-10-04T17:38:15.426Z"
   },
   {
    "duration": 44,
    "start_time": "2024-10-04T17:38:15.601Z"
   },
   {
    "duration": 21,
    "start_time": "2024-10-04T17:38:15.647Z"
   },
   {
    "duration": 19,
    "start_time": "2024-10-04T17:38:15.670Z"
   },
   {
    "duration": 19,
    "start_time": "2024-10-04T17:38:15.690Z"
   },
   {
    "duration": 165,
    "start_time": "2024-10-04T17:38:15.710Z"
   },
   {
    "duration": 130,
    "start_time": "2024-10-04T17:38:15.876Z"
   },
   {
    "duration": 129,
    "start_time": "2024-10-04T17:38:16.008Z"
   },
   {
    "duration": 18,
    "start_time": "2024-10-04T17:38:16.139Z"
   },
   {
    "duration": 6,
    "start_time": "2024-10-04T17:38:16.158Z"
   },
   {
    "duration": 7,
    "start_time": "2024-10-04T17:38:16.166Z"
   },
   {
    "duration": 12,
    "start_time": "2024-10-04T17:38:53.019Z"
   },
   {
    "duration": 890,
    "start_time": "2024-10-04T17:42:43.544Z"
   },
   {
    "duration": 41,
    "start_time": "2024-10-04T17:42:44.436Z"
   },
   {
    "duration": 3,
    "start_time": "2024-10-04T17:42:44.479Z"
   },
   {
    "duration": 11,
    "start_time": "2024-10-04T17:42:44.486Z"
   },
   {
    "duration": 7,
    "start_time": "2024-10-04T17:42:44.498Z"
   },
   {
    "duration": 9,
    "start_time": "2024-10-04T17:42:44.507Z"
   },
   {
    "duration": 41,
    "start_time": "2024-10-04T17:42:44.517Z"
   },
   {
    "duration": 11,
    "start_time": "2024-10-04T17:42:44.560Z"
   },
   {
    "duration": 4,
    "start_time": "2024-10-04T17:42:44.573Z"
   },
   {
    "duration": 7,
    "start_time": "2024-10-04T17:42:44.581Z"
   },
   {
    "duration": 9,
    "start_time": "2024-10-04T17:42:44.590Z"
   },
   {
    "duration": 42,
    "start_time": "2024-10-04T17:42:44.601Z"
   },
   {
    "duration": 8,
    "start_time": "2024-10-04T17:42:44.645Z"
   },
   {
    "duration": 13,
    "start_time": "2024-10-04T17:42:44.655Z"
   },
   {
    "duration": 13,
    "start_time": "2024-10-04T17:42:44.670Z"
   },
   {
    "duration": 8,
    "start_time": "2024-10-04T17:42:44.685Z"
   },
   {
    "duration": 9,
    "start_time": "2024-10-04T17:42:44.694Z"
   },
   {
    "duration": 46,
    "start_time": "2024-10-04T17:42:44.705Z"
   },
   {
    "duration": 12,
    "start_time": "2024-10-04T17:42:44.753Z"
   },
   {
    "duration": 11,
    "start_time": "2024-10-04T17:42:44.766Z"
   },
   {
    "duration": 4,
    "start_time": "2024-10-04T17:42:44.779Z"
   },
   {
    "duration": 18,
    "start_time": "2024-10-04T17:42:44.785Z"
   },
   {
    "duration": 38,
    "start_time": "2024-10-04T17:42:44.805Z"
   },
   {
    "duration": 167,
    "start_time": "2024-10-04T17:42:44.845Z"
   },
   {
    "duration": 7,
    "start_time": "2024-10-04T17:42:45.014Z"
   },
   {
    "duration": 30,
    "start_time": "2024-10-04T17:42:45.023Z"
   },
   {
    "duration": 10,
    "start_time": "2024-10-04T17:42:45.055Z"
   },
   {
    "duration": 12,
    "start_time": "2024-10-04T17:42:45.069Z"
   },
   {
    "duration": 4,
    "start_time": "2024-10-04T17:42:45.083Z"
   },
   {
    "duration": 8,
    "start_time": "2024-10-04T17:42:45.089Z"
   },
   {
    "duration": 71,
    "start_time": "2024-10-04T17:42:45.099Z"
   },
   {
    "duration": 6,
    "start_time": "2024-10-04T17:42:45.172Z"
   },
   {
    "duration": 356,
    "start_time": "2024-10-04T17:42:45.180Z"
   },
   {
    "duration": 4,
    "start_time": "2024-10-04T17:42:45.543Z"
   },
   {
    "duration": 312,
    "start_time": "2024-10-04T17:42:45.549Z"
   },
   {
    "duration": 5,
    "start_time": "2024-10-04T17:42:45.863Z"
   },
   {
    "duration": 12,
    "start_time": "2024-10-04T17:42:45.870Z"
   },
   {
    "duration": 671,
    "start_time": "2024-10-04T17:42:45.884Z"
   },
   {
    "duration": 10,
    "start_time": "2024-10-04T17:42:46.558Z"
   },
   {
    "duration": 10,
    "start_time": "2024-10-04T17:42:46.570Z"
   },
   {
    "duration": 9,
    "start_time": "2024-10-04T17:42:46.582Z"
   },
   {
    "duration": 162,
    "start_time": "2024-10-04T17:42:46.593Z"
   },
   {
    "duration": 165,
    "start_time": "2024-10-04T17:42:46.757Z"
   },
   {
    "duration": 38,
    "start_time": "2024-10-04T17:42:46.923Z"
   },
   {
    "duration": 20,
    "start_time": "2024-10-04T17:42:46.963Z"
   },
   {
    "duration": 18,
    "start_time": "2024-10-04T17:42:46.985Z"
   },
   {
    "duration": 51,
    "start_time": "2024-10-04T17:42:47.005Z"
   },
   {
    "duration": 134,
    "start_time": "2024-10-04T17:42:47.058Z"
   },
   {
    "duration": 127,
    "start_time": "2024-10-04T17:42:47.194Z"
   },
   {
    "duration": 142,
    "start_time": "2024-10-04T17:42:47.323Z"
   },
   {
    "duration": 17,
    "start_time": "2024-10-04T17:42:47.467Z"
   },
   {
    "duration": 7,
    "start_time": "2024-10-04T17:42:47.486Z"
   },
   {
    "duration": 6,
    "start_time": "2024-10-04T17:42:47.495Z"
   },
   {
    "duration": 327,
    "start_time": "2024-10-04T18:05:01.696Z"
   },
   {
    "duration": 3,
    "start_time": "2024-10-04T18:05:25.813Z"
   },
   {
    "duration": 28,
    "start_time": "2024-10-04T18:05:33.745Z"
   },
   {
    "duration": 869,
    "start_time": "2024-10-04T18:05:42.368Z"
   },
   {
    "duration": 34,
    "start_time": "2024-10-04T18:05:43.240Z"
   },
   {
    "duration": 3,
    "start_time": "2024-10-04T18:05:43.277Z"
   },
   {
    "duration": 11,
    "start_time": "2024-10-04T18:05:43.282Z"
   },
   {
    "duration": 6,
    "start_time": "2024-10-04T18:05:43.297Z"
   },
   {
    "duration": 8,
    "start_time": "2024-10-04T18:05:43.305Z"
   },
   {
    "duration": 42,
    "start_time": "2024-10-04T18:05:43.315Z"
   },
   {
    "duration": 12,
    "start_time": "2024-10-04T18:05:43.359Z"
   },
   {
    "duration": 4,
    "start_time": "2024-10-04T18:05:43.373Z"
   },
   {
    "duration": 8,
    "start_time": "2024-10-04T18:05:43.380Z"
   },
   {
    "duration": 9,
    "start_time": "2024-10-04T18:05:43.389Z"
   },
   {
    "duration": 5,
    "start_time": "2024-10-04T18:05:43.400Z"
   },
   {
    "duration": 9,
    "start_time": "2024-10-04T18:05:43.443Z"
   },
   {
    "duration": 11,
    "start_time": "2024-10-04T18:05:43.456Z"
   },
   {
    "duration": 13,
    "start_time": "2024-10-04T18:05:43.469Z"
   },
   {
    "duration": 8,
    "start_time": "2024-10-04T18:05:43.484Z"
   },
   {
    "duration": 9,
    "start_time": "2024-10-04T18:05:43.494Z"
   },
   {
    "duration": 46,
    "start_time": "2024-10-04T18:05:43.505Z"
   },
   {
    "duration": 11,
    "start_time": "2024-10-04T18:05:43.552Z"
   },
   {
    "duration": 9,
    "start_time": "2024-10-04T18:05:43.564Z"
   },
   {
    "duration": 4,
    "start_time": "2024-10-04T18:05:43.574Z"
   },
   {
    "duration": 17,
    "start_time": "2024-10-04T18:05:43.580Z"
   },
   {
    "duration": 4,
    "start_time": "2024-10-04T18:05:43.600Z"
   },
   {
    "duration": 166,
    "start_time": "2024-10-04T18:05:43.643Z"
   },
   {
    "duration": 9,
    "start_time": "2024-10-04T18:05:43.811Z"
   },
   {
    "duration": 30,
    "start_time": "2024-10-04T18:05:43.822Z"
   },
   {
    "duration": 12,
    "start_time": "2024-10-04T18:05:43.853Z"
   },
   {
    "duration": 12,
    "start_time": "2024-10-04T18:05:43.867Z"
   },
   {
    "duration": 3,
    "start_time": "2024-10-04T18:05:43.881Z"
   },
   {
    "duration": 8,
    "start_time": "2024-10-04T18:05:43.886Z"
   },
   {
    "duration": 73,
    "start_time": "2024-10-04T18:05:43.899Z"
   },
   {
    "duration": 4,
    "start_time": "2024-10-04T18:05:43.974Z"
   },
   {
    "duration": 342,
    "start_time": "2024-10-04T18:05:43.980Z"
   },
   {
    "duration": 4,
    "start_time": "2024-10-04T18:05:44.324Z"
   },
   {
    "duration": 299,
    "start_time": "2024-10-04T18:05:44.330Z"
   },
   {
    "duration": 14,
    "start_time": "2024-10-04T18:05:44.631Z"
   },
   {
    "duration": 15,
    "start_time": "2024-10-04T18:05:44.647Z"
   },
   {
    "duration": 647,
    "start_time": "2024-10-04T18:05:44.664Z"
   },
   {
    "duration": 10,
    "start_time": "2024-10-04T18:05:45.313Z"
   },
   {
    "duration": 10,
    "start_time": "2024-10-04T18:05:45.325Z"
   },
   {
    "duration": 8,
    "start_time": "2024-10-04T18:05:45.345Z"
   },
   {
    "duration": 163,
    "start_time": "2024-10-04T18:05:45.355Z"
   },
   {
    "duration": 165,
    "start_time": "2024-10-04T18:05:45.520Z"
   },
   {
    "duration": 30,
    "start_time": "2024-10-04T18:05:45.687Z"
   },
   {
    "duration": 37,
    "start_time": "2024-10-04T18:05:45.719Z"
   },
   {
    "duration": 18,
    "start_time": "2024-10-04T18:05:45.759Z"
   },
   {
    "duration": 23,
    "start_time": "2024-10-04T18:05:45.779Z"
   },
   {
    "duration": 163,
    "start_time": "2024-10-04T18:05:45.803Z"
   },
   {
    "duration": 122,
    "start_time": "2024-10-04T18:05:45.968Z"
   },
   {
    "duration": 131,
    "start_time": "2024-10-04T18:05:46.092Z"
   },
   {
    "duration": 325,
    "start_time": "2024-10-04T18:05:46.225Z"
   },
   {
    "duration": 0,
    "start_time": "2024-10-04T18:05:46.552Z"
   },
   {
    "duration": 0,
    "start_time": "2024-10-04T18:05:46.553Z"
   },
   {
    "duration": 0,
    "start_time": "2024-10-04T18:05:46.554Z"
   },
   {
    "duration": 68,
    "start_time": "2024-10-04T18:08:55.681Z"
   },
   {
    "duration": 870,
    "start_time": "2024-10-04T18:09:01.532Z"
   },
   {
    "duration": 44,
    "start_time": "2024-10-04T18:09:02.404Z"
   },
   {
    "duration": 3,
    "start_time": "2024-10-04T18:09:02.450Z"
   },
   {
    "duration": 14,
    "start_time": "2024-10-04T18:09:02.456Z"
   },
   {
    "duration": 8,
    "start_time": "2024-10-04T18:09:02.472Z"
   },
   {
    "duration": 9,
    "start_time": "2024-10-04T18:09:02.482Z"
   },
   {
    "duration": 14,
    "start_time": "2024-10-04T18:09:02.493Z"
   },
   {
    "duration": 46,
    "start_time": "2024-10-04T18:09:02.509Z"
   },
   {
    "duration": 4,
    "start_time": "2024-10-04T18:09:02.557Z"
   },
   {
    "duration": 8,
    "start_time": "2024-10-04T18:09:02.564Z"
   },
   {
    "duration": 9,
    "start_time": "2024-10-04T18:09:02.574Z"
   },
   {
    "duration": 5,
    "start_time": "2024-10-04T18:09:02.585Z"
   },
   {
    "duration": 9,
    "start_time": "2024-10-04T18:09:02.591Z"
   },
   {
    "duration": 51,
    "start_time": "2024-10-04T18:09:02.602Z"
   },
   {
    "duration": 15,
    "start_time": "2024-10-04T18:09:02.655Z"
   },
   {
    "duration": 8,
    "start_time": "2024-10-04T18:09:02.672Z"
   },
   {
    "duration": 9,
    "start_time": "2024-10-04T18:09:02.682Z"
   },
   {
    "duration": 8,
    "start_time": "2024-10-04T18:09:02.693Z"
   },
   {
    "duration": 48,
    "start_time": "2024-10-04T18:09:02.703Z"
   },
   {
    "duration": 10,
    "start_time": "2024-10-04T18:09:02.753Z"
   },
   {
    "duration": 4,
    "start_time": "2024-10-04T18:09:02.765Z"
   },
   {
    "duration": 21,
    "start_time": "2024-10-04T18:09:02.771Z"
   },
   {
    "duration": 5,
    "start_time": "2024-10-04T18:09:02.794Z"
   },
   {
    "duration": 210,
    "start_time": "2024-10-04T18:09:02.801Z"
   },
   {
    "duration": 8,
    "start_time": "2024-10-04T18:09:03.013Z"
   },
   {
    "duration": 27,
    "start_time": "2024-10-04T18:09:03.023Z"
   },
   {
    "duration": 10,
    "start_time": "2024-10-04T18:09:03.052Z"
   },
   {
    "duration": 12,
    "start_time": "2024-10-04T18:09:03.066Z"
   },
   {
    "duration": 4,
    "start_time": "2024-10-04T18:09:03.080Z"
   },
   {
    "duration": 105,
    "start_time": "2024-10-04T18:09:03.086Z"
   },
   {
    "duration": 51,
    "start_time": "2024-10-04T18:09:03.193Z"
   },
   {
    "duration": 5,
    "start_time": "2024-10-04T18:09:03.246Z"
   },
   {
    "duration": 271,
    "start_time": "2024-10-04T18:09:03.253Z"
   },
   {
    "duration": 4,
    "start_time": "2024-10-04T18:09:03.527Z"
   },
   {
    "duration": 313,
    "start_time": "2024-10-04T18:09:03.532Z"
   },
   {
    "duration": 6,
    "start_time": "2024-10-04T18:09:03.847Z"
   },
   {
    "duration": 17,
    "start_time": "2024-10-04T18:09:03.856Z"
   },
   {
    "duration": 662,
    "start_time": "2024-10-04T18:09:03.877Z"
   },
   {
    "duration": 11,
    "start_time": "2024-10-04T18:09:04.541Z"
   },
   {
    "duration": 9,
    "start_time": "2024-10-04T18:09:04.554Z"
   },
   {
    "duration": 10,
    "start_time": "2024-10-04T18:09:04.565Z"
   },
   {
    "duration": 175,
    "start_time": "2024-10-04T18:09:04.577Z"
   },
   {
    "duration": 180,
    "start_time": "2024-10-04T18:09:04.754Z"
   },
   {
    "duration": 38,
    "start_time": "2024-10-04T18:09:04.936Z"
   },
   {
    "duration": 20,
    "start_time": "2024-10-04T18:09:04.976Z"
   },
   {
    "duration": 49,
    "start_time": "2024-10-04T18:09:04.998Z"
   },
   {
    "duration": 21,
    "start_time": "2024-10-04T18:09:05.049Z"
   },
   {
    "duration": 154,
    "start_time": "2024-10-04T18:09:05.072Z"
   },
   {
    "duration": 126,
    "start_time": "2024-10-04T18:09:05.228Z"
   },
   {
    "duration": 220,
    "start_time": "2024-10-04T18:09:05.356Z"
   },
   {
    "duration": 240,
    "start_time": "2024-10-04T18:09:05.577Z"
   },
   {
    "duration": 0,
    "start_time": "2024-10-04T18:09:05.819Z"
   },
   {
    "duration": 0,
    "start_time": "2024-10-04T18:09:05.820Z"
   },
   {
    "duration": 0,
    "start_time": "2024-10-04T18:09:05.821Z"
   },
   {
    "duration": 419,
    "start_time": "2024-10-04T18:10:06.031Z"
   },
   {
    "duration": 926,
    "start_time": "2024-10-04T18:13:57.989Z"
   },
   {
    "duration": 48,
    "start_time": "2024-10-04T18:13:58.917Z"
   },
   {
    "duration": 3,
    "start_time": "2024-10-04T18:13:58.967Z"
   },
   {
    "duration": 12,
    "start_time": "2024-10-04T18:13:58.972Z"
   },
   {
    "duration": 7,
    "start_time": "2024-10-04T18:13:58.986Z"
   },
   {
    "duration": 9,
    "start_time": "2024-10-04T18:13:58.995Z"
   },
   {
    "duration": 42,
    "start_time": "2024-10-04T18:13:59.006Z"
   },
   {
    "duration": 14,
    "start_time": "2024-10-04T18:13:59.050Z"
   },
   {
    "duration": 4,
    "start_time": "2024-10-04T18:13:59.066Z"
   },
   {
    "duration": 8,
    "start_time": "2024-10-04T18:13:59.072Z"
   },
   {
    "duration": 9,
    "start_time": "2024-10-04T18:13:59.082Z"
   },
   {
    "duration": 5,
    "start_time": "2024-10-04T18:13:59.093Z"
   },
   {
    "duration": 50,
    "start_time": "2024-10-04T18:13:59.101Z"
   },
   {
    "duration": 14,
    "start_time": "2024-10-04T18:13:59.156Z"
   },
   {
    "duration": 14,
    "start_time": "2024-10-04T18:13:59.174Z"
   },
   {
    "duration": 7,
    "start_time": "2024-10-04T18:13:59.190Z"
   },
   {
    "duration": 43,
    "start_time": "2024-10-04T18:13:59.199Z"
   },
   {
    "duration": 10,
    "start_time": "2024-10-04T18:13:59.245Z"
   },
   {
    "duration": 15,
    "start_time": "2024-10-04T18:13:59.257Z"
   },
   {
    "duration": 10,
    "start_time": "2024-10-04T18:13:59.273Z"
   },
   {
    "duration": 4,
    "start_time": "2024-10-04T18:13:59.284Z"
   },
   {
    "duration": 18,
    "start_time": "2024-10-04T18:13:59.290Z"
   },
   {
    "duration": 37,
    "start_time": "2024-10-04T18:13:59.310Z"
   },
   {
    "duration": 186,
    "start_time": "2024-10-04T18:13:59.349Z"
   },
   {
    "duration": 13,
    "start_time": "2024-10-04T18:13:59.536Z"
   },
   {
    "duration": 16,
    "start_time": "2024-10-04T18:13:59.552Z"
   },
   {
    "duration": 10,
    "start_time": "2024-10-04T18:13:59.569Z"
   },
   {
    "duration": 104,
    "start_time": "2024-10-04T18:13:59.581Z"
   },
   {
    "duration": 4,
    "start_time": "2024-10-04T18:13:59.687Z"
   },
   {
    "duration": 10,
    "start_time": "2024-10-04T18:13:59.692Z"
   },
   {
    "duration": 58,
    "start_time": "2024-10-04T18:13:59.703Z"
   },
   {
    "duration": 4,
    "start_time": "2024-10-04T18:13:59.763Z"
   },
   {
    "duration": 282,
    "start_time": "2024-10-04T18:13:59.769Z"
   },
   {
    "duration": 4,
    "start_time": "2024-10-04T18:14:00.053Z"
   },
   {
    "duration": 312,
    "start_time": "2024-10-04T18:14:00.059Z"
   },
   {
    "duration": 6,
    "start_time": "2024-10-04T18:14:00.373Z"
   },
   {
    "duration": 13,
    "start_time": "2024-10-04T18:14:00.382Z"
   },
   {
    "duration": 686,
    "start_time": "2024-10-04T18:14:00.397Z"
   },
   {
    "duration": 9,
    "start_time": "2024-10-04T18:14:01.086Z"
   },
   {
    "duration": 10,
    "start_time": "2024-10-04T18:14:01.097Z"
   },
   {
    "duration": 10,
    "start_time": "2024-10-04T18:14:01.112Z"
   },
   {
    "duration": 172,
    "start_time": "2024-10-04T18:14:01.125Z"
   },
   {
    "duration": 170,
    "start_time": "2024-10-04T18:14:01.299Z"
   },
   {
    "duration": 31,
    "start_time": "2024-10-04T18:14:01.473Z"
   },
   {
    "duration": 46,
    "start_time": "2024-10-04T18:14:01.505Z"
   },
   {
    "duration": 21,
    "start_time": "2024-10-04T18:14:01.553Z"
   },
   {
    "duration": 22,
    "start_time": "2024-10-04T18:14:01.576Z"
   },
   {
    "duration": 161,
    "start_time": "2024-10-04T18:14:01.600Z"
   },
   {
    "duration": 128,
    "start_time": "2024-10-04T18:14:01.763Z"
   },
   {
    "duration": 239,
    "start_time": "2024-10-04T18:14:01.893Z"
   },
   {
    "duration": 337,
    "start_time": "2024-10-04T18:14:02.134Z"
   },
   {
    "duration": 24,
    "start_time": "2024-10-04T18:14:02.475Z"
   },
   {
    "duration": 43,
    "start_time": "2024-10-04T18:14:02.502Z"
   },
   {
    "duration": 7,
    "start_time": "2024-10-04T18:14:02.548Z"
   },
   {
    "duration": 681,
    "start_time": "2024-10-04T18:15:07.400Z"
   },
   {
    "duration": 7,
    "start_time": "2024-10-04T18:15:40.572Z"
   },
   {
    "duration": 2,
    "start_time": "2024-10-04T18:16:08.710Z"
   },
   {
    "duration": 7,
    "start_time": "2024-10-04T18:17:06.588Z"
   },
   {
    "duration": 904,
    "start_time": "2024-10-04T18:18:24.110Z"
   },
   {
    "duration": 39,
    "start_time": "2024-10-04T18:18:25.018Z"
   },
   {
    "duration": 3,
    "start_time": "2024-10-04T18:18:25.060Z"
   },
   {
    "duration": 11,
    "start_time": "2024-10-04T18:18:25.066Z"
   },
   {
    "duration": 7,
    "start_time": "2024-10-04T18:18:25.079Z"
   },
   {
    "duration": 8,
    "start_time": "2024-10-04T18:18:25.088Z"
   },
   {
    "duration": 46,
    "start_time": "2024-10-04T18:18:25.098Z"
   },
   {
    "duration": 12,
    "start_time": "2024-10-04T18:18:25.146Z"
   },
   {
    "duration": 3,
    "start_time": "2024-10-04T18:18:25.161Z"
   },
   {
    "duration": 9,
    "start_time": "2024-10-04T18:18:25.168Z"
   },
   {
    "duration": 13,
    "start_time": "2024-10-04T18:18:25.179Z"
   },
   {
    "duration": 5,
    "start_time": "2024-10-04T18:18:25.194Z"
   },
   {
    "duration": 47,
    "start_time": "2024-10-04T18:18:25.200Z"
   },
   {
    "duration": 13,
    "start_time": "2024-10-04T18:18:25.249Z"
   },
   {
    "duration": 14,
    "start_time": "2024-10-04T18:18:25.264Z"
   },
   {
    "duration": 9,
    "start_time": "2024-10-04T18:18:25.280Z"
   },
   {
    "duration": 8,
    "start_time": "2024-10-04T18:18:25.291Z"
   },
   {
    "duration": 41,
    "start_time": "2024-10-04T18:18:25.302Z"
   },
   {
    "duration": 11,
    "start_time": "2024-10-04T18:18:25.346Z"
   },
   {
    "duration": 10,
    "start_time": "2024-10-04T18:18:25.359Z"
   },
   {
    "duration": 5,
    "start_time": "2024-10-04T18:18:25.370Z"
   },
   {
    "duration": 18,
    "start_time": "2024-10-04T18:18:25.376Z"
   },
   {
    "duration": 4,
    "start_time": "2024-10-04T18:18:25.396Z"
   },
   {
    "duration": 218,
    "start_time": "2024-10-04T18:18:25.401Z"
   },
   {
    "duration": 8,
    "start_time": "2024-10-04T18:18:25.622Z"
   },
   {
    "duration": 17,
    "start_time": "2024-10-04T18:18:25.643Z"
   },
   {
    "duration": 10,
    "start_time": "2024-10-04T18:18:25.662Z"
   },
   {
    "duration": 12,
    "start_time": "2024-10-04T18:18:25.676Z"
   },
   {
    "duration": 3,
    "start_time": "2024-10-04T18:18:25.691Z"
   },
   {
    "duration": 106,
    "start_time": "2024-10-04T18:18:25.696Z"
   },
   {
    "duration": 50,
    "start_time": "2024-10-04T18:18:25.804Z"
   },
   {
    "duration": 5,
    "start_time": "2024-10-04T18:18:25.856Z"
   },
   {
    "duration": 278,
    "start_time": "2024-10-04T18:18:25.863Z"
   },
   {
    "duration": 4,
    "start_time": "2024-10-04T18:18:26.143Z"
   },
   {
    "duration": 300,
    "start_time": "2024-10-04T18:18:26.149Z"
   },
   {
    "duration": 7,
    "start_time": "2024-10-04T18:18:26.453Z"
   },
   {
    "duration": 14,
    "start_time": "2024-10-04T18:18:26.461Z"
   },
   {
    "duration": 650,
    "start_time": "2024-10-04T18:18:26.477Z"
   },
   {
    "duration": 10,
    "start_time": "2024-10-04T18:18:27.130Z"
   },
   {
    "duration": 10,
    "start_time": "2024-10-04T18:18:27.142Z"
   },
   {
    "duration": 10,
    "start_time": "2024-10-04T18:18:27.154Z"
   },
   {
    "duration": 179,
    "start_time": "2024-10-04T18:18:27.166Z"
   },
   {
    "duration": 168,
    "start_time": "2024-10-04T18:18:27.347Z"
   },
   {
    "duration": 46,
    "start_time": "2024-10-04T18:18:27.517Z"
   },
   {
    "duration": 26,
    "start_time": "2024-10-04T18:18:27.566Z"
   },
   {
    "duration": 49,
    "start_time": "2024-10-04T18:18:27.595Z"
   },
   {
    "duration": 22,
    "start_time": "2024-10-04T18:18:27.646Z"
   },
   {
    "duration": 140,
    "start_time": "2024-10-04T18:18:27.670Z"
   },
   {
    "duration": 135,
    "start_time": "2024-10-04T18:18:27.813Z"
   },
   {
    "duration": 217,
    "start_time": "2024-10-04T18:18:27.950Z"
   },
   {
    "duration": 331,
    "start_time": "2024-10-04T18:18:28.169Z"
   },
   {
    "duration": 3,
    "start_time": "2024-10-04T18:18:28.501Z"
   },
   {
    "duration": 7,
    "start_time": "2024-10-04T18:18:28.505Z"
   },
   {
    "duration": 8,
    "start_time": "2024-10-04T18:18:28.543Z"
   },
   {
    "duration": 1066,
    "start_time": "2024-10-04T18:21:09.604Z"
   },
   {
    "duration": 38,
    "start_time": "2024-10-04T18:21:10.672Z"
   },
   {
    "duration": 4,
    "start_time": "2024-10-04T18:21:10.711Z"
   },
   {
    "duration": 10,
    "start_time": "2024-10-04T18:21:10.717Z"
   },
   {
    "duration": 8,
    "start_time": "2024-10-04T18:21:10.743Z"
   },
   {
    "duration": 11,
    "start_time": "2024-10-04T18:21:10.753Z"
   },
   {
    "duration": 19,
    "start_time": "2024-10-04T18:21:10.765Z"
   },
   {
    "duration": 14,
    "start_time": "2024-10-04T18:21:10.786Z"
   },
   {
    "duration": 4,
    "start_time": "2024-10-04T18:21:10.802Z"
   },
   {
    "duration": 14,
    "start_time": "2024-10-04T18:21:10.846Z"
   },
   {
    "duration": 9,
    "start_time": "2024-10-04T18:21:10.863Z"
   },
   {
    "duration": 4,
    "start_time": "2024-10-04T18:21:10.874Z"
   },
   {
    "duration": 9,
    "start_time": "2024-10-04T18:21:10.880Z"
   },
   {
    "duration": 12,
    "start_time": "2024-10-04T18:21:10.890Z"
   },
   {
    "duration": 43,
    "start_time": "2024-10-04T18:21:10.905Z"
   },
   {
    "duration": 9,
    "start_time": "2024-10-04T18:21:10.951Z"
   },
   {
    "duration": 10,
    "start_time": "2024-10-04T18:21:10.962Z"
   },
   {
    "duration": 9,
    "start_time": "2024-10-04T18:21:10.974Z"
   },
   {
    "duration": 10,
    "start_time": "2024-10-04T18:21:10.986Z"
   },
   {
    "duration": 51,
    "start_time": "2024-10-04T18:21:10.997Z"
   },
   {
    "duration": 13,
    "start_time": "2024-10-04T18:21:11.050Z"
   },
   {
    "duration": 18,
    "start_time": "2024-10-04T18:21:11.064Z"
   },
   {
    "duration": 4,
    "start_time": "2024-10-04T18:21:11.084Z"
   },
   {
    "duration": 185,
    "start_time": "2024-10-04T18:21:11.089Z"
   },
   {
    "duration": 8,
    "start_time": "2024-10-04T18:21:11.276Z"
   },
   {
    "duration": 16,
    "start_time": "2024-10-04T18:21:11.286Z"
   },
   {
    "duration": 13,
    "start_time": "2024-10-04T18:21:11.304Z"
   },
   {
    "duration": 12,
    "start_time": "2024-10-04T18:21:11.347Z"
   },
   {
    "duration": 3,
    "start_time": "2024-10-04T18:21:11.361Z"
   },
   {
    "duration": 95,
    "start_time": "2024-10-04T18:21:11.366Z"
   },
   {
    "duration": 36,
    "start_time": "2024-10-04T18:21:11.463Z"
   },
   {
    "duration": 5,
    "start_time": "2024-10-04T18:21:11.501Z"
   },
   {
    "duration": 289,
    "start_time": "2024-10-04T18:21:11.508Z"
   },
   {
    "duration": 4,
    "start_time": "2024-10-04T18:21:11.800Z"
   },
   {
    "duration": 308,
    "start_time": "2024-10-04T18:21:11.806Z"
   },
   {
    "duration": 7,
    "start_time": "2024-10-04T18:21:12.116Z"
   },
   {
    "duration": 31,
    "start_time": "2024-10-04T18:21:12.125Z"
   },
   {
    "duration": 677,
    "start_time": "2024-10-04T18:21:12.158Z"
   },
   {
    "duration": 11,
    "start_time": "2024-10-04T18:21:12.837Z"
   },
   {
    "duration": 11,
    "start_time": "2024-10-04T18:21:12.850Z"
   },
   {
    "duration": 9,
    "start_time": "2024-10-04T18:21:12.863Z"
   },
   {
    "duration": 183,
    "start_time": "2024-10-04T18:21:12.875Z"
   },
   {
    "duration": 166,
    "start_time": "2024-10-04T18:21:13.060Z"
   },
   {
    "duration": 35,
    "start_time": "2024-10-04T18:21:13.228Z"
   },
   {
    "duration": 21,
    "start_time": "2024-10-04T18:21:13.265Z"
   },
   {
    "duration": 20,
    "start_time": "2024-10-04T18:21:13.287Z"
   },
   {
    "duration": 57,
    "start_time": "2024-10-04T18:21:13.308Z"
   },
   {
    "duration": 141,
    "start_time": "2024-10-04T18:21:13.368Z"
   },
   {
    "duration": 134,
    "start_time": "2024-10-04T18:21:13.511Z"
   },
   {
    "duration": 225,
    "start_time": "2024-10-04T18:21:13.646Z"
   },
   {
    "duration": 350,
    "start_time": "2024-10-04T18:21:13.873Z"
   },
   {
    "duration": 2,
    "start_time": "2024-10-04T18:21:14.225Z"
   },
   {
    "duration": 19,
    "start_time": "2024-10-04T18:21:14.228Z"
   },
   {
    "duration": 7,
    "start_time": "2024-10-04T18:21:14.249Z"
   },
   {
    "duration": 2569,
    "start_time": "2024-10-04T21:15:59.472Z"
   },
   {
    "duration": 54,
    "start_time": "2024-10-04T21:16:02.044Z"
   },
   {
    "duration": 4,
    "start_time": "2024-10-04T21:16:02.100Z"
   },
   {
    "duration": 12,
    "start_time": "2024-10-04T21:16:02.106Z"
   },
   {
    "duration": 7,
    "start_time": "2024-10-04T21:16:02.121Z"
   },
   {
    "duration": 11,
    "start_time": "2024-10-04T21:16:02.129Z"
   },
   {
    "duration": 19,
    "start_time": "2024-10-04T21:16:02.142Z"
   },
   {
    "duration": 11,
    "start_time": "2024-10-04T21:16:02.163Z"
   },
   {
    "duration": 36,
    "start_time": "2024-10-04T21:16:02.176Z"
   },
   {
    "duration": 7,
    "start_time": "2024-10-04T21:16:02.213Z"
   },
   {
    "duration": 8,
    "start_time": "2024-10-04T21:16:02.222Z"
   },
   {
    "duration": 4,
    "start_time": "2024-10-04T21:16:02.233Z"
   },
   {
    "duration": 10,
    "start_time": "2024-10-04T21:16:02.239Z"
   },
   {
    "duration": 11,
    "start_time": "2024-10-04T21:16:02.253Z"
   },
   {
    "duration": 46,
    "start_time": "2024-10-04T21:16:02.266Z"
   },
   {
    "duration": 10,
    "start_time": "2024-10-04T21:16:02.313Z"
   },
   {
    "duration": 8,
    "start_time": "2024-10-04T21:16:02.326Z"
   },
   {
    "duration": 10,
    "start_time": "2024-10-04T21:16:02.336Z"
   },
   {
    "duration": 13,
    "start_time": "2024-10-04T21:16:02.348Z"
   },
   {
    "duration": 12,
    "start_time": "2024-10-04T21:16:02.363Z"
   },
   {
    "duration": 37,
    "start_time": "2024-10-04T21:16:02.377Z"
   },
   {
    "duration": 17,
    "start_time": "2024-10-04T21:16:02.416Z"
   },
   {
    "duration": 3,
    "start_time": "2024-10-04T21:16:02.435Z"
   },
   {
    "duration": 170,
    "start_time": "2024-10-04T21:16:02.439Z"
   },
   {
    "duration": 7,
    "start_time": "2024-10-04T21:16:02.610Z"
   },
   {
    "duration": 14,
    "start_time": "2024-10-04T21:16:02.618Z"
   },
   {
    "duration": 8,
    "start_time": "2024-10-04T21:16:02.634Z"
   },
   {
    "duration": 13,
    "start_time": "2024-10-04T21:16:02.644Z"
   },
   {
    "duration": 4,
    "start_time": "2024-10-04T21:16:02.658Z"
   },
   {
    "duration": 9,
    "start_time": "2024-10-04T21:16:02.664Z"
   },
   {
    "duration": 70,
    "start_time": "2024-10-04T21:16:02.674Z"
   },
   {
    "duration": 4,
    "start_time": "2024-10-04T21:16:02.745Z"
   },
   {
    "duration": 277,
    "start_time": "2024-10-04T21:16:02.751Z"
   },
   {
    "duration": 3,
    "start_time": "2024-10-04T21:16:03.030Z"
   },
   {
    "duration": 287,
    "start_time": "2024-10-04T21:16:03.034Z"
   },
   {
    "duration": 5,
    "start_time": "2024-10-04T21:16:03.323Z"
   },
   {
    "duration": 12,
    "start_time": "2024-10-04T21:16:03.330Z"
   },
   {
    "duration": 685,
    "start_time": "2024-10-04T21:16:03.343Z"
   },
   {
    "duration": 10,
    "start_time": "2024-10-04T21:16:04.030Z"
   },
   {
    "duration": 8,
    "start_time": "2024-10-04T21:16:04.042Z"
   },
   {
    "duration": 8,
    "start_time": "2024-10-04T21:16:04.055Z"
   },
   {
    "duration": 151,
    "start_time": "2024-10-04T21:16:04.065Z"
   },
   {
    "duration": 157,
    "start_time": "2024-10-04T21:16:04.217Z"
   },
   {
    "duration": 37,
    "start_time": "2024-10-04T21:16:04.376Z"
   },
   {
    "duration": 18,
    "start_time": "2024-10-04T21:16:04.414Z"
   },
   {
    "duration": 19,
    "start_time": "2024-10-04T21:16:04.433Z"
   },
   {
    "duration": 20,
    "start_time": "2024-10-04T21:16:04.453Z"
   },
   {
    "duration": 146,
    "start_time": "2024-10-04T21:16:04.475Z"
   },
   {
    "duration": 126,
    "start_time": "2024-10-04T21:16:04.623Z"
   },
   {
    "duration": 123,
    "start_time": "2024-10-04T21:16:04.751Z"
   },
   {
    "duration": 392,
    "start_time": "2024-10-04T21:16:04.876Z"
   },
   {
    "duration": 2,
    "start_time": "2024-10-04T21:16:05.270Z"
   },
   {
    "duration": 6,
    "start_time": "2024-10-04T21:16:05.274Z"
   },
   {
    "duration": 31,
    "start_time": "2024-10-04T21:16:05.281Z"
   }
  ],
  "kernelspec": {
   "display_name": "base",
   "language": "python",
   "name": "python3"
  },
  "language_info": {
   "codemirror_mode": {
    "name": "ipython",
    "version": 3
   },
   "file_extension": ".py",
   "mimetype": "text/x-python",
   "name": "python",
   "nbconvert_exporter": "python",
   "pygments_lexer": "ipython3",
   "version": "3.12.4"
  },
  "toc": {
   "base_numbering": 1,
   "nav_menu": {},
   "number_sections": true,
   "sideBar": true,
   "skip_h1_title": true,
   "title_cell": "Table of Contents",
   "title_sidebar": "Contents",
   "toc_cell": false,
   "toc_position": {},
   "toc_section_display": true,
   "toc_window_display": false
  }
 },
 "nbformat": 4,
 "nbformat_minor": 2
}
