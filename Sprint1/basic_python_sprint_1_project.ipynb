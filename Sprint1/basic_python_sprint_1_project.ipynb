{
 "cells": [
  {
   "cell_type": "markdown",
   "id": "882d3e44",
   "metadata": {},
   "source": [
    "# Using Movie and TV show data to begin practicing Python skills"
   ]
  },
  {
   "cell_type": "markdown",
   "id": "f85a80d2",
   "metadata": {},
   "source": [
    "## Basic Python - Project <a id='intro'></a>"
   ]
  },
  {
   "cell_type": "markdown",
   "id": "a1262df4",
   "metadata": {},
   "source": [
    "## Introduction <a id='intro'></a>\n",
    "In this project, you will work with data from the entertainment industry. You will study a dataset with records on movies and shows. The research will focus on the \"Golden Age\" of television, which began in 1999 with the release of *The Sopranos* and is still ongoing.\n",
    "\n",
    "The aim of this project is to investigate how the number of votes a title receives impacts its ratings. The assumption is that highly-rated shows (we will focus on TV shows, ignoring movies) released during the \"Golden Age\" of television also have the most votes.\n",
    "\n",
    "### Stages \n",
    "Data on movies and shows is stored in the `/datasets/movies_and_shows.csv` file. There is no information about the quality of the data, so you will need to explore it before doing the analysis.\n",
    "\n",
    "First, you'll evaluate the quality of the data and see whether its issues are significant. Then, during data preprocessing, you will try to account for the most critical problems.\n",
    " \n",
    "Your project will consist of three stages:\n",
    " 1. Data overview\n",
    " 2. Data preprocessing\n",
    " 3. Data analysis"
   ]
  },
  {
   "cell_type": "markdown",
   "id": "ac0593ac",
   "metadata": {},
   "source": [
    "## Stage 1. Data overview <a id='data_review'></a>\n",
    "\n",
    "Open and explore the data."
   ]
  },
  {
   "cell_type": "markdown",
   "id": "e86ed00e",
   "metadata": {},
   "source": [
    "You'll need `pandas`, so import it."
   ]
  },
  {
   "cell_type": "code",
   "execution_count": 1,
   "id": "1727d3f8",
   "metadata": {},
   "outputs": [],
   "source": [
    "# importing pandas\n",
    "import pandas as pd\n"
   ]
  },
  {
   "cell_type": "markdown",
   "id": "9821beeb",
   "metadata": {},
   "source": [
    "Read the `movies_and_shows.csv` file from the `datasets` folder and save it in the `df` variable:"
   ]
  },
  {
   "cell_type": "code",
   "execution_count": 2,
   "id": "fc5a1402",
   "metadata": {},
   "outputs": [],
   "source": [
    "# reading the files and storing them to df\n",
    "df = pd.read_csv('/datasets/movies_and_shows.csv')\n",
    "\n"
   ]
  },
  {
   "cell_type": "markdown",
   "id": "1cd0a96d",
   "metadata": {},
   "source": [
    "Print the first 10 table rows:"
   ]
  },
  {
   "cell_type": "code",
   "execution_count": 3,
   "id": "acd92001",
   "metadata": {},
   "outputs": [
    {
     "name": "stdout",
     "output_type": "stream",
     "text": [
      "              name                      Character   r0le        TITLE   Type  \\\n",
      "0   Robert De Niro                  Travis Bickle  ACTOR  Taxi Driver  MOVIE   \n",
      "1     Jodie Foster                  Iris Steensma  ACTOR  Taxi Driver  MOVIE   \n",
      "2    Albert Brooks                            Tom  ACTOR  Taxi Driver  MOVIE   \n",
      "3    Harvey Keitel        Matthew 'Sport' Higgins  ACTOR  Taxi Driver  MOVIE   \n",
      "4  Cybill Shepherd                          Betsy  ACTOR  Taxi Driver  MOVIE   \n",
      "5      Peter Boyle                         Wizard  ACTOR  Taxi Driver  MOVIE   \n",
      "6   Leonard Harris      Senator Charles Palantine  ACTOR  Taxi Driver  MOVIE   \n",
      "7   Diahnne Abbott                Concession Girl  ACTOR  Taxi Driver  MOVIE   \n",
      "8      Gino Ardito             Policeman at Rally  ACTOR  Taxi Driver  MOVIE   \n",
      "9  Martin Scorsese  Passenger Watching Silhouette  ACTOR  Taxi Driver  MOVIE   \n",
      "\n",
      "   release Year              genres  imdb sc0re  imdb v0tes  \n",
      "0          1976  ['drama', 'crime']         8.2    808582.0  \n",
      "1          1976  ['drama', 'crime']         8.2    808582.0  \n",
      "2          1976  ['drama', 'crime']         8.2    808582.0  \n",
      "3          1976  ['drama', 'crime']         8.2    808582.0  \n",
      "4          1976  ['drama', 'crime']         8.2    808582.0  \n",
      "5          1976  ['drama', 'crime']         8.2    808582.0  \n",
      "6          1976  ['drama', 'crime']         8.2    808582.0  \n",
      "7          1976  ['drama', 'crime']         8.2    808582.0  \n",
      "8          1976  ['drama', 'crime']         8.2    808582.0  \n",
      "9          1976  ['drama', 'crime']         8.2    808582.0  \n"
     ]
    }
   ],
   "source": [
    "# obtaining the first 10 rows from the df table\n",
    "# hint: you can use head() and tail() in Jupyter Notebook without wrapping them into print()\n",
    "\n",
    "\n",
    "#observing what the first 10 rows look like\n",
    "print(df.head(10))"
   ]
  },
  {
   "cell_type": "markdown",
   "id": "e579aa91",
   "metadata": {},
   "source": [
    "Obtain the general information about the table with one command:"
   ]
  },
  {
   "cell_type": "code",
   "execution_count": 4,
   "id": "7bf66d2a",
   "metadata": {},
   "outputs": [
    {
     "name": "stdout",
     "output_type": "stream",
     "text": [
      "   name          object\n",
      "Character        object\n",
      "r0le             object\n",
      "TITLE            object\n",
      "  Type           object\n",
      "release Year      int64\n",
      "genres           object\n",
      "imdb sc0re      float64\n",
      "imdb v0tes      float64\n",
      "dtype: object\n",
      "\n",
      "(85579, 9)\n"
     ]
    }
   ],
   "source": [
    "# obtaining general information about the data in df\n",
    "print(df.dtypes)\n",
    "#checking the amount of data in the full frame\n",
    "print()\n",
    "print(df.shape)\n"
   ]
  },
  {
   "cell_type": "markdown",
   "id": "e91f62a7",
   "metadata": {},
   "source": [
    "The table contains nine columns. The majority store the same data type: object. The only exceptions are `'release Year'` (int64 type), `'imdb sc0re'` (float64 type) and `'imdb v0tes'` (float64 type). Scores and votes will be used in our analysis, so it's important to verify that they are present in the dataframe in the appropriate numeric format. Three columns (`'TITLE'`, `'imdb sc0re'` and `'imdb v0tes'`) have missing values.\n",
    "\n",
    "According to the documentation:\n",
    "- `'name'` — actor/director's name and last name\n",
    "- `'Character'` — character played (for actors)\n",
    "- `'r0le '` — the person's contribution to the title (it can be in the capacity of either actor or director)\n",
    "- `'TITLE '` — title of the movie (show)\n",
    "- `'  Type'` — show or movie\n",
    "- `'release Year'` — year when movie (show) was released\n",
    "- `'genres'` — list of genres under which the movie (show) falls\n",
    "- `'imdb sc0re'` — score on IMDb\n",
    "- `'imdb v0tes'` — votes on IMDb\n",
    "\n",
    "We can see three issues with the column names:\n",
    "1. Some names are uppercase, while others are lowercase.\n",
    "2. There are names containing whitespace.\n",
    "3. A few column names have digit '0' instead of letter 'o'. \n"
   ]
  },
  {
   "cell_type": "markdown",
   "id": "4355de7b",
   "metadata": {},
   "source": [
    "### Conclusions <a id='data_review_conclusions'></a> \n",
    "\n",
    "Each row in the table stores data about a movie or show. The columns can be divided into two categories: the first is about the roles held by different people who worked on the movie or show (role, name of the actor or director, and character if the row is about an actor); the second category is information about the movie or show itself (title, release year, genre, imdb figures).\n",
    "\n",
    "It's clear that there is sufficient data to do the analysis and evaluate our assumption. However, to move forward, we need to preprocess the data."
   ]
  },
  {
   "cell_type": "markdown",
   "id": "c5dc9111",
   "metadata": {},
   "source": [
    "## Stage 2. Data preprocessing <a id='data_preprocessing'></a>\n",
    "Correct the formatting in the column headers and deal with the missing values. Then, check whether there are duplicates in the data."
   ]
  },
  {
   "cell_type": "code",
   "execution_count": 5,
   "id": "9c850d13",
   "metadata": {
    "scrolled": false
   },
   "outputs": [
    {
     "name": "stdout",
     "output_type": "stream",
     "text": [
      "   name          object\n",
      "Character        object\n",
      "r0le             object\n",
      "TITLE            object\n",
      "  Type           object\n",
      "release Year      int64\n",
      "genres           object\n",
      "imdb sc0re      float64\n",
      "imdb v0tes      float64\n",
      "dtype: object\n"
     ]
    }
   ],
   "source": [
    "# the list of column names in the df table\n",
    "print(df.dtypes)"
   ]
  },
  {
   "cell_type": "markdown",
   "id": "5f966df9",
   "metadata": {},
   "source": [
    "Change the column names according to the rules of good style:\n",
    "* If the name has several words, use snake_case\n",
    "* All characters must be lowercase\n",
    "* Remove whitespace\n",
    "* Replace zero with letter 'o'"
   ]
  },
  {
   "cell_type": "code",
   "execution_count": 6,
   "id": "23a1dc11",
   "metadata": {},
   "outputs": [],
   "source": [
    "# renaming columns\n",
    "df = df.rename(columns={'   name':'name', 'Character':'character', 'r0le':'role', 'TITLE':'title', '  Type':'type', 'release Year':'release_year', 'imdb sc0re':'imdb_score', 'imdb v0tes':'imdb_votes'})\n"
   ]
  },
  {
   "cell_type": "markdown",
   "id": "464fbd04",
   "metadata": {},
   "source": [
    "Check the result. Print the names of the columns once more:"
   ]
  },
  {
   "cell_type": "code",
   "execution_count": 7,
   "id": "0eb6527f",
   "metadata": {},
   "outputs": [
    {
     "name": "stdout",
     "output_type": "stream",
     "text": [
      "Index(['name', 'character', 'role', 'title', 'type', 'release_year', 'genres',\n",
      "       'imdb_score', 'imdb_votes'],\n",
      "      dtype='object')\n"
     ]
    }
   ],
   "source": [
    "# checking result: the list of column names\n",
    "print(df.columns)"
   ]
  },
  {
   "cell_type": "markdown",
   "id": "14d9c319",
   "metadata": {},
   "source": [
    "### Missing values <a id='missing_values'></a>\n",
    "First, find the number of missing values in the table. To do so, combine two `pandas` methods:"
   ]
  },
  {
   "cell_type": "code",
   "execution_count": 8,
   "id": "21c427f2",
   "metadata": {},
   "outputs": [
    {
     "name": "stdout",
     "output_type": "stream",
     "text": [
      "name               0\n",
      "character          0\n",
      "role               0\n",
      "title              1\n",
      "type               0\n",
      "release_year       0\n",
      "genres             0\n",
      "imdb_score      4609\n",
      "imdb_votes      4726\n",
      "dtype: int64\n"
     ]
    }
   ],
   "source": [
    "# calculating missing values\n",
    "print(df.isna().sum())"
   ]
  },
  {
   "cell_type": "markdown",
   "id": "c8272df3",
   "metadata": {},
   "source": [
    "Not all missing values affect the research: the single missing value in `'title'` is not critical. The missing values in columns `'imdb_score'` and `'imdb_votes'` represent around 6% of all records (4,609 and 4,726, respectively, of the total 85,579). This could potentially affect our research. To avoid this issue, we will drop rows with missing values in the `'imdb_score'` and `'imdb_votes'` columns."
   ]
  },
  {
   "cell_type": "code",
   "execution_count": 9,
   "id": "599d5550",
   "metadata": {},
   "outputs": [],
   "source": [
    "# dropping rows where columns with title, scores and votes have missing values\n",
    "df = df.dropna(axis='rows')\n"
   ]
  },
  {
   "cell_type": "markdown",
   "id": "2156887f",
   "metadata": {},
   "source": [
    "Make sure the table doesn't contain any more missing values. Count the missing values again."
   ]
  },
  {
   "cell_type": "code",
   "execution_count": 10,
   "id": "55c0b0ce",
   "metadata": {},
   "outputs": [
    {
     "name": "stdout",
     "output_type": "stream",
     "text": [
      "name            0\n",
      "character       0\n",
      "role            0\n",
      "title           0\n",
      "type            0\n",
      "release_year    0\n",
      "genres          0\n",
      "imdb_score      0\n",
      "imdb_votes      0\n",
      "dtype: int64\n"
     ]
    }
   ],
   "source": [
    "# counting missing values\n",
    "print(df.isna().sum())"
   ]
  },
  {
   "cell_type": "markdown",
   "id": "a7dc7aa0",
   "metadata": {},
   "source": [
    "### Duplicates <a id='duplicates'></a>\n",
    "Find the number of duplicate rows in the table using one command:"
   ]
  },
  {
   "cell_type": "code",
   "execution_count": 11,
   "id": "9227df01",
   "metadata": {},
   "outputs": [
    {
     "name": "stdout",
     "output_type": "stream",
     "text": [
      "6994\n"
     ]
    }
   ],
   "source": [
    "# counting duplicate rows\n",
    "duplicates = df.duplicated()\n",
    "print(duplicates.sum())"
   ]
  },
  {
   "cell_type": "markdown",
   "id": "5f6eb0fc",
   "metadata": {},
   "source": [
    "Review the duplicate rows to determine if removing them would distort our dataset."
   ]
  },
  {
   "cell_type": "code",
   "execution_count": 12,
   "id": "bcf32fcb",
   "metadata": {},
   "outputs": [
    {
     "name": "stdout",
     "output_type": "stream",
     "text": [
      "                     name     character      role    title       type  \\\n",
      "85574    Adelaida Buscato    Mar??a Paz     ACTOR  Lokillo  the movie   \n",
      "85575  Luz Stella Luengas  Karen Bayona     ACTOR  Lokillo  the movie   \n",
      "85576        In??s Prieto         Fanny     ACTOR  Lokillo  the movie   \n",
      "85577        Isabel Gaona        Cacica     ACTOR  Lokillo      MOVIE   \n",
      "85578      Julian Gaviria       unknown  DIRECTOR  Lokillo  the movie   \n",
      "\n",
      "       release_year      genres  imdb_score  imdb_votes  \n",
      "85574          2021  ['comedy']         3.8        68.0  \n",
      "85575          2021  ['comedy']         3.8        68.0  \n",
      "85576          2021  ['comedy']         3.8        68.0  \n",
      "85577          2021  ['comedy']         3.8        68.0  \n",
      "85578          2021  ['comedy']         3.8        68.0  \n"
     ]
    }
   ],
   "source": [
    "# Produce table with duplicates (with original rows included) and review last 5 rows\n",
    "last_5_rows = df.tail()\n",
    "\n",
    "print(last_5_rows)"
   ]
  },
  {
   "cell_type": "markdown",
   "id": "a1ed6640",
   "metadata": {},
   "source": [
    "There are two clear duplicates in the printed rows. We can safely remove them.\n",
    "Call the `pandas` method for getting rid of duplicate rows:"
   ]
  },
  {
   "cell_type": "code",
   "execution_count": 13,
   "id": "724d5bc8",
   "metadata": {},
   "outputs": [],
   "source": [
    "# removing duplicate rows\n",
    "df = df.drop_duplicates()\n",
    "cleared_duplicates = df.duplicated()\n"
   ]
  },
  {
   "cell_type": "markdown",
   "id": "fc8c77ba",
   "metadata": {},
   "source": [
    "Check for duplicate rows once more to make sure you have removed all of them:"
   ]
  },
  {
   "cell_type": "code",
   "execution_count": 14,
   "id": "8091a9bc",
   "metadata": {},
   "outputs": [
    {
     "name": "stdout",
     "output_type": "stream",
     "text": [
      "0\n"
     ]
    }
   ],
   "source": [
    "# checking for duplicates\n",
    "print(cleared_duplicates.sum())"
   ]
  },
  {
   "cell_type": "markdown",
   "id": "1d802b07",
   "metadata": {},
   "source": [
    "Now get rid of implicit duplicates in the `'type'` column. For example, the string `'SHOW'` can be written in different ways. These kinds of errors will also affect the result."
   ]
  },
  {
   "cell_type": "markdown",
   "id": "d5f987ed",
   "metadata": {},
   "source": [
    "Print a list of unique `'type'` names, sorted in alphabetical order. To do so:\n",
    "* Retrieve the intended dataframe column \n",
    "* Apply a sorting method to it\n",
    "* For the sorted column, call the method that will return all unique column values"
   ]
  },
  {
   "cell_type": "code",
   "execution_count": 15,
   "id": "3d7b0ac5",
   "metadata": {},
   "outputs": [
    {
     "name": "stdout",
     "output_type": "stream",
     "text": [
      "['movie' 'movies' 'show' 'shows' 'the movie' 'tv' 'tv series' 'tv show'\n",
      " 'tv shows']\n"
     ]
    }
   ],
   "source": [
    "# viewing unique type names\n",
    "df['type'] = df['type'].str.lower()\n",
    "sorted_types = df.sort_values('type')\n",
    "print(sorted_types['type'].unique())\n"
   ]
  },
  {
   "cell_type": "markdown",
   "id": "ac6e8b18",
   "metadata": {},
   "source": [
    "Look through the list to find implicit duplicates of `'show'` (`'movie'` duplicates will be ignored since the assumption is about shows). These could be names written incorrectly or alternative names of the same genre.\n",
    "\n",
    "You will see the following implicit duplicates:\n",
    "* `'shows'`\n",
    "* `'SHOW'`\n",
    "* `'tv show'`\n",
    "* `'tv shows'`\n",
    "* `'tv series'`\n",
    "* `'tv'`\n",
    "\n",
    "To get rid of them, declare the function `replace_wrong_show()` with two parameters: \n",
    "* `wrong_shows_list=` — the list of duplicates\n",
    "* `correct_show=` — the string with the correct value\n",
    "\n",
    "The function should correct the names in the `'type'` column from the `df` table (i.e., replace each value from the `wrong_shows_list` list with the value in `correct_show`)."
   ]
  },
  {
   "cell_type": "code",
   "execution_count": 16,
   "id": "bff944f9",
   "metadata": {},
   "outputs": [],
   "source": [
    "# function for replacing implicit duplicates\n",
    "def replace_wrong_show(df, wrong_shows_list, correct_show):\n",
    "    df['type'] = df['type'].replace(wrong_show_list, correct_show)\n",
    "    return df\n",
    "wrong_show_list = ['shows', 'tv', 'tv series', 'tv show', 'tv shows']\n",
    "correct_show = 'show'"
   ]
  },
  {
   "cell_type": "markdown",
   "id": "d02d13a6",
   "metadata": {},
   "source": [
    "Call `replace_wrong_show()` and pass it arguments so that it clears implicit duplicates and replaces them with `SHOW`:"
   ]
  },
  {
   "cell_type": "code",
   "execution_count": 17,
   "id": "a2217e53",
   "metadata": {},
   "outputs": [
    {
     "name": "stdout",
     "output_type": "stream",
     "text": [
      "                     name                character      role        title  \\\n",
      "0          Robert De Niro            Travis Bickle     ACTOR  Taxi Driver   \n",
      "1            Jodie Foster            Iris Steensma     ACTOR  Taxi Driver   \n",
      "2           Albert Brooks                      Tom     ACTOR  Taxi Driver   \n",
      "3           Harvey Keitel  Matthew 'Sport' Higgins     ACTOR  Taxi Driver   \n",
      "4         Cybill Shepherd                    Betsy     ACTOR  Taxi Driver   \n",
      "...                   ...                      ...       ...          ...   \n",
      "85573       A??da Morales                  Maritza     ACTOR      Lokillo   \n",
      "85574    Adelaida Buscato               Mar??a Paz     ACTOR      Lokillo   \n",
      "85575  Luz Stella Luengas             Karen Bayona     ACTOR      Lokillo   \n",
      "85576        In??s Prieto                    Fanny     ACTOR      Lokillo   \n",
      "85578      Julian Gaviria                  unknown  DIRECTOR      Lokillo   \n",
      "\n",
      "            type  release_year              genres  imdb_score  imdb_votes  \n",
      "0          movie          1976  ['drama', 'crime']         8.2    808582.0  \n",
      "1          movie          1976  ['drama', 'crime']         8.2    808582.0  \n",
      "2          movie          1976  ['drama', 'crime']         8.2    808582.0  \n",
      "3          movie          1976  ['drama', 'crime']         8.2    808582.0  \n",
      "4          movie          1976  ['drama', 'crime']         8.2    808582.0  \n",
      "...          ...           ...                 ...         ...         ...  \n",
      "85573  the movie          2021          ['comedy']         3.8        68.0  \n",
      "85574  the movie          2021          ['comedy']         3.8        68.0  \n",
      "85575  the movie          2021          ['comedy']         3.8        68.0  \n",
      "85576  the movie          2021          ['comedy']         3.8        68.0  \n",
      "85578  the movie          2021          ['comedy']         3.8        68.0  \n",
      "\n",
      "[73859 rows x 9 columns]\n"
     ]
    }
   ],
   "source": [
    "# removing implicit duplicates\n",
    "df_updated = replace_wrong_show(df, wrong_show_list, correct_show)\n",
    "print(df_updated)"
   ]
  },
  {
   "cell_type": "markdown",
   "id": "318b09f7",
   "metadata": {},
   "source": [
    "Make sure the duplicate names are removed. Print the list of unique values from the `'type'` column:"
   ]
  },
  {
   "cell_type": "code",
   "execution_count": 18,
   "id": "25d49d73",
   "metadata": {},
   "outputs": [
    {
     "name": "stdout",
     "output_type": "stream",
     "text": [
      "['movie' 'the movie' 'show' 'movies']\n"
     ]
    }
   ],
   "source": [
    "# viewing unique genre names\n",
    "print(df_updated['type'].unique())"
   ]
  },
  {
   "cell_type": "markdown",
   "id": "18b2049e",
   "metadata": {},
   "source": [
    "### Conclusions <a id='data_preprocessing_conclusions'></a>\n",
    "We detected three issues with the data:\n",
    "\n",
    "- Incorrect header styles\n",
    "- Missing values\n",
    "- Duplicate rows and implicit duplicates\n",
    "\n",
    "The headers have been cleaned up to make processing the table simpler.\n",
    "\n",
    "All rows with missing values have been removed. \n",
    "\n",
    "The absence of duplicates will make the results more precise and easier to understand.\n",
    "\n",
    "Now we can move on to our analysis of the prepared data."
   ]
  },
  {
   "cell_type": "markdown",
   "id": "1aa0f1b1",
   "metadata": {},
   "source": [
    "## Stage 3. Data analysis <a id='hypotheses'></a>"
   ]
  },
  {
   "cell_type": "markdown",
   "id": "f8fb6a0e",
   "metadata": {},
   "source": [
    "Based on the previous project stages, you can now define how the assumption will be checked. Calculate the average amount of votes for each score (this data is available in the `imdb_score` and `imdb_votes` columns), and then check how these averages relate to each other. If the averages for shows with the highest scores are bigger than those for shows with lower scores, the assumption appears to be true.\n",
    "\n",
    "Based on this, complete the following steps:\n",
    "\n",
    "- Filter the dataframe to only include shows released in 1999 or later.\n",
    "- Group scores into buckets by rounding the values of the appropriate column (a set of 1-10 integers will help us make the outcome of our calculations more evident without damaging the quality of our research).\n",
    "- Identify outliers among scores based on their number of votes, and exclude scores with few votes.\n",
    "- Calculate the average votes for each score and check whether the assumption matches the results."
   ]
  },
  {
   "cell_type": "markdown",
   "id": "0ea2cb51",
   "metadata": {},
   "source": [
    "To filter the dataframe and only include shows released in 1999 or later, you will take two steps. First, keep only titles published in 1999 or later in our dataframe. Then, filter the table to only contain shows (movies will be removed)."
   ]
  },
  {
   "cell_type": "code",
   "execution_count": 19,
   "id": "6a704aa1",
   "metadata": {},
   "outputs": [
    {
     "name": "stdout",
     "output_type": "stream",
     "text": [
      "                  name            character   role     title   type  \\\n",
      "1664       Jeff Probst       Himself - Host  ACTOR  Survivor   show   \n",
      "1955  Benicio del Toro  Franky Four Fingers  ACTOR    Snatch  movie   \n",
      "1956     Dennis Farina           Cousin Avi  ACTOR    Snatch  movie   \n",
      "1957      Vinnie Jones    Bullet Tooth Tony  ACTOR    Snatch  movie   \n",
      "1958         Brad Pitt        Mickey O'Neil  ACTOR    Snatch  movie   \n",
      "\n",
      "      release_year               genres  imdb_score  imdb_votes  \n",
      "1664          2000          ['reality']         7.4     24687.0  \n",
      "1955          2000  ['crime', 'comedy']         8.3    841435.0  \n",
      "1956          2000  ['crime', 'comedy']         8.3    841435.0  \n",
      "1957          2000  ['crime', 'comedy']         8.3    841435.0  \n",
      "1958          2000  ['crime', 'comedy']         8.3    841435.0  \n"
     ]
    }
   ],
   "source": [
    "# using conditional indexing modify df so it has only titles released after 1999 (with 1999 included)\n",
    "df_new = df[df['release_year'] >= 1999]\n",
    "print(df_new.head())\n",
    "# give the slice of dataframe new name\n"
   ]
  },
  {
   "cell_type": "code",
   "execution_count": 20,
   "id": "128dc6a9",
   "metadata": {
    "scrolled": true
   },
   "outputs": [
    {
     "name": "stdout",
     "output_type": "stream",
     "text": [
      "                  name                character   role      title  type  \\\n",
      "1664       Jeff Probst           Himself - Host  ACTOR   Survivor  show   \n",
      "2076     Mayumi Tanaka  Monkey D. Luffy (voice)  ACTOR  One Piece  show   \n",
      "2077      Kazuya Nakai     Roronoa Zoro (voice)  ACTOR  One Piece  show   \n",
      "2078     Akemi Okamura             Nami (voice)  ACTOR  One Piece  show   \n",
      "2079  Kappei Yamaguchi            Usopp (voice)  ACTOR  One Piece  show   \n",
      "\n",
      "      release_year                                             genres  \\\n",
      "1664          2000                                        ['reality']   \n",
      "2076          1999  ['animation', 'action', 'comedy', 'drama', 'fa...   \n",
      "2077          1999  ['animation', 'action', 'comedy', 'drama', 'fa...   \n",
      "2078          1999  ['animation', 'action', 'comedy', 'drama', 'fa...   \n",
      "2079          1999  ['animation', 'action', 'comedy', 'drama', 'fa...   \n",
      "\n",
      "      imdb_score  imdb_votes  \n",
      "1664         7.4     24687.0  \n",
      "2076         8.8    117129.0  \n",
      "2077         8.8    117129.0  \n",
      "2078         8.8    117129.0  \n",
      "2079         8.8    117129.0  \n"
     ]
    }
   ],
   "source": [
    "# repeat conditional indexing so df has only shows (movies are removed as result)\n",
    "df_shows = df_new[df_new['type']=='show']\n",
    "print(df_shows.head())"
   ]
  },
  {
   "cell_type": "markdown",
   "id": "9648040c",
   "metadata": {},
   "source": [
    "The scores that are to be grouped should be rounded. For instance, titles with scores like 7.8, 8.1, and 8.3 will all be placed in the same bucket with a score of 8."
   ]
  },
  {
   "cell_type": "code",
   "execution_count": 21,
   "id": "54bbd5c0",
   "metadata": {},
   "outputs": [
    {
     "name": "stdout",
     "output_type": "stream",
     "text": [
      "                      name character      role      title  type  release_year  \\\n",
      "85433     Maneerat Kam-Uan        Ae     ACTOR  Let's Eat  show          2021   \n",
      "85434    Rudklao Amratisha   unknown     ACTOR  Let's Eat  show          2021   \n",
      "85435      Jaturong Mokjok   unknown     ACTOR  Let's Eat  show          2021   \n",
      "85436     Pisamai Wilaisak   unknown     ACTOR  Let's Eat  show          2021   \n",
      "85437  Sarawut Wichiensarn   unknown  DIRECTOR  Let's Eat  show          2021   \n",
      "\n",
      "                    genres  imdb_score  imdb_votes  \n",
      "85433  ['drama', 'comedy']         8.0         5.0  \n",
      "85434  ['drama', 'comedy']         8.0         5.0  \n",
      "85435  ['drama', 'comedy']         8.0         5.0  \n",
      "85436  ['drama', 'comedy']         8.0         5.0  \n",
      "85437  ['drama', 'comedy']         8.0         5.0  \n"
     ]
    },
    {
     "name": "stderr",
     "output_type": "stream",
     "text": [
      "/tmp/ipykernel_70/1039408244.py:2: SettingWithCopyWarning: \n",
      "A value is trying to be set on a copy of a slice from a DataFrame.\n",
      "Try using .loc[row_indexer,col_indexer] = value instead\n",
      "\n",
      "See the caveats in the documentation: https://pandas.pydata.org/pandas-docs/stable/user_guide/indexing.html#returning-a-view-versus-a-copy\n",
      "  df_shows['imdb_score'] = df['imdb_score'].round()\n"
     ]
    }
   ],
   "source": [
    "# rounding column with scores - I rounded to the nearest integer\n",
    "df_shows['imdb_score'] = df['imdb_score'].round()\n",
    "print(df_shows.tail())\n",
    "#checking the outcome with tail()\n"
   ]
  },
  {
   "cell_type": "markdown",
   "id": "36dbd00a",
   "metadata": {},
   "source": [
    "It is now time to identify outliers based on the number of votes."
   ]
  },
  {
   "cell_type": "code",
   "execution_count": 22,
   "id": "b8b55e95",
   "metadata": {},
   "outputs": [
    {
     "name": "stdout",
     "output_type": "stream",
     "text": [
      "imdb_score\n",
      "2.0       24\n",
      "3.0       27\n",
      "4.0      180\n",
      "5.0      592\n",
      "6.0     2494\n",
      "7.0     4706\n",
      "8.0     4842\n",
      "9.0      557\n",
      "10.0       8\n",
      "Name: imdb_votes, dtype: int64\n"
     ]
    }
   ],
   "source": [
    "# Use groupby() for scores and count all unique values in each group, print the result\n",
    "vote_count = df_shows.groupby('imdb_score')['imdb_votes'].count()\n",
    "print(vote_count)\n"
   ]
  },
  {
   "cell_type": "markdown",
   "id": "1ba6daae",
   "metadata": {},
   "source": [
    "Based on the aggregation performed, it is evident that scores 2 (24 voted shows), 3 (27 voted shows), and 10 (only 8 voted shows) are outliers. There isn't enough data for these scores for the average number of votes to be meaningful."
   ]
  },
  {
   "cell_type": "markdown",
   "id": "bd468c46",
   "metadata": {},
   "source": [
    "To obtain the mean numbers of votes for the selected scores (we identified a range of 4-9 as acceptable), use conditional filtering and grouping."
   ]
  },
  {
   "cell_type": "code",
   "execution_count": 23,
   "id": "d1867e0e",
   "metadata": {},
   "outputs": [
    {
     "name": "stdout",
     "output_type": "stream",
     "text": [
      "   imdb_score     imdb_votes\n",
      "0         4.0    5277.583333\n",
      "1         5.0    3143.942568\n",
      "2         6.0    3481.717322\n",
      "3         7.0    8727.068211\n",
      "4         8.0   30299.460967\n",
      "5         9.0  126904.109515\n"
     ]
    }
   ],
   "source": [
    "# filter dataframe using two conditions (scores to be in the range 4-9)\n",
    "df_filtered = df_shows[(df_shows['imdb_score'] >= 4) & (df_shows['imdb_score']<=9)]\n",
    "# group scores and corresponding average number of votes, reset index and print the result\n",
    "average_votes = df_filtered.groupby('imdb_score')['imdb_votes'].mean().reset_index()\n",
    "print(average_votes)"
   ]
  },
  {
   "cell_type": "markdown",
   "id": "96a66d14",
   "metadata": {},
   "source": [
    "Now for the final step! Round the column with the averages, rename both columns, and print the dataframe in descending order."
   ]
  },
  {
   "cell_type": "code",
   "execution_count": null,
   "id": "1b1c117c",
   "metadata": {},
   "outputs": [
    {
     "name": "stdout",
     "output_type": "stream",
     "text": [
      "   analyzed_show_score  analyzed_show_votes\n",
      "5                  9.0             126904.0\n",
      "4                  8.0              30299.0\n",
      "3                  7.0               8727.0\n",
      "0                  4.0               5278.0\n",
      "2                  6.0               3482.0\n",
      "1                  5.0               3144.0\n"
     ]
    }
   ],
   "source": [
    "# round column with averages\n",
    "average_votes = average_votes.round()\n",
    "\n",
    "# rename columns\n",
    "\n",
    "average_votes = average_votes.rename(columns={'imdb_score': 'analyzed_show_score', 'imdb_votes': 'analyzed_show_votes'})\n",
    "\n",
    "# print dataframe in descending order\n",
    "\n",
    "average_votes = average_votes.sort_values(by='analyzed_show_votes', ascending=False)\n",
    "print(average_votes)"
   ]
  },
  {
   "cell_type": "markdown",
   "id": "af07386d",
   "metadata": {},
   "source": [
    "The assumption macthes the analysis: the shows with the top 3 scores have the most amounts of votes."
   ]
  },
  {
   "cell_type": "markdown",
   "id": "84e29a37",
   "metadata": {},
   "source": [
    "## Conclusion <a id='hypotheses'></a>"
   ]
  },
  {
   "cell_type": "markdown",
   "id": "984766a3",
   "metadata": {},
   "source": [
    "The research done confirms that highly-rated shows released during the \"Golden Age\" of television also have the most votes. While shows with score 4 have more votes than ones with scores 5 and 6, the top three (scores 7-9) have the largest number. The data studied represents around 94% of the original set, so we can be confident in our findings."
   ]
  }
 ],
 "metadata": {
  "ExecuteTimeLog": [
   {
    "duration": 304,
    "start_time": "2024-08-09T17:14:29.983Z"
   },
   {
    "duration": 22,
    "start_time": "2024-08-09T17:14:37.520Z"
   },
   {
    "duration": 404,
    "start_time": "2024-08-09T17:14:51.360Z"
   },
   {
    "duration": 200,
    "start_time": "2024-08-09T17:14:51.767Z"
   },
   {
    "duration": 25,
    "start_time": "2024-08-09T17:14:51.970Z"
   },
   {
    "duration": 5,
    "start_time": "2024-08-09T17:14:52.008Z"
   },
   {
    "duration": 7,
    "start_time": "2024-08-09T17:14:52.016Z"
   },
   {
    "duration": 11,
    "start_time": "2024-08-09T17:14:52.025Z"
   },
   {
    "duration": 4,
    "start_time": "2024-08-09T17:14:52.039Z"
   },
   {
    "duration": 72,
    "start_time": "2024-08-09T17:14:52.046Z"
   },
   {
    "duration": 42,
    "start_time": "2024-08-09T17:14:52.120Z"
   },
   {
    "duration": 45,
    "start_time": "2024-08-09T17:14:52.168Z"
   },
   {
    "duration": 75,
    "start_time": "2024-08-09T17:14:52.216Z"
   },
   {
    "duration": 9,
    "start_time": "2024-08-09T17:14:52.310Z"
   },
   {
    "duration": 157,
    "start_time": "2024-08-09T17:14:52.322Z"
   },
   {
    "duration": 5,
    "start_time": "2024-08-09T17:14:52.482Z"
   },
   {
    "duration": 135,
    "start_time": "2024-08-09T17:14:52.490Z"
   },
   {
    "duration": 5,
    "start_time": "2024-08-09T17:14:52.627Z"
   },
   {
    "duration": 32,
    "start_time": "2024-08-09T17:14:52.635Z"
   },
   {
    "duration": 39,
    "start_time": "2024-08-09T17:14:52.670Z"
   },
   {
    "duration": 4,
    "start_time": "2024-08-09T17:14:52.712Z"
   },
   {
    "duration": 4,
    "start_time": "2024-08-09T17:14:52.718Z"
   },
   {
    "duration": 4,
    "start_time": "2024-08-09T17:14:52.725Z"
   },
   {
    "duration": 4,
    "start_time": "2024-08-09T17:14:52.732Z"
   },
   {
    "duration": 4,
    "start_time": "2024-08-09T17:14:52.739Z"
   },
   {
    "duration": 3,
    "start_time": "2024-08-09T17:14:52.746Z"
   },
   {
    "duration": 470,
    "start_time": "2024-08-09T17:49:40.903Z"
   },
   {
    "duration": 199,
    "start_time": "2024-08-09T17:49:41.377Z"
   },
   {
    "duration": 13,
    "start_time": "2024-08-09T17:49:41.579Z"
   },
   {
    "duration": 6,
    "start_time": "2024-08-09T17:49:41.608Z"
   },
   {
    "duration": 5,
    "start_time": "2024-08-09T17:49:41.620Z"
   },
   {
    "duration": 11,
    "start_time": "2024-08-09T17:49:41.628Z"
   },
   {
    "duration": 5,
    "start_time": "2024-08-09T17:49:41.642Z"
   },
   {
    "duration": 66,
    "start_time": "2024-08-09T17:49:41.650Z"
   },
   {
    "duration": 40,
    "start_time": "2024-08-09T17:49:41.719Z"
   },
   {
    "duration": 56,
    "start_time": "2024-08-09T17:49:41.762Z"
   },
   {
    "duration": 87,
    "start_time": "2024-08-09T17:49:41.821Z"
   },
   {
    "duration": 10,
    "start_time": "2024-08-09T17:49:41.911Z"
   },
   {
    "duration": 157,
    "start_time": "2024-08-09T17:49:41.925Z"
   },
   {
    "duration": 4,
    "start_time": "2024-08-09T17:49:42.087Z"
   },
   {
    "duration": 106,
    "start_time": "2024-08-09T17:49:42.109Z"
   },
   {
    "duration": 5,
    "start_time": "2024-08-09T17:49:42.218Z"
   },
   {
    "duration": 33,
    "start_time": "2024-08-09T17:49:42.226Z"
   },
   {
    "duration": 10,
    "start_time": "2024-08-09T17:49:42.262Z"
   },
   {
    "duration": 21,
    "start_time": "2024-08-09T17:49:42.309Z"
   },
   {
    "duration": 19,
    "start_time": "2024-08-09T17:49:42.332Z"
   },
   {
    "duration": 4,
    "start_time": "2024-08-09T17:49:42.354Z"
   },
   {
    "duration": 4,
    "start_time": "2024-08-09T17:49:42.361Z"
   },
   {
    "duration": 3,
    "start_time": "2024-08-09T17:49:42.408Z"
   },
   {
    "duration": 3,
    "start_time": "2024-08-09T17:49:42.415Z"
   },
   {
    "duration": 437,
    "start_time": "2024-08-09T20:38:33.981Z"
   },
   {
    "duration": 205,
    "start_time": "2024-08-09T20:38:34.422Z"
   },
   {
    "duration": 14,
    "start_time": "2024-08-09T20:38:34.630Z"
   },
   {
    "duration": 5,
    "start_time": "2024-08-09T20:38:34.647Z"
   },
   {
    "duration": 5,
    "start_time": "2024-08-09T20:38:34.657Z"
   },
   {
    "duration": 10,
    "start_time": "2024-08-09T20:38:34.666Z"
   },
   {
    "duration": 4,
    "start_time": "2024-08-09T20:38:34.679Z"
   },
   {
    "duration": 73,
    "start_time": "2024-08-09T20:38:34.686Z"
   },
   {
    "duration": 70,
    "start_time": "2024-08-09T20:38:34.762Z"
   },
   {
    "duration": 27,
    "start_time": "2024-08-09T20:38:34.835Z"
   },
   {
    "duration": 93,
    "start_time": "2024-08-09T20:38:34.865Z"
   },
   {
    "duration": 10,
    "start_time": "2024-08-09T20:38:34.961Z"
   },
   {
    "duration": 165,
    "start_time": "2024-08-09T20:38:34.974Z"
   },
   {
    "duration": 6,
    "start_time": "2024-08-09T20:38:35.144Z"
   },
   {
    "duration": 117,
    "start_time": "2024-08-09T20:38:35.152Z"
   },
   {
    "duration": 4,
    "start_time": "2024-08-09T20:38:35.272Z"
   },
   {
    "duration": 54,
    "start_time": "2024-08-09T20:38:35.281Z"
   },
   {
    "duration": 9,
    "start_time": "2024-08-09T20:38:35.338Z"
   },
   {
    "duration": 22,
    "start_time": "2024-08-09T20:38:35.350Z"
   },
   {
    "duration": 57,
    "start_time": "2024-08-09T20:38:35.376Z"
   },
   {
    "duration": 13,
    "start_time": "2024-08-09T20:38:35.436Z"
   },
   {
    "duration": 4,
    "start_time": "2024-08-09T20:38:35.451Z"
   },
   {
    "duration": 3,
    "start_time": "2024-08-09T20:38:35.459Z"
   },
   {
    "duration": 4,
    "start_time": "2024-08-09T20:38:35.465Z"
   },
   {
    "duration": 12,
    "start_time": "2024-08-09T20:38:49.006Z"
   },
   {
    "duration": 11,
    "start_time": "2024-08-09T20:39:40.000Z"
   },
   {
    "duration": 12,
    "start_time": "2024-08-09T20:39:54.258Z"
   },
   {
    "duration": 10,
    "start_time": "2024-08-09T20:40:05.244Z"
   },
   {
    "duration": 467,
    "start_time": "2024-08-09T22:07:13.027Z"
   },
   {
    "duration": 241,
    "start_time": "2024-08-09T22:07:13.497Z"
   },
   {
    "duration": 12,
    "start_time": "2024-08-09T22:07:13.741Z"
   },
   {
    "duration": 7,
    "start_time": "2024-08-09T22:07:13.757Z"
   },
   {
    "duration": 5,
    "start_time": "2024-08-09T22:07:13.767Z"
   },
   {
    "duration": 11,
    "start_time": "2024-08-09T22:07:13.775Z"
   },
   {
    "duration": 4,
    "start_time": "2024-08-09T22:07:13.832Z"
   },
   {
    "duration": 28,
    "start_time": "2024-08-09T22:07:13.839Z"
   },
   {
    "duration": 64,
    "start_time": "2024-08-09T22:07:13.870Z"
   },
   {
    "duration": 27,
    "start_time": "2024-08-09T22:07:13.940Z"
   },
   {
    "duration": 100,
    "start_time": "2024-08-09T22:07:13.970Z"
   },
   {
    "duration": 10,
    "start_time": "2024-08-09T22:07:14.073Z"
   },
   {
    "duration": 159,
    "start_time": "2024-08-09T22:07:14.086Z"
   },
   {
    "duration": 5,
    "start_time": "2024-08-09T22:07:14.249Z"
   },
   {
    "duration": 122,
    "start_time": "2024-08-09T22:07:14.257Z"
   },
   {
    "duration": 5,
    "start_time": "2024-08-09T22:07:14.383Z"
   },
   {
    "duration": 56,
    "start_time": "2024-08-09T22:07:14.392Z"
   },
   {
    "duration": 9,
    "start_time": "2024-08-09T22:07:14.451Z"
   },
   {
    "duration": 19,
    "start_time": "2024-08-09T22:07:14.464Z"
   },
   {
    "duration": 47,
    "start_time": "2024-08-09T22:07:14.487Z"
   },
   {
    "duration": 11,
    "start_time": "2024-08-09T22:07:14.537Z"
   },
   {
    "duration": 4,
    "start_time": "2024-08-09T22:07:14.551Z"
   },
   {
    "duration": 4,
    "start_time": "2024-08-09T22:07:14.558Z"
   },
   {
    "duration": 5,
    "start_time": "2024-08-09T22:07:14.565Z"
   },
   {
    "duration": 447,
    "start_time": "2024-08-09T22:08:35.301Z"
   },
   {
    "duration": 212,
    "start_time": "2024-08-09T22:08:35.752Z"
   },
   {
    "duration": 12,
    "start_time": "2024-08-09T22:08:35.967Z"
   },
   {
    "duration": 5,
    "start_time": "2024-08-09T22:08:35.983Z"
   },
   {
    "duration": 6,
    "start_time": "2024-08-09T22:08:35.992Z"
   },
   {
    "duration": 11,
    "start_time": "2024-08-09T22:08:36.031Z"
   },
   {
    "duration": 4,
    "start_time": "2024-08-09T22:08:36.046Z"
   },
   {
    "duration": 27,
    "start_time": "2024-08-09T22:08:36.053Z"
   },
   {
    "duration": 76,
    "start_time": "2024-08-09T22:08:36.084Z"
   },
   {
    "duration": 25,
    "start_time": "2024-08-09T22:08:36.165Z"
   },
   {
    "duration": 100,
    "start_time": "2024-08-09T22:08:36.193Z"
   },
   {
    "duration": 10,
    "start_time": "2024-08-09T22:08:36.295Z"
   },
   {
    "duration": 157,
    "start_time": "2024-08-09T22:08:36.308Z"
   },
   {
    "duration": 4,
    "start_time": "2024-08-09T22:08:36.468Z"
   },
   {
    "duration": 119,
    "start_time": "2024-08-09T22:08:36.475Z"
   },
   {
    "duration": 7,
    "start_time": "2024-08-09T22:08:36.599Z"
   },
   {
    "duration": 47,
    "start_time": "2024-08-09T22:08:36.608Z"
   },
   {
    "duration": 11,
    "start_time": "2024-08-09T22:08:36.658Z"
   },
   {
    "duration": 19,
    "start_time": "2024-08-09T22:08:36.672Z"
   },
   {
    "duration": 52,
    "start_time": "2024-08-09T22:08:36.694Z"
   },
   {
    "duration": 12,
    "start_time": "2024-08-09T22:08:36.748Z"
   },
   {
    "duration": 3,
    "start_time": "2024-08-09T22:08:36.763Z"
   },
   {
    "duration": 6,
    "start_time": "2024-08-09T22:08:36.769Z"
   },
   {
    "duration": 6,
    "start_time": "2024-08-09T22:08:36.777Z"
   },
   {
    "duration": 10,
    "start_time": "2024-08-09T22:09:34.715Z"
   },
   {
    "duration": 10,
    "start_time": "2024-08-09T22:10:00.742Z"
   },
   {
    "duration": 15,
    "start_time": "2024-08-09T22:10:19.880Z"
   },
   {
    "duration": 13,
    "start_time": "2024-08-09T22:27:24.803Z"
   },
   {
    "duration": 1019,
    "start_time": "2024-08-09T22:35:03.100Z"
   },
   {
    "duration": 8,
    "start_time": "2024-08-09T22:35:14.923Z"
   },
   {
    "duration": 81,
    "start_time": "2024-08-09T22:35:24.111Z"
   },
   {
    "duration": 80,
    "start_time": "2024-08-09T22:36:16.826Z"
   },
   {
    "duration": 24,
    "start_time": "2024-08-09T22:37:47.408Z"
   },
   {
    "duration": 12,
    "start_time": "2024-08-09T22:37:55.651Z"
   },
   {
    "duration": 16,
    "start_time": "2024-08-09T22:38:16.159Z"
   },
   {
    "duration": 32,
    "start_time": "2024-08-09T22:38:44.585Z"
   },
   {
    "duration": 455,
    "start_time": "2024-08-09T22:39:12.568Z"
   },
   {
    "duration": 815,
    "start_time": "2024-08-09T22:39:35.206Z"
   },
   {
    "duration": 18,
    "start_time": "2024-08-09T22:40:01.455Z"
   },
   {
    "duration": 31,
    "start_time": "2024-08-09T22:40:23.716Z"
   },
   {
    "duration": 5,
    "start_time": "2024-08-09T22:40:36.762Z"
   },
   {
    "duration": 468,
    "start_time": "2024-08-09T22:40:48.330Z"
   },
   {
    "duration": 202,
    "start_time": "2024-08-09T22:40:48.801Z"
   },
   {
    "duration": 24,
    "start_time": "2024-08-09T22:40:49.006Z"
   },
   {
    "duration": 6,
    "start_time": "2024-08-09T22:40:49.035Z"
   },
   {
    "duration": 6,
    "start_time": "2024-08-09T22:40:49.044Z"
   },
   {
    "duration": 11,
    "start_time": "2024-08-09T22:40:49.054Z"
   },
   {
    "duration": 5,
    "start_time": "2024-08-09T22:40:49.067Z"
   },
   {
    "duration": 76,
    "start_time": "2024-08-09T22:40:49.075Z"
   },
   {
    "duration": 40,
    "start_time": "2024-08-09T22:40:49.154Z"
   },
   {
    "duration": 51,
    "start_time": "2024-08-09T22:40:49.200Z"
   },
   {
    "duration": 84,
    "start_time": "2024-08-09T22:40:49.254Z"
   },
   {
    "duration": 10,
    "start_time": "2024-08-09T22:40:49.341Z"
   },
   {
    "duration": 164,
    "start_time": "2024-08-09T22:40:49.354Z"
   },
   {
    "duration": 12,
    "start_time": "2024-08-09T22:40:49.521Z"
   },
   {
    "duration": 113,
    "start_time": "2024-08-09T22:40:49.536Z"
   },
   {
    "duration": 5,
    "start_time": "2024-08-09T22:40:49.652Z"
   },
   {
    "duration": 39,
    "start_time": "2024-08-09T22:40:49.661Z"
   },
   {
    "duration": 9,
    "start_time": "2024-08-09T22:40:49.732Z"
   },
   {
    "duration": 19,
    "start_time": "2024-08-09T22:40:49.744Z"
   },
   {
    "duration": 18,
    "start_time": "2024-08-09T22:40:49.766Z"
   },
   {
    "duration": 55,
    "start_time": "2024-08-09T22:40:49.787Z"
   },
   {
    "duration": 5,
    "start_time": "2024-08-09T22:40:49.846Z"
   },
   {
    "duration": 4,
    "start_time": "2024-08-09T22:40:49.855Z"
   },
   {
    "duration": 3,
    "start_time": "2024-08-09T22:40:49.863Z"
   },
   {
    "duration": 495,
    "start_time": "2024-08-09T22:45:40.169Z"
   },
   {
    "duration": 11,
    "start_time": "2024-08-09T22:47:18.338Z"
   },
   {
    "duration": 10,
    "start_time": "2024-08-09T22:47:39.227Z"
   },
   {
    "duration": 9,
    "start_time": "2024-08-09T23:01:24.189Z"
   },
   {
    "duration": 815,
    "start_time": "2024-08-09T23:01:48.774Z"
   },
   {
    "duration": 11,
    "start_time": "2024-08-09T23:02:13.505Z"
   },
   {
    "duration": 8,
    "start_time": "2024-08-09T23:02:37.836Z"
   },
   {
    "duration": 431,
    "start_time": "2024-08-09T23:02:45.171Z"
   },
   {
    "duration": 201,
    "start_time": "2024-08-09T23:02:45.606Z"
   },
   {
    "duration": 26,
    "start_time": "2024-08-09T23:02:45.810Z"
   },
   {
    "duration": 8,
    "start_time": "2024-08-09T23:02:45.841Z"
   },
   {
    "duration": 5,
    "start_time": "2024-08-09T23:02:45.852Z"
   },
   {
    "duration": 10,
    "start_time": "2024-08-09T23:02:45.860Z"
   },
   {
    "duration": 4,
    "start_time": "2024-08-09T23:02:45.873Z"
   },
   {
    "duration": 69,
    "start_time": "2024-08-09T23:02:45.880Z"
   },
   {
    "duration": 39,
    "start_time": "2024-08-09T23:02:45.952Z"
   },
   {
    "duration": 51,
    "start_time": "2024-08-09T23:02:45.997Z"
   },
   {
    "duration": 87,
    "start_time": "2024-08-09T23:02:46.051Z"
   },
   {
    "duration": 10,
    "start_time": "2024-08-09T23:02:46.141Z"
   },
   {
    "duration": 156,
    "start_time": "2024-08-09T23:02:46.154Z"
   },
   {
    "duration": 5,
    "start_time": "2024-08-09T23:02:46.312Z"
   },
   {
    "duration": 111,
    "start_time": "2024-08-09T23:02:46.331Z"
   },
   {
    "duration": 7,
    "start_time": "2024-08-09T23:02:46.446Z"
   },
   {
    "duration": 48,
    "start_time": "2024-08-09T23:02:46.458Z"
   },
   {
    "duration": 24,
    "start_time": "2024-08-09T23:02:46.509Z"
   },
   {
    "duration": 20,
    "start_time": "2024-08-09T23:02:46.537Z"
   },
   {
    "duration": 20,
    "start_time": "2024-08-09T23:02:46.560Z"
   },
   {
    "duration": 52,
    "start_time": "2024-08-09T23:02:46.583Z"
   },
   {
    "duration": 11,
    "start_time": "2024-08-09T23:02:46.639Z"
   },
   {
    "duration": 3,
    "start_time": "2024-08-09T23:02:46.653Z"
   },
   {
    "duration": 4,
    "start_time": "2024-08-09T23:02:46.658Z"
   },
   {
    "duration": 12,
    "start_time": "2024-08-09T23:03:11.308Z"
   },
   {
    "duration": 8,
    "start_time": "2024-08-09T23:06:15.055Z"
   },
   {
    "duration": 11,
    "start_time": "2024-08-09T23:10:14.037Z"
   },
   {
    "duration": 17,
    "start_time": "2024-08-09T23:15:59.680Z"
   },
   {
    "duration": 1138,
    "start_time": "2024-08-09T23:18:49.915Z"
   },
   {
    "duration": 25,
    "start_time": "2024-08-09T23:19:20.947Z"
   },
   {
    "duration": 17,
    "start_time": "2024-08-09T23:19:40.778Z"
   },
   {
    "duration": 462,
    "start_time": "2024-08-09T23:41:39.433Z"
   },
   {
    "duration": 200,
    "start_time": "2024-08-09T23:41:39.898Z"
   },
   {
    "duration": 15,
    "start_time": "2024-08-09T23:41:40.101Z"
   },
   {
    "duration": 7,
    "start_time": "2024-08-09T23:41:40.132Z"
   },
   {
    "duration": 7,
    "start_time": "2024-08-09T23:41:40.145Z"
   },
   {
    "duration": 13,
    "start_time": "2024-08-09T23:41:40.155Z"
   },
   {
    "duration": 5,
    "start_time": "2024-08-09T23:41:40.172Z"
   },
   {
    "duration": 73,
    "start_time": "2024-08-09T23:41:40.181Z"
   },
   {
    "duration": 40,
    "start_time": "2024-08-09T23:41:40.257Z"
   },
   {
    "duration": 46,
    "start_time": "2024-08-09T23:41:40.300Z"
   },
   {
    "duration": 87,
    "start_time": "2024-08-09T23:41:40.349Z"
   },
   {
    "duration": 12,
    "start_time": "2024-08-09T23:41:40.439Z"
   },
   {
    "duration": 156,
    "start_time": "2024-08-09T23:41:40.455Z"
   },
   {
    "duration": 13,
    "start_time": "2024-08-09T23:41:40.616Z"
   },
   {
    "duration": 106,
    "start_time": "2024-08-09T23:41:40.632Z"
   },
   {
    "duration": 6,
    "start_time": "2024-08-09T23:41:40.741Z"
   },
   {
    "duration": 32,
    "start_time": "2024-08-09T23:41:40.750Z"
   },
   {
    "duration": 9,
    "start_time": "2024-08-09T23:41:40.784Z"
   },
   {
    "duration": 18,
    "start_time": "2024-08-09T23:41:40.831Z"
   },
   {
    "duration": 18,
    "start_time": "2024-08-09T23:41:40.853Z"
   },
   {
    "duration": 13,
    "start_time": "2024-08-09T23:41:40.874Z"
   },
   {
    "duration": 18,
    "start_time": "2024-08-09T23:41:40.930Z"
   },
   {
    "duration": 3,
    "start_time": "2024-08-09T23:41:40.951Z"
   },
   {
    "duration": 3,
    "start_time": "2024-08-09T23:41:40.957Z"
   },
   {
    "duration": 17,
    "start_time": "2024-08-09T23:50:59.480Z"
   },
   {
    "duration": 431,
    "start_time": "2024-08-11T16:33:01.982Z"
   },
   {
    "duration": 232,
    "start_time": "2024-08-11T16:33:02.416Z"
   },
   {
    "duration": 12,
    "start_time": "2024-08-11T16:33:02.651Z"
   },
   {
    "duration": 6,
    "start_time": "2024-08-11T16:33:02.669Z"
   },
   {
    "duration": 6,
    "start_time": "2024-08-11T16:33:02.678Z"
   },
   {
    "duration": 50,
    "start_time": "2024-08-11T16:33:02.687Z"
   },
   {
    "duration": 4,
    "start_time": "2024-08-11T16:33:02.740Z"
   },
   {
    "duration": 28,
    "start_time": "2024-08-11T16:33:02.748Z"
   },
   {
    "duration": 72,
    "start_time": "2024-08-11T16:33:02.779Z"
   },
   {
    "duration": 26,
    "start_time": "2024-08-11T16:33:02.857Z"
   },
   {
    "duration": 104,
    "start_time": "2024-08-11T16:33:02.885Z"
   },
   {
    "duration": 10,
    "start_time": "2024-08-11T16:33:02.992Z"
   },
   {
    "duration": 156,
    "start_time": "2024-08-11T16:33:03.005Z"
   },
   {
    "duration": 5,
    "start_time": "2024-08-11T16:33:03.164Z"
   },
   {
    "duration": 125,
    "start_time": "2024-08-11T16:33:03.173Z"
   },
   {
    "duration": 5,
    "start_time": "2024-08-11T16:33:03.301Z"
   },
   {
    "duration": 44,
    "start_time": "2024-08-11T16:33:03.308Z"
   },
   {
    "duration": 9,
    "start_time": "2024-08-11T16:33:03.356Z"
   },
   {
    "duration": 20,
    "start_time": "2024-08-11T16:33:03.369Z"
   },
   {
    "duration": 54,
    "start_time": "2024-08-11T16:33:03.392Z"
   },
   {
    "duration": 13,
    "start_time": "2024-08-11T16:33:03.450Z"
   },
   {
    "duration": 17,
    "start_time": "2024-08-11T16:33:03.466Z"
   },
   {
    "duration": 4,
    "start_time": "2024-08-11T16:33:03.486Z"
   },
   {
    "duration": 3,
    "start_time": "2024-08-11T16:33:03.532Z"
   },
   {
    "duration": 478,
    "start_time": "2024-08-12T16:36:23.844Z"
   },
   {
    "duration": 214,
    "start_time": "2024-08-12T16:36:24.333Z"
   },
   {
    "duration": 12,
    "start_time": "2024-08-12T16:36:24.550Z"
   },
   {
    "duration": 7,
    "start_time": "2024-08-12T16:36:24.565Z"
   },
   {
    "duration": 5,
    "start_time": "2024-08-12T16:36:24.576Z"
   },
   {
    "duration": 10,
    "start_time": "2024-08-12T16:36:24.585Z"
   },
   {
    "duration": 5,
    "start_time": "2024-08-12T16:36:24.635Z"
   },
   {
    "duration": 27,
    "start_time": "2024-08-12T16:36:24.643Z"
   },
   {
    "duration": 73,
    "start_time": "2024-08-12T16:36:24.673Z"
   },
   {
    "duration": 30,
    "start_time": "2024-08-12T16:36:24.748Z"
   },
   {
    "duration": 90,
    "start_time": "2024-08-12T16:36:24.780Z"
   },
   {
    "duration": 9,
    "start_time": "2024-08-12T16:36:24.874Z"
   },
   {
    "duration": 157,
    "start_time": "2024-08-12T16:36:24.886Z"
   },
   {
    "duration": 4,
    "start_time": "2024-08-12T16:36:25.048Z"
   },
   {
    "duration": 126,
    "start_time": "2024-08-12T16:36:25.055Z"
   },
   {
    "duration": 5,
    "start_time": "2024-08-12T16:36:25.184Z"
   },
   {
    "duration": 58,
    "start_time": "2024-08-12T16:36:25.192Z"
   },
   {
    "duration": 10,
    "start_time": "2024-08-12T16:36:25.253Z"
   },
   {
    "duration": 19,
    "start_time": "2024-08-12T16:36:25.266Z"
   },
   {
    "duration": 50,
    "start_time": "2024-08-12T16:36:25.289Z"
   },
   {
    "duration": 14,
    "start_time": "2024-08-12T16:36:25.342Z"
   },
   {
    "duration": 7,
    "start_time": "2024-08-12T16:36:25.359Z"
   },
   {
    "duration": 0,
    "start_time": "2024-08-12T16:36:25.369Z"
   },
   {
    "duration": 0,
    "start_time": "2024-08-12T16:36:25.371Z"
   },
   {
    "duration": 438,
    "start_time": "2024-08-12T16:36:57.272Z"
   },
   {
    "duration": 201,
    "start_time": "2024-08-12T16:36:57.714Z"
   },
   {
    "duration": 21,
    "start_time": "2024-08-12T16:36:57.917Z"
   },
   {
    "duration": 6,
    "start_time": "2024-08-12T16:36:57.943Z"
   },
   {
    "duration": 6,
    "start_time": "2024-08-12T16:36:57.952Z"
   },
   {
    "duration": 10,
    "start_time": "2024-08-12T16:36:57.962Z"
   },
   {
    "duration": 4,
    "start_time": "2024-08-12T16:36:57.974Z"
   },
   {
    "duration": 74,
    "start_time": "2024-08-12T16:36:57.982Z"
   },
   {
    "duration": 41,
    "start_time": "2024-08-12T16:36:58.059Z"
   },
   {
    "duration": 28,
    "start_time": "2024-08-12T16:36:58.134Z"
   },
   {
    "duration": 86,
    "start_time": "2024-08-12T16:36:58.165Z"
   },
   {
    "duration": 10,
    "start_time": "2024-08-12T16:36:58.254Z"
   },
   {
    "duration": 159,
    "start_time": "2024-08-12T16:36:58.267Z"
   },
   {
    "duration": 9,
    "start_time": "2024-08-12T16:36:58.429Z"
   },
   {
    "duration": 118,
    "start_time": "2024-08-12T16:36:58.441Z"
   },
   {
    "duration": 9,
    "start_time": "2024-08-12T16:36:58.562Z"
   },
   {
    "duration": 39,
    "start_time": "2024-08-12T16:36:58.574Z"
   },
   {
    "duration": 10,
    "start_time": "2024-08-12T16:36:58.636Z"
   },
   {
    "duration": 21,
    "start_time": "2024-08-12T16:36:58.650Z"
   },
   {
    "duration": 22,
    "start_time": "2024-08-12T16:36:58.674Z"
   },
   {
    "duration": 49,
    "start_time": "2024-08-12T16:36:58.699Z"
   },
   {
    "duration": 10,
    "start_time": "2024-08-12T16:36:58.752Z"
   },
   {
    "duration": 4,
    "start_time": "2024-08-12T16:36:58.766Z"
   },
   {
    "duration": 4,
    "start_time": "2024-08-12T16:36:58.773Z"
   },
   {
    "duration": 135,
    "start_time": "2024-08-12T16:59:02.320Z"
   },
   {
    "duration": 464,
    "start_time": "2024-08-12T16:59:52.840Z"
   },
   {
    "duration": 207,
    "start_time": "2024-08-12T16:59:53.308Z"
   },
   {
    "duration": 25,
    "start_time": "2024-08-12T16:59:53.517Z"
   },
   {
    "duration": 6,
    "start_time": "2024-08-12T16:59:53.546Z"
   },
   {
    "duration": 5,
    "start_time": "2024-08-12T16:59:53.555Z"
   },
   {
    "duration": 10,
    "start_time": "2024-08-12T16:59:53.564Z"
   },
   {
    "duration": 4,
    "start_time": "2024-08-12T16:59:53.577Z"
   },
   {
    "duration": 73,
    "start_time": "2024-08-12T16:59:53.585Z"
   },
   {
    "duration": 42,
    "start_time": "2024-08-12T16:59:53.661Z"
   },
   {
    "duration": 28,
    "start_time": "2024-08-12T16:59:53.734Z"
   },
   {
    "duration": 88,
    "start_time": "2024-08-12T16:59:53.764Z"
   },
   {
    "duration": 10,
    "start_time": "2024-08-12T16:59:53.855Z"
   },
   {
    "duration": 162,
    "start_time": "2024-08-12T16:59:53.868Z"
   },
   {
    "duration": 5,
    "start_time": "2024-08-12T16:59:54.034Z"
   },
   {
    "duration": 125,
    "start_time": "2024-08-12T16:59:54.042Z"
   },
   {
    "duration": 5,
    "start_time": "2024-08-12T16:59:54.170Z"
   },
   {
    "duration": 57,
    "start_time": "2024-08-12T16:59:54.177Z"
   },
   {
    "duration": 10,
    "start_time": "2024-08-12T16:59:54.236Z"
   },
   {
    "duration": 29,
    "start_time": "2024-08-12T16:59:54.249Z"
   },
   {
    "duration": 19,
    "start_time": "2024-08-12T16:59:54.282Z"
   },
   {
    "duration": 39,
    "start_time": "2024-08-12T16:59:54.304Z"
   },
   {
    "duration": 9,
    "start_time": "2024-08-12T16:59:54.346Z"
   },
   {
    "duration": 164,
    "start_time": "2024-08-12T16:59:54.358Z"
   },
   {
    "duration": 0,
    "start_time": "2024-08-12T16:59:54.525Z"
   },
   {
    "duration": 14,
    "start_time": "2024-08-12T17:00:26.646Z"
   },
   {
    "duration": 8,
    "start_time": "2024-08-12T17:02:15.117Z"
   },
   {
    "duration": 246,
    "start_time": "2024-08-12T17:02:46.323Z"
   },
   {
    "duration": 25,
    "start_time": "2024-08-12T17:03:30.588Z"
   },
   {
    "duration": 9,
    "start_time": "2024-08-12T17:03:42.742Z"
   },
   {
    "duration": 19,
    "start_time": "2024-08-12T17:05:04.904Z"
   },
   {
    "duration": 12,
    "start_time": "2024-08-12T17:05:10.245Z"
   },
   {
    "duration": 9,
    "start_time": "2024-08-12T17:10:28.814Z"
   },
   {
    "duration": 47,
    "start_time": "2024-08-12T17:10:49.564Z"
   },
   {
    "duration": 28,
    "start_time": "2024-08-12T17:11:33.124Z"
   },
   {
    "duration": 32,
    "start_time": "2024-08-12T17:12:59.436Z"
   },
   {
    "duration": 468,
    "start_time": "2024-08-12T17:15:41.074Z"
   },
   {
    "duration": 205,
    "start_time": "2024-08-12T17:15:41.545Z"
   },
   {
    "duration": 14,
    "start_time": "2024-08-12T17:15:41.753Z"
   },
   {
    "duration": 7,
    "start_time": "2024-08-12T17:15:41.772Z"
   },
   {
    "duration": 6,
    "start_time": "2024-08-12T17:15:41.782Z"
   },
   {
    "duration": 48,
    "start_time": "2024-08-12T17:15:41.792Z"
   },
   {
    "duration": 5,
    "start_time": "2024-08-12T17:15:41.844Z"
   },
   {
    "duration": 29,
    "start_time": "2024-08-12T17:15:41.852Z"
   },
   {
    "duration": 79,
    "start_time": "2024-08-12T17:15:41.884Z"
   },
   {
    "duration": 27,
    "start_time": "2024-08-12T17:15:41.969Z"
   },
   {
    "duration": 100,
    "start_time": "2024-08-12T17:15:41.999Z"
   },
   {
    "duration": 12,
    "start_time": "2024-08-12T17:15:42.102Z"
   },
   {
    "duration": 163,
    "start_time": "2024-08-12T17:15:42.117Z"
   },
   {
    "duration": 4,
    "start_time": "2024-08-12T17:15:42.283Z"
   },
   {
    "duration": 116,
    "start_time": "2024-08-12T17:15:42.291Z"
   },
   {
    "duration": 5,
    "start_time": "2024-08-12T17:15:42.410Z"
   },
   {
    "duration": 49,
    "start_time": "2024-08-12T17:15:42.418Z"
   },
   {
    "duration": 21,
    "start_time": "2024-08-12T17:15:42.473Z"
   },
   {
    "duration": 45,
    "start_time": "2024-08-12T17:15:42.498Z"
   },
   {
    "duration": 20,
    "start_time": "2024-08-12T17:15:42.548Z"
   },
   {
    "duration": 14,
    "start_time": "2024-08-12T17:15:42.571Z"
   },
   {
    "duration": 8,
    "start_time": "2024-08-12T17:15:42.588Z"
   },
   {
    "duration": 47,
    "start_time": "2024-08-12T17:15:42.599Z"
   },
   {
    "duration": 178,
    "start_time": "2024-08-12T17:15:42.649Z"
   },
   {
    "duration": 268,
    "start_time": "2024-08-12T17:21:38.281Z"
   },
   {
    "duration": 28,
    "start_time": "2024-08-12T17:21:45.150Z"
   },
   {
    "duration": 34,
    "start_time": "2024-08-12T17:22:38.518Z"
   },
   {
    "duration": 19,
    "start_time": "2024-08-12T17:24:00.947Z"
   },
   {
    "duration": 27,
    "start_time": "2024-08-12T17:24:16.638Z"
   },
   {
    "duration": 18,
    "start_time": "2024-08-12T17:26:52.928Z"
   },
   {
    "duration": 19,
    "start_time": "2024-08-12T17:27:06.691Z"
   },
   {
    "duration": 21,
    "start_time": "2024-08-12T17:27:43.104Z"
   },
   {
    "duration": 21,
    "start_time": "2024-08-12T17:29:22.688Z"
   },
   {
    "duration": 484,
    "start_time": "2024-08-12T18:53:39.887Z"
   },
   {
    "duration": 235,
    "start_time": "2024-08-12T18:53:40.374Z"
   },
   {
    "duration": 13,
    "start_time": "2024-08-12T18:53:40.612Z"
   },
   {
    "duration": 6,
    "start_time": "2024-08-12T18:53:40.629Z"
   },
   {
    "duration": 5,
    "start_time": "2024-08-12T18:53:40.639Z"
   },
   {
    "duration": 11,
    "start_time": "2024-08-12T18:53:40.646Z"
   },
   {
    "duration": 4,
    "start_time": "2024-08-12T18:53:40.659Z"
   },
   {
    "duration": 31,
    "start_time": "2024-08-12T18:53:40.711Z"
   },
   {
    "duration": 72,
    "start_time": "2024-08-12T18:53:40.745Z"
   },
   {
    "duration": 27,
    "start_time": "2024-08-12T18:53:40.824Z"
   },
   {
    "duration": 102,
    "start_time": "2024-08-12T18:53:40.854Z"
   },
   {
    "duration": 11,
    "start_time": "2024-08-12T18:53:40.958Z"
   },
   {
    "duration": 174,
    "start_time": "2024-08-12T18:53:40.972Z"
   },
   {
    "duration": 5,
    "start_time": "2024-08-12T18:53:41.149Z"
   },
   {
    "duration": 120,
    "start_time": "2024-08-12T18:53:41.158Z"
   },
   {
    "duration": 4,
    "start_time": "2024-08-12T18:53:41.281Z"
   },
   {
    "duration": 53,
    "start_time": "2024-08-12T18:53:41.289Z"
   },
   {
    "duration": 10,
    "start_time": "2024-08-12T18:53:41.345Z"
   },
   {
    "duration": 53,
    "start_time": "2024-08-12T18:53:41.359Z"
   },
   {
    "duration": 21,
    "start_time": "2024-08-12T18:53:41.415Z"
   },
   {
    "duration": 22,
    "start_time": "2024-08-12T18:53:41.439Z"
   },
   {
    "duration": 8,
    "start_time": "2024-08-12T18:53:41.464Z"
   },
   {
    "duration": 46,
    "start_time": "2024-08-12T18:53:41.475Z"
   },
   {
    "duration": 12,
    "start_time": "2024-08-12T18:53:41.524Z"
   },
   {
    "duration": 465,
    "start_time": "2024-08-12T18:56:01.318Z"
   },
   {
    "duration": 203,
    "start_time": "2024-08-12T18:56:01.787Z"
   },
   {
    "duration": 20,
    "start_time": "2024-08-12T18:56:01.993Z"
   },
   {
    "duration": 6,
    "start_time": "2024-08-12T18:56:02.019Z"
   },
   {
    "duration": 6,
    "start_time": "2024-08-12T18:56:02.028Z"
   },
   {
    "duration": 12,
    "start_time": "2024-08-12T18:56:02.037Z"
   },
   {
    "duration": 5,
    "start_time": "2024-08-12T18:56:02.051Z"
   },
   {
    "duration": 73,
    "start_time": "2024-08-12T18:56:02.060Z"
   },
   {
    "duration": 41,
    "start_time": "2024-08-12T18:56:02.136Z"
   },
   {
    "duration": 27,
    "start_time": "2024-08-12T18:56:02.208Z"
   },
   {
    "duration": 94,
    "start_time": "2024-08-12T18:56:02.239Z"
   },
   {
    "duration": 10,
    "start_time": "2024-08-12T18:56:02.337Z"
   },
   {
    "duration": 162,
    "start_time": "2024-08-12T18:56:02.351Z"
   },
   {
    "duration": 4,
    "start_time": "2024-08-12T18:56:02.516Z"
   },
   {
    "duration": 120,
    "start_time": "2024-08-12T18:56:02.523Z"
   },
   {
    "duration": 5,
    "start_time": "2024-08-12T18:56:02.646Z"
   },
   {
    "duration": 55,
    "start_time": "2024-08-12T18:56:02.654Z"
   },
   {
    "duration": 10,
    "start_time": "2024-08-12T18:56:02.713Z"
   },
   {
    "duration": 21,
    "start_time": "2024-08-12T18:56:02.726Z"
   },
   {
    "duration": 59,
    "start_time": "2024-08-12T18:56:02.751Z"
   },
   {
    "duration": 14,
    "start_time": "2024-08-12T18:56:02.812Z"
   },
   {
    "duration": 8,
    "start_time": "2024-08-12T18:56:02.829Z"
   },
   {
    "duration": 14,
    "start_time": "2024-08-12T18:56:02.840Z"
   },
   {
    "duration": 52,
    "start_time": "2024-08-12T18:56:02.857Z"
   }
  ],
  "kernelspec": {
   "display_name": "Python 3 (ipykernel)",
   "language": "python",
   "name": "python3"
  },
  "language_info": {
   "codemirror_mode": {
    "name": "ipython",
    "version": 3
   },
   "file_extension": ".py",
   "mimetype": "text/x-python",
   "name": "python",
   "nbconvert_exporter": "python",
   "pygments_lexer": "ipython3",
   "version": "3.9.19"
  },
  "toc": {
   "base_numbering": 1,
   "nav_menu": {},
   "number_sections": true,
   "sideBar": true,
   "skip_h1_title": true,
   "title_cell": "Table of Contents",
   "title_sidebar": "Contents",
   "toc_cell": false,
   "toc_position": {},
   "toc_section_display": true,
   "toc_window_display": false
  }
 },
 "nbformat": 4,
 "nbformat_minor": 5
}
