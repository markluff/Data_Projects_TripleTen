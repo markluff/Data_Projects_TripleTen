{
 "cells": [
  {
   "cell_type": "markdown",
   "metadata": {},
   "source": [
    "# An analysis of 3 regions for oil aquisitions and investment"
   ]
  },
  {
   "cell_type": "markdown",
   "metadata": {},
   "source": [
    "**Introduction**\n",
    "\n",
    "Oily Giant is attempting to analyze 3 regions for their next $100,000,000 investment. They are hoping to drill 200 new wells in one of the 3 regions and are looking to find the investment that offers the highest profit margin with a risk of loss of less that 2.5%.\n",
    "\n",
    "In this analysis I will import the data from the three regions and prepare it for processing by exploring their contents. Then I will use a linear regression machine learning to make the best predictions of oil in reserve in each of the 100,000 locations in each region. After developing the model with its predictions, I will use those to analyze the profitability of drilling in each region. Finally, I will use the bootstrapping technique to provide a 95% confidence interval for the profitability of the investments.\n"
   ]
  },
  {
   "cell_type": "code",
   "execution_count": 1,
   "metadata": {},
   "outputs": [],
   "source": [
    "#Import resources needed for this project\n",
    "import pandas as pd\n",
    "import numpy as np\n",
    "import seaborn as sns\n",
    "import matplotlib.pyplot as plt\n",
    "from sklearn.linear_model import LinearRegression\n",
    "from sklearn.model_selection import train_test_split\n",
    "from sklearn.metrics import mean_squared_error\n",
    "from sklearn.preprocessing import StandardScaler\n",
    "from sklearn.preprocessing import PolynomialFeatures"
   ]
  },
  {
   "cell_type": "markdown",
   "metadata": {},
   "source": [
    "**Part 1:**\n",
    "\n",
    "Download and prepare the data. Explain the procedure."
   ]
  },
  {
   "cell_type": "code",
   "execution_count": 3,
   "metadata": {},
   "outputs": [],
   "source": [
    "#create 3 dataframes for the three datasets\n",
    "region0 = pd.read_csv('geo_data_0.csv')\n",
    "region1 = pd.read_csv('geo_data_1.csv')\n",
    "region2 = pd.read_csv('geo_data_2.csv')"
   ]
  },
  {
   "cell_type": "code",
   "execution_count": 4,
   "metadata": {
    "scrolled": false
   },
   "outputs": [
    {
     "data": {
      "text/html": [
       "<div>\n",
       "<style scoped>\n",
       "    .dataframe tbody tr th:only-of-type {\n",
       "        vertical-align: middle;\n",
       "    }\n",
       "\n",
       "    .dataframe tbody tr th {\n",
       "        vertical-align: top;\n",
       "    }\n",
       "\n",
       "    .dataframe thead th {\n",
       "        text-align: right;\n",
       "    }\n",
       "</style>\n",
       "<table border=\"1\" class=\"dataframe\">\n",
       "  <thead>\n",
       "    <tr style=\"text-align: right;\">\n",
       "      <th></th>\n",
       "      <th>id</th>\n",
       "      <th>f0</th>\n",
       "      <th>f1</th>\n",
       "      <th>f2</th>\n",
       "      <th>product</th>\n",
       "    </tr>\n",
       "  </thead>\n",
       "  <tbody>\n",
       "    <tr>\n",
       "      <th>0</th>\n",
       "      <td>txEyH</td>\n",
       "      <td>0.705745</td>\n",
       "      <td>-0.497823</td>\n",
       "      <td>1.221170</td>\n",
       "      <td>105.280062</td>\n",
       "    </tr>\n",
       "    <tr>\n",
       "      <th>1</th>\n",
       "      <td>2acmU</td>\n",
       "      <td>1.334711</td>\n",
       "      <td>-0.340164</td>\n",
       "      <td>4.365080</td>\n",
       "      <td>73.037750</td>\n",
       "    </tr>\n",
       "    <tr>\n",
       "      <th>2</th>\n",
       "      <td>409Wp</td>\n",
       "      <td>1.022732</td>\n",
       "      <td>0.151990</td>\n",
       "      <td>1.419926</td>\n",
       "      <td>85.265647</td>\n",
       "    </tr>\n",
       "    <tr>\n",
       "      <th>3</th>\n",
       "      <td>iJLyR</td>\n",
       "      <td>-0.032172</td>\n",
       "      <td>0.139033</td>\n",
       "      <td>2.978566</td>\n",
       "      <td>168.620776</td>\n",
       "    </tr>\n",
       "    <tr>\n",
       "      <th>4</th>\n",
       "      <td>Xdl7t</td>\n",
       "      <td>1.988431</td>\n",
       "      <td>0.155413</td>\n",
       "      <td>4.751769</td>\n",
       "      <td>154.036647</td>\n",
       "    </tr>\n",
       "  </tbody>\n",
       "</table>\n",
       "</div>"
      ],
      "text/plain": [
       "      id        f0        f1        f2     product\n",
       "0  txEyH  0.705745 -0.497823  1.221170  105.280062\n",
       "1  2acmU  1.334711 -0.340164  4.365080   73.037750\n",
       "2  409Wp  1.022732  0.151990  1.419926   85.265647\n",
       "3  iJLyR -0.032172  0.139033  2.978566  168.620776\n",
       "4  Xdl7t  1.988431  0.155413  4.751769  154.036647"
      ]
     },
     "metadata": {},
     "output_type": "display_data"
    },
    {
     "name": "stdout",
     "output_type": "stream",
     "text": [
      "(100000, 5)\n"
     ]
    }
   ],
   "source": [
    "#show the first five rows of the dataframe and call its shape\n",
    "display(region0.head())\n",
    "print(region0.shape)"
   ]
  },
  {
   "cell_type": "code",
   "execution_count": null,
   "metadata": {
    "scrolled": false
   },
   "outputs": [
    {
     "name": "stdout",
     "output_type": "stream",
     "text": [
      "<class 'pandas.core.frame.DataFrame'>\n",
      "RangeIndex: 100000 entries, 0 to 99999\n",
      "Data columns (total 5 columns):\n",
      " #   Column   Non-Null Count   Dtype  \n",
      "---  ------   --------------   -----  \n",
      " 0   id       100000 non-null  object \n",
      " 1   f0       100000 non-null  float64\n",
      " 2   f1       100000 non-null  float64\n",
      " 3   f2       100000 non-null  float64\n",
      " 4   product  100000 non-null  float64\n",
      "dtypes: float64(4), object(1)\n",
      "memory usage: 3.8+ MB\n"
     ]
    }
   ],
   "source": [
    "#Call info on the dataframe to check data types and null values\n",
    "region0.info()"
   ]
  },
  {
   "cell_type": "code",
   "execution_count": null,
   "metadata": {
    "scrolled": false
   },
   "outputs": [
    {
     "data": {
      "text/html": [
       "<div>\n",
       "<style scoped>\n",
       "    .dataframe tbody tr th:only-of-type {\n",
       "        vertical-align: middle;\n",
       "    }\n",
       "\n",
       "    .dataframe tbody tr th {\n",
       "        vertical-align: top;\n",
       "    }\n",
       "\n",
       "    .dataframe thead th {\n",
       "        text-align: right;\n",
       "    }\n",
       "</style>\n",
       "<table border=\"1\" class=\"dataframe\">\n",
       "  <thead>\n",
       "    <tr style=\"text-align: right;\">\n",
       "      <th></th>\n",
       "      <th>id</th>\n",
       "      <th>f0</th>\n",
       "      <th>f1</th>\n",
       "      <th>f2</th>\n",
       "      <th>product</th>\n",
       "    </tr>\n",
       "  </thead>\n",
       "  <tbody>\n",
       "    <tr>\n",
       "      <th>0</th>\n",
       "      <td>kBEdx</td>\n",
       "      <td>-15.001348</td>\n",
       "      <td>-8.276000</td>\n",
       "      <td>-0.005876</td>\n",
       "      <td>3.179103</td>\n",
       "    </tr>\n",
       "    <tr>\n",
       "      <th>1</th>\n",
       "      <td>62mP7</td>\n",
       "      <td>14.272088</td>\n",
       "      <td>-3.475083</td>\n",
       "      <td>0.999183</td>\n",
       "      <td>26.953261</td>\n",
       "    </tr>\n",
       "    <tr>\n",
       "      <th>2</th>\n",
       "      <td>vyE1P</td>\n",
       "      <td>6.263187</td>\n",
       "      <td>-5.948386</td>\n",
       "      <td>5.001160</td>\n",
       "      <td>134.766305</td>\n",
       "    </tr>\n",
       "    <tr>\n",
       "      <th>3</th>\n",
       "      <td>KcrkZ</td>\n",
       "      <td>-13.081196</td>\n",
       "      <td>-11.506057</td>\n",
       "      <td>4.999415</td>\n",
       "      <td>137.945408</td>\n",
       "    </tr>\n",
       "    <tr>\n",
       "      <th>4</th>\n",
       "      <td>AHL4O</td>\n",
       "      <td>12.702195</td>\n",
       "      <td>-8.147433</td>\n",
       "      <td>5.004363</td>\n",
       "      <td>134.766305</td>\n",
       "    </tr>\n",
       "  </tbody>\n",
       "</table>\n",
       "</div>"
      ],
      "text/plain": [
       "      id         f0         f1        f2     product\n",
       "0  kBEdx -15.001348  -8.276000 -0.005876    3.179103\n",
       "1  62mP7  14.272088  -3.475083  0.999183   26.953261\n",
       "2  vyE1P   6.263187  -5.948386  5.001160  134.766305\n",
       "3  KcrkZ -13.081196 -11.506057  4.999415  137.945408\n",
       "4  AHL4O  12.702195  -8.147433  5.004363  134.766305"
      ]
     },
     "metadata": {},
     "output_type": "display_data"
    },
    {
     "name": "stdout",
     "output_type": "stream",
     "text": [
      "(100000, 5)\n"
     ]
    }
   ],
   "source": [
    "#show the first five rows of the dataframe and call its shape\n",
    "display(region1.head())\n",
    "print(region1.shape)"
   ]
  },
  {
   "cell_type": "code",
   "execution_count": null,
   "metadata": {
    "scrolled": false
   },
   "outputs": [
    {
     "name": "stdout",
     "output_type": "stream",
     "text": [
      "<class 'pandas.core.frame.DataFrame'>\n",
      "RangeIndex: 100000 entries, 0 to 99999\n",
      "Data columns (total 5 columns):\n",
      " #   Column   Non-Null Count   Dtype  \n",
      "---  ------   --------------   -----  \n",
      " 0   id       100000 non-null  object \n",
      " 1   f0       100000 non-null  float64\n",
      " 2   f1       100000 non-null  float64\n",
      " 3   f2       100000 non-null  float64\n",
      " 4   product  100000 non-null  float64\n",
      "dtypes: float64(4), object(1)\n",
      "memory usage: 3.8+ MB\n"
     ]
    }
   ],
   "source": [
    "#Call info on the dataframe to check data types and null values\n",
    "region1.info()"
   ]
  },
  {
   "cell_type": "code",
   "execution_count": null,
   "metadata": {
    "scrolled": false
   },
   "outputs": [
    {
     "data": {
      "text/html": [
       "<div>\n",
       "<style scoped>\n",
       "    .dataframe tbody tr th:only-of-type {\n",
       "        vertical-align: middle;\n",
       "    }\n",
       "\n",
       "    .dataframe tbody tr th {\n",
       "        vertical-align: top;\n",
       "    }\n",
       "\n",
       "    .dataframe thead th {\n",
       "        text-align: right;\n",
       "    }\n",
       "</style>\n",
       "<table border=\"1\" class=\"dataframe\">\n",
       "  <thead>\n",
       "    <tr style=\"text-align: right;\">\n",
       "      <th></th>\n",
       "      <th>id</th>\n",
       "      <th>f0</th>\n",
       "      <th>f1</th>\n",
       "      <th>f2</th>\n",
       "      <th>product</th>\n",
       "    </tr>\n",
       "  </thead>\n",
       "  <tbody>\n",
       "    <tr>\n",
       "      <th>0</th>\n",
       "      <td>fwXo0</td>\n",
       "      <td>-1.146987</td>\n",
       "      <td>0.963328</td>\n",
       "      <td>-0.828965</td>\n",
       "      <td>27.758673</td>\n",
       "    </tr>\n",
       "    <tr>\n",
       "      <th>1</th>\n",
       "      <td>WJtFt</td>\n",
       "      <td>0.262778</td>\n",
       "      <td>0.269839</td>\n",
       "      <td>-2.530187</td>\n",
       "      <td>56.069697</td>\n",
       "    </tr>\n",
       "    <tr>\n",
       "      <th>2</th>\n",
       "      <td>ovLUW</td>\n",
       "      <td>0.194587</td>\n",
       "      <td>0.289035</td>\n",
       "      <td>-5.586433</td>\n",
       "      <td>62.871910</td>\n",
       "    </tr>\n",
       "    <tr>\n",
       "      <th>3</th>\n",
       "      <td>q6cA6</td>\n",
       "      <td>2.236060</td>\n",
       "      <td>-0.553760</td>\n",
       "      <td>0.930038</td>\n",
       "      <td>114.572842</td>\n",
       "    </tr>\n",
       "    <tr>\n",
       "      <th>4</th>\n",
       "      <td>WPMUX</td>\n",
       "      <td>-0.515993</td>\n",
       "      <td>1.716266</td>\n",
       "      <td>5.899011</td>\n",
       "      <td>149.600746</td>\n",
       "    </tr>\n",
       "  </tbody>\n",
       "</table>\n",
       "</div>"
      ],
      "text/plain": [
       "      id        f0        f1        f2     product\n",
       "0  fwXo0 -1.146987  0.963328 -0.828965   27.758673\n",
       "1  WJtFt  0.262778  0.269839 -2.530187   56.069697\n",
       "2  ovLUW  0.194587  0.289035 -5.586433   62.871910\n",
       "3  q6cA6  2.236060 -0.553760  0.930038  114.572842\n",
       "4  WPMUX -0.515993  1.716266  5.899011  149.600746"
      ]
     },
     "metadata": {},
     "output_type": "display_data"
    },
    {
     "name": "stdout",
     "output_type": "stream",
     "text": [
      "(100000, 5)\n"
     ]
    }
   ],
   "source": [
    "#show the first five rows of the dataframe and call its shape\n",
    "display(region2.head())\n",
    "print(region2.shape)"
   ]
  },
  {
   "cell_type": "code",
   "execution_count": null,
   "metadata": {
    "scrolled": true
   },
   "outputs": [
    {
     "name": "stdout",
     "output_type": "stream",
     "text": [
      "<class 'pandas.core.frame.DataFrame'>\n",
      "RangeIndex: 100000 entries, 0 to 99999\n",
      "Data columns (total 5 columns):\n",
      " #   Column   Non-Null Count   Dtype  \n",
      "---  ------   --------------   -----  \n",
      " 0   id       100000 non-null  object \n",
      " 1   f0       100000 non-null  float64\n",
      " 2   f1       100000 non-null  float64\n",
      " 3   f2       100000 non-null  float64\n",
      " 4   product  100000 non-null  float64\n",
      "dtypes: float64(4), object(1)\n",
      "memory usage: 3.8+ MB\n"
     ]
    }
   ],
   "source": [
    "#Call info on the dataframe to check data types and null values\n",
    "region2.info()"
   ]
  },
  {
   "cell_type": "code",
   "execution_count": null,
   "metadata": {},
   "outputs": [
    {
     "name": "stdout",
     "output_type": "stream",
     "text": [
      "there are 0 duplicated rows in df0.\n",
      "there are 0 duplicated rows in df1.\n",
      "there are 0 duplicated rows in df2.\n"
     ]
    }
   ],
   "source": [
    "#check for duplicates.\n",
    "print('there are',region0.duplicated().sum(), 'duplicated rows in df0.')\n",
    "print('there are',region1.duplicated().sum(), 'duplicated rows in df1.')\n",
    "print('there are',region2.duplicated().sum(), 'duplicated rows in df2.')"
   ]
  },
  {
   "cell_type": "code",
   "execution_count": null,
   "metadata": {
    "scrolled": true
   },
   "outputs": [
    {
     "name": "stdout",
     "output_type": "stream",
     "text": [
      "99990\n",
      "99996\n",
      "99996\n"
     ]
    }
   ],
   "source": [
    "#are all the id's unique?\n",
    "print(region0['id'].nunique())\n",
    "print(region1['id'].nunique())\n",
    "print(region2['id'].nunique())"
   ]
  },
  {
   "cell_type": "code",
   "execution_count": null,
   "metadata": {
    "scrolled": true
   },
   "outputs": [
    {
     "name": "stdout",
     "output_type": "stream",
     "text": [
      "Region 0 has 100000 unique values in the product column\n",
      "Region 1 has 12 unique values in the product column\n",
      "Region 2 has 100000 unique values in the product column\n"
     ]
    }
   ],
   "source": [
    "#How many unique values are there in the product column?\n",
    "print('Region 0 has', region0['product'].nunique(), 'unique values in the product column')\n",
    "print('Region 1 has', region1['product'].nunique(), 'unique values in the product column')\n",
    "print('Region 2 has', region2['product'].nunique(), 'unique values in the product column')"
   ]
  },
  {
   "cell_type": "code",
   "execution_count": null,
   "metadata": {},
   "outputs": [],
   "source": [
    "#remove superfluous columns - in this case the id column does not help with building the predictive model.\n",
    "region0 = region0.drop(['id'], axis=1)\n",
    "region1 = region1.drop(['id'], axis=1)\n",
    "region2 = region2.drop(['id'], axis=1)"
   ]
  },
  {
   "cell_type": "code",
   "execution_count": null,
   "metadata": {},
   "outputs": [
    {
     "data": {
      "image/png": "[encoded data removed]",
      "text/plain": [
       "<Figure size 1600x1200 with 12 Axes>"
      ]
     },
     "metadata": {},
     "output_type": "display_data"
    }
   ],
   "source": [
    "# Show the different features and target compared using histograms\n",
    "## List of datasets and their labels\n",
    "datasets = {'Region 0': region0, 'Region 1': region1, 'Region 2': region2}\n",
    "columns_to_plot = ['f0', 'f1', 'f2', 'product']\n",
    "\n",
    "# Set the figure size\n",
    "plt.figure(figsize=(16, 12))\n",
    "\n",
    "# Add colors\n",
    "colors = {'Region 0': 'blue', 'Region 1': 'yellow', 'Region 2': 'red'}\n",
    "\n",
    "# Loop through each column and region\n",
    "for row, column in enumerate(columns_to_plot, 1):\n",
    "    for col, (label, data) in enumerate(datasets.items(), 1):\n",
    "        plt.subplot(len(columns_to_plot), len(datasets), (row - 1) * len(datasets) + col)\n",
    "        sns.histplot(data[column], bins=30, color=colors[label], edgecolor='black')\n",
    "        plt.title(f\"{label} - {column}\")\n",
    "        plt.xlabel(column)\n",
    "        plt.ylabel(\"Count\")\n",
    "\n",
    "# Adjust layout\n",
    "plt.tight_layout()\n",
    "plt.show()"
   ]
  },
  {
   "cell_type": "code",
   "execution_count": null,
   "metadata": {
    "scrolled": true
   },
   "outputs": [
    {
     "data": {
      "image/png": "[encoded data removed]",
      "text/plain": [
       "<Figure size 1800x600 with 6 Axes>"
      ]
     },
     "metadata": {},
     "output_type": "display_data"
    }
   ],
   "source": [
    "# Conduct Correlational Analysis using Heatmaps\n",
    "## Set up the figure for subplots\n",
    "plt.figure(figsize=(18, 6))\n",
    "\n",
    "# Loop through each dataset to calculate and plot the heatmap\n",
    "for i, (label, data) in enumerate(datasets.items(), 1):\n",
    "    plt.subplot(1, 3, i)  # 1 row, 3 columns for side-by-side comparison\n",
    "    correlation_matrix = data[['f0', 'f1', 'f2', 'product']].corr()  # Calculate correlation\n",
    "    sns.heatmap(correlation_matrix, annot=True, cmap='coolwarm', fmt=\".2f\")\n",
    "    plt.title(f\"Correlation Matrix - {label}\")\n",
    "\n",
    "# Adjust layout\n",
    "plt.tight_layout()\n",
    "plt.show()"
   ]
  },
  {
   "cell_type": "markdown",
   "metadata": {},
   "source": [
    "There are 18 repeat regions, but there are also no duplicated rows which suggests that those ids have multiple wells. So dropping them would not be an advantageous action.\n",
    "\n",
    "Region 1 has an interesting issue with the Product column. There are only 12 unique values. That means, for the 100,000 rows, there are only 12 different values that are simply repeated over and over throughout the data set. Any predictive effort is going to easily find a trend and be able to draw a clean line to predict the values."
   ]
  },
  {
   "cell_type": "markdown",
   "metadata": {},
   "source": [
    "Preprocessing: All three dataframes contain 100,000 observations with 5 columns. There are no missing values in any of the dataframes. None of the rows are duplicated.\n",
    "In the project description, each of the columns (f0,f1,f2) are significant for the outcomes of this work. The Product column is referencing the volume of oil in thousands of barrels that the wells have in reserve.\n",
    "Since the id column is not going to help with building the linear regression model, I will drop that feature.\n"
   ]
  },
  {
   "cell_type": "markdown",
   "metadata": {},
   "source": [
    "**Part 2:**\n",
    "\n",
    "Train and test the model for each region:\n",
    "\n",
    " 2.1. Split the data into a training set and validation set at a ratio of 75:25.\n",
    "\n",
    " 2.2. Train the model and make predictions for the validation set.\n",
    "\n",
    " 2.3. Save the predictions and correct answers for the validation set.\n",
    "\n",
    " 2.4. Print the average volume of predicted reserves and model RMSE.\n",
    "\n",
    " 2.5. Analyze the results."
   ]
  },
  {
   "cell_type": "code",
   "execution_count": null,
   "metadata": {},
   "outputs": [],
   "source": [
    "#split the 3 regions into training and test sets. Use a function to decrease repetative work.\n",
    "def train_and_test_model(data):\n",
    "    # Define target and features for the data\n",
    "    target = data['product']\n",
    "    features = data.drop(['product'], axis=1)\n",
    "    \n",
    "    # Split the data into training and validation sets\n",
    "    features_train, features_valid, target_train, target_valid = train_test_split(\n",
    "        features, target, test_size=0.25, random_state=8420)\n",
    "    \n",
    "    # Scale features\n",
    "    scaler = StandardScaler()\n",
    "    scaler.fit(features_train)\n",
    "    features_train = scaler.transform(features_train)\n",
    "    features_valid = scaler.transform(features_valid)\n",
    "    \n",
    "    # Train a linear regression model\n",
    "    model = LinearRegression()\n",
    "    model.fit(features_train, target_train)\n",
    "    \n",
    "    # Make predictions and save it to a variable\n",
    "    predictions = model.predict(features_valid)\n",
    "    \n",
    "    # Save predictions and correct answers into a new dataframe\n",
    "    df = pd.DataFrame({'predictions': predictions, 'correct': target_valid})\n",
    "    \n",
    "    # Average volume of reserves, predicted\n",
    "    avg_predicted = df['predictions'].mean()\n",
    "    avg_actual = df['correct'].mean()\n",
    "    \n",
    "    # Calculate Mean Squared Error\n",
    "    mse = mean_squared_error(df['correct'], df['predictions'])\n",
    "    rmse = mse**0.5\n",
    "    \n",
    "    # Print results\n",
    "    print(f'Average volume of actual reserves: {avg_actual:.3f}')\n",
    "    print(f'Average volume of predicted reserves: {avg_predicted:.3f}')\n",
    "    print(f'RMSE: {rmse:.3f}')\n",
    "    \n",
    "    return df\n"
   ]
  },
  {
   "cell_type": "code",
   "execution_count": null,
   "metadata": {
    "scrolled": true
   },
   "outputs": [
    {
     "name": "stdout",
     "output_type": "stream",
     "text": [
      "Region0:\n",
      "Average volume of actual reserves: 92.271\n",
      "Average volume of predicted reserves: 92.806\n",
      "RMSE: 37.616\n",
      "\n",
      "Region1:\n",
      "Average volume of actual reserves: 69.314\n",
      "Average volume of predicted reserves: 69.310\n",
      "RMSE: 0.893\n",
      "\n",
      "Region2:\n",
      "Average volume of actual reserves: 95.452\n",
      "Average volume of predicted reserves: 95.026\n",
      "RMSE: 40.334\n"
     ]
    }
   ],
   "source": [
    "#Apply Function to each region\n",
    "print('Region0:')\n",
    "region0_LR = train_and_test_model(region0)\n",
    "print()\n",
    "print('Region1:')\n",
    "region1_LR = train_and_test_model(region1)\n",
    "print()\n",
    "print('Region2:')\n",
    "region2_LR = train_and_test_model(region2)"
   ]
  },
  {
   "cell_type": "code",
   "execution_count": null,
   "metadata": {},
   "outputs": [
    {
     "data": {
      "text/html": [
       "<div>\n",
       "<style scoped>\n",
       "    .dataframe tbody tr th:only-of-type {\n",
       "        vertical-align: middle;\n",
       "    }\n",
       "\n",
       "    .dataframe tbody tr th {\n",
       "        vertical-align: top;\n",
       "    }\n",
       "\n",
       "    .dataframe thead th {\n",
       "        text-align: right;\n",
       "    }\n",
       "</style>\n",
       "<table border=\"1\" class=\"dataframe\">\n",
       "  <thead>\n",
       "    <tr style=\"text-align: right;\">\n",
       "      <th></th>\n",
       "      <th>predictions</th>\n",
       "      <th>correct</th>\n",
       "    </tr>\n",
       "  </thead>\n",
       "  <tbody>\n",
       "    <tr>\n",
       "      <th>31461</th>\n",
       "      <td>66.683833</td>\n",
       "      <td>53.781070</td>\n",
       "    </tr>\n",
       "    <tr>\n",
       "      <th>33619</th>\n",
       "      <td>105.431360</td>\n",
       "      <td>125.576979</td>\n",
       "    </tr>\n",
       "    <tr>\n",
       "      <th>50702</th>\n",
       "      <td>141.490063</td>\n",
       "      <td>143.779925</td>\n",
       "    </tr>\n",
       "    <tr>\n",
       "      <th>82827</th>\n",
       "      <td>71.086538</td>\n",
       "      <td>57.324852</td>\n",
       "    </tr>\n",
       "    <tr>\n",
       "      <th>9468</th>\n",
       "      <td>80.424262</td>\n",
       "      <td>51.806039</td>\n",
       "    </tr>\n",
       "  </tbody>\n",
       "</table>\n",
       "</div>"
      ],
      "text/plain": [
       "       predictions     correct\n",
       "31461    66.683833   53.781070\n",
       "33619   105.431360  125.576979\n",
       "50702   141.490063  143.779925\n",
       "82827    71.086538   57.324852\n",
       "9468     80.424262   51.806039"
      ]
     },
     "metadata": {},
     "output_type": "display_data"
    }
   ],
   "source": [
    "display(region0_LR.head())"
   ]
  },
  {
   "cell_type": "markdown",
   "metadata": {},
   "source": [
    "**Model Findings:**\n",
    "At a preliminary look at the model, Region 0 and Region 2 both have significantly more oil held in reserve than Region 1. Region 1 has only 69 thousand barrels on average per well, but with such a low RMSE value the model is predicting values exceptionally close to the actual values. As previously stated this was to be expected since there are only 12 unique values in the \"product\" column for Region 1. The model does not predict quite as well for regions 0 and 2 with their RMSE values at 37 and 40 respectively."
   ]
  },
  {
   "cell_type": "markdown",
   "metadata": {},
   "source": [
    "**Part 3:**\n",
    "\n",
    "Prepare for profit calculation:\n",
    "\n",
    " 3.1. Store all key values for calculations in separate variables.\n",
    "\n",
    " 3.2. Calculate the volume of reserves sufficient for developing a new well without losses. Compare the obtained value with the average volume of reserves in each region.\n",
    "\n",
    " 3.3. Provide the findings about the preparation for profit calculation step."
   ]
  },
  {
   "cell_type": "markdown",
   "metadata": {},
   "source": [
    "Conditions:\n",
    "\n",
    "-When exploring the region, a study of 500 points is carried with picking the best 200 points for the profit calculation.\n",
    "\n",
    "-The budget for development of 200 oil wells is 100 USD million.\n",
    "\n",
    "-One barrel of raw materials brings 4.5 USD of revenue The revenue from one unit of product is 4,500 dollars (volume of reserves is in thousand barrels).\n",
    "\n",
    "-After the risk evaluation, keep only the regions with the risk of losses lower than 2.5%. From the ones that fit the criteria, the region with the highest average profit should be selected."
   ]
  },
  {
   "cell_type": "code",
   "execution_count": null,
   "metadata": {},
   "outputs": [],
   "source": [
    "#3.1 Store all key values for calculations in separate variables.\n",
    "#create variables for profit calculations\n",
    "BUDGET = 100_000_000 #USD for 200 oil wells\n",
    "BARREL = 4.5 #USD per barrel\n",
    "PRODUCT_VALUE = BARREL*1_000 #each unit of the product column is 1000 barrels\n",
    "NUMBER_OF_WELLS = 200 #number of wells we want to develop\n",
    "RISK_VALUE = .025 #percent that fit the overall goal"
   ]
  },
  {
   "cell_type": "code",
   "execution_count": null,
   "metadata": {},
   "outputs": [
    {
     "name": "stdout",
     "output_type": "stream",
     "text": [
      "Minimum quantity of oil in reserve to be considered: 111.1 thousand barrels\n"
     ]
    }
   ],
   "source": [
    "#3.2.1 Calculate the volume of reserves sufficient for developing a new well without losses. \n",
    "#calculate the minumum amount of oil in reserve to be considered\n",
    "min_oil_reserve = BUDGET/PRODUCT_VALUE/NUMBER_OF_WELLS\n",
    "print(f'Minimum quantity of oil in reserve to be considered: {min_oil_reserve:.1f} thousand barrels')"
   ]
  },
  {
   "cell_type": "code",
   "execution_count": null,
   "metadata": {},
   "outputs": [
    {
     "name": "stdout",
     "output_type": "stream",
     "text": [
      "Region 0 average product: 92.5\n",
      "\n",
      "Region 1 average product: 68.8\n",
      "\n",
      "Region 2 average product: 95.0\n"
     ]
    }
   ],
   "source": [
    "#3.2.2 Compare the obtained value with the average volume of reserves in each region.\n",
    "#Calculate the average volume in each region\n",
    "def average_product(region):\n",
    "    region_avg = region['product'].mean()\n",
    "    return(f'average product: {region_avg:.1f}')\n",
    "\n",
    "print('Region 0', average_product(region0))\n",
    "print()\n",
    "print('Region 1', average_product(region1))\n",
    "print()\n",
    "print('Region 2', average_product(region2))"
   ]
  },
  {
   "cell_type": "markdown",
   "metadata": {},
   "source": [
    "**Profit Calculation Prepartion Findings:**\n",
    "Region 2 has the highest average volume of oil coming in at 95 thousand barrels, and Region 0 was close behind with 92.5 thousand. Region 1 struggled the most with only 68.8 thousand barrels. The average amount of available oil in each region is well below the 111 thousand barrel threshhold found earlier. However, since we will only be looking to drill 200 new wells, I will look at the top 200 wells in each region for further exploration."
   ]
  },
  {
   "cell_type": "markdown",
   "metadata": {},
   "source": [
    "**Part 4:**\n",
    "\n",
    "Write a function to calculate profit from a set of selected oil wells and model predictions:\n",
    "\n",
    " 4.1. Pick the wells with the highest values of predictions. \n",
    "\n",
    " 4.2. Summarize the target volume of reserves in accordance with these predictions\n",
    "\n",
    " 4.3. Provide findings: suggest a region for oil wells' development and justify the choice. Calculate the profit for the obtained volume of reserves."
   ]
  },
  {
   "cell_type": "code",
   "execution_count": null,
   "metadata": {},
   "outputs": [
    {
     "name": "stdout",
     "output_type": "stream",
     "text": [
      "Region 0 top 200 wells average: 155.4 thousand barrels in reserve\n",
      "\n",
      "Region 1 top 200 wells average: 138.8 thousand barrels in reserve\n",
      "\n",
      "Region 2 top 200 wells average: 148.5 thousand barrels in reserve\n"
     ]
    }
   ],
   "source": [
    "#Find the top 200 wells for each region\n",
    "top_200_0 = region0_LR.sort_values('predictions', ascending=False).head(200)\n",
    "top_200_1 = region1_LR.sort_values('predictions', ascending=False).head(200)\n",
    "top_200_2 = region2_LR.sort_values('predictions', ascending=False).head(200)\n",
    "\n",
    "#Find the average product value for each region in the top 200 lists\n",
    "top_200_0_avg = top_200_0['predictions'].mean()\n",
    "top_200_1_avg = top_200_1['predictions'].mean()\n",
    "top_200_2_avg = top_200_2['predictions'].mean()\n",
    "\n",
    "#print results\n",
    "print(f'Region 0 top 200 wells average: {top_200_0_avg:.1f} thousand barrels in reserve')\n",
    "print()\n",
    "print(f'Region 1 top 200 wells average: {top_200_1_avg:.1f} thousand barrels in reserve')\n",
    "print()\n",
    "print(f'Region 2 top 200 wells average: {top_200_2_avg:.1f} thousand barrels in reserve')\n"
   ]
  },
  {
   "cell_type": "code",
   "execution_count": null,
   "metadata": {},
   "outputs": [
    {
     "name": "stdout",
     "output_type": "stream",
     "text": [
      "Region 0 range: 147.9868788399923 - 195.4484210674879\n",
      "Region 1 range: 138.41125840728233 - 139.85251859875626\n",
      "Region 2 range: 142.4017077624181 - 174.1437193720216\n"
     ]
    }
   ],
   "source": [
    "#Regional ranges of product for the top 200 wells\n",
    "\n",
    "#Region 0 \n",
    "region0_min = top_200_0['predictions'].min()\n",
    "region0_max = top_200_0['predictions'].max()\n",
    "print(f'Region 0 range: {region0_min} - {region0_max}')\n",
    "\n",
    "#Region 1\n",
    "region1_min = top_200_1['predictions'].min()\n",
    "region1_max = top_200_1['predictions'].max()\n",
    "print(f'Region 1 range: {region1_min} - {region1_max}')\n",
    "\n",
    "#Region 2\n",
    "region2_min = top_200_2['predictions'].min()\n",
    "region2_max = top_200_2['predictions'].max()\n",
    "print(f'Region 2 range: {region2_min} - {region2_max}')"
   ]
  },
  {
   "cell_type": "code",
   "execution_count": null,
   "metadata": {},
   "outputs": [
    {
     "name": "stdout",
     "output_type": "stream",
     "text": [
      "Region 0 profit: $32279065.69\n",
      "\n",
      "Region 1 profit: $24150866.97\n",
      "\n",
      "Region 2 profit: $24332367.89\n",
      "\n"
     ]
    }
   ],
   "source": [
    "def profit_calc(data):\n",
    "    # Select top 200 wells by predicted values\n",
    "    top_wells = data.sort_values('predictions', ascending=False).head(200)\n",
    "    \n",
    "    # Use actual target values ('product') for revenue calculation\n",
    "    total_revenue = top_wells['correct'].sum() * PRODUCT_VALUE\n",
    "    \n",
    "    # Calculate profit\n",
    "    profit = total_revenue - BUDGET\n",
    "    return profit\n",
    "\n",
    "# Use a for loop to write the print statements and call the function\n",
    "for i, region in enumerate([top_200_0, top_200_1, top_200_2]):\n",
    "    print(f'Region {i} profit: ${profit_calc(region):.2f}')\n",
    "    print()\n",
    "    \n",
    "region0_profit = profit_calc(top_200_0)\n",
    "region1_profit = profit_calc(top_200_1)\n",
    "region2_profit = profit_calc(top_200_2)"
   ]
  },
  {
   "cell_type": "markdown",
   "metadata": {},
   "source": [
    "**Calculated Profit Findings:**\n",
    "Region 0 boasts the highest profit margin of the 3 regions with a total profit of $32,279,065. Region 2 came in second place with a margin of 24,332,367. And finally, Region 1 fell short of the other two regions with a margin of 24,150,866. Any of the three regions would be a profitable venture for Oily Giant. However, they will most benefit by investing their resources in Region 0."
   ]
  },
  {
   "cell_type": "markdown",
   "metadata": {},
   "source": [
    "**Part 5:**\n",
    "\n",
    "Calculate risks and profit for each region:\n",
    "\n",
    "5.1. Use the bootstrapping technique with 1000 samples to find the distribution of profit.\n",
    "\n",
    "5.2. Find average profit, 95% confidence interval and risk of losses. Loss is negative profit, calculate it as a probability and then express as a percentage.\n",
    "\n",
    "5.3. Provide findings: suggest a region for development of oil wells and justify the choice."
   ]
  },
  {
   "cell_type": "code",
   "execution_count": null,
   "metadata": {},
   "outputs": [],
   "source": [
    "state = np.random.RandomState(8420)\n",
    "def bootstrap(predictions, n_samples=1000, n_wells=500):\n",
    "    values = []\n",
    "    for _ in range(n_samples):\n",
    "        # Sample 500 wells with replacement\n",
    "        sample = predictions.sample(n=n_wells, replace=True, random_state=state)\n",
    "        # Calculate profit based on sampled wells\n",
    "        values.append(profit_calc(sample))\n",
    "    return pd.Series(values)\n",
    "\n",
    "prof_dist_r0 = bootstrap(region0_LR)\n",
    "prof_dist_r1 = bootstrap(region1_LR)\n",
    "prof_dist_r2 = bootstrap(region2_LR)"
   ]
  },
  {
   "cell_type": "code",
   "execution_count": null,
   "metadata": {},
   "outputs": [
    {
     "name": "stdout",
     "output_type": "stream",
     "text": [
      "Region 0:\n",
      "Average profit: $4240507.96\n",
      "95% Confidence Interval: $-1149001.25 to $9103608.29\n",
      "Risk of losses: 8.3%\n",
      "\n",
      "Region 1:\n",
      "Average profit: $5148638.18\n",
      "95% Confidence Interval: $1274374.78 to $9101617.34\n",
      "Risk of losses: 0.9%\n",
      "\n",
      "Region 2:\n",
      "Average profit: $4208793.76\n",
      "95% Confidence Interval: $-946686.19 to $8977214.89\n",
      "Risk of losses: 9.2%\n",
      "\n"
     ]
    }
   ],
   "source": [
    "#Write a loop to show evaluate each region's profitability, confidence interval, and risk %\n",
    "counter = 0\n",
    "for region in [prof_dist_r0, prof_dist_r1, prof_dist_r2]:\n",
    "    risk = 0 #risk equals the \n",
    "    for value in region:\n",
    "        if value < (min_oil_reserve * PRODUCT_VALUE):\n",
    "            risk += 1\n",
    "    risk /= len(region)\n",
    "\n",
    "    #calculate the mean, upper, and lower \n",
    "    mean = np.mean(region)\n",
    "    lower= np.percentile(region, 2.5) #the goal is 95% so I'm taking 2.5% off the bottom\n",
    "    upper = np.percentile(region, 97.5) #I'm also taking 2.5% off the top\n",
    "   \n",
    "    #Print Statements for the findings from this section\n",
    "    print(f'Region {counter}:')\n",
    "    print(f'Average profit: ${mean:.2f}')\n",
    "    print(f'95% Confidence Interval: ${lower:.2f} to ${upper:.2f}')\n",
    "    print(f'Risk of losses: {risk:.1%}')\n",
    "    print()\n",
    "    counter+=1"
   ]
  },
  {
   "cell_type": "markdown",
   "metadata": {},
   "source": [
    "**Conclusion**\n",
    "\n",
    "Overview of project: Oily Giant has the option to pick between 3 different regions for their next investment. They plan to take $100,000,000 dollars and drill 200 wells in the region that has the highest profit with a risk of loss below 2.5%.\n",
    "\n",
    "It was my task to evaluate the data sets from each of the three regions. Then to take the information and build a predictive model that would help with discovering which region would be the best investment for Oily Giant. Each dataset has 100,000 observations with no fully duplicated rows. The target column, \"product\", contained the quantity of oil held in reserve at each location in that region.  \n",
    "\n",
    "In order to do this I built a function to build a Linear Regression model from which I developed predictions about the amount of oil in reserve in each region. I then used profit calculations based on the best 200 observations and their predictions to get an quality guess as to which region would provide the best investment opportunity for Oily Giant. \n",
    "\n",
    "Findings:\n",
    "\n",
    "All three regions have the potential for signifcant profit. \n",
    "\n",
    "Region 0 profit margin: $4,240,507.96 \n",
    "\n",
    "Region 1 profit margin: $5,148,638.18\n",
    "\n",
    "Region 2 profit margin: $4,208,793.76\n",
    "\n",
    "Since all three have the potential to be profitable, any of the three could produce a significant return for Oily Giant. When we consider the risk potential however, only Region 1 has viability for the company. I found that the risk level for region 1 was the only region below the 2.5% threshold coming in at .9%. Region 0 had a risk value of 8.3% and Region 2 came in at 9.2%, As a result, I recommend that Oily Giant develop the new 200 wells in Region 1 because it has the highest average profit of the three regions."
   ]
  }
 ],
 "metadata": {
  "ExecuteTimeLog": [
   {
    "duration": 809,
    "start_time": "2024-11-29T16:48:29.319Z"
   },
   {
    "duration": 214,
    "start_time": "2024-11-29T16:49:53.276Z"
   },
   {
    "duration": 371,
    "start_time": "2024-11-29T16:49:54.816Z"
   },
   {
    "duration": 104,
    "start_time": "2024-11-29T16:51:22.059Z"
   },
   {
    "duration": 11,
    "start_time": "2024-11-29T16:51:23.648Z"
   },
   {
    "duration": 305,
    "start_time": "2024-11-29T16:52:29.561Z"
   },
   {
    "duration": 7,
    "start_time": "2024-11-29T16:53:12.342Z"
   },
   {
    "duration": 8,
    "start_time": "2024-11-29T16:53:15.413Z"
   },
   {
    "duration": 20,
    "start_time": "2024-11-29T16:53:37.249Z"
   },
   {
    "duration": 7,
    "start_time": "2024-11-29T16:53:44.314Z"
   },
   {
    "duration": 8,
    "start_time": "2024-11-29T16:54:13.786Z"
   },
   {
    "duration": 8,
    "start_time": "2024-11-29T16:54:18.813Z"
   },
   {
    "duration": 10,
    "start_time": "2024-11-29T17:02:20.395Z"
   },
   {
    "duration": 11,
    "start_time": "2024-11-29T17:02:36.672Z"
   },
   {
    "duration": 13,
    "start_time": "2024-11-29T17:02:46.811Z"
   },
   {
    "duration": 3,
    "start_time": "2024-11-29T17:28:35.876Z"
   },
   {
    "duration": 29,
    "start_time": "2024-11-29T17:47:05.961Z"
   },
   {
    "duration": 28,
    "start_time": "2024-11-29T17:47:24.179Z"
   },
   {
    "duration": 78,
    "start_time": "2024-11-29T17:49:09.498Z"
   },
   {
    "duration": 721,
    "start_time": "2024-11-29T17:56:22.711Z"
   },
   {
    "duration": 11,
    "start_time": "2024-11-29T17:56:47.784Z"
   },
   {
    "duration": 20,
    "start_time": "2024-11-29T17:56:58.126Z"
   },
   {
    "duration": 21,
    "start_time": "2024-11-29T17:57:04.377Z"
   },
   {
    "duration": 20,
    "start_time": "2024-11-29T17:57:08.371Z"
   },
   {
    "duration": 21,
    "start_time": "2024-11-29T17:57:19.432Z"
   },
   {
    "duration": 23,
    "start_time": "2024-11-29T17:57:27.721Z"
   },
   {
    "duration": 39,
    "start_time": "2024-11-29T17:58:11.651Z"
   },
   {
    "duration": 4,
    "start_time": "2024-11-29T18:05:49.002Z"
   },
   {
    "duration": 596,
    "start_time": "2024-11-29T18:06:10.168Z"
   },
   {
    "duration": 726,
    "start_time": "2024-11-29T18:06:20.798Z"
   },
   {
    "duration": 217,
    "start_time": "2024-11-29T18:06:21.526Z"
   },
   {
    "duration": 13,
    "start_time": "2024-11-29T18:06:21.744Z"
   },
   {
    "duration": 11,
    "start_time": "2024-11-29T18:06:21.758Z"
   },
   {
    "duration": 7,
    "start_time": "2024-11-29T18:06:21.771Z"
   },
   {
    "duration": 34,
    "start_time": "2024-11-29T18:06:21.780Z"
   },
   {
    "duration": 7,
    "start_time": "2024-11-29T18:06:21.816Z"
   },
   {
    "duration": 11,
    "start_time": "2024-11-29T18:06:21.824Z"
   },
   {
    "duration": 108,
    "start_time": "2024-11-29T18:06:21.837Z"
   },
   {
    "duration": 39,
    "start_time": "2024-11-29T18:06:21.946Z"
   },
   {
    "duration": 25,
    "start_time": "2024-11-29T18:06:21.987Z"
   },
   {
    "duration": 233,
    "start_time": "2024-11-29T19:39:28.918Z"
   },
   {
    "duration": 24,
    "start_time": "2024-11-29T19:39:36.604Z"
   },
   {
    "duration": 28,
    "start_time": "2024-11-29T19:53:10.066Z"
   },
   {
    "duration": 780,
    "start_time": "2024-11-29T19:53:16.545Z"
   },
   {
    "duration": 218,
    "start_time": "2024-11-29T19:53:17.327Z"
   },
   {
    "duration": 12,
    "start_time": "2024-11-29T19:53:17.547Z"
   },
   {
    "duration": 12,
    "start_time": "2024-11-29T19:53:17.560Z"
   },
   {
    "duration": 7,
    "start_time": "2024-11-29T19:53:17.574Z"
   },
   {
    "duration": 30,
    "start_time": "2024-11-29T19:53:17.583Z"
   },
   {
    "duration": 8,
    "start_time": "2024-11-29T19:53:17.614Z"
   },
   {
    "duration": 10,
    "start_time": "2024-11-29T19:53:17.623Z"
   },
   {
    "duration": 100,
    "start_time": "2024-11-29T19:53:17.635Z"
   },
   {
    "duration": 40,
    "start_time": "2024-11-29T19:53:17.737Z"
   },
   {
    "duration": 13,
    "start_time": "2024-11-29T19:53:17.778Z"
   },
   {
    "duration": 31,
    "start_time": "2024-11-29T19:53:17.811Z"
   },
   {
    "duration": 363,
    "start_time": "2024-11-29T19:53:17.843Z"
   },
   {
    "duration": 27,
    "start_time": "2024-11-29T19:54:24.406Z"
   },
   {
    "duration": 10,
    "start_time": "2024-11-29T19:54:54.513Z"
   },
   {
    "duration": 13,
    "start_time": "2024-11-29T19:58:21.214Z"
   },
   {
    "duration": 11,
    "start_time": "2024-11-29T19:59:22.067Z"
   },
   {
    "duration": 15,
    "start_time": "2024-11-29T20:01:28.125Z"
   },
   {
    "duration": 782,
    "start_time": "2024-11-29T20:01:40.829Z"
   },
   {
    "duration": 218,
    "start_time": "2024-11-29T20:01:41.613Z"
   },
   {
    "duration": 13,
    "start_time": "2024-11-29T20:01:41.832Z"
   },
   {
    "duration": 13,
    "start_time": "2024-11-29T20:01:41.847Z"
   },
   {
    "duration": 7,
    "start_time": "2024-11-29T20:01:41.863Z"
   },
   {
    "duration": 12,
    "start_time": "2024-11-29T20:01:41.872Z"
   },
   {
    "duration": 33,
    "start_time": "2024-11-29T20:01:41.885Z"
   },
   {
    "duration": 11,
    "start_time": "2024-11-29T20:01:41.920Z"
   },
   {
    "duration": 107,
    "start_time": "2024-11-29T20:01:41.933Z"
   },
   {
    "duration": 43,
    "start_time": "2024-11-29T20:01:42.042Z"
   },
   {
    "duration": 30,
    "start_time": "2024-11-29T20:01:42.087Z"
   },
   {
    "duration": 31,
    "start_time": "2024-11-29T20:01:42.119Z"
   },
   {
    "duration": 13,
    "start_time": "2024-11-29T20:01:42.151Z"
   },
   {
    "duration": 60,
    "start_time": "2024-11-29T20:01:42.166Z"
   },
   {
    "duration": 87,
    "start_time": "2024-11-29T20:01:42.227Z"
   },
   {
    "duration": 12,
    "start_time": "2024-11-29T20:02:55.167Z"
   },
   {
    "duration": 10,
    "start_time": "2024-11-29T20:03:24.975Z"
   },
   {
    "duration": 11,
    "start_time": "2024-11-29T20:04:28.246Z"
   },
   {
    "duration": 11,
    "start_time": "2024-11-29T20:05:26.301Z"
   },
   {
    "duration": 11,
    "start_time": "2024-11-29T20:06:13.918Z"
   },
   {
    "duration": 11,
    "start_time": "2024-11-29T20:20:47.084Z"
   },
   {
    "duration": 11,
    "start_time": "2024-11-29T20:21:45.763Z"
   },
   {
    "duration": 762,
    "start_time": "2024-11-30T00:33:30.320Z"
   },
   {
    "duration": 301,
    "start_time": "2024-11-30T00:33:31.084Z"
   },
   {
    "duration": 12,
    "start_time": "2024-11-30T00:33:31.388Z"
   },
   {
    "duration": 11,
    "start_time": "2024-11-30T00:33:31.402Z"
   },
   {
    "duration": 7,
    "start_time": "2024-11-30T00:33:31.414Z"
   },
   {
    "duration": 11,
    "start_time": "2024-11-30T00:33:31.423Z"
   },
   {
    "duration": 36,
    "start_time": "2024-11-30T00:33:31.436Z"
   },
   {
    "duration": 11,
    "start_time": "2024-11-30T00:33:31.473Z"
   },
   {
    "duration": 96,
    "start_time": "2024-11-30T00:33:31.485Z"
   },
   {
    "duration": 39,
    "start_time": "2024-11-30T00:33:31.584Z"
   },
   {
    "duration": 14,
    "start_time": "2024-11-30T00:33:31.624Z"
   },
   {
    "duration": 51,
    "start_time": "2024-11-30T00:33:31.639Z"
   },
   {
    "duration": 15,
    "start_time": "2024-11-30T00:33:31.691Z"
   },
   {
    "duration": 65,
    "start_time": "2024-11-30T00:33:31.708Z"
   },
   {
    "duration": 12,
    "start_time": "2024-11-30T00:33:31.776Z"
   },
   {
    "duration": 11,
    "start_time": "2024-11-30T00:39:37.494Z"
   },
   {
    "duration": 3,
    "start_time": "2024-11-30T00:45:56.458Z"
   },
   {
    "duration": 4,
    "start_time": "2024-11-30T00:46:26.022Z"
   },
   {
    "duration": 5,
    "start_time": "2024-11-30T00:46:59.974Z"
   },
   {
    "duration": 4,
    "start_time": "2024-11-30T00:47:46.888Z"
   },
   {
    "duration": 4,
    "start_time": "2024-11-30T00:47:52.972Z"
   },
   {
    "duration": 5,
    "start_time": "2024-11-30T00:47:58.962Z"
   },
   {
    "duration": 13,
    "start_time": "2024-11-30T01:05:58.889Z"
   },
   {
    "duration": 5,
    "start_time": "2024-11-30T01:10:26.144Z"
   },
   {
    "duration": 4,
    "start_time": "2024-11-30T01:11:21.799Z"
   },
   {
    "duration": 2,
    "start_time": "2024-11-30T01:12:59.638Z"
   },
   {
    "duration": 211,
    "start_time": "2024-11-30T01:15:49.176Z"
   },
   {
    "duration": 7,
    "start_time": "2024-11-30T01:15:50.858Z"
   },
   {
    "duration": 8,
    "start_time": "2024-11-30T01:15:53.245Z"
   },
   {
    "duration": 10,
    "start_time": "2024-11-30T01:15:54.648Z"
   },
   {
    "duration": 782,
    "start_time": "2024-11-30T01:16:07.270Z"
   },
   {
    "duration": 222,
    "start_time": "2024-11-30T01:16:08.054Z"
   },
   {
    "duration": 13,
    "start_time": "2024-11-30T01:16:08.278Z"
   },
   {
    "duration": 12,
    "start_time": "2024-11-30T01:16:08.292Z"
   },
   {
    "duration": 4,
    "start_time": "2024-11-30T01:16:08.306Z"
   },
   {
    "duration": 7,
    "start_time": "2024-11-30T01:16:08.312Z"
   },
   {
    "duration": 10,
    "start_time": "2024-11-30T01:16:08.321Z"
   },
   {
    "duration": 3,
    "start_time": "2024-11-30T01:16:08.333Z"
   },
   {
    "duration": 8,
    "start_time": "2024-11-30T01:16:08.369Z"
   },
   {
    "duration": 11,
    "start_time": "2024-11-30T01:16:08.379Z"
   },
   {
    "duration": 4,
    "start_time": "2024-11-30T01:16:08.392Z"
   },
   {
    "duration": 111,
    "start_time": "2024-11-30T01:16:08.397Z"
   },
   {
    "duration": 42,
    "start_time": "2024-11-30T01:16:08.509Z"
   },
   {
    "duration": 13,
    "start_time": "2024-11-30T01:16:08.571Z"
   },
   {
    "duration": 30,
    "start_time": "2024-11-30T01:16:08.586Z"
   },
   {
    "duration": 52,
    "start_time": "2024-11-30T01:16:08.618Z"
   },
   {
    "duration": 5,
    "start_time": "2024-11-30T01:16:08.673Z"
   },
   {
    "duration": 11,
    "start_time": "2024-11-30T01:16:08.679Z"
   },
   {
    "duration": 83,
    "start_time": "2024-11-30T01:16:08.691Z"
   },
   {
    "duration": 7,
    "start_time": "2024-11-30T01:16:08.775Z"
   },
   {
    "duration": 93,
    "start_time": "2024-11-30T01:16:08.784Z"
   },
   {
    "duration": 13,
    "start_time": "2024-11-30T01:17:56.755Z"
   },
   {
    "duration": 11,
    "start_time": "2024-11-30T01:18:11.198Z"
   },
   {
    "duration": 11,
    "start_time": "2024-11-30T01:20:35.699Z"
   },
   {
    "duration": 4,
    "start_time": "2024-11-30T01:20:47.136Z"
   },
   {
    "duration": 11,
    "start_time": "2024-11-30T01:21:32.235Z"
   },
   {
    "duration": 3,
    "start_time": "2024-11-30T01:21:37.451Z"
   },
   {
    "duration": 3,
    "start_time": "2024-11-30T01:26:06.088Z"
   },
   {
    "duration": 763,
    "start_time": "2024-11-30T14:08:48.110Z"
   },
   {
    "duration": 309,
    "start_time": "2024-11-30T14:08:48.875Z"
   },
   {
    "duration": 13,
    "start_time": "2024-11-30T14:08:49.185Z"
   },
   {
    "duration": 11,
    "start_time": "2024-11-30T14:08:49.200Z"
   },
   {
    "duration": 4,
    "start_time": "2024-11-30T14:08:49.213Z"
   },
   {
    "duration": 25,
    "start_time": "2024-11-30T14:08:49.219Z"
   },
   {
    "duration": 11,
    "start_time": "2024-11-30T14:08:49.246Z"
   },
   {
    "duration": 5,
    "start_time": "2024-11-30T14:08:49.258Z"
   },
   {
    "duration": 7,
    "start_time": "2024-11-30T14:08:49.265Z"
   },
   {
    "duration": 11,
    "start_time": "2024-11-30T14:08:49.275Z"
   },
   {
    "duration": 4,
    "start_time": "2024-11-30T14:08:49.288Z"
   },
   {
    "duration": 127,
    "start_time": "2024-11-30T14:08:49.294Z"
   },
   {
    "duration": 49,
    "start_time": "2024-11-30T14:08:49.422Z"
   },
   {
    "duration": 13,
    "start_time": "2024-11-30T14:08:49.473Z"
   },
   {
    "duration": 29,
    "start_time": "2024-11-30T14:08:49.488Z"
   },
   {
    "duration": 32,
    "start_time": "2024-11-30T14:08:49.519Z"
   },
   {
    "duration": 8,
    "start_time": "2024-11-30T14:08:49.552Z"
   },
   {
    "duration": 5,
    "start_time": "2024-11-30T14:08:49.561Z"
   },
   {
    "duration": 13,
    "start_time": "2024-11-30T14:08:49.642Z"
   },
   {
    "duration": 6,
    "start_time": "2024-11-30T14:08:49.657Z"
   },
   {
    "duration": 79,
    "start_time": "2024-11-30T14:08:49.664Z"
   },
   {
    "duration": 3,
    "start_time": "2024-11-30T14:08:49.744Z"
   },
   {
    "duration": 12,
    "start_time": "2024-11-30T14:08:49.749Z"
   },
   {
    "duration": 799,
    "start_time": "2024-11-30T14:38:15.951Z"
   },
   {
    "duration": 223,
    "start_time": "2024-11-30T14:38:16.752Z"
   },
   {
    "duration": 13,
    "start_time": "2024-11-30T14:38:16.977Z"
   },
   {
    "duration": 12,
    "start_time": "2024-11-30T14:38:16.992Z"
   },
   {
    "duration": 4,
    "start_time": "2024-11-30T14:38:17.005Z"
   },
   {
    "duration": 32,
    "start_time": "2024-11-30T14:38:17.011Z"
   },
   {
    "duration": 10,
    "start_time": "2024-11-30T14:38:17.044Z"
   },
   {
    "duration": 4,
    "start_time": "2024-11-30T14:38:17.056Z"
   },
   {
    "duration": 7,
    "start_time": "2024-11-30T14:38:17.062Z"
   },
   {
    "duration": 11,
    "start_time": "2024-11-30T14:38:17.073Z"
   },
   {
    "duration": 4,
    "start_time": "2024-11-30T14:38:17.086Z"
   },
   {
    "duration": 121,
    "start_time": "2024-11-30T14:38:17.091Z"
   },
   {
    "duration": 48,
    "start_time": "2024-11-30T14:38:17.214Z"
   },
   {
    "duration": 13,
    "start_time": "2024-11-30T14:38:17.264Z"
   },
   {
    "duration": 29,
    "start_time": "2024-11-30T14:38:17.279Z"
   },
   {
    "duration": 35,
    "start_time": "2024-11-30T14:38:17.310Z"
   },
   {
    "duration": 5,
    "start_time": "2024-11-30T14:38:17.346Z"
   },
   {
    "duration": 4,
    "start_time": "2024-11-30T14:38:17.352Z"
   },
   {
    "duration": 94,
    "start_time": "2024-11-30T14:38:17.357Z"
   },
   {
    "duration": 7,
    "start_time": "2024-11-30T14:38:17.454Z"
   },
   {
    "duration": 14,
    "start_time": "2024-11-30T14:38:17.464Z"
   },
   {
    "duration": 3,
    "start_time": "2024-11-30T14:38:17.543Z"
   },
   {
    "duration": 11,
    "start_time": "2024-11-30T14:38:17.548Z"
   },
   {
    "duration": 768,
    "start_time": "2024-11-30T14:40:45.763Z"
   },
   {
    "duration": 46,
    "start_time": "2024-11-30T14:42:26.687Z"
   },
   {
    "duration": 44,
    "start_time": "2024-11-30T14:42:52.186Z"
   },
   {
    "duration": 46,
    "start_time": "2024-11-30T14:47:11.332Z"
   },
   {
    "duration": 79,
    "start_time": "2024-11-30T14:47:50.043Z"
   },
   {
    "duration": 42,
    "start_time": "2024-11-30T14:48:02.451Z"
   },
   {
    "duration": 11,
    "start_time": "2024-11-30T14:48:09.313Z"
   },
   {
    "duration": 15,
    "start_time": "2024-11-30T14:48:22.622Z"
   },
   {
    "duration": 798,
    "start_time": "2024-12-02T21:39:42.369Z"
   },
   {
    "duration": 290,
    "start_time": "2024-12-02T21:39:43.170Z"
   },
   {
    "duration": 13,
    "start_time": "2024-12-02T21:39:43.462Z"
   },
   {
    "duration": 12,
    "start_time": "2024-12-02T21:39:43.477Z"
   },
   {
    "duration": 4,
    "start_time": "2024-12-02T21:39:43.492Z"
   },
   {
    "duration": 7,
    "start_time": "2024-12-02T21:39:43.497Z"
   },
   {
    "duration": 43,
    "start_time": "2024-12-02T21:39:43.506Z"
   },
   {
    "duration": 4,
    "start_time": "2024-12-02T21:39:43.551Z"
   },
   {
    "duration": 8,
    "start_time": "2024-12-02T21:39:43.557Z"
   },
   {
    "duration": 11,
    "start_time": "2024-12-02T21:39:43.567Z"
   },
   {
    "duration": 4,
    "start_time": "2024-12-02T21:39:43.579Z"
   },
   {
    "duration": 129,
    "start_time": "2024-12-02T21:39:43.584Z"
   },
   {
    "duration": 52,
    "start_time": "2024-12-02T21:39:43.715Z"
   },
   {
    "duration": 13,
    "start_time": "2024-12-02T21:39:43.770Z"
   },
   {
    "duration": 65,
    "start_time": "2024-12-02T21:39:43.785Z"
   },
   {
    "duration": 18,
    "start_time": "2024-12-02T21:39:43.851Z"
   },
   {
    "duration": 12,
    "start_time": "2024-12-02T21:39:43.871Z"
   },
   {
    "duration": 62,
    "start_time": "2024-12-02T21:39:43.884Z"
   },
   {
    "duration": 12,
    "start_time": "2024-12-02T21:39:43.947Z"
   },
   {
    "duration": 3,
    "start_time": "2024-12-02T21:48:34.847Z"
   },
   {
    "duration": 246,
    "start_time": "2024-12-02T21:48:36.439Z"
   },
   {
    "duration": 8,
    "start_time": "2024-12-02T21:48:38.275Z"
   },
   {
    "duration": 11,
    "start_time": "2024-12-02T21:48:40.527Z"
   },
   {
    "duration": 4,
    "start_time": "2024-12-02T21:48:42.722Z"
   },
   {
    "duration": 8,
    "start_time": "2024-12-02T21:48:44.550Z"
   },
   {
    "duration": 12,
    "start_time": "2024-12-02T21:48:46.976Z"
   },
   {
    "duration": 4,
    "start_time": "2024-12-02T21:48:50.838Z"
   },
   {
    "duration": 8,
    "start_time": "2024-12-02T21:48:52.828Z"
   },
   {
    "duration": 11,
    "start_time": "2024-12-02T21:48:54.688Z"
   },
   {
    "duration": 5,
    "start_time": "2024-12-02T21:48:56.873Z"
   },
   {
    "duration": 80,
    "start_time": "2024-12-02T21:48:58.014Z"
   },
   {
    "duration": 38,
    "start_time": "2024-12-02T21:48:59.348Z"
   },
   {
    "duration": 10,
    "start_time": "2024-12-02T21:49:06.790Z"
   },
   {
    "duration": 3,
    "start_time": "2024-12-02T21:53:22.858Z"
   },
   {
    "duration": 5,
    "start_time": "2024-12-02T22:09:30.263Z"
   },
   {
    "duration": 228,
    "start_time": "2024-12-02T22:12:38.273Z"
   },
   {
    "duration": 13,
    "start_time": "2024-12-02T22:13:08.414Z"
   },
   {
    "duration": 33,
    "start_time": "2024-12-02T22:13:14.853Z"
   },
   {
    "duration": 6,
    "start_time": "2024-12-02T22:13:21.119Z"
   },
   {
    "duration": 27,
    "start_time": "2024-12-02T22:13:26.884Z"
   },
   {
    "duration": 29,
    "start_time": "2024-12-02T22:14:36.762Z"
   },
   {
    "duration": 4,
    "start_time": "2024-12-02T22:15:11.828Z"
   },
   {
    "duration": 197,
    "start_time": "2024-12-02T22:15:15.160Z"
   },
   {
    "duration": 4,
    "start_time": "2024-12-02T22:15:49.013Z"
   },
   {
    "duration": 67,
    "start_time": "2024-12-02T22:15:55.195Z"
   },
   {
    "duration": 84,
    "start_time": "2024-12-02T22:16:55.872Z"
   },
   {
    "duration": 3,
    "start_time": "2024-12-02T22:30:53.299Z"
   },
   {
    "duration": 4,
    "start_time": "2024-12-02T22:30:57.606Z"
   },
   {
    "duration": 164,
    "start_time": "2024-12-02T22:30:59.981Z"
   },
   {
    "duration": 4,
    "start_time": "2024-12-02T22:31:39.715Z"
   },
   {
    "duration": 27,
    "start_time": "2024-12-02T22:31:44.287Z"
   },
   {
    "duration": 5,
    "start_time": "2024-12-02T22:32:08.334Z"
   },
   {
    "duration": 28,
    "start_time": "2024-12-02T22:32:10.832Z"
   },
   {
    "duration": 4,
    "start_time": "2024-12-02T22:32:34.941Z"
   },
   {
    "duration": 25,
    "start_time": "2024-12-02T22:32:37.372Z"
   },
   {
    "duration": 23,
    "start_time": "2024-12-02T22:32:38.559Z"
   },
   {
    "duration": 4,
    "start_time": "2024-12-02T22:32:57.186Z"
   },
   {
    "duration": 25,
    "start_time": "2024-12-02T22:32:58.787Z"
   },
   {
    "duration": 794,
    "start_time": "2024-12-02T22:33:04.459Z"
   },
   {
    "duration": 267,
    "start_time": "2024-12-02T22:33:05.255Z"
   },
   {
    "duration": 13,
    "start_time": "2024-12-02T22:33:05.524Z"
   },
   {
    "duration": 12,
    "start_time": "2024-12-02T22:33:05.543Z"
   },
   {
    "duration": 5,
    "start_time": "2024-12-02T22:33:05.558Z"
   },
   {
    "duration": 8,
    "start_time": "2024-12-02T22:33:05.565Z"
   },
   {
    "duration": 15,
    "start_time": "2024-12-02T22:33:05.574Z"
   },
   {
    "duration": 4,
    "start_time": "2024-12-02T22:33:05.591Z"
   },
   {
    "duration": 47,
    "start_time": "2024-12-02T22:33:05.596Z"
   },
   {
    "duration": 16,
    "start_time": "2024-12-02T22:33:05.645Z"
   },
   {
    "duration": 6,
    "start_time": "2024-12-02T22:33:05.665Z"
   },
   {
    "duration": 119,
    "start_time": "2024-12-02T22:33:05.673Z"
   },
   {
    "duration": 55,
    "start_time": "2024-12-02T22:33:05.794Z"
   },
   {
    "duration": 15,
    "start_time": "2024-12-02T22:33:05.852Z"
   },
   {
    "duration": 4,
    "start_time": "2024-12-02T22:33:05.869Z"
   },
   {
    "duration": 274,
    "start_time": "2024-12-02T22:33:05.875Z"
   },
   {
    "duration": 740,
    "start_time": "2024-12-02T22:33:35.502Z"
   },
   {
    "duration": 230,
    "start_time": "2024-12-02T22:33:36.244Z"
   },
   {
    "duration": 12,
    "start_time": "2024-12-02T22:33:36.475Z"
   },
   {
    "duration": 11,
    "start_time": "2024-12-02T22:33:36.489Z"
   },
   {
    "duration": 4,
    "start_time": "2024-12-02T22:33:36.502Z"
   },
   {
    "duration": 35,
    "start_time": "2024-12-02T22:33:36.507Z"
   },
   {
    "duration": 11,
    "start_time": "2024-12-02T22:33:36.544Z"
   },
   {
    "duration": 4,
    "start_time": "2024-12-02T22:33:36.557Z"
   },
   {
    "duration": 8,
    "start_time": "2024-12-02T22:33:36.562Z"
   },
   {
    "duration": 12,
    "start_time": "2024-12-02T22:33:36.573Z"
   },
   {
    "duration": 4,
    "start_time": "2024-12-02T22:33:36.587Z"
   },
   {
    "duration": 126,
    "start_time": "2024-12-02T22:33:36.592Z"
   },
   {
    "duration": 50,
    "start_time": "2024-12-02T22:33:36.720Z"
   },
   {
    "duration": 13,
    "start_time": "2024-12-02T22:33:36.771Z"
   },
   {
    "duration": 5,
    "start_time": "2024-12-02T22:33:36.786Z"
   },
   {
    "duration": 169,
    "start_time": "2024-12-02T22:33:36.793Z"
   },
   {
    "duration": 5,
    "start_time": "2024-12-02T22:35:55.268Z"
   },
   {
    "duration": 341,
    "start_time": "2024-12-02T22:35:57.009Z"
   },
   {
    "duration": 734,
    "start_time": "2024-12-02T22:36:05.119Z"
   },
   {
    "duration": 225,
    "start_time": "2024-12-02T22:36:05.855Z"
   },
   {
    "duration": 13,
    "start_time": "2024-12-02T22:36:06.081Z"
   },
   {
    "duration": 11,
    "start_time": "2024-12-02T22:36:06.097Z"
   },
   {
    "duration": 4,
    "start_time": "2024-12-02T22:36:06.110Z"
   },
   {
    "duration": 27,
    "start_time": "2024-12-02T22:36:06.116Z"
   },
   {
    "duration": 11,
    "start_time": "2024-12-02T22:36:06.145Z"
   },
   {
    "duration": 4,
    "start_time": "2024-12-02T22:36:06.157Z"
   },
   {
    "duration": 8,
    "start_time": "2024-12-02T22:36:06.163Z"
   },
   {
    "duration": 10,
    "start_time": "2024-12-02T22:36:06.174Z"
   },
   {
    "duration": 5,
    "start_time": "2024-12-02T22:36:06.185Z"
   },
   {
    "duration": 127,
    "start_time": "2024-12-02T22:36:06.191Z"
   },
   {
    "duration": 50,
    "start_time": "2024-12-02T22:36:06.319Z"
   },
   {
    "duration": 13,
    "start_time": "2024-12-02T22:36:06.371Z"
   },
   {
    "duration": 5,
    "start_time": "2024-12-02T22:36:06.386Z"
   },
   {
    "duration": 278,
    "start_time": "2024-12-02T22:36:06.393Z"
   },
   {
    "duration": 5,
    "start_time": "2024-12-02T22:36:51.446Z"
   },
   {
    "duration": 7598,
    "start_time": "2024-12-02T22:36:53.849Z"
   },
   {
    "duration": 3,
    "start_time": "2024-12-02T22:52:18.015Z"
   },
   {
    "duration": 4,
    "start_time": "2024-12-02T22:54:39.877Z"
   },
   {
    "duration": 3,
    "start_time": "2024-12-02T22:55:58.083Z"
   },
   {
    "duration": 3,
    "start_time": "2024-12-02T23:15:02.914Z"
   },
   {
    "duration": 4,
    "start_time": "2024-12-02T23:15:17.964Z"
   },
   {
    "duration": 4,
    "start_time": "2024-12-02T23:18:27.812Z"
   },
   {
    "duration": 7,
    "start_time": "2024-12-02T23:18:56.594Z"
   },
   {
    "duration": 5,
    "start_time": "2024-12-02T23:19:02.326Z"
   },
   {
    "duration": 4,
    "start_time": "2024-12-02T23:19:13.392Z"
   },
   {
    "duration": 5,
    "start_time": "2024-12-02T23:20:11.545Z"
   },
   {
    "duration": 4,
    "start_time": "2024-12-02T23:20:43.908Z"
   },
   {
    "duration": 4,
    "start_time": "2024-12-02T23:21:49.239Z"
   },
   {
    "duration": 4,
    "start_time": "2024-12-02T23:22:58.473Z"
   },
   {
    "duration": 4,
    "start_time": "2024-12-02T23:23:28.563Z"
   },
   {
    "duration": 5,
    "start_time": "2024-12-02T23:24:02.051Z"
   },
   {
    "duration": 18,
    "start_time": "2024-12-02T23:36:08.887Z"
   },
   {
    "duration": 38,
    "start_time": "2024-12-02T23:37:42.276Z"
   },
   {
    "duration": 35,
    "start_time": "2024-12-02T23:40:54.351Z"
   },
   {
    "duration": 36,
    "start_time": "2024-12-02T23:42:04.220Z"
   },
   {
    "duration": 35,
    "start_time": "2024-12-02T23:42:46.979Z"
   },
   {
    "duration": 219,
    "start_time": "2024-12-02T23:49:33.745Z"
   },
   {
    "duration": 3,
    "start_time": "2024-12-02T23:50:11.959Z"
   },
   {
    "duration": 4,
    "start_time": "2024-12-02T23:52:21.656Z"
   },
   {
    "duration": 4,
    "start_time": "2024-12-02T23:54:34.288Z"
   },
   {
    "duration": 4,
    "start_time": "2024-12-02T23:55:35.317Z"
   },
   {
    "duration": 4,
    "start_time": "2024-12-02T23:56:14.042Z"
   },
   {
    "duration": 5,
    "start_time": "2024-12-03T00:13:29.799Z"
   },
   {
    "duration": 4,
    "start_time": "2024-12-03T00:13:45.868Z"
   },
   {
    "duration": 4,
    "start_time": "2024-12-03T00:13:55.947Z"
   },
   {
    "duration": 2,
    "start_time": "2024-12-03T00:28:24.681Z"
   },
   {
    "duration": 3,
    "start_time": "2024-12-03T00:28:44.539Z"
   },
   {
    "duration": 7412,
    "start_time": "2024-12-03T00:31:04.851Z"
   },
   {
    "duration": 20,
    "start_time": "2024-12-03T00:35:46.673Z"
   },
   {
    "duration": 31,
    "start_time": "2024-12-03T00:35:55.167Z"
   },
   {
    "duration": 21,
    "start_time": "2024-12-03T00:36:26.304Z"
   },
   {
    "duration": 20,
    "start_time": "2024-12-03T00:36:35.107Z"
   },
   {
    "duration": 806,
    "start_time": "2024-12-03T00:38:32.151Z"
   },
   {
    "duration": 224,
    "start_time": "2024-12-03T00:38:32.960Z"
   },
   {
    "duration": 12,
    "start_time": "2024-12-03T00:38:33.186Z"
   },
   {
    "duration": 4,
    "start_time": "2024-12-03T00:38:33.201Z"
   },
   {
    "duration": 11,
    "start_time": "2024-12-03T00:38:33.206Z"
   },
   {
    "duration": 24,
    "start_time": "2024-12-03T00:38:33.219Z"
   },
   {
    "duration": 4,
    "start_time": "2024-12-03T00:38:33.245Z"
   },
   {
    "duration": 13,
    "start_time": "2024-12-03T00:38:33.251Z"
   },
   {
    "duration": 8,
    "start_time": "2024-12-03T00:38:33.266Z"
   },
   {
    "duration": 5,
    "start_time": "2024-12-03T00:38:33.277Z"
   },
   {
    "duration": 13,
    "start_time": "2024-12-03T00:38:33.284Z"
   },
   {
    "duration": 44,
    "start_time": "2024-12-03T00:38:33.299Z"
   },
   {
    "duration": 99,
    "start_time": "2024-12-03T00:38:33.345Z"
   },
   {
    "duration": 41,
    "start_time": "2024-12-03T00:38:33.445Z"
   },
   {
    "duration": 13,
    "start_time": "2024-12-03T00:38:33.487Z"
   },
   {
    "duration": 5,
    "start_time": "2024-12-03T00:38:33.502Z"
   },
   {
    "duration": 7352,
    "start_time": "2024-12-03T00:38:33.509Z"
   },
   {
    "duration": 4,
    "start_time": "2024-12-03T00:38:40.862Z"
   },
   {
    "duration": 77,
    "start_time": "2024-12-03T00:38:40.869Z"
   },
   {
    "duration": 5,
    "start_time": "2024-12-03T00:38:40.949Z"
   },
   {
    "duration": 36,
    "start_time": "2024-12-03T00:38:40.956Z"
   },
   {
    "duration": 4,
    "start_time": "2024-12-03T00:38:40.994Z"
   },
   {
    "duration": 233,
    "start_time": "2024-12-03T00:38:41.042Z"
   },
   {
    "duration": 5,
    "start_time": "2024-12-03T00:40:29.559Z"
   },
   {
    "duration": 8236,
    "start_time": "2024-12-03T00:40:33.409Z"
   },
   {
    "duration": 7,
    "start_time": "2024-12-03T00:40:47.498Z"
   },
   {
    "duration": 7,
    "start_time": "2024-12-03T00:41:14.167Z"
   },
   {
    "duration": 2,
    "start_time": "2024-12-03T00:42:20.204Z"
   },
   {
    "duration": 6,
    "start_time": "2024-12-03T00:42:25.486Z"
   },
   {
    "duration": 12,
    "start_time": "2024-12-03T00:42:54.276Z"
   },
   {
    "duration": 785,
    "start_time": "2024-12-03T00:42:59.492Z"
   },
   {
    "duration": 235,
    "start_time": "2024-12-03T00:43:00.279Z"
   },
   {
    "duration": 14,
    "start_time": "2024-12-03T00:43:00.515Z"
   },
   {
    "duration": 16,
    "start_time": "2024-12-03T00:43:00.531Z"
   },
   {
    "duration": 14,
    "start_time": "2024-12-03T00:43:00.549Z"
   },
   {
    "duration": 8,
    "start_time": "2024-12-03T00:43:00.564Z"
   },
   {
    "duration": 5,
    "start_time": "2024-12-03T00:43:00.573Z"
   },
   {
    "duration": 11,
    "start_time": "2024-12-03T00:43:00.580Z"
   },
   {
    "duration": 8,
    "start_time": "2024-12-03T00:43:00.592Z"
   },
   {
    "duration": 40,
    "start_time": "2024-12-03T00:43:00.603Z"
   },
   {
    "duration": 13,
    "start_time": "2024-12-03T00:43:00.645Z"
   },
   {
    "duration": 4,
    "start_time": "2024-12-03T00:43:00.662Z"
   },
   {
    "duration": 103,
    "start_time": "2024-12-03T00:43:00.668Z"
   },
   {
    "duration": 40,
    "start_time": "2024-12-03T00:43:00.773Z"
   },
   {
    "duration": 30,
    "start_time": "2024-12-03T00:43:00.814Z"
   },
   {
    "duration": 7,
    "start_time": "2024-12-03T00:43:00.846Z"
   },
   {
    "duration": 7395,
    "start_time": "2024-12-03T00:43:00.855Z"
   },
   {
    "duration": 7,
    "start_time": "2024-12-03T00:43:08.257Z"
   },
   {
    "duration": 2,
    "start_time": "2024-12-03T00:43:08.266Z"
   },
   {
    "duration": 76,
    "start_time": "2024-12-03T00:43:08.270Z"
   },
   {
    "duration": 35,
    "start_time": "2024-12-03T00:43:08.348Z"
   },
   {
    "duration": 4,
    "start_time": "2024-12-03T00:43:08.385Z"
   },
   {
    "duration": 13,
    "start_time": "2024-12-03T00:43:08.391Z"
   },
   {
    "duration": 795,
    "start_time": "2024-12-03T00:43:19.993Z"
   },
   {
    "duration": 227,
    "start_time": "2024-12-03T00:43:20.790Z"
   },
   {
    "duration": 13,
    "start_time": "2024-12-03T00:43:21.019Z"
   },
   {
    "duration": 4,
    "start_time": "2024-12-03T00:43:21.043Z"
   },
   {
    "duration": 12,
    "start_time": "2024-12-03T00:43:21.049Z"
   },
   {
    "duration": 8,
    "start_time": "2024-12-03T00:43:21.063Z"
   },
   {
    "duration": 4,
    "start_time": "2024-12-03T00:43:21.072Z"
   },
   {
    "duration": 10,
    "start_time": "2024-12-03T00:43:21.078Z"
   },
   {
    "duration": 7,
    "start_time": "2024-12-03T00:43:21.090Z"
   },
   {
    "duration": 3,
    "start_time": "2024-12-03T00:43:21.100Z"
   },
   {
    "duration": 13,
    "start_time": "2024-12-03T00:43:21.144Z"
   },
   {
    "duration": 5,
    "start_time": "2024-12-03T00:43:21.158Z"
   },
   {
    "duration": 111,
    "start_time": "2024-12-03T00:43:21.164Z"
   },
   {
    "duration": 43,
    "start_time": "2024-12-03T00:43:21.277Z"
   },
   {
    "duration": 26,
    "start_time": "2024-12-03T00:43:21.322Z"
   },
   {
    "duration": 6,
    "start_time": "2024-12-03T00:43:21.351Z"
   },
   {
    "duration": 901,
    "start_time": "2024-12-03T00:43:21.359Z"
   },
   {
    "duration": 3,
    "start_time": "2024-12-03T00:43:22.262Z"
   },
   {
    "duration": 78,
    "start_time": "2024-12-03T00:43:22.267Z"
   },
   {
    "duration": 5,
    "start_time": "2024-12-03T00:43:22.346Z"
   },
   {
    "duration": 37,
    "start_time": "2024-12-03T00:43:22.353Z"
   },
   {
    "duration": 6,
    "start_time": "2024-12-03T00:43:22.444Z"
   },
   {
    "duration": 14,
    "start_time": "2024-12-03T00:43:22.451Z"
   },
   {
    "duration": 2,
    "start_time": "2024-12-03T00:44:19.972Z"
   },
   {
    "duration": 12,
    "start_time": "2024-12-03T00:44:24.871Z"
   },
   {
    "duration": 791,
    "start_time": "2024-12-03T00:44:30.554Z"
   },
   {
    "duration": 219,
    "start_time": "2024-12-03T00:44:31.347Z"
   },
   {
    "duration": 13,
    "start_time": "2024-12-03T00:44:31.568Z"
   },
   {
    "duration": 3,
    "start_time": "2024-12-03T00:44:31.584Z"
   },
   {
    "duration": 12,
    "start_time": "2024-12-03T00:44:31.589Z"
   },
   {
    "duration": 10,
    "start_time": "2024-12-03T00:44:31.602Z"
   },
   {
    "duration": 4,
    "start_time": "2024-12-03T00:44:31.613Z"
   },
   {
    "duration": 12,
    "start_time": "2024-12-03T00:44:31.642Z"
   },
   {
    "duration": 9,
    "start_time": "2024-12-03T00:44:31.655Z"
   },
   {
    "duration": 4,
    "start_time": "2024-12-03T00:44:31.667Z"
   },
   {
    "duration": 12,
    "start_time": "2024-12-03T00:44:31.672Z"
   },
   {
    "duration": 3,
    "start_time": "2024-12-03T00:44:31.686Z"
   },
   {
    "duration": 120,
    "start_time": "2024-12-03T00:44:31.691Z"
   },
   {
    "duration": 47,
    "start_time": "2024-12-03T00:44:31.813Z"
   },
   {
    "duration": 13,
    "start_time": "2024-12-03T00:44:31.862Z"
   },
   {
    "duration": 6,
    "start_time": "2024-12-03T00:44:31.877Z"
   },
   {
    "duration": 877,
    "start_time": "2024-12-03T00:44:31.884Z"
   },
   {
    "duration": 3,
    "start_time": "2024-12-03T00:44:32.763Z"
   },
   {
    "duration": 3,
    "start_time": "2024-12-03T00:44:32.844Z"
   },
   {
    "duration": 8,
    "start_time": "2024-12-03T00:44:32.848Z"
   },
   {
    "duration": 91,
    "start_time": "2024-12-03T00:44:32.857Z"
   },
   {
    "duration": 6,
    "start_time": "2024-12-03T00:44:32.950Z"
   },
   {
    "duration": 15,
    "start_time": "2024-12-03T00:44:32.958Z"
   },
   {
    "duration": 16,
    "start_time": "2024-12-03T01:21:54.767Z"
   },
   {
    "duration": 245,
    "start_time": "2024-12-03T01:22:07.312Z"
   },
   {
    "duration": 15,
    "start_time": "2024-12-03T01:22:12.834Z"
   },
   {
    "duration": 15,
    "start_time": "2024-12-03T01:26:05.581Z"
   },
   {
    "duration": 12,
    "start_time": "2024-12-03T01:26:15.929Z"
   },
   {
    "duration": 785,
    "start_time": "2024-12-03T02:58:55.595Z"
   },
   {
    "duration": 230,
    "start_time": "2024-12-03T02:58:56.382Z"
   },
   {
    "duration": 13,
    "start_time": "2024-12-03T02:58:56.614Z"
   },
   {
    "duration": 14,
    "start_time": "2024-12-03T02:58:56.630Z"
   },
   {
    "duration": 11,
    "start_time": "2024-12-03T02:58:56.646Z"
   },
   {
    "duration": 8,
    "start_time": "2024-12-03T02:58:56.660Z"
   },
   {
    "duration": 4,
    "start_time": "2024-12-03T02:58:56.670Z"
   },
   {
    "duration": 10,
    "start_time": "2024-12-03T02:58:56.676Z"
   },
   {
    "duration": 8,
    "start_time": "2024-12-03T02:58:56.687Z"
   },
   {
    "duration": 44,
    "start_time": "2024-12-03T02:58:56.698Z"
   },
   {
    "duration": 11,
    "start_time": "2024-12-03T02:58:56.744Z"
   },
   {
    "duration": 4,
    "start_time": "2024-12-03T02:58:56.757Z"
   },
   {
    "duration": 103,
    "start_time": "2024-12-03T02:58:56.763Z"
   },
   {
    "duration": 42,
    "start_time": "2024-12-03T02:58:56.868Z"
   },
   {
    "duration": 31,
    "start_time": "2024-12-03T02:58:56.911Z"
   },
   {
    "duration": 7,
    "start_time": "2024-12-03T02:58:56.944Z"
   },
   {
    "duration": 896,
    "start_time": "2024-12-03T02:58:56.953Z"
   },
   {
    "duration": 3,
    "start_time": "2024-12-03T02:58:57.851Z"
   },
   {
    "duration": 4,
    "start_time": "2024-12-03T02:58:57.944Z"
   },
   {
    "duration": 5,
    "start_time": "2024-12-03T02:58:57.949Z"
   },
   {
    "duration": 35,
    "start_time": "2024-12-03T02:58:57.957Z"
   },
   {
    "duration": 4,
    "start_time": "2024-12-03T02:58:57.994Z"
   },
   {
    "duration": 50,
    "start_time": "2024-12-03T02:58:58.000Z"
   },
   {
    "duration": 8,
    "start_time": "2024-12-03T03:11:58.610Z"
   },
   {
    "duration": 11,
    "start_time": "2024-12-03T03:12:46.839Z"
   },
   {
    "duration": 7,
    "start_time": "2024-12-03T03:13:11.420Z"
   },
   {
    "duration": 4,
    "start_time": "2024-12-03T03:13:54.014Z"
   },
   {
    "duration": 8,
    "start_time": "2024-12-03T03:14:17.549Z"
   },
   {
    "duration": 7,
    "start_time": "2024-12-03T03:14:41.426Z"
   },
   {
    "duration": 11,
    "start_time": "2024-12-03T03:16:56.902Z"
   },
   {
    "duration": 13,
    "start_time": "2024-12-03T03:18:54.563Z"
   },
   {
    "duration": 12,
    "start_time": "2024-12-03T03:19:40.345Z"
   },
   {
    "duration": 160,
    "start_time": "2024-12-03T21:34:10.688Z"
   },
   {
    "duration": 739,
    "start_time": "2024-12-03T21:34:18.160Z"
   },
   {
    "duration": 295,
    "start_time": "2024-12-03T21:34:18.901Z"
   },
   {
    "duration": 13,
    "start_time": "2024-12-03T21:34:19.198Z"
   },
   {
    "duration": 4,
    "start_time": "2024-12-03T21:34:19.214Z"
   },
   {
    "duration": 11,
    "start_time": "2024-12-03T21:34:19.219Z"
   },
   {
    "duration": 7,
    "start_time": "2024-12-03T21:34:19.232Z"
   },
   {
    "duration": 4,
    "start_time": "2024-12-03T21:34:19.240Z"
   },
   {
    "duration": 10,
    "start_time": "2024-12-03T21:34:19.270Z"
   },
   {
    "duration": 8,
    "start_time": "2024-12-03T21:34:19.282Z"
   },
   {
    "duration": 4,
    "start_time": "2024-12-03T21:34:19.293Z"
   },
   {
    "duration": 10,
    "start_time": "2024-12-03T21:34:19.299Z"
   },
   {
    "duration": 4,
    "start_time": "2024-12-03T21:34:19.311Z"
   },
   {
    "duration": 119,
    "start_time": "2024-12-03T21:34:19.317Z"
   },
   {
    "duration": 47,
    "start_time": "2024-12-03T21:34:19.438Z"
   },
   {
    "duration": 15,
    "start_time": "2024-12-03T21:34:19.487Z"
   },
   {
    "duration": 12,
    "start_time": "2024-12-03T21:34:19.503Z"
   },
   {
    "duration": 5,
    "start_time": "2024-12-03T21:34:19.518Z"
   },
   {
    "duration": 866,
    "start_time": "2024-12-03T21:34:19.525Z"
   },
   {
    "duration": 77,
    "start_time": "2024-12-03T21:34:20.393Z"
   },
   {
    "duration": 5,
    "start_time": "2024-12-03T21:34:20.473Z"
   },
   {
    "duration": 7,
    "start_time": "2024-12-03T21:34:20.481Z"
   },
   {
    "duration": 98,
    "start_time": "2024-12-03T21:34:20.490Z"
   },
   {
    "duration": 5,
    "start_time": "2024-12-03T21:34:20.590Z"
   },
   {
    "duration": 12,
    "start_time": "2024-12-03T21:34:20.596Z"
   },
   {
    "duration": 7522,
    "start_time": "2024-12-03T21:34:20.610Z"
   },
   {
    "duration": 109,
    "start_time": "2024-12-03T21:36:42.906Z"
   },
   {
    "duration": 4,
    "start_time": "2024-12-03T21:45:12.504Z"
   },
   {
    "duration": 3,
    "start_time": "2024-12-03T21:45:26.609Z"
   },
   {
    "duration": 4,
    "start_time": "2024-12-03T21:45:28.072Z"
   },
   {
    "duration": 13,
    "start_time": "2024-12-03T21:45:48.039Z"
   },
   {
    "duration": 26,
    "start_time": "2024-12-03T21:46:36.350Z"
   },
   {
    "duration": 3,
    "start_time": "2024-12-03T21:47:41.949Z"
   },
   {
    "duration": 1302,
    "start_time": "2024-12-03T21:47:43.650Z"
   },
   {
    "duration": 1298,
    "start_time": "2024-12-03T21:47:48.972Z"
   },
   {
    "duration": 750,
    "start_time": "2024-12-03T22:29:44.568Z"
   },
   {
    "duration": 288,
    "start_time": "2024-12-03T22:29:45.320Z"
   },
   {
    "duration": 12,
    "start_time": "2024-12-03T22:29:45.610Z"
   },
   {
    "duration": 3,
    "start_time": "2024-12-03T22:29:45.625Z"
   },
   {
    "duration": 11,
    "start_time": "2024-12-03T22:29:45.630Z"
   },
   {
    "duration": 8,
    "start_time": "2024-12-03T22:29:45.643Z"
   },
   {
    "duration": 3,
    "start_time": "2024-12-03T22:29:45.653Z"
   },
   {
    "duration": 10,
    "start_time": "2024-12-03T22:29:45.658Z"
   },
   {
    "duration": 42,
    "start_time": "2024-12-03T22:29:45.669Z"
   },
   {
    "duration": 4,
    "start_time": "2024-12-03T22:29:45.714Z"
   },
   {
    "duration": 11,
    "start_time": "2024-12-03T22:29:45.720Z"
   },
   {
    "duration": 5,
    "start_time": "2024-12-03T22:29:45.732Z"
   },
   {
    "duration": 119,
    "start_time": "2024-12-03T22:29:45.738Z"
   },
   {
    "duration": 48,
    "start_time": "2024-12-03T22:29:45.859Z"
   },
   {
    "duration": 13,
    "start_time": "2024-12-03T22:29:45.909Z"
   },
   {
    "duration": 11,
    "start_time": "2024-12-03T22:29:45.925Z"
   },
   {
    "duration": 5,
    "start_time": "2024-12-03T22:29:45.938Z"
   },
   {
    "duration": 970,
    "start_time": "2024-12-03T22:29:45.944Z"
   },
   {
    "duration": 6,
    "start_time": "2024-12-03T22:29:46.916Z"
   },
   {
    "duration": 4,
    "start_time": "2024-12-03T22:29:46.924Z"
   },
   {
    "duration": 6,
    "start_time": "2024-12-03T22:29:47.005Z"
   },
   {
    "duration": 34,
    "start_time": "2024-12-03T22:29:47.012Z"
   },
   {
    "duration": 6,
    "start_time": "2024-12-03T22:29:47.049Z"
   },
   {
    "duration": 12,
    "start_time": "2024-12-03T22:29:47.058Z"
   },
   {
    "duration": 36,
    "start_time": "2024-12-03T22:29:47.072Z"
   },
   {
    "duration": 1274,
    "start_time": "2024-12-03T22:29:47.110Z"
   },
   {
    "duration": 4,
    "start_time": "2024-12-03T22:32:21.536Z"
   },
   {
    "duration": 210,
    "start_time": "2024-12-03T22:34:07.547Z"
   },
   {
    "duration": 3,
    "start_time": "2024-12-03T22:34:44.021Z"
   },
   {
    "duration": 17,
    "start_time": "2024-12-03T22:35:49.508Z"
   },
   {
    "duration": 8,
    "start_time": "2024-12-03T22:36:42.313Z"
   },
   {
    "duration": 4,
    "start_time": "2024-12-03T22:36:52.962Z"
   },
   {
    "duration": 4,
    "start_time": "2024-12-03T22:37:24.681Z"
   },
   {
    "duration": 4,
    "start_time": "2024-12-03T22:37:35.043Z"
   },
   {
    "duration": 3,
    "start_time": "2024-12-03T22:38:08.053Z"
   },
   {
    "duration": 3,
    "start_time": "2024-12-03T22:50:00.107Z"
   },
   {
    "duration": 3,
    "start_time": "2024-12-03T22:52:13.140Z"
   },
   {
    "duration": 3,
    "start_time": "2024-12-03T22:52:38.530Z"
   },
   {
    "duration": 4,
    "start_time": "2024-12-03T22:54:46.916Z"
   },
   {
    "duration": 4,
    "start_time": "2024-12-03T22:54:53.342Z"
   },
   {
    "duration": 4,
    "start_time": "2024-12-03T22:55:01.737Z"
   },
   {
    "duration": 4,
    "start_time": "2024-12-03T22:55:08.448Z"
   },
   {
    "duration": 5,
    "start_time": "2024-12-03T22:55:24.750Z"
   },
   {
    "duration": 5,
    "start_time": "2024-12-03T22:56:34.874Z"
   },
   {
    "duration": 5,
    "start_time": "2024-12-03T22:56:48.924Z"
   },
   {
    "duration": 1550,
    "start_time": "2024-12-03T23:00:53.658Z"
   },
   {
    "duration": 1527,
    "start_time": "2024-12-03T23:02:37.449Z"
   },
   {
    "duration": 423,
    "start_time": "2024-12-03T23:03:51.973Z"
   },
   {
    "duration": 6,
    "start_time": "2024-12-03T23:07:53.461Z"
   },
   {
    "duration": 1147,
    "start_time": "2024-12-03T23:09:12.585Z"
   },
   {
    "duration": 4,
    "start_time": "2024-12-03T23:10:24.518Z"
   },
   {
    "duration": 8917,
    "start_time": "2024-12-03T23:10:26.275Z"
   },
   {
    "duration": 11,
    "start_time": "2024-12-03T23:10:35.194Z"
   },
   {
    "duration": 9,
    "start_time": "2024-12-03T23:14:39.622Z"
   },
   {
    "duration": 172,
    "start_time": "2024-12-04T02:36:44.037Z"
   },
   {
    "duration": 803,
    "start_time": "2024-12-04T02:36:50.709Z"
   },
   {
    "duration": 300,
    "start_time": "2024-12-04T02:36:51.514Z"
   },
   {
    "duration": 12,
    "start_time": "2024-12-04T02:36:51.815Z"
   },
   {
    "duration": 11,
    "start_time": "2024-12-04T02:36:51.829Z"
   },
   {
    "duration": 7,
    "start_time": "2024-12-04T02:36:51.841Z"
   },
   {
    "duration": 10,
    "start_time": "2024-12-04T02:36:51.851Z"
   },
   {
    "duration": 7,
    "start_time": "2024-12-04T02:36:51.862Z"
   },
   {
    "duration": 43,
    "start_time": "2024-12-04T02:36:51.871Z"
   },
   {
    "duration": 83,
    "start_time": "2024-12-04T02:36:51.916Z"
   },
   {
    "duration": 44,
    "start_time": "2024-12-04T02:36:52.001Z"
   },
   {
    "duration": 13,
    "start_time": "2024-12-04T02:36:52.047Z"
   },
   {
    "duration": 13,
    "start_time": "2024-12-04T02:36:52.061Z"
   },
   {
    "duration": 33,
    "start_time": "2024-12-04T02:36:52.076Z"
   },
   {
    "duration": 918,
    "start_time": "2024-12-04T02:36:52.110Z"
   },
   {
    "duration": 5,
    "start_time": "2024-12-04T02:36:53.108Z"
   },
   {
    "duration": 5,
    "start_time": "2024-12-04T02:36:53.117Z"
   },
   {
    "duration": 7,
    "start_time": "2024-12-04T02:36:53.123Z"
   },
   {
    "duration": 35,
    "start_time": "2024-12-04T02:36:53.132Z"
   },
   {
    "duration": 4,
    "start_time": "2024-12-04T02:36:53.209Z"
   },
   {
    "duration": 13,
    "start_time": "2024-12-04T02:36:53.215Z"
   },
   {
    "duration": 6,
    "start_time": "2024-12-04T02:36:53.229Z"
   },
   {
    "duration": 5,
    "start_time": "2024-12-04T02:36:53.237Z"
   },
   {
    "duration": 0,
    "start_time": "2024-12-04T02:36:53.244Z"
   },
   {
    "duration": 0,
    "start_time": "2024-12-04T02:36:53.245Z"
   },
   {
    "duration": 0,
    "start_time": "2024-12-04T02:36:53.246Z"
   },
   {
    "duration": 1,
    "start_time": "2024-12-04T02:36:53.247Z"
   },
   {
    "duration": 3,
    "start_time": "2024-12-04T02:37:40.345Z"
   },
   {
    "duration": 35,
    "start_time": "2024-12-04T02:49:11.502Z"
   },
   {
    "duration": 5,
    "start_time": "2024-12-04T02:49:18.030Z"
   },
   {
    "duration": 13,
    "start_time": "2024-12-04T02:51:35.405Z"
   },
   {
    "duration": 13,
    "start_time": "2024-12-04T02:54:48.915Z"
   },
   {
    "duration": 593,
    "start_time": "2024-12-04T02:55:13.806Z"
   },
   {
    "duration": 4,
    "start_time": "2024-12-04T02:55:43.848Z"
   },
   {
    "duration": 12,
    "start_time": "2024-12-04T02:56:14.092Z"
   },
   {
    "duration": 4,
    "start_time": "2024-12-04T02:56:33.053Z"
   },
   {
    "duration": 5,
    "start_time": "2024-12-04T02:56:56.070Z"
   },
   {
    "duration": 19,
    "start_time": "2024-12-04T03:03:43.852Z"
   },
   {
    "duration": 14,
    "start_time": "2024-12-04T03:03:54.038Z"
   },
   {
    "duration": 15,
    "start_time": "2024-12-04T03:04:00.000Z"
   },
   {
    "duration": 4,
    "start_time": "2024-12-04T03:04:03.542Z"
   },
   {
    "duration": 8916,
    "start_time": "2024-12-04T03:04:06.101Z"
   },
   {
    "duration": 8,
    "start_time": "2024-12-04T03:04:15.019Z"
   },
   {
    "duration": 5,
    "start_time": "2024-12-04T03:04:15.029Z"
   },
   {
    "duration": 57,
    "start_time": "2024-12-04T03:09:41.587Z"
   },
   {
    "duration": 21,
    "start_time": "2024-12-04T03:13:21.473Z"
   },
   {
    "duration": 390,
    "start_time": "2024-12-04T03:13:51.295Z"
   },
   {
    "duration": 1125,
    "start_time": "2024-12-04T03:14:31.397Z"
   },
   {
    "duration": 1114,
    "start_time": "2024-12-04T03:15:39.814Z"
   },
   {
    "duration": 1100,
    "start_time": "2024-12-04T03:17:03.589Z"
   },
   {
    "duration": 1117,
    "start_time": "2024-12-04T03:17:43.918Z"
   },
   {
    "duration": 1130,
    "start_time": "2024-12-04T03:18:46.319Z"
   },
   {
    "duration": 1138,
    "start_time": "2024-12-04T03:18:51.335Z"
   },
   {
    "duration": 34,
    "start_time": "2024-12-04T03:20:59.821Z"
   },
   {
    "duration": 18,
    "start_time": "2024-12-04T03:22:22.591Z"
   },
   {
    "duration": 3,
    "start_time": "2024-12-04T03:22:41.998Z"
   },
   {
    "duration": 21,
    "start_time": "2024-12-04T03:23:25.872Z"
   },
   {
    "duration": 17,
    "start_time": "2024-12-04T03:23:52.063Z"
   },
   {
    "duration": 3,
    "start_time": "2024-12-04T03:24:21.843Z"
   },
   {
    "duration": 8916,
    "start_time": "2024-12-04T03:24:46.943Z"
   },
   {
    "duration": 9,
    "start_time": "2024-12-04T03:24:55.861Z"
   },
   {
    "duration": 8,
    "start_time": "2024-12-04T03:24:58.018Z"
   },
   {
    "duration": 6,
    "start_time": "2024-12-04T03:25:08.511Z"
   },
   {
    "duration": 9046,
    "start_time": "2024-12-04T03:25:52.263Z"
   },
   {
    "duration": 9017,
    "start_time": "2024-12-04T03:26:45.471Z"
   },
   {
    "duration": 32,
    "start_time": "2024-12-04T03:37:20.376Z"
   },
   {
    "duration": 7,
    "start_time": "2024-12-04T03:37:29.033Z"
   },
   {
    "duration": 6,
    "start_time": "2024-12-04T03:37:38.248Z"
   },
   {
    "duration": 1183,
    "start_time": "2024-12-04T03:38:23.607Z"
   },
   {
    "duration": 7,
    "start_time": "2024-12-04T03:38:27.078Z"
   },
   {
    "duration": 1301,
    "start_time": "2024-12-04T03:38:39.466Z"
   },
   {
    "duration": 7,
    "start_time": "2024-12-04T03:38:40.769Z"
   },
   {
    "duration": 1383,
    "start_time": "2024-12-04T03:40:06.079Z"
   },
   {
    "duration": 6,
    "start_time": "2024-12-04T03:40:08.544Z"
   },
   {
    "duration": 1247,
    "start_time": "2024-12-04T03:40:18.847Z"
   },
   {
    "duration": 7,
    "start_time": "2024-12-04T03:40:21.892Z"
   },
   {
    "duration": 1362,
    "start_time": "2024-12-04T03:40:32.092Z"
   },
   {
    "duration": 6,
    "start_time": "2024-12-04T03:40:33.855Z"
   },
   {
    "duration": 1258,
    "start_time": "2024-12-04T03:40:48.728Z"
   },
   {
    "duration": 7,
    "start_time": "2024-12-04T03:40:50.228Z"
   },
   {
    "duration": 8975,
    "start_time": "2024-12-04T03:41:21.950Z"
   },
   {
    "duration": 7,
    "start_time": "2024-12-04T03:41:30.927Z"
   },
   {
    "duration": 751,
    "start_time": "2024-12-04T03:41:46.363Z"
   },
   {
    "duration": 271,
    "start_time": "2024-12-04T03:41:47.116Z"
   },
   {
    "duration": 12,
    "start_time": "2024-12-04T03:41:47.389Z"
   },
   {
    "duration": 14,
    "start_time": "2024-12-04T03:41:47.408Z"
   },
   {
    "duration": 7,
    "start_time": "2024-12-04T03:41:47.424Z"
   },
   {
    "duration": 11,
    "start_time": "2024-12-04T03:41:47.433Z"
   },
   {
    "duration": 7,
    "start_time": "2024-12-04T03:41:47.445Z"
   },
   {
    "duration": 10,
    "start_time": "2024-12-04T03:41:47.454Z"
   },
   {
    "duration": 129,
    "start_time": "2024-12-04T03:41:47.466Z"
   },
   {
    "duration": 62,
    "start_time": "2024-12-04T03:41:47.600Z"
   },
   {
    "duration": 15,
    "start_time": "2024-12-04T03:41:47.664Z"
   },
   {
    "duration": 31,
    "start_time": "2024-12-04T03:41:47.681Z"
   },
   {
    "duration": 9,
    "start_time": "2024-12-04T03:41:47.714Z"
   },
   {
    "duration": 906,
    "start_time": "2024-12-04T03:41:47.725Z"
   },
   {
    "duration": 3,
    "start_time": "2024-12-04T03:41:48.708Z"
   },
   {
    "duration": 5,
    "start_time": "2024-12-04T03:41:48.715Z"
   },
   {
    "duration": 7,
    "start_time": "2024-12-04T03:41:48.722Z"
   },
   {
    "duration": 81,
    "start_time": "2024-12-04T03:41:48.730Z"
   },
   {
    "duration": 4,
    "start_time": "2024-12-04T03:41:48.813Z"
   },
   {
    "duration": 11,
    "start_time": "2024-12-04T03:41:48.819Z"
   },
   {
    "duration": 8937,
    "start_time": "2024-12-04T03:41:48.832Z"
   },
   {
    "duration": 8,
    "start_time": "2024-12-04T03:41:57.771Z"
   },
   {
    "duration": 2,
    "start_time": "2024-12-04T03:41:57.781Z"
   },
   {
    "duration": 216,
    "start_time": "2024-12-04T03:48:44.404Z"
   },
   {
    "duration": 14,
    "start_time": "2024-12-04T03:51:47.609Z"
   },
   {
    "duration": 9008,
    "start_time": "2024-12-04T03:51:59.363Z"
   },
   {
    "duration": 8,
    "start_time": "2024-12-04T03:52:08.373Z"
   },
   {
    "duration": 12,
    "start_time": "2024-12-04T03:52:58.131Z"
   },
   {
    "duration": 5,
    "start_time": "2024-12-04T03:54:31.867Z"
   },
   {
    "duration": 20,
    "start_time": "2024-12-04T03:54:41.117Z"
   },
   {
    "duration": 6,
    "start_time": "2024-12-04T03:54:58.101Z"
   },
   {
    "duration": 6,
    "start_time": "2024-12-04T03:55:13.548Z"
   },
   {
    "duration": 1206,
    "start_time": "2024-12-04T03:58:34.830Z"
   },
   {
    "duration": 8,
    "start_time": "2024-12-04T03:58:37.929Z"
   },
   {
    "duration": 1311,
    "start_time": "2024-12-04T03:58:48.413Z"
   },
   {
    "duration": 7,
    "start_time": "2024-12-04T03:58:49.726Z"
   },
   {
    "duration": 1281,
    "start_time": "2024-12-04T03:59:01.741Z"
   },
   {
    "duration": 8,
    "start_time": "2024-12-04T03:59:03.902Z"
   },
   {
    "duration": 8939,
    "start_time": "2024-12-04T03:59:25.242Z"
   },
   {
    "duration": 7,
    "start_time": "2024-12-04T03:59:34.183Z"
   },
   {
    "duration": 7319,
    "start_time": "2024-12-04T03:59:40.969Z"
   },
   {
    "duration": 8,
    "start_time": "2024-12-04T03:59:48.290Z"
   },
   {
    "duration": 4,
    "start_time": "2024-12-04T03:59:58.014Z"
   },
   {
    "duration": 6513,
    "start_time": "2024-12-04T04:00:02.870Z"
   },
   {
    "duration": 8,
    "start_time": "2024-12-04T04:00:09.384Z"
   },
   {
    "duration": 4674,
    "start_time": "2024-12-04T04:00:21.923Z"
   },
   {
    "duration": 10,
    "start_time": "2024-12-04T04:00:26.599Z"
   },
   {
    "duration": 2694,
    "start_time": "2024-12-04T04:00:36.475Z"
   },
   {
    "duration": 7,
    "start_time": "2024-12-04T04:00:39.172Z"
   },
   {
    "duration": 1909,
    "start_time": "2024-12-04T04:00:53.912Z"
   },
   {
    "duration": 8,
    "start_time": "2024-12-04T04:00:55.823Z"
   },
   {
    "duration": 8956,
    "start_time": "2024-12-04T04:01:09.617Z"
   },
   {
    "duration": 7,
    "start_time": "2024-12-04T04:01:18.576Z"
   },
   {
    "duration": 30,
    "start_time": "2024-12-04T04:02:05.392Z"
   },
   {
    "duration": 8910,
    "start_time": "2024-12-04T04:02:19.400Z"
   },
   {
    "duration": 797,
    "start_time": "2024-12-04T04:02:36.831Z"
   },
   {
    "duration": 233,
    "start_time": "2024-12-04T04:02:37.630Z"
   },
   {
    "duration": 15,
    "start_time": "2024-12-04T04:02:37.865Z"
   },
   {
    "duration": 27,
    "start_time": "2024-12-04T04:02:37.882Z"
   },
   {
    "duration": 7,
    "start_time": "2024-12-04T04:02:37.912Z"
   },
   {
    "duration": 10,
    "start_time": "2024-12-04T04:02:37.921Z"
   },
   {
    "duration": 7,
    "start_time": "2024-12-04T04:02:37.933Z"
   },
   {
    "duration": 10,
    "start_time": "2024-12-04T04:02:37.942Z"
   },
   {
    "duration": 116,
    "start_time": "2024-12-04T04:02:37.954Z"
   },
   {
    "duration": 48,
    "start_time": "2024-12-04T04:02:38.072Z"
   },
   {
    "duration": 14,
    "start_time": "2024-12-04T04:02:38.123Z"
   },
   {
    "duration": 12,
    "start_time": "2024-12-04T04:02:38.138Z"
   },
   {
    "duration": 5,
    "start_time": "2024-12-04T04:02:38.152Z"
   },
   {
    "duration": 950,
    "start_time": "2024-12-04T04:02:38.161Z"
   },
   {
    "duration": 3,
    "start_time": "2024-12-04T04:02:39.113Z"
   },
   {
    "duration": 3,
    "start_time": "2024-12-04T04:02:39.118Z"
   },
   {
    "duration": 5,
    "start_time": "2024-12-04T04:02:39.122Z"
   },
   {
    "duration": 88,
    "start_time": "2024-12-04T04:02:39.128Z"
   },
   {
    "duration": 4,
    "start_time": "2024-12-04T04:02:39.217Z"
   },
   {
    "duration": 11,
    "start_time": "2024-12-04T04:02:39.223Z"
   },
   {
    "duration": 8967,
    "start_time": "2024-12-04T04:02:39.235Z"
   },
   {
    "duration": 8,
    "start_time": "2024-12-04T04:02:48.204Z"
   },
   {
    "duration": 210,
    "start_time": "2024-12-04T04:04:35.441Z"
   },
   {
    "duration": 15,
    "start_time": "2024-12-04T04:04:40.147Z"
   },
   {
    "duration": 14,
    "start_time": "2024-12-04T04:04:51.332Z"
   },
   {
    "duration": 3,
    "start_time": "2024-12-04T04:05:09.062Z"
   },
   {
    "duration": 2,
    "start_time": "2024-12-04T04:06:05.813Z"
   },
   {
    "duration": 3,
    "start_time": "2024-12-04T04:06:12.959Z"
   },
   {
    "duration": 4,
    "start_time": "2024-12-04T04:06:18.041Z"
   },
   {
    "duration": 10,
    "start_time": "2024-12-04T04:07:30.662Z"
   },
   {
    "duration": 12,
    "start_time": "2024-12-04T04:07:53.719Z"
   },
   {
    "duration": 6443,
    "start_time": "2024-12-04T04:08:15.928Z"
   },
   {
    "duration": 3,
    "start_time": "2024-12-04T04:08:25.116Z"
   },
   {
    "duration": 3,
    "start_time": "2024-12-04T04:08:25.982Z"
   },
   {
    "duration": 7,
    "start_time": "2024-12-04T04:08:34.534Z"
   },
   {
    "duration": 6,
    "start_time": "2024-12-04T04:09:24.842Z"
   },
   {
    "duration": 1188,
    "start_time": "2024-12-04T04:09:34.114Z"
   },
   {
    "duration": 12,
    "start_time": "2024-12-04T04:09:37.180Z"
   },
   {
    "duration": 3,
    "start_time": "2024-12-04T04:10:40.995Z"
   },
   {
    "duration": 790,
    "start_time": "2024-12-04T12:54:09.520Z"
   },
   {
    "duration": 300,
    "start_time": "2024-12-04T12:54:10.312Z"
   },
   {
    "duration": 13,
    "start_time": "2024-12-04T12:54:10.614Z"
   },
   {
    "duration": 12,
    "start_time": "2024-12-04T12:54:10.629Z"
   },
   {
    "duration": 8,
    "start_time": "2024-12-04T12:54:10.642Z"
   },
   {
    "duration": 11,
    "start_time": "2024-12-04T12:54:10.651Z"
   },
   {
    "duration": 7,
    "start_time": "2024-12-04T12:54:10.664Z"
   },
   {
    "duration": 11,
    "start_time": "2024-12-04T12:54:10.673Z"
   },
   {
    "duration": 123,
    "start_time": "2024-12-04T12:54:10.686Z"
   },
   {
    "duration": 51,
    "start_time": "2024-12-04T12:54:10.812Z"
   },
   {
    "duration": 14,
    "start_time": "2024-12-04T12:54:10.864Z"
   },
   {
    "duration": 12,
    "start_time": "2024-12-04T12:54:10.880Z"
   },
   {
    "duration": 30,
    "start_time": "2024-12-04T12:54:10.894Z"
   },
   {
    "duration": 912,
    "start_time": "2024-12-04T12:54:10.926Z"
   },
   {
    "duration": 4,
    "start_time": "2024-12-04T12:54:11.840Z"
   },
   {
    "duration": 84,
    "start_time": "2024-12-04T12:54:11.845Z"
   },
   {
    "duration": 8,
    "start_time": "2024-12-04T12:54:11.931Z"
   },
   {
    "duration": 13,
    "start_time": "2024-12-04T12:54:11.940Z"
   },
   {
    "duration": 4,
    "start_time": "2024-12-04T12:54:11.955Z"
   },
   {
    "duration": 69,
    "start_time": "2024-12-04T12:54:11.960Z"
   },
   {
    "duration": 1177,
    "start_time": "2024-12-04T12:54:12.030Z"
   },
   {
    "duration": 15,
    "start_time": "2024-12-04T12:54:13.209Z"
   },
   {
    "duration": 792,
    "start_time": "2024-12-04T16:08:31.394Z"
   },
   {
    "duration": 315,
    "start_time": "2024-12-04T16:08:32.189Z"
   },
   {
    "duration": 14,
    "start_time": "2024-12-04T16:08:32.506Z"
   },
   {
    "duration": 12,
    "start_time": "2024-12-04T16:08:32.522Z"
   },
   {
    "duration": 8,
    "start_time": "2024-12-04T16:08:32.537Z"
   },
   {
    "duration": 10,
    "start_time": "2024-12-04T16:08:32.547Z"
   },
   {
    "duration": 8,
    "start_time": "2024-12-04T16:08:32.559Z"
   },
   {
    "duration": 48,
    "start_time": "2024-12-04T16:08:32.569Z"
   },
   {
    "duration": 96,
    "start_time": "2024-12-04T16:08:32.619Z"
   },
   {
    "duration": 44,
    "start_time": "2024-12-04T16:08:32.717Z"
   },
   {
    "duration": 13,
    "start_time": "2024-12-04T16:08:32.763Z"
   },
   {
    "duration": 38,
    "start_time": "2024-12-04T16:08:32.779Z"
   },
   {
    "duration": 6,
    "start_time": "2024-12-04T16:08:32.819Z"
   },
   {
    "duration": 993,
    "start_time": "2024-12-04T16:08:32.829Z"
   },
   {
    "duration": 4,
    "start_time": "2024-12-04T16:08:33.823Z"
   },
   {
    "duration": 4,
    "start_time": "2024-12-04T16:08:33.829Z"
   },
   {
    "duration": 84,
    "start_time": "2024-12-04T16:08:33.834Z"
   },
   {
    "duration": 14,
    "start_time": "2024-12-04T16:08:33.920Z"
   },
   {
    "duration": 4,
    "start_time": "2024-12-04T16:08:33.936Z"
   },
   {
    "duration": 14,
    "start_time": "2024-12-04T16:08:33.942Z"
   },
   {
    "duration": 1326,
    "start_time": "2024-12-04T16:08:33.959Z"
   },
   {
    "duration": 7,
    "start_time": "2024-12-04T16:08:35.287Z"
   },
   {
    "duration": 953,
    "start_time": "2024-12-04T16:17:33.001Z"
   },
   {
    "duration": 845,
    "start_time": "2024-12-04T16:17:40.806Z"
   },
   {
    "duration": 249,
    "start_time": "2024-12-04T16:17:41.653Z"
   },
   {
    "duration": 18,
    "start_time": "2024-12-04T16:17:41.905Z"
   },
   {
    "duration": 12,
    "start_time": "2024-12-04T16:17:41.925Z"
   },
   {
    "duration": 8,
    "start_time": "2024-12-04T16:17:41.939Z"
   },
   {
    "duration": 12,
    "start_time": "2024-12-04T16:17:41.949Z"
   },
   {
    "duration": 9,
    "start_time": "2024-12-04T16:17:41.962Z"
   },
   {
    "duration": 46,
    "start_time": "2024-12-04T16:17:41.973Z"
   },
   {
    "duration": 108,
    "start_time": "2024-12-04T16:17:42.021Z"
   },
   {
    "duration": 42,
    "start_time": "2024-12-04T16:17:42.130Z"
   },
   {
    "duration": 14,
    "start_time": "2024-12-04T16:17:42.174Z"
   },
   {
    "duration": 14,
    "start_time": "2024-12-04T16:17:42.212Z"
   },
   {
    "duration": 5,
    "start_time": "2024-12-04T16:17:42.228Z"
   },
   {
    "duration": 898,
    "start_time": "2024-12-04T16:17:42.237Z"
   },
   {
    "duration": 76,
    "start_time": "2024-12-04T16:17:43.137Z"
   },
   {
    "duration": 3,
    "start_time": "2024-12-04T16:17:43.215Z"
   },
   {
    "duration": 9,
    "start_time": "2024-12-04T16:17:43.220Z"
   },
   {
    "duration": 86,
    "start_time": "2024-12-04T16:17:43.231Z"
   },
   {
    "duration": 4,
    "start_time": "2024-12-04T16:17:43.320Z"
   },
   {
    "duration": 13,
    "start_time": "2024-12-04T16:17:43.326Z"
   },
   {
    "duration": 1198,
    "start_time": "2024-12-04T16:17:43.341Z"
   },
   {
    "duration": 7,
    "start_time": "2024-12-04T16:17:44.541Z"
   },
   {
    "duration": 7,
    "start_time": "2024-12-04T16:26:34.290Z"
   },
   {
    "duration": 1271,
    "start_time": "2024-12-04T16:34:52.724Z"
   },
   {
    "duration": 8,
    "start_time": "2024-12-04T16:34:54.307Z"
   },
   {
    "duration": 1240,
    "start_time": "2024-12-04T16:35:04.140Z"
   },
   {
    "duration": 7,
    "start_time": "2024-12-04T16:35:09.807Z"
   },
   {
    "duration": 1222,
    "start_time": "2024-12-04T16:35:23.085Z"
   },
   {
    "duration": 7,
    "start_time": "2024-12-04T16:35:24.326Z"
   },
   {
    "duration": 1143,
    "start_time": "2024-12-04T16:35:35.397Z"
   },
   {
    "duration": 7,
    "start_time": "2024-12-04T16:35:37.540Z"
   },
   {
    "duration": 1198,
    "start_time": "2024-12-04T16:35:46.399Z"
   },
   {
    "duration": 7,
    "start_time": "2024-12-04T16:35:47.862Z"
   },
   {
    "duration": 1207,
    "start_time": "2024-12-04T16:36:10.090Z"
   },
   {
    "duration": 8,
    "start_time": "2024-12-04T16:36:11.536Z"
   },
   {
    "duration": 6,
    "start_time": "2024-12-04T16:36:43.627Z"
   },
   {
    "duration": 6,
    "start_time": "2024-12-04T16:41:00.197Z"
   },
   {
    "duration": 1201,
    "start_time": "2024-12-04T16:41:12.098Z"
   },
   {
    "duration": 7,
    "start_time": "2024-12-04T16:41:14.639Z"
   },
   {
    "duration": 10,
    "start_time": "2024-12-04T16:42:43.817Z"
   },
   {
    "duration": 210,
    "start_time": "2024-12-04T16:43:54.369Z"
   },
   {
    "duration": 1193,
    "start_time": "2024-12-04T16:43:58.569Z"
   },
   {
    "duration": 13,
    "start_time": "2024-12-04T16:44:07.504Z"
   },
   {
    "duration": 8,
    "start_time": "2024-12-04T16:44:15.669Z"
   },
   {
    "duration": 13,
    "start_time": "2024-12-04T16:44:49.180Z"
   },
   {
    "duration": 8,
    "start_time": "2024-12-04T16:45:04.006Z"
   },
   {
    "duration": 6,
    "start_time": "2024-12-04T16:47:32.215Z"
   },
   {
    "duration": 23,
    "start_time": "2024-12-04T16:48:27.498Z"
   },
   {
    "duration": 22,
    "start_time": "2024-12-04T16:48:45.604Z"
   },
   {
    "duration": 22,
    "start_time": "2024-12-04T16:48:58.339Z"
   },
   {
    "duration": 1172,
    "start_time": "2024-12-04T16:49:05.147Z"
   },
   {
    "duration": 7,
    "start_time": "2024-12-04T16:49:16.893Z"
   },
   {
    "duration": 1238,
    "start_time": "2024-12-04T16:49:31.061Z"
   },
   {
    "duration": 7,
    "start_time": "2024-12-04T16:49:32.574Z"
   },
   {
    "duration": 1212,
    "start_time": "2024-12-04T16:49:46.545Z"
   },
   {
    "duration": 7,
    "start_time": "2024-12-04T16:49:47.916Z"
   },
   {
    "duration": 1208,
    "start_time": "2024-12-04T16:49:57.741Z"
   },
   {
    "duration": 8,
    "start_time": "2024-12-04T16:49:59.621Z"
   },
   {
    "duration": 6,
    "start_time": "2024-12-04T22:13:43.314Z"
   },
   {
    "duration": 794,
    "start_time": "2024-12-04T22:13:47.322Z"
   },
   {
    "duration": 313,
    "start_time": "2024-12-04T22:13:48.119Z"
   },
   {
    "duration": 13,
    "start_time": "2024-12-04T22:13:48.434Z"
   },
   {
    "duration": 11,
    "start_time": "2024-12-04T22:13:48.449Z"
   },
   {
    "duration": 7,
    "start_time": "2024-12-04T22:13:48.462Z"
   },
   {
    "duration": 26,
    "start_time": "2024-12-04T22:13:48.470Z"
   },
   {
    "duration": 8,
    "start_time": "2024-12-04T22:13:48.498Z"
   },
   {
    "duration": 9,
    "start_time": "2024-12-04T22:13:48.509Z"
   },
   {
    "duration": 111,
    "start_time": "2024-12-04T22:13:48.520Z"
   },
   {
    "duration": 54,
    "start_time": "2024-12-04T22:13:48.633Z"
   },
   {
    "duration": 13,
    "start_time": "2024-12-04T22:13:48.689Z"
   },
   {
    "duration": 13,
    "start_time": "2024-12-04T22:13:48.704Z"
   },
   {
    "duration": 5,
    "start_time": "2024-12-04T22:13:48.719Z"
   },
   {
    "duration": 962,
    "start_time": "2024-12-04T22:13:48.727Z"
   },
   {
    "duration": 8,
    "start_time": "2024-12-04T22:13:49.691Z"
   },
   {
    "duration": 4,
    "start_time": "2024-12-04T22:13:49.700Z"
   },
   {
    "duration": 3,
    "start_time": "2024-12-04T22:13:49.705Z"
   },
   {
    "duration": 81,
    "start_time": "2024-12-04T22:13:49.710Z"
   },
   {
    "duration": 13,
    "start_time": "2024-12-04T22:13:49.793Z"
   },
   {
    "duration": 5,
    "start_time": "2024-12-04T22:13:49.807Z"
   },
   {
    "duration": 12,
    "start_time": "2024-12-04T22:13:49.813Z"
   },
   {
    "duration": 1214,
    "start_time": "2024-12-04T22:13:49.827Z"
   },
   {
    "duration": 7,
    "start_time": "2024-12-04T22:13:51.044Z"
   },
   {
    "duration": 2,
    "start_time": "2024-12-04T22:13:51.053Z"
   },
   {
    "duration": 4,
    "start_time": "2024-12-04T22:13:51.058Z"
   },
   {
    "duration": 23,
    "start_time": "2024-12-04T22:13:51.063Z"
   },
   {
    "duration": 290,
    "start_time": "2024-12-04T22:26:48.120Z"
   },
   {
    "duration": 894,
    "start_time": "2024-12-04T22:28:12.400Z"
   },
   {
    "duration": 294,
    "start_time": "2024-12-04T22:28:13.297Z"
   },
   {
    "duration": 29,
    "start_time": "2024-12-04T22:28:13.593Z"
   },
   {
    "duration": 13,
    "start_time": "2024-12-04T22:28:13.624Z"
   },
   {
    "duration": 7,
    "start_time": "2024-12-04T22:28:13.640Z"
   },
   {
    "duration": 10,
    "start_time": "2024-12-04T22:28:13.649Z"
   },
   {
    "duration": 8,
    "start_time": "2024-12-04T22:28:13.661Z"
   },
   {
    "duration": 45,
    "start_time": "2024-12-04T22:28:13.671Z"
   },
   {
    "duration": 108,
    "start_time": "2024-12-04T22:28:13.717Z"
   },
   {
    "duration": 48,
    "start_time": "2024-12-04T22:28:13.828Z"
   },
   {
    "duration": 32,
    "start_time": "2024-12-04T22:28:13.879Z"
   },
   {
    "duration": 22,
    "start_time": "2024-12-04T22:28:13.913Z"
   },
   {
    "duration": 5,
    "start_time": "2024-12-04T22:28:13.937Z"
   },
   {
    "duration": 1146,
    "start_time": "2024-12-04T22:28:13.946Z"
   },
   {
    "duration": 10,
    "start_time": "2024-12-04T22:28:15.104Z"
   },
   {
    "duration": 5,
    "start_time": "2024-12-04T22:28:15.121Z"
   },
   {
    "duration": 4,
    "start_time": "2024-12-04T22:28:15.127Z"
   },
   {
    "duration": 5,
    "start_time": "2024-12-04T22:28:15.132Z"
   },
   {
    "duration": 13,
    "start_time": "2024-12-04T22:28:15.138Z"
   },
   {
    "duration": 8,
    "start_time": "2024-12-04T22:28:15.187Z"
   },
   {
    "duration": 269,
    "start_time": "2024-12-04T22:28:15.198Z"
   },
   {
    "duration": 0,
    "start_time": "2024-12-04T22:28:15.469Z"
   },
   {
    "duration": 0,
    "start_time": "2024-12-04T22:28:15.470Z"
   },
   {
    "duration": 19,
    "start_time": "2024-12-04T22:28:45.100Z"
   },
   {
    "duration": 19,
    "start_time": "2024-12-04T22:29:09.232Z"
   },
   {
    "duration": 24,
    "start_time": "2024-12-04T22:32:33.211Z"
   },
   {
    "duration": 31,
    "start_time": "2024-12-04T22:33:12.829Z"
   },
   {
    "duration": 17,
    "start_time": "2024-12-04T22:33:24.308Z"
   },
   {
    "duration": 9,
    "start_time": "2024-12-04T22:34:38.534Z"
   },
   {
    "duration": 4,
    "start_time": "2024-12-04T22:34:52.665Z"
   },
   {
    "duration": 5,
    "start_time": "2024-12-04T22:34:56.662Z"
   },
   {
    "duration": 21,
    "start_time": "2024-12-04T22:35:02.544Z"
   },
   {
    "duration": 5,
    "start_time": "2024-12-04T22:35:16.333Z"
   },
   {
    "duration": 1259,
    "start_time": "2024-12-04T22:42:46.777Z"
   },
   {
    "duration": 1207,
    "start_time": "2024-12-04T22:43:14.325Z"
   },
   {
    "duration": 7,
    "start_time": "2024-12-04T22:43:41.154Z"
   },
   {
    "duration": 160,
    "start_time": "2024-12-07T14:23:27.713Z"
   },
   {
    "duration": 2617,
    "start_time": "2024-12-07T14:23:34.706Z"
   },
   {
    "duration": 303,
    "start_time": "2024-12-07T14:23:37.325Z"
   },
   {
    "duration": 11,
    "start_time": "2024-12-07T14:23:37.629Z"
   },
   {
    "duration": 10,
    "start_time": "2024-12-07T14:23:37.642Z"
   },
   {
    "duration": 8,
    "start_time": "2024-12-07T14:23:37.654Z"
   },
   {
    "duration": 10,
    "start_time": "2024-12-07T14:23:37.664Z"
   },
   {
    "duration": 8,
    "start_time": "2024-12-07T14:23:37.675Z"
   },
   {
    "duration": 10,
    "start_time": "2024-12-07T14:23:37.685Z"
   },
   {
    "duration": 117,
    "start_time": "2024-12-07T14:23:37.696Z"
   },
   {
    "duration": 55,
    "start_time": "2024-12-07T14:23:37.817Z"
   },
   {
    "duration": 15,
    "start_time": "2024-12-07T14:23:37.874Z"
   },
   {
    "duration": 13,
    "start_time": "2024-12-07T14:23:37.890Z"
   },
   {
    "duration": 443,
    "start_time": "2024-12-07T14:23:37.905Z"
   },
   {
    "duration": 0,
    "start_time": "2024-12-07T14:23:38.349Z"
   },
   {
    "duration": 0,
    "start_time": "2024-12-07T14:23:38.350Z"
   },
   {
    "duration": 0,
    "start_time": "2024-12-07T14:23:38.352Z"
   },
   {
    "duration": 0,
    "start_time": "2024-12-07T14:23:38.354Z"
   },
   {
    "duration": 0,
    "start_time": "2024-12-07T14:23:38.355Z"
   },
   {
    "duration": 0,
    "start_time": "2024-12-07T14:23:38.356Z"
   },
   {
    "duration": 0,
    "start_time": "2024-12-07T14:23:38.357Z"
   },
   {
    "duration": 0,
    "start_time": "2024-12-07T14:23:38.358Z"
   },
   {
    "duration": 0,
    "start_time": "2024-12-07T14:23:38.359Z"
   },
   {
    "duration": 0,
    "start_time": "2024-12-07T14:23:38.360Z"
   },
   {
    "duration": 0,
    "start_time": "2024-12-07T14:23:38.361Z"
   },
   {
    "duration": 39,
    "start_time": "2024-12-07T14:28:48.800Z"
   },
   {
    "duration": 15,
    "start_time": "2024-12-07T14:29:24.266Z"
   },
   {
    "duration": 39,
    "start_time": "2024-12-07T14:29:31.578Z"
   },
   {
    "duration": 42,
    "start_time": "2024-12-07T14:30:04.069Z"
   },
   {
    "duration": 16,
    "start_time": "2024-12-07T14:30:12.463Z"
   },
   {
    "duration": 47,
    "start_time": "2024-12-07T14:30:16.723Z"
   },
   {
    "duration": 954,
    "start_time": "2024-12-07T14:31:34.795Z"
   },
   {
    "duration": 220,
    "start_time": "2024-12-07T14:31:35.752Z"
   },
   {
    "duration": 11,
    "start_time": "2024-12-07T14:31:35.973Z"
   },
   {
    "duration": 13,
    "start_time": "2024-12-07T14:31:35.986Z"
   },
   {
    "duration": 8,
    "start_time": "2024-12-07T14:31:36.002Z"
   },
   {
    "duration": 31,
    "start_time": "2024-12-07T14:31:36.011Z"
   },
   {
    "duration": 9,
    "start_time": "2024-12-07T14:31:36.043Z"
   },
   {
    "duration": 11,
    "start_time": "2024-12-07T14:31:36.054Z"
   },
   {
    "duration": 106,
    "start_time": "2024-12-07T14:31:36.067Z"
   },
   {
    "duration": 40,
    "start_time": "2024-12-07T14:31:36.174Z"
   },
   {
    "duration": 31,
    "start_time": "2024-12-07T14:31:36.216Z"
   },
   {
    "duration": 13,
    "start_time": "2024-12-07T14:31:36.249Z"
   },
   {
    "duration": 1010,
    "start_time": "2024-12-07T14:34:41.662Z"
   },
   {
    "duration": 286,
    "start_time": "2024-12-07T14:34:42.674Z"
   },
   {
    "duration": 15,
    "start_time": "2024-12-07T14:34:42.962Z"
   },
   {
    "duration": 12,
    "start_time": "2024-12-07T14:34:42.980Z"
   },
   {
    "duration": 7,
    "start_time": "2024-12-07T14:34:42.994Z"
   },
   {
    "duration": 12,
    "start_time": "2024-12-07T14:34:43.003Z"
   },
   {
    "duration": 30,
    "start_time": "2024-12-07T14:34:43.017Z"
   },
   {
    "duration": 11,
    "start_time": "2024-12-07T14:34:43.049Z"
   },
   {
    "duration": 100,
    "start_time": "2024-12-07T14:34:43.062Z"
   },
   {
    "duration": 40,
    "start_time": "2024-12-07T14:34:43.165Z"
   },
   {
    "duration": 13,
    "start_time": "2024-12-07T14:34:43.207Z"
   },
   {
    "duration": 14,
    "start_time": "2024-12-07T14:34:43.242Z"
   },
   {
    "duration": 647,
    "start_time": "2024-12-07T14:34:43.258Z"
   },
   {
    "duration": 0,
    "start_time": "2024-12-07T14:34:43.907Z"
   },
   {
    "duration": 0,
    "start_time": "2024-12-07T14:34:43.909Z"
   },
   {
    "duration": 0,
    "start_time": "2024-12-07T14:34:43.910Z"
   },
   {
    "duration": 0,
    "start_time": "2024-12-07T14:34:43.911Z"
   },
   {
    "duration": 0,
    "start_time": "2024-12-07T14:34:43.912Z"
   },
   {
    "duration": 0,
    "start_time": "2024-12-07T14:34:43.913Z"
   },
   {
    "duration": 0,
    "start_time": "2024-12-07T14:34:43.914Z"
   },
   {
    "duration": 0,
    "start_time": "2024-12-07T14:34:43.915Z"
   },
   {
    "duration": 0,
    "start_time": "2024-12-07T14:34:43.916Z"
   },
   {
    "duration": 0,
    "start_time": "2024-12-07T14:34:43.917Z"
   },
   {
    "duration": 0,
    "start_time": "2024-12-07T14:34:43.919Z"
   },
   {
    "duration": 43,
    "start_time": "2024-12-07T14:35:07.532Z"
   },
   {
    "duration": 1659,
    "start_time": "2024-12-07T14:36:01.264Z"
   },
   {
    "duration": 4820,
    "start_time": "2024-12-07T14:38:21.838Z"
   },
   {
    "duration": 1643,
    "start_time": "2024-12-07T14:43:12.299Z"
   },
   {
    "duration": 1468,
    "start_time": "2024-12-07T14:46:26.306Z"
   },
   {
    "duration": 3430,
    "start_time": "2024-12-07T17:57:39.222Z"
   },
   {
    "duration": 363,
    "start_time": "2024-12-07T17:57:42.654Z"
   },
   {
    "duration": 15,
    "start_time": "2024-12-07T17:57:43.018Z"
   },
   {
    "duration": 15,
    "start_time": "2024-12-07T17:57:43.035Z"
   },
   {
    "duration": 9,
    "start_time": "2024-12-07T17:57:43.053Z"
   },
   {
    "duration": 13,
    "start_time": "2024-12-07T17:57:43.064Z"
   },
   {
    "duration": 9,
    "start_time": "2024-12-07T17:57:43.079Z"
   },
   {
    "duration": 45,
    "start_time": "2024-12-07T17:57:43.090Z"
   },
   {
    "duration": 119,
    "start_time": "2024-12-07T17:57:43.137Z"
   },
   {
    "duration": 48,
    "start_time": "2024-12-07T17:57:43.258Z"
   },
   {
    "duration": 36,
    "start_time": "2024-12-07T17:57:43.308Z"
   },
   {
    "duration": 18,
    "start_time": "2024-12-07T17:57:43.349Z"
   },
   {
    "duration": 1844,
    "start_time": "2024-12-07T17:57:43.372Z"
   },
   {
    "duration": 5,
    "start_time": "2024-12-07T17:57:45.219Z"
   },
   {
    "duration": 1438,
    "start_time": "2024-12-07T17:57:45.226Z"
   },
   {
    "duration": 84,
    "start_time": "2024-12-07T17:57:46.668Z"
   },
   {
    "duration": 5,
    "start_time": "2024-12-07T17:57:46.754Z"
   },
   {
    "duration": 4,
    "start_time": "2024-12-07T17:57:46.761Z"
   },
   {
    "duration": 5,
    "start_time": "2024-12-07T17:57:46.767Z"
   },
   {
    "duration": 65,
    "start_time": "2024-12-07T17:57:46.774Z"
   },
   {
    "duration": 5,
    "start_time": "2024-12-07T17:57:46.841Z"
   },
   {
    "duration": 6,
    "start_time": "2024-12-07T17:57:46.848Z"
   },
   {
    "duration": 1405,
    "start_time": "2024-12-07T17:57:46.856Z"
   },
   {
    "duration": 6,
    "start_time": "2024-12-07T17:57:48.263Z"
   },
   {
    "duration": 2207,
    "start_time": "2024-12-07T17:58:00.163Z"
   },
   {
    "duration": 1542,
    "start_time": "2024-12-07T17:58:55.555Z"
   },
   {
    "duration": 2501,
    "start_time": "2024-12-07T17:59:24.742Z"
   },
   {
    "duration": 1306,
    "start_time": "2024-12-07T18:08:19.275Z"
   },
   {
    "duration": 1644,
    "start_time": "2024-12-07T18:08:33.686Z"
   },
   {
    "duration": 1824,
    "start_time": "2024-12-07T18:08:50.603Z"
   },
   {
    "duration": 2180,
    "start_time": "2024-12-07T18:09:05.409Z"
   },
   {
    "duration": 2001,
    "start_time": "2024-12-07T18:12:48.441Z"
   },
   {
    "duration": 1843,
    "start_time": "2024-12-07T18:16:45.539Z"
   },
   {
    "duration": 2392,
    "start_time": "2024-12-07T18:16:56.026Z"
   },
   {
    "duration": 2464,
    "start_time": "2024-12-07T18:17:50.533Z"
   },
   {
    "duration": 3,
    "start_time": "2024-12-07T18:20:10.853Z"
   },
   {
    "duration": 4,
    "start_time": "2024-12-07T18:20:16.813Z"
   },
   {
    "duration": 4,
    "start_time": "2024-12-07T18:20:25.497Z"
   },
   {
    "duration": 280,
    "start_time": "2024-12-07T18:22:05.740Z"
   },
   {
    "duration": 351,
    "start_time": "2024-12-07T18:23:24.977Z"
   },
   {
    "duration": 900,
    "start_time": "2024-12-07T18:24:12.931Z"
   },
   {
    "duration": 2427,
    "start_time": "2024-12-07T18:25:08.790Z"
   },
   {
    "duration": 5,
    "start_time": "2024-12-07T18:27:58.793Z"
   },
   {
    "duration": 5,
    "start_time": "2024-12-07T18:30:05.587Z"
   },
   {
    "duration": 35,
    "start_time": "2024-12-07T18:30:09.170Z"
   },
   {
    "duration": 1001,
    "start_time": "2024-12-07T18:30:21.488Z"
   },
   {
    "duration": 231,
    "start_time": "2024-12-07T18:30:22.491Z"
   },
   {
    "duration": 11,
    "start_time": "2024-12-07T18:30:22.723Z"
   },
   {
    "duration": 12,
    "start_time": "2024-12-07T18:30:22.737Z"
   },
   {
    "duration": 8,
    "start_time": "2024-12-07T18:30:22.751Z"
   },
   {
    "duration": 11,
    "start_time": "2024-12-07T18:30:22.760Z"
   },
   {
    "duration": 9,
    "start_time": "2024-12-07T18:30:22.772Z"
   },
   {
    "duration": 10,
    "start_time": "2024-12-07T18:30:22.783Z"
   },
   {
    "duration": 88,
    "start_time": "2024-12-07T18:30:22.832Z"
   },
   {
    "duration": 41,
    "start_time": "2024-12-07T18:30:22.933Z"
   },
   {
    "duration": 13,
    "start_time": "2024-12-07T18:30:22.976Z"
   },
   {
    "duration": 12,
    "start_time": "2024-12-07T18:30:22.991Z"
   },
   {
    "duration": 2151,
    "start_time": "2024-12-07T18:30:23.005Z"
   },
   {
    "duration": 935,
    "start_time": "2024-12-07T18:30:25.158Z"
   },
   {
    "duration": 4,
    "start_time": "2024-12-07T18:30:26.095Z"
   },
   {
    "duration": 255,
    "start_time": "2024-12-07T18:30:26.101Z"
   },
   {
    "duration": 0,
    "start_time": "2024-12-07T18:30:26.358Z"
   },
   {
    "duration": 0,
    "start_time": "2024-12-07T18:30:26.359Z"
   },
   {
    "duration": 0,
    "start_time": "2024-12-07T18:30:26.361Z"
   },
   {
    "duration": 0,
    "start_time": "2024-12-07T18:30:26.362Z"
   },
   {
    "duration": 0,
    "start_time": "2024-12-07T18:30:26.364Z"
   },
   {
    "duration": 1,
    "start_time": "2024-12-07T18:30:26.365Z"
   },
   {
    "duration": 0,
    "start_time": "2024-12-07T18:30:26.367Z"
   },
   {
    "duration": 0,
    "start_time": "2024-12-07T18:30:26.368Z"
   },
   {
    "duration": 0,
    "start_time": "2024-12-07T18:30:26.370Z"
   },
   {
    "duration": 5,
    "start_time": "2024-12-07T18:31:18.662Z"
   },
   {
    "duration": 76,
    "start_time": "2024-12-07T18:31:20.875Z"
   },
   {
    "duration": 5,
    "start_time": "2024-12-07T18:35:54.128Z"
   },
   {
    "duration": 90,
    "start_time": "2024-12-07T18:35:58.742Z"
   },
   {
    "duration": 5,
    "start_time": "2024-12-07T18:37:05.735Z"
   },
   {
    "duration": 185,
    "start_time": "2024-12-07T18:37:09.348Z"
   },
   {
    "duration": 5,
    "start_time": "2024-12-07T18:37:54.720Z"
   },
   {
    "duration": 14,
    "start_time": "2024-12-07T18:38:04.196Z"
   },
   {
    "duration": 6,
    "start_time": "2024-12-07T18:40:13.619Z"
   },
   {
    "duration": 14,
    "start_time": "2024-12-07T18:40:15.100Z"
   },
   {
    "duration": 213,
    "start_time": "2024-12-07T18:40:23.319Z"
   },
   {
    "duration": 1071,
    "start_time": "2024-12-07T18:43:35.794Z"
   },
   {
    "duration": 245,
    "start_time": "2024-12-07T18:43:36.867Z"
   },
   {
    "duration": 11,
    "start_time": "2024-12-07T18:43:37.114Z"
   },
   {
    "duration": 31,
    "start_time": "2024-12-07T18:43:37.127Z"
   },
   {
    "duration": 10,
    "start_time": "2024-12-07T18:43:37.160Z"
   },
   {
    "duration": 11,
    "start_time": "2024-12-07T18:43:37.172Z"
   },
   {
    "duration": 7,
    "start_time": "2024-12-07T18:43:37.185Z"
   },
   {
    "duration": 10,
    "start_time": "2024-12-07T18:43:37.194Z"
   },
   {
    "duration": 112,
    "start_time": "2024-12-07T18:43:37.206Z"
   },
   {
    "duration": 63,
    "start_time": "2024-12-07T18:43:37.321Z"
   },
   {
    "duration": 13,
    "start_time": "2024-12-07T18:43:37.386Z"
   },
   {
    "duration": 14,
    "start_time": "2024-12-07T18:43:37.401Z"
   },
   {
    "duration": 2189,
    "start_time": "2024-12-07T18:43:37.430Z"
   },
   {
    "duration": 974,
    "start_time": "2024-12-07T18:43:39.623Z"
   },
   {
    "duration": 5,
    "start_time": "2024-12-07T18:43:40.599Z"
   },
   {
    "duration": 127,
    "start_time": "2024-12-07T18:43:40.606Z"
   },
   {
    "duration": 9,
    "start_time": "2024-12-07T18:43:40.735Z"
   },
   {
    "duration": 6,
    "start_time": "2024-12-07T18:43:40.746Z"
   },
   {
    "duration": 6,
    "start_time": "2024-12-07T18:43:40.754Z"
   },
   {
    "duration": 6,
    "start_time": "2024-12-07T18:43:40.761Z"
   },
   {
    "duration": 66,
    "start_time": "2024-12-07T18:43:40.768Z"
   },
   {
    "duration": 18,
    "start_time": "2024-12-07T18:43:40.836Z"
   },
   {
    "duration": 290,
    "start_time": "2024-12-07T18:43:40.856Z"
   },
   {
    "duration": 0,
    "start_time": "2024-12-07T18:43:41.156Z"
   },
   {
    "duration": 0,
    "start_time": "2024-12-07T18:43:41.157Z"
   },
   {
    "duration": 6,
    "start_time": "2024-12-07T18:43:58.578Z"
   },
   {
    "duration": 1142,
    "start_time": "2024-12-07T18:44:04.461Z"
   },
   {
    "duration": 312,
    "start_time": "2024-12-07T18:44:05.605Z"
   },
   {
    "duration": 14,
    "start_time": "2024-12-07T18:44:05.919Z"
   },
   {
    "duration": 12,
    "start_time": "2024-12-07T18:44:05.935Z"
   },
   {
    "duration": 8,
    "start_time": "2024-12-07T18:44:05.949Z"
   },
   {
    "duration": 11,
    "start_time": "2024-12-07T18:44:05.959Z"
   },
   {
    "duration": 9,
    "start_time": "2024-12-07T18:44:05.972Z"
   },
   {
    "duration": 12,
    "start_time": "2024-12-07T18:44:05.983Z"
   },
   {
    "duration": 157,
    "start_time": "2024-12-07T18:44:05.997Z"
   },
   {
    "duration": 57,
    "start_time": "2024-12-07T18:44:06.157Z"
   },
   {
    "duration": 14,
    "start_time": "2024-12-07T18:44:06.232Z"
   },
   {
    "duration": 15,
    "start_time": "2024-12-07T18:44:06.248Z"
   },
   {
    "duration": 2117,
    "start_time": "2024-12-07T18:44:06.266Z"
   },
   {
    "duration": 914,
    "start_time": "2024-12-07T18:44:08.384Z"
   },
   {
    "duration": 7,
    "start_time": "2024-12-07T18:44:09.302Z"
   },
   {
    "duration": 135,
    "start_time": "2024-12-07T18:44:09.312Z"
   },
   {
    "duration": 11,
    "start_time": "2024-12-07T18:44:09.449Z"
   },
   {
    "duration": 71,
    "start_time": "2024-12-07T18:44:09.461Z"
   },
   {
    "duration": 3,
    "start_time": "2024-12-07T18:44:09.535Z"
   },
   {
    "duration": 6,
    "start_time": "2024-12-07T18:44:09.540Z"
   },
   {
    "duration": 17,
    "start_time": "2024-12-07T18:44:09.548Z"
   },
   {
    "duration": 5,
    "start_time": "2024-12-07T18:44:09.567Z"
   },
   {
    "duration": 6,
    "start_time": "2024-12-07T18:44:09.574Z"
   },
   {
    "duration": 1312,
    "start_time": "2024-12-07T18:44:09.581Z"
   },
   {
    "duration": 244,
    "start_time": "2024-12-07T18:44:10.895Z"
   },
   {
    "duration": 7,
    "start_time": "2024-12-07T18:44:25.959Z"
   },
   {
    "duration": 6,
    "start_time": "2024-12-07T19:02:23.796Z"
   },
   {
    "duration": 7,
    "start_time": "2024-12-07T19:13:33.008Z"
   },
   {
    "duration": 1256,
    "start_time": "2024-12-07T19:13:43.669Z"
   },
   {
    "duration": 3,
    "start_time": "2024-12-07T19:49:46.170Z"
   },
   {
    "duration": 8,
    "start_time": "2024-12-07T19:50:29.346Z"
   },
   {
    "duration": 1377,
    "start_time": "2024-12-07T19:51:23.866Z"
   },
   {
    "duration": 6,
    "start_time": "2024-12-07T19:55:11.535Z"
   },
   {
    "duration": 32,
    "start_time": "2024-12-07T19:56:22.738Z"
   },
   {
    "duration": 27,
    "start_time": "2024-12-07T19:56:31.886Z"
   },
   {
    "duration": 1407,
    "start_time": "2024-12-07T19:56:54.445Z"
   },
   {
    "duration": 7,
    "start_time": "2024-12-07T19:56:59.821Z"
   },
   {
    "duration": 17,
    "start_time": "2024-12-07T20:01:12.703Z"
   },
   {
    "duration": 19,
    "start_time": "2024-12-07T20:01:39.147Z"
   },
   {
    "duration": 497,
    "start_time": "2024-12-07T20:02:10.947Z"
   },
   {
    "duration": 4,
    "start_time": "2024-12-07T20:02:19.465Z"
   },
   {
    "duration": 483,
    "start_time": "2024-12-07T20:02:20.893Z"
   },
   {
    "duration": 4,
    "start_time": "2024-12-07T20:03:39.377Z"
   },
   {
    "duration": 1396,
    "start_time": "2024-12-07T20:03:40.718Z"
   },
   {
    "duration": 1367,
    "start_time": "2024-12-07T20:05:21.101Z"
   },
   {
    "duration": 1443,
    "start_time": "2024-12-07T20:05:37.607Z"
   },
   {
    "duration": 6,
    "start_time": "2024-12-07T20:07:04.384Z"
   },
   {
    "duration": 1402,
    "start_time": "2024-12-07T20:20:56.548Z"
   },
   {
    "duration": 1450,
    "start_time": "2024-12-07T20:21:27.512Z"
   },
   {
    "duration": 5,
    "start_time": "2024-12-07T20:22:00.907Z"
   },
   {
    "duration": 1459,
    "start_time": "2024-12-07T20:22:18.311Z"
   },
   {
    "duration": 1845,
    "start_time": "2024-12-07T20:24:03.355Z"
   },
   {
    "duration": 81,
    "start_time": "2024-12-07T20:25:44.096Z"
   },
   {
    "duration": 21,
    "start_time": "2024-12-07T20:26:08.365Z"
   },
   {
    "duration": 7,
    "start_time": "2024-12-07T20:26:57.356Z"
   },
   {
    "duration": 1415,
    "start_time": "2024-12-07T20:27:09.096Z"
   },
   {
    "duration": 19,
    "start_time": "2024-12-07T20:27:13.452Z"
   },
   {
    "duration": 7,
    "start_time": "2024-12-07T20:33:31.014Z"
   },
   {
    "duration": 486,
    "start_time": "2024-12-07T20:33:46.457Z"
   },
   {
    "duration": 1425,
    "start_time": "2024-12-07T20:35:16.706Z"
   },
   {
    "duration": 7,
    "start_time": "2024-12-07T20:37:34.237Z"
   },
   {
    "duration": 1432,
    "start_time": "2024-12-07T20:38:41.401Z"
   },
   {
    "duration": 1463,
    "start_time": "2024-12-07T20:40:56.550Z"
   },
   {
    "duration": 1471,
    "start_time": "2024-12-07T20:41:07.686Z"
   },
   {
    "duration": 1615,
    "start_time": "2024-12-07T20:44:35.285Z"
   },
   {
    "duration": 1411,
    "start_time": "2024-12-07T20:45:16.116Z"
   },
   {
    "duration": 1399,
    "start_time": "2024-12-07T20:45:51.661Z"
   },
   {
    "duration": 4,
    "start_time": "2024-12-07T20:51:01.945Z"
   },
   {
    "duration": 1410,
    "start_time": "2024-12-07T20:51:03.668Z"
   },
   {
    "duration": 1367,
    "start_time": "2024-12-07T20:51:55.664Z"
   },
   {
    "duration": 1020,
    "start_time": "2024-12-07T20:53:12.938Z"
   },
   {
    "duration": 227,
    "start_time": "2024-12-07T20:53:13.960Z"
   },
   {
    "duration": 11,
    "start_time": "2024-12-07T20:53:14.189Z"
   },
   {
    "duration": 14,
    "start_time": "2024-12-07T20:53:14.202Z"
   },
   {
    "duration": 8,
    "start_time": "2024-12-07T20:53:14.231Z"
   },
   {
    "duration": 10,
    "start_time": "2024-12-07T20:53:14.241Z"
   },
   {
    "duration": 8,
    "start_time": "2024-12-07T20:53:14.253Z"
   },
   {
    "duration": 11,
    "start_time": "2024-12-07T20:53:14.263Z"
   },
   {
    "duration": 116,
    "start_time": "2024-12-07T20:53:14.275Z"
   },
   {
    "duration": 48,
    "start_time": "2024-12-07T20:53:14.393Z"
   },
   {
    "duration": 13,
    "start_time": "2024-12-07T20:53:14.443Z"
   },
   {
    "duration": 13,
    "start_time": "2024-12-07T20:53:14.458Z"
   },
   {
    "duration": 2070,
    "start_time": "2024-12-07T20:53:14.474Z"
   },
   {
    "duration": 954,
    "start_time": "2024-12-07T20:53:16.547Z"
   },
   {
    "duration": 5,
    "start_time": "2024-12-07T20:53:17.503Z"
   },
   {
    "duration": 146,
    "start_time": "2024-12-07T20:53:17.510Z"
   },
   {
    "duration": 81,
    "start_time": "2024-12-07T20:53:17.661Z"
   },
   {
    "duration": 3,
    "start_time": "2024-12-07T20:53:17.744Z"
   },
   {
    "duration": 5,
    "start_time": "2024-12-07T20:53:17.748Z"
   },
   {
    "duration": 5,
    "start_time": "2024-12-07T20:53:17.756Z"
   },
   {
    "duration": 14,
    "start_time": "2024-12-07T20:53:17.763Z"
   },
   {
    "duration": 7,
    "start_time": "2024-12-07T20:53:17.832Z"
   },
   {
    "duration": 6,
    "start_time": "2024-12-07T20:53:17.841Z"
   },
   {
    "duration": 4,
    "start_time": "2024-12-07T20:53:17.848Z"
   },
   {
    "duration": 262,
    "start_time": "2024-12-07T20:53:17.853Z"
   },
   {
    "duration": 0,
    "start_time": "2024-12-07T20:53:18.117Z"
   },
   {
    "duration": 0,
    "start_time": "2024-12-07T20:53:18.118Z"
   },
   {
    "duration": 20,
    "start_time": "2024-12-07T20:53:27.253Z"
   },
   {
    "duration": 18,
    "start_time": "2024-12-07T20:53:30.452Z"
   },
   {
    "duration": 21,
    "start_time": "2024-12-07T20:54:42.637Z"
   },
   {
    "duration": 27,
    "start_time": "2024-12-07T20:54:59.233Z"
   },
   {
    "duration": 4,
    "start_time": "2024-12-07T20:58:25.239Z"
   },
   {
    "duration": 35,
    "start_time": "2024-12-07T20:58:26.675Z"
   },
   {
    "duration": 1077,
    "start_time": "2024-12-07T20:58:43.672Z"
   },
   {
    "duration": 227,
    "start_time": "2024-12-07T20:58:44.752Z"
   },
   {
    "duration": 12,
    "start_time": "2024-12-07T20:58:44.981Z"
   },
   {
    "duration": 15,
    "start_time": "2024-12-07T20:58:44.996Z"
   },
   {
    "duration": 21,
    "start_time": "2024-12-07T20:58:45.013Z"
   },
   {
    "duration": 15,
    "start_time": "2024-12-07T20:58:45.036Z"
   },
   {
    "duration": 10,
    "start_time": "2024-12-07T20:58:45.053Z"
   },
   {
    "duration": 13,
    "start_time": "2024-12-07T20:58:45.065Z"
   },
   {
    "duration": 118,
    "start_time": "2024-12-07T20:58:45.079Z"
   },
   {
    "duration": 56,
    "start_time": "2024-12-07T20:58:45.199Z"
   },
   {
    "duration": 18,
    "start_time": "2024-12-07T20:58:45.259Z"
   },
   {
    "duration": 14,
    "start_time": "2024-12-07T20:58:45.279Z"
   },
   {
    "duration": 2079,
    "start_time": "2024-12-07T20:58:45.295Z"
   },
   {
    "duration": 1035,
    "start_time": "2024-12-07T20:58:47.377Z"
   },
   {
    "duration": 7,
    "start_time": "2024-12-07T20:58:48.414Z"
   },
   {
    "duration": 115,
    "start_time": "2024-12-07T20:58:48.431Z"
   },
   {
    "duration": 84,
    "start_time": "2024-12-07T20:58:48.548Z"
   },
   {
    "duration": 3,
    "start_time": "2024-12-07T20:58:48.634Z"
   },
   {
    "duration": 3,
    "start_time": "2024-12-07T20:58:48.639Z"
   },
   {
    "duration": 4,
    "start_time": "2024-12-07T20:58:48.644Z"
   },
   {
    "duration": 14,
    "start_time": "2024-12-07T20:58:48.650Z"
   },
   {
    "duration": 5,
    "start_time": "2024-12-07T20:58:48.665Z"
   },
   {
    "duration": 7,
    "start_time": "2024-12-07T20:58:48.672Z"
   },
   {
    "duration": 54,
    "start_time": "2024-12-07T20:58:48.680Z"
   },
   {
    "duration": 279,
    "start_time": "2024-12-07T20:58:48.736Z"
   },
   {
    "duration": 0,
    "start_time": "2024-12-07T20:58:49.017Z"
   },
   {
    "duration": 3,
    "start_time": "2024-12-07T20:59:55.636Z"
   },
   {
    "duration": 515,
    "start_time": "2024-12-07T20:59:57.512Z"
   },
   {
    "duration": 455,
    "start_time": "2024-12-07T21:00:53.935Z"
   },
   {
    "duration": 543,
    "start_time": "2024-12-07T21:01:08.200Z"
   },
   {
    "duration": 22,
    "start_time": "2024-12-07T21:03:47.436Z"
   },
   {
    "duration": 21,
    "start_time": "2024-12-07T21:13:09.619Z"
   },
   {
    "duration": 20,
    "start_time": "2024-12-07T21:13:30.350Z"
   },
   {
    "duration": 454,
    "start_time": "2024-12-07T21:13:36.090Z"
   },
   {
    "duration": 19,
    "start_time": "2024-12-07T21:13:44.499Z"
   },
   {
    "duration": 455,
    "start_time": "2024-12-07T21:14:35.207Z"
   },
   {
    "duration": 1336,
    "start_time": "2024-12-07T21:15:02.686Z"
   },
   {
    "duration": 474,
    "start_time": "2024-12-07T21:16:06.740Z"
   },
   {
    "duration": 475,
    "start_time": "2024-12-07T21:16:18.621Z"
   },
   {
    "duration": 1343,
    "start_time": "2024-12-07T21:19:11.676Z"
   },
   {
    "duration": 488,
    "start_time": "2024-12-07T21:38:17.601Z"
   },
   {
    "duration": 470,
    "start_time": "2024-12-07T21:38:37.165Z"
   },
   {
    "duration": 481,
    "start_time": "2024-12-07T21:38:59.629Z"
   },
   {
    "duration": 460,
    "start_time": "2024-12-07T21:39:24.225Z"
   },
   {
    "duration": 1343,
    "start_time": "2024-12-07T21:40:41.438Z"
   },
   {
    "duration": 1367,
    "start_time": "2024-12-07T21:41:51.008Z"
   },
   {
    "duration": 1347,
    "start_time": "2024-12-07T21:42:06.638Z"
   },
   {
    "duration": 455,
    "start_time": "2024-12-07T21:43:03.045Z"
   },
   {
    "duration": 1355,
    "start_time": "2024-12-07T21:43:37.568Z"
   },
   {
    "duration": 1409,
    "start_time": "2024-12-07T21:43:47.264Z"
   },
   {
    "duration": 1378,
    "start_time": "2024-12-07T21:44:17.813Z"
   },
   {
    "duration": 1318,
    "start_time": "2024-12-07T21:44:53.777Z"
   },
   {
    "duration": 7,
    "start_time": "2024-12-07T21:47:12.404Z"
   },
   {
    "duration": 7,
    "start_time": "2024-12-07T21:48:02.886Z"
   },
   {
    "duration": 1330,
    "start_time": "2024-12-07T21:51:13.369Z"
   },
   {
    "duration": 19,
    "start_time": "2024-12-07T21:51:52.957Z"
   },
   {
    "duration": 15,
    "start_time": "2024-12-07T21:52:20.330Z"
   },
   {
    "duration": 1384,
    "start_time": "2024-12-07T21:52:46.973Z"
   },
   {
    "duration": 16,
    "start_time": "2024-12-07T21:53:02.101Z"
   },
   {
    "duration": 131,
    "start_time": "2024-12-07T21:58:50.930Z"
   },
   {
    "duration": 1013,
    "start_time": "2024-12-07T21:59:03.869Z"
   },
   {
    "duration": 232,
    "start_time": "2024-12-07T21:59:04.885Z"
   },
   {
    "duration": 14,
    "start_time": "2024-12-07T21:59:05.119Z"
   },
   {
    "duration": 12,
    "start_time": "2024-12-07T21:59:05.136Z"
   },
   {
    "duration": 8,
    "start_time": "2024-12-07T21:59:05.149Z"
   },
   {
    "duration": 11,
    "start_time": "2024-12-07T21:59:05.158Z"
   },
   {
    "duration": 9,
    "start_time": "2024-12-07T21:59:05.170Z"
   },
   {
    "duration": 11,
    "start_time": "2024-12-07T21:59:05.181Z"
   },
   {
    "duration": 124,
    "start_time": "2024-12-07T21:59:05.193Z"
   },
   {
    "duration": 47,
    "start_time": "2024-12-07T21:59:05.320Z"
   },
   {
    "duration": 16,
    "start_time": "2024-12-07T21:59:05.369Z"
   },
   {
    "duration": 13,
    "start_time": "2024-12-07T21:59:05.387Z"
   },
   {
    "duration": 2090,
    "start_time": "2024-12-07T21:59:05.402Z"
   },
   {
    "duration": 1024,
    "start_time": "2024-12-07T21:59:07.493Z"
   },
   {
    "duration": 11,
    "start_time": "2024-12-07T21:59:08.520Z"
   },
   {
    "duration": 118,
    "start_time": "2024-12-07T21:59:08.533Z"
   },
   {
    "duration": 84,
    "start_time": "2024-12-07T21:59:08.654Z"
   },
   {
    "duration": 3,
    "start_time": "2024-12-07T21:59:08.739Z"
   },
   {
    "duration": 6,
    "start_time": "2024-12-07T21:59:08.744Z"
   },
   {
    "duration": 5,
    "start_time": "2024-12-07T21:59:08.751Z"
   },
   {
    "duration": 74,
    "start_time": "2024-12-07T21:59:08.757Z"
   },
   {
    "duration": 5,
    "start_time": "2024-12-07T21:59:08.833Z"
   },
   {
    "duration": 7,
    "start_time": "2024-12-07T21:59:08.840Z"
   },
   {
    "duration": 4,
    "start_time": "2024-12-07T21:59:08.848Z"
   },
   {
    "duration": 1370,
    "start_time": "2024-12-07T21:59:08.853Z"
   },
   {
    "duration": 251,
    "start_time": "2024-12-07T21:59:10.225Z"
   },
   {
    "duration": 1,
    "start_time": "2024-12-07T21:59:10.477Z"
   },
   {
    "duration": 2757,
    "start_time": "2024-12-08T00:15:02.100Z"
   },
   {
    "duration": 323,
    "start_time": "2024-12-08T00:15:04.860Z"
   },
   {
    "duration": 12,
    "start_time": "2024-12-08T00:15:05.185Z"
   },
   {
    "duration": 12,
    "start_time": "2024-12-08T00:15:05.200Z"
   },
   {
    "duration": 8,
    "start_time": "2024-12-08T00:15:05.225Z"
   },
   {
    "duration": 10,
    "start_time": "2024-12-08T00:15:05.235Z"
   },
   {
    "duration": 10,
    "start_time": "2024-12-08T00:15:05.247Z"
   },
   {
    "duration": 10,
    "start_time": "2024-12-08T00:15:05.259Z"
   },
   {
    "duration": 122,
    "start_time": "2024-12-08T00:15:05.271Z"
   },
   {
    "duration": 49,
    "start_time": "2024-12-08T00:15:05.397Z"
   },
   {
    "duration": 13,
    "start_time": "2024-12-08T00:15:05.448Z"
   },
   {
    "duration": 13,
    "start_time": "2024-12-08T00:15:05.462Z"
   },
   {
    "duration": 2164,
    "start_time": "2024-12-08T00:15:05.477Z"
   },
   {
    "duration": 846,
    "start_time": "2024-12-08T00:15:07.642Z"
   },
   {
    "duration": 104,
    "start_time": "2024-12-08T00:15:08.490Z"
   },
   {
    "duration": 232,
    "start_time": "2024-12-08T00:15:08.597Z"
   },
   {
    "duration": 7,
    "start_time": "2024-12-08T00:15:08.831Z"
   },
   {
    "duration": 3,
    "start_time": "2024-12-08T00:15:08.839Z"
   },
   {
    "duration": 80,
    "start_time": "2024-12-08T00:15:08.844Z"
   },
   {
    "duration": 5,
    "start_time": "2024-12-08T00:15:08.926Z"
   },
   {
    "duration": 13,
    "start_time": "2024-12-08T00:15:08.933Z"
   },
   {
    "duration": 5,
    "start_time": "2024-12-08T00:15:08.947Z"
   },
   {
    "duration": 7,
    "start_time": "2024-12-08T00:15:08.953Z"
   },
   {
    "duration": 5,
    "start_time": "2024-12-08T00:15:08.962Z"
   },
   {
    "duration": 1321,
    "start_time": "2024-12-08T00:15:08.969Z"
   },
   {
    "duration": 236,
    "start_time": "2024-12-08T00:15:10.292Z"
   },
   {
    "duration": 0,
    "start_time": "2024-12-08T00:15:10.530Z"
   },
   {
    "duration": 7,
    "start_time": "2024-12-08T00:21:25.764Z"
   },
   {
    "duration": 14,
    "start_time": "2024-12-08T00:24:01.845Z"
   },
   {
    "duration": 1349,
    "start_time": "2024-12-08T00:24:14.187Z"
   },
   {
    "duration": 433,
    "start_time": "2024-12-08T00:24:35.102Z"
   },
   {
    "duration": 453,
    "start_time": "2024-12-08T00:25:30.958Z"
   },
   {
    "duration": 1327,
    "start_time": "2024-12-08T00:25:42.648Z"
   },
   {
    "duration": 1318,
    "start_time": "2024-12-08T00:26:12.802Z"
   },
   {
    "duration": 6,
    "start_time": "2024-12-08T00:27:08.383Z"
   },
   {
    "duration": 1323,
    "start_time": "2024-12-08T00:28:51.605Z"
   },
   {
    "duration": 7,
    "start_time": "2024-12-08T00:28:54.030Z"
   }
  ],
  "kernelspec": {
   "display_name": "base",
   "language": "python",
   "name": "python3"
  },
  "language_info": {
   "codemirror_mode": {
    "name": "ipython",
    "version": 3
   },
   "file_extension": ".py",
   "mimetype": "text/x-python",
   "name": "python",
   "nbconvert_exporter": "python",
   "pygments_lexer": "ipython3",
   "version": "3.12.4"
  },
  "toc": {
   "base_numbering": 1,
   "nav_menu": {},
   "number_sections": true,
   "sideBar": true,
   "skip_h1_title": true,
   "title_cell": "Table of Contents",
   "title_sidebar": "Contents",
   "toc_cell": false,
   "toc_position": {},
   "toc_section_display": true,
   "toc_window_display": false
  }
 },
 "nbformat": 4,
 "nbformat_minor": 2
}
