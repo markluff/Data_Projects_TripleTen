{
 "cells": [
  {
   "cell_type": "markdown",
   "id": "523b5c05",
   "metadata": {},
   "source": [
    "# Using Exploratory Data Analysis to make data driven recommendations for Instacart"
   ]
  },
  {
   "cell_type": "markdown",
   "id": "72e81214",
   "metadata": {},
   "source": [
    "Exploring Instacart Data to Develop Insights into Consumer Behaviors\n",
    "In this project I will be evaluating data from Instacart. This will require cleaning up the data itself and then exploring the trends of shoppers. I will look into what consumers are purchasing, when they do their shopping, and how many of return to using Instacart services. This effort will help with developing business strategies to grow as a company."
   ]
  },
  {
   "cell_type": "code",
   "execution_count": 1,
   "id": "fbf1adab",
   "metadata": {},
   "outputs": [],
   "source": [
    "# Import packages for completing the EDA\n",
    "import pandas as pd\n",
    "import numpy as np\n",
    "from matplotlib import pyplot as plt\n"
   ]
  },
  {
   "cell_type": "code",
   "execution_count": null,
   "id": "ad36396d",
   "metadata": {},
   "outputs": [
    {
     "data": {
      "text/html": [
       "<div>\n",
       "<style scoped>\n",
       "    .dataframe tbody tr th:only-of-type {\n",
       "        vertical-align: middle;\n",
       "    }\n",
       "\n",
       "    .dataframe tbody tr th {\n",
       "        vertical-align: top;\n",
       "    }\n",
       "\n",
       "    .dataframe thead th {\n",
       "        text-align: right;\n",
       "    }\n",
       "</style>\n",
       "<table border=\"1\" class=\"dataframe\">\n",
       "  <thead>\n",
       "    <tr style=\"text-align: right;\">\n",
       "      <th></th>\n",
       "      <th>order_id</th>\n",
       "      <th>user_id</th>\n",
       "      <th>order_number</th>\n",
       "      <th>order_dow</th>\n",
       "      <th>order_hour_of_day</th>\n",
       "      <th>days_since_prior_order</th>\n",
       "    </tr>\n",
       "  </thead>\n",
       "  <tbody>\n",
       "    <tr>\n",
       "      <th>0</th>\n",
       "      <td>1515936</td>\n",
       "      <td>183418</td>\n",
       "      <td>11</td>\n",
       "      <td>6</td>\n",
       "      <td>13</td>\n",
       "      <td>30.0</td>\n",
       "    </tr>\n",
       "    <tr>\n",
       "      <th>1</th>\n",
       "      <td>1690866</td>\n",
       "      <td>163593</td>\n",
       "      <td>5</td>\n",
       "      <td>5</td>\n",
       "      <td>12</td>\n",
       "      <td>9.0</td>\n",
       "    </tr>\n",
       "    <tr>\n",
       "      <th>2</th>\n",
       "      <td>1454967</td>\n",
       "      <td>39980</td>\n",
       "      <td>4</td>\n",
       "      <td>5</td>\n",
       "      <td>19</td>\n",
       "      <td>2.0</td>\n",
       "    </tr>\n",
       "    <tr>\n",
       "      <th>3</th>\n",
       "      <td>1768857</td>\n",
       "      <td>82516</td>\n",
       "      <td>56</td>\n",
       "      <td>0</td>\n",
       "      <td>20</td>\n",
       "      <td>10.0</td>\n",
       "    </tr>\n",
       "    <tr>\n",
       "      <th>4</th>\n",
       "      <td>3007858</td>\n",
       "      <td>196724</td>\n",
       "      <td>2</td>\n",
       "      <td>4</td>\n",
       "      <td>12</td>\n",
       "      <td>17.0</td>\n",
       "    </tr>\n",
       "  </tbody>\n",
       "</table>\n",
       "</div>"
      ],
      "text/plain": [
       "   order_id  user_id  order_number  order_dow  order_hour_of_day  \\\n",
       "0   1515936   183418            11          6                 13   \n",
       "1   1690866   163593             5          5                 12   \n",
       "2   1454967    39980             4          5                 19   \n",
       "3   1768857    82516            56          0                 20   \n",
       "4   3007858   196724             2          4                 12   \n",
       "\n",
       "   days_since_prior_order  \n",
       "0                    30.0  \n",
       "1                     9.0  \n",
       "2                     2.0  \n",
       "3                    10.0  \n",
       "4                    17.0  "
      ]
     },
     "metadata": {},
     "output_type": "display_data"
    },
    {
     "name": "stdout",
     "output_type": "stream",
     "text": [
      "\n",
      "<class 'pandas.core.frame.DataFrame'>\n",
      "RangeIndex: 478967 entries, 0 to 478966\n",
      "Data columns (total 6 columns):\n",
      " #   Column                  Non-Null Count   Dtype  \n",
      "---  ------                  --------------   -----  \n",
      " 0   order_id                478967 non-null  int64  \n",
      " 1   user_id                 478967 non-null  int64  \n",
      " 2   order_number            478967 non-null  int64  \n",
      " 3   order_dow               478967 non-null  int64  \n",
      " 4   order_hour_of_day       478967 non-null  int64  \n",
      " 5   days_since_prior_order  450148 non-null  float64\n",
      "dtypes: float64(1), int64(5)\n",
      "memory usage: 21.9 MB\n"
     ]
    }
   ],
   "source": [
    "#For each of the data files I will take a look at how they're structured, then add parameters to format them to usable dataframes.\n",
    "#I will also call the info function on them to see the data types and number of rows, as well as get clues about missing values.\n",
    "df_orders = pd.read_csv('/datasets/instacart_orders.csv', sep=';')\n",
    "display(df_orders.head())\n",
    "print()\n",
    "df_orders.info()"
   ]
  },
  {
   "cell_type": "code",
   "execution_count": null,
   "id": "ad6a1efa",
   "metadata": {},
   "outputs": [
    {
     "data": {
      "text/html": [
       "<div>\n",
       "<style scoped>\n",
       "    .dataframe tbody tr th:only-of-type {\n",
       "        vertical-align: middle;\n",
       "    }\n",
       "\n",
       "    .dataframe tbody tr th {\n",
       "        vertical-align: top;\n",
       "    }\n",
       "\n",
       "    .dataframe thead th {\n",
       "        text-align: right;\n",
       "    }\n",
       "</style>\n",
       "<table border=\"1\" class=\"dataframe\">\n",
       "  <thead>\n",
       "    <tr style=\"text-align: right;\">\n",
       "      <th></th>\n",
       "      <th>product_id</th>\n",
       "      <th>product_name</th>\n",
       "      <th>aisle_id</th>\n",
       "      <th>department_id</th>\n",
       "    </tr>\n",
       "  </thead>\n",
       "  <tbody>\n",
       "    <tr>\n",
       "      <th>0</th>\n",
       "      <td>1</td>\n",
       "      <td>Chocolate Sandwich Cookies</td>\n",
       "      <td>61</td>\n",
       "      <td>19</td>\n",
       "    </tr>\n",
       "    <tr>\n",
       "      <th>1</th>\n",
       "      <td>2</td>\n",
       "      <td>All-Seasons Salt</td>\n",
       "      <td>104</td>\n",
       "      <td>13</td>\n",
       "    </tr>\n",
       "    <tr>\n",
       "      <th>2</th>\n",
       "      <td>3</td>\n",
       "      <td>Robust Golden Unsweetened Oolong Tea</td>\n",
       "      <td>94</td>\n",
       "      <td>7</td>\n",
       "    </tr>\n",
       "    <tr>\n",
       "      <th>3</th>\n",
       "      <td>4</td>\n",
       "      <td>Smart Ones Classic Favorites Mini Rigatoni Wit...</td>\n",
       "      <td>38</td>\n",
       "      <td>1</td>\n",
       "    </tr>\n",
       "    <tr>\n",
       "      <th>4</th>\n",
       "      <td>5</td>\n",
       "      <td>Green Chile Anytime Sauce</td>\n",
       "      <td>5</td>\n",
       "      <td>13</td>\n",
       "    </tr>\n",
       "  </tbody>\n",
       "</table>\n",
       "</div>"
      ],
      "text/plain": [
       "   product_id                                       product_name  aisle_id  \\\n",
       "0           1                         Chocolate Sandwich Cookies        61   \n",
       "1           2                                   All-Seasons Salt       104   \n",
       "2           3               Robust Golden Unsweetened Oolong Tea        94   \n",
       "3           4  Smart Ones Classic Favorites Mini Rigatoni Wit...        38   \n",
       "4           5                          Green Chile Anytime Sauce         5   \n",
       "\n",
       "   department_id  \n",
       "0             19  \n",
       "1             13  \n",
       "2              7  \n",
       "3              1  \n",
       "4             13  "
      ]
     },
     "metadata": {},
     "output_type": "display_data"
    },
    {
     "name": "stdout",
     "output_type": "stream",
     "text": [
      "\n",
      "<class 'pandas.core.frame.DataFrame'>\n",
      "RangeIndex: 49694 entries, 0 to 49693\n",
      "Data columns (total 4 columns):\n",
      " #   Column         Non-Null Count  Dtype \n",
      "---  ------         --------------  ----- \n",
      " 0   product_id     49694 non-null  int64 \n",
      " 1   product_name   48436 non-null  object\n",
      " 2   aisle_id       49694 non-null  int64 \n",
      " 3   department_id  49694 non-null  int64 \n",
      "dtypes: int64(3), object(1)\n",
      "memory usage: 1.5+ MB\n"
     ]
    }
   ],
   "source": [
    "df_products = pd.read_csv('/datasets/products.csv', sep=';')\n",
    "display(df_products.head())\n",
    "print()\n",
    "df_products.info()"
   ]
  },
  {
   "cell_type": "code",
   "execution_count": null,
   "id": "5130e05e",
   "metadata": {},
   "outputs": [
    {
     "data": {
      "text/html": [
       "<div>\n",
       "<style scoped>\n",
       "    .dataframe tbody tr th:only-of-type {\n",
       "        vertical-align: middle;\n",
       "    }\n",
       "\n",
       "    .dataframe tbody tr th {\n",
       "        vertical-align: top;\n",
       "    }\n",
       "\n",
       "    .dataframe thead th {\n",
       "        text-align: right;\n",
       "    }\n",
       "</style>\n",
       "<table border=\"1\" class=\"dataframe\">\n",
       "  <thead>\n",
       "    <tr style=\"text-align: right;\">\n",
       "      <th></th>\n",
       "      <th>aisle_id</th>\n",
       "      <th>aisle</th>\n",
       "    </tr>\n",
       "  </thead>\n",
       "  <tbody>\n",
       "    <tr>\n",
       "      <th>0</th>\n",
       "      <td>1</td>\n",
       "      <td>prepared soups salads</td>\n",
       "    </tr>\n",
       "    <tr>\n",
       "      <th>1</th>\n",
       "      <td>2</td>\n",
       "      <td>specialty cheeses</td>\n",
       "    </tr>\n",
       "    <tr>\n",
       "      <th>2</th>\n",
       "      <td>3</td>\n",
       "      <td>energy granola bars</td>\n",
       "    </tr>\n",
       "    <tr>\n",
       "      <th>3</th>\n",
       "      <td>4</td>\n",
       "      <td>instant foods</td>\n",
       "    </tr>\n",
       "    <tr>\n",
       "      <th>4</th>\n",
       "      <td>5</td>\n",
       "      <td>marinades meat preparation</td>\n",
       "    </tr>\n",
       "  </tbody>\n",
       "</table>\n",
       "</div>"
      ],
      "text/plain": [
       "   aisle_id                       aisle\n",
       "0         1       prepared soups salads\n",
       "1         2           specialty cheeses\n",
       "2         3         energy granola bars\n",
       "3         4               instant foods\n",
       "4         5  marinades meat preparation"
      ]
     },
     "metadata": {},
     "output_type": "display_data"
    },
    {
     "name": "stdout",
     "output_type": "stream",
     "text": [
      "\n",
      "<class 'pandas.core.frame.DataFrame'>\n",
      "RangeIndex: 134 entries, 0 to 133\n",
      "Data columns (total 2 columns):\n",
      " #   Column    Non-Null Count  Dtype \n",
      "---  ------    --------------  ----- \n",
      " 0   aisle_id  134 non-null    int64 \n",
      " 1   aisle     134 non-null    object\n",
      "dtypes: int64(1), object(1)\n",
      "memory usage: 2.2+ KB\n"
     ]
    }
   ],
   "source": [
    "df_aisles = pd.read_csv('/datasets/aisles.csv', sep=';')\n",
    "display(df_aisles.head())\n",
    "print()\n",
    "df_aisles.info()"
   ]
  },
  {
   "cell_type": "code",
   "execution_count": null,
   "id": "d8370c05",
   "metadata": {},
   "outputs": [
    {
     "data": {
      "text/html": [
       "<div>\n",
       "<style scoped>\n",
       "    .dataframe tbody tr th:only-of-type {\n",
       "        vertical-align: middle;\n",
       "    }\n",
       "\n",
       "    .dataframe tbody tr th {\n",
       "        vertical-align: top;\n",
       "    }\n",
       "\n",
       "    .dataframe thead th {\n",
       "        text-align: right;\n",
       "    }\n",
       "</style>\n",
       "<table border=\"1\" class=\"dataframe\">\n",
       "  <thead>\n",
       "    <tr style=\"text-align: right;\">\n",
       "      <th></th>\n",
       "      <th>department_id</th>\n",
       "      <th>department</th>\n",
       "    </tr>\n",
       "  </thead>\n",
       "  <tbody>\n",
       "    <tr>\n",
       "      <th>0</th>\n",
       "      <td>1</td>\n",
       "      <td>frozen</td>\n",
       "    </tr>\n",
       "    <tr>\n",
       "      <th>1</th>\n",
       "      <td>2</td>\n",
       "      <td>other</td>\n",
       "    </tr>\n",
       "    <tr>\n",
       "      <th>2</th>\n",
       "      <td>3</td>\n",
       "      <td>bakery</td>\n",
       "    </tr>\n",
       "    <tr>\n",
       "      <th>3</th>\n",
       "      <td>4</td>\n",
       "      <td>produce</td>\n",
       "    </tr>\n",
       "    <tr>\n",
       "      <th>4</th>\n",
       "      <td>5</td>\n",
       "      <td>alcohol</td>\n",
       "    </tr>\n",
       "    <tr>\n",
       "      <th>5</th>\n",
       "      <td>6</td>\n",
       "      <td>international</td>\n",
       "    </tr>\n",
       "    <tr>\n",
       "      <th>6</th>\n",
       "      <td>7</td>\n",
       "      <td>beverages</td>\n",
       "    </tr>\n",
       "    <tr>\n",
       "      <th>7</th>\n",
       "      <td>8</td>\n",
       "      <td>pets</td>\n",
       "    </tr>\n",
       "    <tr>\n",
       "      <th>8</th>\n",
       "      <td>9</td>\n",
       "      <td>dry goods pasta</td>\n",
       "    </tr>\n",
       "    <tr>\n",
       "      <th>9</th>\n",
       "      <td>10</td>\n",
       "      <td>bulk</td>\n",
       "    </tr>\n",
       "    <tr>\n",
       "      <th>10</th>\n",
       "      <td>11</td>\n",
       "      <td>personal care</td>\n",
       "    </tr>\n",
       "    <tr>\n",
       "      <th>11</th>\n",
       "      <td>12</td>\n",
       "      <td>meat seafood</td>\n",
       "    </tr>\n",
       "    <tr>\n",
       "      <th>12</th>\n",
       "      <td>13</td>\n",
       "      <td>pantry</td>\n",
       "    </tr>\n",
       "    <tr>\n",
       "      <th>13</th>\n",
       "      <td>14</td>\n",
       "      <td>breakfast</td>\n",
       "    </tr>\n",
       "    <tr>\n",
       "      <th>14</th>\n",
       "      <td>15</td>\n",
       "      <td>canned goods</td>\n",
       "    </tr>\n",
       "    <tr>\n",
       "      <th>15</th>\n",
       "      <td>16</td>\n",
       "      <td>dairy eggs</td>\n",
       "    </tr>\n",
       "    <tr>\n",
       "      <th>16</th>\n",
       "      <td>17</td>\n",
       "      <td>household</td>\n",
       "    </tr>\n",
       "    <tr>\n",
       "      <th>17</th>\n",
       "      <td>18</td>\n",
       "      <td>babies</td>\n",
       "    </tr>\n",
       "    <tr>\n",
       "      <th>18</th>\n",
       "      <td>19</td>\n",
       "      <td>snacks</td>\n",
       "    </tr>\n",
       "    <tr>\n",
       "      <th>19</th>\n",
       "      <td>20</td>\n",
       "      <td>deli</td>\n",
       "    </tr>\n",
       "    <tr>\n",
       "      <th>20</th>\n",
       "      <td>21</td>\n",
       "      <td>missing</td>\n",
       "    </tr>\n",
       "  </tbody>\n",
       "</table>\n",
       "</div>"
      ],
      "text/plain": [
       "    department_id       department\n",
       "0               1           frozen\n",
       "1               2            other\n",
       "2               3           bakery\n",
       "3               4          produce\n",
       "4               5          alcohol\n",
       "5               6    international\n",
       "6               7        beverages\n",
       "7               8             pets\n",
       "8               9  dry goods pasta\n",
       "9              10             bulk\n",
       "10             11    personal care\n",
       "11             12     meat seafood\n",
       "12             13           pantry\n",
       "13             14        breakfast\n",
       "14             15     canned goods\n",
       "15             16       dairy eggs\n",
       "16             17        household\n",
       "17             18           babies\n",
       "18             19           snacks\n",
       "19             20             deli\n",
       "20             21          missing"
      ]
     },
     "metadata": {},
     "output_type": "display_data"
    },
    {
     "name": "stdout",
     "output_type": "stream",
     "text": [
      "\n",
      "<class 'pandas.core.frame.DataFrame'>\n",
      "RangeIndex: 21 entries, 0 to 20\n",
      "Data columns (total 2 columns):\n",
      " #   Column         Non-Null Count  Dtype \n",
      "---  ------         --------------  ----- \n",
      " 0   department_id  21 non-null     int64 \n",
      " 1   department     21 non-null     object\n",
      "dtypes: int64(1), object(1)\n",
      "memory usage: 464.0+ bytes\n"
     ]
    }
   ],
   "source": [
    "df_departments = pd.read_csv('/datasets/departments.csv', sep=';')\n",
    "display(df_departments)\n",
    "print()\n",
    "df_departments.info()"
   ]
  },
  {
   "cell_type": "code",
   "execution_count": null,
   "id": "59e2090f",
   "metadata": {
    "scrolled": true
   },
   "outputs": [
    {
     "data": {
      "text/html": [
       "<div>\n",
       "<style scoped>\n",
       "    .dataframe tbody tr th:only-of-type {\n",
       "        vertical-align: middle;\n",
       "    }\n",
       "\n",
       "    .dataframe tbody tr th {\n",
       "        vertical-align: top;\n",
       "    }\n",
       "\n",
       "    .dataframe thead th {\n",
       "        text-align: right;\n",
       "    }\n",
       "</style>\n",
       "<table border=\"1\" class=\"dataframe\">\n",
       "  <thead>\n",
       "    <tr style=\"text-align: right;\">\n",
       "      <th></th>\n",
       "      <th>order_id</th>\n",
       "      <th>product_id</th>\n",
       "      <th>add_to_cart_order</th>\n",
       "      <th>reordered</th>\n",
       "    </tr>\n",
       "  </thead>\n",
       "  <tbody>\n",
       "    <tr>\n",
       "      <th>0</th>\n",
       "      <td>2141543</td>\n",
       "      <td>11440</td>\n",
       "      <td>17.0</td>\n",
       "      <td>0</td>\n",
       "    </tr>\n",
       "    <tr>\n",
       "      <th>1</th>\n",
       "      <td>567889</td>\n",
       "      <td>1560</td>\n",
       "      <td>1.0</td>\n",
       "      <td>1</td>\n",
       "    </tr>\n",
       "    <tr>\n",
       "      <th>2</th>\n",
       "      <td>2261212</td>\n",
       "      <td>26683</td>\n",
       "      <td>1.0</td>\n",
       "      <td>1</td>\n",
       "    </tr>\n",
       "    <tr>\n",
       "      <th>3</th>\n",
       "      <td>491251</td>\n",
       "      <td>8670</td>\n",
       "      <td>35.0</td>\n",
       "      <td>1</td>\n",
       "    </tr>\n",
       "    <tr>\n",
       "      <th>4</th>\n",
       "      <td>2571142</td>\n",
       "      <td>1940</td>\n",
       "      <td>5.0</td>\n",
       "      <td>1</td>\n",
       "    </tr>\n",
       "    <tr>\n",
       "      <th>5</th>\n",
       "      <td>2456893</td>\n",
       "      <td>21616</td>\n",
       "      <td>4.0</td>\n",
       "      <td>1</td>\n",
       "    </tr>\n",
       "    <tr>\n",
       "      <th>6</th>\n",
       "      <td>644579</td>\n",
       "      <td>12341</td>\n",
       "      <td>5.0</td>\n",
       "      <td>1</td>\n",
       "    </tr>\n",
       "    <tr>\n",
       "      <th>7</th>\n",
       "      <td>2231852</td>\n",
       "      <td>44925</td>\n",
       "      <td>10.0</td>\n",
       "      <td>1</td>\n",
       "    </tr>\n",
       "    <tr>\n",
       "      <th>8</th>\n",
       "      <td>3185766</td>\n",
       "      <td>36259</td>\n",
       "      <td>14.0</td>\n",
       "      <td>1</td>\n",
       "    </tr>\n",
       "    <tr>\n",
       "      <th>9</th>\n",
       "      <td>420019</td>\n",
       "      <td>23315</td>\n",
       "      <td>4.0</td>\n",
       "      <td>1</td>\n",
       "    </tr>\n",
       "  </tbody>\n",
       "</table>\n",
       "</div>"
      ],
      "text/plain": [
       "   order_id  product_id  add_to_cart_order  reordered\n",
       "0   2141543       11440               17.0          0\n",
       "1    567889        1560                1.0          1\n",
       "2   2261212       26683                1.0          1\n",
       "3    491251        8670               35.0          1\n",
       "4   2571142        1940                5.0          1\n",
       "5   2456893       21616                4.0          1\n",
       "6    644579       12341                5.0          1\n",
       "7   2231852       44925               10.0          1\n",
       "8   3185766       36259               14.0          1\n",
       "9    420019       23315                4.0          1"
      ]
     },
     "metadata": {},
     "output_type": "display_data"
    },
    {
     "name": "stdout",
     "output_type": "stream",
     "text": [
      "\n",
      "<class 'pandas.core.frame.DataFrame'>\n",
      "RangeIndex: 4545007 entries, 0 to 4545006\n",
      "Data columns (total 4 columns):\n",
      " #   Column             Non-Null Count    Dtype  \n",
      "---  ------             --------------    -----  \n",
      " 0   order_id           4545007 non-null  int64  \n",
      " 1   product_id         4545007 non-null  int64  \n",
      " 2   add_to_cart_order  4544171 non-null  float64\n",
      " 3   reordered          4545007 non-null  int64  \n",
      "dtypes: float64(1), int64(3)\n",
      "memory usage: 138.7 MB\n"
     ]
    }
   ],
   "source": [
    "df_order_products = pd.read_csv('/datasets/order_products.csv', sep=';')\n",
    "display(df_order_products.head(10))\n",
    "print()\n",
    "df_order_products.info(show_counts=True)\n"
   ]
  },
  {
   "cell_type": "markdown",
   "id": "07357848-dc64-4156-9cc3-01ff4365226d",
   "metadata": {},
   "source": [
    "## Find and remove duplicate values (and describe why you make your choices)"
   ]
  },
  {
   "cell_type": "markdown",
   "id": "f179f0a9",
   "metadata": {},
   "source": [
    "### `orders` data frame"
   ]
  },
  {
   "cell_type": "code",
   "execution_count": null,
   "id": "b99297a5-405a-463d-8535-9adc3da4ad74",
   "metadata": {},
   "outputs": [
    {
     "name": "stdout",
     "output_type": "stream",
     "text": [
      "There are 15 duplicates\n"
     ]
    }
   ],
   "source": [
    "# Check for duplicated orders\n",
    "duplicates1 = df_orders.duplicated().sum() #using the .sum() method will show me a count of all the duplicated rows\n",
    "print('There are', duplicates1, 'duplicates')"
   ]
  },
  {
   "cell_type": "code",
   "execution_count": null,
   "id": "0d44de5d",
   "metadata": {},
   "outputs": [
    {
     "name": "stdout",
     "output_type": "stream",
     "text": [
      "        user_id  order_dow  order_hour_of_day\n",
      "4838     162084          3                  2\n",
      "5156     138285          3                  2\n",
      "15506     58599          3                  2\n",
      "18420    120200          3                  2\n",
      "24691     77357          3                  2\n",
      "...         ...        ...                ...\n",
      "457013    14881          3                  2\n",
      "458816   164782          3                  2\n",
      "459635   106435          3                  2\n",
      "468324    54979          3                  2\n",
      "477526    46860          3                  2\n",
      "\n",
      "[121 rows x 3 columns]\n"
     ]
    }
   ],
   "source": [
    "# Check for all orders placed Wednesday at 2:00 AM\n",
    "#dows = {0:'Sunday', 1:'Monday', 2:'Tuesday', 3:'Wednesday', 4:'Thursday', 5:'Friday', 6:'Saturday'}\n",
    "#I made the assumption that the above values for days of week are what we see in the raw data\n",
    "wednesday_orders_2am = (df_orders['order_dow'] == 3) & (df_orders['order_hour_of_day'] == 2)\n",
    "print(df_orders[wednesday_orders_2am][['user_id','order_dow', 'order_hour_of_day']])\n",
    "#after running this code, it appears that there are 121 orders at 2am on Wednesdays because there are 121 rows of data"
   ]
  },
  {
   "cell_type": "code",
   "execution_count": null,
   "id": "480563c7",
   "metadata": {},
   "outputs": [],
   "source": [
    "# Remove duplicate orders\n",
    "df_orders = df_orders.drop_duplicates()\n"
   ]
  },
  {
   "cell_type": "code",
   "execution_count": null,
   "id": "0b2396a2",
   "metadata": {},
   "outputs": [
    {
     "name": "stdout",
     "output_type": "stream",
     "text": [
      "there are now 0 duplicates\n"
     ]
    }
   ],
   "source": [
    "# Double check for duplicate rows\n",
    "print('there are now', df_orders.duplicated().sum(), 'duplicates')"
   ]
  },
  {
   "cell_type": "code",
   "execution_count": null,
   "id": "f6113ef1",
   "metadata": {},
   "outputs": [
    {
     "name": "stdout",
     "output_type": "stream",
     "text": [
      "there are 0 duplicates in order IDs\n"
     ]
    }
   ],
   "source": [
    "# Double check for duplicate order IDs only\n",
    "print('there are', df_orders['order_id'].duplicated().sum(), 'duplicates in order IDs')\n",
    "# this shows that all 15 of the duplicate values coincided with the duplicate order ID's"
   ]
  },
  {
   "cell_type": "markdown",
   "id": "45e6bc46",
   "metadata": {},
   "source": [
    "### `products` data frame"
   ]
  },
  {
   "cell_type": "code",
   "execution_count": null,
   "id": "5f526b5b-8175-46fa-a0fd-441767d50e64",
   "metadata": {},
   "outputs": [
    {
     "name": "stdout",
     "output_type": "stream",
     "text": [
      "there are 0 fully duplicated rows\n"
     ]
    }
   ],
   "source": [
    "# Check for fully duplicate rows\n",
    "print('there are', df_products.duplicated().sum(), 'fully duplicated rows')\n",
    "#there are no fully duplicated rows"
   ]
  },
  {
   "cell_type": "code",
   "execution_count": null,
   "id": "88daa4f4",
   "metadata": {},
   "outputs": [
    {
     "name": "stdout",
     "output_type": "stream",
     "text": [
      "there are 0 duplicated product IDs\n"
     ]
    }
   ],
   "source": [
    "# Check for just duplicate product IDs\n",
    "print('there are', df_products['product_id'].duplicated().sum(), 'duplicated product IDs')"
   ]
  },
  {
   "cell_type": "code",
   "execution_count": null,
   "id": "c773f0bf",
   "metadata": {},
   "outputs": [
    {
     "name": "stdout",
     "output_type": "stream",
     "text": [
      "there are 1257 duplicated product names\n"
     ]
    }
   ],
   "source": [
    "# Check for just duplicate product names (convert names to lowercase to compare better)\n",
    "df_products['product_name'].str.lower() #This converts the names all to lowercase\n",
    "print('there are', df_products['product_name'].duplicated().sum(), 'duplicated product names')"
   ]
  },
  {
   "cell_type": "code",
   "execution_count": null,
   "id": "01efd02e",
   "metadata": {},
   "outputs": [
    {
     "name": "stdout",
     "output_type": "stream",
     "text": [
      "there are 1258 duplicates that are not missing\n"
     ]
    }
   ],
   "source": [
    "# Check for duplicate product names that aren't missing\n",
    "#Calling .isna() on this will show me the values that are missing\n",
    "print('there are', df_products['product_name'].isna().sum(), 'duplicates that are not missing')"
   ]
  },
  {
   "cell_type": "markdown",
   "id": "60f30db1",
   "metadata": {},
   "source": [
    "### `departments` data frame"
   ]
  },
  {
   "cell_type": "code",
   "execution_count": null,
   "id": "fb410ad4-0fbf-4b80-bb09-23fdea79afe3",
   "metadata": {},
   "outputs": [
    {
     "name": "stdout",
     "output_type": "stream",
     "text": [
      "there are 0 duplicated departments\n"
     ]
    }
   ],
   "source": [
    "#Checking for duplicates\n",
    "print('there are', df_departments.duplicated().sum(), 'duplicated departments')"
   ]
  },
  {
   "cell_type": "markdown",
   "id": "bd30d78e",
   "metadata": {},
   "source": []
  },
  {
   "cell_type": "markdown",
   "id": "889349c1",
   "metadata": {},
   "source": [
    "### `aisles` data frame"
   ]
  },
  {
   "cell_type": "code",
   "execution_count": null,
   "id": "9da89fb9-4679-40f5-ad0d-c34df753a3f8",
   "metadata": {},
   "outputs": [
    {
     "name": "stdout",
     "output_type": "stream",
     "text": [
      "there are 0 duplicated aisles\n"
     ]
    }
   ],
   "source": [
    "#Checking for duplicates\n",
    "print('there are', df_aisles.duplicated().sum(), 'duplicated aisles')"
   ]
  },
  {
   "cell_type": "markdown",
   "id": "ac63826f",
   "metadata": {},
   "source": []
  },
  {
   "cell_type": "markdown",
   "id": "274cd06a",
   "metadata": {},
   "source": [
    "### `order_products` data frame"
   ]
  },
  {
   "cell_type": "code",
   "execution_count": null,
   "id": "52326689-84a8-4b8f-a881-7c68780f62c9",
   "metadata": {},
   "outputs": [
    {
     "name": "stdout",
     "output_type": "stream",
     "text": [
      "there are 0 duplicated rows\n"
     ]
    }
   ],
   "source": [
    "# Check for fully duplicate rows\n",
    "print('there are', df_order_products.duplicated().sum(), 'duplicated rows')"
   ]
  },
  {
   "cell_type": "code",
   "execution_count": null,
   "id": "7b861391",
   "metadata": {},
   "outputs": [
    {
     "name": "stdout",
     "output_type": "stream",
     "text": [
      "there are 0 \"tricky\" duplicates\n"
     ]
    }
   ],
   "source": [
    "# Double check for any other tricky duplicates\n",
    "#This code will look to see if there are any duplicate pairs between order_id and product_id\n",
    "print('there are',df_order_products.duplicated(subset=['order_id','product_id']).sum(),'\"tricky\" duplicates')\n"
   ]
  },
  {
   "cell_type": "markdown",
   "id": "1e46de76",
   "metadata": {},
   "source": [
    "## Find and remove missing values\n"
   ]
  },
  {
   "cell_type": "markdown",
   "id": "c0aebd78",
   "metadata": {},
   "source": [
    "### `products` data frame"
   ]
  },
  {
   "cell_type": "code",
   "execution_count": null,
   "id": "fe4a8b0f",
   "metadata": {},
   "outputs": [
    {
     "name": "stdout",
     "output_type": "stream",
     "text": [
      "   product_id                                       product_name  aisle_id  \\\n",
      "0           1                         Chocolate Sandwich Cookies        61   \n",
      "1           2                                   All-Seasons Salt       104   \n",
      "2           3               Robust Golden Unsweetened Oolong Tea        94   \n",
      "3           4  Smart Ones Classic Favorites Mini Rigatoni Wit...        38   \n",
      "4           5                          Green Chile Anytime Sauce         5   \n",
      "\n",
      "   department_id  \n",
      "0             19  \n",
      "1             13  \n",
      "2              7  \n",
      "3              1  \n",
      "4             13  \n"
     ]
    }
   ],
   "source": [
    "#I'm just bringing the dataframe into view so I don't have to keep scrolling to the top to reference it.\n",
    "print(df_products.head()) "
   ]
  },
  {
   "cell_type": "code",
   "execution_count": null,
   "id": "e96167bc",
   "metadata": {},
   "outputs": [
    {
     "name": "stdout",
     "output_type": "stream",
     "text": [
      "There are 1258 missing values in product_name.\n",
      "\n",
      "product_id          0\n",
      "product_name     1258\n",
      "aisle_id            0\n",
      "department_id       0\n",
      "dtype: int64\n",
      "All of the missing values in this data frame are in aisle_id 100\n"
     ]
    }
   ],
   "source": [
    "# Are all of the missing product names associated with aisle ID 100?\n",
    "missing_product_names = df_products['product_name'].isna().sum() #this defines what a missing product is\n",
    "print('There are',missing_product_names, 'missing values in product_name.')\n",
    "print()\n",
    "aisle_100 = df_products['aisle_id']==100 #this will define aisle 100 specifically\n",
    "print(df_products[aisle_100].isna().sum())\n",
    "print('All of the missing values in this data frame are in aisle_id 100')"
   ]
  },
  {
   "cell_type": "code",
   "execution_count": null,
   "id": "8fd0a541",
   "metadata": {},
   "outputs": [
    {
     "name": "stdout",
     "output_type": "stream",
     "text": [
      "product_id          0\n",
      "product_name     1258\n",
      "aisle_id            0\n",
      "department_id       0\n",
      "dtype: int64\n"
     ]
    }
   ],
   "source": [
    "# Are all of the missing product names associated with department ID 21?\n",
    "dept_21 = df_products['department_id']==21 #This will isolate just department 21\n",
    "print(df_products[dept_21].isna().sum())"
   ]
  },
  {
   "cell_type": "code",
   "execution_count": null,
   "id": "325c3464",
   "metadata": {},
   "outputs": [
    {
     "name": "stdout",
     "output_type": "stream",
     "text": [
      "    department_id department\n",
      "20             21    missing\n",
      "\n",
      "    aisle_id    aisle\n",
      "99       100  missing\n"
     ]
    }
   ],
   "source": [
    "# What is this ailse and department?\n",
    "#I will use query twice to show what is in each of the departments and aisles in question\n",
    "department_21 = df_departments.query('department_id == 21')[['department_id', 'department']]\n",
    "print(department_21)\n",
    "print()\n",
    "asl_100 = df_aisles.query('aisle_id == 100')[['aisle_id','aisle']]\n",
    "print(asl_100)"
   ]
  },
  {
   "cell_type": "code",
   "execution_count": null,
   "id": "6b295120",
   "metadata": {},
   "outputs": [
    {
     "name": "stdout",
     "output_type": "stream",
     "text": [
      "product_id       0\n",
      "product_name     0\n",
      "aisle_id         0\n",
      "department_id    0\n",
      "dtype: int64\n",
      "\n",
      "<class 'pandas.core.frame.DataFrame'>\n",
      "RangeIndex: 49694 entries, 0 to 49693\n",
      "Data columns (total 4 columns):\n",
      " #   Column         Non-Null Count  Dtype \n",
      "---  ------         --------------  ----- \n",
      " 0   product_id     49694 non-null  int64 \n",
      " 1   product_name   49694 non-null  object\n",
      " 2   aisle_id       49694 non-null  int64 \n",
      " 3   department_id  49694 non-null  int64 \n",
      "dtypes: int64(3), object(1)\n",
      "memory usage: 1.5+ MB\n"
     ]
    }
   ],
   "source": [
    "# Fill missing product names with 'Unknown'\n",
    "df_products = df_products.fillna(value='Unknown')\n",
    "print(df_products.isna().sum())#this shows that all the missing values have been filled\n",
    "print()\n",
    "df_products.info()"
   ]
  },
  {
   "cell_type": "markdown",
   "id": "7eb45c86",
   "metadata": {},
   "source": [
    "### `orders` data frame"
   ]
  },
  {
   "cell_type": "code",
   "execution_count": null,
   "id": "93e41d96",
   "metadata": {},
   "outputs": [
    {
     "name": "stdout",
     "output_type": "stream",
     "text": [
      "   order_id  user_id  order_number  order_dow  order_hour_of_day  \\\n",
      "0   1515936   183418            11          6                 13   \n",
      "1   1690866   163593             5          5                 12   \n",
      "2   1454967    39980             4          5                 19   \n",
      "3   1768857    82516            56          0                 20   \n",
      "4   3007858   196724             2          4                 12   \n",
      "\n",
      "   days_since_prior_order  \n",
      "0                    30.0  \n",
      "1                     9.0  \n",
      "2                     2.0  \n",
      "3                    10.0  \n",
      "4                    17.0  \n"
     ]
    }
   ],
   "source": [
    "#I'm just bringing the dataframe into view so I don't have to keep scrolling to the top to reference it.\n",
    "print(df_orders.head())"
   ]
  },
  {
   "cell_type": "code",
   "execution_count": null,
   "id": "166e5a86",
   "metadata": {},
   "outputs": [
    {
     "name": "stdout",
     "output_type": "stream",
     "text": [
      "There are 0 missing values in repeat customers\n"
     ]
    }
   ],
   "source": [
    "# Are there any missing values where it's not a customer's first order?\n",
    "#I need to make a conditional argment to decide what a repeat customer is first,\n",
    "#then I can check to see if there are any missing values using isna and sum methods.\n",
    "repeat_customers = df_orders['order_number'] > 1\n",
    "print('There are', repeat_customers.isna().sum(),'missing values in repeat customers')\n"
   ]
  },
  {
   "cell_type": "markdown",
   "id": "69dc9ca4",
   "metadata": {},
   "source": [
    "### `order_products` data frame"
   ]
  },
  {
   "cell_type": "code",
   "execution_count": null,
   "id": "b8240253",
   "metadata": {},
   "outputs": [
    {
     "name": "stdout",
     "output_type": "stream",
     "text": [
      "   order_id  product_id  add_to_cart_order  reordered\n",
      "0   2141543       11440               17.0          0\n",
      "1    567889        1560                1.0          1\n",
      "2   2261212       26683                1.0          1\n",
      "3    491251        8670               35.0          1\n",
      "4   2571142        1940                5.0          1\n"
     ]
    }
   ],
   "source": [
    "#I'm just bringing the dataframe into view so I don't have to keep scrolling to the top to reference it.\n",
    "print(df_order_products.head())"
   ]
  },
  {
   "cell_type": "code",
   "execution_count": null,
   "id": "9a78e5ee",
   "metadata": {},
   "outputs": [
    {
     "name": "stdout",
     "output_type": "stream",
     "text": [
      "1.0 is the minimum value in this column, and  64.0  is the maximum value.\n"
     ]
    }
   ],
   "source": [
    "# What are the min and max values in this column?\n",
    "min_value = df_order_products['add_to_cart_order'].min()\n",
    "max_value = df_order_products['add_to_cart_order'].max()\n",
    "print(min_value, 'is the minimum value in this column, and ', max_value, ' is the maximum value.')"
   ]
  },
  {
   "cell_type": "code",
   "execution_count": null,
   "id": "ab9d0c2b",
   "metadata": {
    "scrolled": true
   },
   "outputs": [
    {
     "name": "stdout",
     "output_type": "stream",
     "text": [
      "836\n",
      "[2449164 1968313 2926893 1717990 1959075  844733   61355  936852  264710\n",
      " 1564093  129627  293169 2849370 1386261 3308010  903110 2136777 3347453\n",
      " 1888628  165801 2094761 1038146 2997021  813364 2256933  171934 2409109\n",
      " 1730767 1169835  733526  404157 3125735  747668 1800005 1961723  871281\n",
      "  388234 1648217 1477139  102236 1021563 1832957 2721963  678116 1220886\n",
      " 1673227 2999801 1633337 2470674 2625444 1677118 2479011 3383594 1183255\n",
      " 1713430 2652650 1598369 1916118  854647 1302315  888470  180546 2621907\n",
      " 1308785 2729254    9310 2170451 2979697 1625713 1529171]\n"
     ]
    }
   ],
   "source": [
    "# Save all order IDs with at least one missing value in 'add_to_cart_order'\n",
    "#First I want to see how many missing values there are\n",
    "print(df_order_products['add_to_cart_order'].isnull().sum())\n",
    "#Next I will find all the unique order id's\n",
    "missing_values = df_order_products[df_order_products['add_to_cart_order'].isnull()]['order_id'].unique()\n",
    "print(missing_values)"
   ]
  },
  {
   "cell_type": "code",
   "execution_count": null,
   "id": "54c31695",
   "metadata": {},
   "outputs": [
    {
     "name": "stdout",
     "output_type": "stream",
     "text": [
      "Orders with missing `add_to_cart_order` and more than 64 products: 61355      127\n",
      "3308010    115\n",
      "2136777    108\n",
      "171934     104\n",
      "1959075     98\n",
      "          ... \n",
      "888470      65\n",
      "9310        65\n",
      "1598369     65\n",
      "2729254     65\n",
      "2652650     65\n",
      "Name: order_id, Length: 70, dtype: int64\n"
     ]
    }
   ],
   "source": [
    "# Do all orders with missing values have more than 64 products?\n",
    "#First I will find the amount of items in each order_id\n",
    "order_count = df_order_products['order_id'].value_counts()\n",
    "#Then I will define those that are above 64 in the missing values variable from the last step\n",
    "missing_orders_above_64 = order_count[order_count.index.isin(missing_values) & (order_count > 64)]\n",
    "print(\"Orders with missing `add_to_cart_order` and more than 64 products:\", missing_orders_above_64)"
   ]
  },
  {
   "cell_type": "code",
   "execution_count": null,
   "id": "7a987d08",
   "metadata": {},
   "outputs": [
    {
     "name": "stdout",
     "output_type": "stream",
     "text": [
      "   order_id  product_id  add_to_cart_order  reordered\n",
      "0   2141543       11440                 17          0\n",
      "1    567889        1560                  1          1\n",
      "2   2261212       26683                  1          1\n",
      "3    491251        8670                 35          1\n",
      "4   2571142        1940                  5          1\n",
      "\n",
      "<class 'pandas.core.frame.DataFrame'>\n",
      "RangeIndex: 4545007 entries, 0 to 4545006\n",
      "Data columns (total 4 columns):\n",
      " #   Column             Non-Null Count    Dtype\n",
      "---  ------             --------------    -----\n",
      " 0   order_id           4545007 non-null  int64\n",
      " 1   product_id         4545007 non-null  int64\n",
      " 2   add_to_cart_order  4545007 non-null  int64\n",
      " 3   reordered          4545007 non-null  int64\n",
      "dtypes: int64(4)\n",
      "memory usage: 138.7 MB\n"
     ]
    }
   ],
   "source": [
    "# Replace missing values with 999 and convert column to integer type\n",
    "df_order_products['add_to_cart_order'].fillna(999, inplace=True) #fills the missing values identified above with 999\n",
    "df_order_products['add_to_cart_order'] = df_order_products['add_to_cart_order'].astype(int) #convert to integer type from float\n",
    "print(df_order_products.head())#checking to make sure that the 'add_to_cart_order' is now int\n",
    "print()\n",
    "df_order_products.info(show_counts=True)"
   ]
  },
  {
   "cell_type": "markdown",
   "id": "turkish-kidney",
   "metadata": {},
   "source": [
    "# [A] Easy (must complete all to pass)"
   ]
  },
  {
   "cell_type": "markdown",
   "id": "short-capability",
   "metadata": {},
   "source": [
    "### [A1] Verify that the `'order_hour_of_day'` and `'order_dow'` values in the `orders` tables are sensible (i.e. `'order_hour_of_day'` ranges from 0 to 23 and `'order_dow'` ranges from 0 to 6)"
   ]
  },
  {
   "cell_type": "code",
   "execution_count": null,
   "id": "growing-fruit",
   "metadata": {},
   "outputs": [
    {
     "name": "stdout",
     "output_type": "stream",
     "text": [
      "   order_id  user_id  order_number  order_dow  order_hour_of_day  \\\n",
      "0   1515936   183418            11          6                 13   \n",
      "1   1690866   163593             5          5                 12   \n",
      "2   1454967    39980             4          5                 19   \n",
      "3   1768857    82516            56          0                 20   \n",
      "4   3007858   196724             2          4                 12   \n",
      "\n",
      "   days_since_prior_order  \n",
      "0                    30.0  \n",
      "1                     9.0  \n",
      "2                     2.0  \n",
      "3                    10.0  \n",
      "4                    17.0  \n"
     ]
    }
   ],
   "source": [
    "#I'm just bringing the dataframe into view so I don't have to keep scrolling to the top to reference it.\n",
    "print(df_orders.head())"
   ]
  },
  {
   "cell_type": "code",
   "execution_count": null,
   "id": "accessory-malaysia",
   "metadata": {},
   "outputs": [
    {
     "name": "stdout",
     "output_type": "stream",
     "text": [
      "The range of 'order_dow' is from  0  to 6\n",
      "\n",
      "The range for 'order_hours_of_day' is from  0  to 23\n"
     ]
    }
   ],
   "source": [
    "dow_min = df_orders['order_dow'].min() #checking the minimum value\n",
    "dow_max = df_orders['order_dow'].max() #checking the maximum value\n",
    "print(\"The range of 'order_dow' is from \", dow_min, ' to', dow_max)\n",
    "print()\n",
    "hour_min = df_orders['order_hour_of_day'].min() #checking the min value\n",
    "hour_max = df_orders['order_hour_of_day'].max() #checking the max value\n",
    "print(\"The range for 'order_hours_of_day' is from \", hour_min, ' to', hour_max) #the days and hours appear to be normal"
   ]
  },
  {
   "cell_type": "markdown",
   "id": "a6743a70",
   "metadata": {},
   "source": [
    "### [A2] What time of day do people shop for groceries?"
   ]
  },
  {
   "cell_type": "code",
   "execution_count": null,
   "id": "a36cca27",
   "metadata": {},
   "outputs": [
    {
     "name": "stdout",
     "output_type": "stream",
     "text": [
      "10    40578\n",
      "11    40032\n",
      "15    39789\n",
      "14    39631\n",
      "13    39007\n",
      "Name: order_hour_of_day, dtype: int64\n"
     ]
    }
   ],
   "source": [
    "#I will use the value_counts method again to find the popular hours\n",
    "popular_hours= df_orders['order_hour_of_day'].value_counts() #this method sorts in descending order\n",
    "print(popular_hours.head())\n",
    "#from this it appears that 10am, 11am, 3pm, 2pm, and 1pm are when instacart receives the most orders"
   ]
  },
  {
   "cell_type": "code",
   "execution_count": null,
   "id": "2d832001",
   "metadata": {},
   "outputs": [
    {
     "data": {
      "text/plain": [
       "<AxesSubplot:title={'center':'When People Do Their Shopping'}, xlabel='Hour of the day', ylabel='Orders'>"
      ]
     },
     "execution_count": 35,
     "metadata": {},
     "output_type": "execute_result"
    },
    {
     "data": {
      "image/png": "[encoded data removed]",
      "text/plain": [
       "<Figure size 640x480 with 1 Axes>"
      ]
     },
     "metadata": {},
     "output_type": "display_data"
    }
   ],
   "source": [
    "popular_hours_indexed = popular_hours.sort_index()\n",
    "popular_hours_indexed.plot(x='Hour of day', kind='bar', ylabel='Orders', xlabel='Hour of the day', title='When People Do Their Shopping')"
   ]
  },
  {
   "cell_type": "markdown",
   "id": "documented-command",
   "metadata": {},
   "source": [
    "### [A3] What day of the week do people shop for groceries?"
   ]
  },
  {
   "cell_type": "code",
   "execution_count": null,
   "id": "chief-digit",
   "metadata": {
    "scrolled": true
   },
   "outputs": [
    {
     "name": "stdout",
     "output_type": "stream",
     "text": [
      "0    84090\n",
      "1    82185\n",
      "2    65833\n",
      "5    63488\n",
      "6    62649\n",
      "3    60897\n",
      "4    59810\n",
      "Name: order_dow, dtype: int64\n"
     ]
    }
   ],
   "source": [
    "#I will use the value_counts method just as I did above\n",
    "#dows = {0:'Sunday', 1:'Monday', 2:'Tuesday', 3:'Wednesday', 4:'Thursday', 5:'Friday', 6:'Saturday'}\n",
    "popular_days = df_orders['order_dow'].value_counts()\n",
    "print(popular_days)\n",
    "#we can see that Sunday is the most popular shopping day and Thursday is the least popular"
   ]
  },
  {
   "cell_type": "code",
   "execution_count": null,
   "id": "33ba4be0",
   "metadata": {},
   "outputs": [
    {
     "data": {
      "text/plain": [
       "<AxesSubplot:title={'center':'Comparison of Days People Order Groceries'}, xlabel='Day of Week', ylabel='Amount of Orders'>"
      ]
     },
     "execution_count": 37,
     "metadata": {},
     "output_type": "execute_result"
    },
    {
     "data": {
      "image/png": "[encoded data removed]",
      "text/plain": [
       "<Figure size 640x480 with 1 Axes>"
      ]
     },
     "metadata": {},
     "output_type": "display_data"
    }
   ],
   "source": [
    "popular_days_indexed = popular_days.sort_index()\n",
    "popular_days_indexed.plot(x='day of week', kind='bar', title='Comparison of Days People Order Groceries', xlabel='Day of Week', ylabel='Amount of Orders')"
   ]
  },
  {
   "cell_type": "markdown",
   "id": "cutting-concert",
   "metadata": {},
   "source": [
    "### [A4] How long do people wait until placing another order?"
   ]
  },
  {
   "cell_type": "code",
   "execution_count": null,
   "id": "c231f523",
   "metadata": {},
   "outputs": [
    {
     "name": "stdout",
     "output_type": "stream",
     "text": [
      "People wait an average of 11.1 days before placing another order.\n"
     ]
    }
   ],
   "source": [
    "# using the days since prior order column to and the mean method to give me a measure for how long people wait.\n",
    "waiting_time_avg = df_orders['days_since_prior_order'].mean()\n",
    "print(f'People wait an average of {waiting_time_avg:.1f} days before placing another order.')"
   ]
  },
  {
   "cell_type": "markdown",
   "id": "discrete-vertex",
   "metadata": {},
   "source": []
  },
  {
   "cell_type": "code",
   "execution_count": null,
   "id": "exciting-fantasy",
   "metadata": {},
   "outputs": [
    {
     "name": "stdout",
     "output_type": "stream",
     "text": [
      "minumum between orders is: 0.0 days\n",
      "maximum between orders is: 30.0 days\n",
      "median between orders is: 7.0 days\n"
     ]
    }
   ],
   "source": [
    "#I will show the min, max, and median as well to show other data for how long people wait.\n",
    "waiting_time_min = df_orders['days_since_prior_order'].min()\n",
    "waiting_time_max = df_orders['days_since_prior_order'].max()\n",
    "waiting_time_median = df_orders['days_since_prior_order'].median()\n",
    "print('minumum between orders is:', waiting_time_min, 'days')\n",
    "print('maximum between orders is:',waiting_time_max, 'days')\n",
    "print('median between orders is:', waiting_time_median, 'days')"
   ]
  },
  {
   "cell_type": "markdown",
   "id": "tight-staff",
   "metadata": {},
   "source": [
    "# [B] Medium (must complete all to pass)"
   ]
  },
  {
   "cell_type": "markdown",
   "id": "packed-classic",
   "metadata": {},
   "source": [
    "### [B1] Is there a difference in `'order_hour_of_day'` distributions on Wednesdays and Saturdays? Plot the histograms for both days and describe the differences that you see."
   ]
  },
  {
   "cell_type": "code",
   "execution_count": null,
   "id": "d89b8403",
   "metadata": {},
   "outputs": [
    {
     "name": "stdout",
     "output_type": "stream",
     "text": [
      "   order_id  user_id  order_number  order_dow  order_hour_of_day  \\\n",
      "0   1515936   183418            11          6                 13   \n",
      "1   1690866   163593             5          5                 12   \n",
      "2   1454967    39980             4          5                 19   \n",
      "3   1768857    82516            56          0                 20   \n",
      "4   3007858   196724             2          4                 12   \n",
      "\n",
      "   days_since_prior_order  \n",
      "0                    30.0  \n",
      "1                     9.0  \n",
      "2                     2.0  \n",
      "3                    10.0  \n",
      "4                    17.0  \n"
     ]
    }
   ],
   "source": [
    "#I'm just bringing the dataframe into view so I don't have to keep scrolling to the top to reference it.\n",
    "print(df_orders.head())"
   ]
  },
  {
   "cell_type": "code",
   "execution_count": null,
   "id": "94e54e8a",
   "metadata": {},
   "outputs": [
    {
     "name": "stdout",
     "output_type": "stream",
     "text": [
      "    order_id  user_id  order_number  order_dow  order_hour_of_day  \\\n",
      "6    2511640   148233            40          3                  8   \n",
      "16   3109465    55090            19          3                 15   \n",
      "28    133707   182261             1          3                 10   \n",
      "30   1890318   193501             3          3                 15   \n",
      "35    125325   106853             6          3                 19   \n",
      "\n",
      "    days_since_prior_order  \n",
      "6                      2.0  \n",
      "16                     9.0  \n",
      "28                     NaN  \n",
      "30                    30.0  \n",
      "35                    30.0  \n",
      "\n",
      "<class 'pandas.core.frame.DataFrame'>\n",
      "Int64Index: 60897 entries, 6 to 478965\n",
      "Data columns (total 6 columns):\n",
      " #   Column                  Non-Null Count  Dtype  \n",
      "---  ------                  --------------  -----  \n",
      " 0   order_id                60897 non-null  int64  \n",
      " 1   user_id                 60897 non-null  int64  \n",
      " 2   order_number            60897 non-null  int64  \n",
      " 3   order_dow               60897 non-null  int64  \n",
      " 4   order_hour_of_day       60897 non-null  int64  \n",
      " 5   days_since_prior_order  57271 non-null  float64\n",
      "dtypes: float64(1), int64(5)\n",
      "memory usage: 3.3 MB\n"
     ]
    }
   ],
   "source": [
    "#use a conditional statement to define wednesday. I've decided that day 0 is Sunday, which makes 3 = Wednesday\n",
    "df_wednesday = df_orders[df_orders['order_dow'] == 3]\n",
    "print(df_wednesday.head())\n",
    "print()\n",
    "df_wednesday.info()"
   ]
  },
  {
   "cell_type": "code",
   "execution_count": null,
   "id": "797c90a8",
   "metadata": {},
   "outputs": [
    {
     "name": "stdout",
     "output_type": "stream",
     "text": [
      "    order_id  user_id  order_number  order_dow  order_hour_of_day  \\\n",
      "0    1515936   183418            11          6                 13   \n",
      "11    102585   191558            18          6                 16   \n",
      "14   2843219    74699             4          6                 11   \n",
      "20     50934   178510             9          6                  9   \n",
      "26   1844247   122558             4          6                 18   \n",
      "\n",
      "    days_since_prior_order  \n",
      "0                     30.0  \n",
      "11                     8.0  \n",
      "14                    30.0  \n",
      "20                     5.0  \n",
      "26                    30.0  \n"
     ]
    }
   ],
   "source": [
    "#I've made the assumption that Saturday is day six. So, I'm going to use a conditional argument to sort according to day 6.\n",
    "df_saturday = df_orders[df_orders['order_dow'] == 6]\n",
    "print(df_saturday.head())"
   ]
  },
  {
   "cell_type": "code",
   "execution_count": null,
   "id": "35bcea30",
   "metadata": {
    "scrolled": true
   },
   "outputs": [
    {
     "data": {
      "image/png": "[encoded data removed]",
      "text/plain": [
       "<Figure size 640x480 with 1 Axes>"
      ]
     },
     "metadata": {},
     "output_type": "display_data"
    },
    {
     "data": {
      "image/png": "[encoded data removed]",
      "text/plain": [
       "<Figure size 640x480 with 1 Axes>"
      ]
     },
     "metadata": {},
     "output_type": "display_data"
    },
    {
     "data": {
      "image/png": "[encoded data removed]",
      "text/plain": [
       "<Figure size 640x480 with 1 Axes>"
      ]
     },
     "metadata": {},
     "output_type": "display_data"
    }
   ],
   "source": [
    "#Histogram plots of Wednesday vs. Saturday shoppers. The first two are separate, and then I overlay the two histograms to see the differences\n",
    "df_wednesday['order_hour_of_day'].plot(kind='hist', bins=24, title='Wednesday Shoppers')\n",
    "plt.show()\n",
    "df_saturday['order_hour_of_day'].plot(kind='hist', bins=24, title='Saturday Shoppers')\n",
    "plt.show()\n",
    "df_wednesday['order_hour_of_day'].plot(kind='hist', bins=24, title='Comparison of Wednesday shoppers to Saturday Shoppers')\n",
    "df_saturday['order_hour_of_day'].plot(kind='hist', bins=24, alpha=.50)\n",
    "plt.legend(['Wednesday', 'Saturday'])\n",
    "plt.show()"
   ]
  },
  {
   "cell_type": "markdown",
   "id": "e3891143",
   "metadata": {},
   "source": [
    "### [B2] What's the distribution for the number of orders per customer?"
   ]
  },
  {
   "cell_type": "code",
   "execution_count": null,
   "id": "d8c26c23",
   "metadata": {},
   "outputs": [
    {
     "name": "stdout",
     "output_type": "stream",
     "text": [
      "The range of orders per customer is from  1 to  100\n",
      "the median number of repeat customers is 11.0 and an average of 17.157562762030434\n"
     ]
    }
   ],
   "source": [
    "#I'm showing the total range of orders from each customer. The order_number column shows which order this was for each customer\n",
    "order_min = df_orders['order_number'].min()\n",
    "order_max = df_orders['order_number'].max()\n",
    "print('The range of orders per customer is from ', order_min, 'to ', order_max)\n",
    "print('the median number of repeat customers is', df_orders['order_number'].median(), 'and an average of', df_orders['order_number'].mean())"
   ]
  },
  {
   "cell_type": "code",
   "execution_count": null,
   "id": "00e69a66",
   "metadata": {
    "scrolled": true
   },
   "outputs": [
    {
     "data": {
      "image/png": "[encoded data removed]",
      "text/plain": [
       "<Figure size 640x480 with 1 Axes>"
      ]
     },
     "metadata": {},
     "output_type": "display_data"
    }
   ],
   "source": [
    "#I make a histogram plot to show the above range and the distribution of those orders\n",
    "df_orders['order_number'].plot(kind='hist', bins=25, title='Distribution of Orders')\n",
    "plt.show()\n",
    "#This histogram shows that most people have only done 1-4 orders. "
   ]
  },
  {
   "cell_type": "markdown",
   "id": "54a0319c",
   "metadata": {},
   "source": [
    "### [B3] What are the top 20 popular products (display their id and name)?"
   ]
  },
  {
   "cell_type": "code",
   "execution_count": null,
   "id": "exterior-arizona",
   "metadata": {
    "scrolled": true
   },
   "outputs": [
    {
     "name": "stdout",
     "output_type": "stream",
     "text": [
      "   order_id  product_id  add_to_cart_order  reordered\n",
      "0   2141543       11440                 17          0\n",
      "1    567889        1560                  1          1\n",
      "2   2261212       26683                  1          1\n",
      "3    491251        8670                 35          1\n",
      "4   2571142        1940                  5          1\n",
      "\n",
      "   product_id                                       product_name  aisle_id  \\\n",
      "0           1                         Chocolate Sandwich Cookies        61   \n",
      "1           2                                   All-Seasons Salt       104   \n",
      "2           3               Robust Golden Unsweetened Oolong Tea        94   \n",
      "3           4  Smart Ones Classic Favorites Mini Rigatoni Wit...        38   \n",
      "4           5                          Green Chile Anytime Sauce         5   \n",
      "\n",
      "   department_id  \n",
      "0             19  \n",
      "1             13  \n",
      "2              7  \n",
      "3              1  \n",
      "4             13  \n"
     ]
    }
   ],
   "source": [
    "#In this task, I'm expecting to need to use the 'order_products' and 'products' dataframes\n",
    "#I'm working off of the theory that the value for 'product_id' is the same for each frame\n",
    "print(df_order_products.head())\n",
    "print()\n",
    "print(df_products.head())"
   ]
  },
  {
   "cell_type": "code",
   "execution_count": null,
   "id": "universal-facial",
   "metadata": {},
   "outputs": [
    {
     "name": "stdout",
     "output_type": "stream",
     "text": [
      "                        product_name  count\n",
      "product_id                                 \n",
      "24852                         Banana  66050\n",
      "13176         Bag of Organic Bananas  53297\n",
      "21137           Organic Strawberries  37039\n",
      "21903           Organic Baby Spinach  33971\n",
      "47209           Organic Hass Avocado  29773\n",
      "47766                Organic Avocado  24689\n",
      "47626                    Large Lemon  21495\n",
      "16797                   Strawberries  20018\n",
      "26209                          Limes  19690\n",
      "27845             Organic Whole Milk  19600\n",
      "27966            Organic Raspberries  19197\n",
      "22935           Organic Yellow Onion  15898\n",
      "24964                 Organic Garlic  15292\n",
      "45007               Organic Zucchini  14584\n",
      "39275            Organic Blueberries  13879\n",
      "49683                 Cucumber Kirby  13675\n",
      "28204             Organic Fuji Apple  12544\n",
      "5876                   Organic Lemon  12232\n",
      "8277        Apple Honeycrisp Organic  11993\n",
      "40706         Organic Grape Tomatoes  11781\n"
     ]
    }
   ],
   "source": [
    "#make a list of the 20 most popular product id's\n",
    "#I'll use the value_counts method again to find the top 20 id's used.\n",
    "product_count = df_order_products['product_id'].value_counts().head(20)\n",
    "#now I'll find the corresponding product names to the above id's\n",
    "product_names = df_products.loc[df_products['product_id'].isin(product_count.index),['product_id', 'product_name']]\n",
    "#Now I'm going to greate a new dataframe with the product id, product name, and the amount ordered\n",
    "popular_items = product_names.set_index('product_id').join(product_count.rename('count'))\n",
    "popular_items = popular_items.sort_values(by='count', ascending=False)\n",
    "print(popular_items)"
   ]
  },
  {
   "cell_type": "code",
   "execution_count": null,
   "id": "bbcdd20b",
   "metadata": {},
   "outputs": [
    {
     "data": {
      "text/plain": [
       "<AxesSubplot:title={'center':'Top 20 Items Purchased with Instacart'}, xlabel='Product', ylabel='Amount Purchased'>"
      ]
     },
     "execution_count": 48,
     "metadata": {},
     "output_type": "execute_result"
    },
    {
     "data": {
      "image/png": "[encoded data removed]",
      "text/plain": [
       "<Figure size 640x480 with 1 Axes>"
      ]
     },
     "metadata": {},
     "output_type": "display_data"
    }
   ],
   "source": [
    "#This bar graph will show the top 20 items purchased.\n",
    "popular_items.plot(x='product_name', kind='bar',legend=False, title='Top 20 Items Purchased with Instacart', xlabel='Product', ylabel='Amount Purchased')\n"
   ]
  },
  {
   "cell_type": "markdown",
   "id": "gross-theme",
   "metadata": {},
   "source": [
    "# [C] Hard (must complete at least two to pass)"
   ]
  },
  {
   "cell_type": "markdown",
   "id": "romantic-deposit",
   "metadata": {},
   "source": [
    "### [C1] How many items do people typically buy in one order? What does the distribution look like?"
   ]
  },
  {
   "cell_type": "code",
   "execution_count": 4,
   "id": "virtual-punch",
   "metadata": {},
   "outputs": [
    {
     "ename": "NameError",
     "evalue": "name 'df_order_products' is not defined",
     "output_type": "error",
     "traceback": [
      "\u001b[1;31m---------------------------------------------------------------------------\u001b[0m",
      "\u001b[1;31mNameError\u001b[0m                                 Traceback (most recent call last)",
      "Cell \u001b[1;32mIn[4], line 3\u001b[0m\n\u001b[0;32m      1\u001b[0m \u001b[38;5;66;03m#I'm thinking that I can do this completely from the 'order_products' dataframe using both the 'order_id' and 'product_id' columns\u001b[39;00m\n\u001b[0;32m      2\u001b[0m \u001b[38;5;66;03m#for reference, here is the beginning of that dataframe\u001b[39;00m\n\u001b[1;32m----> 3\u001b[0m \u001b[38;5;28mprint\u001b[39m(\u001b[43mdf_order_products\u001b[49m\u001b[38;5;241m.\u001b[39mhead())\n",
      "\u001b[1;31mNameError\u001b[0m: name 'df_order_products' is not defined"
     ]
    }
   ],
   "source": [
    "#I'm thinking that I can do this completely from the 'order_products' dataframe using both the 'order_id' and 'product_id' columns\n",
    "#for reference, here is the beginning of that dataframe\n",
    "print(df_order_products.head())"
   ]
  },
  {
   "cell_type": "code",
   "execution_count": null,
   "id": "195f60dc",
   "metadata": {},
   "outputs": [
    {
     "name": "stdout",
     "output_type": "stream",
     "text": [
      "Average Number of items per order:\n",
      "10.1\n",
      "\n",
      "Median Number of items per order:\n",
      "8.0\n",
      "\n",
      "Range of items per order:\n",
      "1 to 127\n"
     ]
    }
   ],
   "source": [
    "#I will use value_counts to see how many times each order_id shows up in the dataframe. This will be the amount of items per order.\n",
    "items_per_order = df_order_products['order_id'].value_counts() #This ends up showing a range of 1 to 127 items in the orders\n",
    "\n",
    "print('Average Number of items per order:')\n",
    "print(f'{items_per_order.mean():.1f}')\n",
    "print()\n",
    "print('Median Number of items per order:')\n",
    "print(items_per_order.median())\n",
    "print()\n",
    "print('Range of items per order:')\n",
    "print(items_per_order.min(), 'to', items_per_order.max())\n",
    "#given the difference between the average and the median and the range, it is clear that there will be significant outliers.\n",
    "#I will plot this in a histogram and it should show a significant skew."
   ]
  },
  {
   "cell_type": "code",
   "execution_count": null,
   "id": "e8bf83c1",
   "metadata": {},
   "outputs": [
    {
     "data": {
      "text/plain": [
       "<AxesSubplot:title={'center':'Amount of items in a single order'}, ylabel='Frequency'>"
      ]
     },
     "execution_count": 51,
     "metadata": {},
     "output_type": "execute_result"
    },
    {
     "data": {
      "image/png": "[encoded data removed]",
      "text/plain": [
       "<Figure size 640x480 with 1 Axes>"
      ]
     },
     "metadata": {},
     "output_type": "display_data"
    }
   ],
   "source": [
    "#Using a Histogram to show the substantial skew of the items per order data.\n",
    "items_per_order.plot(kind='hist',bins=127, xlabel='Number of Items', ylabel='Count of Orders', title='Amount of items in a single order')\n"
   ]
  },
  {
   "cell_type": "markdown",
   "id": "92d35137",
   "metadata": {},
   "source": [
    "### [C5] What are the top 20 items that people put in their carts first? "
   ]
  },
  {
   "cell_type": "code",
   "execution_count": null,
   "id": "0ae57274",
   "metadata": {
    "scrolled": true
   },
   "outputs": [
    {
     "name": "stdout",
     "output_type": "stream",
     "text": [
      "   order_id  product_id  add_to_cart_order  reordered\n",
      "0   2141543       11440                 17          0\n",
      "1    567889        1560                  1          1\n",
      "2   2261212       26683                  1          1\n",
      "3    491251        8670                 35          1\n",
      "4   2571142        1940                  5          1\n",
      "------------\n",
      "   product_id                                       product_name  aisle_id  \\\n",
      "0           1                         Chocolate Sandwich Cookies        61   \n",
      "1           2                                   All-Seasons Salt       104   \n",
      "2           3               Robust Golden Unsweetened Oolong Tea        94   \n",
      "3           4  Smart Ones Classic Favorites Mini Rigatoni Wit...        38   \n",
      "4           5                          Green Chile Anytime Sauce         5   \n",
      "\n",
      "   department_id  \n",
      "0             19  \n",
      "1             13  \n",
      "2              7  \n",
      "3              1  \n",
      "4             13  \n"
     ]
    }
   ],
   "source": [
    "#Both the 'order_products' and the 'products' dataframes are going to be involved in this process.\n",
    "print(df_order_products.head())\n",
    "print('------------')\n",
    "print(df_products.head())"
   ]
  },
  {
   "cell_type": "code",
   "execution_count": null,
   "id": "forty-netherlands",
   "metadata": {
    "scrolled": true
   },
   "outputs": [
    {
     "name": "stdout",
     "output_type": "stream",
     "text": [
      "                           product_name  count\n",
      "product_id                                    \n",
      "24852                            Banana  15562\n",
      "13176            Bag of Organic Bananas  11026\n",
      "27845                Organic Whole Milk   4363\n",
      "21137              Organic Strawberries   3946\n",
      "47209              Organic Hass Avocado   3390\n",
      "21903              Organic Baby Spinach   3336\n",
      "47766                   Organic Avocado   3044\n",
      "19660                      Spring Water   2336\n",
      "16797                      Strawberries   2308\n",
      "27966               Organic Raspberries   2024\n",
      "44632        Sparkling Water Grapefruit   1914\n",
      "49235               Organic Half & Half   1797\n",
      "47626                       Large Lemon   1737\n",
      "196                                Soda   1733\n",
      "38689          Organic Reduced Fat Milk   1397\n",
      "26209                             Limes   1370\n",
      "12341                     Hass Avocados   1340\n",
      "5785        Organic Reduced Fat 2% Milk   1310\n",
      "27086                       Half & Half   1309\n",
      "43352                       Raspberries   1246\n"
     ]
    }
   ],
   "source": [
    "#This is very similar to the code from the last task of section B.\n",
    "#My first line of code isolates only the items that have a value of 1 in 'add_to_car_order'\n",
    "#from there I simply follow the same structure I did above to make the dataframe show the top items put in the cart first.\n",
    "first = df_order_products[df_order_products['add_to_cart_order'] == 1]\n",
    "first_count = first.value_counts('product_id').head(20)\n",
    "top_name = df_products.loc[df_products['product_id'].isin(first_count.index),['product_id', 'product_name']]\n",
    "top_item = top_name.set_index('product_id').join(first_count.rename('count'))\n",
    "top_item = top_item.sort_values(by='count', ascending=False)\n",
    "print(top_item)"
   ]
  },
  {
   "cell_type": "code",
   "execution_count": null,
   "id": "08e41ec2",
   "metadata": {},
   "outputs": [
    {
     "data": {
      "image/png": "[encoded data removed]",
      "text/plain": [
       "<Figure size 640x480 with 1 Axes>"
      ]
     },
     "metadata": {},
     "output_type": "display_data"
    }
   ],
   "source": [
    "#This bar graph will show the top 20 items put in the cart first\n",
    "top_item.plot(x='product_name', kind='bar', title='Top 20 Items Placed in Cart First', xlabel='Product', ylabel='Quantity', legend=False)\n",
    "plt.show()"
   ]
  },
  {
   "cell_type": "markdown",
   "id": "7130a7e5",
   "metadata": {},
   "source": [
    "## Conclusion ##\n",
    "\n",
    "In this project I was able to explore and analyze 5 different datasets from Instacart. By cleaning up the data and then analyzing it, I was able to discover important information about online grocery shopping tendencies, such as the most popular days to shop using Instacart, the peak hours of use, the most popular items shopped for, and what people put in their carts first.\n",
    "\n",
    "Order Patterns: I found that the most popluar days to shop are Sunday and Monday. I also found that the peak hours for online grocery shopping are midday hours from 10am to 3pm.\n",
    "\n",
    "Popular items: I found that of the top 20 items purchased through Instacart, 19 were produce and 1 was milk. The most popular item overall is Bananas. These items will likely be important for stores to keep in stock and ready for selection. \n",
    "\n",
    "Reordering Trends: I found that there are many customers who are repeat customers with an average of over 17 times returning to use Instacart.\n",
    "\n",
    "The findings from this study will provide valuable insights to Instacart in how to continue building a successful business. Additional studies in the future can seek to understand the reasons behind the trends illuminated in this report."
   ]
  }
 ],
 "metadata": {
  "ExecuteTimeLog": [
   {
    "duration": 12,
    "start_time": "2024-08-24T12:36:03.618Z"
   },
   {
    "duration": 5,
    "start_time": "2024-08-24T12:36:28.724Z"
   },
   {
    "duration": 430,
    "start_time": "2024-08-24T12:36:48.860Z"
   },
   {
    "duration": 6,
    "start_time": "2024-08-24T12:36:49.293Z"
   },
   {
    "duration": 0,
    "start_time": "2024-08-24T12:36:49.304Z"
   },
   {
    "duration": 0,
    "start_time": "2024-08-24T12:36:49.307Z"
   },
   {
    "duration": 0,
    "start_time": "2024-08-24T12:36:49.323Z"
   },
   {
    "duration": 0,
    "start_time": "2024-08-24T12:36:49.325Z"
   },
   {
    "duration": 0,
    "start_time": "2024-08-24T12:36:49.327Z"
   },
   {
    "duration": 0,
    "start_time": "2024-08-24T12:36:49.329Z"
   },
   {
    "duration": 0,
    "start_time": "2024-08-24T12:36:49.332Z"
   },
   {
    "duration": 0,
    "start_time": "2024-08-24T12:36:49.334Z"
   },
   {
    "duration": 0,
    "start_time": "2024-08-24T12:36:49.336Z"
   },
   {
    "duration": 0,
    "start_time": "2024-08-24T12:36:49.338Z"
   },
   {
    "duration": 0,
    "start_time": "2024-08-24T12:36:49.341Z"
   },
   {
    "duration": 0,
    "start_time": "2024-08-24T12:36:49.343Z"
   },
   {
    "duration": 0,
    "start_time": "2024-08-24T12:36:49.346Z"
   },
   {
    "duration": 0,
    "start_time": "2024-08-24T12:36:49.349Z"
   },
   {
    "duration": 0,
    "start_time": "2024-08-24T12:36:49.351Z"
   },
   {
    "duration": 0,
    "start_time": "2024-08-24T12:36:49.353Z"
   },
   {
    "duration": 0,
    "start_time": "2024-08-24T12:36:49.354Z"
   },
   {
    "duration": 0,
    "start_time": "2024-08-24T12:36:49.356Z"
   },
   {
    "duration": 0,
    "start_time": "2024-08-24T12:36:49.358Z"
   },
   {
    "duration": 0,
    "start_time": "2024-08-24T12:36:49.360Z"
   },
   {
    "duration": 460,
    "start_time": "2024-08-24T12:37:43.424Z"
   },
   {
    "duration": 3404,
    "start_time": "2024-08-24T12:41:47.438Z"
   },
   {
    "duration": 484,
    "start_time": "2024-08-24T12:41:53.808Z"
   },
   {
    "duration": 422,
    "start_time": "2024-08-24T12:41:54.296Z"
   },
   {
    "duration": 76,
    "start_time": "2024-08-24T12:41:54.724Z"
   },
   {
    "duration": 12,
    "start_time": "2024-08-24T12:41:54.805Z"
   },
   {
    "duration": 11,
    "start_time": "2024-08-24T12:41:54.820Z"
   },
   {
    "duration": 3283,
    "start_time": "2024-08-24T12:41:54.834Z"
   },
   {
    "duration": 4,
    "start_time": "2024-08-24T12:41:58.120Z"
   },
   {
    "duration": 4,
    "start_time": "2024-08-24T12:41:58.126Z"
   },
   {
    "duration": 3,
    "start_time": "2024-08-24T12:41:58.133Z"
   },
   {
    "duration": 3,
    "start_time": "2024-08-24T12:41:58.145Z"
   },
   {
    "duration": 3,
    "start_time": "2024-08-24T12:41:58.152Z"
   },
   {
    "duration": 4,
    "start_time": "2024-08-24T12:41:58.158Z"
   },
   {
    "duration": 60,
    "start_time": "2024-08-24T12:41:58.165Z"
   },
   {
    "duration": 4,
    "start_time": "2024-08-24T12:41:58.228Z"
   },
   {
    "duration": 3,
    "start_time": "2024-08-24T12:41:58.235Z"
   },
   {
    "duration": 6,
    "start_time": "2024-08-24T12:41:58.241Z"
   },
   {
    "duration": 4,
    "start_time": "2024-08-24T12:41:58.249Z"
   },
   {
    "duration": 4,
    "start_time": "2024-08-24T12:41:58.256Z"
   },
   {
    "duration": 5,
    "start_time": "2024-08-24T12:41:58.263Z"
   },
   {
    "duration": 53,
    "start_time": "2024-08-24T12:41:58.271Z"
   },
   {
    "duration": 4,
    "start_time": "2024-08-24T12:41:58.328Z"
   },
   {
    "duration": 3,
    "start_time": "2024-08-24T12:41:58.336Z"
   },
   {
    "duration": 4,
    "start_time": "2024-08-24T12:41:58.342Z"
   },
   {
    "duration": 4,
    "start_time": "2024-08-24T12:41:58.348Z"
   },
   {
    "duration": 4,
    "start_time": "2024-08-24T12:41:58.355Z"
   },
   {
    "duration": 3,
    "start_time": "2024-08-24T12:41:58.362Z"
   },
   {
    "duration": 204,
    "start_time": "2024-08-24T12:43:34.976Z"
   },
   {
    "duration": 53,
    "start_time": "2024-08-24T12:44:03.101Z"
   },
   {
    "duration": 10,
    "start_time": "2024-08-24T12:44:05.910Z"
   },
   {
    "duration": 10,
    "start_time": "2024-08-24T12:44:22.320Z"
   },
   {
    "duration": 1321,
    "start_time": "2024-08-24T12:44:38.268Z"
   },
   {
    "duration": 390,
    "start_time": "2024-08-25T01:02:47.902Z"
   },
   {
    "duration": 450,
    "start_time": "2024-08-25T01:02:57.460Z"
   },
   {
    "duration": 471,
    "start_time": "2024-08-25T01:02:57.915Z"
   },
   {
    "duration": 83,
    "start_time": "2024-08-25T01:02:58.389Z"
   },
   {
    "duration": 11,
    "start_time": "2024-08-25T01:02:58.475Z"
   },
   {
    "duration": 11,
    "start_time": "2024-08-25T01:02:58.491Z"
   },
   {
    "duration": 1362,
    "start_time": "2024-08-25T01:02:58.504Z"
   },
   {
    "duration": 3,
    "start_time": "2024-08-25T01:02:59.869Z"
   },
   {
    "duration": 3,
    "start_time": "2024-08-25T01:02:59.876Z"
   },
   {
    "duration": 4,
    "start_time": "2024-08-25T01:02:59.883Z"
   },
   {
    "duration": 3,
    "start_time": "2024-08-25T01:02:59.892Z"
   },
   {
    "duration": 3,
    "start_time": "2024-08-25T01:02:59.898Z"
   },
   {
    "duration": 6,
    "start_time": "2024-08-25T01:02:59.935Z"
   },
   {
    "duration": 6,
    "start_time": "2024-08-25T01:02:59.951Z"
   },
   {
    "duration": 4,
    "start_time": "2024-08-25T01:02:59.962Z"
   },
   {
    "duration": 3,
    "start_time": "2024-08-25T01:02:59.970Z"
   },
   {
    "duration": 3,
    "start_time": "2024-08-25T01:02:59.977Z"
   },
   {
    "duration": 5,
    "start_time": "2024-08-25T01:02:59.982Z"
   },
   {
    "duration": 4,
    "start_time": "2024-08-25T01:02:59.989Z"
   },
   {
    "duration": 46,
    "start_time": "2024-08-25T01:02:59.996Z"
   },
   {
    "duration": 7,
    "start_time": "2024-08-25T01:03:00.044Z"
   },
   {
    "duration": 5,
    "start_time": "2024-08-25T01:03:00.053Z"
   },
   {
    "duration": 10,
    "start_time": "2024-08-25T01:03:00.061Z"
   },
   {
    "duration": 4,
    "start_time": "2024-08-25T01:03:00.075Z"
   },
   {
    "duration": 4,
    "start_time": "2024-08-25T01:03:00.082Z"
   },
   {
    "duration": 4,
    "start_time": "2024-08-25T01:03:00.089Z"
   },
   {
    "duration": 3,
    "start_time": "2024-08-25T01:03:00.097Z"
   },
   {
    "duration": 214,
    "start_time": "2024-08-25T01:03:37.764Z"
   },
   {
    "duration": 10,
    "start_time": "2024-08-25T01:06:56.602Z"
   },
   {
    "duration": 10,
    "start_time": "2024-08-25T01:07:09.769Z"
   },
   {
    "duration": 12,
    "start_time": "2024-08-25T01:07:20.275Z"
   },
   {
    "duration": 26,
    "start_time": "2024-08-25T01:07:36.343Z"
   },
   {
    "duration": 1272,
    "start_time": "2024-08-25T01:08:06.198Z"
   },
   {
    "duration": 465,
    "start_time": "2024-08-25T11:34:03.288Z"
   },
   {
    "duration": 258,
    "start_time": "2024-08-25T11:34:03.757Z"
   },
   {
    "duration": 90,
    "start_time": "2024-08-25T11:34:04.018Z"
   },
   {
    "duration": 12,
    "start_time": "2024-08-25T11:34:04.113Z"
   },
   {
    "duration": 11,
    "start_time": "2024-08-25T11:34:04.128Z"
   },
   {
    "duration": 1358,
    "start_time": "2024-08-25T11:34:04.142Z"
   },
   {
    "duration": 10,
    "start_time": "2024-08-25T11:34:05.502Z"
   },
   {
    "duration": 4,
    "start_time": "2024-08-25T11:34:05.515Z"
   },
   {
    "duration": 4,
    "start_time": "2024-08-25T11:34:05.523Z"
   },
   {
    "duration": 3,
    "start_time": "2024-08-25T11:34:05.533Z"
   },
   {
    "duration": 3,
    "start_time": "2024-08-25T11:34:05.540Z"
   },
   {
    "duration": 3,
    "start_time": "2024-08-25T11:34:05.547Z"
   },
   {
    "duration": 57,
    "start_time": "2024-08-25T11:34:05.553Z"
   },
   {
    "duration": 3,
    "start_time": "2024-08-25T11:34:05.614Z"
   },
   {
    "duration": 3,
    "start_time": "2024-08-25T11:34:05.621Z"
   },
   {
    "duration": 4,
    "start_time": "2024-08-25T11:34:05.627Z"
   },
   {
    "duration": 4,
    "start_time": "2024-08-25T11:34:05.634Z"
   },
   {
    "duration": 4,
    "start_time": "2024-08-25T11:34:05.641Z"
   },
   {
    "duration": 4,
    "start_time": "2024-08-25T11:34:05.648Z"
   },
   {
    "duration": 54,
    "start_time": "2024-08-25T11:34:05.655Z"
   },
   {
    "duration": 4,
    "start_time": "2024-08-25T11:34:05.712Z"
   },
   {
    "duration": 3,
    "start_time": "2024-08-25T11:34:05.719Z"
   },
   {
    "duration": 4,
    "start_time": "2024-08-25T11:34:05.725Z"
   },
   {
    "duration": 4,
    "start_time": "2024-08-25T11:34:05.732Z"
   },
   {
    "duration": 3,
    "start_time": "2024-08-25T11:34:05.739Z"
   },
   {
    "duration": 4,
    "start_time": "2024-08-25T11:34:05.745Z"
   },
   {
    "duration": 411,
    "start_time": "2024-08-25T11:35:28.360Z"
   },
   {
    "duration": 232,
    "start_time": "2024-08-25T11:35:28.774Z"
   },
   {
    "duration": 70,
    "start_time": "2024-08-25T11:35:29.010Z"
   },
   {
    "duration": 41,
    "start_time": "2024-08-25T11:35:29.084Z"
   },
   {
    "duration": 17,
    "start_time": "2024-08-25T11:35:29.128Z"
   },
   {
    "duration": 1282,
    "start_time": "2024-08-25T11:35:29.149Z"
   },
   {
    "duration": 3,
    "start_time": "2024-08-25T11:35:30.435Z"
   },
   {
    "duration": 4,
    "start_time": "2024-08-25T11:35:30.441Z"
   },
   {
    "duration": 3,
    "start_time": "2024-08-25T11:35:30.449Z"
   },
   {
    "duration": 4,
    "start_time": "2024-08-25T11:35:30.458Z"
   },
   {
    "duration": 45,
    "start_time": "2024-08-25T11:35:30.464Z"
   },
   {
    "duration": 4,
    "start_time": "2024-08-25T11:35:30.512Z"
   },
   {
    "duration": 4,
    "start_time": "2024-08-25T11:35:30.519Z"
   },
   {
    "duration": 4,
    "start_time": "2024-08-25T11:35:30.526Z"
   },
   {
    "duration": 4,
    "start_time": "2024-08-25T11:35:30.533Z"
   },
   {
    "duration": 4,
    "start_time": "2024-08-25T11:35:30.540Z"
   },
   {
    "duration": 4,
    "start_time": "2024-08-25T11:35:30.547Z"
   },
   {
    "duration": 57,
    "start_time": "2024-08-25T11:35:30.553Z"
   },
   {
    "duration": 3,
    "start_time": "2024-08-25T11:35:30.614Z"
   },
   {
    "duration": 6,
    "start_time": "2024-08-25T11:35:30.620Z"
   },
   {
    "duration": 4,
    "start_time": "2024-08-25T11:35:30.629Z"
   },
   {
    "duration": 3,
    "start_time": "2024-08-25T11:35:30.636Z"
   },
   {
    "duration": 3,
    "start_time": "2024-08-25T11:35:30.642Z"
   },
   {
    "duration": 3,
    "start_time": "2024-08-25T11:35:30.648Z"
   },
   {
    "duration": 3,
    "start_time": "2024-08-25T11:35:30.709Z"
   },
   {
    "duration": 5,
    "start_time": "2024-08-25T11:35:30.715Z"
   },
   {
    "duration": 428,
    "start_time": "2024-08-25T19:58:06.972Z"
   },
   {
    "duration": 258,
    "start_time": "2024-08-25T19:58:07.403Z"
   },
   {
    "duration": 93,
    "start_time": "2024-08-25T19:58:07.664Z"
   },
   {
    "duration": 19,
    "start_time": "2024-08-25T19:58:07.761Z"
   },
   {
    "duration": 19,
    "start_time": "2024-08-25T19:58:07.783Z"
   },
   {
    "duration": 1339,
    "start_time": "2024-08-25T19:58:07.805Z"
   },
   {
    "duration": 174,
    "start_time": "2024-08-25T19:58:09.147Z"
   },
   {
    "duration": 3,
    "start_time": "2024-08-25T19:58:09.330Z"
   },
   {
    "duration": 3,
    "start_time": "2024-08-25T19:58:09.337Z"
   },
   {
    "duration": 4,
    "start_time": "2024-08-25T19:58:09.347Z"
   },
   {
    "duration": 4,
    "start_time": "2024-08-25T19:58:09.353Z"
   },
   {
    "duration": 4,
    "start_time": "2024-08-25T19:58:09.360Z"
   },
   {
    "duration": 3,
    "start_time": "2024-08-25T19:58:09.368Z"
   },
   {
    "duration": 57,
    "start_time": "2024-08-25T19:58:09.374Z"
   },
   {
    "duration": 4,
    "start_time": "2024-08-25T19:58:09.434Z"
   },
   {
    "duration": 4,
    "start_time": "2024-08-25T19:58:09.441Z"
   },
   {
    "duration": 4,
    "start_time": "2024-08-25T19:58:09.448Z"
   },
   {
    "duration": 3,
    "start_time": "2024-08-25T19:58:09.455Z"
   },
   {
    "duration": 4,
    "start_time": "2024-08-25T19:58:09.461Z"
   },
   {
    "duration": 4,
    "start_time": "2024-08-25T19:58:09.468Z"
   },
   {
    "duration": 3,
    "start_time": "2024-08-25T19:58:09.532Z"
   },
   {
    "duration": 3,
    "start_time": "2024-08-25T19:58:09.538Z"
   },
   {
    "duration": 3,
    "start_time": "2024-08-25T19:58:09.545Z"
   },
   {
    "duration": 4,
    "start_time": "2024-08-25T19:58:09.551Z"
   },
   {
    "duration": 4,
    "start_time": "2024-08-25T19:58:09.558Z"
   },
   {
    "duration": 3,
    "start_time": "2024-08-25T19:58:09.565Z"
   },
   {
    "duration": 16,
    "start_time": "2024-08-25T20:01:23.051Z"
   },
   {
    "duration": 11,
    "start_time": "2024-08-25T20:01:41.752Z"
   },
   {
    "duration": 12,
    "start_time": "2024-08-25T20:02:03.907Z"
   },
   {
    "duration": 10,
    "start_time": "2024-08-25T20:02:11.370Z"
   },
   {
    "duration": 10,
    "start_time": "2024-08-25T20:05:17.834Z"
   },
   {
    "duration": 9,
    "start_time": "2024-08-25T20:05:58.300Z"
   },
   {
    "duration": 1113,
    "start_time": "2024-08-25T20:07:15.965Z"
   },
   {
    "duration": 71,
    "start_time": "2024-08-25T20:07:27.469Z"
   },
   {
    "duration": 579,
    "start_time": "2024-08-25T20:11:25.007Z"
   },
   {
    "duration": 84,
    "start_time": "2024-08-25T20:11:34.074Z"
   },
   {
    "duration": 301,
    "start_time": "2024-08-25T22:28:38.800Z"
   },
   {
    "duration": 421,
    "start_time": "2024-08-25T22:29:23.590Z"
   },
   {
    "duration": 259,
    "start_time": "2024-08-25T22:29:24.014Z"
   },
   {
    "duration": 96,
    "start_time": "2024-08-25T22:29:24.275Z"
   },
   {
    "duration": 20,
    "start_time": "2024-08-25T22:29:24.376Z"
   },
   {
    "duration": 35,
    "start_time": "2024-08-25T22:29:24.399Z"
   },
   {
    "duration": 1325,
    "start_time": "2024-08-25T22:29:24.436Z"
   },
   {
    "duration": 172,
    "start_time": "2024-08-25T22:29:25.763Z"
   },
   {
    "duration": 732,
    "start_time": "2024-08-25T22:29:25.938Z"
   },
   {
    "duration": 0,
    "start_time": "2024-08-25T22:29:26.675Z"
   },
   {
    "duration": 0,
    "start_time": "2024-08-25T22:29:26.677Z"
   },
   {
    "duration": 0,
    "start_time": "2024-08-25T22:29:26.679Z"
   },
   {
    "duration": 0,
    "start_time": "2024-08-25T22:29:26.681Z"
   },
   {
    "duration": 0,
    "start_time": "2024-08-25T22:29:26.682Z"
   },
   {
    "duration": 0,
    "start_time": "2024-08-25T22:29:26.685Z"
   },
   {
    "duration": 0,
    "start_time": "2024-08-25T22:29:26.687Z"
   },
   {
    "duration": 0,
    "start_time": "2024-08-25T22:29:26.690Z"
   },
   {
    "duration": 0,
    "start_time": "2024-08-25T22:29:26.693Z"
   },
   {
    "duration": 0,
    "start_time": "2024-08-25T22:29:26.695Z"
   },
   {
    "duration": 0,
    "start_time": "2024-08-25T22:29:26.697Z"
   },
   {
    "duration": 0,
    "start_time": "2024-08-25T22:29:26.733Z"
   },
   {
    "duration": 0,
    "start_time": "2024-08-25T22:29:26.735Z"
   },
   {
    "duration": 0,
    "start_time": "2024-08-25T22:29:26.737Z"
   },
   {
    "duration": 0,
    "start_time": "2024-08-25T22:29:26.739Z"
   },
   {
    "duration": 0,
    "start_time": "2024-08-25T22:29:26.742Z"
   },
   {
    "duration": 0,
    "start_time": "2024-08-25T22:29:26.748Z"
   },
   {
    "duration": 0,
    "start_time": "2024-08-25T22:29:26.751Z"
   },
   {
    "duration": 35,
    "start_time": "2024-08-25T22:32:12.118Z"
   },
   {
    "duration": 31,
    "start_time": "2024-08-25T22:53:15.220Z"
   },
   {
    "duration": 18,
    "start_time": "2024-08-25T22:53:30.324Z"
   },
   {
    "duration": 24,
    "start_time": "2024-08-25T22:56:31.972Z"
   },
   {
    "duration": 14,
    "start_time": "2024-08-25T22:57:02.103Z"
   },
   {
    "duration": 11,
    "start_time": "2024-08-25T22:57:35.083Z"
   },
   {
    "duration": 340,
    "start_time": "2024-08-25T23:01:36.661Z"
   },
   {
    "duration": 185,
    "start_time": "2024-08-25T23:02:28.944Z"
   },
   {
    "duration": 158,
    "start_time": "2024-08-25T23:02:30.497Z"
   },
   {
    "duration": 46,
    "start_time": "2024-08-25T23:03:22.977Z"
   },
   {
    "duration": 471,
    "start_time": "2024-08-26T13:28:52.344Z"
   },
   {
    "duration": 249,
    "start_time": "2024-08-26T13:28:52.819Z"
   },
   {
    "duration": 103,
    "start_time": "2024-08-26T13:28:53.070Z"
   },
   {
    "duration": 21,
    "start_time": "2024-08-26T13:28:53.178Z"
   },
   {
    "duration": 33,
    "start_time": "2024-08-26T13:28:53.202Z"
   },
   {
    "duration": 1324,
    "start_time": "2024-08-26T13:28:53.238Z"
   },
   {
    "duration": 173,
    "start_time": "2024-08-26T13:28:54.565Z"
   },
   {
    "duration": 14,
    "start_time": "2024-08-26T13:28:54.742Z"
   },
   {
    "duration": 210,
    "start_time": "2024-08-26T13:28:54.758Z"
   },
   {
    "duration": 180,
    "start_time": "2024-08-26T13:28:54.974Z"
   },
   {
    "duration": 44,
    "start_time": "2024-08-26T13:28:55.157Z"
   },
   {
    "duration": 3,
    "start_time": "2024-08-26T13:28:55.204Z"
   },
   {
    "duration": 3,
    "start_time": "2024-08-26T13:28:55.235Z"
   },
   {
    "duration": 3,
    "start_time": "2024-08-26T13:28:55.242Z"
   },
   {
    "duration": 4,
    "start_time": "2024-08-26T13:28:55.249Z"
   },
   {
    "duration": 4,
    "start_time": "2024-08-26T13:28:55.256Z"
   },
   {
    "duration": 4,
    "start_time": "2024-08-26T13:28:55.264Z"
   },
   {
    "duration": 3,
    "start_time": "2024-08-26T13:28:55.271Z"
   },
   {
    "duration": 56,
    "start_time": "2024-08-26T13:28:55.278Z"
   },
   {
    "duration": 4,
    "start_time": "2024-08-26T13:28:55.337Z"
   },
   {
    "duration": 4,
    "start_time": "2024-08-26T13:28:55.343Z"
   },
   {
    "duration": 4,
    "start_time": "2024-08-26T13:28:55.350Z"
   },
   {
    "duration": 3,
    "start_time": "2024-08-26T13:28:55.358Z"
   },
   {
    "duration": 3,
    "start_time": "2024-08-26T13:28:55.365Z"
   },
   {
    "duration": 4,
    "start_time": "2024-08-26T13:28:55.371Z"
   },
   {
    "duration": 4,
    "start_time": "2024-08-26T13:28:55.433Z"
   },
   {
    "duration": 21,
    "start_time": "2024-08-26T13:30:28.401Z"
   },
   {
    "duration": 330,
    "start_time": "2024-08-26T13:31:15.991Z"
   },
   {
    "duration": 70,
    "start_time": "2024-08-26T13:31:45.031Z"
   },
   {
    "duration": 69,
    "start_time": "2024-08-26T13:31:52.382Z"
   },
   {
    "duration": 5,
    "start_time": "2024-08-26T13:32:09.190Z"
   },
   {
    "duration": 23,
    "start_time": "2024-08-26T13:33:46.294Z"
   },
   {
    "duration": 31,
    "start_time": "2024-08-26T13:34:43.986Z"
   },
   {
    "duration": 7,
    "start_time": "2024-08-26T13:36:55.508Z"
   },
   {
    "duration": 485,
    "start_time": "2024-08-26T15:41:10.227Z"
   },
   {
    "duration": 269,
    "start_time": "2024-08-26T15:41:10.715Z"
   },
   {
    "duration": 100,
    "start_time": "2024-08-26T15:41:10.987Z"
   },
   {
    "duration": 21,
    "start_time": "2024-08-26T15:41:11.091Z"
   },
   {
    "duration": 21,
    "start_time": "2024-08-26T15:41:11.114Z"
   },
   {
    "duration": 1323,
    "start_time": "2024-08-26T15:41:11.138Z"
   },
   {
    "duration": 181,
    "start_time": "2024-08-26T15:41:12.465Z"
   },
   {
    "duration": 14,
    "start_time": "2024-08-26T15:41:12.649Z"
   },
   {
    "duration": 219,
    "start_time": "2024-08-26T15:41:12.666Z"
   },
   {
    "duration": 182,
    "start_time": "2024-08-26T15:41:12.890Z"
   },
   {
    "duration": 59,
    "start_time": "2024-08-26T15:41:13.075Z"
   },
   {
    "duration": 23,
    "start_time": "2024-08-26T15:41:13.137Z"
   },
   {
    "duration": 6,
    "start_time": "2024-08-26T15:41:13.162Z"
   },
   {
    "duration": 62,
    "start_time": "2024-08-26T15:41:13.171Z"
   },
   {
    "duration": 7,
    "start_time": "2024-08-26T15:41:13.236Z"
   },
   {
    "duration": 5,
    "start_time": "2024-08-26T15:41:13.246Z"
   },
   {
    "duration": 3,
    "start_time": "2024-08-26T15:41:13.254Z"
   },
   {
    "duration": 4,
    "start_time": "2024-08-26T15:41:13.260Z"
   },
   {
    "duration": 4,
    "start_time": "2024-08-26T15:41:13.306Z"
   },
   {
    "duration": 3,
    "start_time": "2024-08-26T15:41:13.314Z"
   },
   {
    "duration": 4,
    "start_time": "2024-08-26T15:41:13.320Z"
   },
   {
    "duration": 7,
    "start_time": "2024-08-26T15:41:13.327Z"
   },
   {
    "duration": 9,
    "start_time": "2024-08-26T15:41:13.337Z"
   },
   {
    "duration": 3,
    "start_time": "2024-08-26T15:41:13.349Z"
   },
   {
    "duration": 50,
    "start_time": "2024-08-26T15:41:13.356Z"
   },
   {
    "duration": 4,
    "start_time": "2024-08-26T15:41:13.409Z"
   },
   {
    "duration": 1354,
    "start_time": "2024-08-26T15:43:15.940Z"
   },
   {
    "duration": 3860,
    "start_time": "2024-08-26T15:47:41.846Z"
   },
   {
    "duration": 3593,
    "start_time": "2024-08-26T15:51:49.956Z"
   },
   {
    "duration": 452,
    "start_time": "2024-08-26T15:52:45.982Z"
   },
   {
    "duration": 250,
    "start_time": "2024-08-26T15:53:06.384Z"
   },
   {
    "duration": 249,
    "start_time": "2024-08-26T15:53:16.517Z"
   },
   {
    "duration": 7,
    "start_time": "2024-08-26T16:01:03.440Z"
   },
   {
    "duration": 241,
    "start_time": "2024-08-26T16:01:14.275Z"
   },
   {
    "duration": 301,
    "start_time": "2024-08-26T16:03:26.287Z"
   },
   {
    "duration": 1249,
    "start_time": "2024-08-26T16:04:21.116Z"
   },
   {
    "duration": 1621,
    "start_time": "2024-08-26T16:08:27.870Z"
   },
   {
    "duration": 1255,
    "start_time": "2024-08-26T16:08:45.204Z"
   },
   {
    "duration": 1265,
    "start_time": "2024-08-26T16:17:46.321Z"
   },
   {
    "duration": 7,
    "start_time": "2024-08-26T16:25:03.028Z"
   },
   {
    "duration": 6,
    "start_time": "2024-08-26T16:29:41.555Z"
   },
   {
    "duration": 9,
    "start_time": "2024-08-26T16:30:07.469Z"
   },
   {
    "duration": 9,
    "start_time": "2024-08-26T16:31:46.957Z"
   },
   {
    "duration": 7,
    "start_time": "2024-08-26T16:32:42.790Z"
   },
   {
    "duration": 28,
    "start_time": "2024-08-26T16:33:45.072Z"
   },
   {
    "duration": 254,
    "start_time": "2024-08-26T16:59:01.520Z"
   },
   {
    "duration": 331,
    "start_time": "2024-08-26T16:59:17.847Z"
   },
   {
    "duration": 8,
    "start_time": "2024-08-26T17:01:18.405Z"
   },
   {
    "duration": 5,
    "start_time": "2024-08-26T17:06:13.905Z"
   },
   {
    "duration": 33,
    "start_time": "2024-08-26T17:08:04.837Z"
   },
   {
    "duration": 10,
    "start_time": "2024-08-26T17:12:51.653Z"
   },
   {
    "duration": 14,
    "start_time": "2024-08-26T17:14:06.762Z"
   },
   {
    "duration": 13,
    "start_time": "2024-08-26T17:14:41.553Z"
   },
   {
    "duration": 9,
    "start_time": "2024-08-26T17:16:14.356Z"
   },
   {
    "duration": 7,
    "start_time": "2024-08-26T17:16:25.240Z"
   },
   {
    "duration": 6,
    "start_time": "2024-08-26T17:16:45.649Z"
   },
   {
    "duration": 11,
    "start_time": "2024-08-26T17:16:52.436Z"
   },
   {
    "duration": 12,
    "start_time": "2024-08-26T17:18:22.284Z"
   },
   {
    "duration": 11,
    "start_time": "2024-08-26T17:18:37.807Z"
   },
   {
    "duration": 9,
    "start_time": "2024-08-26T17:20:46.485Z"
   },
   {
    "duration": 22,
    "start_time": "2024-08-26T17:27:21.280Z"
   },
   {
    "duration": 865,
    "start_time": "2024-08-26T17:27:28.167Z"
   },
   {
    "duration": 83,
    "start_time": "2024-08-26T17:27:35.148Z"
   },
   {
    "duration": 6,
    "start_time": "2024-08-26T17:27:53.272Z"
   },
   {
    "duration": 36,
    "start_time": "2024-08-26T17:29:30.593Z"
   },
   {
    "duration": 34,
    "start_time": "2024-08-26T17:30:34.432Z"
   },
   {
    "duration": 34,
    "start_time": "2024-08-26T17:30:43.151Z"
   },
   {
    "duration": 9,
    "start_time": "2024-08-26T17:32:01.746Z"
   },
   {
    "duration": 15,
    "start_time": "2024-08-26T17:34:04.171Z"
   },
   {
    "duration": 12,
    "start_time": "2024-08-26T17:42:17.139Z"
   },
   {
    "duration": 17,
    "start_time": "2024-08-26T17:43:05.491Z"
   },
   {
    "duration": 16,
    "start_time": "2024-08-26T17:43:55.207Z"
   },
   {
    "duration": 25,
    "start_time": "2024-08-26T17:44:58.047Z"
   },
   {
    "duration": 23,
    "start_time": "2024-08-26T17:45:33.644Z"
   },
   {
    "duration": 8,
    "start_time": "2024-08-26T17:45:52.991Z"
   },
   {
    "duration": 24,
    "start_time": "2024-08-26T18:06:40.087Z"
   },
   {
    "duration": 7,
    "start_time": "2024-08-26T18:06:50.713Z"
   },
   {
    "duration": 7,
    "start_time": "2024-08-26T18:08:10.248Z"
   },
   {
    "duration": 6,
    "start_time": "2024-08-26T18:09:28.794Z"
   },
   {
    "duration": 51,
    "start_time": "2024-08-26T18:34:30.867Z"
   },
   {
    "duration": 5,
    "start_time": "2024-08-26T18:35:33.888Z"
   },
   {
    "duration": 50,
    "start_time": "2024-08-26T18:35:40.211Z"
   },
   {
    "duration": 2156,
    "start_time": "2024-08-26T19:30:35.511Z"
   },
   {
    "duration": 166,
    "start_time": "2024-08-26T19:30:37.669Z"
   },
   {
    "duration": 73,
    "start_time": "2024-08-26T19:30:37.836Z"
   },
   {
    "duration": 14,
    "start_time": "2024-08-26T19:30:37.911Z"
   },
   {
    "duration": 12,
    "start_time": "2024-08-26T19:30:37.928Z"
   },
   {
    "duration": 836,
    "start_time": "2024-08-26T19:30:37.941Z"
   },
   {
    "duration": 89,
    "start_time": "2024-08-26T19:30:38.779Z"
   },
   {
    "duration": 9,
    "start_time": "2024-08-26T19:30:38.870Z"
   },
   {
    "duration": 99,
    "start_time": "2024-08-26T19:30:38.880Z"
   },
   {
    "duration": 94,
    "start_time": "2024-08-26T19:30:38.981Z"
   },
   {
    "duration": 23,
    "start_time": "2024-08-26T19:30:39.077Z"
   },
   {
    "duration": 25,
    "start_time": "2024-08-26T19:30:39.102Z"
   },
   {
    "duration": 3,
    "start_time": "2024-08-26T19:30:39.128Z"
   },
   {
    "duration": 16,
    "start_time": "2024-08-26T19:30:39.135Z"
   },
   {
    "duration": 5,
    "start_time": "2024-08-26T19:30:39.152Z"
   },
   {
    "duration": 740,
    "start_time": "2024-08-26T19:30:39.159Z"
   },
   {
    "duration": 116,
    "start_time": "2024-08-26T19:30:39.901Z"
   },
   {
    "duration": 5,
    "start_time": "2024-08-26T19:30:40.019Z"
   },
   {
    "duration": 8,
    "start_time": "2024-08-26T19:30:40.025Z"
   },
   {
    "duration": 6,
    "start_time": "2024-08-26T19:30:40.035Z"
   },
   {
    "duration": 9,
    "start_time": "2024-08-26T19:30:40.043Z"
   },
   {
    "duration": 15,
    "start_time": "2024-08-26T19:30:40.054Z"
   },
   {
    "duration": 4,
    "start_time": "2024-08-26T19:30:40.073Z"
   },
   {
    "duration": 4,
    "start_time": "2024-08-26T19:30:40.079Z"
   },
   {
    "duration": 4,
    "start_time": "2024-08-26T19:30:40.121Z"
   },
   {
    "duration": 31,
    "start_time": "2024-08-26T19:30:40.127Z"
   },
   {
    "duration": 2,
    "start_time": "2024-08-26T19:30:40.160Z"
   },
   {
    "duration": 3,
    "start_time": "2024-08-26T19:30:40.164Z"
   },
   {
    "duration": 3,
    "start_time": "2024-08-26T19:30:40.168Z"
   },
   {
    "duration": 221,
    "start_time": "2024-08-26T19:32:18.556Z"
   },
   {
    "duration": 7,
    "start_time": "2024-08-26T19:32:27.815Z"
   },
   {
    "duration": 7,
    "start_time": "2024-08-26T19:33:52.611Z"
   },
   {
    "duration": 16,
    "start_time": "2024-08-26T19:34:13.573Z"
   },
   {
    "duration": 210,
    "start_time": "2024-08-26T20:37:20.053Z"
   },
   {
    "duration": 42,
    "start_time": "2024-08-26T20:37:33.766Z"
   },
   {
    "duration": 23,
    "start_time": "2024-08-26T20:37:48.104Z"
   },
   {
    "duration": 476,
    "start_time": "2024-08-26T20:37:55.129Z"
   },
   {
    "duration": 182,
    "start_time": "2024-08-26T20:37:55.607Z"
   },
   {
    "duration": 51,
    "start_time": "2024-08-26T20:37:55.791Z"
   },
   {
    "duration": 11,
    "start_time": "2024-08-26T20:37:55.846Z"
   },
   {
    "duration": 12,
    "start_time": "2024-08-26T20:37:55.859Z"
   },
   {
    "duration": 774,
    "start_time": "2024-08-26T20:37:55.872Z"
   },
   {
    "duration": 96,
    "start_time": "2024-08-26T20:37:56.648Z"
   },
   {
    "duration": 9,
    "start_time": "2024-08-26T20:37:56.745Z"
   },
   {
    "duration": 126,
    "start_time": "2024-08-26T20:37:56.756Z"
   },
   {
    "duration": 101,
    "start_time": "2024-08-26T20:37:56.885Z"
   },
   {
    "duration": 26,
    "start_time": "2024-08-26T20:37:56.988Z"
   },
   {
    "duration": 14,
    "start_time": "2024-08-26T20:37:57.022Z"
   },
   {
    "duration": 4,
    "start_time": "2024-08-26T20:37:57.039Z"
   },
   {
    "duration": 18,
    "start_time": "2024-08-26T20:37:57.044Z"
   },
   {
    "duration": 6,
    "start_time": "2024-08-26T20:37:57.065Z"
   },
   {
    "duration": 868,
    "start_time": "2024-08-26T20:37:57.072Z"
   },
   {
    "duration": 165,
    "start_time": "2024-08-26T20:37:57.942Z"
   },
   {
    "duration": 5,
    "start_time": "2024-08-26T20:37:58.109Z"
   },
   {
    "duration": 13,
    "start_time": "2024-08-26T20:37:58.115Z"
   },
   {
    "duration": 5,
    "start_time": "2024-08-26T20:37:58.130Z"
   },
   {
    "duration": 9,
    "start_time": "2024-08-26T20:37:58.137Z"
   },
   {
    "duration": 15,
    "start_time": "2024-08-26T20:37:58.147Z"
   },
   {
    "duration": 5,
    "start_time": "2024-08-26T20:37:58.163Z"
   },
   {
    "duration": 4,
    "start_time": "2024-08-26T20:37:58.170Z"
   },
   {
    "duration": 47,
    "start_time": "2024-08-26T20:37:58.175Z"
   },
   {
    "duration": 32,
    "start_time": "2024-08-26T20:37:58.224Z"
   },
   {
    "duration": 283,
    "start_time": "2024-08-26T20:37:58.259Z"
   },
   {
    "duration": 0,
    "start_time": "2024-08-26T20:37:58.544Z"
   },
   {
    "duration": 0,
    "start_time": "2024-08-26T20:37:58.546Z"
   },
   {
    "duration": 145,
    "start_time": "2024-08-26T20:38:08.614Z"
   },
   {
    "duration": 41,
    "start_time": "2024-08-26T20:38:18.520Z"
   },
   {
    "duration": 726,
    "start_time": "2024-08-26T20:46:50.959Z"
   },
   {
    "duration": 11,
    "start_time": "2024-08-26T20:55:50.614Z"
   },
   {
    "duration": 7,
    "start_time": "2024-08-26T20:56:18.513Z"
   },
   {
    "duration": 11,
    "start_time": "2024-08-26T20:58:19.585Z"
   },
   {
    "duration": 31,
    "start_time": "2024-08-26T21:07:36.251Z"
   },
   {
    "duration": 267,
    "start_time": "2024-08-26T21:14:30.962Z"
   },
   {
    "duration": 259,
    "start_time": "2024-08-26T21:14:54.738Z"
   },
   {
    "duration": 248,
    "start_time": "2024-08-26T21:15:12.300Z"
   },
   {
    "duration": 27,
    "start_time": "2024-08-26T21:16:44.050Z"
   },
   {
    "duration": 23,
    "start_time": "2024-08-26T21:16:49.785Z"
   },
   {
    "duration": 19,
    "start_time": "2024-08-26T21:24:56.560Z"
   },
   {
    "duration": 20,
    "start_time": "2024-08-26T21:25:23.693Z"
   },
   {
    "duration": 19,
    "start_time": "2024-08-26T21:32:29.421Z"
   },
   {
    "duration": 19,
    "start_time": "2024-08-26T21:32:37.526Z"
   },
   {
    "duration": 19,
    "start_time": "2024-08-26T21:32:46.616Z"
   },
   {
    "duration": 19,
    "start_time": "2024-08-26T21:32:56.962Z"
   },
   {
    "duration": 18,
    "start_time": "2024-08-26T21:33:09.671Z"
   },
   {
    "duration": 23,
    "start_time": "2024-08-26T21:34:07.421Z"
   },
   {
    "duration": 32,
    "start_time": "2024-08-26T21:34:45.811Z"
   },
   {
    "duration": 43,
    "start_time": "2024-08-26T21:34:51.074Z"
   },
   {
    "duration": 5,
    "start_time": "2024-08-26T21:40:07.166Z"
   },
   {
    "duration": 4,
    "start_time": "2024-08-26T21:41:10.698Z"
   },
   {
    "duration": 4,
    "start_time": "2024-08-26T21:43:16.705Z"
   },
   {
    "duration": 4,
    "start_time": "2024-08-26T21:43:30.889Z"
   },
   {
    "duration": 5,
    "start_time": "2024-08-26T21:45:29.774Z"
   },
   {
    "duration": 7,
    "start_time": "2024-08-26T21:51:08.246Z"
   },
   {
    "duration": 5,
    "start_time": "2024-08-26T21:51:50.944Z"
   },
   {
    "duration": 3,
    "start_time": "2024-08-26T21:53:41.227Z"
   },
   {
    "duration": 3,
    "start_time": "2024-08-26T21:53:54.698Z"
   },
   {
    "duration": 13,
    "start_time": "2024-08-26T21:54:14.848Z"
   },
   {
    "duration": 26,
    "start_time": "2024-08-26T21:54:32.038Z"
   },
   {
    "duration": 3,
    "start_time": "2024-08-26T21:55:22.490Z"
   },
   {
    "duration": 68,
    "start_time": "2024-08-26T21:55:33.167Z"
   },
   {
    "duration": 19,
    "start_time": "2024-08-26T22:01:22.969Z"
   },
   {
    "duration": 7,
    "start_time": "2024-08-26T22:02:48.522Z"
   },
   {
    "duration": 6,
    "start_time": "2024-08-26T22:02:54.418Z"
   },
   {
    "duration": 6,
    "start_time": "2024-08-26T22:06:30.670Z"
   },
   {
    "duration": 6,
    "start_time": "2024-08-26T22:08:25.792Z"
   },
   {
    "duration": 5,
    "start_time": "2024-08-26T22:10:22.059Z"
   },
   {
    "duration": 6,
    "start_time": "2024-08-26T22:10:33.752Z"
   },
   {
    "duration": 4,
    "start_time": "2024-08-26T22:12:06.912Z"
   },
   {
    "duration": 4,
    "start_time": "2024-08-26T22:12:12.006Z"
   },
   {
    "duration": 5,
    "start_time": "2024-08-26T22:12:45.107Z"
   },
   {
    "duration": 5,
    "start_time": "2024-08-26T22:12:53.005Z"
   },
   {
    "duration": 14,
    "start_time": "2024-08-26T22:15:37.026Z"
   },
   {
    "duration": 14,
    "start_time": "2024-08-26T22:15:50.491Z"
   },
   {
    "duration": 14,
    "start_time": "2024-08-26T22:16:08.203Z"
   },
   {
    "duration": 5,
    "start_time": "2024-08-26T22:16:28.151Z"
   },
   {
    "duration": 5,
    "start_time": "2024-08-26T22:16:37.549Z"
   },
   {
    "duration": 4,
    "start_time": "2024-08-26T22:17:08.031Z"
   },
   {
    "duration": 5,
    "start_time": "2024-08-26T22:17:29.266Z"
   },
   {
    "duration": 5,
    "start_time": "2024-08-26T22:17:45.376Z"
   },
   {
    "duration": 529,
    "start_time": "2024-08-26T22:19:12.913Z"
   },
   {
    "duration": 4,
    "start_time": "2024-08-26T22:20:39.263Z"
   },
   {
    "duration": 49,
    "start_time": "2024-08-26T22:20:56.400Z"
   },
   {
    "duration": 410,
    "start_time": "2024-08-26T22:21:01.080Z"
   },
   {
    "duration": 165,
    "start_time": "2024-08-26T22:21:01.492Z"
   },
   {
    "duration": 43,
    "start_time": "2024-08-26T22:21:01.659Z"
   },
   {
    "duration": 24,
    "start_time": "2024-08-26T22:21:01.705Z"
   },
   {
    "duration": 11,
    "start_time": "2024-08-26T22:21:01.731Z"
   },
   {
    "duration": 724,
    "start_time": "2024-08-26T22:21:01.743Z"
   },
   {
    "duration": 87,
    "start_time": "2024-08-26T22:21:02.468Z"
   },
   {
    "duration": 9,
    "start_time": "2024-08-26T22:21:02.557Z"
   },
   {
    "duration": 117,
    "start_time": "2024-08-26T22:21:02.569Z"
   },
   {
    "duration": 102,
    "start_time": "2024-08-26T22:21:02.691Z"
   },
   {
    "duration": 33,
    "start_time": "2024-08-26T22:21:02.794Z"
   },
   {
    "duration": 11,
    "start_time": "2024-08-26T22:21:02.829Z"
   },
   {
    "duration": 4,
    "start_time": "2024-08-26T22:21:02.841Z"
   },
   {
    "duration": 16,
    "start_time": "2024-08-26T22:21:02.846Z"
   },
   {
    "duration": 5,
    "start_time": "2024-08-26T22:21:02.863Z"
   },
   {
    "duration": 789,
    "start_time": "2024-08-26T22:21:02.870Z"
   },
   {
    "duration": 786,
    "start_time": "2024-08-26T22:21:03.661Z"
   },
   {
    "duration": 4,
    "start_time": "2024-08-26T22:21:04.449Z"
   },
   {
    "duration": 7,
    "start_time": "2024-08-26T22:21:04.454Z"
   },
   {
    "duration": 4,
    "start_time": "2024-08-26T22:21:04.463Z"
   },
   {
    "duration": 11,
    "start_time": "2024-08-26T22:21:04.468Z"
   },
   {
    "duration": 40,
    "start_time": "2024-08-26T22:21:04.481Z"
   },
   {
    "duration": 5,
    "start_time": "2024-08-26T22:21:04.523Z"
   },
   {
    "duration": 4,
    "start_time": "2024-08-26T22:21:04.530Z"
   },
   {
    "duration": 4,
    "start_time": "2024-08-26T22:21:04.535Z"
   },
   {
    "duration": 32,
    "start_time": "2024-08-26T22:21:04.541Z"
   },
   {
    "duration": 11,
    "start_time": "2024-08-26T22:21:04.576Z"
   },
   {
    "duration": 293,
    "start_time": "2024-08-26T22:21:04.623Z"
   },
   {
    "duration": 44,
    "start_time": "2024-08-26T22:21:04.918Z"
   },
   {
    "duration": 5,
    "start_time": "2024-08-26T22:21:04.964Z"
   },
   {
    "duration": 6,
    "start_time": "2024-08-26T22:21:04.971Z"
   },
   {
    "duration": 6,
    "start_time": "2024-08-26T22:21:04.978Z"
   },
   {
    "duration": 5,
    "start_time": "2024-08-26T22:21:04.985Z"
   },
   {
    "duration": 704,
    "start_time": "2024-08-26T22:21:05.021Z"
   },
   {
    "duration": 0,
    "start_time": "2024-08-26T22:21:05.729Z"
   },
   {
    "duration": 5,
    "start_time": "2024-08-26T22:22:00.764Z"
   },
   {
    "duration": 17,
    "start_time": "2024-08-26T22:22:05.684Z"
   },
   {
    "duration": 4,
    "start_time": "2024-08-26T22:29:39.528Z"
   },
   {
    "duration": 5,
    "start_time": "2024-08-26T22:30:38.281Z"
   },
   {
    "duration": 636,
    "start_time": "2024-08-26T22:32:32.213Z"
   },
   {
    "duration": 8,
    "start_time": "2024-08-26T22:33:05.104Z"
   },
   {
    "duration": 9,
    "start_time": "2024-08-26T22:33:17.836Z"
   },
   {
    "duration": 9,
    "start_time": "2024-08-26T22:34:06.666Z"
   },
   {
    "duration": 155,
    "start_time": "2024-08-26T22:38:59.037Z"
   },
   {
    "duration": 165,
    "start_time": "2024-08-26T22:45:47.211Z"
   },
   {
    "duration": 175,
    "start_time": "2024-08-26T22:47:01.331Z"
   },
   {
    "duration": 16,
    "start_time": "2024-08-26T22:51:43.189Z"
   },
   {
    "duration": 171,
    "start_time": "2024-08-26T22:52:32.907Z"
   },
   {
    "duration": 164,
    "start_time": "2024-08-26T22:54:06.400Z"
   },
   {
    "duration": 181,
    "start_time": "2024-08-26T22:54:37.822Z"
   },
   {
    "duration": 171,
    "start_time": "2024-08-26T22:54:44.812Z"
   },
   {
    "duration": 312,
    "start_time": "2024-08-26T23:09:01.833Z"
   },
   {
    "duration": 406,
    "start_time": "2024-08-26T23:10:53.433Z"
   },
   {
    "duration": 2235,
    "start_time": "2024-08-26T23:38:08.357Z"
   },
   {
    "duration": 170,
    "start_time": "2024-08-26T23:38:10.594Z"
   },
   {
    "duration": 75,
    "start_time": "2024-08-26T23:38:10.766Z"
   },
   {
    "duration": 15,
    "start_time": "2024-08-26T23:38:10.844Z"
   },
   {
    "duration": 14,
    "start_time": "2024-08-26T23:38:10.861Z"
   },
   {
    "duration": 834,
    "start_time": "2024-08-26T23:38:10.877Z"
   },
   {
    "duration": 91,
    "start_time": "2024-08-26T23:38:11.713Z"
   },
   {
    "duration": 9,
    "start_time": "2024-08-26T23:38:11.806Z"
   },
   {
    "duration": 108,
    "start_time": "2024-08-26T23:38:11.816Z"
   },
   {
    "duration": 98,
    "start_time": "2024-08-26T23:38:11.927Z"
   },
   {
    "duration": 30,
    "start_time": "2024-08-26T23:38:12.027Z"
   },
   {
    "duration": 13,
    "start_time": "2024-08-26T23:38:12.059Z"
   },
   {
    "duration": 4,
    "start_time": "2024-08-26T23:38:12.073Z"
   },
   {
    "duration": 17,
    "start_time": "2024-08-26T23:38:12.078Z"
   },
   {
    "duration": 6,
    "start_time": "2024-08-26T23:38:12.097Z"
   },
   {
    "duration": 866,
    "start_time": "2024-08-26T23:38:12.105Z"
   },
   {
    "duration": 815,
    "start_time": "2024-08-26T23:38:12.973Z"
   },
   {
    "duration": 4,
    "start_time": "2024-08-26T23:38:13.790Z"
   },
   {
    "duration": 7,
    "start_time": "2024-08-26T23:38:13.796Z"
   },
   {
    "duration": 5,
    "start_time": "2024-08-26T23:38:13.805Z"
   },
   {
    "duration": 36,
    "start_time": "2024-08-26T23:38:13.812Z"
   },
   {
    "duration": 14,
    "start_time": "2024-08-26T23:38:13.850Z"
   },
   {
    "duration": 5,
    "start_time": "2024-08-26T23:38:13.866Z"
   },
   {
    "duration": 5,
    "start_time": "2024-08-26T23:38:13.872Z"
   },
   {
    "duration": 4,
    "start_time": "2024-08-26T23:38:13.878Z"
   },
   {
    "duration": 64,
    "start_time": "2024-08-26T23:38:13.884Z"
   },
   {
    "duration": 11,
    "start_time": "2024-08-26T23:38:13.950Z"
   },
   {
    "duration": 318,
    "start_time": "2024-08-26T23:38:13.965Z"
   },
   {
    "duration": 44,
    "start_time": "2024-08-26T23:38:14.284Z"
   },
   {
    "duration": 4,
    "start_time": "2024-08-26T23:38:14.340Z"
   },
   {
    "duration": 7,
    "start_time": "2024-08-26T23:38:14.347Z"
   },
   {
    "duration": 7,
    "start_time": "2024-08-26T23:38:14.356Z"
   },
   {
    "duration": 6,
    "start_time": "2024-08-26T23:38:14.365Z"
   },
   {
    "duration": 5,
    "start_time": "2024-08-26T23:38:14.372Z"
   },
   {
    "duration": 15,
    "start_time": "2024-08-26T23:38:14.379Z"
   },
   {
    "duration": 47,
    "start_time": "2024-08-26T23:38:14.396Z"
   },
   {
    "duration": 14,
    "start_time": "2024-08-26T23:38:14.445Z"
   },
   {
    "duration": 7,
    "start_time": "2024-08-26T23:38:14.461Z"
   },
   {
    "duration": 482,
    "start_time": "2024-08-26T23:38:14.470Z"
   },
   {
    "duration": 2,
    "start_time": "2024-08-26T23:38:14.954Z"
   },
   {
    "duration": 192,
    "start_time": "2024-08-26T23:38:29.221Z"
   },
   {
    "duration": 4,
    "start_time": "2024-08-26T23:38:38.484Z"
   },
   {
    "duration": 4,
    "start_time": "2024-08-26T23:39:18.899Z"
   },
   {
    "duration": 4,
    "start_time": "2024-08-26T23:40:18.866Z"
   },
   {
    "duration": 146,
    "start_time": "2024-08-26T23:42:31.596Z"
   },
   {
    "duration": 2107,
    "start_time": "2024-08-27T00:43:32.959Z"
   },
   {
    "duration": 168,
    "start_time": "2024-08-27T00:43:35.068Z"
   },
   {
    "duration": 73,
    "start_time": "2024-08-27T00:43:35.238Z"
   },
   {
    "duration": 11,
    "start_time": "2024-08-27T00:43:35.313Z"
   },
   {
    "duration": 11,
    "start_time": "2024-08-27T00:43:35.325Z"
   },
   {
    "duration": 808,
    "start_time": "2024-08-27T00:43:35.337Z"
   },
   {
    "duration": 89,
    "start_time": "2024-08-27T00:43:36.147Z"
   },
   {
    "duration": 9,
    "start_time": "2024-08-27T00:43:36.238Z"
   },
   {
    "duration": 96,
    "start_time": "2024-08-27T00:43:36.249Z"
   },
   {
    "duration": 77,
    "start_time": "2024-08-27T00:43:36.348Z"
   },
   {
    "duration": 24,
    "start_time": "2024-08-27T00:43:36.434Z"
   },
   {
    "duration": 12,
    "start_time": "2024-08-27T00:43:36.460Z"
   },
   {
    "duration": 3,
    "start_time": "2024-08-27T00:43:36.474Z"
   },
   {
    "duration": 16,
    "start_time": "2024-08-27T00:43:36.479Z"
   },
   {
    "duration": 7,
    "start_time": "2024-08-27T00:43:36.497Z"
   },
   {
    "duration": 736,
    "start_time": "2024-08-27T00:43:36.505Z"
   },
   {
    "duration": 776,
    "start_time": "2024-08-27T00:43:37.242Z"
   },
   {
    "duration": 4,
    "start_time": "2024-08-27T00:43:38.020Z"
   },
   {
    "duration": 12,
    "start_time": "2024-08-27T00:43:38.026Z"
   },
   {
    "duration": 5,
    "start_time": "2024-08-27T00:43:38.040Z"
   },
   {
    "duration": 9,
    "start_time": "2024-08-27T00:43:38.046Z"
   },
   {
    "duration": 13,
    "start_time": "2024-08-27T00:43:38.056Z"
   },
   {
    "duration": 4,
    "start_time": "2024-08-27T00:43:38.071Z"
   },
   {
    "duration": 3,
    "start_time": "2024-08-27T00:43:38.077Z"
   },
   {
    "duration": 4,
    "start_time": "2024-08-27T00:43:38.082Z"
   },
   {
    "duration": 75,
    "start_time": "2024-08-27T00:43:38.089Z"
   },
   {
    "duration": 11,
    "start_time": "2024-08-27T00:43:38.165Z"
   },
   {
    "duration": 273,
    "start_time": "2024-08-27T00:43:38.180Z"
   },
   {
    "duration": 42,
    "start_time": "2024-08-27T00:43:38.455Z"
   },
   {
    "duration": 5,
    "start_time": "2024-08-27T00:43:38.499Z"
   },
   {
    "duration": 5,
    "start_time": "2024-08-27T00:43:38.506Z"
   },
   {
    "duration": 6,
    "start_time": "2024-08-27T00:43:38.535Z"
   },
   {
    "duration": 6,
    "start_time": "2024-08-27T00:43:38.544Z"
   },
   {
    "duration": 6,
    "start_time": "2024-08-27T00:43:38.552Z"
   },
   {
    "duration": 17,
    "start_time": "2024-08-27T00:43:38.559Z"
   },
   {
    "duration": 5,
    "start_time": "2024-08-27T00:43:38.578Z"
   },
   {
    "duration": 13,
    "start_time": "2024-08-27T00:43:38.584Z"
   },
   {
    "duration": 39,
    "start_time": "2024-08-27T00:43:38.599Z"
   },
   {
    "duration": 439,
    "start_time": "2024-08-27T00:43:38.640Z"
   },
   {
    "duration": 2,
    "start_time": "2024-08-27T00:43:39.081Z"
   },
   {
    "duration": 5,
    "start_time": "2024-08-27T00:43:39.085Z"
   },
   {
    "duration": 166,
    "start_time": "2024-08-27T00:43:39.091Z"
   },
   {
    "duration": 5,
    "start_time": "2024-08-27T00:45:08.793Z"
   },
   {
    "duration": 6,
    "start_time": "2024-08-27T00:46:23.993Z"
   },
   {
    "duration": 6,
    "start_time": "2024-08-27T00:47:38.157Z"
   },
   {
    "duration": 94,
    "start_time": "2024-08-27T00:50:06.721Z"
   },
   {
    "duration": 729,
    "start_time": "2024-08-27T00:51:04.690Z"
   },
   {
    "duration": 787,
    "start_time": "2024-08-27T00:51:57.520Z"
   },
   {
    "duration": 662,
    "start_time": "2024-08-27T00:52:05.085Z"
   },
   {
    "duration": 680,
    "start_time": "2024-08-27T00:52:20.866Z"
   },
   {
    "duration": 269,
    "start_time": "2024-08-27T00:53:27.860Z"
   },
   {
    "duration": 682,
    "start_time": "2024-08-27T00:54:10.038Z"
   },
   {
    "duration": 103,
    "start_time": "2024-08-27T00:59:17.588Z"
   },
   {
    "duration": 11,
    "start_time": "2024-08-27T00:59:33.237Z"
   },
   {
    "duration": 88,
    "start_time": "2024-08-27T00:59:42.825Z"
   },
   {
    "duration": 407,
    "start_time": "2024-08-27T01:00:24.867Z"
   },
   {
    "duration": 680,
    "start_time": "2024-08-27T01:00:42.836Z"
   },
   {
    "duration": 118,
    "start_time": "2024-08-27T01:00:59.374Z"
   },
   {
    "duration": 88,
    "start_time": "2024-08-27T01:01:31.085Z"
   },
   {
    "duration": 111,
    "start_time": "2024-08-27T01:02:24.878Z"
   },
   {
    "duration": 114,
    "start_time": "2024-08-27T01:02:31.818Z"
   },
   {
    "duration": 5,
    "start_time": "2024-08-27T01:02:56.740Z"
   },
   {
    "duration": 113,
    "start_time": "2024-08-27T01:03:00.180Z"
   },
   {
    "duration": 73,
    "start_time": "2024-08-27T01:04:29.444Z"
   },
   {
    "duration": 78,
    "start_time": "2024-08-27T01:04:49.497Z"
   },
   {
    "duration": 112,
    "start_time": "2024-08-27T01:07:36.470Z"
   },
   {
    "duration": 112,
    "start_time": "2024-08-27T01:07:44.675Z"
   },
   {
    "duration": 456,
    "start_time": "2024-08-27T01:08:52.835Z"
   },
   {
    "duration": 167,
    "start_time": "2024-08-27T01:08:53.295Z"
   },
   {
    "duration": 50,
    "start_time": "2024-08-27T01:08:53.464Z"
   },
   {
    "duration": 19,
    "start_time": "2024-08-27T01:08:53.517Z"
   },
   {
    "duration": 12,
    "start_time": "2024-08-27T01:08:53.538Z"
   },
   {
    "duration": 980,
    "start_time": "2024-08-27T01:08:53.552Z"
   },
   {
    "duration": 123,
    "start_time": "2024-08-27T01:08:54.535Z"
   },
   {
    "duration": 10,
    "start_time": "2024-08-27T01:08:54.660Z"
   },
   {
    "duration": 131,
    "start_time": "2024-08-27T01:08:54.672Z"
   },
   {
    "duration": 109,
    "start_time": "2024-08-27T01:08:54.806Z"
   },
   {
    "duration": 33,
    "start_time": "2024-08-27T01:08:54.917Z"
   },
   {
    "duration": 19,
    "start_time": "2024-08-27T01:08:54.953Z"
   },
   {
    "duration": 3,
    "start_time": "2024-08-27T01:08:54.974Z"
   },
   {
    "duration": 32,
    "start_time": "2024-08-27T01:08:54.978Z"
   },
   {
    "duration": 5,
    "start_time": "2024-08-27T01:08:55.012Z"
   },
   {
    "duration": 859,
    "start_time": "2024-08-27T01:08:55.018Z"
   },
   {
    "duration": 831,
    "start_time": "2024-08-27T01:08:55.879Z"
   },
   {
    "duration": 4,
    "start_time": "2024-08-27T01:08:56.712Z"
   },
   {
    "duration": 20,
    "start_time": "2024-08-27T01:08:56.718Z"
   },
   {
    "duration": 5,
    "start_time": "2024-08-27T01:08:56.739Z"
   },
   {
    "duration": 11,
    "start_time": "2024-08-27T01:08:56.746Z"
   },
   {
    "duration": 14,
    "start_time": "2024-08-27T01:08:56.759Z"
   },
   {
    "duration": 4,
    "start_time": "2024-08-27T01:08:56.775Z"
   },
   {
    "duration": 4,
    "start_time": "2024-08-27T01:08:56.781Z"
   },
   {
    "duration": 4,
    "start_time": "2024-08-27T01:08:56.787Z"
   },
   {
    "duration": 70,
    "start_time": "2024-08-27T01:08:56.793Z"
   },
   {
    "duration": 17,
    "start_time": "2024-08-27T01:08:56.864Z"
   },
   {
    "duration": 323,
    "start_time": "2024-08-27T01:08:56.888Z"
   },
   {
    "duration": 53,
    "start_time": "2024-08-27T01:08:57.213Z"
   },
   {
    "duration": 5,
    "start_time": "2024-08-27T01:08:57.267Z"
   },
   {
    "duration": 5,
    "start_time": "2024-08-27T01:08:57.274Z"
   },
   {
    "duration": 6,
    "start_time": "2024-08-27T01:08:57.281Z"
   },
   {
    "duration": 5,
    "start_time": "2024-08-27T01:08:57.288Z"
   },
   {
    "duration": 5,
    "start_time": "2024-08-27T01:08:57.295Z"
   },
   {
    "duration": 16,
    "start_time": "2024-08-27T01:08:57.335Z"
   },
   {
    "duration": 8,
    "start_time": "2024-08-27T01:08:57.354Z"
   },
   {
    "duration": 13,
    "start_time": "2024-08-27T01:08:57.364Z"
   },
   {
    "duration": 9,
    "start_time": "2024-08-27T01:08:57.379Z"
   },
   {
    "duration": 487,
    "start_time": "2024-08-27T01:08:57.390Z"
   },
   {
    "duration": 3,
    "start_time": "2024-08-27T01:08:57.879Z"
   },
   {
    "duration": 5,
    "start_time": "2024-08-27T01:08:57.884Z"
   },
   {
    "duration": 180,
    "start_time": "2024-08-27T01:08:57.891Z"
   },
   {
    "duration": 6,
    "start_time": "2024-08-27T01:08:58.074Z"
   },
   {
    "duration": 741,
    "start_time": "2024-08-27T01:08:58.082Z"
   },
   {
    "duration": 97,
    "start_time": "2024-08-27T01:10:49.566Z"
   },
   {
    "duration": 85,
    "start_time": "2024-08-27T01:10:59.924Z"
   },
   {
    "duration": 86,
    "start_time": "2024-08-27T01:13:14.614Z"
   },
   {
    "duration": 94,
    "start_time": "2024-08-27T01:13:27.677Z"
   },
   {
    "duration": 106,
    "start_time": "2024-08-27T01:14:06.997Z"
   },
   {
    "duration": 97,
    "start_time": "2024-08-27T01:14:15.079Z"
   },
   {
    "duration": 116,
    "start_time": "2024-08-27T01:14:33.061Z"
   },
   {
    "duration": 114,
    "start_time": "2024-08-27T01:14:54.219Z"
   },
   {
    "duration": 83,
    "start_time": "2024-08-27T01:15:11.686Z"
   },
   {
    "duration": 12,
    "start_time": "2024-08-27T01:16:32.948Z"
   },
   {
    "duration": 75,
    "start_time": "2024-08-27T01:16:45.657Z"
   },
   {
    "duration": 14,
    "start_time": "2024-08-27T01:17:19.880Z"
   },
   {
    "duration": 85,
    "start_time": "2024-08-27T01:17:31.412Z"
   },
   {
    "duration": 12,
    "start_time": "2024-08-27T01:23:54.485Z"
   },
   {
    "duration": 339,
    "start_time": "2024-08-27T01:24:12.109Z"
   },
   {
    "duration": 16,
    "start_time": "2024-08-27T01:25:13.527Z"
   },
   {
    "duration": 16,
    "start_time": "2024-08-27T01:26:47.785Z"
   },
   {
    "duration": 3,
    "start_time": "2024-08-27T01:26:54.413Z"
   },
   {
    "duration": 276,
    "start_time": "2024-08-27T01:27:03.473Z"
   },
   {
    "duration": 91,
    "start_time": "2024-08-27T01:28:14.949Z"
   },
   {
    "duration": 130,
    "start_time": "2024-08-27T01:28:21.795Z"
   },
   {
    "duration": 290,
    "start_time": "2024-08-27T01:29:24.140Z"
   },
   {
    "duration": 80,
    "start_time": "2024-08-27T01:33:43.220Z"
   },
   {
    "duration": 77,
    "start_time": "2024-08-27T01:38:46.632Z"
   },
   {
    "duration": 4,
    "start_time": "2024-08-27T01:40:40.484Z"
   },
   {
    "duration": 2126,
    "start_time": "2024-08-27T11:03:14.280Z"
   },
   {
    "duration": 163,
    "start_time": "2024-08-27T11:03:16.409Z"
   },
   {
    "duration": 69,
    "start_time": "2024-08-27T11:03:16.574Z"
   },
   {
    "duration": 12,
    "start_time": "2024-08-27T11:03:16.646Z"
   },
   {
    "duration": 12,
    "start_time": "2024-08-27T11:03:16.659Z"
   },
   {
    "duration": 832,
    "start_time": "2024-08-27T11:03:16.673Z"
   },
   {
    "duration": 87,
    "start_time": "2024-08-27T11:03:17.507Z"
   },
   {
    "duration": 8,
    "start_time": "2024-08-27T11:03:17.596Z"
   },
   {
    "duration": 97,
    "start_time": "2024-08-27T11:03:17.606Z"
   },
   {
    "duration": 88,
    "start_time": "2024-08-27T11:03:17.707Z"
   },
   {
    "duration": 22,
    "start_time": "2024-08-27T11:03:17.797Z"
   },
   {
    "duration": 27,
    "start_time": "2024-08-27T11:03:17.821Z"
   },
   {
    "duration": 4,
    "start_time": "2024-08-27T11:03:17.850Z"
   },
   {
    "duration": 17,
    "start_time": "2024-08-27T11:03:17.855Z"
   },
   {
    "duration": 5,
    "start_time": "2024-08-27T11:03:17.873Z"
   },
   {
    "duration": 722,
    "start_time": "2024-08-27T11:03:17.880Z"
   },
   {
    "duration": 707,
    "start_time": "2024-08-27T11:03:18.604Z"
   },
   {
    "duration": 4,
    "start_time": "2024-08-27T11:03:19.313Z"
   },
   {
    "duration": 7,
    "start_time": "2024-08-27T11:03:19.318Z"
   },
   {
    "duration": 24,
    "start_time": "2024-08-27T11:03:19.326Z"
   },
   {
    "duration": 8,
    "start_time": "2024-08-27T11:03:19.352Z"
   },
   {
    "duration": 13,
    "start_time": "2024-08-27T11:03:19.362Z"
   },
   {
    "duration": 4,
    "start_time": "2024-08-27T11:03:19.377Z"
   },
   {
    "duration": 4,
    "start_time": "2024-08-27T11:03:19.382Z"
   },
   {
    "duration": 4,
    "start_time": "2024-08-27T11:03:19.388Z"
   },
   {
    "duration": 63,
    "start_time": "2024-08-27T11:03:19.393Z"
   },
   {
    "duration": 10,
    "start_time": "2024-08-27T11:03:19.458Z"
   },
   {
    "duration": 265,
    "start_time": "2024-08-27T11:03:19.473Z"
   },
   {
    "duration": 48,
    "start_time": "2024-08-27T11:03:19.740Z"
   },
   {
    "duration": 4,
    "start_time": "2024-08-27T11:03:19.790Z"
   },
   {
    "duration": 5,
    "start_time": "2024-08-27T11:03:19.796Z"
   },
   {
    "duration": 5,
    "start_time": "2024-08-27T11:03:19.803Z"
   },
   {
    "duration": 5,
    "start_time": "2024-08-27T11:03:19.809Z"
   },
   {
    "duration": 5,
    "start_time": "2024-08-27T11:03:19.848Z"
   },
   {
    "duration": 16,
    "start_time": "2024-08-27T11:03:19.854Z"
   },
   {
    "duration": 5,
    "start_time": "2024-08-27T11:03:19.871Z"
   },
   {
    "duration": 13,
    "start_time": "2024-08-27T11:03:19.877Z"
   },
   {
    "duration": 8,
    "start_time": "2024-08-27T11:03:19.891Z"
   },
   {
    "duration": 461,
    "start_time": "2024-08-27T11:03:19.901Z"
   },
   {
    "duration": 2,
    "start_time": "2024-08-27T11:03:20.364Z"
   },
   {
    "duration": 4,
    "start_time": "2024-08-27T11:03:20.368Z"
   },
   {
    "duration": 161,
    "start_time": "2024-08-27T11:03:20.374Z"
   },
   {
    "duration": 6,
    "start_time": "2024-08-27T11:03:20.537Z"
   },
   {
    "duration": 73,
    "start_time": "2024-08-27T11:03:20.549Z"
   },
   {
    "duration": 4,
    "start_time": "2024-08-27T11:03:20.624Z"
   },
   {
    "duration": 6,
    "start_time": "2024-08-27T11:03:37.773Z"
   },
   {
    "duration": 2114,
    "start_time": "2024-08-27T13:00:03.137Z"
   },
   {
    "duration": 168,
    "start_time": "2024-08-27T13:00:05.253Z"
   },
   {
    "duration": 66,
    "start_time": "2024-08-27T13:00:05.423Z"
   },
   {
    "duration": 13,
    "start_time": "2024-08-27T13:00:05.492Z"
   },
   {
    "duration": 13,
    "start_time": "2024-08-27T13:00:05.507Z"
   },
   {
    "duration": 848,
    "start_time": "2024-08-27T13:00:05.521Z"
   },
   {
    "duration": 94,
    "start_time": "2024-08-27T13:00:06.371Z"
   },
   {
    "duration": 8,
    "start_time": "2024-08-27T13:00:06.468Z"
   },
   {
    "duration": 113,
    "start_time": "2024-08-27T13:00:06.478Z"
   },
   {
    "duration": 107,
    "start_time": "2024-08-27T13:00:06.594Z"
   },
   {
    "duration": 28,
    "start_time": "2024-08-27T13:00:06.703Z"
   },
   {
    "duration": 21,
    "start_time": "2024-08-27T13:00:06.732Z"
   },
   {
    "duration": 4,
    "start_time": "2024-08-27T13:00:06.755Z"
   },
   {
    "duration": 16,
    "start_time": "2024-08-27T13:00:06.760Z"
   },
   {
    "duration": 5,
    "start_time": "2024-08-27T13:00:06.778Z"
   },
   {
    "duration": 781,
    "start_time": "2024-08-27T13:00:06.784Z"
   },
   {
    "duration": 793,
    "start_time": "2024-08-27T13:00:07.566Z"
   },
   {
    "duration": 5,
    "start_time": "2024-08-27T13:00:08.361Z"
   },
   {
    "duration": 7,
    "start_time": "2024-08-27T13:00:08.368Z"
   },
   {
    "duration": 5,
    "start_time": "2024-08-27T13:00:08.376Z"
   },
   {
    "duration": 9,
    "start_time": "2024-08-27T13:00:08.382Z"
   },
   {
    "duration": 13,
    "start_time": "2024-08-27T13:00:08.393Z"
   },
   {
    "duration": 39,
    "start_time": "2024-08-27T13:00:08.408Z"
   },
   {
    "duration": 3,
    "start_time": "2024-08-27T13:00:08.449Z"
   },
   {
    "duration": 4,
    "start_time": "2024-08-27T13:00:08.454Z"
   },
   {
    "duration": 32,
    "start_time": "2024-08-27T13:00:08.460Z"
   },
   {
    "duration": 11,
    "start_time": "2024-08-27T13:00:08.494Z"
   },
   {
    "duration": 282,
    "start_time": "2024-08-27T13:00:08.543Z"
   },
   {
    "duration": 53,
    "start_time": "2024-08-27T13:00:08.827Z"
   },
   {
    "duration": 5,
    "start_time": "2024-08-27T13:00:08.882Z"
   },
   {
    "duration": 5,
    "start_time": "2024-08-27T13:00:08.889Z"
   },
   {
    "duration": 5,
    "start_time": "2024-08-27T13:00:08.896Z"
   },
   {
    "duration": 5,
    "start_time": "2024-08-27T13:00:08.903Z"
   },
   {
    "duration": 37,
    "start_time": "2024-08-27T13:00:08.909Z"
   },
   {
    "duration": 15,
    "start_time": "2024-08-27T13:00:08.948Z"
   },
   {
    "duration": 5,
    "start_time": "2024-08-27T13:00:08.965Z"
   },
   {
    "duration": 13,
    "start_time": "2024-08-27T13:00:08.972Z"
   },
   {
    "duration": 8,
    "start_time": "2024-08-27T13:00:08.987Z"
   },
   {
    "duration": 502,
    "start_time": "2024-08-27T13:00:08.996Z"
   },
   {
    "duration": 3,
    "start_time": "2024-08-27T13:00:09.500Z"
   },
   {
    "duration": 4,
    "start_time": "2024-08-27T13:00:09.505Z"
   },
   {
    "duration": 173,
    "start_time": "2024-08-27T13:00:09.512Z"
   },
   {
    "duration": 5,
    "start_time": "2024-08-27T13:00:09.687Z"
   },
   {
    "duration": 86,
    "start_time": "2024-08-27T13:00:09.695Z"
   },
   {
    "duration": 6,
    "start_time": "2024-08-27T13:00:09.783Z"
   },
   {
    "duration": 438,
    "start_time": "2024-08-27T15:12:09.977Z"
   },
   {
    "duration": 184,
    "start_time": "2024-08-27T15:12:10.418Z"
   },
   {
    "duration": 62,
    "start_time": "2024-08-27T15:12:10.604Z"
   },
   {
    "duration": 14,
    "start_time": "2024-08-27T15:12:10.669Z"
   },
   {
    "duration": 11,
    "start_time": "2024-08-27T15:12:10.685Z"
   },
   {
    "duration": 767,
    "start_time": "2024-08-27T15:12:10.699Z"
   },
   {
    "duration": 97,
    "start_time": "2024-08-27T15:12:11.468Z"
   },
   {
    "duration": 9,
    "start_time": "2024-08-27T15:12:11.567Z"
   },
   {
    "duration": 112,
    "start_time": "2024-08-27T15:12:11.578Z"
   },
   {
    "duration": 96,
    "start_time": "2024-08-27T15:12:11.695Z"
   },
   {
    "duration": 26,
    "start_time": "2024-08-27T15:12:11.793Z"
   },
   {
    "duration": 31,
    "start_time": "2024-08-27T15:12:11.821Z"
   },
   {
    "duration": 3,
    "start_time": "2024-08-27T15:12:11.854Z"
   },
   {
    "duration": 19,
    "start_time": "2024-08-27T15:12:11.859Z"
   },
   {
    "duration": 5,
    "start_time": "2024-08-27T15:12:11.880Z"
   },
   {
    "duration": 3,
    "start_time": "2024-08-27T15:12:11.886Z"
   },
   {
    "duration": 3,
    "start_time": "2024-08-27T15:12:11.890Z"
   },
   {
    "duration": 811,
    "start_time": "2024-08-27T15:12:11.894Z"
   },
   {
    "duration": 935,
    "start_time": "2024-08-27T15:12:12.707Z"
   },
   {
    "duration": 4,
    "start_time": "2024-08-27T15:12:13.644Z"
   },
   {
    "duration": 10,
    "start_time": "2024-08-27T15:12:13.650Z"
   },
   {
    "duration": 6,
    "start_time": "2024-08-27T15:12:13.663Z"
   },
   {
    "duration": 10,
    "start_time": "2024-08-27T15:12:13.670Z"
   },
   {
    "duration": 15,
    "start_time": "2024-08-27T15:12:13.682Z"
   },
   {
    "duration": 46,
    "start_time": "2024-08-27T15:12:13.699Z"
   },
   {
    "duration": 5,
    "start_time": "2024-08-27T15:12:13.747Z"
   },
   {
    "duration": 6,
    "start_time": "2024-08-27T15:12:13.754Z"
   },
   {
    "duration": 33,
    "start_time": "2024-08-27T15:12:13.766Z"
   },
   {
    "duration": 53,
    "start_time": "2024-08-27T15:12:13.801Z"
   },
   {
    "duration": 318,
    "start_time": "2024-08-27T15:12:13.856Z"
   },
   {
    "duration": 44,
    "start_time": "2024-08-27T15:12:14.177Z"
   },
   {
    "duration": 5,
    "start_time": "2024-08-27T15:12:14.223Z"
   },
   {
    "duration": 7,
    "start_time": "2024-08-27T15:12:14.243Z"
   },
   {
    "duration": 8,
    "start_time": "2024-08-27T15:12:14.253Z"
   },
   {
    "duration": 7,
    "start_time": "2024-08-27T15:12:14.262Z"
   },
   {
    "duration": 4,
    "start_time": "2024-08-27T15:12:14.271Z"
   },
   {
    "duration": 14,
    "start_time": "2024-08-27T15:12:14.277Z"
   },
   {
    "duration": 5,
    "start_time": "2024-08-27T15:12:14.292Z"
   },
   {
    "duration": 17,
    "start_time": "2024-08-27T15:12:14.344Z"
   },
   {
    "duration": 8,
    "start_time": "2024-08-27T15:12:14.363Z"
   },
   {
    "duration": 465,
    "start_time": "2024-08-27T15:12:14.373Z"
   },
   {
    "duration": 2,
    "start_time": "2024-08-27T15:12:14.843Z"
   },
   {
    "duration": 5,
    "start_time": "2024-08-27T15:12:14.847Z"
   },
   {
    "duration": 174,
    "start_time": "2024-08-27T15:12:14.854Z"
   },
   {
    "duration": 13,
    "start_time": "2024-08-27T15:12:15.030Z"
   },
   {
    "duration": 75,
    "start_time": "2024-08-27T15:12:15.044Z"
   },
   {
    "duration": 22,
    "start_time": "2024-08-27T15:12:15.121Z"
   },
   {
    "duration": 918,
    "start_time": "2024-08-27T15:12:58.487Z"
   },
   {
    "duration": 888,
    "start_time": "2024-08-27T15:13:08.671Z"
   },
   {
    "duration": 942,
    "start_time": "2024-08-27T15:14:09.487Z"
   },
   {
    "duration": 913,
    "start_time": "2024-08-27T15:14:50.269Z"
   },
   {
    "duration": 779,
    "start_time": "2024-08-27T15:15:52.068Z"
   },
   {
    "duration": 6,
    "start_time": "2024-08-27T15:28:38.639Z"
   },
   {
    "duration": 95,
    "start_time": "2024-08-27T15:29:08.555Z"
   },
   {
    "duration": 7,
    "start_time": "2024-08-27T15:29:35.729Z"
   },
   {
    "duration": 107,
    "start_time": "2024-08-27T15:31:20.330Z"
   },
   {
    "duration": 170,
    "start_time": "2024-08-27T15:41:56.738Z"
   },
   {
    "duration": 177,
    "start_time": "2024-08-27T15:44:04.532Z"
   },
   {
    "duration": 195,
    "start_time": "2024-08-27T15:49:08.514Z"
   },
   {
    "duration": 199,
    "start_time": "2024-08-27T15:49:22.996Z"
   },
   {
    "duration": 94,
    "start_time": "2024-08-27T15:49:45.003Z"
   },
   {
    "duration": 107,
    "start_time": "2024-08-27T15:51:17.929Z"
   },
   {
    "duration": 90,
    "start_time": "2024-08-27T15:51:38.139Z"
   },
   {
    "duration": 4,
    "start_time": "2024-08-27T15:56:07.108Z"
   },
   {
    "duration": 91,
    "start_time": "2024-08-27T15:56:22.571Z"
   },
   {
    "duration": 91,
    "start_time": "2024-08-27T15:56:56.203Z"
   },
   {
    "duration": 91,
    "start_time": "2024-08-27T15:57:46.084Z"
   },
   {
    "duration": 126,
    "start_time": "2024-08-27T16:02:51.237Z"
   },
   {
    "duration": 100,
    "start_time": "2024-08-27T16:03:04.706Z"
   },
   {
    "duration": 91,
    "start_time": "2024-08-27T16:04:50.510Z"
   },
   {
    "duration": 89,
    "start_time": "2024-08-27T16:06:02.756Z"
   },
   {
    "duration": 96,
    "start_time": "2024-08-27T16:06:33.753Z"
   },
   {
    "duration": 90,
    "start_time": "2024-08-27T16:06:57.296Z"
   },
   {
    "duration": 360,
    "start_time": "2024-08-27T16:07:07.903Z"
   },
   {
    "duration": 89,
    "start_time": "2024-08-27T16:07:16.435Z"
   },
   {
    "duration": 86,
    "start_time": "2024-08-27T16:07:33.203Z"
   },
   {
    "duration": 442,
    "start_time": "2024-08-27T16:07:38.672Z"
   },
   {
    "duration": 181,
    "start_time": "2024-08-27T16:07:39.116Z"
   },
   {
    "duration": 49,
    "start_time": "2024-08-27T16:07:39.300Z"
   },
   {
    "duration": 12,
    "start_time": "2024-08-27T16:07:39.351Z"
   },
   {
    "duration": 12,
    "start_time": "2024-08-27T16:07:39.365Z"
   },
   {
    "duration": 752,
    "start_time": "2024-08-27T16:07:39.379Z"
   },
   {
    "duration": 100,
    "start_time": "2024-08-27T16:07:40.133Z"
   },
   {
    "duration": 9,
    "start_time": "2024-08-27T16:07:40.245Z"
   },
   {
    "duration": 111,
    "start_time": "2024-08-27T16:07:40.256Z"
   },
   {
    "duration": 96,
    "start_time": "2024-08-27T16:07:40.369Z"
   },
   {
    "duration": 36,
    "start_time": "2024-08-27T16:07:40.466Z"
   },
   {
    "duration": 12,
    "start_time": "2024-08-27T16:07:40.505Z"
   },
   {
    "duration": 26,
    "start_time": "2024-08-27T16:07:40.519Z"
   },
   {
    "duration": 27,
    "start_time": "2024-08-27T16:07:40.550Z"
   },
   {
    "duration": 5,
    "start_time": "2024-08-27T16:07:40.579Z"
   },
   {
    "duration": 3,
    "start_time": "2024-08-27T16:07:40.586Z"
   },
   {
    "duration": 2,
    "start_time": "2024-08-27T16:07:40.592Z"
   },
   {
    "duration": 849,
    "start_time": "2024-08-27T16:07:40.596Z"
   },
   {
    "duration": 826,
    "start_time": "2024-08-27T16:07:41.447Z"
   },
   {
    "duration": 4,
    "start_time": "2024-08-27T16:07:42.275Z"
   },
   {
    "duration": 9,
    "start_time": "2024-08-27T16:07:42.281Z"
   },
   {
    "duration": 5,
    "start_time": "2024-08-27T16:07:42.291Z"
   },
   {
    "duration": 46,
    "start_time": "2024-08-27T16:07:42.297Z"
   },
   {
    "duration": 16,
    "start_time": "2024-08-27T16:07:42.345Z"
   },
   {
    "duration": 6,
    "start_time": "2024-08-27T16:07:42.362Z"
   },
   {
    "duration": 3,
    "start_time": "2024-08-27T16:07:42.370Z"
   },
   {
    "duration": 5,
    "start_time": "2024-08-27T16:07:42.376Z"
   },
   {
    "duration": 69,
    "start_time": "2024-08-27T16:07:42.383Z"
   },
   {
    "duration": 13,
    "start_time": "2024-08-27T16:07:42.454Z"
   },
   {
    "duration": 322,
    "start_time": "2024-08-27T16:07:42.468Z"
   },
   {
    "duration": 54,
    "start_time": "2024-08-27T16:07:42.792Z"
   },
   {
    "duration": 4,
    "start_time": "2024-08-27T16:07:42.848Z"
   },
   {
    "duration": 7,
    "start_time": "2024-08-27T16:07:42.854Z"
   },
   {
    "duration": 6,
    "start_time": "2024-08-27T16:07:42.863Z"
   },
   {
    "duration": 5,
    "start_time": "2024-08-27T16:07:42.870Z"
   },
   {
    "duration": 5,
    "start_time": "2024-08-27T16:07:42.877Z"
   },
   {
    "duration": 61,
    "start_time": "2024-08-27T16:07:42.884Z"
   },
   {
    "duration": 6,
    "start_time": "2024-08-27T16:07:42.947Z"
   },
   {
    "duration": 17,
    "start_time": "2024-08-27T16:07:42.955Z"
   },
   {
    "duration": 10,
    "start_time": "2024-08-27T16:07:42.974Z"
   },
   {
    "duration": 449,
    "start_time": "2024-08-27T16:07:42.988Z"
   },
   {
    "duration": 2,
    "start_time": "2024-08-27T16:07:43.443Z"
   },
   {
    "duration": 4,
    "start_time": "2024-08-27T16:07:43.448Z"
   },
   {
    "duration": 169,
    "start_time": "2024-08-27T16:07:43.453Z"
   },
   {
    "duration": 20,
    "start_time": "2024-08-27T16:07:43.624Z"
   },
   {
    "duration": 293,
    "start_time": "2024-08-27T16:07:43.645Z"
   },
   {
    "duration": 101,
    "start_time": "2024-08-27T16:08:21.422Z"
   },
   {
    "duration": 93,
    "start_time": "2024-08-27T16:08:45.818Z"
   },
   {
    "duration": 89,
    "start_time": "2024-08-27T16:08:57.554Z"
   },
   {
    "duration": 95,
    "start_time": "2024-08-27T16:09:15.452Z"
   },
   {
    "duration": 85,
    "start_time": "2024-08-27T16:10:04.772Z"
   },
   {
    "duration": 90,
    "start_time": "2024-08-27T16:10:58.320Z"
   },
   {
    "duration": 205,
    "start_time": "2024-08-27T16:14:57.423Z"
   },
   {
    "duration": 4,
    "start_time": "2024-08-27T16:15:58.744Z"
   },
   {
    "duration": 3,
    "start_time": "2024-08-27T16:16:08.859Z"
   },
   {
    "duration": 201,
    "start_time": "2024-08-27T16:16:16.874Z"
   },
   {
    "duration": 537,
    "start_time": "2024-08-27T16:16:30.827Z"
   },
   {
    "duration": 205,
    "start_time": "2024-08-27T16:17:10.131Z"
   },
   {
    "duration": 196,
    "start_time": "2024-08-27T16:19:08.806Z"
   },
   {
    "duration": 199,
    "start_time": "2024-08-27T16:19:23.135Z"
   },
   {
    "duration": 189,
    "start_time": "2024-08-27T16:19:36.053Z"
   },
   {
    "duration": 4,
    "start_time": "2024-08-27T18:42:12.554Z"
   },
   {
    "duration": 5,
    "start_time": "2024-08-27T18:42:54.741Z"
   },
   {
    "duration": 3,
    "start_time": "2024-08-27T18:43:11.780Z"
   },
   {
    "duration": 7,
    "start_time": "2024-08-27T18:43:16.282Z"
   },
   {
    "duration": 79,
    "start_time": "2024-08-27T18:47:09.780Z"
   },
   {
    "duration": 239,
    "start_time": "2024-08-27T18:48:48.537Z"
   },
   {
    "duration": 46,
    "start_time": "2024-08-27T18:52:43.361Z"
   },
   {
    "duration": 38,
    "start_time": "2024-08-27T18:56:05.657Z"
   },
   {
    "duration": 205,
    "start_time": "2024-08-27T19:01:58.185Z"
   },
   {
    "duration": 5,
    "start_time": "2024-08-27T19:09:18.688Z"
   },
   {
    "duration": 4,
    "start_time": "2024-08-27T19:10:12.368Z"
   },
   {
    "duration": 85,
    "start_time": "2024-08-27T19:10:20.979Z"
   },
   {
    "duration": 21,
    "start_time": "2024-08-27T19:11:19.819Z"
   },
   {
    "duration": 18719,
    "start_time": "2024-08-27T19:11:28.930Z"
   },
   {
    "duration": 520,
    "start_time": "2024-08-27T19:12:09.898Z"
   },
   {
    "duration": 196,
    "start_time": "2024-08-27T19:12:10.420Z"
   },
   {
    "duration": 59,
    "start_time": "2024-08-27T19:12:10.618Z"
   },
   {
    "duration": 14,
    "start_time": "2024-08-27T19:12:10.680Z"
   },
   {
    "duration": 14,
    "start_time": "2024-08-27T19:12:10.696Z"
   },
   {
    "duration": 784,
    "start_time": "2024-08-27T19:12:10.712Z"
   },
   {
    "duration": 99,
    "start_time": "2024-08-27T19:12:11.498Z"
   },
   {
    "duration": 10,
    "start_time": "2024-08-27T19:12:11.600Z"
   },
   {
    "duration": 118,
    "start_time": "2024-08-27T19:12:11.612Z"
   },
   {
    "duration": 90,
    "start_time": "2024-08-27T19:12:11.742Z"
   },
   {
    "duration": 35,
    "start_time": "2024-08-27T19:12:11.834Z"
   },
   {
    "duration": 14,
    "start_time": "2024-08-27T19:12:11.871Z"
   },
   {
    "duration": 4,
    "start_time": "2024-08-27T19:12:11.887Z"
   },
   {
    "duration": 17,
    "start_time": "2024-08-27T19:12:11.894Z"
   },
   {
    "duration": 6,
    "start_time": "2024-08-27T19:12:11.942Z"
   },
   {
    "duration": 2,
    "start_time": "2024-08-27T19:12:11.950Z"
   },
   {
    "duration": 3,
    "start_time": "2024-08-27T19:12:11.954Z"
   },
   {
    "duration": 890,
    "start_time": "2024-08-27T19:12:11.959Z"
   },
   {
    "duration": 896,
    "start_time": "2024-08-27T19:12:12.851Z"
   },
   {
    "duration": 6,
    "start_time": "2024-08-27T19:12:13.749Z"
   },
   {
    "duration": 8,
    "start_time": "2024-08-27T19:12:13.757Z"
   },
   {
    "duration": 5,
    "start_time": "2024-08-27T19:12:13.767Z"
   },
   {
    "duration": 9,
    "start_time": "2024-08-27T19:12:13.774Z"
   },
   {
    "duration": 66,
    "start_time": "2024-08-27T19:12:13.788Z"
   },
   {
    "duration": 6,
    "start_time": "2024-08-27T19:12:13.859Z"
   },
   {
    "duration": 5,
    "start_time": "2024-08-27T19:12:13.867Z"
   },
   {
    "duration": 8,
    "start_time": "2024-08-27T19:12:13.874Z"
   },
   {
    "duration": 83,
    "start_time": "2024-08-27T19:12:13.888Z"
   },
   {
    "duration": 15,
    "start_time": "2024-08-27T19:12:13.973Z"
   },
   {
    "duration": 391,
    "start_time": "2024-08-27T19:12:13.991Z"
   },
   {
    "duration": 60,
    "start_time": "2024-08-27T19:12:14.383Z"
   },
   {
    "duration": 6,
    "start_time": "2024-08-27T19:12:14.445Z"
   },
   {
    "duration": 6,
    "start_time": "2024-08-27T19:12:14.452Z"
   },
   {
    "duration": 6,
    "start_time": "2024-08-27T19:12:14.460Z"
   },
   {
    "duration": 5,
    "start_time": "2024-08-27T19:12:14.468Z"
   },
   {
    "duration": 5,
    "start_time": "2024-08-27T19:12:14.475Z"
   },
   {
    "duration": 62,
    "start_time": "2024-08-27T19:12:14.482Z"
   },
   {
    "duration": 7,
    "start_time": "2024-08-27T19:12:14.547Z"
   },
   {
    "duration": 17,
    "start_time": "2024-08-27T19:12:14.556Z"
   },
   {
    "duration": 10,
    "start_time": "2024-08-27T19:12:14.575Z"
   },
   {
    "duration": 465,
    "start_time": "2024-08-27T19:12:14.587Z"
   },
   {
    "duration": 2,
    "start_time": "2024-08-27T19:12:15.054Z"
   },
   {
    "duration": 6,
    "start_time": "2024-08-27T19:12:15.059Z"
   },
   {
    "duration": 184,
    "start_time": "2024-08-27T19:12:15.067Z"
   },
   {
    "duration": 6,
    "start_time": "2024-08-27T19:12:15.253Z"
   },
   {
    "duration": 129,
    "start_time": "2024-08-27T19:12:15.261Z"
   },
   {
    "duration": 213,
    "start_time": "2024-08-27T19:12:15.392Z"
   },
   {
    "duration": 6,
    "start_time": "2024-08-27T19:12:15.607Z"
   },
   {
    "duration": 18440,
    "start_time": "2024-08-27T19:12:15.614Z"
   },
   {
    "duration": 0,
    "start_time": "2024-08-27T19:12:34.056Z"
   },
   {
    "duration": 1,
    "start_time": "2024-08-27T19:12:34.057Z"
   },
   {
    "duration": 0,
    "start_time": "2024-08-27T19:12:34.060Z"
   },
   {
    "duration": 109,
    "start_time": "2024-08-27T19:12:36.544Z"
   },
   {
    "duration": 9,
    "start_time": "2024-08-27T19:13:08.505Z"
   },
   {
    "duration": 39,
    "start_time": "2024-08-27T19:13:11.876Z"
   },
   {
    "duration": 237,
    "start_time": "2024-08-27T19:13:15.423Z"
   },
   {
    "duration": 17681,
    "start_time": "2024-08-27T19:13:37.083Z"
   },
   {
    "duration": 12,
    "start_time": "2024-08-27T19:15:58.890Z"
   },
   {
    "duration": 12,
    "start_time": "2024-08-27T19:16:05.148Z"
   },
   {
    "duration": 14,
    "start_time": "2024-08-27T19:16:30.550Z"
   },
   {
    "duration": 239,
    "start_time": "2024-08-27T19:17:18.483Z"
   },
   {
    "duration": 245,
    "start_time": "2024-08-27T19:17:33.816Z"
   },
   {
    "duration": 257,
    "start_time": "2024-08-27T19:18:15.219Z"
   },
   {
    "duration": 526,
    "start_time": "2024-08-27T19:18:57.419Z"
   },
   {
    "duration": 243,
    "start_time": "2024-08-27T19:19:08.083Z"
   },
   {
    "duration": 164,
    "start_time": "2024-08-28T12:06:17.657Z"
   },
   {
    "duration": 2115,
    "start_time": "2024-08-28T12:06:40.572Z"
   },
   {
    "duration": 180,
    "start_time": "2024-08-28T12:06:42.692Z"
   },
   {
    "duration": 70,
    "start_time": "2024-08-28T12:06:42.874Z"
   },
   {
    "duration": 13,
    "start_time": "2024-08-28T12:06:42.945Z"
   },
   {
    "duration": 13,
    "start_time": "2024-08-28T12:06:42.960Z"
   },
   {
    "duration": 828,
    "start_time": "2024-08-28T12:06:42.974Z"
   },
   {
    "duration": 94,
    "start_time": "2024-08-28T12:06:43.803Z"
   },
   {
    "duration": 9,
    "start_time": "2024-08-28T12:06:43.899Z"
   },
   {
    "duration": 100,
    "start_time": "2024-08-28T12:06:43.911Z"
   },
   {
    "duration": 96,
    "start_time": "2024-08-28T12:06:44.013Z"
   },
   {
    "duration": 36,
    "start_time": "2024-08-28T12:06:44.111Z"
   },
   {
    "duration": 12,
    "start_time": "2024-08-28T12:06:44.149Z"
   },
   {
    "duration": 3,
    "start_time": "2024-08-28T12:06:44.163Z"
   },
   {
    "duration": 17,
    "start_time": "2024-08-28T12:06:44.168Z"
   },
   {
    "duration": 5,
    "start_time": "2024-08-28T12:06:44.187Z"
   },
   {
    "duration": 2,
    "start_time": "2024-08-28T12:06:44.194Z"
   },
   {
    "duration": 34,
    "start_time": "2024-08-28T12:06:44.198Z"
   },
   {
    "duration": 742,
    "start_time": "2024-08-28T12:06:44.234Z"
   },
   {
    "duration": 747,
    "start_time": "2024-08-28T12:06:44.977Z"
   },
   {
    "duration": 10,
    "start_time": "2024-08-28T12:06:45.726Z"
   },
   {
    "duration": 8,
    "start_time": "2024-08-28T12:06:45.737Z"
   },
   {
    "duration": 4,
    "start_time": "2024-08-28T12:06:45.747Z"
   },
   {
    "duration": 8,
    "start_time": "2024-08-28T12:06:45.752Z"
   },
   {
    "duration": 14,
    "start_time": "2024-08-28T12:06:45.762Z"
   },
   {
    "duration": 5,
    "start_time": "2024-08-28T12:06:45.777Z"
   },
   {
    "duration": 5,
    "start_time": "2024-08-28T12:06:45.783Z"
   },
   {
    "duration": 4,
    "start_time": "2024-08-28T12:06:45.831Z"
   },
   {
    "duration": 31,
    "start_time": "2024-08-28T12:06:45.837Z"
   },
   {
    "duration": 11,
    "start_time": "2024-08-28T12:06:45.870Z"
   },
   {
    "duration": 311,
    "start_time": "2024-08-28T12:06:45.883Z"
   },
   {
    "duration": 53,
    "start_time": "2024-08-28T12:06:46.196Z"
   },
   {
    "duration": 5,
    "start_time": "2024-08-28T12:06:46.251Z"
   },
   {
    "duration": 6,
    "start_time": "2024-08-28T12:06:46.257Z"
   },
   {
    "duration": 6,
    "start_time": "2024-08-28T12:06:46.265Z"
   },
   {
    "duration": 5,
    "start_time": "2024-08-28T12:06:46.272Z"
   },
   {
    "duration": 5,
    "start_time": "2024-08-28T12:06:46.278Z"
   },
   {
    "duration": 46,
    "start_time": "2024-08-28T12:06:46.285Z"
   },
   {
    "duration": 4,
    "start_time": "2024-08-28T12:06:46.333Z"
   },
   {
    "duration": 13,
    "start_time": "2024-08-28T12:06:46.339Z"
   },
   {
    "duration": 7,
    "start_time": "2024-08-28T12:06:46.353Z"
   },
   {
    "duration": 470,
    "start_time": "2024-08-28T12:06:46.363Z"
   },
   {
    "duration": 2,
    "start_time": "2024-08-28T12:06:46.835Z"
   },
   {
    "duration": 4,
    "start_time": "2024-08-28T12:06:46.839Z"
   },
   {
    "duration": 164,
    "start_time": "2024-08-28T12:06:46.844Z"
   },
   {
    "duration": 5,
    "start_time": "2024-08-28T12:06:47.010Z"
   },
   {
    "duration": 90,
    "start_time": "2024-08-28T12:06:47.017Z"
   },
   {
    "duration": 223,
    "start_time": "2024-08-28T12:06:47.109Z"
   },
   {
    "duration": 4,
    "start_time": "2024-08-28T12:06:47.333Z"
   },
   {
    "duration": 234,
    "start_time": "2024-08-28T12:06:47.339Z"
   },
   {
    "duration": 428,
    "start_time": "2024-08-28T12:07:29.271Z"
   },
   {
    "duration": 180,
    "start_time": "2024-08-28T12:07:29.701Z"
   },
   {
    "duration": 51,
    "start_time": "2024-08-28T12:07:29.884Z"
   },
   {
    "duration": 11,
    "start_time": "2024-08-28T12:07:29.937Z"
   },
   {
    "duration": 10,
    "start_time": "2024-08-28T12:07:29.950Z"
   },
   {
    "duration": 749,
    "start_time": "2024-08-28T12:07:29.962Z"
   },
   {
    "duration": 87,
    "start_time": "2024-08-28T12:07:30.713Z"
   },
   {
    "duration": 8,
    "start_time": "2024-08-28T12:07:30.801Z"
   },
   {
    "duration": 103,
    "start_time": "2024-08-28T12:07:30.811Z"
   },
   {
    "duration": 96,
    "start_time": "2024-08-28T12:07:30.916Z"
   },
   {
    "duration": 27,
    "start_time": "2024-08-28T12:07:31.014Z"
   },
   {
    "duration": 11,
    "start_time": "2024-08-28T12:07:31.043Z"
   },
   {
    "duration": 3,
    "start_time": "2024-08-28T12:07:31.056Z"
   },
   {
    "duration": 16,
    "start_time": "2024-08-28T12:07:31.064Z"
   },
   {
    "duration": 5,
    "start_time": "2024-08-28T12:07:31.081Z"
   },
   {
    "duration": 3,
    "start_time": "2024-08-28T12:07:31.087Z"
   },
   {
    "duration": 3,
    "start_time": "2024-08-28T12:07:31.091Z"
   },
   {
    "duration": 742,
    "start_time": "2024-08-28T12:07:31.131Z"
   },
   {
    "duration": 773,
    "start_time": "2024-08-28T12:07:31.875Z"
   },
   {
    "duration": 4,
    "start_time": "2024-08-28T12:07:32.651Z"
   },
   {
    "duration": 8,
    "start_time": "2024-08-28T12:07:32.657Z"
   },
   {
    "duration": 5,
    "start_time": "2024-08-28T12:07:32.666Z"
   },
   {
    "duration": 8,
    "start_time": "2024-08-28T12:07:32.672Z"
   },
   {
    "duration": 14,
    "start_time": "2024-08-28T12:07:32.681Z"
   },
   {
    "duration": 36,
    "start_time": "2024-08-28T12:07:32.696Z"
   },
   {
    "duration": 4,
    "start_time": "2024-08-28T12:07:32.734Z"
   },
   {
    "duration": 4,
    "start_time": "2024-08-28T12:07:32.740Z"
   },
   {
    "duration": 33,
    "start_time": "2024-08-28T12:07:32.745Z"
   },
   {
    "duration": 11,
    "start_time": "2024-08-28T12:07:32.780Z"
   },
   {
    "duration": 309,
    "start_time": "2024-08-28T12:07:32.794Z"
   },
   {
    "duration": 53,
    "start_time": "2024-08-28T12:07:33.105Z"
   },
   {
    "duration": 4,
    "start_time": "2024-08-28T12:07:33.160Z"
   },
   {
    "duration": 4,
    "start_time": "2024-08-28T12:07:33.166Z"
   },
   {
    "duration": 6,
    "start_time": "2024-08-28T12:07:33.172Z"
   },
   {
    "duration": 5,
    "start_time": "2024-08-28T12:07:33.180Z"
   },
   {
    "duration": 5,
    "start_time": "2024-08-28T12:07:33.186Z"
   },
   {
    "duration": 52,
    "start_time": "2024-08-28T12:07:33.193Z"
   },
   {
    "duration": 5,
    "start_time": "2024-08-28T12:07:33.247Z"
   },
   {
    "duration": 13,
    "start_time": "2024-08-28T12:07:33.253Z"
   },
   {
    "duration": 8,
    "start_time": "2024-08-28T12:07:33.267Z"
   },
   {
    "duration": 429,
    "start_time": "2024-08-28T12:07:33.279Z"
   },
   {
    "duration": 2,
    "start_time": "2024-08-28T12:07:33.710Z"
   },
   {
    "duration": 17,
    "start_time": "2024-08-28T12:07:33.714Z"
   },
   {
    "duration": 154,
    "start_time": "2024-08-28T12:07:33.733Z"
   },
   {
    "duration": 6,
    "start_time": "2024-08-28T12:07:33.888Z"
   },
   {
    "duration": 92,
    "start_time": "2024-08-28T12:07:33.895Z"
   },
   {
    "duration": 215,
    "start_time": "2024-08-28T12:07:33.989Z"
   },
   {
    "duration": 5,
    "start_time": "2024-08-28T12:07:34.205Z"
   },
   {
    "duration": 258,
    "start_time": "2024-08-28T12:07:34.212Z"
   },
   {
    "duration": 457,
    "start_time": "2024-08-28T12:08:11.250Z"
   },
   {
    "duration": 177,
    "start_time": "2024-08-28T12:08:11.709Z"
   },
   {
    "duration": 49,
    "start_time": "2024-08-28T12:08:11.888Z"
   },
   {
    "duration": 14,
    "start_time": "2024-08-28T12:08:11.941Z"
   },
   {
    "duration": 13,
    "start_time": "2024-08-28T12:08:11.956Z"
   },
   {
    "duration": 737,
    "start_time": "2024-08-28T12:08:11.971Z"
   },
   {
    "duration": 88,
    "start_time": "2024-08-28T12:08:12.710Z"
   },
   {
    "duration": 8,
    "start_time": "2024-08-28T12:08:12.800Z"
   },
   {
    "duration": 106,
    "start_time": "2024-08-28T12:08:12.809Z"
   },
   {
    "duration": 90,
    "start_time": "2024-08-28T12:08:12.918Z"
   },
   {
    "duration": 34,
    "start_time": "2024-08-28T12:08:13.010Z"
   },
   {
    "duration": 13,
    "start_time": "2024-08-28T12:08:13.045Z"
   },
   {
    "duration": 3,
    "start_time": "2024-08-28T12:08:13.060Z"
   },
   {
    "duration": 16,
    "start_time": "2024-08-28T12:08:13.065Z"
   },
   {
    "duration": 5,
    "start_time": "2024-08-28T12:08:13.083Z"
   },
   {
    "duration": 2,
    "start_time": "2024-08-28T12:08:13.089Z"
   },
   {
    "duration": 3,
    "start_time": "2024-08-28T12:08:13.093Z"
   },
   {
    "duration": 762,
    "start_time": "2024-08-28T12:08:13.097Z"
   },
   {
    "duration": 771,
    "start_time": "2024-08-28T12:08:13.862Z"
   },
   {
    "duration": 4,
    "start_time": "2024-08-28T12:08:14.635Z"
   },
   {
    "duration": 7,
    "start_time": "2024-08-28T12:08:14.641Z"
   },
   {
    "duration": 4,
    "start_time": "2024-08-28T12:08:14.650Z"
   },
   {
    "duration": 9,
    "start_time": "2024-08-28T12:08:14.656Z"
   },
   {
    "duration": 13,
    "start_time": "2024-08-28T12:08:14.666Z"
   },
   {
    "duration": 4,
    "start_time": "2024-08-28T12:08:14.681Z"
   },
   {
    "duration": 48,
    "start_time": "2024-08-28T12:08:14.686Z"
   },
   {
    "duration": 6,
    "start_time": "2024-08-28T12:08:14.736Z"
   },
   {
    "duration": 33,
    "start_time": "2024-08-28T12:08:14.748Z"
   },
   {
    "duration": 11,
    "start_time": "2024-08-28T12:08:14.782Z"
   },
   {
    "duration": 320,
    "start_time": "2024-08-28T12:08:14.794Z"
   },
   {
    "duration": 49,
    "start_time": "2024-08-28T12:08:15.116Z"
   },
   {
    "duration": 5,
    "start_time": "2024-08-28T12:08:15.167Z"
   },
   {
    "duration": 6,
    "start_time": "2024-08-28T12:08:15.174Z"
   },
   {
    "duration": 6,
    "start_time": "2024-08-28T12:08:15.181Z"
   },
   {
    "duration": 5,
    "start_time": "2024-08-28T12:08:15.189Z"
   },
   {
    "duration": 38,
    "start_time": "2024-08-28T12:08:15.195Z"
   },
   {
    "duration": 15,
    "start_time": "2024-08-28T12:08:15.235Z"
   },
   {
    "duration": 5,
    "start_time": "2024-08-28T12:08:15.251Z"
   },
   {
    "duration": 13,
    "start_time": "2024-08-28T12:08:15.257Z"
   },
   {
    "duration": 8,
    "start_time": "2024-08-28T12:08:15.272Z"
   },
   {
    "duration": 424,
    "start_time": "2024-08-28T12:08:15.282Z"
   },
   {
    "duration": 3,
    "start_time": "2024-08-28T12:08:15.708Z"
   },
   {
    "duration": 5,
    "start_time": "2024-08-28T12:08:15.712Z"
   },
   {
    "duration": 151,
    "start_time": "2024-08-28T12:08:15.732Z"
   },
   {
    "duration": 5,
    "start_time": "2024-08-28T12:08:15.885Z"
   },
   {
    "duration": 100,
    "start_time": "2024-08-28T12:08:15.892Z"
   },
   {
    "duration": 215,
    "start_time": "2024-08-28T12:08:15.993Z"
   },
   {
    "duration": 4,
    "start_time": "2024-08-28T12:08:16.209Z"
   },
   {
    "duration": 260,
    "start_time": "2024-08-28T12:08:16.215Z"
   },
   {
    "duration": 485,
    "start_time": "2024-08-28T12:13:21.654Z"
   },
   {
    "duration": 214,
    "start_time": "2024-08-28T12:13:22.141Z"
   },
   {
    "duration": 72,
    "start_time": "2024-08-28T12:13:22.358Z"
   },
   {
    "duration": 12,
    "start_time": "2024-08-28T12:13:22.432Z"
   },
   {
    "duration": 10,
    "start_time": "2024-08-28T12:13:22.446Z"
   },
   {
    "duration": 820,
    "start_time": "2024-08-28T12:13:22.458Z"
   },
   {
    "duration": 89,
    "start_time": "2024-08-28T12:13:23.280Z"
   },
   {
    "duration": 9,
    "start_time": "2024-08-28T12:13:23.371Z"
   },
   {
    "duration": 106,
    "start_time": "2024-08-28T12:13:23.381Z"
   },
   {
    "duration": 89,
    "start_time": "2024-08-28T12:13:23.489Z"
   },
   {
    "duration": 25,
    "start_time": "2024-08-28T12:13:23.580Z"
   },
   {
    "duration": 27,
    "start_time": "2024-08-28T12:13:23.607Z"
   },
   {
    "duration": 4,
    "start_time": "2024-08-28T12:13:23.635Z"
   },
   {
    "duration": 16,
    "start_time": "2024-08-28T12:13:23.644Z"
   },
   {
    "duration": 5,
    "start_time": "2024-08-28T12:13:23.661Z"
   },
   {
    "duration": 3,
    "start_time": "2024-08-28T12:13:23.667Z"
   },
   {
    "duration": 3,
    "start_time": "2024-08-28T12:13:23.671Z"
   },
   {
    "duration": 819,
    "start_time": "2024-08-28T12:13:23.676Z"
   },
   {
    "duration": 801,
    "start_time": "2024-08-28T12:13:24.497Z"
   },
   {
    "duration": 4,
    "start_time": "2024-08-28T12:13:25.300Z"
   },
   {
    "duration": 25,
    "start_time": "2024-08-28T12:13:25.306Z"
   },
   {
    "duration": 5,
    "start_time": "2024-08-28T12:13:25.333Z"
   },
   {
    "duration": 9,
    "start_time": "2024-08-28T12:13:25.339Z"
   },
   {
    "duration": 14,
    "start_time": "2024-08-28T12:13:25.349Z"
   },
   {
    "duration": 4,
    "start_time": "2024-08-28T12:13:25.365Z"
   },
   {
    "duration": 5,
    "start_time": "2024-08-28T12:13:25.371Z"
   },
   {
    "duration": 5,
    "start_time": "2024-08-28T12:13:25.377Z"
   },
   {
    "duration": 69,
    "start_time": "2024-08-28T12:13:25.384Z"
   },
   {
    "duration": 10,
    "start_time": "2024-08-28T12:13:25.455Z"
   },
   {
    "duration": 309,
    "start_time": "2024-08-28T12:13:25.467Z"
   },
   {
    "duration": 57,
    "start_time": "2024-08-28T12:13:25.778Z"
   },
   {
    "duration": 4,
    "start_time": "2024-08-28T12:13:25.837Z"
   },
   {
    "duration": 7,
    "start_time": "2024-08-28T12:13:25.843Z"
   },
   {
    "duration": 5,
    "start_time": "2024-08-28T12:13:25.851Z"
   },
   {
    "duration": 6,
    "start_time": "2024-08-28T12:13:25.858Z"
   },
   {
    "duration": 5,
    "start_time": "2024-08-28T12:13:25.867Z"
   },
   {
    "duration": 17,
    "start_time": "2024-08-28T12:13:25.873Z"
   },
   {
    "duration": 41,
    "start_time": "2024-08-28T12:13:25.891Z"
   },
   {
    "duration": 13,
    "start_time": "2024-08-28T12:13:25.934Z"
   },
   {
    "duration": 7,
    "start_time": "2024-08-28T12:13:25.949Z"
   },
   {
    "duration": 438,
    "start_time": "2024-08-28T12:13:25.961Z"
   },
   {
    "duration": 3,
    "start_time": "2024-08-28T12:13:26.400Z"
   },
   {
    "duration": 5,
    "start_time": "2024-08-28T12:13:26.404Z"
   },
   {
    "duration": 173,
    "start_time": "2024-08-28T12:13:26.410Z"
   },
   {
    "duration": 5,
    "start_time": "2024-08-28T12:13:26.585Z"
   },
   {
    "duration": 96,
    "start_time": "2024-08-28T12:13:26.592Z"
   },
   {
    "duration": 206,
    "start_time": "2024-08-28T12:13:26.690Z"
   },
   {
    "duration": 5,
    "start_time": "2024-08-28T12:13:26.897Z"
   },
   {
    "duration": 267,
    "start_time": "2024-08-28T12:13:26.904Z"
   },
   {
    "duration": 2130,
    "start_time": "2024-08-28T13:58:56.884Z"
   },
   {
    "duration": 173,
    "start_time": "2024-08-28T13:58:59.016Z"
   },
   {
    "duration": 71,
    "start_time": "2024-08-28T13:58:59.191Z"
   },
   {
    "duration": 13,
    "start_time": "2024-08-28T13:58:59.265Z"
   },
   {
    "duration": 13,
    "start_time": "2024-08-28T13:58:59.279Z"
   },
   {
    "duration": 869,
    "start_time": "2024-08-28T13:58:59.293Z"
   },
   {
    "duration": 94,
    "start_time": "2024-08-28T13:59:00.164Z"
   },
   {
    "duration": 9,
    "start_time": "2024-08-28T13:59:00.260Z"
   },
   {
    "duration": 114,
    "start_time": "2024-08-28T13:59:00.271Z"
   },
   {
    "duration": 103,
    "start_time": "2024-08-28T13:59:00.389Z"
   },
   {
    "duration": 29,
    "start_time": "2024-08-28T13:59:00.497Z"
   },
   {
    "duration": 22,
    "start_time": "2024-08-28T13:59:00.528Z"
   },
   {
    "duration": 6,
    "start_time": "2024-08-28T13:59:00.552Z"
   },
   {
    "duration": 18,
    "start_time": "2024-08-28T13:59:00.561Z"
   },
   {
    "duration": 4,
    "start_time": "2024-08-28T13:59:00.581Z"
   },
   {
    "duration": 3,
    "start_time": "2024-08-28T13:59:00.587Z"
   },
   {
    "duration": 3,
    "start_time": "2024-08-28T13:59:00.591Z"
   },
   {
    "duration": 870,
    "start_time": "2024-08-28T13:59:00.595Z"
   },
   {
    "duration": 791,
    "start_time": "2024-08-28T13:59:01.467Z"
   },
   {
    "duration": 5,
    "start_time": "2024-08-28T13:59:02.260Z"
   },
   {
    "duration": 7,
    "start_time": "2024-08-28T13:59:02.267Z"
   },
   {
    "duration": 7,
    "start_time": "2024-08-28T13:59:02.276Z"
   },
   {
    "duration": 13,
    "start_time": "2024-08-28T13:59:02.285Z"
   },
   {
    "duration": 15,
    "start_time": "2024-08-28T13:59:02.300Z"
   },
   {
    "duration": 5,
    "start_time": "2024-08-28T13:59:02.343Z"
   },
   {
    "duration": 5,
    "start_time": "2024-08-28T13:59:02.349Z"
   },
   {
    "duration": 4,
    "start_time": "2024-08-28T13:59:02.356Z"
   },
   {
    "duration": 32,
    "start_time": "2024-08-28T13:59:02.365Z"
   },
   {
    "duration": 11,
    "start_time": "2024-08-28T13:59:02.399Z"
   },
   {
    "duration": 311,
    "start_time": "2024-08-28T13:59:02.444Z"
   },
   {
    "duration": 44,
    "start_time": "2024-08-28T13:59:02.757Z"
   },
   {
    "duration": 4,
    "start_time": "2024-08-28T13:59:02.803Z"
   },
   {
    "duration": 5,
    "start_time": "2024-08-28T13:59:02.809Z"
   },
   {
    "duration": 30,
    "start_time": "2024-08-28T13:59:02.816Z"
   },
   {
    "duration": 5,
    "start_time": "2024-08-28T13:59:02.847Z"
   },
   {
    "duration": 7,
    "start_time": "2024-08-28T13:59:02.854Z"
   },
   {
    "duration": 17,
    "start_time": "2024-08-28T13:59:02.863Z"
   },
   {
    "duration": 4,
    "start_time": "2024-08-28T13:59:02.882Z"
   },
   {
    "duration": 13,
    "start_time": "2024-08-28T13:59:02.888Z"
   },
   {
    "duration": 45,
    "start_time": "2024-08-28T13:59:02.903Z"
   },
   {
    "duration": 475,
    "start_time": "2024-08-28T13:59:02.950Z"
   },
   {
    "duration": 3,
    "start_time": "2024-08-28T13:59:03.427Z"
   },
   {
    "duration": 10,
    "start_time": "2024-08-28T13:59:03.432Z"
   },
   {
    "duration": 157,
    "start_time": "2024-08-28T13:59:03.444Z"
   },
   {
    "duration": 7,
    "start_time": "2024-08-28T13:59:03.602Z"
   },
   {
    "duration": 98,
    "start_time": "2024-08-28T13:59:03.611Z"
   },
   {
    "duration": 220,
    "start_time": "2024-08-28T13:59:03.711Z"
   },
   {
    "duration": 4,
    "start_time": "2024-08-28T13:59:03.933Z"
   },
   {
    "duration": 245,
    "start_time": "2024-08-28T13:59:03.939Z"
   },
   {
    "duration": 156,
    "start_time": "2024-08-28T14:01:27.646Z"
   },
   {
    "duration": 12,
    "start_time": "2024-08-28T14:01:36.000Z"
   },
   {
    "duration": 11,
    "start_time": "2024-08-28T14:01:43.541Z"
   },
   {
    "duration": 489,
    "start_time": "2024-08-28T14:01:50.263Z"
   },
   {
    "duration": 201,
    "start_time": "2024-08-28T14:01:50.754Z"
   },
   {
    "duration": 71,
    "start_time": "2024-08-28T14:01:50.957Z"
   },
   {
    "duration": 12,
    "start_time": "2024-08-28T14:01:51.029Z"
   },
   {
    "duration": 13,
    "start_time": "2024-08-28T14:01:51.044Z"
   },
   {
    "duration": 822,
    "start_time": "2024-08-28T14:01:51.059Z"
   },
   {
    "duration": 94,
    "start_time": "2024-08-28T14:01:51.883Z"
   },
   {
    "duration": 8,
    "start_time": "2024-08-28T14:01:51.979Z"
   },
   {
    "duration": 104,
    "start_time": "2024-08-28T14:01:51.989Z"
   },
   {
    "duration": 91,
    "start_time": "2024-08-28T14:01:52.094Z"
   },
   {
    "duration": 24,
    "start_time": "2024-08-28T14:01:52.187Z"
   },
   {
    "duration": 12,
    "start_time": "2024-08-28T14:01:52.213Z"
   },
   {
    "duration": 17,
    "start_time": "2024-08-28T14:01:52.226Z"
   },
   {
    "duration": 17,
    "start_time": "2024-08-28T14:01:52.247Z"
   },
   {
    "duration": 4,
    "start_time": "2024-08-28T14:01:52.266Z"
   },
   {
    "duration": 2,
    "start_time": "2024-08-28T14:01:52.272Z"
   },
   {
    "duration": 2,
    "start_time": "2024-08-28T14:01:52.276Z"
   },
   {
    "duration": 821,
    "start_time": "2024-08-28T14:01:52.280Z"
   },
   {
    "duration": 816,
    "start_time": "2024-08-28T14:01:53.103Z"
   },
   {
    "duration": 5,
    "start_time": "2024-08-28T14:01:53.921Z"
   },
   {
    "duration": 18,
    "start_time": "2024-08-28T14:01:53.927Z"
   },
   {
    "duration": 5,
    "start_time": "2024-08-28T14:01:53.947Z"
   },
   {
    "duration": 8,
    "start_time": "2024-08-28T14:01:53.953Z"
   },
   {
    "duration": 13,
    "start_time": "2024-08-28T14:01:53.964Z"
   },
   {
    "duration": 5,
    "start_time": "2024-08-28T14:01:53.979Z"
   },
   {
    "duration": 5,
    "start_time": "2024-08-28T14:01:53.986Z"
   },
   {
    "duration": 4,
    "start_time": "2024-08-28T14:01:53.993Z"
   },
   {
    "duration": 33,
    "start_time": "2024-08-28T14:01:54.043Z"
   },
   {
    "duration": 11,
    "start_time": "2024-08-28T14:01:54.078Z"
   },
   {
    "duration": 306,
    "start_time": "2024-08-28T14:01:54.091Z"
   },
   {
    "duration": 58,
    "start_time": "2024-08-28T14:01:54.399Z"
   },
   {
    "duration": 5,
    "start_time": "2024-08-28T14:01:54.459Z"
   },
   {
    "duration": 5,
    "start_time": "2024-08-28T14:01:54.466Z"
   },
   {
    "duration": 6,
    "start_time": "2024-08-28T14:01:54.473Z"
   },
   {
    "duration": 6,
    "start_time": "2024-08-28T14:01:54.480Z"
   },
   {
    "duration": 5,
    "start_time": "2024-08-28T14:01:54.487Z"
   },
   {
    "duration": 49,
    "start_time": "2024-08-28T14:01:54.494Z"
   },
   {
    "duration": 5,
    "start_time": "2024-08-28T14:01:54.544Z"
   },
   {
    "duration": 13,
    "start_time": "2024-08-28T14:01:54.551Z"
   },
   {
    "duration": 9,
    "start_time": "2024-08-28T14:01:54.565Z"
   },
   {
    "duration": 432,
    "start_time": "2024-08-28T14:01:54.578Z"
   },
   {
    "duration": 2,
    "start_time": "2024-08-28T14:01:55.012Z"
   },
   {
    "duration": 4,
    "start_time": "2024-08-28T14:01:55.016Z"
   },
   {
    "duration": 167,
    "start_time": "2024-08-28T14:01:55.022Z"
   },
   {
    "duration": 5,
    "start_time": "2024-08-28T14:01:55.191Z"
   },
   {
    "duration": 100,
    "start_time": "2024-08-28T14:01:55.198Z"
   },
   {
    "duration": 220,
    "start_time": "2024-08-28T14:01:55.299Z"
   },
   {
    "duration": 4,
    "start_time": "2024-08-28T14:01:55.521Z"
   },
   {
    "duration": 267,
    "start_time": "2024-08-28T14:01:55.527Z"
   },
   {
    "duration": 162,
    "start_time": "2024-08-28T14:05:56.892Z"
   },
   {
    "duration": 13,
    "start_time": "2024-08-28T14:06:04.077Z"
   },
   {
    "duration": 14,
    "start_time": "2024-08-28T14:06:11.523Z"
   },
   {
    "duration": 12,
    "start_time": "2024-08-28T14:06:14.823Z"
   },
   {
    "duration": 12,
    "start_time": "2024-08-28T14:06:24.830Z"
   },
   {
    "duration": 443,
    "start_time": "2024-08-28T14:06:28.836Z"
   },
   {
    "duration": 196,
    "start_time": "2024-08-28T14:06:31.755Z"
   },
   {
    "duration": 73,
    "start_time": "2024-08-28T14:06:34.663Z"
   },
   {
    "duration": 13,
    "start_time": "2024-08-28T14:06:37.143Z"
   },
   {
    "duration": 11,
    "start_time": "2024-08-28T14:06:41.880Z"
   },
   {
    "duration": 13,
    "start_time": "2024-08-28T14:06:44.657Z"
   },
   {
    "duration": 816,
    "start_time": "2024-08-28T14:06:47.427Z"
   },
   {
    "duration": 89,
    "start_time": "2024-08-28T14:06:52.004Z"
   },
   {
    "duration": 14,
    "start_time": "2024-08-28T14:06:53.552Z"
   },
   {
    "duration": 95,
    "start_time": "2024-08-28T14:06:55.765Z"
   },
   {
    "duration": 86,
    "start_time": "2024-08-28T14:06:57.068Z"
   },
   {
    "duration": 26,
    "start_time": "2024-08-28T14:06:59.053Z"
   },
   {
    "duration": 12,
    "start_time": "2024-08-28T14:07:01.672Z"
   },
   {
    "duration": 4,
    "start_time": "2024-08-28T14:07:02.915Z"
   },
   {
    "duration": 18,
    "start_time": "2024-08-28T14:07:04.129Z"
   },
   {
    "duration": 5,
    "start_time": "2024-08-28T14:07:05.740Z"
   },
   {
    "duration": 3,
    "start_time": "2024-08-28T14:07:07.335Z"
   },
   {
    "duration": 3,
    "start_time": "2024-08-28T14:07:08.713Z"
   },
   {
    "duration": 820,
    "start_time": "2024-08-28T14:07:10.181Z"
   },
   {
    "duration": 813,
    "start_time": "2024-08-28T14:07:12.400Z"
   },
   {
    "duration": 5,
    "start_time": "2024-08-28T14:07:16.220Z"
   },
   {
    "duration": 7,
    "start_time": "2024-08-28T14:07:18.567Z"
   },
   {
    "duration": 5,
    "start_time": "2024-08-28T14:07:20.463Z"
   },
   {
    "duration": 8,
    "start_time": "2024-08-28T14:07:23.304Z"
   },
   {
    "duration": 14,
    "start_time": "2024-08-28T14:07:25.928Z"
   },
   {
    "duration": 5,
    "start_time": "2024-08-28T14:07:29.390Z"
   },
   {
    "duration": 5,
    "start_time": "2024-08-28T14:07:31.267Z"
   },
   {
    "duration": 4,
    "start_time": "2024-08-28T14:07:33.172Z"
   },
   {
    "duration": 32,
    "start_time": "2024-08-28T14:07:35.728Z"
   },
   {
    "duration": 11,
    "start_time": "2024-08-28T14:07:37.213Z"
   },
   {
    "duration": 291,
    "start_time": "2024-08-28T14:07:40.762Z"
   },
   {
    "duration": 45,
    "start_time": "2024-08-28T14:07:43.560Z"
   },
   {
    "duration": 6,
    "start_time": "2024-08-28T14:07:46.057Z"
   },
   {
    "duration": 6,
    "start_time": "2024-08-28T14:07:47.901Z"
   },
   {
    "duration": 8,
    "start_time": "2024-08-28T14:07:50.342Z"
   },
   {
    "duration": 5,
    "start_time": "2024-08-28T14:07:52.108Z"
   },
   {
    "duration": 6,
    "start_time": "2024-08-28T14:07:54.127Z"
   },
   {
    "duration": 16,
    "start_time": "2024-08-28T14:07:56.335Z"
   },
   {
    "duration": 5,
    "start_time": "2024-08-28T14:07:58.225Z"
   },
   {
    "duration": 15,
    "start_time": "2024-08-28T14:08:00.646Z"
   },
   {
    "duration": 8,
    "start_time": "2024-08-28T14:08:03.510Z"
   },
   {
    "duration": 398,
    "start_time": "2024-08-28T14:08:06.135Z"
   },
   {
    "duration": 4,
    "start_time": "2024-08-28T14:08:12.242Z"
   },
   {
    "duration": 148,
    "start_time": "2024-08-28T14:08:14.142Z"
   },
   {
    "duration": 6,
    "start_time": "2024-08-28T14:08:18.180Z"
   },
   {
    "duration": 88,
    "start_time": "2024-08-28T14:08:20.641Z"
   },
   {
    "duration": 201,
    "start_time": "2024-08-28T14:08:24.166Z"
   },
   {
    "duration": 5,
    "start_time": "2024-08-28T14:08:29.591Z"
   },
   {
    "duration": 269,
    "start_time": "2024-08-28T14:08:31.468Z"
   },
   {
    "duration": 419,
    "start_time": "2024-08-28T14:09:33.640Z"
   },
   {
    "duration": 171,
    "start_time": "2024-08-28T14:09:34.061Z"
   },
   {
    "duration": 43,
    "start_time": "2024-08-28T14:09:34.234Z"
   },
   {
    "duration": 10,
    "start_time": "2024-08-28T14:09:34.280Z"
   },
   {
    "duration": 10,
    "start_time": "2024-08-28T14:09:34.292Z"
   },
   {
    "duration": 744,
    "start_time": "2024-08-28T14:09:34.304Z"
   },
   {
    "duration": 84,
    "start_time": "2024-08-28T14:09:35.050Z"
   },
   {
    "duration": 13,
    "start_time": "2024-08-28T14:09:35.136Z"
   },
   {
    "duration": 109,
    "start_time": "2024-08-28T14:09:35.151Z"
   },
   {
    "duration": 105,
    "start_time": "2024-08-28T14:09:35.264Z"
   },
   {
    "duration": 26,
    "start_time": "2024-08-28T14:09:35.371Z"
   },
   {
    "duration": 12,
    "start_time": "2024-08-28T14:09:35.399Z"
   },
   {
    "duration": 3,
    "start_time": "2024-08-28T14:09:35.412Z"
   },
   {
    "duration": 38,
    "start_time": "2024-08-28T14:09:35.417Z"
   },
   {
    "duration": 6,
    "start_time": "2024-08-28T14:09:35.456Z"
   },
   {
    "duration": 2,
    "start_time": "2024-08-28T14:09:35.464Z"
   },
   {
    "duration": 3,
    "start_time": "2024-08-28T14:09:35.468Z"
   },
   {
    "duration": 813,
    "start_time": "2024-08-28T14:09:35.473Z"
   },
   {
    "duration": 794,
    "start_time": "2024-08-28T14:09:36.288Z"
   },
   {
    "duration": 4,
    "start_time": "2024-08-28T14:09:37.084Z"
   },
   {
    "duration": 8,
    "start_time": "2024-08-28T14:09:37.090Z"
   },
   {
    "duration": 6,
    "start_time": "2024-08-28T14:09:37.099Z"
   },
   {
    "duration": 39,
    "start_time": "2024-08-28T14:09:37.107Z"
   },
   {
    "duration": 13,
    "start_time": "2024-08-28T14:09:37.148Z"
   },
   {
    "duration": 4,
    "start_time": "2024-08-28T14:09:37.164Z"
   },
   {
    "duration": 4,
    "start_time": "2024-08-28T14:09:37.170Z"
   },
   {
    "duration": 4,
    "start_time": "2024-08-28T14:09:37.175Z"
   },
   {
    "duration": 59,
    "start_time": "2024-08-28T14:09:37.184Z"
   },
   {
    "duration": 11,
    "start_time": "2024-08-28T14:09:37.244Z"
   },
   {
    "duration": 291,
    "start_time": "2024-08-28T14:09:37.258Z"
   },
   {
    "duration": 44,
    "start_time": "2024-08-28T14:09:37.551Z"
   },
   {
    "duration": 6,
    "start_time": "2024-08-28T14:09:37.597Z"
   },
   {
    "duration": 6,
    "start_time": "2024-08-28T14:09:37.605Z"
   },
   {
    "duration": 31,
    "start_time": "2024-08-28T14:09:37.613Z"
   },
   {
    "duration": 6,
    "start_time": "2024-08-28T14:09:37.646Z"
   },
   {
    "duration": 6,
    "start_time": "2024-08-28T14:09:37.654Z"
   },
   {
    "duration": 17,
    "start_time": "2024-08-28T14:09:37.661Z"
   },
   {
    "duration": 6,
    "start_time": "2024-08-28T14:09:37.680Z"
   },
   {
    "duration": 14,
    "start_time": "2024-08-28T14:09:37.687Z"
   },
   {
    "duration": 47,
    "start_time": "2024-08-28T14:09:37.703Z"
   },
   {
    "duration": 418,
    "start_time": "2024-08-28T14:09:37.751Z"
   },
   {
    "duration": 2,
    "start_time": "2024-08-28T14:09:38.171Z"
   },
   {
    "duration": 4,
    "start_time": "2024-08-28T14:09:38.175Z"
   },
   {
    "duration": 167,
    "start_time": "2024-08-28T14:09:38.181Z"
   },
   {
    "duration": 6,
    "start_time": "2024-08-28T14:09:38.350Z"
   },
   {
    "duration": 99,
    "start_time": "2024-08-28T14:09:38.358Z"
   },
   {
    "duration": 229,
    "start_time": "2024-08-28T14:09:38.458Z"
   },
   {
    "duration": 5,
    "start_time": "2024-08-28T14:09:38.689Z"
   },
   {
    "duration": 246,
    "start_time": "2024-08-28T14:09:38.696Z"
   },
   {
    "duration": 155,
    "start_time": "2024-08-28T14:15:49.693Z"
   },
   {
    "duration": 454,
    "start_time": "2024-08-28T14:15:56.462Z"
   },
   {
    "duration": 197,
    "start_time": "2024-08-28T14:15:56.918Z"
   },
   {
    "duration": 75,
    "start_time": "2024-08-28T14:15:57.117Z"
   },
   {
    "duration": 11,
    "start_time": "2024-08-28T14:15:57.195Z"
   },
   {
    "duration": 11,
    "start_time": "2024-08-28T14:15:57.208Z"
   },
   {
    "duration": 828,
    "start_time": "2024-08-28T14:15:57.220Z"
   },
   {
    "duration": 93,
    "start_time": "2024-08-28T14:15:58.050Z"
   },
   {
    "duration": 9,
    "start_time": "2024-08-28T14:15:58.144Z"
   },
   {
    "duration": 103,
    "start_time": "2024-08-28T14:15:58.155Z"
   },
   {
    "duration": 89,
    "start_time": "2024-08-28T14:15:58.261Z"
   },
   {
    "duration": 24,
    "start_time": "2024-08-28T14:15:58.352Z"
   },
   {
    "duration": 13,
    "start_time": "2024-08-28T14:15:58.378Z"
   },
   {
    "duration": 3,
    "start_time": "2024-08-28T14:15:58.392Z"
   },
   {
    "duration": 17,
    "start_time": "2024-08-28T14:15:58.397Z"
   },
   {
    "duration": 5,
    "start_time": "2024-08-28T14:15:58.442Z"
   },
   {
    "duration": 3,
    "start_time": "2024-08-28T14:15:58.448Z"
   },
   {
    "duration": 2,
    "start_time": "2024-08-28T14:15:58.452Z"
   },
   {
    "duration": 808,
    "start_time": "2024-08-28T14:15:58.456Z"
   },
   {
    "duration": 825,
    "start_time": "2024-08-28T14:15:59.266Z"
   },
   {
    "duration": 4,
    "start_time": "2024-08-28T14:16:00.093Z"
   },
   {
    "duration": 7,
    "start_time": "2024-08-28T14:16:00.099Z"
   },
   {
    "duration": 5,
    "start_time": "2024-08-28T14:16:00.107Z"
   },
   {
    "duration": 30,
    "start_time": "2024-08-28T14:16:00.114Z"
   },
   {
    "duration": 13,
    "start_time": "2024-08-28T14:16:00.147Z"
   },
   {
    "duration": 4,
    "start_time": "2024-08-28T14:16:00.162Z"
   },
   {
    "duration": 4,
    "start_time": "2024-08-28T14:16:00.167Z"
   },
   {
    "duration": 4,
    "start_time": "2024-08-28T14:16:00.173Z"
   },
   {
    "duration": 63,
    "start_time": "2024-08-28T14:16:00.181Z"
   },
   {
    "duration": 11,
    "start_time": "2024-08-28T14:16:00.245Z"
   },
   {
    "duration": 301,
    "start_time": "2024-08-28T14:16:00.258Z"
   },
   {
    "duration": 45,
    "start_time": "2024-08-28T14:16:00.560Z"
   },
   {
    "duration": 5,
    "start_time": "2024-08-28T14:16:00.606Z"
   },
   {
    "duration": 30,
    "start_time": "2024-08-28T14:16:00.613Z"
   },
   {
    "duration": 7,
    "start_time": "2024-08-28T14:16:00.644Z"
   },
   {
    "duration": 6,
    "start_time": "2024-08-28T14:16:00.653Z"
   },
   {
    "duration": 6,
    "start_time": "2024-08-28T14:16:00.661Z"
   },
   {
    "duration": 15,
    "start_time": "2024-08-28T14:16:00.669Z"
   },
   {
    "duration": 5,
    "start_time": "2024-08-28T14:16:00.686Z"
   },
   {
    "duration": 13,
    "start_time": "2024-08-28T14:16:00.693Z"
   },
   {
    "duration": 9,
    "start_time": "2024-08-28T14:16:00.743Z"
   },
   {
    "duration": 426,
    "start_time": "2024-08-28T14:16:00.754Z"
   },
   {
    "duration": 2,
    "start_time": "2024-08-28T14:16:01.182Z"
   },
   {
    "duration": 4,
    "start_time": "2024-08-28T14:16:01.186Z"
   },
   {
    "duration": 163,
    "start_time": "2024-08-28T14:16:01.191Z"
   },
   {
    "duration": 5,
    "start_time": "2024-08-28T14:16:01.357Z"
   },
   {
    "duration": 105,
    "start_time": "2024-08-28T14:16:01.364Z"
   },
   {
    "duration": 224,
    "start_time": "2024-08-28T14:16:01.471Z"
   },
   {
    "duration": 5,
    "start_time": "2024-08-28T14:16:01.697Z"
   },
   {
    "duration": 270,
    "start_time": "2024-08-28T14:16:01.703Z"
   },
   {
    "duration": 410,
    "start_time": "2024-08-28T14:22:00.527Z"
   },
   {
    "duration": 204,
    "start_time": "2024-08-28T14:22:00.939Z"
   },
   {
    "duration": 70,
    "start_time": "2024-08-28T14:22:01.145Z"
   },
   {
    "duration": 12,
    "start_time": "2024-08-28T14:22:01.217Z"
   },
   {
    "duration": 11,
    "start_time": "2024-08-28T14:22:01.232Z"
   },
   {
    "duration": 827,
    "start_time": "2024-08-28T14:22:01.244Z"
   },
   {
    "duration": 96,
    "start_time": "2024-08-28T14:22:02.073Z"
   },
   {
    "duration": 8,
    "start_time": "2024-08-28T14:22:02.171Z"
   },
   {
    "duration": 104,
    "start_time": "2024-08-28T14:22:02.181Z"
   },
   {
    "duration": 91,
    "start_time": "2024-08-28T14:22:02.286Z"
   },
   {
    "duration": 26,
    "start_time": "2024-08-28T14:22:02.379Z"
   },
   {
    "duration": 12,
    "start_time": "2024-08-28T14:22:02.407Z"
   },
   {
    "duration": 24,
    "start_time": "2024-08-28T14:22:02.420Z"
   },
   {
    "duration": 20,
    "start_time": "2024-08-28T14:22:02.450Z"
   },
   {
    "duration": 4,
    "start_time": "2024-08-28T14:22:02.472Z"
   },
   {
    "duration": 2,
    "start_time": "2024-08-28T14:22:02.478Z"
   },
   {
    "duration": 2,
    "start_time": "2024-08-28T14:22:02.482Z"
   },
   {
    "duration": 823,
    "start_time": "2024-08-28T14:22:02.485Z"
   },
   {
    "duration": 809,
    "start_time": "2024-08-28T14:22:03.311Z"
   },
   {
    "duration": 4,
    "start_time": "2024-08-28T14:22:04.122Z"
   },
   {
    "duration": 19,
    "start_time": "2024-08-28T14:22:04.128Z"
   },
   {
    "duration": 4,
    "start_time": "2024-08-28T14:22:04.149Z"
   },
   {
    "duration": 8,
    "start_time": "2024-08-28T14:22:04.155Z"
   },
   {
    "duration": 13,
    "start_time": "2024-08-28T14:22:04.165Z"
   },
   {
    "duration": 4,
    "start_time": "2024-08-28T14:22:04.179Z"
   },
   {
    "duration": 4,
    "start_time": "2024-08-28T14:22:04.185Z"
   },
   {
    "duration": 4,
    "start_time": "2024-08-28T14:22:04.190Z"
   },
   {
    "duration": 72,
    "start_time": "2024-08-28T14:22:04.196Z"
   },
   {
    "duration": 11,
    "start_time": "2024-08-28T14:22:04.270Z"
   },
   {
    "duration": 307,
    "start_time": "2024-08-28T14:22:04.282Z"
   },
   {
    "duration": 52,
    "start_time": "2024-08-28T14:22:04.591Z"
   },
   {
    "duration": 4,
    "start_time": "2024-08-28T14:22:04.645Z"
   },
   {
    "duration": 5,
    "start_time": "2024-08-28T14:22:04.651Z"
   },
   {
    "duration": 6,
    "start_time": "2024-08-28T14:22:04.657Z"
   },
   {
    "duration": 6,
    "start_time": "2024-08-28T14:22:04.665Z"
   },
   {
    "duration": 7,
    "start_time": "2024-08-28T14:22:04.672Z"
   },
   {
    "duration": 16,
    "start_time": "2024-08-28T14:22:04.680Z"
   },
   {
    "duration": 47,
    "start_time": "2024-08-28T14:22:04.698Z"
   },
   {
    "duration": 13,
    "start_time": "2024-08-28T14:22:04.747Z"
   },
   {
    "duration": 8,
    "start_time": "2024-08-28T14:22:04.761Z"
   },
   {
    "duration": 428,
    "start_time": "2024-08-28T14:22:04.774Z"
   },
   {
    "duration": 2,
    "start_time": "2024-08-28T14:22:05.204Z"
   },
   {
    "duration": 4,
    "start_time": "2024-08-28T14:22:05.208Z"
   },
   {
    "duration": 164,
    "start_time": "2024-08-28T14:22:05.214Z"
   },
   {
    "duration": 5,
    "start_time": "2024-08-28T14:22:05.380Z"
   },
   {
    "duration": 100,
    "start_time": "2024-08-28T14:22:05.387Z"
   },
   {
    "duration": 226,
    "start_time": "2024-08-28T14:22:05.489Z"
   },
   {
    "duration": 5,
    "start_time": "2024-08-28T14:22:05.717Z"
   },
   {
    "duration": 272,
    "start_time": "2024-08-28T14:22:05.723Z"
   },
   {
    "duration": 157,
    "start_time": "2024-08-28T14:29:02.787Z"
   },
   {
    "duration": 490,
    "start_time": "2024-08-28T14:29:05.549Z"
   },
   {
    "duration": 3,
    "start_time": "2024-08-28T14:29:07.015Z"
   },
   {
    "duration": 172,
    "start_time": "2024-08-28T14:29:08.488Z"
   },
   {
    "duration": 432,
    "start_time": "2024-08-28T14:29:14.295Z"
   },
   {
    "duration": 177,
    "start_time": "2024-08-28T14:29:14.729Z"
   },
   {
    "duration": 70,
    "start_time": "2024-08-28T14:29:14.908Z"
   },
   {
    "duration": 11,
    "start_time": "2024-08-28T14:29:14.982Z"
   },
   {
    "duration": 12,
    "start_time": "2024-08-28T14:29:14.995Z"
   },
   {
    "duration": 870,
    "start_time": "2024-08-28T14:29:15.009Z"
   },
   {
    "duration": 96,
    "start_time": "2024-08-28T14:29:15.880Z"
   },
   {
    "duration": 9,
    "start_time": "2024-08-28T14:29:15.978Z"
   },
   {
    "duration": 106,
    "start_time": "2024-08-28T14:29:15.988Z"
   },
   {
    "duration": 95,
    "start_time": "2024-08-28T14:29:16.098Z"
   },
   {
    "duration": 28,
    "start_time": "2024-08-28T14:29:16.195Z"
   },
   {
    "duration": 25,
    "start_time": "2024-08-28T14:29:16.225Z"
   },
   {
    "duration": 4,
    "start_time": "2024-08-28T14:29:16.251Z"
   },
   {
    "duration": 21,
    "start_time": "2024-08-28T14:29:16.257Z"
   },
   {
    "duration": 6,
    "start_time": "2024-08-28T14:29:16.279Z"
   },
   {
    "duration": 2,
    "start_time": "2024-08-28T14:29:16.288Z"
   },
   {
    "duration": 2,
    "start_time": "2024-08-28T14:29:16.293Z"
   },
   {
    "duration": 928,
    "start_time": "2024-08-28T14:29:16.297Z"
   },
   {
    "duration": 947,
    "start_time": "2024-08-28T14:29:17.227Z"
   },
   {
    "duration": 4,
    "start_time": "2024-08-28T14:29:18.176Z"
   },
   {
    "duration": 7,
    "start_time": "2024-08-28T14:29:18.182Z"
   },
   {
    "duration": 5,
    "start_time": "2024-08-28T14:29:18.190Z"
   },
   {
    "duration": 8,
    "start_time": "2024-08-28T14:29:18.196Z"
   },
   {
    "duration": 42,
    "start_time": "2024-08-28T14:29:18.206Z"
   },
   {
    "duration": 4,
    "start_time": "2024-08-28T14:29:18.249Z"
   },
   {
    "duration": 5,
    "start_time": "2024-08-28T14:29:18.255Z"
   },
   {
    "duration": 4,
    "start_time": "2024-08-28T14:29:18.262Z"
   },
   {
    "duration": 30,
    "start_time": "2024-08-28T14:29:18.270Z"
   },
   {
    "duration": 11,
    "start_time": "2024-08-28T14:29:18.302Z"
   },
   {
    "duration": 286,
    "start_time": "2024-08-28T14:29:18.344Z"
   },
   {
    "duration": 49,
    "start_time": "2024-08-28T14:29:18.632Z"
   },
   {
    "duration": 6,
    "start_time": "2024-08-28T14:29:18.683Z"
   },
   {
    "duration": 7,
    "start_time": "2024-08-28T14:29:18.691Z"
   },
   {
    "duration": 6,
    "start_time": "2024-08-28T14:29:18.700Z"
   },
   {
    "duration": 36,
    "start_time": "2024-08-28T14:29:18.707Z"
   },
   {
    "duration": 6,
    "start_time": "2024-08-28T14:29:18.745Z"
   },
   {
    "duration": 16,
    "start_time": "2024-08-28T14:29:18.753Z"
   },
   {
    "duration": 5,
    "start_time": "2024-08-28T14:29:18.772Z"
   },
   {
    "duration": 13,
    "start_time": "2024-08-28T14:29:18.778Z"
   },
   {
    "duration": 7,
    "start_time": "2024-08-28T14:29:18.793Z"
   },
   {
    "duration": 460,
    "start_time": "2024-08-28T14:29:18.802Z"
   },
   {
    "duration": 2,
    "start_time": "2024-08-28T14:29:19.264Z"
   },
   {
    "duration": 4,
    "start_time": "2024-08-28T14:29:19.268Z"
   },
   {
    "duration": 161,
    "start_time": "2024-08-28T14:29:19.273Z"
   },
   {
    "duration": 10,
    "start_time": "2024-08-28T14:29:19.436Z"
   },
   {
    "duration": 96,
    "start_time": "2024-08-28T14:29:19.447Z"
   },
   {
    "duration": 207,
    "start_time": "2024-08-28T14:29:19.544Z"
   },
   {
    "duration": 4,
    "start_time": "2024-08-28T14:29:19.753Z"
   },
   {
    "duration": 265,
    "start_time": "2024-08-28T14:29:19.759Z"
   },
   {
    "duration": 401,
    "start_time": "2024-08-28T14:30:32.522Z"
   },
   {
    "duration": 174,
    "start_time": "2024-08-28T14:30:32.925Z"
   },
   {
    "duration": 47,
    "start_time": "2024-08-28T14:30:33.101Z"
   },
   {
    "duration": 11,
    "start_time": "2024-08-28T14:30:33.151Z"
   },
   {
    "duration": 10,
    "start_time": "2024-08-28T14:30:33.164Z"
   },
   {
    "duration": 739,
    "start_time": "2024-08-28T14:30:33.176Z"
   },
   {
    "duration": 91,
    "start_time": "2024-08-28T14:30:33.917Z"
   },
   {
    "duration": 9,
    "start_time": "2024-08-28T14:30:34.010Z"
   },
   {
    "duration": 121,
    "start_time": "2024-08-28T14:30:34.021Z"
   },
   {
    "duration": 104,
    "start_time": "2024-08-28T14:30:34.145Z"
   },
   {
    "duration": 26,
    "start_time": "2024-08-28T14:30:34.250Z"
   },
   {
    "duration": 12,
    "start_time": "2024-08-28T14:30:34.278Z"
   },
   {
    "duration": 3,
    "start_time": "2024-08-28T14:30:34.293Z"
   },
   {
    "duration": 44,
    "start_time": "2024-08-28T14:30:34.298Z"
   },
   {
    "duration": 4,
    "start_time": "2024-08-28T14:30:34.344Z"
   },
   {
    "duration": 4,
    "start_time": "2024-08-28T14:30:34.350Z"
   },
   {
    "duration": 4,
    "start_time": "2024-08-28T14:30:34.355Z"
   },
   {
    "duration": 821,
    "start_time": "2024-08-28T14:30:34.360Z"
   },
   {
    "duration": 791,
    "start_time": "2024-08-28T14:30:35.184Z"
   },
   {
    "duration": 4,
    "start_time": "2024-08-28T14:30:35.977Z"
   },
   {
    "duration": 7,
    "start_time": "2024-08-28T14:30:35.983Z"
   },
   {
    "duration": 5,
    "start_time": "2024-08-28T14:30:35.991Z"
   },
   {
    "duration": 8,
    "start_time": "2024-08-28T14:30:35.997Z"
   },
   {
    "duration": 42,
    "start_time": "2024-08-28T14:30:36.007Z"
   },
   {
    "duration": 4,
    "start_time": "2024-08-28T14:30:36.051Z"
   },
   {
    "duration": 4,
    "start_time": "2024-08-28T14:30:36.057Z"
   },
   {
    "duration": 4,
    "start_time": "2024-08-28T14:30:36.063Z"
   },
   {
    "duration": 32,
    "start_time": "2024-08-28T14:30:36.072Z"
   },
   {
    "duration": 44,
    "start_time": "2024-08-28T14:30:36.105Z"
   },
   {
    "duration": 286,
    "start_time": "2024-08-28T14:30:36.151Z"
   },
   {
    "duration": 45,
    "start_time": "2024-08-28T14:30:36.438Z"
   },
   {
    "duration": 4,
    "start_time": "2024-08-28T14:30:36.485Z"
   },
   {
    "duration": 6,
    "start_time": "2024-08-28T14:30:36.491Z"
   },
   {
    "duration": 6,
    "start_time": "2024-08-28T14:30:36.499Z"
   },
   {
    "duration": 37,
    "start_time": "2024-08-28T14:30:36.506Z"
   },
   {
    "duration": 6,
    "start_time": "2024-08-28T14:30:36.545Z"
   },
   {
    "duration": 16,
    "start_time": "2024-08-28T14:30:36.552Z"
   },
   {
    "duration": 5,
    "start_time": "2024-08-28T14:30:36.570Z"
   },
   {
    "duration": 13,
    "start_time": "2024-08-28T14:30:36.577Z"
   },
   {
    "duration": 7,
    "start_time": "2024-08-28T14:30:36.591Z"
   },
   {
    "duration": 449,
    "start_time": "2024-08-28T14:30:36.600Z"
   },
   {
    "duration": 2,
    "start_time": "2024-08-28T14:30:37.051Z"
   },
   {
    "duration": 5,
    "start_time": "2024-08-28T14:30:37.054Z"
   },
   {
    "duration": 166,
    "start_time": "2024-08-28T14:30:37.061Z"
   },
   {
    "duration": 6,
    "start_time": "2024-08-28T14:30:37.229Z"
   },
   {
    "duration": 87,
    "start_time": "2024-08-28T14:30:37.242Z"
   },
   {
    "duration": 228,
    "start_time": "2024-08-28T14:30:37.331Z"
   },
   {
    "duration": 4,
    "start_time": "2024-08-28T14:30:37.561Z"
   },
   {
    "duration": 263,
    "start_time": "2024-08-28T14:30:37.567Z"
   },
   {
    "duration": 156,
    "start_time": "2024-08-28T14:42:54.656Z"
   },
   {
    "duration": 421,
    "start_time": "2024-08-28T14:43:15.514Z"
   },
   {
    "duration": 207,
    "start_time": "2024-08-28T14:43:15.938Z"
   },
   {
    "duration": 70,
    "start_time": "2024-08-28T14:43:16.149Z"
   },
   {
    "duration": 12,
    "start_time": "2024-08-28T14:43:16.222Z"
   },
   {
    "duration": 11,
    "start_time": "2024-08-28T14:43:16.235Z"
   },
   {
    "duration": 820,
    "start_time": "2024-08-28T14:43:16.248Z"
   },
   {
    "duration": 103,
    "start_time": "2024-08-28T14:43:17.070Z"
   },
   {
    "duration": 10,
    "start_time": "2024-08-28T14:43:17.174Z"
   },
   {
    "duration": 117,
    "start_time": "2024-08-28T14:43:17.185Z"
   },
   {
    "duration": 111,
    "start_time": "2024-08-28T14:43:17.303Z"
   },
   {
    "duration": 30,
    "start_time": "2024-08-28T14:43:17.416Z"
   },
   {
    "duration": 13,
    "start_time": "2024-08-28T14:43:17.448Z"
   },
   {
    "duration": 3,
    "start_time": "2024-08-28T14:43:17.465Z"
   },
   {
    "duration": 17,
    "start_time": "2024-08-28T14:43:17.470Z"
   },
   {
    "duration": 5,
    "start_time": "2024-08-28T14:43:17.488Z"
   },
   {
    "duration": 3,
    "start_time": "2024-08-28T14:43:17.495Z"
   },
   {
    "duration": 3,
    "start_time": "2024-08-28T14:43:17.499Z"
   },
   {
    "duration": 823,
    "start_time": "2024-08-28T14:43:17.543Z"
   },
   {
    "duration": 862,
    "start_time": "2024-08-28T14:43:18.368Z"
   },
   {
    "duration": 11,
    "start_time": "2024-08-28T14:43:19.232Z"
   },
   {
    "duration": 55,
    "start_time": "2024-08-28T14:43:19.245Z"
   },
   {
    "duration": 10,
    "start_time": "2024-08-28T14:43:19.303Z"
   },
   {
    "duration": 10,
    "start_time": "2024-08-28T14:43:19.315Z"
   },
   {
    "duration": 15,
    "start_time": "2024-08-28T14:43:19.327Z"
   },
   {
    "duration": 5,
    "start_time": "2024-08-28T14:43:19.344Z"
   },
   {
    "duration": 5,
    "start_time": "2024-08-28T14:43:19.351Z"
   },
   {
    "duration": 5,
    "start_time": "2024-08-28T14:43:19.357Z"
   },
   {
    "duration": 44,
    "start_time": "2024-08-28T14:43:19.363Z"
   },
   {
    "duration": 39,
    "start_time": "2024-08-28T14:43:19.409Z"
   },
   {
    "duration": 330,
    "start_time": "2024-08-28T14:43:19.450Z"
   },
   {
    "duration": 47,
    "start_time": "2024-08-28T14:43:19.783Z"
   },
   {
    "duration": 13,
    "start_time": "2024-08-28T14:43:19.832Z"
   },
   {
    "duration": 5,
    "start_time": "2024-08-28T14:43:19.847Z"
   },
   {
    "duration": 6,
    "start_time": "2024-08-28T14:43:19.854Z"
   },
   {
    "duration": 7,
    "start_time": "2024-08-28T14:43:19.862Z"
   },
   {
    "duration": 6,
    "start_time": "2024-08-28T14:43:19.870Z"
   },
   {
    "duration": 15,
    "start_time": "2024-08-28T14:43:19.878Z"
   },
   {
    "duration": 48,
    "start_time": "2024-08-28T14:43:19.895Z"
   },
   {
    "duration": 15,
    "start_time": "2024-08-28T14:43:19.945Z"
   },
   {
    "duration": 8,
    "start_time": "2024-08-28T14:43:19.965Z"
   },
   {
    "duration": 480,
    "start_time": "2024-08-28T14:43:19.974Z"
   },
   {
    "duration": 2,
    "start_time": "2024-08-28T14:43:20.456Z"
   },
   {
    "duration": 5,
    "start_time": "2024-08-28T14:43:20.460Z"
   },
   {
    "duration": 198,
    "start_time": "2024-08-28T14:43:20.467Z"
   },
   {
    "duration": 6,
    "start_time": "2024-08-28T14:43:20.668Z"
   },
   {
    "duration": 115,
    "start_time": "2024-08-28T14:43:20.677Z"
   },
   {
    "duration": 229,
    "start_time": "2024-08-28T14:43:20.794Z"
   },
   {
    "duration": 4,
    "start_time": "2024-08-28T14:43:21.025Z"
   },
   {
    "duration": 791,
    "start_time": "2024-08-28T14:43:21.031Z"
   },
   {
    "duration": 0,
    "start_time": "2024-08-28T14:43:21.824Z"
   },
   {
    "duration": 0,
    "start_time": "2024-08-28T14:43:21.825Z"
   },
   {
    "duration": 0,
    "start_time": "2024-08-28T14:43:21.827Z"
   },
   {
    "duration": 0,
    "start_time": "2024-08-28T14:43:21.828Z"
   },
   {
    "duration": 268,
    "start_time": "2024-08-28T14:43:41.406Z"
   },
   {
    "duration": 291,
    "start_time": "2024-08-28T14:44:19.045Z"
   },
   {
    "duration": 149,
    "start_time": "2024-08-28T14:45:20.765Z"
   },
   {
    "duration": 40,
    "start_time": "2024-08-28T14:46:05.654Z"
   },
   {
    "duration": 278,
    "start_time": "2024-08-28T14:47:06.439Z"
   },
   {
    "duration": 287,
    "start_time": "2024-08-28T14:47:22.098Z"
   },
   {
    "duration": 285,
    "start_time": "2024-08-28T14:48:15.653Z"
   },
   {
    "duration": 276,
    "start_time": "2024-08-28T14:56:39.925Z"
   },
   {
    "duration": 2117,
    "start_time": "2024-08-28T22:18:00.329Z"
   },
   {
    "duration": 177,
    "start_time": "2024-08-28T22:18:02.448Z"
   },
   {
    "duration": 73,
    "start_time": "2024-08-28T22:18:02.628Z"
   },
   {
    "duration": 13,
    "start_time": "2024-08-28T22:18:02.704Z"
   },
   {
    "duration": 15,
    "start_time": "2024-08-28T22:18:02.719Z"
   },
   {
    "duration": 877,
    "start_time": "2024-08-28T22:18:02.736Z"
   },
   {
    "duration": 84,
    "start_time": "2024-08-28T22:18:03.615Z"
   },
   {
    "duration": 8,
    "start_time": "2024-08-28T22:18:03.701Z"
   },
   {
    "duration": 98,
    "start_time": "2024-08-28T22:18:03.710Z"
   },
   {
    "duration": 94,
    "start_time": "2024-08-28T22:18:03.811Z"
   },
   {
    "duration": 27,
    "start_time": "2024-08-28T22:18:03.907Z"
   },
   {
    "duration": 12,
    "start_time": "2024-08-28T22:18:03.935Z"
   },
   {
    "duration": 3,
    "start_time": "2024-08-28T22:18:03.948Z"
   },
   {
    "duration": 15,
    "start_time": "2024-08-28T22:18:03.953Z"
   },
   {
    "duration": 5,
    "start_time": "2024-08-28T22:18:03.969Z"
   },
   {
    "duration": 2,
    "start_time": "2024-08-28T22:18:03.977Z"
   },
   {
    "duration": 3,
    "start_time": "2024-08-28T22:18:03.980Z"
   },
   {
    "duration": 777,
    "start_time": "2024-08-28T22:18:03.984Z"
   },
   {
    "duration": 746,
    "start_time": "2024-08-28T22:18:04.764Z"
   },
   {
    "duration": 10,
    "start_time": "2024-08-28T22:18:05.514Z"
   },
   {
    "duration": 7,
    "start_time": "2024-08-28T22:18:05.526Z"
   },
   {
    "duration": 5,
    "start_time": "2024-08-28T22:18:05.534Z"
   },
   {
    "duration": 8,
    "start_time": "2024-08-28T22:18:05.540Z"
   },
   {
    "duration": 13,
    "start_time": "2024-08-28T22:18:05.550Z"
   },
   {
    "duration": 4,
    "start_time": "2024-08-28T22:18:05.565Z"
   },
   {
    "duration": 4,
    "start_time": "2024-08-28T22:18:05.571Z"
   },
   {
    "duration": 4,
    "start_time": "2024-08-28T22:18:05.576Z"
   },
   {
    "duration": 28,
    "start_time": "2024-08-28T22:18:05.627Z"
   },
   {
    "duration": 11,
    "start_time": "2024-08-28T22:18:05.657Z"
   },
   {
    "duration": 268,
    "start_time": "2024-08-28T22:18:05.669Z"
   },
   {
    "duration": 41,
    "start_time": "2024-08-28T22:18:05.939Z"
   },
   {
    "duration": 4,
    "start_time": "2024-08-28T22:18:05.983Z"
   },
   {
    "duration": 6,
    "start_time": "2024-08-28T22:18:05.989Z"
   },
   {
    "duration": 30,
    "start_time": "2024-08-28T22:18:05.996Z"
   },
   {
    "duration": 5,
    "start_time": "2024-08-28T22:18:06.028Z"
   },
   {
    "duration": 6,
    "start_time": "2024-08-28T22:18:06.035Z"
   },
   {
    "duration": 15,
    "start_time": "2024-08-28T22:18:06.042Z"
   },
   {
    "duration": 4,
    "start_time": "2024-08-28T22:18:06.059Z"
   },
   {
    "duration": 13,
    "start_time": "2024-08-28T22:18:06.065Z"
   },
   {
    "duration": 7,
    "start_time": "2024-08-28T22:18:06.080Z"
   },
   {
    "duration": 448,
    "start_time": "2024-08-28T22:18:06.124Z"
   },
   {
    "duration": 3,
    "start_time": "2024-08-28T22:18:06.573Z"
   },
   {
    "duration": 4,
    "start_time": "2024-08-28T22:18:06.578Z"
   },
   {
    "duration": 164,
    "start_time": "2024-08-28T22:18:06.584Z"
   },
   {
    "duration": 6,
    "start_time": "2024-08-28T22:18:06.749Z"
   },
   {
    "duration": 91,
    "start_time": "2024-08-28T22:18:06.756Z"
   },
   {
    "duration": 215,
    "start_time": "2024-08-28T22:18:06.849Z"
   },
   {
    "duration": 4,
    "start_time": "2024-08-28T22:18:07.066Z"
   },
   {
    "duration": 216,
    "start_time": "2024-08-28T22:18:07.072Z"
   },
   {
    "duration": 192,
    "start_time": "2024-08-28T22:18:07.289Z"
   },
   {
    "duration": 0,
    "start_time": "2024-08-28T22:18:07.483Z"
   },
   {
    "duration": 0,
    "start_time": "2024-08-28T22:18:07.484Z"
   },
   {
    "duration": 0,
    "start_time": "2024-08-28T22:18:07.485Z"
   },
   {
    "duration": 5,
    "start_time": "2024-08-28T22:18:22.760Z"
   },
   {
    "duration": 91,
    "start_time": "2024-08-28T22:18:25.249Z"
   },
   {
    "duration": 200,
    "start_time": "2024-08-28T22:18:27.514Z"
   },
   {
    "duration": 241,
    "start_time": "2024-08-28T22:19:42.683Z"
   },
   {
    "duration": 240,
    "start_time": "2024-08-28T22:19:51.562Z"
   },
   {
    "duration": 258,
    "start_time": "2024-08-28T22:28:22.151Z"
   },
   {
    "duration": 3,
    "start_time": "2024-08-28T22:28:27.988Z"
   },
   {
    "duration": 227,
    "start_time": "2024-08-28T22:28:39.353Z"
   },
   {
    "duration": 12,
    "start_time": "2024-08-28T22:29:22.055Z"
   },
   {
    "duration": 127,
    "start_time": "2024-08-28T22:29:39.259Z"
   },
   {
    "duration": 39,
    "start_time": "2024-08-28T22:29:50.931Z"
   },
   {
    "duration": 5,
    "start_time": "2024-08-28T22:31:48.160Z"
   },
   {
    "duration": 66,
    "start_time": "2024-08-28T22:31:54.021Z"
   },
   {
    "duration": 142,
    "start_time": "2024-08-28T22:32:13.604Z"
   },
   {
    "duration": 19,
    "start_time": "2024-08-28T22:54:19.693Z"
   },
   {
    "duration": 262,
    "start_time": "2024-08-28T22:55:28.170Z"
   },
   {
    "duration": 17,
    "start_time": "2024-08-28T22:56:11.775Z"
   },
   {
    "duration": 3,
    "start_time": "2024-08-28T22:56:19.572Z"
   },
   {
    "duration": 18,
    "start_time": "2024-08-28T22:56:28.789Z"
   },
   {
    "duration": 328,
    "start_time": "2024-08-28T22:57:42.197Z"
   },
   {
    "duration": 247,
    "start_time": "2024-08-28T23:03:19.518Z"
   },
   {
    "duration": 240,
    "start_time": "2024-08-28T23:05:23.627Z"
   },
   {
    "duration": 2,
    "start_time": "2024-08-28T23:05:28.850Z"
   },
   {
    "duration": 247,
    "start_time": "2024-08-28T23:05:45.135Z"
   },
   {
    "duration": 245,
    "start_time": "2024-08-28T23:06:10.940Z"
   },
   {
    "duration": 265,
    "start_time": "2024-08-28T23:06:47.642Z"
   },
   {
    "duration": 237,
    "start_time": "2024-08-28T23:10:15.468Z"
   },
   {
    "duration": 263,
    "start_time": "2024-08-28T23:12:17.430Z"
   },
   {
    "duration": 5,
    "start_time": "2024-08-28T23:12:43.701Z"
   },
   {
    "duration": 229,
    "start_time": "2024-08-28T23:12:54.430Z"
   },
   {
    "duration": 5,
    "start_time": "2024-08-28T23:14:14.880Z"
   },
   {
    "duration": 235,
    "start_time": "2024-08-28T23:14:25.674Z"
   },
   {
    "duration": 4,
    "start_time": "2024-08-28T23:15:09.362Z"
   },
   {
    "duration": 4,
    "start_time": "2024-08-28T23:15:14.887Z"
   },
   {
    "duration": 249,
    "start_time": "2024-08-28T23:15:43.623Z"
   },
   {
    "duration": 243,
    "start_time": "2024-08-28T23:15:57.178Z"
   },
   {
    "duration": 245,
    "start_time": "2024-08-28T23:17:32.002Z"
   },
   {
    "duration": 230,
    "start_time": "2024-08-28T23:18:18.392Z"
   },
   {
    "duration": 218,
    "start_time": "2024-08-28T23:18:21.263Z"
   },
   {
    "duration": 231,
    "start_time": "2024-08-28T23:19:32.633Z"
   },
   {
    "duration": 233,
    "start_time": "2024-08-28T23:20:29.536Z"
   },
   {
    "duration": 3,
    "start_time": "2024-08-28T23:26:54.680Z"
   },
   {
    "duration": 81,
    "start_time": "2024-08-28T23:27:05.446Z"
   },
   {
    "duration": 83,
    "start_time": "2024-08-28T23:27:11.896Z"
   },
   {
    "duration": 94,
    "start_time": "2024-08-28T23:28:03.800Z"
   },
   {
    "duration": 25,
    "start_time": "2024-08-28T23:28:40.371Z"
   },
   {
    "duration": 13,
    "start_time": "2024-08-28T23:29:39.765Z"
   },
   {
    "duration": 6,
    "start_time": "2024-08-28T23:30:15.294Z"
   },
   {
    "duration": 16,
    "start_time": "2024-08-28T23:31:13.645Z"
   },
   {
    "duration": 5,
    "start_time": "2024-08-28T23:31:29.597Z"
   },
   {
    "duration": 5,
    "start_time": "2024-08-28T23:31:32.402Z"
   },
   {
    "duration": 14,
    "start_time": "2024-08-28T23:31:37.932Z"
   },
   {
    "duration": 5,
    "start_time": "2024-08-28T23:32:16.332Z"
   },
   {
    "duration": 14,
    "start_time": "2024-08-28T23:34:09.640Z"
   },
   {
    "duration": 5,
    "start_time": "2024-08-28T23:34:11.330Z"
   },
   {
    "duration": 4,
    "start_time": "2024-08-28T23:34:13.997Z"
   },
   {
    "duration": 12,
    "start_time": "2024-08-28T23:34:17.165Z"
   },
   {
    "duration": 5,
    "start_time": "2024-08-28T23:34:20.237Z"
   },
   {
    "duration": 700,
    "start_time": "2024-08-28T23:34:46.762Z"
   },
   {
    "duration": 5,
    "start_time": "2024-08-28T23:39:47.511Z"
   },
   {
    "duration": 7,
    "start_time": "2024-08-28T23:43:35.453Z"
   },
   {
    "duration": 8,
    "start_time": "2024-08-28T23:43:42.210Z"
   },
   {
    "duration": 7,
    "start_time": "2024-08-28T23:43:57.571Z"
   },
   {
    "duration": 454,
    "start_time": "2024-08-28T23:44:12.640Z"
   },
   {
    "duration": 166,
    "start_time": "2024-08-28T23:44:13.096Z"
   },
   {
    "duration": 43,
    "start_time": "2024-08-28T23:44:13.263Z"
   },
   {
    "duration": 22,
    "start_time": "2024-08-28T23:44:13.308Z"
   },
   {
    "duration": 9,
    "start_time": "2024-08-28T23:44:13.332Z"
   },
   {
    "duration": 744,
    "start_time": "2024-08-28T23:44:13.343Z"
   },
   {
    "duration": 88,
    "start_time": "2024-08-28T23:44:14.089Z"
   },
   {
    "duration": 8,
    "start_time": "2024-08-28T23:44:14.179Z"
   },
   {
    "duration": 103,
    "start_time": "2024-08-28T23:44:14.189Z"
   },
   {
    "duration": 93,
    "start_time": "2024-08-28T23:44:14.296Z"
   },
   {
    "duration": 23,
    "start_time": "2024-08-28T23:44:14.391Z"
   },
   {
    "duration": 11,
    "start_time": "2024-08-28T23:44:14.425Z"
   },
   {
    "duration": 3,
    "start_time": "2024-08-28T23:44:14.437Z"
   },
   {
    "duration": 19,
    "start_time": "2024-08-28T23:44:14.442Z"
   },
   {
    "duration": 5,
    "start_time": "2024-08-28T23:44:14.462Z"
   },
   {
    "duration": 2,
    "start_time": "2024-08-28T23:44:14.469Z"
   },
   {
    "duration": 3,
    "start_time": "2024-08-28T23:44:14.473Z"
   },
   {
    "duration": 798,
    "start_time": "2024-08-28T23:44:14.477Z"
   },
   {
    "duration": 750,
    "start_time": "2024-08-28T23:44:15.277Z"
   },
   {
    "duration": 4,
    "start_time": "2024-08-28T23:44:16.029Z"
   },
   {
    "duration": 7,
    "start_time": "2024-08-28T23:44:16.035Z"
   },
   {
    "duration": 5,
    "start_time": "2024-08-28T23:44:16.044Z"
   },
   {
    "duration": 8,
    "start_time": "2024-08-28T23:44:16.051Z"
   },
   {
    "duration": 14,
    "start_time": "2024-08-28T23:44:16.061Z"
   },
   {
    "duration": 4,
    "start_time": "2024-08-28T23:44:16.077Z"
   },
   {
    "duration": 41,
    "start_time": "2024-08-28T23:44:16.083Z"
   },
   {
    "duration": 5,
    "start_time": "2024-08-28T23:44:16.126Z"
   },
   {
    "duration": 32,
    "start_time": "2024-08-28T23:44:16.136Z"
   },
   {
    "duration": 11,
    "start_time": "2024-08-28T23:44:16.170Z"
   },
   {
    "duration": 293,
    "start_time": "2024-08-28T23:44:16.183Z"
   },
   {
    "duration": 46,
    "start_time": "2024-08-28T23:44:16.478Z"
   },
   {
    "duration": 5,
    "start_time": "2024-08-28T23:44:16.526Z"
   },
   {
    "duration": 6,
    "start_time": "2024-08-28T23:44:16.532Z"
   },
   {
    "duration": 5,
    "start_time": "2024-08-28T23:44:16.539Z"
   },
   {
    "duration": 5,
    "start_time": "2024-08-28T23:44:16.546Z"
   },
   {
    "duration": 5,
    "start_time": "2024-08-28T23:44:16.552Z"
   },
   {
    "duration": 14,
    "start_time": "2024-08-28T23:44:16.559Z"
   },
   {
    "duration": 5,
    "start_time": "2024-08-28T23:44:16.575Z"
   },
   {
    "duration": 53,
    "start_time": "2024-08-28T23:44:16.582Z"
   },
   {
    "duration": 7,
    "start_time": "2024-08-28T23:44:16.637Z"
   },
   {
    "duration": 411,
    "start_time": "2024-08-28T23:44:16.646Z"
   },
   {
    "duration": 3,
    "start_time": "2024-08-28T23:44:17.058Z"
   },
   {
    "duration": 4,
    "start_time": "2024-08-28T23:44:17.063Z"
   },
   {
    "duration": 162,
    "start_time": "2024-08-28T23:44:17.068Z"
   },
   {
    "duration": 6,
    "start_time": "2024-08-28T23:44:17.231Z"
   },
   {
    "duration": 94,
    "start_time": "2024-08-28T23:44:17.239Z"
   },
   {
    "duration": 218,
    "start_time": "2024-08-28T23:44:17.335Z"
   },
   {
    "duration": 4,
    "start_time": "2024-08-28T23:44:17.555Z"
   },
   {
    "duration": 279,
    "start_time": "2024-08-28T23:44:17.561Z"
   },
   {
    "duration": 227,
    "start_time": "2024-08-28T23:44:17.841Z"
   },
   {
    "duration": 5,
    "start_time": "2024-08-28T23:44:18.070Z"
   },
   {
    "duration": 114,
    "start_time": "2024-08-28T23:44:18.077Z"
   },
   {
    "duration": 194,
    "start_time": "2024-08-28T23:44:18.194Z"
   },
   {
    "duration": 7,
    "start_time": "2024-08-28T23:45:51.543Z"
   },
   {
    "duration": 7,
    "start_time": "2024-08-28T23:46:01.373Z"
   },
   {
    "duration": 434,
    "start_time": "2024-08-28T23:46:07.933Z"
   },
   {
    "duration": 165,
    "start_time": "2024-08-28T23:46:08.369Z"
   },
   {
    "duration": 42,
    "start_time": "2024-08-28T23:46:08.536Z"
   },
   {
    "duration": 10,
    "start_time": "2024-08-28T23:46:08.580Z"
   },
   {
    "duration": 10,
    "start_time": "2024-08-28T23:46:08.592Z"
   },
   {
    "duration": 757,
    "start_time": "2024-08-28T23:46:08.603Z"
   },
   {
    "duration": 95,
    "start_time": "2024-08-28T23:46:09.362Z"
   },
   {
    "duration": 8,
    "start_time": "2024-08-28T23:46:09.458Z"
   },
   {
    "duration": 109,
    "start_time": "2024-08-28T23:46:09.468Z"
   },
   {
    "duration": 96,
    "start_time": "2024-08-28T23:46:09.580Z"
   },
   {
    "duration": 24,
    "start_time": "2024-08-28T23:46:09.678Z"
   },
   {
    "duration": 22,
    "start_time": "2024-08-28T23:46:09.704Z"
   },
   {
    "duration": 3,
    "start_time": "2024-08-28T23:46:09.728Z"
   },
   {
    "duration": 15,
    "start_time": "2024-08-28T23:46:09.733Z"
   },
   {
    "duration": 5,
    "start_time": "2024-08-28T23:46:09.750Z"
   },
   {
    "duration": 2,
    "start_time": "2024-08-28T23:46:09.756Z"
   },
   {
    "duration": 3,
    "start_time": "2024-08-28T23:46:09.760Z"
   },
   {
    "duration": 741,
    "start_time": "2024-08-28T23:46:09.764Z"
   },
   {
    "duration": 759,
    "start_time": "2024-08-28T23:46:10.506Z"
   },
   {
    "duration": 4,
    "start_time": "2024-08-28T23:46:11.267Z"
   },
   {
    "duration": 11,
    "start_time": "2024-08-28T23:46:11.272Z"
   },
   {
    "duration": 4,
    "start_time": "2024-08-28T23:46:11.284Z"
   },
   {
    "duration": 34,
    "start_time": "2024-08-28T23:46:11.290Z"
   },
   {
    "duration": 13,
    "start_time": "2024-08-28T23:46:11.326Z"
   },
   {
    "duration": 4,
    "start_time": "2024-08-28T23:46:11.341Z"
   },
   {
    "duration": 3,
    "start_time": "2024-08-28T23:46:11.347Z"
   },
   {
    "duration": 4,
    "start_time": "2024-08-28T23:46:11.352Z"
   },
   {
    "duration": 30,
    "start_time": "2024-08-28T23:46:11.361Z"
   },
   {
    "duration": 13,
    "start_time": "2024-08-28T23:46:11.423Z"
   },
   {
    "duration": 270,
    "start_time": "2024-08-28T23:46:11.438Z"
   },
   {
    "duration": 48,
    "start_time": "2024-08-28T23:46:11.710Z"
   },
   {
    "duration": 4,
    "start_time": "2024-08-28T23:46:11.760Z"
   },
   {
    "duration": 5,
    "start_time": "2024-08-28T23:46:11.766Z"
   },
   {
    "duration": 6,
    "start_time": "2024-08-28T23:46:11.773Z"
   },
   {
    "duration": 5,
    "start_time": "2024-08-28T23:46:11.781Z"
   },
   {
    "duration": 38,
    "start_time": "2024-08-28T23:46:11.788Z"
   },
   {
    "duration": 15,
    "start_time": "2024-08-28T23:46:11.828Z"
   },
   {
    "duration": 4,
    "start_time": "2024-08-28T23:46:11.845Z"
   },
   {
    "duration": 12,
    "start_time": "2024-08-28T23:46:11.851Z"
   },
   {
    "duration": 7,
    "start_time": "2024-08-28T23:46:11.865Z"
   },
   {
    "duration": 432,
    "start_time": "2024-08-28T23:46:11.873Z"
   },
   {
    "duration": 2,
    "start_time": "2024-08-28T23:46:12.308Z"
   },
   {
    "duration": 5,
    "start_time": "2024-08-28T23:46:12.311Z"
   },
   {
    "duration": 160,
    "start_time": "2024-08-28T23:46:12.317Z"
   },
   {
    "duration": 6,
    "start_time": "2024-08-28T23:46:12.479Z"
   },
   {
    "duration": 108,
    "start_time": "2024-08-28T23:46:12.487Z"
   },
   {
    "duration": 213,
    "start_time": "2024-08-28T23:46:12.596Z"
   },
   {
    "duration": 4,
    "start_time": "2024-08-28T23:46:12.811Z"
   },
   {
    "duration": 248,
    "start_time": "2024-08-28T23:46:12.817Z"
   },
   {
    "duration": 233,
    "start_time": "2024-08-28T23:46:13.067Z"
   },
   {
    "duration": 5,
    "start_time": "2024-08-28T23:46:13.302Z"
   },
   {
    "duration": 95,
    "start_time": "2024-08-28T23:46:13.309Z"
   },
   {
    "duration": 197,
    "start_time": "2024-08-28T23:46:13.406Z"
   },
   {
    "duration": 280,
    "start_time": "2024-08-28T23:52:06.777Z"
   },
   {
    "duration": 240,
    "start_time": "2024-08-28T23:54:07.381Z"
   },
   {
    "duration": 14,
    "start_time": "2024-08-29T00:03:51.869Z"
   },
   {
    "duration": 2,
    "start_time": "2024-08-29T00:08:28.351Z"
   },
   {
    "duration": 77,
    "start_time": "2024-08-29T00:12:32.269Z"
   },
   {
    "duration": 12,
    "start_time": "2024-08-29T00:41:43.007Z"
   },
   {
    "duration": 12,
    "start_time": "2024-08-29T00:42:54.657Z"
   },
   {
    "duration": 5,
    "start_time": "2024-08-29T00:44:13.846Z"
   },
   {
    "duration": 3,
    "start_time": "2024-08-29T00:45:49.389Z"
   },
   {
    "duration": 11,
    "start_time": "2024-08-29T00:47:27.076Z"
   },
   {
    "duration": 415,
    "start_time": "2024-08-29T03:21:29.796Z"
   },
   {
    "duration": 280,
    "start_time": "2024-08-29T03:21:30.213Z"
   },
   {
    "duration": 65,
    "start_time": "2024-08-29T03:21:30.495Z"
   },
   {
    "duration": 11,
    "start_time": "2024-08-29T03:21:30.563Z"
   },
   {
    "duration": 11,
    "start_time": "2024-08-29T03:21:30.576Z"
   },
   {
    "duration": 851,
    "start_time": "2024-08-29T03:21:30.588Z"
   },
   {
    "duration": 94,
    "start_time": "2024-08-29T03:21:31.441Z"
   },
   {
    "duration": 10,
    "start_time": "2024-08-29T03:21:31.538Z"
   },
   {
    "duration": 102,
    "start_time": "2024-08-29T03:21:31.549Z"
   },
   {
    "duration": 103,
    "start_time": "2024-08-29T03:21:31.654Z"
   },
   {
    "duration": 25,
    "start_time": "2024-08-29T03:21:31.758Z"
   },
   {
    "duration": 28,
    "start_time": "2024-08-29T03:21:31.784Z"
   },
   {
    "duration": 4,
    "start_time": "2024-08-29T03:21:31.814Z"
   },
   {
    "duration": 15,
    "start_time": "2024-08-29T03:21:31.820Z"
   },
   {
    "duration": 5,
    "start_time": "2024-08-29T03:21:31.837Z"
   },
   {
    "duration": 2,
    "start_time": "2024-08-29T03:21:31.844Z"
   },
   {
    "duration": 2,
    "start_time": "2024-08-29T03:21:31.848Z"
   },
   {
    "duration": 804,
    "start_time": "2024-08-29T03:21:31.852Z"
   },
   {
    "duration": 814,
    "start_time": "2024-08-29T03:21:32.659Z"
   },
   {
    "duration": 4,
    "start_time": "2024-08-29T03:21:33.475Z"
   },
   {
    "duration": 6,
    "start_time": "2024-08-29T03:21:33.481Z"
   },
   {
    "duration": 5,
    "start_time": "2024-08-29T03:21:33.504Z"
   },
   {
    "duration": 8,
    "start_time": "2024-08-29T03:21:33.510Z"
   },
   {
    "duration": 13,
    "start_time": "2024-08-29T03:21:33.520Z"
   },
   {
    "duration": 4,
    "start_time": "2024-08-29T03:21:33.535Z"
   },
   {
    "duration": 5,
    "start_time": "2024-08-29T03:21:33.541Z"
   },
   {
    "duration": 5,
    "start_time": "2024-08-29T03:21:33.547Z"
   },
   {
    "duration": 72,
    "start_time": "2024-08-29T03:21:33.556Z"
   },
   {
    "duration": 10,
    "start_time": "2024-08-29T03:21:33.630Z"
   },
   {
    "duration": 259,
    "start_time": "2024-08-29T03:21:33.642Z"
   },
   {
    "duration": 50,
    "start_time": "2024-08-29T03:21:33.906Z"
   },
   {
    "duration": 5,
    "start_time": "2024-08-29T03:21:33.958Z"
   },
   {
    "duration": 6,
    "start_time": "2024-08-29T03:21:33.964Z"
   },
   {
    "duration": 5,
    "start_time": "2024-08-29T03:21:33.972Z"
   },
   {
    "duration": 30,
    "start_time": "2024-08-29T03:21:33.978Z"
   },
   {
    "duration": 5,
    "start_time": "2024-08-29T03:21:34.009Z"
   },
   {
    "duration": 15,
    "start_time": "2024-08-29T03:21:34.016Z"
   },
   {
    "duration": 4,
    "start_time": "2024-08-29T03:21:34.033Z"
   },
   {
    "duration": 14,
    "start_time": "2024-08-29T03:21:34.039Z"
   },
   {
    "duration": 9,
    "start_time": "2024-08-29T03:21:34.055Z"
   },
   {
    "duration": 450,
    "start_time": "2024-08-29T03:21:34.065Z"
   },
   {
    "duration": 13,
    "start_time": "2024-08-29T03:21:34.517Z"
   },
   {
    "duration": 157,
    "start_time": "2024-08-29T03:21:34.532Z"
   },
   {
    "duration": 6,
    "start_time": "2024-08-29T03:21:34.691Z"
   },
   {
    "duration": 86,
    "start_time": "2024-08-29T03:21:34.706Z"
   },
   {
    "duration": 202,
    "start_time": "2024-08-29T03:21:34.794Z"
   },
   {
    "duration": 7,
    "start_time": "2024-08-29T03:21:34.998Z"
   },
   {
    "duration": 284,
    "start_time": "2024-08-29T03:21:35.007Z"
   },
   {
    "duration": 221,
    "start_time": "2024-08-29T03:21:35.292Z"
   },
   {
    "duration": 6,
    "start_time": "2024-08-29T03:21:35.515Z"
   },
   {
    "duration": 102,
    "start_time": "2024-08-29T03:21:35.522Z"
   },
   {
    "duration": 195,
    "start_time": "2024-08-29T03:21:35.626Z"
   },
   {
    "duration": 8,
    "start_time": "2024-08-29T03:32:49.577Z"
   },
   {
    "duration": 179,
    "start_time": "2024-08-29T14:30:07.480Z"
   },
   {
    "duration": 12,
    "start_time": "2024-08-29T14:30:17.724Z"
   },
   {
    "duration": 14,
    "start_time": "2024-08-29T14:30:36.077Z"
   },
   {
    "duration": 2182,
    "start_time": "2024-08-29T14:30:47.005Z"
   },
   {
    "duration": 180,
    "start_time": "2024-08-29T14:30:49.189Z"
   },
   {
    "duration": 71,
    "start_time": "2024-08-29T14:30:49.371Z"
   },
   {
    "duration": 11,
    "start_time": "2024-08-29T14:30:49.444Z"
   },
   {
    "duration": 10,
    "start_time": "2024-08-29T14:30:49.457Z"
   },
   {
    "duration": 822,
    "start_time": "2024-08-29T14:30:49.469Z"
   },
   {
    "duration": 99,
    "start_time": "2024-08-29T14:30:50.293Z"
   },
   {
    "duration": 17,
    "start_time": "2024-08-29T14:30:50.393Z"
   },
   {
    "duration": 86,
    "start_time": "2024-08-29T14:30:50.412Z"
   },
   {
    "duration": 88,
    "start_time": "2024-08-29T14:30:50.500Z"
   },
   {
    "duration": 32,
    "start_time": "2024-08-29T14:30:50.590Z"
   },
   {
    "duration": 12,
    "start_time": "2024-08-29T14:30:50.624Z"
   },
   {
    "duration": 3,
    "start_time": "2024-08-29T14:30:50.638Z"
   },
   {
    "duration": 16,
    "start_time": "2024-08-29T14:30:50.645Z"
   },
   {
    "duration": 4,
    "start_time": "2024-08-29T14:30:50.663Z"
   },
   {
    "duration": 3,
    "start_time": "2024-08-29T14:30:50.669Z"
   },
   {
    "duration": 36,
    "start_time": "2024-08-29T14:30:50.673Z"
   },
   {
    "duration": 770,
    "start_time": "2024-08-29T14:30:50.710Z"
   },
   {
    "duration": 791,
    "start_time": "2024-08-29T14:30:51.481Z"
   },
   {
    "duration": 5,
    "start_time": "2024-08-29T14:30:52.274Z"
   },
   {
    "duration": 7,
    "start_time": "2024-08-29T14:30:52.281Z"
   },
   {
    "duration": 23,
    "start_time": "2024-08-29T14:30:52.290Z"
   },
   {
    "duration": 10,
    "start_time": "2024-08-29T14:30:52.314Z"
   },
   {
    "duration": 14,
    "start_time": "2024-08-29T14:30:52.325Z"
   },
   {
    "duration": 4,
    "start_time": "2024-08-29T14:30:52.340Z"
   },
   {
    "duration": 4,
    "start_time": "2024-08-29T14:30:52.346Z"
   },
   {
    "duration": 5,
    "start_time": "2024-08-29T14:30:52.351Z"
   },
   {
    "duration": 68,
    "start_time": "2024-08-29T14:30:52.358Z"
   },
   {
    "duration": 11,
    "start_time": "2024-08-29T14:30:52.427Z"
   },
   {
    "duration": 251,
    "start_time": "2024-08-29T14:30:52.439Z"
   },
   {
    "duration": 50,
    "start_time": "2024-08-29T14:30:52.692Z"
   },
   {
    "duration": 5,
    "start_time": "2024-08-29T14:30:52.744Z"
   },
   {
    "duration": 6,
    "start_time": "2024-08-29T14:30:52.751Z"
   },
   {
    "duration": 6,
    "start_time": "2024-08-29T14:30:52.758Z"
   },
   {
    "duration": 6,
    "start_time": "2024-08-29T14:30:52.765Z"
   },
   {
    "duration": 38,
    "start_time": "2024-08-29T14:30:52.772Z"
   },
   {
    "duration": 14,
    "start_time": "2024-08-29T14:30:52.812Z"
   },
   {
    "duration": 5,
    "start_time": "2024-08-29T14:30:52.828Z"
   },
   {
    "duration": 13,
    "start_time": "2024-08-29T14:30:52.834Z"
   },
   {
    "duration": 7,
    "start_time": "2024-08-29T14:30:52.849Z"
   },
   {
    "duration": 453,
    "start_time": "2024-08-29T14:30:52.860Z"
   },
   {
    "duration": 11,
    "start_time": "2024-08-29T14:30:53.315Z"
   },
   {
    "duration": 159,
    "start_time": "2024-08-29T14:30:53.328Z"
   },
   {
    "duration": 6,
    "start_time": "2024-08-29T14:30:53.489Z"
   },
   {
    "duration": 98,
    "start_time": "2024-08-29T14:30:53.496Z"
   },
   {
    "duration": 221,
    "start_time": "2024-08-29T14:30:53.596Z"
   },
   {
    "duration": 5,
    "start_time": "2024-08-29T14:30:53.819Z"
   },
   {
    "duration": 243,
    "start_time": "2024-08-29T14:30:53.825Z"
   },
   {
    "duration": 285,
    "start_time": "2024-08-29T14:30:54.070Z"
   },
   {
    "duration": 6,
    "start_time": "2024-08-29T14:30:54.357Z"
   },
   {
    "duration": 100,
    "start_time": "2024-08-29T14:30:54.365Z"
   },
   {
    "duration": 205,
    "start_time": "2024-08-29T14:30:54.467Z"
   },
   {
    "duration": 153,
    "start_time": "2024-08-29T14:31:07.174Z"
   },
   {
    "duration": 134,
    "start_time": "2024-08-29T14:31:37.452Z"
   },
   {
    "duration": 44,
    "start_time": "2024-08-29T14:32:06.072Z"
   },
   {
    "duration": 15,
    "start_time": "2024-08-29T14:32:14.216Z"
   },
   {
    "duration": 14,
    "start_time": "2024-08-29T14:32:23.327Z"
   },
   {
    "duration": 136,
    "start_time": "2024-08-29T14:32:37.708Z"
   },
   {
    "duration": 704,
    "start_time": "2024-08-29T14:32:53.775Z"
   },
   {
    "duration": 78,
    "start_time": "2024-08-29T14:33:23.875Z"
   },
   {
    "duration": 80,
    "start_time": "2024-08-29T14:33:33.878Z"
   },
   {
    "duration": 4,
    "start_time": "2024-08-29T14:34:17.030Z"
   },
   {
    "duration": 4,
    "start_time": "2024-08-29T14:34:37.206Z"
   },
   {
    "duration": 4,
    "start_time": "2024-08-29T14:35:03.069Z"
   },
   {
    "duration": 1142,
    "start_time": "2024-08-29T14:38:05.138Z"
   },
   {
    "duration": 915,
    "start_time": "2024-08-29T14:38:19.744Z"
   },
   {
    "duration": 1754,
    "start_time": "2024-08-29T14:39:29.476Z"
   },
   {
    "duration": 802,
    "start_time": "2024-08-29T14:40:01.868Z"
   },
   {
    "duration": 1468,
    "start_time": "2024-08-29T14:42:35.360Z"
   },
   {
    "duration": 629,
    "start_time": "2024-08-29T14:43:22.326Z"
   },
   {
    "duration": 166,
    "start_time": "2024-08-29T14:46:14.886Z"
   },
   {
    "duration": 15,
    "start_time": "2024-08-29T14:47:12.097Z"
   },
   {
    "duration": 164,
    "start_time": "2024-08-29T14:47:46.940Z"
   },
   {
    "duration": 165,
    "start_time": "2024-08-29T14:49:03.574Z"
   },
   {
    "duration": 175,
    "start_time": "2024-08-29T14:49:38.159Z"
   },
   {
    "duration": 201,
    "start_time": "2024-08-29T14:52:23.663Z"
   },
   {
    "duration": 24,
    "start_time": "2024-08-29T14:56:37.182Z"
   },
   {
    "duration": 6,
    "start_time": "2024-08-29T14:57:18.595Z"
   },
   {
    "duration": 203,
    "start_time": "2024-08-29T14:59:07.815Z"
   },
   {
    "duration": 43,
    "start_time": "2024-08-29T14:59:22.530Z"
   },
   {
    "duration": 46,
    "start_time": "2024-08-29T15:00:04.741Z"
   },
   {
    "duration": 42,
    "start_time": "2024-08-29T15:00:23.529Z"
   },
   {
    "duration": 42,
    "start_time": "2024-08-29T15:00:45.000Z"
   },
   {
    "duration": 44,
    "start_time": "2024-08-29T15:02:11.073Z"
   },
   {
    "duration": 41,
    "start_time": "2024-08-29T15:02:52.603Z"
   },
   {
    "duration": 42,
    "start_time": "2024-08-29T15:05:45.371Z"
   },
   {
    "duration": 40,
    "start_time": "2024-08-29T15:05:52.383Z"
   },
   {
    "duration": 461,
    "start_time": "2024-08-29T15:06:07.007Z"
   },
   {
    "duration": 183,
    "start_time": "2024-08-29T15:06:07.471Z"
   },
   {
    "duration": 55,
    "start_time": "2024-08-29T15:06:07.656Z"
   },
   {
    "duration": 13,
    "start_time": "2024-08-29T15:06:07.714Z"
   },
   {
    "duration": 14,
    "start_time": "2024-08-29T15:06:07.734Z"
   },
   {
    "duration": 750,
    "start_time": "2024-08-29T15:06:07.749Z"
   },
   {
    "duration": 92,
    "start_time": "2024-08-29T15:06:08.501Z"
   },
   {
    "duration": 18,
    "start_time": "2024-08-29T15:06:08.595Z"
   },
   {
    "duration": 100,
    "start_time": "2024-08-29T15:06:08.615Z"
   },
   {
    "duration": 91,
    "start_time": "2024-08-29T15:06:08.718Z"
   },
   {
    "duration": 32,
    "start_time": "2024-08-29T15:06:08.810Z"
   },
   {
    "duration": 12,
    "start_time": "2024-08-29T15:06:08.845Z"
   },
   {
    "duration": 4,
    "start_time": "2024-08-29T15:06:08.858Z"
   },
   {
    "duration": 16,
    "start_time": "2024-08-29T15:06:08.864Z"
   },
   {
    "duration": 6,
    "start_time": "2024-08-29T15:06:08.909Z"
   },
   {
    "duration": 3,
    "start_time": "2024-08-29T15:06:08.917Z"
   },
   {
    "duration": 4,
    "start_time": "2024-08-29T15:06:08.922Z"
   },
   {
    "duration": 829,
    "start_time": "2024-08-29T15:06:08.928Z"
   },
   {
    "duration": 731,
    "start_time": "2024-08-29T15:06:09.759Z"
   },
   {
    "duration": 4,
    "start_time": "2024-08-29T15:06:10.492Z"
   },
   {
    "duration": 13,
    "start_time": "2024-08-29T15:06:10.498Z"
   },
   {
    "duration": 5,
    "start_time": "2024-08-29T15:06:10.513Z"
   },
   {
    "duration": 9,
    "start_time": "2024-08-29T15:06:10.520Z"
   },
   {
    "duration": 14,
    "start_time": "2024-08-29T15:06:10.530Z"
   },
   {
    "duration": 5,
    "start_time": "2024-08-29T15:06:10.546Z"
   },
   {
    "duration": 4,
    "start_time": "2024-08-29T15:06:10.553Z"
   },
   {
    "duration": 4,
    "start_time": "2024-08-29T15:06:10.558Z"
   },
   {
    "duration": 72,
    "start_time": "2024-08-29T15:06:10.566Z"
   },
   {
    "duration": 17,
    "start_time": "2024-08-29T15:06:10.641Z"
   },
   {
    "duration": 292,
    "start_time": "2024-08-29T15:06:10.660Z"
   },
   {
    "duration": 45,
    "start_time": "2024-08-29T15:06:10.954Z"
   },
   {
    "duration": 6,
    "start_time": "2024-08-29T15:06:11.009Z"
   },
   {
    "duration": 6,
    "start_time": "2024-08-29T15:06:11.018Z"
   },
   {
    "duration": 6,
    "start_time": "2024-08-29T15:06:11.027Z"
   },
   {
    "duration": 221,
    "start_time": "2024-08-29T15:06:11.035Z"
   },
   {
    "duration": 8,
    "start_time": "2024-08-29T15:06:11.260Z"
   },
   {
    "duration": 141,
    "start_time": "2024-08-29T15:06:11.270Z"
   },
   {
    "duration": 6,
    "start_time": "2024-08-29T15:06:11.412Z"
   },
   {
    "duration": 15,
    "start_time": "2024-08-29T15:06:11.420Z"
   },
   {
    "duration": 5,
    "start_time": "2024-08-29T15:06:11.436Z"
   },
   {
    "duration": 13,
    "start_time": "2024-08-29T15:06:11.442Z"
   },
   {
    "duration": 7,
    "start_time": "2024-08-29T15:06:11.457Z"
   },
   {
    "duration": 445,
    "start_time": "2024-08-29T15:06:11.466Z"
   },
   {
    "duration": 12,
    "start_time": "2024-08-29T15:06:11.913Z"
   },
   {
    "duration": 159,
    "start_time": "2024-08-29T15:06:11.927Z"
   },
   {
    "duration": 6,
    "start_time": "2024-08-29T15:06:12.088Z"
   },
   {
    "duration": 97,
    "start_time": "2024-08-29T15:06:12.096Z"
   },
   {
    "duration": 239,
    "start_time": "2024-08-29T15:06:12.194Z"
   },
   {
    "duration": 5,
    "start_time": "2024-08-29T15:06:12.435Z"
   },
   {
    "duration": 245,
    "start_time": "2024-08-29T15:06:12.441Z"
   },
   {
    "duration": 232,
    "start_time": "2024-08-29T15:06:12.688Z"
   },
   {
    "duration": 7,
    "start_time": "2024-08-29T15:06:12.922Z"
   },
   {
    "duration": 104,
    "start_time": "2024-08-29T15:06:12.931Z"
   },
   {
    "duration": 203,
    "start_time": "2024-08-29T15:06:13.037Z"
   },
   {
    "duration": 103,
    "start_time": "2024-08-29T15:06:24.597Z"
   },
   {
    "duration": 5,
    "start_time": "2024-08-29T15:07:15.617Z"
   },
   {
    "duration": 47,
    "start_time": "2024-08-29T15:07:20.279Z"
   },
   {
    "duration": 46,
    "start_time": "2024-08-29T15:07:36.537Z"
   },
   {
    "duration": 53,
    "start_time": "2024-08-29T15:07:37.261Z"
   },
   {
    "duration": 228,
    "start_time": "2024-08-29T15:07:51.954Z"
   },
   {
    "duration": 46,
    "start_time": "2024-08-29T15:08:04.597Z"
   },
   {
    "duration": 66,
    "start_time": "2024-08-29T15:08:57.011Z"
   },
   {
    "duration": 4,
    "start_time": "2024-08-29T15:09:19.892Z"
   },
   {
    "duration": 597,
    "start_time": "2024-08-29T15:09:27.079Z"
   },
   {
    "duration": 5,
    "start_time": "2024-08-29T15:09:39.246Z"
   },
   {
    "duration": 4,
    "start_time": "2024-08-29T15:09:57.240Z"
   },
   {
    "duration": 61,
    "start_time": "2024-08-29T15:10:12.528Z"
   },
   {
    "duration": 38,
    "start_time": "2024-08-29T15:10:24.596Z"
   },
   {
    "duration": 30,
    "start_time": "2024-08-29T15:10:35.240Z"
   },
   {
    "duration": 4,
    "start_time": "2024-08-29T15:10:43.207Z"
   },
   {
    "duration": 4,
    "start_time": "2024-08-29T15:10:48.510Z"
   },
   {
    "duration": 48,
    "start_time": "2024-08-29T15:11:59.086Z"
   },
   {
    "duration": 80,
    "start_time": "2024-08-29T15:12:13.996Z"
   },
   {
    "duration": 5,
    "start_time": "2024-08-29T15:13:36.584Z"
   },
   {
    "duration": 134,
    "start_time": "2024-08-29T15:13:41.589Z"
   },
   {
    "duration": 124,
    "start_time": "2024-08-29T15:13:46.952Z"
   },
   {
    "duration": 2168,
    "start_time": "2024-08-29T16:22:30.200Z"
   },
   {
    "duration": 166,
    "start_time": "2024-08-29T16:22:32.370Z"
   },
   {
    "duration": 74,
    "start_time": "2024-08-29T16:22:32.538Z"
   },
   {
    "duration": 14,
    "start_time": "2024-08-29T16:22:32.614Z"
   },
   {
    "duration": 14,
    "start_time": "2024-08-29T16:22:32.631Z"
   },
   {
    "duration": 859,
    "start_time": "2024-08-29T16:22:32.646Z"
   },
   {
    "duration": 94,
    "start_time": "2024-08-29T16:22:33.507Z"
   },
   {
    "duration": 8,
    "start_time": "2024-08-29T16:22:33.604Z"
   },
   {
    "duration": 107,
    "start_time": "2024-08-29T16:22:33.614Z"
   },
   {
    "duration": 87,
    "start_time": "2024-08-29T16:22:33.723Z"
   },
   {
    "duration": 27,
    "start_time": "2024-08-29T16:22:33.812Z"
   },
   {
    "duration": 11,
    "start_time": "2024-08-29T16:22:33.841Z"
   },
   {
    "duration": 4,
    "start_time": "2024-08-29T16:22:33.854Z"
   },
   {
    "duration": 15,
    "start_time": "2024-08-29T16:22:33.886Z"
   },
   {
    "duration": 4,
    "start_time": "2024-08-29T16:22:33.903Z"
   },
   {
    "duration": 3,
    "start_time": "2024-08-29T16:22:33.909Z"
   },
   {
    "duration": 4,
    "start_time": "2024-08-29T16:22:33.913Z"
   },
   {
    "duration": 763,
    "start_time": "2024-08-29T16:22:33.918Z"
   },
   {
    "duration": 650,
    "start_time": "2024-08-29T16:22:34.686Z"
   },
   {
    "duration": 4,
    "start_time": "2024-08-29T16:22:35.338Z"
   },
   {
    "duration": 7,
    "start_time": "2024-08-29T16:22:35.344Z"
   },
   {
    "duration": 4,
    "start_time": "2024-08-29T16:22:35.353Z"
   },
   {
    "duration": 30,
    "start_time": "2024-08-29T16:22:35.359Z"
   },
   {
    "duration": 13,
    "start_time": "2024-08-29T16:22:35.391Z"
   },
   {
    "duration": 4,
    "start_time": "2024-08-29T16:22:35.406Z"
   },
   {
    "duration": 4,
    "start_time": "2024-08-29T16:22:35.411Z"
   },
   {
    "duration": 3,
    "start_time": "2024-08-29T16:22:35.417Z"
   },
   {
    "duration": 29,
    "start_time": "2024-08-29T16:22:35.422Z"
   },
   {
    "duration": 49,
    "start_time": "2024-08-29T16:22:35.453Z"
   },
   {
    "duration": 247,
    "start_time": "2024-08-29T16:22:35.503Z"
   },
   {
    "duration": 49,
    "start_time": "2024-08-29T16:22:35.753Z"
   },
   {
    "duration": 4,
    "start_time": "2024-08-29T16:22:35.804Z"
   },
   {
    "duration": 6,
    "start_time": "2024-08-29T16:22:35.810Z"
   },
   {
    "duration": 6,
    "start_time": "2024-08-29T16:22:35.817Z"
   },
   {
    "duration": 207,
    "start_time": "2024-08-29T16:22:35.824Z"
   },
   {
    "duration": 357,
    "start_time": "2024-08-29T16:22:36.032Z"
   },
   {
    "duration": 129,
    "start_time": "2024-08-29T16:22:36.391Z"
   },
   {
    "duration": 5,
    "start_time": "2024-08-29T16:22:36.522Z"
   },
   {
    "duration": 13,
    "start_time": "2024-08-29T16:22:36.528Z"
   },
   {
    "duration": 4,
    "start_time": "2024-08-29T16:22:36.543Z"
   },
   {
    "duration": 47,
    "start_time": "2024-08-29T16:22:36.552Z"
   },
   {
    "duration": 22,
    "start_time": "2024-08-29T16:22:36.601Z"
   },
   {
    "duration": 445,
    "start_time": "2024-08-29T16:22:36.624Z"
   },
   {
    "duration": 16,
    "start_time": "2024-08-29T16:22:37.071Z"
   },
   {
    "duration": 153,
    "start_time": "2024-08-29T16:22:37.089Z"
   },
   {
    "duration": 6,
    "start_time": "2024-08-29T16:22:37.244Z"
   },
   {
    "duration": 98,
    "start_time": "2024-08-29T16:22:37.252Z"
   },
   {
    "duration": 215,
    "start_time": "2024-08-29T16:22:37.352Z"
   },
   {
    "duration": 4,
    "start_time": "2024-08-29T16:22:37.569Z"
   },
   {
    "duration": 246,
    "start_time": "2024-08-29T16:22:37.574Z"
   },
   {
    "duration": 244,
    "start_time": "2024-08-29T16:22:37.821Z"
   },
   {
    "duration": 6,
    "start_time": "2024-08-29T16:22:38.067Z"
   },
   {
    "duration": 99,
    "start_time": "2024-08-29T16:22:38.074Z"
   },
   {
    "duration": 204,
    "start_time": "2024-08-29T16:22:38.175Z"
   },
   {
    "duration": 405,
    "start_time": "2024-08-29T16:23:53.334Z"
   },
   {
    "duration": 38,
    "start_time": "2024-08-29T16:24:56.818Z"
   },
   {
    "duration": 120,
    "start_time": "2024-08-29T16:25:04.089Z"
   },
   {
    "duration": 28,
    "start_time": "2024-08-29T16:25:20.164Z"
   },
   {
    "duration": 435,
    "start_time": "2024-08-29T16:25:26.327Z"
   },
   {
    "duration": 169,
    "start_time": "2024-08-29T16:25:26.764Z"
   },
   {
    "duration": 54,
    "start_time": "2024-08-29T16:25:26.934Z"
   },
   {
    "duration": 12,
    "start_time": "2024-08-29T16:25:26.989Z"
   },
   {
    "duration": 12,
    "start_time": "2024-08-29T16:25:27.004Z"
   },
   {
    "duration": 746,
    "start_time": "2024-08-29T16:25:27.018Z"
   },
   {
    "duration": 93,
    "start_time": "2024-08-29T16:25:27.766Z"
   },
   {
    "duration": 10,
    "start_time": "2024-08-29T16:25:27.861Z"
   },
   {
    "duration": 97,
    "start_time": "2024-08-29T16:25:27.873Z"
   },
   {
    "duration": 84,
    "start_time": "2024-08-29T16:25:27.972Z"
   },
   {
    "duration": 39,
    "start_time": "2024-08-29T16:25:28.058Z"
   },
   {
    "duration": 12,
    "start_time": "2024-08-29T16:25:28.099Z"
   },
   {
    "duration": 4,
    "start_time": "2024-08-29T16:25:28.112Z"
   },
   {
    "duration": 23,
    "start_time": "2024-08-29T16:25:28.121Z"
   },
   {
    "duration": 5,
    "start_time": "2024-08-29T16:25:28.146Z"
   },
   {
    "duration": 4,
    "start_time": "2024-08-29T16:25:28.152Z"
   },
   {
    "duration": 3,
    "start_time": "2024-08-29T16:25:28.187Z"
   },
   {
    "duration": 749,
    "start_time": "2024-08-29T16:25:28.192Z"
   },
   {
    "duration": 645,
    "start_time": "2024-08-29T16:25:28.943Z"
   },
   {
    "duration": 5,
    "start_time": "2024-08-29T16:25:29.590Z"
   },
   {
    "duration": 7,
    "start_time": "2024-08-29T16:25:29.596Z"
   },
   {
    "duration": 5,
    "start_time": "2024-08-29T16:25:29.605Z"
   },
   {
    "duration": 8,
    "start_time": "2024-08-29T16:25:29.612Z"
   },
   {
    "duration": 14,
    "start_time": "2024-08-29T16:25:29.622Z"
   },
   {
    "duration": 5,
    "start_time": "2024-08-29T16:25:29.638Z"
   },
   {
    "duration": 45,
    "start_time": "2024-08-29T16:25:29.645Z"
   },
   {
    "duration": 5,
    "start_time": "2024-08-29T16:25:29.691Z"
   },
   {
    "duration": 30,
    "start_time": "2024-08-29T16:25:29.697Z"
   },
   {
    "duration": 16,
    "start_time": "2024-08-29T16:25:29.728Z"
   },
   {
    "duration": 259,
    "start_time": "2024-08-29T16:25:29.746Z"
   },
   {
    "duration": 42,
    "start_time": "2024-08-29T16:25:30.007Z"
   },
   {
    "duration": 4,
    "start_time": "2024-08-29T16:25:30.051Z"
   },
   {
    "duration": 30,
    "start_time": "2024-08-29T16:25:30.058Z"
   },
   {
    "duration": 7,
    "start_time": "2024-08-29T16:25:30.089Z"
   },
   {
    "duration": 193,
    "start_time": "2024-08-29T16:25:30.097Z"
   },
   {
    "duration": 6,
    "start_time": "2024-08-29T16:25:30.292Z"
   },
   {
    "duration": 128,
    "start_time": "2024-08-29T16:25:30.299Z"
   },
   {
    "duration": 4,
    "start_time": "2024-08-29T16:25:30.429Z"
   },
   {
    "duration": 13,
    "start_time": "2024-08-29T16:25:30.436Z"
   },
   {
    "duration": 4,
    "start_time": "2024-08-29T16:25:30.451Z"
   },
   {
    "duration": 32,
    "start_time": "2024-08-29T16:25:30.461Z"
   },
   {
    "duration": 7,
    "start_time": "2024-08-29T16:25:30.495Z"
   },
   {
    "duration": 409,
    "start_time": "2024-08-29T16:25:30.504Z"
   },
   {
    "duration": 12,
    "start_time": "2024-08-29T16:25:30.915Z"
   },
   {
    "duration": 159,
    "start_time": "2024-08-29T16:25:30.929Z"
   },
   {
    "duration": 6,
    "start_time": "2024-08-29T16:25:31.090Z"
   },
   {
    "duration": 98,
    "start_time": "2024-08-29T16:25:31.097Z"
   },
   {
    "duration": 214,
    "start_time": "2024-08-29T16:25:31.197Z"
   },
   {
    "duration": 4,
    "start_time": "2024-08-29T16:25:31.413Z"
   },
   {
    "duration": 238,
    "start_time": "2024-08-29T16:25:31.419Z"
   },
   {
    "duration": 231,
    "start_time": "2024-08-29T16:25:31.659Z"
   },
   {
    "duration": 6,
    "start_time": "2024-08-29T16:25:31.892Z"
   },
   {
    "duration": 100,
    "start_time": "2024-08-29T16:25:31.899Z"
   },
   {
    "duration": 248,
    "start_time": "2024-08-29T16:25:32.001Z"
   },
   {
    "duration": 132,
    "start_time": "2024-08-29T16:27:01.745Z"
   },
   {
    "duration": 125,
    "start_time": "2024-08-29T16:27:18.229Z"
   },
   {
    "duration": 6,
    "start_time": "2024-08-29T16:27:34.618Z"
   },
   {
    "duration": 4,
    "start_time": "2024-08-29T16:28:13.220Z"
   },
   {
    "duration": 115,
    "start_time": "2024-08-29T16:28:26.037Z"
   },
   {
    "duration": 425,
    "start_time": "2024-08-29T16:29:08.013Z"
   },
   {
    "duration": 166,
    "start_time": "2024-08-29T16:29:08.440Z"
   },
   {
    "duration": 44,
    "start_time": "2024-08-29T16:29:08.607Z"
   },
   {
    "duration": 13,
    "start_time": "2024-08-29T16:29:08.653Z"
   },
   {
    "duration": 13,
    "start_time": "2024-08-29T16:29:08.686Z"
   },
   {
    "duration": 740,
    "start_time": "2024-08-29T16:29:08.700Z"
   },
   {
    "duration": 90,
    "start_time": "2024-08-29T16:29:09.442Z"
   },
   {
    "duration": 8,
    "start_time": "2024-08-29T16:29:09.534Z"
   },
   {
    "duration": 102,
    "start_time": "2024-08-29T16:29:09.544Z"
   },
   {
    "duration": 88,
    "start_time": "2024-08-29T16:29:09.650Z"
   },
   {
    "duration": 26,
    "start_time": "2024-08-29T16:29:09.739Z"
   },
   {
    "duration": 24,
    "start_time": "2024-08-29T16:29:09.767Z"
   },
   {
    "duration": 4,
    "start_time": "2024-08-29T16:29:09.792Z"
   },
   {
    "duration": 15,
    "start_time": "2024-08-29T16:29:09.797Z"
   },
   {
    "duration": 4,
    "start_time": "2024-08-29T16:29:09.814Z"
   },
   {
    "duration": 3,
    "start_time": "2024-08-29T16:29:09.820Z"
   },
   {
    "duration": 4,
    "start_time": "2024-08-29T16:29:09.824Z"
   },
   {
    "duration": 767,
    "start_time": "2024-08-29T16:29:09.829Z"
   },
   {
    "duration": 630,
    "start_time": "2024-08-29T16:29:10.598Z"
   },
   {
    "duration": 4,
    "start_time": "2024-08-29T16:29:11.230Z"
   },
   {
    "duration": 7,
    "start_time": "2024-08-29T16:29:11.236Z"
   },
   {
    "duration": 4,
    "start_time": "2024-08-29T16:29:11.247Z"
   },
   {
    "duration": 8,
    "start_time": "2024-08-29T16:29:11.253Z"
   },
   {
    "duration": 13,
    "start_time": "2024-08-29T16:29:11.287Z"
   },
   {
    "duration": 4,
    "start_time": "2024-08-29T16:29:11.302Z"
   },
   {
    "duration": 4,
    "start_time": "2024-08-29T16:29:11.308Z"
   },
   {
    "duration": 3,
    "start_time": "2024-08-29T16:29:11.314Z"
   },
   {
    "duration": 29,
    "start_time": "2024-08-29T16:29:11.321Z"
   },
   {
    "duration": 47,
    "start_time": "2024-08-29T16:29:11.351Z"
   },
   {
    "duration": 259,
    "start_time": "2024-08-29T16:29:11.400Z"
   },
   {
    "duration": 48,
    "start_time": "2024-08-29T16:29:11.661Z"
   },
   {
    "duration": 4,
    "start_time": "2024-08-29T16:29:11.711Z"
   },
   {
    "duration": 5,
    "start_time": "2024-08-29T16:29:11.716Z"
   },
   {
    "duration": 5,
    "start_time": "2024-08-29T16:29:11.723Z"
   },
   {
    "duration": 211,
    "start_time": "2024-08-29T16:29:11.730Z"
   },
   {
    "duration": 7,
    "start_time": "2024-08-29T16:29:11.942Z"
   },
   {
    "duration": 131,
    "start_time": "2024-08-29T16:29:11.950Z"
   },
   {
    "duration": 4,
    "start_time": "2024-08-29T16:29:12.086Z"
   },
   {
    "duration": 14,
    "start_time": "2024-08-29T16:29:12.092Z"
   },
   {
    "duration": 4,
    "start_time": "2024-08-29T16:29:12.107Z"
   },
   {
    "duration": 13,
    "start_time": "2024-08-29T16:29:12.113Z"
   },
   {
    "duration": 7,
    "start_time": "2024-08-29T16:29:12.128Z"
   },
   {
    "duration": 424,
    "start_time": "2024-08-29T16:29:12.137Z"
   },
   {
    "duration": 11,
    "start_time": "2024-08-29T16:29:12.563Z"
   },
   {
    "duration": 156,
    "start_time": "2024-08-29T16:29:12.576Z"
   },
   {
    "duration": 5,
    "start_time": "2024-08-29T16:29:12.734Z"
   },
   {
    "duration": 101,
    "start_time": "2024-08-29T16:29:12.741Z"
   },
   {
    "duration": 211,
    "start_time": "2024-08-29T16:29:12.844Z"
   },
   {
    "duration": 5,
    "start_time": "2024-08-29T16:29:13.057Z"
   },
   {
    "duration": 264,
    "start_time": "2024-08-29T16:29:13.064Z"
   },
   {
    "duration": 236,
    "start_time": "2024-08-29T16:29:13.330Z"
   },
   {
    "duration": 6,
    "start_time": "2024-08-29T16:29:13.568Z"
   },
   {
    "duration": 99,
    "start_time": "2024-08-29T16:29:13.576Z"
   },
   {
    "duration": 204,
    "start_time": "2024-08-29T16:29:13.677Z"
   }
  ],
  "kernelspec": {
   "display_name": "base",
   "language": "python",
   "name": "python3"
  },
  "language_info": {
   "codemirror_mode": {
    "name": "ipython",
    "version": 3
   },
   "file_extension": ".py",
   "mimetype": "text/x-python",
   "name": "python",
   "nbconvert_exporter": "python",
   "pygments_lexer": "ipython3",
   "version": "3.12.4"
  },
  "toc": {
   "base_numbering": 1,
   "nav_menu": {},
   "number_sections": true,
   "sideBar": true,
   "skip_h1_title": true,
   "title_cell": "Table of Contents",
   "title_sidebar": "Contents",
   "toc_cell": false,
   "toc_position": {},
   "toc_section_display": true,
   "toc_window_display": false
  }
 },
 "nbformat": 4,
 "nbformat_minor": 5
}
