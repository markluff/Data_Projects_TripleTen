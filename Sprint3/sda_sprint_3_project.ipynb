{
 "cells": [
  {
   "cell_type": "markdown",
   "metadata": {},
   "source": [
    "# Using Statistical Data Analysis to assist Telecom company Megaline with analyzing consumer behavior"
   ]
  },
  {
   "cell_type": "markdown",
   "metadata": {},
   "source": [
    "As an analyst for Megaline, my task in this project is to evaluate the data about the customers usage of the phone service. There are two different plans, the Surf plan and the Ultimate plan. I will look at customer behavior concerning phone calls, call minutes, messages, and internet usage. Each of these behaviors correlate to revenue for Megaline. There are included quantities of each of these for each plan, and then there are overage charges. My task is to find out which of these plans drives more revenue for Megaline so that I can offer helpful feedback to aid in business decisions surrounding these two plans. In the end I will check to see if there is any statistically significant difference between the two plans. "
   ]
  },
  {
   "cell_type": "markdown",
   "metadata": {},
   "source": [
    "## Initialization"
   ]
  },
  {
   "cell_type": "code",
   "execution_count": 1,
   "metadata": {},
   "outputs": [],
   "source": [
    "#Here I'm simply importing the tools that I'm going to need for this project\n",
    "import pandas as pd\n",
    "import numpy as np\n",
    "import math\n",
    "from matplotlib import pyplot as plt"
   ]
  },
  {
   "cell_type": "markdown",
   "metadata": {},
   "source": [
    "## Load data"
   ]
  },
  {
   "cell_type": "code",
   "execution_count": 2,
   "metadata": {},
   "outputs": [
    {
     "data": {
      "text/html": [
       "<div>\n",
       "<style scoped>\n",
       "    .dataframe tbody tr th:only-of-type {\n",
       "        vertical-align: middle;\n",
       "    }\n",
       "\n",
       "    .dataframe tbody tr th {\n",
       "        vertical-align: top;\n",
       "    }\n",
       "\n",
       "    .dataframe thead th {\n",
       "        text-align: right;\n",
       "    }\n",
       "</style>\n",
       "<table border=\"1\" class=\"dataframe\">\n",
       "  <thead>\n",
       "    <tr style=\"text-align: right;\">\n",
       "      <th></th>\n",
       "      <th>id</th>\n",
       "      <th>user_id</th>\n",
       "      <th>call_date</th>\n",
       "      <th>duration</th>\n",
       "    </tr>\n",
       "  </thead>\n",
       "  <tbody>\n",
       "    <tr>\n",
       "      <th>0</th>\n",
       "      <td>1000_93</td>\n",
       "      <td>1000</td>\n",
       "      <td>2018-12-27</td>\n",
       "      <td>8.52</td>\n",
       "    </tr>\n",
       "    <tr>\n",
       "      <th>1</th>\n",
       "      <td>1000_145</td>\n",
       "      <td>1000</td>\n",
       "      <td>2018-12-27</td>\n",
       "      <td>13.66</td>\n",
       "    </tr>\n",
       "    <tr>\n",
       "      <th>2</th>\n",
       "      <td>1000_247</td>\n",
       "      <td>1000</td>\n",
       "      <td>2018-12-27</td>\n",
       "      <td>14.48</td>\n",
       "    </tr>\n",
       "    <tr>\n",
       "      <th>3</th>\n",
       "      <td>1000_309</td>\n",
       "      <td>1000</td>\n",
       "      <td>2018-12-28</td>\n",
       "      <td>5.76</td>\n",
       "    </tr>\n",
       "    <tr>\n",
       "      <th>4</th>\n",
       "      <td>1000_380</td>\n",
       "      <td>1000</td>\n",
       "      <td>2018-12-30</td>\n",
       "      <td>4.22</td>\n",
       "    </tr>\n",
       "  </tbody>\n",
       "</table>\n",
       "</div>"
      ],
      "text/plain": [
       "         id  user_id   call_date  duration\n",
       "0   1000_93     1000  2018-12-27      8.52\n",
       "1  1000_145     1000  2018-12-27     13.66\n",
       "2  1000_247     1000  2018-12-27     14.48\n",
       "3  1000_309     1000  2018-12-28      5.76\n",
       "4  1000_380     1000  2018-12-30      4.22"
      ]
     },
     "metadata": {},
     "output_type": "display_data"
    },
    {
     "name": "stdout",
     "output_type": "stream",
     "text": [
      "<class 'pandas.core.frame.DataFrame'>\n",
      "RangeIndex: 137735 entries, 0 to 137734\n",
      "Data columns (total 4 columns):\n",
      " #   Column     Non-Null Count   Dtype  \n",
      "---  ------     --------------   -----  \n",
      " 0   id         137735 non-null  object \n",
      " 1   user_id    137735 non-null  int64  \n",
      " 2   call_date  137735 non-null  object \n",
      " 3   duration   137735 non-null  float64\n",
      "dtypes: float64(1), int64(1), object(2)\n",
      "memory usage: 4.2+ MB\n"
     ]
    },
    {
     "data": {
      "text/html": [
       "<div>\n",
       "<style scoped>\n",
       "    .dataframe tbody tr th:only-of-type {\n",
       "        vertical-align: middle;\n",
       "    }\n",
       "\n",
       "    .dataframe tbody tr th {\n",
       "        vertical-align: top;\n",
       "    }\n",
       "\n",
       "    .dataframe thead th {\n",
       "        text-align: right;\n",
       "    }\n",
       "</style>\n",
       "<table border=\"1\" class=\"dataframe\">\n",
       "  <thead>\n",
       "    <tr style=\"text-align: right;\">\n",
       "      <th></th>\n",
       "      <th>id</th>\n",
       "      <th>user_id</th>\n",
       "      <th>session_date</th>\n",
       "      <th>mb_used</th>\n",
       "    </tr>\n",
       "  </thead>\n",
       "  <tbody>\n",
       "    <tr>\n",
       "      <th>0</th>\n",
       "      <td>1000_13</td>\n",
       "      <td>1000</td>\n",
       "      <td>2018-12-29</td>\n",
       "      <td>89.86</td>\n",
       "    </tr>\n",
       "    <tr>\n",
       "      <th>1</th>\n",
       "      <td>1000_204</td>\n",
       "      <td>1000</td>\n",
       "      <td>2018-12-31</td>\n",
       "      <td>0.00</td>\n",
       "    </tr>\n",
       "    <tr>\n",
       "      <th>2</th>\n",
       "      <td>1000_379</td>\n",
       "      <td>1000</td>\n",
       "      <td>2018-12-28</td>\n",
       "      <td>660.40</td>\n",
       "    </tr>\n",
       "    <tr>\n",
       "      <th>3</th>\n",
       "      <td>1000_413</td>\n",
       "      <td>1000</td>\n",
       "      <td>2018-12-26</td>\n",
       "      <td>270.99</td>\n",
       "    </tr>\n",
       "    <tr>\n",
       "      <th>4</th>\n",
       "      <td>1000_442</td>\n",
       "      <td>1000</td>\n",
       "      <td>2018-12-27</td>\n",
       "      <td>880.22</td>\n",
       "    </tr>\n",
       "  </tbody>\n",
       "</table>\n",
       "</div>"
      ],
      "text/plain": [
       "         id  user_id session_date  mb_used\n",
       "0   1000_13     1000   2018-12-29    89.86\n",
       "1  1000_204     1000   2018-12-31     0.00\n",
       "2  1000_379     1000   2018-12-28   660.40\n",
       "3  1000_413     1000   2018-12-26   270.99\n",
       "4  1000_442     1000   2018-12-27   880.22"
      ]
     },
     "metadata": {},
     "output_type": "display_data"
    },
    {
     "name": "stdout",
     "output_type": "stream",
     "text": [
      "<class 'pandas.core.frame.DataFrame'>\n",
      "RangeIndex: 104825 entries, 0 to 104824\n",
      "Data columns (total 4 columns):\n",
      " #   Column        Non-Null Count   Dtype  \n",
      "---  ------        --------------   -----  \n",
      " 0   id            104825 non-null  object \n",
      " 1   user_id       104825 non-null  int64  \n",
      " 2   session_date  104825 non-null  object \n",
      " 3   mb_used       104825 non-null  float64\n",
      "dtypes: float64(1), int64(1), object(2)\n",
      "memory usage: 3.2+ MB\n"
     ]
    },
    {
     "data": {
      "text/html": [
       "<div>\n",
       "<style scoped>\n",
       "    .dataframe tbody tr th:only-of-type {\n",
       "        vertical-align: middle;\n",
       "    }\n",
       "\n",
       "    .dataframe tbody tr th {\n",
       "        vertical-align: top;\n",
       "    }\n",
       "\n",
       "    .dataframe thead th {\n",
       "        text-align: right;\n",
       "    }\n",
       "</style>\n",
       "<table border=\"1\" class=\"dataframe\">\n",
       "  <thead>\n",
       "    <tr style=\"text-align: right;\">\n",
       "      <th></th>\n",
       "      <th>id</th>\n",
       "      <th>user_id</th>\n",
       "      <th>message_date</th>\n",
       "    </tr>\n",
       "  </thead>\n",
       "  <tbody>\n",
       "    <tr>\n",
       "      <th>0</th>\n",
       "      <td>1000_125</td>\n",
       "      <td>1000</td>\n",
       "      <td>2018-12-27</td>\n",
       "    </tr>\n",
       "    <tr>\n",
       "      <th>1</th>\n",
       "      <td>1000_160</td>\n",
       "      <td>1000</td>\n",
       "      <td>2018-12-31</td>\n",
       "    </tr>\n",
       "    <tr>\n",
       "      <th>2</th>\n",
       "      <td>1000_223</td>\n",
       "      <td>1000</td>\n",
       "      <td>2018-12-31</td>\n",
       "    </tr>\n",
       "    <tr>\n",
       "      <th>3</th>\n",
       "      <td>1000_251</td>\n",
       "      <td>1000</td>\n",
       "      <td>2018-12-27</td>\n",
       "    </tr>\n",
       "    <tr>\n",
       "      <th>4</th>\n",
       "      <td>1000_255</td>\n",
       "      <td>1000</td>\n",
       "      <td>2018-12-26</td>\n",
       "    </tr>\n",
       "  </tbody>\n",
       "</table>\n",
       "</div>"
      ],
      "text/plain": [
       "         id  user_id message_date\n",
       "0  1000_125     1000   2018-12-27\n",
       "1  1000_160     1000   2018-12-31\n",
       "2  1000_223     1000   2018-12-31\n",
       "3  1000_251     1000   2018-12-27\n",
       "4  1000_255     1000   2018-12-26"
      ]
     },
     "metadata": {},
     "output_type": "display_data"
    },
    {
     "name": "stdout",
     "output_type": "stream",
     "text": [
      "<class 'pandas.core.frame.DataFrame'>\n",
      "RangeIndex: 76051 entries, 0 to 76050\n",
      "Data columns (total 3 columns):\n",
      " #   Column        Non-Null Count  Dtype \n",
      "---  ------        --------------  ----- \n",
      " 0   id            76051 non-null  object\n",
      " 1   user_id       76051 non-null  int64 \n",
      " 2   message_date  76051 non-null  object\n",
      "dtypes: int64(1), object(2)\n",
      "memory usage: 1.7+ MB\n"
     ]
    },
    {
     "data": {
      "text/html": [
       "<div>\n",
       "<style scoped>\n",
       "    .dataframe tbody tr th:only-of-type {\n",
       "        vertical-align: middle;\n",
       "    }\n",
       "\n",
       "    .dataframe tbody tr th {\n",
       "        vertical-align: top;\n",
       "    }\n",
       "\n",
       "    .dataframe thead th {\n",
       "        text-align: right;\n",
       "    }\n",
       "</style>\n",
       "<table border=\"1\" class=\"dataframe\">\n",
       "  <thead>\n",
       "    <tr style=\"text-align: right;\">\n",
       "      <th></th>\n",
       "      <th>messages_included</th>\n",
       "      <th>mb_per_month_included</th>\n",
       "      <th>minutes_included</th>\n",
       "      <th>usd_monthly_pay</th>\n",
       "      <th>usd_per_gb</th>\n",
       "      <th>usd_per_message</th>\n",
       "      <th>usd_per_minute</th>\n",
       "      <th>plan_name</th>\n",
       "    </tr>\n",
       "  </thead>\n",
       "  <tbody>\n",
       "    <tr>\n",
       "      <th>0</th>\n",
       "      <td>50</td>\n",
       "      <td>15360</td>\n",
       "      <td>500</td>\n",
       "      <td>20</td>\n",
       "      <td>10</td>\n",
       "      <td>0.03</td>\n",
       "      <td>0.03</td>\n",
       "      <td>surf</td>\n",
       "    </tr>\n",
       "    <tr>\n",
       "      <th>1</th>\n",
       "      <td>1000</td>\n",
       "      <td>30720</td>\n",
       "      <td>3000</td>\n",
       "      <td>70</td>\n",
       "      <td>7</td>\n",
       "      <td>0.01</td>\n",
       "      <td>0.01</td>\n",
       "      <td>ultimate</td>\n",
       "    </tr>\n",
       "  </tbody>\n",
       "</table>\n",
       "</div>"
      ],
      "text/plain": [
       "   messages_included  mb_per_month_included  minutes_included  \\\n",
       "0                 50                  15360               500   \n",
       "1               1000                  30720              3000   \n",
       "\n",
       "   usd_monthly_pay  usd_per_gb  usd_per_message  usd_per_minute plan_name  \n",
       "0               20          10             0.03            0.03      surf  \n",
       "1               70           7             0.01            0.01  ultimate  "
      ]
     },
     "metadata": {},
     "output_type": "display_data"
    },
    {
     "name": "stdout",
     "output_type": "stream",
     "text": [
      "<class 'pandas.core.frame.DataFrame'>\n",
      "RangeIndex: 2 entries, 0 to 1\n",
      "Data columns (total 8 columns):\n",
      " #   Column                 Non-Null Count  Dtype  \n",
      "---  ------                 --------------  -----  \n",
      " 0   messages_included      2 non-null      int64  \n",
      " 1   mb_per_month_included  2 non-null      int64  \n",
      " 2   minutes_included       2 non-null      int64  \n",
      " 3   usd_monthly_pay        2 non-null      int64  \n",
      " 4   usd_per_gb             2 non-null      int64  \n",
      " 5   usd_per_message        2 non-null      float64\n",
      " 6   usd_per_minute         2 non-null      float64\n",
      " 7   plan_name              2 non-null      object \n",
      "dtypes: float64(2), int64(5), object(1)\n",
      "memory usage: 260.0+ bytes\n"
     ]
    },
    {
     "data": {
      "text/html": [
       "<div>\n",
       "<style scoped>\n",
       "    .dataframe tbody tr th:only-of-type {\n",
       "        vertical-align: middle;\n",
       "    }\n",
       "\n",
       "    .dataframe tbody tr th {\n",
       "        vertical-align: top;\n",
       "    }\n",
       "\n",
       "    .dataframe thead th {\n",
       "        text-align: right;\n",
       "    }\n",
       "</style>\n",
       "<table border=\"1\" class=\"dataframe\">\n",
       "  <thead>\n",
       "    <tr style=\"text-align: right;\">\n",
       "      <th></th>\n",
       "      <th>user_id</th>\n",
       "      <th>first_name</th>\n",
       "      <th>last_name</th>\n",
       "      <th>age</th>\n",
       "      <th>city</th>\n",
       "      <th>reg_date</th>\n",
       "      <th>plan</th>\n",
       "      <th>churn_date</th>\n",
       "    </tr>\n",
       "  </thead>\n",
       "  <tbody>\n",
       "    <tr>\n",
       "      <th>0</th>\n",
       "      <td>1000</td>\n",
       "      <td>Anamaria</td>\n",
       "      <td>Bauer</td>\n",
       "      <td>45</td>\n",
       "      <td>Atlanta-Sandy Springs-Roswell, GA MSA</td>\n",
       "      <td>2018-12-24</td>\n",
       "      <td>ultimate</td>\n",
       "      <td>NaN</td>\n",
       "    </tr>\n",
       "    <tr>\n",
       "      <th>1</th>\n",
       "      <td>1001</td>\n",
       "      <td>Mickey</td>\n",
       "      <td>Wilkerson</td>\n",
       "      <td>28</td>\n",
       "      <td>Seattle-Tacoma-Bellevue, WA MSA</td>\n",
       "      <td>2018-08-13</td>\n",
       "      <td>surf</td>\n",
       "      <td>NaN</td>\n",
       "    </tr>\n",
       "    <tr>\n",
       "      <th>2</th>\n",
       "      <td>1002</td>\n",
       "      <td>Carlee</td>\n",
       "      <td>Hoffman</td>\n",
       "      <td>36</td>\n",
       "      <td>Las Vegas-Henderson-Paradise, NV MSA</td>\n",
       "      <td>2018-10-21</td>\n",
       "      <td>surf</td>\n",
       "      <td>NaN</td>\n",
       "    </tr>\n",
       "    <tr>\n",
       "      <th>3</th>\n",
       "      <td>1003</td>\n",
       "      <td>Reynaldo</td>\n",
       "      <td>Jenkins</td>\n",
       "      <td>52</td>\n",
       "      <td>Tulsa, OK MSA</td>\n",
       "      <td>2018-01-28</td>\n",
       "      <td>surf</td>\n",
       "      <td>NaN</td>\n",
       "    </tr>\n",
       "    <tr>\n",
       "      <th>4</th>\n",
       "      <td>1004</td>\n",
       "      <td>Leonila</td>\n",
       "      <td>Thompson</td>\n",
       "      <td>40</td>\n",
       "      <td>Seattle-Tacoma-Bellevue, WA MSA</td>\n",
       "      <td>2018-05-23</td>\n",
       "      <td>surf</td>\n",
       "      <td>NaN</td>\n",
       "    </tr>\n",
       "  </tbody>\n",
       "</table>\n",
       "</div>"
      ],
      "text/plain": [
       "   user_id first_name  last_name  age                                   city  \\\n",
       "0     1000   Anamaria      Bauer   45  Atlanta-Sandy Springs-Roswell, GA MSA   \n",
       "1     1001     Mickey  Wilkerson   28        Seattle-Tacoma-Bellevue, WA MSA   \n",
       "2     1002     Carlee    Hoffman   36   Las Vegas-Henderson-Paradise, NV MSA   \n",
       "3     1003   Reynaldo    Jenkins   52                          Tulsa, OK MSA   \n",
       "4     1004    Leonila   Thompson   40        Seattle-Tacoma-Bellevue, WA MSA   \n",
       "\n",
       "     reg_date      plan churn_date  \n",
       "0  2018-12-24  ultimate        NaN  \n",
       "1  2018-08-13      surf        NaN  \n",
       "2  2018-10-21      surf        NaN  \n",
       "3  2018-01-28      surf        NaN  \n",
       "4  2018-05-23      surf        NaN  "
      ]
     },
     "metadata": {},
     "output_type": "display_data"
    },
    {
     "name": "stdout",
     "output_type": "stream",
     "text": [
      "<class 'pandas.core.frame.DataFrame'>\n",
      "RangeIndex: 500 entries, 0 to 499\n",
      "Data columns (total 8 columns):\n",
      " #   Column      Non-Null Count  Dtype \n",
      "---  ------      --------------  ----- \n",
      " 0   user_id     500 non-null    int64 \n",
      " 1   first_name  500 non-null    object\n",
      " 2   last_name   500 non-null    object\n",
      " 3   age         500 non-null    int64 \n",
      " 4   city        500 non-null    object\n",
      " 5   reg_date    500 non-null    object\n",
      " 6   plan        500 non-null    object\n",
      " 7   churn_date  34 non-null     object\n",
      "dtypes: int64(2), object(6)\n",
      "memory usage: 31.4+ KB\n"
     ]
    }
   ],
   "source": [
    "# Load the data files into different DataFrames\n",
    "# I'm also checking to see what each df looks like to get a feel for the data I'm working with\n",
    "# And I'm calling info on them to get more context for how to clean up the data.\n",
    "df_calls = pd.read_csv('megaline_calls.csv')\n",
    "df_internet = pd.read_csv('megaline_internet.csv')\n",
    "df_messages = pd.read_csv('megaline_messages.csv')\n",
    "df_plans = pd.read_csv('megaline_plans.csv')\n",
    "df_users = pd.read_csv('megaline_users.csv')\n",
    "\n",
    "display(df_calls.head())\n",
    "df_calls.info()\n",
    "display(df_internet.head())\n",
    "df_internet.info()\n",
    "display(df_messages.head())\n",
    "df_messages.info()\n",
    "display(df_plans.head())\n",
    "df_plans.info()\n",
    "display(df_users.head())\n",
    "df_users.info()"
   ]
  },
  {
   "cell_type": "markdown",
   "metadata": {},
   "source": [
    "I see all the DataFrames are full with no missing data except for the users DataFrame. The churn_date column has a lot of NaN data. This simply means that those users were still using the service at the time the data was collected."
   ]
  },
  {
   "cell_type": "markdown",
   "metadata": {},
   "source": [
    "## Prepare the data"
   ]
  },
  {
   "cell_type": "markdown",
   "metadata": {},
   "source": [
    "## Plans"
   ]
  },
  {
   "cell_type": "code",
   "execution_count": 3,
   "metadata": {},
   "outputs": [
    {
     "name": "stdout",
     "output_type": "stream",
     "text": [
      "<class 'pandas.core.frame.DataFrame'>\n",
      "RangeIndex: 2 entries, 0 to 1\n",
      "Data columns (total 8 columns):\n",
      " #   Column                 Non-Null Count  Dtype  \n",
      "---  ------                 --------------  -----  \n",
      " 0   messages_included      2 non-null      int64  \n",
      " 1   mb_per_month_included  2 non-null      int64  \n",
      " 2   minutes_included       2 non-null      int64  \n",
      " 3   usd_monthly_pay        2 non-null      int64  \n",
      " 4   usd_per_gb             2 non-null      int64  \n",
      " 5   usd_per_message        2 non-null      float64\n",
      " 6   usd_per_minute         2 non-null      float64\n",
      " 7   plan_name              2 non-null      object \n",
      "dtypes: float64(2), int64(5), object(1)\n",
      "memory usage: 260.0+ bytes\n"
     ]
    }
   ],
   "source": [
    "# Print the general/summary information about the plans' DataFrame\n",
    "df_plans.info()\n",
    "\n",
    "\n"
   ]
  },
  {
   "cell_type": "code",
   "execution_count": 4,
   "metadata": {
    "scrolled": true
   },
   "outputs": [
    {
     "data": {
      "text/html": [
       "<div>\n",
       "<style scoped>\n",
       "    .dataframe tbody tr th:only-of-type {\n",
       "        vertical-align: middle;\n",
       "    }\n",
       "\n",
       "    .dataframe tbody tr th {\n",
       "        vertical-align: top;\n",
       "    }\n",
       "\n",
       "    .dataframe thead th {\n",
       "        text-align: right;\n",
       "    }\n",
       "</style>\n",
       "<table border=\"1\" class=\"dataframe\">\n",
       "  <thead>\n",
       "    <tr style=\"text-align: right;\">\n",
       "      <th></th>\n",
       "      <th>messages_included</th>\n",
       "      <th>mb_per_month_included</th>\n",
       "      <th>minutes_included</th>\n",
       "      <th>usd_monthly_pay</th>\n",
       "      <th>usd_per_gb</th>\n",
       "      <th>usd_per_message</th>\n",
       "      <th>usd_per_minute</th>\n",
       "      <th>plan_name</th>\n",
       "    </tr>\n",
       "  </thead>\n",
       "  <tbody>\n",
       "    <tr>\n",
       "      <th>0</th>\n",
       "      <td>50</td>\n",
       "      <td>15360</td>\n",
       "      <td>500</td>\n",
       "      <td>20</td>\n",
       "      <td>10</td>\n",
       "      <td>0.03</td>\n",
       "      <td>0.03</td>\n",
       "      <td>surf</td>\n",
       "    </tr>\n",
       "    <tr>\n",
       "      <th>1</th>\n",
       "      <td>1000</td>\n",
       "      <td>30720</td>\n",
       "      <td>3000</td>\n",
       "      <td>70</td>\n",
       "      <td>7</td>\n",
       "      <td>0.01</td>\n",
       "      <td>0.01</td>\n",
       "      <td>ultimate</td>\n",
       "    </tr>\n",
       "  </tbody>\n",
       "</table>\n",
       "</div>"
      ],
      "text/plain": [
       "   messages_included  mb_per_month_included  minutes_included  \\\n",
       "0                 50                  15360               500   \n",
       "1               1000                  30720              3000   \n",
       "\n",
       "   usd_monthly_pay  usd_per_gb  usd_per_message  usd_per_minute plan_name  \n",
       "0               20          10             0.03            0.03      surf  \n",
       "1               70           7             0.01            0.01  ultimate  "
      ]
     },
     "metadata": {},
     "output_type": "display_data"
    }
   ],
   "source": [
    "# Print a sample of data for plans\n",
    "display(df_plans)\n"
   ]
  },
  {
   "cell_type": "markdown",
   "metadata": {},
   "source": [
    "In this DataFrame there are two Rows that each contain the plan information for the two plans that I will be evaluating, Surf and Ultimate. The Ultimate plan has more included messages, data, and minutes. It is $50 more expensive than the surf plan.\n",
    "\n",
    "There are two issues that I found with this data. First, the internet usage columns are using different units, so I will need to convert the mb column to gb by dividing by 1024. Second, the column called 'plan_name' needs to be renamed as 'plan' so that it will be more cooperative with other DataFrames."
   ]
  },
  {
   "cell_type": "markdown",
   "metadata": {},
   "source": [
    "## Fix data"
   ]
  },
  {
   "cell_type": "code",
   "execution_count": 5,
   "metadata": {
    "scrolled": true
   },
   "outputs": [
    {
     "name": "stdout",
     "output_type": "stream",
     "text": [
      "messages_included        0\n",
      "mb_per_month_included    0\n",
      "minutes_included         0\n",
      "usd_monthly_pay          0\n",
      "usd_per_gb               0\n",
      "usd_per_message          0\n",
      "usd_per_minute           0\n",
      "plan_name                0\n",
      "dtype: int64\n"
     ]
    }
   ],
   "source": [
    "#checking for null values\n",
    "print(df_plans.isnull().sum())"
   ]
  },
  {
   "cell_type": "code",
   "execution_count": 6,
   "metadata": {
    "scrolled": true
   },
   "outputs": [
    {
     "name": "stdout",
     "output_type": "stream",
     "text": [
      "messages_included          int64\n",
      "mb_per_month_included      int64\n",
      "minutes_included           int64\n",
      "usd_monthly_pay            int64\n",
      "usd_per_gb                 int64\n",
      "usd_per_message          float64\n",
      "usd_per_minute           float64\n",
      "plan_name                 object\n",
      "dtype: object\n"
     ]
    }
   ],
   "source": [
    "#checking to make sure the datatypes make sense for the information contained in them\n",
    "print(df_plans.dtypes)"
   ]
  },
  {
   "cell_type": "code",
   "execution_count": 7,
   "metadata": {},
   "outputs": [
    {
     "name": "stdout",
     "output_type": "stream",
     "text": [
      "0\n"
     ]
    }
   ],
   "source": [
    "#ensuring that there are no duplicated rows\n",
    "print(df_plans.duplicated().sum())"
   ]
  },
  {
   "cell_type": "markdown",
   "metadata": {},
   "source": [
    "## Enrich data"
   ]
  },
  {
   "cell_type": "code",
   "execution_count": 8,
   "metadata": {
    "scrolled": true
   },
   "outputs": [
    {
     "data": {
      "text/html": [
       "<div>\n",
       "<style scoped>\n",
       "    .dataframe tbody tr th:only-of-type {\n",
       "        vertical-align: middle;\n",
       "    }\n",
       "\n",
       "    .dataframe tbody tr th {\n",
       "        vertical-align: top;\n",
       "    }\n",
       "\n",
       "    .dataframe thead th {\n",
       "        text-align: right;\n",
       "    }\n",
       "</style>\n",
       "<table border=\"1\" class=\"dataframe\">\n",
       "  <thead>\n",
       "    <tr style=\"text-align: right;\">\n",
       "      <th></th>\n",
       "      <th>messages_included</th>\n",
       "      <th>gb_per_month_included</th>\n",
       "      <th>minutes_included</th>\n",
       "      <th>usd_monthly_pay</th>\n",
       "      <th>usd_per_gb</th>\n",
       "      <th>usd_per_message</th>\n",
       "      <th>usd_per_minute</th>\n",
       "      <th>plan</th>\n",
       "    </tr>\n",
       "  </thead>\n",
       "  <tbody>\n",
       "    <tr>\n",
       "      <th>0</th>\n",
       "      <td>50</td>\n",
       "      <td>15360</td>\n",
       "      <td>500</td>\n",
       "      <td>20</td>\n",
       "      <td>10</td>\n",
       "      <td>0.03</td>\n",
       "      <td>0.03</td>\n",
       "      <td>surf</td>\n",
       "    </tr>\n",
       "    <tr>\n",
       "      <th>1</th>\n",
       "      <td>1000</td>\n",
       "      <td>30720</td>\n",
       "      <td>3000</td>\n",
       "      <td>70</td>\n",
       "      <td>7</td>\n",
       "      <td>0.01</td>\n",
       "      <td>0.01</td>\n",
       "      <td>ultimate</td>\n",
       "    </tr>\n",
       "  </tbody>\n",
       "</table>\n",
       "</div>"
      ],
      "text/plain": [
       "   messages_included  gb_per_month_included  minutes_included  \\\n",
       "0                 50                  15360               500   \n",
       "1               1000                  30720              3000   \n",
       "\n",
       "   usd_monthly_pay  usd_per_gb  usd_per_message  usd_per_minute      plan  \n",
       "0               20          10             0.03            0.03      surf  \n",
       "1               70           7             0.01            0.01  ultimate  "
      ]
     },
     "execution_count": 8,
     "metadata": {},
     "output_type": "execute_result"
    }
   ],
   "source": [
    "#I'm renaming the mb column and the plan columns to make them work for future analysis\n",
    "df_plans.rename(columns={'mb_per_month_included':'gb_per_month_included', 'plan_name': 'plan'}, inplace=True)\n",
    "df_plans"
   ]
  },
  {
   "cell_type": "code",
   "execution_count": 9,
   "metadata": {
    "scrolled": true
   },
   "outputs": [
    {
     "name": "stderr",
     "output_type": "stream",
     "text": [
      "C:\\Users\\markl\\AppData\\Local\\Temp\\ipykernel_15564\\3624316244.py:2: FutureWarning: A value is trying to be set on a copy of a DataFrame or Series through chained assignment using an inplace method.\n",
      "The behavior will change in pandas 3.0. This inplace method will never work because the intermediate object on which we are setting values always behaves as a copy.\n",
      "\n",
      "For example, when doing 'df[col].method(value, inplace=True)', try using 'df.method({col: value}, inplace=True)' or df[col] = df[col].method(value) instead, to perform the operation inplace on the original object.\n",
      "\n",
      "\n",
      "  df_plans['gb_per_month_included'].replace({15360: 15, 30720: 30}, inplace=True)\n"
     ]
    },
    {
     "data": {
      "text/html": [
       "<div>\n",
       "<style scoped>\n",
       "    .dataframe tbody tr th:only-of-type {\n",
       "        vertical-align: middle;\n",
       "    }\n",
       "\n",
       "    .dataframe tbody tr th {\n",
       "        vertical-align: top;\n",
       "    }\n",
       "\n",
       "    .dataframe thead th {\n",
       "        text-align: right;\n",
       "    }\n",
       "</style>\n",
       "<table border=\"1\" class=\"dataframe\">\n",
       "  <thead>\n",
       "    <tr style=\"text-align: right;\">\n",
       "      <th></th>\n",
       "      <th>messages_included</th>\n",
       "      <th>gb_per_month_included</th>\n",
       "      <th>minutes_included</th>\n",
       "      <th>usd_monthly_pay</th>\n",
       "      <th>usd_per_gb</th>\n",
       "      <th>usd_per_message</th>\n",
       "      <th>usd_per_minute</th>\n",
       "      <th>plan</th>\n",
       "    </tr>\n",
       "  </thead>\n",
       "  <tbody>\n",
       "    <tr>\n",
       "      <th>0</th>\n",
       "      <td>50</td>\n",
       "      <td>15</td>\n",
       "      <td>500</td>\n",
       "      <td>20</td>\n",
       "      <td>10</td>\n",
       "      <td>0.03</td>\n",
       "      <td>0.03</td>\n",
       "      <td>surf</td>\n",
       "    </tr>\n",
       "    <tr>\n",
       "      <th>1</th>\n",
       "      <td>1000</td>\n",
       "      <td>30</td>\n",
       "      <td>3000</td>\n",
       "      <td>70</td>\n",
       "      <td>7</td>\n",
       "      <td>0.01</td>\n",
       "      <td>0.01</td>\n",
       "      <td>ultimate</td>\n",
       "    </tr>\n",
       "  </tbody>\n",
       "</table>\n",
       "</div>"
      ],
      "text/plain": [
       "   messages_included  gb_per_month_included  minutes_included  \\\n",
       "0                 50                     15               500   \n",
       "1               1000                     30              3000   \n",
       "\n",
       "   usd_monthly_pay  usd_per_gb  usd_per_message  usd_per_minute      plan  \n",
       "0               20          10             0.03            0.03      surf  \n",
       "1               70           7             0.01            0.01  ultimate  "
      ]
     },
     "execution_count": 9,
     "metadata": {},
     "output_type": "execute_result"
    }
   ],
   "source": [
    "#for later work I will need the internet usage to both be in gb\n",
    "df_plans['gb_per_month_included'].replace({15360: 15, 30720: 30}, inplace=True)\n",
    "df_plans"
   ]
  },
  {
   "cell_type": "markdown",
   "metadata": {},
   "source": [
    "Now this df is ready to be used for later analysis"
   ]
  },
  {
   "cell_type": "markdown",
   "metadata": {},
   "source": [
    "## Users"
   ]
  },
  {
   "cell_type": "code",
   "execution_count": 10,
   "metadata": {},
   "outputs": [
    {
     "name": "stdout",
     "output_type": "stream",
     "text": [
      "<class 'pandas.core.frame.DataFrame'>\n",
      "RangeIndex: 500 entries, 0 to 499\n",
      "Data columns (total 8 columns):\n",
      " #   Column      Non-Null Count  Dtype \n",
      "---  ------      --------------  ----- \n",
      " 0   user_id     500 non-null    int64 \n",
      " 1   first_name  500 non-null    object\n",
      " 2   last_name   500 non-null    object\n",
      " 3   age         500 non-null    int64 \n",
      " 4   city        500 non-null    object\n",
      " 5   reg_date    500 non-null    object\n",
      " 6   plan        500 non-null    object\n",
      " 7   churn_date  34 non-null     object\n",
      "dtypes: int64(2), object(6)\n",
      "memory usage: 31.4+ KB\n"
     ]
    }
   ],
   "source": [
    "# Print the general/summary information about the users' DataFrame\n",
    "df_users.info()\n"
   ]
  },
  {
   "cell_type": "code",
   "execution_count": 11,
   "metadata": {},
   "outputs": [
    {
     "data": {
      "text/html": [
       "<div>\n",
       "<style scoped>\n",
       "    .dataframe tbody tr th:only-of-type {\n",
       "        vertical-align: middle;\n",
       "    }\n",
       "\n",
       "    .dataframe tbody tr th {\n",
       "        vertical-align: top;\n",
       "    }\n",
       "\n",
       "    .dataframe thead th {\n",
       "        text-align: right;\n",
       "    }\n",
       "</style>\n",
       "<table border=\"1\" class=\"dataframe\">\n",
       "  <thead>\n",
       "    <tr style=\"text-align: right;\">\n",
       "      <th></th>\n",
       "      <th>user_id</th>\n",
       "      <th>first_name</th>\n",
       "      <th>last_name</th>\n",
       "      <th>age</th>\n",
       "      <th>city</th>\n",
       "      <th>reg_date</th>\n",
       "      <th>plan</th>\n",
       "      <th>churn_date</th>\n",
       "    </tr>\n",
       "  </thead>\n",
       "  <tbody>\n",
       "    <tr>\n",
       "      <th>102</th>\n",
       "      <td>1102</td>\n",
       "      <td>Marquitta</td>\n",
       "      <td>Walton</td>\n",
       "      <td>30</td>\n",
       "      <td>Riverside-San Bernardino-Ontario, CA MSA</td>\n",
       "      <td>2018-02-20</td>\n",
       "      <td>ultimate</td>\n",
       "      <td>NaN</td>\n",
       "    </tr>\n",
       "    <tr>\n",
       "      <th>300</th>\n",
       "      <td>1300</td>\n",
       "      <td>Rene</td>\n",
       "      <td>Frost</td>\n",
       "      <td>23</td>\n",
       "      <td>New York-Newark-Jersey City, NY-NJ-PA MSA</td>\n",
       "      <td>2018-10-21</td>\n",
       "      <td>surf</td>\n",
       "      <td>2018-12-19</td>\n",
       "    </tr>\n",
       "    <tr>\n",
       "      <th>296</th>\n",
       "      <td>1296</td>\n",
       "      <td>Weston</td>\n",
       "      <td>Conley</td>\n",
       "      <td>36</td>\n",
       "      <td>Miami-Fort Lauderdale-West Palm Beach, FL MSA</td>\n",
       "      <td>2018-10-20</td>\n",
       "      <td>ultimate</td>\n",
       "      <td>2018-12-18</td>\n",
       "    </tr>\n",
       "    <tr>\n",
       "      <th>307</th>\n",
       "      <td>1307</td>\n",
       "      <td>Kristopher</td>\n",
       "      <td>Lang</td>\n",
       "      <td>28</td>\n",
       "      <td>Boston-Cambridge-Newton, MA-NH MSA</td>\n",
       "      <td>2018-12-31</td>\n",
       "      <td>surf</td>\n",
       "      <td>NaN</td>\n",
       "    </tr>\n",
       "    <tr>\n",
       "      <th>49</th>\n",
       "      <td>1049</td>\n",
       "      <td>Loise</td>\n",
       "      <td>Avery</td>\n",
       "      <td>25</td>\n",
       "      <td>New York-Newark-Jersey City, NY-NJ-PA MSA</td>\n",
       "      <td>2018-02-21</td>\n",
       "      <td>surf</td>\n",
       "      <td>NaN</td>\n",
       "    </tr>\n",
       "    <tr>\n",
       "      <th>41</th>\n",
       "      <td>1041</td>\n",
       "      <td>Drucilla</td>\n",
       "      <td>Lynn</td>\n",
       "      <td>58</td>\n",
       "      <td>Las Vegas-Henderson-Paradise, NV MSA</td>\n",
       "      <td>2018-03-17</td>\n",
       "      <td>ultimate</td>\n",
       "      <td>NaN</td>\n",
       "    </tr>\n",
       "    <tr>\n",
       "      <th>444</th>\n",
       "      <td>1444</td>\n",
       "      <td>Glinda</td>\n",
       "      <td>Dickerson</td>\n",
       "      <td>70</td>\n",
       "      <td>New Haven-Milford, CT MSA</td>\n",
       "      <td>2018-06-20</td>\n",
       "      <td>surf</td>\n",
       "      <td>NaN</td>\n",
       "    </tr>\n",
       "    <tr>\n",
       "      <th>445</th>\n",
       "      <td>1445</td>\n",
       "      <td>Elodia</td>\n",
       "      <td>Donovan</td>\n",
       "      <td>71</td>\n",
       "      <td>Dallas-Fort Worth-Arlington, TX MSA</td>\n",
       "      <td>2018-01-27</td>\n",
       "      <td>ultimate</td>\n",
       "      <td>NaN</td>\n",
       "    </tr>\n",
       "    <tr>\n",
       "      <th>45</th>\n",
       "      <td>1045</td>\n",
       "      <td>Barney</td>\n",
       "      <td>Ortega</td>\n",
       "      <td>20</td>\n",
       "      <td>New York-Newark-Jersey City, NY-NJ-PA MSA</td>\n",
       "      <td>2018-10-15</td>\n",
       "      <td>surf</td>\n",
       "      <td>NaN</td>\n",
       "    </tr>\n",
       "    <tr>\n",
       "      <th>447</th>\n",
       "      <td>1447</td>\n",
       "      <td>Ramon</td>\n",
       "      <td>Hester</td>\n",
       "      <td>62</td>\n",
       "      <td>Orlando-Kissimmee-Sanford, FL MSA</td>\n",
       "      <td>2018-05-01</td>\n",
       "      <td>surf</td>\n",
       "      <td>NaN</td>\n",
       "    </tr>\n",
       "  </tbody>\n",
       "</table>\n",
       "</div>"
      ],
      "text/plain": [
       "     user_id  first_name  last_name  age  \\\n",
       "102     1102   Marquitta     Walton   30   \n",
       "300     1300        Rene      Frost   23   \n",
       "296     1296      Weston     Conley   36   \n",
       "307     1307  Kristopher       Lang   28   \n",
       "49      1049       Loise      Avery   25   \n",
       "41      1041    Drucilla       Lynn   58   \n",
       "444     1444      Glinda  Dickerson   70   \n",
       "445     1445      Elodia    Donovan   71   \n",
       "45      1045      Barney     Ortega   20   \n",
       "447     1447       Ramon     Hester   62   \n",
       "\n",
       "                                              city    reg_date      plan  \\\n",
       "102       Riverside-San Bernardino-Ontario, CA MSA  2018-02-20  ultimate   \n",
       "300      New York-Newark-Jersey City, NY-NJ-PA MSA  2018-10-21      surf   \n",
       "296  Miami-Fort Lauderdale-West Palm Beach, FL MSA  2018-10-20  ultimate   \n",
       "307             Boston-Cambridge-Newton, MA-NH MSA  2018-12-31      surf   \n",
       "49       New York-Newark-Jersey City, NY-NJ-PA MSA  2018-02-21      surf   \n",
       "41            Las Vegas-Henderson-Paradise, NV MSA  2018-03-17  ultimate   \n",
       "444                      New Haven-Milford, CT MSA  2018-06-20      surf   \n",
       "445            Dallas-Fort Worth-Arlington, TX MSA  2018-01-27  ultimate   \n",
       "45       New York-Newark-Jersey City, NY-NJ-PA MSA  2018-10-15      surf   \n",
       "447              Orlando-Kissimmee-Sanford, FL MSA  2018-05-01      surf   \n",
       "\n",
       "     churn_date  \n",
       "102         NaN  \n",
       "300  2018-12-19  \n",
       "296  2018-12-18  \n",
       "307         NaN  \n",
       "49          NaN  \n",
       "41          NaN  \n",
       "444         NaN  \n",
       "445         NaN  \n",
       "45          NaN  \n",
       "447         NaN  "
      ]
     },
     "metadata": {},
     "output_type": "display_data"
    }
   ],
   "source": [
    "# Print a sample of data for users\n",
    "display(df_users.sample(10))\n"
   ]
  },
  {
   "cell_type": "markdown",
   "metadata": {},
   "source": [
    "There are only null values in the churn_date column. That column will only have a value if the user is no longer using the service at the time the data was collected. Since there are so few non-null values, this suggests that most most of the people involved in this study are still using the service. In a future assignment, I would like to find information on those that stopped using the service to see if I can find any trends there. \n",
    "\n"
   ]
  },
  {
   "cell_type": "markdown",
   "metadata": {},
   "source": [
    "### Fix Data"
   ]
  },
  {
   "cell_type": "code",
   "execution_count": 12,
   "metadata": {
    "scrolled": true
   },
   "outputs": [
    {
     "name": "stdout",
     "output_type": "stream",
     "text": [
      "user_id         0\n",
      "first_name      0\n",
      "last_name       0\n",
      "age             0\n",
      "city            0\n",
      "reg_date        0\n",
      "plan            0\n",
      "churn_date    466\n",
      "dtype: int64\n"
     ]
    }
   ],
   "source": [
    "#checking for null values\n",
    "print(df_users.isnull().sum())"
   ]
  },
  {
   "cell_type": "code",
   "execution_count": 13,
   "metadata": {},
   "outputs": [
    {
     "name": "stdout",
     "output_type": "stream",
     "text": [
      "0\n"
     ]
    }
   ],
   "source": [
    "#checking for duplicated rows\n",
    "print(df_users.duplicated().sum())"
   ]
  },
  {
   "cell_type": "markdown",
   "metadata": {},
   "source": [
    "There are no fully duplicated rows, and the only null values are in the column where they should be. So, this DataFrame appears to be ready to use."
   ]
  },
  {
   "cell_type": "markdown",
   "metadata": {},
   "source": [
    "### Enrich Data"
   ]
  },
  {
   "cell_type": "code",
   "execution_count": 14,
   "metadata": {},
   "outputs": [
    {
     "data": {
      "text/html": [
       "<div>\n",
       "<style scoped>\n",
       "    .dataframe tbody tr th:only-of-type {\n",
       "        vertical-align: middle;\n",
       "    }\n",
       "\n",
       "    .dataframe tbody tr th {\n",
       "        vertical-align: top;\n",
       "    }\n",
       "\n",
       "    .dataframe thead th {\n",
       "        text-align: right;\n",
       "    }\n",
       "</style>\n",
       "<table border=\"1\" class=\"dataframe\">\n",
       "  <thead>\n",
       "    <tr style=\"text-align: right;\">\n",
       "      <th></th>\n",
       "      <th>user_id</th>\n",
       "      <th>plan</th>\n",
       "    </tr>\n",
       "  </thead>\n",
       "  <tbody>\n",
       "    <tr>\n",
       "      <th>0</th>\n",
       "      <td>1000</td>\n",
       "      <td>ultimate</td>\n",
       "    </tr>\n",
       "    <tr>\n",
       "      <th>1</th>\n",
       "      <td>1001</td>\n",
       "      <td>surf</td>\n",
       "    </tr>\n",
       "    <tr>\n",
       "      <th>2</th>\n",
       "      <td>1002</td>\n",
       "      <td>surf</td>\n",
       "    </tr>\n",
       "    <tr>\n",
       "      <th>3</th>\n",
       "      <td>1003</td>\n",
       "      <td>surf</td>\n",
       "    </tr>\n",
       "    <tr>\n",
       "      <th>4</th>\n",
       "      <td>1004</td>\n",
       "      <td>surf</td>\n",
       "    </tr>\n",
       "  </tbody>\n",
       "</table>\n",
       "</div>"
      ],
      "text/plain": [
       "   user_id      plan\n",
       "0     1000  ultimate\n",
       "1     1001      surf\n",
       "2     1002      surf\n",
       "3     1003      surf\n",
       "4     1004      surf"
      ]
     },
     "execution_count": 14,
     "metadata": {},
     "output_type": "execute_result"
    }
   ],
   "source": [
    "#I'm making a dataframe that just has user id and plan as columns for use later in this project\n",
    "user_plan = pd.DataFrame().assign(user_id=df_users['user_id'], plan=df_users['plan'])\n",
    "user_plan.head()"
   ]
  },
  {
   "cell_type": "markdown",
   "metadata": {},
   "source": [
    "## Calls"
   ]
  },
  {
   "cell_type": "code",
   "execution_count": 15,
   "metadata": {},
   "outputs": [
    {
     "name": "stdout",
     "output_type": "stream",
     "text": [
      "<class 'pandas.core.frame.DataFrame'>\n",
      "RangeIndex: 137735 entries, 0 to 137734\n",
      "Data columns (total 4 columns):\n",
      " #   Column     Non-Null Count   Dtype  \n",
      "---  ------     --------------   -----  \n",
      " 0   id         137735 non-null  object \n",
      " 1   user_id    137735 non-null  int64  \n",
      " 2   call_date  137735 non-null  object \n",
      " 3   duration   137735 non-null  float64\n",
      "dtypes: float64(1), int64(1), object(2)\n",
      "memory usage: 4.2+ MB\n"
     ]
    }
   ],
   "source": [
    "# Print the general/summary information about the calls' DataFrame\n",
    "df_calls.info()\n"
   ]
  },
  {
   "cell_type": "code",
   "execution_count": 16,
   "metadata": {
    "scrolled": true
   },
   "outputs": [
    {
     "data": {
      "text/html": [
       "<div>\n",
       "<style scoped>\n",
       "    .dataframe tbody tr th:only-of-type {\n",
       "        vertical-align: middle;\n",
       "    }\n",
       "\n",
       "    .dataframe tbody tr th {\n",
       "        vertical-align: top;\n",
       "    }\n",
       "\n",
       "    .dataframe thead th {\n",
       "        text-align: right;\n",
       "    }\n",
       "</style>\n",
       "<table border=\"1\" class=\"dataframe\">\n",
       "  <thead>\n",
       "    <tr style=\"text-align: right;\">\n",
       "      <th></th>\n",
       "      <th>id</th>\n",
       "      <th>user_id</th>\n",
       "      <th>call_date</th>\n",
       "      <th>duration</th>\n",
       "    </tr>\n",
       "  </thead>\n",
       "  <tbody>\n",
       "    <tr>\n",
       "      <th>62780</th>\n",
       "      <td>1226_179</td>\n",
       "      <td>1226</td>\n",
       "      <td>2018-11-29</td>\n",
       "      <td>0.00</td>\n",
       "    </tr>\n",
       "    <tr>\n",
       "      <th>39088</th>\n",
       "      <td>1145_335</td>\n",
       "      <td>1145</td>\n",
       "      <td>2018-10-25</td>\n",
       "      <td>10.65</td>\n",
       "    </tr>\n",
       "    <tr>\n",
       "      <th>6510</th>\n",
       "      <td>1031_135</td>\n",
       "      <td>1031</td>\n",
       "      <td>2018-12-03</td>\n",
       "      <td>2.43</td>\n",
       "    </tr>\n",
       "    <tr>\n",
       "      <th>24258</th>\n",
       "      <td>1091_26</td>\n",
       "      <td>1091</td>\n",
       "      <td>2018-10-24</td>\n",
       "      <td>7.94</td>\n",
       "    </tr>\n",
       "    <tr>\n",
       "      <th>28576</th>\n",
       "      <td>1109_203</td>\n",
       "      <td>1109</td>\n",
       "      <td>2018-06-02</td>\n",
       "      <td>1.27</td>\n",
       "    </tr>\n",
       "    <tr>\n",
       "      <th>86715</th>\n",
       "      <td>1320_384</td>\n",
       "      <td>1320</td>\n",
       "      <td>2018-06-19</td>\n",
       "      <td>5.71</td>\n",
       "    </tr>\n",
       "    <tr>\n",
       "      <th>29040</th>\n",
       "      <td>1110_91</td>\n",
       "      <td>1110</td>\n",
       "      <td>2018-11-30</td>\n",
       "      <td>4.60</td>\n",
       "    </tr>\n",
       "    <tr>\n",
       "      <th>61901</th>\n",
       "      <td>1223_52</td>\n",
       "      <td>1223</td>\n",
       "      <td>2018-09-08</td>\n",
       "      <td>7.36</td>\n",
       "    </tr>\n",
       "    <tr>\n",
       "      <th>60465</th>\n",
       "      <td>1218_34</td>\n",
       "      <td>1218</td>\n",
       "      <td>2018-12-25</td>\n",
       "      <td>14.31</td>\n",
       "    </tr>\n",
       "    <tr>\n",
       "      <th>9074</th>\n",
       "      <td>1041_509</td>\n",
       "      <td>1041</td>\n",
       "      <td>2018-09-24</td>\n",
       "      <td>8.71</td>\n",
       "    </tr>\n",
       "  </tbody>\n",
       "</table>\n",
       "</div>"
      ],
      "text/plain": [
       "             id  user_id   call_date  duration\n",
       "62780  1226_179     1226  2018-11-29      0.00\n",
       "39088  1145_335     1145  2018-10-25     10.65\n",
       "6510   1031_135     1031  2018-12-03      2.43\n",
       "24258   1091_26     1091  2018-10-24      7.94\n",
       "28576  1109_203     1109  2018-06-02      1.27\n",
       "86715  1320_384     1320  2018-06-19      5.71\n",
       "29040   1110_91     1110  2018-11-30      4.60\n",
       "61901   1223_52     1223  2018-09-08      7.36\n",
       "60465   1218_34     1218  2018-12-25     14.31\n",
       "9074   1041_509     1041  2018-09-24      8.71"
      ]
     },
     "metadata": {},
     "output_type": "display_data"
    }
   ],
   "source": [
    "# Print a sample of data for calls\n",
    "display(df_calls.sample(10))\n"
   ]
  },
  {
   "cell_type": "markdown",
   "metadata": {},
   "source": [
    "There do not appear to be any missing values in this data set. The date column is structured as Y-M-D. The Datatypes make sense for the type of information that they contain."
   ]
  },
  {
   "cell_type": "markdown",
   "metadata": {},
   "source": [
    "### Fix data"
   ]
  },
  {
   "cell_type": "code",
   "execution_count": 17,
   "metadata": {},
   "outputs": [
    {
     "name": "stdout",
     "output_type": "stream",
     "text": [
      "id           0\n",
      "user_id      0\n",
      "call_date    0\n",
      "duration     0\n",
      "dtype: int64\n"
     ]
    }
   ],
   "source": [
    "#check for null values\n",
    "print(df_calls.isnull().sum())"
   ]
  },
  {
   "cell_type": "code",
   "execution_count": 18,
   "metadata": {},
   "outputs": [
    {
     "name": "stdout",
     "output_type": "stream",
     "text": [
      "0\n"
     ]
    }
   ],
   "source": [
    "#check for duplicates\n",
    "print(df_calls.duplicated().sum())"
   ]
  },
  {
   "cell_type": "markdown",
   "metadata": {},
   "source": [
    "There are no missing values and there are no duplicated rows. It appears that this data is ready to be used."
   ]
  },
  {
   "cell_type": "markdown",
   "metadata": {},
   "source": [
    "### Enrich data"
   ]
  },
  {
   "cell_type": "code",
   "execution_count": 19,
   "metadata": {},
   "outputs": [
    {
     "data": {
      "text/html": [
       "<div>\n",
       "<style scoped>\n",
       "    .dataframe tbody tr th:only-of-type {\n",
       "        vertical-align: middle;\n",
       "    }\n",
       "\n",
       "    .dataframe tbody tr th {\n",
       "        vertical-align: top;\n",
       "    }\n",
       "\n",
       "    .dataframe thead th {\n",
       "        text-align: right;\n",
       "    }\n",
       "</style>\n",
       "<table border=\"1\" class=\"dataframe\">\n",
       "  <thead>\n",
       "    <tr style=\"text-align: right;\">\n",
       "      <th></th>\n",
       "      <th>id</th>\n",
       "      <th>user_id</th>\n",
       "      <th>call_date</th>\n",
       "      <th>duration</th>\n",
       "    </tr>\n",
       "  </thead>\n",
       "  <tbody>\n",
       "    <tr>\n",
       "      <th>0</th>\n",
       "      <td>1000_93</td>\n",
       "      <td>1000</td>\n",
       "      <td>2018-12-27</td>\n",
       "      <td>9</td>\n",
       "    </tr>\n",
       "    <tr>\n",
       "      <th>1</th>\n",
       "      <td>1000_145</td>\n",
       "      <td>1000</td>\n",
       "      <td>2018-12-27</td>\n",
       "      <td>14</td>\n",
       "    </tr>\n",
       "    <tr>\n",
       "      <th>2</th>\n",
       "      <td>1000_247</td>\n",
       "      <td>1000</td>\n",
       "      <td>2018-12-27</td>\n",
       "      <td>15</td>\n",
       "    </tr>\n",
       "    <tr>\n",
       "      <th>3</th>\n",
       "      <td>1000_309</td>\n",
       "      <td>1000</td>\n",
       "      <td>2018-12-28</td>\n",
       "      <td>6</td>\n",
       "    </tr>\n",
       "    <tr>\n",
       "      <th>4</th>\n",
       "      <td>1000_380</td>\n",
       "      <td>1000</td>\n",
       "      <td>2018-12-30</td>\n",
       "      <td>5</td>\n",
       "    </tr>\n",
       "  </tbody>\n",
       "</table>\n",
       "</div>"
      ],
      "text/plain": [
       "         id  user_id   call_date  duration\n",
       "0   1000_93     1000  2018-12-27         9\n",
       "1  1000_145     1000  2018-12-27        14\n",
       "2  1000_247     1000  2018-12-27        15\n",
       "3  1000_309     1000  2018-12-28         6\n",
       "4  1000_380     1000  2018-12-30         5"
      ]
     },
     "metadata": {},
     "output_type": "display_data"
    }
   ],
   "source": [
    "#Since each call is counted as rounded up, I will round up the 'duration' column\n",
    "import math\n",
    "df_calls['duration'] = df_calls['duration'].apply(lambda x: math.ceil(x))\n",
    "display(df_calls.head())"
   ]
  },
  {
   "cell_type": "code",
   "execution_count": 20,
   "metadata": {},
   "outputs": [
    {
     "name": "stdout",
     "output_type": "stream",
     "text": [
      "The shortest phone call in this data set was 0 minutes. And the longest call was 38 minutes.\n"
     ]
    }
   ],
   "source": [
    "#I want to get a feel for phone call length range that I'll be working with\n",
    "print('The shortest phone call in this data set was', df_calls['duration'].min(), 'minutes. And the longest call was', df_calls['duration'].max(), 'minutes.')"
   ]
  },
  {
   "cell_type": "code",
   "execution_count": 21,
   "metadata": {
    "scrolled": true
   },
   "outputs": [
    {
     "name": "stdout",
     "output_type": "stream",
     "text": [
      "The average call length was 7.15 minutes.\n"
     ]
    }
   ],
   "source": [
    "avg_call_length = df_calls['duration'].mean()\n",
    "print(f'The average call length was {avg_call_length:.2f} minutes.')"
   ]
  },
  {
   "cell_type": "code",
   "execution_count": 22,
   "metadata": {
    "scrolled": true
   },
   "outputs": [
    {
     "data": {
      "text/html": [
       "<div>\n",
       "<style scoped>\n",
       "    .dataframe tbody tr th:only-of-type {\n",
       "        vertical-align: middle;\n",
       "    }\n",
       "\n",
       "    .dataframe tbody tr th {\n",
       "        vertical-align: top;\n",
       "    }\n",
       "\n",
       "    .dataframe thead th {\n",
       "        text-align: right;\n",
       "    }\n",
       "</style>\n",
       "<table border=\"1\" class=\"dataframe\">\n",
       "  <thead>\n",
       "    <tr style=\"text-align: right;\">\n",
       "      <th></th>\n",
       "      <th>id</th>\n",
       "      <th>user_id</th>\n",
       "      <th>call_date</th>\n",
       "      <th>duration</th>\n",
       "      <th>month</th>\n",
       "    </tr>\n",
       "  </thead>\n",
       "  <tbody>\n",
       "    <tr>\n",
       "      <th>0</th>\n",
       "      <td>1000_93</td>\n",
       "      <td>1000</td>\n",
       "      <td>2018-12-27</td>\n",
       "      <td>9</td>\n",
       "      <td>12</td>\n",
       "    </tr>\n",
       "    <tr>\n",
       "      <th>1</th>\n",
       "      <td>1000_145</td>\n",
       "      <td>1000</td>\n",
       "      <td>2018-12-27</td>\n",
       "      <td>14</td>\n",
       "      <td>12</td>\n",
       "    </tr>\n",
       "    <tr>\n",
       "      <th>2</th>\n",
       "      <td>1000_247</td>\n",
       "      <td>1000</td>\n",
       "      <td>2018-12-27</td>\n",
       "      <td>15</td>\n",
       "      <td>12</td>\n",
       "    </tr>\n",
       "    <tr>\n",
       "      <th>3</th>\n",
       "      <td>1000_309</td>\n",
       "      <td>1000</td>\n",
       "      <td>2018-12-28</td>\n",
       "      <td>6</td>\n",
       "      <td>12</td>\n",
       "    </tr>\n",
       "    <tr>\n",
       "      <th>4</th>\n",
       "      <td>1000_380</td>\n",
       "      <td>1000</td>\n",
       "      <td>2018-12-30</td>\n",
       "      <td>5</td>\n",
       "      <td>12</td>\n",
       "    </tr>\n",
       "  </tbody>\n",
       "</table>\n",
       "</div>"
      ],
      "text/plain": [
       "         id  user_id  call_date  duration  month\n",
       "0   1000_93     1000 2018-12-27         9     12\n",
       "1  1000_145     1000 2018-12-27        14     12\n",
       "2  1000_247     1000 2018-12-27        15     12\n",
       "3  1000_309     1000 2018-12-28         6     12\n",
       "4  1000_380     1000 2018-12-30         5     12"
      ]
     },
     "metadata": {},
     "output_type": "display_data"
    }
   ],
   "source": [
    "#For later analysis I need to get the month isolated from the call date column, so I'm going to create a new column with the month\n",
    "df_calls['call_date'] = pd.to_datetime(df_calls['call_date'], format='%Y-%m-%d')\n",
    "df_calls['month'] = df_calls['call_date'].dt.month\n",
    "display(df_calls.head())"
   ]
  },
  {
   "cell_type": "markdown",
   "metadata": {},
   "source": [
    "## Messages"
   ]
  },
  {
   "cell_type": "code",
   "execution_count": 23,
   "metadata": {},
   "outputs": [
    {
     "name": "stdout",
     "output_type": "stream",
     "text": [
      "<class 'pandas.core.frame.DataFrame'>\n",
      "RangeIndex: 76051 entries, 0 to 76050\n",
      "Data columns (total 3 columns):\n",
      " #   Column        Non-Null Count  Dtype \n",
      "---  ------        --------------  ----- \n",
      " 0   id            76051 non-null  object\n",
      " 1   user_id       76051 non-null  int64 \n",
      " 2   message_date  76051 non-null  object\n",
      "dtypes: int64(1), object(2)\n",
      "memory usage: 1.7+ MB\n"
     ]
    }
   ],
   "source": [
    "# Print the general/summary information about the messages' DataFrame\n",
    "df_messages.info()\n"
   ]
  },
  {
   "cell_type": "code",
   "execution_count": 24,
   "metadata": {},
   "outputs": [
    {
     "data": {
      "text/html": [
       "<div>\n",
       "<style scoped>\n",
       "    .dataframe tbody tr th:only-of-type {\n",
       "        vertical-align: middle;\n",
       "    }\n",
       "\n",
       "    .dataframe tbody tr th {\n",
       "        vertical-align: top;\n",
       "    }\n",
       "\n",
       "    .dataframe thead th {\n",
       "        text-align: right;\n",
       "    }\n",
       "</style>\n",
       "<table border=\"1\" class=\"dataframe\">\n",
       "  <thead>\n",
       "    <tr style=\"text-align: right;\">\n",
       "      <th></th>\n",
       "      <th>id</th>\n",
       "      <th>user_id</th>\n",
       "      <th>message_date</th>\n",
       "    </tr>\n",
       "  </thead>\n",
       "  <tbody>\n",
       "    <tr>\n",
       "      <th>8787</th>\n",
       "      <td>1065_58</td>\n",
       "      <td>1065</td>\n",
       "      <td>2018-11-11</td>\n",
       "    </tr>\n",
       "    <tr>\n",
       "      <th>51809</th>\n",
       "      <td>1335_400</td>\n",
       "      <td>1335</td>\n",
       "      <td>2018-12-27</td>\n",
       "    </tr>\n",
       "    <tr>\n",
       "      <th>53571</th>\n",
       "      <td>1340_97</td>\n",
       "      <td>1340</td>\n",
       "      <td>2018-09-22</td>\n",
       "    </tr>\n",
       "    <tr>\n",
       "      <th>37691</th>\n",
       "      <td>1249_223</td>\n",
       "      <td>1249</td>\n",
       "      <td>2018-08-20</td>\n",
       "    </tr>\n",
       "    <tr>\n",
       "      <th>58727</th>\n",
       "      <td>1373_145</td>\n",
       "      <td>1373</td>\n",
       "      <td>2018-11-27</td>\n",
       "    </tr>\n",
       "    <tr>\n",
       "      <th>12985</th>\n",
       "      <td>1086_15</td>\n",
       "      <td>1086</td>\n",
       "      <td>2018-12-30</td>\n",
       "    </tr>\n",
       "    <tr>\n",
       "      <th>58172</th>\n",
       "      <td>1366_48</td>\n",
       "      <td>1366</td>\n",
       "      <td>2018-09-13</td>\n",
       "    </tr>\n",
       "    <tr>\n",
       "      <th>62872</th>\n",
       "      <td>1398_58</td>\n",
       "      <td>1398</td>\n",
       "      <td>2018-10-28</td>\n",
       "    </tr>\n",
       "    <tr>\n",
       "      <th>7138</th>\n",
       "      <td>1059_8</td>\n",
       "      <td>1059</td>\n",
       "      <td>2018-05-16</td>\n",
       "    </tr>\n",
       "    <tr>\n",
       "      <th>45809</th>\n",
       "      <td>1313_5</td>\n",
       "      <td>1313</td>\n",
       "      <td>2018-10-01</td>\n",
       "    </tr>\n",
       "  </tbody>\n",
       "</table>\n",
       "</div>"
      ],
      "text/plain": [
       "             id  user_id message_date\n",
       "8787    1065_58     1065   2018-11-11\n",
       "51809  1335_400     1335   2018-12-27\n",
       "53571   1340_97     1340   2018-09-22\n",
       "37691  1249_223     1249   2018-08-20\n",
       "58727  1373_145     1373   2018-11-27\n",
       "12985   1086_15     1086   2018-12-30\n",
       "58172   1366_48     1366   2018-09-13\n",
       "62872   1398_58     1398   2018-10-28\n",
       "7138     1059_8     1059   2018-05-16\n",
       "45809    1313_5     1313   2018-10-01"
      ]
     },
     "metadata": {},
     "output_type": "display_data"
    }
   ],
   "source": [
    "# Print a sample of data for messages\n",
    "display(df_messages.sample(10))\n"
   ]
  },
  {
   "cell_type": "markdown",
   "metadata": {},
   "source": [
    "In this data set there doesn't appear to be any obvious issues. The date is structured as Y-M-D just like the other sets. It appears that there are 76051 rows to work with. I wil check for duplicates and missing values."
   ]
  },
  {
   "cell_type": "markdown",
   "metadata": {},
   "source": [
    "### Fix data"
   ]
  },
  {
   "cell_type": "markdown",
   "metadata": {},
   "source": [
    "[Fix obvious issues with the data given the initial observations.]"
   ]
  },
  {
   "cell_type": "code",
   "execution_count": 25,
   "metadata": {},
   "outputs": [
    {
     "name": "stdout",
     "output_type": "stream",
     "text": [
      "id              0\n",
      "user_id         0\n",
      "message_date    0\n",
      "dtype: int64\n"
     ]
    }
   ],
   "source": [
    "#checking for null values\n",
    "print(df_messages.isnull().sum())"
   ]
  },
  {
   "cell_type": "code",
   "execution_count": 26,
   "metadata": {},
   "outputs": [
    {
     "name": "stdout",
     "output_type": "stream",
     "text": [
      "0\n"
     ]
    }
   ],
   "source": [
    "#checking for duplicated rows\n",
    "print(df_messages.duplicated().sum())"
   ]
  },
  {
   "cell_type": "markdown",
   "metadata": {},
   "source": [
    "There are no missing values or duplicated rows. This data is clean and ready to be used."
   ]
  },
  {
   "cell_type": "markdown",
   "metadata": {},
   "source": [
    "### Enrich data"
   ]
  },
  {
   "cell_type": "markdown",
   "metadata": {},
   "source": [
    "[Add additional factors to the data if you believe they might be useful.]"
   ]
  },
  {
   "cell_type": "code",
   "execution_count": 27,
   "metadata": {},
   "outputs": [
    {
     "data": {
      "text/html": [
       "<div>\n",
       "<style scoped>\n",
       "    .dataframe tbody tr th:only-of-type {\n",
       "        vertical-align: middle;\n",
       "    }\n",
       "\n",
       "    .dataframe tbody tr th {\n",
       "        vertical-align: top;\n",
       "    }\n",
       "\n",
       "    .dataframe thead th {\n",
       "        text-align: right;\n",
       "    }\n",
       "</style>\n",
       "<table border=\"1\" class=\"dataframe\">\n",
       "  <thead>\n",
       "    <tr style=\"text-align: right;\">\n",
       "      <th></th>\n",
       "      <th>id</th>\n",
       "      <th>user_id</th>\n",
       "      <th>message_date</th>\n",
       "      <th>month</th>\n",
       "    </tr>\n",
       "  </thead>\n",
       "  <tbody>\n",
       "    <tr>\n",
       "      <th>0</th>\n",
       "      <td>1000_125</td>\n",
       "      <td>1000</td>\n",
       "      <td>2018-12-27</td>\n",
       "      <td>12</td>\n",
       "    </tr>\n",
       "    <tr>\n",
       "      <th>1</th>\n",
       "      <td>1000_160</td>\n",
       "      <td>1000</td>\n",
       "      <td>2018-12-31</td>\n",
       "      <td>12</td>\n",
       "    </tr>\n",
       "    <tr>\n",
       "      <th>2</th>\n",
       "      <td>1000_223</td>\n",
       "      <td>1000</td>\n",
       "      <td>2018-12-31</td>\n",
       "      <td>12</td>\n",
       "    </tr>\n",
       "    <tr>\n",
       "      <th>3</th>\n",
       "      <td>1000_251</td>\n",
       "      <td>1000</td>\n",
       "      <td>2018-12-27</td>\n",
       "      <td>12</td>\n",
       "    </tr>\n",
       "    <tr>\n",
       "      <th>4</th>\n",
       "      <td>1000_255</td>\n",
       "      <td>1000</td>\n",
       "      <td>2018-12-26</td>\n",
       "      <td>12</td>\n",
       "    </tr>\n",
       "  </tbody>\n",
       "</table>\n",
       "</div>"
      ],
      "text/plain": [
       "         id  user_id message_date  month\n",
       "0  1000_125     1000   2018-12-27     12\n",
       "1  1000_160     1000   2018-12-31     12\n",
       "2  1000_223     1000   2018-12-31     12\n",
       "3  1000_251     1000   2018-12-27     12\n",
       "4  1000_255     1000   2018-12-26     12"
      ]
     },
     "metadata": {},
     "output_type": "display_data"
    }
   ],
   "source": [
    "#I need to make a month column for later analysis. I will use the same method as I did above\n",
    "df_messages['message_date'] = pd.to_datetime(df_messages['message_date'], format='%Y-%m-%d')\n",
    "df_messages['month'] = df_messages['message_date'].dt.month\n",
    "display(df_messages.head())"
   ]
  },
  {
   "cell_type": "markdown",
   "metadata": {},
   "source": [
    "## Internet"
   ]
  },
  {
   "cell_type": "code",
   "execution_count": 28,
   "metadata": {},
   "outputs": [
    {
     "name": "stdout",
     "output_type": "stream",
     "text": [
      "<class 'pandas.core.frame.DataFrame'>\n",
      "RangeIndex: 104825 entries, 0 to 104824\n",
      "Data columns (total 4 columns):\n",
      " #   Column        Non-Null Count   Dtype  \n",
      "---  ------        --------------   -----  \n",
      " 0   id            104825 non-null  object \n",
      " 1   user_id       104825 non-null  int64  \n",
      " 2   session_date  104825 non-null  object \n",
      " 3   mb_used       104825 non-null  float64\n",
      "dtypes: float64(1), int64(1), object(2)\n",
      "memory usage: 3.2+ MB\n"
     ]
    }
   ],
   "source": [
    "# Print the general/summary information about the internet DataFrame\n",
    "df_internet.info()\n"
   ]
  },
  {
   "cell_type": "code",
   "execution_count": 29,
   "metadata": {
    "scrolled": true
   },
   "outputs": [
    {
     "data": {
      "text/html": [
       "<div>\n",
       "<style scoped>\n",
       "    .dataframe tbody tr th:only-of-type {\n",
       "        vertical-align: middle;\n",
       "    }\n",
       "\n",
       "    .dataframe tbody tr th {\n",
       "        vertical-align: top;\n",
       "    }\n",
       "\n",
       "    .dataframe thead th {\n",
       "        text-align: right;\n",
       "    }\n",
       "</style>\n",
       "<table border=\"1\" class=\"dataframe\">\n",
       "  <thead>\n",
       "    <tr style=\"text-align: right;\">\n",
       "      <th></th>\n",
       "      <th>id</th>\n",
       "      <th>user_id</th>\n",
       "      <th>session_date</th>\n",
       "      <th>mb_used</th>\n",
       "    </tr>\n",
       "  </thead>\n",
       "  <tbody>\n",
       "    <tr>\n",
       "      <th>26053</th>\n",
       "      <td>1122_8</td>\n",
       "      <td>1122</td>\n",
       "      <td>2018-06-09</td>\n",
       "      <td>751.71</td>\n",
       "    </tr>\n",
       "    <tr>\n",
       "      <th>8858</th>\n",
       "      <td>1046_143</td>\n",
       "      <td>1046</td>\n",
       "      <td>2018-08-10</td>\n",
       "      <td>421.62</td>\n",
       "    </tr>\n",
       "    <tr>\n",
       "      <th>49793</th>\n",
       "      <td>1222_292</td>\n",
       "      <td>1222</td>\n",
       "      <td>2018-09-18</td>\n",
       "      <td>329.77</td>\n",
       "    </tr>\n",
       "    <tr>\n",
       "      <th>56820</th>\n",
       "      <td>1257_87</td>\n",
       "      <td>1257</td>\n",
       "      <td>2018-09-27</td>\n",
       "      <td>0.00</td>\n",
       "    </tr>\n",
       "    <tr>\n",
       "      <th>28715</th>\n",
       "      <td>1132_97</td>\n",
       "      <td>1132</td>\n",
       "      <td>2018-10-08</td>\n",
       "      <td>65.40</td>\n",
       "    </tr>\n",
       "    <tr>\n",
       "      <th>99267</th>\n",
       "      <td>1467_404</td>\n",
       "      <td>1467</td>\n",
       "      <td>2018-08-10</td>\n",
       "      <td>576.62</td>\n",
       "    </tr>\n",
       "    <tr>\n",
       "      <th>100255</th>\n",
       "      <td>1475_48</td>\n",
       "      <td>1475</td>\n",
       "      <td>2018-12-22</td>\n",
       "      <td>628.66</td>\n",
       "    </tr>\n",
       "    <tr>\n",
       "      <th>52977</th>\n",
       "      <td>1239_86</td>\n",
       "      <td>1239</td>\n",
       "      <td>2018-10-31</td>\n",
       "      <td>0.00</td>\n",
       "    </tr>\n",
       "    <tr>\n",
       "      <th>36111</th>\n",
       "      <td>1163_92</td>\n",
       "      <td>1163</td>\n",
       "      <td>2018-10-22</td>\n",
       "      <td>112.01</td>\n",
       "    </tr>\n",
       "    <tr>\n",
       "      <th>102992</th>\n",
       "      <td>1493_110</td>\n",
       "      <td>1493</td>\n",
       "      <td>2018-12-28</td>\n",
       "      <td>219.97</td>\n",
       "    </tr>\n",
       "  </tbody>\n",
       "</table>\n",
       "</div>"
      ],
      "text/plain": [
       "              id  user_id session_date  mb_used\n",
       "26053     1122_8     1122   2018-06-09   751.71\n",
       "8858    1046_143     1046   2018-08-10   421.62\n",
       "49793   1222_292     1222   2018-09-18   329.77\n",
       "56820    1257_87     1257   2018-09-27     0.00\n",
       "28715    1132_97     1132   2018-10-08    65.40\n",
       "99267   1467_404     1467   2018-08-10   576.62\n",
       "100255   1475_48     1475   2018-12-22   628.66\n",
       "52977    1239_86     1239   2018-10-31     0.00\n",
       "36111    1163_92     1163   2018-10-22   112.01\n",
       "102992  1493_110     1493   2018-12-28   219.97"
      ]
     },
     "metadata": {},
     "output_type": "display_data"
    }
   ],
   "source": [
    "# Print a sample of data for the internet traffic\n",
    "display(df_internet.sample(10))\n"
   ]
  },
  {
   "cell_type": "markdown",
   "metadata": {},
   "source": [
    "There are nearly 105k rows in this DataFrame. There appear to be no missing values, and the information in each row appears to fit the datatype."
   ]
  },
  {
   "cell_type": "markdown",
   "metadata": {},
   "source": [
    "### Fix data"
   ]
  },
  {
   "cell_type": "code",
   "execution_count": 30,
   "metadata": {
    "scrolled": true
   },
   "outputs": [
    {
     "name": "stdout",
     "output_type": "stream",
     "text": [
      "id              0\n",
      "user_id         0\n",
      "session_date    0\n",
      "mb_used         0\n",
      "dtype: int64\n"
     ]
    }
   ],
   "source": [
    "#checking for null values\n",
    "print(df_internet.isnull().sum())"
   ]
  },
  {
   "cell_type": "code",
   "execution_count": 31,
   "metadata": {},
   "outputs": [
    {
     "name": "stdout",
     "output_type": "stream",
     "text": [
      "0\n"
     ]
    }
   ],
   "source": [
    "#checking for duplicated rows\n",
    "print(df_internet.duplicated().sum())"
   ]
  },
  {
   "cell_type": "markdown",
   "metadata": {},
   "source": [
    "There are no null values and there are no duplicated rows. This Data is ready for analysis"
   ]
  },
  {
   "cell_type": "markdown",
   "metadata": {},
   "source": [
    "### Enrich data"
   ]
  },
  {
   "cell_type": "code",
   "execution_count": 32,
   "metadata": {},
   "outputs": [
    {
     "data": {
      "text/html": [
       "<div>\n",
       "<style scoped>\n",
       "    .dataframe tbody tr th:only-of-type {\n",
       "        vertical-align: middle;\n",
       "    }\n",
       "\n",
       "    .dataframe tbody tr th {\n",
       "        vertical-align: top;\n",
       "    }\n",
       "\n",
       "    .dataframe thead th {\n",
       "        text-align: right;\n",
       "    }\n",
       "</style>\n",
       "<table border=\"1\" class=\"dataframe\">\n",
       "  <thead>\n",
       "    <tr style=\"text-align: right;\">\n",
       "      <th></th>\n",
       "      <th>id</th>\n",
       "      <th>user_id</th>\n",
       "      <th>session_date</th>\n",
       "      <th>mb_used</th>\n",
       "      <th>month</th>\n",
       "    </tr>\n",
       "  </thead>\n",
       "  <tbody>\n",
       "    <tr>\n",
       "      <th>0</th>\n",
       "      <td>1000_13</td>\n",
       "      <td>1000</td>\n",
       "      <td>2018-12-29</td>\n",
       "      <td>89.86</td>\n",
       "      <td>12</td>\n",
       "    </tr>\n",
       "    <tr>\n",
       "      <th>1</th>\n",
       "      <td>1000_204</td>\n",
       "      <td>1000</td>\n",
       "      <td>2018-12-31</td>\n",
       "      <td>0.00</td>\n",
       "      <td>12</td>\n",
       "    </tr>\n",
       "    <tr>\n",
       "      <th>2</th>\n",
       "      <td>1000_379</td>\n",
       "      <td>1000</td>\n",
       "      <td>2018-12-28</td>\n",
       "      <td>660.40</td>\n",
       "      <td>12</td>\n",
       "    </tr>\n",
       "    <tr>\n",
       "      <th>3</th>\n",
       "      <td>1000_413</td>\n",
       "      <td>1000</td>\n",
       "      <td>2018-12-26</td>\n",
       "      <td>270.99</td>\n",
       "      <td>12</td>\n",
       "    </tr>\n",
       "    <tr>\n",
       "      <th>4</th>\n",
       "      <td>1000_442</td>\n",
       "      <td>1000</td>\n",
       "      <td>2018-12-27</td>\n",
       "      <td>880.22</td>\n",
       "      <td>12</td>\n",
       "    </tr>\n",
       "  </tbody>\n",
       "</table>\n",
       "</div>"
      ],
      "text/plain": [
       "         id  user_id session_date  mb_used  month\n",
       "0   1000_13     1000   2018-12-29    89.86     12\n",
       "1  1000_204     1000   2018-12-31     0.00     12\n",
       "2  1000_379     1000   2018-12-28   660.40     12\n",
       "3  1000_413     1000   2018-12-26   270.99     12\n",
       "4  1000_442     1000   2018-12-27   880.22     12"
      ]
     },
     "metadata": {},
     "output_type": "display_data"
    }
   ],
   "source": [
    "#again, I'm adding a month column to be used later in analysis\n",
    "df_internet['session_date'] = pd.to_datetime(df_internet['session_date'], format='%Y-%m-%d')\n",
    "df_internet['month'] = df_internet['session_date'].dt.month\n",
    "display(df_internet.head())"
   ]
  },
  {
   "cell_type": "markdown",
   "metadata": {},
   "source": [
    "## Study plan conditions"
   ]
  },
  {
   "cell_type": "code",
   "execution_count": 33,
   "metadata": {},
   "outputs": [
    {
     "data": {
      "text/html": [
       "<div>\n",
       "<style scoped>\n",
       "    .dataframe tbody tr th:only-of-type {\n",
       "        vertical-align: middle;\n",
       "    }\n",
       "\n",
       "    .dataframe tbody tr th {\n",
       "        vertical-align: top;\n",
       "    }\n",
       "\n",
       "    .dataframe thead th {\n",
       "        text-align: right;\n",
       "    }\n",
       "</style>\n",
       "<table border=\"1\" class=\"dataframe\">\n",
       "  <thead>\n",
       "    <tr style=\"text-align: right;\">\n",
       "      <th></th>\n",
       "      <th>messages_included</th>\n",
       "      <th>gb_per_month_included</th>\n",
       "      <th>minutes_included</th>\n",
       "      <th>usd_monthly_pay</th>\n",
       "      <th>usd_per_gb</th>\n",
       "      <th>usd_per_message</th>\n",
       "      <th>usd_per_minute</th>\n",
       "      <th>plan</th>\n",
       "    </tr>\n",
       "  </thead>\n",
       "  <tbody>\n",
       "    <tr>\n",
       "      <th>0</th>\n",
       "      <td>50</td>\n",
       "      <td>15</td>\n",
       "      <td>500</td>\n",
       "      <td>20</td>\n",
       "      <td>10</td>\n",
       "      <td>0.03</td>\n",
       "      <td>0.03</td>\n",
       "      <td>surf</td>\n",
       "    </tr>\n",
       "    <tr>\n",
       "      <th>1</th>\n",
       "      <td>1000</td>\n",
       "      <td>30</td>\n",
       "      <td>3000</td>\n",
       "      <td>70</td>\n",
       "      <td>7</td>\n",
       "      <td>0.01</td>\n",
       "      <td>0.01</td>\n",
       "      <td>ultimate</td>\n",
       "    </tr>\n",
       "  </tbody>\n",
       "</table>\n",
       "</div>"
      ],
      "text/plain": [
       "   messages_included  gb_per_month_included  minutes_included  \\\n",
       "0                 50                     15               500   \n",
       "1               1000                     30              3000   \n",
       "\n",
       "   usd_monthly_pay  usd_per_gb  usd_per_message  usd_per_minute      plan  \n",
       "0               20          10             0.03            0.03      surf  \n",
       "1               70           7             0.01            0.01  ultimate  "
      ]
     },
     "metadata": {},
     "output_type": "display_data"
    }
   ],
   "source": [
    "# Print out the plan conditions and make sure they are clear for you\n",
    "display(df_plans)\n"
   ]
  },
  {
   "cell_type": "code",
   "execution_count": 34,
   "metadata": {},
   "outputs": [
    {
     "data": {
      "text/html": [
       "<div>\n",
       "<style scoped>\n",
       "    .dataframe tbody tr th:only-of-type {\n",
       "        vertical-align: middle;\n",
       "    }\n",
       "\n",
       "    .dataframe tbody tr th {\n",
       "        vertical-align: top;\n",
       "    }\n",
       "\n",
       "    .dataframe thead th {\n",
       "        text-align: right;\n",
       "    }\n",
       "</style>\n",
       "<table border=\"1\" class=\"dataframe\">\n",
       "  <thead>\n",
       "    <tr style=\"text-align: right;\">\n",
       "      <th></th>\n",
       "      <th>user_id</th>\n",
       "      <th>month</th>\n",
       "      <th>total_calls</th>\n",
       "    </tr>\n",
       "  </thead>\n",
       "  <tbody>\n",
       "    <tr>\n",
       "      <th>0</th>\n",
       "      <td>1000</td>\n",
       "      <td>12</td>\n",
       "      <td>16</td>\n",
       "    </tr>\n",
       "    <tr>\n",
       "      <th>1</th>\n",
       "      <td>1001</td>\n",
       "      <td>8</td>\n",
       "      <td>27</td>\n",
       "    </tr>\n",
       "    <tr>\n",
       "      <th>2</th>\n",
       "      <td>1001</td>\n",
       "      <td>9</td>\n",
       "      <td>49</td>\n",
       "    </tr>\n",
       "    <tr>\n",
       "      <th>3</th>\n",
       "      <td>1001</td>\n",
       "      <td>10</td>\n",
       "      <td>65</td>\n",
       "    </tr>\n",
       "    <tr>\n",
       "      <th>4</th>\n",
       "      <td>1001</td>\n",
       "      <td>11</td>\n",
       "      <td>64</td>\n",
       "    </tr>\n",
       "  </tbody>\n",
       "</table>\n",
       "</div>"
      ],
      "text/plain": [
       "   user_id  month  total_calls\n",
       "0     1000     12           16\n",
       "1     1001      8           27\n",
       "2     1001      9           49\n",
       "3     1001     10           65\n",
       "4     1001     11           64"
      ]
     },
     "metadata": {},
     "output_type": "display_data"
    }
   ],
   "source": [
    "# Calculate the number of calls made by each user per month. Save the result.\n",
    "calls_per_month = df_calls.groupby(['user_id', 'month']).agg(total_calls=(\n",
    "'id','count')).reset_index()\n",
    "display(calls_per_month.head())\n"
   ]
  },
  {
   "cell_type": "code",
   "execution_count": 35,
   "metadata": {},
   "outputs": [
    {
     "data": {
      "text/html": [
       "<div>\n",
       "<style scoped>\n",
       "    .dataframe tbody tr th:only-of-type {\n",
       "        vertical-align: middle;\n",
       "    }\n",
       "\n",
       "    .dataframe tbody tr th {\n",
       "        vertical-align: top;\n",
       "    }\n",
       "\n",
       "    .dataframe thead th {\n",
       "        text-align: right;\n",
       "    }\n",
       "</style>\n",
       "<table border=\"1\" class=\"dataframe\">\n",
       "  <thead>\n",
       "    <tr style=\"text-align: right;\">\n",
       "      <th></th>\n",
       "      <th>user_id</th>\n",
       "      <th>month</th>\n",
       "      <th>total_minutes</th>\n",
       "    </tr>\n",
       "  </thead>\n",
       "  <tbody>\n",
       "    <tr>\n",
       "      <th>0</th>\n",
       "      <td>1000</td>\n",
       "      <td>12</td>\n",
       "      <td>124</td>\n",
       "    </tr>\n",
       "    <tr>\n",
       "      <th>1</th>\n",
       "      <td>1001</td>\n",
       "      <td>8</td>\n",
       "      <td>182</td>\n",
       "    </tr>\n",
       "    <tr>\n",
       "      <th>2</th>\n",
       "      <td>1001</td>\n",
       "      <td>9</td>\n",
       "      <td>315</td>\n",
       "    </tr>\n",
       "    <tr>\n",
       "      <th>3</th>\n",
       "      <td>1001</td>\n",
       "      <td>10</td>\n",
       "      <td>393</td>\n",
       "    </tr>\n",
       "    <tr>\n",
       "      <th>4</th>\n",
       "      <td>1001</td>\n",
       "      <td>11</td>\n",
       "      <td>426</td>\n",
       "    </tr>\n",
       "  </tbody>\n",
       "</table>\n",
       "</div>"
      ],
      "text/plain": [
       "   user_id  month  total_minutes\n",
       "0     1000     12            124\n",
       "1     1001      8            182\n",
       "2     1001      9            315\n",
       "3     1001     10            393\n",
       "4     1001     11            426"
      ]
     },
     "metadata": {},
     "output_type": "display_data"
    }
   ],
   "source": [
    "# Calculate the amount of minutes spent by each user per month. Save the result.\n",
    "minutes_per_month = df_calls.groupby(['user_id','month'])['duration'].agg(total_minutes='sum').reset_index()\n",
    "display(minutes_per_month.head())"
   ]
  },
  {
   "cell_type": "code",
   "execution_count": 36,
   "metadata": {},
   "outputs": [
    {
     "data": {
      "text/html": [
       "<div>\n",
       "<style scoped>\n",
       "    .dataframe tbody tr th:only-of-type {\n",
       "        vertical-align: middle;\n",
       "    }\n",
       "\n",
       "    .dataframe tbody tr th {\n",
       "        vertical-align: top;\n",
       "    }\n",
       "\n",
       "    .dataframe thead th {\n",
       "        text-align: right;\n",
       "    }\n",
       "</style>\n",
       "<table border=\"1\" class=\"dataframe\">\n",
       "  <thead>\n",
       "    <tr style=\"text-align: right;\">\n",
       "      <th></th>\n",
       "      <th>user_id</th>\n",
       "      <th>month</th>\n",
       "      <th>total_messages</th>\n",
       "    </tr>\n",
       "  </thead>\n",
       "  <tbody>\n",
       "    <tr>\n",
       "      <th>0</th>\n",
       "      <td>1000</td>\n",
       "      <td>12</td>\n",
       "      <td>11</td>\n",
       "    </tr>\n",
       "    <tr>\n",
       "      <th>1</th>\n",
       "      <td>1001</td>\n",
       "      <td>8</td>\n",
       "      <td>30</td>\n",
       "    </tr>\n",
       "    <tr>\n",
       "      <th>2</th>\n",
       "      <td>1001</td>\n",
       "      <td>9</td>\n",
       "      <td>44</td>\n",
       "    </tr>\n",
       "    <tr>\n",
       "      <th>3</th>\n",
       "      <td>1001</td>\n",
       "      <td>10</td>\n",
       "      <td>53</td>\n",
       "    </tr>\n",
       "    <tr>\n",
       "      <th>4</th>\n",
       "      <td>1001</td>\n",
       "      <td>11</td>\n",
       "      <td>36</td>\n",
       "    </tr>\n",
       "  </tbody>\n",
       "</table>\n",
       "</div>"
      ],
      "text/plain": [
       "   user_id  month  total_messages\n",
       "0     1000     12              11\n",
       "1     1001      8              30\n",
       "2     1001      9              44\n",
       "3     1001     10              53\n",
       "4     1001     11              36"
      ]
     },
     "metadata": {},
     "output_type": "display_data"
    }
   ],
   "source": [
    "# Calculate the number of messages sent by each user per month. Save the result.\n",
    "messages_per_month = df_messages.groupby(['user_id', 'month']).agg(total_messages=('id','count')).reset_index()\n",
    "display(messages_per_month.head())\n",
    "\n"
   ]
  },
  {
   "cell_type": "code",
   "execution_count": 37,
   "metadata": {},
   "outputs": [
    {
     "data": {
      "text/html": [
       "<div>\n",
       "<style scoped>\n",
       "    .dataframe tbody tr th:only-of-type {\n",
       "        vertical-align: middle;\n",
       "    }\n",
       "\n",
       "    .dataframe tbody tr th {\n",
       "        vertical-align: top;\n",
       "    }\n",
       "\n",
       "    .dataframe thead th {\n",
       "        text-align: right;\n",
       "    }\n",
       "</style>\n",
       "<table border=\"1\" class=\"dataframe\">\n",
       "  <thead>\n",
       "    <tr style=\"text-align: right;\">\n",
       "      <th></th>\n",
       "      <th>user_id</th>\n",
       "      <th>month</th>\n",
       "      <th>total_gb_used</th>\n",
       "    </tr>\n",
       "  </thead>\n",
       "  <tbody>\n",
       "    <tr>\n",
       "      <th>0</th>\n",
       "      <td>1000</td>\n",
       "      <td>12</td>\n",
       "      <td>2</td>\n",
       "    </tr>\n",
       "    <tr>\n",
       "      <th>1</th>\n",
       "      <td>1001</td>\n",
       "      <td>8</td>\n",
       "      <td>7</td>\n",
       "    </tr>\n",
       "    <tr>\n",
       "      <th>2</th>\n",
       "      <td>1001</td>\n",
       "      <td>9</td>\n",
       "      <td>14</td>\n",
       "    </tr>\n",
       "    <tr>\n",
       "      <th>3</th>\n",
       "      <td>1001</td>\n",
       "      <td>10</td>\n",
       "      <td>22</td>\n",
       "    </tr>\n",
       "    <tr>\n",
       "      <th>4</th>\n",
       "      <td>1001</td>\n",
       "      <td>11</td>\n",
       "      <td>19</td>\n",
       "    </tr>\n",
       "  </tbody>\n",
       "</table>\n",
       "</div>"
      ],
      "text/plain": [
       "   user_id  month  total_gb_used\n",
       "0     1000     12              2\n",
       "1     1001      8              7\n",
       "2     1001      9             14\n",
       "3     1001     10             22\n",
       "4     1001     11             19"
      ]
     },
     "metadata": {},
     "output_type": "display_data"
    }
   ],
   "source": [
    "# Calculate the volume of internet traffic used by each user per month. Save the result.\n",
    "# In this DataFrame I made sure to convert the mb to gb by dividing them by 1024. Then, I rounded them up to the nearest integer\n",
    "# because that was what the project description said for how they handled the internet usage.\n",
    "internet_per_month = df_internet.groupby(['user_id', 'month'])['mb_used'].agg(total_gb_used='sum').reset_index()\n",
    "gbs_used = internet_per_month[['total_gb_used']].div(1024, axis=0)\n",
    "internet_per_month['total_gb_used'] = gbs_used\n",
    "internet_per_month['total_gb_used'] = internet_per_month['total_gb_used'].apply(lambda x: math.ceil(x))\n",
    "display(internet_per_month.head())"
   ]
  },
  {
   "cell_type": "code",
   "execution_count": 38,
   "metadata": {},
   "outputs": [
    {
     "data": {
      "text/html": [
       "<div>\n",
       "<style scoped>\n",
       "    .dataframe tbody tr th:only-of-type {\n",
       "        vertical-align: middle;\n",
       "    }\n",
       "\n",
       "    .dataframe tbody tr th {\n",
       "        vertical-align: top;\n",
       "    }\n",
       "\n",
       "    .dataframe thead th {\n",
       "        text-align: right;\n",
       "    }\n",
       "</style>\n",
       "<table border=\"1\" class=\"dataframe\">\n",
       "  <thead>\n",
       "    <tr style=\"text-align: right;\">\n",
       "      <th></th>\n",
       "      <th>user_id</th>\n",
       "      <th>month</th>\n",
       "      <th>total_calls</th>\n",
       "      <th>total_minutes</th>\n",
       "      <th>total_messages</th>\n",
       "      <th>total_gb_used</th>\n",
       "    </tr>\n",
       "  </thead>\n",
       "  <tbody>\n",
       "    <tr>\n",
       "      <th>0</th>\n",
       "      <td>1000</td>\n",
       "      <td>12</td>\n",
       "      <td>16.0</td>\n",
       "      <td>124.0</td>\n",
       "      <td>11.0</td>\n",
       "      <td>2.0</td>\n",
       "    </tr>\n",
       "    <tr>\n",
       "      <th>1</th>\n",
       "      <td>1001</td>\n",
       "      <td>8</td>\n",
       "      <td>27.0</td>\n",
       "      <td>182.0</td>\n",
       "      <td>30.0</td>\n",
       "      <td>7.0</td>\n",
       "    </tr>\n",
       "    <tr>\n",
       "      <th>2</th>\n",
       "      <td>1001</td>\n",
       "      <td>9</td>\n",
       "      <td>49.0</td>\n",
       "      <td>315.0</td>\n",
       "      <td>44.0</td>\n",
       "      <td>14.0</td>\n",
       "    </tr>\n",
       "    <tr>\n",
       "      <th>3</th>\n",
       "      <td>1001</td>\n",
       "      <td>10</td>\n",
       "      <td>65.0</td>\n",
       "      <td>393.0</td>\n",
       "      <td>53.0</td>\n",
       "      <td>22.0</td>\n",
       "    </tr>\n",
       "    <tr>\n",
       "      <th>4</th>\n",
       "      <td>1001</td>\n",
       "      <td>11</td>\n",
       "      <td>64.0</td>\n",
       "      <td>426.0</td>\n",
       "      <td>36.0</td>\n",
       "      <td>19.0</td>\n",
       "    </tr>\n",
       "  </tbody>\n",
       "</table>\n",
       "</div>"
      ],
      "text/plain": [
       "   user_id  month  total_calls  total_minutes  total_messages  total_gb_used\n",
       "0     1000     12         16.0          124.0            11.0            2.0\n",
       "1     1001      8         27.0          182.0            30.0            7.0\n",
       "2     1001      9         49.0          315.0            44.0           14.0\n",
       "3     1001     10         65.0          393.0            53.0           22.0\n",
       "4     1001     11         64.0          426.0            36.0           19.0"
      ]
     },
     "metadata": {},
     "output_type": "display_data"
    }
   ],
   "source": [
    "# Merge the data for calls, minutes, messages, internet based on user_id and month\n",
    "#calls = calls_per_month.merge(df_users, on='user_id', how='left')\n",
    "#minutes = minutes_per_month.merge(df_users, on='user_id', how='left')\n",
    "#internet = internet_per_month.merge(df_users, on='user_id', how='left')\n",
    "#messages = messages_per_month.merge(df_users, on='user_id', how='left')\n",
    "merged_data = pd.merge(calls_per_month, minutes_per_month, on=['user_id', 'month'],how='outer')\n",
    "merged_data = pd.merge(merged_data, messages_per_month, on=['user_id', 'month'], how='outer')\n",
    "merged_data = pd.merge(merged_data, internet_per_month, on=['user_id', 'month'], how='outer')\n",
    "#merged_data.info() This revealed that I have NaN values in Total Messages. I'm going to fill those in with 0\n",
    "merged_data['total_messages'] = merged_data['total_messages'].fillna(0)\n",
    "\n",
    "display(merged_data.head())"
   ]
  },
  {
   "cell_type": "markdown",
   "metadata": {},
   "source": [
    "Okay, so now I've merged on by using 'outer' instead of 'left'. I chose this because I reviewed the EDA lesson on merging, and it said that using outer will keep all values of both DataFrames and put NaN in place of empty values. By changing this I had to add a couple lines of code to the Statistical analysis at the end to remove null values that were keeping the t-test from functioning. I'm thinking this is what you were asking for, but if it's not, please let me know and I'll keep working on finding a solution that does make sense. "
   ]
  },
  {
   "cell_type": "code",
   "execution_count": 39,
   "metadata": {},
   "outputs": [
    {
     "data": {
      "text/html": [
       "<div>\n",
       "<style scoped>\n",
       "    .dataframe tbody tr th:only-of-type {\n",
       "        vertical-align: middle;\n",
       "    }\n",
       "\n",
       "    .dataframe tbody tr th {\n",
       "        vertical-align: top;\n",
       "    }\n",
       "\n",
       "    .dataframe thead th {\n",
       "        text-align: right;\n",
       "    }\n",
       "</style>\n",
       "<table border=\"1\" class=\"dataframe\">\n",
       "  <thead>\n",
       "    <tr style=\"text-align: right;\">\n",
       "      <th></th>\n",
       "      <th>user_id</th>\n",
       "      <th>month</th>\n",
       "      <th>total_calls</th>\n",
       "      <th>total_minutes</th>\n",
       "      <th>total_messages</th>\n",
       "      <th>total_gb_used</th>\n",
       "      <th>plan</th>\n",
       "      <th>messages_included</th>\n",
       "      <th>gb_per_month_included</th>\n",
       "      <th>minutes_included</th>\n",
       "      <th>usd_monthly_pay</th>\n",
       "      <th>usd_per_gb</th>\n",
       "      <th>usd_per_message</th>\n",
       "      <th>usd_per_minute</th>\n",
       "    </tr>\n",
       "  </thead>\n",
       "  <tbody>\n",
       "    <tr>\n",
       "      <th>1349</th>\n",
       "      <td>1406</td>\n",
       "      <td>11.0</td>\n",
       "      <td>70.0</td>\n",
       "      <td>449.0</td>\n",
       "      <td>0.0</td>\n",
       "      <td>23.0</td>\n",
       "      <td>surf</td>\n",
       "      <td>50</td>\n",
       "      <td>15</td>\n",
       "      <td>500</td>\n",
       "      <td>20</td>\n",
       "      <td>10</td>\n",
       "      <td>0.03</td>\n",
       "      <td>0.03</td>\n",
       "    </tr>\n",
       "    <tr>\n",
       "      <th>1049</th>\n",
       "      <td>1324</td>\n",
       "      <td>4.0</td>\n",
       "      <td>129.0</td>\n",
       "      <td>1043.0</td>\n",
       "      <td>120.0</td>\n",
       "      <td>14.0</td>\n",
       "      <td>surf</td>\n",
       "      <td>50</td>\n",
       "      <td>15</td>\n",
       "      <td>500</td>\n",
       "      <td>20</td>\n",
       "      <td>10</td>\n",
       "      <td>0.03</td>\n",
       "      <td>0.03</td>\n",
       "    </tr>\n",
       "    <tr>\n",
       "      <th>2096</th>\n",
       "      <td>1384</td>\n",
       "      <td>11.0</td>\n",
       "      <td>35.0</td>\n",
       "      <td>200.0</td>\n",
       "      <td>73.0</td>\n",
       "      <td>19.0</td>\n",
       "      <td>ultimate</td>\n",
       "      <td>1000</td>\n",
       "      <td>30</td>\n",
       "      <td>3000</td>\n",
       "      <td>70</td>\n",
       "      <td>7</td>\n",
       "      <td>0.01</td>\n",
       "      <td>0.01</td>\n",
       "    </tr>\n",
       "    <tr>\n",
       "      <th>171</th>\n",
       "      <td>1064</td>\n",
       "      <td>11.0</td>\n",
       "      <td>75.0</td>\n",
       "      <td>528.0</td>\n",
       "      <td>21.0</td>\n",
       "      <td>15.0</td>\n",
       "      <td>surf</td>\n",
       "      <td>50</td>\n",
       "      <td>15</td>\n",
       "      <td>500</td>\n",
       "      <td>20</td>\n",
       "      <td>10</td>\n",
       "      <td>0.03</td>\n",
       "      <td>0.03</td>\n",
       "    </tr>\n",
       "    <tr>\n",
       "      <th>2268</th>\n",
       "      <td>1475</td>\n",
       "      <td>9.0</td>\n",
       "      <td>44.0</td>\n",
       "      <td>289.0</td>\n",
       "      <td>72.0</td>\n",
       "      <td>17.0</td>\n",
       "      <td>ultimate</td>\n",
       "      <td>1000</td>\n",
       "      <td>30</td>\n",
       "      <td>3000</td>\n",
       "      <td>70</td>\n",
       "      <td>7</td>\n",
       "      <td>0.01</td>\n",
       "      <td>0.01</td>\n",
       "    </tr>\n",
       "    <tr>\n",
       "      <th>414</th>\n",
       "      <td>1125</td>\n",
       "      <td>12.0</td>\n",
       "      <td>65.0</td>\n",
       "      <td>517.0</td>\n",
       "      <td>54.0</td>\n",
       "      <td>23.0</td>\n",
       "      <td>surf</td>\n",
       "      <td>50</td>\n",
       "      <td>15</td>\n",
       "      <td>500</td>\n",
       "      <td>20</td>\n",
       "      <td>10</td>\n",
       "      <td>0.03</td>\n",
       "      <td>0.03</td>\n",
       "    </tr>\n",
       "    <tr>\n",
       "      <th>865</th>\n",
       "      <td>1263</td>\n",
       "      <td>9.0</td>\n",
       "      <td>72.0</td>\n",
       "      <td>555.0</td>\n",
       "      <td>4.0</td>\n",
       "      <td>21.0</td>\n",
       "      <td>surf</td>\n",
       "      <td>50</td>\n",
       "      <td>15</td>\n",
       "      <td>500</td>\n",
       "      <td>20</td>\n",
       "      <td>10</td>\n",
       "      <td>0.03</td>\n",
       "      <td>0.03</td>\n",
       "    </tr>\n",
       "    <tr>\n",
       "      <th>105</th>\n",
       "      <td>1045</td>\n",
       "      <td>12.0</td>\n",
       "      <td>86.0</td>\n",
       "      <td>623.0</td>\n",
       "      <td>47.0</td>\n",
       "      <td>17.0</td>\n",
       "      <td>surf</td>\n",
       "      <td>50</td>\n",
       "      <td>15</td>\n",
       "      <td>500</td>\n",
       "      <td>20</td>\n",
       "      <td>10</td>\n",
       "      <td>0.03</td>\n",
       "      <td>0.03</td>\n",
       "    </tr>\n",
       "    <tr>\n",
       "      <th>332</th>\n",
       "      <td>1103</td>\n",
       "      <td>10.0</td>\n",
       "      <td>50.0</td>\n",
       "      <td>373.0</td>\n",
       "      <td>35.0</td>\n",
       "      <td>19.0</td>\n",
       "      <td>surf</td>\n",
       "      <td>50</td>\n",
       "      <td>15</td>\n",
       "      <td>500</td>\n",
       "      <td>20</td>\n",
       "      <td>10</td>\n",
       "      <td>0.03</td>\n",
       "      <td>0.03</td>\n",
       "    </tr>\n",
       "    <tr>\n",
       "      <th>1137</th>\n",
       "      <td>1341</td>\n",
       "      <td>11.0</td>\n",
       "      <td>91.0</td>\n",
       "      <td>690.0</td>\n",
       "      <td>75.0</td>\n",
       "      <td>23.0</td>\n",
       "      <td>surf</td>\n",
       "      <td>50</td>\n",
       "      <td>15</td>\n",
       "      <td>500</td>\n",
       "      <td>20</td>\n",
       "      <td>10</td>\n",
       "      <td>0.03</td>\n",
       "      <td>0.03</td>\n",
       "    </tr>\n",
       "  </tbody>\n",
       "</table>\n",
       "</div>"
      ],
      "text/plain": [
       "      user_id  month  total_calls  total_minutes  total_messages  \\\n",
       "1349     1406   11.0         70.0          449.0             0.0   \n",
       "1049     1324    4.0        129.0         1043.0           120.0   \n",
       "2096     1384   11.0         35.0          200.0            73.0   \n",
       "171      1064   11.0         75.0          528.0            21.0   \n",
       "2268     1475    9.0         44.0          289.0            72.0   \n",
       "414      1125   12.0         65.0          517.0            54.0   \n",
       "865      1263    9.0         72.0          555.0             4.0   \n",
       "105      1045   12.0         86.0          623.0            47.0   \n",
       "332      1103   10.0         50.0          373.0            35.0   \n",
       "1137     1341   11.0         91.0          690.0            75.0   \n",
       "\n",
       "      total_gb_used      plan  messages_included  gb_per_month_included  \\\n",
       "1349           23.0      surf                 50                     15   \n",
       "1049           14.0      surf                 50                     15   \n",
       "2096           19.0  ultimate               1000                     30   \n",
       "171            15.0      surf                 50                     15   \n",
       "2268           17.0  ultimate               1000                     30   \n",
       "414            23.0      surf                 50                     15   \n",
       "865            21.0      surf                 50                     15   \n",
       "105            17.0      surf                 50                     15   \n",
       "332            19.0      surf                 50                     15   \n",
       "1137           23.0      surf                 50                     15   \n",
       "\n",
       "      minutes_included  usd_monthly_pay  usd_per_gb  usd_per_message  \\\n",
       "1349               500               20          10             0.03   \n",
       "1049               500               20          10             0.03   \n",
       "2096              3000               70           7             0.01   \n",
       "171                500               20          10             0.03   \n",
       "2268              3000               70           7             0.01   \n",
       "414                500               20          10             0.03   \n",
       "865                500               20          10             0.03   \n",
       "105                500               20          10             0.03   \n",
       "332                500               20          10             0.03   \n",
       "1137               500               20          10             0.03   \n",
       "\n",
       "      usd_per_minute  \n",
       "1349            0.03  \n",
       "1049            0.03  \n",
       "2096            0.01  \n",
       "171             0.03  \n",
       "2268            0.01  \n",
       "414             0.03  \n",
       "865             0.03  \n",
       "105             0.03  \n",
       "332             0.03  \n",
       "1137            0.03  "
      ]
     },
     "metadata": {},
     "output_type": "display_data"
    },
    {
     "data": {
      "text/html": [
       "<div>\n",
       "<style scoped>\n",
       "    .dataframe tbody tr th:only-of-type {\n",
       "        vertical-align: middle;\n",
       "    }\n",
       "\n",
       "    .dataframe tbody tr th {\n",
       "        vertical-align: top;\n",
       "    }\n",
       "\n",
       "    .dataframe thead th {\n",
       "        text-align: right;\n",
       "    }\n",
       "</style>\n",
       "<table border=\"1\" class=\"dataframe\">\n",
       "  <thead>\n",
       "    <tr style=\"text-align: right;\">\n",
       "      <th></th>\n",
       "      <th>messages_included</th>\n",
       "      <th>gb_per_month_included</th>\n",
       "      <th>minutes_included</th>\n",
       "      <th>usd_monthly_pay</th>\n",
       "      <th>usd_per_gb</th>\n",
       "      <th>usd_per_message</th>\n",
       "      <th>usd_per_minute</th>\n",
       "      <th>plan</th>\n",
       "    </tr>\n",
       "  </thead>\n",
       "  <tbody>\n",
       "    <tr>\n",
       "      <th>0</th>\n",
       "      <td>50</td>\n",
       "      <td>15</td>\n",
       "      <td>500</td>\n",
       "      <td>20</td>\n",
       "      <td>10</td>\n",
       "      <td>0.03</td>\n",
       "      <td>0.03</td>\n",
       "      <td>surf</td>\n",
       "    </tr>\n",
       "    <tr>\n",
       "      <th>1</th>\n",
       "      <td>1000</td>\n",
       "      <td>30</td>\n",
       "      <td>3000</td>\n",
       "      <td>70</td>\n",
       "      <td>7</td>\n",
       "      <td>0.01</td>\n",
       "      <td>0.01</td>\n",
       "      <td>ultimate</td>\n",
       "    </tr>\n",
       "  </tbody>\n",
       "</table>\n",
       "</div>"
      ],
      "text/plain": [
       "   messages_included  gb_per_month_included  minutes_included  \\\n",
       "0                 50                     15               500   \n",
       "1               1000                     30              3000   \n",
       "\n",
       "   usd_monthly_pay  usd_per_gb  usd_per_message  usd_per_minute      plan  \n",
       "0               20          10             0.03            0.03      surf  \n",
       "1               70           7             0.01            0.01  ultimate  "
      ]
     },
     "metadata": {},
     "output_type": "display_data"
    }
   ],
   "source": [
    "# Add the plan information\n",
    "# I used the user_plan dataframe that I created earlier in order to just bring in the plan each user has.\n",
    "merged_data=pd.merge(merged_data, user_plan, on='user_id',how='outer')\n",
    "merged_data=pd.merge(merged_data, df_plans, on='plan', how='outer')\n",
    "\n",
    "display(merged_data.sample(10))\n",
    "display(df_plans)"
   ]
  },
  {
   "cell_type": "markdown",
   "metadata": {},
   "source": [
    "For each plan, to calculate the total revenue I will need to find out how many extra minutes, extra messages, and extra gb were used. "
   ]
  },
  {
   "cell_type": "code",
   "execution_count": 40,
   "metadata": {},
   "outputs": [
    {
     "data": {
      "text/html": [
       "<div>\n",
       "<style scoped>\n",
       "    .dataframe tbody tr th:only-of-type {\n",
       "        vertical-align: middle;\n",
       "    }\n",
       "\n",
       "    .dataframe tbody tr th {\n",
       "        vertical-align: top;\n",
       "    }\n",
       "\n",
       "    .dataframe thead th {\n",
       "        text-align: right;\n",
       "    }\n",
       "</style>\n",
       "<table border=\"1\" class=\"dataframe\">\n",
       "  <thead>\n",
       "    <tr style=\"text-align: right;\">\n",
       "      <th></th>\n",
       "      <th>user_id</th>\n",
       "      <th>month</th>\n",
       "      <th>total_calls</th>\n",
       "      <th>total_minutes</th>\n",
       "      <th>total_messages</th>\n",
       "      <th>total_gb_used</th>\n",
       "      <th>plan</th>\n",
       "      <th>messages_included</th>\n",
       "      <th>gb_per_month_included</th>\n",
       "      <th>minutes_included</th>\n",
       "      <th>...</th>\n",
       "      <th>usd_per_gb</th>\n",
       "      <th>usd_per_message</th>\n",
       "      <th>usd_per_minute</th>\n",
       "      <th>extra_minutes</th>\n",
       "      <th>extra_messages</th>\n",
       "      <th>extra_gbs</th>\n",
       "      <th>extra_charge_minutes</th>\n",
       "      <th>extra_charge_messages</th>\n",
       "      <th>extra_charge_gbs</th>\n",
       "      <th>total_revenue</th>\n",
       "    </tr>\n",
       "  </thead>\n",
       "  <tbody>\n",
       "    <tr>\n",
       "      <th>1283</th>\n",
       "      <td>1387</td>\n",
       "      <td>8.0</td>\n",
       "      <td>47.0</td>\n",
       "      <td>383.0</td>\n",
       "      <td>15.0</td>\n",
       "      <td>15.0</td>\n",
       "      <td>surf</td>\n",
       "      <td>50</td>\n",
       "      <td>15</td>\n",
       "      <td>500</td>\n",
       "      <td>...</td>\n",
       "      <td>10</td>\n",
       "      <td>0.03</td>\n",
       "      <td>0.03</td>\n",
       "      <td>0.0</td>\n",
       "      <td>0.0</td>\n",
       "      <td>0.0</td>\n",
       "      <td>0.0</td>\n",
       "      <td>0.00</td>\n",
       "      <td>0.0</td>\n",
       "      <td>20.00</td>\n",
       "    </tr>\n",
       "    <tr>\n",
       "      <th>1930</th>\n",
       "      <td>1236</td>\n",
       "      <td>7.0</td>\n",
       "      <td>78.0</td>\n",
       "      <td>535.0</td>\n",
       "      <td>20.0</td>\n",
       "      <td>14.0</td>\n",
       "      <td>ultimate</td>\n",
       "      <td>1000</td>\n",
       "      <td>30</td>\n",
       "      <td>3000</td>\n",
       "      <td>...</td>\n",
       "      <td>7</td>\n",
       "      <td>0.01</td>\n",
       "      <td>0.01</td>\n",
       "      <td>0.0</td>\n",
       "      <td>0.0</td>\n",
       "      <td>0.0</td>\n",
       "      <td>0.0</td>\n",
       "      <td>0.00</td>\n",
       "      <td>0.0</td>\n",
       "      <td>70.00</td>\n",
       "    </tr>\n",
       "    <tr>\n",
       "      <th>1474</th>\n",
       "      <td>1466</td>\n",
       "      <td>8.0</td>\n",
       "      <td>31.0</td>\n",
       "      <td>171.0</td>\n",
       "      <td>46.0</td>\n",
       "      <td>14.0</td>\n",
       "      <td>surf</td>\n",
       "      <td>50</td>\n",
       "      <td>15</td>\n",
       "      <td>500</td>\n",
       "      <td>...</td>\n",
       "      <td>10</td>\n",
       "      <td>0.03</td>\n",
       "      <td>0.03</td>\n",
       "      <td>0.0</td>\n",
       "      <td>0.0</td>\n",
       "      <td>0.0</td>\n",
       "      <td>0.0</td>\n",
       "      <td>0.00</td>\n",
       "      <td>0.0</td>\n",
       "      <td>20.00</td>\n",
       "    </tr>\n",
       "    <tr>\n",
       "      <th>563</th>\n",
       "      <td>1171</td>\n",
       "      <td>5.0</td>\n",
       "      <td>37.0</td>\n",
       "      <td>251.0</td>\n",
       "      <td>0.0</td>\n",
       "      <td>21.0</td>\n",
       "      <td>surf</td>\n",
       "      <td>50</td>\n",
       "      <td>15</td>\n",
       "      <td>500</td>\n",
       "      <td>...</td>\n",
       "      <td>10</td>\n",
       "      <td>0.03</td>\n",
       "      <td>0.03</td>\n",
       "      <td>0.0</td>\n",
       "      <td>0.0</td>\n",
       "      <td>6.0</td>\n",
       "      <td>0.0</td>\n",
       "      <td>0.00</td>\n",
       "      <td>60.0</td>\n",
       "      <td>80.00</td>\n",
       "    </tr>\n",
       "    <tr>\n",
       "      <th>1646</th>\n",
       "      <td>1041</td>\n",
       "      <td>9.0</td>\n",
       "      <td>46.0</td>\n",
       "      <td>298.0</td>\n",
       "      <td>0.0</td>\n",
       "      <td>22.0</td>\n",
       "      <td>ultimate</td>\n",
       "      <td>1000</td>\n",
       "      <td>30</td>\n",
       "      <td>3000</td>\n",
       "      <td>...</td>\n",
       "      <td>7</td>\n",
       "      <td>0.01</td>\n",
       "      <td>0.01</td>\n",
       "      <td>0.0</td>\n",
       "      <td>0.0</td>\n",
       "      <td>0.0</td>\n",
       "      <td>0.0</td>\n",
       "      <td>0.00</td>\n",
       "      <td>0.0</td>\n",
       "      <td>70.00</td>\n",
       "    </tr>\n",
       "    <tr>\n",
       "      <th>2138</th>\n",
       "      <td>1405</td>\n",
       "      <td>8.0</td>\n",
       "      <td>22.0</td>\n",
       "      <td>119.0</td>\n",
       "      <td>68.0</td>\n",
       "      <td>23.0</td>\n",
       "      <td>ultimate</td>\n",
       "      <td>1000</td>\n",
       "      <td>30</td>\n",
       "      <td>3000</td>\n",
       "      <td>...</td>\n",
       "      <td>7</td>\n",
       "      <td>0.01</td>\n",
       "      <td>0.01</td>\n",
       "      <td>0.0</td>\n",
       "      <td>0.0</td>\n",
       "      <td>0.0</td>\n",
       "      <td>0.0</td>\n",
       "      <td>0.00</td>\n",
       "      <td>0.0</td>\n",
       "      <td>70.00</td>\n",
       "    </tr>\n",
       "    <tr>\n",
       "      <th>841</th>\n",
       "      <td>1259</td>\n",
       "      <td>8.0</td>\n",
       "      <td>24.0</td>\n",
       "      <td>199.0</td>\n",
       "      <td>36.0</td>\n",
       "      <td>3.0</td>\n",
       "      <td>surf</td>\n",
       "      <td>50</td>\n",
       "      <td>15</td>\n",
       "      <td>500</td>\n",
       "      <td>...</td>\n",
       "      <td>10</td>\n",
       "      <td>0.03</td>\n",
       "      <td>0.03</td>\n",
       "      <td>0.0</td>\n",
       "      <td>0.0</td>\n",
       "      <td>0.0</td>\n",
       "      <td>0.0</td>\n",
       "      <td>0.00</td>\n",
       "      <td>0.0</td>\n",
       "      <td>20.00</td>\n",
       "    </tr>\n",
       "    <tr>\n",
       "      <th>1660</th>\n",
       "      <td>1050</td>\n",
       "      <td>5.0</td>\n",
       "      <td>62.0</td>\n",
       "      <td>418.0</td>\n",
       "      <td>0.0</td>\n",
       "      <td>17.0</td>\n",
       "      <td>ultimate</td>\n",
       "      <td>1000</td>\n",
       "      <td>30</td>\n",
       "      <td>3000</td>\n",
       "      <td>...</td>\n",
       "      <td>7</td>\n",
       "      <td>0.01</td>\n",
       "      <td>0.01</td>\n",
       "      <td>0.0</td>\n",
       "      <td>0.0</td>\n",
       "      <td>0.0</td>\n",
       "      <td>0.0</td>\n",
       "      <td>0.00</td>\n",
       "      <td>0.0</td>\n",
       "      <td>70.00</td>\n",
       "    </tr>\n",
       "    <tr>\n",
       "      <th>378</th>\n",
       "      <td>1117</td>\n",
       "      <td>7.0</td>\n",
       "      <td>57.0</td>\n",
       "      <td>446.0</td>\n",
       "      <td>0.0</td>\n",
       "      <td>18.0</td>\n",
       "      <td>surf</td>\n",
       "      <td>50</td>\n",
       "      <td>15</td>\n",
       "      <td>500</td>\n",
       "      <td>...</td>\n",
       "      <td>10</td>\n",
       "      <td>0.03</td>\n",
       "      <td>0.03</td>\n",
       "      <td>0.0</td>\n",
       "      <td>0.0</td>\n",
       "      <td>3.0</td>\n",
       "      <td>0.0</td>\n",
       "      <td>0.00</td>\n",
       "      <td>30.0</td>\n",
       "      <td>50.00</td>\n",
       "    </tr>\n",
       "    <tr>\n",
       "      <th>1394</th>\n",
       "      <td>1421</td>\n",
       "      <td>12.0</td>\n",
       "      <td>60.0</td>\n",
       "      <td>413.0</td>\n",
       "      <td>87.0</td>\n",
       "      <td>19.0</td>\n",
       "      <td>surf</td>\n",
       "      <td>50</td>\n",
       "      <td>15</td>\n",
       "      <td>500</td>\n",
       "      <td>...</td>\n",
       "      <td>10</td>\n",
       "      <td>0.03</td>\n",
       "      <td>0.03</td>\n",
       "      <td>0.0</td>\n",
       "      <td>37.0</td>\n",
       "      <td>4.0</td>\n",
       "      <td>0.0</td>\n",
       "      <td>1.11</td>\n",
       "      <td>40.0</td>\n",
       "      <td>61.11</td>\n",
       "    </tr>\n",
       "  </tbody>\n",
       "</table>\n",
       "<p>10 rows × 21 columns</p>\n",
       "</div>"
      ],
      "text/plain": [
       "      user_id  month  total_calls  total_minutes  total_messages  \\\n",
       "1283     1387    8.0         47.0          383.0            15.0   \n",
       "1930     1236    7.0         78.0          535.0            20.0   \n",
       "1474     1466    8.0         31.0          171.0            46.0   \n",
       "563      1171    5.0         37.0          251.0             0.0   \n",
       "1646     1041    9.0         46.0          298.0             0.0   \n",
       "2138     1405    8.0         22.0          119.0            68.0   \n",
       "841      1259    8.0         24.0          199.0            36.0   \n",
       "1660     1050    5.0         62.0          418.0             0.0   \n",
       "378      1117    7.0         57.0          446.0             0.0   \n",
       "1394     1421   12.0         60.0          413.0            87.0   \n",
       "\n",
       "      total_gb_used      plan  messages_included  gb_per_month_included  \\\n",
       "1283           15.0      surf                 50                     15   \n",
       "1930           14.0  ultimate               1000                     30   \n",
       "1474           14.0      surf                 50                     15   \n",
       "563            21.0      surf                 50                     15   \n",
       "1646           22.0  ultimate               1000                     30   \n",
       "2138           23.0  ultimate               1000                     30   \n",
       "841             3.0      surf                 50                     15   \n",
       "1660           17.0  ultimate               1000                     30   \n",
       "378            18.0      surf                 50                     15   \n",
       "1394           19.0      surf                 50                     15   \n",
       "\n",
       "      minutes_included  ...  usd_per_gb  usd_per_message  usd_per_minute  \\\n",
       "1283               500  ...          10             0.03            0.03   \n",
       "1930              3000  ...           7             0.01            0.01   \n",
       "1474               500  ...          10             0.03            0.03   \n",
       "563                500  ...          10             0.03            0.03   \n",
       "1646              3000  ...           7             0.01            0.01   \n",
       "2138              3000  ...           7             0.01            0.01   \n",
       "841                500  ...          10             0.03            0.03   \n",
       "1660              3000  ...           7             0.01            0.01   \n",
       "378                500  ...          10             0.03            0.03   \n",
       "1394               500  ...          10             0.03            0.03   \n",
       "\n",
       "      extra_minutes  extra_messages  extra_gbs  extra_charge_minutes  \\\n",
       "1283            0.0             0.0        0.0                   0.0   \n",
       "1930            0.0             0.0        0.0                   0.0   \n",
       "1474            0.0             0.0        0.0                   0.0   \n",
       "563             0.0             0.0        6.0                   0.0   \n",
       "1646            0.0             0.0        0.0                   0.0   \n",
       "2138            0.0             0.0        0.0                   0.0   \n",
       "841             0.0             0.0        0.0                   0.0   \n",
       "1660            0.0             0.0        0.0                   0.0   \n",
       "378             0.0             0.0        3.0                   0.0   \n",
       "1394            0.0            37.0        4.0                   0.0   \n",
       "\n",
       "      extra_charge_messages  extra_charge_gbs  total_revenue  \n",
       "1283                   0.00               0.0          20.00  \n",
       "1930                   0.00               0.0          70.00  \n",
       "1474                   0.00               0.0          20.00  \n",
       "563                    0.00              60.0          80.00  \n",
       "1646                   0.00               0.0          70.00  \n",
       "2138                   0.00               0.0          70.00  \n",
       "841                    0.00               0.0          20.00  \n",
       "1660                   0.00               0.0          70.00  \n",
       "378                    0.00              30.0          50.00  \n",
       "1394                   1.11              40.0          61.11  \n",
       "\n",
       "[10 rows x 21 columns]"
      ]
     },
     "metadata": {},
     "output_type": "display_data"
    }
   ],
   "source": [
    "# First I need to find out how much extra usage each user has each month\n",
    "merged_data['extra_minutes'] = np.maximum(0, merged_data['total_minutes'] - merged_data['minutes_included'])\n",
    "merged_data['extra_messages'] = np.maximum(0, merged_data['total_messages'] - merged_data['messages_included'])\n",
    "merged_data['extra_gbs'] = np.maximum(0, merged_data['total_gb_used'] - merged_data['gb_per_month_included'])\n",
    "\n",
    "# Second, I will need to calculate the extra charge for each type of overage for each plan\n",
    "merged_data['extra_charge_minutes'] = merged_data['extra_minutes'] * merged_data['usd_per_minute']\n",
    "merged_data['extra_charge_messages'] = merged_data['extra_messages'] * merged_data['usd_per_message']\n",
    "merged_data['extra_charge_gbs'] = merged_data['extra_gbs']*merged_data['usd_per_gb']\n",
    "\n",
    "# Finally I can add all the extra charges into a total revenue column\n",
    "merged_data['total_revenue'] = merged_data['usd_monthly_pay'] + merged_data['extra_charge_minutes'] + merged_data['extra_charge_messages']+merged_data['extra_charge_gbs']\n",
    "\n",
    "display(merged_data.sample(10))\n"
   ]
  },
  {
   "cell_type": "markdown",
   "metadata": {},
   "source": [
    "## Study user behaviour"
   ]
  },
  {
   "cell_type": "markdown",
   "metadata": {},
   "source": [
    "### Calls"
   ]
  },
  {
   "cell_type": "code",
   "execution_count": 41,
   "metadata": {
    "scrolled": true
   },
   "outputs": [
    {
     "name": "stdout",
     "output_type": "stream",
     "text": [
      "Surf Average Monthly Call Duration\n"
     ]
    },
    {
     "data": {
      "text/html": [
       "<div>\n",
       "<style scoped>\n",
       "    .dataframe tbody tr th:only-of-type {\n",
       "        vertical-align: middle;\n",
       "    }\n",
       "\n",
       "    .dataframe tbody tr th {\n",
       "        vertical-align: top;\n",
       "    }\n",
       "\n",
       "    .dataframe thead th {\n",
       "        text-align: right;\n",
       "    }\n",
       "</style>\n",
       "<table border=\"1\" class=\"dataframe\">\n",
       "  <thead>\n",
       "    <tr style=\"text-align: right;\">\n",
       "      <th></th>\n",
       "      <th>month_y</th>\n",
       "      <th>plan</th>\n",
       "      <th>avg_call_duration</th>\n",
       "    </tr>\n",
       "  </thead>\n",
       "  <tbody>\n",
       "    <tr>\n",
       "      <th>0</th>\n",
       "      <td>1.0</td>\n",
       "      <td>surf</td>\n",
       "      <td>16.278439</td>\n",
       "    </tr>\n",
       "    <tr>\n",
       "      <th>1</th>\n",
       "      <td>2.0</td>\n",
       "      <td>surf</td>\n",
       "      <td>18.051595</td>\n",
       "    </tr>\n",
       "    <tr>\n",
       "      <th>2</th>\n",
       "      <td>3.0</td>\n",
       "      <td>surf</td>\n",
       "      <td>16.843188</td>\n",
       "    </tr>\n",
       "    <tr>\n",
       "      <th>3</th>\n",
       "      <td>4.0</td>\n",
       "      <td>surf</td>\n",
       "      <td>15.573784</td>\n",
       "    </tr>\n",
       "    <tr>\n",
       "      <th>4</th>\n",
       "      <td>5.0</td>\n",
       "      <td>surf</td>\n",
       "      <td>13.646956</td>\n",
       "    </tr>\n",
       "    <tr>\n",
       "      <th>5</th>\n",
       "      <td>6.0</td>\n",
       "      <td>surf</td>\n",
       "      <td>11.570810</td>\n",
       "    </tr>\n",
       "    <tr>\n",
       "      <th>6</th>\n",
       "      <td>7.0</td>\n",
       "      <td>surf</td>\n",
       "      <td>9.977540</td>\n",
       "    </tr>\n",
       "    <tr>\n",
       "      <th>7</th>\n",
       "      <td>8.0</td>\n",
       "      <td>surf</td>\n",
       "      <td>10.523561</td>\n",
       "    </tr>\n",
       "    <tr>\n",
       "      <th>8</th>\n",
       "      <td>9.0</td>\n",
       "      <td>surf</td>\n",
       "      <td>8.511093</td>\n",
       "    </tr>\n",
       "    <tr>\n",
       "      <th>9</th>\n",
       "      <td>10.0</td>\n",
       "      <td>surf</td>\n",
       "      <td>9.532442</td>\n",
       "    </tr>\n",
       "    <tr>\n",
       "      <th>10</th>\n",
       "      <td>11.0</td>\n",
       "      <td>surf</td>\n",
       "      <td>7.854287</td>\n",
       "    </tr>\n",
       "    <tr>\n",
       "      <th>11</th>\n",
       "      <td>12.0</td>\n",
       "      <td>surf</td>\n",
       "      <td>7.153813</td>\n",
       "    </tr>\n",
       "  </tbody>\n",
       "</table>\n",
       "</div>"
      ],
      "text/plain": [
       "    month_y  plan  avg_call_duration\n",
       "0       1.0  surf          16.278439\n",
       "1       2.0  surf          18.051595\n",
       "2       3.0  surf          16.843188\n",
       "3       4.0  surf          15.573784\n",
       "4       5.0  surf          13.646956\n",
       "5       6.0  surf          11.570810\n",
       "6       7.0  surf           9.977540\n",
       "7       8.0  surf          10.523561\n",
       "8       9.0  surf           8.511093\n",
       "9      10.0  surf           9.532442\n",
       "10     11.0  surf           7.854287\n",
       "11     12.0  surf           7.153813"
      ]
     },
     "metadata": {},
     "output_type": "display_data"
    },
    {
     "name": "stdout",
     "output_type": "stream",
     "text": [
      "Ultimate Average Monthly Call Duration\n"
     ]
    },
    {
     "data": {
      "text/html": [
       "<div>\n",
       "<style scoped>\n",
       "    .dataframe tbody tr th:only-of-type {\n",
       "        vertical-align: middle;\n",
       "    }\n",
       "\n",
       "    .dataframe tbody tr th {\n",
       "        vertical-align: top;\n",
       "    }\n",
       "\n",
       "    .dataframe thead th {\n",
       "        text-align: right;\n",
       "    }\n",
       "</style>\n",
       "<table border=\"1\" class=\"dataframe\">\n",
       "  <thead>\n",
       "    <tr style=\"text-align: right;\">\n",
       "      <th></th>\n",
       "      <th>month_y</th>\n",
       "      <th>plan</th>\n",
       "      <th>avg_call_duration</th>\n",
       "    </tr>\n",
       "  </thead>\n",
       "  <tbody>\n",
       "    <tr>\n",
       "      <th>0</th>\n",
       "      <td>1.0</td>\n",
       "      <td>ultimate</td>\n",
       "      <td>32.752532</td>\n",
       "    </tr>\n",
       "    <tr>\n",
       "      <th>1</th>\n",
       "      <td>2.0</td>\n",
       "      <td>ultimate</td>\n",
       "      <td>9.183100</td>\n",
       "    </tr>\n",
       "    <tr>\n",
       "      <th>2</th>\n",
       "      <td>3.0</td>\n",
       "      <td>ultimate</td>\n",
       "      <td>16.079494</td>\n",
       "    </tr>\n",
       "    <tr>\n",
       "      <th>3</th>\n",
       "      <td>4.0</td>\n",
       "      <td>ultimate</td>\n",
       "      <td>11.517677</td>\n",
       "    </tr>\n",
       "    <tr>\n",
       "      <th>4</th>\n",
       "      <td>5.0</td>\n",
       "      <td>ultimate</td>\n",
       "      <td>10.280760</td>\n",
       "    </tr>\n",
       "    <tr>\n",
       "      <th>5</th>\n",
       "      <td>6.0</td>\n",
       "      <td>ultimate</td>\n",
       "      <td>9.047193</td>\n",
       "    </tr>\n",
       "    <tr>\n",
       "      <th>6</th>\n",
       "      <td>7.0</td>\n",
       "      <td>ultimate</td>\n",
       "      <td>10.824032</td>\n",
       "    </tr>\n",
       "    <tr>\n",
       "      <th>7</th>\n",
       "      <td>8.0</td>\n",
       "      <td>ultimate</td>\n",
       "      <td>8.897471</td>\n",
       "    </tr>\n",
       "    <tr>\n",
       "      <th>8</th>\n",
       "      <td>9.0</td>\n",
       "      <td>ultimate</td>\n",
       "      <td>7.858150</td>\n",
       "    </tr>\n",
       "    <tr>\n",
       "      <th>9</th>\n",
       "      <td>10.0</td>\n",
       "      <td>ultimate</td>\n",
       "      <td>7.418711</td>\n",
       "    </tr>\n",
       "    <tr>\n",
       "      <th>10</th>\n",
       "      <td>11.0</td>\n",
       "      <td>ultimate</td>\n",
       "      <td>7.488014</td>\n",
       "    </tr>\n",
       "    <tr>\n",
       "      <th>11</th>\n",
       "      <td>12.0</td>\n",
       "      <td>ultimate</td>\n",
       "      <td>6.779267</td>\n",
       "    </tr>\n",
       "  </tbody>\n",
       "</table>\n",
       "</div>"
      ],
      "text/plain": [
       "    month_y      plan  avg_call_duration\n",
       "0       1.0  ultimate          32.752532\n",
       "1       2.0  ultimate           9.183100\n",
       "2       3.0  ultimate          16.079494\n",
       "3       4.0  ultimate          11.517677\n",
       "4       5.0  ultimate          10.280760\n",
       "5       6.0  ultimate           9.047193\n",
       "6       7.0  ultimate          10.824032\n",
       "7       8.0  ultimate           8.897471\n",
       "8       9.0  ultimate           7.858150\n",
       "9      10.0  ultimate           7.418711\n",
       "10     11.0  ultimate           7.488014\n",
       "11     12.0  ultimate           6.779267"
      ]
     },
     "metadata": {},
     "output_type": "display_data"
    }
   ],
   "source": [
    "# Compare average duration of calls per each plan per each distinct month. Plot a bar plat to visualize it.\n",
    "# First I'm going to merge the minutes per month and users dataframs. Then I will separate the two plans into their own dataframes\n",
    "# I'm also going to create a new column that calculates the average call time\n",
    "calls_users = pd.merge(minutes_per_month, calls_per_month, on=['user_id'],how='outer')\n",
    "calls_users['average_call_time'] = calls_users['total_minutes']/calls_users['total_calls']\n",
    "calls_users = pd.merge(calls_users, df_users, on=['user_id'], how='outer')\n",
    "\n",
    "#getting just the Surf data\n",
    "surf_call_group = calls_users.groupby(calls_users.plan)\n",
    "surf_calls = surf_call_group.get_group('surf')\n",
    "#getting just the Ultimate data\n",
    "ultimate_call_group = calls_users.groupby(calls_users.plan)\n",
    "ultimate_calls = ultimate_call_group.get_group('ultimate')\n",
    "\n",
    "#making DataFrames of the average call duration per month\n",
    "surf_avg_call_duration = surf_calls.groupby(['month_y','plan'])['average_call_time'].mean().reset_index(name='avg_call_duration')\n",
    "print('Surf Average Monthly Call Duration')\n",
    "display(surf_avg_call_duration)\n",
    "print('Ultimate Average Monthly Call Duration')\n",
    "ultimate_avg_call_duration = ultimate_calls.groupby(['month_y','plan'])['average_call_time'].mean().reset_index(name='avg_call_duration')\n",
    "display(ultimate_avg_call_duration)\n"
   ]
  },
  {
   "cell_type": "code",
   "execution_count": 42,
   "metadata": {
    "scrolled": true
   },
   "outputs": [
    {
     "data": {
      "text/plain": [
       "<Axes: title={'center': 'Ultimate Users Average Call Duration Per Month'}, xlabel='Month', ylabel='Avg Duration'>"
      ]
     },
     "execution_count": 42,
     "metadata": {},
     "output_type": "execute_result"
    },
    {
     "data": {
      "image/png": "[encoded data removed]",
      "text/plain": [
       "<Figure size 640x480 with 1 Axes>"
      ]
     },
     "metadata": {},
     "output_type": "display_data"
    },
    {
     "data": {
      "image/png": "[encoded data removed]",
      "text/plain": [
       "<Figure size 640x480 with 1 Axes>"
      ]
     },
     "metadata": {},
     "output_type": "display_data"
    }
   ],
   "source": [
    "#I'll start with making separate charts to show them individually\n",
    "surf_avg_call_duration.plot(x='month_y', kind='bar', title='Surf Users Average Call Duration Per Month', xlabel = 'Month', ylabel='Avg Duration')\n",
    "\n",
    "ultimate_avg_call_duration.plot(x='month_y', kind='bar',title='Ultimate Users Average Call Duration Per Month', xlabel='Month',ylabel='Avg Duration')"
   ]
  },
  {
   "cell_type": "code",
   "execution_count": 43,
   "metadata": {},
   "outputs": [
    {
     "data": {
      "image/png": "[encoded data removed]",
      "text/plain": [
       "<Figure size 640x480 with 1 Axes>"
      ]
     },
     "metadata": {},
     "output_type": "display_data"
    }
   ],
   "source": [
    "#Now I will make a bar chart that compares the two groups\n",
    "avg_calls = pd.merge(surf_avg_call_duration, ultimate_avg_call_duration, on='month_y',how='left')\n",
    "avg_calls.plot(x='month_y', kind='bar', title='Comparison of Ultimate and Surf Plans for Average Call Duration by Month', xlabel='Month', ylabel='Avg Duration')\n",
    "plt.legend(['Surf','Ultimate'])\n",
    "plt.show()"
   ]
  },
  {
   "cell_type": "code",
   "execution_count": 44,
   "metadata": {
    "scrolled": true
   },
   "outputs": [
    {
     "data": {
      "text/html": [
       "<div>\n",
       "<style scoped>\n",
       "    .dataframe tbody tr th:only-of-type {\n",
       "        vertical-align: middle;\n",
       "    }\n",
       "\n",
       "    .dataframe tbody tr th {\n",
       "        vertical-align: top;\n",
       "    }\n",
       "\n",
       "    .dataframe thead th {\n",
       "        text-align: right;\n",
       "    }\n",
       "</style>\n",
       "<table border=\"1\" class=\"dataframe\">\n",
       "  <thead>\n",
       "    <tr style=\"text-align: right;\">\n",
       "      <th></th>\n",
       "      <th>month</th>\n",
       "      <th>plan_x</th>\n",
       "      <th>average_minutes_x</th>\n",
       "      <th>plan_y</th>\n",
       "      <th>average_minutes_y</th>\n",
       "    </tr>\n",
       "  </thead>\n",
       "  <tbody>\n",
       "    <tr>\n",
       "      <th>0</th>\n",
       "      <td>1.0</td>\n",
       "      <td>surf</td>\n",
       "      <td>203.000000</td>\n",
       "      <td>ultimate</td>\n",
       "      <td>193.500000</td>\n",
       "    </tr>\n",
       "    <tr>\n",
       "      <th>1</th>\n",
       "      <td>2.0</td>\n",
       "      <td>surf</td>\n",
       "      <td>297.000000</td>\n",
       "      <td>ultimate</td>\n",
       "      <td>470.333333</td>\n",
       "    </tr>\n",
       "    <tr>\n",
       "      <th>2</th>\n",
       "      <td>3.0</td>\n",
       "      <td>surf</td>\n",
       "      <td>330.000000</td>\n",
       "      <td>ultimate</td>\n",
       "      <td>304.250000</td>\n",
       "    </tr>\n",
       "    <tr>\n",
       "      <th>3</th>\n",
       "      <td>4.0</td>\n",
       "      <td>surf</td>\n",
       "      <td>351.540000</td>\n",
       "      <td>ultimate</td>\n",
       "      <td>336.857143</td>\n",
       "    </tr>\n",
       "    <tr>\n",
       "      <th>4</th>\n",
       "      <td>5.0</td>\n",
       "      <td>surf</td>\n",
       "      <td>410.240000</td>\n",
       "      <td>ultimate</td>\n",
       "      <td>406.241379</td>\n",
       "    </tr>\n",
       "    <tr>\n",
       "      <th>5</th>\n",
       "      <td>6.0</td>\n",
       "      <td>surf</td>\n",
       "      <td>435.791667</td>\n",
       "      <td>ultimate</td>\n",
       "      <td>387.444444</td>\n",
       "    </tr>\n",
       "    <tr>\n",
       "      <th>6</th>\n",
       "      <td>7.0</td>\n",
       "      <td>surf</td>\n",
       "      <td>453.733333</td>\n",
       "      <td>ultimate</td>\n",
       "      <td>427.067797</td>\n",
       "    </tr>\n",
       "    <tr>\n",
       "      <th>7</th>\n",
       "      <td>8.0</td>\n",
       "      <td>surf</td>\n",
       "      <td>417.849057</td>\n",
       "      <td>ultimate</td>\n",
       "      <td>421.436620</td>\n",
       "    </tr>\n",
       "    <tr>\n",
       "      <th>8</th>\n",
       "      <td>9.0</td>\n",
       "      <td>surf</td>\n",
       "      <td>420.732984</td>\n",
       "      <td>ultimate</td>\n",
       "      <td>437.511628</td>\n",
       "    </tr>\n",
       "    <tr>\n",
       "      <th>9</th>\n",
       "      <td>10.0</td>\n",
       "      <td>surf</td>\n",
       "      <td>438.991379</td>\n",
       "      <td>ultimate</td>\n",
       "      <td>455.028571</td>\n",
       "    </tr>\n",
       "    <tr>\n",
       "      <th>10</th>\n",
       "      <td>11.0</td>\n",
       "      <td>surf</td>\n",
       "      <td>432.494585</td>\n",
       "      <td>ultimate</td>\n",
       "      <td>448.730159</td>\n",
       "    </tr>\n",
       "    <tr>\n",
       "      <th>11</th>\n",
       "      <td>12.0</td>\n",
       "      <td>surf</td>\n",
       "      <td>484.501608</td>\n",
       "      <td>ultimate</td>\n",
       "      <td>465.261745</td>\n",
       "    </tr>\n",
       "  </tbody>\n",
       "</table>\n",
       "</div>"
      ],
      "text/plain": [
       "    month plan_x  average_minutes_x    plan_y  average_minutes_y\n",
       "0     1.0   surf         203.000000  ultimate         193.500000\n",
       "1     2.0   surf         297.000000  ultimate         470.333333\n",
       "2     3.0   surf         330.000000  ultimate         304.250000\n",
       "3     4.0   surf         351.540000  ultimate         336.857143\n",
       "4     5.0   surf         410.240000  ultimate         406.241379\n",
       "5     6.0   surf         435.791667  ultimate         387.444444\n",
       "6     7.0   surf         453.733333  ultimate         427.067797\n",
       "7     8.0   surf         417.849057  ultimate         421.436620\n",
       "8     9.0   surf         420.732984  ultimate         437.511628\n",
       "9    10.0   surf         438.991379  ultimate         455.028571\n",
       "10   11.0   surf         432.494585  ultimate         448.730159\n",
       "11   12.0   surf         484.501608  ultimate         465.261745"
      ]
     },
     "metadata": {},
     "output_type": "display_data"
    }
   ],
   "source": [
    "# Compare the number of minutes users of each plan require each month. Plot a histogram.\n",
    "\n",
    "surf_group = merged_data.groupby(merged_data.plan)\n",
    "surf = surf_group.get_group('surf')\n",
    "ultimate_group = merged_data.groupby(merged_data.plan)\n",
    "ultimate = ultimate_group.get_group('ultimate')\n",
    "#display(surf.head())\n",
    "#display(ultimate.head())\n",
    "surf_minutes_needed = surf.groupby(['month','plan'])['total_minutes'].mean().reset_index(name='average_minutes')\n",
    "ultimate_minutes_needed = ultimate.groupby(['month','plan'])['total_minutes'].mean().reset_index(name='average_minutes')\n",
    "minutes_needed = pd.merge(surf_minutes_needed, ultimate_minutes_needed, on='month', how='left')\n",
    "display(minutes_needed)"
   ]
  },
  {
   "cell_type": "code",
   "execution_count": 45,
   "metadata": {},
   "outputs": [
    {
     "data": {
      "image/png": "[encoded data removed]",
      "text/plain": [
       "<Figure size 640x480 with 1 Axes>"
      ]
     },
     "metadata": {},
     "output_type": "display_data"
    }
   ],
   "source": [
    "#This is the histogram I've made, I'm not sure if it really gets at the heart of the analysis\n",
    "plt.hist(minutes_needed['average_minutes_x'], bins=12)\n",
    "plt.hist(minutes_needed['average_minutes_y'], bins=12, alpha=.7)\n",
    "plt.legend(['Surf','Ultimate'])\n",
    "plt.show()"
   ]
  },
  {
   "cell_type": "code",
   "execution_count": 46,
   "metadata": {},
   "outputs": [
    {
     "data": {
      "image/png": "[encoded data removed]",
      "text/plain": [
       "<Figure size 640x480 with 1 Axes>"
      ]
     },
     "metadata": {},
     "output_type": "display_data"
    }
   ],
   "source": [
    "# I wanted to see this as a bar graph because I thought that it would show the comparison a little more cleanly.\n",
    "minutes_needed.plot(x='month', kind='bar', xlabel='Month', ylabel='Minutes Used', title='Comparison of plan call usage')\n",
    "plt.legend(['Surf','Ultimate'])\n",
    "plt.show()\n",
    "\n"
   ]
  },
  {
   "cell_type": "code",
   "execution_count": 47,
   "metadata": {
    "scrolled": true
   },
   "outputs": [
    {
     "name": "stdout",
     "output_type": "stream",
     "text": [
      "The average monthly call duration for the Surf plan is: 12.13 minutes\n",
      "The average monthly call duration for the Ultimate plan is: 11.51 minutes\n",
      "The Surf plan variance on call duration is: 13.26\n",
      "The Ultimate plan variance on call duration is: 46.75\n"
     ]
    }
   ],
   "source": [
    "# Calculate the mean and the variance of the monthly call duration\n",
    "#display(surf_avg_call_duration, ultimate_avg_call_duration)\n",
    "surf_avg = surf_avg_call_duration['avg_call_duration'].mean()\n",
    "ultimate_avg = ultimate_avg_call_duration['avg_call_duration'].mean()\n",
    "surf_var = np.var(surf_avg_call_duration['avg_call_duration'])\n",
    "ultimate_var = np.var(ultimate_avg_call_duration['avg_call_duration'])\n",
    "print(f'The average monthly call duration for the Surf plan is: {surf_avg:.2f} minutes')\n",
    "print(f'The average monthly call duration for the Ultimate plan is: {ultimate_avg:.2f} minutes')\n",
    "print(f'The Surf plan variance on call duration is: {surf_var:.2f}')\n",
    "print(f'The Ultimate plan variance on call duration is: {ultimate_var:.2f}')"
   ]
  },
  {
   "cell_type": "code",
   "execution_count": 48,
   "metadata": {},
   "outputs": [
    {
     "data": {
      "text/html": [
       "<div>\n",
       "<style scoped>\n",
       "    .dataframe tbody tr th:only-of-type {\n",
       "        vertical-align: middle;\n",
       "    }\n",
       "\n",
       "    .dataframe tbody tr th {\n",
       "        vertical-align: top;\n",
       "    }\n",
       "\n",
       "    .dataframe thead th {\n",
       "        text-align: right;\n",
       "    }\n",
       "</style>\n",
       "<table border=\"1\" class=\"dataframe\">\n",
       "  <thead>\n",
       "    <tr style=\"text-align: right;\">\n",
       "      <th></th>\n",
       "      <th>user_id</th>\n",
       "      <th>month_x</th>\n",
       "      <th>total_minutes</th>\n",
       "      <th>month_y</th>\n",
       "      <th>total_calls</th>\n",
       "      <th>average_call_time</th>\n",
       "      <th>first_name</th>\n",
       "      <th>last_name</th>\n",
       "      <th>age</th>\n",
       "      <th>city</th>\n",
       "      <th>reg_date</th>\n",
       "      <th>plan</th>\n",
       "      <th>churn_date</th>\n",
       "    </tr>\n",
       "  </thead>\n",
       "  <tbody>\n",
       "    <tr>\n",
       "      <th>0</th>\n",
       "      <td>1000</td>\n",
       "      <td>12.0</td>\n",
       "      <td>124.0</td>\n",
       "      <td>12.0</td>\n",
       "      <td>16.0</td>\n",
       "      <td>7.750000</td>\n",
       "      <td>Anamaria</td>\n",
       "      <td>Bauer</td>\n",
       "      <td>45</td>\n",
       "      <td>Atlanta-Sandy Springs-Roswell, GA MSA</td>\n",
       "      <td>2018-12-24</td>\n",
       "      <td>ultimate</td>\n",
       "      <td>NaN</td>\n",
       "    </tr>\n",
       "    <tr>\n",
       "      <th>1</th>\n",
       "      <td>1001</td>\n",
       "      <td>8.0</td>\n",
       "      <td>182.0</td>\n",
       "      <td>8.0</td>\n",
       "      <td>27.0</td>\n",
       "      <td>6.740741</td>\n",
       "      <td>Mickey</td>\n",
       "      <td>Wilkerson</td>\n",
       "      <td>28</td>\n",
       "      <td>Seattle-Tacoma-Bellevue, WA MSA</td>\n",
       "      <td>2018-08-13</td>\n",
       "      <td>surf</td>\n",
       "      <td>NaN</td>\n",
       "    </tr>\n",
       "    <tr>\n",
       "      <th>2</th>\n",
       "      <td>1001</td>\n",
       "      <td>8.0</td>\n",
       "      <td>182.0</td>\n",
       "      <td>9.0</td>\n",
       "      <td>49.0</td>\n",
       "      <td>3.714286</td>\n",
       "      <td>Mickey</td>\n",
       "      <td>Wilkerson</td>\n",
       "      <td>28</td>\n",
       "      <td>Seattle-Tacoma-Bellevue, WA MSA</td>\n",
       "      <td>2018-08-13</td>\n",
       "      <td>surf</td>\n",
       "      <td>NaN</td>\n",
       "    </tr>\n",
       "    <tr>\n",
       "      <th>3</th>\n",
       "      <td>1001</td>\n",
       "      <td>8.0</td>\n",
       "      <td>182.0</td>\n",
       "      <td>10.0</td>\n",
       "      <td>65.0</td>\n",
       "      <td>2.800000</td>\n",
       "      <td>Mickey</td>\n",
       "      <td>Wilkerson</td>\n",
       "      <td>28</td>\n",
       "      <td>Seattle-Tacoma-Bellevue, WA MSA</td>\n",
       "      <td>2018-08-13</td>\n",
       "      <td>surf</td>\n",
       "      <td>NaN</td>\n",
       "    </tr>\n",
       "    <tr>\n",
       "      <th>4</th>\n",
       "      <td>1001</td>\n",
       "      <td>8.0</td>\n",
       "      <td>182.0</td>\n",
       "      <td>11.0</td>\n",
       "      <td>64.0</td>\n",
       "      <td>2.843750</td>\n",
       "      <td>Mickey</td>\n",
       "      <td>Wilkerson</td>\n",
       "      <td>28</td>\n",
       "      <td>Seattle-Tacoma-Bellevue, WA MSA</td>\n",
       "      <td>2018-08-13</td>\n",
       "      <td>surf</td>\n",
       "      <td>NaN</td>\n",
       "    </tr>\n",
       "  </tbody>\n",
       "</table>\n",
       "</div>"
      ],
      "text/plain": [
       "   user_id  month_x  total_minutes  month_y  total_calls  average_call_time  \\\n",
       "0     1000     12.0          124.0     12.0         16.0           7.750000   \n",
       "1     1001      8.0          182.0      8.0         27.0           6.740741   \n",
       "2     1001      8.0          182.0      9.0         49.0           3.714286   \n",
       "3     1001      8.0          182.0     10.0         65.0           2.800000   \n",
       "4     1001      8.0          182.0     11.0         64.0           2.843750   \n",
       "\n",
       "  first_name  last_name  age                                   city  \\\n",
       "0   Anamaria      Bauer   45  Atlanta-Sandy Springs-Roswell, GA MSA   \n",
       "1     Mickey  Wilkerson   28        Seattle-Tacoma-Bellevue, WA MSA   \n",
       "2     Mickey  Wilkerson   28        Seattle-Tacoma-Bellevue, WA MSA   \n",
       "3     Mickey  Wilkerson   28        Seattle-Tacoma-Bellevue, WA MSA   \n",
       "4     Mickey  Wilkerson   28        Seattle-Tacoma-Bellevue, WA MSA   \n",
       "\n",
       "     reg_date      plan churn_date  \n",
       "0  2018-12-24  ultimate        NaN  \n",
       "1  2018-08-13      surf        NaN  \n",
       "2  2018-08-13      surf        NaN  \n",
       "3  2018-08-13      surf        NaN  \n",
       "4  2018-08-13      surf        NaN  "
      ]
     },
     "metadata": {},
     "output_type": "display_data"
    }
   ],
   "source": [
    "display(calls_users.head())"
   ]
  },
  {
   "cell_type": "code",
   "execution_count": 49,
   "metadata": {},
   "outputs": [
    {
     "data": {
      "image/png": "[encoded data removed]",
      "text/plain": [
       "<Figure size 1200x600 with 1 Axes>"
      ]
     },
     "metadata": {},
     "output_type": "display_data"
    }
   ],
   "source": [
    "# Plot a boxplot to visualize the distribution of the monthly call duration\n",
    "import seaborn as sns\n",
    "plt.figure(figsize = (12, 6))\n",
    "sns.boxplot(x='month_y', y='total_minutes', data=calls_users)\n",
    "\n",
    "plt.title('Boxplot of Monthly Call Duration')\n",
    "plt.xlabel('Month')\n",
    "plt.ylabel('Call Duration')\n",
    "plt.show()"
   ]
  },
  {
   "cell_type": "markdown",
   "metadata": {},
   "source": [
    " After looking at this data, it does not appear that either plan has significantly different behavior with regard to minutes and phone calls. There were only a few months were I was able to find any substantial difference between the two plans."
   ]
  },
  {
   "cell_type": "markdown",
   "metadata": {},
   "source": [
    "### Messages"
   ]
  },
  {
   "cell_type": "code",
   "execution_count": 50,
   "metadata": {},
   "outputs": [
    {
     "data": {
      "text/html": [
       "<div>\n",
       "<style scoped>\n",
       "    .dataframe tbody tr th:only-of-type {\n",
       "        vertical-align: middle;\n",
       "    }\n",
       "\n",
       "    .dataframe tbody tr th {\n",
       "        vertical-align: top;\n",
       "    }\n",
       "\n",
       "    .dataframe thead th {\n",
       "        text-align: right;\n",
       "    }\n",
       "</style>\n",
       "<table border=\"1\" class=\"dataframe\">\n",
       "  <thead>\n",
       "    <tr style=\"text-align: right;\">\n",
       "      <th></th>\n",
       "      <th>month</th>\n",
       "      <th>plan_x</th>\n",
       "      <th>average_messages_x</th>\n",
       "      <th>plan_y</th>\n",
       "      <th>average_messages_y</th>\n",
       "    </tr>\n",
       "  </thead>\n",
       "  <tbody>\n",
       "    <tr>\n",
       "      <th>0</th>\n",
       "      <td>1.0</td>\n",
       "      <td>surf</td>\n",
       "      <td>10.500000</td>\n",
       "      <td>ultimate</td>\n",
       "      <td>15.500000</td>\n",
       "    </tr>\n",
       "    <tr>\n",
       "      <th>1</th>\n",
       "      <td>2.0</td>\n",
       "      <td>surf</td>\n",
       "      <td>12.000000</td>\n",
       "      <td>ultimate</td>\n",
       "      <td>21.571429</td>\n",
       "    </tr>\n",
       "    <tr>\n",
       "      <th>2</th>\n",
       "      <td>3.0</td>\n",
       "      <td>surf</td>\n",
       "      <td>15.260870</td>\n",
       "      <td>ultimate</td>\n",
       "      <td>20.250000</td>\n",
       "    </tr>\n",
       "    <tr>\n",
       "      <th>3</th>\n",
       "      <td>4.0</td>\n",
       "      <td>surf</td>\n",
       "      <td>17.400000</td>\n",
       "      <td>ultimate</td>\n",
       "      <td>22.047619</td>\n",
       "    </tr>\n",
       "    <tr>\n",
       "      <th>4</th>\n",
       "      <td>5.0</td>\n",
       "      <td>surf</td>\n",
       "      <td>24.012987</td>\n",
       "      <td>ultimate</td>\n",
       "      <td>32.103448</td>\n",
       "    </tr>\n",
       "    <tr>\n",
       "      <th>5</th>\n",
       "      <td>6.0</td>\n",
       "      <td>surf</td>\n",
       "      <td>25.298969</td>\n",
       "      <td>ultimate</td>\n",
       "      <td>29.340426</td>\n",
       "    </tr>\n",
       "    <tr>\n",
       "      <th>6</th>\n",
       "      <td>7.0</td>\n",
       "      <td>surf</td>\n",
       "      <td>27.033058</td>\n",
       "      <td>ultimate</td>\n",
       "      <td>32.830508</td>\n",
       "    </tr>\n",
       "    <tr>\n",
       "      <th>7</th>\n",
       "      <td>8.0</td>\n",
       "      <td>surf</td>\n",
       "      <td>28.777778</td>\n",
       "      <td>ultimate</td>\n",
       "      <td>38.478873</td>\n",
       "    </tr>\n",
       "    <tr>\n",
       "      <th>8</th>\n",
       "      <td>9.0</td>\n",
       "      <td>surf</td>\n",
       "      <td>30.762887</td>\n",
       "      <td>ultimate</td>\n",
       "      <td>37.895349</td>\n",
       "    </tr>\n",
       "    <tr>\n",
       "      <th>9</th>\n",
       "      <td>10.0</td>\n",
       "      <td>surf</td>\n",
       "      <td>33.839662</td>\n",
       "      <td>ultimate</td>\n",
       "      <td>39.443396</td>\n",
       "    </tr>\n",
       "    <tr>\n",
       "      <th>10</th>\n",
       "      <td>11.0</td>\n",
       "      <td>surf</td>\n",
       "      <td>32.385159</td>\n",
       "      <td>ultimate</td>\n",
       "      <td>38.606299</td>\n",
       "    </tr>\n",
       "    <tr>\n",
       "      <th>11</th>\n",
       "      <td>12.0</td>\n",
       "      <td>surf</td>\n",
       "      <td>38.600629</td>\n",
       "      <td>ultimate</td>\n",
       "      <td>45.006623</td>\n",
       "    </tr>\n",
       "  </tbody>\n",
       "</table>\n",
       "</div>"
      ],
      "text/plain": [
       "    month plan_x  average_messages_x    plan_y  average_messages_y\n",
       "0     1.0   surf           10.500000  ultimate           15.500000\n",
       "1     2.0   surf           12.000000  ultimate           21.571429\n",
       "2     3.0   surf           15.260870  ultimate           20.250000\n",
       "3     4.0   surf           17.400000  ultimate           22.047619\n",
       "4     5.0   surf           24.012987  ultimate           32.103448\n",
       "5     6.0   surf           25.298969  ultimate           29.340426\n",
       "6     7.0   surf           27.033058  ultimate           32.830508\n",
       "7     8.0   surf           28.777778  ultimate           38.478873\n",
       "8     9.0   surf           30.762887  ultimate           37.895349\n",
       "9    10.0   surf           33.839662  ultimate           39.443396\n",
       "10   11.0   surf           32.385159  ultimate           38.606299\n",
       "11   12.0   surf           38.600629  ultimate           45.006623"
      ]
     },
     "metadata": {},
     "output_type": "display_data"
    }
   ],
   "source": [
    "# Compare the number of messages users of each plan tend to send each month\n",
    "messages = messages_per_month.merge(df_users, on='user_id', how='left')\n",
    "#display(messages.head())\n",
    "surf_messages = surf.groupby(['month','plan'])['total_messages'].mean().reset_index(name='average_messages')\n",
    "ultimate_messages = ultimate.groupby(['month','plan'])['total_messages'].mean().reset_index(name='average_messages')\n",
    "#display(surf_messages)\n",
    "#display(ultimate_messages)\n",
    "messages_compared = pd.merge(surf_messages, ultimate_messages, on='month', how='left')\n",
    "display(messages_compared)"
   ]
  },
  {
   "cell_type": "code",
   "execution_count": 51,
   "metadata": {},
   "outputs": [
    {
     "data": {
      "image/png": "[encoded data removed]",
      "text/plain": [
       "<Figure size 640x480 with 1 Axes>"
      ]
     },
     "metadata": {},
     "output_type": "display_data"
    }
   ],
   "source": [
    "#I'm making a barplot to compare the two plans and their monthly messaging\n",
    "messages_compared.plot(x='month', kind='bar', xlabel='Month', ylabel='Messages Used', title='Comparison of plan message usage')\n",
    "plt.legend(['Surf','Ultimate'])\n",
    "plt.show()\n"
   ]
  },
  {
   "cell_type": "markdown",
   "metadata": {},
   "source": [
    "After analyzing this data, it appears that the users who subscribed to the Ultimate Plan did use more messages each month than those who subscribed to the Surf Plan."
   ]
  },
  {
   "cell_type": "markdown",
   "metadata": {},
   "source": [
    "### Internet"
   ]
  },
  {
   "cell_type": "code",
   "execution_count": 52,
   "metadata": {
    "scrolled": true
   },
   "outputs": [
    {
     "data": {
      "text/html": [
       "<div>\n",
       "<style scoped>\n",
       "    .dataframe tbody tr th:only-of-type {\n",
       "        vertical-align: middle;\n",
       "    }\n",
       "\n",
       "    .dataframe tbody tr th {\n",
       "        vertical-align: top;\n",
       "    }\n",
       "\n",
       "    .dataframe thead th {\n",
       "        text-align: right;\n",
       "    }\n",
       "</style>\n",
       "<table border=\"1\" class=\"dataframe\">\n",
       "  <thead>\n",
       "    <tr style=\"text-align: right;\">\n",
       "      <th></th>\n",
       "      <th>plan</th>\n",
       "      <th>total_gb_used</th>\n",
       "    </tr>\n",
       "  </thead>\n",
       "  <tbody>\n",
       "    <tr>\n",
       "      <th>0</th>\n",
       "      <td>surf</td>\n",
       "      <td>26223.0</td>\n",
       "    </tr>\n",
       "    <tr>\n",
       "      <th>1</th>\n",
       "      <td>ultimate</td>\n",
       "      <td>12461.0</td>\n",
       "    </tr>\n",
       "  </tbody>\n",
       "</table>\n",
       "</div>"
      ],
      "text/plain": [
       "       plan  total_gb_used\n",
       "0      surf        26223.0\n",
       "1  ultimate        12461.0"
      ]
     },
     "metadata": {},
     "output_type": "display_data"
    },
    {
     "data": {
      "text/html": [
       "<div>\n",
       "<style scoped>\n",
       "    .dataframe tbody tr th:only-of-type {\n",
       "        vertical-align: middle;\n",
       "    }\n",
       "\n",
       "    .dataframe tbody tr th {\n",
       "        vertical-align: top;\n",
       "    }\n",
       "\n",
       "    .dataframe thead th {\n",
       "        text-align: right;\n",
       "    }\n",
       "</style>\n",
       "<table border=\"1\" class=\"dataframe\">\n",
       "  <thead>\n",
       "    <tr style=\"text-align: right;\">\n",
       "      <th></th>\n",
       "      <th>month</th>\n",
       "      <th>plan_x</th>\n",
       "      <th>average_gb_x</th>\n",
       "      <th>plan_y</th>\n",
       "      <th>average_gb_y</th>\n",
       "    </tr>\n",
       "  </thead>\n",
       "  <tbody>\n",
       "    <tr>\n",
       "      <th>0</th>\n",
       "      <td>1.0</td>\n",
       "      <td>surf</td>\n",
       "      <td>5.000000</td>\n",
       "      <td>ultimate</td>\n",
       "      <td>7.250000</td>\n",
       "    </tr>\n",
       "    <tr>\n",
       "      <th>1</th>\n",
       "      <td>2.0</td>\n",
       "      <td>surf</td>\n",
       "      <td>12.222222</td>\n",
       "      <td>ultimate</td>\n",
       "      <td>17.285714</td>\n",
       "    </tr>\n",
       "    <tr>\n",
       "      <th>2</th>\n",
       "      <td>3.0</td>\n",
       "      <td>surf</td>\n",
       "      <td>13.565217</td>\n",
       "      <td>ultimate</td>\n",
       "      <td>18.416667</td>\n",
       "    </tr>\n",
       "    <tr>\n",
       "      <th>3</th>\n",
       "      <td>4.0</td>\n",
       "      <td>surf</td>\n",
       "      <td>12.469388</td>\n",
       "      <td>ultimate</td>\n",
       "      <td>16.333333</td>\n",
       "    </tr>\n",
       "    <tr>\n",
       "      <th>4</th>\n",
       "      <td>5.0</td>\n",
       "      <td>surf</td>\n",
       "      <td>14.302632</td>\n",
       "      <td>ultimate</td>\n",
       "      <td>16.862069</td>\n",
       "    </tr>\n",
       "    <tr>\n",
       "      <th>5</th>\n",
       "      <td>6.0</td>\n",
       "      <td>surf</td>\n",
       "      <td>15.810526</td>\n",
       "      <td>ultimate</td>\n",
       "      <td>15.425532</td>\n",
       "    </tr>\n",
       "    <tr>\n",
       "      <th>6</th>\n",
       "      <td>7.0</td>\n",
       "      <td>surf</td>\n",
       "      <td>17.016667</td>\n",
       "      <td>ultimate</td>\n",
       "      <td>16.491525</td>\n",
       "    </tr>\n",
       "    <tr>\n",
       "      <th>7</th>\n",
       "      <td>8.0</td>\n",
       "      <td>surf</td>\n",
       "      <td>17.201258</td>\n",
       "      <td>ultimate</td>\n",
       "      <td>17.845070</td>\n",
       "    </tr>\n",
       "    <tr>\n",
       "      <th>8</th>\n",
       "      <td>9.0</td>\n",
       "      <td>surf</td>\n",
       "      <td>16.777202</td>\n",
       "      <td>ultimate</td>\n",
       "      <td>17.011628</td>\n",
       "    </tr>\n",
       "    <tr>\n",
       "      <th>9</th>\n",
       "      <td>10.0</td>\n",
       "      <td>surf</td>\n",
       "      <td>17.632479</td>\n",
       "      <td>ultimate</td>\n",
       "      <td>17.885714</td>\n",
       "    </tr>\n",
       "    <tr>\n",
       "      <th>10</th>\n",
       "      <td>11.0</td>\n",
       "      <td>surf</td>\n",
       "      <td>16.548043</td>\n",
       "      <td>ultimate</td>\n",
       "      <td>17.118110</td>\n",
       "    </tr>\n",
       "    <tr>\n",
       "      <th>11</th>\n",
       "      <td>12.0</td>\n",
       "      <td>surf</td>\n",
       "      <td>18.296530</td>\n",
       "      <td>ultimate</td>\n",
       "      <td>18.397351</td>\n",
       "    </tr>\n",
       "  </tbody>\n",
       "</table>\n",
       "</div>"
      ],
      "text/plain": [
       "    month plan_x  average_gb_x    plan_y  average_gb_y\n",
       "0     1.0   surf      5.000000  ultimate      7.250000\n",
       "1     2.0   surf     12.222222  ultimate     17.285714\n",
       "2     3.0   surf     13.565217  ultimate     18.416667\n",
       "3     4.0   surf     12.469388  ultimate     16.333333\n",
       "4     5.0   surf     14.302632  ultimate     16.862069\n",
       "5     6.0   surf     15.810526  ultimate     15.425532\n",
       "6     7.0   surf     17.016667  ultimate     16.491525\n",
       "7     8.0   surf     17.201258  ultimate     17.845070\n",
       "8     9.0   surf     16.777202  ultimate     17.011628\n",
       "9    10.0   surf     17.632479  ultimate     17.885714\n",
       "10   11.0   surf     16.548043  ultimate     17.118110\n",
       "11   12.0   surf     18.296530  ultimate     18.397351"
      ]
     },
     "metadata": {},
     "output_type": "display_data"
    }
   ],
   "source": [
    "# Compare the amount of internet traffic consumed by users per plan\n",
    "internet_traffic_per_plan = merged_data.groupby('plan')['total_gb_used'].sum().reset_index()\n",
    "display(internet_traffic_per_plan)\n",
    "surf_int = surf.groupby(['month','plan'])['total_gb_used'].mean().reset_index(name='average_gb')\n",
    "ultimate_int = ultimate.groupby(['month','plan'])['total_gb_used'].mean().reset_index(name='average_gb')\n",
    "#display(surf_int)\n",
    "#display(ultimate_int)\n",
    "internet_compared = pd.merge(surf_int, ultimate_int, on='month', how='left')\n",
    "display(internet_compared)"
   ]
  },
  {
   "cell_type": "code",
   "execution_count": 53,
   "metadata": {},
   "outputs": [
    {
     "data": {
      "image/png": "[encoded data removed]",
      "text/plain": [
       "<Figure size 640x480 with 1 Axes>"
      ]
     },
     "metadata": {},
     "output_type": "display_data"
    }
   ],
   "source": [
    "internet_compared.plot(x='month', kind='bar', xlabel='Month', ylabel='GBs Used', title='Comparison of plan internet usage')\n",
    "plt.legend(['Surf','Ultimate'])\n",
    "plt.show()"
   ]
  },
  {
   "cell_type": "markdown",
   "metadata": {},
   "source": [
    "There does not appear to be as much variation between the two plans and the amount of internet usage during the second half of the year. In the first half of the year the Ultimate users did use quite a bit more internet. Interestingly the Surf plan accounts for twice the amount of internet usage as the Ultimate users. This would suggest that the majority of users are on the Surf plan."
   ]
  },
  {
   "cell_type": "markdown",
   "metadata": {},
   "source": [
    "## Revenue"
   ]
  },
  {
   "cell_type": "code",
   "execution_count": 54,
   "metadata": {},
   "outputs": [
    {
     "data": {
      "text/html": [
       "<div>\n",
       "<style scoped>\n",
       "    .dataframe tbody tr th:only-of-type {\n",
       "        vertical-align: middle;\n",
       "    }\n",
       "\n",
       "    .dataframe tbody tr th {\n",
       "        vertical-align: top;\n",
       "    }\n",
       "\n",
       "    .dataframe thead th {\n",
       "        text-align: right;\n",
       "    }\n",
       "</style>\n",
       "<table border=\"1\" class=\"dataframe\">\n",
       "  <thead>\n",
       "    <tr style=\"text-align: right;\">\n",
       "      <th></th>\n",
       "      <th>user_id</th>\n",
       "      <th>month</th>\n",
       "      <th>total_calls</th>\n",
       "      <th>total_minutes</th>\n",
       "      <th>total_messages</th>\n",
       "      <th>total_gb_used</th>\n",
       "      <th>plan</th>\n",
       "      <th>messages_included</th>\n",
       "      <th>gb_per_month_included</th>\n",
       "      <th>minutes_included</th>\n",
       "      <th>...</th>\n",
       "      <th>usd_per_gb</th>\n",
       "      <th>usd_per_message</th>\n",
       "      <th>usd_per_minute</th>\n",
       "      <th>extra_minutes</th>\n",
       "      <th>extra_messages</th>\n",
       "      <th>extra_gbs</th>\n",
       "      <th>extra_charge_minutes</th>\n",
       "      <th>extra_charge_messages</th>\n",
       "      <th>extra_charge_gbs</th>\n",
       "      <th>total_revenue</th>\n",
       "    </tr>\n",
       "  </thead>\n",
       "  <tbody>\n",
       "    <tr>\n",
       "      <th>0</th>\n",
       "      <td>1001</td>\n",
       "      <td>8.0</td>\n",
       "      <td>27.0</td>\n",
       "      <td>182.0</td>\n",
       "      <td>30.0</td>\n",
       "      <td>7.0</td>\n",
       "      <td>surf</td>\n",
       "      <td>50</td>\n",
       "      <td>15</td>\n",
       "      <td>500</td>\n",
       "      <td>...</td>\n",
       "      <td>10</td>\n",
       "      <td>0.03</td>\n",
       "      <td>0.03</td>\n",
       "      <td>0.0</td>\n",
       "      <td>0.0</td>\n",
       "      <td>0.0</td>\n",
       "      <td>0.0</td>\n",
       "      <td>0.00</td>\n",
       "      <td>0.0</td>\n",
       "      <td>20.00</td>\n",
       "    </tr>\n",
       "    <tr>\n",
       "      <th>1</th>\n",
       "      <td>1001</td>\n",
       "      <td>9.0</td>\n",
       "      <td>49.0</td>\n",
       "      <td>315.0</td>\n",
       "      <td>44.0</td>\n",
       "      <td>14.0</td>\n",
       "      <td>surf</td>\n",
       "      <td>50</td>\n",
       "      <td>15</td>\n",
       "      <td>500</td>\n",
       "      <td>...</td>\n",
       "      <td>10</td>\n",
       "      <td>0.03</td>\n",
       "      <td>0.03</td>\n",
       "      <td>0.0</td>\n",
       "      <td>0.0</td>\n",
       "      <td>0.0</td>\n",
       "      <td>0.0</td>\n",
       "      <td>0.00</td>\n",
       "      <td>0.0</td>\n",
       "      <td>20.00</td>\n",
       "    </tr>\n",
       "    <tr>\n",
       "      <th>2</th>\n",
       "      <td>1001</td>\n",
       "      <td>10.0</td>\n",
       "      <td>65.0</td>\n",
       "      <td>393.0</td>\n",
       "      <td>53.0</td>\n",
       "      <td>22.0</td>\n",
       "      <td>surf</td>\n",
       "      <td>50</td>\n",
       "      <td>15</td>\n",
       "      <td>500</td>\n",
       "      <td>...</td>\n",
       "      <td>10</td>\n",
       "      <td>0.03</td>\n",
       "      <td>0.03</td>\n",
       "      <td>0.0</td>\n",
       "      <td>3.0</td>\n",
       "      <td>7.0</td>\n",
       "      <td>0.0</td>\n",
       "      <td>0.09</td>\n",
       "      <td>70.0</td>\n",
       "      <td>90.09</td>\n",
       "    </tr>\n",
       "    <tr>\n",
       "      <th>3</th>\n",
       "      <td>1001</td>\n",
       "      <td>11.0</td>\n",
       "      <td>64.0</td>\n",
       "      <td>426.0</td>\n",
       "      <td>36.0</td>\n",
       "      <td>19.0</td>\n",
       "      <td>surf</td>\n",
       "      <td>50</td>\n",
       "      <td>15</td>\n",
       "      <td>500</td>\n",
       "      <td>...</td>\n",
       "      <td>10</td>\n",
       "      <td>0.03</td>\n",
       "      <td>0.03</td>\n",
       "      <td>0.0</td>\n",
       "      <td>0.0</td>\n",
       "      <td>4.0</td>\n",
       "      <td>0.0</td>\n",
       "      <td>0.00</td>\n",
       "      <td>40.0</td>\n",
       "      <td>60.00</td>\n",
       "    </tr>\n",
       "    <tr>\n",
       "      <th>4</th>\n",
       "      <td>1001</td>\n",
       "      <td>12.0</td>\n",
       "      <td>56.0</td>\n",
       "      <td>412.0</td>\n",
       "      <td>44.0</td>\n",
       "      <td>19.0</td>\n",
       "      <td>surf</td>\n",
       "      <td>50</td>\n",
       "      <td>15</td>\n",
       "      <td>500</td>\n",
       "      <td>...</td>\n",
       "      <td>10</td>\n",
       "      <td>0.03</td>\n",
       "      <td>0.03</td>\n",
       "      <td>0.0</td>\n",
       "      <td>0.0</td>\n",
       "      <td>4.0</td>\n",
       "      <td>0.0</td>\n",
       "      <td>0.00</td>\n",
       "      <td>40.0</td>\n",
       "      <td>60.00</td>\n",
       "    </tr>\n",
       "  </tbody>\n",
       "</table>\n",
       "<p>5 rows × 21 columns</p>\n",
       "</div>"
      ],
      "text/plain": [
       "   user_id  month  total_calls  total_minutes  total_messages  total_gb_used  \\\n",
       "0     1001    8.0         27.0          182.0            30.0            7.0   \n",
       "1     1001    9.0         49.0          315.0            44.0           14.0   \n",
       "2     1001   10.0         65.0          393.0            53.0           22.0   \n",
       "3     1001   11.0         64.0          426.0            36.0           19.0   \n",
       "4     1001   12.0         56.0          412.0            44.0           19.0   \n",
       "\n",
       "   plan  messages_included  gb_per_month_included  minutes_included  ...  \\\n",
       "0  surf                 50                     15               500  ...   \n",
       "1  surf                 50                     15               500  ...   \n",
       "2  surf                 50                     15               500  ...   \n",
       "3  surf                 50                     15               500  ...   \n",
       "4  surf                 50                     15               500  ...   \n",
       "\n",
       "   usd_per_gb  usd_per_message  usd_per_minute  extra_minutes  extra_messages  \\\n",
       "0          10             0.03            0.03            0.0             0.0   \n",
       "1          10             0.03            0.03            0.0             0.0   \n",
       "2          10             0.03            0.03            0.0             3.0   \n",
       "3          10             0.03            0.03            0.0             0.0   \n",
       "4          10             0.03            0.03            0.0             0.0   \n",
       "\n",
       "   extra_gbs  extra_charge_minutes  extra_charge_messages  extra_charge_gbs  \\\n",
       "0        0.0                   0.0                   0.00               0.0   \n",
       "1        0.0                   0.0                   0.00               0.0   \n",
       "2        7.0                   0.0                   0.09              70.0   \n",
       "3        4.0                   0.0                   0.00              40.0   \n",
       "4        4.0                   0.0                   0.00              40.0   \n",
       "\n",
       "   total_revenue  \n",
       "0          20.00  \n",
       "1          20.00  \n",
       "2          90.09  \n",
       "3          60.00  \n",
       "4          60.00  \n",
       "\n",
       "[5 rows x 21 columns]"
      ]
     },
     "metadata": {},
     "output_type": "display_data"
    }
   ],
   "source": [
    "display(merged_data.head())\n"
   ]
  },
  {
   "cell_type": "code",
   "execution_count": 55,
   "metadata": {},
   "outputs": [
    {
     "data": {
      "text/html": [
       "<div>\n",
       "<style scoped>\n",
       "    .dataframe tbody tr th:only-of-type {\n",
       "        vertical-align: middle;\n",
       "    }\n",
       "\n",
       "    .dataframe tbody tr th {\n",
       "        vertical-align: top;\n",
       "    }\n",
       "\n",
       "    .dataframe thead th {\n",
       "        text-align: right;\n",
       "    }\n",
       "</style>\n",
       "<table border=\"1\" class=\"dataframe\">\n",
       "  <thead>\n",
       "    <tr style=\"text-align: right;\">\n",
       "      <th></th>\n",
       "      <th>plan</th>\n",
       "      <th>total_revenue</th>\n",
       "    </tr>\n",
       "  </thead>\n",
       "  <tbody>\n",
       "    <tr>\n",
       "      <th>0</th>\n",
       "      <td>surf</td>\n",
       "      <td>92562.09</td>\n",
       "    </tr>\n",
       "    <tr>\n",
       "      <th>1</th>\n",
       "      <td>ultimate</td>\n",
       "      <td>51534.00</td>\n",
       "    </tr>\n",
       "  </tbody>\n",
       "</table>\n",
       "</div>"
      ],
      "text/plain": [
       "       plan  total_revenue\n",
       "0      surf       92562.09\n",
       "1  ultimate       51534.00"
      ]
     },
     "metadata": {},
     "output_type": "display_data"
    }
   ],
   "source": [
    "#I'm looking to get a broad summary of how much money each plan has brought in for Megaline.\n",
    "total_revenue_per_plan = merged_data.groupby('plan')['total_revenue'].sum().reset_index()\n",
    "display(total_revenue_per_plan)"
   ]
  },
  {
   "cell_type": "code",
   "execution_count": 56,
   "metadata": {
    "scrolled": true
   },
   "outputs": [
    {
     "data": {
      "image/png": "[encoded data removed]",
      "text/plain": [
       "<Figure size 1200x600 with 1 Axes>"
      ]
     },
     "metadata": {},
     "output_type": "display_data"
    }
   ],
   "source": [
    "#Here is a barplot to show how much more money the Surf plan brings in\n",
    "plt.figure(figsize=(12,6))\n",
    "sns.barplot(x='plan',y='total_revenue', data=total_revenue_per_plan)\n",
    "plt.title('Total Revenue from Each Plan')\n",
    "plt.xlabel('Plan')\n",
    "plt.ylabel('Total Revenue in USD')\n",
    "plt.show()"
   ]
  },
  {
   "cell_type": "code",
   "execution_count": 57,
   "metadata": {
    "scrolled": true
   },
   "outputs": [
    {
     "data": {
      "text/html": [
       "<div>\n",
       "<style scoped>\n",
       "    .dataframe tbody tr th:only-of-type {\n",
       "        vertical-align: middle;\n",
       "    }\n",
       "\n",
       "    .dataframe tbody tr th {\n",
       "        vertical-align: top;\n",
       "    }\n",
       "\n",
       "    .dataframe thead th {\n",
       "        text-align: right;\n",
       "    }\n",
       "</style>\n",
       "<table border=\"1\" class=\"dataframe\">\n",
       "  <thead>\n",
       "    <tr style=\"text-align: right;\">\n",
       "      <th></th>\n",
       "      <th>plan</th>\n",
       "      <th>total_revenue</th>\n",
       "    </tr>\n",
       "  </thead>\n",
       "  <tbody>\n",
       "    <tr>\n",
       "      <th>0</th>\n",
       "      <td>surf</td>\n",
       "      <td>60.498098</td>\n",
       "    </tr>\n",
       "    <tr>\n",
       "      <th>1</th>\n",
       "      <td>ultimate</td>\n",
       "      <td>72.277700</td>\n",
       "    </tr>\n",
       "  </tbody>\n",
       "</table>\n",
       "</div>"
      ],
      "text/plain": [
       "       plan  total_revenue\n",
       "0      surf      60.498098\n",
       "1  ultimate      72.277700"
      ]
     },
     "metadata": {},
     "output_type": "display_data"
    }
   ],
   "source": [
    "#I'm also interested in seeing how much revenue each plan brings in on average per user\n",
    "average_revenue_per_user = merged_data.groupby('plan')['total_revenue'].mean().reset_index()\n",
    "display(average_revenue_per_user)"
   ]
  },
  {
   "cell_type": "code",
   "execution_count": 58,
   "metadata": {
    "scrolled": true
   },
   "outputs": [
    {
     "data": {
      "image/png": "[encoded data removed]",
      "text/plain": [
       "<Figure size 1200x600 with 1 Axes>"
      ]
     },
     "metadata": {},
     "output_type": "display_data"
    }
   ],
   "source": [
    "#This barplot will show the above DataFrame visually. \n",
    "plt.figure(figsize=(12,6))\n",
    "sns.barplot(x='plan', y='total_revenue', data=average_revenue_per_user)\n",
    "plt.title('Average Revenue Generated per User by Each Plan')\n",
    "plt.xlabel('Plan')\n",
    "plt.ylabel('Average Revenue in USD')\n",
    "plt.show()"
   ]
  },
  {
   "cell_type": "code",
   "execution_count": 59,
   "metadata": {},
   "outputs": [
    {
     "data": {
      "text/html": [
       "<div>\n",
       "<style scoped>\n",
       "    .dataframe tbody tr th:only-of-type {\n",
       "        vertical-align: middle;\n",
       "    }\n",
       "\n",
       "    .dataframe tbody tr th {\n",
       "        vertical-align: top;\n",
       "    }\n",
       "\n",
       "    .dataframe thead th {\n",
       "        text-align: right;\n",
       "    }\n",
       "</style>\n",
       "<table border=\"1\" class=\"dataframe\">\n",
       "  <thead>\n",
       "    <tr style=\"text-align: right;\">\n",
       "      <th></th>\n",
       "      <th>month</th>\n",
       "      <th>plan_x</th>\n",
       "      <th>revenue_x</th>\n",
       "      <th>plan_y</th>\n",
       "      <th>revenue_y</th>\n",
       "    </tr>\n",
       "  </thead>\n",
       "  <tbody>\n",
       "    <tr>\n",
       "      <th>0</th>\n",
       "      <td>1.0</td>\n",
       "      <td>surf</td>\n",
       "      <td>20.000000</td>\n",
       "      <td>ultimate</td>\n",
       "      <td>70.000000</td>\n",
       "    </tr>\n",
       "    <tr>\n",
       "      <th>1</th>\n",
       "      <td>2.0</td>\n",
       "      <td>surf</td>\n",
       "      <td>34.396667</td>\n",
       "      <td>ultimate</td>\n",
       "      <td>70.000000</td>\n",
       "    </tr>\n",
       "    <tr>\n",
       "      <th>2</th>\n",
       "      <td>3.0</td>\n",
       "      <td>surf</td>\n",
       "      <td>45.941304</td>\n",
       "      <td>ultimate</td>\n",
       "      <td>74.666667</td>\n",
       "    </tr>\n",
       "    <tr>\n",
       "      <th>3</th>\n",
       "      <td>4.0</td>\n",
       "      <td>surf</td>\n",
       "      <td>41.133265</td>\n",
       "      <td>ultimate</td>\n",
       "      <td>73.000000</td>\n",
       "    </tr>\n",
       "    <tr>\n",
       "      <th>4</th>\n",
       "      <td>5.0</td>\n",
       "      <td>surf</td>\n",
       "      <td>48.747838</td>\n",
       "      <td>ultimate</td>\n",
       "      <td>70.724138</td>\n",
       "    </tr>\n",
       "    <tr>\n",
       "      <th>5</th>\n",
       "      <td>6.0</td>\n",
       "      <td>surf</td>\n",
       "      <td>50.163404</td>\n",
       "      <td>ultimate</td>\n",
       "      <td>71.711111</td>\n",
       "    </tr>\n",
       "    <tr>\n",
       "      <th>6</th>\n",
       "      <td>7.0</td>\n",
       "      <td>surf</td>\n",
       "      <td>63.192689</td>\n",
       "      <td>ultimate</td>\n",
       "      <td>71.898305</td>\n",
       "    </tr>\n",
       "    <tr>\n",
       "      <th>7</th>\n",
       "      <td>8.0</td>\n",
       "      <td>surf</td>\n",
       "      <td>65.203333</td>\n",
       "      <td>ultimate</td>\n",
       "      <td>72.859155</td>\n",
       "    </tr>\n",
       "    <tr>\n",
       "      <th>8</th>\n",
       "      <td>9.0</td>\n",
       "      <td>surf</td>\n",
       "      <td>57.321421</td>\n",
       "      <td>ultimate</td>\n",
       "      <td>72.034884</td>\n",
       "    </tr>\n",
       "    <tr>\n",
       "      <th>9</th>\n",
       "      <td>10.0</td>\n",
       "      <td>surf</td>\n",
       "      <td>65.368690</td>\n",
       "      <td>ultimate</td>\n",
       "      <td>72.333333</td>\n",
       "    </tr>\n",
       "    <tr>\n",
       "      <th>10</th>\n",
       "      <td>11.0</td>\n",
       "      <td>surf</td>\n",
       "      <td>57.369564</td>\n",
       "      <td>ultimate</td>\n",
       "      <td>71.722222</td>\n",
       "    </tr>\n",
       "    <tr>\n",
       "      <th>11</th>\n",
       "      <td>12.0</td>\n",
       "      <td>surf</td>\n",
       "      <td>69.318903</td>\n",
       "      <td>ultimate</td>\n",
       "      <td>73.053691</td>\n",
       "    </tr>\n",
       "  </tbody>\n",
       "</table>\n",
       "</div>"
      ],
      "text/plain": [
       "    month plan_x  revenue_x    plan_y  revenue_y\n",
       "0     1.0   surf  20.000000  ultimate  70.000000\n",
       "1     2.0   surf  34.396667  ultimate  70.000000\n",
       "2     3.0   surf  45.941304  ultimate  74.666667\n",
       "3     4.0   surf  41.133265  ultimate  73.000000\n",
       "4     5.0   surf  48.747838  ultimate  70.724138\n",
       "5     6.0   surf  50.163404  ultimate  71.711111\n",
       "6     7.0   surf  63.192689  ultimate  71.898305\n",
       "7     8.0   surf  65.203333  ultimate  72.859155\n",
       "8     9.0   surf  57.321421  ultimate  72.034884\n",
       "9    10.0   surf  65.368690  ultimate  72.333333\n",
       "10   11.0   surf  57.369564  ultimate  71.722222\n",
       "11   12.0   surf  69.318903  ultimate  73.053691"
      ]
     },
     "metadata": {},
     "output_type": "display_data"
    }
   ],
   "source": [
    "#I'm curious to see what the revenue per month data will look like on each plan\n",
    "surf_revenue_month = surf.groupby(['month','plan'])['total_revenue'].mean().reset_index(name='revenue')\n",
    "ultimate_revenue_month = ultimate.groupby(['month','plan'])['total_revenue'].mean().reset_index(name='revenue')\n",
    "monthly_revenue_per_plan = pd.merge(surf_revenue_month, ultimate_revenue_month, on='month', how='left')\n",
    "display(monthly_revenue_per_plan)"
   ]
  },
  {
   "cell_type": "code",
   "execution_count": 60,
   "metadata": {
    "scrolled": true
   },
   "outputs": [
    {
     "data": {
      "image/png": "[encoded data removed]",
      "text/plain": [
       "<Figure size 640x480 with 1 Axes>"
      ]
     },
     "metadata": {},
     "output_type": "display_data"
    }
   ],
   "source": [
    "monthly_revenue_per_plan.plot(x='month', kind='bar', xlabel='Month', ylabel='Revenue in USD', title='Comparison of plan revenue each month')\n",
    "plt.legend(['Surf','Ultimate'])\n",
    "plt.show()"
   ]
  },
  {
   "cell_type": "markdown",
   "metadata": {},
   "source": [
    "In these barplots we're able to see that the ultimate plan is driving more revenue than the Surf plan. Howerver, it appears that the revenue from the Surf plan is growing quite a bit month over month, so it would be interesting to see if the next year's data looks different than this one."
   ]
  },
  {
   "cell_type": "markdown",
   "metadata": {},
   "source": [
    "## Test statistical hypotheses"
   ]
  },
  {
   "cell_type": "code",
   "execution_count": 61,
   "metadata": {},
   "outputs": [
    {
     "name": "stdout",
     "output_type": "stream",
     "text": [
      "p-value:  4.456749773640831e-16\n",
      "Reject the null hypothesis  - There is a signficant difference between the average revenues of the Ultimate and Surf Plans\n"
     ]
    },
    {
     "name": "stderr",
     "output_type": "stream",
     "text": [
      "C:\\Users\\markl\\AppData\\Local\\Temp\\ipykernel_15564\\1365258920.py:10: SettingWithCopyWarning: \n",
      "A value is trying to be set on a copy of a slice from a DataFrame\n",
      "\n",
      "See the caveats in the documentation: https://pandas.pydata.org/pandas-docs/stable/user_guide/indexing.html#returning-a-view-versus-a-copy\n",
      "  revenue_surf.dropna(inplace=True)\n",
      "C:\\Users\\markl\\AppData\\Local\\Temp\\ipykernel_15564\\1365258920.py:11: SettingWithCopyWarning: \n",
      "A value is trying to be set on a copy of a slice from a DataFrame\n",
      "\n",
      "See the caveats in the documentation: https://pandas.pydata.org/pandas-docs/stable/user_guide/indexing.html#returning-a-view-versus-a-copy\n",
      "  revenue_ultimate.dropna(inplace=True)\n"
     ]
    }
   ],
   "source": [
    "# Test the hypotheses\n",
    "#Null Hypothesis: There is no difference in revenue betewen the Ultimate and Surf Plans\n",
    "#Alternative hypothesis: There is a significant difference in revenue generated from the Ultimate plan\n",
    "# I will use a 2 sample t-test and set the alpha to .05\n",
    "from scipy import stats as st\n",
    "revenue_ultimate = merged_data[merged_data['plan'] == 'ultimate']['total_revenue']\n",
    "revenue_surf= merged_data[merged_data['plan'] == 'surf']['total_revenue']\n",
    "#I'm getting a nan result for the t-test, so I'm checking for null values, then I will drop those from the data set\n",
    "#print(revenue_surf.isnull().sum())\n",
    "revenue_surf.dropna(inplace=True)\n",
    "revenue_ultimate.dropna(inplace=True)\n",
    "results = st.ttest_ind(revenue_ultimate, revenue_surf, equal_var=False)\n",
    "\n",
    "print('p-value: ', results.pvalue)\n",
    "\n",
    "alpha = .05\n",
    "\n",
    "if results.pvalue < alpha:\n",
    "    print('Reject the null hypothesis  - There is a signficant difference between the average revenues of the Ultimate and Surf Plans')\n",
    "else:\n",
    "    print('Fail the reject the null hypothesis - there is no significant difference between the average revenues of the two plans')"
   ]
  },
  {
   "cell_type": "code",
   "execution_count": 62,
   "metadata": {},
   "outputs": [
    {
     "name": "stdout",
     "output_type": "stream",
     "text": [
      "p-value:  0.008864014540562484\n",
      "Reject the null hypothesis  - There is a signficant difference between the average revenue of users in the NY-NJ area to those in other regions\n"
     ]
    },
    {
     "name": "stderr",
     "output_type": "stream",
     "text": [
      "C:\\Users\\markl\\AppData\\Local\\Temp\\ipykernel_15564\\1418350557.py:10: SettingWithCopyWarning: \n",
      "A value is trying to be set on a copy of a slice from a DataFrame\n",
      "\n",
      "See the caveats in the documentation: https://pandas.pydata.org/pandas-docs/stable/user_guide/indexing.html#returning-a-view-versus-a-copy\n",
      "  revenue_other.dropna(inplace=True)\n",
      "C:\\Users\\markl\\AppData\\Local\\Temp\\ipykernel_15564\\1418350557.py:11: SettingWithCopyWarning: \n",
      "A value is trying to be set on a copy of a slice from a DataFrame\n",
      "\n",
      "See the caveats in the documentation: https://pandas.pydata.org/pandas-docs/stable/user_guide/indexing.html#returning-a-view-versus-a-copy\n",
      "  revenue_ny_nj.dropna(inplace=True)\n"
     ]
    }
   ],
   "source": [
    "# Test the hypotheses\n",
    "#Null Hypothesis: The average revenue from users in the NY-NJ area is the same as other regions\n",
    "#Alternative Hypothesis: The average revenue from users in the NY-NJ area is different from other regions\n",
    "#I will use a 2 sample t-test\n",
    "#I will use alpha = .05\n",
    "#the city column contains this string 'New York-Newark-Jersey City, NY-NJ-PA MSA'\n",
    "final_merge = pd.merge(merged_data, df_users, on='user_id', how='left')\n",
    "revenue_ny_nj = final_merge[final_merge['city'] == 'New York-Newark-Jersey City, NY-NJ-PA MSA']['total_revenue']\n",
    "revenue_other = final_merge[final_merge['city'] != 'New York-Newark-Jersey City, NY-NJ-PA MSA']['total_revenue']\n",
    "revenue_other.dropna(inplace=True)\n",
    "revenue_ny_nj.dropna(inplace=True)\n",
    "results = st.ttest_ind(revenue_ny_nj, revenue_other, equal_var=False)\n",
    "\n",
    "print('p-value: ', results.pvalue)\n",
    "\n",
    "alpha = .05\n",
    "\n",
    "if results.pvalue < alpha:\n",
    "    print('Reject the null hypothesis  - There is a signficant difference between the average revenue of users in the NY-NJ area to those in other regions')\n",
    "else:\n",
    "    print('Fail the reject the null hypothesis - there is no significant difference between the average revenue of users in the NY-NJ area to those in other regions')"
   ]
  },
  {
   "cell_type": "markdown",
   "metadata": {},
   "source": [
    "## Conclusion ##\n",
    "\n",
    "In this project for Megaline, I used the data acquired regarding the two plans that they offer: Ultimate and Surf, and compared their customers' behavior based on which plan they selected. In order to find out whether one plan or the other is more financially productive I had to take each of the dataframes and adjust some of the columns to find key information about monthly usages. I also had to merge the data into a single dataframe so that I could then explore and compare the data from each plan.\n",
    "\n",
    "Key Findings: Although the Surf plan is less exspenive and it has produced less revenue in 2018, it produced an increasing revenue pattern month over month, so it would be helpful to re-evalute in 2019 if it has overtaken the Ultimate plan's revenue.\n",
    "\n",
    "At the time of this data being compiled it is clear that there is still a statistically signficant difference between the revenues from each plan. "
   ]
  }
 ],
 "metadata": {
  "ExecuteTimeLog": [
   {
    "duration": 828,
    "start_time": "2021-11-16T09:21:11.304Z"
   },
   {
    "duration": 893,
    "start_time": "2021-11-16T09:21:17.728Z"
   },
   {
    "duration": 1150,
    "start_time": "2021-11-16T09:21:29.568Z"
   },
   {
    "duration": 3,
    "start_time": "2021-11-16T09:24:14.495Z"
   },
   {
    "duration": 120,
    "start_time": "2021-11-16T09:24:46.630Z"
   },
   {
    "duration": 3,
    "start_time": "2021-11-16T09:28:27.882Z"
   },
   {
    "duration": 4,
    "start_time": "2021-11-16T09:29:54.281Z"
   },
   {
    "duration": 3,
    "start_time": "2021-11-16T09:30:45.936Z"
   },
   {
    "duration": 4,
    "start_time": "2021-11-16T09:31:06.300Z"
   },
   {
    "duration": 113,
    "start_time": "2021-11-16T09:31:37.208Z"
   },
   {
    "duration": 143,
    "start_time": "2021-11-16T09:31:48.656Z"
   },
   {
    "duration": 98,
    "start_time": "2021-11-16T09:31:55.678Z"
   },
   {
    "duration": 3,
    "start_time": "2021-11-16T09:32:08.535Z"
   },
   {
    "duration": 111,
    "start_time": "2021-11-16T09:32:10.120Z"
   },
   {
    "duration": 3,
    "start_time": "2021-11-16T09:32:15.732Z"
   },
   {
    "duration": 4,
    "start_time": "2021-11-16T09:32:29.423Z"
   },
   {
    "duration": 3,
    "start_time": "2021-11-16T10:03:03.074Z"
   },
   {
    "duration": 3,
    "start_time": "2021-11-16T10:10:01.288Z"
   },
   {
    "duration": 3,
    "start_time": "2021-11-16T10:10:46.923Z"
   },
   {
    "duration": 121,
    "start_time": "2021-11-16T10:37:46.494Z"
   },
   {
    "duration": 125,
    "start_time": "2021-11-16T10:38:20.632Z"
   },
   {
    "duration": 112,
    "start_time": "2021-11-16T10:46:53.001Z"
   },
   {
    "duration": 110,
    "start_time": "2021-11-16T10:48:25.775Z"
   },
   {
    "duration": 3,
    "start_time": "2021-11-16T10:50:18.720Z"
   },
   {
    "duration": 4,
    "start_time": "2021-11-16T10:50:37.649Z"
   },
   {
    "duration": 2,
    "start_time": "2021-11-16T10:50:51.884Z"
   },
   {
    "duration": 3,
    "start_time": "2021-11-16T10:51:56.237Z"
   },
   {
    "duration": 101,
    "start_time": "2021-11-16T10:53:13.791Z"
   },
   {
    "duration": 3,
    "start_time": "2021-11-16T10:55:59.186Z"
   },
   {
    "duration": 3,
    "start_time": "2021-11-16T10:56:10.751Z"
   },
   {
    "duration": 3,
    "start_time": "2021-11-16T10:56:49.038Z"
   },
   {
    "duration": 3,
    "start_time": "2021-11-16T10:56:49.174Z"
   },
   {
    "duration": 4,
    "start_time": "2021-11-16T10:56:49.414Z"
   },
   {
    "duration": 3,
    "start_time": "2021-11-16T10:56:49.680Z"
   },
   {
    "duration": 3,
    "start_time": "2021-11-16T10:56:50.370Z"
   },
   {
    "duration": 114,
    "start_time": "2021-11-16T10:59:34.518Z"
   },
   {
    "duration": 3,
    "start_time": "2021-11-16T11:01:41.201Z"
   },
   {
    "duration": 116,
    "start_time": "2021-11-16T11:01:48.754Z"
   },
   {
    "duration": 3,
    "start_time": "2021-11-16T11:02:16.685Z"
   },
   {
    "duration": 3,
    "start_time": "2021-11-16T11:02:19.479Z"
   },
   {
    "duration": 3,
    "start_time": "2021-11-16T11:02:47.067Z"
   },
   {
    "duration": 3,
    "start_time": "2021-11-16T11:02:49.353Z"
   },
   {
    "duration": 3,
    "start_time": "2021-11-16T11:03:07.835Z"
   },
   {
    "duration": 3,
    "start_time": "2021-11-16T11:03:07.953Z"
   },
   {
    "duration": 112,
    "start_time": "2021-11-16T11:07:52.072Z"
   },
   {
    "duration": 187,
    "start_time": "2021-11-16T11:09:23.468Z"
   },
   {
    "duration": 4,
    "start_time": "2021-11-16T11:10:01.455Z"
   },
   {
    "duration": 3,
    "start_time": "2021-11-16T11:10:05.069Z"
   },
   {
    "duration": 4,
    "start_time": "2021-11-16T11:10:13.376Z"
   },
   {
    "duration": 3,
    "start_time": "2021-11-16T11:10:14.434Z"
   },
   {
    "duration": 3,
    "start_time": "2021-11-16T11:10:22.853Z"
   },
   {
    "duration": 4,
    "start_time": "2021-11-16T11:27:29.279Z"
   },
   {
    "duration": 4,
    "start_time": "2021-11-16T11:29:08.919Z"
   },
   {
    "duration": 118,
    "start_time": "2021-11-16T11:29:46.703Z"
   },
   {
    "duration": 437,
    "start_time": "2021-11-16T11:36:02.181Z"
   },
   {
    "duration": 157,
    "start_time": "2021-11-16T11:36:14.388Z"
   },
   {
    "duration": 207,
    "start_time": "2021-11-16T11:47:15.898Z"
   },
   {
    "duration": 3,
    "start_time": "2021-11-16T11:53:52.092Z"
   },
   {
    "duration": 3,
    "start_time": "2021-11-16T11:53:52.236Z"
   },
   {
    "duration": 3,
    "start_time": "2021-11-16T11:59:12.005Z"
   },
   {
    "duration": 112,
    "start_time": "2021-11-16T12:00:33.446Z"
   },
   {
    "duration": 3,
    "start_time": "2021-11-16T12:02:14.453Z"
   },
   {
    "duration": 3,
    "start_time": "2021-11-16T12:02:39.512Z"
   },
   {
    "duration": 106,
    "start_time": "2021-11-16T12:03:03.460Z"
   },
   {
    "duration": 3,
    "start_time": "2021-11-17T20:37:21.139Z"
   },
   {
    "duration": 3,
    "start_time": "2021-11-17T20:37:22.229Z"
   },
   {
    "duration": 3,
    "start_time": "2021-11-17T20:38:38.806Z"
   },
   {
    "duration": 3,
    "start_time": "2021-11-17T20:38:41.958Z"
   },
   {
    "duration": 3,
    "start_time": "2021-11-17T20:43:46.551Z"
   },
   {
    "duration": 4,
    "start_time": "2021-11-17T20:58:21.835Z"
   },
   {
    "duration": 3,
    "start_time": "2021-11-17T20:59:21.872Z"
   },
   {
    "duration": 4,
    "start_time": "2021-11-17T20:59:45.352Z"
   },
   {
    "duration": 4,
    "start_time": "2021-11-17T20:59:49.646Z"
   },
   {
    "duration": 159,
    "start_time": "2021-11-17T21:02:26.949Z"
   },
   {
    "duration": 3,
    "start_time": "2021-11-17T21:03:53.461Z"
   },
   {
    "duration": 3,
    "start_time": "2021-11-17T21:03:53.694Z"
   },
   {
    "duration": 3,
    "start_time": "2021-11-17T21:05:28.145Z"
   },
   {
    "duration": 116,
    "start_time": "2021-11-17T21:05:57.787Z"
   },
   {
    "duration": 3,
    "start_time": "2021-11-17T21:06:37.993Z"
   },
   {
    "duration": 3,
    "start_time": "2021-11-17T21:06:38.261Z"
   },
   {
    "duration": 3,
    "start_time": "2021-11-17T21:11:54.358Z"
   },
   {
    "duration": 3,
    "start_time": "2021-11-17T21:12:43.846Z"
   },
   {
    "duration": 4,
    "start_time": "2021-11-17T21:13:08.773Z"
   },
   {
    "duration": 3,
    "start_time": "2021-11-17T21:14:44.441Z"
   },
   {
    "duration": 3,
    "start_time": "2021-11-17T21:15:42.059Z"
   },
   {
    "duration": 4,
    "start_time": "2021-11-17T21:15:51.995Z"
   },
   {
    "duration": 3,
    "start_time": "2021-11-17T21:15:53.923Z"
   },
   {
    "duration": 3,
    "start_time": "2021-11-17T21:15:55.282Z"
   },
   {
    "duration": 3,
    "start_time": "2021-11-17T21:16:28.492Z"
   },
   {
    "duration": 3,
    "start_time": "2021-11-17T21:16:32.603Z"
   },
   {
    "duration": 3,
    "start_time": "2021-11-17T21:17:06.941Z"
   },
   {
    "duration": 98,
    "start_time": "2021-11-17T21:18:05.733Z"
   },
   {
    "duration": 4,
    "start_time": "2021-11-17T21:21:35.255Z"
   },
   {
    "duration": 3,
    "start_time": "2021-11-17T21:21:37.804Z"
   },
   {
    "duration": 4,
    "start_time": "2021-11-17T21:23:06.071Z"
   },
   {
    "duration": 3,
    "start_time": "2021-11-17T21:23:24.799Z"
   },
   {
    "duration": 3,
    "start_time": "2021-11-17T21:23:32.591Z"
   },
   {
    "duration": 98,
    "start_time": "2021-11-17T21:28:31.559Z"
   },
   {
    "duration": 3,
    "start_time": "2021-11-17T21:28:45.448Z"
   },
   {
    "duration": 3,
    "start_time": "2021-11-17T21:29:17.303Z"
   },
   {
    "duration": 3,
    "start_time": "2021-11-17T21:29:29.617Z"
   },
   {
    "duration": 3,
    "start_time": "2021-11-17T21:29:32.681Z"
   },
   {
    "duration": 3,
    "start_time": "2021-11-17T21:36:11.474Z"
   },
   {
    "duration": 3,
    "start_time": "2021-11-17T21:36:14.791Z"
   },
   {
    "duration": 3,
    "start_time": "2021-11-17T21:36:53.943Z"
   },
   {
    "duration": 3,
    "start_time": "2021-11-17T21:36:56.165Z"
   },
   {
    "duration": 4,
    "start_time": "2021-11-17T21:37:16.590Z"
   },
   {
    "duration": 3,
    "start_time": "2021-11-17T21:37:22.702Z"
   },
   {
    "duration": 4,
    "start_time": "2021-11-17T21:38:03.479Z"
   },
   {
    "duration": 3,
    "start_time": "2021-11-17T21:38:08.601Z"
   },
   {
    "duration": 3,
    "start_time": "2021-11-17T21:38:12.928Z"
   },
   {
    "duration": 3,
    "start_time": "2021-11-17T21:38:48.896Z"
   },
   {
    "duration": 2,
    "start_time": "2021-11-17T21:38:49.171Z"
   },
   {
    "duration": 4,
    "start_time": "2021-11-17T21:39:57.889Z"
   },
   {
    "duration": 3,
    "start_time": "2021-11-17T21:39:58.057Z"
   },
   {
    "duration": 3,
    "start_time": "2021-11-17T21:41:20.108Z"
   },
   {
    "duration": 3,
    "start_time": "2021-11-17T21:41:20.629Z"
   },
   {
    "duration": 3,
    "start_time": "2021-11-17T21:42:49.136Z"
   },
   {
    "duration": 3,
    "start_time": "2021-11-17T21:43:15.137Z"
   },
   {
    "duration": 4,
    "start_time": "2021-11-17T21:43:16.766Z"
   },
   {
    "duration": 4,
    "start_time": "2021-11-17T21:43:31.711Z"
   },
   {
    "duration": 3,
    "start_time": "2021-11-17T21:43:36.312Z"
   },
   {
    "duration": 4,
    "start_time": "2021-11-17T21:45:08.825Z"
   },
   {
    "duration": 4,
    "start_time": "2021-11-17T21:45:10.119Z"
   },
   {
    "duration": 4,
    "start_time": "2021-11-17T21:45:13.748Z"
   },
   {
    "duration": 3,
    "start_time": "2021-11-17T21:45:22.219Z"
   },
   {
    "duration": 3,
    "start_time": "2021-11-17T21:45:33.412Z"
   },
   {
    "duration": 2,
    "start_time": "2021-11-17T21:46:01.885Z"
   },
   {
    "duration": 3,
    "start_time": "2021-11-17T21:46:03.628Z"
   },
   {
    "duration": 107,
    "start_time": "2021-11-17T21:47:32.512Z"
   },
   {
    "duration": 103,
    "start_time": "2021-11-17T21:50:36.243Z"
   },
   {
    "duration": 3,
    "start_time": "2021-11-18T06:28:31.440Z"
   },
   {
    "duration": 3,
    "start_time": "2021-11-18T06:29:00.168Z"
   },
   {
    "duration": 3,
    "start_time": "2021-11-18T06:31:27.008Z"
   },
   {
    "duration": 2,
    "start_time": "2021-11-18T06:35:34.288Z"
   },
   {
    "duration": 2,
    "start_time": "2021-11-18T06:38:04.527Z"
   },
   {
    "duration": 10,
    "start_time": "2024-09-06T17:23:06.756Z"
   },
   {
    "duration": 153,
    "start_time": "2024-09-06T17:25:46.120Z"
   },
   {
    "duration": 278,
    "start_time": "2024-09-06T17:25:52.094Z"
   },
   {
    "duration": 232,
    "start_time": "2024-09-06T17:25:54.062Z"
   },
   {
    "duration": 159,
    "start_time": "2024-09-06T17:28:42.013Z"
   },
   {
    "duration": 200,
    "start_time": "2024-09-06T17:29:26.592Z"
   },
   {
    "duration": 171,
    "start_time": "2024-09-06T17:29:36.603Z"
   },
   {
    "duration": 297,
    "start_time": "2024-09-09T15:09:14.650Z"
   },
   {
    "duration": 425,
    "start_time": "2024-09-09T15:09:14.949Z"
   },
   {
    "duration": 0,
    "start_time": "2024-09-09T15:09:15.377Z"
   },
   {
    "duration": 0,
    "start_time": "2024-09-09T15:09:15.378Z"
   },
   {
    "duration": 0,
    "start_time": "2024-09-09T15:09:15.380Z"
   },
   {
    "duration": 0,
    "start_time": "2024-09-09T15:09:15.381Z"
   },
   {
    "duration": 0,
    "start_time": "2024-09-09T15:09:15.383Z"
   },
   {
    "duration": 0,
    "start_time": "2024-09-09T15:09:15.384Z"
   },
   {
    "duration": 0,
    "start_time": "2024-09-09T15:09:15.386Z"
   },
   {
    "duration": 0,
    "start_time": "2024-09-09T15:09:15.387Z"
   },
   {
    "duration": 0,
    "start_time": "2024-09-09T15:09:15.388Z"
   },
   {
    "duration": 0,
    "start_time": "2024-09-09T15:09:15.406Z"
   },
   {
    "duration": 0,
    "start_time": "2024-09-09T15:09:15.407Z"
   },
   {
    "duration": 0,
    "start_time": "2024-09-09T15:09:15.408Z"
   },
   {
    "duration": 0,
    "start_time": "2024-09-09T15:09:15.410Z"
   },
   {
    "duration": 0,
    "start_time": "2024-09-09T15:09:15.411Z"
   },
   {
    "duration": 0,
    "start_time": "2024-09-09T15:09:15.412Z"
   },
   {
    "duration": 0,
    "start_time": "2024-09-09T15:09:15.414Z"
   },
   {
    "duration": 0,
    "start_time": "2024-09-09T15:09:15.415Z"
   },
   {
    "duration": 0,
    "start_time": "2024-09-09T15:09:15.416Z"
   },
   {
    "duration": 0,
    "start_time": "2024-09-09T15:09:15.417Z"
   },
   {
    "duration": 0,
    "start_time": "2024-09-09T15:09:15.418Z"
   },
   {
    "duration": 0,
    "start_time": "2024-09-09T15:09:15.419Z"
   },
   {
    "duration": 0,
    "start_time": "2024-09-09T15:09:15.421Z"
   },
   {
    "duration": 0,
    "start_time": "2024-09-09T15:09:15.422Z"
   },
   {
    "duration": 0,
    "start_time": "2024-09-09T15:09:15.423Z"
   },
   {
    "duration": 0,
    "start_time": "2024-09-09T15:09:15.425Z"
   },
   {
    "duration": 0,
    "start_time": "2024-09-09T15:09:15.426Z"
   },
   {
    "duration": 189,
    "start_time": "2024-09-09T15:09:35.506Z"
   },
   {
    "duration": 214,
    "start_time": "2024-09-09T15:10:34.936Z"
   },
   {
    "duration": 12,
    "start_time": "2024-09-09T15:15:10.740Z"
   },
   {
    "duration": 4,
    "start_time": "2024-09-09T15:17:03.736Z"
   },
   {
    "duration": 8,
    "start_time": "2024-09-09T15:17:16.962Z"
   },
   {
    "duration": 7,
    "start_time": "2024-09-09T15:31:37.839Z"
   },
   {
    "duration": 7,
    "start_time": "2024-09-09T15:31:41.455Z"
   },
   {
    "duration": 9,
    "start_time": "2024-09-09T15:39:09.394Z"
   },
   {
    "duration": 21,
    "start_time": "2024-09-09T15:39:34.331Z"
   },
   {
    "duration": 2241,
    "start_time": "2024-09-09T15:39:54.380Z"
   },
   {
    "duration": 248,
    "start_time": "2024-09-09T15:39:56.624Z"
   },
   {
    "duration": 41,
    "start_time": "2024-09-09T15:39:56.873Z"
   },
   {
    "duration": 6,
    "start_time": "2024-09-09T15:39:56.917Z"
   },
   {
    "duration": 2,
    "start_time": "2024-09-09T15:39:56.926Z"
   },
   {
    "duration": 2,
    "start_time": "2024-09-09T15:39:56.931Z"
   },
   {
    "duration": 2,
    "start_time": "2024-09-09T15:39:56.935Z"
   },
   {
    "duration": 3,
    "start_time": "2024-09-09T15:39:56.939Z"
   },
   {
    "duration": 2,
    "start_time": "2024-09-09T15:39:56.944Z"
   },
   {
    "duration": 2,
    "start_time": "2024-09-09T15:39:56.950Z"
   },
   {
    "duration": 2,
    "start_time": "2024-09-09T15:39:56.954Z"
   },
   {
    "duration": 2,
    "start_time": "2024-09-09T15:39:56.958Z"
   },
   {
    "duration": 3,
    "start_time": "2024-09-09T15:39:57.005Z"
   },
   {
    "duration": 2,
    "start_time": "2024-09-09T15:39:57.010Z"
   },
   {
    "duration": 4,
    "start_time": "2024-09-09T15:39:57.014Z"
   },
   {
    "duration": 2,
    "start_time": "2024-09-09T15:39:57.020Z"
   },
   {
    "duration": 3,
    "start_time": "2024-09-09T15:39:57.024Z"
   },
   {
    "duration": 3,
    "start_time": "2024-09-09T15:39:57.028Z"
   },
   {
    "duration": 2,
    "start_time": "2024-09-09T15:39:57.033Z"
   },
   {
    "duration": 2,
    "start_time": "2024-09-09T15:39:57.037Z"
   },
   {
    "duration": 2,
    "start_time": "2024-09-09T15:39:57.041Z"
   },
   {
    "duration": 3,
    "start_time": "2024-09-09T15:39:57.044Z"
   },
   {
    "duration": 2,
    "start_time": "2024-09-09T15:39:57.048Z"
   },
   {
    "duration": 2,
    "start_time": "2024-09-09T15:39:57.052Z"
   },
   {
    "duration": 52,
    "start_time": "2024-09-09T15:39:57.056Z"
   },
   {
    "duration": 3,
    "start_time": "2024-09-09T15:39:57.109Z"
   },
   {
    "duration": 3,
    "start_time": "2024-09-09T15:39:57.113Z"
   },
   {
    "duration": 2,
    "start_time": "2024-09-09T15:39:57.119Z"
   },
   {
    "duration": 156,
    "start_time": "2024-09-09T16:24:58.898Z"
   },
   {
    "duration": 2150,
    "start_time": "2024-09-09T16:25:02.838Z"
   },
   {
    "duration": 312,
    "start_time": "2024-09-09T16:25:04.990Z"
   },
   {
    "duration": 23,
    "start_time": "2024-09-09T16:25:05.304Z"
   },
   {
    "duration": 14,
    "start_time": "2024-09-09T16:25:05.330Z"
   },
   {
    "duration": 5,
    "start_time": "2024-09-09T16:25:05.370Z"
   },
   {
    "duration": 2,
    "start_time": "2024-09-09T16:25:05.377Z"
   },
   {
    "duration": 2,
    "start_time": "2024-09-09T16:25:05.381Z"
   },
   {
    "duration": 2,
    "start_time": "2024-09-09T16:25:05.385Z"
   },
   {
    "duration": 2,
    "start_time": "2024-09-09T16:25:05.389Z"
   },
   {
    "duration": 2,
    "start_time": "2024-09-09T16:25:05.395Z"
   },
   {
    "duration": 2,
    "start_time": "2024-09-09T16:25:05.399Z"
   },
   {
    "duration": 2,
    "start_time": "2024-09-09T16:25:05.403Z"
   },
   {
    "duration": 2,
    "start_time": "2024-09-09T16:25:05.407Z"
   },
   {
    "duration": 3,
    "start_time": "2024-09-09T16:25:05.411Z"
   },
   {
    "duration": 3,
    "start_time": "2024-09-09T16:25:05.415Z"
   },
   {
    "duration": 52,
    "start_time": "2024-09-09T16:25:05.419Z"
   },
   {
    "duration": 2,
    "start_time": "2024-09-09T16:25:05.473Z"
   },
   {
    "duration": 2,
    "start_time": "2024-09-09T16:25:05.477Z"
   },
   {
    "duration": 2,
    "start_time": "2024-09-09T16:25:05.480Z"
   },
   {
    "duration": 3,
    "start_time": "2024-09-09T16:25:05.484Z"
   },
   {
    "duration": 2,
    "start_time": "2024-09-09T16:25:05.488Z"
   },
   {
    "duration": 3,
    "start_time": "2024-09-09T16:25:05.492Z"
   },
   {
    "duration": 3,
    "start_time": "2024-09-09T16:25:05.496Z"
   },
   {
    "duration": 2,
    "start_time": "2024-09-09T16:25:05.500Z"
   },
   {
    "duration": 2,
    "start_time": "2024-09-09T16:25:05.504Z"
   },
   {
    "duration": 2,
    "start_time": "2024-09-09T16:25:05.508Z"
   },
   {
    "duration": 2,
    "start_time": "2024-09-09T16:25:05.512Z"
   },
   {
    "duration": 2,
    "start_time": "2024-09-09T16:25:05.571Z"
   },
   {
    "duration": 2,
    "start_time": "2024-09-09T16:25:05.574Z"
   },
   {
    "duration": 3,
    "start_time": "2024-09-09T16:25:41.197Z"
   },
   {
    "duration": 4,
    "start_time": "2024-09-09T16:26:13.402Z"
   },
   {
    "duration": 9,
    "start_time": "2024-09-09T16:26:42.178Z"
   },
   {
    "duration": 9,
    "start_time": "2024-09-09T16:30:58.136Z"
   },
   {
    "duration": 11,
    "start_time": "2024-09-09T16:31:32.353Z"
   },
   {
    "duration": 10,
    "start_time": "2024-09-09T16:31:40.111Z"
   },
   {
    "duration": 10,
    "start_time": "2024-09-09T16:31:49.469Z"
   },
   {
    "duration": 12,
    "start_time": "2024-09-09T16:31:55.418Z"
   },
   {
    "duration": 4,
    "start_time": "2024-09-09T16:38:17.338Z"
   },
   {
    "duration": 3,
    "start_time": "2024-09-09T16:41:08.126Z"
   },
   {
    "duration": 4,
    "start_time": "2024-09-09T16:41:29.451Z"
   },
   {
    "duration": 474,
    "start_time": "2024-09-09T16:45:22.770Z"
   },
   {
    "duration": 203,
    "start_time": "2024-09-09T16:46:08.763Z"
   },
   {
    "duration": 31,
    "start_time": "2024-09-09T16:46:26.031Z"
   },
   {
    "duration": 12,
    "start_time": "2024-09-09T16:46:33.286Z"
   },
   {
    "duration": 103,
    "start_time": "2024-09-09T16:46:46.039Z"
   },
   {
    "duration": 12,
    "start_time": "2024-09-09T16:47:30.378Z"
   },
   {
    "duration": 16,
    "start_time": "2024-09-09T16:47:46.539Z"
   },
   {
    "duration": 21,
    "start_time": "2024-09-09T16:49:26.333Z"
   },
   {
    "duration": 12,
    "start_time": "2024-09-09T16:49:47.335Z"
   },
   {
    "duration": 7,
    "start_time": "2024-09-09T16:51:09.230Z"
   },
   {
    "duration": 6,
    "start_time": "2024-09-09T16:51:20.107Z"
   },
   {
    "duration": 9,
    "start_time": "2024-09-09T16:51:49.766Z"
   },
   {
    "duration": 12,
    "start_time": "2024-09-09T16:55:02.797Z"
   },
   {
    "duration": 31,
    "start_time": "2024-09-09T16:55:34.654Z"
   },
   {
    "duration": 4,
    "start_time": "2024-09-09T17:01:23.435Z"
   },
   {
    "duration": 6,
    "start_time": "2024-09-09T17:02:21.817Z"
   },
   {
    "duration": 4,
    "start_time": "2024-09-09T17:02:31.701Z"
   },
   {
    "duration": 3,
    "start_time": "2024-09-09T17:03:25.034Z"
   },
   {
    "duration": 4,
    "start_time": "2024-09-09T17:05:41.799Z"
   },
   {
    "duration": 5023,
    "start_time": "2024-09-09T17:07:03.392Z"
   },
   {
    "duration": 5055,
    "start_time": "2024-09-09T17:07:28.927Z"
   },
   {
    "duration": 3,
    "start_time": "2024-09-09T17:07:44.893Z"
   },
   {
    "duration": 3,
    "start_time": "2024-09-09T17:07:52.434Z"
   },
   {
    "duration": 3,
    "start_time": "2024-09-09T17:07:59.030Z"
   },
   {
    "duration": 13,
    "start_time": "2024-09-09T17:08:32.475Z"
   },
   {
    "duration": 12,
    "start_time": "2024-09-09T17:08:36.834Z"
   },
   {
    "duration": 8,
    "start_time": "2024-09-09T17:08:53.759Z"
   },
   {
    "duration": 8,
    "start_time": "2024-09-09T17:19:28.142Z"
   },
   {
    "duration": 17,
    "start_time": "2024-09-09T17:19:48.460Z"
   },
   {
    "duration": 83,
    "start_time": "2024-09-09T17:25:02.499Z"
   },
   {
    "duration": 173,
    "start_time": "2024-09-09T17:27:29.413Z"
   },
   {
    "duration": 11,
    "start_time": "2024-09-09T17:29:36.406Z"
   },
   {
    "duration": 15,
    "start_time": "2024-09-09T17:30:03.472Z"
   },
   {
    "duration": 13,
    "start_time": "2024-09-09T17:31:56.724Z"
   },
   {
    "duration": 11,
    "start_time": "2024-09-09T17:32:02.594Z"
   },
   {
    "duration": 11,
    "start_time": "2024-09-09T17:32:08.488Z"
   },
   {
    "duration": 5,
    "start_time": "2024-09-09T17:36:08.175Z"
   },
   {
    "duration": 5,
    "start_time": "2024-09-09T17:36:33.562Z"
   },
   {
    "duration": 14,
    "start_time": "2024-09-09T17:37:01.271Z"
   },
   {
    "duration": 9,
    "start_time": "2024-09-09T17:37:16.635Z"
   },
   {
    "duration": 10,
    "start_time": "2024-09-09T17:44:30.872Z"
   },
   {
    "duration": 35,
    "start_time": "2024-09-09T17:45:04.439Z"
   },
   {
    "duration": 8,
    "start_time": "2024-09-09T17:47:09.414Z"
   },
   {
    "duration": 26,
    "start_time": "2024-09-09T18:06:33.625Z"
   },
   {
    "duration": 453,
    "start_time": "2024-09-09T18:08:15.081Z"
   },
   {
    "duration": 263,
    "start_time": "2024-09-09T18:08:15.536Z"
   },
   {
    "duration": 7,
    "start_time": "2024-09-09T18:08:15.801Z"
   },
   {
    "duration": 7,
    "start_time": "2024-09-09T18:08:15.809Z"
   },
   {
    "duration": 4,
    "start_time": "2024-09-09T18:08:15.820Z"
   },
   {
    "duration": 4,
    "start_time": "2024-09-09T18:08:15.825Z"
   },
   {
    "duration": 41,
    "start_time": "2024-09-09T18:08:15.831Z"
   },
   {
    "duration": 9,
    "start_time": "2024-09-09T18:08:15.874Z"
   },
   {
    "duration": 9,
    "start_time": "2024-09-09T18:08:15.885Z"
   },
   {
    "duration": 3,
    "start_time": "2024-09-09T18:08:15.896Z"
   },
   {
    "duration": 4,
    "start_time": "2024-09-09T18:08:15.901Z"
   },
   {
    "duration": 14,
    "start_time": "2024-09-09T18:08:15.907Z"
   },
   {
    "duration": 56,
    "start_time": "2024-09-09T18:08:15.922Z"
   },
   {
    "duration": 11,
    "start_time": "2024-09-09T18:08:15.982Z"
   },
   {
    "duration": 15,
    "start_time": "2024-09-09T18:08:15.995Z"
   },
   {
    "duration": 32,
    "start_time": "2024-09-09T18:08:16.012Z"
   },
   {
    "duration": 4,
    "start_time": "2024-09-09T18:08:16.069Z"
   },
   {
    "duration": 4,
    "start_time": "2024-09-09T18:08:16.075Z"
   },
   {
    "duration": 128,
    "start_time": "2024-09-09T18:08:16.081Z"
   },
   {
    "duration": 0,
    "start_time": "2024-09-09T18:08:16.211Z"
   },
   {
    "duration": 0,
    "start_time": "2024-09-09T18:08:16.211Z"
   },
   {
    "duration": 0,
    "start_time": "2024-09-09T18:08:16.212Z"
   },
   {
    "duration": 0,
    "start_time": "2024-09-09T18:08:16.214Z"
   },
   {
    "duration": 0,
    "start_time": "2024-09-09T18:08:16.215Z"
   },
   {
    "duration": 0,
    "start_time": "2024-09-09T18:08:16.216Z"
   },
   {
    "duration": 0,
    "start_time": "2024-09-09T18:08:16.217Z"
   },
   {
    "duration": 0,
    "start_time": "2024-09-09T18:08:16.218Z"
   },
   {
    "duration": 0,
    "start_time": "2024-09-09T18:08:16.219Z"
   },
   {
    "duration": 0,
    "start_time": "2024-09-09T18:08:16.220Z"
   },
   {
    "duration": 0,
    "start_time": "2024-09-09T18:08:16.221Z"
   },
   {
    "duration": 0,
    "start_time": "2024-09-09T18:08:16.223Z"
   },
   {
    "duration": 0,
    "start_time": "2024-09-09T18:08:16.224Z"
   },
   {
    "duration": 0,
    "start_time": "2024-09-09T18:08:16.225Z"
   },
   {
    "duration": 0,
    "start_time": "2024-09-09T18:08:16.226Z"
   },
   {
    "duration": 0,
    "start_time": "2024-09-09T18:08:16.227Z"
   },
   {
    "duration": 0,
    "start_time": "2024-09-09T18:08:16.228Z"
   },
   {
    "duration": 0,
    "start_time": "2024-09-09T18:08:16.230Z"
   },
   {
    "duration": 0,
    "start_time": "2024-09-09T18:08:16.231Z"
   },
   {
    "duration": 0,
    "start_time": "2024-09-09T18:08:16.232Z"
   },
   {
    "duration": 0,
    "start_time": "2024-09-09T18:08:16.233Z"
   },
   {
    "duration": 0,
    "start_time": "2024-09-09T18:08:16.234Z"
   },
   {
    "duration": 0,
    "start_time": "2024-09-09T18:08:16.271Z"
   },
   {
    "duration": 0,
    "start_time": "2024-09-09T18:08:16.272Z"
   },
   {
    "duration": 9,
    "start_time": "2024-09-09T18:34:25.480Z"
   },
   {
    "duration": 19,
    "start_time": "2024-09-09T18:35:51.860Z"
   },
   {
    "duration": 12,
    "start_time": "2024-09-09T18:37:35.428Z"
   },
   {
    "duration": 482,
    "start_time": "2024-09-09T18:39:58.892Z"
   },
   {
    "duration": 281,
    "start_time": "2024-09-09T18:39:59.376Z"
   },
   {
    "duration": 16,
    "start_time": "2024-09-09T18:39:59.658Z"
   },
   {
    "duration": 7,
    "start_time": "2024-09-09T18:39:59.677Z"
   },
   {
    "duration": 4,
    "start_time": "2024-09-09T18:39:59.686Z"
   },
   {
    "duration": 3,
    "start_time": "2024-09-09T18:39:59.692Z"
   },
   {
    "duration": 5,
    "start_time": "2024-09-09T18:39:59.697Z"
   },
   {
    "duration": 10,
    "start_time": "2024-09-09T18:39:59.704Z"
   },
   {
    "duration": 54,
    "start_time": "2024-09-09T18:39:59.716Z"
   },
   {
    "duration": 8,
    "start_time": "2024-09-09T18:39:59.774Z"
   },
   {
    "duration": 8,
    "start_time": "2024-09-09T18:39:59.786Z"
   },
   {
    "duration": 13,
    "start_time": "2024-09-09T18:39:59.796Z"
   },
   {
    "duration": 21,
    "start_time": "2024-09-09T18:39:59.813Z"
   },
   {
    "duration": 12,
    "start_time": "2024-09-09T18:39:59.835Z"
   },
   {
    "duration": 13,
    "start_time": "2024-09-09T18:39:59.869Z"
   },
   {
    "duration": 33,
    "start_time": "2024-09-09T18:39:59.884Z"
   },
   {
    "duration": 4,
    "start_time": "2024-09-09T18:39:59.919Z"
   },
   {
    "duration": 3,
    "start_time": "2024-09-09T18:39:59.925Z"
   },
   {
    "duration": 4,
    "start_time": "2024-09-09T18:39:59.930Z"
   },
   {
    "duration": 41,
    "start_time": "2024-09-09T18:39:59.936Z"
   },
   {
    "duration": 9,
    "start_time": "2024-09-09T18:39:59.979Z"
   },
   {
    "duration": 9,
    "start_time": "2024-09-09T18:39:59.990Z"
   },
   {
    "duration": 16,
    "start_time": "2024-09-09T18:40:00.001Z"
   },
   {
    "duration": 16,
    "start_time": "2024-09-09T18:40:00.018Z"
   },
   {
    "duration": 44,
    "start_time": "2024-09-09T18:40:00.036Z"
   },
   {
    "duration": 13,
    "start_time": "2024-09-09T18:40:00.082Z"
   },
   {
    "duration": 51,
    "start_time": "2024-09-09T18:40:00.097Z"
   },
   {
    "duration": 10,
    "start_time": "2024-09-09T18:40:00.169Z"
   },
   {
    "duration": 12,
    "start_time": "2024-09-09T18:40:00.180Z"
   },
   {
    "duration": 3,
    "start_time": "2024-09-09T18:40:00.195Z"
   },
   {
    "duration": 3,
    "start_time": "2024-09-09T18:40:00.199Z"
   },
   {
    "duration": 3,
    "start_time": "2024-09-09T18:40:00.203Z"
   },
   {
    "duration": 2,
    "start_time": "2024-09-09T18:40:00.208Z"
   },
   {
    "duration": 2,
    "start_time": "2024-09-09T18:40:00.212Z"
   },
   {
    "duration": 3,
    "start_time": "2024-09-09T18:40:00.216Z"
   },
   {
    "duration": 2,
    "start_time": "2024-09-09T18:40:00.220Z"
   },
   {
    "duration": 3,
    "start_time": "2024-09-09T18:40:00.224Z"
   },
   {
    "duration": 44,
    "start_time": "2024-09-09T18:40:00.228Z"
   },
   {
    "duration": 6,
    "start_time": "2024-09-09T18:40:00.274Z"
   },
   {
    "duration": 3,
    "start_time": "2024-09-09T18:40:00.282Z"
   },
   {
    "duration": 2,
    "start_time": "2024-09-09T18:40:00.286Z"
   },
   {
    "duration": 3,
    "start_time": "2024-09-09T18:40:00.290Z"
   },
   {
    "duration": 3,
    "start_time": "2024-09-09T18:40:00.295Z"
   },
   {
    "duration": 17,
    "start_time": "2024-09-09T18:41:57.223Z"
   },
   {
    "duration": 100,
    "start_time": "2024-09-09T18:42:02.415Z"
   },
   {
    "duration": 20,
    "start_time": "2024-09-09T18:43:44.804Z"
   },
   {
    "duration": 10,
    "start_time": "2024-09-09T18:43:53.639Z"
   },
   {
    "duration": 15,
    "start_time": "2024-09-09T18:44:18.982Z"
   },
   {
    "duration": 27,
    "start_time": "2024-09-09T18:44:27.329Z"
   },
   {
    "duration": 530,
    "start_time": "2024-09-09T18:46:54.668Z"
   },
   {
    "duration": 22,
    "start_time": "2024-09-09T18:47:06.834Z"
   },
   {
    "duration": 21,
    "start_time": "2024-09-09T18:47:20.096Z"
   },
   {
    "duration": 28,
    "start_time": "2024-09-09T18:49:00.232Z"
   },
   {
    "duration": 8,
    "start_time": "2024-09-09T18:57:35.773Z"
   },
   {
    "duration": 3,
    "start_time": "2024-09-09T19:01:01.425Z"
   },
   {
    "duration": 2,
    "start_time": "2024-09-09T19:01:06.283Z"
   },
   {
    "duration": 3,
    "start_time": "2024-09-09T19:01:08.697Z"
   },
   {
    "duration": 4,
    "start_time": "2024-09-09T19:01:20.124Z"
   },
   {
    "duration": 8,
    "start_time": "2024-09-09T19:01:25.584Z"
   },
   {
    "duration": 8,
    "start_time": "2024-09-09T19:01:44.943Z"
   },
   {
    "duration": 12,
    "start_time": "2024-09-09T19:02:32.510Z"
   },
   {
    "duration": 13,
    "start_time": "2024-09-09T19:02:58.494Z"
   },
   {
    "duration": 12,
    "start_time": "2024-09-09T19:04:56.169Z"
   },
   {
    "duration": 20,
    "start_time": "2024-09-09T19:05:13.472Z"
   },
   {
    "duration": 12,
    "start_time": "2024-09-09T19:05:19.634Z"
   },
   {
    "duration": 10,
    "start_time": "2024-09-09T19:15:12.724Z"
   },
   {
    "duration": 10,
    "start_time": "2024-09-09T19:15:40.688Z"
   },
   {
    "duration": 100,
    "start_time": "2024-09-09T19:15:58.663Z"
   },
   {
    "duration": 10,
    "start_time": "2024-09-09T19:16:21.967Z"
   },
   {
    "duration": 14,
    "start_time": "2024-09-09T19:32:48.365Z"
   },
   {
    "duration": 42,
    "start_time": "2024-09-09T19:33:09.337Z"
   },
   {
    "duration": 40,
    "start_time": "2024-09-09T19:34:49.548Z"
   },
   {
    "duration": 62,
    "start_time": "2024-09-09T19:34:58.339Z"
   },
   {
    "duration": 69,
    "start_time": "2024-09-09T19:35:44.531Z"
   },
   {
    "duration": 11,
    "start_time": "2024-09-09T19:41:36.949Z"
   },
   {
    "duration": 10,
    "start_time": "2024-09-09T19:43:01.482Z"
   },
   {
    "duration": 4,
    "start_time": "2024-09-09T19:43:36.074Z"
   },
   {
    "duration": 149,
    "start_time": "2024-09-09T19:43:46.627Z"
   },
   {
    "duration": 19,
    "start_time": "2024-09-09T19:49:23.090Z"
   },
   {
    "duration": 15,
    "start_time": "2024-09-09T19:49:56.963Z"
   },
   {
    "duration": 9,
    "start_time": "2024-09-09T19:50:22.880Z"
   },
   {
    "duration": 19,
    "start_time": "2024-09-09T19:50:32.647Z"
   },
   {
    "duration": 13,
    "start_time": "2024-09-09T19:51:08.894Z"
   },
   {
    "duration": 76,
    "start_time": "2024-09-09T19:51:24.652Z"
   },
   {
    "duration": 3,
    "start_time": "2024-09-09T19:51:35.313Z"
   },
   {
    "duration": 8,
    "start_time": "2024-09-09T19:52:18.155Z"
   },
   {
    "duration": 5,
    "start_time": "2024-09-09T19:54:03.629Z"
   },
   {
    "duration": 4,
    "start_time": "2024-09-09T20:11:48.328Z"
   },
   {
    "duration": 425,
    "start_time": "2024-09-09T20:11:57.085Z"
   },
   {
    "duration": 265,
    "start_time": "2024-09-09T20:11:57.512Z"
   },
   {
    "duration": 7,
    "start_time": "2024-09-09T20:11:57.779Z"
   },
   {
    "duration": 7,
    "start_time": "2024-09-09T20:11:57.788Z"
   },
   {
    "duration": 4,
    "start_time": "2024-09-09T20:11:57.796Z"
   },
   {
    "duration": 3,
    "start_time": "2024-09-09T20:11:57.802Z"
   },
   {
    "duration": 4,
    "start_time": "2024-09-09T20:11:57.806Z"
   },
   {
    "duration": 7,
    "start_time": "2024-09-09T20:11:57.812Z"
   },
   {
    "duration": 50,
    "start_time": "2024-09-09T20:11:57.821Z"
   },
   {
    "duration": 5,
    "start_time": "2024-09-09T20:11:57.875Z"
   },
   {
    "duration": 6,
    "start_time": "2024-09-09T20:11:57.882Z"
   },
   {
    "duration": 11,
    "start_time": "2024-09-09T20:11:57.890Z"
   },
   {
    "duration": 15,
    "start_time": "2024-09-09T20:11:57.902Z"
   },
   {
    "duration": 10,
    "start_time": "2024-09-09T20:11:57.919Z"
   },
   {
    "duration": 44,
    "start_time": "2024-09-09T20:11:57.930Z"
   },
   {
    "duration": 30,
    "start_time": "2024-09-09T20:11:57.976Z"
   },
   {
    "duration": 4,
    "start_time": "2024-09-09T20:11:58.008Z"
   },
   {
    "duration": 3,
    "start_time": "2024-09-09T20:11:58.014Z"
   },
   {
    "duration": 57,
    "start_time": "2024-09-09T20:11:58.019Z"
   },
   {
    "duration": 12,
    "start_time": "2024-09-09T20:11:58.078Z"
   },
   {
    "duration": 8,
    "start_time": "2024-09-09T20:11:58.091Z"
   },
   {
    "duration": 8,
    "start_time": "2024-09-09T20:11:58.100Z"
   },
   {
    "duration": 15,
    "start_time": "2024-09-09T20:11:58.110Z"
   },
   {
    "duration": 53,
    "start_time": "2024-09-09T20:11:58.126Z"
   },
   {
    "duration": 14,
    "start_time": "2024-09-09T20:11:58.180Z"
   },
   {
    "duration": 8,
    "start_time": "2024-09-09T20:11:58.196Z"
   },
   {
    "duration": 9,
    "start_time": "2024-09-09T20:11:58.206Z"
   },
   {
    "duration": 59,
    "start_time": "2024-09-09T20:11:58.220Z"
   },
   {
    "duration": 26,
    "start_time": "2024-09-09T20:11:58.281Z"
   },
   {
    "duration": 7,
    "start_time": "2024-09-09T20:11:58.309Z"
   },
   {
    "duration": 86,
    "start_time": "2024-09-09T20:11:58.317Z"
   },
   {
    "duration": 10,
    "start_time": "2024-09-09T20:11:58.405Z"
   },
   {
    "duration": 3,
    "start_time": "2024-09-09T20:11:58.417Z"
   },
   {
    "duration": 0,
    "start_time": "2024-09-09T20:11:58.423Z"
   },
   {
    "duration": 0,
    "start_time": "2024-09-09T20:11:58.424Z"
   },
   {
    "duration": 0,
    "start_time": "2024-09-09T20:11:58.426Z"
   },
   {
    "duration": 0,
    "start_time": "2024-09-09T20:11:58.427Z"
   },
   {
    "duration": 0,
    "start_time": "2024-09-09T20:11:58.428Z"
   },
   {
    "duration": 0,
    "start_time": "2024-09-09T20:11:58.430Z"
   },
   {
    "duration": 0,
    "start_time": "2024-09-09T20:11:58.431Z"
   },
   {
    "duration": 0,
    "start_time": "2024-09-09T20:11:58.432Z"
   },
   {
    "duration": 0,
    "start_time": "2024-09-09T20:11:58.433Z"
   },
   {
    "duration": 0,
    "start_time": "2024-09-09T20:11:58.435Z"
   },
   {
    "duration": 0,
    "start_time": "2024-09-09T20:11:58.470Z"
   },
   {
    "duration": 0,
    "start_time": "2024-09-09T20:11:58.472Z"
   },
   {
    "duration": 0,
    "start_time": "2024-09-09T20:11:58.473Z"
   },
   {
    "duration": 3,
    "start_time": "2024-09-09T20:12:37.246Z"
   },
   {
    "duration": 3,
    "start_time": "2024-09-09T20:12:48.336Z"
   },
   {
    "duration": 4,
    "start_time": "2024-09-09T20:14:16.617Z"
   },
   {
    "duration": 3,
    "start_time": "2024-09-09T20:14:29.318Z"
   },
   {
    "duration": 3,
    "start_time": "2024-09-09T20:14:35.887Z"
   },
   {
    "duration": 22,
    "start_time": "2024-09-09T20:15:02.363Z"
   },
   {
    "duration": 3,
    "start_time": "2024-09-09T20:15:15.800Z"
   },
   {
    "duration": 20,
    "start_time": "2024-09-09T20:15:27.133Z"
   },
   {
    "duration": 27,
    "start_time": "2024-09-09T20:16:35.088Z"
   },
   {
    "duration": 19,
    "start_time": "2024-09-09T20:16:51.234Z"
   },
   {
    "duration": 20,
    "start_time": "2024-09-09T20:19:47.760Z"
   },
   {
    "duration": 117,
    "start_time": "2024-09-09T20:26:50.419Z"
   },
   {
    "duration": 15,
    "start_time": "2024-09-09T20:27:34.381Z"
   },
   {
    "duration": 13,
    "start_time": "2024-09-09T20:27:50.401Z"
   },
   {
    "duration": 13,
    "start_time": "2024-09-09T20:28:12.936Z"
   },
   {
    "duration": 15,
    "start_time": "2024-09-09T20:31:00.997Z"
   },
   {
    "duration": 38,
    "start_time": "2024-09-09T20:31:43.259Z"
   },
   {
    "duration": 52,
    "start_time": "2024-09-09T20:32:07.147Z"
   },
   {
    "duration": 57,
    "start_time": "2024-09-09T20:32:30.630Z"
   },
   {
    "duration": 45,
    "start_time": "2024-09-09T20:32:36.494Z"
   },
   {
    "duration": 4,
    "start_time": "2024-09-09T20:32:56.280Z"
   },
   {
    "duration": 4,
    "start_time": "2024-09-09T20:33:03.347Z"
   },
   {
    "duration": 30,
    "start_time": "2024-09-09T20:33:18.028Z"
   },
   {
    "duration": 504,
    "start_time": "2024-09-09T20:33:23.994Z"
   },
   {
    "duration": 332,
    "start_time": "2024-09-09T20:33:24.500Z"
   },
   {
    "duration": 8,
    "start_time": "2024-09-09T20:33:24.834Z"
   },
   {
    "duration": 27,
    "start_time": "2024-09-09T20:33:24.844Z"
   },
   {
    "duration": 5,
    "start_time": "2024-09-09T20:33:24.874Z"
   },
   {
    "duration": 3,
    "start_time": "2024-09-09T20:33:24.881Z"
   },
   {
    "duration": 5,
    "start_time": "2024-09-09T20:33:24.886Z"
   },
   {
    "duration": 10,
    "start_time": "2024-09-09T20:33:24.892Z"
   },
   {
    "duration": 11,
    "start_time": "2024-09-09T20:33:24.903Z"
   },
   {
    "duration": 4,
    "start_time": "2024-09-09T20:33:24.918Z"
   },
   {
    "duration": 48,
    "start_time": "2024-09-09T20:33:24.925Z"
   },
   {
    "duration": 11,
    "start_time": "2024-09-09T20:33:24.975Z"
   },
   {
    "duration": 15,
    "start_time": "2024-09-09T20:33:24.988Z"
   },
   {
    "duration": 11,
    "start_time": "2024-09-09T20:33:25.006Z"
   },
   {
    "duration": 15,
    "start_time": "2024-09-09T20:33:25.018Z"
   },
   {
    "duration": 70,
    "start_time": "2024-09-09T20:33:25.034Z"
   },
   {
    "duration": 310,
    "start_time": "2024-09-09T20:33:25.107Z"
   },
   {
    "duration": 0,
    "start_time": "2024-09-09T20:33:25.420Z"
   },
   {
    "duration": 0,
    "start_time": "2024-09-09T20:33:25.421Z"
   },
   {
    "duration": 0,
    "start_time": "2024-09-09T20:33:25.423Z"
   },
   {
    "duration": 0,
    "start_time": "2024-09-09T20:33:25.424Z"
   },
   {
    "duration": 0,
    "start_time": "2024-09-09T20:33:25.425Z"
   },
   {
    "duration": 0,
    "start_time": "2024-09-09T20:33:25.426Z"
   },
   {
    "duration": 0,
    "start_time": "2024-09-09T20:33:25.427Z"
   },
   {
    "duration": 0,
    "start_time": "2024-09-09T20:33:25.428Z"
   },
   {
    "duration": 0,
    "start_time": "2024-09-09T20:33:25.429Z"
   },
   {
    "duration": 0,
    "start_time": "2024-09-09T20:33:25.430Z"
   },
   {
    "duration": 0,
    "start_time": "2024-09-09T20:33:25.431Z"
   },
   {
    "duration": 0,
    "start_time": "2024-09-09T20:33:25.432Z"
   },
   {
    "duration": 0,
    "start_time": "2024-09-09T20:33:25.433Z"
   },
   {
    "duration": 0,
    "start_time": "2024-09-09T20:33:25.435Z"
   },
   {
    "duration": 0,
    "start_time": "2024-09-09T20:33:25.436Z"
   },
   {
    "duration": 0,
    "start_time": "2024-09-09T20:33:25.437Z"
   },
   {
    "duration": 0,
    "start_time": "2024-09-09T20:33:25.438Z"
   },
   {
    "duration": 0,
    "start_time": "2024-09-09T20:33:25.439Z"
   },
   {
    "duration": 0,
    "start_time": "2024-09-09T20:33:25.440Z"
   },
   {
    "duration": 0,
    "start_time": "2024-09-09T20:33:25.440Z"
   },
   {
    "duration": 0,
    "start_time": "2024-09-09T20:33:25.441Z"
   },
   {
    "duration": 0,
    "start_time": "2024-09-09T20:33:25.471Z"
   },
   {
    "duration": 0,
    "start_time": "2024-09-09T20:33:25.472Z"
   },
   {
    "duration": 0,
    "start_time": "2024-09-09T20:33:25.473Z"
   },
   {
    "duration": 0,
    "start_time": "2024-09-09T20:33:25.477Z"
   },
   {
    "duration": 0,
    "start_time": "2024-09-09T20:33:25.478Z"
   },
   {
    "duration": 0,
    "start_time": "2024-09-09T20:33:25.479Z"
   },
   {
    "duration": 0,
    "start_time": "2024-09-09T20:33:25.481Z"
   },
   {
    "duration": 0,
    "start_time": "2024-09-09T20:33:25.482Z"
   },
   {
    "duration": 0,
    "start_time": "2024-09-09T20:33:25.483Z"
   },
   {
    "duration": 44,
    "start_time": "2024-09-09T20:37:19.052Z"
   },
   {
    "duration": 563,
    "start_time": "2024-09-09T20:37:26.295Z"
   },
   {
    "duration": 322,
    "start_time": "2024-09-09T20:37:26.860Z"
   },
   {
    "duration": 13,
    "start_time": "2024-09-09T20:37:27.188Z"
   },
   {
    "duration": 9,
    "start_time": "2024-09-09T20:37:27.204Z"
   },
   {
    "duration": 5,
    "start_time": "2024-09-09T20:37:27.215Z"
   },
   {
    "duration": 3,
    "start_time": "2024-09-09T20:37:27.222Z"
   },
   {
    "duration": 4,
    "start_time": "2024-09-09T20:37:27.227Z"
   },
   {
    "duration": 9,
    "start_time": "2024-09-09T20:37:27.232Z"
   },
   {
    "duration": 12,
    "start_time": "2024-09-09T20:37:27.271Z"
   },
   {
    "duration": 5,
    "start_time": "2024-09-09T20:37:27.287Z"
   },
   {
    "duration": 6,
    "start_time": "2024-09-09T20:37:27.294Z"
   },
   {
    "duration": 13,
    "start_time": "2024-09-09T20:37:27.302Z"
   },
   {
    "duration": 23,
    "start_time": "2024-09-09T20:37:27.318Z"
   },
   {
    "duration": 43,
    "start_time": "2024-09-09T20:37:27.342Z"
   },
   {
    "duration": 16,
    "start_time": "2024-09-09T20:37:27.387Z"
   },
   {
    "duration": 37,
    "start_time": "2024-09-09T20:37:27.404Z"
   },
   {
    "duration": 76,
    "start_time": "2024-09-09T20:37:27.442Z"
   },
   {
    "duration": 4,
    "start_time": "2024-09-09T20:37:27.520Z"
   },
   {
    "duration": 3,
    "start_time": "2024-09-09T20:37:27.527Z"
   },
   {
    "duration": 61,
    "start_time": "2024-09-09T20:37:27.532Z"
   },
   {
    "duration": 13,
    "start_time": "2024-09-09T20:37:27.595Z"
   },
   {
    "duration": 7,
    "start_time": "2024-09-09T20:37:27.610Z"
   },
   {
    "duration": 8,
    "start_time": "2024-09-09T20:37:27.618Z"
   },
   {
    "duration": 15,
    "start_time": "2024-09-09T20:37:27.628Z"
   },
   {
    "duration": 22,
    "start_time": "2024-09-09T20:37:27.669Z"
   },
   {
    "duration": 15,
    "start_time": "2024-09-09T20:37:27.693Z"
   },
   {
    "duration": 13,
    "start_time": "2024-09-09T20:37:27.710Z"
   },
   {
    "duration": 11,
    "start_time": "2024-09-09T20:37:27.727Z"
   },
   {
    "duration": 64,
    "start_time": "2024-09-09T20:37:27.740Z"
   },
   {
    "duration": 35,
    "start_time": "2024-09-09T20:37:27.806Z"
   },
   {
    "duration": 8,
    "start_time": "2024-09-09T20:37:27.844Z"
   },
   {
    "duration": 86,
    "start_time": "2024-09-09T20:37:27.854Z"
   },
   {
    "duration": 28,
    "start_time": "2024-09-09T20:37:27.942Z"
   },
   {
    "duration": 15,
    "start_time": "2024-09-09T20:37:27.972Z"
   },
   {
    "duration": 4,
    "start_time": "2024-09-09T20:37:27.989Z"
   },
   {
    "duration": 3,
    "start_time": "2024-09-09T20:37:27.995Z"
   },
   {
    "duration": 2,
    "start_time": "2024-09-09T20:37:28.000Z"
   },
   {
    "duration": 2,
    "start_time": "2024-09-09T20:37:28.004Z"
   },
   {
    "duration": 3,
    "start_time": "2024-09-09T20:37:28.007Z"
   },
   {
    "duration": 3,
    "start_time": "2024-09-09T20:37:28.011Z"
   },
   {
    "duration": 2,
    "start_time": "2024-09-09T20:37:28.016Z"
   },
   {
    "duration": 2,
    "start_time": "2024-09-09T20:37:28.020Z"
   },
   {
    "duration": 3,
    "start_time": "2024-09-09T20:37:28.023Z"
   },
   {
    "duration": 3,
    "start_time": "2024-09-09T20:37:28.069Z"
   },
   {
    "duration": 2,
    "start_time": "2024-09-09T20:37:28.074Z"
   },
   {
    "duration": 2,
    "start_time": "2024-09-09T20:37:28.078Z"
   },
   {
    "duration": 3,
    "start_time": "2024-09-09T20:37:28.082Z"
   },
   {
    "duration": 759,
    "start_time": "2024-09-09T20:42:33.611Z"
   },
   {
    "duration": 103,
    "start_time": "2024-09-09T20:43:12.223Z"
   },
   {
    "duration": 12,
    "start_time": "2024-09-09T20:43:32.036Z"
   },
   {
    "duration": 29,
    "start_time": "2024-09-09T20:43:40.716Z"
   },
   {
    "duration": 26,
    "start_time": "2024-09-09T20:47:32.288Z"
   },
   {
    "duration": 31,
    "start_time": "2024-09-09T20:47:45.879Z"
   },
   {
    "duration": 35,
    "start_time": "2024-09-09T20:48:05.018Z"
   },
   {
    "duration": 32,
    "start_time": "2024-09-09T20:48:11.139Z"
   },
   {
    "duration": 23,
    "start_time": "2024-09-09T20:48:17.227Z"
   },
   {
    "duration": 22,
    "start_time": "2024-09-09T20:48:39.314Z"
   },
   {
    "duration": 28,
    "start_time": "2024-09-09T20:48:52.040Z"
   },
   {
    "duration": 15,
    "start_time": "2024-09-09T20:52:49.971Z"
   },
   {
    "duration": 571,
    "start_time": "2024-09-09T20:53:06.883Z"
   },
   {
    "duration": 67,
    "start_time": "2024-09-09T21:00:23.174Z"
   },
   {
    "duration": 50,
    "start_time": "2024-09-09T21:00:41.352Z"
   },
   {
    "duration": 73,
    "start_time": "2024-09-09T21:00:49.110Z"
   },
   {
    "duration": 50,
    "start_time": "2024-09-09T21:01:38.684Z"
   },
   {
    "duration": 27,
    "start_time": "2024-09-09T21:01:58.594Z"
   },
   {
    "duration": 19,
    "start_time": "2024-09-09T21:03:20.654Z"
   },
   {
    "duration": 14,
    "start_time": "2024-09-09T21:05:04.727Z"
   },
   {
    "duration": 10,
    "start_time": "2024-09-09T21:05:57.827Z"
   },
   {
    "duration": 10,
    "start_time": "2024-09-09T21:09:17.367Z"
   },
   {
    "duration": 7,
    "start_time": "2024-09-09T21:10:16.856Z"
   },
   {
    "duration": 7,
    "start_time": "2024-09-09T21:10:44.523Z"
   },
   {
    "duration": 11,
    "start_time": "2024-09-09T21:12:19.156Z"
   },
   {
    "duration": 40,
    "start_time": "2024-09-09T21:14:30.325Z"
   },
   {
    "duration": 45256,
    "start_time": "2024-09-09T21:16:08.609Z"
   },
   {
    "duration": 2111,
    "start_time": "2024-09-09T22:40:58.334Z"
   },
   {
    "duration": 299,
    "start_time": "2024-09-09T22:41:00.448Z"
   },
   {
    "duration": 7,
    "start_time": "2024-09-09T22:41:00.749Z"
   },
   {
    "duration": 7,
    "start_time": "2024-09-09T22:41:00.759Z"
   },
   {
    "duration": 4,
    "start_time": "2024-09-09T22:41:00.768Z"
   },
   {
    "duration": 4,
    "start_time": "2024-09-09T22:41:00.804Z"
   },
   {
    "duration": 4,
    "start_time": "2024-09-09T22:41:00.810Z"
   },
   {
    "duration": 9,
    "start_time": "2024-09-09T22:41:00.815Z"
   },
   {
    "duration": 9,
    "start_time": "2024-09-09T22:41:00.826Z"
   },
   {
    "duration": 4,
    "start_time": "2024-09-09T22:41:00.838Z"
   },
   {
    "duration": 4,
    "start_time": "2024-09-09T22:41:00.843Z"
   },
   {
    "duration": 10,
    "start_time": "2024-09-09T22:41:00.849Z"
   },
   {
    "duration": 59,
    "start_time": "2024-09-09T22:41:00.860Z"
   },
   {
    "duration": 10,
    "start_time": "2024-09-09T22:41:00.921Z"
   },
   {
    "duration": 11,
    "start_time": "2024-09-09T22:41:00.932Z"
   },
   {
    "duration": 29,
    "start_time": "2024-09-09T22:41:00.945Z"
   },
   {
    "duration": 72,
    "start_time": "2024-09-09T22:41:00.977Z"
   },
   {
    "duration": 4,
    "start_time": "2024-09-09T22:41:01.051Z"
   },
   {
    "duration": 3,
    "start_time": "2024-09-09T22:41:01.057Z"
   },
   {
    "duration": 57,
    "start_time": "2024-09-09T22:41:01.061Z"
   },
   {
    "duration": 11,
    "start_time": "2024-09-09T22:41:01.120Z"
   },
   {
    "duration": 8,
    "start_time": "2024-09-09T22:41:01.132Z"
   },
   {
    "duration": 7,
    "start_time": "2024-09-09T22:41:01.143Z"
   },
   {
    "duration": 15,
    "start_time": "2024-09-09T22:41:01.152Z"
   },
   {
    "duration": 46,
    "start_time": "2024-09-09T22:41:01.169Z"
   },
   {
    "duration": 14,
    "start_time": "2024-09-09T22:41:01.216Z"
   },
   {
    "duration": 9,
    "start_time": "2024-09-09T22:41:01.231Z"
   },
   {
    "duration": 11,
    "start_time": "2024-09-09T22:41:01.245Z"
   },
   {
    "duration": 75,
    "start_time": "2024-09-09T22:41:01.258Z"
   },
   {
    "duration": 30,
    "start_time": "2024-09-09T22:41:01.335Z"
   },
   {
    "duration": 7,
    "start_time": "2024-09-09T22:41:01.367Z"
   },
   {
    "duration": 93,
    "start_time": "2024-09-09T22:41:01.376Z"
   },
   {
    "duration": 12,
    "start_time": "2024-09-09T22:41:01.471Z"
   },
   {
    "duration": 25,
    "start_time": "2024-09-09T22:41:01.485Z"
   },
   {
    "duration": 9,
    "start_time": "2024-09-09T22:41:01.511Z"
   },
   {
    "duration": 44929,
    "start_time": "2024-09-09T22:41:01.521Z"
   },
   {
    "duration": 3,
    "start_time": "2024-09-09T22:41:46.452Z"
   },
   {
    "duration": 3,
    "start_time": "2024-09-09T22:41:46.456Z"
   },
   {
    "duration": 2,
    "start_time": "2024-09-09T22:41:46.461Z"
   },
   {
    "duration": 2,
    "start_time": "2024-09-09T22:41:46.465Z"
   },
   {
    "duration": 3,
    "start_time": "2024-09-09T22:41:46.469Z"
   },
   {
    "duration": 2,
    "start_time": "2024-09-09T22:41:46.474Z"
   },
   {
    "duration": 2,
    "start_time": "2024-09-09T22:41:46.505Z"
   },
   {
    "duration": 2,
    "start_time": "2024-09-09T22:41:46.509Z"
   },
   {
    "duration": 3,
    "start_time": "2024-09-09T22:41:46.512Z"
   },
   {
    "duration": 15,
    "start_time": "2024-09-09T22:41:46.516Z"
   },
   {
    "duration": 2,
    "start_time": "2024-09-09T22:41:46.533Z"
   },
   {
    "duration": 3,
    "start_time": "2024-09-09T22:41:46.536Z"
   },
   {
    "duration": 44141,
    "start_time": "2024-09-09T22:42:25.251Z"
   },
   {
    "duration": 6430,
    "start_time": "2024-09-09T22:47:51.115Z"
   },
   {
    "duration": 6573,
    "start_time": "2024-09-09T22:48:15.288Z"
   },
   {
    "duration": 527,
    "start_time": "2024-09-09T22:49:12.224Z"
   },
   {
    "duration": 10,
    "start_time": "2024-09-09T22:49:38.041Z"
   },
   {
    "duration": 7,
    "start_time": "2024-09-09T22:49:48.400Z"
   },
   {
    "duration": 6623,
    "start_time": "2024-09-09T22:50:10.267Z"
   },
   {
    "duration": 12,
    "start_time": "2024-09-09T22:50:53.386Z"
   },
   {
    "duration": 9,
    "start_time": "2024-09-09T22:52:23.127Z"
   },
   {
    "duration": 10,
    "start_time": "2024-09-09T22:55:14.330Z"
   },
   {
    "duration": 452,
    "start_time": "2024-09-09T22:59:07.428Z"
   },
   {
    "duration": 255,
    "start_time": "2024-09-09T22:59:07.882Z"
   },
   {
    "duration": 7,
    "start_time": "2024-09-09T22:59:08.139Z"
   },
   {
    "duration": 6,
    "start_time": "2024-09-09T22:59:08.149Z"
   },
   {
    "duration": 4,
    "start_time": "2024-09-09T22:59:08.157Z"
   },
   {
    "duration": 3,
    "start_time": "2024-09-09T22:59:08.164Z"
   },
   {
    "duration": 40,
    "start_time": "2024-09-09T22:59:08.168Z"
   },
   {
    "duration": 9,
    "start_time": "2024-09-09T22:59:08.210Z"
   },
   {
    "duration": 8,
    "start_time": "2024-09-09T22:59:08.221Z"
   },
   {
    "duration": 3,
    "start_time": "2024-09-09T22:59:08.232Z"
   },
   {
    "duration": 5,
    "start_time": "2024-09-09T22:59:08.237Z"
   },
   {
    "duration": 11,
    "start_time": "2024-09-09T22:59:08.243Z"
   },
   {
    "duration": 52,
    "start_time": "2024-09-09T22:59:08.255Z"
   },
   {
    "duration": 10,
    "start_time": "2024-09-09T22:59:08.308Z"
   },
   {
    "duration": 11,
    "start_time": "2024-09-09T22:59:08.320Z"
   },
   {
    "duration": 32,
    "start_time": "2024-09-09T22:59:08.333Z"
   },
   {
    "duration": 72,
    "start_time": "2024-09-09T22:59:08.367Z"
   },
   {
    "duration": 4,
    "start_time": "2024-09-09T22:59:08.442Z"
   },
   {
    "duration": 4,
    "start_time": "2024-09-09T22:59:08.447Z"
   },
   {
    "duration": 53,
    "start_time": "2024-09-09T22:59:08.453Z"
   },
   {
    "duration": 12,
    "start_time": "2024-09-09T22:59:08.508Z"
   },
   {
    "duration": 8,
    "start_time": "2024-09-09T22:59:08.522Z"
   },
   {
    "duration": 8,
    "start_time": "2024-09-09T22:59:08.531Z"
   },
   {
    "duration": 14,
    "start_time": "2024-09-09T22:59:08.541Z"
   },
   {
    "duration": 49,
    "start_time": "2024-09-09T22:59:08.557Z"
   },
   {
    "duration": 14,
    "start_time": "2024-09-09T22:59:08.607Z"
   },
   {
    "duration": 11,
    "start_time": "2024-09-09T22:59:08.623Z"
   },
   {
    "duration": 9,
    "start_time": "2024-09-09T22:59:08.638Z"
   },
   {
    "duration": 62,
    "start_time": "2024-09-09T22:59:08.649Z"
   },
   {
    "duration": 28,
    "start_time": "2024-09-09T22:59:08.714Z"
   },
   {
    "duration": 7,
    "start_time": "2024-09-09T22:59:08.743Z"
   },
   {
    "duration": 11,
    "start_time": "2024-09-09T22:59:08.752Z"
   },
   {
    "duration": 15,
    "start_time": "2024-09-09T22:59:08.765Z"
   },
   {
    "duration": 8,
    "start_time": "2024-09-09T22:59:08.806Z"
   },
   {
    "duration": 11,
    "start_time": "2024-09-09T22:59:08.816Z"
   },
   {
    "duration": 84,
    "start_time": "2024-09-09T22:59:08.828Z"
   },
   {
    "duration": 2,
    "start_time": "2024-09-09T22:59:08.914Z"
   },
   {
    "duration": 2,
    "start_time": "2024-09-09T22:59:08.918Z"
   },
   {
    "duration": 2,
    "start_time": "2024-09-09T22:59:08.922Z"
   },
   {
    "duration": 2,
    "start_time": "2024-09-09T22:59:08.926Z"
   },
   {
    "duration": 1,
    "start_time": "2024-09-09T22:59:08.931Z"
   },
   {
    "duration": 2,
    "start_time": "2024-09-09T22:59:08.934Z"
   },
   {
    "duration": 2,
    "start_time": "2024-09-09T22:59:08.938Z"
   },
   {
    "duration": 2,
    "start_time": "2024-09-09T22:59:08.942Z"
   },
   {
    "duration": 557,
    "start_time": "2024-09-09T22:59:08.946Z"
   },
   {
    "duration": 0,
    "start_time": "2024-09-09T22:59:09.505Z"
   },
   {
    "duration": 0,
    "start_time": "2024-09-09T22:59:09.506Z"
   },
   {
    "duration": 20,
    "start_time": "2024-09-09T22:59:43.738Z"
   },
   {
    "duration": 67,
    "start_time": "2024-09-09T23:08:25.519Z"
   },
   {
    "duration": 15,
    "start_time": "2024-09-09T23:09:17.354Z"
   },
   {
    "duration": 453,
    "start_time": "2024-09-09T23:09:37.839Z"
   },
   {
    "duration": 270,
    "start_time": "2024-09-09T23:09:38.294Z"
   },
   {
    "duration": 7,
    "start_time": "2024-09-09T23:09:38.566Z"
   },
   {
    "duration": 33,
    "start_time": "2024-09-09T23:09:38.577Z"
   },
   {
    "duration": 5,
    "start_time": "2024-09-09T23:09:38.612Z"
   },
   {
    "duration": 5,
    "start_time": "2024-09-09T23:09:38.618Z"
   },
   {
    "duration": 5,
    "start_time": "2024-09-09T23:09:38.624Z"
   },
   {
    "duration": 8,
    "start_time": "2024-09-09T23:09:38.630Z"
   },
   {
    "duration": 13,
    "start_time": "2024-09-09T23:09:38.640Z"
   },
   {
    "duration": 5,
    "start_time": "2024-09-09T23:09:38.656Z"
   },
   {
    "duration": 42,
    "start_time": "2024-09-09T23:09:38.663Z"
   },
   {
    "duration": 11,
    "start_time": "2024-09-09T23:09:38.707Z"
   },
   {
    "duration": 14,
    "start_time": "2024-09-09T23:09:38.720Z"
   },
   {
    "duration": 10,
    "start_time": "2024-09-09T23:09:38.736Z"
   },
   {
    "duration": 11,
    "start_time": "2024-09-09T23:09:38.747Z"
   },
   {
    "duration": 67,
    "start_time": "2024-09-09T23:09:38.760Z"
   },
   {
    "duration": 42,
    "start_time": "2024-09-09T23:09:38.829Z"
   },
   {
    "duration": 4,
    "start_time": "2024-09-09T23:09:38.873Z"
   },
   {
    "duration": 4,
    "start_time": "2024-09-09T23:09:38.878Z"
   },
   {
    "duration": 34,
    "start_time": "2024-09-09T23:09:38.905Z"
   },
   {
    "duration": 12,
    "start_time": "2024-09-09T23:09:38.941Z"
   },
   {
    "duration": 9,
    "start_time": "2024-09-09T23:09:38.954Z"
   },
   {
    "duration": 8,
    "start_time": "2024-09-09T23:09:38.964Z"
   },
   {
    "duration": 43,
    "start_time": "2024-09-09T23:09:38.974Z"
   },
   {
    "duration": 22,
    "start_time": "2024-09-09T23:09:39.019Z"
   },
   {
    "duration": 14,
    "start_time": "2024-09-09T23:09:39.043Z"
   },
   {
    "duration": 9,
    "start_time": "2024-09-09T23:09:39.058Z"
   },
   {
    "duration": 39,
    "start_time": "2024-09-09T23:09:39.071Z"
   },
   {
    "duration": 35,
    "start_time": "2024-09-09T23:09:39.112Z"
   },
   {
    "duration": 27,
    "start_time": "2024-09-09T23:09:39.149Z"
   },
   {
    "duration": 28,
    "start_time": "2024-09-09T23:09:39.178Z"
   },
   {
    "duration": 16,
    "start_time": "2024-09-09T23:09:39.208Z"
   },
   {
    "duration": 15,
    "start_time": "2024-09-09T23:09:39.225Z"
   },
   {
    "duration": 8,
    "start_time": "2024-09-09T23:09:39.242Z"
   },
   {
    "duration": 10,
    "start_time": "2024-09-09T23:09:39.252Z"
   },
   {
    "duration": 128,
    "start_time": "2024-09-09T23:09:39.263Z"
   },
   {
    "duration": 0,
    "start_time": "2024-09-09T23:09:39.393Z"
   },
   {
    "duration": 0,
    "start_time": "2024-09-09T23:09:39.394Z"
   },
   {
    "duration": 0,
    "start_time": "2024-09-09T23:09:39.396Z"
   },
   {
    "duration": 0,
    "start_time": "2024-09-09T23:09:39.397Z"
   },
   {
    "duration": 0,
    "start_time": "2024-09-09T23:09:39.405Z"
   },
   {
    "duration": 0,
    "start_time": "2024-09-09T23:09:39.406Z"
   },
   {
    "duration": 0,
    "start_time": "2024-09-09T23:09:39.407Z"
   },
   {
    "duration": 0,
    "start_time": "2024-09-09T23:09:39.408Z"
   },
   {
    "duration": 0,
    "start_time": "2024-09-09T23:09:39.409Z"
   },
   {
    "duration": 0,
    "start_time": "2024-09-09T23:09:39.410Z"
   },
   {
    "duration": 0,
    "start_time": "2024-09-09T23:09:39.411Z"
   },
   {
    "duration": 11,
    "start_time": "2024-09-09T23:10:50.305Z"
   },
   {
    "duration": 9,
    "start_time": "2024-09-09T23:11:13.942Z"
   },
   {
    "duration": 10,
    "start_time": "2024-09-09T23:11:29.611Z"
   },
   {
    "duration": 17,
    "start_time": "2024-09-09T23:11:46.417Z"
   },
   {
    "duration": 11,
    "start_time": "2024-09-09T23:12:01.964Z"
   },
   {
    "duration": 17,
    "start_time": "2024-09-09T23:13:39.194Z"
   },
   {
    "duration": 302,
    "start_time": "2024-09-09T23:14:30.064Z"
   },
   {
    "duration": 13,
    "start_time": "2024-09-09T23:14:54.924Z"
   },
   {
    "duration": 2154,
    "start_time": "2024-09-09T23:46:19.356Z"
   },
   {
    "duration": 329,
    "start_time": "2024-09-09T23:46:21.515Z"
   },
   {
    "duration": 8,
    "start_time": "2024-09-09T23:46:21.847Z"
   },
   {
    "duration": 7,
    "start_time": "2024-09-09T23:46:21.870Z"
   },
   {
    "duration": 4,
    "start_time": "2024-09-09T23:46:21.878Z"
   },
   {
    "duration": 3,
    "start_time": "2024-09-09T23:46:21.884Z"
   },
   {
    "duration": 4,
    "start_time": "2024-09-09T23:46:21.889Z"
   },
   {
    "duration": 7,
    "start_time": "2024-09-09T23:46:21.895Z"
   },
   {
    "duration": 8,
    "start_time": "2024-09-09T23:46:21.906Z"
   },
   {
    "duration": 4,
    "start_time": "2024-09-09T23:46:21.916Z"
   },
   {
    "duration": 48,
    "start_time": "2024-09-09T23:46:21.922Z"
   },
   {
    "duration": 11,
    "start_time": "2024-09-09T23:46:21.972Z"
   },
   {
    "duration": 14,
    "start_time": "2024-09-09T23:46:21.986Z"
   },
   {
    "duration": 10,
    "start_time": "2024-09-09T23:46:22.001Z"
   },
   {
    "duration": 12,
    "start_time": "2024-09-09T23:46:22.013Z"
   },
   {
    "duration": 65,
    "start_time": "2024-09-09T23:46:22.026Z"
   },
   {
    "duration": 44,
    "start_time": "2024-09-09T23:46:22.093Z"
   },
   {
    "duration": 4,
    "start_time": "2024-09-09T23:46:22.140Z"
   },
   {
    "duration": 24,
    "start_time": "2024-09-09T23:46:22.146Z"
   },
   {
    "duration": 33,
    "start_time": "2024-09-09T23:46:22.172Z"
   },
   {
    "duration": 11,
    "start_time": "2024-09-09T23:46:22.207Z"
   },
   {
    "duration": 7,
    "start_time": "2024-09-09T23:46:22.220Z"
   },
   {
    "duration": 8,
    "start_time": "2024-09-09T23:46:22.229Z"
   },
   {
    "duration": 43,
    "start_time": "2024-09-09T23:46:22.239Z"
   },
   {
    "duration": 21,
    "start_time": "2024-09-09T23:46:22.284Z"
   },
   {
    "duration": 13,
    "start_time": "2024-09-09T23:46:22.306Z"
   },
   {
    "duration": 8,
    "start_time": "2024-09-09T23:46:22.324Z"
   },
   {
    "duration": 38,
    "start_time": "2024-09-09T23:46:22.333Z"
   },
   {
    "duration": 34,
    "start_time": "2024-09-09T23:46:22.374Z"
   },
   {
    "duration": 27,
    "start_time": "2024-09-09T23:46:22.410Z"
   },
   {
    "duration": 6,
    "start_time": "2024-09-09T23:46:22.439Z"
   },
   {
    "duration": 25,
    "start_time": "2024-09-09T23:46:22.447Z"
   },
   {
    "duration": 0,
    "start_time": "2024-09-09T23:46:22.474Z"
   },
   {
    "duration": 0,
    "start_time": "2024-09-09T23:46:22.475Z"
   },
   {
    "duration": 0,
    "start_time": "2024-09-09T23:46:22.476Z"
   },
   {
    "duration": 0,
    "start_time": "2024-09-09T23:46:22.478Z"
   },
   {
    "duration": 0,
    "start_time": "2024-09-09T23:46:22.479Z"
   },
   {
    "duration": 0,
    "start_time": "2024-09-09T23:46:22.481Z"
   },
   {
    "duration": 0,
    "start_time": "2024-09-09T23:46:22.482Z"
   },
   {
    "duration": 0,
    "start_time": "2024-09-09T23:46:22.484Z"
   },
   {
    "duration": 0,
    "start_time": "2024-09-09T23:46:22.485Z"
   },
   {
    "duration": 0,
    "start_time": "2024-09-09T23:46:22.487Z"
   },
   {
    "duration": 0,
    "start_time": "2024-09-09T23:46:22.488Z"
   },
   {
    "duration": 0,
    "start_time": "2024-09-09T23:46:22.490Z"
   },
   {
    "duration": 0,
    "start_time": "2024-09-09T23:46:22.491Z"
   },
   {
    "duration": 0,
    "start_time": "2024-09-09T23:46:22.492Z"
   },
   {
    "duration": 0,
    "start_time": "2024-09-09T23:46:22.494Z"
   },
   {
    "duration": 297,
    "start_time": "2024-09-09T23:50:39.143Z"
   },
   {
    "duration": 3,
    "start_time": "2024-09-09T23:51:14.900Z"
   },
   {
    "duration": 14,
    "start_time": "2024-09-09T23:51:23.416Z"
   },
   {
    "duration": 9,
    "start_time": "2024-09-09T23:51:24.470Z"
   },
   {
    "duration": 20,
    "start_time": "2024-09-09T23:51:25.338Z"
   },
   {
    "duration": 18,
    "start_time": "2024-09-09T23:51:28.092Z"
   },
   {
    "duration": 20,
    "start_time": "2024-09-09T23:52:37.579Z"
   },
   {
    "duration": 11,
    "start_time": "2024-09-09T23:53:21.223Z"
   },
   {
    "duration": 14,
    "start_time": "2024-09-09T23:53:40.100Z"
   },
   {
    "duration": 19,
    "start_time": "2024-09-09T23:54:10.201Z"
   },
   {
    "duration": 12,
    "start_time": "2024-09-09T23:54:19.148Z"
   },
   {
    "duration": 9,
    "start_time": "2024-09-09T23:54:53.338Z"
   },
   {
    "duration": 15,
    "start_time": "2024-09-09T23:56:45.676Z"
   },
   {
    "duration": 6,
    "start_time": "2024-09-10T00:01:04.294Z"
   },
   {
    "duration": 8,
    "start_time": "2024-09-10T00:01:18.448Z"
   },
   {
    "duration": 5,
    "start_time": "2024-09-10T00:01:43.395Z"
   },
   {
    "duration": 6,
    "start_time": "2024-09-10T00:01:58.264Z"
   },
   {
    "duration": 8,
    "start_time": "2024-09-10T00:02:51.313Z"
   },
   {
    "duration": 13,
    "start_time": "2024-09-10T00:03:09.097Z"
   },
   {
    "duration": 8,
    "start_time": "2024-09-10T00:03:19.996Z"
   },
   {
    "duration": 12,
    "start_time": "2024-09-10T00:03:27.281Z"
   },
   {
    "duration": 11,
    "start_time": "2024-09-10T00:04:34.509Z"
   },
   {
    "duration": 34,
    "start_time": "2024-09-10T00:04:42.663Z"
   },
   {
    "duration": 13,
    "start_time": "2024-09-10T00:05:11.329Z"
   },
   {
    "duration": 20,
    "start_time": "2024-09-10T00:11:04.505Z"
   },
   {
    "duration": 24,
    "start_time": "2024-09-10T00:12:24.461Z"
   },
   {
    "duration": 21,
    "start_time": "2024-09-10T00:15:04.922Z"
   },
   {
    "duration": 14,
    "start_time": "2024-09-10T00:15:46.153Z"
   },
   {
    "duration": 19,
    "start_time": "2024-09-10T00:16:51.518Z"
   },
   {
    "duration": 17,
    "start_time": "2024-09-10T00:17:02.012Z"
   },
   {
    "duration": 13,
    "start_time": "2024-09-10T00:17:07.099Z"
   },
   {
    "duration": 16,
    "start_time": "2024-09-10T00:17:52.283Z"
   },
   {
    "duration": 14,
    "start_time": "2024-09-10T00:18:05.344Z"
   },
   {
    "duration": 17,
    "start_time": "2024-09-10T00:18:24.662Z"
   },
   {
    "duration": 20,
    "start_time": "2024-09-10T00:18:35.650Z"
   },
   {
    "duration": 22,
    "start_time": "2024-09-10T00:24:08.137Z"
   },
   {
    "duration": 19,
    "start_time": "2024-09-10T00:24:16.062Z"
   },
   {
    "duration": 19,
    "start_time": "2024-09-10T00:25:07.733Z"
   },
   {
    "duration": 2220,
    "start_time": "2024-09-10T01:06:34.634Z"
   },
   {
    "duration": 313,
    "start_time": "2024-09-10T01:06:36.857Z"
   },
   {
    "duration": 8,
    "start_time": "2024-09-10T01:06:37.172Z"
   },
   {
    "duration": 28,
    "start_time": "2024-09-10T01:06:37.182Z"
   },
   {
    "duration": 4,
    "start_time": "2024-09-10T01:06:37.213Z"
   },
   {
    "duration": 5,
    "start_time": "2024-09-10T01:06:37.219Z"
   },
   {
    "duration": 4,
    "start_time": "2024-09-10T01:06:37.225Z"
   },
   {
    "duration": 7,
    "start_time": "2024-09-10T01:06:37.231Z"
   },
   {
    "duration": 9,
    "start_time": "2024-09-10T01:06:37.240Z"
   },
   {
    "duration": 3,
    "start_time": "2024-09-10T01:06:37.252Z"
   },
   {
    "duration": 4,
    "start_time": "2024-09-10T01:06:37.257Z"
   },
   {
    "duration": 52,
    "start_time": "2024-09-10T01:06:37.263Z"
   },
   {
    "duration": 15,
    "start_time": "2024-09-10T01:06:37.317Z"
   },
   {
    "duration": 9,
    "start_time": "2024-09-10T01:06:37.336Z"
   },
   {
    "duration": 11,
    "start_time": "2024-09-10T01:06:37.347Z"
   },
   {
    "duration": 64,
    "start_time": "2024-09-10T01:06:37.360Z"
   },
   {
    "duration": 40,
    "start_time": "2024-09-10T01:06:37.426Z"
   },
   {
    "duration": 3,
    "start_time": "2024-09-10T01:06:37.468Z"
   },
   {
    "duration": 4,
    "start_time": "2024-09-10T01:06:37.473Z"
   },
   {
    "duration": 54,
    "start_time": "2024-09-10T01:06:37.478Z"
   },
   {
    "duration": 11,
    "start_time": "2024-09-10T01:06:37.533Z"
   },
   {
    "duration": 7,
    "start_time": "2024-09-10T01:06:37.546Z"
   },
   {
    "duration": 7,
    "start_time": "2024-09-10T01:06:37.555Z"
   },
   {
    "duration": 41,
    "start_time": "2024-09-10T01:06:37.564Z"
   },
   {
    "duration": 25,
    "start_time": "2024-09-10T01:06:37.607Z"
   },
   {
    "duration": 15,
    "start_time": "2024-09-10T01:06:37.633Z"
   },
   {
    "duration": 9,
    "start_time": "2024-09-10T01:06:37.650Z"
   },
   {
    "duration": 10,
    "start_time": "2024-09-10T01:06:37.662Z"
   },
   {
    "duration": 63,
    "start_time": "2024-09-10T01:06:37.674Z"
   },
   {
    "duration": 27,
    "start_time": "2024-09-10T01:06:37.739Z"
   },
   {
    "duration": 6,
    "start_time": "2024-09-10T01:06:37.768Z"
   },
   {
    "duration": 46,
    "start_time": "2024-09-10T01:06:37.776Z"
   },
   {
    "duration": 16,
    "start_time": "2024-09-10T01:06:37.824Z"
   },
   {
    "duration": 16,
    "start_time": "2024-09-10T01:06:37.841Z"
   },
   {
    "duration": 10,
    "start_time": "2024-09-10T01:06:37.858Z"
   },
   {
    "duration": 46,
    "start_time": "2024-09-10T01:06:37.870Z"
   },
   {
    "duration": 2,
    "start_time": "2024-09-10T01:06:37.918Z"
   },
   {
    "duration": 2,
    "start_time": "2024-09-10T01:06:37.922Z"
   },
   {
    "duration": 2,
    "start_time": "2024-09-10T01:06:37.926Z"
   },
   {
    "duration": 2,
    "start_time": "2024-09-10T01:06:37.930Z"
   },
   {
    "duration": 2,
    "start_time": "2024-09-10T01:06:37.936Z"
   },
   {
    "duration": 2,
    "start_time": "2024-09-10T01:06:37.940Z"
   },
   {
    "duration": 2,
    "start_time": "2024-09-10T01:06:37.944Z"
   },
   {
    "duration": 2,
    "start_time": "2024-09-10T01:06:37.948Z"
   },
   {
    "duration": 366,
    "start_time": "2024-09-10T01:06:37.952Z"
   },
   {
    "duration": 0,
    "start_time": "2024-09-10T01:06:38.320Z"
   },
   {
    "duration": 0,
    "start_time": "2024-09-10T01:06:38.321Z"
   },
   {
    "duration": 298,
    "start_time": "2024-09-10T01:07:00.818Z"
   },
   {
    "duration": 150,
    "start_time": "2024-09-10T01:07:43.782Z"
   },
   {
    "duration": 57,
    "start_time": "2024-09-10T01:08:35.370Z"
   },
   {
    "duration": 25,
    "start_time": "2024-09-10T01:08:57.741Z"
   },
   {
    "duration": 12,
    "start_time": "2024-09-10T01:09:30.967Z"
   },
   {
    "duration": 14,
    "start_time": "2024-09-10T01:09:43.065Z"
   },
   {
    "duration": 16,
    "start_time": "2024-09-10T01:10:09.538Z"
   },
   {
    "duration": 25,
    "start_time": "2024-09-10T01:10:26.259Z"
   },
   {
    "duration": 5,
    "start_time": "2024-09-10T01:16:49.936Z"
   },
   {
    "duration": 24,
    "start_time": "2024-09-10T01:17:03.626Z"
   },
   {
    "duration": 22,
    "start_time": "2024-09-10T01:18:06.406Z"
   },
   {
    "duration": 25,
    "start_time": "2024-09-10T01:18:13.518Z"
   },
   {
    "duration": 9,
    "start_time": "2024-09-10T01:23:16.653Z"
   },
   {
    "duration": 8,
    "start_time": "2024-09-10T01:23:28.264Z"
   },
   {
    "duration": 20,
    "start_time": "2024-09-10T01:25:45.180Z"
   },
   {
    "duration": 14,
    "start_time": "2024-09-10T01:26:00.173Z"
   },
   {
    "duration": 5,
    "start_time": "2024-09-10T01:27:55.985Z"
   },
   {
    "duration": 218,
    "start_time": "2024-09-10T01:28:18.872Z"
   },
   {
    "duration": 19,
    "start_time": "2024-09-10T01:28:44.306Z"
   },
   {
    "duration": 9,
    "start_time": "2024-09-10T01:29:09.432Z"
   },
   {
    "duration": 19,
    "start_time": "2024-09-10T01:30:40.923Z"
   },
   {
    "duration": 15,
    "start_time": "2024-09-10T01:32:47.763Z"
   },
   {
    "duration": 16,
    "start_time": "2024-09-10T01:33:33.942Z"
   },
   {
    "duration": 13,
    "start_time": "2024-09-10T01:34:45.156Z"
   },
   {
    "duration": 54,
    "start_time": "2024-09-10T01:34:50.607Z"
   },
   {
    "duration": 40,
    "start_time": "2024-09-10T01:35:06.156Z"
   },
   {
    "duration": 32,
    "start_time": "2024-09-10T01:38:27.710Z"
   },
   {
    "duration": 18,
    "start_time": "2024-09-10T01:38:38.952Z"
   },
   {
    "duration": 12,
    "start_time": "2024-09-10T01:39:16.733Z"
   },
   {
    "duration": 25,
    "start_time": "2024-09-10T01:40:13.209Z"
   },
   {
    "duration": 14,
    "start_time": "2024-09-10T01:40:20.479Z"
   },
   {
    "duration": 444,
    "start_time": "2024-09-10T01:40:39.395Z"
   },
   {
    "duration": 278,
    "start_time": "2024-09-10T01:40:39.842Z"
   },
   {
    "duration": 8,
    "start_time": "2024-09-10T01:40:40.123Z"
   },
   {
    "duration": 8,
    "start_time": "2024-09-10T01:40:40.133Z"
   },
   {
    "duration": 4,
    "start_time": "2024-09-10T01:40:40.144Z"
   },
   {
    "duration": 3,
    "start_time": "2024-09-10T01:40:40.150Z"
   },
   {
    "duration": 4,
    "start_time": "2024-09-10T01:40:40.155Z"
   },
   {
    "duration": 58,
    "start_time": "2024-09-10T01:40:40.162Z"
   },
   {
    "duration": 14,
    "start_time": "2024-09-10T01:40:40.236Z"
   },
   {
    "duration": 5,
    "start_time": "2024-09-10T01:40:40.253Z"
   },
   {
    "duration": 4,
    "start_time": "2024-09-10T01:40:40.260Z"
   },
   {
    "duration": 10,
    "start_time": "2024-09-10T01:40:40.266Z"
   },
   {
    "duration": 7,
    "start_time": "2024-09-10T01:40:40.278Z"
   },
   {
    "duration": 22,
    "start_time": "2024-09-10T01:40:40.288Z"
   },
   {
    "duration": 20,
    "start_time": "2024-09-10T01:40:40.313Z"
   },
   {
    "duration": 17,
    "start_time": "2024-09-10T01:40:40.335Z"
   },
   {
    "duration": 35,
    "start_time": "2024-09-10T01:40:40.356Z"
   },
   {
    "duration": 66,
    "start_time": "2024-09-10T01:40:40.392Z"
   },
   {
    "duration": 4,
    "start_time": "2024-09-10T01:40:40.460Z"
   },
   {
    "duration": 3,
    "start_time": "2024-09-10T01:40:40.466Z"
   },
   {
    "duration": 59,
    "start_time": "2024-09-10T01:40:40.471Z"
   },
   {
    "duration": 17,
    "start_time": "2024-09-10T01:40:40.534Z"
   },
   {
    "duration": 7,
    "start_time": "2024-09-10T01:40:40.554Z"
   },
   {
    "duration": 8,
    "start_time": "2024-09-10T01:40:40.563Z"
   },
   {
    "duration": 40,
    "start_time": "2024-09-10T01:40:40.572Z"
   },
   {
    "duration": 25,
    "start_time": "2024-09-10T01:40:40.614Z"
   },
   {
    "duration": 13,
    "start_time": "2024-09-10T01:40:40.641Z"
   },
   {
    "duration": 9,
    "start_time": "2024-09-10T01:40:40.656Z"
   },
   {
    "duration": 10,
    "start_time": "2024-09-10T01:40:40.666Z"
   },
   {
    "duration": 76,
    "start_time": "2024-09-10T01:40:40.678Z"
   },
   {
    "duration": 30,
    "start_time": "2024-09-10T01:40:40.756Z"
   },
   {
    "duration": 6,
    "start_time": "2024-09-10T01:40:40.788Z"
   },
   {
    "duration": 32,
    "start_time": "2024-09-10T01:40:40.796Z"
   },
   {
    "duration": 24,
    "start_time": "2024-09-10T01:40:40.830Z"
   },
   {
    "duration": 19,
    "start_time": "2024-09-10T01:40:40.860Z"
   },
   {
    "duration": 33,
    "start_time": "2024-09-10T01:40:40.880Z"
   },
   {
    "duration": 24,
    "start_time": "2024-09-10T01:40:40.915Z"
   },
   {
    "duration": 12,
    "start_time": "2024-09-10T01:40:40.941Z"
   },
   {
    "duration": 2,
    "start_time": "2024-09-10T01:40:40.956Z"
   },
   {
    "duration": 2,
    "start_time": "2024-09-10T01:40:40.960Z"
   },
   {
    "duration": 2,
    "start_time": "2024-09-10T01:40:40.966Z"
   },
   {
    "duration": 35,
    "start_time": "2024-09-10T01:40:40.970Z"
   },
   {
    "duration": 3,
    "start_time": "2024-09-10T01:40:41.007Z"
   },
   {
    "duration": 2,
    "start_time": "2024-09-10T01:40:41.011Z"
   },
   {
    "duration": 2,
    "start_time": "2024-09-10T01:40:41.015Z"
   },
   {
    "duration": 258,
    "start_time": "2024-09-10T01:40:41.019Z"
   },
   {
    "duration": 0,
    "start_time": "2024-09-10T01:40:41.279Z"
   },
   {
    "duration": 0,
    "start_time": "2024-09-10T01:40:41.280Z"
   },
   {
    "duration": 410,
    "start_time": "2024-09-10T01:42:39.769Z"
   },
   {
    "duration": 443,
    "start_time": "2024-09-10T01:43:33.323Z"
   },
   {
    "duration": 250,
    "start_time": "2024-09-10T01:43:33.769Z"
   },
   {
    "duration": 8,
    "start_time": "2024-09-10T01:43:34.021Z"
   },
   {
    "duration": 7,
    "start_time": "2024-09-10T01:43:34.031Z"
   },
   {
    "duration": 4,
    "start_time": "2024-09-10T01:43:34.039Z"
   },
   {
    "duration": 3,
    "start_time": "2024-09-10T01:43:34.045Z"
   },
   {
    "duration": 4,
    "start_time": "2024-09-10T01:43:34.050Z"
   },
   {
    "duration": 8,
    "start_time": "2024-09-10T01:43:34.055Z"
   },
   {
    "duration": 45,
    "start_time": "2024-09-10T01:43:34.064Z"
   },
   {
    "duration": 4,
    "start_time": "2024-09-10T01:43:34.112Z"
   },
   {
    "duration": 4,
    "start_time": "2024-09-10T01:43:34.118Z"
   },
   {
    "duration": 11,
    "start_time": "2024-09-10T01:43:34.123Z"
   },
   {
    "duration": 12,
    "start_time": "2024-09-10T01:43:34.136Z"
   },
   {
    "duration": 16,
    "start_time": "2024-09-10T01:43:34.150Z"
   },
   {
    "duration": 44,
    "start_time": "2024-09-10T01:43:34.168Z"
   },
   {
    "duration": 13,
    "start_time": "2024-09-10T01:43:34.215Z"
   },
   {
    "duration": 34,
    "start_time": "2024-09-10T01:43:34.230Z"
   },
   {
    "duration": 59,
    "start_time": "2024-09-10T01:43:34.265Z"
   },
   {
    "duration": 4,
    "start_time": "2024-09-10T01:43:34.325Z"
   },
   {
    "duration": 3,
    "start_time": "2024-09-10T01:43:34.330Z"
   },
   {
    "duration": 33,
    "start_time": "2024-09-10T01:43:34.335Z"
   },
   {
    "duration": 12,
    "start_time": "2024-09-10T01:43:34.370Z"
   },
   {
    "duration": 7,
    "start_time": "2024-09-10T01:43:34.406Z"
   },
   {
    "duration": 8,
    "start_time": "2024-09-10T01:43:34.414Z"
   },
   {
    "duration": 15,
    "start_time": "2024-09-10T01:43:34.424Z"
   },
   {
    "duration": 19,
    "start_time": "2024-09-10T01:43:34.441Z"
   },
   {
    "duration": 43,
    "start_time": "2024-09-10T01:43:34.462Z"
   },
   {
    "duration": 8,
    "start_time": "2024-09-10T01:43:34.510Z"
   },
   {
    "duration": 10,
    "start_time": "2024-09-10T01:43:34.520Z"
   },
   {
    "duration": 34,
    "start_time": "2024-09-10T01:43:34.532Z"
   },
   {
    "duration": 51,
    "start_time": "2024-09-10T01:43:34.568Z"
   },
   {
    "duration": 7,
    "start_time": "2024-09-10T01:43:34.621Z"
   },
   {
    "duration": 21,
    "start_time": "2024-09-10T01:43:34.630Z"
   },
   {
    "duration": 15,
    "start_time": "2024-09-10T01:43:34.653Z"
   },
   {
    "duration": 42,
    "start_time": "2024-09-10T01:43:34.669Z"
   },
   {
    "duration": 13,
    "start_time": "2024-09-10T01:43:34.713Z"
   },
   {
    "duration": 16,
    "start_time": "2024-09-10T01:43:34.728Z"
   },
   {
    "duration": 9,
    "start_time": "2024-09-10T01:43:34.746Z"
   },
   {
    "duration": 574,
    "start_time": "2024-09-10T01:43:34.758Z"
   },
   {
    "duration": 0,
    "start_time": "2024-09-10T01:43:35.333Z"
   },
   {
    "duration": 0,
    "start_time": "2024-09-10T01:43:35.335Z"
   },
   {
    "duration": 0,
    "start_time": "2024-09-10T01:43:35.335Z"
   },
   {
    "duration": 0,
    "start_time": "2024-09-10T01:43:35.337Z"
   },
   {
    "duration": 0,
    "start_time": "2024-09-10T01:43:35.338Z"
   },
   {
    "duration": 0,
    "start_time": "2024-09-10T01:43:35.339Z"
   },
   {
    "duration": 0,
    "start_time": "2024-09-10T01:43:35.340Z"
   },
   {
    "duration": 0,
    "start_time": "2024-09-10T01:43:35.341Z"
   },
   {
    "duration": 0,
    "start_time": "2024-09-10T01:43:35.342Z"
   },
   {
    "duration": 11,
    "start_time": "2024-09-10T01:44:29.590Z"
   },
   {
    "duration": 5,
    "start_time": "2024-09-10T01:45:18.017Z"
   },
   {
    "duration": 16,
    "start_time": "2024-09-10T01:45:25.350Z"
   },
   {
    "duration": 40,
    "start_time": "2024-09-10T01:46:25.828Z"
   },
   {
    "duration": 24,
    "start_time": "2024-09-10T01:47:02.605Z"
   },
   {
    "duration": 21,
    "start_time": "2024-09-10T01:47:12.021Z"
   },
   {
    "duration": 435,
    "start_time": "2024-09-10T01:47:19.128Z"
   },
   {
    "duration": 264,
    "start_time": "2024-09-10T01:47:19.566Z"
   },
   {
    "duration": 8,
    "start_time": "2024-09-10T01:47:19.831Z"
   },
   {
    "duration": 7,
    "start_time": "2024-09-10T01:47:19.841Z"
   },
   {
    "duration": 4,
    "start_time": "2024-09-10T01:47:19.850Z"
   },
   {
    "duration": 4,
    "start_time": "2024-09-10T01:47:19.856Z"
   },
   {
    "duration": 4,
    "start_time": "2024-09-10T01:47:19.861Z"
   },
   {
    "duration": 43,
    "start_time": "2024-09-10T01:47:19.867Z"
   },
   {
    "duration": 9,
    "start_time": "2024-09-10T01:47:19.912Z"
   },
   {
    "duration": 4,
    "start_time": "2024-09-10T01:47:19.923Z"
   },
   {
    "duration": 5,
    "start_time": "2024-09-10T01:47:19.928Z"
   },
   {
    "duration": 10,
    "start_time": "2024-09-10T01:47:19.935Z"
   },
   {
    "duration": 7,
    "start_time": "2024-09-10T01:47:19.946Z"
   },
   {
    "duration": 55,
    "start_time": "2024-09-10T01:47:19.956Z"
   },
   {
    "duration": 11,
    "start_time": "2024-09-10T01:47:20.012Z"
   },
   {
    "duration": 11,
    "start_time": "2024-09-10T01:47:20.024Z"
   },
   {
    "duration": 32,
    "start_time": "2024-09-10T01:47:20.036Z"
   },
   {
    "duration": 67,
    "start_time": "2024-09-10T01:47:20.069Z"
   },
   {
    "duration": 3,
    "start_time": "2024-09-10T01:47:20.138Z"
   },
   {
    "duration": 3,
    "start_time": "2024-09-10T01:47:20.143Z"
   },
   {
    "duration": 34,
    "start_time": "2024-09-10T01:47:20.148Z"
   },
   {
    "duration": 32,
    "start_time": "2024-09-10T01:47:20.183Z"
   },
   {
    "duration": 7,
    "start_time": "2024-09-10T01:47:20.216Z"
   },
   {
    "duration": 8,
    "start_time": "2024-09-10T01:47:20.225Z"
   },
   {
    "duration": 14,
    "start_time": "2024-09-10T01:47:20.235Z"
   },
   {
    "duration": 21,
    "start_time": "2024-09-10T01:47:20.250Z"
   },
   {
    "duration": 43,
    "start_time": "2024-09-10T01:47:20.272Z"
   },
   {
    "duration": 8,
    "start_time": "2024-09-10T01:47:20.317Z"
   },
   {
    "duration": 9,
    "start_time": "2024-09-10T01:47:20.327Z"
   },
   {
    "duration": 35,
    "start_time": "2024-09-10T01:47:20.337Z"
   },
   {
    "duration": 48,
    "start_time": "2024-09-10T01:47:20.374Z"
   },
   {
    "duration": 6,
    "start_time": "2024-09-10T01:47:20.424Z"
   },
   {
    "duration": 21,
    "start_time": "2024-09-10T01:47:20.432Z"
   },
   {
    "duration": 14,
    "start_time": "2024-09-10T01:47:20.454Z"
   },
   {
    "duration": 43,
    "start_time": "2024-09-10T01:47:20.470Z"
   },
   {
    "duration": 12,
    "start_time": "2024-09-10T01:47:20.515Z"
   },
   {
    "duration": 15,
    "start_time": "2024-09-10T01:47:20.528Z"
   },
   {
    "duration": 14,
    "start_time": "2024-09-10T01:47:20.544Z"
   },
   {
    "duration": 604,
    "start_time": "2024-09-10T01:47:20.560Z"
   },
   {
    "duration": 0,
    "start_time": "2024-09-10T01:47:21.166Z"
   },
   {
    "duration": 0,
    "start_time": "2024-09-10T01:47:21.167Z"
   },
   {
    "duration": 0,
    "start_time": "2024-09-10T01:47:21.168Z"
   },
   {
    "duration": 0,
    "start_time": "2024-09-10T01:47:21.169Z"
   },
   {
    "duration": 0,
    "start_time": "2024-09-10T01:47:21.171Z"
   },
   {
    "duration": 0,
    "start_time": "2024-09-10T01:47:21.172Z"
   },
   {
    "duration": 0,
    "start_time": "2024-09-10T01:47:21.173Z"
   },
   {
    "duration": 0,
    "start_time": "2024-09-10T01:47:21.175Z"
   },
   {
    "duration": 0,
    "start_time": "2024-09-10T01:47:21.176Z"
   },
   {
    "duration": 8,
    "start_time": "2024-09-10T01:56:04.845Z"
   },
   {
    "duration": 449,
    "start_time": "2024-09-10T01:56:14.815Z"
   },
   {
    "duration": 260,
    "start_time": "2024-09-10T01:56:15.266Z"
   },
   {
    "duration": 8,
    "start_time": "2024-09-10T01:56:15.528Z"
   },
   {
    "duration": 6,
    "start_time": "2024-09-10T01:56:15.538Z"
   },
   {
    "duration": 4,
    "start_time": "2024-09-10T01:56:15.547Z"
   },
   {
    "duration": 3,
    "start_time": "2024-09-10T01:56:15.553Z"
   },
   {
    "duration": 4,
    "start_time": "2024-09-10T01:56:15.558Z"
   },
   {
    "duration": 44,
    "start_time": "2024-09-10T01:56:15.564Z"
   },
   {
    "duration": 7,
    "start_time": "2024-09-10T01:56:15.610Z"
   },
   {
    "duration": 8,
    "start_time": "2024-09-10T01:56:15.621Z"
   },
   {
    "duration": 5,
    "start_time": "2024-09-10T01:56:15.631Z"
   },
   {
    "duration": 5,
    "start_time": "2024-09-10T01:56:15.639Z"
   },
   {
    "duration": 10,
    "start_time": "2024-09-10T01:56:15.645Z"
   },
   {
    "duration": 7,
    "start_time": "2024-09-10T01:56:15.657Z"
   },
   {
    "duration": 16,
    "start_time": "2024-09-10T01:56:15.706Z"
   },
   {
    "duration": 10,
    "start_time": "2024-09-10T01:56:15.723Z"
   },
   {
    "duration": 11,
    "start_time": "2024-09-10T01:56:15.735Z"
   },
   {
    "duration": 32,
    "start_time": "2024-09-10T01:56:15.747Z"
   },
   {
    "duration": 44,
    "start_time": "2024-09-10T01:56:15.805Z"
   },
   {
    "duration": 3,
    "start_time": "2024-09-10T01:56:15.850Z"
   },
   {
    "duration": 3,
    "start_time": "2024-09-10T01:56:15.855Z"
   },
   {
    "duration": 59,
    "start_time": "2024-09-10T01:56:15.860Z"
   },
   {
    "duration": 11,
    "start_time": "2024-09-10T01:56:15.921Z"
   },
   {
    "duration": 8,
    "start_time": "2024-09-10T01:56:15.934Z"
   },
   {
    "duration": 8,
    "start_time": "2024-09-10T01:56:15.943Z"
   },
   {
    "duration": 15,
    "start_time": "2024-09-10T01:56:15.953Z"
   },
   {
    "duration": 44,
    "start_time": "2024-09-10T01:56:15.971Z"
   },
   {
    "duration": 15,
    "start_time": "2024-09-10T01:56:16.021Z"
   },
   {
    "duration": 9,
    "start_time": "2024-09-10T01:56:16.038Z"
   },
   {
    "duration": 10,
    "start_time": "2024-09-10T01:56:16.049Z"
   },
   {
    "duration": 64,
    "start_time": "2024-09-10T01:56:16.061Z"
   },
   {
    "duration": 27,
    "start_time": "2024-09-10T01:56:16.127Z"
   },
   {
    "duration": 7,
    "start_time": "2024-09-10T01:56:16.155Z"
   },
   {
    "duration": 42,
    "start_time": "2024-09-10T01:56:16.164Z"
   },
   {
    "duration": 16,
    "start_time": "2024-09-10T01:56:16.208Z"
   },
   {
    "duration": 15,
    "start_time": "2024-09-10T01:56:16.226Z"
   },
   {
    "duration": 11,
    "start_time": "2024-09-10T01:56:16.243Z"
   },
   {
    "duration": 15,
    "start_time": "2024-09-10T01:56:16.255Z"
   },
   {
    "duration": 51,
    "start_time": "2024-09-10T01:56:16.271Z"
   },
   {
    "duration": 570,
    "start_time": "2024-09-10T01:56:16.323Z"
   },
   {
    "duration": 0,
    "start_time": "2024-09-10T01:56:16.895Z"
   },
   {
    "duration": 0,
    "start_time": "2024-09-10T01:56:16.896Z"
   },
   {
    "duration": 0,
    "start_time": "2024-09-10T01:56:16.898Z"
   },
   {
    "duration": 0,
    "start_time": "2024-09-10T01:56:16.899Z"
   },
   {
    "duration": 0,
    "start_time": "2024-09-10T01:56:16.905Z"
   },
   {
    "duration": 0,
    "start_time": "2024-09-10T01:56:16.906Z"
   },
   {
    "duration": 0,
    "start_time": "2024-09-10T01:56:16.907Z"
   },
   {
    "duration": 0,
    "start_time": "2024-09-10T01:56:16.908Z"
   },
   {
    "duration": 0,
    "start_time": "2024-09-10T01:56:16.910Z"
   },
   {
    "duration": 8,
    "start_time": "2024-09-10T01:57:17.205Z"
   },
   {
    "duration": 7,
    "start_time": "2024-09-10T01:58:47.430Z"
   },
   {
    "duration": 424,
    "start_time": "2024-09-10T01:58:53.308Z"
   },
   {
    "duration": 252,
    "start_time": "2024-09-10T01:58:53.734Z"
   },
   {
    "duration": 29,
    "start_time": "2024-09-10T01:58:53.988Z"
   },
   {
    "duration": 7,
    "start_time": "2024-09-10T01:58:54.020Z"
   },
   {
    "duration": 4,
    "start_time": "2024-09-10T01:58:54.028Z"
   },
   {
    "duration": 3,
    "start_time": "2024-09-10T01:58:54.034Z"
   },
   {
    "duration": 5,
    "start_time": "2024-09-10T01:58:54.038Z"
   },
   {
    "duration": 8,
    "start_time": "2024-09-10T01:58:54.044Z"
   },
   {
    "duration": 7,
    "start_time": "2024-09-10T01:58:54.054Z"
   },
   {
    "duration": 45,
    "start_time": "2024-09-10T01:58:54.065Z"
   },
   {
    "duration": 4,
    "start_time": "2024-09-10T01:58:54.112Z"
   },
   {
    "duration": 5,
    "start_time": "2024-09-10T01:58:54.118Z"
   },
   {
    "duration": 12,
    "start_time": "2024-09-10T01:58:54.124Z"
   },
   {
    "duration": 11,
    "start_time": "2024-09-10T01:58:54.139Z"
   },
   {
    "duration": 16,
    "start_time": "2024-09-10T01:58:54.152Z"
   },
   {
    "duration": 40,
    "start_time": "2024-09-10T01:58:54.170Z"
   },
   {
    "duration": 12,
    "start_time": "2024-09-10T01:58:54.211Z"
   },
   {
    "duration": 30,
    "start_time": "2024-09-10T01:58:54.225Z"
   },
   {
    "duration": 65,
    "start_time": "2024-09-10T01:58:54.257Z"
   },
   {
    "duration": 4,
    "start_time": "2024-09-10T01:58:54.324Z"
   },
   {
    "duration": 2,
    "start_time": "2024-09-10T01:58:54.330Z"
   },
   {
    "duration": 36,
    "start_time": "2024-09-10T01:58:54.334Z"
   },
   {
    "duration": 36,
    "start_time": "2024-09-10T01:58:54.372Z"
   },
   {
    "duration": 7,
    "start_time": "2024-09-10T01:58:54.410Z"
   },
   {
    "duration": 8,
    "start_time": "2024-09-10T01:58:54.419Z"
   },
   {
    "duration": 15,
    "start_time": "2024-09-10T01:58:54.429Z"
   },
   {
    "duration": 21,
    "start_time": "2024-09-10T01:58:54.445Z"
   },
   {
    "duration": 40,
    "start_time": "2024-09-10T01:58:54.470Z"
   },
   {
    "duration": 9,
    "start_time": "2024-09-10T01:58:54.511Z"
   },
   {
    "duration": 9,
    "start_time": "2024-09-10T01:58:54.522Z"
   },
   {
    "duration": 33,
    "start_time": "2024-09-10T01:58:54.532Z"
   },
   {
    "duration": 51,
    "start_time": "2024-09-10T01:58:54.567Z"
   },
   {
    "duration": 7,
    "start_time": "2024-09-10T01:58:54.620Z"
   },
   {
    "duration": 22,
    "start_time": "2024-09-10T01:58:54.629Z"
   },
   {
    "duration": 16,
    "start_time": "2024-09-10T01:58:54.653Z"
   },
   {
    "duration": 40,
    "start_time": "2024-09-10T01:58:54.671Z"
   },
   {
    "duration": 12,
    "start_time": "2024-09-10T01:58:54.714Z"
   },
   {
    "duration": 14,
    "start_time": "2024-09-10T01:58:54.728Z"
   },
   {
    "duration": 13,
    "start_time": "2024-09-10T01:58:54.743Z"
   },
   {
    "duration": 610,
    "start_time": "2024-09-10T01:58:54.758Z"
   },
   {
    "duration": 0,
    "start_time": "2024-09-10T01:58:55.370Z"
   },
   {
    "duration": 0,
    "start_time": "2024-09-10T01:58:55.371Z"
   },
   {
    "duration": 0,
    "start_time": "2024-09-10T01:58:55.373Z"
   },
   {
    "duration": 0,
    "start_time": "2024-09-10T01:58:55.374Z"
   },
   {
    "duration": 0,
    "start_time": "2024-09-10T01:58:55.375Z"
   },
   {
    "duration": 0,
    "start_time": "2024-09-10T01:58:55.376Z"
   },
   {
    "duration": 0,
    "start_time": "2024-09-10T01:58:55.377Z"
   },
   {
    "duration": 0,
    "start_time": "2024-09-10T01:58:55.378Z"
   },
   {
    "duration": 0,
    "start_time": "2024-09-10T01:58:55.380Z"
   },
   {
    "duration": 24,
    "start_time": "2024-09-10T02:00:04.209Z"
   },
   {
    "duration": 22,
    "start_time": "2024-09-10T02:00:21.805Z"
   },
   {
    "duration": 22,
    "start_time": "2024-09-10T02:00:30.773Z"
   },
   {
    "duration": 23,
    "start_time": "2024-09-10T02:00:41.038Z"
   },
   {
    "duration": 400,
    "start_time": "2024-09-10T02:01:16.592Z"
   },
   {
    "duration": 252,
    "start_time": "2024-09-10T02:01:16.994Z"
   },
   {
    "duration": 7,
    "start_time": "2024-09-10T02:01:17.248Z"
   },
   {
    "duration": 6,
    "start_time": "2024-09-10T02:01:17.257Z"
   },
   {
    "duration": 4,
    "start_time": "2024-09-10T02:01:17.265Z"
   },
   {
    "duration": 37,
    "start_time": "2024-09-10T02:01:17.270Z"
   },
   {
    "duration": 4,
    "start_time": "2024-09-10T02:01:17.309Z"
   },
   {
    "duration": 7,
    "start_time": "2024-09-10T02:01:17.315Z"
   },
   {
    "duration": 7,
    "start_time": "2024-09-10T02:01:17.324Z"
   },
   {
    "duration": 8,
    "start_time": "2024-09-10T02:01:17.335Z"
   },
   {
    "duration": 4,
    "start_time": "2024-09-10T02:01:17.345Z"
   },
   {
    "duration": 4,
    "start_time": "2024-09-10T02:01:17.351Z"
   },
   {
    "duration": 54,
    "start_time": "2024-09-10T02:01:17.356Z"
   },
   {
    "duration": 6,
    "start_time": "2024-09-10T02:01:17.412Z"
   },
   {
    "duration": 14,
    "start_time": "2024-09-10T02:01:17.420Z"
   },
   {
    "duration": 10,
    "start_time": "2024-09-10T02:01:17.436Z"
   },
   {
    "duration": 11,
    "start_time": "2024-09-10T02:01:17.448Z"
   },
   {
    "duration": 62,
    "start_time": "2024-09-10T02:01:17.460Z"
   },
   {
    "duration": 40,
    "start_time": "2024-09-10T02:01:17.524Z"
   },
   {
    "duration": 3,
    "start_time": "2024-09-10T02:01:17.566Z"
   },
   {
    "duration": 3,
    "start_time": "2024-09-10T02:01:17.571Z"
   },
   {
    "duration": 56,
    "start_time": "2024-09-10T02:01:17.576Z"
   },
   {
    "duration": 11,
    "start_time": "2024-09-10T02:01:17.634Z"
   },
   {
    "duration": 7,
    "start_time": "2024-09-10T02:01:17.647Z"
   },
   {
    "duration": 7,
    "start_time": "2024-09-10T02:01:17.655Z"
   },
   {
    "duration": 15,
    "start_time": "2024-09-10T02:01:17.664Z"
   },
   {
    "duration": 41,
    "start_time": "2024-09-10T02:01:17.680Z"
   },
   {
    "duration": 12,
    "start_time": "2024-09-10T02:01:17.726Z"
   },
   {
    "duration": 8,
    "start_time": "2024-09-10T02:01:17.740Z"
   },
   {
    "duration": 10,
    "start_time": "2024-09-10T02:01:17.749Z"
   },
   {
    "duration": 65,
    "start_time": "2024-09-10T02:01:17.760Z"
   },
   {
    "duration": 27,
    "start_time": "2024-09-10T02:01:17.827Z"
   },
   {
    "duration": 7,
    "start_time": "2024-09-10T02:01:17.855Z"
   },
   {
    "duration": 43,
    "start_time": "2024-09-10T02:01:17.863Z"
   },
   {
    "duration": 16,
    "start_time": "2024-09-10T02:01:17.908Z"
   },
   {
    "duration": 17,
    "start_time": "2024-09-10T02:01:17.926Z"
   },
   {
    "duration": 12,
    "start_time": "2024-09-10T02:01:17.945Z"
   },
   {
    "duration": 14,
    "start_time": "2024-09-10T02:01:17.959Z"
   },
   {
    "duration": 43,
    "start_time": "2024-09-10T02:01:17.975Z"
   },
   {
    "duration": 566,
    "start_time": "2024-09-10T02:01:18.020Z"
   },
   {
    "duration": 1,
    "start_time": "2024-09-10T02:01:18.588Z"
   },
   {
    "duration": 0,
    "start_time": "2024-09-10T02:01:18.590Z"
   },
   {
    "duration": 0,
    "start_time": "2024-09-10T02:01:18.591Z"
   },
   {
    "duration": 0,
    "start_time": "2024-09-10T02:01:18.604Z"
   },
   {
    "duration": 0,
    "start_time": "2024-09-10T02:01:18.606Z"
   },
   {
    "duration": 0,
    "start_time": "2024-09-10T02:01:18.607Z"
   },
   {
    "duration": 0,
    "start_time": "2024-09-10T02:01:18.609Z"
   },
   {
    "duration": 0,
    "start_time": "2024-09-10T02:01:18.610Z"
   },
   {
    "duration": 0,
    "start_time": "2024-09-10T02:01:18.611Z"
   },
   {
    "duration": 25,
    "start_time": "2024-09-10T02:02:06.172Z"
   },
   {
    "duration": 21,
    "start_time": "2024-09-10T02:02:15.213Z"
   },
   {
    "duration": 26,
    "start_time": "2024-09-10T02:02:26.656Z"
   },
   {
    "duration": 25,
    "start_time": "2024-09-10T02:02:29.282Z"
   },
   {
    "duration": 436,
    "start_time": "2024-09-10T02:02:39.524Z"
   },
   {
    "duration": 263,
    "start_time": "2024-09-10T02:02:39.962Z"
   },
   {
    "duration": 9,
    "start_time": "2024-09-10T02:02:40.228Z"
   },
   {
    "duration": 7,
    "start_time": "2024-09-10T02:02:40.239Z"
   },
   {
    "duration": 4,
    "start_time": "2024-09-10T02:02:40.249Z"
   },
   {
    "duration": 4,
    "start_time": "2024-09-10T02:02:40.254Z"
   },
   {
    "duration": 3,
    "start_time": "2024-09-10T02:02:40.260Z"
   },
   {
    "duration": 44,
    "start_time": "2024-09-10T02:02:40.266Z"
   },
   {
    "duration": 8,
    "start_time": "2024-09-10T02:02:40.312Z"
   },
   {
    "duration": 8,
    "start_time": "2024-09-10T02:02:40.322Z"
   },
   {
    "duration": 4,
    "start_time": "2024-09-10T02:02:40.332Z"
   },
   {
    "duration": 4,
    "start_time": "2024-09-10T02:02:40.338Z"
   },
   {
    "duration": 10,
    "start_time": "2024-09-10T02:02:40.344Z"
   },
   {
    "duration": 6,
    "start_time": "2024-09-10T02:02:40.357Z"
   },
   {
    "duration": 53,
    "start_time": "2024-09-10T02:02:40.365Z"
   },
   {
    "duration": 11,
    "start_time": "2024-09-10T02:02:40.419Z"
   },
   {
    "duration": 12,
    "start_time": "2024-09-10T02:02:40.431Z"
   },
   {
    "duration": 30,
    "start_time": "2024-09-10T02:02:40.445Z"
   },
   {
    "duration": 41,
    "start_time": "2024-09-10T02:02:40.505Z"
   },
   {
    "duration": 4,
    "start_time": "2024-09-10T02:02:40.547Z"
   },
   {
    "duration": 3,
    "start_time": "2024-09-10T02:02:40.552Z"
   },
   {
    "duration": 53,
    "start_time": "2024-09-10T02:02:40.557Z"
   },
   {
    "duration": 13,
    "start_time": "2024-09-10T02:02:40.611Z"
   },
   {
    "duration": 8,
    "start_time": "2024-09-10T02:02:40.625Z"
   },
   {
    "duration": 8,
    "start_time": "2024-09-10T02:02:40.634Z"
   },
   {
    "duration": 15,
    "start_time": "2024-09-10T02:02:40.644Z"
   },
   {
    "duration": 53,
    "start_time": "2024-09-10T02:02:40.661Z"
   },
   {
    "duration": 13,
    "start_time": "2024-09-10T02:02:40.717Z"
   },
   {
    "duration": 9,
    "start_time": "2024-09-10T02:02:40.731Z"
   },
   {
    "duration": 9,
    "start_time": "2024-09-10T02:02:40.741Z"
   },
   {
    "duration": 57,
    "start_time": "2024-09-10T02:02:40.752Z"
   },
   {
    "duration": 27,
    "start_time": "2024-09-10T02:02:40.811Z"
   },
   {
    "duration": 7,
    "start_time": "2024-09-10T02:02:40.839Z"
   },
   {
    "duration": 22,
    "start_time": "2024-09-10T02:02:40.847Z"
   },
   {
    "duration": 39,
    "start_time": "2024-09-10T02:02:40.870Z"
   },
   {
    "duration": 16,
    "start_time": "2024-09-10T02:02:40.911Z"
   },
   {
    "duration": 11,
    "start_time": "2024-09-10T02:02:40.928Z"
   },
   {
    "duration": 15,
    "start_time": "2024-09-10T02:02:40.941Z"
   },
   {
    "duration": 16,
    "start_time": "2024-09-10T02:02:40.958Z"
   },
   {
    "duration": 602,
    "start_time": "2024-09-10T02:02:40.975Z"
   },
   {
    "duration": 0,
    "start_time": "2024-09-10T02:02:41.579Z"
   },
   {
    "duration": 0,
    "start_time": "2024-09-10T02:02:41.581Z"
   },
   {
    "duration": 0,
    "start_time": "2024-09-10T02:02:41.582Z"
   },
   {
    "duration": 0,
    "start_time": "2024-09-10T02:02:41.584Z"
   },
   {
    "duration": 0,
    "start_time": "2024-09-10T02:02:41.585Z"
   },
   {
    "duration": 0,
    "start_time": "2024-09-10T02:02:41.587Z"
   },
   {
    "duration": 0,
    "start_time": "2024-09-10T02:02:41.588Z"
   },
   {
    "duration": 0,
    "start_time": "2024-09-10T02:02:41.605Z"
   },
   {
    "duration": 0,
    "start_time": "2024-09-10T02:02:41.606Z"
   },
   {
    "duration": 2125,
    "start_time": "2024-09-10T11:56:49.784Z"
   },
   {
    "duration": 348,
    "start_time": "2024-09-10T11:56:51.911Z"
   },
   {
    "duration": 9,
    "start_time": "2024-09-10T11:56:52.261Z"
   },
   {
    "duration": 37,
    "start_time": "2024-09-10T11:56:52.273Z"
   },
   {
    "duration": 4,
    "start_time": "2024-09-10T11:56:52.312Z"
   },
   {
    "duration": 3,
    "start_time": "2024-09-10T11:56:52.318Z"
   },
   {
    "duration": 4,
    "start_time": "2024-09-10T11:56:52.323Z"
   },
   {
    "duration": 9,
    "start_time": "2024-09-10T11:56:52.329Z"
   },
   {
    "duration": 10,
    "start_time": "2024-09-10T11:56:52.339Z"
   },
   {
    "duration": 12,
    "start_time": "2024-09-10T11:56:52.353Z"
   },
   {
    "duration": 6,
    "start_time": "2024-09-10T11:56:52.366Z"
   },
   {
    "duration": 5,
    "start_time": "2024-09-10T11:56:52.410Z"
   },
   {
    "duration": 10,
    "start_time": "2024-09-10T11:56:52.416Z"
   },
   {
    "duration": 7,
    "start_time": "2024-09-10T11:56:52.428Z"
   },
   {
    "duration": 14,
    "start_time": "2024-09-10T11:56:52.436Z"
   },
   {
    "duration": 10,
    "start_time": "2024-09-10T11:56:52.452Z"
   },
   {
    "duration": 49,
    "start_time": "2024-09-10T11:56:52.464Z"
   },
   {
    "duration": 30,
    "start_time": "2024-09-10T11:56:52.515Z"
   },
   {
    "duration": 62,
    "start_time": "2024-09-10T11:56:52.547Z"
   },
   {
    "duration": 3,
    "start_time": "2024-09-10T11:56:52.611Z"
   },
   {
    "duration": 3,
    "start_time": "2024-09-10T11:56:52.616Z"
   },
   {
    "duration": 33,
    "start_time": "2024-09-10T11:56:52.621Z"
   },
   {
    "duration": 11,
    "start_time": "2024-09-10T11:56:52.656Z"
   },
   {
    "duration": 7,
    "start_time": "2024-09-10T11:56:52.669Z"
   },
   {
    "duration": 9,
    "start_time": "2024-09-10T11:56:52.709Z"
   },
   {
    "duration": 15,
    "start_time": "2024-09-10T11:56:52.719Z"
   },
   {
    "duration": 21,
    "start_time": "2024-09-10T11:56:52.736Z"
   },
   {
    "duration": 14,
    "start_time": "2024-09-10T11:56:52.761Z"
   },
   {
    "duration": 38,
    "start_time": "2024-09-10T11:56:52.776Z"
   },
   {
    "duration": 10,
    "start_time": "2024-09-10T11:56:52.816Z"
   },
   {
    "duration": 35,
    "start_time": "2024-09-10T11:56:52.828Z"
   },
   {
    "duration": 48,
    "start_time": "2024-09-10T11:56:52.865Z"
   },
   {
    "duration": 7,
    "start_time": "2024-09-10T11:56:52.915Z"
   },
   {
    "duration": 23,
    "start_time": "2024-09-10T11:56:52.923Z"
   },
   {
    "duration": 18,
    "start_time": "2024-09-10T11:56:52.947Z"
   },
   {
    "duration": 46,
    "start_time": "2024-09-10T11:56:52.967Z"
   },
   {
    "duration": 12,
    "start_time": "2024-09-10T11:56:53.015Z"
   },
   {
    "duration": 16,
    "start_time": "2024-09-10T11:56:53.029Z"
   },
   {
    "duration": 17,
    "start_time": "2024-09-10T11:56:53.046Z"
   },
   {
    "duration": 614,
    "start_time": "2024-09-10T11:56:53.065Z"
   },
   {
    "duration": 0,
    "start_time": "2024-09-10T11:56:53.681Z"
   },
   {
    "duration": 0,
    "start_time": "2024-09-10T11:56:53.682Z"
   },
   {
    "duration": 0,
    "start_time": "2024-09-10T11:56:53.684Z"
   },
   {
    "duration": 0,
    "start_time": "2024-09-10T11:56:53.685Z"
   },
   {
    "duration": 0,
    "start_time": "2024-09-10T11:56:53.687Z"
   },
   {
    "duration": 0,
    "start_time": "2024-09-10T11:56:53.688Z"
   },
   {
    "duration": 0,
    "start_time": "2024-09-10T11:56:53.708Z"
   },
   {
    "duration": 0,
    "start_time": "2024-09-10T11:56:53.710Z"
   },
   {
    "duration": 0,
    "start_time": "2024-09-10T11:56:53.711Z"
   },
   {
    "duration": 25,
    "start_time": "2024-09-10T12:04:12.622Z"
   },
   {
    "duration": 463,
    "start_time": "2024-09-10T12:04:18.040Z"
   },
   {
    "duration": 254,
    "start_time": "2024-09-10T12:04:18.505Z"
   },
   {
    "duration": 8,
    "start_time": "2024-09-10T12:04:18.761Z"
   },
   {
    "duration": 6,
    "start_time": "2024-09-10T12:04:18.771Z"
   },
   {
    "duration": 29,
    "start_time": "2024-09-10T12:04:18.780Z"
   },
   {
    "duration": 5,
    "start_time": "2024-09-10T12:04:18.810Z"
   },
   {
    "duration": 4,
    "start_time": "2024-09-10T12:04:18.817Z"
   },
   {
    "duration": 7,
    "start_time": "2024-09-10T12:04:18.823Z"
   },
   {
    "duration": 7,
    "start_time": "2024-09-10T12:04:18.832Z"
   },
   {
    "duration": 9,
    "start_time": "2024-09-10T12:04:18.842Z"
   },
   {
    "duration": 4,
    "start_time": "2024-09-10T12:04:18.853Z"
   },
   {
    "duration": 4,
    "start_time": "2024-09-10T12:04:18.858Z"
   },
   {
    "duration": 55,
    "start_time": "2024-09-10T12:04:18.864Z"
   },
   {
    "duration": 7,
    "start_time": "2024-09-10T12:04:18.921Z"
   },
   {
    "duration": 16,
    "start_time": "2024-09-10T12:04:18.929Z"
   },
   {
    "duration": 11,
    "start_time": "2024-09-10T12:04:18.947Z"
   },
   {
    "duration": 13,
    "start_time": "2024-09-10T12:04:18.959Z"
   },
   {
    "duration": 66,
    "start_time": "2024-09-10T12:04:18.974Z"
   },
   {
    "duration": 41,
    "start_time": "2024-09-10T12:04:19.042Z"
   },
   {
    "duration": 24,
    "start_time": "2024-09-10T12:04:19.085Z"
   },
   {
    "duration": 3,
    "start_time": "2024-09-10T12:04:19.111Z"
   },
   {
    "duration": 35,
    "start_time": "2024-09-10T12:04:19.116Z"
   },
   {
    "duration": 12,
    "start_time": "2024-09-10T12:04:19.153Z"
   },
   {
    "duration": 8,
    "start_time": "2024-09-10T12:04:19.167Z"
   },
   {
    "duration": 37,
    "start_time": "2024-09-10T12:04:19.176Z"
   },
   {
    "duration": 15,
    "start_time": "2024-09-10T12:04:19.215Z"
   },
   {
    "duration": 21,
    "start_time": "2024-09-10T12:04:19.232Z"
   },
   {
    "duration": 16,
    "start_time": "2024-09-10T12:04:19.256Z"
   },
   {
    "duration": 38,
    "start_time": "2024-09-10T12:04:19.274Z"
   },
   {
    "duration": 10,
    "start_time": "2024-09-10T12:04:19.313Z"
   },
   {
    "duration": 34,
    "start_time": "2024-09-10T12:04:19.324Z"
   },
   {
    "duration": 29,
    "start_time": "2024-09-10T12:04:19.360Z"
   },
   {
    "duration": 7,
    "start_time": "2024-09-10T12:04:19.409Z"
   },
   {
    "duration": 21,
    "start_time": "2024-09-10T12:04:19.418Z"
   },
   {
    "duration": 16,
    "start_time": "2024-09-10T12:04:19.441Z"
   },
   {
    "duration": 17,
    "start_time": "2024-09-10T12:04:19.458Z"
   },
   {
    "duration": 14,
    "start_time": "2024-09-10T12:04:19.508Z"
   },
   {
    "duration": 16,
    "start_time": "2024-09-10T12:04:19.523Z"
   },
   {
    "duration": 20,
    "start_time": "2024-09-10T12:04:19.541Z"
   },
   {
    "duration": 613,
    "start_time": "2024-09-10T12:04:19.563Z"
   },
   {
    "duration": 0,
    "start_time": "2024-09-10T12:04:20.178Z"
   },
   {
    "duration": 0,
    "start_time": "2024-09-10T12:04:20.179Z"
   },
   {
    "duration": 0,
    "start_time": "2024-09-10T12:04:20.181Z"
   },
   {
    "duration": 0,
    "start_time": "2024-09-10T12:04:20.182Z"
   },
   {
    "duration": 0,
    "start_time": "2024-09-10T12:04:20.183Z"
   },
   {
    "duration": 0,
    "start_time": "2024-09-10T12:04:20.184Z"
   },
   {
    "duration": 0,
    "start_time": "2024-09-10T12:04:20.185Z"
   },
   {
    "duration": 0,
    "start_time": "2024-09-10T12:04:20.186Z"
   },
   {
    "duration": 0,
    "start_time": "2024-09-10T12:04:20.188Z"
   },
   {
    "duration": 8,
    "start_time": "2024-09-10T12:09:21.098Z"
   },
   {
    "duration": 9,
    "start_time": "2024-09-10T12:11:43.168Z"
   },
   {
    "duration": 19,
    "start_time": "2024-09-10T12:12:00.609Z"
   },
   {
    "duration": 9,
    "start_time": "2024-09-10T12:12:57.087Z"
   },
   {
    "duration": 423,
    "start_time": "2024-09-10T12:13:45.582Z"
   },
   {
    "duration": 270,
    "start_time": "2024-09-10T12:13:46.007Z"
   },
   {
    "duration": 7,
    "start_time": "2024-09-10T12:13:46.279Z"
   },
   {
    "duration": 25,
    "start_time": "2024-09-10T12:13:46.289Z"
   },
   {
    "duration": 4,
    "start_time": "2024-09-10T12:13:46.316Z"
   },
   {
    "duration": 4,
    "start_time": "2024-09-10T12:13:46.322Z"
   },
   {
    "duration": 4,
    "start_time": "2024-09-10T12:13:46.327Z"
   },
   {
    "duration": 8,
    "start_time": "2024-09-10T12:13:46.332Z"
   },
   {
    "duration": 7,
    "start_time": "2024-09-10T12:13:46.342Z"
   },
   {
    "duration": 8,
    "start_time": "2024-09-10T12:13:46.353Z"
   },
   {
    "duration": 52,
    "start_time": "2024-09-10T12:13:46.363Z"
   },
   {
    "duration": 4,
    "start_time": "2024-09-10T12:13:46.418Z"
   },
   {
    "duration": 4,
    "start_time": "2024-09-10T12:13:46.424Z"
   },
   {
    "duration": 10,
    "start_time": "2024-09-10T12:13:46.429Z"
   },
   {
    "duration": 7,
    "start_time": "2024-09-10T12:13:46.441Z"
   },
   {
    "duration": 16,
    "start_time": "2024-09-10T12:13:46.450Z"
   },
   {
    "duration": 46,
    "start_time": "2024-09-10T12:13:46.469Z"
   },
   {
    "duration": 12,
    "start_time": "2024-09-10T12:13:46.518Z"
   },
   {
    "duration": 34,
    "start_time": "2024-09-10T12:13:46.532Z"
   },
   {
    "duration": 66,
    "start_time": "2024-09-10T12:13:46.569Z"
   },
   {
    "duration": 4,
    "start_time": "2024-09-10T12:13:46.637Z"
   },
   {
    "duration": 3,
    "start_time": "2024-09-10T12:13:46.643Z"
   },
   {
    "duration": 35,
    "start_time": "2024-09-10T12:13:46.648Z"
   },
   {
    "duration": 33,
    "start_time": "2024-09-10T12:13:46.685Z"
   },
   {
    "duration": 8,
    "start_time": "2024-09-10T12:13:46.720Z"
   },
   {
    "duration": 8,
    "start_time": "2024-09-10T12:13:46.730Z"
   },
   {
    "duration": 15,
    "start_time": "2024-09-10T12:13:46.740Z"
   },
   {
    "duration": 51,
    "start_time": "2024-09-10T12:13:46.759Z"
   },
   {
    "duration": 14,
    "start_time": "2024-09-10T12:13:46.813Z"
   },
   {
    "duration": 9,
    "start_time": "2024-09-10T12:13:46.828Z"
   },
   {
    "duration": 12,
    "start_time": "2024-09-10T12:13:46.839Z"
   },
   {
    "duration": 65,
    "start_time": "2024-09-10T12:13:46.852Z"
   },
   {
    "duration": 27,
    "start_time": "2024-09-10T12:13:46.919Z"
   },
   {
    "duration": 6,
    "start_time": "2024-09-10T12:13:46.948Z"
   },
   {
    "duration": 22,
    "start_time": "2024-09-10T12:13:46.956Z"
   },
   {
    "duration": 36,
    "start_time": "2024-09-10T12:13:46.980Z"
   },
   {
    "duration": 16,
    "start_time": "2024-09-10T12:13:47.018Z"
   },
   {
    "duration": 12,
    "start_time": "2024-09-10T12:13:47.035Z"
   },
   {
    "duration": 15,
    "start_time": "2024-09-10T12:13:47.049Z"
   },
   {
    "duration": 50,
    "start_time": "2024-09-10T12:13:47.067Z"
   },
   {
    "duration": 635,
    "start_time": "2024-09-10T12:13:47.119Z"
   },
   {
    "duration": 0,
    "start_time": "2024-09-10T12:13:47.755Z"
   },
   {
    "duration": 0,
    "start_time": "2024-09-10T12:13:47.757Z"
   },
   {
    "duration": 0,
    "start_time": "2024-09-10T12:13:47.758Z"
   },
   {
    "duration": 0,
    "start_time": "2024-09-10T12:13:47.760Z"
   },
   {
    "duration": 0,
    "start_time": "2024-09-10T12:13:47.761Z"
   },
   {
    "duration": 0,
    "start_time": "2024-09-10T12:13:47.763Z"
   },
   {
    "duration": 0,
    "start_time": "2024-09-10T12:13:47.764Z"
   },
   {
    "duration": 0,
    "start_time": "2024-09-10T12:13:47.767Z"
   },
   {
    "duration": 0,
    "start_time": "2024-09-10T12:13:47.768Z"
   },
   {
    "duration": 8,
    "start_time": "2024-09-10T12:15:08.110Z"
   },
   {
    "duration": 8,
    "start_time": "2024-09-10T12:17:35.872Z"
   },
   {
    "duration": 9,
    "start_time": "2024-09-10T12:19:27.651Z"
   },
   {
    "duration": 448,
    "start_time": "2024-09-10T12:19:42.112Z"
   },
   {
    "duration": 286,
    "start_time": "2024-09-10T12:19:42.562Z"
   },
   {
    "duration": 8,
    "start_time": "2024-09-10T12:19:42.850Z"
   },
   {
    "duration": 7,
    "start_time": "2024-09-10T12:19:42.861Z"
   },
   {
    "duration": 4,
    "start_time": "2024-09-10T12:19:42.870Z"
   },
   {
    "duration": 34,
    "start_time": "2024-09-10T12:19:42.875Z"
   },
   {
    "duration": 5,
    "start_time": "2024-09-10T12:19:42.911Z"
   },
   {
    "duration": 9,
    "start_time": "2024-09-10T12:19:42.917Z"
   },
   {
    "duration": 16,
    "start_time": "2024-09-10T12:19:42.927Z"
   },
   {
    "duration": 8,
    "start_time": "2024-09-10T12:19:42.946Z"
   },
   {
    "duration": 9,
    "start_time": "2024-09-10T12:19:42.956Z"
   },
   {
    "duration": 4,
    "start_time": "2024-09-10T12:19:42.967Z"
   },
   {
    "duration": 40,
    "start_time": "2024-09-10T12:19:42.973Z"
   },
   {
    "duration": 11,
    "start_time": "2024-09-10T12:19:43.014Z"
   },
   {
    "duration": 7,
    "start_time": "2024-09-10T12:19:43.026Z"
   },
   {
    "duration": 15,
    "start_time": "2024-09-10T12:19:43.035Z"
   },
   {
    "duration": 10,
    "start_time": "2024-09-10T12:19:43.052Z"
   },
   {
    "duration": 12,
    "start_time": "2024-09-10T12:19:43.063Z"
   },
   {
    "duration": 33,
    "start_time": "2024-09-10T12:19:43.111Z"
   },
   {
    "duration": 43,
    "start_time": "2024-09-10T12:19:43.146Z"
   },
   {
    "duration": 3,
    "start_time": "2024-09-10T12:19:43.210Z"
   },
   {
    "duration": 4,
    "start_time": "2024-09-10T12:19:43.215Z"
   },
   {
    "duration": 35,
    "start_time": "2024-09-10T12:19:43.220Z"
   },
   {
    "duration": 13,
    "start_time": "2024-09-10T12:19:43.257Z"
   },
   {
    "duration": 38,
    "start_time": "2024-09-10T12:19:43.272Z"
   },
   {
    "duration": 8,
    "start_time": "2024-09-10T12:19:43.313Z"
   },
   {
    "duration": 15,
    "start_time": "2024-09-10T12:19:43.323Z"
   },
   {
    "duration": 21,
    "start_time": "2024-09-10T12:19:43.342Z"
   },
   {
    "duration": 14,
    "start_time": "2024-09-10T12:19:43.365Z"
   },
   {
    "duration": 38,
    "start_time": "2024-09-10T12:19:43.380Z"
   },
   {
    "duration": 9,
    "start_time": "2024-09-10T12:19:43.420Z"
   },
   {
    "duration": 37,
    "start_time": "2024-09-10T12:19:43.430Z"
   },
   {
    "duration": 52,
    "start_time": "2024-09-10T12:19:43.469Z"
   },
   {
    "duration": 7,
    "start_time": "2024-09-10T12:19:43.522Z"
   },
   {
    "duration": 23,
    "start_time": "2024-09-10T12:19:43.531Z"
   },
   {
    "duration": 16,
    "start_time": "2024-09-10T12:19:43.555Z"
   },
   {
    "duration": 42,
    "start_time": "2024-09-10T12:19:43.573Z"
   },
   {
    "duration": 13,
    "start_time": "2024-09-10T12:19:43.616Z"
   },
   {
    "duration": 16,
    "start_time": "2024-09-10T12:19:43.630Z"
   },
   {
    "duration": 23,
    "start_time": "2024-09-10T12:19:43.647Z"
   },
   {
    "duration": 620,
    "start_time": "2024-09-10T12:19:43.672Z"
   },
   {
    "duration": 0,
    "start_time": "2024-09-10T12:19:44.293Z"
   },
   {
    "duration": 0,
    "start_time": "2024-09-10T12:19:44.295Z"
   },
   {
    "duration": 0,
    "start_time": "2024-09-10T12:19:44.296Z"
   },
   {
    "duration": 0,
    "start_time": "2024-09-10T12:19:44.297Z"
   },
   {
    "duration": 0,
    "start_time": "2024-09-10T12:19:44.308Z"
   },
   {
    "duration": 0,
    "start_time": "2024-09-10T12:19:44.310Z"
   },
   {
    "duration": 0,
    "start_time": "2024-09-10T12:19:44.311Z"
   },
   {
    "duration": 0,
    "start_time": "2024-09-10T12:19:44.313Z"
   },
   {
    "duration": 0,
    "start_time": "2024-09-10T12:19:44.314Z"
   },
   {
    "duration": 23,
    "start_time": "2024-09-10T12:44:25.999Z"
   },
   {
    "duration": 16,
    "start_time": "2024-09-10T12:44:37.709Z"
   },
   {
    "duration": 23,
    "start_time": "2024-09-10T12:44:46.363Z"
   },
   {
    "duration": 15,
    "start_time": "2024-09-10T12:50:21.700Z"
   },
   {
    "duration": 15,
    "start_time": "2024-09-10T12:50:51.425Z"
   },
   {
    "duration": 30,
    "start_time": "2024-09-10T12:51:34.193Z"
   },
   {
    "duration": 29,
    "start_time": "2024-09-10T12:51:44.355Z"
   },
   {
    "duration": 16,
    "start_time": "2024-09-10T12:51:53.880Z"
   },
   {
    "duration": 15,
    "start_time": "2024-09-10T12:52:31.371Z"
   },
   {
    "duration": 16,
    "start_time": "2024-09-10T12:53:11.833Z"
   },
   {
    "duration": 2,
    "start_time": "2024-09-10T12:58:55.612Z"
   },
   {
    "duration": 419,
    "start_time": "2024-09-10T12:59:00.792Z"
   },
   {
    "duration": 296,
    "start_time": "2024-09-10T12:59:01.214Z"
   },
   {
    "duration": 8,
    "start_time": "2024-09-10T12:59:01.513Z"
   },
   {
    "duration": 7,
    "start_time": "2024-09-10T12:59:01.523Z"
   },
   {
    "duration": 4,
    "start_time": "2024-09-10T12:59:01.534Z"
   },
   {
    "duration": 4,
    "start_time": "2024-09-10T12:59:01.539Z"
   },
   {
    "duration": 4,
    "start_time": "2024-09-10T12:59:01.544Z"
   },
   {
    "duration": 7,
    "start_time": "2024-09-10T12:59:01.550Z"
   },
   {
    "duration": 8,
    "start_time": "2024-09-10T12:59:01.559Z"
   },
   {
    "duration": 8,
    "start_time": "2024-09-10T12:59:01.609Z"
   },
   {
    "duration": 9,
    "start_time": "2024-09-10T12:59:01.620Z"
   },
   {
    "duration": 4,
    "start_time": "2024-09-10T12:59:01.631Z"
   },
   {
    "duration": 5,
    "start_time": "2024-09-10T12:59:01.636Z"
   },
   {
    "duration": 10,
    "start_time": "2024-09-10T12:59:01.645Z"
   },
   {
    "duration": 6,
    "start_time": "2024-09-10T12:59:01.657Z"
   },
   {
    "duration": 53,
    "start_time": "2024-09-10T12:59:01.665Z"
   },
   {
    "duration": 9,
    "start_time": "2024-09-10T12:59:01.721Z"
   },
   {
    "duration": 12,
    "start_time": "2024-09-10T12:59:01.732Z"
   },
   {
    "duration": 33,
    "start_time": "2024-09-10T12:59:01.746Z"
   },
   {
    "duration": 68,
    "start_time": "2024-09-10T12:59:01.780Z"
   },
   {
    "duration": 3,
    "start_time": "2024-09-10T12:59:01.850Z"
   },
   {
    "duration": 3,
    "start_time": "2024-09-10T12:59:01.855Z"
   },
   {
    "duration": 56,
    "start_time": "2024-09-10T12:59:01.859Z"
   },
   {
    "duration": 12,
    "start_time": "2024-09-10T12:59:01.916Z"
   },
   {
    "duration": 8,
    "start_time": "2024-09-10T12:59:01.930Z"
   },
   {
    "duration": 8,
    "start_time": "2024-09-10T12:59:01.940Z"
   },
   {
    "duration": 16,
    "start_time": "2024-09-10T12:59:01.949Z"
   },
   {
    "duration": 54,
    "start_time": "2024-09-10T12:59:01.967Z"
   },
   {
    "duration": 13,
    "start_time": "2024-09-10T12:59:02.023Z"
   },
   {
    "duration": 9,
    "start_time": "2024-09-10T12:59:02.038Z"
   },
   {
    "duration": 10,
    "start_time": "2024-09-10T12:59:02.049Z"
   },
   {
    "duration": 63,
    "start_time": "2024-09-10T12:59:02.061Z"
   },
   {
    "duration": 28,
    "start_time": "2024-09-10T12:59:02.126Z"
   },
   {
    "duration": 7,
    "start_time": "2024-09-10T12:59:02.155Z"
   },
   {
    "duration": 45,
    "start_time": "2024-09-10T12:59:02.164Z"
   },
   {
    "duration": 17,
    "start_time": "2024-09-10T12:59:02.210Z"
   },
   {
    "duration": 16,
    "start_time": "2024-09-10T12:59:02.229Z"
   },
   {
    "duration": 126,
    "start_time": "2024-09-10T12:59:02.248Z"
   },
   {
    "duration": 0,
    "start_time": "2024-09-10T12:59:02.377Z"
   },
   {
    "duration": 0,
    "start_time": "2024-09-10T12:59:02.378Z"
   },
   {
    "duration": 0,
    "start_time": "2024-09-10T12:59:02.379Z"
   },
   {
    "duration": 0,
    "start_time": "2024-09-10T12:59:02.380Z"
   },
   {
    "duration": 0,
    "start_time": "2024-09-10T12:59:02.381Z"
   },
   {
    "duration": 0,
    "start_time": "2024-09-10T12:59:02.383Z"
   },
   {
    "duration": 0,
    "start_time": "2024-09-10T12:59:02.384Z"
   },
   {
    "duration": 0,
    "start_time": "2024-09-10T12:59:02.386Z"
   },
   {
    "duration": 0,
    "start_time": "2024-09-10T12:59:02.387Z"
   },
   {
    "duration": 0,
    "start_time": "2024-09-10T12:59:02.388Z"
   },
   {
    "duration": 0,
    "start_time": "2024-09-10T12:59:02.389Z"
   },
   {
    "duration": 0,
    "start_time": "2024-09-10T12:59:02.389Z"
   },
   {
    "duration": 531,
    "start_time": "2024-09-10T13:00:51.062Z"
   },
   {
    "duration": 15,
    "start_time": "2024-09-10T13:01:32.095Z"
   },
   {
    "duration": 17,
    "start_time": "2024-09-10T13:02:47.849Z"
   },
   {
    "duration": 449,
    "start_time": "2024-09-10T13:05:21.806Z"
   },
   {
    "duration": 267,
    "start_time": "2024-09-10T13:05:22.257Z"
   },
   {
    "duration": 8,
    "start_time": "2024-09-10T13:05:22.525Z"
   },
   {
    "duration": 7,
    "start_time": "2024-09-10T13:05:22.536Z"
   },
   {
    "duration": 4,
    "start_time": "2024-09-10T13:05:22.545Z"
   },
   {
    "duration": 3,
    "start_time": "2024-09-10T13:05:22.551Z"
   },
   {
    "duration": 4,
    "start_time": "2024-09-10T13:05:22.556Z"
   },
   {
    "duration": 8,
    "start_time": "2024-09-10T13:05:22.561Z"
   },
   {
    "duration": 44,
    "start_time": "2024-09-10T13:05:22.571Z"
   },
   {
    "duration": 8,
    "start_time": "2024-09-10T13:05:22.619Z"
   },
   {
    "duration": 9,
    "start_time": "2024-09-10T13:05:22.629Z"
   },
   {
    "duration": 3,
    "start_time": "2024-09-10T13:05:22.640Z"
   },
   {
    "duration": 5,
    "start_time": "2024-09-10T13:05:22.645Z"
   },
   {
    "duration": 10,
    "start_time": "2024-09-10T13:05:22.652Z"
   },
   {
    "duration": 49,
    "start_time": "2024-09-10T13:05:22.664Z"
   },
   {
    "duration": 16,
    "start_time": "2024-09-10T13:05:22.715Z"
   },
   {
    "duration": 11,
    "start_time": "2024-09-10T13:05:22.733Z"
   },
   {
    "duration": 11,
    "start_time": "2024-09-10T13:05:22.745Z"
   },
   {
    "duration": 65,
    "start_time": "2024-09-10T13:05:22.758Z"
   },
   {
    "duration": 42,
    "start_time": "2024-09-10T13:05:22.825Z"
   },
   {
    "duration": 4,
    "start_time": "2024-09-10T13:05:22.868Z"
   },
   {
    "duration": 3,
    "start_time": "2024-09-10T13:05:22.874Z"
   },
   {
    "duration": 58,
    "start_time": "2024-09-10T13:05:22.879Z"
   },
   {
    "duration": 14,
    "start_time": "2024-09-10T13:05:22.939Z"
   },
   {
    "duration": 8,
    "start_time": "2024-09-10T13:05:22.955Z"
   },
   {
    "duration": 12,
    "start_time": "2024-09-10T13:05:22.965Z"
   },
   {
    "duration": 42,
    "start_time": "2024-09-10T13:05:22.979Z"
   },
   {
    "duration": 22,
    "start_time": "2024-09-10T13:05:23.026Z"
   },
   {
    "duration": 14,
    "start_time": "2024-09-10T13:05:23.049Z"
   },
   {
    "duration": 10,
    "start_time": "2024-09-10T13:05:23.064Z"
   },
   {
    "duration": 40,
    "start_time": "2024-09-10T13:05:23.075Z"
   },
   {
    "duration": 43,
    "start_time": "2024-09-10T13:05:23.116Z"
   },
   {
    "duration": 28,
    "start_time": "2024-09-10T13:05:23.161Z"
   },
   {
    "duration": 7,
    "start_time": "2024-09-10T13:05:23.210Z"
   },
   {
    "duration": 24,
    "start_time": "2024-09-10T13:05:23.219Z"
   },
   {
    "duration": 17,
    "start_time": "2024-09-10T13:05:23.245Z"
   },
   {
    "duration": 47,
    "start_time": "2024-09-10T13:05:23.264Z"
   },
   {
    "duration": 16,
    "start_time": "2024-09-10T13:05:23.313Z"
   },
   {
    "duration": 15,
    "start_time": "2024-09-10T13:05:23.331Z"
   },
   {
    "duration": 25,
    "start_time": "2024-09-10T13:05:23.348Z"
   },
   {
    "duration": 617,
    "start_time": "2024-09-10T13:05:23.375Z"
   },
   {
    "duration": 0,
    "start_time": "2024-09-10T13:05:23.994Z"
   },
   {
    "duration": 0,
    "start_time": "2024-09-10T13:05:23.996Z"
   },
   {
    "duration": 0,
    "start_time": "2024-09-10T13:05:24.010Z"
   },
   {
    "duration": 0,
    "start_time": "2024-09-10T13:05:24.011Z"
   },
   {
    "duration": 1,
    "start_time": "2024-09-10T13:05:24.012Z"
   },
   {
    "duration": 0,
    "start_time": "2024-09-10T13:05:24.015Z"
   },
   {
    "duration": 0,
    "start_time": "2024-09-10T13:05:24.016Z"
   },
   {
    "duration": 0,
    "start_time": "2024-09-10T13:05:24.017Z"
   },
   {
    "duration": 0,
    "start_time": "2024-09-10T13:05:24.018Z"
   },
   {
    "duration": 53,
    "start_time": "2024-09-10T13:09:49.997Z"
   },
   {
    "duration": 22,
    "start_time": "2024-09-10T13:16:16.837Z"
   },
   {
    "duration": 16,
    "start_time": "2024-09-10T13:16:34.866Z"
   },
   {
    "duration": 22,
    "start_time": "2024-09-10T13:25:37.003Z"
   },
   {
    "duration": 23,
    "start_time": "2024-09-10T13:25:58.653Z"
   },
   {
    "duration": 437,
    "start_time": "2024-09-10T13:26:06.560Z"
   },
   {
    "duration": 297,
    "start_time": "2024-09-10T13:26:07.000Z"
   },
   {
    "duration": 18,
    "start_time": "2024-09-10T13:26:07.299Z"
   },
   {
    "duration": 8,
    "start_time": "2024-09-10T13:26:07.320Z"
   },
   {
    "duration": 4,
    "start_time": "2024-09-10T13:26:07.330Z"
   },
   {
    "duration": 3,
    "start_time": "2024-09-10T13:26:07.336Z"
   },
   {
    "duration": 4,
    "start_time": "2024-09-10T13:26:07.342Z"
   },
   {
    "duration": 7,
    "start_time": "2024-09-10T13:26:07.348Z"
   },
   {
    "duration": 52,
    "start_time": "2024-09-10T13:26:07.357Z"
   },
   {
    "duration": 13,
    "start_time": "2024-09-10T13:26:07.414Z"
   },
   {
    "duration": 10,
    "start_time": "2024-09-10T13:26:07.429Z"
   },
   {
    "duration": 5,
    "start_time": "2024-09-10T13:26:07.441Z"
   },
   {
    "duration": 5,
    "start_time": "2024-09-10T13:26:07.447Z"
   },
   {
    "duration": 13,
    "start_time": "2024-09-10T13:26:07.453Z"
   },
   {
    "duration": 7,
    "start_time": "2024-09-10T13:26:07.468Z"
   },
   {
    "duration": 19,
    "start_time": "2024-09-10T13:26:07.509Z"
   },
   {
    "duration": 10,
    "start_time": "2024-09-10T13:26:07.530Z"
   },
   {
    "duration": 12,
    "start_time": "2024-09-10T13:26:07.541Z"
   },
   {
    "duration": 62,
    "start_time": "2024-09-10T13:26:07.554Z"
   },
   {
    "duration": 43,
    "start_time": "2024-09-10T13:26:07.618Z"
   },
   {
    "duration": 4,
    "start_time": "2024-09-10T13:26:07.663Z"
   },
   {
    "duration": 3,
    "start_time": "2024-09-10T13:26:07.669Z"
   },
   {
    "duration": 62,
    "start_time": "2024-09-10T13:26:07.674Z"
   },
   {
    "duration": 12,
    "start_time": "2024-09-10T13:26:07.738Z"
   },
   {
    "duration": 7,
    "start_time": "2024-09-10T13:26:07.752Z"
   },
   {
    "duration": 9,
    "start_time": "2024-09-10T13:26:07.761Z"
   },
   {
    "duration": 43,
    "start_time": "2024-09-10T13:26:07.771Z"
   },
   {
    "duration": 21,
    "start_time": "2024-09-10T13:26:07.820Z"
   },
   {
    "duration": 14,
    "start_time": "2024-09-10T13:26:07.842Z"
   },
   {
    "duration": 9,
    "start_time": "2024-09-10T13:26:07.858Z"
   },
   {
    "duration": 9,
    "start_time": "2024-09-10T13:26:07.869Z"
   },
   {
    "duration": 66,
    "start_time": "2024-09-10T13:26:07.880Z"
   },
   {
    "duration": 28,
    "start_time": "2024-09-10T13:26:07.947Z"
   },
   {
    "duration": 7,
    "start_time": "2024-09-10T13:26:07.976Z"
   },
   {
    "duration": 46,
    "start_time": "2024-09-10T13:26:07.985Z"
   },
   {
    "duration": 18,
    "start_time": "2024-09-10T13:26:08.033Z"
   },
   {
    "duration": 18,
    "start_time": "2024-09-10T13:26:08.052Z"
   },
   {
    "duration": 40,
    "start_time": "2024-09-10T13:26:08.072Z"
   },
   {
    "duration": 16,
    "start_time": "2024-09-10T13:26:08.113Z"
   },
   {
    "duration": 21,
    "start_time": "2024-09-10T13:26:08.131Z"
   },
   {
    "duration": 24,
    "start_time": "2024-09-10T13:26:08.154Z"
   },
   {
    "duration": 2,
    "start_time": "2024-09-10T13:26:08.180Z"
   },
   {
    "duration": 2,
    "start_time": "2024-09-10T13:26:08.210Z"
   },
   {
    "duration": 2,
    "start_time": "2024-09-10T13:26:08.214Z"
   },
   {
    "duration": 3,
    "start_time": "2024-09-10T13:26:08.219Z"
   },
   {
    "duration": 3,
    "start_time": "2024-09-10T13:26:08.224Z"
   },
   {
    "duration": 3,
    "start_time": "2024-09-10T13:26:08.230Z"
   },
   {
    "duration": 216,
    "start_time": "2024-09-10T13:26:08.235Z"
   },
   {
    "duration": 0,
    "start_time": "2024-09-10T13:26:08.453Z"
   },
   {
    "duration": 0,
    "start_time": "2024-09-10T13:26:08.454Z"
   },
   {
    "duration": 24,
    "start_time": "2024-09-10T13:26:44.616Z"
   },
   {
    "duration": 18,
    "start_time": "2024-09-10T13:28:03.258Z"
   },
   {
    "duration": 22,
    "start_time": "2024-09-10T13:28:10.987Z"
   },
   {
    "duration": 19,
    "start_time": "2024-09-10T13:28:26.317Z"
   },
   {
    "duration": 29,
    "start_time": "2024-09-10T13:28:50.496Z"
   },
   {
    "duration": 27,
    "start_time": "2024-09-10T13:33:29.457Z"
   },
   {
    "duration": 460,
    "start_time": "2024-09-10T13:33:43.664Z"
   },
   {
    "duration": 290,
    "start_time": "2024-09-10T13:33:44.126Z"
   },
   {
    "duration": 9,
    "start_time": "2024-09-10T13:33:44.418Z"
   },
   {
    "duration": 7,
    "start_time": "2024-09-10T13:33:44.431Z"
   },
   {
    "duration": 5,
    "start_time": "2024-09-10T13:33:44.440Z"
   },
   {
    "duration": 5,
    "start_time": "2024-09-10T13:33:44.447Z"
   },
   {
    "duration": 5,
    "start_time": "2024-09-10T13:33:44.453Z"
   },
   {
    "duration": 10,
    "start_time": "2024-09-10T13:33:44.460Z"
   },
   {
    "duration": 10,
    "start_time": "2024-09-10T13:33:44.509Z"
   },
   {
    "duration": 10,
    "start_time": "2024-09-10T13:33:44.522Z"
   },
   {
    "duration": 10,
    "start_time": "2024-09-10T13:33:44.534Z"
   },
   {
    "duration": 6,
    "start_time": "2024-09-10T13:33:44.546Z"
   },
   {
    "duration": 4,
    "start_time": "2024-09-10T13:33:44.554Z"
   },
   {
    "duration": 12,
    "start_time": "2024-09-10T13:33:44.560Z"
   },
   {
    "duration": 41,
    "start_time": "2024-09-10T13:33:44.574Z"
   },
   {
    "duration": 20,
    "start_time": "2024-09-10T13:33:44.617Z"
   },
   {
    "duration": 12,
    "start_time": "2024-09-10T13:33:44.639Z"
   },
   {
    "duration": 15,
    "start_time": "2024-09-10T13:33:44.652Z"
   },
   {
    "duration": 63,
    "start_time": "2024-09-10T13:33:44.668Z"
   },
   {
    "duration": 73,
    "start_time": "2024-09-10T13:33:44.733Z"
   },
   {
    "duration": 6,
    "start_time": "2024-09-10T13:33:44.810Z"
   },
   {
    "duration": 3,
    "start_time": "2024-09-10T13:33:44.818Z"
   },
   {
    "duration": 37,
    "start_time": "2024-09-10T13:33:44.824Z"
   },
   {
    "duration": 16,
    "start_time": "2024-09-10T13:33:44.863Z"
   },
   {
    "duration": 29,
    "start_time": "2024-09-10T13:33:44.881Z"
   },
   {
    "duration": 8,
    "start_time": "2024-09-10T13:33:44.912Z"
   },
   {
    "duration": 15,
    "start_time": "2024-09-10T13:33:44.922Z"
   },
   {
    "duration": 20,
    "start_time": "2024-09-10T13:33:44.942Z"
   },
   {
    "duration": 14,
    "start_time": "2024-09-10T13:33:44.966Z"
   },
   {
    "duration": 14,
    "start_time": "2024-09-10T13:33:45.009Z"
   },
   {
    "duration": 14,
    "start_time": "2024-09-10T13:33:45.025Z"
   },
   {
    "duration": 50,
    "start_time": "2024-09-10T13:33:45.041Z"
   },
   {
    "duration": 29,
    "start_time": "2024-09-10T13:33:45.109Z"
   },
   {
    "duration": 11,
    "start_time": "2024-09-10T13:33:45.139Z"
   },
   {
    "duration": 31,
    "start_time": "2024-09-10T13:33:45.152Z"
   },
   {
    "duration": 37,
    "start_time": "2024-09-10T13:33:45.186Z"
   },
   {
    "duration": 18,
    "start_time": "2024-09-10T13:33:45.225Z"
   },
   {
    "duration": 17,
    "start_time": "2024-09-10T13:33:45.245Z"
   },
   {
    "duration": 17,
    "start_time": "2024-09-10T13:33:45.264Z"
   },
   {
    "duration": 53,
    "start_time": "2024-09-10T13:33:45.282Z"
   },
   {
    "duration": 33,
    "start_time": "2024-09-10T13:33:45.336Z"
   },
   {
    "duration": 3,
    "start_time": "2024-09-10T13:33:45.371Z"
   },
   {
    "duration": 3,
    "start_time": "2024-09-10T13:33:45.376Z"
   },
   {
    "duration": 2,
    "start_time": "2024-09-10T13:33:45.409Z"
   },
   {
    "duration": 2,
    "start_time": "2024-09-10T13:33:45.413Z"
   },
   {
    "duration": 3,
    "start_time": "2024-09-10T13:33:45.417Z"
   },
   {
    "duration": 2,
    "start_time": "2024-09-10T13:33:45.422Z"
   },
   {
    "duration": 240,
    "start_time": "2024-09-10T13:33:45.426Z"
   },
   {
    "duration": 0,
    "start_time": "2024-09-10T13:33:45.668Z"
   },
   {
    "duration": 0,
    "start_time": "2024-09-10T13:33:45.669Z"
   },
   {
    "duration": 27,
    "start_time": "2024-09-10T13:37:14.676Z"
   },
   {
    "duration": 473,
    "start_time": "2024-09-10T13:37:28.225Z"
   },
   {
    "duration": 273,
    "start_time": "2024-09-10T13:37:28.700Z"
   },
   {
    "duration": 9,
    "start_time": "2024-09-10T13:37:28.976Z"
   },
   {
    "duration": 9,
    "start_time": "2024-09-10T13:37:29.008Z"
   },
   {
    "duration": 5,
    "start_time": "2024-09-10T13:37:29.019Z"
   },
   {
    "duration": 4,
    "start_time": "2024-09-10T13:37:29.026Z"
   },
   {
    "duration": 5,
    "start_time": "2024-09-10T13:37:29.032Z"
   },
   {
    "duration": 8,
    "start_time": "2024-09-10T13:37:29.039Z"
   },
   {
    "duration": 9,
    "start_time": "2024-09-10T13:37:29.049Z"
   },
   {
    "duration": 47,
    "start_time": "2024-09-10T13:37:29.061Z"
   },
   {
    "duration": 9,
    "start_time": "2024-09-10T13:37:29.111Z"
   },
   {
    "duration": 4,
    "start_time": "2024-09-10T13:37:29.122Z"
   },
   {
    "duration": 6,
    "start_time": "2024-09-10T13:37:29.128Z"
   },
   {
    "duration": 12,
    "start_time": "2024-09-10T13:37:29.135Z"
   },
   {
    "duration": 7,
    "start_time": "2024-09-10T13:37:29.149Z"
   },
   {
    "duration": 51,
    "start_time": "2024-09-10T13:37:29.158Z"
   },
   {
    "duration": 11,
    "start_time": "2024-09-10T13:37:29.211Z"
   },
   {
    "duration": 12,
    "start_time": "2024-09-10T13:37:29.226Z"
   },
   {
    "duration": 33,
    "start_time": "2024-09-10T13:37:29.240Z"
   },
   {
    "duration": 69,
    "start_time": "2024-09-10T13:37:29.275Z"
   },
   {
    "duration": 3,
    "start_time": "2024-09-10T13:37:29.346Z"
   },
   {
    "duration": 4,
    "start_time": "2024-09-10T13:37:29.351Z"
   },
   {
    "duration": 60,
    "start_time": "2024-09-10T13:37:29.358Z"
   },
   {
    "duration": 13,
    "start_time": "2024-09-10T13:37:29.420Z"
   },
   {
    "duration": 9,
    "start_time": "2024-09-10T13:37:29.435Z"
   },
   {
    "duration": 10,
    "start_time": "2024-09-10T13:37:29.446Z"
   },
   {
    "duration": 17,
    "start_time": "2024-09-10T13:37:29.458Z"
   },
   {
    "duration": 47,
    "start_time": "2024-09-10T13:37:29.478Z"
   },
   {
    "duration": 19,
    "start_time": "2024-09-10T13:37:29.527Z"
   },
   {
    "duration": 8,
    "start_time": "2024-09-10T13:37:29.548Z"
   },
   {
    "duration": 12,
    "start_time": "2024-09-10T13:37:29.558Z"
   },
   {
    "duration": 61,
    "start_time": "2024-09-10T13:37:29.573Z"
   },
   {
    "duration": 27,
    "start_time": "2024-09-10T13:37:29.636Z"
   },
   {
    "duration": 9,
    "start_time": "2024-09-10T13:37:29.665Z"
   },
   {
    "duration": 53,
    "start_time": "2024-09-10T13:37:29.676Z"
   },
   {
    "duration": 27,
    "start_time": "2024-09-10T13:37:29.730Z"
   },
   {
    "duration": 32,
    "start_time": "2024-09-10T13:37:29.760Z"
   },
   {
    "duration": 29,
    "start_time": "2024-09-10T13:37:29.794Z"
   },
   {
    "duration": 18,
    "start_time": "2024-09-10T13:37:29.825Z"
   },
   {
    "duration": 214,
    "start_time": "2024-09-10T13:37:29.845Z"
   },
   {
    "duration": 0,
    "start_time": "2024-09-10T13:37:30.061Z"
   },
   {
    "duration": 0,
    "start_time": "2024-09-10T13:37:30.062Z"
   },
   {
    "duration": 0,
    "start_time": "2024-09-10T13:37:30.062Z"
   },
   {
    "duration": 0,
    "start_time": "2024-09-10T13:37:30.063Z"
   },
   {
    "duration": 0,
    "start_time": "2024-09-10T13:37:30.065Z"
   },
   {
    "duration": 0,
    "start_time": "2024-09-10T13:37:30.067Z"
   },
   {
    "duration": 0,
    "start_time": "2024-09-10T13:37:30.069Z"
   },
   {
    "duration": 0,
    "start_time": "2024-09-10T13:37:30.070Z"
   },
   {
    "duration": 0,
    "start_time": "2024-09-10T13:37:30.072Z"
   },
   {
    "duration": 0,
    "start_time": "2024-09-10T13:37:30.073Z"
   },
   {
    "duration": 28,
    "start_time": "2024-09-10T13:37:43.815Z"
   },
   {
    "duration": 29,
    "start_time": "2024-09-10T13:37:59.745Z"
   },
   {
    "duration": 21,
    "start_time": "2024-09-10T13:39:06.144Z"
   },
   {
    "duration": 516,
    "start_time": "2024-09-10T13:39:26.838Z"
   },
   {
    "duration": 313,
    "start_time": "2024-09-10T13:39:27.356Z"
   },
   {
    "duration": 8,
    "start_time": "2024-09-10T13:39:27.671Z"
   },
   {
    "duration": 28,
    "start_time": "2024-09-10T13:39:27.681Z"
   },
   {
    "duration": 5,
    "start_time": "2024-09-10T13:39:27.710Z"
   },
   {
    "duration": 4,
    "start_time": "2024-09-10T13:39:27.717Z"
   },
   {
    "duration": 4,
    "start_time": "2024-09-10T13:39:27.723Z"
   },
   {
    "duration": 10,
    "start_time": "2024-09-10T13:39:27.731Z"
   },
   {
    "duration": 15,
    "start_time": "2024-09-10T13:39:27.744Z"
   },
   {
    "duration": 10,
    "start_time": "2024-09-10T13:39:27.763Z"
   },
   {
    "duration": 39,
    "start_time": "2024-09-10T13:39:27.774Z"
   },
   {
    "duration": 4,
    "start_time": "2024-09-10T13:39:27.815Z"
   },
   {
    "duration": 6,
    "start_time": "2024-09-10T13:39:27.824Z"
   },
   {
    "duration": 12,
    "start_time": "2024-09-10T13:39:27.832Z"
   },
   {
    "duration": 8,
    "start_time": "2024-09-10T13:39:27.846Z"
   },
   {
    "duration": 20,
    "start_time": "2024-09-10T13:39:27.856Z"
   },
   {
    "duration": 39,
    "start_time": "2024-09-10T13:39:27.878Z"
   },
   {
    "duration": 14,
    "start_time": "2024-09-10T13:39:27.919Z"
   },
   {
    "duration": 35,
    "start_time": "2024-09-10T13:39:27.935Z"
   },
   {
    "duration": 62,
    "start_time": "2024-09-10T13:39:27.972Z"
   },
   {
    "duration": 3,
    "start_time": "2024-09-10T13:39:28.036Z"
   },
   {
    "duration": 4,
    "start_time": "2024-09-10T13:39:28.041Z"
   },
   {
    "duration": 34,
    "start_time": "2024-09-10T13:39:28.046Z"
   },
   {
    "duration": 38,
    "start_time": "2024-09-10T13:39:28.082Z"
   },
   {
    "duration": 8,
    "start_time": "2024-09-10T13:39:28.122Z"
   },
   {
    "duration": 8,
    "start_time": "2024-09-10T13:39:28.132Z"
   },
   {
    "duration": 17,
    "start_time": "2024-09-10T13:39:28.142Z"
   },
   {
    "duration": 62,
    "start_time": "2024-09-10T13:39:28.164Z"
   },
   {
    "duration": 18,
    "start_time": "2024-09-10T13:39:28.228Z"
   },
   {
    "duration": 10,
    "start_time": "2024-09-10T13:39:28.248Z"
   },
   {
    "duration": 10,
    "start_time": "2024-09-10T13:39:28.260Z"
   },
   {
    "duration": 77,
    "start_time": "2024-09-10T13:39:28.273Z"
   },
   {
    "duration": 37,
    "start_time": "2024-09-10T13:39:28.352Z"
   },
   {
    "duration": 19,
    "start_time": "2024-09-10T13:39:28.391Z"
   },
   {
    "duration": 30,
    "start_time": "2024-09-10T13:39:28.412Z"
   },
   {
    "duration": 16,
    "start_time": "2024-09-10T13:39:28.444Z"
   },
   {
    "duration": 19,
    "start_time": "2024-09-10T13:39:28.462Z"
   },
   {
    "duration": 39,
    "start_time": "2024-09-10T13:39:28.483Z"
   },
   {
    "duration": 15,
    "start_time": "2024-09-10T13:39:28.523Z"
   },
   {
    "duration": 14,
    "start_time": "2024-09-10T13:39:28.540Z"
   },
   {
    "duration": 544,
    "start_time": "2024-09-10T13:39:28.556Z"
   },
   {
    "duration": 0,
    "start_time": "2024-09-10T13:39:29.102Z"
   },
   {
    "duration": 0,
    "start_time": "2024-09-10T13:39:29.103Z"
   },
   {
    "duration": 0,
    "start_time": "2024-09-10T13:39:29.104Z"
   },
   {
    "duration": 0,
    "start_time": "2024-09-10T13:39:29.109Z"
   },
   {
    "duration": 0,
    "start_time": "2024-09-10T13:39:29.110Z"
   },
   {
    "duration": 0,
    "start_time": "2024-09-10T13:39:29.112Z"
   },
   {
    "duration": 0,
    "start_time": "2024-09-10T13:39:29.113Z"
   },
   {
    "duration": 0,
    "start_time": "2024-09-10T13:39:29.114Z"
   },
   {
    "duration": 0,
    "start_time": "2024-09-10T13:39:29.116Z"
   },
   {
    "duration": 19,
    "start_time": "2024-09-10T13:40:21.032Z"
   },
   {
    "duration": 18,
    "start_time": "2024-09-10T13:41:22.042Z"
   },
   {
    "duration": 28,
    "start_time": "2024-09-10T13:41:29.129Z"
   },
   {
    "duration": 33,
    "start_time": "2024-09-10T13:41:40.605Z"
   },
   {
    "duration": 24,
    "start_time": "2024-09-10T13:54:51.858Z"
   },
   {
    "duration": 52,
    "start_time": "2024-09-10T13:56:09.018Z"
   },
   {
    "duration": 18,
    "start_time": "2024-09-10T14:00:41.498Z"
   },
   {
    "duration": 18,
    "start_time": "2024-09-10T14:04:59.729Z"
   },
   {
    "duration": 18,
    "start_time": "2024-09-10T14:09:37.127Z"
   },
   {
    "duration": 23,
    "start_time": "2024-09-10T14:11:01.762Z"
   },
   {
    "duration": 17,
    "start_time": "2024-09-10T14:11:10.562Z"
   },
   {
    "duration": 9,
    "start_time": "2024-09-10T14:16:12.924Z"
   },
   {
    "duration": 14,
    "start_time": "2024-09-10T14:16:35.722Z"
   },
   {
    "duration": 17,
    "start_time": "2024-09-10T14:22:31.473Z"
   },
   {
    "duration": 12,
    "start_time": "2024-09-10T14:22:36.548Z"
   },
   {
    "duration": 10,
    "start_time": "2024-09-10T14:22:48.288Z"
   },
   {
    "duration": 11,
    "start_time": "2024-09-10T14:27:56.179Z"
   },
   {
    "duration": 38,
    "start_time": "2024-09-10T14:28:57.614Z"
   },
   {
    "duration": 20,
    "start_time": "2024-09-10T14:33:09.354Z"
   },
   {
    "duration": 21,
    "start_time": "2024-09-10T14:33:42.537Z"
   },
   {
    "duration": 19,
    "start_time": "2024-09-10T14:33:54.266Z"
   },
   {
    "duration": 18,
    "start_time": "2024-09-10T14:34:12.176Z"
   },
   {
    "duration": 391,
    "start_time": "2024-09-10T14:40:46.056Z"
   },
   {
    "duration": 28,
    "start_time": "2024-09-10T14:41:18.763Z"
   },
   {
    "duration": 57,
    "start_time": "2024-09-10T14:46:12.363Z"
   },
   {
    "duration": 7,
    "start_time": "2024-09-10T14:46:37.273Z"
   },
   {
    "duration": 57,
    "start_time": "2024-09-10T14:46:42.565Z"
   },
   {
    "duration": 148,
    "start_time": "2024-09-10T14:46:47.681Z"
   },
   {
    "duration": 57,
    "start_time": "2024-09-10T14:47:41.491Z"
   },
   {
    "duration": 58,
    "start_time": "2024-09-10T14:48:19.075Z"
   },
   {
    "duration": 85,
    "start_time": "2024-09-10T14:56:14.786Z"
   },
   {
    "duration": 58,
    "start_time": "2024-09-10T14:57:23.883Z"
   },
   {
    "duration": 26,
    "start_time": "2024-09-10T14:57:51.441Z"
   },
   {
    "duration": 31,
    "start_time": "2024-09-10T14:58:20.872Z"
   },
   {
    "duration": 31,
    "start_time": "2024-09-10T14:58:41.246Z"
   },
   {
    "duration": 136,
    "start_time": "2024-09-10T15:00:59.077Z"
   },
   {
    "duration": 45,
    "start_time": "2024-09-10T15:01:19.093Z"
   },
   {
    "duration": 31,
    "start_time": "2024-09-10T15:01:29.338Z"
   },
   {
    "duration": 32,
    "start_time": "2024-09-10T15:03:15.108Z"
   },
   {
    "duration": 159,
    "start_time": "2024-09-10T15:05:52.985Z"
   },
   {
    "duration": 108,
    "start_time": "2024-09-10T15:20:13.338Z"
   },
   {
    "duration": 157,
    "start_time": "2024-09-10T15:20:39.385Z"
   },
   {
    "duration": 290,
    "start_time": "2024-09-10T15:22:16.099Z"
   },
   {
    "duration": 309,
    "start_time": "2024-09-10T15:23:21.003Z"
   },
   {
    "duration": 70,
    "start_time": "2024-09-10T15:26:29.632Z"
   },
   {
    "duration": 76,
    "start_time": "2024-09-10T15:26:55.522Z"
   },
   {
    "duration": 58,
    "start_time": "2024-09-10T15:27:33.674Z"
   },
   {
    "duration": 39,
    "start_time": "2024-09-10T15:28:30.691Z"
   },
   {
    "duration": 47,
    "start_time": "2024-09-10T15:30:04.599Z"
   },
   {
    "duration": 41,
    "start_time": "2024-09-10T15:30:38.076Z"
   },
   {
    "duration": 10,
    "start_time": "2024-09-10T15:32:42.029Z"
   },
   {
    "duration": 4,
    "start_time": "2024-09-10T15:32:59.257Z"
   },
   {
    "duration": 15,
    "start_time": "2024-09-10T15:33:04.129Z"
   },
   {
    "duration": 173,
    "start_time": "2024-09-10T15:36:20.354Z"
   },
   {
    "duration": 259,
    "start_time": "2024-09-10T15:38:50.023Z"
   },
   {
    "duration": 9,
    "start_time": "2024-09-10T15:42:50.354Z"
   },
   {
    "duration": 19,
    "start_time": "2024-09-10T15:43:37.142Z"
   },
   {
    "duration": 32,
    "start_time": "2024-09-10T15:44:17.329Z"
   },
   {
    "duration": 9,
    "start_time": "2024-09-10T15:45:24.437Z"
   },
   {
    "duration": 8,
    "start_time": "2024-09-10T15:45:30.733Z"
   },
   {
    "duration": 9,
    "start_time": "2024-09-10T15:45:51.808Z"
   },
   {
    "duration": 22,
    "start_time": "2024-09-10T15:46:24.711Z"
   },
   {
    "duration": 12,
    "start_time": "2024-09-10T15:49:11.632Z"
   },
   {
    "duration": 15,
    "start_time": "2024-09-10T15:50:47.632Z"
   },
   {
    "duration": 21,
    "start_time": "2024-09-10T15:52:15.009Z"
   },
   {
    "duration": 11,
    "start_time": "2024-09-10T15:54:55.097Z"
   },
   {
    "duration": 17,
    "start_time": "2024-09-10T15:55:25.518Z"
   },
   {
    "duration": 18,
    "start_time": "2024-09-10T15:55:39.201Z"
   },
   {
    "duration": 229,
    "start_time": "2024-09-10T15:57:28.191Z"
   },
   {
    "duration": 106,
    "start_time": "2024-09-10T15:59:05.842Z"
   },
   {
    "duration": 689,
    "start_time": "2024-09-10T16:04:42.408Z"
   },
   {
    "duration": 41,
    "start_time": "2024-09-10T16:06:38.278Z"
   },
   {
    "duration": 147,
    "start_time": "2024-09-10T16:07:14.742Z"
   },
   {
    "duration": 168,
    "start_time": "2024-09-10T16:09:07.381Z"
   },
   {
    "duration": 158,
    "start_time": "2024-09-10T16:09:13.095Z"
   },
   {
    "duration": 156,
    "start_time": "2024-09-10T16:10:08.014Z"
   },
   {
    "duration": 2093,
    "start_time": "2024-09-10T18:47:34.482Z"
   },
   {
    "duration": 332,
    "start_time": "2024-09-10T18:47:36.577Z"
   },
   {
    "duration": 8,
    "start_time": "2024-09-10T18:47:36.910Z"
   },
   {
    "duration": 7,
    "start_time": "2024-09-10T18:47:36.920Z"
   },
   {
    "duration": 4,
    "start_time": "2024-09-10T18:47:36.928Z"
   },
   {
    "duration": 3,
    "start_time": "2024-09-10T18:47:36.933Z"
   },
   {
    "duration": 3,
    "start_time": "2024-09-10T18:47:36.938Z"
   },
   {
    "duration": 7,
    "start_time": "2024-09-10T18:47:36.943Z"
   },
   {
    "duration": 9,
    "start_time": "2024-09-10T18:47:36.986Z"
   },
   {
    "duration": 9,
    "start_time": "2024-09-10T18:47:36.999Z"
   },
   {
    "duration": 10,
    "start_time": "2024-09-10T18:47:37.009Z"
   },
   {
    "duration": 6,
    "start_time": "2024-09-10T18:47:37.021Z"
   },
   {
    "duration": 5,
    "start_time": "2024-09-10T18:47:37.028Z"
   },
   {
    "duration": 10,
    "start_time": "2024-09-10T18:47:37.035Z"
   },
   {
    "duration": 44,
    "start_time": "2024-09-10T18:47:37.046Z"
   },
   {
    "duration": 15,
    "start_time": "2024-09-10T18:47:37.091Z"
   },
   {
    "duration": 9,
    "start_time": "2024-09-10T18:47:37.108Z"
   },
   {
    "duration": 12,
    "start_time": "2024-09-10T18:47:37.118Z"
   },
   {
    "duration": 58,
    "start_time": "2024-09-10T18:47:37.131Z"
   },
   {
    "duration": 41,
    "start_time": "2024-09-10T18:47:37.190Z"
   },
   {
    "duration": 3,
    "start_time": "2024-09-10T18:47:37.233Z"
   },
   {
    "duration": 4,
    "start_time": "2024-09-10T18:47:37.237Z"
   },
   {
    "duration": 58,
    "start_time": "2024-09-10T18:47:37.242Z"
   },
   {
    "duration": 12,
    "start_time": "2024-09-10T18:47:37.301Z"
   },
   {
    "duration": 8,
    "start_time": "2024-09-10T18:47:37.314Z"
   },
   {
    "duration": 8,
    "start_time": "2024-09-10T18:47:37.323Z"
   },
   {
    "duration": 16,
    "start_time": "2024-09-10T18:47:37.332Z"
   },
   {
    "duration": 45,
    "start_time": "2024-09-10T18:47:37.353Z"
   },
   {
    "duration": 13,
    "start_time": "2024-09-10T18:47:37.400Z"
   },
   {
    "duration": 8,
    "start_time": "2024-09-10T18:47:37.414Z"
   },
   {
    "duration": 10,
    "start_time": "2024-09-10T18:47:37.423Z"
   },
   {
    "duration": 59,
    "start_time": "2024-09-10T18:47:37.435Z"
   },
   {
    "duration": 26,
    "start_time": "2024-09-10T18:47:37.496Z"
   },
   {
    "duration": 6,
    "start_time": "2024-09-10T18:47:37.524Z"
   },
   {
    "duration": 22,
    "start_time": "2024-09-10T18:47:37.532Z"
   },
   {
    "duration": 40,
    "start_time": "2024-09-10T18:47:37.555Z"
   },
   {
    "duration": 16,
    "start_time": "2024-09-10T18:47:37.597Z"
   },
   {
    "duration": 14,
    "start_time": "2024-09-10T18:47:37.614Z"
   },
   {
    "duration": 15,
    "start_time": "2024-09-10T18:47:37.629Z"
   },
   {
    "duration": 48,
    "start_time": "2024-09-10T18:47:37.646Z"
   },
   {
    "duration": 22,
    "start_time": "2024-09-10T18:47:37.696Z"
   },
   {
    "duration": 32,
    "start_time": "2024-09-10T18:47:37.720Z"
   },
   {
    "duration": 342,
    "start_time": "2024-09-10T18:47:37.754Z"
   },
   {
    "duration": 176,
    "start_time": "2024-09-10T18:47:38.098Z"
   },
   {
    "duration": 21,
    "start_time": "2024-09-10T18:47:38.276Z"
   },
   {
    "duration": 164,
    "start_time": "2024-09-10T18:47:38.299Z"
   },
   {
    "duration": 2,
    "start_time": "2024-09-10T18:47:38.464Z"
   },
   {
    "duration": 2,
    "start_time": "2024-09-10T18:47:38.468Z"
   },
   {
    "duration": 2,
    "start_time": "2024-09-10T18:47:38.472Z"
   },
   {
    "duration": 2,
    "start_time": "2024-09-10T18:47:38.487Z"
   },
   {
    "duration": 194,
    "start_time": "2024-09-10T18:47:38.491Z"
   },
   {
    "duration": 0,
    "start_time": "2024-09-10T18:47:38.686Z"
   },
   {
    "duration": 0,
    "start_time": "2024-09-10T18:47:38.688Z"
   },
   {
    "duration": 5,
    "start_time": "2024-09-10T18:49:12.453Z"
   },
   {
    "duration": 7,
    "start_time": "2024-09-10T18:49:30.881Z"
   },
   {
    "duration": 12,
    "start_time": "2024-09-10T18:49:51.558Z"
   },
   {
    "duration": 11,
    "start_time": "2024-09-10T18:50:32.645Z"
   },
   {
    "duration": 9,
    "start_time": "2024-09-10T18:56:20.900Z"
   },
   {
    "duration": 2319,
    "start_time": "2024-09-10T21:25:44.714Z"
   },
   {
    "duration": 359,
    "start_time": "2024-09-10T21:25:47.035Z"
   },
   {
    "duration": 9,
    "start_time": "2024-09-10T21:25:47.396Z"
   },
   {
    "duration": 8,
    "start_time": "2024-09-10T21:25:47.407Z"
   },
   {
    "duration": 28,
    "start_time": "2024-09-10T21:25:47.418Z"
   },
   {
    "duration": 4,
    "start_time": "2024-09-10T21:25:47.448Z"
   },
   {
    "duration": 4,
    "start_time": "2024-09-10T21:25:47.454Z"
   },
   {
    "duration": 9,
    "start_time": "2024-09-10T21:25:47.460Z"
   },
   {
    "duration": 8,
    "start_time": "2024-09-10T21:25:47.472Z"
   },
   {
    "duration": 10,
    "start_time": "2024-09-10T21:25:47.483Z"
   },
   {
    "duration": 51,
    "start_time": "2024-09-10T21:25:47.496Z"
   },
   {
    "duration": 5,
    "start_time": "2024-09-10T21:25:47.549Z"
   },
   {
    "duration": 6,
    "start_time": "2024-09-10T21:25:47.556Z"
   },
   {
    "duration": 12,
    "start_time": "2024-09-10T21:25:47.566Z"
   },
   {
    "duration": 9,
    "start_time": "2024-09-10T21:25:47.580Z"
   },
   {
    "duration": 58,
    "start_time": "2024-09-10T21:25:47.590Z"
   },
   {
    "duration": 13,
    "start_time": "2024-09-10T21:25:47.650Z"
   },
   {
    "duration": 12,
    "start_time": "2024-09-10T21:25:47.665Z"
   },
   {
    "duration": 36,
    "start_time": "2024-09-10T21:25:47.679Z"
   },
   {
    "duration": 67,
    "start_time": "2024-09-10T21:25:47.717Z"
   },
   {
    "duration": 4,
    "start_time": "2024-09-10T21:25:47.786Z"
   },
   {
    "duration": 3,
    "start_time": "2024-09-10T21:25:47.792Z"
   },
   {
    "duration": 65,
    "start_time": "2024-09-10T21:25:47.798Z"
   },
   {
    "duration": 13,
    "start_time": "2024-09-10T21:25:47.864Z"
   },
   {
    "duration": 8,
    "start_time": "2024-09-10T21:25:47.879Z"
   },
   {
    "duration": 8,
    "start_time": "2024-09-10T21:25:47.889Z"
   },
   {
    "duration": 44,
    "start_time": "2024-09-10T21:25:47.899Z"
   },
   {
    "duration": 22,
    "start_time": "2024-09-10T21:25:47.944Z"
   },
   {
    "duration": 14,
    "start_time": "2024-09-10T21:25:47.969Z"
   },
   {
    "duration": 10,
    "start_time": "2024-09-10T21:25:47.985Z"
   },
   {
    "duration": 11,
    "start_time": "2024-09-10T21:25:47.997Z"
   },
   {
    "duration": 79,
    "start_time": "2024-09-10T21:25:48.009Z"
   },
   {
    "duration": 30,
    "start_time": "2024-09-10T21:25:48.090Z"
   },
   {
    "duration": 8,
    "start_time": "2024-09-10T21:25:48.142Z"
   },
   {
    "duration": 24,
    "start_time": "2024-09-10T21:25:48.152Z"
   },
   {
    "duration": 17,
    "start_time": "2024-09-10T21:25:48.178Z"
   },
   {
    "duration": 16,
    "start_time": "2024-09-10T21:25:48.197Z"
   },
   {
    "duration": 40,
    "start_time": "2024-09-10T21:25:48.215Z"
   },
   {
    "duration": 17,
    "start_time": "2024-09-10T21:25:48.257Z"
   },
   {
    "duration": 22,
    "start_time": "2024-09-10T21:25:48.276Z"
   },
   {
    "duration": 57,
    "start_time": "2024-09-10T21:25:48.303Z"
   },
   {
    "duration": 38,
    "start_time": "2024-09-10T21:25:48.361Z"
   },
   {
    "duration": 397,
    "start_time": "2024-09-10T21:25:48.401Z"
   },
   {
    "duration": 186,
    "start_time": "2024-09-10T21:25:48.800Z"
   },
   {
    "duration": 19,
    "start_time": "2024-09-10T21:25:48.988Z"
   },
   {
    "duration": 196,
    "start_time": "2024-09-10T21:25:49.009Z"
   },
   {
    "duration": 5,
    "start_time": "2024-09-10T21:25:49.207Z"
   },
   {
    "duration": 29,
    "start_time": "2024-09-10T21:25:49.214Z"
   },
   {
    "duration": 3,
    "start_time": "2024-09-10T21:25:49.245Z"
   },
   {
    "duration": 2,
    "start_time": "2024-09-10T21:25:49.250Z"
   },
   {
    "duration": 2,
    "start_time": "2024-09-10T21:25:49.255Z"
   },
   {
    "duration": 218,
    "start_time": "2024-09-10T21:25:49.259Z"
   },
   {
    "duration": 0,
    "start_time": "2024-09-10T21:25:49.479Z"
   },
   {
    "duration": 0,
    "start_time": "2024-09-10T21:25:49.480Z"
   },
   {
    "duration": 11,
    "start_time": "2024-09-10T21:30:19.173Z"
   },
   {
    "duration": 4,
    "start_time": "2024-09-10T21:32:05.758Z"
   },
   {
    "duration": 3,
    "start_time": "2024-09-10T21:34:02.093Z"
   },
   {
    "duration": 3,
    "start_time": "2024-09-10T21:34:15.044Z"
   },
   {
    "duration": 4,
    "start_time": "2024-09-10T21:35:39.093Z"
   },
   {
    "duration": 4,
    "start_time": "2024-09-10T21:37:10.025Z"
   },
   {
    "duration": 4,
    "start_time": "2024-09-10T21:38:25.424Z"
   },
   {
    "duration": 91,
    "start_time": "2024-09-10T21:49:45.384Z"
   },
   {
    "duration": 16,
    "start_time": "2024-09-10T22:01:33.408Z"
   },
   {
    "duration": 19,
    "start_time": "2024-09-10T22:02:07.532Z"
   },
   {
    "duration": 21,
    "start_time": "2024-09-10T22:02:34.837Z"
   },
   {
    "duration": 74,
    "start_time": "2024-09-10T22:02:43.991Z"
   },
   {
    "duration": 850,
    "start_time": "2024-09-10T22:03:37.902Z"
   },
   {
    "duration": 16,
    "start_time": "2024-09-10T22:07:42.132Z"
   },
   {
    "duration": 76,
    "start_time": "2024-09-10T22:07:49.695Z"
   },
   {
    "duration": 469,
    "start_time": "2024-09-10T22:07:57.656Z"
   },
   {
    "duration": 257,
    "start_time": "2024-09-10T22:07:58.130Z"
   },
   {
    "duration": 8,
    "start_time": "2024-09-10T22:07:58.389Z"
   },
   {
    "duration": 6,
    "start_time": "2024-09-10T22:07:58.401Z"
   },
   {
    "duration": 4,
    "start_time": "2024-09-10T22:07:58.409Z"
   },
   {
    "duration": 29,
    "start_time": "2024-09-10T22:07:58.415Z"
   },
   {
    "duration": 4,
    "start_time": "2024-09-10T22:07:58.445Z"
   },
   {
    "duration": 8,
    "start_time": "2024-09-10T22:07:58.450Z"
   },
   {
    "duration": 7,
    "start_time": "2024-09-10T22:07:58.460Z"
   },
   {
    "duration": 7,
    "start_time": "2024-09-10T22:07:58.469Z"
   },
   {
    "duration": 9,
    "start_time": "2024-09-10T22:07:58.477Z"
   },
   {
    "duration": 3,
    "start_time": "2024-09-10T22:07:58.488Z"
   },
   {
    "duration": 50,
    "start_time": "2024-09-10T22:07:58.495Z"
   },
   {
    "duration": 13,
    "start_time": "2024-09-10T22:07:58.549Z"
   },
   {
    "duration": 7,
    "start_time": "2024-09-10T22:07:58.565Z"
   },
   {
    "duration": 16,
    "start_time": "2024-09-10T22:07:58.574Z"
   },
   {
    "duration": 9,
    "start_time": "2024-09-10T22:07:58.592Z"
   },
   {
    "duration": 12,
    "start_time": "2024-09-10T22:07:58.602Z"
   },
   {
    "duration": 33,
    "start_time": "2024-09-10T22:07:58.644Z"
   },
   {
    "duration": 41,
    "start_time": "2024-09-10T22:07:58.679Z"
   },
   {
    "duration": 21,
    "start_time": "2024-09-10T22:07:58.722Z"
   },
   {
    "duration": 3,
    "start_time": "2024-09-10T22:07:58.745Z"
   },
   {
    "duration": 33,
    "start_time": "2024-09-10T22:07:58.750Z"
   },
   {
    "duration": 12,
    "start_time": "2024-09-10T22:07:58.785Z"
   },
   {
    "duration": 7,
    "start_time": "2024-09-10T22:07:58.799Z"
   },
   {
    "duration": 37,
    "start_time": "2024-09-10T22:07:58.808Z"
   },
   {
    "duration": 15,
    "start_time": "2024-09-10T22:07:58.847Z"
   },
   {
    "duration": 20,
    "start_time": "2024-09-10T22:07:58.864Z"
   },
   {
    "duration": 14,
    "start_time": "2024-09-10T22:07:58.886Z"
   },
   {
    "duration": 42,
    "start_time": "2024-09-10T22:07:58.901Z"
   },
   {
    "duration": 10,
    "start_time": "2024-09-10T22:07:58.944Z"
   },
   {
    "duration": 35,
    "start_time": "2024-09-10T22:07:58.956Z"
   },
   {
    "duration": 27,
    "start_time": "2024-09-10T22:07:58.993Z"
   },
   {
    "duration": 27,
    "start_time": "2024-09-10T22:07:59.022Z"
   },
   {
    "duration": 23,
    "start_time": "2024-09-10T22:07:59.051Z"
   },
   {
    "duration": 14,
    "start_time": "2024-09-10T22:07:59.076Z"
   },
   {
    "duration": 15,
    "start_time": "2024-09-10T22:07:59.092Z"
   },
   {
    "duration": 39,
    "start_time": "2024-09-10T22:07:59.109Z"
   },
   {
    "duration": 16,
    "start_time": "2024-09-10T22:07:59.149Z"
   },
   {
    "duration": 24,
    "start_time": "2024-09-10T22:07:59.170Z"
   },
   {
    "duration": 23,
    "start_time": "2024-09-10T22:07:59.196Z"
   },
   {
    "duration": 32,
    "start_time": "2024-09-10T22:07:59.243Z"
   },
   {
    "duration": 323,
    "start_time": "2024-09-10T22:07:59.277Z"
   },
   {
    "duration": 172,
    "start_time": "2024-09-10T22:07:59.602Z"
   },
   {
    "duration": 17,
    "start_time": "2024-09-10T22:07:59.777Z"
   },
   {
    "duration": 170,
    "start_time": "2024-09-10T22:07:59.796Z"
   },
   {
    "duration": 4,
    "start_time": "2024-09-10T22:07:59.968Z"
   },
   {
    "duration": 818,
    "start_time": "2024-09-10T22:07:59.974Z"
   },
   {
    "duration": 0,
    "start_time": "2024-09-10T22:08:00.794Z"
   },
   {
    "duration": 0,
    "start_time": "2024-09-10T22:08:00.795Z"
   },
   {
    "duration": 0,
    "start_time": "2024-09-10T22:08:00.797Z"
   },
   {
    "duration": 0,
    "start_time": "2024-09-10T22:08:00.798Z"
   },
   {
    "duration": 0,
    "start_time": "2024-09-10T22:08:00.799Z"
   },
   {
    "duration": 106,
    "start_time": "2024-09-10T22:11:18.438Z"
   },
   {
    "duration": 740,
    "start_time": "2024-09-10T22:11:53.693Z"
   },
   {
    "duration": 10,
    "start_time": "2024-09-10T22:18:01.280Z"
   },
   {
    "duration": 8,
    "start_time": "2024-09-10T22:21:57.102Z"
   },
   {
    "duration": 214,
    "start_time": "2024-09-10T22:23:35.200Z"
   },
   {
    "duration": 16,
    "start_time": "2024-09-10T22:30:25.251Z"
   },
   {
    "duration": 410,
    "start_time": "2024-09-10T22:30:45.015Z"
   },
   {
    "duration": 139,
    "start_time": "2024-09-10T22:33:32.572Z"
   },
   {
    "duration": 13,
    "start_time": "2024-09-10T22:34:09.002Z"
   },
   {
    "duration": 13,
    "start_time": "2024-09-10T22:34:46.443Z"
   },
   {
    "duration": 13,
    "start_time": "2024-09-10T22:36:33.515Z"
   },
   {
    "duration": 17,
    "start_time": "2024-09-10T22:39:35.605Z"
   },
   {
    "duration": 34,
    "start_time": "2024-09-10T22:40:00.241Z"
   },
   {
    "duration": 19,
    "start_time": "2024-09-10T22:42:04.686Z"
   },
   {
    "duration": 18,
    "start_time": "2024-09-10T22:48:24.381Z"
   },
   {
    "duration": 11,
    "start_time": "2024-09-10T22:52:55.893Z"
   },
   {
    "duration": 15,
    "start_time": "2024-09-10T22:56:27.456Z"
   },
   {
    "duration": 14,
    "start_time": "2024-09-10T22:56:38.673Z"
   },
   {
    "duration": 167,
    "start_time": "2024-09-10T22:56:41.188Z"
   },
   {
    "duration": 146,
    "start_time": "2024-09-10T22:56:47.574Z"
   },
   {
    "duration": 18,
    "start_time": "2024-09-10T22:57:59.484Z"
   },
   {
    "duration": 30,
    "start_time": "2024-09-10T23:03:56.481Z"
   },
   {
    "duration": 16,
    "start_time": "2024-09-10T23:06:19.220Z"
   },
   {
    "duration": 158,
    "start_time": "2024-09-10T23:07:17.278Z"
   },
   {
    "duration": 20,
    "start_time": "2024-09-10T23:15:21.422Z"
   },
   {
    "duration": 5,
    "start_time": "2024-09-10T23:16:53.437Z"
   },
   {
    "duration": 9,
    "start_time": "2024-09-10T23:17:13.010Z"
   },
   {
    "duration": 19,
    "start_time": "2024-09-10T23:22:10.798Z"
   },
   {
    "duration": 23,
    "start_time": "2024-09-10T23:23:26.652Z"
   },
   {
    "duration": 22,
    "start_time": "2024-09-10T23:24:01.137Z"
   },
   {
    "duration": 5,
    "start_time": "2024-09-10T23:31:12.168Z"
   },
   {
    "duration": 5,
    "start_time": "2024-09-10T23:31:17.907Z"
   },
   {
    "duration": 8,
    "start_time": "2024-09-10T23:31:34.390Z"
   },
   {
    "duration": 23,
    "start_time": "2024-09-10T23:33:57.548Z"
   },
   {
    "duration": 151,
    "start_time": "2024-09-10T23:34:09.579Z"
   },
   {
    "duration": 101,
    "start_time": "2024-09-10T23:34:17.998Z"
   },
   {
    "duration": 9,
    "start_time": "2024-09-10T23:36:13.958Z"
   },
   {
    "duration": 116,
    "start_time": "2024-09-10T23:40:22.413Z"
   },
   {
    "duration": 35,
    "start_time": "2024-09-10T23:41:20.247Z"
   },
   {
    "duration": 450,
    "start_time": "2024-09-10T23:44:35.740Z"
   },
   {
    "duration": 434,
    "start_time": "2024-09-10T23:44:57.293Z"
   },
   {
    "duration": 260,
    "start_time": "2024-09-10T23:44:57.729Z"
   },
   {
    "duration": 8,
    "start_time": "2024-09-10T23:44:57.991Z"
   },
   {
    "duration": 7,
    "start_time": "2024-09-10T23:44:58.001Z"
   },
   {
    "duration": 37,
    "start_time": "2024-09-10T23:44:58.009Z"
   },
   {
    "duration": 4,
    "start_time": "2024-09-10T23:44:58.047Z"
   },
   {
    "duration": 4,
    "start_time": "2024-09-10T23:44:58.053Z"
   },
   {
    "duration": 9,
    "start_time": "2024-09-10T23:44:58.059Z"
   },
   {
    "duration": 7,
    "start_time": "2024-09-10T23:44:58.069Z"
   },
   {
    "duration": 8,
    "start_time": "2024-09-10T23:44:58.080Z"
   },
   {
    "duration": 62,
    "start_time": "2024-09-10T23:44:58.090Z"
   },
   {
    "duration": 4,
    "start_time": "2024-09-10T23:44:58.154Z"
   },
   {
    "duration": 4,
    "start_time": "2024-09-10T23:44:58.160Z"
   },
   {
    "duration": 11,
    "start_time": "2024-09-10T23:44:58.166Z"
   },
   {
    "duration": 6,
    "start_time": "2024-09-10T23:44:58.179Z"
   },
   {
    "duration": 16,
    "start_time": "2024-09-10T23:44:58.187Z"
   },
   {
    "duration": 13,
    "start_time": "2024-09-10T23:44:58.244Z"
   },
   {
    "duration": 15,
    "start_time": "2024-09-10T23:44:58.259Z"
   },
   {
    "duration": 33,
    "start_time": "2024-09-10T23:44:58.276Z"
   },
   {
    "duration": 73,
    "start_time": "2024-09-10T23:44:58.311Z"
   },
   {
    "duration": 5,
    "start_time": "2024-09-10T23:44:58.385Z"
   },
   {
    "duration": 4,
    "start_time": "2024-09-10T23:44:58.391Z"
   },
   {
    "duration": 64,
    "start_time": "2024-09-10T23:44:58.397Z"
   },
   {
    "duration": 13,
    "start_time": "2024-09-10T23:44:58.463Z"
   },
   {
    "duration": 9,
    "start_time": "2024-09-10T23:44:58.478Z"
   },
   {
    "duration": 8,
    "start_time": "2024-09-10T23:44:58.488Z"
   },
   {
    "duration": 49,
    "start_time": "2024-09-10T23:44:58.498Z"
   },
   {
    "duration": 21,
    "start_time": "2024-09-10T23:44:58.551Z"
   },
   {
    "duration": 17,
    "start_time": "2024-09-10T23:44:58.573Z"
   },
   {
    "duration": 9,
    "start_time": "2024-09-10T23:44:58.591Z"
   },
   {
    "duration": 10,
    "start_time": "2024-09-10T23:44:58.601Z"
   },
   {
    "duration": 42,
    "start_time": "2024-09-10T23:44:58.642Z"
   },
   {
    "duration": 30,
    "start_time": "2024-09-10T23:44:58.686Z"
   },
   {
    "duration": 26,
    "start_time": "2024-09-10T23:44:58.718Z"
   },
   {
    "duration": 32,
    "start_time": "2024-09-10T23:44:58.746Z"
   },
   {
    "duration": 22,
    "start_time": "2024-09-10T23:44:58.781Z"
   },
   {
    "duration": 53,
    "start_time": "2024-09-10T23:44:58.806Z"
   },
   {
    "duration": 17,
    "start_time": "2024-09-10T23:44:58.861Z"
   },
   {
    "duration": 21,
    "start_time": "2024-09-10T23:44:58.880Z"
   },
   {
    "duration": 53,
    "start_time": "2024-09-10T23:44:58.903Z"
   },
   {
    "duration": 26,
    "start_time": "2024-09-10T23:44:58.959Z"
   },
   {
    "duration": 60,
    "start_time": "2024-09-10T23:44:58.988Z"
   },
   {
    "duration": 352,
    "start_time": "2024-09-10T23:44:59.050Z"
   },
   {
    "duration": 174,
    "start_time": "2024-09-10T23:44:59.404Z"
   },
   {
    "duration": 17,
    "start_time": "2024-09-10T23:44:59.580Z"
   },
   {
    "duration": 174,
    "start_time": "2024-09-10T23:44:59.599Z"
   },
   {
    "duration": 5,
    "start_time": "2024-09-10T23:44:59.775Z"
   },
   {
    "duration": 8,
    "start_time": "2024-09-10T23:44:59.781Z"
   },
   {
    "duration": 9,
    "start_time": "2024-09-10T23:44:59.791Z"
   },
   {
    "duration": 688,
    "start_time": "2024-09-10T23:44:59.802Z"
   },
   {
    "duration": 22,
    "start_time": "2024-09-10T23:45:00.492Z"
   },
   {
    "duration": 174,
    "start_time": "2024-09-10T23:45:00.517Z"
   },
   {
    "duration": 19,
    "start_time": "2024-09-10T23:45:00.693Z"
   },
   {
    "duration": 185,
    "start_time": "2024-09-10T23:45:00.713Z"
   },
   {
    "duration": 16,
    "start_time": "2024-09-10T23:45:00.900Z"
   },
   {
    "duration": 25,
    "start_time": "2024-09-10T23:45:00.918Z"
   },
   {
    "duration": 118,
    "start_time": "2024-09-10T23:45:00.945Z"
   },
   {
    "duration": 9,
    "start_time": "2024-09-10T23:45:01.065Z"
   },
   {
    "duration": 132,
    "start_time": "2024-09-10T23:45:01.076Z"
   },
   {
    "duration": 789,
    "start_time": "2024-09-10T23:45:01.209Z"
   },
   {
    "duration": 0,
    "start_time": "2024-09-10T23:45:02.000Z"
   },
   {
    "duration": 0,
    "start_time": "2024-09-10T23:45:02.001Z"
   },
   {
    "duration": 53,
    "start_time": "2024-09-10T23:46:37.957Z"
   },
   {
    "duration": 11,
    "start_time": "2024-09-10T23:48:07.257Z"
   },
   {
    "duration": 21,
    "start_time": "2024-09-10T23:50:36.850Z"
   },
   {
    "duration": 183,
    "start_time": "2024-09-10T23:52:14.215Z"
   },
   {
    "duration": 16,
    "start_time": "2024-09-10T23:53:50.680Z"
   },
   {
    "duration": 194,
    "start_time": "2024-09-10T23:53:56.277Z"
   },
   {
    "duration": 6,
    "start_time": "2024-09-11T00:10:09.984Z"
   },
   {
    "duration": 17,
    "start_time": "2024-09-11T00:10:35.907Z"
   },
   {
    "duration": 7,
    "start_time": "2024-09-11T00:12:42.371Z"
   },
   {
    "duration": 2112,
    "start_time": "2024-09-11T01:14:38.615Z"
   },
   {
    "duration": 341,
    "start_time": "2024-09-11T01:14:40.730Z"
   },
   {
    "duration": 9,
    "start_time": "2024-09-11T01:14:41.072Z"
   },
   {
    "duration": 26,
    "start_time": "2024-09-11T01:14:41.083Z"
   },
   {
    "duration": 4,
    "start_time": "2024-09-11T01:14:41.110Z"
   },
   {
    "duration": 4,
    "start_time": "2024-09-11T01:14:41.116Z"
   },
   {
    "duration": 5,
    "start_time": "2024-09-11T01:14:41.122Z"
   },
   {
    "duration": 7,
    "start_time": "2024-09-11T01:14:41.129Z"
   },
   {
    "duration": 8,
    "start_time": "2024-09-11T01:14:41.138Z"
   },
   {
    "duration": 8,
    "start_time": "2024-09-11T01:14:41.149Z"
   },
   {
    "duration": 49,
    "start_time": "2024-09-11T01:14:41.159Z"
   },
   {
    "duration": 4,
    "start_time": "2024-09-11T01:14:41.210Z"
   },
   {
    "duration": 5,
    "start_time": "2024-09-11T01:14:41.215Z"
   },
   {
    "duration": 13,
    "start_time": "2024-09-11T01:14:41.222Z"
   },
   {
    "duration": 7,
    "start_time": "2024-09-11T01:14:41.236Z"
   },
   {
    "duration": 15,
    "start_time": "2024-09-11T01:14:41.245Z"
   },
   {
    "duration": 45,
    "start_time": "2024-09-11T01:14:41.261Z"
   },
   {
    "duration": 11,
    "start_time": "2024-09-11T01:14:41.308Z"
   },
   {
    "duration": 29,
    "start_time": "2024-09-11T01:14:41.321Z"
   },
   {
    "duration": 58,
    "start_time": "2024-09-11T01:14:41.351Z"
   },
   {
    "duration": 4,
    "start_time": "2024-09-11T01:14:41.411Z"
   },
   {
    "duration": 4,
    "start_time": "2024-09-11T01:14:41.416Z"
   },
   {
    "duration": 33,
    "start_time": "2024-09-11T01:14:41.422Z"
   },
   {
    "duration": 11,
    "start_time": "2024-09-11T01:14:41.456Z"
   },
   {
    "duration": 37,
    "start_time": "2024-09-11T01:14:41.469Z"
   },
   {
    "duration": 8,
    "start_time": "2024-09-11T01:14:41.507Z"
   },
   {
    "duration": 14,
    "start_time": "2024-09-11T01:14:41.519Z"
   },
   {
    "duration": 20,
    "start_time": "2024-09-11T01:14:41.537Z"
   },
   {
    "duration": 13,
    "start_time": "2024-09-11T01:14:41.559Z"
   },
   {
    "duration": 37,
    "start_time": "2024-09-11T01:14:41.573Z"
   },
   {
    "duration": 11,
    "start_time": "2024-09-11T01:14:41.611Z"
   },
   {
    "duration": 34,
    "start_time": "2024-09-11T01:14:41.624Z"
   },
   {
    "duration": 48,
    "start_time": "2024-09-11T01:14:41.659Z"
   },
   {
    "duration": 7,
    "start_time": "2024-09-11T01:14:41.709Z"
   },
   {
    "duration": 23,
    "start_time": "2024-09-11T01:14:41.717Z"
   },
   {
    "duration": 15,
    "start_time": "2024-09-11T01:14:41.741Z"
   },
   {
    "duration": 15,
    "start_time": "2024-09-11T01:14:41.758Z"
   },
   {
    "duration": 38,
    "start_time": "2024-09-11T01:14:41.774Z"
   },
   {
    "duration": 18,
    "start_time": "2024-09-11T01:14:41.814Z"
   },
   {
    "duration": 20,
    "start_time": "2024-09-11T01:14:41.834Z"
   },
   {
    "duration": 53,
    "start_time": "2024-09-11T01:14:41.856Z"
   },
   {
    "duration": 29,
    "start_time": "2024-09-11T01:14:41.910Z"
   },
   {
    "duration": 330,
    "start_time": "2024-09-11T01:14:41.940Z"
   },
   {
    "duration": 181,
    "start_time": "2024-09-11T01:14:42.271Z"
   },
   {
    "duration": 18,
    "start_time": "2024-09-11T01:14:42.453Z"
   },
   {
    "duration": 167,
    "start_time": "2024-09-11T01:14:42.472Z"
   },
   {
    "duration": 4,
    "start_time": "2024-09-11T01:14:42.641Z"
   },
   {
    "duration": 7,
    "start_time": "2024-09-11T01:14:42.647Z"
   },
   {
    "duration": 10,
    "start_time": "2024-09-11T01:14:42.656Z"
   },
   {
    "duration": 669,
    "start_time": "2024-09-11T01:14:42.667Z"
   },
   {
    "duration": 16,
    "start_time": "2024-09-11T01:14:43.338Z"
   },
   {
    "duration": 159,
    "start_time": "2024-09-11T01:14:43.355Z"
   },
   {
    "duration": 19,
    "start_time": "2024-09-11T01:14:43.516Z"
   },
   {
    "duration": 175,
    "start_time": "2024-09-11T01:14:43.536Z"
   },
   {
    "duration": 16,
    "start_time": "2024-09-11T01:14:43.713Z"
   },
   {
    "duration": 7,
    "start_time": "2024-09-11T01:14:43.730Z"
   },
   {
    "duration": 121,
    "start_time": "2024-09-11T01:14:43.739Z"
   },
   {
    "duration": 7,
    "start_time": "2024-09-11T01:14:43.862Z"
   },
   {
    "duration": 116,
    "start_time": "2024-09-11T01:14:43.872Z"
   },
   {
    "duration": 25,
    "start_time": "2024-09-11T01:14:43.990Z"
   },
   {
    "duration": 161,
    "start_time": "2024-09-11T01:14:44.016Z"
   },
   {
    "duration": 16,
    "start_time": "2024-09-11T01:14:44.179Z"
   },
   {
    "duration": 14,
    "start_time": "2024-09-11T01:14:44.196Z"
   },
   {
    "duration": 2,
    "start_time": "2024-09-11T01:14:44.211Z"
   },
   {
    "duration": 10,
    "start_time": "2024-09-11T01:15:56.121Z"
   },
   {
    "duration": 9,
    "start_time": "2024-09-11T01:16:18.462Z"
   },
   {
    "duration": 7,
    "start_time": "2024-09-11T01:16:42.211Z"
   },
   {
    "duration": 4,
    "start_time": "2024-09-11T01:21:22.501Z"
   },
   {
    "duration": 6,
    "start_time": "2024-09-11T01:21:52.626Z"
   },
   {
    "duration": 8,
    "start_time": "2024-09-11T01:21:56.815Z"
   },
   {
    "duration": 10,
    "start_time": "2024-09-11T01:21:59.503Z"
   },
   {
    "duration": 5,
    "start_time": "2024-09-11T01:22:04.449Z"
   },
   {
    "duration": 223,
    "start_time": "2024-09-11T01:26:11.817Z"
   },
   {
    "duration": 6,
    "start_time": "2024-09-11T01:26:37.888Z"
   },
   {
    "duration": 9,
    "start_time": "2024-09-11T01:27:41.683Z"
   },
   {
    "duration": 21,
    "start_time": "2024-09-11T01:28:31.401Z"
   },
   {
    "duration": 7,
    "start_time": "2024-09-11T01:29:33.396Z"
   },
   {
    "duration": 8,
    "start_time": "2024-09-11T01:29:46.072Z"
   },
   {
    "duration": 8,
    "start_time": "2024-09-11T01:30:02.511Z"
   },
   {
    "duration": 7,
    "start_time": "2024-09-11T01:30:50.758Z"
   },
   {
    "duration": 7,
    "start_time": "2024-09-11T01:30:57.963Z"
   },
   {
    "duration": 7,
    "start_time": "2024-09-11T01:33:23.531Z"
   },
   {
    "duration": 8,
    "start_time": "2024-09-11T01:33:43.506Z"
   },
   {
    "duration": 8,
    "start_time": "2024-09-11T01:34:45.668Z"
   },
   {
    "duration": 7,
    "start_time": "2024-09-11T01:35:06.230Z"
   },
   {
    "duration": 391,
    "start_time": "2024-09-11T01:36:38.637Z"
   },
   {
    "duration": 367,
    "start_time": "2024-09-11T01:37:58.094Z"
   },
   {
    "duration": 5,
    "start_time": "2024-09-11T01:38:19.083Z"
   },
   {
    "duration": 8,
    "start_time": "2024-09-11T01:38:23.286Z"
   },
   {
    "duration": 45,
    "start_time": "2024-09-11T01:38:55.260Z"
   },
   {
    "duration": 423,
    "start_time": "2024-09-11T01:39:19.958Z"
   },
   {
    "duration": 256,
    "start_time": "2024-09-11T01:39:20.383Z"
   },
   {
    "duration": 8,
    "start_time": "2024-09-11T01:39:20.641Z"
   },
   {
    "duration": 9,
    "start_time": "2024-09-11T01:39:20.652Z"
   },
   {
    "duration": 5,
    "start_time": "2024-09-11T01:39:20.663Z"
   },
   {
    "duration": 36,
    "start_time": "2024-09-11T01:39:20.669Z"
   },
   {
    "duration": 5,
    "start_time": "2024-09-11T01:39:20.707Z"
   },
   {
    "duration": 11,
    "start_time": "2024-09-11T01:39:20.715Z"
   },
   {
    "duration": 9,
    "start_time": "2024-09-11T01:39:20.729Z"
   },
   {
    "duration": 10,
    "start_time": "2024-09-11T01:39:20.742Z"
   },
   {
    "duration": 11,
    "start_time": "2024-09-11T01:39:20.753Z"
   },
   {
    "duration": 40,
    "start_time": "2024-09-11T01:39:20.765Z"
   },
   {
    "duration": 5,
    "start_time": "2024-09-11T01:39:20.806Z"
   },
   {
    "duration": 12,
    "start_time": "2024-09-11T01:39:20.812Z"
   },
   {
    "duration": 8,
    "start_time": "2024-09-11T01:39:20.825Z"
   },
   {
    "duration": 14,
    "start_time": "2024-09-11T01:39:20.835Z"
   },
   {
    "duration": 9,
    "start_time": "2024-09-11T01:39:20.851Z"
   },
   {
    "duration": 44,
    "start_time": "2024-09-11T01:39:20.861Z"
   },
   {
    "duration": 31,
    "start_time": "2024-09-11T01:39:20.907Z"
   },
   {
    "duration": 44,
    "start_time": "2024-09-11T01:39:20.940Z"
   },
   {
    "duration": 20,
    "start_time": "2024-09-11T01:39:20.986Z"
   },
   {
    "duration": 4,
    "start_time": "2024-09-11T01:39:21.008Z"
   },
   {
    "duration": 33,
    "start_time": "2024-09-11T01:39:21.014Z"
   },
   {
    "duration": 11,
    "start_time": "2024-09-11T01:39:21.049Z"
   },
   {
    "duration": 8,
    "start_time": "2024-09-11T01:39:21.062Z"
   },
   {
    "duration": 40,
    "start_time": "2024-09-11T01:39:21.071Z"
   },
   {
    "duration": 15,
    "start_time": "2024-09-11T01:39:21.113Z"
   },
   {
    "duration": 20,
    "start_time": "2024-09-11T01:39:21.133Z"
   },
   {
    "duration": 13,
    "start_time": "2024-09-11T01:39:21.155Z"
   },
   {
    "duration": 38,
    "start_time": "2024-09-11T01:39:21.170Z"
   },
   {
    "duration": 10,
    "start_time": "2024-09-11T01:39:21.209Z"
   },
   {
    "duration": 33,
    "start_time": "2024-09-11T01:39:21.221Z"
   },
   {
    "duration": 27,
    "start_time": "2024-09-11T01:39:21.255Z"
   },
   {
    "duration": 27,
    "start_time": "2024-09-11T01:39:21.283Z"
   },
   {
    "duration": 22,
    "start_time": "2024-09-11T01:39:21.312Z"
   },
   {
    "duration": 14,
    "start_time": "2024-09-11T01:39:21.337Z"
   },
   {
    "duration": 16,
    "start_time": "2024-09-11T01:39:21.353Z"
   },
   {
    "duration": 39,
    "start_time": "2024-09-11T01:39:21.370Z"
   },
   {
    "duration": 20,
    "start_time": "2024-09-11T01:39:21.410Z"
   },
   {
    "duration": 21,
    "start_time": "2024-09-11T01:39:21.431Z"
   },
   {
    "duration": 23,
    "start_time": "2024-09-11T01:39:21.454Z"
   },
   {
    "duration": 30,
    "start_time": "2024-09-11T01:39:21.504Z"
   },
   {
    "duration": 314,
    "start_time": "2024-09-11T01:39:21.535Z"
   },
   {
    "duration": 169,
    "start_time": "2024-09-11T01:39:21.851Z"
   },
   {
    "duration": 17,
    "start_time": "2024-09-11T01:39:22.022Z"
   },
   {
    "duration": 168,
    "start_time": "2024-09-11T01:39:22.040Z"
   },
   {
    "duration": 4,
    "start_time": "2024-09-11T01:39:22.210Z"
   },
   {
    "duration": 8,
    "start_time": "2024-09-11T01:39:22.216Z"
   },
   {
    "duration": 9,
    "start_time": "2024-09-11T01:39:22.225Z"
   },
   {
    "duration": 645,
    "start_time": "2024-09-11T01:39:22.236Z"
   },
   {
    "duration": 27,
    "start_time": "2024-09-11T01:39:22.883Z"
   },
   {
    "duration": 158,
    "start_time": "2024-09-11T01:39:22.914Z"
   },
   {
    "duration": 19,
    "start_time": "2024-09-11T01:39:23.074Z"
   },
   {
    "duration": 166,
    "start_time": "2024-09-11T01:39:23.105Z"
   },
   {
    "duration": 15,
    "start_time": "2024-09-11T01:39:23.273Z"
   },
   {
    "duration": 19,
    "start_time": "2024-09-11T01:39:23.290Z"
   },
   {
    "duration": 116,
    "start_time": "2024-09-11T01:39:23.310Z"
   },
   {
    "duration": 8,
    "start_time": "2024-09-11T01:39:23.428Z"
   },
   {
    "duration": 122,
    "start_time": "2024-09-11T01:39:23.437Z"
   },
   {
    "duration": 15,
    "start_time": "2024-09-11T01:39:23.561Z"
   },
   {
    "duration": 164,
    "start_time": "2024-09-11T01:39:23.578Z"
   },
   {
    "duration": 16,
    "start_time": "2024-09-11T01:39:23.745Z"
   },
   {
    "duration": 578,
    "start_time": "2024-09-11T01:39:23.762Z"
   },
   {
    "duration": 0,
    "start_time": "2024-09-11T01:39:24.342Z"
   },
   {
    "duration": 9,
    "start_time": "2024-09-11T01:39:38.596Z"
   },
   {
    "duration": 24,
    "start_time": "2024-09-11T01:44:41.158Z"
   },
   {
    "duration": 26,
    "start_time": "2024-09-11T02:04:58.072Z"
   },
   {
    "duration": 59,
    "start_time": "2024-09-11T02:10:03.304Z"
   },
   {
    "duration": 7,
    "start_time": "2024-09-11T02:15:30.440Z"
   },
   {
    "duration": 39,
    "start_time": "2024-09-11T02:15:43.844Z"
   },
   {
    "duration": 37,
    "start_time": "2024-09-11T02:16:10.873Z"
   },
   {
    "duration": 36,
    "start_time": "2024-09-11T02:18:26.390Z"
   },
   {
    "duration": 16,
    "start_time": "2024-09-11T02:19:02.453Z"
   },
   {
    "duration": 18,
    "start_time": "2024-09-11T02:19:15.335Z"
   },
   {
    "duration": 4,
    "start_time": "2024-09-11T02:21:30.025Z"
   },
   {
    "duration": 11,
    "start_time": "2024-09-11T02:21:42.099Z"
   },
   {
    "duration": 4,
    "start_time": "2024-09-11T02:26:59.427Z"
   },
   {
    "duration": 19,
    "start_time": "2024-09-11T02:27:04.803Z"
   },
   {
    "duration": 21,
    "start_time": "2024-09-11T02:27:13.633Z"
   },
   {
    "duration": 10,
    "start_time": "2024-09-11T02:30:41.909Z"
   },
   {
    "duration": 11,
    "start_time": "2024-09-11T02:31:26.201Z"
   },
   {
    "duration": 12,
    "start_time": "2024-09-11T02:31:32.714Z"
   },
   {
    "duration": 11,
    "start_time": "2024-09-11T02:32:11.999Z"
   },
   {
    "duration": 12,
    "start_time": "2024-09-11T02:33:29.903Z"
   },
   {
    "duration": 16,
    "start_time": "2024-09-11T02:35:01.341Z"
   },
   {
    "duration": 2118,
    "start_time": "2024-09-11T12:07:56.107Z"
   },
   {
    "duration": 330,
    "start_time": "2024-09-11T12:07:58.227Z"
   },
   {
    "duration": 8,
    "start_time": "2024-09-11T12:07:58.558Z"
   },
   {
    "duration": 7,
    "start_time": "2024-09-11T12:07:58.569Z"
   },
   {
    "duration": 4,
    "start_time": "2024-09-11T12:07:58.577Z"
   },
   {
    "duration": 4,
    "start_time": "2024-09-11T12:07:58.583Z"
   },
   {
    "duration": 4,
    "start_time": "2024-09-11T12:07:58.589Z"
   },
   {
    "duration": 10,
    "start_time": "2024-09-11T12:07:58.623Z"
   },
   {
    "duration": 13,
    "start_time": "2024-09-11T12:07:58.635Z"
   },
   {
    "duration": 9,
    "start_time": "2024-09-11T12:07:58.651Z"
   },
   {
    "duration": 9,
    "start_time": "2024-09-11T12:07:58.661Z"
   },
   {
    "duration": 4,
    "start_time": "2024-09-11T12:07:58.672Z"
   },
   {
    "duration": 5,
    "start_time": "2024-09-11T12:07:58.677Z"
   },
   {
    "duration": 10,
    "start_time": "2024-09-11T12:07:58.724Z"
   },
   {
    "duration": 7,
    "start_time": "2024-09-11T12:07:58.736Z"
   },
   {
    "duration": 15,
    "start_time": "2024-09-11T12:07:58.744Z"
   },
   {
    "duration": 12,
    "start_time": "2024-09-11T12:07:58.761Z"
   },
   {
    "duration": 12,
    "start_time": "2024-09-11T12:07:58.774Z"
   },
   {
    "duration": 60,
    "start_time": "2024-09-11T12:07:58.788Z"
   },
   {
    "duration": 41,
    "start_time": "2024-09-11T12:07:58.849Z"
   },
   {
    "duration": 3,
    "start_time": "2024-09-11T12:07:58.892Z"
   },
   {
    "duration": 3,
    "start_time": "2024-09-11T12:07:58.897Z"
   },
   {
    "duration": 33,
    "start_time": "2024-09-11T12:07:58.924Z"
   },
   {
    "duration": 12,
    "start_time": "2024-09-11T12:07:58.959Z"
   },
   {
    "duration": 7,
    "start_time": "2024-09-11T12:07:58.972Z"
   },
   {
    "duration": 7,
    "start_time": "2024-09-11T12:07:58.981Z"
   },
   {
    "duration": 40,
    "start_time": "2024-09-11T12:07:58.990Z"
   },
   {
    "duration": 20,
    "start_time": "2024-09-11T12:07:59.035Z"
   },
   {
    "duration": 13,
    "start_time": "2024-09-11T12:07:59.057Z"
   },
   {
    "duration": 8,
    "start_time": "2024-09-11T12:07:59.071Z"
   },
   {
    "duration": 9,
    "start_time": "2024-09-11T12:07:59.080Z"
   },
   {
    "duration": 63,
    "start_time": "2024-09-11T12:07:59.091Z"
   },
   {
    "duration": 27,
    "start_time": "2024-09-11T12:07:59.156Z"
   },
   {
    "duration": 6,
    "start_time": "2024-09-11T12:07:59.184Z"
   },
   {
    "duration": 42,
    "start_time": "2024-09-11T12:07:59.192Z"
   },
   {
    "duration": 15,
    "start_time": "2024-09-11T12:07:59.235Z"
   },
   {
    "duration": 15,
    "start_time": "2024-09-11T12:07:59.252Z"
   },
   {
    "duration": 13,
    "start_time": "2024-09-11T12:07:59.269Z"
   },
   {
    "duration": 41,
    "start_time": "2024-09-11T12:07:59.283Z"
   },
   {
    "duration": 20,
    "start_time": "2024-09-11T12:07:59.325Z"
   },
   {
    "duration": 23,
    "start_time": "2024-09-11T12:07:59.346Z"
   },
   {
    "duration": 28,
    "start_time": "2024-09-11T12:07:59.371Z"
   },
   {
    "duration": 283,
    "start_time": "2024-09-11T12:07:59.424Z"
   },
   {
    "duration": 171,
    "start_time": "2024-09-11T12:07:59.709Z"
   },
   {
    "duration": 64,
    "start_time": "2024-09-11T12:07:59.882Z"
   },
   {
    "duration": 157,
    "start_time": "2024-09-11T12:07:59.948Z"
   },
   {
    "duration": 4,
    "start_time": "2024-09-11T12:08:00.106Z"
   },
   {
    "duration": 7,
    "start_time": "2024-09-11T12:08:00.124Z"
   },
   {
    "duration": 8,
    "start_time": "2024-09-11T12:08:00.133Z"
   },
   {
    "duration": 583,
    "start_time": "2024-09-11T12:08:00.143Z"
   },
   {
    "duration": 17,
    "start_time": "2024-09-11T12:08:00.727Z"
   },
   {
    "duration": 212,
    "start_time": "2024-09-11T12:08:00.746Z"
   },
   {
    "duration": 19,
    "start_time": "2024-09-11T12:08:00.960Z"
   },
   {
    "duration": 172,
    "start_time": "2024-09-11T12:08:00.981Z"
   },
   {
    "duration": 16,
    "start_time": "2024-09-11T12:08:01.155Z"
   },
   {
    "duration": 13,
    "start_time": "2024-09-11T12:08:01.173Z"
   },
   {
    "duration": 120,
    "start_time": "2024-09-11T12:08:01.188Z"
   },
   {
    "duration": 8,
    "start_time": "2024-09-11T12:08:01.309Z"
   },
   {
    "duration": 120,
    "start_time": "2024-09-11T12:08:01.324Z"
   },
   {
    "duration": 16,
    "start_time": "2024-09-11T12:08:01.446Z"
   },
   {
    "duration": 165,
    "start_time": "2024-09-11T12:08:01.464Z"
   },
   {
    "duration": 6,
    "start_time": "2024-09-11T12:08:01.631Z"
   },
   {
    "duration": 10,
    "start_time": "2024-09-11T12:08:01.639Z"
   },
   {
    "duration": 22,
    "start_time": "2024-09-11T12:24:46.646Z"
   },
   {
    "duration": 20,
    "start_time": "2024-09-11T12:24:52.994Z"
   },
   {
    "duration": 421,
    "start_time": "2024-09-11T12:25:00.894Z"
   },
   {
    "duration": 257,
    "start_time": "2024-09-11T12:25:01.317Z"
   },
   {
    "duration": 7,
    "start_time": "2024-09-11T12:25:01.576Z"
   },
   {
    "duration": 7,
    "start_time": "2024-09-11T12:25:01.586Z"
   },
   {
    "duration": 31,
    "start_time": "2024-09-11T12:25:01.594Z"
   },
   {
    "duration": 4,
    "start_time": "2024-09-11T12:25:01.627Z"
   },
   {
    "duration": 5,
    "start_time": "2024-09-11T12:25:01.632Z"
   },
   {
    "duration": 7,
    "start_time": "2024-09-11T12:25:01.639Z"
   },
   {
    "duration": 8,
    "start_time": "2024-09-11T12:25:01.647Z"
   },
   {
    "duration": 8,
    "start_time": "2024-09-11T12:25:01.658Z"
   },
   {
    "duration": 9,
    "start_time": "2024-09-11T12:25:01.667Z"
   },
   {
    "duration": 4,
    "start_time": "2024-09-11T12:25:01.678Z"
   },
   {
    "duration": 43,
    "start_time": "2024-09-11T12:25:01.683Z"
   },
   {
    "duration": 7,
    "start_time": "2024-09-11T12:25:01.728Z"
   },
   {
    "duration": 14,
    "start_time": "2024-09-11T12:25:01.737Z"
   },
   {
    "duration": 10,
    "start_time": "2024-09-11T12:25:01.752Z"
   },
   {
    "duration": 11,
    "start_time": "2024-09-11T12:25:01.763Z"
   },
   {
    "duration": 62,
    "start_time": "2024-09-11T12:25:01.776Z"
   },
   {
    "duration": 41,
    "start_time": "2024-09-11T12:25:01.840Z"
   },
   {
    "duration": 4,
    "start_time": "2024-09-11T12:25:01.882Z"
   },
   {
    "duration": 5,
    "start_time": "2024-09-11T12:25:01.887Z"
   },
   {
    "duration": 46,
    "start_time": "2024-09-11T12:25:01.894Z"
   },
   {
    "duration": 11,
    "start_time": "2024-09-11T12:25:01.942Z"
   },
   {
    "duration": 8,
    "start_time": "2024-09-11T12:25:01.955Z"
   },
   {
    "duration": 9,
    "start_time": "2024-09-11T12:25:01.964Z"
   },
   {
    "duration": 15,
    "start_time": "2024-09-11T12:25:01.975Z"
   },
   {
    "duration": 47,
    "start_time": "2024-09-11T12:25:01.992Z"
   },
   {
    "duration": 13,
    "start_time": "2024-09-11T12:25:02.044Z"
   },
   {
    "duration": 9,
    "start_time": "2024-09-11T12:25:02.059Z"
   },
   {
    "duration": 10,
    "start_time": "2024-09-11T12:25:02.069Z"
   },
   {
    "duration": 64,
    "start_time": "2024-09-11T12:25:02.080Z"
   },
   {
    "duration": 26,
    "start_time": "2024-09-11T12:25:02.145Z"
   },
   {
    "duration": 7,
    "start_time": "2024-09-11T12:25:02.172Z"
   },
   {
    "duration": 22,
    "start_time": "2024-09-11T12:25:02.181Z"
   },
   {
    "duration": 15,
    "start_time": "2024-09-11T12:25:02.225Z"
   },
   {
    "duration": 15,
    "start_time": "2024-09-11T12:25:02.241Z"
   },
   {
    "duration": 14,
    "start_time": "2024-09-11T12:25:02.258Z"
   },
   {
    "duration": 14,
    "start_time": "2024-09-11T12:25:02.274Z"
   },
   {
    "duration": 48,
    "start_time": "2024-09-11T12:25:02.290Z"
   },
   {
    "duration": 23,
    "start_time": "2024-09-11T12:25:02.340Z"
   },
   {
    "duration": 30,
    "start_time": "2024-09-11T12:25:02.364Z"
   },
   {
    "duration": 308,
    "start_time": "2024-09-11T12:25:02.395Z"
   },
   {
    "duration": 164,
    "start_time": "2024-09-11T12:25:02.705Z"
   },
   {
    "duration": 17,
    "start_time": "2024-09-11T12:25:02.871Z"
   },
   {
    "duration": 177,
    "start_time": "2024-09-11T12:25:02.889Z"
   },
   {
    "duration": 5,
    "start_time": "2024-09-11T12:25:03.067Z"
   },
   {
    "duration": 8,
    "start_time": "2024-09-11T12:25:03.074Z"
   },
   {
    "duration": 9,
    "start_time": "2024-09-11T12:25:03.083Z"
   },
   {
    "duration": 652,
    "start_time": "2024-09-11T12:25:03.094Z"
   },
   {
    "duration": 17,
    "start_time": "2024-09-11T12:25:03.748Z"
   },
   {
    "duration": 167,
    "start_time": "2024-09-11T12:25:03.766Z"
   },
   {
    "duration": 20,
    "start_time": "2024-09-11T12:25:03.934Z"
   },
   {
    "duration": 173,
    "start_time": "2024-09-11T12:25:03.956Z"
   },
   {
    "duration": 15,
    "start_time": "2024-09-11T12:25:04.131Z"
   },
   {
    "duration": 7,
    "start_time": "2024-09-11T12:25:04.148Z"
   },
   {
    "duration": 123,
    "start_time": "2024-09-11T12:25:04.158Z"
   },
   {
    "duration": 8,
    "start_time": "2024-09-11T12:25:04.283Z"
   },
   {
    "duration": 122,
    "start_time": "2024-09-11T12:25:04.292Z"
   },
   {
    "duration": 20,
    "start_time": "2024-09-11T12:25:04.416Z"
   },
   {
    "duration": 155,
    "start_time": "2024-09-11T12:25:04.438Z"
   },
   {
    "duration": 7,
    "start_time": "2024-09-11T12:25:04.594Z"
   },
   {
    "duration": 24,
    "start_time": "2024-09-11T12:25:04.602Z"
   },
   {
    "duration": 146,
    "start_time": "2024-09-11T12:34:14.355Z"
   },
   {
    "duration": 504,
    "start_time": "2024-09-11T12:35:18.846Z"
   },
   {
    "duration": 429,
    "start_time": "2024-09-11T12:42:29.575Z"
   },
   {
    "duration": 143,
    "start_time": "2024-09-11T12:43:53.733Z"
   },
   {
    "duration": 181,
    "start_time": "2024-09-11T12:44:11.755Z"
   },
   {
    "duration": 141,
    "start_time": "2024-09-11T12:44:18.820Z"
   },
   {
    "duration": 138,
    "start_time": "2024-09-11T12:44:43.333Z"
   },
   {
    "duration": 287,
    "start_time": "2024-09-11T12:47:36.865Z"
   },
   {
    "duration": 111,
    "start_time": "2024-09-11T12:47:55.907Z"
   },
   {
    "duration": 133,
    "start_time": "2024-09-11T12:48:41.679Z"
   },
   {
    "duration": 7,
    "start_time": "2024-09-11T12:49:21.542Z"
   },
   {
    "duration": 14,
    "start_time": "2024-09-11T12:49:27.114Z"
   },
   {
    "duration": 132,
    "start_time": "2024-09-11T12:50:19.031Z"
   },
   {
    "duration": 361,
    "start_time": "2024-09-11T12:50:58.498Z"
   },
   {
    "duration": 135,
    "start_time": "2024-09-11T12:51:09.341Z"
   },
   {
    "duration": 135,
    "start_time": "2024-09-11T12:51:38.219Z"
   },
   {
    "duration": 132,
    "start_time": "2024-09-11T12:52:00.908Z"
   },
   {
    "duration": 11,
    "start_time": "2024-09-11T13:36:23.736Z"
   },
   {
    "duration": 12,
    "start_time": "2024-09-11T13:36:30.640Z"
   },
   {
    "duration": 15,
    "start_time": "2024-09-11T13:42:43.609Z"
   },
   {
    "duration": 155,
    "start_time": "2024-09-11T13:42:49.735Z"
   },
   {
    "duration": 2200,
    "start_time": "2024-09-11T19:03:20.876Z"
   },
   {
    "duration": 348,
    "start_time": "2024-09-11T19:03:23.078Z"
   },
   {
    "duration": 17,
    "start_time": "2024-09-11T19:03:23.428Z"
   },
   {
    "duration": 7,
    "start_time": "2024-09-11T19:03:23.448Z"
   },
   {
    "duration": 5,
    "start_time": "2024-09-11T19:03:23.456Z"
   },
   {
    "duration": 2,
    "start_time": "2024-09-11T19:03:23.463Z"
   },
   {
    "duration": 4,
    "start_time": "2024-09-11T19:03:23.467Z"
   },
   {
    "duration": 8,
    "start_time": "2024-09-11T19:03:23.473Z"
   },
   {
    "duration": 8,
    "start_time": "2024-09-11T19:03:23.482Z"
   },
   {
    "duration": 8,
    "start_time": "2024-09-11T19:03:23.493Z"
   },
   {
    "duration": 9,
    "start_time": "2024-09-11T19:03:23.544Z"
   },
   {
    "duration": 5,
    "start_time": "2024-09-11T19:03:23.554Z"
   },
   {
    "duration": 5,
    "start_time": "2024-09-11T19:03:23.561Z"
   },
   {
    "duration": 7,
    "start_time": "2024-09-11T19:03:23.568Z"
   },
   {
    "duration": 15,
    "start_time": "2024-09-11T19:03:23.577Z"
   },
   {
    "duration": 50,
    "start_time": "2024-09-11T19:03:23.593Z"
   },
   {
    "duration": 12,
    "start_time": "2024-09-11T19:03:23.645Z"
   },
   {
    "duration": 34,
    "start_time": "2024-09-11T19:03:23.658Z"
   },
   {
    "duration": 68,
    "start_time": "2024-09-11T19:03:23.693Z"
   },
   {
    "duration": 4,
    "start_time": "2024-09-11T19:03:23.763Z"
   },
   {
    "duration": 4,
    "start_time": "2024-09-11T19:03:23.769Z"
   },
   {
    "duration": 26,
    "start_time": "2024-09-11T19:03:23.775Z"
   },
   {
    "duration": 40,
    "start_time": "2024-09-11T19:03:23.803Z"
   },
   {
    "duration": 7,
    "start_time": "2024-09-11T19:03:23.845Z"
   },
   {
    "duration": 9,
    "start_time": "2024-09-11T19:03:23.853Z"
   },
   {
    "duration": 17,
    "start_time": "2024-09-11T19:03:23.863Z"
   },
   {
    "duration": 18,
    "start_time": "2024-09-11T19:03:23.881Z"
   },
   {
    "duration": 41,
    "start_time": "2024-09-11T19:03:23.904Z"
   },
   {
    "duration": 9,
    "start_time": "2024-09-11T19:03:23.947Z"
   },
   {
    "duration": 10,
    "start_time": "2024-09-11T19:03:23.958Z"
   },
   {
    "duration": 37,
    "start_time": "2024-09-11T19:03:23.969Z"
   },
   {
    "duration": 47,
    "start_time": "2024-09-11T19:03:24.008Z"
   },
   {
    "duration": 7,
    "start_time": "2024-09-11T19:03:24.057Z"
   },
   {
    "duration": 22,
    "start_time": "2024-09-11T19:03:24.066Z"
   },
   {
    "duration": 14,
    "start_time": "2024-09-11T19:03:24.090Z"
   },
   {
    "duration": 39,
    "start_time": "2024-09-11T19:03:24.106Z"
   },
   {
    "duration": 15,
    "start_time": "2024-09-11T19:03:24.147Z"
   },
   {
    "duration": 17,
    "start_time": "2024-09-11T19:03:24.163Z"
   },
   {
    "duration": 22,
    "start_time": "2024-09-11T19:03:24.182Z"
   },
   {
    "duration": 55,
    "start_time": "2024-09-11T19:03:24.206Z"
   },
   {
    "duration": 31,
    "start_time": "2024-09-11T19:03:24.263Z"
   },
   {
    "duration": 348,
    "start_time": "2024-09-11T19:03:24.295Z"
   },
   {
    "duration": 183,
    "start_time": "2024-09-11T19:03:24.645Z"
   },
   {
    "duration": 23,
    "start_time": "2024-09-11T19:03:24.830Z"
   },
   {
    "duration": 141,
    "start_time": "2024-09-11T19:03:24.855Z"
   },
   {
    "duration": 170,
    "start_time": "2024-09-11T19:03:24.999Z"
   },
   {
    "duration": 7,
    "start_time": "2024-09-11T19:03:25.172Z"
   },
   {
    "duration": 18,
    "start_time": "2024-09-11T19:03:25.181Z"
   },
   {
    "duration": 603,
    "start_time": "2024-09-11T19:03:25.201Z"
   },
   {
    "duration": 19,
    "start_time": "2024-09-11T19:03:25.806Z"
   },
   {
    "duration": 165,
    "start_time": "2024-09-11T19:03:25.827Z"
   },
   {
    "duration": 20,
    "start_time": "2024-09-11T19:03:25.994Z"
   },
   {
    "duration": 178,
    "start_time": "2024-09-11T19:03:26.015Z"
   },
   {
    "duration": 17,
    "start_time": "2024-09-11T19:03:26.195Z"
   },
   {
    "duration": 8,
    "start_time": "2024-09-11T19:03:26.214Z"
   },
   {
    "duration": 127,
    "start_time": "2024-09-11T19:03:26.223Z"
   },
   {
    "duration": 9,
    "start_time": "2024-09-11T19:03:26.351Z"
   },
   {
    "duration": 130,
    "start_time": "2024-09-11T19:03:26.362Z"
   },
   {
    "duration": 17,
    "start_time": "2024-09-11T19:03:26.494Z"
   },
   {
    "duration": 180,
    "start_time": "2024-09-11T19:03:26.513Z"
   },
   {
    "duration": 7,
    "start_time": "2024-09-11T19:03:26.695Z"
   },
   {
    "duration": 10,
    "start_time": "2024-09-11T19:03:26.705Z"
   },
   {
    "duration": 32,
    "start_time": "2024-09-11T19:05:02.631Z"
   },
   {
    "duration": 6,
    "start_time": "2024-09-11T19:05:36.311Z"
   },
   {
    "duration": 7,
    "start_time": "2024-09-11T19:05:44.704Z"
   },
   {
    "duration": 431,
    "start_time": "2024-09-11T19:05:58.438Z"
   },
   {
    "duration": 260,
    "start_time": "2024-09-11T19:05:58.871Z"
   },
   {
    "duration": 7,
    "start_time": "2024-09-11T19:05:59.143Z"
   },
   {
    "duration": 7,
    "start_time": "2024-09-11T19:05:59.152Z"
   },
   {
    "duration": 4,
    "start_time": "2024-09-11T19:05:59.161Z"
   },
   {
    "duration": 4,
    "start_time": "2024-09-11T19:05:59.167Z"
   },
   {
    "duration": 4,
    "start_time": "2024-09-11T19:05:59.173Z"
   },
   {
    "duration": 8,
    "start_time": "2024-09-11T19:05:59.178Z"
   },
   {
    "duration": 7,
    "start_time": "2024-09-11T19:05:59.188Z"
   },
   {
    "duration": 47,
    "start_time": "2024-09-11T19:05:59.199Z"
   },
   {
    "duration": 10,
    "start_time": "2024-09-11T19:05:59.248Z"
   },
   {
    "duration": 7,
    "start_time": "2024-09-11T19:05:59.260Z"
   },
   {
    "duration": 6,
    "start_time": "2024-09-11T19:05:59.269Z"
   },
   {
    "duration": 8,
    "start_time": "2024-09-11T19:05:59.277Z"
   },
   {
    "duration": 16,
    "start_time": "2024-09-11T19:05:59.287Z"
   },
   {
    "duration": 50,
    "start_time": "2024-09-11T19:05:59.305Z"
   },
   {
    "duration": 15,
    "start_time": "2024-09-11T19:05:59.357Z"
   },
   {
    "duration": 34,
    "start_time": "2024-09-11T19:05:59.374Z"
   },
   {
    "duration": 67,
    "start_time": "2024-09-11T19:05:59.410Z"
   },
   {
    "duration": 4,
    "start_time": "2024-09-11T19:05:59.479Z"
   },
   {
    "duration": 3,
    "start_time": "2024-09-11T19:05:59.485Z"
   },
   {
    "duration": 27,
    "start_time": "2024-09-11T19:05:59.490Z"
   },
   {
    "duration": 32,
    "start_time": "2024-09-11T19:05:59.519Z"
   },
   {
    "duration": 7,
    "start_time": "2024-09-11T19:05:59.553Z"
   },
   {
    "duration": 7,
    "start_time": "2024-09-11T19:05:59.562Z"
   },
   {
    "duration": 16,
    "start_time": "2024-09-11T19:05:59.571Z"
   },
   {
    "duration": 17,
    "start_time": "2024-09-11T19:05:59.588Z"
   },
   {
    "duration": 14,
    "start_time": "2024-09-11T19:05:59.642Z"
   },
   {
    "duration": 10,
    "start_time": "2024-09-11T19:05:59.658Z"
   },
   {
    "duration": 10,
    "start_time": "2024-09-11T19:05:59.670Z"
   },
   {
    "duration": 35,
    "start_time": "2024-09-11T19:05:59.682Z"
   },
   {
    "duration": 43,
    "start_time": "2024-09-11T19:05:59.718Z"
   },
   {
    "duration": 7,
    "start_time": "2024-09-11T19:05:59.763Z"
   },
   {
    "duration": 22,
    "start_time": "2024-09-11T19:05:59.772Z"
   },
   {
    "duration": 15,
    "start_time": "2024-09-11T19:05:59.795Z"
   },
   {
    "duration": 43,
    "start_time": "2024-09-11T19:05:59.812Z"
   },
   {
    "duration": 18,
    "start_time": "2024-09-11T19:05:59.857Z"
   },
   {
    "duration": 17,
    "start_time": "2024-09-11T19:05:59.877Z"
   },
   {
    "duration": 22,
    "start_time": "2024-09-11T19:05:59.895Z"
   },
   {
    "duration": 47,
    "start_time": "2024-09-11T19:05:59.918Z"
   },
   {
    "duration": 32,
    "start_time": "2024-09-11T19:05:59.967Z"
   },
   {
    "duration": 319,
    "start_time": "2024-09-11T19:06:00.001Z"
   },
   {
    "duration": 198,
    "start_time": "2024-09-11T19:06:00.322Z"
   },
   {
    "duration": 27,
    "start_time": "2024-09-11T19:06:00.522Z"
   },
   {
    "duration": 147,
    "start_time": "2024-09-11T19:06:00.551Z"
   },
   {
    "duration": 169,
    "start_time": "2024-09-11T19:06:00.699Z"
   },
   {
    "duration": 5,
    "start_time": "2024-09-11T19:06:00.870Z"
   },
   {
    "duration": 11,
    "start_time": "2024-09-11T19:06:00.876Z"
   },
   {
    "duration": 616,
    "start_time": "2024-09-11T19:06:00.889Z"
   },
   {
    "duration": 18,
    "start_time": "2024-09-11T19:06:01.507Z"
   },
   {
    "duration": 167,
    "start_time": "2024-09-11T19:06:01.526Z"
   },
   {
    "duration": 20,
    "start_time": "2024-09-11T19:06:01.695Z"
   },
   {
    "duration": 177,
    "start_time": "2024-09-11T19:06:01.717Z"
   },
   {
    "duration": 18,
    "start_time": "2024-09-11T19:06:01.896Z"
   },
   {
    "duration": 7,
    "start_time": "2024-09-11T19:06:01.916Z"
   },
   {
    "duration": 122,
    "start_time": "2024-09-11T19:06:01.924Z"
   },
   {
    "duration": 7,
    "start_time": "2024-09-11T19:06:02.048Z"
   },
   {
    "duration": 126,
    "start_time": "2024-09-11T19:06:02.057Z"
   },
   {
    "duration": 16,
    "start_time": "2024-09-11T19:06:02.185Z"
   },
   {
    "duration": 176,
    "start_time": "2024-09-11T19:06:02.203Z"
   },
   {
    "duration": 7,
    "start_time": "2024-09-11T19:06:02.381Z"
   },
   {
    "duration": 10,
    "start_time": "2024-09-11T19:06:02.389Z"
   },
   {
    "duration": 7,
    "start_time": "2024-09-11T19:06:26.707Z"
   },
   {
    "duration": 11,
    "start_time": "2024-09-11T19:07:05.267Z"
   },
   {
    "duration": 447,
    "start_time": "2024-09-11T19:07:49.617Z"
   },
   {
    "duration": 278,
    "start_time": "2024-09-11T19:07:50.067Z"
   },
   {
    "duration": 7,
    "start_time": "2024-09-11T19:07:50.347Z"
   },
   {
    "duration": 6,
    "start_time": "2024-09-11T19:07:50.357Z"
   },
   {
    "duration": 4,
    "start_time": "2024-09-11T19:07:50.365Z"
   },
   {
    "duration": 3,
    "start_time": "2024-09-11T19:07:50.371Z"
   },
   {
    "duration": 4,
    "start_time": "2024-09-11T19:07:50.376Z"
   },
   {
    "duration": 8,
    "start_time": "2024-09-11T19:07:50.382Z"
   },
   {
    "duration": 8,
    "start_time": "2024-09-11T19:07:50.391Z"
   },
   {
    "duration": 9,
    "start_time": "2024-09-11T19:07:50.444Z"
   },
   {
    "duration": 11,
    "start_time": "2024-09-11T19:07:50.455Z"
   },
   {
    "duration": 5,
    "start_time": "2024-09-11T19:07:50.468Z"
   },
   {
    "duration": 10,
    "start_time": "2024-09-11T19:07:50.476Z"
   },
   {
    "duration": 10,
    "start_time": "2024-09-11T19:07:50.490Z"
   },
   {
    "duration": 50,
    "start_time": "2024-09-11T19:07:50.502Z"
   },
   {
    "duration": 11,
    "start_time": "2024-09-11T19:07:50.554Z"
   },
   {
    "duration": 12,
    "start_time": "2024-09-11T19:07:50.567Z"
   },
   {
    "duration": 32,
    "start_time": "2024-09-11T19:07:50.581Z"
   },
   {
    "duration": 74,
    "start_time": "2024-09-11T19:07:50.615Z"
   },
   {
    "duration": 4,
    "start_time": "2024-09-11T19:07:50.691Z"
   },
   {
    "duration": 3,
    "start_time": "2024-09-11T19:07:50.697Z"
   },
   {
    "duration": 55,
    "start_time": "2024-09-11T19:07:50.703Z"
   },
   {
    "duration": 13,
    "start_time": "2024-09-11T19:07:50.760Z"
   },
   {
    "duration": 8,
    "start_time": "2024-09-11T19:07:50.775Z"
   },
   {
    "duration": 9,
    "start_time": "2024-09-11T19:07:50.784Z"
   },
   {
    "duration": 16,
    "start_time": "2024-09-11T19:07:50.795Z"
   },
   {
    "duration": 52,
    "start_time": "2024-09-11T19:07:50.813Z"
   },
   {
    "duration": 14,
    "start_time": "2024-09-11T19:07:50.869Z"
   },
   {
    "duration": 9,
    "start_time": "2024-09-11T19:07:50.885Z"
   },
   {
    "duration": 10,
    "start_time": "2024-09-11T19:07:50.896Z"
   },
   {
    "duration": 71,
    "start_time": "2024-09-11T19:07:50.908Z"
   },
   {
    "duration": 23,
    "start_time": "2024-09-11T19:07:50.980Z"
   },
   {
    "duration": 6,
    "start_time": "2024-09-11T19:07:51.005Z"
   },
   {
    "duration": 48,
    "start_time": "2024-09-11T19:07:51.013Z"
   },
   {
    "duration": 17,
    "start_time": "2024-09-11T19:07:51.063Z"
   },
   {
    "duration": 16,
    "start_time": "2024-09-11T19:07:51.083Z"
   },
   {
    "duration": 15,
    "start_time": "2024-09-11T19:07:51.101Z"
   },
   {
    "duration": 22,
    "start_time": "2024-09-11T19:07:51.142Z"
   },
   {
    "duration": 24,
    "start_time": "2024-09-11T19:07:51.165Z"
   },
   {
    "duration": 27,
    "start_time": "2024-09-11T19:07:51.191Z"
   },
   {
    "duration": 55,
    "start_time": "2024-09-11T19:07:51.220Z"
   },
   {
    "duration": 325,
    "start_time": "2024-09-11T19:07:51.277Z"
   },
   {
    "duration": 176,
    "start_time": "2024-09-11T19:07:51.604Z"
   },
   {
    "duration": 20,
    "start_time": "2024-09-11T19:07:51.782Z"
   },
   {
    "duration": 156,
    "start_time": "2024-09-11T19:07:51.803Z"
   },
   {
    "duration": 171,
    "start_time": "2024-09-11T19:07:51.961Z"
   },
   {
    "duration": 9,
    "start_time": "2024-09-11T19:07:52.135Z"
   },
   {
    "duration": 12,
    "start_time": "2024-09-11T19:07:52.147Z"
   },
   {
    "duration": 670,
    "start_time": "2024-09-11T19:07:52.162Z"
   },
   {
    "duration": 23,
    "start_time": "2024-09-11T19:07:52.834Z"
   },
   {
    "duration": 175,
    "start_time": "2024-09-11T19:07:52.860Z"
   },
   {
    "duration": 27,
    "start_time": "2024-09-11T19:07:53.037Z"
   },
   {
    "duration": 197,
    "start_time": "2024-09-11T19:07:53.065Z"
   },
   {
    "duration": 19,
    "start_time": "2024-09-11T19:07:53.264Z"
   },
   {
    "duration": 8,
    "start_time": "2024-09-11T19:07:53.285Z"
   },
   {
    "duration": 131,
    "start_time": "2024-09-11T19:07:53.295Z"
   },
   {
    "duration": 18,
    "start_time": "2024-09-11T19:07:53.427Z"
   },
   {
    "duration": 130,
    "start_time": "2024-09-11T19:07:53.447Z"
   },
   {
    "duration": 17,
    "start_time": "2024-09-11T19:07:53.579Z"
   },
   {
    "duration": 194,
    "start_time": "2024-09-11T19:07:53.598Z"
   },
   {
    "duration": 7,
    "start_time": "2024-09-11T19:07:53.795Z"
   },
   {
    "duration": 11,
    "start_time": "2024-09-11T19:07:53.804Z"
   },
   {
    "duration": 536,
    "start_time": "2024-09-11T19:13:09.663Z"
   },
   {
    "duration": 300,
    "start_time": "2024-09-11T19:13:10.202Z"
   },
   {
    "duration": 9,
    "start_time": "2024-09-11T19:13:10.505Z"
   },
   {
    "duration": 32,
    "start_time": "2024-09-11T19:13:10.517Z"
   },
   {
    "duration": 5,
    "start_time": "2024-09-11T19:13:10.551Z"
   },
   {
    "duration": 4,
    "start_time": "2024-09-11T19:13:10.558Z"
   },
   {
    "duration": 5,
    "start_time": "2024-09-11T19:13:10.564Z"
   },
   {
    "duration": 10,
    "start_time": "2024-09-11T19:13:10.571Z"
   },
   {
    "duration": 9,
    "start_time": "2024-09-11T19:13:10.583Z"
   },
   {
    "duration": 53,
    "start_time": "2024-09-11T19:13:10.596Z"
   },
   {
    "duration": 16,
    "start_time": "2024-09-11T19:13:10.652Z"
   },
   {
    "duration": 6,
    "start_time": "2024-09-11T19:13:10.670Z"
   },
   {
    "duration": 5,
    "start_time": "2024-09-11T19:13:10.677Z"
   },
   {
    "duration": 9,
    "start_time": "2024-09-11T19:13:10.684Z"
   },
   {
    "duration": 55,
    "start_time": "2024-09-11T19:13:10.696Z"
   },
   {
    "duration": 13,
    "start_time": "2024-09-11T19:13:10.752Z"
   },
   {
    "duration": 13,
    "start_time": "2024-09-11T19:13:10.766Z"
   },
   {
    "duration": 68,
    "start_time": "2024-09-11T19:13:10.781Z"
   },
   {
    "duration": 47,
    "start_time": "2024-09-11T19:13:10.852Z"
   },
   {
    "duration": 5,
    "start_time": "2024-09-11T19:13:10.902Z"
   },
   {
    "duration": 4,
    "start_time": "2024-09-11T19:13:10.909Z"
   },
   {
    "duration": 38,
    "start_time": "2024-09-11T19:13:10.942Z"
   },
   {
    "duration": 14,
    "start_time": "2024-09-11T19:13:10.983Z"
   },
   {
    "duration": 8,
    "start_time": "2024-09-11T19:13:10.999Z"
   },
   {
    "duration": 38,
    "start_time": "2024-09-11T19:13:11.009Z"
   },
   {
    "duration": 17,
    "start_time": "2024-09-11T19:13:11.050Z"
   },
   {
    "duration": 21,
    "start_time": "2024-09-11T19:13:11.070Z"
   },
   {
    "duration": 54,
    "start_time": "2024-09-11T19:13:11.098Z"
   },
   {
    "duration": 14,
    "start_time": "2024-09-11T19:13:11.155Z"
   },
   {
    "duration": 13,
    "start_time": "2024-09-11T19:13:11.171Z"
   },
   {
    "duration": 70,
    "start_time": "2024-09-11T19:13:11.186Z"
   },
   {
    "duration": 24,
    "start_time": "2024-09-11T19:13:11.258Z"
   },
   {
    "duration": 13,
    "start_time": "2024-09-11T19:13:11.285Z"
   },
   {
    "duration": 62,
    "start_time": "2024-09-11T19:13:11.301Z"
   },
   {
    "duration": 20,
    "start_time": "2024-09-11T19:13:11.365Z"
   },
   {
    "duration": 20,
    "start_time": "2024-09-11T19:13:11.387Z"
   },
   {
    "duration": 46,
    "start_time": "2024-09-11T19:13:11.410Z"
   },
   {
    "duration": 20,
    "start_time": "2024-09-11T19:13:11.459Z"
   },
   {
    "duration": 27,
    "start_time": "2024-09-11T19:13:11.481Z"
   },
   {
    "duration": 56,
    "start_time": "2024-09-11T19:13:11.510Z"
   },
   {
    "duration": 35,
    "start_time": "2024-09-11T19:13:11.568Z"
   },
   {
    "duration": 361,
    "start_time": "2024-09-11T19:13:11.605Z"
   },
   {
    "duration": 177,
    "start_time": "2024-09-11T19:13:11.968Z"
   },
   {
    "duration": 19,
    "start_time": "2024-09-11T19:13:12.147Z"
   },
   {
    "duration": 158,
    "start_time": "2024-09-11T19:13:12.167Z"
   },
   {
    "duration": 174,
    "start_time": "2024-09-11T19:13:12.327Z"
   },
   {
    "duration": 5,
    "start_time": "2024-09-11T19:13:12.503Z"
   },
   {
    "duration": 11,
    "start_time": "2024-09-11T19:13:12.510Z"
   },
   {
    "duration": 681,
    "start_time": "2024-09-11T19:13:12.523Z"
   },
   {
    "duration": 25,
    "start_time": "2024-09-11T19:13:13.206Z"
   },
   {
    "duration": 165,
    "start_time": "2024-09-11T19:13:13.233Z"
   },
   {
    "duration": 21,
    "start_time": "2024-09-11T19:13:13.399Z"
   },
   {
    "duration": 194,
    "start_time": "2024-09-11T19:13:13.422Z"
   },
   {
    "duration": 28,
    "start_time": "2024-09-11T19:13:13.619Z"
   },
   {
    "duration": 9,
    "start_time": "2024-09-11T19:13:13.649Z"
   },
   {
    "duration": 139,
    "start_time": "2024-09-11T19:13:13.660Z"
   },
   {
    "duration": 9,
    "start_time": "2024-09-11T19:13:13.801Z"
   },
   {
    "duration": 136,
    "start_time": "2024-09-11T19:13:13.813Z"
   },
   {
    "duration": 17,
    "start_time": "2024-09-11T19:13:13.951Z"
   },
   {
    "duration": 181,
    "start_time": "2024-09-11T19:13:13.970Z"
   },
   {
    "duration": 8,
    "start_time": "2024-09-11T19:13:14.153Z"
   },
   {
    "duration": 11,
    "start_time": "2024-09-11T19:13:14.163Z"
   }
  ],
  "kernelspec": {
   "display_name": "base",
   "language": "python",
   "name": "python3"
  },
  "language_info": {
   "codemirror_mode": {
    "name": "ipython",
    "version": 3
   },
   "file_extension": ".py",
   "mimetype": "text/x-python",
   "name": "python",
   "nbconvert_exporter": "python",
   "pygments_lexer": "ipython3",
   "version": "3.12.4"
  },
  "toc": {
   "base_numbering": 1,
   "nav_menu": {},
   "number_sections": true,
   "sideBar": true,
   "skip_h1_title": false,
   "title_cell": "Table of Contents",
   "title_sidebar": "Contents",
   "toc_cell": false,
   "toc_position": {
    "height": "calc(100% - 180px)",
    "left": "10px",
    "top": "150px",
    "width": "165px"
   },
   "toc_section_display": true,
   "toc_window_display": true
  }
 },
 "nbformat": 4,
 "nbformat_minor": 2
}
