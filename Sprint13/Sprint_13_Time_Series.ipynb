{
 "cells": [
  {
   "cell_type": "markdown",
   "metadata": {},
   "source": [
    "# Using Time Series Data to Predict Taxi Orders by the Hour"
   ]
  },
  {
   "cell_type": "markdown",
   "metadata": {},
   "source": [
    "# Project description\n",
    "\n",
    "Sweet Lift Taxi company has collected historical data on taxi orders at airports. To attract more drivers during peak hours, we need to predict the amount of taxi orders for the next hour. Build a model for such a prediction.\n",
    "\n",
    "The RMSE metric on the test set should not be more than 48.\n",
    "\n",
    "## Project instructions\n",
    "\n",
    "1. Download the data and resample it by one hour.\n",
    "2. Analyze the data.\n",
    "3. Train different models with different hyperparameters. The test sample should be 10% of the initial dataset. \n",
    "4. Test the data using the test sample and provide a conclusion.\n",
    "\n",
    "## Data description\n",
    "\n",
    "The data is stored in file `taxi.csv`. The number of orders is in the '*num_orders*' column."
   ]
  },
  {
   "cell_type": "markdown",
   "metadata": {},
   "source": [
    "## Preparation"
   ]
  },
  {
   "cell_type": "code",
   "execution_count": 7,
   "metadata": {},
   "outputs": [],
   "source": [
    "# import libraries\n",
    "import pandas as pd\n",
    "import numpy as np\n",
    "from matplotlib import pyplot as plt\n",
    "\n",
    "# import timeseries tools\n",
    "from pmdarima import auto_arima\n",
    "from statsmodels.tsa.stattools import adfuller\n",
    "from statsmodels.tsa.seasonal import seasonal_decompose\n",
    "from statsmodels.tsa.stattools import arma_order_select_ic\n",
    "from sklearn.metrics import mean_squared_error\n",
    "from statsmodels.graphics.tsaplots import plot_acf\n",
    "\n",
    "\n",
    "# model building tools\n",
    "from sklearn.model_selection import TimeSeriesSplit, GridSearchCV, train_test_split\n",
    "from sklearn.preprocessing import OneHotEncoder\n",
    "from sklearn.compose import ColumnTransformer\n",
    "\n",
    "# models to train\n",
    "from sklearn.linear_model import LinearRegression\n",
    "from statsmodels.tsa.ar_model import AutoReg, ar_select_order\n",
    "from statsmodels.tsa.arima.model import ARIMA\n",
    "from lightgbm import LGBMRegressor"
   ]
  },
  {
   "cell_type": "code",
   "execution_count": 8,
   "metadata": {
    "scrolled": true
   },
   "outputs": [
    {
     "data": {
      "text/html": [
       "<div>\n",
       "<style scoped>\n",
       "    .dataframe tbody tr th:only-of-type {\n",
       "        vertical-align: middle;\n",
       "    }\n",
       "\n",
       "    .dataframe tbody tr th {\n",
       "        vertical-align: top;\n",
       "    }\n",
       "\n",
       "    .dataframe thead th {\n",
       "        text-align: right;\n",
       "    }\n",
       "</style>\n",
       "<table border=\"1\" class=\"dataframe\">\n",
       "  <thead>\n",
       "    <tr style=\"text-align: right;\">\n",
       "      <th></th>\n",
       "      <th>datetime</th>\n",
       "      <th>num_orders</th>\n",
       "    </tr>\n",
       "  </thead>\n",
       "  <tbody>\n",
       "    <tr>\n",
       "      <th>26491</th>\n",
       "      <td>2018-08-31 23:10:00</td>\n",
       "      <td>32</td>\n",
       "    </tr>\n",
       "    <tr>\n",
       "      <th>26492</th>\n",
       "      <td>2018-08-31 23:20:00</td>\n",
       "      <td>24</td>\n",
       "    </tr>\n",
       "    <tr>\n",
       "      <th>26493</th>\n",
       "      <td>2018-08-31 23:30:00</td>\n",
       "      <td>27</td>\n",
       "    </tr>\n",
       "    <tr>\n",
       "      <th>26494</th>\n",
       "      <td>2018-08-31 23:40:00</td>\n",
       "      <td>39</td>\n",
       "    </tr>\n",
       "    <tr>\n",
       "      <th>26495</th>\n",
       "      <td>2018-08-31 23:50:00</td>\n",
       "      <td>53</td>\n",
       "    </tr>\n",
       "  </tbody>\n",
       "</table>\n",
       "</div>"
      ],
      "text/plain": [
       "                  datetime  num_orders\n",
       "26491  2018-08-31 23:10:00          32\n",
       "26492  2018-08-31 23:20:00          24\n",
       "26493  2018-08-31 23:30:00          27\n",
       "26494  2018-08-31 23:40:00          39\n",
       "26495  2018-08-31 23:50:00          53"
      ]
     },
     "metadata": {},
     "output_type": "display_data"
    },
    {
     "name": "stdout",
     "output_type": "stream",
     "text": [
      "\n",
      " Data Types:\n",
      "datetime      object\n",
      "num_orders     int64\n",
      "dtype: object\n",
      "\n",
      " Data Info:\n",
      "<class 'pandas.core.frame.DataFrame'>\n",
      "RangeIndex: 26496 entries, 0 to 26495\n",
      "Data columns (total 2 columns):\n",
      " #   Column      Non-Null Count  Dtype \n",
      "---  ------      --------------  ----- \n",
      " 0   datetime    26496 non-null  object\n",
      " 1   num_orders  26496 non-null  int64 \n",
      "dtypes: int64(1), object(1)\n",
      "memory usage: 414.1+ KB\n",
      "None\n"
     ]
    }
   ],
   "source": [
    "td = pd.read_csv('taxi.csv')\n",
    "display(td.tail())\n",
    "print('\\n Data Types:')\n",
    "print(td.dtypes)\n",
    "print('\\n Data Info:')\n",
    "print(td.info())"
   ]
  },
  {
   "cell_type": "markdown",
   "metadata": {},
   "source": [
    "This data comes in the form of 10 minute intervals starting at 1 March 2018 at midnight. It continues until 11:50PM on 31 August 2018."
   ]
  },
  {
   "cell_type": "code",
   "execution_count": 9,
   "metadata": {},
   "outputs": [
    {
     "name": "stderr",
     "output_type": "stream",
     "text": [
      "C:\\Users\\markl\\AppData\\Local\\Temp\\ipykernel_25716\\4045482656.py:8: FutureWarning: 'H' is deprecated and will be removed in a future version, please use 'h' instead.\n",
      "  data = data.resample('1H').sum()\n"
     ]
    },
    {
     "data": {
      "text/html": [
       "<div>\n",
       "<style scoped>\n",
       "    .dataframe tbody tr th:only-of-type {\n",
       "        vertical-align: middle;\n",
       "    }\n",
       "\n",
       "    .dataframe tbody tr th {\n",
       "        vertical-align: top;\n",
       "    }\n",
       "\n",
       "    .dataframe thead th {\n",
       "        text-align: right;\n",
       "    }\n",
       "</style>\n",
       "<table border=\"1\" class=\"dataframe\">\n",
       "  <thead>\n",
       "    <tr style=\"text-align: right;\">\n",
       "      <th></th>\n",
       "      <th>num_orders</th>\n",
       "    </tr>\n",
       "    <tr>\n",
       "      <th>datetime</th>\n",
       "      <th></th>\n",
       "    </tr>\n",
       "  </thead>\n",
       "  <tbody>\n",
       "    <tr>\n",
       "      <th>2018-03-01 00:00:00</th>\n",
       "      <td>124</td>\n",
       "    </tr>\n",
       "    <tr>\n",
       "      <th>2018-03-01 01:00:00</th>\n",
       "      <td>85</td>\n",
       "    </tr>\n",
       "    <tr>\n",
       "      <th>2018-03-01 02:00:00</th>\n",
       "      <td>71</td>\n",
       "    </tr>\n",
       "    <tr>\n",
       "      <th>2018-03-01 03:00:00</th>\n",
       "      <td>66</td>\n",
       "    </tr>\n",
       "    <tr>\n",
       "      <th>2018-03-01 04:00:00</th>\n",
       "      <td>43</td>\n",
       "    </tr>\n",
       "  </tbody>\n",
       "</table>\n",
       "</div>"
      ],
      "text/plain": [
       "                     num_orders\n",
       "datetime                       \n",
       "2018-03-01 00:00:00         124\n",
       "2018-03-01 01:00:00          85\n",
       "2018-03-01 02:00:00          71\n",
       "2018-03-01 03:00:00          66\n",
       "2018-03-01 04:00:00          43"
      ]
     },
     "metadata": {},
     "output_type": "display_data"
    },
    {
     "name": "stdout",
     "output_type": "stream",
     "text": [
      "<class 'pandas.core.frame.DataFrame'>\n",
      "DatetimeIndex: 4416 entries, 2018-03-01 00:00:00 to 2018-08-31 23:00:00\n",
      "Freq: h\n",
      "Data columns (total 1 columns):\n",
      " #   Column      Non-Null Count  Dtype\n",
      "---  ------      --------------  -----\n",
      " 0   num_orders  4416 non-null   int64\n",
      "dtypes: int64(1)\n",
      "memory usage: 69.0 KB\n"
     ]
    }
   ],
   "source": [
    "# Read the csv file to \"data\" and parse the dates\n",
    "data = pd.read_csv('taxi.csv', index_col=[0], parse_dates=[0])\n",
    "\n",
    "# Sort the index based on the datetime feature\n",
    "data.sort_index(inplace=True)\n",
    "\n",
    "# resample based on the hour and add together all of the orders\n",
    "data = data.resample('1H').sum()\n",
    "\n",
    "# observe the data\n",
    "display(data.head())\n",
    "data.info()"
   ]
  },
  {
   "cell_type": "code",
   "execution_count": 10,
   "metadata": {},
   "outputs": [
    {
     "name": "stdout",
     "output_type": "stream",
     "text": [
      "Average rides per hour: 84.42\n",
      "Median rides per hour: 78.00\n",
      "Standard Deviation per hour: 45.02\n"
     ]
    }
   ],
   "source": [
    "# Calculate the Mean, Median, and Standard Deviation\n",
    "mean = data['num_orders'].mean()\n",
    "median = data['num_orders'].median()\n",
    "std = data['num_orders'].std()\n",
    "\n",
    "print(f'Average rides per hour: {mean:.2f}')\n",
    "print(f'Median rides per hour: {median:.2f}')\n",
    "print(f'Standard Deviation per hour: {std:.2f}')"
   ]
  },
  {
   "cell_type": "code",
   "execution_count": 11,
   "metadata": {
    "scrolled": true
   },
   "outputs": [
    {
     "data": {
      "text/plain": [
       "<Axes: xlabel='datetime'>"
      ]
     },
     "execution_count": 11,
     "metadata": {},
     "output_type": "execute_result"
    },
    {
     "data": {
      "image/png": "[encoded data removed]",
      "text/plain": [
       "<Figure size 640x480 with 1 Axes>"
      ]
     },
     "metadata": {},
     "output_type": "display_data"
    }
   ],
   "source": [
    "# plot the data in its original form visualize it\n",
    "data.plot()"
   ]
  },
  {
   "cell_type": "code",
   "execution_count": 12,
   "metadata": {
    "scrolled": false
   },
   "outputs": [
    {
     "data": {
      "image/png": "[encoded data removed]",
      "text/plain": [
       "<Figure size 1200x1000 with 6 Axes>"
      ]
     },
     "metadata": {},
     "output_type": "display_data"
    }
   ],
   "source": [
    "# show the data by month to look for trends on a monthly timeframe\n",
    "march = data['2018-03': '2018-03']\n",
    "april = data['2018-04': '2018-04']\n",
    "may = data['2018-05': '2018-05']\n",
    "june = data['2018-06': '2018-06']\n",
    "july = data['2018-07': '2018-07']\n",
    "august = data['2018-08': '2018-08']\n",
    "months = [march, april, may, june, july, august]\n",
    "\n",
    "month_names = [\"March\", \"April\", \"May\", \"June\", \"July\", \"August\"]\n",
    "\n",
    "# Create subplots\n",
    "fig, axes = plt.subplots(nrows=3, ncols=2, figsize=(12, 10))\n",
    "axes = axes.flatten()\n",
    "\n",
    "# Plot each month's data\n",
    "for i, month in enumerate(months):\n",
    "    axes[i].plot(month.index, month['num_orders'], marker='o', linestyle='-')\n",
    "    axes[i].set_title(month_names[i])\n",
    "    axes[i].set_xlabel(\"Date\")\n",
    "    axes[i].set_ylabel(\"Taxi Orders\")\n",
    "    axes[i].tick_params(axis='x', rotation=45)\n",
    "\n",
    "# Adjust layout and display the plot\n",
    "plt.tight_layout()\n",
    "plt.show()"
   ]
  },
  {
   "cell_type": "code",
   "execution_count": 13,
   "metadata": {},
   "outputs": [
    {
     "name": "stdout",
     "output_type": "stream",
     "text": [
      "In March, Sweet Lift provided 744 rides.\n",
      "In April, Sweet Lift provided 720 rides.\n",
      "In May, Sweet Lift provided 744 rides.\n",
      "In June, Sweet Lift provided 720 rides.\n",
      "In July, Sweet Lift provided 744 rides.\n",
      "In August, Sweet Lift provided 744 rides.\n"
     ]
    }
   ],
   "source": [
    "months = {\n",
    "    'March': march,\n",
    "    'April': april,\n",
    "    'May': may,\n",
    "    'June': june,\n",
    "    'July': july,\n",
    "    'August': august\n",
    "}\n",
    "\n",
    "for month_name, rides in months.items():\n",
    "    print(f'In {month_name}, Sweet Lift provided {len(rides)} rides.')"
   ]
  },
  {
   "cell_type": "markdown",
   "metadata": {},
   "source": [
    "### Initial data observations ###\n",
    "There does not appear to be a strong trend that would suggest seasonality in the data. Each month has nearly the same amount of rides with June and April having 3% less rides than the other months."
   ]
  },
  {
   "cell_type": "markdown",
   "metadata": {},
   "source": [
    "### Test Stationarity of the Data ###"
   ]
  },
  {
   "cell_type": "code",
   "execution_count": 14,
   "metadata": {
    "scrolled": false
   },
   "outputs": [],
   "source": [
    "def test_stationarity(timeseries):\n",
    "    # calculated rolling mean and standard deviation\n",
    "    rolling_mean = timeseries.rolling(168).mean()\n",
    "    rolling_std = timeseries.rolling(168).std()\n",
    "    \n",
    "    # plot rolling statistics\n",
    "    original = plt.plot(timeseries, color='blue', label='Original')\n",
    "    mean = plt.plot(rolling_mean, color='gold', label='Rolling Mean')\n",
    "    std = plt.plot(rolling_std, color='black', label='Rolling Std')\n",
    "    plt.legend(loc='best')\n",
    "    plt.title('Rolling Mean and Standard Deviation')\n",
    "    plt.show(block=False)"
   ]
  },
  {
   "cell_type": "code",
   "execution_count": 15,
   "metadata": {
    "scrolled": false
   },
   "outputs": [
    {
     "data": {
      "image/png": "[encoded data removed]",
      "text/plain": [
       "<Figure size 640x480 with 1 Axes>"
      ]
     },
     "metadata": {},
     "output_type": "display_data"
    }
   ],
   "source": [
    "test_stationarity(data)"
   ]
  },
  {
   "cell_type": "markdown",
   "metadata": {},
   "source": [
    "#### Preliminary observation and interpretation ####\n",
    "We can see in the above plot that the mean grows over time and the rolling std is also changing. This could suggest that we're dealing with a non-stationary data set. It is not a drastic change, and since each month had nearly the same amount of rides, I'm going to do a closer look at the stationariy by using the adfuller method."
   ]
  },
  {
   "cell_type": "code",
   "execution_count": 16,
   "metadata": {},
   "outputs": [
    {
     "data": {
      "image/png": "[encoded data removed]",
      "text/plain": [
       "<Figure size 640x480 with 1 Axes>"
      ]
     },
     "metadata": {},
     "output_type": "display_data"
    }
   ],
   "source": [
    "lags_to_check = 50\n",
    "acf = plot_acf(data, lags=lags_to_check)\n",
    "plt.xlabel('Lags')\n",
    "plt.ylabel('ACF')\n",
    "plt.show()"
   ]
  },
  {
   "cell_type": "code",
   "execution_count": 17,
   "metadata": {},
   "outputs": [
    {
     "name": "stdout",
     "output_type": "stream",
     "text": [
      "P-value:  0.02894005140261296\n"
     ]
    }
   ],
   "source": [
    "# run the adfuller test to check for stationarity\n",
    "df_stationarityTest = adfuller(data, autolag='AIC')\n",
    "print(\"P-value: \", df_stationarityTest[1])"
   ]
  },
  {
   "cell_type": "markdown",
   "metadata": {},
   "source": [
    "#### Interpretation after using adfuller ####\n",
    "with a p value of .03 like this, we can predict that this data would be considered stationary. So, we can use the ARMA as our predictive model for this data. The data has the appearance of being non-stationary in the last month of data collection, but because the pvalue is below the .05 threshold, we're going to treat this data as stationary in our model development"
   ]
  },
  {
   "cell_type": "markdown",
   "metadata": {},
   "source": [
    "#### Look at what using Differencing and Decomposition might do for the data"
   ]
  },
  {
   "cell_type": "code",
   "execution_count": 18,
   "metadata": {
    "scrolled": true
   },
   "outputs": [],
   "source": [
    "# Use differencing to show what the data could look like if to enhance the stationarity\n",
    "data_diff = data - data.shift()"
   ]
  },
  {
   "cell_type": "code",
   "execution_count": 19,
   "metadata": {
    "scrolled": false
   },
   "outputs": [
    {
     "data": {
      "image/png": "[encoded data removed]",
      "text/plain": [
       "<Figure size 640x480 with 1 Axes>"
      ]
     },
     "metadata": {},
     "output_type": "display_data"
    }
   ],
   "source": [
    "# show the stationarity of the differenced data\n",
    "data_diff.dropna(inplace=True)\n",
    "test_stationarity(data_diff)"
   ]
  },
  {
   "cell_type": "code",
   "execution_count": 20,
   "metadata": {},
   "outputs": [
    {
     "data": {
      "text/html": [
       "<div>\n",
       "<style scoped>\n",
       "    .dataframe tbody tr th:only-of-type {\n",
       "        vertical-align: middle;\n",
       "    }\n",
       "\n",
       "    .dataframe tbody tr th {\n",
       "        vertical-align: top;\n",
       "    }\n",
       "\n",
       "    .dataframe thead th {\n",
       "        text-align: right;\n",
       "    }\n",
       "</style>\n",
       "<table border=\"1\" class=\"dataframe\">\n",
       "  <thead>\n",
       "    <tr style=\"text-align: right;\">\n",
       "      <th></th>\n",
       "      <th>num_orders</th>\n",
       "    </tr>\n",
       "    <tr>\n",
       "      <th>datetime</th>\n",
       "      <th></th>\n",
       "    </tr>\n",
       "  </thead>\n",
       "  <tbody>\n",
       "    <tr>\n",
       "      <th>2018-03-01 01:00:00</th>\n",
       "      <td>-39.0</td>\n",
       "    </tr>\n",
       "    <tr>\n",
       "      <th>2018-03-01 02:00:00</th>\n",
       "      <td>-14.0</td>\n",
       "    </tr>\n",
       "    <tr>\n",
       "      <th>2018-03-01 03:00:00</th>\n",
       "      <td>-5.0</td>\n",
       "    </tr>\n",
       "    <tr>\n",
       "      <th>2018-03-01 04:00:00</th>\n",
       "      <td>-23.0</td>\n",
       "    </tr>\n",
       "    <tr>\n",
       "      <th>2018-03-01 05:00:00</th>\n",
       "      <td>-37.0</td>\n",
       "    </tr>\n",
       "  </tbody>\n",
       "</table>\n",
       "</div>"
      ],
      "text/plain": [
       "                     num_orders\n",
       "datetime                       \n",
       "2018-03-01 01:00:00       -39.0\n",
       "2018-03-01 02:00:00       -14.0\n",
       "2018-03-01 03:00:00        -5.0\n",
       "2018-03-01 04:00:00       -23.0\n",
       "2018-03-01 05:00:00       -37.0"
      ]
     },
     "metadata": {},
     "output_type": "display_data"
    }
   ],
   "source": [
    "display(data_diff.head())"
   ]
  },
  {
   "cell_type": "code",
   "execution_count": 21,
   "metadata": {},
   "outputs": [
    {
     "name": "stdout",
     "output_type": "stream",
     "text": [
      "P-value:  1.0958776746516691e-28\n"
     ]
    }
   ],
   "source": [
    "# run the adfuller test to check for stationarity on the differenced data\n",
    "df_stationarityTest = adfuller(data_diff, autolag='AIC')\n",
    "print(\"P-value: \", df_stationarityTest[1])"
   ]
  },
  {
   "cell_type": "code",
   "execution_count": 22,
   "metadata": {
    "scrolled": true
   },
   "outputs": [
    {
     "data": {
      "image/png": "[encoded data removed]",
      "text/plain": [
       "<Figure size 640x480 with 4 Axes>"
      ]
     },
     "metadata": {},
     "output_type": "display_data"
    }
   ],
   "source": [
    "# run the seasonal decomposition function on our data\n",
    "decomposed = seasonal_decompose(data)\n",
    "\n",
    "# create variables of the trend, seasonal, and residual data\n",
    "trend = decomposed.trend\n",
    "seasonal = decomposed.seasonal\n",
    "residual = decomposed.resid\n",
    "\n",
    "# plot the original data\n",
    "plt.subplot(411)\n",
    "plt.plot(data, label='Original')\n",
    "plt.legend(loc='best')\n",
    "\n",
    "# plot the trend\n",
    "plt.subplot(412)\n",
    "plt.plot(trend, label='Trend')\n",
    "plt.legend(loc='best')\n",
    "\n",
    "#plot the seasonal \n",
    "plt.subplot(413)\n",
    "plt.plot(seasonal, label='Seasonal')\n",
    "plt.legend(loc='best')\n",
    "\n",
    "# plot the residual\n",
    "plt.subplot(414)\n",
    "plt.plot(residual, label='Residual')\n",
    "plt.legend(loc='best')\n",
    "\n",
    "plt.tight_layout()\n"
   ]
  },
  {
   "cell_type": "code",
   "execution_count": 23,
   "metadata": {
    "scrolled": false
   },
   "outputs": [
    {
     "data": {
      "image/png": "[encoded data removed]",
      "text/plain": [
       "<Figure size 640x480 with 1 Axes>"
      ]
     },
     "metadata": {},
     "output_type": "display_data"
    }
   ],
   "source": [
    "# show how the residual data does with stationarity\n",
    "data_decompose = residual\n",
    "data_decompose.dropna(inplace=True)\n",
    "test_stationarity(data_decompose)"
   ]
  },
  {
   "cell_type": "code",
   "execution_count": 24,
   "metadata": {},
   "outputs": [
    {
     "name": "stdout",
     "output_type": "stream",
     "text": [
      "P-value:  0.0\n"
     ]
    }
   ],
   "source": [
    "# run the adfuller test to check for stationarity on the decomposed data\n",
    "df_stationarityTest = adfuller(data_decompose, autolag='AIC')\n",
    "print(\"P-value: \", df_stationarityTest[1])"
   ]
  },
  {
   "cell_type": "markdown",
   "metadata": {},
   "source": [
    "#### Stationarity Conclusions ####\n",
    "Using the decompose method and the differencing method allowed for making the data even more stationary for analysis purposes. These adjusted data sets will allow for better predictions using a linear regression model."
   ]
  },
  {
   "cell_type": "markdown",
   "metadata": {},
   "source": [
    "## Analysis"
   ]
  },
  {
   "cell_type": "code",
   "execution_count": 25,
   "metadata": {},
   "outputs": [],
   "source": [
    "def make_features(data, max_lag, rolling_mean_size):\n",
    "    data['year'] = data.index.year\n",
    "    data['month'] = data.index.month\n",
    "    data['day'] = data.index.day\n",
    "    data['dayofweek'] = data.index.dayofweek\n",
    "    data['hour'] = data.index.hour\n",
    "    \n",
    "    for lag in range(1, max_lag + 1):\n",
    "        data['lag_{}'.format(lag)] = data['num_orders'].shift(lag)\n",
    "    \n",
    "    data['rolling_mean'] = (data['num_orders'].shift().rolling(rolling_mean_size).mean())\n",
    "    \n",
    "    return data"
   ]
  },
  {
   "cell_type": "code",
   "execution_count": 26,
   "metadata": {},
   "outputs": [],
   "source": [
    "ts = make_features(data_diff, 25, 25)"
   ]
  },
  {
   "cell_type": "code",
   "execution_count": 27,
   "metadata": {
    "scrolled": true
   },
   "outputs": [
    {
     "data": {
      "text/html": [
       "<div>\n",
       "<style scoped>\n",
       "    .dataframe tbody tr th:only-of-type {\n",
       "        vertical-align: middle;\n",
       "    }\n",
       "\n",
       "    .dataframe tbody tr th {\n",
       "        vertical-align: top;\n",
       "    }\n",
       "\n",
       "    .dataframe thead th {\n",
       "        text-align: right;\n",
       "    }\n",
       "</style>\n",
       "<table border=\"1\" class=\"dataframe\">\n",
       "  <thead>\n",
       "    <tr style=\"text-align: right;\">\n",
       "      <th></th>\n",
       "      <th>num_orders</th>\n",
       "      <th>year</th>\n",
       "      <th>month</th>\n",
       "      <th>day</th>\n",
       "      <th>dayofweek</th>\n",
       "      <th>hour</th>\n",
       "      <th>lag_1</th>\n",
       "      <th>lag_2</th>\n",
       "      <th>lag_3</th>\n",
       "      <th>lag_4</th>\n",
       "      <th>...</th>\n",
       "      <th>lag_17</th>\n",
       "      <th>lag_18</th>\n",
       "      <th>lag_19</th>\n",
       "      <th>lag_20</th>\n",
       "      <th>lag_21</th>\n",
       "      <th>lag_22</th>\n",
       "      <th>lag_23</th>\n",
       "      <th>lag_24</th>\n",
       "      <th>lag_25</th>\n",
       "      <th>rolling_mean</th>\n",
       "    </tr>\n",
       "    <tr>\n",
       "      <th>datetime</th>\n",
       "      <th></th>\n",
       "      <th></th>\n",
       "      <th></th>\n",
       "      <th></th>\n",
       "      <th></th>\n",
       "      <th></th>\n",
       "      <th></th>\n",
       "      <th></th>\n",
       "      <th></th>\n",
       "      <th></th>\n",
       "      <th></th>\n",
       "      <th></th>\n",
       "      <th></th>\n",
       "      <th></th>\n",
       "      <th></th>\n",
       "      <th></th>\n",
       "      <th></th>\n",
       "      <th></th>\n",
       "      <th></th>\n",
       "      <th></th>\n",
       "      <th></th>\n",
       "    </tr>\n",
       "  </thead>\n",
       "  <tbody>\n",
       "    <tr>\n",
       "      <th>2018-03-01 01:00:00</th>\n",
       "      <td>-39.0</td>\n",
       "      <td>2018</td>\n",
       "      <td>3</td>\n",
       "      <td>1</td>\n",
       "      <td>3</td>\n",
       "      <td>1</td>\n",
       "      <td>NaN</td>\n",
       "      <td>NaN</td>\n",
       "      <td>NaN</td>\n",
       "      <td>NaN</td>\n",
       "      <td>...</td>\n",
       "      <td>NaN</td>\n",
       "      <td>NaN</td>\n",
       "      <td>NaN</td>\n",
       "      <td>NaN</td>\n",
       "      <td>NaN</td>\n",
       "      <td>NaN</td>\n",
       "      <td>NaN</td>\n",
       "      <td>NaN</td>\n",
       "      <td>NaN</td>\n",
       "      <td>NaN</td>\n",
       "    </tr>\n",
       "    <tr>\n",
       "      <th>2018-03-01 02:00:00</th>\n",
       "      <td>-14.0</td>\n",
       "      <td>2018</td>\n",
       "      <td>3</td>\n",
       "      <td>1</td>\n",
       "      <td>3</td>\n",
       "      <td>2</td>\n",
       "      <td>-39.0</td>\n",
       "      <td>NaN</td>\n",
       "      <td>NaN</td>\n",
       "      <td>NaN</td>\n",
       "      <td>...</td>\n",
       "      <td>NaN</td>\n",
       "      <td>NaN</td>\n",
       "      <td>NaN</td>\n",
       "      <td>NaN</td>\n",
       "      <td>NaN</td>\n",
       "      <td>NaN</td>\n",
       "      <td>NaN</td>\n",
       "      <td>NaN</td>\n",
       "      <td>NaN</td>\n",
       "      <td>NaN</td>\n",
       "    </tr>\n",
       "    <tr>\n",
       "      <th>2018-03-01 03:00:00</th>\n",
       "      <td>-5.0</td>\n",
       "      <td>2018</td>\n",
       "      <td>3</td>\n",
       "      <td>1</td>\n",
       "      <td>3</td>\n",
       "      <td>3</td>\n",
       "      <td>-14.0</td>\n",
       "      <td>-39.0</td>\n",
       "      <td>NaN</td>\n",
       "      <td>NaN</td>\n",
       "      <td>...</td>\n",
       "      <td>NaN</td>\n",
       "      <td>NaN</td>\n",
       "      <td>NaN</td>\n",
       "      <td>NaN</td>\n",
       "      <td>NaN</td>\n",
       "      <td>NaN</td>\n",
       "      <td>NaN</td>\n",
       "      <td>NaN</td>\n",
       "      <td>NaN</td>\n",
       "      <td>NaN</td>\n",
       "    </tr>\n",
       "    <tr>\n",
       "      <th>2018-03-01 04:00:00</th>\n",
       "      <td>-23.0</td>\n",
       "      <td>2018</td>\n",
       "      <td>3</td>\n",
       "      <td>1</td>\n",
       "      <td>3</td>\n",
       "      <td>4</td>\n",
       "      <td>-5.0</td>\n",
       "      <td>-14.0</td>\n",
       "      <td>-39.0</td>\n",
       "      <td>NaN</td>\n",
       "      <td>...</td>\n",
       "      <td>NaN</td>\n",
       "      <td>NaN</td>\n",
       "      <td>NaN</td>\n",
       "      <td>NaN</td>\n",
       "      <td>NaN</td>\n",
       "      <td>NaN</td>\n",
       "      <td>NaN</td>\n",
       "      <td>NaN</td>\n",
       "      <td>NaN</td>\n",
       "      <td>NaN</td>\n",
       "    </tr>\n",
       "    <tr>\n",
       "      <th>2018-03-01 05:00:00</th>\n",
       "      <td>-37.0</td>\n",
       "      <td>2018</td>\n",
       "      <td>3</td>\n",
       "      <td>1</td>\n",
       "      <td>3</td>\n",
       "      <td>5</td>\n",
       "      <td>-23.0</td>\n",
       "      <td>-5.0</td>\n",
       "      <td>-14.0</td>\n",
       "      <td>-39.0</td>\n",
       "      <td>...</td>\n",
       "      <td>NaN</td>\n",
       "      <td>NaN</td>\n",
       "      <td>NaN</td>\n",
       "      <td>NaN</td>\n",
       "      <td>NaN</td>\n",
       "      <td>NaN</td>\n",
       "      <td>NaN</td>\n",
       "      <td>NaN</td>\n",
       "      <td>NaN</td>\n",
       "      <td>NaN</td>\n",
       "    </tr>\n",
       "    <tr>\n",
       "      <th>2018-03-01 06:00:00</th>\n",
       "      <td>6.0</td>\n",
       "      <td>2018</td>\n",
       "      <td>3</td>\n",
       "      <td>1</td>\n",
       "      <td>3</td>\n",
       "      <td>6</td>\n",
       "      <td>-37.0</td>\n",
       "      <td>-23.0</td>\n",
       "      <td>-5.0</td>\n",
       "      <td>-14.0</td>\n",
       "      <td>...</td>\n",
       "      <td>NaN</td>\n",
       "      <td>NaN</td>\n",
       "      <td>NaN</td>\n",
       "      <td>NaN</td>\n",
       "      <td>NaN</td>\n",
       "      <td>NaN</td>\n",
       "      <td>NaN</td>\n",
       "      <td>NaN</td>\n",
       "      <td>NaN</td>\n",
       "      <td>NaN</td>\n",
       "    </tr>\n",
       "    <tr>\n",
       "      <th>2018-03-01 07:00:00</th>\n",
       "      <td>3.0</td>\n",
       "      <td>2018</td>\n",
       "      <td>3</td>\n",
       "      <td>1</td>\n",
       "      <td>3</td>\n",
       "      <td>7</td>\n",
       "      <td>6.0</td>\n",
       "      <td>-37.0</td>\n",
       "      <td>-23.0</td>\n",
       "      <td>-5.0</td>\n",
       "      <td>...</td>\n",
       "      <td>NaN</td>\n",
       "      <td>NaN</td>\n",
       "      <td>NaN</td>\n",
       "      <td>NaN</td>\n",
       "      <td>NaN</td>\n",
       "      <td>NaN</td>\n",
       "      <td>NaN</td>\n",
       "      <td>NaN</td>\n",
       "      <td>NaN</td>\n",
       "      <td>NaN</td>\n",
       "    </tr>\n",
       "    <tr>\n",
       "      <th>2018-03-01 08:00:00</th>\n",
       "      <td>19.0</td>\n",
       "      <td>2018</td>\n",
       "      <td>3</td>\n",
       "      <td>1</td>\n",
       "      <td>3</td>\n",
       "      <td>8</td>\n",
       "      <td>3.0</td>\n",
       "      <td>6.0</td>\n",
       "      <td>-37.0</td>\n",
       "      <td>-23.0</td>\n",
       "      <td>...</td>\n",
       "      <td>NaN</td>\n",
       "      <td>NaN</td>\n",
       "      <td>NaN</td>\n",
       "      <td>NaN</td>\n",
       "      <td>NaN</td>\n",
       "      <td>NaN</td>\n",
       "      <td>NaN</td>\n",
       "      <td>NaN</td>\n",
       "      <td>NaN</td>\n",
       "      <td>NaN</td>\n",
       "    </tr>\n",
       "    <tr>\n",
       "      <th>2018-03-01 09:00:00</th>\n",
       "      <td>35.0</td>\n",
       "      <td>2018</td>\n",
       "      <td>3</td>\n",
       "      <td>1</td>\n",
       "      <td>3</td>\n",
       "      <td>9</td>\n",
       "      <td>19.0</td>\n",
       "      <td>3.0</td>\n",
       "      <td>6.0</td>\n",
       "      <td>-37.0</td>\n",
       "      <td>...</td>\n",
       "      <td>NaN</td>\n",
       "      <td>NaN</td>\n",
       "      <td>NaN</td>\n",
       "      <td>NaN</td>\n",
       "      <td>NaN</td>\n",
       "      <td>NaN</td>\n",
       "      <td>NaN</td>\n",
       "      <td>NaN</td>\n",
       "      <td>NaN</td>\n",
       "      <td>NaN</td>\n",
       "    </tr>\n",
       "    <tr>\n",
       "      <th>2018-03-01 10:00:00</th>\n",
       "      <td>-5.0</td>\n",
       "      <td>2018</td>\n",
       "      <td>3</td>\n",
       "      <td>1</td>\n",
       "      <td>3</td>\n",
       "      <td>10</td>\n",
       "      <td>35.0</td>\n",
       "      <td>19.0</td>\n",
       "      <td>3.0</td>\n",
       "      <td>6.0</td>\n",
       "      <td>...</td>\n",
       "      <td>NaN</td>\n",
       "      <td>NaN</td>\n",
       "      <td>NaN</td>\n",
       "      <td>NaN</td>\n",
       "      <td>NaN</td>\n",
       "      <td>NaN</td>\n",
       "      <td>NaN</td>\n",
       "      <td>NaN</td>\n",
       "      <td>NaN</td>\n",
       "      <td>NaN</td>\n",
       "    </tr>\n",
       "  </tbody>\n",
       "</table>\n",
       "<p>10 rows × 32 columns</p>\n",
       "</div>"
      ],
      "text/plain": [
       "                     num_orders  year  month  day  dayofweek  hour  lag_1  \\\n",
       "datetime                                                                    \n",
       "2018-03-01 01:00:00       -39.0  2018      3    1          3     1    NaN   \n",
       "2018-03-01 02:00:00       -14.0  2018      3    1          3     2  -39.0   \n",
       "2018-03-01 03:00:00        -5.0  2018      3    1          3     3  -14.0   \n",
       "2018-03-01 04:00:00       -23.0  2018      3    1          3     4   -5.0   \n",
       "2018-03-01 05:00:00       -37.0  2018      3    1          3     5  -23.0   \n",
       "2018-03-01 06:00:00         6.0  2018      3    1          3     6  -37.0   \n",
       "2018-03-01 07:00:00         3.0  2018      3    1          3     7    6.0   \n",
       "2018-03-01 08:00:00        19.0  2018      3    1          3     8    3.0   \n",
       "2018-03-01 09:00:00        35.0  2018      3    1          3     9   19.0   \n",
       "2018-03-01 10:00:00        -5.0  2018      3    1          3    10   35.0   \n",
       "\n",
       "                     lag_2  lag_3  lag_4  ...  lag_17  lag_18  lag_19  lag_20  \\\n",
       "datetime                                  ...                                   \n",
       "2018-03-01 01:00:00    NaN    NaN    NaN  ...     NaN     NaN     NaN     NaN   \n",
       "2018-03-01 02:00:00    NaN    NaN    NaN  ...     NaN     NaN     NaN     NaN   \n",
       "2018-03-01 03:00:00  -39.0    NaN    NaN  ...     NaN     NaN     NaN     NaN   \n",
       "2018-03-01 04:00:00  -14.0  -39.0    NaN  ...     NaN     NaN     NaN     NaN   \n",
       "2018-03-01 05:00:00   -5.0  -14.0  -39.0  ...     NaN     NaN     NaN     NaN   \n",
       "2018-03-01 06:00:00  -23.0   -5.0  -14.0  ...     NaN     NaN     NaN     NaN   \n",
       "2018-03-01 07:00:00  -37.0  -23.0   -5.0  ...     NaN     NaN     NaN     NaN   \n",
       "2018-03-01 08:00:00    6.0  -37.0  -23.0  ...     NaN     NaN     NaN     NaN   \n",
       "2018-03-01 09:00:00    3.0    6.0  -37.0  ...     NaN     NaN     NaN     NaN   \n",
       "2018-03-01 10:00:00   19.0    3.0    6.0  ...     NaN     NaN     NaN     NaN   \n",
       "\n",
       "                     lag_21  lag_22  lag_23  lag_24  lag_25  rolling_mean  \n",
       "datetime                                                                   \n",
       "2018-03-01 01:00:00     NaN     NaN     NaN     NaN     NaN           NaN  \n",
       "2018-03-01 02:00:00     NaN     NaN     NaN     NaN     NaN           NaN  \n",
       "2018-03-01 03:00:00     NaN     NaN     NaN     NaN     NaN           NaN  \n",
       "2018-03-01 04:00:00     NaN     NaN     NaN     NaN     NaN           NaN  \n",
       "2018-03-01 05:00:00     NaN     NaN     NaN     NaN     NaN           NaN  \n",
       "2018-03-01 06:00:00     NaN     NaN     NaN     NaN     NaN           NaN  \n",
       "2018-03-01 07:00:00     NaN     NaN     NaN     NaN     NaN           NaN  \n",
       "2018-03-01 08:00:00     NaN     NaN     NaN     NaN     NaN           NaN  \n",
       "2018-03-01 09:00:00     NaN     NaN     NaN     NaN     NaN           NaN  \n",
       "2018-03-01 10:00:00     NaN     NaN     NaN     NaN     NaN           NaN  \n",
       "\n",
       "[10 rows x 32 columns]"
      ]
     },
     "metadata": {},
     "output_type": "display_data"
    }
   ],
   "source": [
    "display(ts.head(10))"
   ]
  },
  {
   "cell_type": "markdown",
   "metadata": {},
   "source": [
    "## Training"
   ]
  },
  {
   "cell_type": "code",
   "execution_count": 28,
   "metadata": {},
   "outputs": [],
   "source": [
    "train, test = train_test_split(ts, shuffle=False, test_size=.1)\n",
    "train= train.dropna()\n",
    "test = test.dropna()\n",
    "\n",
    "features_train = train.drop(['num_orders'], axis=1)\n",
    "target_train = train['num_orders']\n",
    "features_test = test.drop(['num_orders'], axis=1)\n",
    "target_test = test['num_orders']"
   ]
  },
  {
   "cell_type": "code",
   "execution_count": 29,
   "metadata": {},
   "outputs": [],
   "source": [
    "# use one hot encoding for the days, days of the week and month columns\n",
    "features_train = pd.get_dummies(features_train, columns=['month', 'day', 'dayofweek', 'hour'], drop_first=True)\n",
    "features_test = pd.get_dummies(features_test, columns=['month', 'day', 'dayofweek', 'hour'], drop_first=True)\n",
    "\n",
    "features_train, features_test = features_train.align(features_test, join='left', axis=1)\n",
    "features_test = features_test.fillna(0)"
   ]
  },
  {
   "cell_type": "markdown",
   "metadata": {},
   "source": [
    "## Testing"
   ]
  },
  {
   "cell_type": "code",
   "execution_count": 30,
   "metadata": {},
   "outputs": [],
   "source": [
    "def train_evaluate_model(model, X_train, y_train, X_test, y_test, **hyperparameters):\n",
    "    # Set the hyperparameters of the model\n",
    "    model.set_params(**hyperparameters)\n",
    "    \n",
    "    # fit the model\n",
    "    model.fit(X_train, y_train)\n",
    "     \n",
    "    # make predictions\n",
    "    prediction_train = model.predict(X_train)\n",
    "    prediction_test = model.predict(X_test)\n",
    "    \n",
    "    # Evaluate the model\n",
    "    rmse_train = np.sqrt(mean_squared_error(y_train, prediction_train))\n",
    "    rmse_test = np.sqrt(mean_squared_error(y_test, prediction_test))\n",
    "    \n",
    "    return rmse_train, rmse_test"
   ]
  },
  {
   "cell_type": "code",
   "execution_count": 31,
   "metadata": {},
   "outputs": [
    {
     "name": "stdout",
     "output_type": "stream",
     "text": [
      "Train RMSE: 22.90\n",
      "Test RMSE: 41.87\n"
     ]
    }
   ],
   "source": [
    "# Initialize model\n",
    "lr_model = LinearRegression()\n",
    "\n",
    "# Define hyperparameters\n",
    "hyperparams = {}\n",
    "\n",
    "# Train and evaluate\n",
    "rmse_train, rmse_test = train_evaluate_model(lr_model, features_train, target_train, features_test, target_test, **hyperparams)\n",
    "\n",
    "print(f\"Train RMSE: {rmse_train:.2f}\")\n",
    "print(f\"Test RMSE: {rmse_test:.2f}\")"
   ]
  },
  {
   "cell_type": "markdown",
   "metadata": {},
   "source": [
    "#### Linear Regression Results ####\n",
    "The RMSE for our initial Linear Regression Model is already below the 48 threshhold in the test set. This could be a sufficient model for prediction. I will continue by checking the ARMA and ARIMA models as well to see how they interact with this data."
   ]
  },
  {
   "cell_type": "markdown",
   "metadata": {},
   "source": [
    "#### LGBM Model ####"
   ]
  },
  {
   "cell_type": "code",
   "execution_count": 32,
   "metadata": {
    "scrolled": true
   },
   "outputs": [
    {
     "name": "stdout",
     "output_type": "stream",
     "text": [
      "Fitting 5 folds for each of 16 candidates, totalling 80 fits\n",
      "[LightGBM] [Info] Auto-choosing col-wise multi-threading, the overhead of testing was 0.000738 seconds.\n",
      "You can set `force_col_wise=true` to remove the overhead.\n",
      "[LightGBM] [Info] Total Bins 4969\n",
      "[LightGBM] [Info] Number of data points in the train set: 3948, number of used features: 90\n",
      "[LightGBM] [Info] Start training from score -0.000253\n",
      "Best parameters: {'learning_rate': 0.17, 'max_depth': 10, 'n_estimators': 60, 'num_leaves': 15}\n",
      "Best RMSE (CV): 27.760765835625506\n",
      "Test Set RMSE: 44.83738114187527\n"
     ]
    },
    {
     "name": "stderr",
     "output_type": "stream",
     "text": [
      "c:\\Users\\markl\\Anaconda3\\Lib\\site-packages\\sklearn\\metrics\\_regression.py:483: FutureWarning: 'squared' is deprecated in version 1.4 and will be removed in 1.6. To calculate the root mean squared error, use the function'root_mean_squared_error'.\n",
      "  warnings.warn(\n"
     ]
    }
   ],
   "source": [
    "# Initialize LGBMRegressor\n",
    "lgbm = LGBMRegressor()\n",
    "\n",
    "# TimeSeriesSplit\n",
    "tscv = TimeSeriesSplit(n_splits=5)\n",
    "\n",
    "# Hyperparameter grid\n",
    "param_grid = {\n",
    "    'num_leaves': [10, 15],\n",
    "    'max_depth': [10, 15],\n",
    "    'learning_rate': [0.2, 0.17],\n",
    "    'n_estimators': [60, 50],\n",
    "}\n",
    "\n",
    "# GridSearch with TimeSeriesSplit\n",
    "grid_search = GridSearchCV(\n",
    "    estimator=lgbm,\n",
    "    param_grid=param_grid,\n",
    "    cv=tscv,  # Use TimeSeriesSplit\n",
    "    scoring='neg_mean_squared_error',\n",
    "    verbose=2,\n",
    "    n_jobs=-1\n",
    ")\n",
    "\n",
    "# Correct order: features first, then target\n",
    "grid_search.fit(features_train, target_train)\n",
    "\n",
    "# Best parameters and RMSE\n",
    "print(\"Best parameters:\", grid_search.best_params_)\n",
    "print(\"Best RMSE (CV):\", (-grid_search.best_score_)**0.5)\n",
    "\n",
    "# Final test set evaluation\n",
    "best_model = grid_search.best_estimator_\n",
    "\n",
    "# Correct usage of predict()\n",
    "y_pred = best_model.predict(features_test)\n",
    "\n",
    "# Correct MSE calculation\n",
    "test_rmse = mean_squared_error(target_test, y_pred, squared=False)\n",
    "print(f'Test Set RMSE: {test_rmse}')"
   ]
  },
  {
   "cell_type": "code",
   "execution_count": 33,
   "metadata": {
    "scrolled": true
   },
   "outputs": [
    {
     "name": "stdout",
     "output_type": "stream",
     "text": [
      "[LightGBM] [Info] Auto-choosing col-wise multi-threading, the overhead of testing was 0.000769 seconds.\n",
      "You can set `force_col_wise=true` to remove the overhead.\n",
      "[LightGBM] [Info] Total Bins 4969\n",
      "[LightGBM] [Info] Number of data points in the train set: 3948, number of used features: 90\n",
      "[LightGBM] [Info] Start training from score -0.000253\n",
      "Training RMSE: 18.35\n",
      "Test RMSE:44.84\n"
     ]
    }
   ],
   "source": [
    "lgbm = LGBMRegressor()\n",
    "hyperparameters = {'n_estimators': 60, 'max_depth': 10, 'num_leaves': 15, 'learning_rate': 0.17}\n",
    "rmse_train, rmse_test = train_evaluate_model(lgbm, features_train, target_train, features_test, target_test, **hyperparameters)\n",
    "print(f'Training RMSE: {rmse_train:.2f}')\n",
    "print(f\"Test RMSE:{rmse_test:.2f}\")"
   ]
  },
  {
   "cell_type": "markdown",
   "metadata": {},
   "source": [
    "#### LGBM Results ####\n",
    "This model also produced an RMSE below the 48 threshold, but the Linear Regression Model still is a more effective model for our purspose with an RMSE lower by 3 points."
   ]
  },
  {
   "cell_type": "markdown",
   "metadata": {},
   "source": [
    "#### ARMA Model ####\n",
    "\n",
    "Since the adfuller method showed that this data is stationary, I'm going to apply the ARMA model to see how it does at predicting the amount of orders in the test set. "
   ]
  },
  {
   "cell_type": "code",
   "execution_count": 34,
   "metadata": {
    "scrolled": false
   },
   "outputs": [
    {
     "name": "stdout",
     "output_type": "stream",
     "text": [
      "ARMA Model Test RMSE: 74.34342740454213\n"
     ]
    }
   ],
   "source": [
    "# split the data for the ARMA model\n",
    "train_ar, test_ar = train_test_split(data, shuffle=False, test_size=.1)\n",
    "train_ar.dropna(inplace=True)\n",
    "test_ar.dropna(inplace=True)\n",
    "\n",
    "\n",
    "mod = ar_select_order(endog=train_ar, maxlag=30)\n",
    "ar_order = mod.ar_lags\n",
    "\n",
    "ar_model = AutoReg(train_ar, lags=ar_order)\n",
    "ar_model = ar_model.fit()\n",
    "\n",
    "start_value = len(train_ar)\n",
    "end_value = len(train_ar) + len(test_ar) - 1\n",
    "ar_pred = ar_model.predict(start=start_value, end=end_value, dynamic=False)\n",
    "\n",
    "ar_rmse_test = np.sqrt(mean_squared_error(test_ar, ar_pred))\n",
    "print('ARMA Model Test RMSE:', ar_rmse_test)"
   ]
  },
  {
   "cell_type": "markdown",
   "metadata": {},
   "source": [
    "#### ARMA Results ####\n",
    "The RMSE results in this model did not meet the 48 threshold, so it appears that it would be better to apply the Linear Regression model above."
   ]
  },
  {
   "cell_type": "markdown",
   "metadata": {},
   "source": [
    "#### ARIMA Model ####\n",
    "\n",
    "Since the charts above showed a possibility of non-stationary data, I think it would stil be useful to apply the ARIMA model to see if it can produce a more effect RMSE in its predictions."
   ]
  },
  {
   "cell_type": "code",
   "execution_count": 35,
   "metadata": {
    "scrolled": true
   },
   "outputs": [
    {
     "name": "stdout",
     "output_type": "stream",
     "text": [
      "Performing stepwise search to minimize aic\n",
      " ARIMA(2,1,2)(0,0,0)[0] intercept   : AIC=inf, Time=3.96 sec\n",
      " ARIMA(0,1,0)(0,0,0)[0] intercept   : AIC=39785.522, Time=0.09 sec\n",
      " ARIMA(1,1,0)(0,0,0)[0] intercept   : AIC=39407.923, Time=0.13 sec\n",
      " ARIMA(0,1,1)(0,0,0)[0] intercept   : AIC=39248.315, Time=0.53 sec\n",
      " ARIMA(0,1,0)(0,0,0)[0]             : AIC=39783.522, Time=0.05 sec\n",
      " ARIMA(1,1,1)(0,0,0)[0] intercept   : AIC=inf, Time=1.35 sec\n",
      " ARIMA(0,1,2)(0,0,0)[0] intercept   : AIC=inf, Time=1.52 sec\n",
      " ARIMA(1,1,2)(0,0,0)[0] intercept   : AIC=inf, Time=1.67 sec\n",
      " ARIMA(0,1,1)(0,0,0)[0]             : AIC=39246.314, Time=0.29 sec\n",
      " ARIMA(1,1,1)(0,0,0)[0]             : AIC=inf, Time=0.66 sec\n",
      " ARIMA(0,1,2)(0,0,0)[0]             : AIC=inf, Time=0.54 sec\n",
      " ARIMA(1,1,0)(0,0,0)[0]             : AIC=39405.923, Time=0.05 sec\n",
      " ARIMA(1,1,2)(0,0,0)[0]             : AIC=inf, Time=0.79 sec\n",
      "\n",
      "Best model:  ARIMA(0,1,1)(0,0,0)[0]          \n",
      "Total fit time: 11.643 seconds\n",
      "maxiter: 50\n",
      "method: lbfgs\n",
      "order: (0, 1, 1)\n",
      "out_of_sample_size: 0\n",
      "scoring: mse\n",
      "scoring_args: {}\n",
      "seasonal_order: (0, 0, 0, 0)\n",
      "start_params: None\n",
      "suppress_warnings: True\n",
      "trend: None\n",
      "with_intercept: False\n"
     ]
    }
   ],
   "source": [
    "# Find the optimal ARIMA model\n",
    "model = auto_arima(train_ar, trace=True, supress_warnings=True)\n",
    "\n",
    "# get info about the model\n",
    "parameters = model.get_params()\n",
    "for key, value in parameters.items():\n",
    "    print(f\"{key}: {value}\")"
   ]
  },
  {
   "cell_type": "code",
   "execution_count": 36,
   "metadata": {},
   "outputs": [
    {
     "name": "stdout",
     "output_type": "stream",
     "text": [
      "ARIMA Model Test RMSE: 62.7680945627838\n"
     ]
    }
   ],
   "source": [
    "# Set model orders\n",
    "ar_order = 0\n",
    "diff_order = 1\n",
    "ma_order = 1\n",
    "arima_full_order = (ar_order, diff_order, ma_order)\n",
    "\n",
    "# Create and fit ARIMA model\n",
    "arima_model = ARIMA(train_ar, order=arima_full_order)\n",
    "arima_model = arima_model.fit()\n",
    "\n",
    "# Generate predictions\n",
    "start_index = len(train_ar)\n",
    "end_index = len(train_ar) + len(test_ar) - 1 \n",
    "\n",
    "arima_pred = arima_model.predict(start=start_index, end=end_index, dynamic=False)\n",
    "\n",
    "# Compute RMSE\n",
    "arima_rmse_test = np.sqrt(mean_squared_error(test_ar, arima_pred))\n",
    "print('ARIMA Model Test RMSE:', arima_rmse_test)"
   ]
  },
  {
   "cell_type": "markdown",
   "metadata": {},
   "source": [
    "## Conclusion ##\n",
    "\n",
    "Sweet Ride Taxi Company tasked me to be able to predict how many rides will be orderd in the next hour. They provided a timeseries dataset that spanned from March of 2018 through August of 2018. I checked the data for stationarity, trends, and seasonality. I found that while looking at the data in chart form it was slightly non-stationary. However when I applied the adfuller method, the p-value fell below the .05 threshold suggesting that the data was infact stationary.\n",
    "\n",
    "When it came time to build predictive models however, the only models that were able to produce RMSE values below 48 (the target value given by Sweet Ride) were the ones that used the data that was corrected for stationarity. \n",
    "\n",
    "The Linear Regression model was able to produce an RMSE value on the test set of 41.86, the LGBM model also made it below the 48 threshold at 44.84. The ARMA model and ARIMA models were unable to meet the need for the RMSE to be below 48. And, while the ARIMA model(62.8) outperformed the ARMA (74.3) one, neither were good matches for this work.\n",
    "\n",
    "This sugggests that the best model for Sweet Ride Taxi Company to use would be the Linear Regression predictive model. "
   ]
  }
 ],
 "metadata": {
  "ExecuteTimeLog": [
   {
    "duration": 2859,
    "start_time": "2025-01-27T17:39:24.151Z"
   },
   {
    "duration": 30,
    "start_time": "2025-01-27T17:39:28.656Z"
   },
   {
    "duration": 5,
    "start_time": "2025-01-27T17:40:28.562Z"
   },
   {
    "duration": 31,
    "start_time": "2025-01-27T17:40:56.519Z"
   },
   {
    "duration": 4,
    "start_time": "2025-01-27T17:41:10.069Z"
   },
   {
    "duration": 397136,
    "start_time": "2025-01-27T17:41:17.119Z"
   },
   {
    "duration": 304,
    "start_time": "2025-01-27T17:47:54.257Z"
   },
   {
    "duration": 1076,
    "start_time": "2025-01-27T17:49:24.124Z"
   },
   {
    "duration": 23,
    "start_time": "2025-01-27T17:49:25.202Z"
   },
   {
    "duration": 314,
    "start_time": "2025-01-27T17:49:25.226Z"
   },
   {
    "duration": 0,
    "start_time": "2025-01-27T17:49:25.542Z"
   },
   {
    "duration": 4,
    "start_time": "2025-01-27T17:49:36.720Z"
   },
   {
    "duration": 400080,
    "start_time": "2025-01-27T17:50:41.534Z"
   },
   {
    "duration": 188,
    "start_time": "2025-01-27T20:10:42.471Z"
   },
   {
    "duration": 207,
    "start_time": "2025-01-27T20:10:51.354Z"
   },
   {
    "duration": 2819,
    "start_time": "2025-01-27T20:36:27.063Z"
   },
   {
    "duration": 223,
    "start_time": "2025-01-27T20:36:29.884Z"
   },
   {
    "duration": 200,
    "start_time": "2025-01-27T20:37:13.018Z"
   },
   {
    "duration": 204,
    "start_time": "2025-01-27T20:37:22.464Z"
   },
   {
    "duration": 492,
    "start_time": "2025-01-27T20:37:54.956Z"
   },
   {
    "duration": 38,
    "start_time": "2025-01-27T20:38:05.076Z"
   },
   {
    "duration": 36,
    "start_time": "2025-01-27T20:38:09.852Z"
   },
   {
    "duration": 198,
    "start_time": "2025-01-27T20:38:14.547Z"
   },
   {
    "duration": 202,
    "start_time": "2025-01-27T20:38:34.323Z"
   },
   {
    "duration": 214,
    "start_time": "2025-01-27T20:38:41.265Z"
   },
   {
    "duration": 202,
    "start_time": "2025-01-27T20:38:50.069Z"
   },
   {
    "duration": 298,
    "start_time": "2025-01-27T20:39:01.556Z"
   },
   {
    "duration": 206,
    "start_time": "2025-01-27T20:39:14.826Z"
   },
   {
    "duration": 226,
    "start_time": "2025-01-27T21:23:25.568Z"
   },
   {
    "duration": 35,
    "start_time": "2025-01-27T21:24:10.577Z"
   },
   {
    "duration": 15,
    "start_time": "2025-01-27T21:54:02.943Z"
   },
   {
    "duration": 28,
    "start_time": "2025-01-27T21:54:35.774Z"
   },
   {
    "duration": 4,
    "start_time": "2025-01-27T21:54:40.437Z"
   },
   {
    "duration": 27,
    "start_time": "2025-01-27T21:54:45.539Z"
   },
   {
    "duration": 5,
    "start_time": "2025-01-27T21:55:11.766Z"
   },
   {
    "duration": 8,
    "start_time": "2025-01-27T21:55:34.986Z"
   },
   {
    "duration": 4,
    "start_time": "2025-01-27T21:56:19.163Z"
   },
   {
    "duration": 559,
    "start_time": "2025-01-27T21:56:20.172Z"
   },
   {
    "duration": 80,
    "start_time": "2025-01-27T22:31:16.688Z"
   },
   {
    "duration": 227,
    "start_time": "2025-01-27T22:32:16.463Z"
   },
   {
    "duration": 525,
    "start_time": "2025-01-27T22:32:24.594Z"
   },
   {
    "duration": 2827,
    "start_time": "2025-01-28T19:07:14.453Z"
   },
   {
    "duration": 347,
    "start_time": "2025-01-28T19:07:19.617Z"
   },
   {
    "duration": 18,
    "start_time": "2025-01-28T19:07:26.927Z"
   },
   {
    "duration": 4,
    "start_time": "2025-01-28T19:50:30.553Z"
   },
   {
    "duration": 21,
    "start_time": "2025-01-28T19:50:31.954Z"
   },
   {
    "duration": 31,
    "start_time": "2025-01-28T19:53:44.482Z"
   },
   {
    "duration": 25,
    "start_time": "2025-01-28T19:55:08.143Z"
   },
   {
    "duration": 24,
    "start_time": "2025-01-28T19:58:08.594Z"
   },
   {
    "duration": 24,
    "start_time": "2025-01-28T19:58:21.693Z"
   },
   {
    "duration": 25,
    "start_time": "2025-01-28T19:59:40.063Z"
   },
   {
    "duration": 26,
    "start_time": "2025-01-28T20:00:11.197Z"
   },
   {
    "duration": 26,
    "start_time": "2025-01-28T20:00:24.684Z"
   },
   {
    "duration": 197,
    "start_time": "2025-01-28T20:01:16.353Z"
   },
   {
    "duration": 7,
    "start_time": "2025-01-28T20:04:48.535Z"
   },
   {
    "duration": 3,
    "start_time": "2025-01-28T20:05:16.991Z"
   },
   {
    "duration": 5,
    "start_time": "2025-01-28T20:06:32.710Z"
   },
   {
    "duration": 5,
    "start_time": "2025-01-28T20:07:18.377Z"
   },
   {
    "duration": 5,
    "start_time": "2025-01-28T20:08:25.394Z"
   },
   {
    "duration": 31,
    "start_time": "2025-01-28T20:12:19.222Z"
   },
   {
    "duration": 3,
    "start_time": "2025-01-28T20:19:27.803Z"
   },
   {
    "duration": 164,
    "start_time": "2025-01-28T20:20:06.407Z"
   },
   {
    "duration": 3,
    "start_time": "2025-01-28T20:21:24.645Z"
   },
   {
    "duration": 184,
    "start_time": "2025-01-28T20:21:28.314Z"
   },
   {
    "duration": 4,
    "start_time": "2025-01-28T20:32:58.201Z"
   },
   {
    "duration": 152,
    "start_time": "2025-01-28T20:33:00.355Z"
   },
   {
    "duration": 122,
    "start_time": "2025-01-28T20:38:45.930Z"
   },
   {
    "duration": 166,
    "start_time": "2025-01-28T20:44:53.428Z"
   },
   {
    "duration": 3,
    "start_time": "2025-01-28T20:47:09.602Z"
   },
   {
    "duration": 523,
    "start_time": "2025-01-28T20:53:34.634Z"
   },
   {
    "duration": 319,
    "start_time": "2025-01-28T20:56:42.712Z"
   },
   {
    "duration": 504,
    "start_time": "2025-01-28T20:57:18.967Z"
   },
   {
    "duration": 257,
    "start_time": "2025-01-28T21:00:22.544Z"
   },
   {
    "duration": 3,
    "start_time": "2025-01-28T21:16:05.676Z"
   },
   {
    "duration": 454,
    "start_time": "2025-01-28T21:17:28.939Z"
   },
   {
    "duration": 3,
    "start_time": "2025-01-28T21:18:08.644Z"
   },
   {
    "duration": 7,
    "start_time": "2025-01-28T21:18:13.264Z"
   },
   {
    "duration": 11,
    "start_time": "2025-01-28T21:18:28.122Z"
   },
   {
    "duration": 9,
    "start_time": "2025-01-28T21:19:29.595Z"
   },
   {
    "duration": 14,
    "start_time": "2025-01-28T21:19:30.646Z"
   },
   {
    "duration": 7,
    "start_time": "2025-01-28T21:19:39.162Z"
   },
   {
    "duration": 15,
    "start_time": "2025-01-28T21:19:40.114Z"
   },
   {
    "duration": 6,
    "start_time": "2025-01-28T21:20:38.399Z"
   },
   {
    "duration": 15,
    "start_time": "2025-01-28T21:20:38.836Z"
   },
   {
    "duration": 1069,
    "start_time": "2025-01-28T21:21:10.769Z"
   },
   {
    "duration": 33,
    "start_time": "2025-01-28T21:21:11.840Z"
   },
   {
    "duration": 32,
    "start_time": "2025-01-28T21:21:11.874Z"
   },
   {
    "duration": 5,
    "start_time": "2025-01-28T21:21:11.908Z"
   },
   {
    "duration": 203,
    "start_time": "2025-01-28T21:21:11.916Z"
   },
   {
    "duration": 4,
    "start_time": "2025-01-28T21:21:12.121Z"
   },
   {
    "duration": 167,
    "start_time": "2025-01-28T21:21:12.126Z"
   },
   {
    "duration": 3,
    "start_time": "2025-01-28T21:21:12.296Z"
   },
   {
    "duration": 178,
    "start_time": "2025-01-28T21:21:12.300Z"
   },
   {
    "duration": 514,
    "start_time": "2025-01-28T21:21:12.480Z"
   },
   {
    "duration": 223,
    "start_time": "2025-01-28T21:21:12.996Z"
   },
   {
    "duration": 4,
    "start_time": "2025-01-28T21:21:13.220Z"
   },
   {
    "duration": 10,
    "start_time": "2025-01-28T21:21:13.226Z"
   },
   {
    "duration": 12,
    "start_time": "2025-01-28T21:21:13.239Z"
   },
   {
    "duration": 5,
    "start_time": "2025-01-28T21:56:42.961Z"
   },
   {
    "duration": 11,
    "start_time": "2025-01-28T21:58:44.222Z"
   },
   {
    "duration": 20,
    "start_time": "2025-01-28T22:01:07.580Z"
   },
   {
    "duration": 11,
    "start_time": "2025-01-28T23:19:24.544Z"
   },
   {
    "duration": 274,
    "start_time": "2025-01-28T23:23:51.319Z"
   },
   {
    "duration": 3,
    "start_time": "2025-01-28T23:25:16.171Z"
   },
   {
    "duration": 17,
    "start_time": "2025-01-28T23:25:26.556Z"
   },
   {
    "duration": 190,
    "start_time": "2025-01-28T23:25:42.881Z"
   },
   {
    "duration": 18,
    "start_time": "2025-01-28T23:25:53.854Z"
   },
   {
    "duration": 28,
    "start_time": "2025-01-28T23:26:21.851Z"
   },
   {
    "duration": 21,
    "start_time": "2025-01-28T23:28:14.356Z"
   },
   {
    "duration": 1084,
    "start_time": "2025-01-28T23:35:18.214Z"
   },
   {
    "duration": 31,
    "start_time": "2025-01-28T23:35:19.301Z"
   },
   {
    "duration": 41,
    "start_time": "2025-01-28T23:35:19.333Z"
   },
   {
    "duration": 4,
    "start_time": "2025-01-28T23:35:19.375Z"
   },
   {
    "duration": 197,
    "start_time": "2025-01-28T23:35:19.382Z"
   },
   {
    "duration": 4,
    "start_time": "2025-01-28T23:35:19.580Z"
   },
   {
    "duration": 165,
    "start_time": "2025-01-28T23:35:19.586Z"
   },
   {
    "duration": 4,
    "start_time": "2025-01-28T23:35:19.753Z"
   },
   {
    "duration": 176,
    "start_time": "2025-01-28T23:35:19.758Z"
   },
   {
    "duration": 536,
    "start_time": "2025-01-28T23:35:19.935Z"
   },
   {
    "duration": 224,
    "start_time": "2025-01-28T23:35:20.473Z"
   },
   {
    "duration": 4,
    "start_time": "2025-01-28T23:35:20.699Z"
   },
   {
    "duration": 9,
    "start_time": "2025-01-28T23:35:20.705Z"
   },
   {
    "duration": 13,
    "start_time": "2025-01-28T23:35:20.717Z"
   },
   {
    "duration": 7,
    "start_time": "2025-01-28T23:35:20.732Z"
   },
   {
    "duration": 10,
    "start_time": "2025-01-28T23:35:20.769Z"
   },
   {
    "duration": 19,
    "start_time": "2025-01-28T23:35:20.781Z"
   },
   {
    "duration": 1131,
    "start_time": "2025-01-28T23:37:28.490Z"
   },
   {
    "duration": 29,
    "start_time": "2025-01-28T23:37:29.623Z"
   },
   {
    "duration": 41,
    "start_time": "2025-01-28T23:37:29.654Z"
   },
   {
    "duration": 4,
    "start_time": "2025-01-28T23:37:29.697Z"
   },
   {
    "duration": 196,
    "start_time": "2025-01-28T23:37:29.702Z"
   },
   {
    "duration": 5,
    "start_time": "2025-01-28T23:37:29.900Z"
   },
   {
    "duration": 175,
    "start_time": "2025-01-28T23:37:29.906Z"
   },
   {
    "duration": 3,
    "start_time": "2025-01-28T23:37:30.082Z"
   },
   {
    "duration": 174,
    "start_time": "2025-01-28T23:37:30.087Z"
   },
   {
    "duration": 506,
    "start_time": "2025-01-28T23:37:30.264Z"
   },
   {
    "duration": 229,
    "start_time": "2025-01-28T23:37:30.772Z"
   },
   {
    "duration": 4,
    "start_time": "2025-01-28T23:37:31.003Z"
   },
   {
    "duration": 11,
    "start_time": "2025-01-28T23:37:31.008Z"
   },
   {
    "duration": 17,
    "start_time": "2025-01-28T23:37:31.020Z"
   },
   {
    "duration": 32,
    "start_time": "2025-01-28T23:37:31.040Z"
   },
   {
    "duration": 10,
    "start_time": "2025-01-28T23:37:31.076Z"
   },
   {
    "duration": 81,
    "start_time": "2025-01-28T23:37:31.088Z"
   },
   {
    "duration": 3,
    "start_time": "2025-01-28T23:42:14.243Z"
   },
   {
    "duration": 8,
    "start_time": "2025-01-28T23:42:16.564Z"
   },
   {
    "duration": 14,
    "start_time": "2025-01-28T23:42:18.532Z"
   },
   {
    "duration": 8,
    "start_time": "2025-01-28T23:42:42.128Z"
   },
   {
    "duration": 11,
    "start_time": "2025-01-28T23:42:43.858Z"
   },
   {
    "duration": 31,
    "start_time": "2025-01-28T23:42:45.653Z"
   },
   {
    "duration": 275,
    "start_time": "2025-01-29T00:51:28.435Z"
   },
   {
    "duration": 9,
    "start_time": "2025-01-29T00:52:11.189Z"
   },
   {
    "duration": 14,
    "start_time": "2025-01-29T00:52:17.187Z"
   },
   {
    "duration": 8,
    "start_time": "2025-01-29T00:52:26.596Z"
   },
   {
    "duration": 13,
    "start_time": "2025-01-29T00:52:27.063Z"
   },
   {
    "duration": 20,
    "start_time": "2025-01-29T00:52:27.614Z"
   },
   {
    "duration": 9,
    "start_time": "2025-01-29T01:27:05.477Z"
   },
   {
    "duration": 13,
    "start_time": "2025-01-29T01:27:06.119Z"
   },
   {
    "duration": 39,
    "start_time": "2025-01-29T01:27:06.855Z"
   },
   {
    "duration": 7,
    "start_time": "2025-01-29T01:28:10.144Z"
   },
   {
    "duration": 13,
    "start_time": "2025-01-29T01:28:12.386Z"
   },
   {
    "duration": 10,
    "start_time": "2025-01-29T01:28:15.537Z"
   },
   {
    "duration": 12,
    "start_time": "2025-01-29T01:28:15.980Z"
   },
   {
    "duration": 28,
    "start_time": "2025-01-29T01:28:16.514Z"
   },
   {
    "duration": 1085,
    "start_time": "2025-01-29T01:28:20.430Z"
   },
   {
    "duration": 31,
    "start_time": "2025-01-29T01:28:21.517Z"
   },
   {
    "duration": 52,
    "start_time": "2025-01-29T01:28:21.549Z"
   },
   {
    "duration": 5,
    "start_time": "2025-01-29T01:28:21.603Z"
   },
   {
    "duration": 206,
    "start_time": "2025-01-29T01:28:21.612Z"
   },
   {
    "duration": 6,
    "start_time": "2025-01-29T01:28:21.820Z"
   },
   {
    "duration": 174,
    "start_time": "2025-01-29T01:28:21.829Z"
   },
   {
    "duration": 3,
    "start_time": "2025-01-29T01:28:22.005Z"
   },
   {
    "duration": 176,
    "start_time": "2025-01-29T01:28:22.010Z"
   },
   {
    "duration": 507,
    "start_time": "2025-01-29T01:28:22.188Z"
   },
   {
    "duration": 239,
    "start_time": "2025-01-29T01:28:22.697Z"
   },
   {
    "duration": 6,
    "start_time": "2025-01-29T01:28:22.938Z"
   },
   {
    "duration": 11,
    "start_time": "2025-01-29T01:28:22.946Z"
   },
   {
    "duration": 21,
    "start_time": "2025-01-29T01:28:22.960Z"
   },
   {
    "duration": 10,
    "start_time": "2025-01-29T01:28:22.982Z"
   },
   {
    "duration": 11,
    "start_time": "2025-01-29T01:28:22.993Z"
   },
   {
    "duration": 16,
    "start_time": "2025-01-29T01:28:23.006Z"
   },
   {
    "duration": 8,
    "start_time": "2025-01-29T01:29:20.346Z"
   },
   {
    "duration": 12,
    "start_time": "2025-01-29T01:29:30.714Z"
   },
   {
    "duration": 21,
    "start_time": "2025-01-29T01:29:31.761Z"
   },
   {
    "duration": 21,
    "start_time": "2025-01-29T01:30:38.179Z"
   },
   {
    "duration": 3,
    "start_time": "2025-01-29T01:35:21.472Z"
   },
   {
    "duration": 260,
    "start_time": "2025-01-29T01:36:34.012Z"
   },
   {
    "duration": 4,
    "start_time": "2025-01-29T01:36:55.043Z"
   },
   {
    "duration": 1078,
    "start_time": "2025-01-29T01:37:09.310Z"
   },
   {
    "duration": 17,
    "start_time": "2025-01-29T01:38:30.086Z"
   },
   {
    "duration": 4,
    "start_time": "2025-01-29T01:38:58.123Z"
   },
   {
    "duration": 40902,
    "start_time": "2025-01-29T01:39:07.175Z"
   },
   {
    "duration": 17510,
    "start_time": "2025-01-29T01:41:09.770Z"
   },
   {
    "duration": 7340,
    "start_time": "2025-01-29T01:43:22.535Z"
   },
   {
    "duration": 5755,
    "start_time": "2025-01-29T01:45:03.618Z"
   },
   {
    "duration": 5441,
    "start_time": "2025-01-29T01:46:53.339Z"
   },
   {
    "duration": 54,
    "start_time": "2025-01-29T01:48:45.920Z"
   },
   {
    "duration": 4,
    "start_time": "2025-01-29T01:52:53.377Z"
   },
   {
    "duration": 87,
    "start_time": "2025-01-29T01:52:55.687Z"
   },
   {
    "duration": 18,
    "start_time": "2025-01-29T01:55:55.353Z"
   },
   {
    "duration": 3,
    "start_time": "2025-01-29T01:56:02.343Z"
   },
   {
    "duration": 5289,
    "start_time": "2025-01-29T01:56:08.101Z"
   },
   {
    "duration": 7521,
    "start_time": "2025-01-29T01:59:24.154Z"
   },
   {
    "duration": 6294,
    "start_time": "2025-01-29T02:01:09.491Z"
   },
   {
    "duration": 7187,
    "start_time": "2025-01-29T02:03:51.983Z"
   },
   {
    "duration": 44,
    "start_time": "2025-01-29T02:04:54.335Z"
   },
   {
    "duration": 4,
    "start_time": "2025-01-29T02:15:09.986Z"
   },
   {
    "duration": 17,
    "start_time": "2025-01-29T02:16:02.084Z"
   },
   {
    "duration": 22,
    "start_time": "2025-01-29T02:16:13.815Z"
   },
   {
    "duration": 19,
    "start_time": "2025-01-29T02:16:21.351Z"
   },
   {
    "duration": 1527,
    "start_time": "2025-01-29T02:16:49.758Z"
   },
   {
    "duration": 16,
    "start_time": "2025-01-29T02:18:07.738Z"
   },
   {
    "duration": 52,
    "start_time": "2025-01-29T02:18:14.422Z"
   },
   {
    "duration": 1108,
    "start_time": "2025-01-29T02:20:23.743Z"
   },
   {
    "duration": 33,
    "start_time": "2025-01-29T02:20:24.854Z"
   },
   {
    "duration": 30,
    "start_time": "2025-01-29T02:20:24.889Z"
   },
   {
    "duration": 4,
    "start_time": "2025-01-29T02:20:24.920Z"
   },
   {
    "duration": 213,
    "start_time": "2025-01-29T02:20:24.927Z"
   },
   {
    "duration": 3,
    "start_time": "2025-01-29T02:20:25.142Z"
   },
   {
    "duration": 183,
    "start_time": "2025-01-29T02:20:25.147Z"
   },
   {
    "duration": 3,
    "start_time": "2025-01-29T02:20:25.335Z"
   },
   {
    "duration": 172,
    "start_time": "2025-01-29T02:20:25.340Z"
   },
   {
    "duration": 557,
    "start_time": "2025-01-29T02:20:25.513Z"
   },
   {
    "duration": 165,
    "start_time": "2025-01-29T02:20:26.072Z"
   },
   {
    "duration": 4,
    "start_time": "2025-01-29T02:20:26.239Z"
   },
   {
    "duration": 12,
    "start_time": "2025-01-29T02:20:26.244Z"
   },
   {
    "duration": 17,
    "start_time": "2025-01-29T02:20:26.272Z"
   },
   {
    "duration": 10,
    "start_time": "2025-01-29T02:20:26.291Z"
   },
   {
    "duration": 14,
    "start_time": "2025-01-29T02:20:26.303Z"
   },
   {
    "duration": 7,
    "start_time": "2025-01-29T02:20:26.320Z"
   },
   {
    "duration": 346,
    "start_time": "2025-01-29T02:20:26.331Z"
   },
   {
    "duration": 1933,
    "start_time": "2025-01-29T02:20:26.681Z"
   },
   {
    "duration": 78,
    "start_time": "2025-01-29T02:20:28.615Z"
   },
   {
    "duration": 1094,
    "start_time": "2025-01-29T02:20:58.073Z"
   },
   {
    "duration": 30,
    "start_time": "2025-01-29T02:20:59.169Z"
   },
   {
    "duration": 31,
    "start_time": "2025-01-29T02:20:59.204Z"
   },
   {
    "duration": 3,
    "start_time": "2025-01-29T02:20:59.238Z"
   },
   {
    "duration": 212,
    "start_time": "2025-01-29T02:20:59.243Z"
   },
   {
    "duration": 4,
    "start_time": "2025-01-29T02:20:59.456Z"
   },
   {
    "duration": 168,
    "start_time": "2025-01-29T02:20:59.462Z"
   },
   {
    "duration": 3,
    "start_time": "2025-01-29T02:20:59.632Z"
   },
   {
    "duration": 172,
    "start_time": "2025-01-29T02:20:59.638Z"
   },
   {
    "duration": 571,
    "start_time": "2025-01-29T02:20:59.812Z"
   },
   {
    "duration": 164,
    "start_time": "2025-01-29T02:21:00.384Z"
   },
   {
    "duration": 3,
    "start_time": "2025-01-29T02:21:00.550Z"
   },
   {
    "duration": 17,
    "start_time": "2025-01-29T02:21:00.555Z"
   },
   {
    "duration": 18,
    "start_time": "2025-01-29T02:21:00.574Z"
   },
   {
    "duration": 8,
    "start_time": "2025-01-29T02:21:00.594Z"
   },
   {
    "duration": 11,
    "start_time": "2025-01-29T02:21:00.603Z"
   },
   {
    "duration": 3,
    "start_time": "2025-01-29T02:21:00.616Z"
   },
   {
    "duration": 250,
    "start_time": "2025-01-29T02:21:00.621Z"
   },
   {
    "duration": 2516,
    "start_time": "2025-01-29T02:21:00.873Z"
   },
   {
    "duration": 81,
    "start_time": "2025-01-29T02:21:03.391Z"
   },
   {
    "duration": 1176,
    "start_time": "2025-01-29T02:21:24.986Z"
   },
   {
    "duration": 33,
    "start_time": "2025-01-29T02:21:26.165Z"
   },
   {
    "duration": 30,
    "start_time": "2025-01-29T02:21:26.199Z"
   },
   {
    "duration": 4,
    "start_time": "2025-01-29T02:21:26.231Z"
   },
   {
    "duration": 207,
    "start_time": "2025-01-29T02:21:26.237Z"
   },
   {
    "duration": 4,
    "start_time": "2025-01-29T02:21:26.446Z"
   },
   {
    "duration": 185,
    "start_time": "2025-01-29T02:21:26.452Z"
   },
   {
    "duration": 4,
    "start_time": "2025-01-29T02:21:26.639Z"
   },
   {
    "duration": 181,
    "start_time": "2025-01-29T02:21:26.645Z"
   },
   {
    "duration": 571,
    "start_time": "2025-01-29T02:21:26.828Z"
   },
   {
    "duration": 163,
    "start_time": "2025-01-29T02:21:27.401Z"
   },
   {
    "duration": 4,
    "start_time": "2025-01-29T02:21:27.566Z"
   },
   {
    "duration": 17,
    "start_time": "2025-01-29T02:21:27.571Z"
   },
   {
    "duration": 18,
    "start_time": "2025-01-29T02:21:27.591Z"
   },
   {
    "duration": 9,
    "start_time": "2025-01-29T02:21:27.611Z"
   },
   {
    "duration": 12,
    "start_time": "2025-01-29T02:21:27.621Z"
   },
   {
    "duration": 4,
    "start_time": "2025-01-29T02:21:27.635Z"
   },
   {
    "duration": 354,
    "start_time": "2025-01-29T02:21:27.640Z"
   },
   {
    "duration": 3813,
    "start_time": "2025-01-29T02:21:27.995Z"
   },
   {
    "duration": 70,
    "start_time": "2025-01-29T02:21:31.810Z"
   },
   {
    "duration": 1884,
    "start_time": "2025-01-29T02:21:55.211Z"
   },
   {
    "duration": 2841,
    "start_time": "2025-01-29T02:22:04.523Z"
   },
   {
    "duration": 3835,
    "start_time": "2025-01-29T02:22:12.299Z"
   },
   {
    "duration": 4440,
    "start_time": "2025-01-29T02:22:21.142Z"
   },
   {
    "duration": 4620,
    "start_time": "2025-01-29T02:22:31.295Z"
   },
   {
    "duration": 4301,
    "start_time": "2025-01-29T02:22:48.257Z"
   },
   {
    "duration": 263,
    "start_time": "2025-01-29T02:31:17.772Z"
   },
   {
    "duration": 1125,
    "start_time": "2025-01-29T02:31:22.980Z"
   },
   {
    "duration": 30,
    "start_time": "2025-01-29T02:31:24.108Z"
   },
   {
    "duration": 43,
    "start_time": "2025-01-29T02:31:24.140Z"
   },
   {
    "duration": 4,
    "start_time": "2025-01-29T02:31:24.185Z"
   },
   {
    "duration": 199,
    "start_time": "2025-01-29T02:31:24.191Z"
   },
   {
    "duration": 4,
    "start_time": "2025-01-29T02:31:24.392Z"
   },
   {
    "duration": 165,
    "start_time": "2025-01-29T02:31:24.398Z"
   },
   {
    "duration": 6,
    "start_time": "2025-01-29T02:31:24.565Z"
   },
   {
    "duration": 172,
    "start_time": "2025-01-29T02:31:24.573Z"
   },
   {
    "duration": 599,
    "start_time": "2025-01-29T02:31:24.747Z"
   },
   {
    "duration": 162,
    "start_time": "2025-01-29T02:31:25.348Z"
   },
   {
    "duration": 4,
    "start_time": "2025-01-29T02:31:25.511Z"
   },
   {
    "duration": 16,
    "start_time": "2025-01-29T02:31:25.517Z"
   },
   {
    "duration": 36,
    "start_time": "2025-01-29T02:31:25.535Z"
   },
   {
    "duration": 10,
    "start_time": "2025-01-29T02:31:25.572Z"
   },
   {
    "duration": 11,
    "start_time": "2025-01-29T02:31:25.583Z"
   },
   {
    "duration": 4,
    "start_time": "2025-01-29T02:31:25.596Z"
   },
   {
    "duration": 378,
    "start_time": "2025-01-29T02:31:25.601Z"
   },
   {
    "duration": 4400,
    "start_time": "2025-01-29T02:31:25.982Z"
   },
   {
    "duration": 94,
    "start_time": "2025-01-29T02:31:30.384Z"
   },
   {
    "duration": 143,
    "start_time": "2025-01-29T02:31:30.479Z"
   },
   {
    "duration": 88,
    "start_time": "2025-01-29T02:31:46.714Z"
   },
   {
    "duration": 95,
    "start_time": "2025-01-29T02:31:53.399Z"
   },
   {
    "duration": 50,
    "start_time": "2025-01-29T02:31:58.711Z"
   },
   {
    "duration": 51,
    "start_time": "2025-01-29T02:32:07.027Z"
   },
   {
    "duration": 51,
    "start_time": "2025-01-29T02:32:14.299Z"
   },
   {
    "duration": 50,
    "start_time": "2025-01-29T02:32:18.852Z"
   },
   {
    "duration": 49,
    "start_time": "2025-01-29T02:32:28.423Z"
   },
   {
    "duration": 49,
    "start_time": "2025-01-29T02:32:32.954Z"
   },
   {
    "duration": 48,
    "start_time": "2025-01-29T02:32:39.391Z"
   },
   {
    "duration": 49,
    "start_time": "2025-01-29T02:32:45.556Z"
   },
   {
    "duration": 50,
    "start_time": "2025-01-29T02:32:50.938Z"
   },
   {
    "duration": 54,
    "start_time": "2025-01-29T02:32:55.590Z"
   },
   {
    "duration": 43,
    "start_time": "2025-01-29T02:33:02.640Z"
   },
   {
    "duration": 38,
    "start_time": "2025-01-29T02:33:06.928Z"
   },
   {
    "duration": 44,
    "start_time": "2025-01-29T02:33:12.312Z"
   },
   {
    "duration": 54,
    "start_time": "2025-01-29T02:34:43.870Z"
   },
   {
    "duration": 304,
    "start_time": "2025-01-29T02:38:10.334Z"
   },
   {
    "duration": 2639,
    "start_time": "2025-01-29T02:38:47.167Z"
   },
   {
    "duration": 166,
    "start_time": "2025-01-29T20:56:37.482Z"
   },
   {
    "duration": 2821,
    "start_time": "2025-01-29T20:56:46.378Z"
   },
   {
    "duration": 41,
    "start_time": "2025-01-29T20:56:49.201Z"
   },
   {
    "duration": 31,
    "start_time": "2025-01-29T20:56:49.243Z"
   },
   {
    "duration": 3,
    "start_time": "2025-01-29T20:56:49.277Z"
   },
   {
    "duration": 196,
    "start_time": "2025-01-29T20:56:49.282Z"
   },
   {
    "duration": 4,
    "start_time": "2025-01-29T20:56:49.479Z"
   },
   {
    "duration": 170,
    "start_time": "2025-01-29T20:56:49.485Z"
   },
   {
    "duration": 4,
    "start_time": "2025-01-29T20:56:49.657Z"
   },
   {
    "duration": 175,
    "start_time": "2025-01-29T20:56:49.662Z"
   },
   {
    "duration": 541,
    "start_time": "2025-01-29T20:56:49.841Z"
   },
   {
    "duration": 162,
    "start_time": "2025-01-29T20:56:50.383Z"
   },
   {
    "duration": 5,
    "start_time": "2025-01-29T20:56:50.548Z"
   },
   {
    "duration": 4,
    "start_time": "2025-01-29T20:56:50.555Z"
   },
   {
    "duration": 19,
    "start_time": "2025-01-29T20:56:50.561Z"
   },
   {
    "duration": 44,
    "start_time": "2025-01-29T20:56:50.582Z"
   },
   {
    "duration": 9,
    "start_time": "2025-01-29T20:56:50.628Z"
   },
   {
    "duration": 11,
    "start_time": "2025-01-29T20:56:50.638Z"
   },
   {
    "duration": 3,
    "start_time": "2025-01-29T20:56:50.650Z"
   },
   {
    "duration": 358,
    "start_time": "2025-01-29T20:56:50.654Z"
   },
   {
    "duration": 4390,
    "start_time": "2025-01-29T20:56:51.015Z"
   },
   {
    "duration": 21,
    "start_time": "2025-01-29T20:56:55.407Z"
   },
   {
    "duration": 188,
    "start_time": "2025-01-29T20:56:55.430Z"
   },
   {
    "duration": 2722,
    "start_time": "2025-01-29T20:56:55.620Z"
   },
   {
    "duration": 133,
    "start_time": "2025-01-29T20:57:31.551Z"
   },
   {
    "duration": 1107,
    "start_time": "2025-01-29T21:05:25.045Z"
   },
   {
    "duration": 1064,
    "start_time": "2025-01-29T21:09:20.053Z"
   },
   {
    "duration": 2996,
    "start_time": "2025-01-30T21:20:39.689Z"
   },
   {
    "duration": 44,
    "start_time": "2025-01-30T21:20:42.687Z"
   },
   {
    "duration": 32,
    "start_time": "2025-01-30T21:20:42.735Z"
   },
   {
    "duration": 8,
    "start_time": "2025-01-30T21:20:42.770Z"
   },
   {
    "duration": 229,
    "start_time": "2025-01-30T21:20:42.780Z"
   },
   {
    "duration": 4,
    "start_time": "2025-01-30T21:20:43.010Z"
   },
   {
    "duration": 173,
    "start_time": "2025-01-30T21:20:43.016Z"
   },
   {
    "duration": 3,
    "start_time": "2025-01-30T21:20:43.191Z"
   },
   {
    "duration": 193,
    "start_time": "2025-01-30T21:20:43.196Z"
   },
   {
    "duration": 542,
    "start_time": "2025-01-30T21:20:43.391Z"
   },
   {
    "duration": 169,
    "start_time": "2025-01-30T21:20:43.936Z"
   },
   {
    "duration": 1065,
    "start_time": "2025-01-30T21:20:44.108Z"
   },
   {
    "duration": 4,
    "start_time": "2025-01-30T21:20:45.176Z"
   },
   {
    "duration": 29,
    "start_time": "2025-01-30T21:20:45.182Z"
   },
   {
    "duration": 20,
    "start_time": "2025-01-30T21:20:45.212Z"
   },
   {
    "duration": 9,
    "start_time": "2025-01-30T21:20:45.234Z"
   },
   {
    "duration": 12,
    "start_time": "2025-01-30T21:20:45.245Z"
   },
   {
    "duration": 5,
    "start_time": "2025-01-30T21:20:45.261Z"
   },
   {
    "duration": 347,
    "start_time": "2025-01-30T21:20:45.268Z"
   },
   {
    "duration": 4440,
    "start_time": "2025-01-30T21:20:45.617Z"
   },
   {
    "duration": 61,
    "start_time": "2025-01-30T21:20:50.060Z"
   },
   {
    "duration": 124,
    "start_time": "2025-01-30T21:20:50.122Z"
   },
   {
    "duration": 2861,
    "start_time": "2025-01-30T21:20:50.249Z"
   },
   {
    "duration": 529,
    "start_time": "2025-01-30T21:39:27.894Z"
   },
   {
    "duration": 1199,
    "start_time": "2025-01-30T21:39:32.955Z"
   },
   {
    "duration": 34,
    "start_time": "2025-01-30T21:39:34.157Z"
   },
   {
    "duration": 44,
    "start_time": "2025-01-30T21:39:34.193Z"
   },
   {
    "duration": 4,
    "start_time": "2025-01-30T21:39:34.239Z"
   },
   {
    "duration": 205,
    "start_time": "2025-01-30T21:39:34.246Z"
   },
   {
    "duration": 3,
    "start_time": "2025-01-30T21:39:34.453Z"
   },
   {
    "duration": 172,
    "start_time": "2025-01-30T21:39:34.458Z"
   },
   {
    "duration": 3,
    "start_time": "2025-01-30T21:39:34.632Z"
   },
   {
    "duration": 242,
    "start_time": "2025-01-30T21:39:34.637Z"
   },
   {
    "duration": 526,
    "start_time": "2025-01-30T21:39:34.880Z"
   },
   {
    "duration": 175,
    "start_time": "2025-01-30T21:39:35.407Z"
   },
   {
    "duration": 990,
    "start_time": "2025-01-30T21:39:35.584Z"
   },
   {
    "duration": 3,
    "start_time": "2025-01-30T21:39:36.576Z"
   },
   {
    "duration": 29,
    "start_time": "2025-01-30T21:39:36.582Z"
   },
   {
    "duration": 20,
    "start_time": "2025-01-30T21:39:36.613Z"
   },
   {
    "duration": 10,
    "start_time": "2025-01-30T21:39:36.635Z"
   },
   {
    "duration": 12,
    "start_time": "2025-01-30T21:39:36.647Z"
   },
   {
    "duration": 3,
    "start_time": "2025-01-30T21:39:36.661Z"
   },
   {
    "duration": 56,
    "start_time": "2025-01-30T21:39:36.666Z"
   },
   {
    "duration": 724,
    "start_time": "2025-01-30T21:39:36.723Z"
   },
   {
    "duration": 25,
    "start_time": "2025-01-30T21:44:30.644Z"
   },
   {
    "duration": 20,
    "start_time": "2025-01-30T21:44:44.310Z"
   },
   {
    "duration": 117,
    "start_time": "2025-01-30T21:44:46.141Z"
   },
   {
    "duration": 481,
    "start_time": "2025-01-30T21:44:58.375Z"
   },
   {
    "duration": 21,
    "start_time": "2025-01-30T21:46:04.604Z"
   },
   {
    "duration": 494,
    "start_time": "2025-01-30T21:46:06.290Z"
   },
   {
    "duration": 5673,
    "start_time": "2025-01-30T21:46:43.748Z"
   },
   {
    "duration": 1170,
    "start_time": "2025-01-30T21:47:55.102Z"
   },
   {
    "duration": 40,
    "start_time": "2025-01-30T21:47:56.275Z"
   },
   {
    "duration": 34,
    "start_time": "2025-01-30T21:47:56.318Z"
   },
   {
    "duration": 6,
    "start_time": "2025-01-30T21:47:56.355Z"
   },
   {
    "duration": 198,
    "start_time": "2025-01-30T21:47:56.364Z"
   },
   {
    "duration": 4,
    "start_time": "2025-01-30T21:47:56.564Z"
   },
   {
    "duration": 164,
    "start_time": "2025-01-30T21:47:56.570Z"
   },
   {
    "duration": 3,
    "start_time": "2025-01-30T21:47:56.736Z"
   },
   {
    "duration": 250,
    "start_time": "2025-01-30T21:47:56.741Z"
   },
   {
    "duration": 534,
    "start_time": "2025-01-30T21:47:56.993Z"
   },
   {
    "duration": 165,
    "start_time": "2025-01-30T21:47:57.529Z"
   },
   {
    "duration": 1017,
    "start_time": "2025-01-30T21:47:57.696Z"
   },
   {
    "duration": 5,
    "start_time": "2025-01-30T21:47:58.715Z"
   },
   {
    "duration": 16,
    "start_time": "2025-01-30T21:47:58.723Z"
   },
   {
    "duration": 19,
    "start_time": "2025-01-30T21:47:58.741Z"
   },
   {
    "duration": 11,
    "start_time": "2025-01-30T21:47:58.761Z"
   },
   {
    "duration": 40,
    "start_time": "2025-01-30T21:47:58.773Z"
   },
   {
    "duration": 3,
    "start_time": "2025-01-30T21:47:58.814Z"
   },
   {
    "duration": 98,
    "start_time": "2025-01-30T21:47:58.819Z"
   },
   {
    "duration": 101,
    "start_time": "2025-01-30T21:47:58.923Z"
   },
   {
    "duration": 529,
    "start_time": "2025-01-30T21:47:59.026Z"
   },
   {
    "duration": 5662,
    "start_time": "2025-01-30T21:47:59.557Z"
   },
   {
    "duration": 2859,
    "start_time": "2025-02-01T15:57:41.974Z"
   },
   {
    "duration": 37,
    "start_time": "2025-02-01T15:57:44.838Z"
   },
   {
    "duration": 34,
    "start_time": "2025-02-01T15:57:44.879Z"
   },
   {
    "duration": 4,
    "start_time": "2025-02-01T15:57:44.915Z"
   },
   {
    "duration": 197,
    "start_time": "2025-02-01T15:57:44.921Z"
   },
   {
    "duration": 3,
    "start_time": "2025-02-01T15:57:45.120Z"
   },
   {
    "duration": 162,
    "start_time": "2025-02-01T15:57:45.125Z"
   },
   {
    "duration": 4,
    "start_time": "2025-02-01T15:57:45.290Z"
   },
   {
    "duration": 178,
    "start_time": "2025-02-01T15:57:45.295Z"
   },
   {
    "duration": 536,
    "start_time": "2025-02-01T15:57:45.474Z"
   },
   {
    "duration": 159,
    "start_time": "2025-02-01T15:57:46.012Z"
   },
   {
    "duration": 1046,
    "start_time": "2025-02-01T15:57:46.173Z"
   },
   {
    "duration": 4,
    "start_time": "2025-02-01T15:57:47.222Z"
   },
   {
    "duration": 16,
    "start_time": "2025-02-01T15:57:47.228Z"
   },
   {
    "duration": 18,
    "start_time": "2025-02-01T15:57:47.245Z"
   },
   {
    "duration": 9,
    "start_time": "2025-02-01T15:57:47.265Z"
   },
   {
    "duration": 38,
    "start_time": "2025-02-01T15:57:47.275Z"
   },
   {
    "duration": 3,
    "start_time": "2025-02-01T15:57:47.315Z"
   },
   {
    "duration": 90,
    "start_time": "2025-02-01T15:57:47.320Z"
   },
   {
    "duration": 102,
    "start_time": "2025-02-01T15:57:47.412Z"
   },
   {
    "duration": 531,
    "start_time": "2025-02-01T15:57:47.516Z"
   },
   {
    "duration": 5760,
    "start_time": "2025-02-01T15:57:48.050Z"
   },
   {
    "duration": 5,
    "start_time": "2025-02-01T16:10:08.775Z"
   },
   {
    "duration": 271,
    "start_time": "2025-02-01T16:10:12.550Z"
   },
   {
    "duration": 1784,
    "start_time": "2025-02-01T16:10:19.505Z"
   },
   {
    "duration": 2058,
    "start_time": "2025-02-01T16:11:08.729Z"
   },
   {
    "duration": 7,
    "start_time": "2025-02-01T16:14:18.773Z"
   },
   {
    "duration": 1864,
    "start_time": "2025-02-01T16:14:35.823Z"
   },
   {
    "duration": 1619,
    "start_time": "2025-02-01T16:14:56.596Z"
   },
   {
    "duration": 1553,
    "start_time": "2025-02-01T16:15:56.164Z"
   },
   {
    "duration": 7,
    "start_time": "2025-02-01T16:17:18.173Z"
   },
   {
    "duration": 396,
    "start_time": "2025-02-01T16:17:20.172Z"
   },
   {
    "duration": 11,
    "start_time": "2025-02-01T16:17:47.866Z"
   },
   {
    "duration": 13,
    "start_time": "2025-02-01T16:17:48.786Z"
   },
   {
    "duration": 16,
    "start_time": "2025-02-01T16:18:02.053Z"
   },
   {
    "duration": 18,
    "start_time": "2025-02-01T16:18:05.063Z"
   },
   {
    "duration": 10,
    "start_time": "2025-02-01T16:18:09.154Z"
   },
   {
    "duration": 13,
    "start_time": "2025-02-01T16:18:09.655Z"
   },
   {
    "duration": 3,
    "start_time": "2025-02-01T16:18:13.833Z"
   },
   {
    "duration": 93,
    "start_time": "2025-02-01T16:18:15.113Z"
   },
   {
    "duration": 5,
    "start_time": "2025-02-01T16:26:02.603Z"
   },
   {
    "duration": 4,
    "start_time": "2025-02-01T16:30:44.054Z"
   },
   {
    "duration": 231,
    "start_time": "2025-02-01T16:30:44.800Z"
   },
   {
    "duration": 47,
    "start_time": "2025-02-01T16:30:45.324Z"
   },
   {
    "duration": 1052,
    "start_time": "2025-02-01T16:31:14.797Z"
   },
   {
    "duration": 30,
    "start_time": "2025-02-01T16:31:15.852Z"
   },
   {
    "duration": 38,
    "start_time": "2025-02-01T16:31:15.884Z"
   },
   {
    "duration": 5,
    "start_time": "2025-02-01T16:31:15.924Z"
   },
   {
    "duration": 198,
    "start_time": "2025-02-01T16:31:15.931Z"
   },
   {
    "duration": 3,
    "start_time": "2025-02-01T16:31:16.131Z"
   },
   {
    "duration": 169,
    "start_time": "2025-02-01T16:31:16.136Z"
   },
   {
    "duration": 4,
    "start_time": "2025-02-01T16:31:16.307Z"
   },
   {
    "duration": 227,
    "start_time": "2025-02-01T16:31:16.313Z"
   },
   {
    "duration": 379,
    "start_time": "2025-02-01T16:31:16.545Z"
   },
   {
    "duration": 83,
    "start_time": "2025-02-01T16:31:16.925Z"
   },
   {
    "duration": 223,
    "start_time": "2025-02-01T16:31:17.011Z"
   },
   {
    "duration": 565,
    "start_time": "2025-02-01T16:31:17.237Z"
   },
   {
    "duration": 163,
    "start_time": "2025-02-01T16:31:17.804Z"
   },
   {
    "duration": 963,
    "start_time": "2025-02-01T16:31:17.969Z"
   },
   {
    "duration": 3,
    "start_time": "2025-02-01T16:31:18.934Z"
   },
   {
    "duration": 15,
    "start_time": "2025-02-01T16:31:18.939Z"
   },
   {
    "duration": 19,
    "start_time": "2025-02-01T16:31:18.956Z"
   },
   {
    "duration": 34,
    "start_time": "2025-02-01T16:31:18.976Z"
   },
   {
    "duration": 12,
    "start_time": "2025-02-01T16:31:19.011Z"
   },
   {
    "duration": 4,
    "start_time": "2025-02-01T16:31:19.024Z"
   },
   {
    "duration": 77,
    "start_time": "2025-02-01T16:31:19.030Z"
   },
   {
    "duration": 352,
    "start_time": "2025-02-01T16:31:19.108Z"
   },
   {
    "duration": 330,
    "start_time": "2025-02-01T16:36:26.676Z"
   },
   {
    "duration": 1077,
    "start_time": "2025-02-01T16:36:32.587Z"
   },
   {
    "duration": 28,
    "start_time": "2025-02-01T16:36:33.666Z"
   },
   {
    "duration": 34,
    "start_time": "2025-02-01T16:36:33.695Z"
   },
   {
    "duration": 4,
    "start_time": "2025-02-01T16:36:33.732Z"
   },
   {
    "duration": 194,
    "start_time": "2025-02-01T16:36:33.738Z"
   },
   {
    "duration": 4,
    "start_time": "2025-02-01T16:36:33.934Z"
   },
   {
    "duration": 167,
    "start_time": "2025-02-01T16:36:33.940Z"
   },
   {
    "duration": 3,
    "start_time": "2025-02-01T16:36:34.108Z"
   },
   {
    "duration": 227,
    "start_time": "2025-02-01T16:36:34.113Z"
   },
   {
    "duration": 461,
    "start_time": "2025-02-01T16:36:34.343Z"
   },
   {
    "duration": 4,
    "start_time": "2025-02-01T16:36:34.807Z"
   },
   {
    "duration": 244,
    "start_time": "2025-02-01T16:36:34.812Z"
   },
   {
    "duration": 568,
    "start_time": "2025-02-01T16:36:35.058Z"
   },
   {
    "duration": 158,
    "start_time": "2025-02-01T16:36:35.628Z"
   },
   {
    "duration": 933,
    "start_time": "2025-02-01T16:36:35.787Z"
   },
   {
    "duration": 4,
    "start_time": "2025-02-01T16:36:36.722Z"
   },
   {
    "duration": 17,
    "start_time": "2025-02-01T16:36:36.727Z"
   },
   {
    "duration": 19,
    "start_time": "2025-02-01T16:36:36.746Z"
   },
   {
    "duration": 39,
    "start_time": "2025-02-01T16:36:36.766Z"
   },
   {
    "duration": 12,
    "start_time": "2025-02-01T16:36:36.807Z"
   },
   {
    "duration": 4,
    "start_time": "2025-02-01T16:36:36.820Z"
   },
   {
    "duration": 87,
    "start_time": "2025-02-01T16:36:36.825Z"
   },
   {
    "duration": 349,
    "start_time": "2025-02-01T16:36:36.914Z"
   },
   {
    "duration": 1118,
    "start_time": "2025-02-01T16:38:06.438Z"
   },
   {
    "duration": 30,
    "start_time": "2025-02-01T16:38:07.558Z"
   },
   {
    "duration": 40,
    "start_time": "2025-02-01T16:38:07.590Z"
   },
   {
    "duration": 4,
    "start_time": "2025-02-01T16:38:07.632Z"
   },
   {
    "duration": 195,
    "start_time": "2025-02-01T16:38:07.639Z"
   },
   {
    "duration": 4,
    "start_time": "2025-02-01T16:38:07.835Z"
   },
   {
    "duration": 167,
    "start_time": "2025-02-01T16:38:07.840Z"
   },
   {
    "duration": 226,
    "start_time": "2025-02-01T16:38:08.009Z"
   },
   {
    "duration": 474,
    "start_time": "2025-02-01T16:38:08.237Z"
   },
   {
    "duration": 9,
    "start_time": "2025-02-01T16:38:08.712Z"
   },
   {
    "duration": 257,
    "start_time": "2025-02-01T16:38:08.724Z"
   },
   {
    "duration": 563,
    "start_time": "2025-02-01T16:38:08.983Z"
   },
   {
    "duration": 163,
    "start_time": "2025-02-01T16:38:09.547Z"
   },
   {
    "duration": 986,
    "start_time": "2025-02-01T16:38:09.714Z"
   },
   {
    "duration": 3,
    "start_time": "2025-02-01T16:38:10.707Z"
   },
   {
    "duration": 17,
    "start_time": "2025-02-01T16:38:10.713Z"
   },
   {
    "duration": 18,
    "start_time": "2025-02-01T16:38:10.732Z"
   },
   {
    "duration": 9,
    "start_time": "2025-02-01T16:38:10.752Z"
   },
   {
    "duration": 12,
    "start_time": "2025-02-01T16:38:10.763Z"
   },
   {
    "duration": 30,
    "start_time": "2025-02-01T16:38:10.776Z"
   },
   {
    "duration": 99,
    "start_time": "2025-02-01T16:38:10.807Z"
   },
   {
    "duration": 346,
    "start_time": "2025-02-01T16:38:10.908Z"
   },
   {
    "duration": 314,
    "start_time": "2025-02-01T16:41:03.270Z"
   },
   {
    "duration": 1098,
    "start_time": "2025-02-01T16:41:32.467Z"
   },
   {
    "duration": 28,
    "start_time": "2025-02-01T16:41:33.568Z"
   },
   {
    "duration": 35,
    "start_time": "2025-02-01T16:41:33.597Z"
   },
   {
    "duration": 5,
    "start_time": "2025-02-01T16:41:33.633Z"
   },
   {
    "duration": 201,
    "start_time": "2025-02-01T16:41:33.640Z"
   },
   {
    "duration": 4,
    "start_time": "2025-02-01T16:41:33.842Z"
   },
   {
    "duration": 168,
    "start_time": "2025-02-01T16:41:33.848Z"
   },
   {
    "duration": 2,
    "start_time": "2025-02-01T16:41:34.018Z"
   },
   {
    "duration": 2,
    "start_time": "2025-02-01T16:41:34.022Z"
   },
   {
    "duration": 695,
    "start_time": "2025-02-01T16:41:34.026Z"
   },
   {
    "duration": 3,
    "start_time": "2025-02-01T16:41:34.723Z"
   },
   {
    "duration": 292,
    "start_time": "2025-02-01T16:41:34.728Z"
   },
   {
    "duration": 580,
    "start_time": "2025-02-01T16:41:35.022Z"
   },
   {
    "duration": 158,
    "start_time": "2025-02-01T16:41:35.606Z"
   },
   {
    "duration": 966,
    "start_time": "2025-02-01T16:41:35.765Z"
   },
   {
    "duration": 5,
    "start_time": "2025-02-01T16:41:36.733Z"
   },
   {
    "duration": 17,
    "start_time": "2025-02-01T16:41:36.741Z"
   },
   {
    "duration": 18,
    "start_time": "2025-02-01T16:41:36.759Z"
   },
   {
    "duration": 31,
    "start_time": "2025-02-01T16:41:36.779Z"
   },
   {
    "duration": 13,
    "start_time": "2025-02-01T16:41:36.812Z"
   },
   {
    "duration": 4,
    "start_time": "2025-02-01T16:41:36.826Z"
   },
   {
    "duration": 85,
    "start_time": "2025-02-01T16:41:36.831Z"
   },
   {
    "duration": 359,
    "start_time": "2025-02-01T16:41:36.917Z"
   },
   {
    "duration": 18,
    "start_time": "2025-02-01T16:44:51.194Z"
   },
   {
    "duration": 18,
    "start_time": "2025-02-01T16:45:00.539Z"
   },
   {
    "duration": 21,
    "start_time": "2025-02-01T16:45:14.005Z"
   },
   {
    "duration": 18,
    "start_time": "2025-02-01T16:45:21.074Z"
   },
   {
    "duration": 18,
    "start_time": "2025-02-01T16:45:28.847Z"
   },
   {
    "duration": 17,
    "start_time": "2025-02-01T16:45:34.754Z"
   },
   {
    "duration": 341,
    "start_time": "2025-02-01T16:50:04.574Z"
   },
   {
    "duration": 382,
    "start_time": "2025-02-01T16:50:33.131Z"
   },
   {
    "duration": 1099,
    "start_time": "2025-02-01T16:53:03.845Z"
   },
   {
    "duration": 29,
    "start_time": "2025-02-01T16:53:04.947Z"
   },
   {
    "duration": 38,
    "start_time": "2025-02-01T16:53:04.978Z"
   },
   {
    "duration": 5,
    "start_time": "2025-02-01T16:53:05.017Z"
   },
   {
    "duration": 208,
    "start_time": "2025-02-01T16:53:05.024Z"
   },
   {
    "duration": 1008,
    "start_time": "2025-02-01T16:53:05.234Z"
   },
   {
    "duration": 4,
    "start_time": "2025-02-01T16:53:06.244Z"
   },
   {
    "duration": 150,
    "start_time": "2025-02-01T16:53:06.250Z"
   },
   {
    "duration": 259,
    "start_time": "2025-02-01T16:53:06.402Z"
   },
   {
    "duration": 447,
    "start_time": "2025-02-01T16:53:06.663Z"
   },
   {
    "duration": 3,
    "start_time": "2025-02-01T16:53:07.112Z"
   },
   {
    "duration": 253,
    "start_time": "2025-02-01T16:53:07.118Z"
   },
   {
    "duration": 437,
    "start_time": "2025-02-01T16:53:07.373Z"
   },
   {
    "duration": 571,
    "start_time": "2025-02-01T16:53:07.813Z"
   },
   {
    "duration": 171,
    "start_time": "2025-02-01T16:53:08.386Z"
   },
   {
    "duration": 451,
    "start_time": "2025-02-01T16:53:08.558Z"
   },
   {
    "duration": 4,
    "start_time": "2025-02-01T16:53:09.011Z"
   },
   {
    "duration": 92,
    "start_time": "2025-02-01T16:53:09.020Z"
   },
   {
    "duration": 19,
    "start_time": "2025-02-01T16:53:09.113Z"
   },
   {
    "duration": 8,
    "start_time": "2025-02-01T16:53:09.134Z"
   },
   {
    "duration": 11,
    "start_time": "2025-02-01T16:53:09.143Z"
   },
   {
    "duration": 3,
    "start_time": "2025-02-01T16:53:09.155Z"
   },
   {
    "duration": 65,
    "start_time": "2025-02-01T16:53:09.160Z"
   },
   {
    "duration": 379,
    "start_time": "2025-02-01T16:53:09.227Z"
   },
   {
    "duration": 3,
    "start_time": "2025-02-01T16:55:07.440Z"
   },
   {
    "duration": 11,
    "start_time": "2025-02-01T16:57:56.384Z"
   },
   {
    "duration": 5,
    "start_time": "2025-02-01T16:58:29.886Z"
   },
   {
    "duration": 4,
    "start_time": "2025-02-01T17:00:34.018Z"
   },
   {
    "duration": 39,
    "start_time": "2025-02-01T17:21:08.623Z"
   },
   {
    "duration": 1112,
    "start_time": "2025-02-01T17:21:22.215Z"
   },
   {
    "duration": 30,
    "start_time": "2025-02-01T17:21:23.329Z"
   },
   {
    "duration": 44,
    "start_time": "2025-02-01T17:21:23.361Z"
   },
   {
    "duration": 6,
    "start_time": "2025-02-01T17:21:23.407Z"
   },
   {
    "duration": 191,
    "start_time": "2025-02-01T17:21:23.415Z"
   },
   {
    "duration": 984,
    "start_time": "2025-02-01T17:21:23.609Z"
   },
   {
    "duration": 4,
    "start_time": "2025-02-01T17:21:24.595Z"
   },
   {
    "duration": 4,
    "start_time": "2025-02-01T17:21:24.600Z"
   },
   {
    "duration": 172,
    "start_time": "2025-02-01T17:21:24.605Z"
   },
   {
    "duration": 277,
    "start_time": "2025-02-01T17:21:24.779Z"
   },
   {
    "duration": 451,
    "start_time": "2025-02-01T17:21:25.057Z"
   },
   {
    "duration": 4,
    "start_time": "2025-02-01T17:21:25.512Z"
   },
   {
    "duration": 250,
    "start_time": "2025-02-01T17:21:25.518Z"
   },
   {
    "duration": 439,
    "start_time": "2025-02-01T17:21:25.771Z"
   },
   {
    "duration": 582,
    "start_time": "2025-02-01T17:21:26.212Z"
   },
   {
    "duration": 170,
    "start_time": "2025-02-01T17:21:26.795Z"
   },
   {
    "duration": 443,
    "start_time": "2025-02-01T17:21:26.966Z"
   },
   {
    "duration": 4,
    "start_time": "2025-02-01T17:21:27.411Z"
   },
   {
    "duration": 371,
    "start_time": "2025-02-01T17:21:27.417Z"
   },
   {
    "duration": 0,
    "start_time": "2025-02-01T17:21:27.790Z"
   },
   {
    "duration": 0,
    "start_time": "2025-02-01T17:21:27.791Z"
   },
   {
    "duration": 0,
    "start_time": "2025-02-01T17:21:27.792Z"
   },
   {
    "duration": 0,
    "start_time": "2025-02-01T17:21:27.793Z"
   },
   {
    "duration": 0,
    "start_time": "2025-02-01T17:21:27.804Z"
   },
   {
    "duration": 0,
    "start_time": "2025-02-01T17:21:27.805Z"
   },
   {
    "duration": 16,
    "start_time": "2025-02-01T17:21:48.210Z"
   },
   {
    "duration": 20,
    "start_time": "2025-02-01T17:21:52.012Z"
   },
   {
    "duration": 10,
    "start_time": "2025-02-01T17:21:54.430Z"
   },
   {
    "duration": 13,
    "start_time": "2025-02-01T17:21:55.119Z"
   },
   {
    "duration": 3,
    "start_time": "2025-02-01T17:21:56.574Z"
   },
   {
    "duration": 80,
    "start_time": "2025-02-01T17:21:57.125Z"
   },
   {
    "duration": 17,
    "start_time": "2025-02-01T17:21:58.409Z"
   },
   {
    "duration": 253,
    "start_time": "2025-02-01T17:22:28.834Z"
   },
   {
    "duration": 258,
    "start_time": "2025-02-01T17:24:28.163Z"
   },
   {
    "duration": 1048,
    "start_time": "2025-02-01T17:24:43.247Z"
   },
   {
    "duration": 28,
    "start_time": "2025-02-01T17:24:44.298Z"
   },
   {
    "duration": 36,
    "start_time": "2025-02-01T17:24:44.328Z"
   },
   {
    "duration": 4,
    "start_time": "2025-02-01T17:24:44.367Z"
   },
   {
    "duration": 208,
    "start_time": "2025-02-01T17:24:44.373Z"
   },
   {
    "duration": 980,
    "start_time": "2025-02-01T17:24:44.582Z"
   },
   {
    "duration": 4,
    "start_time": "2025-02-01T17:24:45.564Z"
   },
   {
    "duration": 4,
    "start_time": "2025-02-01T17:24:45.570Z"
   },
   {
    "duration": 154,
    "start_time": "2025-02-01T17:24:45.575Z"
   },
   {
    "duration": 277,
    "start_time": "2025-02-01T17:24:45.733Z"
   },
   {
    "duration": 410,
    "start_time": "2025-02-01T17:24:46.012Z"
   },
   {
    "duration": 79,
    "start_time": "2025-02-01T17:24:46.425Z"
   },
   {
    "duration": 214,
    "start_time": "2025-02-01T17:24:46.506Z"
   },
   {
    "duration": 402,
    "start_time": "2025-02-01T17:24:46.722Z"
   },
   {
    "duration": 616,
    "start_time": "2025-02-01T17:24:47.126Z"
   },
   {
    "duration": 168,
    "start_time": "2025-02-01T17:24:47.744Z"
   },
   {
    "duration": 412,
    "start_time": "2025-02-01T17:24:47.914Z"
   },
   {
    "duration": 78,
    "start_time": "2025-02-01T17:24:48.328Z"
   },
   {
    "duration": 21,
    "start_time": "2025-02-01T17:24:48.411Z"
   },
   {
    "duration": 72,
    "start_time": "2025-02-01T17:24:48.434Z"
   },
   {
    "duration": 12,
    "start_time": "2025-02-01T17:24:48.507Z"
   },
   {
    "duration": 12,
    "start_time": "2025-02-01T17:24:48.521Z"
   },
   {
    "duration": 3,
    "start_time": "2025-02-01T17:24:48.535Z"
   },
   {
    "duration": 78,
    "start_time": "2025-02-01T17:24:48.540Z"
   },
   {
    "duration": 490,
    "start_time": "2025-02-01T17:24:48.619Z"
   },
   {
    "duration": 476,
    "start_time": "2025-02-01T17:25:13.340Z"
   },
   {
    "duration": 1049,
    "start_time": "2025-02-01T17:25:27.056Z"
   },
   {
    "duration": 28,
    "start_time": "2025-02-01T17:25:28.107Z"
   },
   {
    "duration": 29,
    "start_time": "2025-02-01T17:25:28.136Z"
   },
   {
    "duration": 3,
    "start_time": "2025-02-01T17:25:28.168Z"
   },
   {
    "duration": 210,
    "start_time": "2025-02-01T17:25:28.173Z"
   },
   {
    "duration": 973,
    "start_time": "2025-02-01T17:25:28.385Z"
   },
   {
    "duration": 4,
    "start_time": "2025-02-01T17:25:29.360Z"
   },
   {
    "duration": 4,
    "start_time": "2025-02-01T17:25:29.366Z"
   },
   {
    "duration": 155,
    "start_time": "2025-02-01T17:25:29.371Z"
   },
   {
    "duration": 275,
    "start_time": "2025-02-01T17:25:29.529Z"
   },
   {
    "duration": 419,
    "start_time": "2025-02-01T17:25:29.806Z"
   },
   {
    "duration": 2,
    "start_time": "2025-02-01T17:25:30.227Z"
   },
   {
    "duration": 220,
    "start_time": "2025-02-01T17:25:30.306Z"
   },
   {
    "duration": 481,
    "start_time": "2025-02-01T17:25:30.528Z"
   },
   {
    "duration": 574,
    "start_time": "2025-02-01T17:25:31.011Z"
   },
   {
    "duration": 175,
    "start_time": "2025-02-01T17:25:31.587Z"
   },
   {
    "duration": 458,
    "start_time": "2025-02-01T17:25:31.764Z"
   },
   {
    "duration": 5,
    "start_time": "2025-02-01T17:25:32.224Z"
   },
   {
    "duration": 22,
    "start_time": "2025-02-01T17:25:32.304Z"
   },
   {
    "duration": 20,
    "start_time": "2025-02-01T17:25:32.327Z"
   },
   {
    "duration": 10,
    "start_time": "2025-02-01T17:25:32.404Z"
   },
   {
    "duration": 16,
    "start_time": "2025-02-01T17:25:32.416Z"
   },
   {
    "duration": 15,
    "start_time": "2025-02-01T17:25:32.434Z"
   },
   {
    "duration": 66,
    "start_time": "2025-02-01T17:25:32.451Z"
   },
   {
    "duration": 601,
    "start_time": "2025-02-01T17:25:32.519Z"
   },
   {
    "duration": 75,
    "start_time": "2025-02-01T17:26:13.164Z"
   },
   {
    "duration": 15,
    "start_time": "2025-02-01T17:27:04.157Z"
   },
   {
    "duration": 1081,
    "start_time": "2025-02-01T17:27:17.724Z"
   },
   {
    "duration": 30,
    "start_time": "2025-02-01T17:27:18.807Z"
   },
   {
    "duration": 31,
    "start_time": "2025-02-01T17:27:18.841Z"
   },
   {
    "duration": 4,
    "start_time": "2025-02-01T17:27:18.875Z"
   },
   {
    "duration": 182,
    "start_time": "2025-02-01T17:27:18.905Z"
   },
   {
    "duration": 957,
    "start_time": "2025-02-01T17:27:19.089Z"
   },
   {
    "duration": 4,
    "start_time": "2025-02-01T17:27:20.047Z"
   },
   {
    "duration": 4,
    "start_time": "2025-02-01T17:27:20.053Z"
   },
   {
    "duration": 156,
    "start_time": "2025-02-01T17:27:20.061Z"
   },
   {
    "duration": 253,
    "start_time": "2025-02-01T17:27:20.219Z"
   },
   {
    "duration": 440,
    "start_time": "2025-02-01T17:27:20.473Z"
   },
   {
    "duration": 3,
    "start_time": "2025-02-01T17:27:20.915Z"
   },
   {
    "duration": 265,
    "start_time": "2025-02-01T17:27:20.921Z"
   },
   {
    "duration": 6,
    "start_time": "2025-02-01T17:27:21.187Z"
   },
   {
    "duration": 428,
    "start_time": "2025-02-01T17:27:21.195Z"
   },
   {
    "duration": 619,
    "start_time": "2025-02-01T17:27:21.625Z"
   },
   {
    "duration": 167,
    "start_time": "2025-02-01T17:27:22.245Z"
   },
   {
    "duration": 517,
    "start_time": "2025-02-01T17:27:22.414Z"
   },
   {
    "duration": 5,
    "start_time": "2025-02-01T17:27:23.008Z"
   },
   {
    "duration": 17,
    "start_time": "2025-02-01T17:27:23.018Z"
   },
   {
    "duration": 85,
    "start_time": "2025-02-01T17:27:23.037Z"
   },
   {
    "duration": 9,
    "start_time": "2025-02-01T17:27:23.124Z"
   },
   {
    "duration": 12,
    "start_time": "2025-02-01T17:27:23.134Z"
   },
   {
    "duration": 4,
    "start_time": "2025-02-01T17:27:23.147Z"
   },
   {
    "duration": 71,
    "start_time": "2025-02-01T17:27:23.152Z"
   },
   {
    "duration": 600,
    "start_time": "2025-02-01T17:27:23.226Z"
   },
   {
    "duration": 275,
    "start_time": "2025-02-01T17:28:51.935Z"
   },
   {
    "duration": 1366,
    "start_time": "2025-02-01T17:35:20.883Z"
   },
   {
    "duration": 1176,
    "start_time": "2025-02-01T17:36:40.953Z"
   },
   {
    "duration": 249,
    "start_time": "2025-02-01T17:37:21.767Z"
   },
   {
    "duration": 24313,
    "start_time": "2025-02-01T17:40:58.696Z"
   },
   {
    "duration": 93,
    "start_time": "2025-02-01T17:42:34.116Z"
   },
   {
    "duration": 3021,
    "start_time": "2025-02-01T22:23:19.295Z"
   },
   {
    "duration": 1158,
    "start_time": "2025-02-01T22:38:14.730Z"
   },
   {
    "duration": 40,
    "start_time": "2025-02-01T22:38:15.891Z"
   },
   {
    "duration": 32,
    "start_time": "2025-02-01T22:38:15.933Z"
   },
   {
    "duration": 4,
    "start_time": "2025-02-01T22:38:15.969Z"
   },
   {
    "duration": 209,
    "start_time": "2025-02-01T22:38:15.988Z"
   },
   {
    "duration": 1040,
    "start_time": "2025-02-01T22:38:16.199Z"
   },
   {
    "duration": 5,
    "start_time": "2025-02-01T22:38:17.241Z"
   },
   {
    "duration": 4,
    "start_time": "2025-02-01T22:38:17.248Z"
   },
   {
    "duration": 157,
    "start_time": "2025-02-01T22:38:17.254Z"
   },
   {
    "duration": 316,
    "start_time": "2025-02-01T22:38:17.414Z"
   },
   {
    "duration": 374,
    "start_time": "2025-02-01T22:38:17.732Z"
   },
   {
    "duration": 80,
    "start_time": "2025-02-01T22:38:18.108Z"
   },
   {
    "duration": 229,
    "start_time": "2025-02-01T22:38:18.190Z"
   },
   {
    "duration": 8,
    "start_time": "2025-02-01T22:38:18.422Z"
   },
   {
    "duration": 455,
    "start_time": "2025-02-01T22:38:18.431Z"
   },
   {
    "duration": 602,
    "start_time": "2025-02-01T22:38:18.888Z"
   },
   {
    "duration": 171,
    "start_time": "2025-02-01T22:38:19.492Z"
   },
   {
    "duration": 426,
    "start_time": "2025-02-01T22:38:19.665Z"
   },
   {
    "duration": 5,
    "start_time": "2025-02-01T22:38:20.093Z"
   },
   {
    "duration": 97,
    "start_time": "2025-02-01T22:38:20.099Z"
   },
   {
    "duration": 21,
    "start_time": "2025-02-01T22:38:20.198Z"
   },
   {
    "duration": 10,
    "start_time": "2025-02-01T22:38:20.220Z"
   },
   {
    "duration": 11,
    "start_time": "2025-02-01T22:38:20.231Z"
   },
   {
    "duration": 4,
    "start_time": "2025-02-01T22:38:20.244Z"
   },
   {
    "duration": 107,
    "start_time": "2025-02-01T22:38:20.287Z"
   },
   {
    "duration": 489,
    "start_time": "2025-02-01T22:38:20.399Z"
   },
   {
    "duration": 397,
    "start_time": "2025-02-01T22:38:20.890Z"
   },
   {
    "duration": 1141,
    "start_time": "2025-02-01T22:38:21.289Z"
   },
   {
    "duration": 257,
    "start_time": "2025-02-01T22:45:11.796Z"
   },
   {
    "duration": 28,
    "start_time": "2025-02-01T22:45:36.437Z"
   },
   {
    "duration": 304,
    "start_time": "2025-02-01T22:45:44.794Z"
   },
   {
    "duration": 22,
    "start_time": "2025-02-01T22:47:28.562Z"
   },
   {
    "duration": 20,
    "start_time": "2025-02-01T22:47:47.073Z"
   },
   {
    "duration": 537,
    "start_time": "2025-02-01T22:48:58.752Z"
   },
   {
    "duration": 13670,
    "start_time": "2025-02-01T22:51:11.221Z"
   },
   {
    "duration": 15162,
    "start_time": "2025-02-01T22:52:24.734Z"
   },
   {
    "duration": 13487,
    "start_time": "2025-02-01T22:53:44.321Z"
   },
   {
    "duration": 292,
    "start_time": "2025-02-01T22:54:28.108Z"
   },
   {
    "duration": 14854,
    "start_time": "2025-02-01T22:55:46.147Z"
   },
   {
    "duration": 175,
    "start_time": "2025-02-01T22:58:11.026Z"
   },
   {
    "duration": 74,
    "start_time": "2025-02-01T22:59:38.663Z"
   },
   {
    "duration": 1171,
    "start_time": "2025-02-01T22:59:50.320Z"
   },
   {
    "duration": 31,
    "start_time": "2025-02-01T22:59:51.493Z"
   },
   {
    "duration": 31,
    "start_time": "2025-02-01T22:59:51.526Z"
   },
   {
    "duration": 5,
    "start_time": "2025-02-01T22:59:51.560Z"
   },
   {
    "duration": 196,
    "start_time": "2025-02-01T22:59:51.587Z"
   },
   {
    "duration": 1032,
    "start_time": "2025-02-01T22:59:51.787Z"
   },
   {
    "duration": 4,
    "start_time": "2025-02-01T22:59:52.821Z"
   },
   {
    "duration": 5,
    "start_time": "2025-02-01T22:59:52.827Z"
   },
   {
    "duration": 239,
    "start_time": "2025-02-01T22:59:52.833Z"
   },
   {
    "duration": 216,
    "start_time": "2025-02-01T22:59:53.076Z"
   },
   {
    "duration": 501,
    "start_time": "2025-02-01T22:59:53.294Z"
   },
   {
    "duration": 4,
    "start_time": "2025-02-01T22:59:53.797Z"
   },
   {
    "duration": 260,
    "start_time": "2025-02-01T22:59:53.806Z"
   },
   {
    "duration": 18,
    "start_time": "2025-02-01T22:59:54.068Z"
   },
   {
    "duration": 415,
    "start_time": "2025-02-01T22:59:54.088Z"
   },
   {
    "duration": 645,
    "start_time": "2025-02-01T22:59:54.505Z"
   },
   {
    "duration": 176,
    "start_time": "2025-02-01T22:59:55.153Z"
   },
   {
    "duration": 459,
    "start_time": "2025-02-01T22:59:55.332Z"
   },
   {
    "duration": 5,
    "start_time": "2025-02-01T22:59:55.793Z"
   },
   {
    "duration": 93,
    "start_time": "2025-02-01T22:59:55.800Z"
   },
   {
    "duration": 20,
    "start_time": "2025-02-01T22:59:55.895Z"
   },
   {
    "duration": 3,
    "start_time": "2025-02-01T22:59:55.917Z"
   },
   {
    "duration": 9,
    "start_time": "2025-02-01T22:59:55.922Z"
   },
   {
    "duration": 11,
    "start_time": "2025-02-01T22:59:55.933Z"
   },
   {
    "duration": 4,
    "start_time": "2025-02-01T22:59:55.987Z"
   },
   {
    "duration": 96,
    "start_time": "2025-02-01T22:59:55.993Z"
   },
   {
    "duration": 15110,
    "start_time": "2025-02-01T22:59:56.091Z"
   },
   {
    "duration": 481,
    "start_time": "2025-02-01T23:00:11.206Z"
   },
   {
    "duration": 318,
    "start_time": "2025-02-01T23:00:11.689Z"
   },
   {
    "duration": 525,
    "start_time": "2025-02-01T23:00:12.092Z"
   },
   {
    "duration": 0,
    "start_time": "2025-02-01T23:00:12.619Z"
   },
   {
    "duration": 80,
    "start_time": "2025-02-01T23:04:23.464Z"
   },
   {
    "duration": 1206,
    "start_time": "2025-02-01T23:04:32.403Z"
   },
   {
    "duration": 30,
    "start_time": "2025-02-01T23:04:33.611Z"
   },
   {
    "duration": 43,
    "start_time": "2025-02-01T23:04:33.644Z"
   },
   {
    "duration": 6,
    "start_time": "2025-02-01T23:04:33.689Z"
   },
   {
    "duration": 205,
    "start_time": "2025-02-01T23:04:33.698Z"
   },
   {
    "duration": 1030,
    "start_time": "2025-02-01T23:04:33.905Z"
   },
   {
    "duration": 4,
    "start_time": "2025-02-01T23:04:34.937Z"
   },
   {
    "duration": 4,
    "start_time": "2025-02-01T23:04:34.942Z"
   },
   {
    "duration": 228,
    "start_time": "2025-02-01T23:04:34.948Z"
   },
   {
    "duration": 218,
    "start_time": "2025-02-01T23:04:35.178Z"
   },
   {
    "duration": 403,
    "start_time": "2025-02-01T23:04:35.398Z"
   },
   {
    "duration": 3,
    "start_time": "2025-02-01T23:04:35.803Z"
   },
   {
    "duration": 289,
    "start_time": "2025-02-01T23:04:35.808Z"
   },
   {
    "duration": 7,
    "start_time": "2025-02-01T23:04:36.100Z"
   },
   {
    "duration": 400,
    "start_time": "2025-02-01T23:04:36.108Z"
   },
   {
    "duration": 575,
    "start_time": "2025-02-01T23:04:36.591Z"
   },
   {
    "duration": 173,
    "start_time": "2025-02-01T23:04:37.168Z"
   },
   {
    "duration": 367,
    "start_time": "2025-02-01T23:04:37.343Z"
   },
   {
    "duration": 5,
    "start_time": "2025-02-01T23:04:37.787Z"
   },
   {
    "duration": 18,
    "start_time": "2025-02-01T23:04:37.794Z"
   },
   {
    "duration": 18,
    "start_time": "2025-02-01T23:04:37.888Z"
   },
   {
    "duration": 4,
    "start_time": "2025-02-01T23:04:37.908Z"
   },
   {
    "duration": 9,
    "start_time": "2025-02-01T23:04:37.913Z"
   },
   {
    "duration": 11,
    "start_time": "2025-02-01T23:04:37.923Z"
   },
   {
    "duration": 3,
    "start_time": "2025-02-01T23:04:37.935Z"
   },
   {
    "duration": 67,
    "start_time": "2025-02-01T23:04:37.940Z"
   },
   {
    "duration": 15496,
    "start_time": "2025-02-01T23:04:38.009Z"
   },
   {
    "duration": 489,
    "start_time": "2025-02-01T23:04:53.507Z"
   },
   {
    "duration": 395,
    "start_time": "2025-02-01T23:04:53.997Z"
   },
   {
    "duration": 572,
    "start_time": "2025-02-01T23:04:54.395Z"
   },
   {
    "duration": 0,
    "start_time": "2025-02-01T23:04:54.969Z"
   },
   {
    "duration": 77,
    "start_time": "2025-02-01T23:06:32.615Z"
   },
   {
    "duration": 91,
    "start_time": "2025-02-01T23:12:40.220Z"
   },
   {
    "duration": 1217,
    "start_time": "2025-02-01T23:15:00.888Z"
   },
   {
    "duration": 34,
    "start_time": "2025-02-01T23:15:02.108Z"
   },
   {
    "duration": 43,
    "start_time": "2025-02-01T23:15:02.144Z"
   },
   {
    "duration": 4,
    "start_time": "2025-02-01T23:15:02.190Z"
   },
   {
    "duration": 207,
    "start_time": "2025-02-01T23:15:02.196Z"
   },
   {
    "duration": 1053,
    "start_time": "2025-02-01T23:15:02.406Z"
   },
   {
    "duration": 3,
    "start_time": "2025-02-01T23:15:03.461Z"
   },
   {
    "duration": 3,
    "start_time": "2025-02-01T23:15:03.467Z"
   },
   {
    "duration": 249,
    "start_time": "2025-02-01T23:15:03.471Z"
   },
   {
    "duration": 219,
    "start_time": "2025-02-01T23:15:03.724Z"
   },
   {
    "duration": 463,
    "start_time": "2025-02-01T23:15:03.945Z"
   },
   {
    "duration": 77,
    "start_time": "2025-02-01T23:15:04.410Z"
   },
   {
    "duration": 236,
    "start_time": "2025-02-01T23:15:04.489Z"
   },
   {
    "duration": 10,
    "start_time": "2025-02-01T23:15:04.726Z"
   },
   {
    "duration": 455,
    "start_time": "2025-02-01T23:15:04.737Z"
   },
   {
    "duration": 599,
    "start_time": "2025-02-01T23:15:05.193Z"
   },
   {
    "duration": 182,
    "start_time": "2025-02-01T23:15:05.794Z"
   },
   {
    "duration": 428,
    "start_time": "2025-02-01T23:15:05.978Z"
   },
   {
    "duration": 79,
    "start_time": "2025-02-01T23:15:06.408Z"
   },
   {
    "duration": 20,
    "start_time": "2025-02-01T23:15:06.489Z"
   },
   {
    "duration": 81,
    "start_time": "2025-02-01T23:15:06.510Z"
   },
   {
    "duration": 3,
    "start_time": "2025-02-01T23:15:06.592Z"
   },
   {
    "duration": 10,
    "start_time": "2025-02-01T23:15:06.597Z"
   },
   {
    "duration": 11,
    "start_time": "2025-02-01T23:15:06.608Z"
   },
   {
    "duration": 3,
    "start_time": "2025-02-01T23:15:06.621Z"
   },
   {
    "duration": 68,
    "start_time": "2025-02-01T23:15:06.626Z"
   },
   {
    "duration": 14804,
    "start_time": "2025-02-01T23:15:06.695Z"
   },
   {
    "duration": 396,
    "start_time": "2025-02-01T23:15:21.505Z"
   },
   {
    "duration": 489,
    "start_time": "2025-02-01T23:15:21.904Z"
   },
   {
    "duration": 723,
    "start_time": "2025-02-01T23:15:22.395Z"
   },
   {
    "duration": 559,
    "start_time": "2025-02-01T23:23:05.869Z"
   },
   {
    "duration": 2130,
    "start_time": "2025-02-01T23:23:56.479Z"
   },
   {
    "duration": 1182,
    "start_time": "2025-02-01T23:34:45.270Z"
   },
   {
    "duration": 46,
    "start_time": "2025-02-01T23:34:46.455Z"
   },
   {
    "duration": 32,
    "start_time": "2025-02-01T23:34:46.503Z"
   },
   {
    "duration": 5,
    "start_time": "2025-02-01T23:34:46.538Z"
   },
   {
    "duration": 212,
    "start_time": "2025-02-01T23:34:46.545Z"
   },
   {
    "duration": 996,
    "start_time": "2025-02-01T23:34:46.759Z"
   },
   {
    "duration": 3,
    "start_time": "2025-02-01T23:34:47.757Z"
   },
   {
    "duration": 4,
    "start_time": "2025-02-01T23:34:47.762Z"
   },
   {
    "duration": 246,
    "start_time": "2025-02-01T23:34:47.767Z"
   },
   {
    "duration": 222,
    "start_time": "2025-02-01T23:34:48.018Z"
   },
   {
    "duration": 451,
    "start_time": "2025-02-01T23:34:48.242Z"
   },
   {
    "duration": 4,
    "start_time": "2025-02-01T23:34:48.694Z"
   },
   {
    "duration": 261,
    "start_time": "2025-02-01T23:34:48.700Z"
   },
   {
    "duration": 7,
    "start_time": "2025-02-01T23:34:48.963Z"
   },
   {
    "duration": 431,
    "start_time": "2025-02-01T23:34:48.971Z"
   },
   {
    "duration": 638,
    "start_time": "2025-02-01T23:34:49.404Z"
   },
   {
    "duration": 180,
    "start_time": "2025-02-01T23:34:50.044Z"
   },
   {
    "duration": 464,
    "start_time": "2025-02-01T23:34:50.226Z"
   },
   {
    "duration": 4,
    "start_time": "2025-02-01T23:34:50.692Z"
   },
   {
    "duration": 94,
    "start_time": "2025-02-01T23:34:50.698Z"
   },
   {
    "duration": 20,
    "start_time": "2025-02-01T23:34:50.794Z"
   },
   {
    "duration": 3,
    "start_time": "2025-02-01T23:34:50.816Z"
   },
   {
    "duration": 11,
    "start_time": "2025-02-01T23:34:50.820Z"
   },
   {
    "duration": 10,
    "start_time": "2025-02-01T23:34:50.833Z"
   },
   {
    "duration": 42,
    "start_time": "2025-02-01T23:34:50.845Z"
   },
   {
    "duration": 99,
    "start_time": "2025-02-01T23:34:50.890Z"
   },
   {
    "duration": 15202,
    "start_time": "2025-02-01T23:34:50.991Z"
   },
   {
    "duration": 401,
    "start_time": "2025-02-01T23:35:06.196Z"
   },
   {
    "duration": 391,
    "start_time": "2025-02-01T23:35:06.599Z"
   },
   {
    "duration": 1208,
    "start_time": "2025-02-01T23:39:31.312Z"
   },
   {
    "duration": 34,
    "start_time": "2025-02-01T23:39:32.523Z"
   },
   {
    "duration": 41,
    "start_time": "2025-02-01T23:39:32.558Z"
   },
   {
    "duration": 4,
    "start_time": "2025-02-01T23:39:32.601Z"
   },
   {
    "duration": 202,
    "start_time": "2025-02-01T23:39:32.607Z"
   },
   {
    "duration": 1068,
    "start_time": "2025-02-01T23:39:32.811Z"
   },
   {
    "duration": 4,
    "start_time": "2025-02-01T23:39:33.881Z"
   },
   {
    "duration": 4,
    "start_time": "2025-02-01T23:39:33.887Z"
   },
   {
    "duration": 253,
    "start_time": "2025-02-01T23:39:33.892Z"
   },
   {
    "duration": 188,
    "start_time": "2025-02-01T23:39:34.150Z"
   },
   {
    "duration": 453,
    "start_time": "2025-02-01T23:39:34.340Z"
   },
   {
    "duration": 3,
    "start_time": "2025-02-01T23:39:34.795Z"
   },
   {
    "duration": 268,
    "start_time": "2025-02-01T23:39:34.801Z"
   },
   {
    "duration": 7,
    "start_time": "2025-02-01T23:39:35.071Z"
   },
   {
    "duration": 415,
    "start_time": "2025-02-01T23:39:35.087Z"
   },
   {
    "duration": 631,
    "start_time": "2025-02-01T23:39:35.504Z"
   },
   {
    "duration": 172,
    "start_time": "2025-02-01T23:39:36.137Z"
   },
   {
    "duration": 475,
    "start_time": "2025-02-01T23:39:36.311Z"
   },
   {
    "duration": 5,
    "start_time": "2025-02-01T23:39:36.788Z"
   },
   {
    "duration": 93,
    "start_time": "2025-02-01T23:39:36.794Z"
   },
   {
    "duration": 20,
    "start_time": "2025-02-01T23:39:36.888Z"
   },
   {
    "duration": 2,
    "start_time": "2025-02-01T23:39:36.910Z"
   },
   {
    "duration": 10,
    "start_time": "2025-02-01T23:39:36.914Z"
   },
   {
    "duration": 11,
    "start_time": "2025-02-01T23:39:36.925Z"
   },
   {
    "duration": 4,
    "start_time": "2025-02-01T23:39:36.938Z"
   },
   {
    "duration": 66,
    "start_time": "2025-02-01T23:39:36.943Z"
   },
   {
    "duration": 15110,
    "start_time": "2025-02-01T23:39:37.086Z"
   },
   {
    "duration": 391,
    "start_time": "2025-02-01T23:39:52.201Z"
   },
   {
    "duration": 397,
    "start_time": "2025-02-01T23:39:52.596Z"
   },
   {
    "duration": 5,
    "start_time": "2025-02-01T23:39:52.995Z"
   },
   {
    "duration": 0,
    "start_time": "2025-02-01T23:39:53.006Z"
   },
   {
    "duration": 8,
    "start_time": "2025-02-01T23:45:18.476Z"
   },
   {
    "duration": 1150,
    "start_time": "2025-02-01T23:45:28.353Z"
   },
   {
    "duration": 37,
    "start_time": "2025-02-01T23:45:29.506Z"
   },
   {
    "duration": 32,
    "start_time": "2025-02-01T23:45:29.546Z"
   },
   {
    "duration": 5,
    "start_time": "2025-02-01T23:45:29.588Z"
   },
   {
    "duration": 200,
    "start_time": "2025-02-01T23:45:29.595Z"
   },
   {
    "duration": 1034,
    "start_time": "2025-02-01T23:45:29.797Z"
   },
   {
    "duration": 4,
    "start_time": "2025-02-01T23:45:30.833Z"
   },
   {
    "duration": 3,
    "start_time": "2025-02-01T23:45:30.839Z"
   },
   {
    "duration": 229,
    "start_time": "2025-02-01T23:45:30.844Z"
   },
   {
    "duration": 212,
    "start_time": "2025-02-01T23:45:31.077Z"
   },
   {
    "duration": 500,
    "start_time": "2025-02-01T23:45:31.291Z"
   },
   {
    "duration": 4,
    "start_time": "2025-02-01T23:45:31.794Z"
   },
   {
    "duration": 256,
    "start_time": "2025-02-01T23:45:31.801Z"
   },
   {
    "duration": 6,
    "start_time": "2025-02-01T23:45:32.060Z"
   },
   {
    "duration": 426,
    "start_time": "2025-02-01T23:45:32.068Z"
   },
   {
    "duration": 594,
    "start_time": "2025-02-01T23:45:32.496Z"
   },
   {
    "duration": 196,
    "start_time": "2025-02-01T23:45:33.092Z"
   },
   {
    "duration": 418,
    "start_time": "2025-02-01T23:45:33.291Z"
   },
   {
    "duration": 79,
    "start_time": "2025-02-01T23:45:33.711Z"
   },
   {
    "duration": 20,
    "start_time": "2025-02-01T23:45:33.796Z"
   },
   {
    "duration": 77,
    "start_time": "2025-02-01T23:45:33.818Z"
   },
   {
    "duration": 4,
    "start_time": "2025-02-01T23:45:33.897Z"
   },
   {
    "duration": 9,
    "start_time": "2025-02-01T23:45:33.904Z"
   },
   {
    "duration": 11,
    "start_time": "2025-02-01T23:45:33.915Z"
   },
   {
    "duration": 3,
    "start_time": "2025-02-01T23:45:33.930Z"
   },
   {
    "duration": 87,
    "start_time": "2025-02-01T23:45:33.934Z"
   },
   {
    "duration": 14768,
    "start_time": "2025-02-01T23:45:34.023Z"
   },
   {
    "duration": 397,
    "start_time": "2025-02-01T23:45:48.795Z"
   },
   {
    "duration": 394,
    "start_time": "2025-02-01T23:45:49.195Z"
   },
   {
    "duration": 6,
    "start_time": "2025-02-01T23:45:49.595Z"
   },
   {
    "duration": 0,
    "start_time": "2025-02-01T23:45:49.604Z"
   },
   {
    "duration": 4,
    "start_time": "2025-02-01T23:46:08.446Z"
   },
   {
    "duration": 4,
    "start_time": "2025-02-01T23:46:25.995Z"
   },
   {
    "duration": 1149,
    "start_time": "2025-02-01T23:46:30.752Z"
   },
   {
    "duration": 31,
    "start_time": "2025-02-01T23:46:31.904Z"
   },
   {
    "duration": 33,
    "start_time": "2025-02-01T23:46:31.937Z"
   },
   {
    "duration": 4,
    "start_time": "2025-02-01T23:46:31.987Z"
   },
   {
    "duration": 201,
    "start_time": "2025-02-01T23:46:31.993Z"
   },
   {
    "duration": 1039,
    "start_time": "2025-02-01T23:46:32.196Z"
   },
   {
    "duration": 4,
    "start_time": "2025-02-01T23:46:33.237Z"
   },
   {
    "duration": 4,
    "start_time": "2025-02-01T23:46:33.243Z"
   },
   {
    "duration": 233,
    "start_time": "2025-02-01T23:46:33.249Z"
   },
   {
    "duration": 230,
    "start_time": "2025-02-01T23:46:33.485Z"
   },
   {
    "duration": 487,
    "start_time": "2025-02-01T23:46:33.717Z"
   },
   {
    "duration": 3,
    "start_time": "2025-02-01T23:46:34.206Z"
   },
   {
    "duration": 210,
    "start_time": "2025-02-01T23:46:34.290Z"
   },
   {
    "duration": 7,
    "start_time": "2025-02-01T23:46:34.502Z"
   },
   {
    "duration": 380,
    "start_time": "2025-02-01T23:46:34.512Z"
   },
   {
    "duration": 587,
    "start_time": "2025-02-01T23:46:34.894Z"
   },
   {
    "duration": 180,
    "start_time": "2025-02-01T23:46:35.482Z"
   },
   {
    "duration": 427,
    "start_time": "2025-02-01T23:46:35.664Z"
   },
   {
    "duration": 5,
    "start_time": "2025-02-01T23:46:36.093Z"
   },
   {
    "duration": 97,
    "start_time": "2025-02-01T23:46:36.100Z"
   },
   {
    "duration": 20,
    "start_time": "2025-02-01T23:46:36.198Z"
   },
   {
    "duration": 3,
    "start_time": "2025-02-01T23:46:36.220Z"
   },
   {
    "duration": 10,
    "start_time": "2025-02-01T23:46:36.225Z"
   },
   {
    "duration": 58,
    "start_time": "2025-02-01T23:46:36.236Z"
   },
   {
    "duration": 4,
    "start_time": "2025-02-01T23:46:36.295Z"
   },
   {
    "duration": 89,
    "start_time": "2025-02-01T23:46:36.301Z"
   },
   {
    "duration": 15903,
    "start_time": "2025-02-01T23:46:36.393Z"
   },
   {
    "duration": 394,
    "start_time": "2025-02-01T23:46:52.301Z"
   },
   {
    "duration": 395,
    "start_time": "2025-02-01T23:46:52.698Z"
   },
   {
    "duration": 4,
    "start_time": "2025-02-01T23:46:53.096Z"
   },
   {
    "duration": 0,
    "start_time": "2025-02-01T23:46:53.104Z"
   },
   {
    "duration": 5,
    "start_time": "2025-02-01T23:48:11.145Z"
   },
   {
    "duration": 4,
    "start_time": "2025-02-01T23:48:19.328Z"
   },
   {
    "duration": 4,
    "start_time": "2025-02-01T23:48:25.446Z"
   },
   {
    "duration": 4,
    "start_time": "2025-02-01T23:48:36.119Z"
   },
   {
    "duration": 1206,
    "start_time": "2025-02-01T23:48:40.510Z"
   },
   {
    "duration": 32,
    "start_time": "2025-02-01T23:48:41.719Z"
   },
   {
    "duration": 45,
    "start_time": "2025-02-01T23:48:41.753Z"
   },
   {
    "duration": 5,
    "start_time": "2025-02-01T23:48:41.801Z"
   },
   {
    "duration": 205,
    "start_time": "2025-02-01T23:48:41.808Z"
   },
   {
    "duration": 1059,
    "start_time": "2025-02-01T23:48:42.015Z"
   },
   {
    "duration": 3,
    "start_time": "2025-02-01T23:48:43.077Z"
   },
   {
    "duration": 4,
    "start_time": "2025-02-01T23:48:43.082Z"
   },
   {
    "duration": 259,
    "start_time": "2025-02-01T23:48:43.088Z"
   },
   {
    "duration": 196,
    "start_time": "2025-02-01T23:48:43.351Z"
   },
   {
    "duration": 461,
    "start_time": "2025-02-01T23:48:43.549Z"
   },
   {
    "duration": 76,
    "start_time": "2025-02-01T23:48:44.012Z"
   },
   {
    "duration": 257,
    "start_time": "2025-02-01T23:48:44.091Z"
   },
   {
    "duration": 7,
    "start_time": "2025-02-01T23:48:44.350Z"
   },
   {
    "duration": 442,
    "start_time": "2025-02-01T23:48:44.359Z"
   },
   {
    "duration": 631,
    "start_time": "2025-02-01T23:48:44.803Z"
   },
   {
    "duration": 178,
    "start_time": "2025-02-01T23:48:45.436Z"
   },
   {
    "duration": 391,
    "start_time": "2025-02-01T23:48:45.616Z"
   },
   {
    "duration": 79,
    "start_time": "2025-02-01T23:48:46.008Z"
   },
   {
    "duration": 20,
    "start_time": "2025-02-01T23:48:46.089Z"
   },
   {
    "duration": 90,
    "start_time": "2025-02-01T23:48:46.111Z"
   },
   {
    "duration": 3,
    "start_time": "2025-02-01T23:48:46.202Z"
   },
   {
    "duration": 10,
    "start_time": "2025-02-01T23:48:46.207Z"
   },
   {
    "duration": 11,
    "start_time": "2025-02-01T23:48:46.219Z"
   },
   {
    "duration": 3,
    "start_time": "2025-02-01T23:48:46.232Z"
   },
   {
    "duration": 152,
    "start_time": "2025-02-01T23:48:46.237Z"
   },
   {
    "duration": 15401,
    "start_time": "2025-02-01T23:48:46.391Z"
   },
   {
    "duration": 408,
    "start_time": "2025-02-01T23:49:01.797Z"
   },
   {
    "duration": 317,
    "start_time": "2025-02-01T23:49:02.287Z"
   },
   {
    "duration": 84,
    "start_time": "2025-02-01T23:49:02.606Z"
   },
   {
    "duration": 0,
    "start_time": "2025-02-01T23:49:02.692Z"
   },
   {
    "duration": 4,
    "start_time": "2025-02-01T23:49:21.185Z"
   },
   {
    "duration": 3402,
    "start_time": "2025-02-01T23:49:39.912Z"
   },
   {
    "duration": 2183,
    "start_time": "2025-02-01T23:49:57.503Z"
   },
   {
    "duration": 2182,
    "start_time": "2025-02-01T23:50:04.435Z"
   },
   {
    "duration": 6693,
    "start_time": "2025-02-01T23:50:14.022Z"
   },
   {
    "duration": 7678,
    "start_time": "2025-02-01T23:50:26.009Z"
   },
   {
    "duration": 16166,
    "start_time": "2025-02-01T23:50:39.628Z"
   },
   {
    "duration": 18870,
    "start_time": "2025-02-01T23:51:02.242Z"
   },
   {
    "duration": 38719,
    "start_time": "2025-02-01T23:51:29.200Z"
   },
   {
    "duration": 22145,
    "start_time": "2025-02-01T23:52:16.073Z"
   },
   {
    "duration": 475,
    "start_time": "2025-02-01T23:53:05.847Z"
   },
   {
    "duration": 55,
    "start_time": "2025-02-01T23:53:26.757Z"
   },
   {
    "duration": 25296,
    "start_time": "2025-02-01T23:53:38.218Z"
   },
   {
    "duration": 353,
    "start_time": "2025-02-01T23:54:23.874Z"
   },
   {
    "duration": 21693,
    "start_time": "2025-02-01T23:54:36.402Z"
   },
   {
    "duration": 163,
    "start_time": "2025-02-02T01:54:07.714Z"
   },
   {
    "duration": 1106,
    "start_time": "2025-02-02T01:54:12.652Z"
   },
   {
    "duration": 43,
    "start_time": "2025-02-02T01:54:13.760Z"
   },
   {
    "duration": 32,
    "start_time": "2025-02-02T01:54:13.805Z"
   },
   {
    "duration": 4,
    "start_time": "2025-02-02T01:54:13.839Z"
   },
   {
    "duration": 208,
    "start_time": "2025-02-02T01:54:13.846Z"
   },
   {
    "duration": 979,
    "start_time": "2025-02-02T01:54:14.056Z"
   },
   {
    "duration": 4,
    "start_time": "2025-02-02T01:54:15.036Z"
   },
   {
    "duration": 5,
    "start_time": "2025-02-02T01:54:15.042Z"
   },
   {
    "duration": 222,
    "start_time": "2025-02-02T01:54:15.049Z"
   },
   {
    "duration": 217,
    "start_time": "2025-02-02T01:54:15.273Z"
   },
   {
    "duration": 406,
    "start_time": "2025-02-02T01:54:15.492Z"
   },
   {
    "duration": 3,
    "start_time": "2025-02-02T01:54:15.902Z"
   },
   {
    "duration": 267,
    "start_time": "2025-02-02T01:54:15.906Z"
   },
   {
    "duration": 12,
    "start_time": "2025-02-02T01:54:16.176Z"
   },
   {
    "duration": 411,
    "start_time": "2025-02-02T01:54:16.190Z"
   },
   {
    "duration": 598,
    "start_time": "2025-02-02T01:54:16.603Z"
   },
   {
    "duration": 170,
    "start_time": "2025-02-02T01:54:17.203Z"
   },
   {
    "duration": 418,
    "start_time": "2025-02-02T01:54:17.375Z"
   },
   {
    "duration": 4,
    "start_time": "2025-02-02T01:54:17.795Z"
   },
   {
    "duration": 93,
    "start_time": "2025-02-02T01:54:17.801Z"
   },
   {
    "duration": 20,
    "start_time": "2025-02-02T01:54:17.895Z"
   },
   {
    "duration": 3,
    "start_time": "2025-02-02T01:54:17.917Z"
   },
   {
    "duration": 9,
    "start_time": "2025-02-02T01:54:17.921Z"
   },
   {
    "duration": 10,
    "start_time": "2025-02-02T01:54:17.931Z"
   },
   {
    "duration": 45,
    "start_time": "2025-02-02T01:54:17.943Z"
   },
   {
    "duration": 104,
    "start_time": "2025-02-02T01:54:17.989Z"
   },
   {
    "duration": 14798,
    "start_time": "2025-02-02T01:54:18.096Z"
   },
   {
    "duration": 408,
    "start_time": "2025-02-02T01:54:32.897Z"
   },
   {
    "duration": 481,
    "start_time": "2025-02-02T01:54:33.308Z"
   },
   {
    "duration": 22210,
    "start_time": "2025-02-02T01:54:33.794Z"
   },
   {
    "duration": 302,
    "start_time": "2025-02-02T01:54:56.006Z"
   },
   {
    "duration": 643,
    "start_time": "2025-02-02T02:17:03.049Z"
   },
   {
    "duration": 213,
    "start_time": "2025-02-02T02:17:31.356Z"
   },
   {
    "duration": 1070,
    "start_time": "2025-02-02T02:19:38.859Z"
   },
   {
    "duration": 29,
    "start_time": "2025-02-02T02:19:39.931Z"
   },
   {
    "duration": 40,
    "start_time": "2025-02-02T02:19:39.962Z"
   },
   {
    "duration": 4,
    "start_time": "2025-02-02T02:19:40.004Z"
   },
   {
    "duration": 192,
    "start_time": "2025-02-02T02:19:40.012Z"
   },
   {
    "duration": 1018,
    "start_time": "2025-02-02T02:19:40.206Z"
   },
   {
    "duration": 3,
    "start_time": "2025-02-02T02:19:41.226Z"
   },
   {
    "duration": 4,
    "start_time": "2025-02-02T02:19:41.231Z"
   },
   {
    "duration": 222,
    "start_time": "2025-02-02T02:19:41.236Z"
   },
   {
    "duration": 175,
    "start_time": "2025-02-02T02:19:41.460Z"
   },
   {
    "duration": 454,
    "start_time": "2025-02-02T02:19:41.637Z"
   },
   {
    "duration": 3,
    "start_time": "2025-02-02T02:19:42.093Z"
   },
   {
    "duration": 251,
    "start_time": "2025-02-02T02:19:42.098Z"
   },
   {
    "duration": 6,
    "start_time": "2025-02-02T02:19:42.352Z"
   },
   {
    "duration": 431,
    "start_time": "2025-02-02T02:19:42.360Z"
   },
   {
    "duration": 612,
    "start_time": "2025-02-02T02:19:42.793Z"
   },
   {
    "duration": 171,
    "start_time": "2025-02-02T02:19:43.407Z"
   },
   {
    "duration": 424,
    "start_time": "2025-02-02T02:19:43.579Z"
   },
   {
    "duration": 5,
    "start_time": "2025-02-02T02:19:44.004Z"
   },
   {
    "duration": 97,
    "start_time": "2025-02-02T02:19:44.010Z"
   },
   {
    "duration": 20,
    "start_time": "2025-02-02T02:19:44.108Z"
   },
   {
    "duration": 605,
    "start_time": "2025-02-02T02:19:44.130Z"
   },
   {
    "duration": 0,
    "start_time": "2025-02-02T02:19:44.737Z"
   },
   {
    "duration": 0,
    "start_time": "2025-02-02T02:19:44.739Z"
   },
   {
    "duration": 0,
    "start_time": "2025-02-02T02:19:44.740Z"
   },
   {
    "duration": 0,
    "start_time": "2025-02-02T02:19:44.742Z"
   },
   {
    "duration": 0,
    "start_time": "2025-02-02T02:19:44.743Z"
   },
   {
    "duration": 0,
    "start_time": "2025-02-02T02:19:44.745Z"
   },
   {
    "duration": 0,
    "start_time": "2025-02-02T02:19:44.746Z"
   },
   {
    "duration": 0,
    "start_time": "2025-02-02T02:19:44.747Z"
   },
   {
    "duration": 0,
    "start_time": "2025-02-02T02:19:44.748Z"
   },
   {
    "duration": 247,
    "start_time": "2025-02-02T02:22:05.740Z"
   },
   {
    "duration": 61,
    "start_time": "2025-02-02T02:22:30.989Z"
   },
   {
    "duration": 24,
    "start_time": "2025-02-02T02:23:22.933Z"
   },
   {
    "duration": 144,
    "start_time": "2025-02-02T02:28:15.914Z"
   },
   {
    "duration": 15,
    "start_time": "2025-02-02T02:28:46.838Z"
   },
   {
    "duration": 2,
    "start_time": "2025-02-02T02:28:58.398Z"
   },
   {
    "duration": 16,
    "start_time": "2025-02-02T02:30:33.750Z"
   },
   {
    "duration": 15,
    "start_time": "2025-02-02T02:30:40.200Z"
   },
   {
    "duration": 18,
    "start_time": "2025-02-02T02:34:03.522Z"
   },
   {
    "duration": 9,
    "start_time": "2025-02-02T02:34:27.262Z"
   },
   {
    "duration": 22,
    "start_time": "2025-02-02T02:35:30.932Z"
   },
   {
    "duration": 12,
    "start_time": "2025-02-02T02:35:43.485Z"
   },
   {
    "duration": 23,
    "start_time": "2025-02-02T02:36:49.938Z"
   },
   {
    "duration": 8,
    "start_time": "2025-02-02T02:36:58.908Z"
   },
   {
    "duration": 536,
    "start_time": "2025-02-02T02:37:06.530Z"
   },
   {
    "duration": 1107,
    "start_time": "2025-02-02T02:37:12.519Z"
   },
   {
    "duration": 30,
    "start_time": "2025-02-02T02:37:13.629Z"
   },
   {
    "duration": 40,
    "start_time": "2025-02-02T02:37:13.661Z"
   },
   {
    "duration": 4,
    "start_time": "2025-02-02T02:37:13.703Z"
   },
   {
    "duration": 206,
    "start_time": "2025-02-02T02:37:13.710Z"
   },
   {
    "duration": 1025,
    "start_time": "2025-02-02T02:37:13.918Z"
   },
   {
    "duration": 3,
    "start_time": "2025-02-02T02:37:14.945Z"
   },
   {
    "duration": 3,
    "start_time": "2025-02-02T02:37:14.950Z"
   },
   {
    "duration": 219,
    "start_time": "2025-02-02T02:37:14.955Z"
   },
   {
    "duration": 222,
    "start_time": "2025-02-02T02:37:15.176Z"
   },
   {
    "duration": 400,
    "start_time": "2025-02-02T02:37:15.400Z"
   },
   {
    "duration": 3,
    "start_time": "2025-02-02T02:37:15.803Z"
   },
   {
    "duration": 206,
    "start_time": "2025-02-02T02:37:15.886Z"
   },
   {
    "duration": 6,
    "start_time": "2025-02-02T02:37:16.097Z"
   },
   {
    "duration": 400,
    "start_time": "2025-02-02T02:37:16.105Z"
   },
   {
    "duration": 640,
    "start_time": "2025-02-02T02:37:16.508Z"
   },
   {
    "duration": 171,
    "start_time": "2025-02-02T02:37:17.150Z"
   },
   {
    "duration": 382,
    "start_time": "2025-02-02T02:37:17.323Z"
   },
   {
    "duration": 79,
    "start_time": "2025-02-02T02:37:17.707Z"
   },
   {
    "duration": 19,
    "start_time": "2025-02-02T02:37:17.789Z"
   },
   {
    "duration": 80,
    "start_time": "2025-02-02T02:37:17.809Z"
   },
   {
    "duration": 10,
    "start_time": "2025-02-02T02:37:17.891Z"
   },
   {
    "duration": 1022,
    "start_time": "2025-02-02T02:37:17.903Z"
   },
   {
    "duration": 0,
    "start_time": "2025-02-02T02:37:18.927Z"
   },
   {
    "duration": 0,
    "start_time": "2025-02-02T02:37:18.928Z"
   },
   {
    "duration": 0,
    "start_time": "2025-02-02T02:37:18.929Z"
   },
   {
    "duration": 0,
    "start_time": "2025-02-02T02:37:18.930Z"
   },
   {
    "duration": 0,
    "start_time": "2025-02-02T02:37:18.931Z"
   },
   {
    "duration": 0,
    "start_time": "2025-02-02T02:37:18.932Z"
   },
   {
    "duration": 0,
    "start_time": "2025-02-02T02:37:18.933Z"
   },
   {
    "duration": 0,
    "start_time": "2025-02-02T02:37:18.934Z"
   },
   {
    "duration": 23,
    "start_time": "2025-02-02T02:39:12.367Z"
   },
   {
    "duration": 214,
    "start_time": "2025-02-02T02:40:17.256Z"
   },
   {
    "duration": 27,
    "start_time": "2025-02-02T02:40:29.436Z"
   },
   {
    "duration": 41,
    "start_time": "2025-02-02T02:42:06.234Z"
   },
   {
    "duration": 1089,
    "start_time": "2025-02-02T02:42:10.190Z"
   },
   {
    "duration": 31,
    "start_time": "2025-02-02T02:42:11.286Z"
   },
   {
    "duration": 30,
    "start_time": "2025-02-02T02:42:11.319Z"
   },
   {
    "duration": 4,
    "start_time": "2025-02-02T02:42:11.351Z"
   },
   {
    "duration": 210,
    "start_time": "2025-02-02T02:42:11.358Z"
   },
   {
    "duration": 997,
    "start_time": "2025-02-02T02:42:11.570Z"
   },
   {
    "duration": 4,
    "start_time": "2025-02-02T02:42:12.570Z"
   },
   {
    "duration": 4,
    "start_time": "2025-02-02T02:42:12.576Z"
   },
   {
    "duration": 233,
    "start_time": "2025-02-02T02:42:12.581Z"
   },
   {
    "duration": 211,
    "start_time": "2025-02-02T02:42:12.816Z"
   },
   {
    "duration": 568,
    "start_time": "2025-02-02T02:42:13.029Z"
   },
   {
    "duration": 6,
    "start_time": "2025-02-02T02:42:13.602Z"
   },
   {
    "duration": 255,
    "start_time": "2025-02-02T02:42:13.609Z"
   },
   {
    "duration": 18,
    "start_time": "2025-02-02T02:42:13.868Z"
   },
   {
    "duration": 405,
    "start_time": "2025-02-02T02:42:13.888Z"
   },
   {
    "duration": 584,
    "start_time": "2025-02-02T02:42:14.298Z"
   },
   {
    "duration": 176,
    "start_time": "2025-02-02T02:42:14.886Z"
   },
   {
    "duration": 428,
    "start_time": "2025-02-02T02:42:15.064Z"
   },
   {
    "duration": 4,
    "start_time": "2025-02-02T02:42:15.495Z"
   },
   {
    "duration": 92,
    "start_time": "2025-02-02T02:42:15.501Z"
   },
   {
    "duration": 20,
    "start_time": "2025-02-02T02:42:15.595Z"
   },
   {
    "duration": 303,
    "start_time": "2025-02-02T02:42:15.617Z"
   },
   {
    "duration": 0,
    "start_time": "2025-02-02T02:42:15.921Z"
   },
   {
    "duration": 0,
    "start_time": "2025-02-02T02:42:15.924Z"
   },
   {
    "duration": 0,
    "start_time": "2025-02-02T02:42:15.925Z"
   },
   {
    "duration": 0,
    "start_time": "2025-02-02T02:42:15.926Z"
   },
   {
    "duration": 0,
    "start_time": "2025-02-02T02:42:15.927Z"
   },
   {
    "duration": 0,
    "start_time": "2025-02-02T02:42:15.929Z"
   },
   {
    "duration": 0,
    "start_time": "2025-02-02T02:42:15.930Z"
   },
   {
    "duration": 0,
    "start_time": "2025-02-02T02:42:15.931Z"
   },
   {
    "duration": 11,
    "start_time": "2025-02-02T02:42:27.384Z"
   },
   {
    "duration": 11,
    "start_time": "2025-02-02T02:42:28.902Z"
   },
   {
    "duration": 4,
    "start_time": "2025-02-02T02:42:31.336Z"
   },
   {
    "duration": 137,
    "start_time": "2025-02-02T02:42:32.155Z"
   },
   {
    "duration": 14984,
    "start_time": "2025-02-02T02:42:33.322Z"
   },
   {
    "duration": 315,
    "start_time": "2025-02-02T02:42:48.387Z"
   },
   {
    "duration": 389,
    "start_time": "2025-02-02T02:42:48.706Z"
   },
   {
    "duration": 25502,
    "start_time": "2025-02-02T02:42:49.097Z"
   },
   {
    "duration": 306,
    "start_time": "2025-02-02T02:43:14.601Z"
   },
   {
    "duration": 7,
    "start_time": "2025-02-02T09:01:41.576Z"
   }
  ],
  "kernelspec": {
   "display_name": "base",
   "language": "python",
   "name": "python3"
  },
  "language_info": {
   "codemirror_mode": {
    "name": "ipython",
    "version": 3
   },
   "file_extension": ".py",
   "mimetype": "text/x-python",
   "name": "python",
   "nbconvert_exporter": "python",
   "pygments_lexer": "ipython3",
   "version": "3.12.4"
  },
  "toc": {
   "base_numbering": 1,
   "nav_menu": {},
   "number_sections": true,
   "sideBar": true,
   "skip_h1_title": true,
   "title_cell": "Table of Contents",
   "title_sidebar": "Contents",
   "toc_cell": false,
   "toc_position": {},
   "toc_section_display": true,
   "toc_window_display": false
  }
 },
 "nbformat": 4,
 "nbformat_minor": 2
}
